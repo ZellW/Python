{
 "cells": [
  {
   "cell_type": "markdown",
   "metadata": {
    "colab_type": "text",
    "id": "AqzG6WjtbnBZ"
   },
   "source": [
    "#Table of Contents\n",
    "\n",
    "1. Import Libraries\n",
    "2. Load Dataset\n",
    "3. Create Field Objects\n",
    "4. Data Preparation\n",
    "  - Build Vocabulary\n",
    "  - Create Dataloaders\n",
    "  \n",
    "5. Define Model Architecture\n",
    "  - Encoder Architecture\n",
    "  - Decoder Architecture\n",
    "  - Sequence-to-Sequence Architecture\n",
    "7. Train Sequence-to-Sequence Model\n",
    "8. Model Inference \n",
    "  - Build Inference Function\n",
    "  - Translate Russian Sentences in the Test Dataset"
   ]
  },
  {
   "cell_type": "markdown",
   "metadata": {
    "colab_type": "text",
    "id": "Yeb0g18kixjm"
   },
   "source": [
    "#1. Import Libraries"
   ]
  },
  {
   "cell_type": "code",
   "execution_count": 2,
   "metadata": {
    "colab": {},
    "colab_type": "code",
    "id": "wyaleEfPG5el"
   },
   "outputs": [],
   "source": [
    "import re\n",
    "import time\n",
    "import math\n",
    "import random\n",
    "\n",
    "import numpy as np\n",
    "import pandas as pd\n",
    "import spacy\n",
    "\n",
    "import torch\n",
    "import torch.nn as nn\n",
    "import torch.nn.functional as F\n",
    "import torch.optim as optim\n",
    "\n",
    "from tqdm import notebook\n",
    "pd.set_option('display.max_colwidth', 200)"
   ]
  },
  {
   "cell_type": "code",
   "execution_count": 3,
   "metadata": {},
   "outputs": [],
   "source": [
    "#from torchtext import data\n",
    "#https://stackoverflow.com/questions/51452412/cant-import-torchtext-module-in-jupyter-notebook-while-using-pytorch\n",
    "\n",
    "# You have to use PyTorch 0.4.x.\n",
    "# torch.legacy was removed in PyTorch 1.x.\n",
    "import sys\n",
    "sys.path.append(\"C:/Users/czwea/anaconda3/bin/\")\n",
    "import torchtext\n",
    "#from torchtext import data\n",
    "# from torchtext.legacy import data\n",
    "\n"
   ]
  },
  {
   "cell_type": "code",
   "execution_count": 52,
   "metadata": {
    "colab": {
     "base_uri": "https://localhost:8080/",
     "height": 34
    },
    "colab_type": "code",
    "id": "n-GZ-Ru-JaK_",
    "outputId": "176e3617-990a-4c25-c64f-4cfa149cb089"
   },
   "outputs": [
    {
     "name": "stdout",
     "output_type": "stream",
     "text": [
      "cpu\n"
     ]
    },
    {
     "name": "stderr",
     "output_type": "stream",
     "text": [
      "C:\\Users\\czwea\\anaconda3\\envs\\deep\\lib\\site-packages\\torch\\cuda\\__init__.py:52: UserWarning: CUDA initialization: Found no NVIDIA driver on your system. Please check that you have an NVIDIA GPU and installed a driver from http://www.nvidia.com/Download/index.aspx (Triggered internally at  ..\\c10\\cuda\\CUDAFunctions.cpp:100.)\n",
      "  return torch._C._cuda_getDeviceCount() > 0\n"
     ]
    }
   ],
   "source": [
    "# check GPU availability\n",
    "device = torch.device('cuda' if torch.cuda.is_available() else 'cpu')\n",
    "print(device)"
   ]
  },
  {
   "cell_type": "markdown",
   "metadata": {
    "colab_type": "text",
    "id": "YmALvwWjmVwn"
   },
   "source": [
    "#2. Load Dataset"
   ]
  },
  {
   "cell_type": "code",
   "execution_count": 4,
   "metadata": {
    "colab": {
     "base_uri": "https://localhost:8080/",
     "height": 124
    },
    "colab_type": "code",
    "id": "m9JpROkLlhbB",
    "outputId": "40043cec-b86d-4425-c904-e0003361094d"
   },
   "outputs": [],
   "source": [
    "# from google.colab import drive\n",
    "# drive.mount('/content/drive')"
   ]
  },
  {
   "cell_type": "code",
   "execution_count": 5,
   "metadata": {
    "colab": {
     "base_uri": "https://localhost:8080/",
     "height": 69
    },
    "colab_type": "code",
    "id": "WMH01sFGww0l",
    "outputId": "610372f7-c46c-4b1b-b74e-98ce6f1c126d"
   },
   "outputs": [],
   "source": [
    "# # extract the zip file from your Google Drive\n",
    "# ! unzip '/content/drive/My Drive/Course_Notes/NLP using PyTorch/Seq2Seq/nmt_data.zip'"
   ]
  },
  {
   "cell_type": "code",
   "execution_count": 2,
   "metadata": {
    "colab": {
     "base_uri": "https://localhost:8080/",
     "height": 34
    },
    "colab_type": "code",
    "id": "h8D9b1viINix",
    "outputId": "05d297bb-ebcc-47b1-dc7f-61a606cbe3e8"
   },
   "outputs": [
    {
     "data": {
      "text/plain": [
       "((187053, 2), (46668, 2))"
      ]
     },
     "execution_count": 2,
     "metadata": {},
     "output_type": "execute_result"
    }
   ],
   "source": [
    "# read dataset from the Google drive\n",
    "df = pd.read_csv(\"D:/LargeData/Analytics_Vidhya/NLP_Deep/nmt_data.csv\")\n",
    "test_df = pd.read_csv(\"D:/LargeData/Analytics_Vidhya/NLP_Deep/nmt_data_test.csv\")\n",
    "\n",
    "# shape of datasets\n",
    "df.shape, test_df.shape"
   ]
  },
  {
   "cell_type": "code",
   "execution_count": 7,
   "metadata": {
    "colab": {
     "base_uri": "https://localhost:8080/",
     "height": 363
    },
    "colab_type": "code",
    "id": "_kRBbX6TpgIt",
    "outputId": "0c6e23ea-82b8-4f98-ee75-b0e4635e8fbb"
   },
   "outputs": [
    {
     "data": {
      "text/html": [
       "<div>\n",
       "<style scoped>\n",
       "    .dataframe tbody tr th:only-of-type {\n",
       "        vertical-align: middle;\n",
       "    }\n",
       "\n",
       "    .dataframe tbody tr th {\n",
       "        vertical-align: top;\n",
       "    }\n",
       "\n",
       "    .dataframe thead th {\n",
       "        text-align: right;\n",
       "    }\n",
       "</style>\n",
       "<table border=\"1\" class=\"dataframe\">\n",
       "  <thead>\n",
       "    <tr style=\"text-align: right;\">\n",
       "      <th></th>\n",
       "      <th>rus</th>\n",
       "      <th>eng</th>\n",
       "    </tr>\n",
       "  </thead>\n",
       "  <tbody>\n",
       "    <tr>\n",
       "      <th>52154</th>\n",
       "      <td>он не поймал сигнал</td>\n",
       "      <td>he didn't catch the signal</td>\n",
       "    </tr>\n",
       "    <tr>\n",
       "      <th>107508</th>\n",
       "      <td>том не двоюродный брат мэри</td>\n",
       "      <td>tom isn't mary's cousin</td>\n",
       "    </tr>\n",
       "    <tr>\n",
       "      <th>23618</th>\n",
       "      <td>у вас есть безалкогольные напитки</td>\n",
       "      <td>do you have any non-alcoholic drinks</td>\n",
       "    </tr>\n",
       "    <tr>\n",
       "      <th>16741</th>\n",
       "      <td>этот банан зелёный</td>\n",
       "      <td>this banana is green</td>\n",
       "    </tr>\n",
       "    <tr>\n",
       "      <th>117491</th>\n",
       "      <td>том сказал что мэри наивна</td>\n",
       "      <td>tom said that mary was naive</td>\n",
       "    </tr>\n",
       "    <tr>\n",
       "      <th>130574</th>\n",
       "      <td>ты ужасный водитель</td>\n",
       "      <td>you're a terrible driver</td>\n",
       "    </tr>\n",
       "    <tr>\n",
       "      <th>104004</th>\n",
       "      <td>это был зимний вечер</td>\n",
       "      <td>this was a winter evening</td>\n",
       "    </tr>\n",
       "    <tr>\n",
       "      <th>99069</th>\n",
       "      <td>полагаю вы том джексон</td>\n",
       "      <td>i presume you're tom jackson</td>\n",
       "    </tr>\n",
       "    <tr>\n",
       "      <th>143942</th>\n",
       "      <td>мэри привлекательнее элис</td>\n",
       "      <td>mary is more attractive than alice</td>\n",
       "    </tr>\n",
       "    <tr>\n",
       "      <th>37336</th>\n",
       "      <td>это кошка тома</td>\n",
       "      <td>this is tom's cat</td>\n",
       "    </tr>\n",
       "  </tbody>\n",
       "</table>\n",
       "</div>"
      ],
      "text/plain": [
       "                                      rus  \\\n",
       "52154                 он не поймал сигнал   \n",
       "107508        том не двоюродный брат мэри   \n",
       "23618   у вас есть безалкогольные напитки   \n",
       "16741                  этот банан зелёный   \n",
       "117491         том сказал что мэри наивна   \n",
       "130574                ты ужасный водитель   \n",
       "104004               это был зимний вечер   \n",
       "99069              полагаю вы том джексон   \n",
       "143942          мэри привлекательнее элис   \n",
       "37336                      это кошка тома   \n",
       "\n",
       "                                         eng  \n",
       "52154             he didn't catch the signal  \n",
       "107508               tom isn't mary's cousin  \n",
       "23618   do you have any non-alcoholic drinks  \n",
       "16741                   this banana is green  \n",
       "117491          tom said that mary was naive  \n",
       "130574              you're a terrible driver  \n",
       "104004             this was a winter evening  \n",
       "99069           i presume you're tom jackson  \n",
       "143942    mary is more attractive than alice  \n",
       "37336                      this is tom's cat  "
      ]
     },
     "execution_count": 7,
     "metadata": {},
     "output_type": "execute_result"
    }
   ],
   "source": [
    "df.sample(10)"
   ]
  },
  {
   "cell_type": "code",
   "execution_count": 8,
   "metadata": {
    "colab": {
     "base_uri": "https://localhost:8080/",
     "height": 363
    },
    "colab_type": "code",
    "id": "SWPmN-QRplJT",
    "outputId": "55c34137-3bbe-4fb5-830e-ec6e46cbd210"
   },
   "outputs": [
    {
     "data": {
      "text/html": [
       "<div>\n",
       "<style scoped>\n",
       "    .dataframe tbody tr th:only-of-type {\n",
       "        vertical-align: middle;\n",
       "    }\n",
       "\n",
       "    .dataframe tbody tr th {\n",
       "        vertical-align: top;\n",
       "    }\n",
       "\n",
       "    .dataframe thead th {\n",
       "        text-align: right;\n",
       "    }\n",
       "</style>\n",
       "<table border=\"1\" class=\"dataframe\">\n",
       "  <thead>\n",
       "    <tr style=\"text-align: right;\">\n",
       "      <th></th>\n",
       "      <th>rus</th>\n",
       "      <th>eng</th>\n",
       "    </tr>\n",
       "  </thead>\n",
       "  <tbody>\n",
       "    <tr>\n",
       "      <th>43084</th>\n",
       "      <td>это кратковременное решение</td>\n",
       "      <td>this is a short term solution</td>\n",
       "    </tr>\n",
       "    <tr>\n",
       "      <th>43352</th>\n",
       "      <td>том слегка придирчив</td>\n",
       "      <td>tom is a bit of a nitpicker</td>\n",
       "    </tr>\n",
       "    <tr>\n",
       "      <th>975</th>\n",
       "      <td>я рис не заказывал</td>\n",
       "      <td>i didn't order rice</td>\n",
       "    </tr>\n",
       "    <tr>\n",
       "      <th>29080</th>\n",
       "      <td>решайте сами</td>\n",
       "      <td>that's up to you</td>\n",
       "    </tr>\n",
       "    <tr>\n",
       "      <th>43661</th>\n",
       "      <td>какую поисковую систему вы используете</td>\n",
       "      <td>which search engine do you use</td>\n",
       "    </tr>\n",
       "    <tr>\n",
       "      <th>14322</th>\n",
       "      <td>том мог нам соврать</td>\n",
       "      <td>tom may have lied to us</td>\n",
       "    </tr>\n",
       "    <tr>\n",
       "      <th>21</th>\n",
       "      <td>том не мог слышать мэри</td>\n",
       "      <td>tom couldn't hear mary</td>\n",
       "    </tr>\n",
       "    <tr>\n",
       "      <th>4398</th>\n",
       "      <td>увидимся вечером</td>\n",
       "      <td>see you tonight</td>\n",
       "    </tr>\n",
       "    <tr>\n",
       "      <th>29066</th>\n",
       "      <td>сколько масла покупать</td>\n",
       "      <td>how much butter should i buy</td>\n",
       "    </tr>\n",
       "    <tr>\n",
       "      <th>31034</th>\n",
       "      <td>тома зверски избили</td>\n",
       "      <td>tom was beaten to a pulp</td>\n",
       "    </tr>\n",
       "  </tbody>\n",
       "</table>\n",
       "</div>"
      ],
      "text/plain": [
       "                                          rus                             eng\n",
       "43084             это кратковременное решение   this is a short term solution\n",
       "43352                    том слегка придирчив     tom is a bit of a nitpicker\n",
       "975                        я рис не заказывал             i didn't order rice\n",
       "29080                            решайте сами                that's up to you\n",
       "43661  какую поисковую систему вы используете  which search engine do you use\n",
       "14322                     том мог нам соврать         tom may have lied to us\n",
       "21                    том не мог слышать мэри          tom couldn't hear mary\n",
       "4398                         увидимся вечером                 see you tonight\n",
       "29066                  сколько масла покупать    how much butter should i buy\n",
       "31034                     тома зверски избили        tom was beaten to a pulp"
      ]
     },
     "execution_count": 8,
     "metadata": {},
     "output_type": "execute_result"
    }
   ],
   "source": [
    "test_df.sample(10)"
   ]
  },
  {
   "cell_type": "markdown",
   "metadata": {
    "colab_type": "text",
    "id": "Eeyqo1UrqEs-"
   },
   "source": [
    "#3. Create Field Objects"
   ]
  },
  {
   "cell_type": "code",
   "execution_count": 4,
   "metadata": {
    "colab": {},
    "colab_type": "code",
    "id": "VEklqCCTLyRV"
   },
   "outputs": [],
   "source": [
    "# import Russian spacy model to tokenize Russian text\n",
    "from spacy.lang.ru import Russian"
   ]
  },
  {
   "cell_type": "code",
   "execution_count": null,
   "metadata": {
    "colab": {
     "base_uri": "https://localhost:8080/",
     "height": 228
    },
    "colab_type": "code",
    "id": "uNIgMaHHL1Gz",
    "outputId": "d4d66335-7e17-4901-d3ca-8f99a01679be"
   },
   "outputs": [
    {
     "name": "stdout",
     "output_type": "stream",
     "text": [
      "Collecting pymorphy2\n",
      "\u001b[?25l  Downloading https://files.pythonhosted.org/packages/a3/33/fff9675c68b5f6c63ec8c6e6ff57827dda28a1fa5b2c2d727dffff92dd47/pymorphy2-0.8-py2.py3-none-any.whl (46kB)\n",
      "\u001b[K     |████████████████████████████████| 51kB 3.0MB/s eta 0:00:011\n",
      "\u001b[?25hCollecting dawg-python>=0.7\n",
      "  Downloading https://files.pythonhosted.org/packages/6a/84/ff1ce2071d4c650ec85745766c0047ccc3b5036f1d03559fd46bb38b5eeb/DAWG_Python-0.7.2-py2.py3-none-any.whl\n",
      "Collecting pymorphy2-dicts<3.0,>=2.4\n",
      "\u001b[?25l  Downloading https://files.pythonhosted.org/packages/02/51/2465fd4f72328ab50877b54777764d928da8cb15b74e2680fc1bd8cb3173/pymorphy2_dicts-2.4.393442.3710985-py2.py3-none-any.whl (7.1MB)\n",
      "\u001b[K     |████████████████████████████████| 7.1MB 6.4MB/s \n",
      "\u001b[?25hRequirement already satisfied: docopt>=0.6 in /usr/local/lib/python3.6/dist-packages (from pymorphy2) (0.6.2)\n",
      "Installing collected packages: dawg-python, pymorphy2-dicts, pymorphy2\n",
      "Successfully installed dawg-python-0.7.2 pymorphy2-0.8 pymorphy2-dicts-2.4.393442.3710985\n"
     ]
    }
   ],
   "source": [
    "# dependency for spaCy Russian tokenizer\n",
    "# https://github.com/conda-forge/pymorphy2-feedstock#:~:text=Installing%20pymorphy2%20Installing%20pymorphy2%20from%20the%20conda-forge%20channel,has%20been%20enabled%2C%20pymorphy2%20can%20be%20installed%20with%3A\n",
    "# Installing pymorphy2 from the conda-forge channel can be achieved by adding conda-forge to your channels with:\n",
    "\n",
    "# conda config --add channels conda-forge\n",
    "# conda config --set channel_priority strict\n",
    "# Once the conda-forge channel has been enabled, pymorphy2 can be installed with:\n",
    "\n",
    "# conda install pymorphy2"
   ]
  },
  {
   "cell_type": "code",
   "execution_count": 8,
   "metadata": {
    "colab": {},
    "colab_type": "code",
    "id": "nEvB-B2WL3BS"
   },
   "outputs": [],
   "source": [
    "# spacy object for Russian\n",
    "nlp_ru = Russian()\n",
    "\n",
    "# spacy object for English\n",
    "# python -m spacy download en_core_web_sm # see https://spacy.io/models\n",
    "nlp_en = spacy.load(\"en_core_web_sm\", disable = [\"parser\", \"tagger\", \"ner\"])\n",
    "# diabling help speed calcualtions"
   ]
  },
  {
   "cell_type": "code",
   "execution_count": 9,
   "metadata": {
    "colab": {},
    "colab_type": "code",
    "id": "wJQibqt0MD99"
   },
   "outputs": [],
   "source": [
    "## functions to perform tokenization\n",
    "\n",
    "# tokenizes Russian text from a string into a list of tokens\n",
    "def tokenize_ru(text):\n",
    "  return [tok.text for tok in nlp_ru.tokenizer(text)]\n",
    "\n",
    "# tokenizes English text from a string into a list of tokens\n",
    "def tokenize_en(text):\n",
    "  return [tok.text for tok in nlp_en.tokenizer(text)]"
   ]
  },
  {
   "cell_type": "code",
   "execution_count": 10,
   "metadata": {
    "colab": {},
    "colab_type": "code",
    "id": "S7K3AwLBMXHc"
   },
   "outputs": [
    {
     "name": "stderr",
     "output_type": "stream",
     "text": [
      "C:\\Users\\czwea\\anaconda3\\envs\\deep\\lib\\site-packages\\torchtext\\data\\field.py:150: UserWarning: Field class will be retired soon and moved to torchtext.legacy. Please see the most recent release notes for further information.\n",
      "  warnings.warn('{} class will be retired soon and moved to torchtext.legacy. Please see the most recent release notes for further information.'.format(self.__class__.__name__), UserWarning)\n"
     ]
    }
   ],
   "source": [
    "## Create Field objects using torchtext\n",
    "\n",
    "# https://stackoverflow.com/questions/63539809/torchtext-0-7-shows-field-is-being-deprecated-what-is-the-alternative\n",
    "\n",
    "# Field object for Russian\n",
    "SRC = torchtext.data.Field(tokenize = tokenize_ru, \n",
    "                 include_lengths = True, # keeps track of the lengths\n",
    "                 lower = True)\n",
    "\n",
    "# Field object for English.  tokens are used on teh decoder end\n",
    "TRG = torchtext.data.Field(tokenize = tokenize_en, \n",
    "                 init_token = '<sos>', # \"start\" token\n",
    "                 eos_token = '<eos>', # \"\" token\n",
    "                 include_lengths = True, \n",
    "                 lower = True)\n",
    "\n",
    "fields = [('rus', SRC), ('eng', TRG)]"
   ]
  },
  {
   "cell_type": "code",
   "execution_count": null,
   "metadata": {},
   "outputs": [],
   "source": []
  },
  {
   "cell_type": "markdown",
   "metadata": {
    "colab_type": "text",
    "id": "643IvaoWNx9e"
   },
   "source": [
    "* refer the video \"Text preprocessing in PyTorch\" in the course \"Fundamentals of Deep Learning\" to learn more about the TorchText's Field objects"
   ]
  },
  {
   "cell_type": "markdown",
   "metadata": {
    "colab_type": "text",
    "id": "vyWvMM0lvyDm"
   },
   "source": [
    "#4. Data Preparation\n",
    "\n",
    "###4.1 Build Vocabulary & Data Loaders\n"
   ]
  },
  {
   "cell_type": "code",
   "execution_count": 42,
   "metadata": {
    "colab": {},
    "colab_type": "code",
    "id": "ba0-Lt7IhZ_h"
   },
   "outputs": [
    {
     "name": "stderr",
     "output_type": "stream",
     "text": [
      "C:\\Users\\czwea\\anaconda3\\envs\\deep\\lib\\site-packages\\torchtext\\data\\example.py:68: UserWarning: Example class will be retired soon and moved to torchtext.legacy. Please see the most recent release notes for further information.\n",
      "  warnings.warn('Example class will be retired soon and moved to torchtext.legacy. Please see the most recent release notes for further information.', UserWarning)\n",
      "C:\\Users\\czwea\\anaconda3\\envs\\deep\\lib\\site-packages\\torchtext\\data\\example.py:78: UserWarning: Example class will be retired soon and moved to torchtext.legacy. Please see the most recent release notes for further information.\n",
      "  warnings.warn('Example class will be retired soon and moved to torchtext.legacy. Please see the most recent release notes for further information.', UserWarning)\n"
     ]
    }
   ],
   "source": [
    "# importing data from csv\n",
    "nmt_data = data.TabularDataset(path=\"../../../../../LargeData/Analytics_Vidhya/NLP_Deep/nmt_data.csv\", format='csv', fields=fields)"
   ]
  },
  {
   "cell_type": "code",
   "execution_count": 43,
   "metadata": {
    "colab": {},
    "colab_type": "code",
    "id": "AYaVlHJNQNeM"
   },
   "outputs": [],
   "source": [
    "# build vocabulary for Russian sequences\n",
    "SRC.build_vocab(nmt_data, max_size=4000) # only the 400 most used tokens will be used\n",
    "\n",
    "# build vocabulary for English sequences\n",
    "TRG.build_vocab(nmt_data, max_size=4000)"
   ]
  },
  {
   "cell_type": "code",
   "execution_count": 44,
   "metadata": {
    "colab": {
     "base_uri": "https://localhost:8080/",
     "height": 34
    },
    "colab_type": "code",
    "id": "AgrFZaZIhQ3T",
    "outputId": "23df4b4c-89b5-45b1-96b4-a1eb44db4ee5"
   },
   "outputs": [
    {
     "data": {
      "text/plain": [
       "(4002, 4004)"
      ]
     },
     "execution_count": 44,
     "metadata": {},
     "output_type": "execute_result"
    }
   ],
   "source": [
    "# check size of vocabulary\n",
    "# The special tokens add to the 4000 max_size\n",
    "len(SRC.vocab), len(TRG.vocab)"
   ]
  },
  {
   "cell_type": "code",
   "execution_count": 48,
   "metadata": {
    "colab": {
     "base_uri": "https://localhost:8080/",
     "height": 34
    },
    "colab_type": "code",
    "id": "MbLV9Vax8q7D",
    "outputId": "f242deed-6622-47c4-fa8d-396720d6fb69"
   },
   "outputs": [
    {
     "data": {
      "text/plain": [
       "('<unk>', '<pad>')"
      ]
     },
     "execution_count": 48,
     "metadata": {},
     "output_type": "execute_result"
    }
   ],
   "source": [
    "# special tokens in input sequences (Russian)\n",
    "SRC.vocab.itos[0], SRC.vocab.itos[1]"
   ]
  },
  {
   "cell_type": "code",
   "execution_count": 49,
   "metadata": {
    "colab": {
     "base_uri": "https://localhost:8080/",
     "height": 34
    },
    "colab_type": "code",
    "id": "JjzxlUIa8r3e",
    "outputId": "8ec43be7-0663-43d4-94fc-62e91c15c87d"
   },
   "outputs": [
    {
     "data": {
      "text/plain": [
       "('<unk>', '<pad>', '<sos>', '<eos>')"
      ]
     },
     "execution_count": 49,
     "metadata": {},
     "output_type": "execute_result"
    }
   ],
   "source": [
    "# special tokens in ouput sequences (English)\n",
    "TRG.vocab.itos[0], TRG.vocab.itos[1], TRG.vocab.itos[2], TRG.vocab.itos[3]"
   ]
  },
  {
   "cell_type": "markdown",
   "metadata": {
    "colab_type": "text",
    "id": "1u7CG7IkjJ1Z"
   },
   "source": [
    "###4.2 Create Dataloaders"
   ]
  },
  {
   "cell_type": "code",
   "execution_count": 50,
   "metadata": {
    "colab": {},
    "colab_type": "code",
    "id": "4lxJsGBLX9wl"
   },
   "outputs": [],
   "source": [
    "# Split our dialogue data into training, validation, and test sets\n",
    "train_data, val_data = nmt_data.split(split_ratio=0.8)"
   ]
  },
  {
   "cell_type": "code",
   "execution_count": 53,
   "metadata": {
    "colab": {},
    "colab_type": "code",
    "id": "2-pgGE1oYGmr"
   },
   "outputs": [
    {
     "name": "stderr",
     "output_type": "stream",
     "text": [
      "C:\\Users\\czwea\\anaconda3\\envs\\deep\\lib\\site-packages\\torchtext\\data\\iterator.py:48: UserWarning: BucketIterator class will be retired soon and moved to torchtext.legacy. Please see the most recent release notes for further information.\n",
      "  warnings.warn('{} class will be retired soon and moved to torchtext.legacy. Please see the most recent release notes for further information.'.format(self.__class__.__name__), UserWarning)\n"
     ]
    }
   ],
   "source": [
    "# Create a set of iterators for each split\n",
    "train_iterator, valid_iterator = data.BucketIterator.splits(\n",
    "    (train_data, val_data), \n",
    "    batch_size = 64, \n",
    "    sort_within_batch = True, \n",
    "    sort_key = lambda x:len(x.rus),\n",
    "    device = device)"
   ]
  },
  {
   "cell_type": "markdown",
   "metadata": {
    "colab_type": "text",
    "id": "vtQUaRQYv-xt"
   },
   "source": [
    "#5. Define Model Architecture\n",
    "\n",
    "###5.1 Encoder Architecture"
   ]
  },
  {
   "cell_type": "code",
   "execution_count": 5,
   "metadata": {
    "colab": {},
    "colab_type": "code",
    "id": "AuDDfymIdALi"
   },
   "outputs": [],
   "source": [
    "## embedding layer: \n",
    "##    input dimensions = input_dim (size of Russian vocabulary), \n",
    "##    ouput dimensions = emb_dim\n",
    "\n",
    "## GRU layer:\n",
    "##    input dimensions = emb_dim\n",
    "##    hidden units = hid_dim\n",
    "##    layers = n_layers\n",
    "##    output dim = hid_dim\n",
    "\n",
    "class Encoder(nn.Module):\n",
    "  def __init__(self, input_dim, emb_dim, hid_dim, n_layers, dropout):\n",
    "    super().__init__()\n",
    "    \n",
    "    self.hid_dim = hid_dim\n",
    "    self.n_layers = n_layers\n",
    "    \n",
    "    self.embedding = nn.Embedding(input_dim, emb_dim)\n",
    "    \n",
    "    self.gru = nn.GRU(emb_dim, hid_dim, n_layers, dropout = dropout)\n",
    "      \n",
    "  def forward(self, src):\n",
    "      \n",
    "    #src: [src len, batch size]\n",
    "    \n",
    "    embedded = self.embedding(src)\n",
    "    \n",
    "    #embedded: [src len, batch size, emb dim]\n",
    "    \n",
    "    outputs, hidden = self.gru(embedded)\n",
    "    \n",
    "    #outputs: [src len, batch size, hid dim]\n",
    "    #hidden: [n layers, batch size, hid dim]\n",
    "    \n",
    "    return hidden"
   ]
  },
  {
   "cell_type": "markdown",
   "metadata": {
    "colab_type": "text",
    "id": "F-Yz4_ntwdWt"
   },
   "source": [
    "###5.2 Decoder Architecture"
   ]
  },
  {
   "cell_type": "code",
   "execution_count": 6,
   "metadata": {
    "colab": {},
    "colab_type": "code",
    "id": "n5Zo186YdVBw"
   },
   "outputs": [],
   "source": [
    "## embedding layer: \n",
    "##    input dimensions = output_dim (size of English vocabulary), \n",
    "##    ouput dimensions = emb_dim\n",
    "\n",
    "## GRU layer:\n",
    "##    input dimensions = emb_dim\n",
    "##    hidden units = hid_dim\n",
    "##    layers = n_layers\n",
    "##    output dim = hid_dim\n",
    "\n",
    "## Fully Connected layer:\n",
    "##    input dimensions = hid_dim, \n",
    "##    ouput dimensions = output_dim (size of English vocabulary)\n",
    "\n",
    "class Decoder(nn.Module):\n",
    "  def __init__(self, output_dim, emb_dim, hid_dim, n_layers, dropout):\n",
    "    super().__init__()\n",
    "    \n",
    "    self.output_dim = output_dim\n",
    "    self.hid_dim = hid_dim\n",
    "    self.n_layers = n_layers\n",
    "    \n",
    "    self.embedding = nn.Embedding(output_dim, emb_dim)\n",
    "    \n",
    "    self.gru = nn.GRU(emb_dim, hid_dim, n_layers, dropout = dropout)\n",
    "    \n",
    "    self.fc_out = nn.Linear(hid_dim, output_dim)\n",
    "      \n",
    "  def forward(self, input, hidden):\n",
    "      \n",
    "    input = input.unsqueeze(0)\n",
    "    \n",
    "    #input = [1, batch size]\n",
    "    \n",
    "    embedded = self.embedding(input)\n",
    "    \n",
    "    #embedded = [1, batch size, emb dim]\n",
    "            \n",
    "    output, hidden = self.gru(embedded, hidden)\n",
    "    \n",
    "    #output = [seq len, batch size, hid dim]\n",
    "    #hidden = [n layers, batch size, hid dim]\n",
    "    \n",
    "    #seq len will always be 1 in the decoder, therefore, output = [1, batch size, hid dim]\n",
    "    \n",
    "    prediction = self.fc_out(output.squeeze(0))\n",
    "    \n",
    "    #prediction = [batch size, output dim]\n",
    "    \n",
    "    return prediction, hidden"
   ]
  },
  {
   "cell_type": "markdown",
   "metadata": {
    "colab_type": "text",
    "id": "GS-tRS-RwlrE"
   },
   "source": [
    "###5.3 Sequence-to-Sequence Architecture"
   ]
  },
  {
   "cell_type": "code",
   "execution_count": 7,
   "metadata": {
    "colab": {},
    "colab_type": "code",
    "id": "GjQF8qhwdYNE"
   },
   "outputs": [],
   "source": [
    "class Seq2Seq(nn.Module):\n",
    "  def __init__(self, encoder, decoder, device):\n",
    "    super().__init__()\n",
    "    \n",
    "    self.encoder = encoder\n",
    "    self.decoder = decoder\n",
    "    self.device = device\n",
    "      \n",
    "  def forward(self, src, trg):\n",
    "      \n",
    "    #src = [src len, batch size]\n",
    "    #trg = [trg len, batch size]\n",
    "    \n",
    "    batch_size = trg.shape[1]\n",
    "    trg_len = trg.shape[0]\n",
    "    trg_vocab_size = self.decoder.output_dim\n",
    "    \n",
    "    # tensor to store decoder outputs\n",
    "    outputs = torch.zeros(trg_len, batch_size, trg_vocab_size).to(self.device)\n",
    "    \n",
    "    # last hidden state of the encoder is used as the initial hidden state of the decoder\n",
    "    hidden = self.encoder(src)  \n",
    "    \n",
    "    # first input to the decoder is the <sos> tokens\n",
    "    input = trg[0,:]\n",
    "    \n",
    "    for t in range(1, trg_len):\n",
    "        \n",
    "      # insert input token embedding, previous hidden state\n",
    "      # receive output tensor (predictions) and new hidden state\n",
    "      output, hidden = self.decoder(input, hidden)\n",
    "      \n",
    "      # place predictions in a tensor holding predictions for each token\n",
    "      outputs[t] = output\n",
    "      input = trg[t,:]\n",
    "        \n",
    "    return outputs"
   ]
  },
  {
   "cell_type": "markdown",
   "metadata": {
    "colab_type": "text",
    "id": "Wfiy68C_de8j"
   },
   "source": [
    "#6. Train Seq2Seq Model"
   ]
  },
  {
   "cell_type": "code",
   "execution_count": 11,
   "metadata": {
    "colab": {},
    "colab_type": "code",
    "id": "5EqFAmMndaoM"
   },
   "outputs": [
    {
     "ename": "AttributeError",
     "evalue": "'Field' object has no attribute 'vocab'",
     "output_type": "error",
     "traceback": [
      "\u001b[1;31m---------------------------------------------------------------------------\u001b[0m",
      "\u001b[1;31mAttributeError\u001b[0m                            Traceback (most recent call last)",
      "\u001b[1;32m<ipython-input-11-534383afc335>\u001b[0m in \u001b[0;36m<module>\u001b[1;34m\u001b[0m\n\u001b[0;32m      1\u001b[0m \u001b[1;31m# set hyperparameters\u001b[0m\u001b[1;33m\u001b[0m\u001b[1;33m\u001b[0m\u001b[1;33m\u001b[0m\u001b[0m\n\u001b[1;32m----> 2\u001b[1;33m \u001b[0mINPUT_DIM\u001b[0m \u001b[1;33m=\u001b[0m \u001b[0mlen\u001b[0m\u001b[1;33m(\u001b[0m\u001b[0mSRC\u001b[0m\u001b[1;33m.\u001b[0m\u001b[0mvocab\u001b[0m\u001b[1;33m)\u001b[0m\u001b[1;33m\u001b[0m\u001b[1;33m\u001b[0m\u001b[0m\n\u001b[0m\u001b[0;32m      3\u001b[0m \u001b[0mOUTPUT_DIM\u001b[0m \u001b[1;33m=\u001b[0m \u001b[0mlen\u001b[0m\u001b[1;33m(\u001b[0m\u001b[0mTRG\u001b[0m\u001b[1;33m.\u001b[0m\u001b[0mvocab\u001b[0m\u001b[1;33m)\u001b[0m\u001b[1;33m\u001b[0m\u001b[1;33m\u001b[0m\u001b[0m\n\u001b[0;32m      4\u001b[0m \u001b[0mENC_EMB_DIM\u001b[0m \u001b[1;33m=\u001b[0m \u001b[1;36m100\u001b[0m\u001b[1;33m\u001b[0m\u001b[1;33m\u001b[0m\u001b[0m\n\u001b[0;32m      5\u001b[0m \u001b[0mDEC_EMB_DIM\u001b[0m \u001b[1;33m=\u001b[0m \u001b[1;36m100\u001b[0m\u001b[1;33m\u001b[0m\u001b[1;33m\u001b[0m\u001b[0m\n",
      "\u001b[1;31mAttributeError\u001b[0m: 'Field' object has no attribute 'vocab'"
     ]
    }
   ],
   "source": [
    "# set hyperparameters\n",
    "INPUT_DIM = len(SRC.vocab)\n",
    "OUTPUT_DIM = len(TRG.vocab)\n",
    "ENC_EMB_DIM = 100\n",
    "DEC_EMB_DIM = 100\n",
    "HID_DIM = 256\n",
    "N_LAYERS = 2\n",
    "ENC_DROPOUT = 0.3\n",
    "DEC_DROPOUT = 0.3\n",
    "\n",
    "# instantiate Encoder and Decoder\n",
    "enc = Encoder(INPUT_DIM, ENC_EMB_DIM, HID_DIM, N_LAYERS, ENC_DROPOUT)\n",
    "dec = Decoder(OUTPUT_DIM, DEC_EMB_DIM, HID_DIM, N_LAYERS, DEC_DROPOUT)\n",
    "\n",
    "# instantiate Sequence-to-Sequence Model\n",
    "model = Seq2Seq(enc, dec, device).to(device)"
   ]
  },
  {
   "cell_type": "code",
   "execution_count": 63,
   "metadata": {
    "colab": {
     "base_uri": "https://localhost:8080/",
     "height": 208
    },
    "colab_type": "code",
    "id": "yeLUyQX4dpeI",
    "outputId": "3d123ed0-a263-41f4-9321-046addbd4a1e"
   },
   "outputs": [
    {
     "data": {
      "text/plain": [
       "Seq2Seq(\n",
       "  (encoder): Encoder(\n",
       "    (embedding): Embedding(4002, 100)\n",
       "    (gru): GRU(100, 256, num_layers=2, dropout=0.3)\n",
       "  )\n",
       "  (decoder): Decoder(\n",
       "    (embedding): Embedding(4004, 100)\n",
       "    (gru): GRU(100, 256, num_layers=2, dropout=0.3)\n",
       "    (fc_out): Linear(in_features=256, out_features=4004, bias=True)\n",
       "  )\n",
       ")"
      ]
     },
     "execution_count": 63,
     "metadata": {},
     "output_type": "execute_result"
    }
   ],
   "source": [
    "# print model architecture\n",
    "model"
   ]
  },
  {
   "cell_type": "code",
   "execution_count": 64,
   "metadata": {
    "colab": {
     "base_uri": "https://localhost:8080/",
     "height": 34
    },
    "colab_type": "code",
    "id": "8wfm9CZSfF8o",
    "outputId": "ffa43e8e-dcfb-4156-cc18-63749648630c"
   },
   "outputs": [
    {
     "name": "stdout",
     "output_type": "stream",
     "text": [
      "The model has 3,169,020 trainable parameters\n"
     ]
    }
   ],
   "source": [
    "# find number of trainable parameters\n",
    "def count_parameters(model):\n",
    "  return sum(p.numel() for p in model.parameters() if p.requires_grad)\n",
    "\n",
    "print(f'The model has {count_parameters(model):,} trainable parameters')"
   ]
  },
  {
   "cell_type": "code",
   "execution_count": 65,
   "metadata": {
    "colab": {},
    "colab_type": "code",
    "id": "WgL58Ni6mqYD"
   },
   "outputs": [],
   "source": [
    "# Adam optimizer\n",
    "optimizer = optim.Adam(model.parameters())\n",
    "\n",
    "# pad token index\n",
    "TRG_PAD_IDX = TRG.vocab.stoi[TRG.pad_token]\n",
    "\n",
    "# cross entropy loss with softmax\n",
    "criterion = nn.CrossEntropyLoss(ignore_index = TRG_PAD_IDX)"
   ]
  },
  {
   "cell_type": "code",
   "execution_count": 66,
   "metadata": {
    "colab": {},
    "colab_type": "code",
    "id": "pI4aSwisjfWf"
   },
   "outputs": [],
   "source": [
    "def train(model, iterator, optimizer, criterion):\n",
    "    \n",
    "  model.train()\n",
    "  \n",
    "  epoch_loss = 0\n",
    "  \n",
    "  for i, batch in notebook.tqdm(enumerate(iterator)):\n",
    "      \n",
    "    # set accumulated loss to zero\n",
    "    optimizer.zero_grad()\n",
    "    \n",
    "    # get integer sequences (tensors)\n",
    "    src = batch.rus[0]\n",
    "    trg = batch.eng[0]  \n",
    "    \n",
    "    # pass Russian tensor batch to the sequence-to-sequence model\n",
    "    output = model(src, trg)\n",
    "    \n",
    "    #trg = [trg len, batch size]\n",
    "    #output = [trg len, batch size, output dim]\n",
    "    \n",
    "    output_dim = output.shape[-1]\n",
    "    \n",
    "    output = output[1:].view(-1, output_dim)\n",
    "    #output = [(trg len - 1) * batch size, output dim]\n",
    "\n",
    "    trg = trg[1:].view(-1)        \n",
    "    #trg = [(trg len - 1) * batch size]\n",
    "    \n",
    "    # compute loss\n",
    "    loss = criterion(output, trg)\n",
    "    \n",
    "    # backpropagate lossb\n",
    "    loss.backward()\n",
    "    \n",
    "    # update weights\n",
    "    optimizer.step()\n",
    "    \n",
    "    epoch_loss += loss.item()\n",
    "      \n",
    "  return epoch_loss / len(iterator)"
   ]
  },
  {
   "cell_type": "code",
   "execution_count": 67,
   "metadata": {
    "colab": {},
    "colab_type": "code",
    "id": "vGhlCO3GkClj"
   },
   "outputs": [],
   "source": [
    "def evaluate(model, iterator, criterion):\n",
    "    \n",
    "  model.eval()\n",
    "  \n",
    "  epoch_loss = 0\n",
    "  \n",
    "  with torch.no_grad():\n",
    "  \n",
    "    for i, batch in enumerate(iterator):\n",
    "\n",
    "      # get integer sequences (tensors)\n",
    "      src = batch.rus[0]\n",
    "      trg = batch.eng[0]\n",
    "\n",
    "      output = model(src, trg)\n",
    "\n",
    "      #trg = [trg len, batch size]\n",
    "      #output = [trg len, batch size, output dim]\n",
    "\n",
    "      output_dim = output.shape[-1]\n",
    "      \n",
    "      output = output[1:].view(-1, output_dim)\n",
    "      trg = trg[1:].view(-1)\n",
    "\n",
    "      #trg = [(trg len - 1) * batch size]\n",
    "      #output = [(trg len - 1) * batch size, output dim]\n",
    "\n",
    "      loss = criterion(output, trg)\n",
    "      \n",
    "      epoch_loss += loss.item()\n",
    "      \n",
    "  return epoch_loss / len(iterator)"
   ]
  },
  {
   "cell_type": "code",
   "execution_count": 68,
   "metadata": {
    "colab": {},
    "colab_type": "code",
    "id": "G0xUYesokFkc"
   },
   "outputs": [],
   "source": [
    "# function to compute time taken by an epoch (in mm:ss)\n",
    "def epoch_time(start_time, end_time):\n",
    "  elapsed_time = end_time - start_time\n",
    "  elapsed_mins = int(elapsed_time / 60)\n",
    "  elapsed_secs = int(elapsed_time - (elapsed_mins * 60))\n",
    "  return elapsed_mins, elapsed_secs"
   ]
  },
  {
   "cell_type": "code",
   "execution_count": 70,
   "metadata": {
    "colab": {
     "base_uri": "https://localhost:8080/",
     "height": 1000,
     "referenced_widgets": [
      "3de4edb0ad26436590e773ba37c8a249",
      "0ee4b21934e6405d94a65b05089411fa",
      "c67040d3f7714497a205000c452432ec",
      "cac1eaddc6c844968a5b723838a4872b",
      "c658e7c9af57416cbf512b5daed3a386",
      "08675dbc8fb249db815b13e274a514b1",
      "ffefdd2ff52c49a88ba48a4925b8293b",
      "c0a3b4b7060a4c87b53b51dfb04d07f3",
      "68dc27fc16d94ab8b94f851e22315b27",
      "f286cef0d7c4473687340ec7d5871833",
      "2be9acccf04947cfb3777bdf923d7bc9",
      "e793c4727ffc41f9acdee6b356ec5b7b",
      "e63fbfd6449c40a0b10ae1e51bd3f824",
      "ec2ba55dea0142fcbb71934f7d8074d5",
      "29f29a2fe23241379d86798ec9d2ad81",
      "a85c5377c3eb4cd799765cfdae653811",
      "83977b2dc35946af99ad4adf1ce4fa3f",
      "03f7384fc2e749abab8b4209129d6995",
      "45cc67bfd69a40c295e0c27c038c13d6",
      "15341fdf0bb6467387cd674a3052471d",
      "b1883a5772454317a6ceef6b66939ad7",
      "60f3c24612f24f458633d8ce5588f7ac",
      "1afa0a2040754153bf0f8359edddfbb2",
      "48d96fb91c59441b9eab1a4a99681342",
      "f88e2d38f9554481bfc1f66d0a3955ae",
      "508c987f640247a592077658f4c4f012",
      "5848d9706e354d9fae6f574920bd0681",
      "580ec9254a1a444f845ef56a2a5a790d",
      "008fea64b4cc4817a34e56ca3fe1b92e",
      "c625c1313699478ea81e9d8ae2890f03",
      "4d41222934554704a67e35e4453c7e21",
      "ae0ef47a265d46869aeea670142d8c32",
      "d9c243812d1241feba7c95cec0effb60",
      "b7c53e9fadcf4b95b982012b77a64376",
      "f9b891561272452cb5e41756fe18b6e8",
      "72745dfb701f4de38645571c1606a910",
      "a6c465aab0f84bf6a7032f1646e9f1ae",
      "cfcbadb269ed4588be83daa78a4d424d",
      "7f00c9594b1f45c2b8efb240976e752c",
      "95c723c6b2854fdd90d221c109369b11",
      "a46921a3e88247a5a952163bb23899be",
      "8d240f8f6d9042ef97c194a50b4d5733",
      "06588c9a0b09437496ee5f78bafa0fe9",
      "48f71d68f4be48f18bea38895f53c1bf",
      "8633c6e94c1e4a87a9050ddc6eacce01",
      "4d8ea51389d94d3e8c3a781227447f76",
      "8247937c3744483cb82b8b0909580b13",
      "8a79716b235c4790a112415ee8cf2ca1",
      "f56b5d7ba77b45dfa45b067f48cf4a47",
      "16d6db9c6699454ea860508757549466",
      "6c00de81b03e433b9b569e2d7224281a",
      "ed6b0663f64c4463a05551f3ea0a97e2",
      "d0e9f885f4dc40978acb1588c649e13f",
      "53e2439955c0458e928bb628231f13c4",
      "20ef2551b17c4300849e7bb5dde49d4d",
      "8fec33415aee4e90b42aff0dd64df024",
      "08ddc5789576486e828ec103d73021c1",
      "12ec2a69180d48d68ded7a1dc316f949",
      "213656769f494fc89cbadfe8c7df088b",
      "660e12dcec9c47c595fda1fe9e50b014",
      "57e39b34d0b043b699091ef5d37976d6",
      "39d8203230ad489d9b81d5044ff6bcdf",
      "256a1fe87a4846ae8e4aa74ebafea064",
      "c8f453a734344b29a932f9b728adee36",
      "73ded35003ee4dceaac01e7f99aff91a",
      "7f1b1cac4fc54efca149e2e3f256d6e7",
      "c950b1c401a641df8fcd1b1c01fc1008",
      "624e1632b34c41ae8a47d76485bb5639",
      "5fdfcbf127b44d6284db6aa279f04feb",
      "1fa1f1bd833341b08286c8e4f58098ed",
      "0b4b5c52a7c948099f66ba50a2cf0cc3",
      "751b247c29fc480bb8dd98830002c4bd",
      "7b2affe793054d61aae8e2ad5d28cec7",
      "e9f7620085f14fb8b78dc443c51a3497",
      "60fc2111b3d24f6792c5ba4e7f07d71a",
      "e121fc6a7fe2478d929befdd3c5ff6ad",
      "e5cd7ac1e8de462590d9bc50e9dda8be",
      "10fcc31496e841d6bcef62abeba6134e",
      "187c0de1f49d4b119b52433380819948",
      "c9e2bc1817a448a8ad3b2ba1cd9a6a31"
     ]
    },
    "colab_type": "code",
    "id": "Yb-aNsDokILe",
    "outputId": "e8f67866-8524-4e0d-e33d-f7809d3b9629"
   },
   "outputs": [
    {
     "data": {
      "application/vnd.jupyter.widget-view+json": {
       "model_id": "bfc577c8ec4249f1be14955c1ba0dc6b",
       "version_major": 2,
       "version_minor": 0
      },
      "text/plain": [
       "0it [00:00, ?it/s]"
      ]
     },
     "metadata": {},
     "output_type": "display_data"
    },
    {
     "name": "stderr",
     "output_type": "stream",
     "text": [
      "C:\\Users\\czwea\\anaconda3\\envs\\deep\\lib\\site-packages\\torchtext\\data\\batch.py:23: UserWarning: Batch class will be retired soon and moved to torchtext.legacy. Please see the most recent release notes for further information.\n",
      "  warnings.warn('{} class will be retired soon and moved to torchtext.legacy. Please see the most recent release notes for further information.'.format(self.__class__.__name__), UserWarning)\n"
     ]
    },
    {
     "name": "stdout",
     "output_type": "stream",
     "text": [
      "Epoch: 01 | Time: 12m 0s\n",
      "\tTrain Loss: 2.388 | Train PPL:  10.890\n",
      "\t Val. Loss: 1.885 |  Val. PPL:   6.586\n"
     ]
    },
    {
     "data": {
      "application/vnd.jupyter.widget-view+json": {
       "model_id": "5ffefc3921ee4df98c7a8cee1f5b7011",
       "version_major": 2,
       "version_minor": 0
      },
      "text/plain": [
       "0it [00:00, ?it/s]"
      ]
     },
     "metadata": {},
     "output_type": "display_data"
    },
    {
     "name": "stdout",
     "output_type": "stream",
     "text": [
      "Epoch: 02 | Time: 11m 20s\n",
      "\tTrain Loss: 1.685 | Train PPL:   5.393\n",
      "\t Val. Loss: 1.535 |  Val. PPL:   4.643\n"
     ]
    },
    {
     "data": {
      "application/vnd.jupyter.widget-view+json": {
       "model_id": "e1db81c6d477462fa1f6eea2591616a3",
       "version_major": 2,
       "version_minor": 0
      },
      "text/plain": [
       "0it [00:00, ?it/s]"
      ]
     },
     "metadata": {},
     "output_type": "display_data"
    },
    {
     "name": "stdout",
     "output_type": "stream",
     "text": [
      "Epoch: 03 | Time: 11m 13s\n",
      "\tTrain Loss: 1.390 | Train PPL:   4.014\n",
      "\t Val. Loss: 1.386 |  Val. PPL:   3.997\n"
     ]
    },
    {
     "data": {
      "application/vnd.jupyter.widget-view+json": {
       "model_id": "b816b6cb620349178a6b6dcd74caac73",
       "version_major": 2,
       "version_minor": 0
      },
      "text/plain": [
       "0it [00:00, ?it/s]"
      ]
     },
     "metadata": {},
     "output_type": "display_data"
    },
    {
     "name": "stdout",
     "output_type": "stream",
     "text": [
      "Epoch: 04 | Time: 11m 14s\n",
      "\tTrain Loss: 1.229 | Train PPL:   3.418\n",
      "\t Val. Loss: 1.311 |  Val. PPL:   3.711\n"
     ]
    },
    {
     "data": {
      "application/vnd.jupyter.widget-view+json": {
       "model_id": "2f75fbe0b288421db9300a7effd96d01",
       "version_major": 2,
       "version_minor": 0
      },
      "text/plain": [
       "0it [00:00, ?it/s]"
      ]
     },
     "metadata": {},
     "output_type": "display_data"
    },
    {
     "name": "stdout",
     "output_type": "stream",
     "text": [
      "Epoch: 05 | Time: 10m 54s\n",
      "\tTrain Loss: 1.122 | Train PPL:   3.072\n",
      "\t Val. Loss: 1.267 |  Val. PPL:   3.549\n"
     ]
    },
    {
     "data": {
      "application/vnd.jupyter.widget-view+json": {
       "model_id": "a1bce18cd4d24c5fa5212b9da9ec23b1",
       "version_major": 2,
       "version_minor": 0
      },
      "text/plain": [
       "0it [00:00, ?it/s]"
      ]
     },
     "metadata": {},
     "output_type": "display_data"
    },
    {
     "name": "stdout",
     "output_type": "stream",
     "text": [
      "Epoch: 06 | Time: 10m 54s\n",
      "\tTrain Loss: 1.046 | Train PPL:   2.846\n",
      "\t Val. Loss: 1.238 |  Val. PPL:   3.449\n"
     ]
    },
    {
     "data": {
      "application/vnd.jupyter.widget-view+json": {
       "model_id": "1bd0a113ab1e42429646561dec233736",
       "version_major": 2,
       "version_minor": 0
      },
      "text/plain": [
       "0it [00:00, ?it/s]"
      ]
     },
     "metadata": {},
     "output_type": "display_data"
    },
    {
     "name": "stdout",
     "output_type": "stream",
     "text": [
      "Epoch: 07 | Time: 11m 4s\n",
      "\tTrain Loss: 0.987 | Train PPL:   2.683\n",
      "\t Val. Loss: 1.222 |  Val. PPL:   3.392\n"
     ]
    },
    {
     "data": {
      "application/vnd.jupyter.widget-view+json": {
       "model_id": "74a9efcc22e24ad09e7beb9cb8818fde",
       "version_major": 2,
       "version_minor": 0
      },
      "text/plain": [
       "0it [00:00, ?it/s]"
      ]
     },
     "metadata": {},
     "output_type": "display_data"
    },
    {
     "name": "stdout",
     "output_type": "stream",
     "text": [
      "Epoch: 08 | Time: 10m 45s\n",
      "\tTrain Loss: 0.941 | Train PPL:   2.563\n",
      "\t Val. Loss: 1.209 |  Val. PPL:   3.350\n"
     ]
    },
    {
     "data": {
      "application/vnd.jupyter.widget-view+json": {
       "model_id": "bfc4bba961444f38a4a602238dc1b1ce",
       "version_major": 2,
       "version_minor": 0
      },
      "text/plain": [
       "0it [00:00, ?it/s]"
      ]
     },
     "metadata": {},
     "output_type": "display_data"
    },
    {
     "name": "stdout",
     "output_type": "stream",
     "text": [
      "Epoch: 09 | Time: 10m 59s\n",
      "\tTrain Loss: 0.904 | Train PPL:   2.470\n",
      "\t Val. Loss: 1.205 |  Val. PPL:   3.335\n"
     ]
    },
    {
     "data": {
      "application/vnd.jupyter.widget-view+json": {
       "model_id": "407a14ed54384c0c86f522b40f5e2703",
       "version_major": 2,
       "version_minor": 0
      },
      "text/plain": [
       "0it [00:00, ?it/s]"
      ]
     },
     "metadata": {},
     "output_type": "display_data"
    },
    {
     "name": "stdout",
     "output_type": "stream",
     "text": [
      "Epoch: 10 | Time: 10m 56s\n",
      "\tTrain Loss: 0.872 | Train PPL:   2.391\n",
      "\t Val. Loss: 1.199 |  Val. PPL:   3.317\n"
     ]
    }
   ],
   "source": [
    "N_EPOCHS = 10\n",
    "\n",
    "best_valid_loss = float('inf')\n",
    "\n",
    "# start model training\n",
    "for epoch in range(N_EPOCHS):\n",
    "    \n",
    "  start_time = time.time()\n",
    "  \n",
    "  train_loss = train(model, train_iterator, optimizer, criterion)\n",
    "  valid_loss = evaluate(model, valid_iterator, criterion)\n",
    "  \n",
    "  end_time = time.time()\n",
    "  \n",
    "  epoch_mins, epoch_secs = epoch_time(start_time, end_time)\n",
    "  \n",
    "  # compare validation loss\n",
    "  if valid_loss < best_valid_loss:\n",
    "    best_valid_loss = valid_loss\n",
    "    torch.save(model.state_dict(), '../../../../../LargeData/Analytics_Vidhya/NLP_Deep/best_model_russian_gru.pt')\n",
    "  \n",
    "  print(f'Epoch: {epoch+1:02} | Time: {epoch_mins}m {epoch_secs}s')\n",
    "  print(f'\\tTrain Loss: {train_loss:.3f} | Train PPL: {math.exp(train_loss):7.3f}')\n",
    "  print(f'\\t Val. Loss: {valid_loss:.3f} |  Val. PPL: {math.exp(valid_loss):7.3f}')"
   ]
  },
  {
   "cell_type": "markdown",
   "metadata": {
    "colab_type": "text",
    "id": "OM9lq-kGzjSz"
   },
   "source": [
    "#7. Model Inference"
   ]
  },
  {
   "cell_type": "code",
   "execution_count": 4,
   "metadata": {
    "colab": {
     "base_uri": "https://localhost:8080/",
     "height": 34
    },
    "colab_type": "code",
    "id": "QAgxSL9lV027",
    "outputId": "0cf172eb-7ad4-46a3-f2b5-606eded9ed71"
   },
   "outputs": [
    {
     "ename": "NameError",
     "evalue": "name 'model' is not defined",
     "output_type": "error",
     "traceback": [
      "\u001b[1;31m---------------------------------------------------------------------------\u001b[0m",
      "\u001b[1;31mNameError\u001b[0m                                 Traceback (most recent call last)",
      "\u001b[1;32m<ipython-input-4-f3ee2178ddf7>\u001b[0m in \u001b[0;36m<module>\u001b[1;34m\u001b[0m\n\u001b[0;32m      1\u001b[0m \u001b[1;31m# load saved model weights\u001b[0m\u001b[1;33m\u001b[0m\u001b[1;33m\u001b[0m\u001b[1;33m\u001b[0m\u001b[0m\n\u001b[0;32m      2\u001b[0m \u001b[0mpath\u001b[0m \u001b[1;33m=\u001b[0m \u001b[1;34m'../../../../../LargeData/Analytics_Vidhya/NLP_Deep/best_model_russian_gru.pt'\u001b[0m\u001b[1;33m\u001b[0m\u001b[1;33m\u001b[0m\u001b[0m\n\u001b[1;32m----> 3\u001b[1;33m \u001b[0mmodel\u001b[0m\u001b[1;33m.\u001b[0m\u001b[0mload_state_dict\u001b[0m\u001b[1;33m(\u001b[0m\u001b[0mtorch\u001b[0m\u001b[1;33m.\u001b[0m\u001b[0mload\u001b[0m\u001b[1;33m(\u001b[0m\u001b[0mpath\u001b[0m\u001b[1;33m)\u001b[0m\u001b[1;33m)\u001b[0m\u001b[1;33m\u001b[0m\u001b[1;33m\u001b[0m\u001b[0m\n\u001b[0m",
      "\u001b[1;31mNameError\u001b[0m: name 'model' is not defined"
     ]
    }
   ],
   "source": [
    "# load saved model weights\n",
    "path = '../../../../../LargeData/Analytics_Vidhya/NLP_Deep/best_model_russian_gru.pt'\n",
    "model.load_state_dict(torch.load(path))"
   ]
  },
  {
   "cell_type": "markdown",
   "metadata": {
    "colab_type": "text",
    "id": "-Vn2ycwZ5uAj"
   },
   "source": [
    "###7.1 Build Inference Function"
   ]
  },
  {
   "cell_type": "code",
   "execution_count": 72,
   "metadata": {
    "colab": {},
    "colab_type": "code",
    "id": "OTcxoroY0eCX"
   },
   "outputs": [],
   "source": [
    "# function to perform translation\n",
    "def translate_sentence(sentence, model):\n",
    "    \n",
    "  # set model at evaluation modeb\n",
    "  model.eval()\n",
    "\n",
    "  # empty list to keep input sequence tokensb    \n",
    "  token_int = []\n",
    "\n",
    "  # iterate over the input sequence\n",
    "  doc = nlp_ru(sentence)\n",
    "  for i in doc:\n",
    "    # convert tokens to\n",
    "    token_int.append(SRC.vocab.stoi[i.text])\n",
    "\n",
    "  # convert list to a PyTorch tensor  \n",
    "  token_int = torch.tensor([token_int]).to(device)\n",
    "  token_int = token_int.reshape(-1,1)\n",
    "\n",
    "  # pass the tensor to the encoder and get the context vector (hidden)\n",
    "  hidden = model.encoder(token_int)\n",
    "  \n",
    "  # initialize the list with the start token's index\n",
    "  trg_indexes = [TRG.vocab.stoi[TRG.init_token]]\n",
    "  \n",
    "  pred_token = TRG.vocab.stoi[TRG.init_token]\n",
    "\n",
    "  while pred_token != TRG.vocab.stoi[TRG.eos_token]:\n",
    "    trg_tensor = torch.LongTensor([trg_indexes[-1]]).to(device)\n",
    "    with torch.no_grad():\n",
    "      # pass the context vector (hidden) to the decoder\n",
    "      output, hidden = model.decoder(trg_tensor, hidden)\n",
    "    \n",
    "    # get index of the largest value\n",
    "    pred_token = output.argmax(1).item()\n",
    "    trg_indexes.append(pred_token)\n",
    "  \n",
    "  # covert integers to tokens\n",
    "  trg_tokens = [TRG.vocab.itos[i] for i in trg_indexes]\n",
    "\n",
    "  return \" \".join(trg_tokens[1:-1])"
   ]
  },
  {
   "cell_type": "code",
   "execution_count": 73,
   "metadata": {
    "colab": {
     "base_uri": "https://localhost:8080/",
     "height": 35
    },
    "colab_type": "code",
    "id": "WmbRAT034LAf",
    "outputId": "4c25acce-320e-4486-a521-16d5c1b70a7b"
   },
   "outputs": [
    {
     "data": {
      "text/plain": [
       "'it works'"
      ]
     },
     "execution_count": 73,
     "metadata": {},
     "output_type": "execute_result"
    }
   ],
   "source": [
    "# actual translation \"is it working\"\n",
    "sent = \"это работает\"\n",
    "translate_sentence(sent, model)"
   ]
  },
  {
   "cell_type": "markdown",
   "metadata": {
    "colab_type": "text",
    "id": "CQ49GVLg50pa"
   },
   "source": [
    "###7.2 Translate Russian Sentences in the Test Dataset"
   ]
  },
  {
   "cell_type": "code",
   "execution_count": 74,
   "metadata": {
    "colab": {
     "base_uri": "https://localhost:8080/",
     "height": 66,
     "referenced_widgets": [
      "13c496f5f9f941f9bee69a1bf42e1f13",
      "74975f214f3d4c4a92c77ba2857a883a",
      "fa8c3b55e9fe4652a0ecad900b1c745e",
      "f65a6080216e4d89ade69a3455403c3d",
      "6aa17f058d504801b1be2d7d850323b3",
      "7474ac4afeab4651a47ed380b39dba18",
      "c1265fde8c2f4c9595b6da7e3ff9ba8c",
      "b1b2fd37a1e94d16beec353b8d2947cc"
     ]
    },
    "colab_type": "code",
    "id": "gt9aCJ916cS3",
    "outputId": "8f5f3445-db85-49af-9f1d-1e771bca4ae8"
   },
   "outputs": [
    {
     "data": {
      "application/vnd.jupyter.widget-view+json": {
       "model_id": "4fd1d9edcf4645e9a091be9f9e48a6fa",
       "version_major": 2,
       "version_minor": 0
      },
      "text/plain": [
       "  0%|          | 0/46668 [00:00<?, ?it/s]"
      ]
     },
     "metadata": {},
     "output_type": "display_data"
    }
   ],
   "source": [
    "translations = [translate_sentence(sent, model) for sent in notebook.tqdm(test_df[\"rus\"])]"
   ]
  },
  {
   "cell_type": "code",
   "execution_count": null,
   "metadata": {
    "colab": {},
    "colab_type": "code",
    "id": "1L-mX-ax_LOG"
   },
   "outputs": [],
   "source": [
    "# add translations to the test dataframe\n",
    "test_df[\"translations\"] = translations"
   ]
  },
  {
   "cell_type": "code",
   "execution_count": null,
   "metadata": {
    "colab": {
     "base_uri": "https://localhost:8080/",
     "height": 677
    },
    "colab_type": "code",
    "id": "yr1Xp19X_bgy",
    "outputId": "1dd9b625-9ad5-4f2e-a735-a0050a9b4a22"
   },
   "outputs": [
    {
     "data": {
      "text/html": [
       "<div>\n",
       "<style scoped>\n",
       "    .dataframe tbody tr th:only-of-type {\n",
       "        vertical-align: middle;\n",
       "    }\n",
       "\n",
       "    .dataframe tbody tr th {\n",
       "        vertical-align: top;\n",
       "    }\n",
       "\n",
       "    .dataframe thead th {\n",
       "        text-align: right;\n",
       "    }\n",
       "</style>\n",
       "<table border=\"1\" class=\"dataframe\">\n",
       "  <thead>\n",
       "    <tr style=\"text-align: right;\">\n",
       "      <th></th>\n",
       "      <th>rus</th>\n",
       "      <th>eng</th>\n",
       "      <th>translations</th>\n",
       "    </tr>\n",
       "  </thead>\n",
       "  <tbody>\n",
       "    <tr>\n",
       "      <th>42227</th>\n",
       "      <td>это совершенно секретно</td>\n",
       "      <td>this is top secret</td>\n",
       "      <td>this is totally &lt;unk&gt;</td>\n",
       "    </tr>\n",
       "    <tr>\n",
       "      <th>40378</th>\n",
       "      <td>он принял решение повторить попытку</td>\n",
       "      <td>he made up his mind to try again</td>\n",
       "      <td>he &lt;unk&gt; the importance of &lt;unk&gt;</td>\n",
       "    </tr>\n",
       "    <tr>\n",
       "      <th>37795</th>\n",
       "      <td>это была долгая неделя</td>\n",
       "      <td>this has been a long week</td>\n",
       "      <td>it was a long week</td>\n",
       "    </tr>\n",
       "    <tr>\n",
       "      <th>42201</th>\n",
       "      <td>том бы тобой очень гордился</td>\n",
       "      <td>tom would be very proud of you</td>\n",
       "      <td>tom would 've been very proud of you</td>\n",
       "    </tr>\n",
       "    <tr>\n",
       "      <th>13958</th>\n",
       "      <td>я с трудом нашёл тома</td>\n",
       "      <td>i had a hard time finding tom</td>\n",
       "      <td>i 've met tom 's cat</td>\n",
       "    </tr>\n",
       "    <tr>\n",
       "      <th>38281</th>\n",
       "      <td>это очень необычно</td>\n",
       "      <td>this is really unusual</td>\n",
       "      <td>this is very thin</td>\n",
       "    </tr>\n",
       "    <tr>\n",
       "      <th>41192</th>\n",
       "      <td>я рада что ты согласна</td>\n",
       "      <td>i'm glad you agree</td>\n",
       "      <td>i 'm glad you agree</td>\n",
       "    </tr>\n",
       "    <tr>\n",
       "      <th>26739</th>\n",
       "      <td>смех заразителен</td>\n",
       "      <td>laughter is infectious</td>\n",
       "      <td>the &lt;unk&gt; is &lt;unk&gt;</td>\n",
       "    </tr>\n",
       "    <tr>\n",
       "      <th>32373</th>\n",
       "      <td>мы провели день на пляже</td>\n",
       "      <td>we spent the day at the beach</td>\n",
       "      <td>we took a meeting at all</td>\n",
       "    </tr>\n",
       "    <tr>\n",
       "      <th>26020</th>\n",
       "      <td>почему ты не здесь</td>\n",
       "      <td>why aren't you here</td>\n",
       "      <td>why are n't you here</td>\n",
       "    </tr>\n",
       "    <tr>\n",
       "      <th>12742</th>\n",
       "      <td>красивые птицы красивы своим оперением</td>\n",
       "      <td>fine feathers make fine birds</td>\n",
       "      <td>birds are beautiful birds of &lt;unk&gt;</td>\n",
       "    </tr>\n",
       "    <tr>\n",
       "      <th>13391</th>\n",
       "      <td>думаю это возможно</td>\n",
       "      <td>i think it's possible</td>\n",
       "      <td>i think that 's possible</td>\n",
       "    </tr>\n",
       "    <tr>\n",
       "      <th>13544</th>\n",
       "      <td>когда ты хочешь поехать</td>\n",
       "      <td>when do you want to go</td>\n",
       "      <td>when do you want to go</td>\n",
       "    </tr>\n",
       "    <tr>\n",
       "      <th>35257</th>\n",
       "      <td>я кажется зонтик потерял</td>\n",
       "      <td>i think that i've lost my umbrella</td>\n",
       "      <td>i think i 've lost my umbrella</td>\n",
       "    </tr>\n",
       "    <tr>\n",
       "      <th>2986</th>\n",
       "      <td>ему очень нравится музыка</td>\n",
       "      <td>he is very fond of music</td>\n",
       "      <td>he likes music very much</td>\n",
       "    </tr>\n",
       "    <tr>\n",
       "      <th>7919</th>\n",
       "      <td>вы всё ещё работаете</td>\n",
       "      <td>are you still working</td>\n",
       "      <td>are you still working</td>\n",
       "    </tr>\n",
       "    <tr>\n",
       "      <th>14909</th>\n",
       "      <td>это тебе следует меня благодарить</td>\n",
       "      <td>it's you who should be thanking me</td>\n",
       "      <td>you should thank me</td>\n",
       "    </tr>\n",
       "    <tr>\n",
       "      <th>35506</th>\n",
       "      <td>у тебя нет ручки</td>\n",
       "      <td>don't you have a pen</td>\n",
       "      <td>do n't you have a pen</td>\n",
       "    </tr>\n",
       "    <tr>\n",
       "      <th>19636</th>\n",
       "      <td>две головы лучше одной</td>\n",
       "      <td>two heads are better than one</td>\n",
       "      <td>the two of the two left is better</td>\n",
       "    </tr>\n",
       "    <tr>\n",
       "      <th>45383</th>\n",
       "      <td>я уже всех знал</td>\n",
       "      <td>i already knew everyone</td>\n",
       "      <td>i already knew everybody</td>\n",
       "    </tr>\n",
       "  </tbody>\n",
       "</table>\n",
       "</div>"
      ],
      "text/plain": [
       "                                          rus  ...                          translations\n",
       "42227                 это совершенно секретно  ...                 this is totally <unk>\n",
       "40378     он принял решение повторить попытку  ...      he <unk> the importance of <unk>\n",
       "37795                  это была долгая неделя  ...                    it was a long week\n",
       "42201             том бы тобой очень гордился  ...  tom would 've been very proud of you\n",
       "13958                   я с трудом нашёл тома  ...                  i 've met tom 's cat\n",
       "38281                      это очень необычно  ...                     this is very thin\n",
       "41192                  я рада что ты согласна  ...                   i 'm glad you agree\n",
       "26739                        смех заразителен  ...                    the <unk> is <unk>\n",
       "32373                мы провели день на пляже  ...              we took a meeting at all\n",
       "26020                      почему ты не здесь  ...                  why are n't you here\n",
       "12742  красивые птицы красивы своим оперением  ...    birds are beautiful birds of <unk>\n",
       "13391                      думаю это возможно  ...              i think that 's possible\n",
       "13544                 когда ты хочешь поехать  ...                when do you want to go\n",
       "35257                я кажется зонтик потерял  ...        i think i 've lost my umbrella\n",
       "2986                ему очень нравится музыка  ...              he likes music very much\n",
       "7919                     вы всё ещё работаете  ...                 are you still working\n",
       "14909       это тебе следует меня благодарить  ...                   you should thank me\n",
       "35506                        у тебя нет ручки  ...                 do n't you have a pen\n",
       "19636                  две головы лучше одной  ...     the two of the two left is better\n",
       "45383                         я уже всех знал  ...              i already knew everybody\n",
       "\n",
       "[20 rows x 3 columns]"
      ]
     },
     "execution_count": 38,
     "metadata": {
      "tags": []
     },
     "output_type": "execute_result"
    }
   ],
   "source": [
    "test_df.sample(20)"
   ]
  },
  {
   "cell_type": "code",
   "execution_count": 75,
   "metadata": {
    "colab": {},
    "colab_type": "code",
    "id": "OkenFeUIZS7a"
   },
   "outputs": [],
   "source": [
    "# save translations and download it to your local system\n",
    "test_df.to_csv(\"../../../../../LargeData/Analytics_Vidhya/NLP_Deep/nmt_test_translations.csv\", index=False)"
   ]
  },
  {
   "cell_type": "code",
   "execution_count": null,
   "metadata": {
    "colab": {},
    "colab_type": "code",
    "id": "H4PsSOfXO1Qf"
   },
   "outputs": [],
   "source": []
  }
 ],
 "metadata": {
  "accelerator": "GPU",
  "colab": {
   "name": "Project: Translating Text from Russian to English.ipynb",
   "provenance": []
  },
  "kernelspec": {
   "display_name": "deep",
   "language": "python",
   "name": "deep"
  },
  "language_info": {
   "codemirror_mode": {
    "name": "ipython",
    "version": 3
   },
   "file_extension": ".py",
   "mimetype": "text/x-python",
   "name": "python",
   "nbconvert_exporter": "python",
   "pygments_lexer": "ipython3",
   "version": "3.8.10"
  },
  "widgets": {
   "application/vnd.jupyter.widget-state+json": {
    "008fea64b4cc4817a34e56ca3fe1b92e": {
     "model_module": "@jupyter-widgets/controls",
     "model_name": "ProgressStyleModel",
     "state": {
      "_model_module": "@jupyter-widgets/controls",
      "_model_module_version": "1.5.0",
      "_model_name": "ProgressStyleModel",
      "_view_count": null,
      "_view_module": "@jupyter-widgets/base",
      "_view_module_version": "1.2.0",
      "_view_name": "StyleView",
      "bar_color": null,
      "description_width": "initial"
     }
    },
    "03f7384fc2e749abab8b4209129d6995": {
     "model_module": "@jupyter-widgets/base",
     "model_name": "LayoutModel",
     "state": {
      "_model_module": "@jupyter-widgets/base",
      "_model_module_version": "1.2.0",
      "_model_name": "LayoutModel",
      "_view_count": null,
      "_view_module": "@jupyter-widgets/base",
      "_view_module_version": "1.2.0",
      "_view_name": "LayoutView",
      "align_content": null,
      "align_items": null,
      "align_self": null,
      "border": null,
      "bottom": null,
      "display": null,
      "flex": null,
      "flex_flow": null,
      "grid_area": null,
      "grid_auto_columns": null,
      "grid_auto_flow": null,
      "grid_auto_rows": null,
      "grid_column": null,
      "grid_gap": null,
      "grid_row": null,
      "grid_template_areas": null,
      "grid_template_columns": null,
      "grid_template_rows": null,
      "height": null,
      "justify_content": null,
      "justify_items": null,
      "left": null,
      "margin": null,
      "max_height": null,
      "max_width": null,
      "min_height": null,
      "min_width": null,
      "object_fit": null,
      "object_position": null,
      "order": null,
      "overflow": null,
      "overflow_x": null,
      "overflow_y": null,
      "padding": null,
      "right": null,
      "top": null,
      "visibility": null,
      "width": null
     }
    },
    "06588c9a0b09437496ee5f78bafa0fe9": {
     "model_module": "@jupyter-widgets/controls",
     "model_name": "FloatProgressModel",
     "state": {
      "_dom_classes": [],
      "_model_module": "@jupyter-widgets/controls",
      "_model_module_version": "1.5.0",
      "_model_name": "FloatProgressModel",
      "_view_count": null,
      "_view_module": "@jupyter-widgets/controls",
      "_view_module_version": "1.5.0",
      "_view_name": "ProgressView",
      "bar_style": "success",
      "description": "",
      "description_tooltip": null,
      "layout": "IPY_MODEL_4d8ea51389d94d3e8c3a781227447f76",
      "max": 1,
      "min": 0,
      "orientation": "horizontal",
      "style": "IPY_MODEL_8633c6e94c1e4a87a9050ddc6eacce01",
      "value": 1
     }
    },
    "08675dbc8fb249db815b13e274a514b1": {
     "model_module": "@jupyter-widgets/base",
     "model_name": "LayoutModel",
     "state": {
      "_model_module": "@jupyter-widgets/base",
      "_model_module_version": "1.2.0",
      "_model_name": "LayoutModel",
      "_view_count": null,
      "_view_module": "@jupyter-widgets/base",
      "_view_module_version": "1.2.0",
      "_view_name": "LayoutView",
      "align_content": null,
      "align_items": null,
      "align_self": null,
      "border": null,
      "bottom": null,
      "display": null,
      "flex": null,
      "flex_flow": null,
      "grid_area": null,
      "grid_auto_columns": null,
      "grid_auto_flow": null,
      "grid_auto_rows": null,
      "grid_column": null,
      "grid_gap": null,
      "grid_row": null,
      "grid_template_areas": null,
      "grid_template_columns": null,
      "grid_template_rows": null,
      "height": null,
      "justify_content": null,
      "justify_items": null,
      "left": null,
      "margin": null,
      "max_height": null,
      "max_width": null,
      "min_height": null,
      "min_width": null,
      "object_fit": null,
      "object_position": null,
      "order": null,
      "overflow": null,
      "overflow_x": null,
      "overflow_y": null,
      "padding": null,
      "right": null,
      "top": null,
      "visibility": null,
      "width": null
     }
    },
    "08ddc5789576486e828ec103d73021c1": {
     "model_module": "@jupyter-widgets/controls",
     "model_name": "HBoxModel",
     "state": {
      "_dom_classes": [],
      "_model_module": "@jupyter-widgets/controls",
      "_model_module_version": "1.5.0",
      "_model_name": "HBoxModel",
      "_view_count": null,
      "_view_module": "@jupyter-widgets/controls",
      "_view_module_version": "1.5.0",
      "_view_name": "HBoxView",
      "box_style": "",
      "children": [
       "IPY_MODEL_213656769f494fc89cbadfe8c7df088b",
       "IPY_MODEL_660e12dcec9c47c595fda1fe9e50b014"
      ],
      "layout": "IPY_MODEL_12ec2a69180d48d68ded7a1dc316f949"
     }
    },
    "0b4b5c52a7c948099f66ba50a2cf0cc3": {
     "model_module": "@jupyter-widgets/controls",
     "model_name": "DescriptionStyleModel",
     "state": {
      "_model_module": "@jupyter-widgets/controls",
      "_model_module_version": "1.5.0",
      "_model_name": "DescriptionStyleModel",
      "_view_count": null,
      "_view_module": "@jupyter-widgets/base",
      "_view_module_version": "1.2.0",
      "_view_name": "StyleView",
      "description_width": ""
     }
    },
    "0ee4b21934e6405d94a65b05089411fa": {
     "model_module": "@jupyter-widgets/base",
     "model_name": "LayoutModel",
     "state": {
      "_model_module": "@jupyter-widgets/base",
      "_model_module_version": "1.2.0",
      "_model_name": "LayoutModel",
      "_view_count": null,
      "_view_module": "@jupyter-widgets/base",
      "_view_module_version": "1.2.0",
      "_view_name": "LayoutView",
      "align_content": null,
      "align_items": null,
      "align_self": null,
      "border": null,
      "bottom": null,
      "display": null,
      "flex": null,
      "flex_flow": null,
      "grid_area": null,
      "grid_auto_columns": null,
      "grid_auto_flow": null,
      "grid_auto_rows": null,
      "grid_column": null,
      "grid_gap": null,
      "grid_row": null,
      "grid_template_areas": null,
      "grid_template_columns": null,
      "grid_template_rows": null,
      "height": null,
      "justify_content": null,
      "justify_items": null,
      "left": null,
      "margin": null,
      "max_height": null,
      "max_width": null,
      "min_height": null,
      "min_width": null,
      "object_fit": null,
      "object_position": null,
      "order": null,
      "overflow": null,
      "overflow_x": null,
      "overflow_y": null,
      "padding": null,
      "right": null,
      "top": null,
      "visibility": null,
      "width": null
     }
    },
    "10fcc31496e841d6bcef62abeba6134e": {
     "model_module": "@jupyter-widgets/base",
     "model_name": "LayoutModel",
     "state": {
      "_model_module": "@jupyter-widgets/base",
      "_model_module_version": "1.2.0",
      "_model_name": "LayoutModel",
      "_view_count": null,
      "_view_module": "@jupyter-widgets/base",
      "_view_module_version": "1.2.0",
      "_view_name": "LayoutView",
      "align_content": null,
      "align_items": null,
      "align_self": null,
      "border": null,
      "bottom": null,
      "display": null,
      "flex": null,
      "flex_flow": null,
      "grid_area": null,
      "grid_auto_columns": null,
      "grid_auto_flow": null,
      "grid_auto_rows": null,
      "grid_column": null,
      "grid_gap": null,
      "grid_row": null,
      "grid_template_areas": null,
      "grid_template_columns": null,
      "grid_template_rows": null,
      "height": null,
      "justify_content": null,
      "justify_items": null,
      "left": null,
      "margin": null,
      "max_height": null,
      "max_width": null,
      "min_height": null,
      "min_width": null,
      "object_fit": null,
      "object_position": null,
      "order": null,
      "overflow": null,
      "overflow_x": null,
      "overflow_y": null,
      "padding": null,
      "right": null,
      "top": null,
      "visibility": null,
      "width": null
     }
    },
    "12ec2a69180d48d68ded7a1dc316f949": {
     "model_module": "@jupyter-widgets/base",
     "model_name": "LayoutModel",
     "state": {
      "_model_module": "@jupyter-widgets/base",
      "_model_module_version": "1.2.0",
      "_model_name": "LayoutModel",
      "_view_count": null,
      "_view_module": "@jupyter-widgets/base",
      "_view_module_version": "1.2.0",
      "_view_name": "LayoutView",
      "align_content": null,
      "align_items": null,
      "align_self": null,
      "border": null,
      "bottom": null,
      "display": null,
      "flex": null,
      "flex_flow": null,
      "grid_area": null,
      "grid_auto_columns": null,
      "grid_auto_flow": null,
      "grid_auto_rows": null,
      "grid_column": null,
      "grid_gap": null,
      "grid_row": null,
      "grid_template_areas": null,
      "grid_template_columns": null,
      "grid_template_rows": null,
      "height": null,
      "justify_content": null,
      "justify_items": null,
      "left": null,
      "margin": null,
      "max_height": null,
      "max_width": null,
      "min_height": null,
      "min_width": null,
      "object_fit": null,
      "object_position": null,
      "order": null,
      "overflow": null,
      "overflow_x": null,
      "overflow_y": null,
      "padding": null,
      "right": null,
      "top": null,
      "visibility": null,
      "width": null
     }
    },
    "13c496f5f9f941f9bee69a1bf42e1f13": {
     "model_module": "@jupyter-widgets/controls",
     "model_name": "HBoxModel",
     "state": {
      "_dom_classes": [],
      "_model_module": "@jupyter-widgets/controls",
      "_model_module_version": "1.5.0",
      "_model_name": "HBoxModel",
      "_view_count": null,
      "_view_module": "@jupyter-widgets/controls",
      "_view_module_version": "1.5.0",
      "_view_name": "HBoxView",
      "box_style": "",
      "children": [
       "IPY_MODEL_fa8c3b55e9fe4652a0ecad900b1c745e",
       "IPY_MODEL_f65a6080216e4d89ade69a3455403c3d"
      ],
      "layout": "IPY_MODEL_74975f214f3d4c4a92c77ba2857a883a"
     }
    },
    "15341fdf0bb6467387cd674a3052471d": {
     "model_module": "@jupyter-widgets/controls",
     "model_name": "HTMLModel",
     "state": {
      "_dom_classes": [],
      "_model_module": "@jupyter-widgets/controls",
      "_model_module_version": "1.5.0",
      "_model_name": "HTMLModel",
      "_view_count": null,
      "_view_module": "@jupyter-widgets/controls",
      "_view_module_version": "1.5.0",
      "_view_name": "HTMLView",
      "description": "",
      "description_tooltip": null,
      "layout": "IPY_MODEL_48d96fb91c59441b9eab1a4a99681342",
      "placeholder": "​",
      "style": "IPY_MODEL_1afa0a2040754153bf0f8359edddfbb2",
      "value": " 2339/? [01:26&lt;00:00, 26.90it/s]"
     }
    },
    "16d6db9c6699454ea860508757549466": {
     "model_module": "@jupyter-widgets/base",
     "model_name": "LayoutModel",
     "state": {
      "_model_module": "@jupyter-widgets/base",
      "_model_module_version": "1.2.0",
      "_model_name": "LayoutModel",
      "_view_count": null,
      "_view_module": "@jupyter-widgets/base",
      "_view_module_version": "1.2.0",
      "_view_name": "LayoutView",
      "align_content": null,
      "align_items": null,
      "align_self": null,
      "border": null,
      "bottom": null,
      "display": null,
      "flex": null,
      "flex_flow": null,
      "grid_area": null,
      "grid_auto_columns": null,
      "grid_auto_flow": null,
      "grid_auto_rows": null,
      "grid_column": null,
      "grid_gap": null,
      "grid_row": null,
      "grid_template_areas": null,
      "grid_template_columns": null,
      "grid_template_rows": null,
      "height": null,
      "justify_content": null,
      "justify_items": null,
      "left": null,
      "margin": null,
      "max_height": null,
      "max_width": null,
      "min_height": null,
      "min_width": null,
      "object_fit": null,
      "object_position": null,
      "order": null,
      "overflow": null,
      "overflow_x": null,
      "overflow_y": null,
      "padding": null,
      "right": null,
      "top": null,
      "visibility": null,
      "width": null
     }
    },
    "187c0de1f49d4b119b52433380819948": {
     "model_module": "@jupyter-widgets/controls",
     "model_name": "DescriptionStyleModel",
     "state": {
      "_model_module": "@jupyter-widgets/controls",
      "_model_module_version": "1.5.0",
      "_model_name": "DescriptionStyleModel",
      "_view_count": null,
      "_view_module": "@jupyter-widgets/base",
      "_view_module_version": "1.2.0",
      "_view_name": "StyleView",
      "description_width": ""
     }
    },
    "1afa0a2040754153bf0f8359edddfbb2": {
     "model_module": "@jupyter-widgets/controls",
     "model_name": "DescriptionStyleModel",
     "state": {
      "_model_module": "@jupyter-widgets/controls",
      "_model_module_version": "1.5.0",
      "_model_name": "DescriptionStyleModel",
      "_view_count": null,
      "_view_module": "@jupyter-widgets/base",
      "_view_module_version": "1.2.0",
      "_view_name": "StyleView",
      "description_width": ""
     }
    },
    "1fa1f1bd833341b08286c8e4f58098ed": {
     "model_module": "@jupyter-widgets/base",
     "model_name": "LayoutModel",
     "state": {
      "_model_module": "@jupyter-widgets/base",
      "_model_module_version": "1.2.0",
      "_model_name": "LayoutModel",
      "_view_count": null,
      "_view_module": "@jupyter-widgets/base",
      "_view_module_version": "1.2.0",
      "_view_name": "LayoutView",
      "align_content": null,
      "align_items": null,
      "align_self": null,
      "border": null,
      "bottom": null,
      "display": null,
      "flex": null,
      "flex_flow": null,
      "grid_area": null,
      "grid_auto_columns": null,
      "grid_auto_flow": null,
      "grid_auto_rows": null,
      "grid_column": null,
      "grid_gap": null,
      "grid_row": null,
      "grid_template_areas": null,
      "grid_template_columns": null,
      "grid_template_rows": null,
      "height": null,
      "justify_content": null,
      "justify_items": null,
      "left": null,
      "margin": null,
      "max_height": null,
      "max_width": null,
      "min_height": null,
      "min_width": null,
      "object_fit": null,
      "object_position": null,
      "order": null,
      "overflow": null,
      "overflow_x": null,
      "overflow_y": null,
      "padding": null,
      "right": null,
      "top": null,
      "visibility": null,
      "width": null
     }
    },
    "20ef2551b17c4300849e7bb5dde49d4d": {
     "model_module": "@jupyter-widgets/controls",
     "model_name": "DescriptionStyleModel",
     "state": {
      "_model_module": "@jupyter-widgets/controls",
      "_model_module_version": "1.5.0",
      "_model_name": "DescriptionStyleModel",
      "_view_count": null,
      "_view_module": "@jupyter-widgets/base",
      "_view_module_version": "1.2.0",
      "_view_name": "StyleView",
      "description_width": ""
     }
    },
    "213656769f494fc89cbadfe8c7df088b": {
     "model_module": "@jupyter-widgets/controls",
     "model_name": "FloatProgressModel",
     "state": {
      "_dom_classes": [],
      "_model_module": "@jupyter-widgets/controls",
      "_model_module_version": "1.5.0",
      "_model_name": "FloatProgressModel",
      "_view_count": null,
      "_view_module": "@jupyter-widgets/controls",
      "_view_module_version": "1.5.0",
      "_view_name": "ProgressView",
      "bar_style": "success",
      "description": "",
      "description_tooltip": null,
      "layout": "IPY_MODEL_39d8203230ad489d9b81d5044ff6bcdf",
      "max": 1,
      "min": 0,
      "orientation": "horizontal",
      "style": "IPY_MODEL_57e39b34d0b043b699091ef5d37976d6",
      "value": 1
     }
    },
    "256a1fe87a4846ae8e4aa74ebafea064": {
     "model_module": "@jupyter-widgets/controls",
     "model_name": "DescriptionStyleModel",
     "state": {
      "_model_module": "@jupyter-widgets/controls",
      "_model_module_version": "1.5.0",
      "_model_name": "DescriptionStyleModel",
      "_view_count": null,
      "_view_module": "@jupyter-widgets/base",
      "_view_module_version": "1.2.0",
      "_view_name": "StyleView",
      "description_width": ""
     }
    },
    "29f29a2fe23241379d86798ec9d2ad81": {
     "model_module": "@jupyter-widgets/controls",
     "model_name": "DescriptionStyleModel",
     "state": {
      "_model_module": "@jupyter-widgets/controls",
      "_model_module_version": "1.5.0",
      "_model_name": "DescriptionStyleModel",
      "_view_count": null,
      "_view_module": "@jupyter-widgets/base",
      "_view_module_version": "1.2.0",
      "_view_name": "StyleView",
      "description_width": ""
     }
    },
    "2be9acccf04947cfb3777bdf923d7bc9": {
     "model_module": "@jupyter-widgets/controls",
     "model_name": "FloatProgressModel",
     "state": {
      "_dom_classes": [],
      "_model_module": "@jupyter-widgets/controls",
      "_model_module_version": "1.5.0",
      "_model_name": "FloatProgressModel",
      "_view_count": null,
      "_view_module": "@jupyter-widgets/controls",
      "_view_module_version": "1.5.0",
      "_view_name": "ProgressView",
      "bar_style": "success",
      "description": "",
      "description_tooltip": null,
      "layout": "IPY_MODEL_ec2ba55dea0142fcbb71934f7d8074d5",
      "max": 1,
      "min": 0,
      "orientation": "horizontal",
      "style": "IPY_MODEL_e63fbfd6449c40a0b10ae1e51bd3f824",
      "value": 1
     }
    },
    "39d8203230ad489d9b81d5044ff6bcdf": {
     "model_module": "@jupyter-widgets/base",
     "model_name": "LayoutModel",
     "state": {
      "_model_module": "@jupyter-widgets/base",
      "_model_module_version": "1.2.0",
      "_model_name": "LayoutModel",
      "_view_count": null,
      "_view_module": "@jupyter-widgets/base",
      "_view_module_version": "1.2.0",
      "_view_name": "LayoutView",
      "align_content": null,
      "align_items": null,
      "align_self": null,
      "border": null,
      "bottom": null,
      "display": null,
      "flex": null,
      "flex_flow": null,
      "grid_area": null,
      "grid_auto_columns": null,
      "grid_auto_flow": null,
      "grid_auto_rows": null,
      "grid_column": null,
      "grid_gap": null,
      "grid_row": null,
      "grid_template_areas": null,
      "grid_template_columns": null,
      "grid_template_rows": null,
      "height": null,
      "justify_content": null,
      "justify_items": null,
      "left": null,
      "margin": null,
      "max_height": null,
      "max_width": null,
      "min_height": null,
      "min_width": null,
      "object_fit": null,
      "object_position": null,
      "order": null,
      "overflow": null,
      "overflow_x": null,
      "overflow_y": null,
      "padding": null,
      "right": null,
      "top": null,
      "visibility": null,
      "width": null
     }
    },
    "3de4edb0ad26436590e773ba37c8a249": {
     "model_module": "@jupyter-widgets/controls",
     "model_name": "HBoxModel",
     "state": {
      "_dom_classes": [],
      "_model_module": "@jupyter-widgets/controls",
      "_model_module_version": "1.5.0",
      "_model_name": "HBoxModel",
      "_view_count": null,
      "_view_module": "@jupyter-widgets/controls",
      "_view_module_version": "1.5.0",
      "_view_name": "HBoxView",
      "box_style": "",
      "children": [
       "IPY_MODEL_c67040d3f7714497a205000c452432ec",
       "IPY_MODEL_cac1eaddc6c844968a5b723838a4872b"
      ],
      "layout": "IPY_MODEL_0ee4b21934e6405d94a65b05089411fa"
     }
    },
    "45cc67bfd69a40c295e0c27c038c13d6": {
     "model_module": "@jupyter-widgets/controls",
     "model_name": "FloatProgressModel",
     "state": {
      "_dom_classes": [],
      "_model_module": "@jupyter-widgets/controls",
      "_model_module_version": "1.5.0",
      "_model_name": "FloatProgressModel",
      "_view_count": null,
      "_view_module": "@jupyter-widgets/controls",
      "_view_module_version": "1.5.0",
      "_view_name": "ProgressView",
      "bar_style": "success",
      "description": "",
      "description_tooltip": null,
      "layout": "IPY_MODEL_60f3c24612f24f458633d8ce5588f7ac",
      "max": 1,
      "min": 0,
      "orientation": "horizontal",
      "style": "IPY_MODEL_b1883a5772454317a6ceef6b66939ad7",
      "value": 1
     }
    },
    "48d96fb91c59441b9eab1a4a99681342": {
     "model_module": "@jupyter-widgets/base",
     "model_name": "LayoutModel",
     "state": {
      "_model_module": "@jupyter-widgets/base",
      "_model_module_version": "1.2.0",
      "_model_name": "LayoutModel",
      "_view_count": null,
      "_view_module": "@jupyter-widgets/base",
      "_view_module_version": "1.2.0",
      "_view_name": "LayoutView",
      "align_content": null,
      "align_items": null,
      "align_self": null,
      "border": null,
      "bottom": null,
      "display": null,
      "flex": null,
      "flex_flow": null,
      "grid_area": null,
      "grid_auto_columns": null,
      "grid_auto_flow": null,
      "grid_auto_rows": null,
      "grid_column": null,
      "grid_gap": null,
      "grid_row": null,
      "grid_template_areas": null,
      "grid_template_columns": null,
      "grid_template_rows": null,
      "height": null,
      "justify_content": null,
      "justify_items": null,
      "left": null,
      "margin": null,
      "max_height": null,
      "max_width": null,
      "min_height": null,
      "min_width": null,
      "object_fit": null,
      "object_position": null,
      "order": null,
      "overflow": null,
      "overflow_x": null,
      "overflow_y": null,
      "padding": null,
      "right": null,
      "top": null,
      "visibility": null,
      "width": null
     }
    },
    "48f71d68f4be48f18bea38895f53c1bf": {
     "model_module": "@jupyter-widgets/controls",
     "model_name": "HTMLModel",
     "state": {
      "_dom_classes": [],
      "_model_module": "@jupyter-widgets/controls",
      "_model_module_version": "1.5.0",
      "_model_name": "HTMLModel",
      "_view_count": null,
      "_view_module": "@jupyter-widgets/controls",
      "_view_module_version": "1.5.0",
      "_view_name": "HTMLView",
      "description": "",
      "description_tooltip": null,
      "layout": "IPY_MODEL_8a79716b235c4790a112415ee8cf2ca1",
      "placeholder": "​",
      "style": "IPY_MODEL_8247937c3744483cb82b8b0909580b13",
      "value": " 2339/? [01:27&lt;00:00, 26.63it/s]"
     }
    },
    "4d41222934554704a67e35e4453c7e21": {
     "model_module": "@jupyter-widgets/controls",
     "model_name": "DescriptionStyleModel",
     "state": {
      "_model_module": "@jupyter-widgets/controls",
      "_model_module_version": "1.5.0",
      "_model_name": "DescriptionStyleModel",
      "_view_count": null,
      "_view_module": "@jupyter-widgets/base",
      "_view_module_version": "1.2.0",
      "_view_name": "StyleView",
      "description_width": ""
     }
    },
    "4d8ea51389d94d3e8c3a781227447f76": {
     "model_module": "@jupyter-widgets/base",
     "model_name": "LayoutModel",
     "state": {
      "_model_module": "@jupyter-widgets/base",
      "_model_module_version": "1.2.0",
      "_model_name": "LayoutModel",
      "_view_count": null,
      "_view_module": "@jupyter-widgets/base",
      "_view_module_version": "1.2.0",
      "_view_name": "LayoutView",
      "align_content": null,
      "align_items": null,
      "align_self": null,
      "border": null,
      "bottom": null,
      "display": null,
      "flex": null,
      "flex_flow": null,
      "grid_area": null,
      "grid_auto_columns": null,
      "grid_auto_flow": null,
      "grid_auto_rows": null,
      "grid_column": null,
      "grid_gap": null,
      "grid_row": null,
      "grid_template_areas": null,
      "grid_template_columns": null,
      "grid_template_rows": null,
      "height": null,
      "justify_content": null,
      "justify_items": null,
      "left": null,
      "margin": null,
      "max_height": null,
      "max_width": null,
      "min_height": null,
      "min_width": null,
      "object_fit": null,
      "object_position": null,
      "order": null,
      "overflow": null,
      "overflow_x": null,
      "overflow_y": null,
      "padding": null,
      "right": null,
      "top": null,
      "visibility": null,
      "width": null
     }
    },
    "508c987f640247a592077658f4c4f012": {
     "model_module": "@jupyter-widgets/base",
     "model_name": "LayoutModel",
     "state": {
      "_model_module": "@jupyter-widgets/base",
      "_model_module_version": "1.2.0",
      "_model_name": "LayoutModel",
      "_view_count": null,
      "_view_module": "@jupyter-widgets/base",
      "_view_module_version": "1.2.0",
      "_view_name": "LayoutView",
      "align_content": null,
      "align_items": null,
      "align_self": null,
      "border": null,
      "bottom": null,
      "display": null,
      "flex": null,
      "flex_flow": null,
      "grid_area": null,
      "grid_auto_columns": null,
      "grid_auto_flow": null,
      "grid_auto_rows": null,
      "grid_column": null,
      "grid_gap": null,
      "grid_row": null,
      "grid_template_areas": null,
      "grid_template_columns": null,
      "grid_template_rows": null,
      "height": null,
      "justify_content": null,
      "justify_items": null,
      "left": null,
      "margin": null,
      "max_height": null,
      "max_width": null,
      "min_height": null,
      "min_width": null,
      "object_fit": null,
      "object_position": null,
      "order": null,
      "overflow": null,
      "overflow_x": null,
      "overflow_y": null,
      "padding": null,
      "right": null,
      "top": null,
      "visibility": null,
      "width": null
     }
    },
    "53e2439955c0458e928bb628231f13c4": {
     "model_module": "@jupyter-widgets/base",
     "model_name": "LayoutModel",
     "state": {
      "_model_module": "@jupyter-widgets/base",
      "_model_module_version": "1.2.0",
      "_model_name": "LayoutModel",
      "_view_count": null,
      "_view_module": "@jupyter-widgets/base",
      "_view_module_version": "1.2.0",
      "_view_name": "LayoutView",
      "align_content": null,
      "align_items": null,
      "align_self": null,
      "border": null,
      "bottom": null,
      "display": null,
      "flex": null,
      "flex_flow": null,
      "grid_area": null,
      "grid_auto_columns": null,
      "grid_auto_flow": null,
      "grid_auto_rows": null,
      "grid_column": null,
      "grid_gap": null,
      "grid_row": null,
      "grid_template_areas": null,
      "grid_template_columns": null,
      "grid_template_rows": null,
      "height": null,
      "justify_content": null,
      "justify_items": null,
      "left": null,
      "margin": null,
      "max_height": null,
      "max_width": null,
      "min_height": null,
      "min_width": null,
      "object_fit": null,
      "object_position": null,
      "order": null,
      "overflow": null,
      "overflow_x": null,
      "overflow_y": null,
      "padding": null,
      "right": null,
      "top": null,
      "visibility": null,
      "width": null
     }
    },
    "57e39b34d0b043b699091ef5d37976d6": {
     "model_module": "@jupyter-widgets/controls",
     "model_name": "ProgressStyleModel",
     "state": {
      "_model_module": "@jupyter-widgets/controls",
      "_model_module_version": "1.5.0",
      "_model_name": "ProgressStyleModel",
      "_view_count": null,
      "_view_module": "@jupyter-widgets/base",
      "_view_module_version": "1.2.0",
      "_view_name": "StyleView",
      "bar_color": null,
      "description_width": "initial"
     }
    },
    "580ec9254a1a444f845ef56a2a5a790d": {
     "model_module": "@jupyter-widgets/controls",
     "model_name": "HTMLModel",
     "state": {
      "_dom_classes": [],
      "_model_module": "@jupyter-widgets/controls",
      "_model_module_version": "1.5.0",
      "_model_name": "HTMLModel",
      "_view_count": null,
      "_view_module": "@jupyter-widgets/controls",
      "_view_module_version": "1.5.0",
      "_view_name": "HTMLView",
      "description": "",
      "description_tooltip": null,
      "layout": "IPY_MODEL_ae0ef47a265d46869aeea670142d8c32",
      "placeholder": "​",
      "style": "IPY_MODEL_4d41222934554704a67e35e4453c7e21",
      "value": " 2339/? [08:42&lt;00:00,  4.48it/s]"
     }
    },
    "5848d9706e354d9fae6f574920bd0681": {
     "model_module": "@jupyter-widgets/controls",
     "model_name": "FloatProgressModel",
     "state": {
      "_dom_classes": [],
      "_model_module": "@jupyter-widgets/controls",
      "_model_module_version": "1.5.0",
      "_model_name": "FloatProgressModel",
      "_view_count": null,
      "_view_module": "@jupyter-widgets/controls",
      "_view_module_version": "1.5.0",
      "_view_name": "ProgressView",
      "bar_style": "success",
      "description": "",
      "description_tooltip": null,
      "layout": "IPY_MODEL_c625c1313699478ea81e9d8ae2890f03",
      "max": 1,
      "min": 0,
      "orientation": "horizontal",
      "style": "IPY_MODEL_008fea64b4cc4817a34e56ca3fe1b92e",
      "value": 1
     }
    },
    "5fdfcbf127b44d6284db6aa279f04feb": {
     "model_module": "@jupyter-widgets/controls",
     "model_name": "ProgressStyleModel",
     "state": {
      "_model_module": "@jupyter-widgets/controls",
      "_model_module_version": "1.5.0",
      "_model_name": "ProgressStyleModel",
      "_view_count": null,
      "_view_module": "@jupyter-widgets/base",
      "_view_module_version": "1.2.0",
      "_view_name": "StyleView",
      "bar_color": null,
      "description_width": "initial"
     }
    },
    "60f3c24612f24f458633d8ce5588f7ac": {
     "model_module": "@jupyter-widgets/base",
     "model_name": "LayoutModel",
     "state": {
      "_model_module": "@jupyter-widgets/base",
      "_model_module_version": "1.2.0",
      "_model_name": "LayoutModel",
      "_view_count": null,
      "_view_module": "@jupyter-widgets/base",
      "_view_module_version": "1.2.0",
      "_view_name": "LayoutView",
      "align_content": null,
      "align_items": null,
      "align_self": null,
      "border": null,
      "bottom": null,
      "display": null,
      "flex": null,
      "flex_flow": null,
      "grid_area": null,
      "grid_auto_columns": null,
      "grid_auto_flow": null,
      "grid_auto_rows": null,
      "grid_column": null,
      "grid_gap": null,
      "grid_row": null,
      "grid_template_areas": null,
      "grid_template_columns": null,
      "grid_template_rows": null,
      "height": null,
      "justify_content": null,
      "justify_items": null,
      "left": null,
      "margin": null,
      "max_height": null,
      "max_width": null,
      "min_height": null,
      "min_width": null,
      "object_fit": null,
      "object_position": null,
      "order": null,
      "overflow": null,
      "overflow_x": null,
      "overflow_y": null,
      "padding": null,
      "right": null,
      "top": null,
      "visibility": null,
      "width": null
     }
    },
    "60fc2111b3d24f6792c5ba4e7f07d71a": {
     "model_module": "@jupyter-widgets/controls",
     "model_name": "FloatProgressModel",
     "state": {
      "_dom_classes": [],
      "_model_module": "@jupyter-widgets/controls",
      "_model_module_version": "1.5.0",
      "_model_name": "FloatProgressModel",
      "_view_count": null,
      "_view_module": "@jupyter-widgets/controls",
      "_view_module_version": "1.5.0",
      "_view_name": "ProgressView",
      "bar_style": "success",
      "description": "",
      "description_tooltip": null,
      "layout": "IPY_MODEL_10fcc31496e841d6bcef62abeba6134e",
      "max": 1,
      "min": 0,
      "orientation": "horizontal",
      "style": "IPY_MODEL_e5cd7ac1e8de462590d9bc50e9dda8be",
      "value": 1
     }
    },
    "624e1632b34c41ae8a47d76485bb5639": {
     "model_module": "@jupyter-widgets/controls",
     "model_name": "HTMLModel",
     "state": {
      "_dom_classes": [],
      "_model_module": "@jupyter-widgets/controls",
      "_model_module_version": "1.5.0",
      "_model_name": "HTMLModel",
      "_view_count": null,
      "_view_module": "@jupyter-widgets/controls",
      "_view_module_version": "1.5.0",
      "_view_name": "HTMLView",
      "description": "",
      "description_tooltip": null,
      "layout": "IPY_MODEL_751b247c29fc480bb8dd98830002c4bd",
      "placeholder": "​",
      "style": "IPY_MODEL_0b4b5c52a7c948099f66ba50a2cf0cc3",
      "value": " 2339/? [01:25&lt;00:00, 27.33it/s]"
     }
    },
    "660e12dcec9c47c595fda1fe9e50b014": {
     "model_module": "@jupyter-widgets/controls",
     "model_name": "HTMLModel",
     "state": {
      "_dom_classes": [],
      "_model_module": "@jupyter-widgets/controls",
      "_model_module_version": "1.5.0",
      "_model_name": "HTMLModel",
      "_view_count": null,
      "_view_module": "@jupyter-widgets/controls",
      "_view_module_version": "1.5.0",
      "_view_name": "HTMLView",
      "description": "",
      "description_tooltip": null,
      "layout": "IPY_MODEL_c8f453a734344b29a932f9b728adee36",
      "placeholder": "​",
      "style": "IPY_MODEL_256a1fe87a4846ae8e4aa74ebafea064",
      "value": " 2339/? [02:52&lt;00:00, 13.52it/s]"
     }
    },
    "68dc27fc16d94ab8b94f851e22315b27": {
     "model_module": "@jupyter-widgets/controls",
     "model_name": "HBoxModel",
     "state": {
      "_dom_classes": [],
      "_model_module": "@jupyter-widgets/controls",
      "_model_module_version": "1.5.0",
      "_model_name": "HBoxModel",
      "_view_count": null,
      "_view_module": "@jupyter-widgets/controls",
      "_view_module_version": "1.5.0",
      "_view_name": "HBoxView",
      "box_style": "",
      "children": [
       "IPY_MODEL_2be9acccf04947cfb3777bdf923d7bc9",
       "IPY_MODEL_e793c4727ffc41f9acdee6b356ec5b7b"
      ],
      "layout": "IPY_MODEL_f286cef0d7c4473687340ec7d5871833"
     }
    },
    "6aa17f058d504801b1be2d7d850323b3": {
     "model_module": "@jupyter-widgets/controls",
     "model_name": "ProgressStyleModel",
     "state": {
      "_model_module": "@jupyter-widgets/controls",
      "_model_module_version": "1.5.0",
      "_model_name": "ProgressStyleModel",
      "_view_count": null,
      "_view_module": "@jupyter-widgets/base",
      "_view_module_version": "1.2.0",
      "_view_name": "StyleView",
      "bar_color": null,
      "description_width": "initial"
     }
    },
    "6c00de81b03e433b9b569e2d7224281a": {
     "model_module": "@jupyter-widgets/controls",
     "model_name": "FloatProgressModel",
     "state": {
      "_dom_classes": [],
      "_model_module": "@jupyter-widgets/controls",
      "_model_module_version": "1.5.0",
      "_model_name": "FloatProgressModel",
      "_view_count": null,
      "_view_module": "@jupyter-widgets/controls",
      "_view_module_version": "1.5.0",
      "_view_name": "ProgressView",
      "bar_style": "success",
      "description": "",
      "description_tooltip": null,
      "layout": "IPY_MODEL_53e2439955c0458e928bb628231f13c4",
      "max": 1,
      "min": 0,
      "orientation": "horizontal",
      "style": "IPY_MODEL_d0e9f885f4dc40978acb1588c649e13f",
      "value": 1
     }
    },
    "72745dfb701f4de38645571c1606a910": {
     "model_module": "@jupyter-widgets/controls",
     "model_name": "HTMLModel",
     "state": {
      "_dom_classes": [],
      "_model_module": "@jupyter-widgets/controls",
      "_model_module_version": "1.5.0",
      "_model_name": "HTMLModel",
      "_view_count": null,
      "_view_module": "@jupyter-widgets/controls",
      "_view_module_version": "1.5.0",
      "_view_name": "HTMLView",
      "description": "",
      "description_tooltip": null,
      "layout": "IPY_MODEL_95c723c6b2854fdd90d221c109369b11",
      "placeholder": "​",
      "style": "IPY_MODEL_7f00c9594b1f45c2b8efb240976e752c",
      "value": " 2339/? [02:55&lt;00:00, 13.34it/s]"
     }
    },
    "73ded35003ee4dceaac01e7f99aff91a": {
     "model_module": "@jupyter-widgets/controls",
     "model_name": "HBoxModel",
     "state": {
      "_dom_classes": [],
      "_model_module": "@jupyter-widgets/controls",
      "_model_module_version": "1.5.0",
      "_model_name": "HBoxModel",
      "_view_count": null,
      "_view_module": "@jupyter-widgets/controls",
      "_view_module_version": "1.5.0",
      "_view_name": "HBoxView",
      "box_style": "",
      "children": [
       "IPY_MODEL_c950b1c401a641df8fcd1b1c01fc1008",
       "IPY_MODEL_624e1632b34c41ae8a47d76485bb5639"
      ],
      "layout": "IPY_MODEL_7f1b1cac4fc54efca149e2e3f256d6e7"
     }
    },
    "7474ac4afeab4651a47ed380b39dba18": {
     "model_module": "@jupyter-widgets/base",
     "model_name": "LayoutModel",
     "state": {
      "_model_module": "@jupyter-widgets/base",
      "_model_module_version": "1.2.0",
      "_model_name": "LayoutModel",
      "_view_count": null,
      "_view_module": "@jupyter-widgets/base",
      "_view_module_version": "1.2.0",
      "_view_name": "LayoutView",
      "align_content": null,
      "align_items": null,
      "align_self": null,
      "border": null,
      "bottom": null,
      "display": null,
      "flex": null,
      "flex_flow": null,
      "grid_area": null,
      "grid_auto_columns": null,
      "grid_auto_flow": null,
      "grid_auto_rows": null,
      "grid_column": null,
      "grid_gap": null,
      "grid_row": null,
      "grid_template_areas": null,
      "grid_template_columns": null,
      "grid_template_rows": null,
      "height": null,
      "justify_content": null,
      "justify_items": null,
      "left": null,
      "margin": null,
      "max_height": null,
      "max_width": null,
      "min_height": null,
      "min_width": null,
      "object_fit": null,
      "object_position": null,
      "order": null,
      "overflow": null,
      "overflow_x": null,
      "overflow_y": null,
      "padding": null,
      "right": null,
      "top": null,
      "visibility": null,
      "width": null
     }
    },
    "74975f214f3d4c4a92c77ba2857a883a": {
     "model_module": "@jupyter-widgets/base",
     "model_name": "LayoutModel",
     "state": {
      "_model_module": "@jupyter-widgets/base",
      "_model_module_version": "1.2.0",
      "_model_name": "LayoutModel",
      "_view_count": null,
      "_view_module": "@jupyter-widgets/base",
      "_view_module_version": "1.2.0",
      "_view_name": "LayoutView",
      "align_content": null,
      "align_items": null,
      "align_self": null,
      "border": null,
      "bottom": null,
      "display": null,
      "flex": null,
      "flex_flow": null,
      "grid_area": null,
      "grid_auto_columns": null,
      "grid_auto_flow": null,
      "grid_auto_rows": null,
      "grid_column": null,
      "grid_gap": null,
      "grid_row": null,
      "grid_template_areas": null,
      "grid_template_columns": null,
      "grid_template_rows": null,
      "height": null,
      "justify_content": null,
      "justify_items": null,
      "left": null,
      "margin": null,
      "max_height": null,
      "max_width": null,
      "min_height": null,
      "min_width": null,
      "object_fit": null,
      "object_position": null,
      "order": null,
      "overflow": null,
      "overflow_x": null,
      "overflow_y": null,
      "padding": null,
      "right": null,
      "top": null,
      "visibility": null,
      "width": null
     }
    },
    "751b247c29fc480bb8dd98830002c4bd": {
     "model_module": "@jupyter-widgets/base",
     "model_name": "LayoutModel",
     "state": {
      "_model_module": "@jupyter-widgets/base",
      "_model_module_version": "1.2.0",
      "_model_name": "LayoutModel",
      "_view_count": null,
      "_view_module": "@jupyter-widgets/base",
      "_view_module_version": "1.2.0",
      "_view_name": "LayoutView",
      "align_content": null,
      "align_items": null,
      "align_self": null,
      "border": null,
      "bottom": null,
      "display": null,
      "flex": null,
      "flex_flow": null,
      "grid_area": null,
      "grid_auto_columns": null,
      "grid_auto_flow": null,
      "grid_auto_rows": null,
      "grid_column": null,
      "grid_gap": null,
      "grid_row": null,
      "grid_template_areas": null,
      "grid_template_columns": null,
      "grid_template_rows": null,
      "height": null,
      "justify_content": null,
      "justify_items": null,
      "left": null,
      "margin": null,
      "max_height": null,
      "max_width": null,
      "min_height": null,
      "min_width": null,
      "object_fit": null,
      "object_position": null,
      "order": null,
      "overflow": null,
      "overflow_x": null,
      "overflow_y": null,
      "padding": null,
      "right": null,
      "top": null,
      "visibility": null,
      "width": null
     }
    },
    "7b2affe793054d61aae8e2ad5d28cec7": {
     "model_module": "@jupyter-widgets/controls",
     "model_name": "HBoxModel",
     "state": {
      "_dom_classes": [],
      "_model_module": "@jupyter-widgets/controls",
      "_model_module_version": "1.5.0",
      "_model_name": "HBoxModel",
      "_view_count": null,
      "_view_module": "@jupyter-widgets/controls",
      "_view_module_version": "1.5.0",
      "_view_name": "HBoxView",
      "box_style": "",
      "children": [
       "IPY_MODEL_60fc2111b3d24f6792c5ba4e7f07d71a",
       "IPY_MODEL_e121fc6a7fe2478d929befdd3c5ff6ad"
      ],
      "layout": "IPY_MODEL_e9f7620085f14fb8b78dc443c51a3497"
     }
    },
    "7f00c9594b1f45c2b8efb240976e752c": {
     "model_module": "@jupyter-widgets/controls",
     "model_name": "DescriptionStyleModel",
     "state": {
      "_model_module": "@jupyter-widgets/controls",
      "_model_module_version": "1.5.0",
      "_model_name": "DescriptionStyleModel",
      "_view_count": null,
      "_view_module": "@jupyter-widgets/base",
      "_view_module_version": "1.2.0",
      "_view_name": "StyleView",
      "description_width": ""
     }
    },
    "7f1b1cac4fc54efca149e2e3f256d6e7": {
     "model_module": "@jupyter-widgets/base",
     "model_name": "LayoutModel",
     "state": {
      "_model_module": "@jupyter-widgets/base",
      "_model_module_version": "1.2.0",
      "_model_name": "LayoutModel",
      "_view_count": null,
      "_view_module": "@jupyter-widgets/base",
      "_view_module_version": "1.2.0",
      "_view_name": "LayoutView",
      "align_content": null,
      "align_items": null,
      "align_self": null,
      "border": null,
      "bottom": null,
      "display": null,
      "flex": null,
      "flex_flow": null,
      "grid_area": null,
      "grid_auto_columns": null,
      "grid_auto_flow": null,
      "grid_auto_rows": null,
      "grid_column": null,
      "grid_gap": null,
      "grid_row": null,
      "grid_template_areas": null,
      "grid_template_columns": null,
      "grid_template_rows": null,
      "height": null,
      "justify_content": null,
      "justify_items": null,
      "left": null,
      "margin": null,
      "max_height": null,
      "max_width": null,
      "min_height": null,
      "min_width": null,
      "object_fit": null,
      "object_position": null,
      "order": null,
      "overflow": null,
      "overflow_x": null,
      "overflow_y": null,
      "padding": null,
      "right": null,
      "top": null,
      "visibility": null,
      "width": null
     }
    },
    "8247937c3744483cb82b8b0909580b13": {
     "model_module": "@jupyter-widgets/controls",
     "model_name": "DescriptionStyleModel",
     "state": {
      "_model_module": "@jupyter-widgets/controls",
      "_model_module_version": "1.5.0",
      "_model_name": "DescriptionStyleModel",
      "_view_count": null,
      "_view_module": "@jupyter-widgets/base",
      "_view_module_version": "1.2.0",
      "_view_name": "StyleView",
      "description_width": ""
     }
    },
    "83977b2dc35946af99ad4adf1ce4fa3f": {
     "model_module": "@jupyter-widgets/controls",
     "model_name": "HBoxModel",
     "state": {
      "_dom_classes": [],
      "_model_module": "@jupyter-widgets/controls",
      "_model_module_version": "1.5.0",
      "_model_name": "HBoxModel",
      "_view_count": null,
      "_view_module": "@jupyter-widgets/controls",
      "_view_module_version": "1.5.0",
      "_view_name": "HBoxView",
      "box_style": "",
      "children": [
       "IPY_MODEL_45cc67bfd69a40c295e0c27c038c13d6",
       "IPY_MODEL_15341fdf0bb6467387cd674a3052471d"
      ],
      "layout": "IPY_MODEL_03f7384fc2e749abab8b4209129d6995"
     }
    },
    "8633c6e94c1e4a87a9050ddc6eacce01": {
     "model_module": "@jupyter-widgets/controls",
     "model_name": "ProgressStyleModel",
     "state": {
      "_model_module": "@jupyter-widgets/controls",
      "_model_module_version": "1.5.0",
      "_model_name": "ProgressStyleModel",
      "_view_count": null,
      "_view_module": "@jupyter-widgets/base",
      "_view_module_version": "1.2.0",
      "_view_name": "StyleView",
      "bar_color": null,
      "description_width": "initial"
     }
    },
    "8a79716b235c4790a112415ee8cf2ca1": {
     "model_module": "@jupyter-widgets/base",
     "model_name": "LayoutModel",
     "state": {
      "_model_module": "@jupyter-widgets/base",
      "_model_module_version": "1.2.0",
      "_model_name": "LayoutModel",
      "_view_count": null,
      "_view_module": "@jupyter-widgets/base",
      "_view_module_version": "1.2.0",
      "_view_name": "LayoutView",
      "align_content": null,
      "align_items": null,
      "align_self": null,
      "border": null,
      "bottom": null,
      "display": null,
      "flex": null,
      "flex_flow": null,
      "grid_area": null,
      "grid_auto_columns": null,
      "grid_auto_flow": null,
      "grid_auto_rows": null,
      "grid_column": null,
      "grid_gap": null,
      "grid_row": null,
      "grid_template_areas": null,
      "grid_template_columns": null,
      "grid_template_rows": null,
      "height": null,
      "justify_content": null,
      "justify_items": null,
      "left": null,
      "margin": null,
      "max_height": null,
      "max_width": null,
      "min_height": null,
      "min_width": null,
      "object_fit": null,
      "object_position": null,
      "order": null,
      "overflow": null,
      "overflow_x": null,
      "overflow_y": null,
      "padding": null,
      "right": null,
      "top": null,
      "visibility": null,
      "width": null
     }
    },
    "8d240f8f6d9042ef97c194a50b4d5733": {
     "model_module": "@jupyter-widgets/base",
     "model_name": "LayoutModel",
     "state": {
      "_model_module": "@jupyter-widgets/base",
      "_model_module_version": "1.2.0",
      "_model_name": "LayoutModel",
      "_view_count": null,
      "_view_module": "@jupyter-widgets/base",
      "_view_module_version": "1.2.0",
      "_view_name": "LayoutView",
      "align_content": null,
      "align_items": null,
      "align_self": null,
      "border": null,
      "bottom": null,
      "display": null,
      "flex": null,
      "flex_flow": null,
      "grid_area": null,
      "grid_auto_columns": null,
      "grid_auto_flow": null,
      "grid_auto_rows": null,
      "grid_column": null,
      "grid_gap": null,
      "grid_row": null,
      "grid_template_areas": null,
      "grid_template_columns": null,
      "grid_template_rows": null,
      "height": null,
      "justify_content": null,
      "justify_items": null,
      "left": null,
      "margin": null,
      "max_height": null,
      "max_width": null,
      "min_height": null,
      "min_width": null,
      "object_fit": null,
      "object_position": null,
      "order": null,
      "overflow": null,
      "overflow_x": null,
      "overflow_y": null,
      "padding": null,
      "right": null,
      "top": null,
      "visibility": null,
      "width": null
     }
    },
    "8fec33415aee4e90b42aff0dd64df024": {
     "model_module": "@jupyter-widgets/base",
     "model_name": "LayoutModel",
     "state": {
      "_model_module": "@jupyter-widgets/base",
      "_model_module_version": "1.2.0",
      "_model_name": "LayoutModel",
      "_view_count": null,
      "_view_module": "@jupyter-widgets/base",
      "_view_module_version": "1.2.0",
      "_view_name": "LayoutView",
      "align_content": null,
      "align_items": null,
      "align_self": null,
      "border": null,
      "bottom": null,
      "display": null,
      "flex": null,
      "flex_flow": null,
      "grid_area": null,
      "grid_auto_columns": null,
      "grid_auto_flow": null,
      "grid_auto_rows": null,
      "grid_column": null,
      "grid_gap": null,
      "grid_row": null,
      "grid_template_areas": null,
      "grid_template_columns": null,
      "grid_template_rows": null,
      "height": null,
      "justify_content": null,
      "justify_items": null,
      "left": null,
      "margin": null,
      "max_height": null,
      "max_width": null,
      "min_height": null,
      "min_width": null,
      "object_fit": null,
      "object_position": null,
      "order": null,
      "overflow": null,
      "overflow_x": null,
      "overflow_y": null,
      "padding": null,
      "right": null,
      "top": null,
      "visibility": null,
      "width": null
     }
    },
    "95c723c6b2854fdd90d221c109369b11": {
     "model_module": "@jupyter-widgets/base",
     "model_name": "LayoutModel",
     "state": {
      "_model_module": "@jupyter-widgets/base",
      "_model_module_version": "1.2.0",
      "_model_name": "LayoutModel",
      "_view_count": null,
      "_view_module": "@jupyter-widgets/base",
      "_view_module_version": "1.2.0",
      "_view_name": "LayoutView",
      "align_content": null,
      "align_items": null,
      "align_self": null,
      "border": null,
      "bottom": null,
      "display": null,
      "flex": null,
      "flex_flow": null,
      "grid_area": null,
      "grid_auto_columns": null,
      "grid_auto_flow": null,
      "grid_auto_rows": null,
      "grid_column": null,
      "grid_gap": null,
      "grid_row": null,
      "grid_template_areas": null,
      "grid_template_columns": null,
      "grid_template_rows": null,
      "height": null,
      "justify_content": null,
      "justify_items": null,
      "left": null,
      "margin": null,
      "max_height": null,
      "max_width": null,
      "min_height": null,
      "min_width": null,
      "object_fit": null,
      "object_position": null,
      "order": null,
      "overflow": null,
      "overflow_x": null,
      "overflow_y": null,
      "padding": null,
      "right": null,
      "top": null,
      "visibility": null,
      "width": null
     }
    },
    "a46921a3e88247a5a952163bb23899be": {
     "model_module": "@jupyter-widgets/controls",
     "model_name": "HBoxModel",
     "state": {
      "_dom_classes": [],
      "_model_module": "@jupyter-widgets/controls",
      "_model_module_version": "1.5.0",
      "_model_name": "HBoxModel",
      "_view_count": null,
      "_view_module": "@jupyter-widgets/controls",
      "_view_module_version": "1.5.0",
      "_view_name": "HBoxView",
      "box_style": "",
      "children": [
       "IPY_MODEL_06588c9a0b09437496ee5f78bafa0fe9",
       "IPY_MODEL_48f71d68f4be48f18bea38895f53c1bf"
      ],
      "layout": "IPY_MODEL_8d240f8f6d9042ef97c194a50b4d5733"
     }
    },
    "a6c465aab0f84bf6a7032f1646e9f1ae": {
     "model_module": "@jupyter-widgets/controls",
     "model_name": "ProgressStyleModel",
     "state": {
      "_model_module": "@jupyter-widgets/controls",
      "_model_module_version": "1.5.0",
      "_model_name": "ProgressStyleModel",
      "_view_count": null,
      "_view_module": "@jupyter-widgets/base",
      "_view_module_version": "1.2.0",
      "_view_name": "StyleView",
      "bar_color": null,
      "description_width": "initial"
     }
    },
    "a85c5377c3eb4cd799765cfdae653811": {
     "model_module": "@jupyter-widgets/base",
     "model_name": "LayoutModel",
     "state": {
      "_model_module": "@jupyter-widgets/base",
      "_model_module_version": "1.2.0",
      "_model_name": "LayoutModel",
      "_view_count": null,
      "_view_module": "@jupyter-widgets/base",
      "_view_module_version": "1.2.0",
      "_view_name": "LayoutView",
      "align_content": null,
      "align_items": null,
      "align_self": null,
      "border": null,
      "bottom": null,
      "display": null,
      "flex": null,
      "flex_flow": null,
      "grid_area": null,
      "grid_auto_columns": null,
      "grid_auto_flow": null,
      "grid_auto_rows": null,
      "grid_column": null,
      "grid_gap": null,
      "grid_row": null,
      "grid_template_areas": null,
      "grid_template_columns": null,
      "grid_template_rows": null,
      "height": null,
      "justify_content": null,
      "justify_items": null,
      "left": null,
      "margin": null,
      "max_height": null,
      "max_width": null,
      "min_height": null,
      "min_width": null,
      "object_fit": null,
      "object_position": null,
      "order": null,
      "overflow": null,
      "overflow_x": null,
      "overflow_y": null,
      "padding": null,
      "right": null,
      "top": null,
      "visibility": null,
      "width": null
     }
    },
    "ae0ef47a265d46869aeea670142d8c32": {
     "model_module": "@jupyter-widgets/base",
     "model_name": "LayoutModel",
     "state": {
      "_model_module": "@jupyter-widgets/base",
      "_model_module_version": "1.2.0",
      "_model_name": "LayoutModel",
      "_view_count": null,
      "_view_module": "@jupyter-widgets/base",
      "_view_module_version": "1.2.0",
      "_view_name": "LayoutView",
      "align_content": null,
      "align_items": null,
      "align_self": null,
      "border": null,
      "bottom": null,
      "display": null,
      "flex": null,
      "flex_flow": null,
      "grid_area": null,
      "grid_auto_columns": null,
      "grid_auto_flow": null,
      "grid_auto_rows": null,
      "grid_column": null,
      "grid_gap": null,
      "grid_row": null,
      "grid_template_areas": null,
      "grid_template_columns": null,
      "grid_template_rows": null,
      "height": null,
      "justify_content": null,
      "justify_items": null,
      "left": null,
      "margin": null,
      "max_height": null,
      "max_width": null,
      "min_height": null,
      "min_width": null,
      "object_fit": null,
      "object_position": null,
      "order": null,
      "overflow": null,
      "overflow_x": null,
      "overflow_y": null,
      "padding": null,
      "right": null,
      "top": null,
      "visibility": null,
      "width": null
     }
    },
    "b1883a5772454317a6ceef6b66939ad7": {
     "model_module": "@jupyter-widgets/controls",
     "model_name": "ProgressStyleModel",
     "state": {
      "_model_module": "@jupyter-widgets/controls",
      "_model_module_version": "1.5.0",
      "_model_name": "ProgressStyleModel",
      "_view_count": null,
      "_view_module": "@jupyter-widgets/base",
      "_view_module_version": "1.2.0",
      "_view_name": "StyleView",
      "bar_color": null,
      "description_width": "initial"
     }
    },
    "b1b2fd37a1e94d16beec353b8d2947cc": {
     "model_module": "@jupyter-widgets/base",
     "model_name": "LayoutModel",
     "state": {
      "_model_module": "@jupyter-widgets/base",
      "_model_module_version": "1.2.0",
      "_model_name": "LayoutModel",
      "_view_count": null,
      "_view_module": "@jupyter-widgets/base",
      "_view_module_version": "1.2.0",
      "_view_name": "LayoutView",
      "align_content": null,
      "align_items": null,
      "align_self": null,
      "border": null,
      "bottom": null,
      "display": null,
      "flex": null,
      "flex_flow": null,
      "grid_area": null,
      "grid_auto_columns": null,
      "grid_auto_flow": null,
      "grid_auto_rows": null,
      "grid_column": null,
      "grid_gap": null,
      "grid_row": null,
      "grid_template_areas": null,
      "grid_template_columns": null,
      "grid_template_rows": null,
      "height": null,
      "justify_content": null,
      "justify_items": null,
      "left": null,
      "margin": null,
      "max_height": null,
      "max_width": null,
      "min_height": null,
      "min_width": null,
      "object_fit": null,
      "object_position": null,
      "order": null,
      "overflow": null,
      "overflow_x": null,
      "overflow_y": null,
      "padding": null,
      "right": null,
      "top": null,
      "visibility": null,
      "width": null
     }
    },
    "b7c53e9fadcf4b95b982012b77a64376": {
     "model_module": "@jupyter-widgets/base",
     "model_name": "LayoutModel",
     "state": {
      "_model_module": "@jupyter-widgets/base",
      "_model_module_version": "1.2.0",
      "_model_name": "LayoutModel",
      "_view_count": null,
      "_view_module": "@jupyter-widgets/base",
      "_view_module_version": "1.2.0",
      "_view_name": "LayoutView",
      "align_content": null,
      "align_items": null,
      "align_self": null,
      "border": null,
      "bottom": null,
      "display": null,
      "flex": null,
      "flex_flow": null,
      "grid_area": null,
      "grid_auto_columns": null,
      "grid_auto_flow": null,
      "grid_auto_rows": null,
      "grid_column": null,
      "grid_gap": null,
      "grid_row": null,
      "grid_template_areas": null,
      "grid_template_columns": null,
      "grid_template_rows": null,
      "height": null,
      "justify_content": null,
      "justify_items": null,
      "left": null,
      "margin": null,
      "max_height": null,
      "max_width": null,
      "min_height": null,
      "min_width": null,
      "object_fit": null,
      "object_position": null,
      "order": null,
      "overflow": null,
      "overflow_x": null,
      "overflow_y": null,
      "padding": null,
      "right": null,
      "top": null,
      "visibility": null,
      "width": null
     }
    },
    "c0a3b4b7060a4c87b53b51dfb04d07f3": {
     "model_module": "@jupyter-widgets/base",
     "model_name": "LayoutModel",
     "state": {
      "_model_module": "@jupyter-widgets/base",
      "_model_module_version": "1.2.0",
      "_model_name": "LayoutModel",
      "_view_count": null,
      "_view_module": "@jupyter-widgets/base",
      "_view_module_version": "1.2.0",
      "_view_name": "LayoutView",
      "align_content": null,
      "align_items": null,
      "align_self": null,
      "border": null,
      "bottom": null,
      "display": null,
      "flex": null,
      "flex_flow": null,
      "grid_area": null,
      "grid_auto_columns": null,
      "grid_auto_flow": null,
      "grid_auto_rows": null,
      "grid_column": null,
      "grid_gap": null,
      "grid_row": null,
      "grid_template_areas": null,
      "grid_template_columns": null,
      "grid_template_rows": null,
      "height": null,
      "justify_content": null,
      "justify_items": null,
      "left": null,
      "margin": null,
      "max_height": null,
      "max_width": null,
      "min_height": null,
      "min_width": null,
      "object_fit": null,
      "object_position": null,
      "order": null,
      "overflow": null,
      "overflow_x": null,
      "overflow_y": null,
      "padding": null,
      "right": null,
      "top": null,
      "visibility": null,
      "width": null
     }
    },
    "c1265fde8c2f4c9595b6da7e3ff9ba8c": {
     "model_module": "@jupyter-widgets/controls",
     "model_name": "DescriptionStyleModel",
     "state": {
      "_model_module": "@jupyter-widgets/controls",
      "_model_module_version": "1.5.0",
      "_model_name": "DescriptionStyleModel",
      "_view_count": null,
      "_view_module": "@jupyter-widgets/base",
      "_view_module_version": "1.2.0",
      "_view_name": "StyleView",
      "description_width": ""
     }
    },
    "c625c1313699478ea81e9d8ae2890f03": {
     "model_module": "@jupyter-widgets/base",
     "model_name": "LayoutModel",
     "state": {
      "_model_module": "@jupyter-widgets/base",
      "_model_module_version": "1.2.0",
      "_model_name": "LayoutModel",
      "_view_count": null,
      "_view_module": "@jupyter-widgets/base",
      "_view_module_version": "1.2.0",
      "_view_name": "LayoutView",
      "align_content": null,
      "align_items": null,
      "align_self": null,
      "border": null,
      "bottom": null,
      "display": null,
      "flex": null,
      "flex_flow": null,
      "grid_area": null,
      "grid_auto_columns": null,
      "grid_auto_flow": null,
      "grid_auto_rows": null,
      "grid_column": null,
      "grid_gap": null,
      "grid_row": null,
      "grid_template_areas": null,
      "grid_template_columns": null,
      "grid_template_rows": null,
      "height": null,
      "justify_content": null,
      "justify_items": null,
      "left": null,
      "margin": null,
      "max_height": null,
      "max_width": null,
      "min_height": null,
      "min_width": null,
      "object_fit": null,
      "object_position": null,
      "order": null,
      "overflow": null,
      "overflow_x": null,
      "overflow_y": null,
      "padding": null,
      "right": null,
      "top": null,
      "visibility": null,
      "width": null
     }
    },
    "c658e7c9af57416cbf512b5daed3a386": {
     "model_module": "@jupyter-widgets/controls",
     "model_name": "ProgressStyleModel",
     "state": {
      "_model_module": "@jupyter-widgets/controls",
      "_model_module_version": "1.5.0",
      "_model_name": "ProgressStyleModel",
      "_view_count": null,
      "_view_module": "@jupyter-widgets/base",
      "_view_module_version": "1.2.0",
      "_view_name": "StyleView",
      "bar_color": null,
      "description_width": "initial"
     }
    },
    "c67040d3f7714497a205000c452432ec": {
     "model_module": "@jupyter-widgets/controls",
     "model_name": "FloatProgressModel",
     "state": {
      "_dom_classes": [],
      "_model_module": "@jupyter-widgets/controls",
      "_model_module_version": "1.5.0",
      "_model_name": "FloatProgressModel",
      "_view_count": null,
      "_view_module": "@jupyter-widgets/controls",
      "_view_module_version": "1.5.0",
      "_view_name": "ProgressView",
      "bar_style": "success",
      "description": "",
      "description_tooltip": null,
      "layout": "IPY_MODEL_08675dbc8fb249db815b13e274a514b1",
      "max": 1,
      "min": 0,
      "orientation": "horizontal",
      "style": "IPY_MODEL_c658e7c9af57416cbf512b5daed3a386",
      "value": 1
     }
    },
    "c8f453a734344b29a932f9b728adee36": {
     "model_module": "@jupyter-widgets/base",
     "model_name": "LayoutModel",
     "state": {
      "_model_module": "@jupyter-widgets/base",
      "_model_module_version": "1.2.0",
      "_model_name": "LayoutModel",
      "_view_count": null,
      "_view_module": "@jupyter-widgets/base",
      "_view_module_version": "1.2.0",
      "_view_name": "LayoutView",
      "align_content": null,
      "align_items": null,
      "align_self": null,
      "border": null,
      "bottom": null,
      "display": null,
      "flex": null,
      "flex_flow": null,
      "grid_area": null,
      "grid_auto_columns": null,
      "grid_auto_flow": null,
      "grid_auto_rows": null,
      "grid_column": null,
      "grid_gap": null,
      "grid_row": null,
      "grid_template_areas": null,
      "grid_template_columns": null,
      "grid_template_rows": null,
      "height": null,
      "justify_content": null,
      "justify_items": null,
      "left": null,
      "margin": null,
      "max_height": null,
      "max_width": null,
      "min_height": null,
      "min_width": null,
      "object_fit": null,
      "object_position": null,
      "order": null,
      "overflow": null,
      "overflow_x": null,
      "overflow_y": null,
      "padding": null,
      "right": null,
      "top": null,
      "visibility": null,
      "width": null
     }
    },
    "c950b1c401a641df8fcd1b1c01fc1008": {
     "model_module": "@jupyter-widgets/controls",
     "model_name": "FloatProgressModel",
     "state": {
      "_dom_classes": [],
      "_model_module": "@jupyter-widgets/controls",
      "_model_module_version": "1.5.0",
      "_model_name": "FloatProgressModel",
      "_view_count": null,
      "_view_module": "@jupyter-widgets/controls",
      "_view_module_version": "1.5.0",
      "_view_name": "ProgressView",
      "bar_style": "success",
      "description": "",
      "description_tooltip": null,
      "layout": "IPY_MODEL_1fa1f1bd833341b08286c8e4f58098ed",
      "max": 1,
      "min": 0,
      "orientation": "horizontal",
      "style": "IPY_MODEL_5fdfcbf127b44d6284db6aa279f04feb",
      "value": 1
     }
    },
    "c9e2bc1817a448a8ad3b2ba1cd9a6a31": {
     "model_module": "@jupyter-widgets/base",
     "model_name": "LayoutModel",
     "state": {
      "_model_module": "@jupyter-widgets/base",
      "_model_module_version": "1.2.0",
      "_model_name": "LayoutModel",
      "_view_count": null,
      "_view_module": "@jupyter-widgets/base",
      "_view_module_version": "1.2.0",
      "_view_name": "LayoutView",
      "align_content": null,
      "align_items": null,
      "align_self": null,
      "border": null,
      "bottom": null,
      "display": null,
      "flex": null,
      "flex_flow": null,
      "grid_area": null,
      "grid_auto_columns": null,
      "grid_auto_flow": null,
      "grid_auto_rows": null,
      "grid_column": null,
      "grid_gap": null,
      "grid_row": null,
      "grid_template_areas": null,
      "grid_template_columns": null,
      "grid_template_rows": null,
      "height": null,
      "justify_content": null,
      "justify_items": null,
      "left": null,
      "margin": null,
      "max_height": null,
      "max_width": null,
      "min_height": null,
      "min_width": null,
      "object_fit": null,
      "object_position": null,
      "order": null,
      "overflow": null,
      "overflow_x": null,
      "overflow_y": null,
      "padding": null,
      "right": null,
      "top": null,
      "visibility": null,
      "width": null
     }
    },
    "cac1eaddc6c844968a5b723838a4872b": {
     "model_module": "@jupyter-widgets/controls",
     "model_name": "HTMLModel",
     "state": {
      "_dom_classes": [],
      "_model_module": "@jupyter-widgets/controls",
      "_model_module_version": "1.5.0",
      "_model_name": "HTMLModel",
      "_view_count": null,
      "_view_module": "@jupyter-widgets/controls",
      "_view_module_version": "1.5.0",
      "_view_name": "HTMLView",
      "description": "",
      "description_tooltip": null,
      "layout": "IPY_MODEL_c0a3b4b7060a4c87b53b51dfb04d07f3",
      "placeholder": "​",
      "style": "IPY_MODEL_ffefdd2ff52c49a88ba48a4925b8293b",
      "value": " 2339/? [13:05&lt;00:00,  2.98it/s]"
     }
    },
    "cfcbadb269ed4588be83daa78a4d424d": {
     "model_module": "@jupyter-widgets/base",
     "model_name": "LayoutModel",
     "state": {
      "_model_module": "@jupyter-widgets/base",
      "_model_module_version": "1.2.0",
      "_model_name": "LayoutModel",
      "_view_count": null,
      "_view_module": "@jupyter-widgets/base",
      "_view_module_version": "1.2.0",
      "_view_name": "LayoutView",
      "align_content": null,
      "align_items": null,
      "align_self": null,
      "border": null,
      "bottom": null,
      "display": null,
      "flex": null,
      "flex_flow": null,
      "grid_area": null,
      "grid_auto_columns": null,
      "grid_auto_flow": null,
      "grid_auto_rows": null,
      "grid_column": null,
      "grid_gap": null,
      "grid_row": null,
      "grid_template_areas": null,
      "grid_template_columns": null,
      "grid_template_rows": null,
      "height": null,
      "justify_content": null,
      "justify_items": null,
      "left": null,
      "margin": null,
      "max_height": null,
      "max_width": null,
      "min_height": null,
      "min_width": null,
      "object_fit": null,
      "object_position": null,
      "order": null,
      "overflow": null,
      "overflow_x": null,
      "overflow_y": null,
      "padding": null,
      "right": null,
      "top": null,
      "visibility": null,
      "width": null
     }
    },
    "d0e9f885f4dc40978acb1588c649e13f": {
     "model_module": "@jupyter-widgets/controls",
     "model_name": "ProgressStyleModel",
     "state": {
      "_model_module": "@jupyter-widgets/controls",
      "_model_module_version": "1.5.0",
      "_model_name": "ProgressStyleModel",
      "_view_count": null,
      "_view_module": "@jupyter-widgets/base",
      "_view_module_version": "1.2.0",
      "_view_name": "StyleView",
      "bar_color": null,
      "description_width": "initial"
     }
    },
    "d9c243812d1241feba7c95cec0effb60": {
     "model_module": "@jupyter-widgets/controls",
     "model_name": "HBoxModel",
     "state": {
      "_dom_classes": [],
      "_model_module": "@jupyter-widgets/controls",
      "_model_module_version": "1.5.0",
      "_model_name": "HBoxModel",
      "_view_count": null,
      "_view_module": "@jupyter-widgets/controls",
      "_view_module_version": "1.5.0",
      "_view_name": "HBoxView",
      "box_style": "",
      "children": [
       "IPY_MODEL_f9b891561272452cb5e41756fe18b6e8",
       "IPY_MODEL_72745dfb701f4de38645571c1606a910"
      ],
      "layout": "IPY_MODEL_b7c53e9fadcf4b95b982012b77a64376"
     }
    },
    "e121fc6a7fe2478d929befdd3c5ff6ad": {
     "model_module": "@jupyter-widgets/controls",
     "model_name": "HTMLModel",
     "state": {
      "_dom_classes": [],
      "_model_module": "@jupyter-widgets/controls",
      "_model_module_version": "1.5.0",
      "_model_name": "HTMLModel",
      "_view_count": null,
      "_view_module": "@jupyter-widgets/controls",
      "_view_module_version": "1.5.0",
      "_view_name": "HTMLView",
      "description": "",
      "description_tooltip": null,
      "layout": "IPY_MODEL_c9e2bc1817a448a8ad3b2ba1cd9a6a31",
      "placeholder": "​",
      "style": "IPY_MODEL_187c0de1f49d4b119b52433380819948",
      "value": " 2339/? [01:17&lt;00:00, 29.99it/s]"
     }
    },
    "e5cd7ac1e8de462590d9bc50e9dda8be": {
     "model_module": "@jupyter-widgets/controls",
     "model_name": "ProgressStyleModel",
     "state": {
      "_model_module": "@jupyter-widgets/controls",
      "_model_module_version": "1.5.0",
      "_model_name": "ProgressStyleModel",
      "_view_count": null,
      "_view_module": "@jupyter-widgets/base",
      "_view_module_version": "1.2.0",
      "_view_name": "StyleView",
      "bar_color": null,
      "description_width": "initial"
     }
    },
    "e63fbfd6449c40a0b10ae1e51bd3f824": {
     "model_module": "@jupyter-widgets/controls",
     "model_name": "ProgressStyleModel",
     "state": {
      "_model_module": "@jupyter-widgets/controls",
      "_model_module_version": "1.5.0",
      "_model_name": "ProgressStyleModel",
      "_view_count": null,
      "_view_module": "@jupyter-widgets/base",
      "_view_module_version": "1.2.0",
      "_view_name": "StyleView",
      "bar_color": null,
      "description_width": "initial"
     }
    },
    "e793c4727ffc41f9acdee6b356ec5b7b": {
     "model_module": "@jupyter-widgets/controls",
     "model_name": "HTMLModel",
     "state": {
      "_dom_classes": [],
      "_model_module": "@jupyter-widgets/controls",
      "_model_module_version": "1.5.0",
      "_model_name": "HTMLModel",
      "_view_count": null,
      "_view_module": "@jupyter-widgets/controls",
      "_view_module_version": "1.5.0",
      "_view_name": "HTMLView",
      "description": "",
      "description_tooltip": null,
      "layout": "IPY_MODEL_a85c5377c3eb4cd799765cfdae653811",
      "placeholder": "​",
      "style": "IPY_MODEL_29f29a2fe23241379d86798ec9d2ad81",
      "value": " 2339/? [02:55&lt;00:00, 13.36it/s]"
     }
    },
    "e9f7620085f14fb8b78dc443c51a3497": {
     "model_module": "@jupyter-widgets/base",
     "model_name": "LayoutModel",
     "state": {
      "_model_module": "@jupyter-widgets/base",
      "_model_module_version": "1.2.0",
      "_model_name": "LayoutModel",
      "_view_count": null,
      "_view_module": "@jupyter-widgets/base",
      "_view_module_version": "1.2.0",
      "_view_name": "LayoutView",
      "align_content": null,
      "align_items": null,
      "align_self": null,
      "border": null,
      "bottom": null,
      "display": null,
      "flex": null,
      "flex_flow": null,
      "grid_area": null,
      "grid_auto_columns": null,
      "grid_auto_flow": null,
      "grid_auto_rows": null,
      "grid_column": null,
      "grid_gap": null,
      "grid_row": null,
      "grid_template_areas": null,
      "grid_template_columns": null,
      "grid_template_rows": null,
      "height": null,
      "justify_content": null,
      "justify_items": null,
      "left": null,
      "margin": null,
      "max_height": null,
      "max_width": null,
      "min_height": null,
      "min_width": null,
      "object_fit": null,
      "object_position": null,
      "order": null,
      "overflow": null,
      "overflow_x": null,
      "overflow_y": null,
      "padding": null,
      "right": null,
      "top": null,
      "visibility": null,
      "width": null
     }
    },
    "ec2ba55dea0142fcbb71934f7d8074d5": {
     "model_module": "@jupyter-widgets/base",
     "model_name": "LayoutModel",
     "state": {
      "_model_module": "@jupyter-widgets/base",
      "_model_module_version": "1.2.0",
      "_model_name": "LayoutModel",
      "_view_count": null,
      "_view_module": "@jupyter-widgets/base",
      "_view_module_version": "1.2.0",
      "_view_name": "LayoutView",
      "align_content": null,
      "align_items": null,
      "align_self": null,
      "border": null,
      "bottom": null,
      "display": null,
      "flex": null,
      "flex_flow": null,
      "grid_area": null,
      "grid_auto_columns": null,
      "grid_auto_flow": null,
      "grid_auto_rows": null,
      "grid_column": null,
      "grid_gap": null,
      "grid_row": null,
      "grid_template_areas": null,
      "grid_template_columns": null,
      "grid_template_rows": null,
      "height": null,
      "justify_content": null,
      "justify_items": null,
      "left": null,
      "margin": null,
      "max_height": null,
      "max_width": null,
      "min_height": null,
      "min_width": null,
      "object_fit": null,
      "object_position": null,
      "order": null,
      "overflow": null,
      "overflow_x": null,
      "overflow_y": null,
      "padding": null,
      "right": null,
      "top": null,
      "visibility": null,
      "width": null
     }
    },
    "ed6b0663f64c4463a05551f3ea0a97e2": {
     "model_module": "@jupyter-widgets/controls",
     "model_name": "HTMLModel",
     "state": {
      "_dom_classes": [],
      "_model_module": "@jupyter-widgets/controls",
      "_model_module_version": "1.5.0",
      "_model_name": "HTMLModel",
      "_view_count": null,
      "_view_module": "@jupyter-widgets/controls",
      "_view_module_version": "1.5.0",
      "_view_name": "HTMLView",
      "description": "",
      "description_tooltip": null,
      "layout": "IPY_MODEL_8fec33415aee4e90b42aff0dd64df024",
      "placeholder": "​",
      "style": "IPY_MODEL_20ef2551b17c4300849e7bb5dde49d4d",
      "value": " 2339/? [04:19&lt;00:00,  9.03it/s]"
     }
    },
    "f286cef0d7c4473687340ec7d5871833": {
     "model_module": "@jupyter-widgets/base",
     "model_name": "LayoutModel",
     "state": {
      "_model_module": "@jupyter-widgets/base",
      "_model_module_version": "1.2.0",
      "_model_name": "LayoutModel",
      "_view_count": null,
      "_view_module": "@jupyter-widgets/base",
      "_view_module_version": "1.2.0",
      "_view_name": "LayoutView",
      "align_content": null,
      "align_items": null,
      "align_self": null,
      "border": null,
      "bottom": null,
      "display": null,
      "flex": null,
      "flex_flow": null,
      "grid_area": null,
      "grid_auto_columns": null,
      "grid_auto_flow": null,
      "grid_auto_rows": null,
      "grid_column": null,
      "grid_gap": null,
      "grid_row": null,
      "grid_template_areas": null,
      "grid_template_columns": null,
      "grid_template_rows": null,
      "height": null,
      "justify_content": null,
      "justify_items": null,
      "left": null,
      "margin": null,
      "max_height": null,
      "max_width": null,
      "min_height": null,
      "min_width": null,
      "object_fit": null,
      "object_position": null,
      "order": null,
      "overflow": null,
      "overflow_x": null,
      "overflow_y": null,
      "padding": null,
      "right": null,
      "top": null,
      "visibility": null,
      "width": null
     }
    },
    "f56b5d7ba77b45dfa45b067f48cf4a47": {
     "model_module": "@jupyter-widgets/controls",
     "model_name": "HBoxModel",
     "state": {
      "_dom_classes": [],
      "_model_module": "@jupyter-widgets/controls",
      "_model_module_version": "1.5.0",
      "_model_name": "HBoxModel",
      "_view_count": null,
      "_view_module": "@jupyter-widgets/controls",
      "_view_module_version": "1.5.0",
      "_view_name": "HBoxView",
      "box_style": "",
      "children": [
       "IPY_MODEL_6c00de81b03e433b9b569e2d7224281a",
       "IPY_MODEL_ed6b0663f64c4463a05551f3ea0a97e2"
      ],
      "layout": "IPY_MODEL_16d6db9c6699454ea860508757549466"
     }
    },
    "f65a6080216e4d89ade69a3455403c3d": {
     "model_module": "@jupyter-widgets/controls",
     "model_name": "HTMLModel",
     "state": {
      "_dom_classes": [],
      "_model_module": "@jupyter-widgets/controls",
      "_model_module_version": "1.5.0",
      "_model_name": "HTMLModel",
      "_view_count": null,
      "_view_module": "@jupyter-widgets/controls",
      "_view_module_version": "1.5.0",
      "_view_name": "HTMLView",
      "description": "",
      "description_tooltip": null,
      "layout": "IPY_MODEL_b1b2fd37a1e94d16beec353b8d2947cc",
      "placeholder": "​",
      "style": "IPY_MODEL_c1265fde8c2f4c9595b6da7e3ff9ba8c",
      "value": " 46668/46668 [09:32&lt;00:00, 81.49it/s]"
     }
    },
    "f88e2d38f9554481bfc1f66d0a3955ae": {
     "model_module": "@jupyter-widgets/controls",
     "model_name": "HBoxModel",
     "state": {
      "_dom_classes": [],
      "_model_module": "@jupyter-widgets/controls",
      "_model_module_version": "1.5.0",
      "_model_name": "HBoxModel",
      "_view_count": null,
      "_view_module": "@jupyter-widgets/controls",
      "_view_module_version": "1.5.0",
      "_view_name": "HBoxView",
      "box_style": "",
      "children": [
       "IPY_MODEL_5848d9706e354d9fae6f574920bd0681",
       "IPY_MODEL_580ec9254a1a444f845ef56a2a5a790d"
      ],
      "layout": "IPY_MODEL_508c987f640247a592077658f4c4f012"
     }
    },
    "f9b891561272452cb5e41756fe18b6e8": {
     "model_module": "@jupyter-widgets/controls",
     "model_name": "FloatProgressModel",
     "state": {
      "_dom_classes": [],
      "_model_module": "@jupyter-widgets/controls",
      "_model_module_version": "1.5.0",
      "_model_name": "FloatProgressModel",
      "_view_count": null,
      "_view_module": "@jupyter-widgets/controls",
      "_view_module_version": "1.5.0",
      "_view_name": "ProgressView",
      "bar_style": "success",
      "description": "",
      "description_tooltip": null,
      "layout": "IPY_MODEL_cfcbadb269ed4588be83daa78a4d424d",
      "max": 1,
      "min": 0,
      "orientation": "horizontal",
      "style": "IPY_MODEL_a6c465aab0f84bf6a7032f1646e9f1ae",
      "value": 1
     }
    },
    "fa8c3b55e9fe4652a0ecad900b1c745e": {
     "model_module": "@jupyter-widgets/controls",
     "model_name": "FloatProgressModel",
     "state": {
      "_dom_classes": [],
      "_model_module": "@jupyter-widgets/controls",
      "_model_module_version": "1.5.0",
      "_model_name": "FloatProgressModel",
      "_view_count": null,
      "_view_module": "@jupyter-widgets/controls",
      "_view_module_version": "1.5.0",
      "_view_name": "ProgressView",
      "bar_style": "success",
      "description": "100%",
      "description_tooltip": null,
      "layout": "IPY_MODEL_7474ac4afeab4651a47ed380b39dba18",
      "max": 46668,
      "min": 0,
      "orientation": "horizontal",
      "style": "IPY_MODEL_6aa17f058d504801b1be2d7d850323b3",
      "value": 46668
     }
    },
    "ffefdd2ff52c49a88ba48a4925b8293b": {
     "model_module": "@jupyter-widgets/controls",
     "model_name": "DescriptionStyleModel",
     "state": {
      "_model_module": "@jupyter-widgets/controls",
      "_model_module_version": "1.5.0",
      "_model_name": "DescriptionStyleModel",
      "_view_count": null,
      "_view_module": "@jupyter-widgets/base",
      "_view_module_version": "1.2.0",
      "_view_name": "StyleView",
      "description_width": ""
     }
    }
   }
  }
 },
 "nbformat": 4,
 "nbformat_minor": 4
}
