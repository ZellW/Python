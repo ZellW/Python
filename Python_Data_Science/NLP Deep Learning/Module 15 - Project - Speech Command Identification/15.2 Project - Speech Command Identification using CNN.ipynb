{
 "cells": [
  {
   "cell_type": "markdown",
   "metadata": {
    "colab_type": "text",
    "id": "_s5YGfw_w5cN"
   },
   "source": [
    "## Table of Contents\n",
    "\n",
    "### 1. Data Loading and Preprocessing \n",
    "> #### 1.1 Install important libraries\n",
    "> #### 1.2 Data Exploration\n",
    "> #### 1.3 Load data using custom Data Loader\n",
    "### 2. Speech Commands Identification using CNN\n",
    "> #### 2.1 Define model architecture\n",
    "> #### 2.2 Train the model\n",
    "> #### 2.3 Get inference\n",
    "\n",
    "---"
   ]
  },
  {
   "cell_type": "markdown",
   "metadata": {
    "colab_type": "text",
    "id": "imMS82eEyjRp"
   },
   "source": [
    "### 1. Data Loading and Preprocessing"
   ]
  },
  {
   "cell_type": "markdown",
   "metadata": {
    "colab_type": "text",
    "id": "n5bfMOVMyjRz"
   },
   "source": [
    "#### 1.1 Install important libraries"
   ]
  },
  {
   "cell_type": "code",
   "execution_count": 1,
   "metadata": {
    "colab": {
     "base_uri": "https://localhost:8080/",
     "height": 228
    },
    "colab_type": "code",
    "executionInfo": {
     "elapsed": 12457,
     "status": "ok",
     "timestamp": 1598184333498,
     "user": {
      "displayName": "Faizan Shaikh",
      "photoUrl": "",
      "userId": "11428351120800485612"
     },
     "user_tz": -330
    },
    "id": "03lzOtQbyhbC",
    "outputId": "dda0bfcb-ba10-4cfe-a85e-4cf18f44131c"
   },
   "outputs": [
    {
     "name": "stdout",
     "output_type": "stream",
     "text": [
      "Collecting soundfile\n",
      "  Downloading https://files.pythonhosted.org/packages/eb/f2/3cbbbf3b96fb9fa91582c438b574cff3f45b29c772f94c400e2c99ef5db9/SoundFile-0.10.3.post1-py2.py3-none-any.whl\n",
      "Requirement already satisfied: cffi>=1.0 in /usr/local/lib/python3.6/dist-packages (from soundfile) (1.14.1)\n",
      "Requirement already satisfied: pycparser in /usr/local/lib/python3.6/dist-packages (from cffi>=1.0->soundfile) (2.20)\n",
      "Installing collected packages: soundfile\n",
      "Successfully installed soundfile-0.10.3.post1\n",
      "Collecting torchaudio==0.5.0\n",
      "\u001b[?25l  Downloading https://files.pythonhosted.org/packages/9c/7d/8e01e21175dd2c9bb1b7e014e0c56cdd02618e2db5bebb4f52f6fdf253cb/torchaudio-0.5.0-cp36-cp36m-manylinux1_x86_64.whl (3.2MB)\n",
      "\u001b[K     |████████████████████████████████| 3.2MB 2.8MB/s \n",
      "\u001b[?25hInstalling collected packages: torchaudio\n",
      "Successfully installed torchaudio-0.5.0\n"
     ]
    }
   ],
   "source": [
    "# install torchaudio and its dependencies\n",
    "#!pip install soundfile #https://github.com/bastibe/python-soundfile\n",
    "!pip install torchaudio==0.5.0 --no-deps"
   ]
  },
  {
   "cell_type": "code",
   "execution_count": 2,
   "metadata": {
    "colab": {
     "base_uri": "https://localhost:8080/",
     "height": 176
    },
    "colab_type": "code",
    "executionInfo": {
     "elapsed": 6377,
     "status": "ok",
     "timestamp": 1598184381406,
     "user": {
      "displayName": "Faizan Shaikh",
      "photoUrl": "",
      "userId": "11428351120800485612"
     },
     "user_tz": -330
    },
    "id": "ed78-hbeygli",
    "outputId": "538b1075-0537-4176-efee-29be0c1f03a0"
   },
   "outputs": [
    {
     "name": "stdout",
     "output_type": "stream",
     "text": [
      "Collecting pytorch-model-summary\n",
      "  Downloading https://files.pythonhosted.org/packages/a0/de/f3548f3081045cfc4020fc297cc9db74839a6849da8a41b89c48a3307da7/pytorch_model_summary-0.1.1-py3-none-any.whl\n",
      "Requirement already satisfied: numpy in /usr/local/lib/python3.6/dist-packages (from pytorch-model-summary) (1.18.5)\n",
      "Requirement already satisfied: torch in /usr/local/lib/python3.6/dist-packages (from pytorch-model-summary) (1.6.0+cu101)\n",
      "Requirement already satisfied: tqdm in /usr/local/lib/python3.6/dist-packages (from pytorch-model-summary) (4.41.1)\n",
      "Requirement already satisfied: future in /usr/local/lib/python3.6/dist-packages (from torch->pytorch-model-summary) (0.16.0)\n",
      "Installing collected packages: pytorch-model-summary\n",
      "Successfully installed pytorch-model-summary-0.1.1\n"
     ]
    }
   ],
   "source": [
    "# install pytorch-model-summary to print model summary\n",
    "!pip install pytorch-model-summary\n",
    "#!conda install -c conda-forge pytorch-model-summary"
   ]
  },
  {
   "cell_type": "markdown",
   "metadata": {
    "colab_type": "text",
    "id": "VkMKpc3uF4MO"
   },
   "source": [
    "#### 1.1 Load the Data"
   ]
  },
  {
   "cell_type": "code",
   "execution_count": 3,
   "metadata": {
    "colab": {
     "base_uri": "https://localhost:8080/",
     "height": 124
    },
    "colab_type": "code",
    "executionInfo": {
     "elapsed": 35816,
     "status": "ok",
     "timestamp": 1598184419036,
     "user": {
      "displayName": "Faizan Shaikh",
      "photoUrl": "",
      "userId": "11428351120800485612"
     },
     "user_tz": -330
    },
    "id": "mUvFcfXpy42W",
    "outputId": "6f766f35-1ea0-441a-9e1f-66c1fe80fc8c"
   },
   "outputs": [
    {
     "name": "stdout",
     "output_type": "stream",
     "text": [
      "Go to this URL in a browser: https://accounts.google.com/o/oauth2/auth?client_id=947318989803-6bn6qk8qdgf4n4g3pfee6491hc0brc4i.apps.googleusercontent.com&redirect_uri=urn%3aietf%3awg%3aoauth%3a2.0%3aoob&scope=email%20https%3a%2f%2fwww.googleapis.com%2fauth%2fdocs.test%20https%3a%2f%2fwww.googleapis.com%2fauth%2fdrive%20https%3a%2f%2fwww.googleapis.com%2fauth%2fdrive.photos.readonly%20https%3a%2f%2fwww.googleapis.com%2fauth%2fpeopleapi.readonly&response_type=code\n",
      "\n",
      "Enter your authorization code:\n",
      "··········\n",
      "Mounted at /content/drive\n"
     ]
    }
   ],
   "source": [
    "# Upload data from drive\n",
    "#"
   ]
  },
  {
   "cell_type": "code",
   "execution_count": null,
   "metadata": {
    "colab": {
     "base_uri": "https://localhost:8080/",
     "height": 1000
    },
    "colab_type": "code",
    "executionInfo": {
     "elapsed": 48473,
     "status": "ok",
     "timestamp": 1598184433411,
     "user": {
      "displayName": "Faizan Shaikh",
      "photoUrl": "",
      "userId": "11428351120800485612"
     },
     "user_tz": -330
    },
    "id": "-RYqVkd8z_fj",
    "outputId": "dfd4a397-96d5-45e9-e309-3e993f20df84"
   },
   "outputs": [],
   "source": [
    "# extract data in folder \n",
    "#!unzip drive/My\\ Drive/dataset_commands.zip -d speech_commands"
   ]
  },
  {
   "cell_type": "code",
   "execution_count": 2,
   "metadata": {
    "colab": {},
    "colab_type": "code",
    "executionInfo": {
     "elapsed": 7397,
     "status": "ok",
     "timestamp": 1598184641204,
     "user": {
      "displayName": "Faizan Shaikh",
      "photoUrl": "",
      "userId": "11428351120800485612"
     },
     "user_tz": -330
    },
    "id": "B8RQhBwzzX7a"
   },
   "outputs": [],
   "source": [
    "# import libraries and modules\n",
    "%matplotlib inline\n",
    "\n",
    "import os\n",
    "import librosa\n",
    "import numpy as np\n",
    "import matplotlib.pyplot as plt\n",
    "\n",
    "from random import random, choice\n",
    "from IPython.display import Audio\n",
    "\n",
    "# import pytorch related modules\n",
    "import torch\n",
    "import torchaudio\n",
    "torchaudio.set_audio_backend(\"soundfile\")\n",
    "\n",
    "from torchaudio.transforms import Resample\n",
    "from torch.nn import ConstantPad1d\n",
    "\n",
    "from torch.utils.data import Dataset, DataLoader\n",
    "\n",
    "from torch.nn import Sequential\n",
    "from torch.nn import Conv1d, ReLU, MaxPool1d, Dropout, Linear, Flatten\n",
    "\n",
    "from torch.nn import CrossEntropyLoss\n",
    "from torch.optim import Adam\n",
    "\n",
    "from pytorch_model_summary import summary"
   ]
  },
  {
   "cell_type": "code",
   "execution_count": 3,
   "metadata": {
    "colab": {},
    "colab_type": "code",
    "executionInfo": {
     "elapsed": 1470,
     "status": "ok",
     "timestamp": 1598184666431,
     "user": {
      "displayName": "Faizan Shaikh",
      "photoUrl": "",
      "userId": "11428351120800485612"
     },
     "user_tz": -330
    },
    "id": "a9tWv_lr9Nsb"
   },
   "outputs": [],
   "source": [
    "# set seed\n",
    "seed = 42\n",
    "np.random.seed(seed)\n",
    "torch.manual_seed(seed);"
   ]
  },
  {
   "cell_type": "code",
   "execution_count": 7,
   "metadata": {
    "colab": {
     "base_uri": "https://localhost:8080/",
     "height": 34
    },
    "colab_type": "code",
    "executionInfo": {
     "elapsed": 852,
     "status": "ok",
     "timestamp": 1598184675879,
     "user": {
      "displayName": "Faizan Shaikh",
      "photoUrl": "",
      "userId": "11428351120800485612"
     },
     "user_tz": -330
    },
    "id": "0DXTqiY-1PwE",
    "outputId": "d7528206-268a-4e59-dcdc-7652d37db80f"
   },
   "outputs": [
    {
     "data": {
      "text/plain": [
       "['down', 'left', 'right', 'up']"
      ]
     },
     "execution_count": 7,
     "metadata": {},
     "output_type": "execute_result"
    }
   ],
   "source": [
    "# print subfolders for dataset\n",
    "os.listdir('../../../../../LargeData/Analytics_Vidhya/NLP_Deep/speech_commands')"
   ]
  },
  {
   "cell_type": "code",
   "execution_count": 10,
   "metadata": {
    "colab": {
     "base_uri": "https://localhost:8080/",
     "height": 86
    },
    "colab_type": "code",
    "executionInfo": {
     "elapsed": 1418,
     "status": "ok",
     "timestamp": 1598184701687,
     "user": {
      "displayName": "Faizan Shaikh",
      "photoUrl": "",
      "userId": "11428351120800485612"
     },
     "user_tz": -330
    },
    "id": "TnrjA38M1hqi",
    "outputId": "cd3f0c40-f040-498d-bc70-acb0e56b7b00"
   },
   "outputs": [
    {
     "name": "stdout",
     "output_type": "stream",
     "text": [
      "Num of files in ( down ) folder is 3917\n",
      "Num of files in ( left ) folder is 3801\n",
      "Num of files in ( right ) folder is 3778\n",
      "Num of files in ( up ) folder is 3723\n"
     ]
    }
   ],
   "source": [
    "# check number of files in each subfolder\n",
    "for dirname in os.listdir('../../../../../LargeData/Analytics_Vidhya/NLP_Deep/speech_commands'):\n",
    "    print('Num of files in (',  dirname, ') folder is', len(os.listdir('../../../../../LargeData/Analytics_Vidhya/NLP_Deep/speech_commands/' + dirname)))"
   ]
  },
  {
   "cell_type": "markdown",
   "metadata": {
    "colab_type": "text",
    "id": "Hk0gu7q85xUT"
   },
   "source": [
    "#### 1.2 Data Exploration"
   ]
  },
  {
   "cell_type": "code",
   "execution_count": 11,
   "metadata": {
    "colab": {},
    "colab_type": "code",
    "executionInfo": {
     "elapsed": 1680,
     "status": "ok",
     "timestamp": 1598184921057,
     "user": {
      "displayName": "Faizan Shaikh",
      "photoUrl": "",
      "userId": "11428351120800485612"
     },
     "user_tz": -330
    },
    "id": "CxJcCVDQ1qb5"
   },
   "outputs": [],
   "source": [
    "# pick random file\n",
    "filepath = choice(os.listdir('../../../../../LargeData/Analytics_Vidhya/NLP_Deep/speech_commands/up'))"
   ]
  },
  {
   "cell_type": "code",
   "execution_count": 12,
   "metadata": {
    "colab": {},
    "colab_type": "code",
    "executionInfo": {
     "elapsed": 2818,
     "status": "ok",
     "timestamp": 1598184999690,
     "user": {
      "displayName": "Faizan Shaikh",
      "photoUrl": "",
      "userId": "11428351120800485612"
     },
     "user_tz": -330
    },
    "id": "IcppoM8p14L5"
   },
   "outputs": [],
   "source": [
    "# read file using librosa\n",
    "waveform, sample_rate = librosa.load('../../../../../LargeData/Analytics_Vidhya/NLP_Deep/speech_commands/up/' + filepath, sr = 16000)"
   ]
  },
  {
   "cell_type": "code",
   "execution_count": 13,
   "metadata": {
    "colab": {
     "base_uri": "https://localhost:8080/",
     "height": 34
    },
    "colab_type": "code",
    "executionInfo": {
     "elapsed": 1468,
     "status": "ok",
     "timestamp": 1598185010867,
     "user": {
      "displayName": "Faizan Shaikh",
      "photoUrl": "",
      "userId": "11428351120800485612"
     },
     "user_tz": -330
    },
    "id": "kia-b2Zg17ja",
    "outputId": "f5893173-9a3d-464e-8ba5-240f7e9ebd4d"
   },
   "outputs": [
    {
     "data": {
      "text/plain": [
       "(16000,)"
      ]
     },
     "execution_count": 13,
     "metadata": {},
     "output_type": "execute_result"
    }
   ],
   "source": [
    "# print length of numpy array\n",
    "waveform.shape"
   ]
  },
  {
   "cell_type": "code",
   "execution_count": 14,
   "metadata": {
    "colab": {
     "base_uri": "https://localhost:8080/",
     "height": 34
    },
    "colab_type": "code",
    "executionInfo": {
     "elapsed": 1673,
     "status": "ok",
     "timestamp": 1598185017872,
     "user": {
      "displayName": "Faizan Shaikh",
      "photoUrl": "",
      "userId": "11428351120800485612"
     },
     "user_tz": -330
    },
    "id": "MujugZob18q_",
    "outputId": "d27b6ec6-c710-45a8-b50d-3e5bfcf036cf"
   },
   "outputs": [
    {
     "data": {
      "text/plain": [
       "16000"
      ]
     },
     "execution_count": 14,
     "metadata": {},
     "output_type": "execute_result"
    }
   ],
   "source": [
    "# print sample rate\n",
    "sample_rate"
   ]
  },
  {
   "cell_type": "code",
   "execution_count": 15,
   "metadata": {
    "cellView": "form",
    "colab": {
     "base_uri": "https://localhost:8080/",
     "height": 34
    },
    "colab_type": "code",
    "executionInfo": {
     "elapsed": 1469,
     "status": "ok",
     "timestamp": 1598185058223,
     "user": {
      "displayName": "Faizan Shaikh",
      "photoUrl": "",
      "userId": "11428351120800485612"
     },
     "user_tz": -330
    },
    "id": "mc-Cj8QI2Hcm",
    "outputId": "eb93b59f-80d3-46b0-f74b-819d95225e37"
   },
   "outputs": [
    {
     "data": {
      "text/plain": [
       "1.0"
      ]
     },
     "execution_count": 15,
     "metadata": {},
     "output_type": "execute_result"
    }
   ],
   "source": [
    "#@title Exercise - print duration of audio file\n",
    "duration = len(waveform)/sample_rate\n",
    "duration"
   ]
  },
  {
   "cell_type": "code",
   "execution_count": 16,
   "metadata": {
    "colab": {
     "base_uri": "https://localhost:8080/",
     "height": 249
    },
    "colab_type": "code",
    "executionInfo": {
     "elapsed": 1604,
     "status": "ok",
     "timestamp": 1598185075985,
     "user": {
      "displayName": "Faizan Shaikh",
      "photoUrl": "",
      "userId": "11428351120800485612"
     },
     "user_tz": -330
    },
    "id": "uS6AILsH3l1n",
    "outputId": "ca65957f-4fe8-4ba9-be6e-f0656668b504"
   },
   "outputs": [
    {
     "data": {
      "image/png": "[encoded data removed]",
      "text/plain": [
       "<Figure size 1008x576 with 1 Axes>"
      ]
     },
     "metadata": {
      "needs_background": "light"
     },
     "output_type": "display_data"
    }
   ],
   "source": [
    "# plot audio using matplotlib\n",
    "fig = plt.figure(figsize=(14, 8))\n",
    "\n",
    "ax = fig.add_subplot(211)\n",
    "ax.set_title('Raw wave of ' + filepath)\n",
    "ax.set_xlabel('time')\n",
    "ax.set_ylabel('Amplitude')\n",
    "ax.plot(np.linspace(0, duration, sample_rate), waveform)\n",
    "\n",
    "plt.show()"
   ]
  },
  {
   "cell_type": "code",
   "execution_count": 17,
   "metadata": {
    "colab": {
     "base_uri": "https://localhost:8080/",
     "height": 61
    },
    "colab_type": "code",
    "executionInfo": {
     "elapsed": 2351,
     "status": "ok",
     "timestamp": 1598185093816,
     "user": {
      "displayName": "Faizan Shaikh",
      "photoUrl": "",
      "userId": "11428351120800485612"
     },
     "user_tz": -330
    },
    "id": "3lcbvl4s4d2U",
    "outputId": "6fbdb34d-b7cc-401b-beff-6d92e394b610"
   },
   "outputs": [
    {
     "data": {
      "text/html": [
       "\n",
       "                <audio  controls=\"controls\" >\n",
       "                    <source src=\"data:audio/wav;base64,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\" type=\"audio/wav\" />\n",
       "                    Your browser does not support the audio element.\n",
       "                </audio>\n",
       "              "
      ],
      "text/plain": [
       "<IPython.lib.display.Audio object>"
      ]
     },
     "execution_count": 17,
     "metadata": {},
     "output_type": "execute_result"
    }
   ],
   "source": [
    "# play audio inline\n",
    "Audio(waveform, rate=sample_rate)"
   ]
  },
  {
   "cell_type": "code",
   "execution_count": 18,
   "metadata": {
    "colab": {
     "base_uri": "https://localhost:8080/",
     "height": 34
    },
    "colab_type": "code",
    "executionInfo": {
     "elapsed": 2482,
     "status": "ok",
     "timestamp": 1598185213112,
     "user": {
      "displayName": "Faizan Shaikh",
      "photoUrl": "",
      "userId": "11428351120800485612"
     },
     "user_tz": -330
    },
    "id": "OErPSrFz4sCy",
    "outputId": "3ed23fad-5beb-4c87-e3f9-fc792d513852"
   },
   "outputs": [
    {
     "data": {
      "text/plain": [
       "(8000,)"
      ]
     },
     "execution_count": 18,
     "metadata": {},
     "output_type": "execute_result"
    }
   ],
   "source": [
    "# resample audio\n",
    "prev_sampling_rate = sample_rate\n",
    "sample_rate = 8000\n",
    "\n",
    "waveform = librosa.resample(waveform, prev_sampling_rate, sample_rate)\n",
    "waveform.shape"
   ]
  },
  {
   "cell_type": "code",
   "execution_count": 19,
   "metadata": {
    "colab": {
     "base_uri": "https://localhost:8080/",
     "height": 249
    },
    "colab_type": "code",
    "executionInfo": {
     "elapsed": 1722,
     "status": "ok",
     "timestamp": 1598185256481,
     "user": {
      "displayName": "Faizan Shaikh",
      "photoUrl": "",
      "userId": "11428351120800485612"
     },
     "user_tz": -330
    },
    "id": "v6AchUqh5Sg5",
    "outputId": "56542ccd-cc90-4bd3-a567-145a61783c16"
   },
   "outputs": [
    {
     "data": {
      "image/png": "[encoded data removed]",
      "text/plain": [
       "<Figure size 1008x576 with 1 Axes>"
      ]
     },
     "metadata": {
      "needs_background": "light"
     },
     "output_type": "display_data"
    }
   ],
   "source": [
    "# plot audio using matplotlib\n",
    "fig = plt.figure(figsize=(14, 8))\n",
    "\n",
    "ax = fig.add_subplot(211)\n",
    "ax.set_title('Raw wave of ' + filepath)\n",
    "ax.set_xlabel('time')\n",
    "ax.set_ylabel('Amplitude')\n",
    "ax.plot(np.linspace(0, duration, sample_rate), waveform)\n",
    "\n",
    "plt.show()"
   ]
  },
  {
   "cell_type": "code",
   "execution_count": 20,
   "metadata": {
    "colab": {
     "base_uri": "https://localhost:8080/",
     "height": 61
    },
    "colab_type": "code",
    "executionInfo": {
     "elapsed": 1574,
     "status": "ok",
     "timestamp": 1598185296294,
     "user": {
      "displayName": "Faizan Shaikh",
      "photoUrl": "",
      "userId": "11428351120800485612"
     },
     "user_tz": -330
    },
    "id": "5-kFdmwb5UsL",
    "outputId": "294d17a0-afcc-46e1-fe42-44cc197c3999"
   },
   "outputs": [
    {
     "data": {
      "text/html": [
       "\n",
       "                <audio  controls=\"controls\" >\n",
       "                    <source src=\"data:audio/wav;base64,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\" type=\"audio/wav\" />\n",
       "                    Your browser does not support the audio element.\n",
       "                </audio>\n",
       "              "
      ],
      "text/plain": [
       "<IPython.lib.display.Audio object>"
      ]
     },
     "execution_count": 20,
     "metadata": {},
     "output_type": "execute_result"
    }
   ],
   "source": [
    "# play audio inline\n",
    "Audio(waveform, rate=sample_rate)"
   ]
  },
  {
   "cell_type": "code",
   "execution_count": 21,
   "metadata": {
    "colab": {},
    "colab_type": "code",
    "executionInfo": {
     "elapsed": 1498,
     "status": "ok",
     "timestamp": 1598185362853,
     "user": {
      "displayName": "Faizan Shaikh",
      "photoUrl": "",
      "userId": "11428351120800485612"
     },
     "user_tz": -330
    },
    "id": "DAdC_AKm5buY"
   },
   "outputs": [],
   "source": [
    "# get all filepaths\n",
    "filepaths = []\n",
    "\n",
    "for dirname in os.listdir('../../../../../LargeData/Analytics_Vidhya/NLP_Deep/speech_commands'):\n",
    "    for filename in os.listdir('../../../../../LargeData/Analytics_Vidhya/NLP_Deep/speech_commands/' + dirname):\n",
    "        if filename.endswith('.wav'):\n",
    "            filepaths.append('../../../../../LargeData/Analytics_Vidhya/NLP_Deep/speech_commands/' + dirname + '/' + filename)"
   ]
  },
  {
   "cell_type": "code",
   "execution_count": 22,
   "metadata": {
    "colab": {
     "base_uri": "https://localhost:8080/",
     "height": 34
    },
    "colab_type": "code",
    "executionInfo": {
     "elapsed": 1890,
     "status": "ok",
     "timestamp": 1598185372197,
     "user": {
      "displayName": "Faizan Shaikh",
      "photoUrl": "",
      "userId": "11428351120800485612"
     },
     "user_tz": -330
    },
    "id": "3zz6kjtY5g3t",
    "outputId": "82952e03-6c4b-49a0-8649-60511f017170"
   },
   "outputs": [
    {
     "data": {
      "text/plain": [
       "15219"
      ]
     },
     "execution_count": 22,
     "metadata": {},
     "output_type": "execute_result"
    }
   ],
   "source": [
    "# print number of audio files\n",
    "len(filepaths)"
   ]
  },
  {
   "cell_type": "code",
   "execution_count": 23,
   "metadata": {
    "colab": {
     "base_uri": "https://localhost:8080/",
     "height": 35
    },
    "colab_type": "code",
    "executionInfo": {
     "elapsed": 1630,
     "status": "ok",
     "timestamp": 1598185389777,
     "user": {
      "displayName": "Faizan Shaikh",
      "photoUrl": "",
      "userId": "11428351120800485612"
     },
     "user_tz": -330
    },
    "id": "BwNWlQmI5h6-",
    "outputId": "f31745cb-aec3-4687-96bf-a0693ee1405d"
   },
   "outputs": [
    {
     "data": {
      "text/plain": [
       "'../../../../../LargeData/Analytics_Vidhya/NLP_Deep/speech_commands/down/00176480_nohash_0.wav'"
      ]
     },
     "execution_count": 23,
     "metadata": {},
     "output_type": "execute_result"
    }
   ],
   "source": [
    "# print one filepath\n",
    "filepaths[0]"
   ]
  },
  {
   "cell_type": "code",
   "execution_count": 24,
   "metadata": {
    "colab": {
     "base_uri": "https://localhost:8080/",
     "height": 35
    },
    "colab_type": "code",
    "executionInfo": {
     "elapsed": 1649,
     "status": "ok",
     "timestamp": 1598185452843,
     "user": {
      "displayName": "Faizan Shaikh",
      "photoUrl": "",
      "userId": "11428351120800485612"
     },
     "user_tz": -330
    },
    "id": "XtMRclvu7CuT",
    "outputId": "532b9784-4be3-4817-dab1-bed76a9e3a05"
   },
   "outputs": [
    {
     "data": {
      "text/plain": [
       "'..'"
      ]
     },
     "execution_count": 24,
     "metadata": {},
     "output_type": "execute_result"
    }
   ],
   "source": [
    "# get class\n",
    "filepaths[0].split('/')[1]"
   ]
  },
  {
   "cell_type": "code",
   "execution_count": 25,
   "metadata": {
    "colab": {},
    "colab_type": "code",
    "executionInfo": {
     "elapsed": 1718,
     "status": "ok",
     "timestamp": 1598185515094,
     "user": {
      "displayName": "Faizan Shaikh",
      "photoUrl": "",
      "userId": "11428351120800485612"
     },
     "user_tz": -330
    },
    "id": "-4tFBaXB78j3"
   },
   "outputs": [],
   "source": [
    "# load audio file using torchaudio\n",
    "waveform, sample_rate = torchaudio.load(filepaths[0])"
   ]
  },
  {
   "cell_type": "code",
   "execution_count": 26,
   "metadata": {
    "colab": {
     "base_uri": "https://localhost:8080/",
     "height": 34
    },
    "colab_type": "code",
    "executionInfo": {
     "elapsed": 1348,
     "status": "ok",
     "timestamp": 1598185515096,
     "user": {
      "displayName": "Faizan Shaikh",
      "photoUrl": "",
      "userId": "11428351120800485612"
     },
     "user_tz": -330
    },
    "id": "-ydV5ilr8tHL",
    "outputId": "d8d70767-4f93-401d-b55b-ed202f70d62d"
   },
   "outputs": [
    {
     "data": {
      "text/plain": [
       "(torch.Size([1, 16000]), 16000)"
      ]
     },
     "execution_count": 26,
     "metadata": {},
     "output_type": "execute_result"
    }
   ],
   "source": [
    "# print shape and sampling rate\n",
    "waveform.shape, sample_rate"
   ]
  },
  {
   "cell_type": "markdown",
   "metadata": {
    "colab_type": "text",
    "id": "LNVQN7347gJb"
   },
   "source": [
    "#### 1.3 Load data using custom Dataloader"
   ]
  },
  {
   "cell_type": "code",
   "execution_count": 27,
   "metadata": {
    "colab": {},
    "colab_type": "code",
    "executionInfo": {
     "elapsed": 1568,
     "status": "ok",
     "timestamp": 1598186456381,
     "user": {
      "displayName": "Faizan Shaikh",
      "photoUrl": "",
      "userId": "11428351120800485612"
     },
     "user_tz": -330
    },
    "id": "1Uq8C29g7EpW"
   },
   "outputs": [],
   "source": [
    "# dictionary to convert categories to numerical labels\n",
    "classes_to_labels = {\n",
    "    'up': 0,\n",
    "    'down': 1,\n",
    "    'left': 2,\n",
    "    'right': 3\n",
    "}\n",
    "\n",
    "# dictionary to convert numerical labels to categories\n",
    "labels_to_classes = {\n",
    "    0: 'up',\n",
    "    1: 'down',\n",
    "    2: 'left',\n",
    "    3: 'right'\n",
    "}\n",
    "\n",
    "# define custom dataset class\n",
    "class SpeechCommandsDataset(Dataset):\n",
    "    def __init__(self, data_dir):\n",
    "        \"\"\"Initialize dataset\"\"\"\n",
    "\n",
    "        # get all audio filepaths\n",
    "        self.filepaths = []\n",
    "        for dirname in os.listdir(data_dir):\n",
    "            for filename in os.listdir(data_dir + '/' + dirname):\n",
    "                if filename.endswith('.wav'):\n",
    "                    self.filepaths.append(data_dir + '/' + dirname + '/' + filename)\n",
    "\n",
    "    def __len__(self):\n",
    "        \"\"\"Get length of dataset\"\"\"\n",
    "        return len(self.filepaths)\n",
    "\n",
    "    def __getitem__(self, idx):\n",
    "        \"\"\"Load and preprocess individual file\"\"\"\n",
    "\n",
    "        # load audio file and the respective class\n",
    "        waveform, sample_rate = torchaudio.load(self.filepaths[idx])\n",
    "        class_name = self.filepaths[idx].split('/')[1]\n",
    "\n",
    "        # trim or pad the audio file if required\n",
    "        if waveform.shape[1] > sample_rate:\n",
    "            waveform = waveform[:, :sample_rate]\n",
    "        elif waveform.shape[1] < sample_rate:\n",
    "            pad_len = sample_rate - waveform.shape[1]\n",
    "            waveform = ConstantPad1d((0, pad_len), 0)(waveform)\n",
    "\n",
    "        # resample audio\n",
    "        waveform = Resample(orig_freq=sample_rate, new_freq=8000)(waveform)\n",
    "\n",
    "        # normalize data\n",
    "        waveform = waveform - waveform.min()\n",
    "        waveform = waveform / waveform.max()\n",
    "\n",
    "        # label encode the target variable\n",
    "        label = classes_to_labels[class_name]\n",
    "\n",
    "        return waveform, label"
   ]
  },
  {
   "cell_type": "code",
   "execution_count": 29,
   "metadata": {
    "colab": {},
    "colab_type": "code",
    "executionInfo": {
     "elapsed": 1925,
     "status": "ok",
     "timestamp": 1598186482280,
     "user": {
      "displayName": "Faizan Shaikh",
      "photoUrl": "",
      "userId": "11428351120800485612"
     },
     "user_tz": -330
    },
    "id": "5JSUMPE7_Zw0"
   },
   "outputs": [],
   "source": [
    "# create instance of custom dataset\n",
    "dataset = SpeechCommandsDataset('../../../../../LargeData/Analytics_Vidhya/NLP_Deep/speech_commands')\n",
    "\n",
    "# create dataloader\n",
    "data_loader = DataLoader(\n",
    "    dataset, \n",
    "    batch_size=128,\n",
    "    num_workers=4,\n",
    "    shuffle=True\n",
    ")"
   ]
  },
  {
   "cell_type": "code",
   "execution_count": null,
   "metadata": {
    "colab": {},
    "colab_type": "code",
    "executionInfo": {
     "elapsed": 3078,
     "status": "ok",
     "timestamp": 1598186492948,
     "user": {
      "displayName": "Faizan Shaikh",
      "photoUrl": "",
      "userId": "11428351120800485612"
     },
     "user_tz": -330
    },
    "id": "NCw86-KsCNCi"
   },
   "outputs": [],
   "source": [
    "# check for one iteration of loop\n",
    "for batch_x, batch_y in data_loader:\n",
    "    break"
   ]
  },
  {
   "cell_type": "code",
   "execution_count": 28,
   "metadata": {
    "colab": {
     "base_uri": "https://localhost:8080/",
     "height": 34
    },
    "colab_type": "code",
    "executionInfo": {
     "elapsed": 1527,
     "status": "ok",
     "timestamp": 1598186500205,
     "user": {
      "displayName": "Faizan Shaikh",
      "photoUrl": "",
      "userId": "11428351120800485612"
     },
     "user_tz": -330
    },
    "id": "MtkEJLFuCO99",
    "outputId": "d6caac70-2a55-4091-aff7-7aa94380e179"
   },
   "outputs": [
    {
     "data": {
      "text/plain": [
       "(torch.Size([128, 1, 8000]), torch.Size([128]))"
      ]
     },
     "execution_count": 28,
     "metadata": {
      "tags": []
     },
     "output_type": "execute_result"
    }
   ],
   "source": [
    "# get shapes of batches\n",
    "batch_x.shape, batch_y.shape"
   ]
  },
  {
   "cell_type": "code",
   "execution_count": 29,
   "metadata": {
    "colab": {},
    "colab_type": "code",
    "executionInfo": {
     "elapsed": 1510,
     "status": "ok",
     "timestamp": 1598186560890,
     "user": {
      "displayName": "Faizan Shaikh",
      "photoUrl": "",
      "userId": "11428351120800485612"
     },
     "user_tz": -330
    },
    "id": "7qCnQr2LCR5K"
   },
   "outputs": [],
   "source": [
    "# check data at random index\n",
    "idx = choice(range(len(batch_y)))\n",
    "\n",
    "waveform, label = batch_x[idx], batch_y[idx]"
   ]
  },
  {
   "cell_type": "code",
   "execution_count": 30,
   "metadata": {
    "colab": {
     "base_uri": "https://localhost:8080/",
     "height": 34
    },
    "colab_type": "code",
    "executionInfo": {
     "elapsed": 1556,
     "status": "ok",
     "timestamp": 1598186567862,
     "user": {
      "displayName": "Faizan Shaikh",
      "photoUrl": "",
      "userId": "11428351120800485612"
     },
     "user_tz": -330
    },
    "id": "P8G13ocsCWZr",
    "outputId": "8ef17650-a777-438b-cfd5-708d0e612552"
   },
   "outputs": [
    {
     "data": {
      "text/plain": [
       "torch.Size([1, 8000])"
      ]
     },
     "execution_count": 30,
     "metadata": {
      "tags": []
     },
     "output_type": "execute_result"
    }
   ],
   "source": [
    "# print shape\n",
    "waveform.shape"
   ]
  },
  {
   "cell_type": "code",
   "execution_count": 31,
   "metadata": {
    "colab": {
     "base_uri": "https://localhost:8080/",
     "height": 34
    },
    "colab_type": "code",
    "executionInfo": {
     "elapsed": 1878,
     "status": "ok",
     "timestamp": 1598186579938,
     "user": {
      "displayName": "Faizan Shaikh",
      "photoUrl": "",
      "userId": "11428351120800485612"
     },
     "user_tz": -330
    },
    "id": "4QgyxggrCfZn",
    "outputId": "a763066a-86ee-4fac-e60a-aad8d3cde3c9"
   },
   "outputs": [
    {
     "data": {
      "text/plain": [
       "(tensor(0.), tensor(1.))"
      ]
     },
     "execution_count": 31,
     "metadata": {
      "tags": []
     },
     "output_type": "execute_result"
    }
   ],
   "source": [
    "# print min and max values of data\n",
    "waveform.min(), waveform.max()"
   ]
  },
  {
   "cell_type": "code",
   "execution_count": 32,
   "metadata": {
    "colab": {
     "base_uri": "https://localhost:8080/",
     "height": 61
    },
    "colab_type": "code",
    "executionInfo": {
     "elapsed": 1617,
     "status": "ok",
     "timestamp": 1598186587812,
     "user": {
      "displayName": "Faizan Shaikh",
      "photoUrl": "",
      "userId": "11428351120800485612"
     },
     "user_tz": -330
    },
    "id": "SxVeF52MCk93",
    "outputId": "58711d74-df5e-47b7-825a-c97c07288949"
   },
   "outputs": [
    {
     "data": {
      "text/html": [
       "\n",
       "                <audio controls=\"controls\" >\n",
       "                    <source src=\"data:audio/wav;base64,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\" type=\"audio/wav\" />\n",
       "                    Your browser does not support the audio element.\n",
       "                </audio>\n",
       "              "
      ],
      "text/plain": [
       "<IPython.lib.display.Audio object>"
      ]
     },
     "execution_count": 32,
     "metadata": {
      "tags": []
     },
     "output_type": "execute_result"
    }
   ],
   "source": [
    "Audio(waveform, rate=8000)"
   ]
  },
  {
   "cell_type": "code",
   "execution_count": 33,
   "metadata": {
    "colab": {
     "base_uri": "https://localhost:8080/",
     "height": 34
    },
    "colab_type": "code",
    "executionInfo": {
     "elapsed": 1603,
     "status": "ok",
     "timestamp": 1598186606871,
     "user": {
      "displayName": "Faizan Shaikh",
      "photoUrl": "",
      "userId": "11428351120800485612"
     },
     "user_tz": -330
    },
    "id": "TrythFHRCn9Y",
    "outputId": "25fd864a-64cb-4b31-db9a-efe6d6cee670"
   },
   "outputs": [
    {
     "data": {
      "text/plain": [
       "tensor(0)"
      ]
     },
     "execution_count": 33,
     "metadata": {
      "tags": []
     },
     "output_type": "execute_result"
    }
   ],
   "source": [
    "# check target\n",
    "label"
   ]
  },
  {
   "cell_type": "code",
   "execution_count": 34,
   "metadata": {
    "colab": {
     "base_uri": "https://localhost:8080/",
     "height": 35
    },
    "colab_type": "code",
    "executionInfo": {
     "elapsed": 1505,
     "status": "ok",
     "timestamp": 1598186613528,
     "user": {
      "displayName": "Faizan Shaikh",
      "photoUrl": "",
      "userId": "11428351120800485612"
     },
     "user_tz": -330
    },
    "id": "qkON0RRyCqdm",
    "outputId": "50cb668f-ae1c-48fb-f00e-8f26fc9b04f0"
   },
   "outputs": [
    {
     "data": {
      "application/vnd.google.colaboratory.intrinsic+json": {
       "type": "string"
      },
      "text/plain": [
       "'up'"
      ]
     },
     "execution_count": 34,
     "metadata": {
      "tags": []
     },
     "output_type": "execute_result"
    }
   ],
   "source": [
    "# map to actual class\n",
    "labels_to_classes[int(label)]"
   ]
  },
  {
   "cell_type": "markdown",
   "metadata": {
    "colab_type": "text",
    "id": "QjVLkVanXGzV"
   },
   "source": [
    "### 2. Speech Commands Identification using CNN"
   ]
  },
  {
   "cell_type": "markdown",
   "metadata": {
    "colab_type": "text",
    "id": "t6DGNA0a9zSZ"
   },
   "source": [
    "#### 2.1 Define model architecture"
   ]
  },
  {
   "cell_type": "code",
   "execution_count": 35,
   "metadata": {
    "colab": {},
    "colab_type": "code",
    "executionInfo": {
     "elapsed": 2111,
     "status": "ok",
     "timestamp": 1598187405163,
     "user": {
      "displayName": "Faizan Shaikh",
      "photoUrl": "",
      "userId": "11428351120800485612"
     },
     "user_tz": -330
    },
    "id": "oKVaNTGiC8Os"
   },
   "outputs": [],
   "source": [
    "# define model architecture\n",
    "\n",
    "# Input\n",
    "\n",
    "# Conv1D(num_filters=64, filter_size=13, stride=1, activation='relu')\n",
    "# MaxPool(pool_size=3)\n",
    "# Conv1D(num_filters=64, filter_size=13, stride=1, activation='relu')\n",
    "# MaxPool(pool_size=3)\n",
    "# Conv1D(num_filters=64, filter_size=13, stride=1, activation='relu')\n",
    "# MaxPool(pool_size=3)\n",
    "# Conv1D(num_filters=64, filter_size=13, stride=1, activation='relu')\n",
    "# MaxPool(pool_size=3)\n",
    "\n",
    "# Flatten\n",
    "# Dense(num_neurons=256, activation='relu')\n",
    "# Dropout(0.3)\n",
    "# Dense(num_neurons=32, activation='relu')\n",
    "# Dropout(0.3)\n",
    "# Dense(num_neurons=4, activation='softmax')\n",
    "\n",
    "\n",
    "model = Sequential(\n",
    "    Conv1d(in_channels=1, out_channels=64, kernel_size=13),\n",
    "    ReLU(),\n",
    "    MaxPool1d(4),\n",
    "\n",
    "    Conv1d(in_channels=64, out_channels=64, kernel_size=13),\n",
    "    ReLU(),\n",
    "    MaxPool1d(4),\n",
    "\n",
    "    Conv1d(in_channels=64, out_channels=64, kernel_size=13),\n",
    "    ReLU(),\n",
    "    MaxPool1d(4),\n",
    "\n",
    "    Conv1d(in_channels=64, out_channels=64, kernel_size=13),\n",
    "    ReLU(),\n",
    "    MaxPool1d(4),\n",
    "\n",
    "    Flatten(),\n",
    "\n",
    "    Linear(1728, 256),\n",
    "    ReLU(),\n",
    "    Dropout(0.3),\n",
    "    \n",
    "    Linear(256, 32),\n",
    "    ReLU(),\n",
    "    Dropout(0.3),\n",
    "\n",
    "    Linear(32, 4)\n",
    ")"
   ]
  },
  {
   "cell_type": "code",
   "execution_count": 36,
   "metadata": {
    "colab": {
     "base_uri": "https://localhost:8080/",
     "height": 503
    },
    "colab_type": "code",
    "executionInfo": {
     "elapsed": 1865,
     "status": "ok",
     "timestamp": 1598187415097,
     "user": {
      "displayName": "Faizan Shaikh",
      "photoUrl": "",
      "userId": "11428351120800485612"
     },
     "user_tz": -330
    },
    "id": "ZGAc6kLvKs_Z",
    "outputId": "c61e08e0-72b6-4374-eecb-24c78543da84"
   },
   "outputs": [
    {
     "name": "stdout",
     "output_type": "stream",
     "text": [
      "-----------------------------------------------------------------------\n",
      "      Layer (type)        Output Shape         Param #     Tr. Param #\n",
      "=======================================================================\n",
      "          Conv1d-1       [1, 64, 7988]             896             896\n",
      "            ReLU-2       [1, 64, 7988]               0               0\n",
      "       MaxPool1d-3       [1, 64, 1997]               0               0\n",
      "          Conv1d-4       [1, 64, 1985]          53,312          53,312\n",
      "            ReLU-5       [1, 64, 1985]               0               0\n",
      "       MaxPool1d-6        [1, 64, 496]               0               0\n",
      "          Conv1d-7        [1, 64, 484]          53,312          53,312\n",
      "            ReLU-8        [1, 64, 484]               0               0\n",
      "       MaxPool1d-9        [1, 64, 121]               0               0\n",
      "         Conv1d-10        [1, 64, 109]          53,312          53,312\n",
      "           ReLU-11        [1, 64, 109]               0               0\n",
      "      MaxPool1d-12         [1, 64, 27]               0               0\n",
      "        Flatten-13           [1, 1728]               0               0\n",
      "         Linear-14            [1, 256]         442,624         442,624\n",
      "           ReLU-15            [1, 256]               0               0\n",
      "        Dropout-16            [1, 256]               0               0\n",
      "         Linear-17             [1, 32]           8,224           8,224\n",
      "           ReLU-18             [1, 32]               0               0\n",
      "        Dropout-19             [1, 32]               0               0\n",
      "         Linear-20              [1, 4]             132             132\n",
      "=======================================================================\n",
      "Total params: 611,812\n",
      "Trainable params: 611,812\n",
      "Non-trainable params: 0\n",
      "-----------------------------------------------------------------------\n"
     ]
    }
   ],
   "source": [
    "print(summary(model, batch_x[:1]))"
   ]
  },
  {
   "cell_type": "code",
   "execution_count": 37,
   "metadata": {
    "colab": {
     "base_uri": "https://localhost:8080/",
     "height": 34
    },
    "colab_type": "code",
    "executionInfo": {
     "elapsed": 1869,
     "status": "ok",
     "timestamp": 1598187469735,
     "user": {
      "displayName": "Faizan Shaikh",
      "photoUrl": "",
      "userId": "11428351120800485612"
     },
     "user_tz": -330
    },
    "id": "NtxihsdyLwJH",
    "outputId": "123e1c2a-e5a6-4b03-ed34-eed1fe45c118"
   },
   "outputs": [
    {
     "data": {
      "text/plain": [
       "torch.Size([1, 4])"
      ]
     },
     "execution_count": 37,
     "metadata": {
      "tags": []
     },
     "output_type": "execute_result"
    }
   ],
   "source": [
    "# check model on one audio file\n",
    "model.eval()\n",
    "\n",
    "output = model(batch_x[:1])\n",
    "output.shape"
   ]
  },
  {
   "cell_type": "code",
   "execution_count": 38,
   "metadata": {
    "colab": {
     "base_uri": "https://localhost:8080/",
     "height": 34
    },
    "colab_type": "code",
    "executionInfo": {
     "elapsed": 1250,
     "status": "ok",
     "timestamp": 1598187469737,
     "user": {
      "displayName": "Faizan Shaikh",
      "photoUrl": "",
      "userId": "11428351120800485612"
     },
     "user_tz": -330
    },
    "id": "ZdWqmNK6MPxy",
    "outputId": "e2152c4d-a9bc-4eb2-fd3f-5538642c1801"
   },
   "outputs": [
    {
     "data": {
      "text/plain": [
       "tensor([[ 0.0116, -0.1474, -0.0200, -0.1147]], grad_fn=<AddmmBackward>)"
      ]
     },
     "execution_count": 38,
     "metadata": {
      "tags": []
     },
     "output_type": "execute_result"
    }
   ],
   "source": [
    "# print output\n",
    "output"
   ]
  },
  {
   "cell_type": "markdown",
   "metadata": {
    "colab_type": "text",
    "id": "5GOaHxFs-AZJ"
   },
   "source": [
    "#### 2.2 Train the model"
   ]
  },
  {
   "cell_type": "code",
   "execution_count": 39,
   "metadata": {
    "colab": {},
    "colab_type": "code",
    "executionInfo": {
     "elapsed": 10916,
     "status": "ok",
     "timestamp": 1598187847739,
     "user": {
      "displayName": "Faizan Shaikh",
      "photoUrl": "",
      "userId": "11428351120800485612"
     },
     "user_tz": -330
    },
    "id": "I_fF1OqaMUSj"
   },
   "outputs": [],
   "source": [
    "# transfer model to GPU\n",
    "model = model.to(\"cuda\")"
   ]
  },
  {
   "cell_type": "code",
   "execution_count": 40,
   "metadata": {
    "colab": {},
    "colab_type": "code",
    "executionInfo": {
     "elapsed": 2449,
     "status": "ok",
     "timestamp": 1598187888727,
     "user": {
      "displayName": "Faizan Shaikh",
      "photoUrl": "",
      "userId": "11428351120800485612"
     },
     "user_tz": -330
    },
    "id": "aQeyQldMMf-m"
   },
   "outputs": [],
   "source": [
    "# define optimization and loss function\n",
    "criterion = CrossEntropyLoss()\n",
    "optimizer = Adam(model.parameters(), lr=0.001)"
   ]
  },
  {
   "cell_type": "code",
   "execution_count": 41,
   "metadata": {
    "colab": {
     "base_uri": "https://localhost:8080/",
     "height": 191
    },
    "colab_type": "code",
    "executionInfo": {
     "elapsed": 226273,
     "status": "ok",
     "timestamp": 1598188241946,
     "user": {
      "displayName": "Faizan Shaikh",
      "photoUrl": "",
      "userId": "11428351120800485612"
     },
     "user_tz": -330
    },
    "id": "kJD7et5QMu2v",
    "outputId": "ac97692c-9fd1-410a-8963-54dd73320df5"
   },
   "outputs": [
    {
     "name": "stdout",
     "output_type": "stream",
     "text": [
      "Training loss for epoch 1 is 1.32564 \n",
      "Training loss for epoch 2 is 0.94471 \n",
      "Training loss for epoch 3 is 0.65864 \n",
      "Training loss for epoch 4 is 0.45349 \n",
      "Training loss for epoch 5 is 0.32369 \n",
      "Training loss for epoch 6 is 0.26050 \n",
      "Training loss for epoch 7 is 0.20259 \n",
      "Training loss for epoch 8 is 0.17474 \n",
      "Training loss for epoch 9 is 0.15844 \n",
      "Training loss for epoch 10 is 0.14112 \n"
     ]
    }
   ],
   "source": [
    "# set model to train\n",
    "model.train()\n",
    "\n",
    "# train model\n",
    "for epoch in range(10):\n",
    "\n",
    "    # initialize variables\n",
    "    epoch_loss = cnt = 0\n",
    "\n",
    "    # loop through the data\n",
    "    for batch_x, batch_y in data_loader:\n",
    "        # get batch images and targets and transfer them to GPU\n",
    "        batch_x = batch_x.to(\"cuda\").type(torch.cuda.FloatTensor)\n",
    "        batch_y = batch_y.to(\"cuda\").type(torch.cuda.LongTensor)\n",
    "\n",
    "        # clear gradients\n",
    "        optimizer.zero_grad()\n",
    "\n",
    "        # pass audio to model\n",
    "        outputs = model(batch_x)\n",
    "\n",
    "        outputs = outputs.squeeze()\n",
    "\n",
    "        # get loss\n",
    "        loss = criterion(outputs, batch_y)\n",
    "\n",
    "        # do a backward pass\n",
    "        loss.backward()\n",
    "\n",
    "        # update gradients\n",
    "        optimizer.step()\n",
    "\n",
    "        # sum loss and get count\n",
    "        epoch_loss += loss.item()\n",
    "        cnt += 1\n",
    "\n",
    "    # take average loss for all batches\n",
    "    epoch_loss /= cnt\n",
    "    \n",
    "    # print loss\n",
    "    print(\"Training loss for epoch {} is {:.5f} \".format(epoch + 1, epoch_loss))"
   ]
  },
  {
   "cell_type": "markdown",
   "metadata": {
    "colab_type": "text",
    "id": "TKhUt41fNOs4"
   },
   "source": [
    "#### 2.3 Get inference"
   ]
  },
  {
   "cell_type": "code",
   "execution_count": 42,
   "metadata": {
    "colab": {
     "base_uri": "https://localhost:8080/",
     "height": 34
    },
    "colab_type": "code",
    "executionInfo": {
     "elapsed": 1523,
     "status": "ok",
     "timestamp": 1598188344793,
     "user": {
      "displayName": "Faizan Shaikh",
      "photoUrl": "",
      "userId": "11428351120800485612"
     },
     "user_tz": -330
    },
    "id": "ZMCt6SP1NRc9",
    "outputId": "75a7aa16-7e16-44f7-b9ea-d355abc92423"
   },
   "outputs": [
    {
     "data": {
      "text/plain": [
       "torch.Size([1, 4])"
      ]
     },
     "execution_count": 42,
     "metadata": {
      "tags": []
     },
     "output_type": "execute_result"
    }
   ],
   "source": [
    "# check model on one audio file\n",
    "model.eval()\n",
    "\n",
    "output = model(batch_x[:1]).cpu().detach()\n",
    "output.shape"
   ]
  },
  {
   "cell_type": "code",
   "execution_count": 43,
   "metadata": {
    "colab": {
     "base_uri": "https://localhost:8080/",
     "height": 34
    },
    "colab_type": "code",
    "executionInfo": {
     "elapsed": 1564,
     "status": "ok",
     "timestamp": 1598188351326,
     "user": {
      "displayName": "Faizan Shaikh",
      "photoUrl": "",
      "userId": "11428351120800485612"
     },
     "user_tz": -330
    },
    "id": "H1Yc0xrOOKdR",
    "outputId": "05e781c5-1019-45d0-b564-92887708d968"
   },
   "outputs": [
    {
     "data": {
      "text/plain": [
       "tensor([[ 7.1774, -4.4363, -2.0275, -3.1862]])"
      ]
     },
     "execution_count": 43,
     "metadata": {
      "tags": []
     },
     "output_type": "execute_result"
    }
   ],
   "source": [
    "# output logits\n",
    "output"
   ]
  },
  {
   "cell_type": "code",
   "execution_count": 44,
   "metadata": {
    "colab": {
     "base_uri": "https://localhost:8080/",
     "height": 34
    },
    "colab_type": "code",
    "executionInfo": {
     "elapsed": 1876,
     "status": "ok",
     "timestamp": 1598188423699,
     "user": {
      "displayName": "Faizan Shaikh",
      "photoUrl": "",
      "userId": "11428351120800485612"
     },
     "user_tz": -330
    },
    "id": "CQOBfM_oOMCi",
    "outputId": "0c200469-0a25-45c3-9b87-3a36dac2328c"
   },
   "outputs": [
    {
     "data": {
      "text/plain": [
       "tensor([0])"
      ]
     },
     "execution_count": 44,
     "metadata": {
      "tags": []
     },
     "output_type": "execute_result"
    }
   ],
   "source": [
    "# get predicted label\n",
    "output = torch.log_softmax(output, dim=1)\n",
    "_, pred = torch.max(output, dim = 1)   \n",
    "pred     "
   ]
  },
  {
   "cell_type": "code",
   "execution_count": 45,
   "metadata": {
    "colab": {
     "base_uri": "https://localhost:8080/",
     "height": 35
    },
    "colab_type": "code",
    "executionInfo": {
     "elapsed": 1536,
     "status": "ok",
     "timestamp": 1598188437827,
     "user": {
      "displayName": "Faizan Shaikh",
      "photoUrl": "",
      "userId": "11428351120800485612"
     },
     "user_tz": -330
    },
    "id": "ul7NvCSrOPn4",
    "outputId": "42bb4851-d5d3-478d-8c9e-045b60772edc"
   },
   "outputs": [
    {
     "data": {
      "application/vnd.google.colaboratory.intrinsic+json": {
       "type": "string"
      },
      "text/plain": [
       "'up'"
      ]
     },
     "execution_count": 45,
     "metadata": {
      "tags": []
     },
     "output_type": "execute_result"
    }
   ],
   "source": [
    "# convert label to class\n",
    "labels_to_classes[pred.numpy()[0]]"
   ]
  },
  {
   "cell_type": "code",
   "execution_count": 46,
   "metadata": {
    "colab": {
     "base_uri": "https://localhost:8080/",
     "height": 61
    },
    "colab_type": "code",
    "executionInfo": {
     "elapsed": 1846,
     "status": "ok",
     "timestamp": 1598188467804,
     "user": {
      "displayName": "Faizan Shaikh",
      "photoUrl": "",
      "userId": "11428351120800485612"
     },
     "user_tz": -330
    },
    "id": "W3zZEMClOTlt",
    "outputId": "e57ee596-06c0-4dfb-f0d1-2e820ece7629"
   },
   "outputs": [
    {
     "data": {
      "text/html": [
       "\n",
       "                <audio controls=\"controls\" >\n",
       "                    <source src=\"data:audio/wav;base64,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\" type=\"audio/wav\" />\n",
       "                    Your browser does not support the audio element.\n",
       "                </audio>\n",
       "              "
      ],
      "text/plain": [
       "<IPython.lib.display.Audio object>"
      ]
     },
     "execution_count": 46,
     "metadata": {
      "tags": []
     },
     "output_type": "execute_result"
    }
   ],
   "source": [
    "# visualize audio\n",
    "Audio(batch_x[:1].cpu().detach().numpy()[0, 0, :], rate=8000)"
   ]
  },
  {
   "cell_type": "code",
   "execution_count": 47,
   "metadata": {
    "colab": {
     "base_uri": "https://localhost:8080/",
     "height": 34
    },
    "colab_type": "code",
    "executionInfo": {
     "elapsed": 1716,
     "status": "ok",
     "timestamp": 1598188494357,
     "user": {
      "displayName": "Faizan Shaikh",
      "photoUrl": "",
      "userId": "11428351120800485612"
     },
     "user_tz": -330
    },
    "id": "6fzv4tkTOU0D",
    "outputId": "1462801f-3c53-4c1c-eb79-bf4cc3985257"
   },
   "outputs": [
    {
     "data": {
      "text/plain": [
       "(tensor([0], device='cuda:0'), 'up')"
      ]
     },
     "execution_count": 47,
     "metadata": {
      "tags": []
     },
     "output_type": "execute_result"
    }
   ],
   "source": [
    "# print actual label\n",
    "batch_y[:1], labels_to_classes[batch_y[:1].cpu().numpy()[0]]"
   ]
  },
  {
   "cell_type": "code",
   "execution_count": 48,
   "metadata": {
    "colab": {},
    "colab_type": "code",
    "executionInfo": {
     "elapsed": 1834,
     "status": "ok",
     "timestamp": 1598188556817,
     "user": {
      "displayName": "Faizan Shaikh",
      "photoUrl": "",
      "userId": "11428351120800485612"
     },
     "user_tz": -330
    },
    "id": "01wGmtV9Os4w"
   },
   "outputs": [],
   "source": [
    "# save model\n",
    "torch.save(model.state_dict(), 'saved_model.pth')"
   ]
  },
  {
   "cell_type": "code",
   "execution_count": null,
   "metadata": {
    "colab": {},
    "colab_type": "code",
    "id": "wThIAyRmOz59"
   },
   "outputs": [],
   "source": []
  }
 ],
 "metadata": {
  "accelerator": "GPU",
  "colab": {
   "authorship_tag": "ABX9TyOJfH8bBz4xU/jL6MM4cpwB",
   "collapsed_sections": [],
   "name": "Project - Speech Command Identification using CNN.ipynb",
   "provenance": []
  },
  "kernelspec": {
   "display_name": "deep",
   "language": "python",
   "name": "deep"
  },
  "language_info": {
   "codemirror_mode": {
    "name": "ipython",
    "version": 3
   },
   "file_extension": ".py",
   "mimetype": "text/x-python",
   "name": "python",
   "nbconvert_exporter": "python",
   "pygments_lexer": "ipython3",
   "version": "3.8.10"
  }
 },
 "nbformat": 4,
 "nbformat_minor": 4
}
