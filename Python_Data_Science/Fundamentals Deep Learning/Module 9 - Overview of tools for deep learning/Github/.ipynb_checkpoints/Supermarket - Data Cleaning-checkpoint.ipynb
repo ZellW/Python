{
 "cells": [
  {
   "cell_type": "markdown",
   "metadata": {},
   "source": [
    "# BigMart Sale - Data Prep\n",
    "\n",
    "This is my attempt at the BigMart Sales competition:\n",
    "\n",
    "https://datahack.analyticsvidhya.com/contest/practice-problem-bigmart-sales-prediction/#problem_statement\n",
    "\n",
    "Given sales data across 10 stores, the aim is to predict sales for particular products at the different stores. Below I build a predictive model by importing, cleaning, and then fitting the data."
   ]
  },
  {
   "cell_type": "markdown",
   "metadata": {},
   "source": [
    "## Import data\n",
    "First, I'll import the libraries I'll be using, then read the data."
   ]
  },
  {
   "cell_type": "code",
   "execution_count": 46,
   "metadata": {
    "collapsed": true
   },
   "outputs": [],
   "source": [
    "import pandas as pd\n",
    "import numpy as np\n",
    "import matplotlib.pyplot as plt\n",
    "%matplotlib inline\n",
    "import seaborn as sns"
   ]
  },
  {
   "cell_type": "code",
   "execution_count": 47,
   "metadata": {
    "collapsed": false
   },
   "outputs": [],
   "source": [
    "train = pd.read_csv(\"train.txt\")\n",
    "test = pd.read_csv(\"test.txt\")\n",
    "\n",
    "train['source']='train'\n",
    "test['source']='test'\n",
    "data = pd.concat([train, test],ignore_index=True)"
   ]
  },
  {
   "cell_type": "markdown",
   "metadata": {},
   "source": [
    "Take a look at the data"
   ]
  },
  {
   "cell_type": "code",
   "execution_count": 48,
   "metadata": {
    "collapsed": false
   },
   "outputs": [
    {
     "name": "stdout",
     "output_type": "stream",
     "text": [
      "<class 'pandas.core.frame.DataFrame'>\n",
      "RangeIndex: 14204 entries, 0 to 14203\n",
      "Data columns (total 13 columns):\n",
      "Item_Fat_Content             14204 non-null object\n",
      "Item_Identifier              14204 non-null object\n",
      "Item_MRP                     14204 non-null float64\n",
      "Item_Outlet_Sales            8523 non-null float64\n",
      "Item_Type                    14204 non-null object\n",
      "Item_Visibility              14204 non-null float64\n",
      "Item_Weight                  11765 non-null float64\n",
      "Outlet_Establishment_Year    14204 non-null int64\n",
      "Outlet_Identifier            14204 non-null object\n",
      "Outlet_Location_Type         14204 non-null object\n",
      "Outlet_Size                  10188 non-null object\n",
      "Outlet_Type                  14204 non-null object\n",
      "source                       14204 non-null object\n",
      "dtypes: float64(4), int64(1), object(8)\n",
      "memory usage: 1.4+ MB\n"
     ]
    }
   ],
   "source": [
    "data.info()"
   ]
  },
  {
   "cell_type": "code",
   "execution_count": 49,
   "metadata": {
    "collapsed": false
   },
   "outputs": [
    {
     "data": {
      "text/html": [
       "<div>\n",
       "<style>\n",
       "    .dataframe thead tr:only-child th {\n",
       "        text-align: right;\n",
       "    }\n",
       "\n",
       "    .dataframe thead th {\n",
       "        text-align: left;\n",
       "    }\n",
       "\n",
       "    .dataframe tbody tr th {\n",
       "        vertical-align: top;\n",
       "    }\n",
       "</style>\n",
       "<table border=\"1\" class=\"dataframe\">\n",
       "  <thead>\n",
       "    <tr style=\"text-align: right;\">\n",
       "      <th></th>\n",
       "      <th>Item_MRP</th>\n",
       "      <th>Item_Outlet_Sales</th>\n",
       "      <th>Item_Visibility</th>\n",
       "      <th>Item_Weight</th>\n",
       "      <th>Outlet_Establishment_Year</th>\n",
       "    </tr>\n",
       "  </thead>\n",
       "  <tbody>\n",
       "    <tr>\n",
       "      <th>count</th>\n",
       "      <td>14204.000000</td>\n",
       "      <td>8523.000000</td>\n",
       "      <td>14204.000000</td>\n",
       "      <td>11765.000000</td>\n",
       "      <td>14204.000000</td>\n",
       "    </tr>\n",
       "    <tr>\n",
       "      <th>mean</th>\n",
       "      <td>141.004977</td>\n",
       "      <td>2181.288914</td>\n",
       "      <td>0.065953</td>\n",
       "      <td>12.792854</td>\n",
       "      <td>1997.830681</td>\n",
       "    </tr>\n",
       "    <tr>\n",
       "      <th>std</th>\n",
       "      <td>62.086938</td>\n",
       "      <td>1706.499616</td>\n",
       "      <td>0.051459</td>\n",
       "      <td>4.652502</td>\n",
       "      <td>8.371664</td>\n",
       "    </tr>\n",
       "    <tr>\n",
       "      <th>min</th>\n",
       "      <td>31.290000</td>\n",
       "      <td>33.290000</td>\n",
       "      <td>0.000000</td>\n",
       "      <td>4.555000</td>\n",
       "      <td>1985.000000</td>\n",
       "    </tr>\n",
       "    <tr>\n",
       "      <th>25%</th>\n",
       "      <td>94.012000</td>\n",
       "      <td>834.247400</td>\n",
       "      <td>0.027036</td>\n",
       "      <td>8.710000</td>\n",
       "      <td>1987.000000</td>\n",
       "    </tr>\n",
       "    <tr>\n",
       "      <th>50%</th>\n",
       "      <td>142.247000</td>\n",
       "      <td>1794.331000</td>\n",
       "      <td>0.054021</td>\n",
       "      <td>12.600000</td>\n",
       "      <td>1999.000000</td>\n",
       "    </tr>\n",
       "    <tr>\n",
       "      <th>75%</th>\n",
       "      <td>185.855600</td>\n",
       "      <td>3101.296400</td>\n",
       "      <td>0.094037</td>\n",
       "      <td>16.750000</td>\n",
       "      <td>2004.000000</td>\n",
       "    </tr>\n",
       "    <tr>\n",
       "      <th>max</th>\n",
       "      <td>266.888400</td>\n",
       "      <td>13086.964800</td>\n",
       "      <td>0.328391</td>\n",
       "      <td>21.350000</td>\n",
       "      <td>2009.000000</td>\n",
       "    </tr>\n",
       "  </tbody>\n",
       "</table>\n",
       "</div>"
      ],
      "text/plain": [
       "           Item_MRP  Item_Outlet_Sales  Item_Visibility   Item_Weight  \\\n",
       "count  14204.000000        8523.000000     14204.000000  11765.000000   \n",
       "mean     141.004977        2181.288914         0.065953     12.792854   \n",
       "std       62.086938        1706.499616         0.051459      4.652502   \n",
       "min       31.290000          33.290000         0.000000      4.555000   \n",
       "25%       94.012000         834.247400         0.027036      8.710000   \n",
       "50%      142.247000        1794.331000         0.054021     12.600000   \n",
       "75%      185.855600        3101.296400         0.094037     16.750000   \n",
       "max      266.888400       13086.964800         0.328391     21.350000   \n",
       "\n",
       "       Outlet_Establishment_Year  \n",
       "count               14204.000000  \n",
       "mean                 1997.830681  \n",
       "std                     8.371664  \n",
       "min                  1985.000000  \n",
       "25%                  1987.000000  \n",
       "50%                  1999.000000  \n",
       "75%                  2004.000000  \n",
       "max                  2009.000000  "
      ]
     },
     "execution_count": 49,
     "metadata": {},
     "output_type": "execute_result"
    }
   ],
   "source": [
    "data.describe()"
   ]
  },
  {
   "cell_type": "code",
   "execution_count": 50,
   "metadata": {
    "collapsed": false
   },
   "outputs": [
    {
     "data": {
      "text/html": [
       "<div>\n",
       "<style>\n",
       "    .dataframe thead tr:only-child th {\n",
       "        text-align: right;\n",
       "    }\n",
       "\n",
       "    .dataframe thead th {\n",
       "        text-align: left;\n",
       "    }\n",
       "\n",
       "    .dataframe tbody tr th {\n",
       "        vertical-align: top;\n",
       "    }\n",
       "</style>\n",
       "<table border=\"1\" class=\"dataframe\">\n",
       "  <thead>\n",
       "    <tr style=\"text-align: right;\">\n",
       "      <th></th>\n",
       "      <th>Item_Fat_Content</th>\n",
       "      <th>Item_Identifier</th>\n",
       "      <th>Item_MRP</th>\n",
       "      <th>Item_Outlet_Sales</th>\n",
       "      <th>Item_Type</th>\n",
       "      <th>Item_Visibility</th>\n",
       "      <th>Item_Weight</th>\n",
       "      <th>Outlet_Establishment_Year</th>\n",
       "      <th>Outlet_Identifier</th>\n",
       "      <th>Outlet_Location_Type</th>\n",
       "      <th>Outlet_Size</th>\n",
       "      <th>Outlet_Type</th>\n",
       "      <th>source</th>\n",
       "    </tr>\n",
       "  </thead>\n",
       "  <tbody>\n",
       "    <tr>\n",
       "      <th>0</th>\n",
       "      <td>Low Fat</td>\n",
       "      <td>FDA15</td>\n",
       "      <td>249.8092</td>\n",
       "      <td>3735.1380</td>\n",
       "      <td>Dairy</td>\n",
       "      <td>0.016047</td>\n",
       "      <td>9.30</td>\n",
       "      <td>1999</td>\n",
       "      <td>OUT049</td>\n",
       "      <td>Tier 1</td>\n",
       "      <td>Medium</td>\n",
       "      <td>Supermarket Type1</td>\n",
       "      <td>train</td>\n",
       "    </tr>\n",
       "    <tr>\n",
       "      <th>1</th>\n",
       "      <td>Regular</td>\n",
       "      <td>DRC01</td>\n",
       "      <td>48.2692</td>\n",
       "      <td>443.4228</td>\n",
       "      <td>Soft Drinks</td>\n",
       "      <td>0.019278</td>\n",
       "      <td>5.92</td>\n",
       "      <td>2009</td>\n",
       "      <td>OUT018</td>\n",
       "      <td>Tier 3</td>\n",
       "      <td>Medium</td>\n",
       "      <td>Supermarket Type2</td>\n",
       "      <td>train</td>\n",
       "    </tr>\n",
       "    <tr>\n",
       "      <th>2</th>\n",
       "      <td>Low Fat</td>\n",
       "      <td>FDN15</td>\n",
       "      <td>141.6180</td>\n",
       "      <td>2097.2700</td>\n",
       "      <td>Meat</td>\n",
       "      <td>0.016760</td>\n",
       "      <td>17.50</td>\n",
       "      <td>1999</td>\n",
       "      <td>OUT049</td>\n",
       "      <td>Tier 1</td>\n",
       "      <td>Medium</td>\n",
       "      <td>Supermarket Type1</td>\n",
       "      <td>train</td>\n",
       "    </tr>\n",
       "    <tr>\n",
       "      <th>3</th>\n",
       "      <td>Regular</td>\n",
       "      <td>FDX07</td>\n",
       "      <td>182.0950</td>\n",
       "      <td>732.3800</td>\n",
       "      <td>Fruits and Vegetables</td>\n",
       "      <td>0.000000</td>\n",
       "      <td>19.20</td>\n",
       "      <td>1998</td>\n",
       "      <td>OUT010</td>\n",
       "      <td>Tier 3</td>\n",
       "      <td>NaN</td>\n",
       "      <td>Grocery Store</td>\n",
       "      <td>train</td>\n",
       "    </tr>\n",
       "    <tr>\n",
       "      <th>4</th>\n",
       "      <td>Low Fat</td>\n",
       "      <td>NCD19</td>\n",
       "      <td>53.8614</td>\n",
       "      <td>994.7052</td>\n",
       "      <td>Household</td>\n",
       "      <td>0.000000</td>\n",
       "      <td>8.93</td>\n",
       "      <td>1987</td>\n",
       "      <td>OUT013</td>\n",
       "      <td>Tier 3</td>\n",
       "      <td>High</td>\n",
       "      <td>Supermarket Type1</td>\n",
       "      <td>train</td>\n",
       "    </tr>\n",
       "  </tbody>\n",
       "</table>\n",
       "</div>"
      ],
      "text/plain": [
       "  Item_Fat_Content Item_Identifier  Item_MRP  Item_Outlet_Sales  \\\n",
       "0          Low Fat           FDA15  249.8092          3735.1380   \n",
       "1          Regular           DRC01   48.2692           443.4228   \n",
       "2          Low Fat           FDN15  141.6180          2097.2700   \n",
       "3          Regular           FDX07  182.0950           732.3800   \n",
       "4          Low Fat           NCD19   53.8614           994.7052   \n",
       "\n",
       "               Item_Type  Item_Visibility  Item_Weight  \\\n",
       "0                  Dairy         0.016047         9.30   \n",
       "1            Soft Drinks         0.019278         5.92   \n",
       "2                   Meat         0.016760        17.50   \n",
       "3  Fruits and Vegetables         0.000000        19.20   \n",
       "4              Household         0.000000         8.93   \n",
       "\n",
       "   Outlet_Establishment_Year Outlet_Identifier Outlet_Location_Type  \\\n",
       "0                       1999            OUT049               Tier 1   \n",
       "1                       2009            OUT018               Tier 3   \n",
       "2                       1999            OUT049               Tier 1   \n",
       "3                       1998            OUT010               Tier 3   \n",
       "4                       1987            OUT013               Tier 3   \n",
       "\n",
       "  Outlet_Size        Outlet_Type source  \n",
       "0      Medium  Supermarket Type1  train  \n",
       "1      Medium  Supermarket Type2  train  \n",
       "2      Medium  Supermarket Type1  train  \n",
       "3         NaN      Grocery Store  train  \n",
       "4        High  Supermarket Type1  train  "
      ]
     },
     "execution_count": 50,
     "metadata": {},
     "output_type": "execute_result"
    }
   ],
   "source": [
    "data.head()"
   ]
  },
  {
   "cell_type": "code",
   "execution_count": 51,
   "metadata": {
    "collapsed": false
   },
   "outputs": [
    {
     "data": {
      "text/plain": [
       "Item_Fat_Content                0\n",
       "Item_Identifier                 0\n",
       "Item_MRP                        0\n",
       "Item_Outlet_Sales            5681\n",
       "Item_Type                       0\n",
       "Item_Visibility                 0\n",
       "Item_Weight                  2439\n",
       "Outlet_Establishment_Year       0\n",
       "Outlet_Identifier               0\n",
       "Outlet_Location_Type            0\n",
       "Outlet_Size                  4016\n",
       "Outlet_Type                     0\n",
       "source                          0\n",
       "dtype: int64"
      ]
     },
     "execution_count": 51,
     "metadata": {},
     "output_type": "execute_result"
    }
   ],
   "source": [
    "data.apply(lambda x: sum(x.isnull()))"
   ]
  },
  {
   "cell_type": "markdown",
   "metadata": {},
   "source": [
    "From the above I can see there are some missing values in Item_Weight and Outlet_Size (Item_Outlet_Sales is what we are trying to predict)."
   ]
  },
  {
   "cell_type": "markdown",
   "metadata": {},
   "source": [
    "## Clean Data\n",
    "\n",
    "Now I'm going to analyse the data and clean it where appropriate. To do this I'll go through each variable in turn."
   ]
  },
  {
   "cell_type": "markdown",
   "metadata": {},
   "source": [
    "### Item Identifier\n",
    "Looking at the data above, it seems likely the first 2 letters of the Item Identifier correspond to FD-Food, \n",
    "NC-Non-Consumable, DR-Drinks. I'll create a new variable with this. "
   ]
  },
  {
   "cell_type": "code",
   "execution_count": 52,
   "metadata": {
    "collapsed": false
   },
   "outputs": [
    {
     "data": {
      "text/plain": [
       "Food              10201\n",
       "Non-Consumable     2686\n",
       "Drinks             1317\n",
       "Name: Item_Type_Combined, dtype: int64"
      ]
     },
     "execution_count": 52,
     "metadata": {},
     "output_type": "execute_result"
    }
   ],
   "source": [
    "data['Item_Type_Combined'] = data['Item_Identifier'].apply(lambda x: x[0:2])\n",
    "#Rename them to more intuitive categories:\n",
    "data['Item_Type_Combined'] = data['Item_Type_Combined'].map({'FD':'Food',\n",
    "                                                             'NC':'Non-Consumable',\n",
    "                                                             'DR':'Drinks'})\n",
    "data['Item_Type_Combined'].value_counts()"
   ]
  },
  {
   "cell_type": "markdown",
   "metadata": {},
   "source": [
    "### Item Fat Content"
   ]
  },
  {
   "cell_type": "code",
   "execution_count": 53,
   "metadata": {
    "collapsed": false
   },
   "outputs": [
    {
     "name": "stdout",
     "output_type": "stream",
     "text": [
      "Low Fat    8485\n",
      "Regular    4824\n",
      "LF          522\n",
      "reg         195\n",
      "low fat     178\n",
      "Name: Item_Fat_Content, dtype: int64\n"
     ]
    }
   ],
   "source": [
    "print(data['Item_Fat_Content'].value_counts())"
   ]
  },
  {
   "cell_type": "markdown",
   "metadata": {},
   "source": [
    "There is repitition of some categories here, which I want to remove."
   ]
  },
  {
   "cell_type": "code",
   "execution_count": 54,
   "metadata": {
    "collapsed": false
   },
   "outputs": [
    {
     "data": {
      "text/plain": [
       "Low Fat    6499\n",
       "Regular    5019\n",
       "None       2686\n",
       "Name: Item_Fat_Content, dtype: int64"
      ]
     },
     "execution_count": 54,
     "metadata": {},
     "output_type": "execute_result"
    }
   ],
   "source": [
    "#Give consistent naming to Fat Content\n",
    "data['Item_Fat_Content'] = data['Item_Fat_Content'].replace({'LF':'Low Fat',\n",
    "                                                             'reg':'Regular',\n",
    "                                                             'low fat':'Low Fat'})\n",
    "#It doesn't make sense for the non-consumables to have fat content, so relabel these 'None'\n",
    "data.loc[data['Item_Type_Combined']==\"Non-Consumable\",'Item_Fat_Content'] = \"None\"\n",
    "data['Item_Fat_Content'].value_counts()"
   ]
  },
  {
   "cell_type": "markdown",
   "metadata": {},
   "source": [
    "### Item MRP\n",
    "I'm going to look at the distribution of prices."
   ]
  },
  {
   "cell_type": "code",
   "execution_count": 55,
   "metadata": {
    "collapsed": false,
    "scrolled": false
   },
   "outputs": [
    {
     "data": {
      "text/plain": [
       "<matplotlib.text.Text at 0x9b3d640b8>"
      ]
     },
     "execution_count": 55,
     "metadata": {},
     "output_type": "execute_result"
    },
    {
     "data": {
      "image/png": "[encoded data removed]",
      "text/plain": [
       "<matplotlib.figure.Figure at 0x9b3d540b8>"
      ]
     },
     "metadata": {},
     "output_type": "display_data"
    }
   ],
   "source": [
    "sns.set_style('whitegrid')\n",
    "plt.figure(figsize=(12,5))\n",
    "sns.distplot(data['Item_MRP'], bins=80, kde=False, color='blue', hist_kws=dict(edgecolor=\"black\", linewidth=1))\n",
    "plt.xlabel('Item MRP /$')\n",
    "plt.ylabel('Count')\n",
    "plt.title('Distribution of Item MRP')"
   ]
  },
  {
   "cell_type": "markdown",
   "metadata": {},
   "source": [
    "The graph clearly shows 4 distinct price regions. Let's create a new variable 'Item_Price_Range'"
   ]
  },
  {
   "cell_type": "code",
   "execution_count": 56,
   "metadata": {
    "collapsed": false
   },
   "outputs": [
    {
     "data": {
      "text/plain": [
       "High         4934\n",
       "Medium       4659\n",
       "Very High    2400\n",
       "Low          2211\n",
       "Name: Item_Price_Range, dtype: int64"
      ]
     },
     "execution_count": 56,
     "metadata": {},
     "output_type": "execute_result"
    }
   ],
   "source": [
    "data['Item_Price_Range'] = 'Very High'\n",
    "data.loc[data['Item_MRP'] < 202, 'Item_Price_Range'] = 'High'\n",
    "data.loc[data['Item_MRP'] < 138, 'Item_Price_Range'] = 'Medium'\n",
    "data.loc[data['Item_MRP'] < 72, 'Item_Price_Range'] = 'Low'\n",
    "\n",
    "data['Item_Price_Range'].value_counts()"
   ]
  },
  {
   "cell_type": "markdown",
   "metadata": {},
   "source": [
    "### Item Type"
   ]
  },
  {
   "cell_type": "code",
   "execution_count": 57,
   "metadata": {
    "collapsed": false
   },
   "outputs": [
    {
     "data": {
      "text/plain": [
       "Fruits and Vegetables    2013\n",
       "Snack Foods              1989\n",
       "Household                1548\n",
       "Frozen Foods             1426\n",
       "Dairy                    1136\n",
       "Baking Goods             1086\n",
       "Canned                   1084\n",
       "Health and Hygiene        858\n",
       "Meat                      736\n",
       "Soft Drinks               726\n",
       "Breads                    416\n",
       "Hard Drinks               362\n",
       "Others                    280\n",
       "Starchy Foods             269\n",
       "Breakfast                 186\n",
       "Seafood                    89\n",
       "Name: Item_Type, dtype: int64"
      ]
     },
     "execution_count": 57,
     "metadata": {},
     "output_type": "execute_result"
    }
   ],
   "source": [
    "data['Item_Type'].value_counts()"
   ]
  },
  {
   "cell_type": "markdown",
   "metadata": {},
   "source": [
    "This is probably too many categories to be useful. I will put the low frequency types into 'Others' category \n",
    "as there probably isn't enough data on them to be statistically significant. This variable may be superfluous anyway, as we already have the 'Item_Type_Combined' variable created earlier."
   ]
  },
  {
   "cell_type": "code",
   "execution_count": 58,
   "metadata": {
    "collapsed": false
   },
   "outputs": [
    {
     "data": {
      "text/plain": [
       "Fruits and Vegetables    2013\n",
       "Snack Foods              1989\n",
       "Others                   1602\n",
       "Household                1548\n",
       "Frozen Foods             1426\n",
       "Dairy                    1136\n",
       "Baking Goods             1086\n",
       "Canned                   1084\n",
       "Health and Hygiene        858\n",
       "Meat                      736\n",
       "Soft Drinks               726\n",
       "Name: Item_Type, dtype: int64"
      ]
     },
     "execution_count": 58,
     "metadata": {},
     "output_type": "execute_result"
    }
   ],
   "source": [
    "data['Item_Type'] = data['Item_Type'].replace({'Seafood':'Others',\n",
    "                                                             'Breakfast':'Others',\n",
    "                                                             'Starchy Foods':'Others', \n",
    "                                               'Hard Drinks':'Others', 'Breads':'Others'})\n",
    "data['Item_Type'].value_counts()"
   ]
  },
  {
   "cell_type": "markdown",
   "metadata": {},
   "source": [
    "### Item Visibility"
   ]
  },
  {
   "cell_type": "code",
   "execution_count": 59,
   "metadata": {
    "collapsed": false
   },
   "outputs": [
    {
     "data": {
      "text/plain": [
       "count    14204.000000\n",
       "mean         0.065953\n",
       "std          0.051459\n",
       "min          0.000000\n",
       "25%          0.027036\n",
       "50%          0.054021\n",
       "75%          0.094037\n",
       "max          0.328391\n",
       "Name: Item_Visibility, dtype: float64"
      ]
     },
     "execution_count": 59,
     "metadata": {},
     "output_type": "execute_result"
    }
   ],
   "source": [
    "data['Item_Visibility'].describe()"
   ]
  },
  {
   "cell_type": "markdown",
   "metadata": {},
   "source": [
    "The minimum visibility is 0, which doesn't make sense. Maybe some stores don't have visibility data"
   ]
  },
  {
   "cell_type": "code",
   "execution_count": 60,
   "metadata": {
    "collapsed": false
   },
   "outputs": [
    {
     "data": {
      "text/html": [
       "<div>\n",
       "<style>\n",
       "    .dataframe thead tr:only-child th {\n",
       "        text-align: right;\n",
       "    }\n",
       "\n",
       "    .dataframe thead th {\n",
       "        text-align: left;\n",
       "    }\n",
       "\n",
       "    .dataframe tbody tr th {\n",
       "        vertical-align: top;\n",
       "    }\n",
       "</style>\n",
       "<table border=\"1\" class=\"dataframe\">\n",
       "  <thead>\n",
       "    <tr style=\"text-align: right;\">\n",
       "      <th></th>\n",
       "      <th>Item_Visibility</th>\n",
       "    </tr>\n",
       "    <tr>\n",
       "      <th>Outlet_Identifier</th>\n",
       "      <th></th>\n",
       "    </tr>\n",
       "  </thead>\n",
       "  <tbody>\n",
       "    <tr>\n",
       "      <th>OUT010</th>\n",
       "      <td>0.101939</td>\n",
       "    </tr>\n",
       "    <tr>\n",
       "      <th>OUT013</th>\n",
       "      <td>0.060242</td>\n",
       "    </tr>\n",
       "    <tr>\n",
       "      <th>OUT017</th>\n",
       "      <td>0.061142</td>\n",
       "    </tr>\n",
       "    <tr>\n",
       "      <th>OUT018</th>\n",
       "      <td>0.059976</td>\n",
       "    </tr>\n",
       "    <tr>\n",
       "      <th>OUT019</th>\n",
       "      <td>0.107389</td>\n",
       "    </tr>\n",
       "    <tr>\n",
       "      <th>OUT027</th>\n",
       "      <td>0.060344</td>\n",
       "    </tr>\n",
       "    <tr>\n",
       "      <th>OUT035</th>\n",
       "      <td>0.060826</td>\n",
       "    </tr>\n",
       "    <tr>\n",
       "      <th>OUT045</th>\n",
       "      <td>0.060907</td>\n",
       "    </tr>\n",
       "    <tr>\n",
       "      <th>OUT046</th>\n",
       "      <td>0.060184</td>\n",
       "    </tr>\n",
       "    <tr>\n",
       "      <th>OUT049</th>\n",
       "      <td>0.059000</td>\n",
       "    </tr>\n",
       "  </tbody>\n",
       "</table>\n",
       "</div>"
      ],
      "text/plain": [
       "                   Item_Visibility\n",
       "Outlet_Identifier                 \n",
       "OUT010                    0.101939\n",
       "OUT013                    0.060242\n",
       "OUT017                    0.061142\n",
       "OUT018                    0.059976\n",
       "OUT019                    0.107389\n",
       "OUT027                    0.060344\n",
       "OUT035                    0.060826\n",
       "OUT045                    0.060907\n",
       "OUT046                    0.060184\n",
       "OUT049                    0.059000"
      ]
     },
     "execution_count": 60,
     "metadata": {},
     "output_type": "execute_result"
    }
   ],
   "source": [
    "pd.pivot_table(data,index=['Outlet_Identifier'],values=[\"Item_Visibility\"],aggfunc=np.mean)"
   ]
  },
  {
   "cell_type": "markdown",
   "metadata": {},
   "source": [
    "All stores have some visibility data, just some items don't. To predict these I will fit using Item_Visibility mean for that \n",
    "outlet. To improve the model I would want to use a predictive model such as a random forest on these unknow visibilities."
   ]
  },
  {
   "cell_type": "code",
   "execution_count": 61,
   "metadata": {
    "collapsed": false
   },
   "outputs": [
    {
     "name": "stderr",
     "output_type": "stream",
     "text": [
      "C:\\Users\\dwallis\\AppData\\Local\\Continuum\\Anaconda3\\lib\\site-packages\\ipykernel\\__main__.py:4: SettingWithCopyWarning: \n",
      "A value is trying to be set on a copy of a slice from a DataFrame\n",
      "\n",
      "See the caveats in the documentation: http://pandas.pydata.org/pandas-docs/stable/indexing.html#indexing-view-versus-copy\n"
     ]
    },
    {
     "data": {
      "text/plain": [
       "count    14204.000000\n",
       "mean         0.070004\n",
       "std          0.048734\n",
       "min          0.003575\n",
       "25%          0.033143\n",
       "50%          0.059976\n",
       "75%          0.096108\n",
       "max          0.328391\n",
       "Name: Item_Visibility, dtype: float64"
      ]
     },
     "execution_count": 61,
     "metadata": {},
     "output_type": "execute_result"
    }
   ],
   "source": [
    "mean_vis = data.groupby('Outlet_Identifier')['Item_Visibility'].transform('mean')\n",
    "for i in range(len(data)):\n",
    "    if data['Item_Visibility'][i] == 0:\n",
    "        data['Item_Visibility'][i] = mean_vis[i]\n",
    "data['Item_Visibility'].describe()"
   ]
  },
  {
   "cell_type": "markdown",
   "metadata": {},
   "source": [
    "### Item Weight \n",
    "Again we have some missing values here. Let's look by outlet again"
   ]
  },
  {
   "cell_type": "code",
   "execution_count": 62,
   "metadata": {
    "collapsed": false
   },
   "outputs": [
    {
     "data": {
      "text/html": [
       "<div>\n",
       "<style>\n",
       "    .dataframe thead tr:only-child th {\n",
       "        text-align: right;\n",
       "    }\n",
       "\n",
       "    .dataframe thead th {\n",
       "        text-align: left;\n",
       "    }\n",
       "\n",
       "    .dataframe tbody tr th {\n",
       "        vertical-align: top;\n",
       "    }\n",
       "</style>\n",
       "<table border=\"1\" class=\"dataframe\">\n",
       "  <thead>\n",
       "    <tr style=\"text-align: right;\">\n",
       "      <th></th>\n",
       "      <th>Item_Weight</th>\n",
       "    </tr>\n",
       "    <tr>\n",
       "      <th>Outlet_Identifier</th>\n",
       "      <th></th>\n",
       "    </tr>\n",
       "  </thead>\n",
       "  <tbody>\n",
       "    <tr>\n",
       "      <th>OUT010</th>\n",
       "      <td>12.722870</td>\n",
       "    </tr>\n",
       "    <tr>\n",
       "      <th>OUT013</th>\n",
       "      <td>12.788139</td>\n",
       "    </tr>\n",
       "    <tr>\n",
       "      <th>OUT017</th>\n",
       "      <td>12.782080</td>\n",
       "    </tr>\n",
       "    <tr>\n",
       "      <th>OUT018</th>\n",
       "      <td>12.803638</td>\n",
       "    </tr>\n",
       "    <tr>\n",
       "      <th>OUT019</th>\n",
       "      <td>NaN</td>\n",
       "    </tr>\n",
       "    <tr>\n",
       "      <th>OUT027</th>\n",
       "      <td>NaN</td>\n",
       "    </tr>\n",
       "    <tr>\n",
       "      <th>OUT035</th>\n",
       "      <td>12.804468</td>\n",
       "    </tr>\n",
       "    <tr>\n",
       "      <th>OUT045</th>\n",
       "      <td>12.797096</td>\n",
       "    </tr>\n",
       "    <tr>\n",
       "      <th>OUT046</th>\n",
       "      <td>12.813313</td>\n",
       "    </tr>\n",
       "    <tr>\n",
       "      <th>OUT049</th>\n",
       "      <td>12.803003</td>\n",
       "    </tr>\n",
       "  </tbody>\n",
       "</table>\n",
       "</div>"
      ],
      "text/plain": [
       "                   Item_Weight\n",
       "Outlet_Identifier             \n",
       "OUT010               12.722870\n",
       "OUT013               12.788139\n",
       "OUT017               12.782080\n",
       "OUT018               12.803638\n",
       "OUT019                     NaN\n",
       "OUT027                     NaN\n",
       "OUT035               12.804468\n",
       "OUT045               12.797096\n",
       "OUT046               12.813313\n",
       "OUT049               12.803003"
      ]
     },
     "execution_count": 62,
     "metadata": {},
     "output_type": "execute_result"
    }
   ],
   "source": [
    "pd.pivot_table(data,index=['Outlet_Identifier'],values=[\"Item_Weight\"],aggfunc=np.mean)"
   ]
  },
  {
   "cell_type": "markdown",
   "metadata": {},
   "source": [
    "Clearly 2 stores haven't got weight data. Assuming each item identifier corresponds to a unique item, I'll use those to insert the missing weights"
   ]
  },
  {
   "cell_type": "code",
   "execution_count": 63,
   "metadata": {
    "collapsed": false
   },
   "outputs": [
    {
     "data": {
      "text/plain": [
       "count    11765.000000\n",
       "mean        12.792854\n",
       "std          4.652502\n",
       "min          4.555000\n",
       "25%          8.710000\n",
       "50%         12.600000\n",
       "75%         16.750000\n",
       "max         21.350000\n",
       "Name: Item_Weight, dtype: float64"
      ]
     },
     "execution_count": 63,
     "metadata": {},
     "output_type": "execute_result"
    }
   ],
   "source": [
    "item_avg_weight = data.pivot_table(values='Item_Weight', index='Item_Identifier')\n",
    "data.set_index(\"Item_Identifier\")['Item_Weight'].fillna(item_avg_weight['Item_Weight']).reset_index()\n",
    "data['Item_Weight'].describe()"
   ]
  },
  {
   "cell_type": "code",
   "execution_count": 64,
   "metadata": {
    "collapsed": false
   },
   "outputs": [
    {
     "data": {
      "text/html": [
       "<div>\n",
       "<style>\n",
       "    .dataframe thead tr:only-child th {\n",
       "        text-align: right;\n",
       "    }\n",
       "\n",
       "    .dataframe thead th {\n",
       "        text-align: left;\n",
       "    }\n",
       "\n",
       "    .dataframe tbody tr th {\n",
       "        vertical-align: top;\n",
       "    }\n",
       "</style>\n",
       "<table border=\"1\" class=\"dataframe\">\n",
       "  <thead>\n",
       "    <tr style=\"text-align: right;\">\n",
       "      <th></th>\n",
       "      <th>Item_Weight</th>\n",
       "    </tr>\n",
       "    <tr>\n",
       "      <th>Outlet_Identifier</th>\n",
       "      <th></th>\n",
       "    </tr>\n",
       "  </thead>\n",
       "  <tbody>\n",
       "    <tr>\n",
       "      <th>OUT010</th>\n",
       "      <td>12.722870</td>\n",
       "    </tr>\n",
       "    <tr>\n",
       "      <th>OUT013</th>\n",
       "      <td>12.788139</td>\n",
       "    </tr>\n",
       "    <tr>\n",
       "      <th>OUT017</th>\n",
       "      <td>12.782080</td>\n",
       "    </tr>\n",
       "    <tr>\n",
       "      <th>OUT018</th>\n",
       "      <td>12.803638</td>\n",
       "    </tr>\n",
       "    <tr>\n",
       "      <th>OUT019</th>\n",
       "      <td>NaN</td>\n",
       "    </tr>\n",
       "    <tr>\n",
       "      <th>OUT027</th>\n",
       "      <td>NaN</td>\n",
       "    </tr>\n",
       "    <tr>\n",
       "      <th>OUT035</th>\n",
       "      <td>12.804468</td>\n",
       "    </tr>\n",
       "    <tr>\n",
       "      <th>OUT045</th>\n",
       "      <td>12.797096</td>\n",
       "    </tr>\n",
       "    <tr>\n",
       "      <th>OUT046</th>\n",
       "      <td>12.813313</td>\n",
       "    </tr>\n",
       "    <tr>\n",
       "      <th>OUT049</th>\n",
       "      <td>12.803003</td>\n",
       "    </tr>\n",
       "  </tbody>\n",
       "</table>\n",
       "</div>"
      ],
      "text/plain": [
       "                   Item_Weight\n",
       "Outlet_Identifier             \n",
       "OUT010               12.722870\n",
       "OUT013               12.788139\n",
       "OUT017               12.782080\n",
       "OUT018               12.803638\n",
       "OUT019                     NaN\n",
       "OUT027                     NaN\n",
       "OUT035               12.804468\n",
       "OUT045               12.797096\n",
       "OUT046               12.813313\n",
       "OUT049               12.803003"
      ]
     },
     "execution_count": 64,
     "metadata": {},
     "output_type": "execute_result"
    }
   ],
   "source": [
    "pd.pivot_table(data,index=['Outlet_Identifier'],values=[\"Item_Weight\"],aggfunc=np.mean)"
   ]
  },
  {
   "cell_type": "markdown",
   "metadata": {},
   "source": [
    "That has imputed the weight values. Now let's look at the general distribution of the weights:"
   ]
  },
  {
   "cell_type": "code",
   "execution_count": 65,
   "metadata": {
    "collapsed": false
   },
   "outputs": [
    {
     "data": {
      "text/plain": [
       "<matplotlib.text.Text at 0x9b3f972e8>"
      ]
     },
     "execution_count": 65,
     "metadata": {},
     "output_type": "execute_result"
    },
    {
     "data": {
      "image/png": "[encoded data removed]",
      "text/plain": [
       "<matplotlib.figure.Figure at 0x9b3b22470>"
      ]
     },
     "metadata": {},
     "output_type": "display_data"
    }
   ],
   "source": [
    "sns.set_style('whitegrid')\n",
    "plt.figure(figsize=(12,5))\n",
    "sns.distplot(data['Item_Weight'].dropna(), bins=80, kde=False, color='blue', hist_kws=dict(edgecolor=\"black\", linewidth=1))\n",
    "plt.xlabel('Item Weight /kg')\n",
    "plt.ylabel('Count')\n",
    "plt.title('Distribution of Item Weights')"
   ]
  },
  {
   "cell_type": "markdown",
   "metadata": {},
   "source": [
    "There don't seem to be any obvious divisions in weight. Let's see how weight relates to Outlet Sales"
   ]
  },
  {
   "cell_type": "code",
   "execution_count": 66,
   "metadata": {
    "collapsed": false
   },
   "outputs": [
    {
     "data": {
      "text/plain": [
       "<seaborn.axisgrid.JointGrid at 0x9b3d5cbe0>"
      ]
     },
     "execution_count": 66,
     "metadata": {},
     "output_type": "execute_result"
    },
    {
     "data": {
      "image/png": "[encoded data removed]",
      "text/plain": [
       "<matplotlib.figure.Figure at 0x9b3d5ceb8>"
      ]
     },
     "metadata": {},
     "output_type": "display_data"
    }
   ],
   "source": [
    "sns.jointplot(x='Item_Outlet_Sales', y='Item_Weight', data=data)"
   ]
  },
  {
   "cell_type": "markdown",
   "metadata": {
    "collapsed": true
   },
   "source": [
    "There doesn't seem to be a strong correlation between Item Weight and Item Outlet Sales, suggesting this won't be a heavily \n",
    "weighted variable in the fitting"
   ]
  },
  {
   "cell_type": "markdown",
   "metadata": {},
   "source": [
    "### Outlet Establishment Year\n",
    "I will change this from year to age of store"
   ]
  },
  {
   "cell_type": "code",
   "execution_count": 67,
   "metadata": {
    "collapsed": false
   },
   "outputs": [],
   "source": [
    "data['Outlet_Establishment_Year'] = 2013 - data['Outlet_Establishment_Year']"
   ]
  },
  {
   "cell_type": "markdown",
   "metadata": {},
   "source": [
    "### Outlet Location Type"
   ]
  },
  {
   "cell_type": "code",
   "execution_count": 68,
   "metadata": {
    "collapsed": false
   },
   "outputs": [
    {
     "data": {
      "text/plain": [
       "Tier 3    5583\n",
       "Tier 2    4641\n",
       "Tier 1    3980\n",
       "Name: Outlet_Location_Type, dtype: int64"
      ]
     },
     "execution_count": 68,
     "metadata": {},
     "output_type": "execute_result"
    }
   ],
   "source": [
    "data['Outlet_Location_Type'].value_counts()"
   ]
  },
  {
   "cell_type": "markdown",
   "metadata": {
    "collapsed": false
   },
   "source": [
    "### Outlet Size\n",
    "From above we can see we have missing values here. Let's see if we can use the number of different items to determine the size of the outlet:"
   ]
  },
  {
   "cell_type": "code",
   "execution_count": 69,
   "metadata": {
    "collapsed": false
   },
   "outputs": [
    {
     "data": {
      "text/html": [
       "<div>\n",
       "<style>\n",
       "    .dataframe thead tr:only-child th {\n",
       "        text-align: right;\n",
       "    }\n",
       "\n",
       "    .dataframe thead th {\n",
       "        text-align: left;\n",
       "    }\n",
       "\n",
       "    .dataframe tbody tr th {\n",
       "        vertical-align: top;\n",
       "    }\n",
       "</style>\n",
       "<table border=\"1\" class=\"dataframe\">\n",
       "  <thead>\n",
       "    <tr style=\"text-align: right;\">\n",
       "      <th></th>\n",
       "      <th></th>\n",
       "      <th>Item_Identifier</th>\n",
       "    </tr>\n",
       "    <tr>\n",
       "      <th>Outlet_Size</th>\n",
       "      <th>Outlet_Identifier</th>\n",
       "      <th></th>\n",
       "    </tr>\n",
       "  </thead>\n",
       "  <tbody>\n",
       "    <tr>\n",
       "      <th>High</th>\n",
       "      <th>OUT013</th>\n",
       "      <td>1553</td>\n",
       "    </tr>\n",
       "    <tr>\n",
       "      <th rowspan=\"3\" valign=\"top\">Medium</th>\n",
       "      <th>OUT018</th>\n",
       "      <td>1546</td>\n",
       "    </tr>\n",
       "    <tr>\n",
       "      <th>OUT027</th>\n",
       "      <td>1559</td>\n",
       "    </tr>\n",
       "    <tr>\n",
       "      <th>OUT049</th>\n",
       "      <td>1550</td>\n",
       "    </tr>\n",
       "    <tr>\n",
       "      <th rowspan=\"3\" valign=\"top\">Small</th>\n",
       "      <th>OUT019</th>\n",
       "      <td>880</td>\n",
       "    </tr>\n",
       "    <tr>\n",
       "      <th>OUT035</th>\n",
       "      <td>1550</td>\n",
       "    </tr>\n",
       "    <tr>\n",
       "      <th>OUT046</th>\n",
       "      <td>1550</td>\n",
       "    </tr>\n",
       "  </tbody>\n",
       "</table>\n",
       "</div>"
      ],
      "text/plain": [
       "                               Item_Identifier\n",
       "Outlet_Size Outlet_Identifier                 \n",
       "High        OUT013                        1553\n",
       "Medium      OUT018                        1546\n",
       "            OUT027                        1559\n",
       "            OUT049                        1550\n",
       "Small       OUT019                         880\n",
       "            OUT035                        1550\n",
       "            OUT046                        1550"
      ]
     },
     "execution_count": 69,
     "metadata": {},
     "output_type": "execute_result"
    }
   ],
   "source": [
    "pd.pivot_table(data,index=['Outlet_Size','Outlet_Identifier'],values=[\"Item_Identifier\"], aggfunc='count')"
   ]
  },
  {
   "cell_type": "markdown",
   "metadata": {},
   "source": [
    "Strangely this shows that a bigger outlet size doesn't correspond to more Items in the Outlet. Let's compare with Outlet Type\n",
    "instead:"
   ]
  },
  {
   "cell_type": "code",
   "execution_count": 70,
   "metadata": {
    "collapsed": false
   },
   "outputs": [
    {
     "data": {
      "text/html": [
       "<div>\n",
       "<style>\n",
       "    .dataframe thead tr:only-child th {\n",
       "        text-align: right;\n",
       "    }\n",
       "\n",
       "    .dataframe thead th {\n",
       "        text-align: left;\n",
       "    }\n",
       "\n",
       "    .dataframe tbody tr th {\n",
       "        vertical-align: top;\n",
       "    }\n",
       "</style>\n",
       "<table border=\"1\" class=\"dataframe\">\n",
       "  <thead>\n",
       "    <tr style=\"text-align: right;\">\n",
       "      <th></th>\n",
       "      <th></th>\n",
       "      <th>Item_Identifier</th>\n",
       "    </tr>\n",
       "    <tr>\n",
       "      <th>Outlet_Type</th>\n",
       "      <th>Outlet_Identifier</th>\n",
       "      <th></th>\n",
       "    </tr>\n",
       "  </thead>\n",
       "  <tbody>\n",
       "    <tr>\n",
       "      <th rowspan=\"2\" valign=\"top\">Grocery Store</th>\n",
       "      <th>OUT010</th>\n",
       "      <td>925</td>\n",
       "    </tr>\n",
       "    <tr>\n",
       "      <th>OUT019</th>\n",
       "      <td>880</td>\n",
       "    </tr>\n",
       "    <tr>\n",
       "      <th rowspan=\"6\" valign=\"top\">Supermarket Type1</th>\n",
       "      <th>OUT013</th>\n",
       "      <td>1553</td>\n",
       "    </tr>\n",
       "    <tr>\n",
       "      <th>OUT017</th>\n",
       "      <td>1543</td>\n",
       "    </tr>\n",
       "    <tr>\n",
       "      <th>OUT035</th>\n",
       "      <td>1550</td>\n",
       "    </tr>\n",
       "    <tr>\n",
       "      <th>OUT045</th>\n",
       "      <td>1548</td>\n",
       "    </tr>\n",
       "    <tr>\n",
       "      <th>OUT046</th>\n",
       "      <td>1550</td>\n",
       "    </tr>\n",
       "    <tr>\n",
       "      <th>OUT049</th>\n",
       "      <td>1550</td>\n",
       "    </tr>\n",
       "    <tr>\n",
       "      <th>Supermarket Type2</th>\n",
       "      <th>OUT018</th>\n",
       "      <td>1546</td>\n",
       "    </tr>\n",
       "    <tr>\n",
       "      <th>Supermarket Type3</th>\n",
       "      <th>OUT027</th>\n",
       "      <td>1559</td>\n",
       "    </tr>\n",
       "  </tbody>\n",
       "</table>\n",
       "</div>"
      ],
      "text/plain": [
       "                                     Item_Identifier\n",
       "Outlet_Type       Outlet_Identifier                 \n",
       "Grocery Store     OUT010                         925\n",
       "                  OUT019                         880\n",
       "Supermarket Type1 OUT013                        1553\n",
       "                  OUT017                        1543\n",
       "                  OUT035                        1550\n",
       "                  OUT045                        1548\n",
       "                  OUT046                        1550\n",
       "                  OUT049                        1550\n",
       "Supermarket Type2 OUT018                        1546\n",
       "Supermarket Type3 OUT027                        1559"
      ]
     },
     "execution_count": 70,
     "metadata": {},
     "output_type": "execute_result"
    }
   ],
   "source": [
    "pd.pivot_table(data,index=['Outlet_Type','Outlet_Identifier'],values=[\"Item_Identifier\"], aggfunc='count')"
   ]
  },
  {
   "cell_type": "code",
   "execution_count": 71,
   "metadata": {
    "collapsed": false
   },
   "outputs": [
    {
     "data": {
      "text/html": [
       "<div>\n",
       "<style>\n",
       "    .dataframe thead tr:only-child th {\n",
       "        text-align: right;\n",
       "    }\n",
       "\n",
       "    .dataframe thead th {\n",
       "        text-align: left;\n",
       "    }\n",
       "\n",
       "    .dataframe tbody tr th {\n",
       "        vertical-align: top;\n",
       "    }\n",
       "</style>\n",
       "<table border=\"1\" class=\"dataframe\">\n",
       "  <thead>\n",
       "    <tr style=\"text-align: right;\">\n",
       "      <th></th>\n",
       "      <th></th>\n",
       "      <th>Item_Identifier</th>\n",
       "    </tr>\n",
       "    <tr>\n",
       "      <th>Outlet_Size</th>\n",
       "      <th>Outlet_Identifier</th>\n",
       "      <th></th>\n",
       "    </tr>\n",
       "  </thead>\n",
       "  <tbody>\n",
       "    <tr>\n",
       "      <th>High</th>\n",
       "      <th>OUT013</th>\n",
       "      <td>1553</td>\n",
       "    </tr>\n",
       "    <tr>\n",
       "      <th rowspan=\"5\" valign=\"top\">Medium</th>\n",
       "      <th>OUT017</th>\n",
       "      <td>1543</td>\n",
       "    </tr>\n",
       "    <tr>\n",
       "      <th>OUT018</th>\n",
       "      <td>1546</td>\n",
       "    </tr>\n",
       "    <tr>\n",
       "      <th>OUT027</th>\n",
       "      <td>1559</td>\n",
       "    </tr>\n",
       "    <tr>\n",
       "      <th>OUT045</th>\n",
       "      <td>1548</td>\n",
       "    </tr>\n",
       "    <tr>\n",
       "      <th>OUT049</th>\n",
       "      <td>1550</td>\n",
       "    </tr>\n",
       "    <tr>\n",
       "      <th rowspan=\"4\" valign=\"top\">Small</th>\n",
       "      <th>OUT010</th>\n",
       "      <td>925</td>\n",
       "    </tr>\n",
       "    <tr>\n",
       "      <th>OUT019</th>\n",
       "      <td>880</td>\n",
       "    </tr>\n",
       "    <tr>\n",
       "      <th>OUT035</th>\n",
       "      <td>1550</td>\n",
       "    </tr>\n",
       "    <tr>\n",
       "      <th>OUT046</th>\n",
       "      <td>1550</td>\n",
       "    </tr>\n",
       "  </tbody>\n",
       "</table>\n",
       "</div>"
      ],
      "text/plain": [
       "                               Item_Identifier\n",
       "Outlet_Size Outlet_Identifier                 \n",
       "High        OUT013                        1553\n",
       "Medium      OUT017                        1543\n",
       "            OUT018                        1546\n",
       "            OUT027                        1559\n",
       "            OUT045                        1548\n",
       "            OUT049                        1550\n",
       "Small       OUT010                         925\n",
       "            OUT019                         880\n",
       "            OUT035                        1550\n",
       "            OUT046                        1550"
      ]
     },
     "execution_count": 71,
     "metadata": {},
     "output_type": "execute_result"
    }
   ],
   "source": [
    "#The missing Outlet Sizes are from OUT010, OUT017, OUT045. As OUT019 is Grocery and Small we'll make OUT010 Small too\n",
    "data.loc[data['Outlet_Identifier'] == 'OUT010', 'Outlet_Size'] = 'Small'\n",
    "#High and Medium have similar amounts of products sold, so it's hard to choose where to put OUT017 and OUT045\n",
    "#We'll choose Medium, as this is the more common Outlet Size\n",
    "data.loc[data['Outlet_Identifier'] == 'OUT017', 'Outlet_Size'] = 'Medium'\n",
    "data.loc[data['Outlet_Identifier'] == 'OUT045', 'Outlet_Size'] = 'Medium'\n",
    "pd.pivot_table(data,index=['Outlet_Size','Outlet_Identifier'],values=[\"Item_Identifier\"], aggfunc='count')"
   ]
  },
  {
   "cell_type": "markdown",
   "metadata": {
    "collapsed": true
   },
   "source": [
    "## Export\n",
    "With the data now prepared, I'll export it:"
   ]
  },
  {
   "cell_type": "code",
   "execution_count": 72,
   "metadata": {
    "collapsed": false
   },
   "outputs": [
    {
     "data": {
      "text/plain": [
       "<bound method DataFrame.to_csv of       Item_Fat_Content Item_Identifier  Item_MRP  Item_Outlet_Sales  \\\n",
       "0              Low Fat           FDA15  249.8092          3735.1380   \n",
       "1              Regular           DRC01   48.2692           443.4228   \n",
       "2              Low Fat           FDN15  141.6180          2097.2700   \n",
       "3              Regular           FDX07  182.0950           732.3800   \n",
       "4                 None           NCD19   53.8614           994.7052   \n",
       "5              Regular           FDP36   51.4008           556.6088   \n",
       "6              Regular           FDO10   57.6588           343.5528   \n",
       "7              Low Fat           FDP10  107.7622          4022.7636   \n",
       "8              Regular           FDH17   96.9726          1076.5986   \n",
       "9              Regular           FDU28  187.8214          4710.5350   \n",
       "10             Low Fat           FDY07   45.5402          1516.0266   \n",
       "11             Regular           FDA03  144.1102          2187.1530   \n",
       "12             Regular           FDX32  145.4786          1589.2646   \n",
       "13             Regular           FDS46  119.6782          2145.2076   \n",
       "14             Low Fat           FDF32  196.4426          1977.4260   \n",
       "15             Regular           FDP49   56.3614          1547.3192   \n",
       "16                None           NCB42  115.3492          1621.8888   \n",
       "17             Regular           FDP49   54.3614           718.3982   \n",
       "18             Low Fat           DRI11  113.2834          2303.6680   \n",
       "19             Low Fat           FDU02  230.5352          2748.4224   \n",
       "20             Regular           FDN22  250.8724          3775.0860   \n",
       "21             Regular           FDW12  144.5444          4064.0432   \n",
       "22                None           NCB30  196.5084          1587.2672   \n",
       "23             Low Fat           FDC37  107.6938           214.3876   \n",
       "24             Regular           FDR28  165.0210          4078.0250   \n",
       "25                None           NCD06   45.9060           838.9080   \n",
       "26             Regular           FDV10   42.3112          1065.2800   \n",
       "27             Low Fat           DRJ59   39.1164           308.9312   \n",
       "28             Regular           FDE51   45.5086           178.4344   \n",
       "29             Regular           FDC14   43.6454           125.8362   \n",
       "...                ...             ...       ...                ...   \n",
       "14174          Regular           FDD23  186.1898                NaN   \n",
       "14175          Low Fat           FDP32  126.7678                NaN   \n",
       "14176          Regular           FDO31   80.2960                NaN   \n",
       "14177          Low Fat           FDQ57  144.5760                NaN   \n",
       "14178          Regular           FDX32  143.6786                NaN   \n",
       "14179          Low Fat           FDC39  207.8296                NaN   \n",
       "14180          Low Fat           FDU55  261.3278                NaN   \n",
       "14181          Low Fat           FDL45  123.4704                NaN   \n",
       "14182          Low Fat           DRK37  188.8530                NaN   \n",
       "14183          Low Fat           FDK22  215.3850                NaN   \n",
       "14184          Low Fat           DRG37  155.7972                NaN   \n",
       "14185          Low Fat           FDK22  214.3850                NaN   \n",
       "14186          Low Fat           DRH36   72.8696                NaN   \n",
       "14187          Regular           DRC36  173.4054                NaN   \n",
       "14188          Low Fat           DRE03   46.0718                NaN   \n",
       "14189          Regular           FDF34  196.9084                NaN   \n",
       "14190          Low Fat           FDZ22   82.1250                NaN   \n",
       "14191          Low Fat           FDC44  115.1518                NaN   \n",
       "14192          Low Fat           FDN31  188.0530                NaN   \n",
       "14193          Regular           FDO03  229.4352                NaN   \n",
       "14194          Regular           FDA01   59.5904                NaN   \n",
       "14195             None           NCH42  231.1010                NaN   \n",
       "14196          Low Fat           FDF46  116.0834                NaN   \n",
       "14197          Low Fat           DRL35   43.2770                NaN   \n",
       "14198          Regular           FDW46   63.4484                NaN   \n",
       "14199          Regular           FDB58  141.3154                NaN   \n",
       "14200          Regular           FDD47  169.1448                NaN   \n",
       "14201             None           NCO17  118.7440                NaN   \n",
       "14202          Regular           FDJ26  214.6218                NaN   \n",
       "14203          Regular           FDU37   79.7960                NaN   \n",
       "\n",
       "                   Item_Type  Item_Visibility  Item_Weight  \\\n",
       "0                      Dairy         0.016047        9.300   \n",
       "1                Soft Drinks         0.019278        5.920   \n",
       "2                       Meat         0.016760       17.500   \n",
       "3      Fruits and Vegetables         0.101939       19.200   \n",
       "4                  Household         0.060242        8.930   \n",
       "5               Baking Goods         0.059976       10.395   \n",
       "6                Snack Foods         0.012741       13.650   \n",
       "7                Snack Foods         0.127470          NaN   \n",
       "8               Frozen Foods         0.016687       16.200   \n",
       "9               Frozen Foods         0.094450       19.200   \n",
       "10     Fruits and Vegetables         0.059000       11.800   \n",
       "11                     Dairy         0.045464       18.500   \n",
       "12     Fruits and Vegetables         0.100014       15.100   \n",
       "13               Snack Foods         0.047257       17.600   \n",
       "14     Fruits and Vegetables         0.068024       16.350   \n",
       "15                    Others         0.069089        9.000   \n",
       "16        Health and Hygiene         0.008596       11.800   \n",
       "17                    Others         0.069196        9.000   \n",
       "18                    Others         0.034238          NaN   \n",
       "19                     Dairy         0.102492       13.350   \n",
       "20               Snack Foods         0.138190       18.850   \n",
       "21              Baking Goods         0.035400          NaN   \n",
       "22                 Household         0.025698       14.600   \n",
       "23              Baking Goods         0.057557          NaN   \n",
       "24              Frozen Foods         0.025896       13.850   \n",
       "25                 Household         0.099887       13.000   \n",
       "26               Snack Foods         0.066693        7.645   \n",
       "27                    Others         0.019356       11.650   \n",
       "28                     Dairy         0.161467        5.925   \n",
       "29                    Canned         0.072222          NaN   \n",
       "...                      ...              ...          ...   \n",
       "14174                 Others         0.048645        9.500   \n",
       "14175  Fruits and Vegetables         0.087847        6.650   \n",
       "14176  Fruits and Vegetables         0.028977        6.760   \n",
       "14177            Snack Foods         0.060242        7.275   \n",
       "14178  Fruits and Vegetables         0.099375          NaN   \n",
       "14179                  Dairy         0.158425          NaN   \n",
       "14180  Fruits and Vegetables         0.035911       16.200   \n",
       "14181            Snack Foods         0.037656       15.600   \n",
       "14182            Soft Drinks         0.044073        5.000   \n",
       "14183            Snack Foods         0.026065        9.800   \n",
       "14184            Soft Drinks         0.060344          NaN   \n",
       "14185            Snack Foods         0.026234        9.800   \n",
       "14186            Soft Drinks         0.033516       16.200   \n",
       "14187            Soft Drinks         0.045168       13.000   \n",
       "14188                  Dairy         0.024110          NaN   \n",
       "14189            Snack Foods         0.014019        9.300   \n",
       "14190            Snack Foods         0.045270        9.395   \n",
       "14191  Fruits and Vegetables         0.288892       15.600   \n",
       "14192  Fruits and Vegetables         0.072529          NaN   \n",
       "14193                   Meat         0.037092       10.395   \n",
       "14194                 Canned         0.054463       15.000   \n",
       "14195              Household         0.036594        6.860   \n",
       "14196            Snack Foods         0.094053        7.070   \n",
       "14197                 Others         0.030704       15.700   \n",
       "14198            Snack Foods         0.070411       13.000   \n",
       "14199            Snack Foods         0.013496       10.500   \n",
       "14200                 Others         0.142991        7.600   \n",
       "14201     Health and Hygiene         0.073529       10.000   \n",
       "14202                 Canned         0.061142       15.300   \n",
       "14203                 Canned         0.104720        9.500   \n",
       "\n",
       "       Outlet_Establishment_Year Outlet_Identifier Outlet_Location_Type  \\\n",
       "0                             14            OUT049               Tier 1   \n",
       "1                              4            OUT018               Tier 3   \n",
       "2                             14            OUT049               Tier 1   \n",
       "3                             15            OUT010               Tier 3   \n",
       "4                             26            OUT013               Tier 3   \n",
       "5                              4            OUT018               Tier 3   \n",
       "6                             26            OUT013               Tier 3   \n",
       "7                             28            OUT027               Tier 3   \n",
       "8                             11            OUT045               Tier 2   \n",
       "9                              6            OUT017               Tier 2   \n",
       "10                            14            OUT049               Tier 1   \n",
       "11                            16            OUT046               Tier 1   \n",
       "12                            14            OUT049               Tier 1   \n",
       "13                            16            OUT046               Tier 1   \n",
       "14                            26            OUT013               Tier 3   \n",
       "15                            16            OUT046               Tier 1   \n",
       "16                             4            OUT018               Tier 3   \n",
       "17                            14            OUT049               Tier 1   \n",
       "18                            28            OUT027               Tier 3   \n",
       "19                             9            OUT035               Tier 2   \n",
       "20                            26            OUT013               Tier 3   \n",
       "21                            28            OUT027               Tier 3   \n",
       "22                             9            OUT035               Tier 2   \n",
       "23                            28            OUT019               Tier 1   \n",
       "24                            16            OUT046               Tier 1   \n",
       "25                             6            OUT017               Tier 2   \n",
       "26                             9            OUT035               Tier 2   \n",
       "27                            26            OUT013               Tier 3   \n",
       "28                            15            OUT010               Tier 3   \n",
       "29                            28            OUT019               Tier 1   \n",
       "...                          ...               ...                  ...   \n",
       "14174                         26            OUT013               Tier 3   \n",
       "14175                         11            OUT045               Tier 2   \n",
       "14176                          9            OUT035               Tier 2   \n",
       "14177                         26            OUT013               Tier 3   \n",
       "14178                         28            OUT027               Tier 3   \n",
       "14179                         28            OUT027               Tier 3   \n",
       "14180                         16            OUT046               Tier 1   \n",
       "14181                         26            OUT013               Tier 3   \n",
       "14182                         14            OUT049               Tier 1   \n",
       "14183                         26            OUT013               Tier 3   \n",
       "14184                         28            OUT027               Tier 3   \n",
       "14185                          6            OUT017               Tier 2   \n",
       "14186                          4            OUT018               Tier 3   \n",
       "14187                          4            OUT018               Tier 3   \n",
       "14188                         28            OUT027               Tier 3   \n",
       "14189                         16            OUT046               Tier 1   \n",
       "14190                         16            OUT046               Tier 1   \n",
       "14191                         15            OUT010               Tier 3   \n",
       "14192                         28            OUT027               Tier 3   \n",
       "14193                          6            OUT017               Tier 2   \n",
       "14194                         14            OUT049               Tier 1   \n",
       "14195                         14            OUT049               Tier 1   \n",
       "14196                          4            OUT018               Tier 3   \n",
       "14197                         16            OUT046               Tier 1   \n",
       "14198                         14            OUT049               Tier 1   \n",
       "14199                         16            OUT046               Tier 1   \n",
       "14200                          4            OUT018               Tier 3   \n",
       "14201                         11            OUT045               Tier 2   \n",
       "14202                          6            OUT017               Tier 2   \n",
       "14203                         11            OUT045               Tier 2   \n",
       "\n",
       "      Outlet_Size        Outlet_Type source Item_Type_Combined  \\\n",
       "0          Medium  Supermarket Type1  train               Food   \n",
       "1          Medium  Supermarket Type2  train             Drinks   \n",
       "2          Medium  Supermarket Type1  train               Food   \n",
       "3           Small      Grocery Store  train               Food   \n",
       "4            High  Supermarket Type1  train     Non-Consumable   \n",
       "5          Medium  Supermarket Type2  train               Food   \n",
       "6            High  Supermarket Type1  train               Food   \n",
       "7          Medium  Supermarket Type3  train               Food   \n",
       "8          Medium  Supermarket Type1  train               Food   \n",
       "9          Medium  Supermarket Type1  train               Food   \n",
       "10         Medium  Supermarket Type1  train               Food   \n",
       "11          Small  Supermarket Type1  train               Food   \n",
       "12         Medium  Supermarket Type1  train               Food   \n",
       "13          Small  Supermarket Type1  train               Food   \n",
       "14           High  Supermarket Type1  train               Food   \n",
       "15          Small  Supermarket Type1  train               Food   \n",
       "16         Medium  Supermarket Type2  train     Non-Consumable   \n",
       "17         Medium  Supermarket Type1  train               Food   \n",
       "18         Medium  Supermarket Type3  train             Drinks   \n",
       "19          Small  Supermarket Type1  train               Food   \n",
       "20           High  Supermarket Type1  train               Food   \n",
       "21         Medium  Supermarket Type3  train               Food   \n",
       "22          Small  Supermarket Type1  train     Non-Consumable   \n",
       "23          Small      Grocery Store  train               Food   \n",
       "24          Small  Supermarket Type1  train               Food   \n",
       "25         Medium  Supermarket Type1  train     Non-Consumable   \n",
       "26          Small  Supermarket Type1  train               Food   \n",
       "27           High  Supermarket Type1  train             Drinks   \n",
       "28          Small      Grocery Store  train               Food   \n",
       "29          Small      Grocery Store  train               Food   \n",
       "...           ...                ...    ...                ...   \n",
       "14174        High  Supermarket Type1   test               Food   \n",
       "14175      Medium  Supermarket Type1   test               Food   \n",
       "14176       Small  Supermarket Type1   test               Food   \n",
       "14177        High  Supermarket Type1   test               Food   \n",
       "14178      Medium  Supermarket Type3   test               Food   \n",
       "14179      Medium  Supermarket Type3   test               Food   \n",
       "14180       Small  Supermarket Type1   test               Food   \n",
       "14181        High  Supermarket Type1   test               Food   \n",
       "14182      Medium  Supermarket Type1   test             Drinks   \n",
       "14183        High  Supermarket Type1   test               Food   \n",
       "14184      Medium  Supermarket Type3   test             Drinks   \n",
       "14185      Medium  Supermarket Type1   test               Food   \n",
       "14186      Medium  Supermarket Type2   test             Drinks   \n",
       "14187      Medium  Supermarket Type2   test             Drinks   \n",
       "14188      Medium  Supermarket Type3   test             Drinks   \n",
       "14189       Small  Supermarket Type1   test               Food   \n",
       "14190       Small  Supermarket Type1   test               Food   \n",
       "14191       Small      Grocery Store   test               Food   \n",
       "14192      Medium  Supermarket Type3   test               Food   \n",
       "14193      Medium  Supermarket Type1   test               Food   \n",
       "14194      Medium  Supermarket Type1   test               Food   \n",
       "14195      Medium  Supermarket Type1   test     Non-Consumable   \n",
       "14196      Medium  Supermarket Type2   test               Food   \n",
       "14197       Small  Supermarket Type1   test             Drinks   \n",
       "14198      Medium  Supermarket Type1   test               Food   \n",
       "14199       Small  Supermarket Type1   test               Food   \n",
       "14200      Medium  Supermarket Type2   test               Food   \n",
       "14201      Medium  Supermarket Type1   test     Non-Consumable   \n",
       "14202      Medium  Supermarket Type1   test               Food   \n",
       "14203      Medium  Supermarket Type1   test               Food   \n",
       "\n",
       "      Item_Price_Range  \n",
       "0            Very High  \n",
       "1                  Low  \n",
       "2                 High  \n",
       "3                 High  \n",
       "4                  Low  \n",
       "5                  Low  \n",
       "6                  Low  \n",
       "7               Medium  \n",
       "8               Medium  \n",
       "9                 High  \n",
       "10                 Low  \n",
       "11                High  \n",
       "12                High  \n",
       "13              Medium  \n",
       "14                High  \n",
       "15                 Low  \n",
       "16              Medium  \n",
       "17                 Low  \n",
       "18              Medium  \n",
       "19           Very High  \n",
       "20           Very High  \n",
       "21                High  \n",
       "22                High  \n",
       "23              Medium  \n",
       "24                High  \n",
       "25                 Low  \n",
       "26                 Low  \n",
       "27                 Low  \n",
       "28                 Low  \n",
       "29                 Low  \n",
       "...                ...  \n",
       "14174             High  \n",
       "14175           Medium  \n",
       "14176           Medium  \n",
       "14177             High  \n",
       "14178             High  \n",
       "14179        Very High  \n",
       "14180        Very High  \n",
       "14181           Medium  \n",
       "14182             High  \n",
       "14183        Very High  \n",
       "14184             High  \n",
       "14185        Very High  \n",
       "14186           Medium  \n",
       "14187             High  \n",
       "14188              Low  \n",
       "14189             High  \n",
       "14190           Medium  \n",
       "14191           Medium  \n",
       "14192             High  \n",
       "14193        Very High  \n",
       "14194              Low  \n",
       "14195        Very High  \n",
       "14196           Medium  \n",
       "14197              Low  \n",
       "14198              Low  \n",
       "14199             High  \n",
       "14200             High  \n",
       "14201           Medium  \n",
       "14202        Very High  \n",
       "14203           Medium  \n",
       "\n",
       "[14204 rows x 15 columns]>"
      ]
     },
     "execution_count": 72,
     "metadata": {},
     "output_type": "execute_result"
    }
   ],
   "source": [
    "data.to_csv"
   ]
  },
  {
   "cell_type": "code",
   "execution_count": null,
   "metadata": {
    "collapsed": true
   },
   "outputs": [],
   "source": []
  }
 ],
 "metadata": {
  "anaconda-cloud": {},
  "kernelspec": {
   "display_name": "Python [default]",
   "language": "python",
   "name": "python3"
  },
  "language_info": {
   "codemirror_mode": {
    "name": "ipython",
    "version": 3
   },
   "file_extension": ".py",
   "mimetype": "text/x-python",
   "name": "python",
   "nbconvert_exporter": "python",
   "pygments_lexer": "ipython3",
   "version": "3.5.2"
  }
 },
 "nbformat": 4,
 "nbformat_minor": 1
}
