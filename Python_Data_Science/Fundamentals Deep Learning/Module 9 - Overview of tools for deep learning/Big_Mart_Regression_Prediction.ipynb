{
 "cells": [
  {
   "cell_type": "markdown",
   "metadata": {
    "id": "QdxTiBwfgUQc"
   },
   "source": [
    "# Processing Steps\n",
    "\n",
    "<ol>1. Load data</ol>\n",
    "<ol>2. Explore data</ol>\n",
    "<ol>3. Modify data</ol>\n",
    "<ol>4. Missing values</ol>\n",
    "<ol>5. Feature Engineering</ol>\n",
    "<ol>6. Converting categories to numbers</ol>\n",
    "<ol>7. Scale data</ol>\n",
    "<ol>8. Modeling</ol>\n",
    "\n",
    "**Don't forget to:  'conda activate deep' first!**"
   ]
  },
  {
   "cell_type": "code",
   "execution_count": 208,
   "metadata": {},
   "outputs": [],
   "source": [
    "# Remeber to install the kernel so it is availble in Jupyer Lanb/Notebooks\n",
    "# python -m ipykernel install --user --name deep --display-name \"deep\""
   ]
  },
  {
   "cell_type": "code",
   "execution_count": 209,
   "metadata": {
    "id": "as3tljzfglKN"
   },
   "outputs": [],
   "source": [
    "# importing the required libraries\n",
    "import pandas as pd\n",
    "import numpy as np\n",
    "import sklearn\n",
    "from sklearn.model_selection import train_test_split\n",
    "from sklearn.metrics import accuracy_score\n",
    "from sklearn.preprocessing import LabelEncoder\n",
    "import matplotlib.pyplot as plt\n",
    "%matplotlib inline\n",
    "\n",
    "import seaborn as sns\n",
    "sns.set()\n",
    "\n",
    "import warnings\n",
    "warnings.filterwarnings('ignore')"
   ]
  },
  {
   "cell_type": "code",
   "execution_count": 210,
   "metadata": {},
   "outputs": [
    {
     "name": "stdout",
     "output_type": "stream",
     "text": [
      "2.4.3\n"
     ]
    }
   ],
   "source": [
    "# checking the version of keras\n",
    "import keras\n",
    "print(keras.__version__)"
   ]
  },
  {
   "cell_type": "code",
   "execution_count": 211,
   "metadata": {},
   "outputs": [
    {
     "name": "stdout",
     "output_type": "stream",
     "text": [
      "2.3.0\n"
     ]
    }
   ],
   "source": [
    "# checking the version of tensorflow\n",
    "import tensorflow as tf\n",
    "print(tf.__version__)"
   ]
  },
  {
   "cell_type": "code",
   "execution_count": 212,
   "metadata": {
    "id": "w1jM40_R_49f"
   },
   "outputs": [],
   "source": [
    "# ! pip install siuba\r\n",
    "# from siuba import *"
   ]
  },
  {
   "cell_type": "code",
   "execution_count": 213,
   "metadata": {
    "id": "MCfokZKBsvvp"
   },
   "outputs": [],
   "source": [
    "# ! pip install plotnine\r\n",
    "# from plotnine import *"
   ]
  },
  {
   "cell_type": "code",
   "execution_count": 214,
   "metadata": {
    "id": "N1174ZAOqvyo"
   },
   "outputs": [],
   "source": [
    "# Not sure what this does.  Perhaps the code relies in an older version of Tensorflow?\n",
    "# %tensorflow_version 1.x"
   ]
  },
  {
   "cell_type": "code",
   "execution_count": 215,
   "metadata": {},
   "outputs": [],
   "source": [
    "# Below uasing boostrap formating.  See https://www.w3schools.com/bootstrap/bootstrap_alerts.asp"
   ]
  },
  {
   "cell_type": "markdown",
   "metadata": {
    "id": "-WjdHQNW5UGw"
   },
   "source": [
    "<div class=\"alert alert-block alert-info\"><H2>1. Load Data</H2></div>"
   ]
  },
  {
   "cell_type": "code",
   "execution_count": 216,
   "metadata": {
    "id": "LLs73an_gUQ2"
   },
   "outputs": [],
   "source": [
    "# Data downloaded from here: https://datahack.analyticsvidhya.com/contest/big-mart-sales-prediction/\n",
    "# Available locally here:  C:\\Users\\czwea\\Analytics_Vidhya\\Fundamentals Deep Learning\\Module 9 - Overview of tools for deep learning\n",
    "train = pd.read_csv('train_BigMart.csv')\n",
    "test = pd.read_csv('test_BigMart.csv')"
   ]
  },
  {
   "cell_type": "code",
   "execution_count": 217,
   "metadata": {},
   "outputs": [
    {
     "name": "stdout",
     "output_type": "stream",
     "text": [
      "All Data:  (14204, 13) \n",
      "train:  (8523, 13) \n",
      "test:  (5681, 12)\n"
     ]
    }
   ],
   "source": [
    "train['source']='train'\n",
    "test['source']='test'\n",
    "data_all = pd.concat([train, test], ignore_index = True)\n",
    "\n",
    "print('All Data: ', data_all.shape, '\\ntrain: ', train.shape, '\\ntest: ', test.shape)"
   ]
  },
  {
   "cell_type": "markdown",
   "metadata": {},
   "source": [
    "- Item_Identifier: Unique product ID\n",
    "- Item_Weight: Weight of product\n",
    "- Item_Fat_Content: Whether the product is low fat or not\n",
    "- Item_Visibility: The % of total display area of all products in a store allocated to the particular product\n",
    "- Item_Type: The category to which the product belongs\n",
    "- Item_MRP: Maximum Retail Price (list price) of the product\n",
    "- Outlet_Identifier: Unique store ID\n",
    "- Outlet_Establishment_Year: The year in which store was established\n",
    "- Outlet_Size: The size of the store in terms of ground area covered\n",
    "- Outlet_Location_Type: The type of city in which the store is located\n",
    "- Outlet_Type: Whether the outlet is just a grocery store or some sort of supermarket\n",
    "- Item_Outlet_Sales: Sales of the product in the particular store. This is the outcome variable to be predicted."
   ]
  },
  {
   "cell_type": "code",
   "execution_count": 218,
   "metadata": {
    "colab": {
     "base_uri": "https://localhost:8080/",
     "height": 204
    },
    "id": "4EbJ0M-pgURA",
    "outputId": "23c690fc-27b8-40b9-d327-fa2865be0aec"
   },
   "outputs": [
    {
     "data": {
      "text/html": [
       "<div>\n",
       "<style scoped>\n",
       "    .dataframe tbody tr th:only-of-type {\n",
       "        vertical-align: middle;\n",
       "    }\n",
       "\n",
       "    .dataframe tbody tr th {\n",
       "        vertical-align: top;\n",
       "    }\n",
       "\n",
       "    .dataframe thead th {\n",
       "        text-align: right;\n",
       "    }\n",
       "</style>\n",
       "<table border=\"1\" class=\"dataframe\">\n",
       "  <thead>\n",
       "    <tr style=\"text-align: right;\">\n",
       "      <th></th>\n",
       "      <th>Item_Identifier</th>\n",
       "      <th>Item_Weight</th>\n",
       "      <th>Item_Fat_Content</th>\n",
       "      <th>Item_Visibility</th>\n",
       "      <th>Item_Type</th>\n",
       "      <th>Item_MRP</th>\n",
       "      <th>Outlet_Identifier</th>\n",
       "      <th>Outlet_Establishment_Year</th>\n",
       "      <th>Outlet_Size</th>\n",
       "      <th>Outlet_Location_Type</th>\n",
       "      <th>Outlet_Type</th>\n",
       "      <th>Item_Outlet_Sales</th>\n",
       "      <th>source</th>\n",
       "    </tr>\n",
       "  </thead>\n",
       "  <tbody>\n",
       "    <tr>\n",
       "      <th>0</th>\n",
       "      <td>FDA15</td>\n",
       "      <td>9.30</td>\n",
       "      <td>Low Fat</td>\n",
       "      <td>0.016047</td>\n",
       "      <td>Dairy</td>\n",
       "      <td>249.8092</td>\n",
       "      <td>OUT049</td>\n",
       "      <td>1999</td>\n",
       "      <td>Medium</td>\n",
       "      <td>Tier 1</td>\n",
       "      <td>Supermarket Type1</td>\n",
       "      <td>3735.1380</td>\n",
       "      <td>train</td>\n",
       "    </tr>\n",
       "    <tr>\n",
       "      <th>1</th>\n",
       "      <td>DRC01</td>\n",
       "      <td>5.92</td>\n",
       "      <td>Regular</td>\n",
       "      <td>0.019278</td>\n",
       "      <td>Soft Drinks</td>\n",
       "      <td>48.2692</td>\n",
       "      <td>OUT018</td>\n",
       "      <td>2009</td>\n",
       "      <td>Medium</td>\n",
       "      <td>Tier 3</td>\n",
       "      <td>Supermarket Type2</td>\n",
       "      <td>443.4228</td>\n",
       "      <td>train</td>\n",
       "    </tr>\n",
       "    <tr>\n",
       "      <th>2</th>\n",
       "      <td>FDN15</td>\n",
       "      <td>17.50</td>\n",
       "      <td>Low Fat</td>\n",
       "      <td>0.016760</td>\n",
       "      <td>Meat</td>\n",
       "      <td>141.6180</td>\n",
       "      <td>OUT049</td>\n",
       "      <td>1999</td>\n",
       "      <td>Medium</td>\n",
       "      <td>Tier 1</td>\n",
       "      <td>Supermarket Type1</td>\n",
       "      <td>2097.2700</td>\n",
       "      <td>train</td>\n",
       "    </tr>\n",
       "    <tr>\n",
       "      <th>3</th>\n",
       "      <td>FDX07</td>\n",
       "      <td>19.20</td>\n",
       "      <td>Regular</td>\n",
       "      <td>0.000000</td>\n",
       "      <td>Fruits and Vegetables</td>\n",
       "      <td>182.0950</td>\n",
       "      <td>OUT010</td>\n",
       "      <td>1998</td>\n",
       "      <td>NaN</td>\n",
       "      <td>Tier 3</td>\n",
       "      <td>Grocery Store</td>\n",
       "      <td>732.3800</td>\n",
       "      <td>train</td>\n",
       "    </tr>\n",
       "    <tr>\n",
       "      <th>4</th>\n",
       "      <td>NCD19</td>\n",
       "      <td>8.93</td>\n",
       "      <td>Low Fat</td>\n",
       "      <td>0.000000</td>\n",
       "      <td>Household</td>\n",
       "      <td>53.8614</td>\n",
       "      <td>OUT013</td>\n",
       "      <td>1987</td>\n",
       "      <td>High</td>\n",
       "      <td>Tier 3</td>\n",
       "      <td>Supermarket Type1</td>\n",
       "      <td>994.7052</td>\n",
       "      <td>train</td>\n",
       "    </tr>\n",
       "  </tbody>\n",
       "</table>\n",
       "</div>"
      ],
      "text/plain": [
       "  Item_Identifier  Item_Weight Item_Fat_Content  Item_Visibility  \\\n",
       "0           FDA15         9.30          Low Fat         0.016047   \n",
       "1           DRC01         5.92          Regular         0.019278   \n",
       "2           FDN15        17.50          Low Fat         0.016760   \n",
       "3           FDX07        19.20          Regular         0.000000   \n",
       "4           NCD19         8.93          Low Fat         0.000000   \n",
       "\n",
       "               Item_Type  Item_MRP Outlet_Identifier  \\\n",
       "0                  Dairy  249.8092            OUT049   \n",
       "1            Soft Drinks   48.2692            OUT018   \n",
       "2                   Meat  141.6180            OUT049   \n",
       "3  Fruits and Vegetables  182.0950            OUT010   \n",
       "4              Household   53.8614            OUT013   \n",
       "\n",
       "   Outlet_Establishment_Year Outlet_Size Outlet_Location_Type  \\\n",
       "0                       1999      Medium               Tier 1   \n",
       "1                       2009      Medium               Tier 3   \n",
       "2                       1999      Medium               Tier 1   \n",
       "3                       1998         NaN               Tier 3   \n",
       "4                       1987        High               Tier 3   \n",
       "\n",
       "         Outlet_Type  Item_Outlet_Sales source  \n",
       "0  Supermarket Type1          3735.1380  train  \n",
       "1  Supermarket Type2           443.4228  train  \n",
       "2  Supermarket Type1          2097.2700  train  \n",
       "3      Grocery Store           732.3800  train  \n",
       "4  Supermarket Type1           994.7052  train  "
      ]
     },
     "execution_count": 218,
     "metadata": {},
     "output_type": "execute_result"
    }
   ],
   "source": [
    "# looking at the first five rows of the data\n",
    "data_all.head()"
   ]
  },
  {
   "cell_type": "markdown",
   "metadata": {
    "id": "fWPwFG5x5fza"
   },
   "source": [
    "<div class=\"alert alert-block alert-info\"><H2>2. Explore Data</H2></div>"
   ]
  },
  {
   "cell_type": "code",
   "execution_count": 219,
   "metadata": {
    "colab": {
     "base_uri": "https://localhost:8080/",
     "height": 390
    },
    "id": "oFEUS0JN5md2",
    "outputId": "efa44c55-17b4-4e15-9bf5-5d9dc7de64db"
   },
   "outputs": [
    {
     "data": {
      "text/html": [
       "<div>\n",
       "<style scoped>\n",
       "    .dataframe tbody tr th:only-of-type {\n",
       "        vertical-align: middle;\n",
       "    }\n",
       "\n",
       "    .dataframe tbody tr th {\n",
       "        vertical-align: top;\n",
       "    }\n",
       "\n",
       "    .dataframe thead th {\n",
       "        text-align: right;\n",
       "    }\n",
       "</style>\n",
       "<table border=\"1\" class=\"dataframe\">\n",
       "  <thead>\n",
       "    <tr style=\"text-align: right;\">\n",
       "      <th></th>\n",
       "      <th>Item_Weight</th>\n",
       "      <th>Item_Visibility</th>\n",
       "      <th>Item_MRP</th>\n",
       "      <th>Outlet_Establishment_Year</th>\n",
       "    </tr>\n",
       "  </thead>\n",
       "  <tbody>\n",
       "    <tr>\n",
       "      <th>count</th>\n",
       "      <td>11765.000000</td>\n",
       "      <td>14204.000000</td>\n",
       "      <td>14204.000000</td>\n",
       "      <td>14204.000000</td>\n",
       "    </tr>\n",
       "    <tr>\n",
       "      <th>mean</th>\n",
       "      <td>12.792854</td>\n",
       "      <td>0.065953</td>\n",
       "      <td>141.004977</td>\n",
       "      <td>1997.830681</td>\n",
       "    </tr>\n",
       "    <tr>\n",
       "      <th>std</th>\n",
       "      <td>4.652502</td>\n",
       "      <td>0.051459</td>\n",
       "      <td>62.086938</td>\n",
       "      <td>8.371664</td>\n",
       "    </tr>\n",
       "    <tr>\n",
       "      <th>min</th>\n",
       "      <td>4.555000</td>\n",
       "      <td>0.000000</td>\n",
       "      <td>31.290000</td>\n",
       "      <td>1985.000000</td>\n",
       "    </tr>\n",
       "    <tr>\n",
       "      <th>25%</th>\n",
       "      <td>8.710000</td>\n",
       "      <td>0.027036</td>\n",
       "      <td>94.012000</td>\n",
       "      <td>1987.000000</td>\n",
       "    </tr>\n",
       "    <tr>\n",
       "      <th>50%</th>\n",
       "      <td>12.600000</td>\n",
       "      <td>0.054021</td>\n",
       "      <td>142.247000</td>\n",
       "      <td>1999.000000</td>\n",
       "    </tr>\n",
       "    <tr>\n",
       "      <th>75%</th>\n",
       "      <td>16.750000</td>\n",
       "      <td>0.094037</td>\n",
       "      <td>185.855600</td>\n",
       "      <td>2004.000000</td>\n",
       "    </tr>\n",
       "    <tr>\n",
       "      <th>max</th>\n",
       "      <td>21.350000</td>\n",
       "      <td>0.328391</td>\n",
       "      <td>266.888400</td>\n",
       "      <td>2009.000000</td>\n",
       "    </tr>\n",
       "  </tbody>\n",
       "</table>\n",
       "</div>"
      ],
      "text/plain": [
       "        Item_Weight  Item_Visibility      Item_MRP  Outlet_Establishment_Year\n",
       "count  11765.000000     14204.000000  14204.000000               14204.000000\n",
       "mean      12.792854         0.065953    141.004977                1997.830681\n",
       "std        4.652502         0.051459     62.086938                   8.371664\n",
       "min        4.555000         0.000000     31.290000                1985.000000\n",
       "25%        8.710000         0.027036     94.012000                1987.000000\n",
       "50%       12.600000         0.054021    142.247000                1999.000000\n",
       "75%       16.750000         0.094037    185.855600                2004.000000\n",
       "max       21.350000         0.328391    266.888400                2009.000000"
      ]
     },
     "execution_count": 219,
     "metadata": {},
     "output_type": "execute_result"
    }
   ],
   "source": [
    "data_all.drop('Item_Outlet_Sales', axis = 1).describe()"
   ]
  },
  {
   "cell_type": "markdown",
   "metadata": {},
   "source": [
    "Note `Item_Visibility` min value 0.00."
   ]
  },
  {
   "cell_type": "code",
   "execution_count": 220,
   "metadata": {
    "colab": {
     "base_uri": "https://localhost:8080/"
    },
    "id": "WoAqN1FIgURj",
    "outputId": "de42c7ef-d096-4290-ebc9-01fc0c3b827e",
    "scrolled": true
   },
   "outputs": [
    {
     "data": {
      "text/plain": [
       "Item_Identifier               object\n",
       "Item_Weight                  float64\n",
       "Item_Fat_Content              object\n",
       "Item_Visibility              float64\n",
       "Item_Type                     object\n",
       "Item_MRP                     float64\n",
       "Outlet_Identifier             object\n",
       "Outlet_Establishment_Year      int64\n",
       "Outlet_Size                   object\n",
       "Outlet_Location_Type          object\n",
       "Outlet_Type                   object\n",
       "Item_Outlet_Sales            float64\n",
       "source                        object\n",
       "dtype: object"
      ]
     },
     "execution_count": 220,
     "metadata": {},
     "output_type": "execute_result"
    }
   ],
   "source": [
    "# data types of the variables\n",
    "data_all.dtypes"
   ]
  },
  {
   "cell_type": "code",
   "execution_count": 221,
   "metadata": {
    "colab": {
     "base_uri": "https://localhost:8080/"
    },
    "id": "FpY683r0gURY",
    "outputId": "51465405-f616-42eb-f97a-0a4fa2d459b2"
   },
   "outputs": [
    {
     "data": {
      "text/plain": [
       "Item_Identifier                 0\n",
       "Item_Weight                  2439\n",
       "Item_Fat_Content                0\n",
       "Item_Visibility                 0\n",
       "Item_Type                       0\n",
       "Item_MRP                        0\n",
       "Outlet_Identifier               0\n",
       "Outlet_Establishment_Year       0\n",
       "Outlet_Size                  4016\n",
       "Outlet_Location_Type            0\n",
       "Outlet_Type                     0\n",
       "source                          0\n",
       "dtype: int64"
      ]
     },
     "execution_count": 221,
     "metadata": {},
     "output_type": "execute_result"
    }
   ],
   "source": [
    "# checking missing values in the data exept for the sales since that is not in the test data\n",
    "data_all.drop('Item_Outlet_Sales', axis = 1).isnull().sum()"
   ]
  },
  {
   "cell_type": "code",
   "execution_count": 222,
   "metadata": {
    "colab": {
     "base_uri": "https://localhost:8080/"
    },
    "id": "BU5zPoNn5mky",
    "outputId": "c2474aa3-b38a-4d6a-b299-5c7110592f14"
   },
   "outputs": [
    {
     "data": {
      "text/plain": [
       "Item_Identifier               1559\n",
       "Item_Weight                    415\n",
       "Item_Fat_Content                 5\n",
       "Item_Visibility              13006\n",
       "Item_Type                       16\n",
       "Item_MRP                      8052\n",
       "Outlet_Identifier               10\n",
       "Outlet_Establishment_Year        9\n",
       "Outlet_Size                      3\n",
       "Outlet_Location_Type             3\n",
       "Outlet_Type                      4\n",
       "Item_Outlet_Sales             3493\n",
       "source                           2\n",
       "dtype: int64"
      ]
     },
     "execution_count": 222,
     "metadata": {},
     "output_type": "execute_result"
    }
   ],
   "source": [
    "data_all.nunique()"
   ]
  },
  {
   "cell_type": "code",
   "execution_count": 223,
   "metadata": {},
   "outputs": [
    {
     "name": "stdout",
     "output_type": "stream",
     "text": [
      "\n",
      "Frequency of Categories for variable Item_Fat_Content\n",
      "Low Fat    8485\n",
      "Regular    4824\n",
      "LF          522\n",
      "reg         195\n",
      "low fat     178\n",
      "Name: Item_Fat_Content, dtype: int64\n",
      "\n",
      "Frequency of Categories for variable Item_Type\n",
      "Fruits and Vegetables    2013\n",
      "Snack Foods              1989\n",
      "Household                1548\n",
      "Frozen Foods             1426\n",
      "Dairy                    1136\n",
      "Baking Goods             1086\n",
      "Canned                   1084\n",
      "Health and Hygiene        858\n",
      "Meat                      736\n",
      "Soft Drinks               726\n",
      "Breads                    416\n",
      "Hard Drinks               362\n",
      "Others                    280\n",
      "Starchy Foods             269\n",
      "Breakfast                 186\n",
      "Seafood                    89\n",
      "Name: Item_Type, dtype: int64\n",
      "\n",
      "Frequency of Categories for variable Outlet_Size\n",
      "Medium    4655\n",
      "Small     3980\n",
      "High      1553\n",
      "Name: Outlet_Size, dtype: int64\n",
      "\n",
      "Frequency of Categories for variable Outlet_Location_Type\n",
      "Tier 3    5583\n",
      "Tier 2    4641\n",
      "Tier 1    3980\n",
      "Name: Outlet_Location_Type, dtype: int64\n",
      "\n",
      "Frequency of Categories for variable Outlet_Type\n",
      "Supermarket Type1    9294\n",
      "Grocery Store        1805\n",
      "Supermarket Type3    1559\n",
      "Supermarket Type2    1546\n",
      "Name: Outlet_Type, dtype: int64\n"
     ]
    }
   ],
   "source": [
    "# freq of each different category in each nomical value\n",
    "\n",
    "# filter the categorical variables\n",
    "categorical_columns = [x for x in data_all.dtypes.index if data_all.dtypes[x]=='object']\n",
    "\n",
    "# exclude the id and source columns\n",
    "categorical_columns = [x for x in categorical_columns if x not in ['Item_Identifier', 'Outlet_Identifier', 'source']]\n",
    "\n",
    "# print the frequency of categories\n",
    "for col in categorical_columns:\n",
    "    print('\\nFrequency of Categories for variable %s'%(col))\n",
    "    print(data_all[col].value_counts())"
   ]
  },
  {
   "cell_type": "code",
   "execution_count": 224,
   "metadata": {},
   "outputs": [],
   "source": [
    "def relations(x):\n",
    "    Outlet_Identifier_Pivot = data_all.pivot_table(index=x, values='Item_Outlet_Sales', aggfunc=np.median)\n",
    "    Outlet_Identifier_Pivot.plot(kind='bar')\n",
    "    plt.xlabel(x)\n",
    "    plt.ylabel('Item_Outlet_Sales')\n",
    "    plt.show()"
   ]
  },
  {
   "cell_type": "code",
   "execution_count": 225,
   "metadata": {},
   "outputs": [
    {
     "data": {
      "image/png": "[encoded data removed]",
      "text/plain": [
       "<Figure size 432x288 with 1 Axes>"
      ]
     },
     "metadata": {},
     "output_type": "display_data"
    }
   ],
   "source": [
    "relations('Outlet_Establishment_Year')"
   ]
  },
  {
   "cell_type": "code",
   "execution_count": 226,
   "metadata": {},
   "outputs": [
    {
     "data": {
      "image/png": "[encoded data removed]",
      "text/plain": [
       "<Figure size 432x288 with 1 Axes>"
      ]
     },
     "metadata": {},
     "output_type": "display_data"
    }
   ],
   "source": [
    "relations('Outlet_Location_Type')"
   ]
  },
  {
   "cell_type": "code",
   "execution_count": 227,
   "metadata": {},
   "outputs": [
    {
     "data": {
      "image/png": "[encoded data removed]",
      "text/plain": [
       "<Figure size 432x288 with 1 Axes>"
      ]
     },
     "metadata": {},
     "output_type": "display_data"
    }
   ],
   "source": [
    "relations('Outlet_Type')"
   ]
  },
  {
   "cell_type": "code",
   "execution_count": 228,
   "metadata": {},
   "outputs": [
    {
     "data": {
      "image/png": "[encoded data removed]",
      "text/plain": [
       "<Figure size 432x288 with 1 Axes>"
      ]
     },
     "metadata": {},
     "output_type": "display_data"
    }
   ],
   "source": [
    "relations('Outlet_Size')"
   ]
  },
  {
   "cell_type": "code",
   "execution_count": 229,
   "metadata": {},
   "outputs": [
    {
     "data": {
      "image/png": "[encoded data removed]",
      "text/plain": [
       "<Figure size 432x288 with 1 Axes>"
      ]
     },
     "metadata": {},
     "output_type": "display_data"
    }
   ],
   "source": [
    "relations('Outlet_Identifier')"
   ]
  },
  {
   "cell_type": "code",
   "execution_count": 230,
   "metadata": {},
   "outputs": [
    {
     "data": {
      "image/png": "[encoded data removed]",
      "text/plain": [
       "<Figure size 432x288 with 1 Axes>"
      ]
     },
     "metadata": {},
     "output_type": "display_data"
    }
   ],
   "source": [
    "relations('Item_Fat_Content')"
   ]
  },
  {
   "cell_type": "code",
   "execution_count": 231,
   "metadata": {},
   "outputs": [
    {
     "data": {
      "image/png": "[encoded data removed]",
      "text/plain": [
       "<Figure size 432x288 with 1 Axes>"
      ]
     },
     "metadata": {},
     "output_type": "display_data"
    }
   ],
   "source": [
    "relations('Item_Type')"
   ]
  },
  {
   "cell_type": "code",
   "execution_count": 232,
   "metadata": {
    "colab": {
     "base_uri": "https://localhost:8080/",
     "height": 382
    },
    "id": "yYUUm5xHdd1J",
    "outputId": "50cd2aab-bc72-4115-b5b5-0e2b9188f1f9"
   },
   "outputs": [
    {
     "data": {
      "text/plain": [
       "<seaborn.axisgrid.FacetGrid at 0x244d3a350d0>"
      ]
     },
     "execution_count": 232,
     "metadata": {},
     "output_type": "execute_result"
    },
    {
     "data": {
      "image/png": "[encoded data removed]",
      "text/plain": [
       "<Figure size 360x360 with 1 Axes>"
      ]
     },
     "metadata": {},
     "output_type": "display_data"
    }
   ],
   "source": [
    "sns.displot(data_all['Item_Outlet_Sales'])"
   ]
  },
  {
   "cell_type": "code",
   "execution_count": 233,
   "metadata": {
    "colab": {
     "base_uri": "https://localhost:8080/",
     "height": 382
    },
    "id": "6axcftsMdsn3",
    "outputId": "4c3d2636-552b-4b92-d972-add2ebd01af3"
   },
   "outputs": [
    {
     "data": {
      "text/plain": [
       "<seaborn.axisgrid.FacetGrid at 0x244d3a00eb0>"
      ]
     },
     "execution_count": 233,
     "metadata": {},
     "output_type": "execute_result"
    },
    {
     "data": {
      "image/png": "[encoded data removed]",
      "text/plain": [
       "<Figure size 360x360 with 1 Axes>"
      ]
     },
     "metadata": {},
     "output_type": "display_data"
    }
   ],
   "source": [
    "sns.displot(data_all['Item_MRP'])"
   ]
  },
  {
   "cell_type": "code",
   "execution_count": 234,
   "metadata": {
    "colab": {
     "base_uri": "https://localhost:8080/",
     "height": 302
    },
    "id": "rjUcXKK6d3Wm",
    "outputId": "f428fb0b-bce9-4b2f-f7ae-44955671b8e9"
   },
   "outputs": [
    {
     "data": {
      "text/plain": [
       "<AxesSubplot:xlabel='Item_Visibility', ylabel='Item_Outlet_Sales'>"
      ]
     },
     "execution_count": 234,
     "metadata": {},
     "output_type": "execute_result"
    },
    {
     "data": {
      "image/png": "[encoded data removed]",
      "text/plain": [
       "<Figure size 432x288 with 1 Axes>"
      ]
     },
     "metadata": {},
     "output_type": "display_data"
    }
   ],
   "source": [
    "sns.scatterplot(x = \"Item_Visibility\", y = \"Item_Outlet_Sales\", data = data_all)"
   ]
  },
  {
   "cell_type": "code",
   "execution_count": 235,
   "metadata": {},
   "outputs": [
    {
     "data": {
      "image/png": "[encoded data removed]",
      "text/plain": [
       "<Figure size 432x288 with 1 Axes>"
      ]
     },
     "metadata": {},
     "output_type": "display_data"
    },
    {
     "data": {
      "image/png": "[encoded data removed]",
      "text/plain": [
       "<Figure size 432x288 with 1 Axes>"
      ]
     },
     "metadata": {},
     "output_type": "display_data"
    },
    {
     "data": {
      "image/png": "[encoded data removed]",
      "text/plain": [
       "<Figure size 432x288 with 1 Axes>"
      ]
     },
     "metadata": {},
     "output_type": "display_data"
    },
    {
     "data": {
      "image/png": "[encoded data removed]",
      "text/plain": [
       "<Figure size 432x288 with 1 Axes>"
      ]
     },
     "metadata": {},
     "output_type": "display_data"
    },
    {
     "data": {
      "image/png": "[encoded data removed]",
      "text/plain": [
       "<Figure size 432x288 with 1 Axes>"
      ]
     },
     "metadata": {},
     "output_type": "display_data"
    },
    {
     "data": {
      "image/png": "[encoded data removed]",
      "text/plain": [
       "<Figure size 432x288 with 1 Axes>"
      ]
     },
     "metadata": {},
     "output_type": "display_data"
    }
   ],
   "source": [
    "cat = ['Item_Fat_Content','Item_Type','Outlet_Size','Outlet_Establishment_Year',\n",
    "            'Outlet_Location_Type','Outlet_Type']\n",
    "for i in cat:\n",
    "    chart = sns.countplot(data_all[i])\n",
    "    chart.set_xticklabels(chart.get_xticklabels(),rotation=90)\n",
    "    plt.show()"
   ]
  },
  {
   "cell_type": "code",
   "execution_count": 236,
   "metadata": {},
   "outputs": [
    {
     "data": {
      "image/png": "[encoded data removed]",
      "text/plain": [
       "<Figure size 432x288 with 1 Axes>"
      ]
     },
     "metadata": {},
     "output_type": "display_data"
    },
    {
     "data": {
      "image/png": "[encoded data removed]",
      "text/plain": [
       "<Figure size 432x288 with 1 Axes>"
      ]
     },
     "metadata": {},
     "output_type": "display_data"
    },
    {
     "data": {
      "image/png": "[encoded data removed]",
      "text/plain": [
       "<Figure size 432x288 with 1 Axes>"
      ]
     },
     "metadata": {},
     "output_type": "display_data"
    },
    {
     "data": {
      "image/png": "[encoded data removed]",
      "text/plain": [
       "<Figure size 432x288 with 1 Axes>"
      ]
     },
     "metadata": {},
     "output_type": "display_data"
    },
    {
     "data": {
      "image/png": "[encoded data removed]",
      "text/plain": [
       "<Figure size 432x288 with 1 Axes>"
      ]
     },
     "metadata": {},
     "output_type": "display_data"
    },
    {
     "data": {
      "image/png": "[encoded data removed]",
      "text/plain": [
       "<Figure size 432x288 with 1 Axes>"
      ]
     },
     "metadata": {},
     "output_type": "display_data"
    }
   ],
   "source": [
    "for i in cat:\n",
    "    b = pd.pivot_table(data_all, index=i, values = 'Item_Outlet_Sales').sort_values(by = 'Item_Outlet_Sales')\n",
    "    chart = sns.barplot(x = b.index, y = b['Item_Outlet_Sales'])\n",
    "    chart.set_xticklabels(chart.get_xticklabels(), rotation=90)\n",
    "    plt.show()\n",
    "    \n",
    "# Regular and Low fat items have almost similar sales\n",
    "# Outlet 10 and 19 have low sales whereas 27 has highest\n",
    "# Outletd of 1988 have low sales\n",
    "# Grocery stores have lower sales"
   ]
  },
  {
   "cell_type": "code",
   "execution_count": 237,
   "metadata": {},
   "outputs": [
    {
     "data": {
      "text/plain": [
       "<AxesSubplot:xlabel='Item_Outlet_Sales', ylabel='Item_Type'>"
      ]
     },
     "execution_count": 237,
     "metadata": {},
     "output_type": "execute_result"
    },
    {
     "data": {
      "image/png": "[encoded data removed]",
      "text/plain": [
       "<Figure size 1008x864 with 1 Axes>"
      ]
     },
     "metadata": {},
     "output_type": "display_data"
    }
   ],
   "source": [
    "mart = data_all[[\"Item_Outlet_Sales\",\"Item_Type\",\"Item_Visibility\",\"Outlet_Type\"]].groupby([\"Item_Type\",\"Outlet_Type\"]).mean().reset_index()\n",
    "\n",
    "plt.figure(figsize = (14, 12))\n",
    "sns.barplot(x=\"Item_Outlet_Sales\",y = \"Item_Type\", hue=\"Outlet_Type\", data=mart)"
   ]
  },
  {
   "cell_type": "markdown",
   "metadata": {},
   "source": [
    "<div class=\"alert alert-block alert-info\"><H2>3. Modify Data</H2></div>"
   ]
  },
  {
   "cell_type": "code",
   "execution_count": 238,
   "metadata": {},
   "outputs": [],
   "source": [
    "# Fix Item_Fat_Content\n",
    "data_all.Item_Fat_Content = data_all.Item_Fat_Content.replace({'reg':'Regular', 'LF':'Low Fat', 'low fat':'Low Fat'})"
   ]
  },
  {
   "cell_type": "code",
   "execution_count": 239,
   "metadata": {},
   "outputs": [
    {
     "data": {
      "text/plain": [
       "0    FDA15\n",
       "1    DRC01\n",
       "2    FDN15\n",
       "3    FDX07\n",
       "4    NCD19\n",
       "5    FDP36\n",
       "6    FDO10\n",
       "7    FDP10\n",
       "8    FDH17\n",
       "9    FDU28\n",
       "Name: Item_Identifier, dtype: object"
      ]
     },
     "execution_count": 239,
     "metadata": {},
     "output_type": "execute_result"
    }
   ],
   "source": [
    "# Item Identifier first 2 letters suggest categories.\n",
    "data_all.Item_Identifier.head(10)"
   ]
  },
  {
   "cell_type": "code",
   "execution_count": 240,
   "metadata": {},
   "outputs": [
    {
     "data": {
      "text/plain": [
       "Food              10201\n",
       "Non_Consumable     2686\n",
       "Drinks             1317\n",
       "Name: Item_Type_Category, dtype: int64"
      ]
     },
     "execution_count": 240,
     "metadata": {},
     "output_type": "execute_result"
    }
   ],
   "source": [
    "data_all['Item_Type_Category'] = data_all['Item_Identifier'].apply(lambda x: x[0:2])\n",
    "data_all['Item_Type_Category'] = data_all['Item_Type_Category'].map({'FD':'Food', 'NC':'Non_Consumable', 'DR':'Drinks'})\n",
    "data_all['Item_Type_Category'].value_counts()"
   ]
  },
  {
   "cell_type": "code",
   "execution_count": 241,
   "metadata": {},
   "outputs": [],
   "source": [
    "# data_all.drop(['Item_Identifier'], axis=1, inplace=True)"
   ]
  },
  {
   "cell_type": "markdown",
   "metadata": {},
   "source": [
    "<div class=\"alert alert-block alert-info\"><H2>4. Missing Values</H2></div>\n",
    "\n",
    "`Item_Weight` and `Outlet_Size` are missing data."
   ]
  },
  {
   "cell_type": "code",
   "execution_count": 242,
   "metadata": {
    "colab": {
     "base_uri": "https://localhost:8080/"
    },
    "id": "O_rUUew43665",
    "outputId": "529ef40c-0add-4564-c90c-8e660e20c9af"
   },
   "outputs": [
    {
     "data": {
      "text/plain": [
       "Item_Identifier                 0\n",
       "Item_Weight                  2439\n",
       "Item_Fat_Content                0\n",
       "Item_Visibility                 0\n",
       "Item_Type                       0\n",
       "Item_MRP                        0\n",
       "Outlet_Identifier               0\n",
       "Outlet_Establishment_Year       0\n",
       "Outlet_Size                  4016\n",
       "Outlet_Location_Type            0\n",
       "Outlet_Type                     0\n",
       "source                          0\n",
       "Item_Type_Category              0\n",
       "dtype: int64"
      ]
     },
     "execution_count": 242,
     "metadata": {},
     "output_type": "execute_result"
    }
   ],
   "source": [
    "data_all.drop('Item_Outlet_Sales', axis = 1).isnull().sum()"
   ]
  },
  {
   "cell_type": "code",
   "execution_count": 243,
   "metadata": {},
   "outputs": [
    {
     "data": {
      "text/plain": [
       "<AxesSubplot:>"
      ]
     },
     "execution_count": 243,
     "metadata": {},
     "output_type": "execute_result"
    },
    {
     "data": {
      "image/png": "[encoded data removed]",
      "text/plain": [
       "<Figure size 720x288 with 1 Axes>"
      ]
     },
     "metadata": {},
     "output_type": "display_data"
    }
   ],
   "source": [
    "fig, axs = plt.subplots(ncols=1, nrows=1, figsize=(10,4))\n",
    "sns.heatmap(data_all.drop('Item_Outlet_Sales', axis = 1).isnull(), yticklabels = False, cbar = False, cmap = 'viridis', ax = axs)"
   ]
  },
  {
   "cell_type": "code",
   "execution_count": 244,
   "metadata": {
    "colab": {
     "base_uri": "https://localhost:8080/"
    },
    "id": "y2_REIT7FT8f",
    "outputId": "01d9e80a-6c7b-4856-809a-5f2f976e4a0c"
   },
   "outputs": [],
   "source": [
    "# All of these work\r\n",
    "# train['Outlet_Size'].isna().sum()\r\n",
    "# train.Outlet_Size.isna().sum()\r\n",
    "# train['Outlet_Size'].isnull().sum()"
   ]
  },
  {
   "cell_type": "markdown",
   "metadata": {
    "id": "beUijuXWgURs"
   },
   "source": [
    "### Categorical Data: `Outlet_Size`\r\n"
   ]
  },
  {
   "cell_type": "code",
   "execution_count": 245,
   "metadata": {},
   "outputs": [
    {
     "data": {
      "text/html": [
       "<div>\n",
       "<style scoped>\n",
       "    .dataframe tbody tr th:only-of-type {\n",
       "        vertical-align: middle;\n",
       "    }\n",
       "\n",
       "    .dataframe tbody tr th {\n",
       "        vertical-align: top;\n",
       "    }\n",
       "\n",
       "    .dataframe thead th {\n",
       "        text-align: right;\n",
       "    }\n",
       "</style>\n",
       "<table border=\"1\" class=\"dataframe\">\n",
       "  <thead>\n",
       "    <tr style=\"text-align: right;\">\n",
       "      <th></th>\n",
       "      <th>Item_Identifier</th>\n",
       "      <th>Item_Weight</th>\n",
       "      <th>Item_Fat_Content</th>\n",
       "      <th>Item_Visibility</th>\n",
       "      <th>Item_Type</th>\n",
       "      <th>Item_MRP</th>\n",
       "      <th>Outlet_Identifier</th>\n",
       "      <th>Outlet_Establishment_Year</th>\n",
       "      <th>Outlet_Size</th>\n",
       "      <th>Outlet_Location_Type</th>\n",
       "      <th>Outlet_Type</th>\n",
       "      <th>source</th>\n",
       "      <th>Item_Type_Category</th>\n",
       "    </tr>\n",
       "    <tr>\n",
       "      <th>Outlet_Type</th>\n",
       "      <th></th>\n",
       "      <th></th>\n",
       "      <th></th>\n",
       "      <th></th>\n",
       "      <th></th>\n",
       "      <th></th>\n",
       "      <th></th>\n",
       "      <th></th>\n",
       "      <th></th>\n",
       "      <th></th>\n",
       "      <th></th>\n",
       "      <th></th>\n",
       "      <th></th>\n",
       "    </tr>\n",
       "  </thead>\n",
       "  <tbody>\n",
       "    <tr>\n",
       "      <th>Grocery Store</th>\n",
       "      <td>0</td>\n",
       "      <td>880</td>\n",
       "      <td>0</td>\n",
       "      <td>0</td>\n",
       "      <td>0</td>\n",
       "      <td>0</td>\n",
       "      <td>0</td>\n",
       "      <td>0</td>\n",
       "      <td>925</td>\n",
       "      <td>0</td>\n",
       "      <td>0</td>\n",
       "      <td>0</td>\n",
       "      <td>0</td>\n",
       "    </tr>\n",
       "    <tr>\n",
       "      <th>Supermarket Type1</th>\n",
       "      <td>0</td>\n",
       "      <td>0</td>\n",
       "      <td>0</td>\n",
       "      <td>0</td>\n",
       "      <td>0</td>\n",
       "      <td>0</td>\n",
       "      <td>0</td>\n",
       "      <td>0</td>\n",
       "      <td>3091</td>\n",
       "      <td>0</td>\n",
       "      <td>0</td>\n",
       "      <td>0</td>\n",
       "      <td>0</td>\n",
       "    </tr>\n",
       "    <tr>\n",
       "      <th>Supermarket Type2</th>\n",
       "      <td>0</td>\n",
       "      <td>0</td>\n",
       "      <td>0</td>\n",
       "      <td>0</td>\n",
       "      <td>0</td>\n",
       "      <td>0</td>\n",
       "      <td>0</td>\n",
       "      <td>0</td>\n",
       "      <td>0</td>\n",
       "      <td>0</td>\n",
       "      <td>0</td>\n",
       "      <td>0</td>\n",
       "      <td>0</td>\n",
       "    </tr>\n",
       "    <tr>\n",
       "      <th>Supermarket Type3</th>\n",
       "      <td>0</td>\n",
       "      <td>1559</td>\n",
       "      <td>0</td>\n",
       "      <td>0</td>\n",
       "      <td>0</td>\n",
       "      <td>0</td>\n",
       "      <td>0</td>\n",
       "      <td>0</td>\n",
       "      <td>0</td>\n",
       "      <td>0</td>\n",
       "      <td>0</td>\n",
       "      <td>0</td>\n",
       "      <td>0</td>\n",
       "    </tr>\n",
       "  </tbody>\n",
       "</table>\n",
       "</div>"
      ],
      "text/plain": [
       "                   Item_Identifier  Item_Weight  Item_Fat_Content  \\\n",
       "Outlet_Type                                                         \n",
       "Grocery Store                    0          880                 0   \n",
       "Supermarket Type1                0            0                 0   \n",
       "Supermarket Type2                0            0                 0   \n",
       "Supermarket Type3                0         1559                 0   \n",
       "\n",
       "                   Item_Visibility  Item_Type  Item_MRP  Outlet_Identifier  \\\n",
       "Outlet_Type                                                                  \n",
       "Grocery Store                    0          0         0                  0   \n",
       "Supermarket Type1                0          0         0                  0   \n",
       "Supermarket Type2                0          0         0                  0   \n",
       "Supermarket Type3                0          0         0                  0   \n",
       "\n",
       "                   Outlet_Establishment_Year  Outlet_Size  \\\n",
       "Outlet_Type                                                 \n",
       "Grocery Store                              0          925   \n",
       "Supermarket Type1                          0         3091   \n",
       "Supermarket Type2                          0            0   \n",
       "Supermarket Type3                          0            0   \n",
       "\n",
       "                   Outlet_Location_Type  Outlet_Type  source  \\\n",
       "Outlet_Type                                                    \n",
       "Grocery Store                         0            0       0   \n",
       "Supermarket Type1                     0            0       0   \n",
       "Supermarket Type2                     0            0       0   \n",
       "Supermarket Type3                     0            0       0   \n",
       "\n",
       "                   Item_Type_Category  \n",
       "Outlet_Type                            \n",
       "Grocery Store                       0  \n",
       "Supermarket Type1                   0  \n",
       "Supermarket Type2                   0  \n",
       "Supermarket Type3                   0  "
      ]
     },
     "execution_count": 245,
     "metadata": {},
     "output_type": "execute_result"
    }
   ],
   "source": [
    "# train.groupby(['Outlet_Size', 'Outlet_Location_Type']).apply(lambda x: x.isnull().sum())\n",
    "data_all.drop('Item_Outlet_Sales', axis = 1).groupby(['Outlet_Type']).apply(lambda x: x.isnull().sum())"
   ]
  },
  {
   "cell_type": "code",
   "execution_count": 246,
   "metadata": {
    "colab": {
     "base_uri": "https://localhost:8080/"
    },
    "id": "W446kYzBKOWJ",
    "outputId": "9d5b821c-1e20-4ebf-c36b-1a4e57af9db0"
   },
   "outputs": [
    {
     "data": {
      "text/plain": [
       "Outlet_Location_Type  Outlet_Type        Outlet_Size\n",
       "Tier 1                Grocery Store      Small           880\n",
       "                      Supermarket Type1  Medium         1550\n",
       "                                         Small          1550\n",
       "Tier 2                Supermarket Type1  NaN            3091\n",
       "                                         Small          1550\n",
       "Tier 3                Grocery Store      NaN             925\n",
       "                      Supermarket Type1  High           1553\n",
       "                      Supermarket Type2  Medium         1546\n",
       "                      Supermarket Type3  Medium         1559\n",
       "Name: Outlet_Size, dtype: int64"
      ]
     },
     "execution_count": 246,
     "metadata": {},
     "output_type": "execute_result"
    }
   ],
   "source": [
    "data_all.groupby(['Outlet_Location_Type', 'Outlet_Type'])['Outlet_Size'].value_counts(dropna = False)"
   ]
  },
  {
   "cell_type": "code",
   "execution_count": 247,
   "metadata": {},
   "outputs": [
    {
     "data": {
      "text/plain": [
       "Outlet_Size  Outlet_Location_Type\n",
       "High         Tier 3                  1553\n",
       "Medium       Tier 3                  3105\n",
       "             Tier 1                  1550\n",
       "Small        Tier 1                  2430\n",
       "             Tier 2                  1550\n",
       "Name: Outlet_Location_Type, dtype: int64"
      ]
     },
     "execution_count": 247,
     "metadata": {},
     "output_type": "execute_result"
    }
   ],
   "source": [
    "data_all.groupby(['Outlet_Size'])['Outlet_Location_Type'].value_counts(dropna = False)"
   ]
  },
  {
   "cell_type": "code",
   "execution_count": 248,
   "metadata": {},
   "outputs": [
    {
     "data": {
      "text/plain": [
       "Outlet_Location_Type  Outlet_Size  Outlet_Type      \n",
       "Tier 1                Medium       Supermarket Type1    1550\n",
       "                      Small        Supermarket Type1    1550\n",
       "                                   Grocery Store         880\n",
       "Tier 2                Small        Supermarket Type1    1550\n",
       "Tier 3                High         Supermarket Type1    1553\n",
       "                      Medium       Supermarket Type3    1559\n",
       "                                   Supermarket Type2    1546\n",
       "Name: Outlet_Type, dtype: int64"
      ]
     },
     "execution_count": 248,
     "metadata": {},
     "output_type": "execute_result"
    }
   ],
   "source": [
    "data_all.groupby(['Outlet_Location_Type', 'Outlet_Size'])['Outlet_Type'].value_counts(dropna = False)"
   ]
  },
  {
   "cell_type": "markdown",
   "metadata": {},
   "source": [
    "- 3091 `Supermarket Type1` missing `Outlet_Size`\n",
    "    - all of these are in `Tier 2`\n",
    "- All `Tier 2` are `Small`.\n",
    "- All `Grocery Store` are `Small`.\n"
   ]
  },
  {
   "cell_type": "code",
   "execution_count": 249,
   "metadata": {},
   "outputs": [],
   "source": [
    "data_all.loc[pd.isnull(data_all.Outlet_Size) & (data_all.Outlet_Location_Type == 'Tier 2'), 'Outlet_Size']='Small'\n",
    "data_all.loc[pd.isnull(data_all.Outlet_Size) & (data_all.Outlet_Type == 'Grocery Store'), 'Outlet_Size']='Small'"
   ]
  },
  {
   "cell_type": "markdown",
   "metadata": {},
   "source": [
    "### Continuous Data: `Item_Weight`\n",
    "Impute the missing values of the `Item_Weight` by the average `Item_Weight` of each `Item_Identifier`."
   ]
  },
  {
   "cell_type": "code",
   "execution_count": 250,
   "metadata": {
    "id": "YuC9cWlat1n2"
   },
   "outputs": [
    {
     "data": {
      "text/html": [
       "<div>\n",
       "<style scoped>\n",
       "    .dataframe tbody tr th:only-of-type {\n",
       "        vertical-align: middle;\n",
       "    }\n",
       "\n",
       "    .dataframe tbody tr th {\n",
       "        vertical-align: top;\n",
       "    }\n",
       "\n",
       "    .dataframe thead th {\n",
       "        text-align: right;\n",
       "    }\n",
       "</style>\n",
       "<table border=\"1\" class=\"dataframe\">\n",
       "  <thead>\n",
       "    <tr style=\"text-align: right;\">\n",
       "      <th></th>\n",
       "      <th>Item_Identifier</th>\n",
       "      <th>Item_Weight</th>\n",
       "      <th>Item_Fat_Content</th>\n",
       "      <th>Item_Visibility</th>\n",
       "      <th>Item_Type</th>\n",
       "      <th>Item_MRP</th>\n",
       "      <th>Outlet_Identifier</th>\n",
       "      <th>Outlet_Establishment_Year</th>\n",
       "      <th>Outlet_Size</th>\n",
       "      <th>Outlet_Location_Type</th>\n",
       "      <th>Outlet_Type</th>\n",
       "      <th>source</th>\n",
       "      <th>Item_Type_Category</th>\n",
       "    </tr>\n",
       "    <tr>\n",
       "      <th>Outlet_Type</th>\n",
       "      <th></th>\n",
       "      <th></th>\n",
       "      <th></th>\n",
       "      <th></th>\n",
       "      <th></th>\n",
       "      <th></th>\n",
       "      <th></th>\n",
       "      <th></th>\n",
       "      <th></th>\n",
       "      <th></th>\n",
       "      <th></th>\n",
       "      <th></th>\n",
       "      <th></th>\n",
       "    </tr>\n",
       "  </thead>\n",
       "  <tbody>\n",
       "    <tr>\n",
       "      <th>Grocery Store</th>\n",
       "      <td>0</td>\n",
       "      <td>880</td>\n",
       "      <td>0</td>\n",
       "      <td>0</td>\n",
       "      <td>0</td>\n",
       "      <td>0</td>\n",
       "      <td>0</td>\n",
       "      <td>0</td>\n",
       "      <td>0</td>\n",
       "      <td>0</td>\n",
       "      <td>0</td>\n",
       "      <td>0</td>\n",
       "      <td>0</td>\n",
       "    </tr>\n",
       "    <tr>\n",
       "      <th>Supermarket Type1</th>\n",
       "      <td>0</td>\n",
       "      <td>0</td>\n",
       "      <td>0</td>\n",
       "      <td>0</td>\n",
       "      <td>0</td>\n",
       "      <td>0</td>\n",
       "      <td>0</td>\n",
       "      <td>0</td>\n",
       "      <td>0</td>\n",
       "      <td>0</td>\n",
       "      <td>0</td>\n",
       "      <td>0</td>\n",
       "      <td>0</td>\n",
       "    </tr>\n",
       "    <tr>\n",
       "      <th>Supermarket Type2</th>\n",
       "      <td>0</td>\n",
       "      <td>0</td>\n",
       "      <td>0</td>\n",
       "      <td>0</td>\n",
       "      <td>0</td>\n",
       "      <td>0</td>\n",
       "      <td>0</td>\n",
       "      <td>0</td>\n",
       "      <td>0</td>\n",
       "      <td>0</td>\n",
       "      <td>0</td>\n",
       "      <td>0</td>\n",
       "      <td>0</td>\n",
       "    </tr>\n",
       "    <tr>\n",
       "      <th>Supermarket Type3</th>\n",
       "      <td>0</td>\n",
       "      <td>1559</td>\n",
       "      <td>0</td>\n",
       "      <td>0</td>\n",
       "      <td>0</td>\n",
       "      <td>0</td>\n",
       "      <td>0</td>\n",
       "      <td>0</td>\n",
       "      <td>0</td>\n",
       "      <td>0</td>\n",
       "      <td>0</td>\n",
       "      <td>0</td>\n",
       "      <td>0</td>\n",
       "    </tr>\n",
       "  </tbody>\n",
       "</table>\n",
       "</div>"
      ],
      "text/plain": [
       "                   Item_Identifier  Item_Weight  Item_Fat_Content  \\\n",
       "Outlet_Type                                                         \n",
       "Grocery Store                    0          880                 0   \n",
       "Supermarket Type1                0            0                 0   \n",
       "Supermarket Type2                0            0                 0   \n",
       "Supermarket Type3                0         1559                 0   \n",
       "\n",
       "                   Item_Visibility  Item_Type  Item_MRP  Outlet_Identifier  \\\n",
       "Outlet_Type                                                                  \n",
       "Grocery Store                    0          0         0                  0   \n",
       "Supermarket Type1                0          0         0                  0   \n",
       "Supermarket Type2                0          0         0                  0   \n",
       "Supermarket Type3                0          0         0                  0   \n",
       "\n",
       "                   Outlet_Establishment_Year  Outlet_Size  \\\n",
       "Outlet_Type                                                 \n",
       "Grocery Store                              0            0   \n",
       "Supermarket Type1                          0            0   \n",
       "Supermarket Type2                          0            0   \n",
       "Supermarket Type3                          0            0   \n",
       "\n",
       "                   Outlet_Location_Type  Outlet_Type  source  \\\n",
       "Outlet_Type                                                    \n",
       "Grocery Store                         0            0       0   \n",
       "Supermarket Type1                     0            0       0   \n",
       "Supermarket Type2                     0            0       0   \n",
       "Supermarket Type3                     0            0       0   \n",
       "\n",
       "                   Item_Type_Category  \n",
       "Outlet_Type                            \n",
       "Grocery Store                       0  \n",
       "Supermarket Type1                   0  \n",
       "Supermarket Type2                   0  \n",
       "Supermarket Type3                   0  "
      ]
     },
     "execution_count": 250,
     "metadata": {},
     "output_type": "execute_result"
    }
   ],
   "source": [
    "data_all.drop('Item_Outlet_Sales', axis = 1).groupby(['Outlet_Type']).apply(lambda x: x.isnull().sum())"
   ]
  },
  {
   "cell_type": "code",
   "execution_count": 251,
   "metadata": {},
   "outputs": [
    {
     "data": {
      "text/html": [
       "<div>\n",
       "<style scoped>\n",
       "    .dataframe tbody tr th:only-of-type {\n",
       "        vertical-align: middle;\n",
       "    }\n",
       "\n",
       "    .dataframe tbody tr th {\n",
       "        vertical-align: top;\n",
       "    }\n",
       "\n",
       "    .dataframe thead th {\n",
       "        text-align: right;\n",
       "    }\n",
       "</style>\n",
       "<table border=\"1\" class=\"dataframe\">\n",
       "  <thead>\n",
       "    <tr style=\"text-align: right;\">\n",
       "      <th></th>\n",
       "      <th>Item_Weight</th>\n",
       "    </tr>\n",
       "    <tr>\n",
       "      <th>Item_Identifier</th>\n",
       "      <th></th>\n",
       "    </tr>\n",
       "  </thead>\n",
       "  <tbody>\n",
       "    <tr>\n",
       "      <th>DRA12</th>\n",
       "      <td>11.600</td>\n",
       "    </tr>\n",
       "    <tr>\n",
       "      <th>DRA24</th>\n",
       "      <td>19.350</td>\n",
       "    </tr>\n",
       "    <tr>\n",
       "      <th>DRA59</th>\n",
       "      <td>8.270</td>\n",
       "    </tr>\n",
       "    <tr>\n",
       "      <th>DRB01</th>\n",
       "      <td>7.390</td>\n",
       "    </tr>\n",
       "    <tr>\n",
       "      <th>DRB13</th>\n",
       "      <td>6.115</td>\n",
       "    </tr>\n",
       "    <tr>\n",
       "      <th>DRB24</th>\n",
       "      <td>8.785</td>\n",
       "    </tr>\n",
       "    <tr>\n",
       "      <th>DRB25</th>\n",
       "      <td>12.300</td>\n",
       "    </tr>\n",
       "    <tr>\n",
       "      <th>DRB48</th>\n",
       "      <td>16.750</td>\n",
       "    </tr>\n",
       "    <tr>\n",
       "      <th>DRC01</th>\n",
       "      <td>5.920</td>\n",
       "    </tr>\n",
       "    <tr>\n",
       "      <th>DRC12</th>\n",
       "      <td>17.850</td>\n",
       "    </tr>\n",
       "  </tbody>\n",
       "</table>\n",
       "</div>"
      ],
      "text/plain": [
       "                 Item_Weight\n",
       "Item_Identifier             \n",
       "DRA12                 11.600\n",
       "DRA24                 19.350\n",
       "DRA59                  8.270\n",
       "DRB01                  7.390\n",
       "DRB13                  6.115\n",
       "DRB24                  8.785\n",
       "DRB25                 12.300\n",
       "DRB48                 16.750\n",
       "DRC01                  5.920\n",
       "DRC12                 17.850"
      ]
     },
     "execution_count": 251,
     "metadata": {},
     "output_type": "execute_result"
    }
   ],
   "source": [
    "# average weight per item\n",
    "data_all.pivot_table(values='Item_Weight', index='Item_Identifier').head(10)"
   ]
  },
  {
   "cell_type": "code",
   "execution_count": 252,
   "metadata": {},
   "outputs": [],
   "source": [
    "# Decided to impute missing weights at item level rather than item type level.\n",
    "# Item_Type_Mean = data_all.pivot_table(columns='Item_Type', values='Item_Weight', aggfunc=lambda x: x.mean())\n",
    "# Item_Type_Mean"
   ]
  },
  {
   "cell_type": "code",
   "execution_count": 253,
   "metadata": {},
   "outputs": [],
   "source": [
    "# https://stackoverflow.com/questions/19966018/pandas-filling-missing-values-by-mean-in-each-group\n",
    "data_all[\"Item_Weight\"] = data_all.groupby(\"Item_Identifier\")[\"Item_Weight\"].transform(lambda x: x.fillna(x.mean()))"
   ]
  },
  {
   "cell_type": "code",
   "execution_count": 254,
   "metadata": {
    "colab": {
     "base_uri": "https://localhost:8080/"
    },
    "id": "aTwMX3f5gUSF",
    "outputId": "b3c36aff-5ccb-4329-a313-29572cf76cdf",
    "scrolled": true
   },
   "outputs": [
    {
     "data": {
      "text/plain": [
       "Item_Identifier              0\n",
       "Item_Weight                  0\n",
       "Item_Fat_Content             0\n",
       "Item_Visibility              0\n",
       "Item_Type                    0\n",
       "Item_MRP                     0\n",
       "Outlet_Identifier            0\n",
       "Outlet_Establishment_Year    0\n",
       "Outlet_Size                  0\n",
       "Outlet_Location_Type         0\n",
       "Outlet_Type                  0\n",
       "source                       0\n",
       "Item_Type_Category           0\n",
       "dtype: int64"
      ]
     },
     "execution_count": 254,
     "metadata": {},
     "output_type": "execute_result"
    }
   ],
   "source": [
    "# checking missing values after imputation\n",
    "data_all.drop('Item_Outlet_Sales', axis = 1).isnull().sum()\n",
    "#train[pd.isnull(train.Outlet_Size)]"
   ]
  },
  {
   "cell_type": "markdown",
   "metadata": {},
   "source": [
    "<div class=\"alert alert-block alert-info\"><H2>5. Feature Engineering</H2></div>"
   ]
  },
  {
   "cell_type": "markdown",
   "metadata": {},
   "source": [
    "### Develop variables from `Item_Identifier`."
   ]
  },
  {
   "cell_type": "code",
   "execution_count": 255,
   "metadata": {},
   "outputs": [
    {
     "data": {
      "text/plain": [
       "0    FDA15\n",
       "1    DRC01\n",
       "2    FDN15\n",
       "3    FDX07\n",
       "4    NCD19\n",
       "5    FDP36\n",
       "6    FDO10\n",
       "7    FDP10\n",
       "8    FDH17\n",
       "9    FDU28\n",
       "Name: Item_Identifier, dtype: object"
      ]
     },
     "execution_count": 255,
     "metadata": {},
     "output_type": "execute_result"
    }
   ],
   "source": [
    "data_all.Item_Identifier.head(10)"
   ]
  },
  {
   "cell_type": "code",
   "execution_count": 256,
   "metadata": {},
   "outputs": [
    {
     "data": {
      "text/plain": [
       "Food              10201\n",
       "Non-Consumable     2686\n",
       "Drinks             1317\n",
       "Name: Item_Type_Category, dtype: int64"
      ]
     },
     "execution_count": 256,
     "metadata": {},
     "output_type": "execute_result"
    }
   ],
   "source": [
    "data_all['Item_Type_Category'] = data_all['Item_Identifier'].apply(lambda x: x[0:2])\n",
    "data_all['Item_Type_Category'] = data_all['Item_Type_Category'].map({'FD':'Food', 'NC':'Non-Consumable', 'DR':'Drinks'})\n",
    "data_all['Item_Type_Category'].value_counts()"
   ]
  },
  {
   "cell_type": "markdown",
   "metadata": {},
   "source": [
    "### Develop potentially useful information from establishment year\n",
    "\n",
    "`Outlet_Establisment_Year` can be changed to indicate how long the outlet has been in business."
   ]
  },
  {
   "cell_type": "code",
   "execution_count": 257,
   "metadata": {},
   "outputs": [
    {
     "name": "stdout",
     "output_type": "stream",
     "text": [
      "First year of operation:  1985 \n",
      "Last year of operation:  2009\n"
     ]
    }
   ],
   "source": [
    "print(\"First year of operation: \", data_all.Outlet_Establishment_Year.min(), \"\\nLast year of operation: \", data_all.Outlet_Establishment_Year.max())"
   ]
  },
  {
   "cell_type": "code",
   "execution_count": 258,
   "metadata": {},
   "outputs": [],
   "source": [
    "data_all['Years_Operating'] = 2020 - data_all['Outlet_Establishment_Year']\n",
    "data_all = data_all.drop('Outlet_Establishment_Year', axis=1)"
   ]
  },
  {
   "cell_type": "markdown",
   "metadata": {},
   "source": [
    "### New variable from pricing distribution\n",
    "There appear to be relatively distinct groups of prices:"
   ]
  },
  {
   "cell_type": "code",
   "execution_count": 259,
   "metadata": {},
   "outputs": [
    {
     "data": {
      "text/plain": [
       "<seaborn.axisgrid.FacetGrid at 0x244d661a6d0>"
      ]
     },
     "execution_count": 259,
     "metadata": {},
     "output_type": "execute_result"
    },
    {
     "data": {
      "image/png": "[encoded data removed]",
      "text/plain": [
       "<Figure size 360x360 with 1 Axes>"
      ]
     },
     "metadata": {},
     "output_type": "display_data"
    }
   ],
   "source": [
    "sns.displot(data_all['Item_MRP'])"
   ]
  },
  {
   "cell_type": "code",
   "execution_count": 260,
   "metadata": {},
   "outputs": [
    {
     "data": {
      "text/plain": [
       "High         4934\n",
       "Medium       4659\n",
       "Very High    2400\n",
       "Low          2211\n",
       "Name: Item_Price_Range, dtype: int64"
      ]
     },
     "execution_count": 260,
     "metadata": {},
     "output_type": "execute_result"
    }
   ],
   "source": [
    "data_all['Item_Price_Range'] = 'Very High'\n",
    "data_all.loc[data_all['Item_MRP'] < 202, 'Item_Price_Range'] = 'High'\n",
    "data_all.loc[data_all['Item_MRP'] < 138, 'Item_Price_Range'] = 'Medium'\n",
    "data_all.loc[data_all['Item_MRP'] < 72, 'Item_Price_Range'] = 'Low'\n",
    "\n",
    "data_all['Item_Price_Range'].value_counts()"
   ]
  },
  {
   "cell_type": "markdown",
   "metadata": {},
   "source": [
    "### `Item_Visibility` data imputation\n",
    "Seems odd that many items have a value of 0 for visibility."
   ]
  },
  {
   "cell_type": "code",
   "execution_count": 261,
   "metadata": {},
   "outputs": [
    {
     "data": {
      "text/plain": [
       "count    14204.000000\n",
       "mean         0.065953\n",
       "std          0.051459\n",
       "min          0.000000\n",
       "25%          0.027036\n",
       "50%          0.054021\n",
       "75%          0.094037\n",
       "max          0.328391\n",
       "Name: Item_Visibility, dtype: float64"
      ]
     },
     "execution_count": 261,
     "metadata": {},
     "output_type": "execute_result"
    }
   ],
   "source": [
    "data_all['Item_Visibility'].describe()"
   ]
  },
  {
   "cell_type": "code",
   "execution_count": 262,
   "metadata": {},
   "outputs": [
    {
     "data": {
      "text/plain": [
       "879"
      ]
     },
     "execution_count": 262,
     "metadata": {},
     "output_type": "execute_result"
    }
   ],
   "source": [
    "data_all.query('Item_Visibility == 0').shape[0]"
   ]
  },
  {
   "cell_type": "code",
   "execution_count": 263,
   "metadata": {},
   "outputs": [
    {
     "data": {
      "text/html": [
       "<div>\n",
       "<style scoped>\n",
       "    .dataframe tbody tr th:only-of-type {\n",
       "        vertical-align: middle;\n",
       "    }\n",
       "\n",
       "    .dataframe tbody tr th {\n",
       "        vertical-align: top;\n",
       "    }\n",
       "\n",
       "    .dataframe thead th {\n",
       "        text-align: right;\n",
       "    }\n",
       "</style>\n",
       "<table border=\"1\" class=\"dataframe\">\n",
       "  <thead>\n",
       "    <tr style=\"text-align: right;\">\n",
       "      <th></th>\n",
       "      <th>Item_Visibility</th>\n",
       "    </tr>\n",
       "    <tr>\n",
       "      <th>Outlet_Identifier</th>\n",
       "      <th></th>\n",
       "    </tr>\n",
       "  </thead>\n",
       "  <tbody>\n",
       "    <tr>\n",
       "      <th>OUT010</th>\n",
       "      <td>0.101939</td>\n",
       "    </tr>\n",
       "    <tr>\n",
       "      <th>OUT013</th>\n",
       "      <td>0.060242</td>\n",
       "    </tr>\n",
       "    <tr>\n",
       "      <th>OUT017</th>\n",
       "      <td>0.061142</td>\n",
       "    </tr>\n",
       "    <tr>\n",
       "      <th>OUT018</th>\n",
       "      <td>0.059976</td>\n",
       "    </tr>\n",
       "    <tr>\n",
       "      <th>OUT019</th>\n",
       "      <td>0.107389</td>\n",
       "    </tr>\n",
       "    <tr>\n",
       "      <th>OUT027</th>\n",
       "      <td>0.060344</td>\n",
       "    </tr>\n",
       "    <tr>\n",
       "      <th>OUT035</th>\n",
       "      <td>0.060826</td>\n",
       "    </tr>\n",
       "    <tr>\n",
       "      <th>OUT045</th>\n",
       "      <td>0.060907</td>\n",
       "    </tr>\n",
       "    <tr>\n",
       "      <th>OUT046</th>\n",
       "      <td>0.060184</td>\n",
       "    </tr>\n",
       "    <tr>\n",
       "      <th>OUT049</th>\n",
       "      <td>0.059000</td>\n",
       "    </tr>\n",
       "  </tbody>\n",
       "</table>\n",
       "</div>"
      ],
      "text/plain": [
       "                   Item_Visibility\n",
       "Outlet_Identifier                 \n",
       "OUT010                    0.101939\n",
       "OUT013                    0.060242\n",
       "OUT017                    0.061142\n",
       "OUT018                    0.059976\n",
       "OUT019                    0.107389\n",
       "OUT027                    0.060344\n",
       "OUT035                    0.060826\n",
       "OUT045                    0.060907\n",
       "OUT046                    0.060184\n",
       "OUT049                    0.059000"
      ]
     },
     "execution_count": 263,
     "metadata": {},
     "output_type": "execute_result"
    }
   ],
   "source": [
    "pd.pivot_table(data_all, index=['Outlet_Identifier'], values=[\"Item_Visibility\"], aggfunc=np.mean)"
   ]
  },
  {
   "cell_type": "markdown",
   "metadata": {},
   "source": [
    "All stores have some visibility data. To predict fit using `Item_Visibility` use the mean for that outlet. "
   ]
  },
  {
   "cell_type": "code",
   "execution_count": 264,
   "metadata": {},
   "outputs": [
    {
     "data": {
      "text/plain": [
       "count    14204.000000\n",
       "mean         0.070004\n",
       "std          0.048734\n",
       "min          0.003575\n",
       "25%          0.033143\n",
       "50%          0.059976\n",
       "75%          0.096108\n",
       "max          0.328391\n",
       "Name: Item_Visibility, dtype: float64"
      ]
     },
     "execution_count": 264,
     "metadata": {},
     "output_type": "execute_result"
    }
   ],
   "source": [
    "mean_vis = data_all.groupby('Outlet_Identifier')['Item_Visibility'].transform('mean')\n",
    "for i in range(len(data_all)):\n",
    "    if data_all['Item_Visibility'][i] == 0:\n",
    "        data_all['Item_Visibility'][i] = mean_vis[i]\n",
    "data_all['Item_Visibility'].describe()"
   ]
  },
  {
   "cell_type": "markdown",
   "metadata": {
    "id": "k_SP_5W9gUSN"
   },
   "source": [
    "<div class=\"alert alert-block alert-info\"><H2>6. Categorical to Numerical</H2></div>"
   ]
  },
  {
   "cell_type": "code",
   "execution_count": 265,
   "metadata": {},
   "outputs": [
    {
     "data": {
      "text/plain": [
       "Item_Identifier          object\n",
       "Item_Weight             float64\n",
       "Item_Fat_Content         object\n",
       "Item_Visibility         float64\n",
       "Item_Type                object\n",
       "Item_MRP                float64\n",
       "Outlet_Identifier        object\n",
       "Outlet_Size              object\n",
       "Outlet_Location_Type     object\n",
       "Outlet_Type              object\n",
       "Item_Outlet_Sales       float64\n",
       "source                   object\n",
       "Item_Type_Category       object\n",
       "Years_Operating           int64\n",
       "Item_Price_Range         object\n",
       "dtype: object"
      ]
     },
     "execution_count": 265,
     "metadata": {},
     "output_type": "execute_result"
    }
   ],
   "source": [
    "data_all.dtypes"
   ]
  },
  {
   "cell_type": "code",
   "execution_count": 266,
   "metadata": {},
   "outputs": [
    {
     "data": {
      "text/html": [
       "<div>\n",
       "<style scoped>\n",
       "    .dataframe tbody tr th:only-of-type {\n",
       "        vertical-align: middle;\n",
       "    }\n",
       "\n",
       "    .dataframe tbody tr th {\n",
       "        vertical-align: top;\n",
       "    }\n",
       "\n",
       "    .dataframe thead th {\n",
       "        text-align: right;\n",
       "    }\n",
       "</style>\n",
       "<table border=\"1\" class=\"dataframe\">\n",
       "  <thead>\n",
       "    <tr style=\"text-align: right;\">\n",
       "      <th></th>\n",
       "      <th>Item_Identifier</th>\n",
       "      <th>Item_Weight</th>\n",
       "      <th>Item_Fat_Content</th>\n",
       "      <th>Item_Visibility</th>\n",
       "      <th>Item_Type</th>\n",
       "      <th>Item_MRP</th>\n",
       "      <th>Outlet_Identifier</th>\n",
       "      <th>Outlet_Size</th>\n",
       "      <th>Outlet_Location_Type</th>\n",
       "      <th>Outlet_Type</th>\n",
       "      <th>Item_Outlet_Sales</th>\n",
       "      <th>source</th>\n",
       "      <th>Item_Type_Category</th>\n",
       "      <th>Years_Operating</th>\n",
       "      <th>Item_Price_Range</th>\n",
       "    </tr>\n",
       "  </thead>\n",
       "  <tbody>\n",
       "    <tr>\n",
       "      <th>0</th>\n",
       "      <td>FDA15</td>\n",
       "      <td>9.30</td>\n",
       "      <td>Low Fat</td>\n",
       "      <td>0.016047</td>\n",
       "      <td>Dairy</td>\n",
       "      <td>249.8092</td>\n",
       "      <td>OUT049</td>\n",
       "      <td>Medium</td>\n",
       "      <td>Tier 1</td>\n",
       "      <td>Supermarket Type1</td>\n",
       "      <td>3735.1380</td>\n",
       "      <td>train</td>\n",
       "      <td>Food</td>\n",
       "      <td>21</td>\n",
       "      <td>Very High</td>\n",
       "    </tr>\n",
       "    <tr>\n",
       "      <th>1</th>\n",
       "      <td>DRC01</td>\n",
       "      <td>5.92</td>\n",
       "      <td>Regular</td>\n",
       "      <td>0.019278</td>\n",
       "      <td>Soft Drinks</td>\n",
       "      <td>48.2692</td>\n",
       "      <td>OUT018</td>\n",
       "      <td>Medium</td>\n",
       "      <td>Tier 3</td>\n",
       "      <td>Supermarket Type2</td>\n",
       "      <td>443.4228</td>\n",
       "      <td>train</td>\n",
       "      <td>Drinks</td>\n",
       "      <td>11</td>\n",
       "      <td>Low</td>\n",
       "    </tr>\n",
       "    <tr>\n",
       "      <th>2</th>\n",
       "      <td>FDN15</td>\n",
       "      <td>17.50</td>\n",
       "      <td>Low Fat</td>\n",
       "      <td>0.016760</td>\n",
       "      <td>Meat</td>\n",
       "      <td>141.6180</td>\n",
       "      <td>OUT049</td>\n",
       "      <td>Medium</td>\n",
       "      <td>Tier 1</td>\n",
       "      <td>Supermarket Type1</td>\n",
       "      <td>2097.2700</td>\n",
       "      <td>train</td>\n",
       "      <td>Food</td>\n",
       "      <td>21</td>\n",
       "      <td>High</td>\n",
       "    </tr>\n",
       "    <tr>\n",
       "      <th>3</th>\n",
       "      <td>FDX07</td>\n",
       "      <td>19.20</td>\n",
       "      <td>Regular</td>\n",
       "      <td>0.101939</td>\n",
       "      <td>Fruits and Vegetables</td>\n",
       "      <td>182.0950</td>\n",
       "      <td>OUT010</td>\n",
       "      <td>Small</td>\n",
       "      <td>Tier 3</td>\n",
       "      <td>Grocery Store</td>\n",
       "      <td>732.3800</td>\n",
       "      <td>train</td>\n",
       "      <td>Food</td>\n",
       "      <td>22</td>\n",
       "      <td>High</td>\n",
       "    </tr>\n",
       "    <tr>\n",
       "      <th>4</th>\n",
       "      <td>NCD19</td>\n",
       "      <td>8.93</td>\n",
       "      <td>Low Fat</td>\n",
       "      <td>0.060242</td>\n",
       "      <td>Household</td>\n",
       "      <td>53.8614</td>\n",
       "      <td>OUT013</td>\n",
       "      <td>High</td>\n",
       "      <td>Tier 3</td>\n",
       "      <td>Supermarket Type1</td>\n",
       "      <td>994.7052</td>\n",
       "      <td>train</td>\n",
       "      <td>Non-Consumable</td>\n",
       "      <td>33</td>\n",
       "      <td>Low</td>\n",
       "    </tr>\n",
       "  </tbody>\n",
       "</table>\n",
       "</div>"
      ],
      "text/plain": [
       "  Item_Identifier  Item_Weight Item_Fat_Content  Item_Visibility  \\\n",
       "0           FDA15         9.30          Low Fat         0.016047   \n",
       "1           DRC01         5.92          Regular         0.019278   \n",
       "2           FDN15        17.50          Low Fat         0.016760   \n",
       "3           FDX07        19.20          Regular         0.101939   \n",
       "4           NCD19         8.93          Low Fat         0.060242   \n",
       "\n",
       "               Item_Type  Item_MRP Outlet_Identifier Outlet_Size  \\\n",
       "0                  Dairy  249.8092            OUT049      Medium   \n",
       "1            Soft Drinks   48.2692            OUT018      Medium   \n",
       "2                   Meat  141.6180            OUT049      Medium   \n",
       "3  Fruits and Vegetables  182.0950            OUT010       Small   \n",
       "4              Household   53.8614            OUT013        High   \n",
       "\n",
       "  Outlet_Location_Type        Outlet_Type  Item_Outlet_Sales source  \\\n",
       "0               Tier 1  Supermarket Type1          3735.1380  train   \n",
       "1               Tier 3  Supermarket Type2           443.4228  train   \n",
       "2               Tier 1  Supermarket Type1          2097.2700  train   \n",
       "3               Tier 3      Grocery Store           732.3800  train   \n",
       "4               Tier 3  Supermarket Type1           994.7052  train   \n",
       "\n",
       "  Item_Type_Category  Years_Operating Item_Price_Range  \n",
       "0               Food               21        Very High  \n",
       "1             Drinks               11              Low  \n",
       "2               Food               21             High  \n",
       "3               Food               22             High  \n",
       "4     Non-Consumable               33              Low  "
      ]
     },
     "execution_count": 266,
     "metadata": {},
     "output_type": "execute_result"
    }
   ],
   "source": [
    "data_all.head()"
   ]
  },
  {
   "cell_type": "markdown",
   "metadata": {},
   "source": [
    "Some of the remaining varaibles are no longer needed - they provide no information value."
   ]
  },
  {
   "cell_type": "code",
   "execution_count": 267,
   "metadata": {},
   "outputs": [],
   "source": [
    "data_all = data_all.drop('Item_Identifier', axis=1)"
   ]
  },
  {
   "cell_type": "markdown",
   "metadata": {},
   "source": [
    "### `Item_Type`\n",
    "\n",
    "See: \n",
    "\n",
    "- https://stackoverflow.com/questions/24458645/label-encoding-across-multiple-columns-in-scikit-learn\n",
    "- https://vitalflux.com/labelencoder-example-single-multiple-columns/\n",
    "- https://stackabuse.com/one-hot-encoding-in-python-with-pandas-and-scikit-learn/\n",
    "- https://queirozf.com/entries/one-hot-encoding-a-feature-on-a-pandas-dataframe-an-example\n",
    "- https://datascience.stackexchange.com/questions/71804/how-to-perform-one-hot-encoding-on-multiple-categorical-columns"
   ]
  },
  {
   "cell_type": "markdown",
   "metadata": {},
   "source": [
    "There are more categories than preferred for label encoding.  Plus, there is no inherent order to these so one hot encoding is preferred."
   ]
  },
  {
   "cell_type": "code",
   "execution_count": 268,
   "metadata": {},
   "outputs": [],
   "source": [
    "# use pd.concat to join the new columns with your original dataframe\n",
    "data_all = pd.concat([data_all, pd.get_dummies(data_all['Item_Type'], prefix='I_T')], axis = 1)\n",
    "\n",
    "# now drop the original column (you don't need it anymore)\n",
    "data_all.drop(['Item_Type'], axis = 1, inplace = True)"
   ]
  },
  {
   "cell_type": "code",
   "execution_count": 269,
   "metadata": {},
   "outputs": [],
   "source": [
    "# LE = LabelEncoder()\n",
    "# #df['code'] = LE.fit_transform(df['cc'])\n",
    "# data_all['Item_Type'] = LE.fit_transform(data_all['Item_Type'])\n",
    "\n",
    "# data_all['Item_Type'].value_counts()"
   ]
  },
  {
   "cell_type": "code",
   "execution_count": 270,
   "metadata": {},
   "outputs": [
    {
     "data": {
      "text/plain": [
       "Index(['Item_Weight', 'Item_Fat_Content', 'Item_Visibility', 'Item_MRP',\n",
       "       'Outlet_Identifier', 'Outlet_Size', 'Outlet_Location_Type',\n",
       "       'Outlet_Type', 'Item_Outlet_Sales', 'source', 'Item_Type_Category',\n",
       "       'Years_Operating', 'Item_Price_Range', 'I_T_Baking Goods', 'I_T_Breads',\n",
       "       'I_T_Breakfast', 'I_T_Canned', 'I_T_Dairy', 'I_T_Frozen Foods',\n",
       "       'I_T_Fruits and Vegetables', 'I_T_Hard Drinks',\n",
       "       'I_T_Health and Hygiene', 'I_T_Household', 'I_T_Meat', 'I_T_Others',\n",
       "       'I_T_Seafood', 'I_T_Snack Foods', 'I_T_Soft Drinks',\n",
       "       'I_T_Starchy Foods'],\n",
       "      dtype='object')"
      ]
     },
     "execution_count": 270,
     "metadata": {},
     "output_type": "execute_result"
    }
   ],
   "source": [
    "data_all.columns"
   ]
  },
  {
   "cell_type": "code",
   "execution_count": 271,
   "metadata": {},
   "outputs": [],
   "source": [
    "### Outlet_Identifier"
   ]
  },
  {
   "cell_type": "code",
   "execution_count": 272,
   "metadata": {},
   "outputs": [
    {
     "data": {
      "text/plain": [
       "OUT027    1559\n",
       "OUT013    1553\n",
       "OUT035    1550\n",
       "OUT046    1550\n",
       "OUT049    1550\n",
       "OUT045    1548\n",
       "OUT018    1546\n",
       "OUT017    1543\n",
       "OUT010     925\n",
       "OUT019     880\n",
       "Name: Outlet_Identifier, dtype: int64"
      ]
     },
     "execution_count": 272,
     "metadata": {},
     "output_type": "execute_result"
    }
   ],
   "source": [
    "data_all['Outlet_Identifier'].value_counts()\n",
    "#data_all.query('Item_Visibility == 0').shape[0]"
   ]
  },
  {
   "cell_type": "code",
   "execution_count": 273,
   "metadata": {},
   "outputs": [],
   "source": [
    "# use pd.concat to join the new columns with your original dataframe\n",
    "data_all = pd.concat([data_all, pd.get_dummies(data_all['Outlet_Identifier'], prefix = 'O_I')], axis = 1)\n",
    "\n",
    "# now drop the original column (you don't need it anymore)\n",
    "data_all.drop(['Outlet_Identifier'], axis = 1, inplace = True)"
   ]
  },
  {
   "cell_type": "code",
   "execution_count": 274,
   "metadata": {},
   "outputs": [
    {
     "data": {
      "text/plain": [
       "Index(['Item_Weight', 'Item_Fat_Content', 'Item_Visibility', 'Item_MRP',\n",
       "       'Outlet_Size', 'Outlet_Location_Type', 'Outlet_Type',\n",
       "       'Item_Outlet_Sales', 'source', 'Item_Type_Category', 'Years_Operating',\n",
       "       'Item_Price_Range', 'I_T_Baking Goods', 'I_T_Breads', 'I_T_Breakfast',\n",
       "       'I_T_Canned', 'I_T_Dairy', 'I_T_Frozen Foods',\n",
       "       'I_T_Fruits and Vegetables', 'I_T_Hard Drinks',\n",
       "       'I_T_Health and Hygiene', 'I_T_Household', 'I_T_Meat', 'I_T_Others',\n",
       "       'I_T_Seafood', 'I_T_Snack Foods', 'I_T_Soft Drinks',\n",
       "       'I_T_Starchy Foods', 'O_I_OUT010', 'O_I_OUT013', 'O_I_OUT017',\n",
       "       'O_I_OUT018', 'O_I_OUT019', 'O_I_OUT027', 'O_I_OUT035', 'O_I_OUT045',\n",
       "       'O_I_OUT046', 'O_I_OUT049'],\n",
       "      dtype='object')"
      ]
     },
     "execution_count": 274,
     "metadata": {},
     "output_type": "execute_result"
    }
   ],
   "source": [
    "data_all.columns"
   ]
  },
  {
   "cell_type": "markdown",
   "metadata": {},
   "source": [
    "### Fat Content"
   ]
  },
  {
   "cell_type": "code",
   "execution_count": 275,
   "metadata": {},
   "outputs": [
    {
     "data": {
      "text/plain": [
       "Low Fat    9185\n",
       "Regular    5019\n",
       "Name: Item_Fat_Content, dtype: int64"
      ]
     },
     "execution_count": 275,
     "metadata": {},
     "output_type": "execute_result"
    }
   ],
   "source": [
    "data_all.Item_Fat_Content.value_counts()"
   ]
  },
  {
   "cell_type": "code",
   "execution_count": 276,
   "metadata": {},
   "outputs": [
    {
     "data": {
      "text/plain": [
       "0    9185\n",
       "1    5019\n",
       "Name: Item_Fat_Content, dtype: int64"
      ]
     },
     "execution_count": 276,
     "metadata": {},
     "output_type": "execute_result"
    }
   ],
   "source": [
    "data_all['Item_Fat_Content'] = data_all['Item_Fat_Content'].map({'Low Fat': 0, 'Regular': 1})\n",
    "data_all['Item_Fat_Content'].value_counts()"
   ]
  },
  {
   "cell_type": "markdown",
   "metadata": {},
   "source": [
    "### Outlet Size"
   ]
  },
  {
   "cell_type": "code",
   "execution_count": 277,
   "metadata": {},
   "outputs": [
    {
     "data": {
      "text/plain": [
       "Small     7996\n",
       "Medium    4655\n",
       "High      1553\n",
       "Name: Outlet_Size, dtype: int64"
      ]
     },
     "execution_count": 277,
     "metadata": {},
     "output_type": "execute_result"
    }
   ],
   "source": [
    "data_all.Outlet_Size.value_counts()"
   ]
  },
  {
   "cell_type": "code",
   "execution_count": 278,
   "metadata": {},
   "outputs": [
    {
     "data": {
      "text/plain": [
       "0    7996\n",
       "1    4655\n",
       "2    1553\n",
       "Name: Outlet_Size, dtype: int64"
      ]
     },
     "execution_count": 278,
     "metadata": {},
     "output_type": "execute_result"
    }
   ],
   "source": [
    "data_all['Outlet_Size'] = data_all['Outlet_Size'].map({'Small': 0, 'Medium': 1, 'High': 2})\n",
    "data_all['Outlet_Size'].value_counts()"
   ]
  },
  {
   "cell_type": "code",
   "execution_count": 279,
   "metadata": {},
   "outputs": [],
   "source": [
    "### Outlet Location Type"
   ]
  },
  {
   "cell_type": "code",
   "execution_count": 280,
   "metadata": {},
   "outputs": [
    {
     "data": {
      "text/plain": [
       "Tier 3    5583\n",
       "Tier 2    4641\n",
       "Tier 1    3980\n",
       "Name: Outlet_Location_Type, dtype: int64"
      ]
     },
     "execution_count": 280,
     "metadata": {},
     "output_type": "execute_result"
    }
   ],
   "source": [
    "data_all.Outlet_Location_Type.value_counts()"
   ]
  },
  {
   "cell_type": "code",
   "execution_count": 281,
   "metadata": {},
   "outputs": [
    {
     "data": {
      "text/plain": [
       "3    5583\n",
       "2    4641\n",
       "1    3980\n",
       "Name: Outlet_Location_Type, dtype: int64"
      ]
     },
     "execution_count": 281,
     "metadata": {},
     "output_type": "execute_result"
    }
   ],
   "source": [
    "data_all['Outlet_Location_Type'] = data_all['Outlet_Location_Type'].map({'Tier 3': 3, 'Tier 2': 2, 'Tier 1': 1})\n",
    "data_all['Outlet_Location_Type'].value_counts()"
   ]
  },
  {
   "cell_type": "code",
   "execution_count": 282,
   "metadata": {},
   "outputs": [],
   "source": [
    "# var=['Item_Fat_Content','Outlet_Location_Type','Outlet_Type','Outlet_Size','Item_Type_Category']\n",
    "# lb=LabelEncoder()\n",
    "# for item in var:\n",
    "#     data_all[item]=lb.fit_transform(data_all[item])\n",
    "# data = pd.get_dummies(data, columns=['Item_Fat_Content','Outlet_Location_Type','Outlet_Type','Outlet_Size','Item_Type_Category'])"
   ]
  },
  {
   "cell_type": "markdown",
   "metadata": {},
   "source": [
    "### Outlet Types"
   ]
  },
  {
   "cell_type": "code",
   "execution_count": 283,
   "metadata": {},
   "outputs": [
    {
     "data": {
      "text/plain": [
       "Supermarket Type1    9294\n",
       "Grocery Store        1805\n",
       "Supermarket Type3    1559\n",
       "Supermarket Type2    1546\n",
       "Name: Outlet_Type, dtype: int64"
      ]
     },
     "execution_count": 283,
     "metadata": {},
     "output_type": "execute_result"
    }
   ],
   "source": [
    "data_all.Outlet_Type.value_counts()"
   ]
  },
  {
   "cell_type": "code",
   "execution_count": 284,
   "metadata": {},
   "outputs": [
    {
     "data": {
      "text/plain": [
       "1    9294\n",
       "0    1805\n",
       "3    1559\n",
       "2    1546\n",
       "Name: Outlet_Type, dtype: int64"
      ]
     },
     "execution_count": 284,
     "metadata": {},
     "output_type": "execute_result"
    }
   ],
   "source": [
    "data_all['Outlet_Type'] = data_all['Outlet_Type'].map({'Grocery Store': 0, 'Supermarket Type1': 1, 'Supermarket Type2': 2, 'Supermarket Type3': 3})\n",
    "data_all['Outlet_Type'].value_counts()"
   ]
  },
  {
   "cell_type": "markdown",
   "metadata": {},
   "source": [
    "### Item Type Category"
   ]
  },
  {
   "cell_type": "code",
   "execution_count": 285,
   "metadata": {},
   "outputs": [
    {
     "data": {
      "text/plain": [
       "Food              10201\n",
       "Non-Consumable     2686\n",
       "Drinks             1317\n",
       "Name: Item_Type_Category, dtype: int64"
      ]
     },
     "execution_count": 285,
     "metadata": {},
     "output_type": "execute_result"
    }
   ],
   "source": [
    "data_all.Item_Type_Category.value_counts()"
   ]
  },
  {
   "cell_type": "code",
   "execution_count": 286,
   "metadata": {},
   "outputs": [],
   "source": [
    "# use pd.concat to join the new columns with your original dataframe\n",
    "data_all = pd.concat([data_all, pd.get_dummies(data_all['Item_Type_Category'], prefix = 'I_T_C')], axis = 1)\n",
    "# now drop the original column (you don't need it anymore)\n",
    "data_all.drop(['Item_Type_Category'], axis = 1, inplace = True)"
   ]
  },
  {
   "cell_type": "markdown",
   "metadata": {},
   "source": [
    "### Item Price Range"
   ]
  },
  {
   "cell_type": "code",
   "execution_count": 287,
   "metadata": {},
   "outputs": [
    {
     "data": {
      "text/plain": [
       "High         4934\n",
       "Medium       4659\n",
       "Very High    2400\n",
       "Low          2211\n",
       "Name: Item_Price_Range, dtype: int64"
      ]
     },
     "execution_count": 287,
     "metadata": {},
     "output_type": "execute_result"
    }
   ],
   "source": [
    "data_all.Item_Price_Range.value_counts()"
   ]
  },
  {
   "cell_type": "code",
   "execution_count": 288,
   "metadata": {},
   "outputs": [
    {
     "data": {
      "text/plain": [
       "2    4934\n",
       "1    4659\n",
       "3    2400\n",
       "0    2211\n",
       "Name: Item_Price_Range, dtype: int64"
      ]
     },
     "execution_count": 288,
     "metadata": {},
     "output_type": "execute_result"
    }
   ],
   "source": [
    "data_all['Item_Price_Range'] = data_all['Item_Price_Range'].map({'Low': 0, 'Medium': 1, 'High': 2, 'Very High': 3})\n",
    "data_all['Item_Price_Range'].value_counts()"
   ]
  },
  {
   "cell_type": "markdown",
   "metadata": {},
   "source": [
    "All of the objects have been converted to numerical values.  Only the `source` variable remains."
   ]
  },
  {
   "cell_type": "code",
   "execution_count": 289,
   "metadata": {},
   "outputs": [
    {
     "data": {
      "text/html": [
       "<div>\n",
       "<style scoped>\n",
       "    .dataframe tbody tr th:only-of-type {\n",
       "        vertical-align: middle;\n",
       "    }\n",
       "\n",
       "    .dataframe tbody tr th {\n",
       "        vertical-align: top;\n",
       "    }\n",
       "\n",
       "    .dataframe thead th {\n",
       "        text-align: right;\n",
       "    }\n",
       "</style>\n",
       "<table border=\"1\" class=\"dataframe\">\n",
       "  <thead>\n",
       "    <tr style=\"text-align: right;\">\n",
       "      <th></th>\n",
       "      <th>source</th>\n",
       "    </tr>\n",
       "  </thead>\n",
       "  <tbody>\n",
       "    <tr>\n",
       "      <th>0</th>\n",
       "      <td>train</td>\n",
       "    </tr>\n",
       "    <tr>\n",
       "      <th>1</th>\n",
       "      <td>train</td>\n",
       "    </tr>\n",
       "    <tr>\n",
       "      <th>2</th>\n",
       "      <td>train</td>\n",
       "    </tr>\n",
       "    <tr>\n",
       "      <th>3</th>\n",
       "      <td>train</td>\n",
       "    </tr>\n",
       "    <tr>\n",
       "      <th>4</th>\n",
       "      <td>train</td>\n",
       "    </tr>\n",
       "    <tr>\n",
       "      <th>...</th>\n",
       "      <td>...</td>\n",
       "    </tr>\n",
       "    <tr>\n",
       "      <th>14199</th>\n",
       "      <td>test</td>\n",
       "    </tr>\n",
       "    <tr>\n",
       "      <th>14200</th>\n",
       "      <td>test</td>\n",
       "    </tr>\n",
       "    <tr>\n",
       "      <th>14201</th>\n",
       "      <td>test</td>\n",
       "    </tr>\n",
       "    <tr>\n",
       "      <th>14202</th>\n",
       "      <td>test</td>\n",
       "    </tr>\n",
       "    <tr>\n",
       "      <th>14203</th>\n",
       "      <td>test</td>\n",
       "    </tr>\n",
       "  </tbody>\n",
       "</table>\n",
       "<p>14204 rows × 1 columns</p>\n",
       "</div>"
      ],
      "text/plain": [
       "      source\n",
       "0      train\n",
       "1      train\n",
       "2      train\n",
       "3      train\n",
       "4      train\n",
       "...      ...\n",
       "14199   test\n",
       "14200   test\n",
       "14201   test\n",
       "14202   test\n",
       "14203   test\n",
       "\n",
       "[14204 rows x 1 columns]"
      ]
     },
     "execution_count": 289,
     "metadata": {},
     "output_type": "execute_result"
    }
   ],
   "source": [
    "data_all.select_dtypes(include = 'object')"
   ]
  },
  {
   "cell_type": "code",
   "execution_count": 290,
   "metadata": {
    "colab": {
     "base_uri": "https://localhost:8080/",
     "height": 243
    },
    "id": "kiMBtzIO9DCQ",
    "outputId": "27d86f1e-0a70-4349-bd3c-15c897649fea"
   },
   "outputs": [
    {
     "data": {
      "text/html": [
       "<div>\n",
       "<style scoped>\n",
       "    .dataframe tbody tr th:only-of-type {\n",
       "        vertical-align: middle;\n",
       "    }\n",
       "\n",
       "    .dataframe tbody tr th {\n",
       "        vertical-align: top;\n",
       "    }\n",
       "\n",
       "    .dataframe thead th {\n",
       "        text-align: right;\n",
       "    }\n",
       "</style>\n",
       "<table border=\"1\" class=\"dataframe\">\n",
       "  <thead>\n",
       "    <tr style=\"text-align: right;\">\n",
       "      <th></th>\n",
       "      <th>Item_Weight</th>\n",
       "      <th>Item_Fat_Content</th>\n",
       "      <th>Item_Visibility</th>\n",
       "      <th>Item_MRP</th>\n",
       "      <th>Outlet_Size</th>\n",
       "      <th>Outlet_Location_Type</th>\n",
       "      <th>Outlet_Type</th>\n",
       "      <th>Item_Outlet_Sales</th>\n",
       "      <th>source</th>\n",
       "      <th>Years_Operating</th>\n",
       "      <th>...</th>\n",
       "      <th>O_I_OUT018</th>\n",
       "      <th>O_I_OUT019</th>\n",
       "      <th>O_I_OUT027</th>\n",
       "      <th>O_I_OUT035</th>\n",
       "      <th>O_I_OUT045</th>\n",
       "      <th>O_I_OUT046</th>\n",
       "      <th>O_I_OUT049</th>\n",
       "      <th>I_T_C_Drinks</th>\n",
       "      <th>I_T_C_Food</th>\n",
       "      <th>I_T_C_Non-Consumable</th>\n",
       "    </tr>\n",
       "  </thead>\n",
       "  <tbody>\n",
       "    <tr>\n",
       "      <th>0</th>\n",
       "      <td>9.30</td>\n",
       "      <td>0</td>\n",
       "      <td>0.016047</td>\n",
       "      <td>249.8092</td>\n",
       "      <td>1</td>\n",
       "      <td>1</td>\n",
       "      <td>1</td>\n",
       "      <td>3735.1380</td>\n",
       "      <td>train</td>\n",
       "      <td>21</td>\n",
       "      <td>...</td>\n",
       "      <td>0</td>\n",
       "      <td>0</td>\n",
       "      <td>0</td>\n",
       "      <td>0</td>\n",
       "      <td>0</td>\n",
       "      <td>0</td>\n",
       "      <td>1</td>\n",
       "      <td>0</td>\n",
       "      <td>1</td>\n",
       "      <td>0</td>\n",
       "    </tr>\n",
       "    <tr>\n",
       "      <th>1</th>\n",
       "      <td>5.92</td>\n",
       "      <td>1</td>\n",
       "      <td>0.019278</td>\n",
       "      <td>48.2692</td>\n",
       "      <td>1</td>\n",
       "      <td>3</td>\n",
       "      <td>2</td>\n",
       "      <td>443.4228</td>\n",
       "      <td>train</td>\n",
       "      <td>11</td>\n",
       "      <td>...</td>\n",
       "      <td>1</td>\n",
       "      <td>0</td>\n",
       "      <td>0</td>\n",
       "      <td>0</td>\n",
       "      <td>0</td>\n",
       "      <td>0</td>\n",
       "      <td>0</td>\n",
       "      <td>1</td>\n",
       "      <td>0</td>\n",
       "      <td>0</td>\n",
       "    </tr>\n",
       "    <tr>\n",
       "      <th>2</th>\n",
       "      <td>17.50</td>\n",
       "      <td>0</td>\n",
       "      <td>0.016760</td>\n",
       "      <td>141.6180</td>\n",
       "      <td>1</td>\n",
       "      <td>1</td>\n",
       "      <td>1</td>\n",
       "      <td>2097.2700</td>\n",
       "      <td>train</td>\n",
       "      <td>21</td>\n",
       "      <td>...</td>\n",
       "      <td>0</td>\n",
       "      <td>0</td>\n",
       "      <td>0</td>\n",
       "      <td>0</td>\n",
       "      <td>0</td>\n",
       "      <td>0</td>\n",
       "      <td>1</td>\n",
       "      <td>0</td>\n",
       "      <td>1</td>\n",
       "      <td>0</td>\n",
       "    </tr>\n",
       "    <tr>\n",
       "      <th>3</th>\n",
       "      <td>19.20</td>\n",
       "      <td>1</td>\n",
       "      <td>0.101939</td>\n",
       "      <td>182.0950</td>\n",
       "      <td>0</td>\n",
       "      <td>3</td>\n",
       "      <td>0</td>\n",
       "      <td>732.3800</td>\n",
       "      <td>train</td>\n",
       "      <td>22</td>\n",
       "      <td>...</td>\n",
       "      <td>0</td>\n",
       "      <td>0</td>\n",
       "      <td>0</td>\n",
       "      <td>0</td>\n",
       "      <td>0</td>\n",
       "      <td>0</td>\n",
       "      <td>0</td>\n",
       "      <td>0</td>\n",
       "      <td>1</td>\n",
       "      <td>0</td>\n",
       "    </tr>\n",
       "    <tr>\n",
       "      <th>4</th>\n",
       "      <td>8.93</td>\n",
       "      <td>0</td>\n",
       "      <td>0.060242</td>\n",
       "      <td>53.8614</td>\n",
       "      <td>2</td>\n",
       "      <td>3</td>\n",
       "      <td>1</td>\n",
       "      <td>994.7052</td>\n",
       "      <td>train</td>\n",
       "      <td>33</td>\n",
       "      <td>...</td>\n",
       "      <td>0</td>\n",
       "      <td>0</td>\n",
       "      <td>0</td>\n",
       "      <td>0</td>\n",
       "      <td>0</td>\n",
       "      <td>0</td>\n",
       "      <td>0</td>\n",
       "      <td>0</td>\n",
       "      <td>0</td>\n",
       "      <td>1</td>\n",
       "    </tr>\n",
       "  </tbody>\n",
       "</table>\n",
       "<p>5 rows × 40 columns</p>\n",
       "</div>"
      ],
      "text/plain": [
       "   Item_Weight  Item_Fat_Content  Item_Visibility  Item_MRP  Outlet_Size  \\\n",
       "0         9.30                 0         0.016047  249.8092            1   \n",
       "1         5.92                 1         0.019278   48.2692            1   \n",
       "2        17.50                 0         0.016760  141.6180            1   \n",
       "3        19.20                 1         0.101939  182.0950            0   \n",
       "4         8.93                 0         0.060242   53.8614            2   \n",
       "\n",
       "   Outlet_Location_Type  Outlet_Type  Item_Outlet_Sales source  \\\n",
       "0                     1            1          3735.1380  train   \n",
       "1                     3            2           443.4228  train   \n",
       "2                     1            1          2097.2700  train   \n",
       "3                     3            0           732.3800  train   \n",
       "4                     3            1           994.7052  train   \n",
       "\n",
       "   Years_Operating  ...  O_I_OUT018  O_I_OUT019  O_I_OUT027  O_I_OUT035  \\\n",
       "0               21  ...           0           0           0           0   \n",
       "1               11  ...           1           0           0           0   \n",
       "2               21  ...           0           0           0           0   \n",
       "3               22  ...           0           0           0           0   \n",
       "4               33  ...           0           0           0           0   \n",
       "\n",
       "   O_I_OUT045  O_I_OUT046  O_I_OUT049  I_T_C_Drinks  I_T_C_Food  \\\n",
       "0           0           0           1             0           1   \n",
       "1           0           0           0             1           0   \n",
       "2           0           0           1             0           1   \n",
       "3           0           0           0             0           1   \n",
       "4           0           0           0             0           0   \n",
       "\n",
       "   I_T_C_Non-Consumable  \n",
       "0                     0  \n",
       "1                     0  \n",
       "2                     0  \n",
       "3                     0  \n",
       "4                     1  \n",
       "\n",
       "[5 rows x 40 columns]"
      ]
     },
     "execution_count": 290,
     "metadata": {},
     "output_type": "execute_result"
    }
   ],
   "source": [
    "data_all.head()"
   ]
  },
  {
   "cell_type": "code",
   "execution_count": 291,
   "metadata": {},
   "outputs": [
    {
     "name": "stdout",
     "output_type": "stream",
     "text": [
      "['Item_Weight', 'Item_Fat_Content', 'Item_Visibility', 'Item_MRP', 'Outlet_Size', 'Outlet_Location_Type', 'Outlet_Type', 'Item_Outlet_Sales', 'source', 'Years_Operating', 'Item_Price_Range', 'I_T_Baking Goods', 'I_T_Breads', 'I_T_Breakfast', 'I_T_Canned', 'I_T_Dairy', 'I_T_Frozen Foods', 'I_T_Fruits and Vegetables', 'I_T_Hard Drinks', 'I_T_Health and Hygiene', 'I_T_Household', 'I_T_Meat', 'I_T_Others', 'I_T_Seafood', 'I_T_Snack Foods', 'I_T_Soft Drinks', 'I_T_Starchy Foods', 'O_I_OUT010', 'O_I_OUT013', 'O_I_OUT017', 'O_I_OUT018', 'O_I_OUT019', 'O_I_OUT027', 'O_I_OUT035', 'O_I_OUT045', 'O_I_OUT046', 'O_I_OUT049', 'I_T_C_Drinks', 'I_T_C_Food', 'I_T_C_Non-Consumable']\n"
     ]
    }
   ],
   "source": [
    "print(data_all.columns.tolist())"
   ]
  },
  {
   "cell_type": "code",
   "execution_count": 292,
   "metadata": {},
   "outputs": [],
   "source": [
    "data_all.to_csv('data_all.csv', index=False)"
   ]
  },
  {
   "cell_type": "markdown",
   "metadata": {
    "id": "gdBmXyyVgUSY"
   },
   "source": [
    "<div class=\"alert alert-block alert-info\"><H2>7. Scale Data</H2></div>"
   ]
  },
  {
   "cell_type": "markdown",
   "metadata": {},
   "source": [
    "Because scaling the `source` column is not appropriate, splt the data back into `train` and `test`."
   ]
  },
  {
   "cell_type": "code",
   "execution_count": 293,
   "metadata": {},
   "outputs": [
    {
     "data": {
      "text/plain": [
       "train    8523\n",
       "test     5681\n",
       "Name: source, dtype: int64"
      ]
     },
     "execution_count": 293,
     "metadata": {},
     "output_type": "execute_result"
    }
   ],
   "source": [
    "data_all.source.value_counts()"
   ]
  },
  {
   "cell_type": "code",
   "execution_count": 294,
   "metadata": {},
   "outputs": [],
   "source": [
    "df_train = data_all.loc[data_all['source']=='train']\n",
    "df_test = data_all.loc[data_all['source']=='test']\n",
    "df_train = df_train.drop(['source'], axis=1)\n",
    "df_test = df_test.drop(['source'], axis=1)"
   ]
  },
  {
   "cell_type": "code",
   "execution_count": 295,
   "metadata": {},
   "outputs": [
    {
     "data": {
      "text/plain": [
       "(Index(['Item_Weight', 'Item_Fat_Content', 'Item_Visibility', 'Item_MRP',\n",
       "        'Outlet_Size', 'Outlet_Location_Type', 'Outlet_Type',\n",
       "        'Item_Outlet_Sales', 'Years_Operating', 'Item_Price_Range',\n",
       "        'I_T_Baking Goods', 'I_T_Breads', 'I_T_Breakfast', 'I_T_Canned',\n",
       "        'I_T_Dairy', 'I_T_Frozen Foods', 'I_T_Fruits and Vegetables',\n",
       "        'I_T_Hard Drinks', 'I_T_Health and Hygiene', 'I_T_Household',\n",
       "        'I_T_Meat', 'I_T_Others', 'I_T_Seafood', 'I_T_Snack Foods',\n",
       "        'I_T_Soft Drinks', 'I_T_Starchy Foods', 'O_I_OUT010', 'O_I_OUT013',\n",
       "        'O_I_OUT017', 'O_I_OUT018', 'O_I_OUT019', 'O_I_OUT027', 'O_I_OUT035',\n",
       "        'O_I_OUT045', 'O_I_OUT046', 'O_I_OUT049', 'I_T_C_Drinks', 'I_T_C_Food',\n",
       "        'I_T_C_Non-Consumable'],\n",
       "       dtype='object'),\n",
       " Index(['Item_Weight', 'Item_Fat_Content', 'Item_Visibility', 'Item_MRP',\n",
       "        'Outlet_Size', 'Outlet_Location_Type', 'Outlet_Type',\n",
       "        'Item_Outlet_Sales', 'Years_Operating', 'Item_Price_Range',\n",
       "        'I_T_Baking Goods', 'I_T_Breads', 'I_T_Breakfast', 'I_T_Canned',\n",
       "        'I_T_Dairy', 'I_T_Frozen Foods', 'I_T_Fruits and Vegetables',\n",
       "        'I_T_Hard Drinks', 'I_T_Health and Hygiene', 'I_T_Household',\n",
       "        'I_T_Meat', 'I_T_Others', 'I_T_Seafood', 'I_T_Snack Foods',\n",
       "        'I_T_Soft Drinks', 'I_T_Starchy Foods', 'O_I_OUT010', 'O_I_OUT013',\n",
       "        'O_I_OUT017', 'O_I_OUT018', 'O_I_OUT019', 'O_I_OUT027', 'O_I_OUT035',\n",
       "        'O_I_OUT045', 'O_I_OUT046', 'O_I_OUT049', 'I_T_C_Drinks', 'I_T_C_Food',\n",
       "        'I_T_C_Non-Consumable'],\n",
       "       dtype='object'),\n",
       " (8523, 39),\n",
       " (5681, 39))"
      ]
     },
     "execution_count": 295,
     "metadata": {},
     "output_type": "execute_result"
    }
   ],
   "source": [
    "df_train.columns, df_test.columns, df_train.shape, df_test.shape"
   ]
  },
  {
   "cell_type": "markdown",
   "metadata": {
    "id": "2ObzQqyYgUSc"
   },
   "source": [
    "<img src='https://drive.google.com/uc?id=1Z7wN2BE8CDSYIJly5l0K9uqYdj9WUo3f'>"
   ]
  },
  {
   "cell_type": "markdown",
   "metadata": {},
   "source": [
    "Save the sales data - do not wnat that to be scaled."
   ]
  },
  {
   "cell_type": "code",
   "execution_count": 297,
   "metadata": {},
   "outputs": [],
   "source": [
    "df_train_sales = df_train['Item_Outlet_Sales']\n",
    "df_train = df_train.drop('Item_Outlet_Sales', axis=1)"
   ]
  },
  {
   "cell_type": "code",
   "execution_count": 298,
   "metadata": {
    "id": "i_dy8JGZgUSm"
   },
   "outputs": [],
   "source": [
    "# applying for loop to bring all the variables in range 0 to 1\n",
    "# for i in train.columns[1:]:\n",
    "#     train[i] = (train[i] - train[i].min()) / (train[i].max() - train[i].min())"
   ]
  },
  {
   "cell_type": "code",
   "execution_count": 299,
   "metadata": {},
   "outputs": [],
   "source": [
    "# 2. create a min max processing object\n",
    "from sklearn.preprocessing import MinMaxScaler\n",
    "\n",
    "scaler = MinMaxScaler()\n",
    "#data_all_scaled = pd.DataFrame(scaler.fit_transform(data_all), columns = data_all.columns)\n",
    "\n",
    "df_train = pd.DataFrame(scaler.fit_transform(df_train), columns=df_train.columns)\n",
    "df_test = pd.DataFrame(scaler.fit_transform(df_test), columns=df_test.columns)"
   ]
  },
  {
   "cell_type": "code",
   "execution_count": 300,
   "metadata": {},
   "outputs": [
    {
     "data": {
      "text/html": [
       "<div>\n",
       "<style scoped>\n",
       "    .dataframe tbody tr th:only-of-type {\n",
       "        vertical-align: middle;\n",
       "    }\n",
       "\n",
       "    .dataframe tbody tr th {\n",
       "        vertical-align: top;\n",
       "    }\n",
       "\n",
       "    .dataframe thead th {\n",
       "        text-align: right;\n",
       "    }\n",
       "</style>\n",
       "<table border=\"1\" class=\"dataframe\">\n",
       "  <thead>\n",
       "    <tr style=\"text-align: right;\">\n",
       "      <th></th>\n",
       "      <th>Item_Weight</th>\n",
       "      <th>Item_Fat_Content</th>\n",
       "      <th>Item_Visibility</th>\n",
       "      <th>Item_MRP</th>\n",
       "      <th>Outlet_Size</th>\n",
       "      <th>Outlet_Location_Type</th>\n",
       "      <th>Outlet_Type</th>\n",
       "      <th>Years_Operating</th>\n",
       "      <th>Item_Price_Range</th>\n",
       "      <th>I_T_Baking Goods</th>\n",
       "      <th>...</th>\n",
       "      <th>O_I_OUT018</th>\n",
       "      <th>O_I_OUT019</th>\n",
       "      <th>O_I_OUT027</th>\n",
       "      <th>O_I_OUT035</th>\n",
       "      <th>O_I_OUT045</th>\n",
       "      <th>O_I_OUT046</th>\n",
       "      <th>O_I_OUT049</th>\n",
       "      <th>I_T_C_Drinks</th>\n",
       "      <th>I_T_C_Food</th>\n",
       "      <th>I_T_C_Non-Consumable</th>\n",
       "    </tr>\n",
       "  </thead>\n",
       "  <tbody>\n",
       "    <tr>\n",
       "      <th>0</th>\n",
       "      <td>0.282525</td>\n",
       "      <td>0.0</td>\n",
       "      <td>0.038399</td>\n",
       "      <td>0.927507</td>\n",
       "      <td>0.5</td>\n",
       "      <td>0.0</td>\n",
       "      <td>0.333333</td>\n",
       "      <td>0.416667</td>\n",
       "      <td>1.000000</td>\n",
       "      <td>0.0</td>\n",
       "      <td>...</td>\n",
       "      <td>0.0</td>\n",
       "      <td>0.0</td>\n",
       "      <td>0.0</td>\n",
       "      <td>0.0</td>\n",
       "      <td>0.0</td>\n",
       "      <td>0.0</td>\n",
       "      <td>1.0</td>\n",
       "      <td>0.0</td>\n",
       "      <td>1.0</td>\n",
       "      <td>0.0</td>\n",
       "    </tr>\n",
       "    <tr>\n",
       "      <th>1</th>\n",
       "      <td>0.081274</td>\n",
       "      <td>1.0</td>\n",
       "      <td>0.048346</td>\n",
       "      <td>0.072068</td>\n",
       "      <td>0.5</td>\n",
       "      <td>1.0</td>\n",
       "      <td>0.666667</td>\n",
       "      <td>0.000000</td>\n",
       "      <td>0.000000</td>\n",
       "      <td>0.0</td>\n",
       "      <td>...</td>\n",
       "      <td>1.0</td>\n",
       "      <td>0.0</td>\n",
       "      <td>0.0</td>\n",
       "      <td>0.0</td>\n",
       "      <td>0.0</td>\n",
       "      <td>0.0</td>\n",
       "      <td>0.0</td>\n",
       "      <td>1.0</td>\n",
       "      <td>0.0</td>\n",
       "      <td>0.0</td>\n",
       "    </tr>\n",
       "    <tr>\n",
       "      <th>2</th>\n",
       "      <td>0.770765</td>\n",
       "      <td>0.0</td>\n",
       "      <td>0.040593</td>\n",
       "      <td>0.468288</td>\n",
       "      <td>0.5</td>\n",
       "      <td>0.0</td>\n",
       "      <td>0.333333</td>\n",
       "      <td>0.416667</td>\n",
       "      <td>0.666667</td>\n",
       "      <td>0.0</td>\n",
       "      <td>...</td>\n",
       "      <td>0.0</td>\n",
       "      <td>0.0</td>\n",
       "      <td>0.0</td>\n",
       "      <td>0.0</td>\n",
       "      <td>0.0</td>\n",
       "      <td>0.0</td>\n",
       "      <td>1.0</td>\n",
       "      <td>0.0</td>\n",
       "      <td>1.0</td>\n",
       "      <td>0.0</td>\n",
       "    </tr>\n",
       "    <tr>\n",
       "      <th>3</th>\n",
       "      <td>0.871986</td>\n",
       "      <td>1.0</td>\n",
       "      <td>0.302830</td>\n",
       "      <td>0.640093</td>\n",
       "      <td>0.0</td>\n",
       "      <td>1.0</td>\n",
       "      <td>0.000000</td>\n",
       "      <td>0.458333</td>\n",
       "      <td>0.666667</td>\n",
       "      <td>0.0</td>\n",
       "      <td>...</td>\n",
       "      <td>0.0</td>\n",
       "      <td>0.0</td>\n",
       "      <td>0.0</td>\n",
       "      <td>0.0</td>\n",
       "      <td>0.0</td>\n",
       "      <td>0.0</td>\n",
       "      <td>0.0</td>\n",
       "      <td>0.0</td>\n",
       "      <td>1.0</td>\n",
       "      <td>0.0</td>\n",
       "    </tr>\n",
       "    <tr>\n",
       "      <th>4</th>\n",
       "      <td>0.260494</td>\n",
       "      <td>0.0</td>\n",
       "      <td>0.174458</td>\n",
       "      <td>0.095805</td>\n",
       "      <td>1.0</td>\n",
       "      <td>1.0</td>\n",
       "      <td>0.333333</td>\n",
       "      <td>0.916667</td>\n",
       "      <td>0.000000</td>\n",
       "      <td>0.0</td>\n",
       "      <td>...</td>\n",
       "      <td>0.0</td>\n",
       "      <td>0.0</td>\n",
       "      <td>0.0</td>\n",
       "      <td>0.0</td>\n",
       "      <td>0.0</td>\n",
       "      <td>0.0</td>\n",
       "      <td>0.0</td>\n",
       "      <td>0.0</td>\n",
       "      <td>0.0</td>\n",
       "      <td>1.0</td>\n",
       "    </tr>\n",
       "  </tbody>\n",
       "</table>\n",
       "<p>5 rows × 38 columns</p>\n",
       "</div>"
      ],
      "text/plain": [
       "   Item_Weight  Item_Fat_Content  Item_Visibility  Item_MRP  Outlet_Size  \\\n",
       "0     0.282525               0.0         0.038399  0.927507          0.5   \n",
       "1     0.081274               1.0         0.048346  0.072068          0.5   \n",
       "2     0.770765               0.0         0.040593  0.468288          0.5   \n",
       "3     0.871986               1.0         0.302830  0.640093          0.0   \n",
       "4     0.260494               0.0         0.174458  0.095805          1.0   \n",
       "\n",
       "   Outlet_Location_Type  Outlet_Type  Years_Operating  Item_Price_Range  \\\n",
       "0                   0.0     0.333333         0.416667          1.000000   \n",
       "1                   1.0     0.666667         0.000000          0.000000   \n",
       "2                   0.0     0.333333         0.416667          0.666667   \n",
       "3                   1.0     0.000000         0.458333          0.666667   \n",
       "4                   1.0     0.333333         0.916667          0.000000   \n",
       "\n",
       "   I_T_Baking Goods  ...  O_I_OUT018  O_I_OUT019  O_I_OUT027  O_I_OUT035  \\\n",
       "0               0.0  ...         0.0         0.0         0.0         0.0   \n",
       "1               0.0  ...         1.0         0.0         0.0         0.0   \n",
       "2               0.0  ...         0.0         0.0         0.0         0.0   \n",
       "3               0.0  ...         0.0         0.0         0.0         0.0   \n",
       "4               0.0  ...         0.0         0.0         0.0         0.0   \n",
       "\n",
       "   O_I_OUT045  O_I_OUT046  O_I_OUT049  I_T_C_Drinks  I_T_C_Food  \\\n",
       "0         0.0         0.0         1.0           0.0         1.0   \n",
       "1         0.0         0.0         0.0           1.0         0.0   \n",
       "2         0.0         0.0         1.0           0.0         1.0   \n",
       "3         0.0         0.0         0.0           0.0         1.0   \n",
       "4         0.0         0.0         0.0           0.0         0.0   \n",
       "\n",
       "   I_T_C_Non-Consumable  \n",
       "0                   0.0  \n",
       "1                   0.0  \n",
       "2                   0.0  \n",
       "3                   0.0  \n",
       "4                   1.0  \n",
       "\n",
       "[5 rows x 38 columns]"
      ]
     },
     "execution_count": 300,
     "metadata": {},
     "output_type": "execute_result"
    }
   ],
   "source": [
    "df_train.head()"
   ]
  },
  {
   "cell_type": "code",
   "execution_count": 180,
   "metadata": {
    "id": "2um-wEblgUS1"
   },
   "outputs": [],
   "source": [
    "# saving the pre-processed data\n",
    "# trained_scaled.to_csv('Big_Mart_data.csv', index=False)\n",
    "df_train.to_csv('df_train.csv', index=False)\n",
    "df_test.to_csv('df_test.csv', index = False)"
   ]
  },
  {
   "cell_type": "code",
   "execution_count": 7,
   "metadata": {},
   "outputs": [],
   "source": [
    "# df_train = pd.read_csv('df_train.csv')\n",
    "# df_test = pd.read_csv('df_test.csv')"
   ]
  },
  {
   "cell_type": "code",
   "execution_count": 207,
   "metadata": {},
   "outputs": [],
   "source": [
    "# df_test[df_test.isna().any(axis=1)]"
   ]
  },
  {
   "cell_type": "markdown",
   "metadata": {},
   "source": [
    "<div class=\"alert alert-block alert-info\"><H2>8. Modeling</H2></div>"
   ]
  },
  {
   "cell_type": "markdown",
   "metadata": {},
   "source": [
    "<div class=\"alert alert-block alert-success\"><H3>Split Training Data</H3></div>"
   ]
  },
  {
   "cell_type": "code",
   "execution_count": 301,
   "metadata": {},
   "outputs": [
    {
     "data": {
      "text/plain": [
       "((8523, 38), (8523,))"
      ]
     },
     "execution_count": 301,
     "metadata": {},
     "output_type": "execute_result"
    }
   ],
   "source": [
    "# separating the independent and dependent variables\n",
    "\n",
    "# storing all the independent variables as X\n",
    "x = df_train\n",
    "\n",
    "# storing the dependent variable as y\n",
    "y = df_train_sales\n",
    "\n",
    "# shape of independent and dependent variables\n",
    "x.shape, y.shape"
   ]
  },
  {
   "cell_type": "code",
   "execution_count": 302,
   "metadata": {},
   "outputs": [],
   "source": [
    "# Creating training and validation set\n",
    "\n",
    "# stratify will make sure that the distribution of classes in train and validation set it similar\n",
    "# random state to regenerate the same train and validation set\n",
    "# test size 0.2 will keep 20% data in validation and remaining 80% in train set\n",
    "\n",
    "x_train, x_test, y_train, y_test = train_test_split(x,y,random_state=10,test_size=0.2)"
   ]
  },
  {
   "cell_type": "code",
   "execution_count": 303,
   "metadata": {},
   "outputs": [
    {
     "data": {
      "text/plain": [
       "(((6818, 38), (6818,)), ((1705, 38), (1705,)))"
      ]
     },
     "execution_count": 303,
     "metadata": {},
     "output_type": "execute_result"
    }
   ],
   "source": [
    "# shape of training and validation set\n",
    "(x_train.shape, y_train.shape), (x_test.shape, y_test.shape)"
   ]
  },
  {
   "cell_type": "markdown",
   "metadata": {},
   "source": [
    "<div class=\"alert alert-block alert-success\"><H3>Supervised Learning</H3></div>"
   ]
  },
  {
   "cell_type": "code",
   "execution_count": null,
   "metadata": {},
   "outputs": [],
   "source": [
    "def model_prediction(algo):\n",
    "    model = algo\n",
    "    model.fit(x_train, y_train)\n",
    "    y_pred = model.predict(x_test)\n",
    "    acc= round(model.score(x_train,y_train) * 100,2)\n",
    "    output = pd.DataFrame({'Item_Identifier':test['Item_Identifier'], 'Outlet_Identifier':test['Outlet_Identifier'], 'Item_Outlet_Sales':y_pred}, columns=['Item_Identifier','Outlet_Identifier', 'Item_Outlet_Sales'])\n",
    "    return acc, output"
   ]
  },
  {
   "cell_type": "code",
   "execution_count": null,
   "metadata": {},
   "outputs": [],
   "source": [
    "model = LinearRegression()\n",
    "linreg_acc, linreg_output = model_prediction(model)\n",
    "linreg_acc"
   ]
  },
  {
   "cell_type": "code",
   "execution_count": null,
   "metadata": {},
   "outputs": [],
   "source": [
    "model = RandomForestRegressor(n_estimators=200, max_depth=5,min_samples_leaf=100, n_jobs=4)\n",
    "forestreg_acc, forestreg_output = model_prediction(model)\n",
    "forestreg_acc"
   ]
  },
  {
   "cell_type": "code",
   "execution_count": null,
   "metadata": {},
   "outputs": [],
   "source": [
    "rmse=[]\n",
    "for k in range(15):\n",
    "    k = k+1\n",
    "    model = KNeighborsRegressor(n_neighbors = k)\n",
    "    model.fit(x_train_temp, y_train_temp)\n",
    "    y_pred_temp=model.predict(x_test_temp) \n",
    "    error = np.sqrt(mean_squared_error(y_test_temp,y_pred_temp))\n",
    "    rmse.append(error)\n",
    "    print('RMSE value for k= ' , k , 'is:', error)\n",
    "    \n",
    "curve = pd.DataFrame(rmse)\n",
    "curve.plot()"
   ]
  },
  {
   "cell_type": "code",
   "execution_count": null,
   "metadata": {},
   "outputs": [],
   "source": [
    "model=KNeighborsRegressor(n_neighbors=11)\n",
    "knr_acc, knr_output = model_prediction(model)\n",
    "knr_acc"
   ]
  },
  {
   "cell_type": "code",
   "execution_count": null,
   "metadata": {},
   "outputs": [],
   "source": [
    "model = Ridge(alpha=0.05, normalize=True)\n",
    "ridge_acc, ridge_output = model_prediction(model)\n",
    "ridge_acc"
   ]
  },
  {
   "cell_type": "code",
   "execution_count": null,
   "metadata": {},
   "outputs": [],
   "source": [
    "model_acc_list = [['Linear Regression', linreg_acc], ['Random Forest Regressor', forestreg_acc], ['K Neighbors Regressor', knr_acc], ['Ridge Regression', ridge_acc]]\n",
    "model_acc_df = pd.DataFrame(data=model_acc_list, columns=['Model', 'Accuracy'])\n",
    "model_acc_df"
   ]
  },
  {
   "cell_type": "markdown",
   "metadata": {},
   "source": [
    "<div class=\"alert alert-block alert-success\"><H3>Deep Learning</H3></div>"
   ]
  },
  {
   "cell_type": "markdown",
   "metadata": {
    "id": "WjKX7h16glKA"
   },
   "source": [
    "#### Steps to build a Neural Network using Keras\n",
    "\n",
    "<ol>1. Loading the dataset</ol>\n",
    "<ol>2. Creating training and validation set</ol>\n",
    "<ol>3. Defining the architecture of the model</ol>\n",
    "<ol>4. Compiling the model (defining loss function, optimizer)</ol>\n",
    "<ol>5. Training the model</ol>\n",
    "<ol>6. Evaluating model performance on training and validation set</ol>"
   ]
  },
  {
   "cell_type": "markdown",
   "metadata": {
    "id": "56f3bnnIglKI"
   },
   "source": [
    "## 1. Loading the dataset"
   ]
  },
  {
   "cell_type": "code",
   "execution_count": 185,
   "metadata": {
    "colab": {
     "base_uri": "https://localhost:8080/"
    },
    "id": "Bzp09t1S_07z",
    "outputId": "6712a616-6882-4ed2-cf9e-1f7f5c95a388"
   },
   "outputs": [
    {
     "name": "stdout",
     "output_type": "stream",
     "text": [
      "Version of sklearn: 0.23.2\n"
     ]
    }
   ],
   "source": [
    "# check version on sklearn\n",
    "print('Version of sklearn:', sklearn.__version__)"
   ]
  },
  {
   "cell_type": "markdown",
   "metadata": {
    "id": "e9PNy3T1glL_"
   },
   "source": [
    "## 3. Defining the architecture of the model"
   ]
  },
  {
   "cell_type": "code",
   "execution_count": 186,
   "metadata": {
    "id": "IsccfqUYglMC",
    "scrolled": true
   },
   "outputs": [
    {
     "name": "stdout",
     "output_type": "stream",
     "text": [
      "2.4.3\n"
     ]
    }
   ],
   "source": [
    "# checking the version of keras\n",
    "import keras\n",
    "print(keras.__version__)"
   ]
  },
  {
   "cell_type": "code",
   "execution_count": 187,
   "metadata": {
    "id": "XMLvwm5wglMK"
   },
   "outputs": [
    {
     "name": "stdout",
     "output_type": "stream",
     "text": [
      "2.3.0\n"
     ]
    }
   ],
   "source": [
    "# checking the version of tensorflow\n",
    "import tensorflow as tf\n",
    "print(tf.__version__)"
   ]
  },
  {
   "cell_type": "markdown",
   "metadata": {
    "id": "LbHAzzxZglMR"
   },
   "source": [
    "### a. Create a model\n",
    "\n",
    "<img src='https://drive.google.com/uc?id=1iZNZ3kwSHRNf-Irn3DZmMuBb6K-Lro7w'>"
   ]
  },
  {
   "cell_type": "code",
   "execution_count": 188,
   "metadata": {
    "id": "O-Pl7OO8glMT"
   },
   "outputs": [],
   "source": [
    "# importing the sequential model\n",
    "from keras.models import Sequential"
   ]
  },
  {
   "cell_type": "markdown",
   "metadata": {
    "id": "q6SQ3N1NglMZ"
   },
   "source": [
    "### b. Defining different layers\n",
    "\n",
    "<img src='https://drive.google.com/uc?id=16X6De2hua1XJBe3dfmUUeGTgP6PbXEpc'>"
   ]
  },
  {
   "cell_type": "code",
   "execution_count": 189,
   "metadata": {
    "id": "NDU-YCD0glMb",
    "scrolled": true
   },
   "outputs": [],
   "source": [
    "# importing different layers from keras\n",
    "from keras.layers import InputLayer, Dense "
   ]
  },
  {
   "cell_type": "code",
   "execution_count": 304,
   "metadata": {
    "id": "xtOwk66BglMl"
   },
   "outputs": [
    {
     "data": {
      "text/plain": [
       "(6818, 38)"
      ]
     },
     "execution_count": 304,
     "metadata": {},
     "output_type": "execute_result"
    }
   ],
   "source": [
    "# number of input neurons\n",
    "x_train.shape"
   ]
  },
  {
   "cell_type": "code",
   "execution_count": 305,
   "metadata": {
    "id": "dA2TqMbsglMq",
    "scrolled": true
   },
   "outputs": [
    {
     "data": {
      "text/plain": [
       "38"
      ]
     },
     "execution_count": 305,
     "metadata": {},
     "output_type": "execute_result"
    }
   ],
   "source": [
    "# number of features in the data\n",
    "x_train.shape[1]"
   ]
  },
  {
   "cell_type": "code",
   "execution_count": 306,
   "metadata": {
    "id": "ajgIDiLSglMx"
   },
   "outputs": [],
   "source": [
    "# defining input neurons\n",
    "input_neurons = x_train.shape[1]"
   ]
  },
  {
   "cell_type": "code",
   "execution_count": 307,
   "metadata": {
    "id": "taMhxkl4glNB"
   },
   "outputs": [],
   "source": [
    "# define number of output neurons\n",
    "output_neurons = 1"
   ]
  },
  {
   "cell_type": "code",
   "execution_count": 308,
   "metadata": {
    "id": "sMqdeXysqztM"
   },
   "outputs": [],
   "source": [
    "# define hidden layers and neuron in each layer\n",
    "number_of_hidden_layers = 2\n",
    "neuron_hidden_layer_1 = 10\n",
    "neuron_hidden_layer_2 = 5"
   ]
  },
  {
   "cell_type": "code",
   "execution_count": 309,
   "metadata": {
    "id": "lJeV8sQyq1rj"
   },
   "outputs": [],
   "source": [
    "# defining the architecture of the model\n",
    "model = Sequential()\n",
    "model.add(InputLayer(input_shape=(input_neurons,)))\n",
    "model.add(Dense(units=neuron_hidden_layer_1, activation='relu'))\n",
    "model.add(Dense(units=neuron_hidden_layer_2, activation='relu'))\n",
    "model.add(Dense(units=output_neurons, activation='linear'))"
   ]
  },
  {
   "cell_type": "code",
   "execution_count": 310,
   "metadata": {
    "id": "E9tXg_08q3n0"
   },
   "outputs": [
    {
     "name": "stdout",
     "output_type": "stream",
     "text": [
      "Model: \"sequential_1\"\n",
      "_________________________________________________________________\n",
      "Layer (type)                 Output Shape              Param #   \n",
      "=================================================================\n",
      "dense_3 (Dense)              (None, 10)                390       \n",
      "_________________________________________________________________\n",
      "dense_4 (Dense)              (None, 5)                 55        \n",
      "_________________________________________________________________\n",
      "dense_5 (Dense)              (None, 1)                 6         \n",
      "=================================================================\n",
      "Total params: 451\n",
      "Trainable params: 451\n",
      "Non-trainable params: 0\n",
      "_________________________________________________________________\n"
     ]
    }
   ],
   "source": [
    "# summary of the model\n",
    "model.summary()"
   ]
  },
  {
   "cell_type": "markdown",
   "metadata": {
    "id": "xm1bbbE_glNz"
   },
   "source": [
    "## 4. Compiling the model (defining loss function, optimizer)"
   ]
  },
  {
   "cell_type": "code",
   "execution_count": 311,
   "metadata": {
    "id": "P6hqkDWIglN0"
   },
   "outputs": [],
   "source": [
    "# compiling the model\n",
    "\n",
    "# loss as binary_crossentropy, since we have binary classification problem\n",
    "# defining the optimizer as adam\n",
    "# Evaluation metric as accuracy\n",
    "\n",
    "model.compile(loss='mean_squared_error',optimizer='Adam',metrics=['mse', 'mae'])"
   ]
  },
  {
   "cell_type": "markdown",
   "metadata": {
    "id": "T1oVMpRMglN5"
   },
   "source": [
    "## 5. Training the model"
   ]
  },
  {
   "cell_type": "code",
   "execution_count": 312,
   "metadata": {
    "id": "pViJI3-TglN6"
   },
   "outputs": [
    {
     "name": "stdout",
     "output_type": "stream",
     "text": [
      "Epoch 1/50\n",
      "214/214 [==============================] - 0s 1ms/step - loss: 7624852.0000 - mse: 7624852.0000 - mae: 2174.3215 - val_loss: 7810905.0000 - val_mse: 7810905.0000 - val_mae: 2200.8064\n",
      "Epoch 2/50\n",
      "214/214 [==============================] - 0s 666us/step - loss: 7552773.0000 - mse: 7552773.0000 - mae: 2158.6599 - val_loss: 7666848.5000 - val_mse: 7666848.5000 - val_mae: 2169.6794\n",
      "Epoch 3/50\n",
      "214/214 [==============================] - 0s 675us/step - loss: 7314689.0000 - mse: 7314689.0000 - mae: 2106.0085 - val_loss: 7315882.5000 - val_mse: 7315882.5000 - val_mae: 2093.0359\n",
      "Epoch 4/50\n",
      "214/214 [==============================] - 0s 838us/step - loss: 6841277.5000 - mse: 6841277.5000 - mae: 2001.7172 - val_loss: 6694630.5000 - val_mse: 6694630.5000 - val_mae: 1959.7338\n",
      "Epoch 5/50\n",
      "214/214 [==============================] - 0s 633us/step - loss: 6105564.5000 - mse: 6105564.5000 - mae: 1842.5330 - val_loss: 5839751.5000 - val_mse: 5839751.5000 - val_mae: 1783.1844\n",
      "Epoch 6/50\n",
      "214/214 [==============================] - 0s 638us/step - loss: 5202511.0000 - mse: 5202511.0000 - mae: 1653.3130 - val_loss: 4874477.5000 - val_mse: 4874477.5000 - val_mae: 1586.2321\n",
      "Epoch 7/50\n",
      "214/214 [==============================] - 0s 671us/step - loss: 4270736.0000 - mse: 4270736.0000 - mae: 1465.4639 - val_loss: 3959190.0000 - val_mse: 3959190.0000 - val_mae: 1404.4124\n",
      "Epoch 8/50\n",
      "214/214 [==============================] - 0s 713us/step - loss: 3461493.0000 - mse: 3461493.0000 - mae: 1313.9702 - val_loss: 3230144.0000 - val_mse: 3230144.0000 - val_mae: 1272.7617\n",
      "Epoch 9/50\n",
      "214/214 [==============================] - 0s 647us/step - loss: 2877124.0000 - mse: 2877124.0000 - mae: 1220.7094 - val_loss: 2753243.7500 - val_mse: 2753243.7500 - val_mae: 1203.7498\n",
      "Epoch 10/50\n",
      "214/214 [==============================] - 0s 694us/step - loss: 2536787.2500 - mse: 2536787.2500 - mae: 1182.1064 - val_loss: 2498481.2500 - val_mse: 2498481.2500 - val_mae: 1179.9912\n",
      "Epoch 11/50\n",
      "214/214 [==============================] - 0s 829us/step - loss: 2371500.0000 - mse: 2371500.0000 - mae: 1177.7522 - val_loss: 2379938.5000 - val_mse: 2379938.5000 - val_mae: 1176.3560\n",
      "Epoch 12/50\n",
      "214/214 [==============================] - 0s 750us/step - loss: 2293203.0000 - mse: 2293203.0000 - mae: 1178.1294 - val_loss: 2312393.2500 - val_mse: 2312393.2500 - val_mae: 1174.1013\n",
      "Epoch 13/50\n",
      "214/214 [==============================] - 0s 605us/step - loss: 2242068.0000 - mse: 2242068.0000 - mae: 1174.3458 - val_loss: 2263406.0000 - val_mse: 2263406.0000 - val_mae: 1168.3055\n",
      "Epoch 14/50\n",
      "214/214 [==============================] - 0s 643us/step - loss: 2198851.7500 - mse: 2198851.7500 - mae: 1168.8142 - val_loss: 2219986.0000 - val_mse: 2219986.0000 - val_mae: 1158.7112\n",
      "Epoch 15/50\n",
      "214/214 [==============================] - 0s 675us/step - loss: 2158077.2500 - mse: 2158077.2500 - mae: 1157.5854 - val_loss: 2176190.7500 - val_mse: 2176190.7500 - val_mae: 1150.3693\n",
      "Epoch 16/50\n",
      "214/214 [==============================] - 0s 689us/step - loss: 2117038.7500 - mse: 2117038.7500 - mae: 1148.4835 - val_loss: 2132137.7500 - val_mse: 2132137.7500 - val_mae: 1138.0349\n",
      "Epoch 17/50\n",
      "214/214 [==============================] - 0s 666us/step - loss: 2071727.7500 - mse: 2071727.7500 - mae: 1136.8241 - val_loss: 2084351.2500 - val_mse: 2084351.2500 - val_mae: 1122.9347\n",
      "Epoch 18/50\n",
      "214/214 [==============================] - 0s 671us/step - loss: 2023917.6250 - mse: 2023917.6250 - mae: 1121.7047 - val_loss: 2032981.0000 - val_mse: 2032981.0000 - val_mae: 1106.7273\n",
      "Epoch 19/50\n",
      "214/214 [==============================] - 0s 699us/step - loss: 1971806.1250 - mse: 1971806.1250 - mae: 1102.7545 - val_loss: 1976326.1250 - val_mse: 1976326.1250 - val_mae: 1090.3475\n",
      "Epoch 20/50\n",
      "214/214 [==============================] - 0s 773us/step - loss: 1916523.8750 - mse: 1916523.8750 - mae: 1086.2061 - val_loss: 1918769.7500 - val_mse: 1918769.7500 - val_mae: 1072.0184\n",
      "Epoch 21/50\n",
      "214/214 [==============================] - 0s 629us/step - loss: 1859546.1250 - mse: 1859546.1250 - mae: 1067.5231 - val_loss: 1859827.5000 - val_mse: 1859827.5000 - val_mae: 1049.8492\n",
      "Epoch 22/50\n",
      "214/214 [==============================] - 0s 693us/step - loss: 1801839.5000 - mse: 1801839.5000 - mae: 1045.9534 - val_loss: 1799742.8750 - val_mse: 1799742.8750 - val_mae: 1027.9717\n",
      "Epoch 23/50\n",
      "214/214 [==============================] - 0s 666us/step - loss: 1743802.1250 - mse: 1743802.1250 - mae: 1023.6464 - val_loss: 1739495.6250 - val_mse: 1739495.6250 - val_mae: 1007.4934\n",
      "Epoch 24/50\n",
      "214/214 [==============================] - 0s 661us/step - loss: 1688002.2500 - mse: 1688002.2500 - mae: 1000.9697 - val_loss: 1682959.7500 - val_mse: 1682959.7500 - val_mae: 985.4219\n",
      "Epoch 25/50\n",
      "214/214 [==============================] - 0s 945us/step - loss: 1634699.5000 - mse: 1634699.5000 - mae: 979.5963 - val_loss: 1628551.1250 - val_mse: 1628551.1250 - val_mae: 964.1660\n",
      "Epoch 26/50\n",
      "214/214 [==============================] - 0s 764us/step - loss: 1585554.3750 - mse: 1585554.3750 - mae: 957.7020 - val_loss: 1579333.3750 - val_mse: 1579333.3750 - val_mae: 943.3288\n",
      "Epoch 27/50\n",
      "214/214 [==============================] - 0s 782us/step - loss: 1540588.3750 - mse: 1540588.3750 - mae: 938.5139 - val_loss: 1535364.7500 - val_mse: 1535364.7500 - val_mae: 925.6185\n",
      "Epoch 28/50\n",
      "214/214 [==============================] - 0s 620us/step - loss: 1501129.6250 - mse: 1501129.6250 - mae: 923.5858 - val_loss: 1496260.2500 - val_mse: 1496260.2500 - val_mae: 912.2449\n",
      "Epoch 29/50\n",
      "214/214 [==============================] - 0s 633us/step - loss: 1466070.7500 - mse: 1466070.7500 - mae: 909.3748 - val_loss: 1462026.7500 - val_mse: 1462026.7500 - val_mae: 898.6796\n",
      "Epoch 30/50\n",
      "214/214 [==============================] - 0s 652us/step - loss: 1436045.1250 - mse: 1436045.1250 - mae: 894.5910 - val_loss: 1433374.8750 - val_mse: 1433374.8750 - val_mae: 892.8236\n",
      "Epoch 31/50\n",
      "214/214 [==============================] - 0s 647us/step - loss: 1410643.7500 - mse: 1410643.7500 - mae: 888.1993 - val_loss: 1407999.3750 - val_mse: 1407999.3750 - val_mae: 878.4459\n",
      "Epoch 32/50\n",
      "214/214 [==============================] - 0s 643us/step - loss: 1389855.0000 - mse: 1389855.0000 - mae: 880.0667 - val_loss: 1388135.6250 - val_mse: 1388135.6250 - val_mae: 875.7654\n",
      "Epoch 33/50\n",
      "214/214 [==============================] - 0s 629us/step - loss: 1372107.7500 - mse: 1372107.7500 - mae: 875.2064 - val_loss: 1372130.2500 - val_mse: 1372130.2500 - val_mae: 865.1445\n",
      "Epoch 34/50\n",
      "214/214 [==============================] - 0s 671us/step - loss: 1358119.6250 - mse: 1358119.6250 - mae: 866.2785 - val_loss: 1359053.0000 - val_mse: 1359053.0000 - val_mae: 871.2275\n",
      "Epoch 35/50\n",
      "214/214 [==============================] - 0s 862us/step - loss: 1347274.5000 - mse: 1347274.5000 - mae: 867.0604 - val_loss: 1346095.8750 - val_mse: 1346095.8750 - val_mae: 861.6644\n",
      "Epoch 36/50\n",
      "214/214 [==============================] - 0s 736us/step - loss: 1338341.7500 - mse: 1338341.7500 - mae: 862.7499 - val_loss: 1336848.5000 - val_mse: 1336848.5000 - val_mae: 858.4605\n",
      "Epoch 37/50\n",
      "214/214 [==============================] - 0s 731us/step - loss: 1331181.1250 - mse: 1331181.1250 - mae: 860.7841 - val_loss: 1329194.0000 - val_mse: 1329194.0000 - val_mae: 858.5194\n",
      "Epoch 38/50\n",
      "214/214 [==============================] - 0s 741us/step - loss: 1325340.2500 - mse: 1325340.2500 - mae: 857.8125 - val_loss: 1323174.6250 - val_mse: 1323174.6250 - val_mae: 857.1566\n",
      "Epoch 39/50\n",
      "214/214 [==============================] - 0s 717us/step - loss: 1320243.5000 - mse: 1320243.5000 - mae: 857.6689 - val_loss: 1317279.8750 - val_mse: 1317279.8750 - val_mae: 852.6676\n",
      "Epoch 40/50\n",
      "214/214 [==============================] - 0s 764us/step - loss: 1315554.3750 - mse: 1315554.3750 - mae: 856.0017 - val_loss: 1312700.7500 - val_mse: 1312700.7500 - val_mae: 853.1586\n",
      "Epoch 41/50\n",
      "214/214 [==============================] - 0s 638us/step - loss: 1311946.8750 - mse: 1311946.8750 - mae: 853.0993 - val_loss: 1309013.8750 - val_mse: 1309013.8750 - val_mae: 851.3729\n",
      "Epoch 42/50\n",
      "214/214 [==============================] - 0s 787us/step - loss: 1309439.1250 - mse: 1309439.1250 - mae: 852.4306 - val_loss: 1306160.6250 - val_mse: 1306160.6250 - val_mae: 851.8174\n",
      "Epoch 43/50\n",
      "214/214 [==============================] - 0s 768us/step - loss: 1306957.7500 - mse: 1306957.7500 - mae: 850.6729 - val_loss: 1303895.5000 - val_mse: 1303895.5000 - val_mae: 851.9569\n",
      "Epoch 44/50\n",
      "214/214 [==============================] - 0s 741us/step - loss: 1305575.2500 - mse: 1305575.2500 - mae: 851.8163 - val_loss: 1300327.1250 - val_mse: 1300327.1250 - val_mae: 846.5181\n",
      "Epoch 45/50\n",
      "214/214 [==============================] - 0s 671us/step - loss: 1303208.8750 - mse: 1303208.8750 - mae: 848.5034 - val_loss: 1299484.3750 - val_mse: 1299484.3750 - val_mae: 849.7021\n",
      "Epoch 46/50\n",
      "214/214 [==============================] - 0s 629us/step - loss: 1302336.0000 - mse: 1302336.0000 - mae: 849.0345 - val_loss: 1296991.0000 - val_mse: 1296991.0000 - val_mae: 847.4388\n",
      "Epoch 47/50\n",
      "214/214 [==============================] - 0s 722us/step - loss: 1300923.3750 - mse: 1300923.3750 - mae: 849.5634 - val_loss: 1295279.3750 - val_mse: 1295279.3750 - val_mae: 846.6694\n",
      "Epoch 48/50\n",
      "214/214 [==============================] - 0s 736us/step - loss: 1300231.0000 - mse: 1300231.0000 - mae: 847.8463 - val_loss: 1293735.7500 - val_mse: 1293735.7500 - val_mae: 844.8142\n",
      "Epoch 49/50\n",
      "214/214 [==============================] - 0s 750us/step - loss: 1298603.8750 - mse: 1298603.8750 - mae: 847.9614 - val_loss: 1292895.7500 - val_mse: 1292895.7500 - val_mae: 841.3914\n",
      "Epoch 50/50\n",
      "214/214 [==============================] - 0s 848us/step - loss: 1297706.8750 - mse: 1297706.8750 - mae: 845.8848 - val_loss: 1291761.2500 - val_mse: 1291761.2500 - val_mae: 844.2638\n"
     ]
    }
   ],
   "source": [
    "# training the model\n",
    "\n",
    "# passing the independent and dependent features for training set for training the model\n",
    "\n",
    "# validation data will be evaluated at the end of each epoch\n",
    "\n",
    "# setting the epochs as 50\n",
    "\n",
    "# storing the trained model in model_history variable which will be used to visualize the training process\n",
    "\n",
    "model_history = model.fit(x_train, y_train, validation_data=(x_test, y_test), epochs=50)"
   ]
  },
  {
   "cell_type": "markdown",
   "metadata": {
    "id": "hBZ_3aumglN9"
   },
   "source": [
    "## 6. Evaluating model performance on validation set"
   ]
  },
  {
   "cell_type": "code",
   "execution_count": 313,
   "metadata": {
    "id": "qpBoHi7jglN_"
   },
   "outputs": [],
   "source": [
    "# getting predictions for the validation set\n",
    "prediction = model.predict(x_test)"
   ]
  },
  {
   "cell_type": "code",
   "execution_count": 314,
   "metadata": {
    "id": "jMapdscmglOD"
   },
   "outputs": [
    {
     "name": "stdout",
     "output_type": "stream",
     "text": [
      "54/54 [==============================] - 0s 609us/step - loss: 1291761.2500 - mse: 1291761.2500 - mae: 844.2638\n"
     ]
    },
    {
     "data": {
      "text/plain": [
       "[1291761.25, 1291761.25, 844.2637939453125]"
      ]
     },
     "execution_count": 314,
     "metadata": {},
     "output_type": "execute_result"
    }
   ],
   "source": [
    "# calculating the accuracy on validation set\n",
    "# Evaluate the results on test data\n",
    "model.evaluate(x_test, y_test)"
   ]
  },
  {
   "cell_type": "markdown",
   "metadata": {
    "id": "rLvGzvLcglOH"
   },
   "source": [
    "### Visualizing the model performance"
   ]
  },
  {
   "cell_type": "code",
   "execution_count": 315,
   "metadata": {
    "id": "68APv0UuglOI"
   },
   "outputs": [
    {
     "data": {
      "image/png": "[encoded data removed]",
      "text/plain": [
       "<Figure size 432x288 with 1 Axes>"
      ]
     },
     "metadata": {},
     "output_type": "display_data"
    }
   ],
   "source": [
    "# summarize history for loss\n",
    "plt.plot(model_history.history['loss'])\n",
    "plt.plot(model_history.history['val_loss'])\n",
    "plt.title('model loss')\n",
    "plt.ylabel('loss')\n",
    "plt.xlabel('epoch')\n",
    "plt.legend(['train', 'validation'], loc='upper left')\n",
    "plt.show()"
   ]
  },
  {
   "cell_type": "code",
   "execution_count": 318,
   "metadata": {
    "id": "tvVzU1Gwu7mb"
   },
   "outputs": [],
   "source": [
    "# Model architecture with 4 hidden layers and 350 neurons\n",
    "model = Sequential()\n",
    "model.add(InputLayer(input_shape=(input_neurons,)))\n",
    "model.add(Dense(350, activation='relu'))\n",
    "model.add(Dense(350, activation='relu'))\n",
    "model.add(Dense(350, activation='relu'))\n",
    "model.add(Dense(350, activation='relu'))\n",
    "model.add(Dense(1, activation='linear'))"
   ]
  },
  {
   "cell_type": "code",
   "execution_count": 319,
   "metadata": {},
   "outputs": [],
   "source": [
    "# Compile the model\n",
    "model.compile(optimizer='Adam', loss='mean_squared_error', metrics=['mean_absolute_error'])"
   ]
  },
  {
   "cell_type": "code",
   "execution_count": 322,
   "metadata": {},
   "outputs": [
    {
     "name": "stdout",
     "output_type": "stream",
     "text": [
      "Epoch 1/50\n",
      "107/107 [==============================] - 0s 2ms/step - loss: 1182090.7500 - mean_absolute_error: 760.5393\n",
      "Epoch 2/50\n",
      "107/107 [==============================] - 0s 2ms/step - loss: 1169166.0000 - mean_absolute_error: 757.9774\n",
      "Epoch 3/50\n",
      "107/107 [==============================] - 0s 2ms/step - loss: 1151248.1250 - mean_absolute_error: 749.9901\n",
      "Epoch 4/50\n",
      "107/107 [==============================] - 0s 2ms/step - loss: 1150826.5000 - mean_absolute_error: 748.5983\n",
      "Epoch 5/50\n",
      "107/107 [==============================] - 0s 2ms/step - loss: 1169894.5000 - mean_absolute_error: 755.1547\n",
      "Epoch 6/50\n",
      "107/107 [==============================] - 0s 2ms/step - loss: 1159170.1250 - mean_absolute_error: 753.6832\n",
      "Epoch 7/50\n",
      "107/107 [==============================] - 0s 2ms/step - loss: 1157600.1250 - mean_absolute_error: 751.1430\n",
      "Epoch 8/50\n",
      "107/107 [==============================] - 0s 2ms/step - loss: 1137846.7500 - mean_absolute_error: 745.6006\n",
      "Epoch 9/50\n",
      "107/107 [==============================] - 0s 2ms/step - loss: 1136096.8750 - mean_absolute_error: 745.8016\n",
      "Epoch 10/50\n",
      "107/107 [==============================] - 0s 2ms/step - loss: 1132242.2500 - mean_absolute_error: 744.4053\n",
      "Epoch 11/50\n",
      "107/107 [==============================] - 0s 2ms/step - loss: 1140911.1250 - mean_absolute_error: 750.4388\n",
      "Epoch 12/50\n",
      "107/107 [==============================] - 0s 2ms/step - loss: 1136625.7500 - mean_absolute_error: 745.0485\n",
      "Epoch 13/50\n",
      "107/107 [==============================] - 0s 2ms/step - loss: 1147602.1250 - mean_absolute_error: 748.6066\n",
      "Epoch 14/50\n",
      "107/107 [==============================] - 0s 2ms/step - loss: 1135369.5000 - mean_absolute_error: 744.4756\n",
      "Epoch 15/50\n",
      "107/107 [==============================] - 0s 2ms/step - loss: 1149083.1250 - mean_absolute_error: 748.1266\n",
      "Epoch 16/50\n",
      "107/107 [==============================] - 0s 2ms/step - loss: 1125815.6250 - mean_absolute_error: 742.5565\n",
      "Epoch 17/50\n",
      "107/107 [==============================] - 0s 2ms/step - loss: 1149376.7500 - mean_absolute_error: 746.2867\n",
      "Epoch 18/50\n",
      "107/107 [==============================] - 0s 2ms/step - loss: 1127972.1250 - mean_absolute_error: 741.0075\n",
      "Epoch 19/50\n",
      "107/107 [==============================] - 0s 2ms/step - loss: 1146697.3750 - mean_absolute_error: 748.8300\n",
      "Epoch 20/50\n",
      "107/107 [==============================] - 0s 2ms/step - loss: 1124963.6250 - mean_absolute_error: 739.5364\n",
      "Epoch 21/50\n",
      "107/107 [==============================] - 0s 2ms/step - loss: 1129885.7500 - mean_absolute_error: 742.1375\n",
      "Epoch 22/50\n",
      "107/107 [==============================] - 0s 2ms/step - loss: 1117587.1250 - mean_absolute_error: 738.1941\n",
      "Epoch 23/50\n",
      "107/107 [==============================] - 0s 2ms/step - loss: 1108436.2500 - mean_absolute_error: 736.6039\n",
      "Epoch 24/50\n",
      "107/107 [==============================] - 0s 2ms/step - loss: 1104090.6250 - mean_absolute_error: 736.6586\n",
      "Epoch 25/50\n",
      "107/107 [==============================] - 0s 2ms/step - loss: 1115966.1250 - mean_absolute_error: 737.8248\n",
      "Epoch 26/50\n",
      "107/107 [==============================] - 0s 2ms/step - loss: 1119528.5000 - mean_absolute_error: 740.6993\n",
      "Epoch 27/50\n",
      "107/107 [==============================] - 0s 2ms/step - loss: 1103682.1250 - mean_absolute_error: 733.3663\n",
      "Epoch 28/50\n",
      "107/107 [==============================] - 0s 2ms/step - loss: 1090506.5000 - mean_absolute_error: 729.3442\n",
      "Epoch 29/50\n",
      "107/107 [==============================] - 0s 2ms/step - loss: 1104580.3750 - mean_absolute_error: 732.5405\n",
      "Epoch 30/50\n",
      "107/107 [==============================] - 0s 2ms/step - loss: 1096769.8750 - mean_absolute_error: 729.4395\n",
      "Epoch 31/50\n",
      "107/107 [==============================] - 0s 2ms/step - loss: 1105769.3750 - mean_absolute_error: 732.9801\n",
      "Epoch 32/50\n",
      "107/107 [==============================] - 0s 2ms/step - loss: 1098460.7500 - mean_absolute_error: 730.0596\n",
      "Epoch 33/50\n",
      "107/107 [==============================] - 0s 2ms/step - loss: 1097270.1250 - mean_absolute_error: 731.0316\n",
      "Epoch 34/50\n",
      "107/107 [==============================] - 0s 2ms/step - loss: 1082630.2500 - mean_absolute_error: 725.4879\n",
      "Epoch 35/50\n",
      "107/107 [==============================] - 0s 2ms/step - loss: 1086502.1250 - mean_absolute_error: 728.2575\n",
      "Epoch 36/50\n",
      "107/107 [==============================] - 0s 2ms/step - loss: 1089070.7500 - mean_absolute_error: 731.0706\n",
      "Epoch 37/50\n",
      "107/107 [==============================] - 0s 2ms/step - loss: 1078983.7500 - mean_absolute_error: 724.8887\n",
      "Epoch 38/50\n",
      "107/107 [==============================] - 0s 2ms/step - loss: 1073726.3750 - mean_absolute_error: 723.8734\n",
      "Epoch 39/50\n",
      "107/107 [==============================] - 0s 2ms/step - loss: 1095749.5000 - mean_absolute_error: 732.3040\n",
      "Epoch 40/50\n",
      "107/107 [==============================] - 0s 2ms/step - loss: 1071309.7500 - mean_absolute_error: 719.5908\n",
      "Epoch 41/50\n",
      "107/107 [==============================] - 0s 2ms/step - loss: 1078309.2500 - mean_absolute_error: 723.1273\n",
      "Epoch 42/50\n",
      "107/107 [==============================] - 0s 2ms/step - loss: 1076716.7500 - mean_absolute_error: 723.1859\n",
      "Epoch 43/50\n",
      "107/107 [==============================] - 0s 2ms/step - loss: 1068046.0000 - mean_absolute_error: 718.9823\n",
      "Epoch 44/50\n",
      "107/107 [==============================] - 0s 2ms/step - loss: 1046428.4375 - mean_absolute_error: 715.8957\n",
      "Epoch 45/50\n",
      "107/107 [==============================] - 0s 2ms/step - loss: 1053647.0000 - mean_absolute_error: 715.7135\n",
      "Epoch 46/50\n",
      "107/107 [==============================] - 0s 2ms/step - loss: 1033845.8750 - mean_absolute_error: 708.1589\n",
      "Epoch 47/50\n",
      "107/107 [==============================] - 0s 2ms/step - loss: 1042598.1250 - mean_absolute_error: 712.8770\n",
      "Epoch 48/50\n",
      "107/107 [==============================] - 0s 2ms/step - loss: 1057475.6250 - mean_absolute_error: 716.6915\n",
      "Epoch 49/50\n",
      "107/107 [==============================] - 0s 2ms/step - loss: 1042160.8125 - mean_absolute_error: 710.7859\n",
      "Epoch 50/50\n",
      "107/107 [==============================] - 0s 2ms/step - loss: 1052220.5000 - mean_absolute_error: 714.4010\n"
     ]
    },
    {
     "data": {
      "text/plain": [
       "<tensorflow.python.keras.callbacks.History at 0x244d8d91eb0>"
      ]
     },
     "execution_count": 322,
     "metadata": {},
     "output_type": "execute_result"
    }
   ],
   "source": [
    "# Training\n",
    "model.fit(x_train, y_train, epochs=50, batch_size=64)"
   ]
  },
  {
   "cell_type": "code",
   "execution_count": 323,
   "metadata": {},
   "outputs": [
    {
     "name": "stdout",
     "output_type": "stream",
     "text": [
      "54/54 [==============================] - 0s 1ms/step - loss: 1292792.3750 - mean_absolute_error: 794.8405\n"
     ]
    },
    {
     "data": {
      "text/plain": [
       "[1292792.375, 794.8404541015625]"
      ]
     },
     "execution_count": 323,
     "metadata": {},
     "output_type": "execute_result"
    }
   ],
   "source": [
    "# Evaluate the new model\n",
    "model.evaluate(x_test, y_test)"
   ]
  },
  {
   "cell_type": "code",
   "execution_count": 324,
   "metadata": {},
   "outputs": [
    {
     "data": {
      "image/png": "[encoded data removed]",
      "text/plain": [
       "<Figure size 432x288 with 1 Axes>"
      ]
     },
     "metadata": {},
     "output_type": "display_data"
    }
   ],
   "source": [
    "# summarize history for loss\n",
    "plt.plot(model_history.history['loss'])\n",
    "plt.plot(model_history.history['val_loss'])\n",
    "plt.title('model loss')\n",
    "plt.ylabel('loss')\n",
    "plt.xlabel('epoch')\n",
    "plt.legend(['train', 'validation'], loc='upper left')\n",
    "plt.show()"
   ]
  },
  {
   "cell_type": "code",
   "execution_count": null,
   "metadata": {},
   "outputs": [],
   "source": []
  }
 ],
 "metadata": {
  "colab": {
   "collapsed_sections": [],
   "name": "Big_Mart_Regression_Prediction.ipynb",
   "provenance": []
  },
  "kernelspec": {
   "display_name": "deep",
   "language": "python",
   "name": "deep"
  },
  "language_info": {
   "codemirror_mode": {
    "name": "ipython",
    "version": 3
   },
   "file_extension": ".py",
   "mimetype": "text/x-python",
   "name": "python",
   "nbconvert_exporter": "python",
   "pygments_lexer": "ipython3",
   "version": "3.8.8"
  }
 },
 "nbformat": 4,
 "nbformat_minor": 4
}
