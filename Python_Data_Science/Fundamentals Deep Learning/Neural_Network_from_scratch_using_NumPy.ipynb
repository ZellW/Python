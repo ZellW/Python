{
  "nbformat": 4,
  "nbformat_minor": 0,
  "metadata": {
    "colab": {
      "name": "Neural Network from scratch using NumPy.ipynb",
      "provenance": [],
      "collapsed_sections": []
    },
    "kernelspec": {
      "name": "python3",
      "display_name": "Python 3",
      "language": "python"
    },
    "language_info": {
      "codemirror_mode": {
        "name": "ipython",
        "version": 3
      },
      "file_extension": ".py",
      "mimetype": "text/x-python",
      "name": "python",
      "nbconvert_exporter": "python",
      "pygments_lexer": "ipython3",
      "version": "3.8.5-final"
    },
    "accelerator": "GPU"
  },
  "cells": [
    {
      "cell_type": "markdown",
      "metadata": {
        "colab_type": "text",
        "id": "cEG1dhnuNFRk"
      },
      "source": [
        "# Steps to build a Neural Network in NumPy\n",
        "\n",
        "<ol>1. Loading the dataset (Input and Output)</ol>\n",
        "<ol>2. Architecture of the model (# input, hidden and output neurons)</ol>\n",
        "<ol>3. Initializing the weights for all the layers</ol>\n",
        "<ol>4. Implementing forward propagation</ol>\n",
        "<ol>5. Implementing backward propagation</ol>\n",
        "<ol>6. Train the model for n epochs </ol>"
      ]
    },
    {
      "cell_type": "markdown",
      "metadata": {
        "colab_type": "text",
        "id": "sbgj7HfHNFRr"
      },
      "source": [
        "## 1. Loading the dataset (Input and Output)"
      ]
    },
    {
      "cell_type": "code",
      "metadata": {
        "colab_type": "code",
        "id": "E5S9HgBzNFRw",
        "colab": {}
      },
      "source": [
        "# importing required libraries\n",
        "import numpy as np\n",
        "import matplotlib\n",
        "import matplotlib.pyplot as plt\n",
        "%matplotlib inline"
      ],
      "execution_count": 1,
      "outputs": []
    },
    {
      "cell_type": "code",
      "metadata": {
        "colab_type": "code",
        "id": "ogs6CaXu2zeZ",
        "outputId": "f5055dbe-331b-461c-a1a1-13d28149d528",
        "colab": {
          "base_uri": "https://localhost:8080/",
          "height": 34
        }
      },
      "source": [
        "# version of numpy library\n",
        "print('Version of numpy:',np.__version__)"
      ],
      "execution_count": 2,
      "outputs": [
        {
          "output_type": "stream",
          "name": "stdout",
          "text": [
            "Version of numpy: 1.19.2\n"
          ]
        }
      ]
    },
    {
      "cell_type": "code",
      "metadata": {
        "colab_type": "code",
        "id": "vNmvxGv723N6",
        "outputId": "340278d2-64d4-43b2-fd9e-02585dc66d21",
        "colab": {
          "base_uri": "https://localhost:8080/",
          "height": 34
        }
      },
      "source": [
        "# version of matplotlib library\n",
        "print('Version of matplotlib:',matplotlib.__version__)"
      ],
      "execution_count": 3,
      "outputs": [
        {
          "output_type": "stream",
          "name": "stdout",
          "text": [
            "Version of matplotlib: 3.3.4\n"
          ]
        }
      ]
    },
    {
      "cell_type": "code",
      "metadata": {
        "colab_type": "code",
        "id": "H_h7HoPONFR_",
        "outputId": "552026b7-f129-41e9-c8f4-22a4c9d80e6e",
        "colab": {
          "base_uri": "https://localhost:8080/",
          "height": 139
        }
      },
      "source": [
        "# creating the input array\n",
        "X=np.array([[1,0,1,0], [1,0,1,1], [0,1,0,1]])\n",
        "print ('\\n Input:')\n",
        "print(X)\n",
        "# shape of input array\n",
        "print('\\n Shape of Input:', X.shape)"
      ],
      "execution_count": 5,
      "outputs": [
        {
          "output_type": "stream",
          "name": "stdout",
          "text": [
            "\n Input:\n[[1 0 1 0]\n [1 0 1 1]\n [0 1 0 1]]\n\n Shape of Input: (3, 4)\n"
          ]
        }
      ]
    },
    {
      "cell_type": "code",
      "execution_count": null,
      "metadata": {},
      "outputs": [],
      "source": []
    },
    {
      "source": [
        "There are 3 observations with 4 features above.\n",
        "\n",
        "This needs to be transposed to make the features as rows as shown below.\n"
      ],
      "cell_type": "markdown",
      "metadata": {}
    },
    {
      "cell_type": "code",
      "metadata": {
        "colab_type": "code",
        "id": "LVvQz5g39wo3",
        "outputId": "e0f22a43-1caa-4ca0-bfdd-0168c8853d6b",
        "colab": {
          "base_uri": "https://localhost:8080/",
          "height": 156
        }
      },
      "source": [
        "# converting the input in matrix form\n",
        "X = X.T\n",
        "print('\\n Input in matrix form:')\n",
        "print(X)\n",
        "# shape of input matrix\n",
        "print('\\n Shape of Input Matrix:', X.shape)"
      ],
      "execution_count": 6,
      "outputs": [
        {
          "output_type": "stream",
          "name": "stdout",
          "text": [
            "\n Input in matrix form:\n[[1 1 0]\n [0 0 1]\n [1 1 0]\n [0 1 1]]\n\n Shape of Input Matrix: (4, 3)\n"
          ]
        }
      ]
    },
    {
      "source": [
        "Above the matrix has forur features for each of the 3 observations."
      ],
      "cell_type": "markdown",
      "metadata": {}
    },
    {
      "cell_type": "code",
      "metadata": {
        "colab_type": "code",
        "id": "IRe8JE0xNFSL",
        "outputId": "bd0f8cc4-140c-4788-fe12-0967af4b0f0f",
        "colab": {
          "base_uri": "https://localhost:8080/",
          "height": 191
        }
      },
      "source": [
        "# creating the output array\n",
        "y=np.array([[1],[1],[0]])\n",
        "print ('\\n Actual Output:')\n",
        "print(y)\n",
        "\n",
        "# output in matrix form\n",
        "y = y.T\n",
        "\n",
        "print ('\\n Output in matrix form:')\n",
        "print(y)\n",
        "\n",
        "# shape of input array\n",
        "print('\\n Shape of Output:', y.shape)"
      ],
      "execution_count": 7,
      "outputs": [
        {
          "output_type": "stream",
          "name": "stdout",
          "text": [
            "\n Actual Output:\n[[1]\n [1]\n [0]]\n\n Output in matrix form:\n[[1 1 0]]\n\n Shape of Output: (1, 3)\n"
          ]
        }
      ]
    },
    {
      "source": [
        "The shape of the output is simple - 1 outpout for each of the 3 observations."
      ],
      "cell_type": "markdown",
      "metadata": {}
    },
    {
      "cell_type": "markdown",
      "metadata": {
        "colab_type": "text",
        "id": "tKf4Ji1-NFSV"
      },
      "source": [
        "## 2. Architecture of the model (# input, hidden and output neurons)"
      ]
    },
    {
      "cell_type": "code",
      "metadata": {
        "colab_type": "code",
        "id": "vlhBW0NNNFSg",
        "colab": {}
      },
      "source": [
        "inputlayer_neurons = X.shape[0] # number of features in data set\n",
        "hiddenlayer_neurons = 3 # number of hidden layers neurons - tis was chosen by experience.  Experimentation is often required.\n",
        "output_neurons = 1 # number of neurons at output layer"
      ],
      "execution_count": 9,
      "outputs": []
    },
    {
      "cell_type": "markdown",
      "metadata": {
        "colab_type": "text",
        "id": "OoOsLucmNFSo"
      },
      "source": [
        "![alt text](https://drive.google.com/uc?id=1zrEFVsc6bMQZ7fRxbK4DRceaG78k26Pc)"
      ]
    },
    {
      "cell_type": "markdown",
      "metadata": {
        "colab_type": "text",
        "id": "_Nmwj8RfNFSr"
      },
      "source": [
        "## 3. Initializing the weights for all the layers\n",
        "\n",
        "NOTE: For simplicity, we are assuming that the bias for all the layers is 0.  This makes clacualtions easier."
      ]
    },
    {
      "cell_type": "code",
      "metadata": {
        "colab_type": "code",
        "id": "1T1IG-W8NFSu",
        "colab": {}
      },
      "source": [
        "# initializing weight\n",
        "# Shape of w_ih should number of neurons at input layer X number of neurons at hidden layer\n",
        "w_ih = np.random.uniform(size = (inputlayer_neurons, hiddenlayer_neurons))\n",
        "\n",
        "# Shape of w_ho should number of neurons at hidden layer X number of neurons at output layer\n",
        "w_ho = np.random.uniform(size = (hiddenlayer_neurons, output_neurons))"
      ],
      "execution_count": 10,
      "outputs": []
    },
    {
      "cell_type": "code",
      "metadata": {
        "colab_type": "code",
        "id": "Fpa1--9KNFS1",
        "outputId": "407ba6ee-ddc9-4830-d771-15704f6e39e6",
        "colab": {
          "base_uri": "https://localhost:8080/",
          "height": 34
        }
      },
      "source": [
        "# shape of weight matrix\n",
        "w_ih.shape, w_ho.shape"
      ],
      "execution_count": 11,
      "outputs": [
        {
          "output_type": "execute_result",
          "data": {
            "text/plain": [
              "((4, 3), (3, 1))"
            ]
          },
          "metadata": {},
          "execution_count": 11
        }
      ]
    },
    {
      "cell_type": "markdown",
      "metadata": {
        "colab_type": "text",
        "id": "srrDW1MNNFS-"
      },
      "source": [
        "## 4. Implementing forward propagation"
      ]
    },
    {
      "cell_type": "markdown",
      "metadata": {
        "colab_type": "text",
        "id": "-g-SocwQNFTC"
      },
      "source": [
        "![alt text](https://drive.google.com/uc?id=1YwD7vY9k84vZmjmE5CXgQ69fYyadPsox)"
      ]
    },
    {
      "cell_type": "code",
      "metadata": {
        "colab_type": "code",
        "id": "sOcBji4iNFTE",
        "colab": {}
      },
      "source": [
        "# We are using sigmoid as an activation function so defining the sigmoid function here\n",
        "\n",
        "# defining the Sigmoid Function\n",
        "def sigmoid (x):\n",
        "    return 1/(1 + np.exp(-x))"
      ],
      "execution_count": 13,
      "outputs": []
    },
    {
      "cell_type": "code",
      "execution_count": 21,
      "metadata": {},
      "outputs": [
        {
          "output_type": "stream",
          "name": "stdout",
          "text": [
            "[[0.54722587 0.30552026 0.7466325 ]\n [0.80280789 0.08553086 0.12652166]\n [0.50624502 0.48234745 0.89006429]\n [0.04492012 0.05031994 0.94606546]] \n\n[[0.54722587 0.80280789 0.50624502 0.04492012]\n [0.30552026 0.08553086 0.48234745 0.05031994]\n [0.7466325  0.12652166 0.89006429 0.94606546]] \n\n[[1 1 0]\n [0 0 1]\n [1 1 0]\n [0 1 1]] \n\n"
          ]
        },
        {
          "output_type": "execute_result",
          "data": {
            "text/plain": [
              "array([[1.05347089, 1.09839101, 0.84772801],\n",
              "       [0.7878677 , 0.83818764, 0.1358508 ],\n",
              "       [1.63669679, 2.58276225, 1.07258712]])"
            ]
          },
          "metadata": {},
          "execution_count": 21
        }
      ],
      "source": [
        "print(w_ih, '\\n')\n",
        "print(w_ih.T, '\\n')\n",
        "print(X, '\\n')\n",
        "np.dot(w_ih.T,X)"
      ]
    },
    {
      "cell_type": "code",
      "metadata": {
        "colab_type": "code",
        "id": "DO6AYHtGNFTM",
        "colab": {}
      },
      "source": [
        "# hidden layer activations\n",
        "\n",
        "hidden_layer_input = np.dot(w_ih.T, X)\n",
        "hiddenlayer_activations = sigmoid(hidden_layer_input)"
      ],
      "execution_count": 22,
      "outputs": []
    },
    {
      "cell_type": "markdown",
      "metadata": {
        "colab_type": "text",
        "id": "o8zzYX6pNFTT"
      },
      "source": [
        "![alt text](https://drive.google.com/uc?id=1ETMoLD1fwi5u1HHLqtAdVUs-P8HNOU_p)"
      ]
    },
    {
      "cell_type": "code",
      "execution_count": 23,
      "metadata": {},
      "outputs": [
        {
          "output_type": "stream",
          "name": "stdout",
          "text": [
            "[[0.62784361]\n [0.76322028]\n [0.12991341]] \n\n[[0.62784361 0.76322028 0.12991341]] \n\n"
          ]
        }
      ],
      "source": [
        "print(w_ho, '\\n')\n",
        "print(w_ho.T, '\\n')"
      ]
    },
    {
      "cell_type": "code",
      "metadata": {
        "colab_type": "code",
        "id": "CuqKwiToNFTW",
        "colab": {}
      },
      "source": [
        "# calculating the output\n",
        "output_layer_input = np.dot(w_ho.T, hiddenlayer_activations)\n",
        "output = sigmoid(output_layer_input)"
      ],
      "execution_count": 24,
      "outputs": []
    },
    {
      "cell_type": "code",
      "metadata": {
        "colab_type": "code",
        "id": "BjPlMkVMNFTd",
        "outputId": "98153d29-d232-4e9f-da3f-f834a5ad8ad9",
        "colab": {
          "base_uri": "https://localhost:8080/",
          "height": 34
        }
      },
      "source": [
        "# output\n",
        "output"
      ],
      "execution_count": 25,
      "outputs": [
        {
          "output_type": "execute_result",
          "data": {
            "text/plain": [
              "array([[0.7500492 , 0.7548103 , 0.71987378]])"
            ]
          },
          "metadata": {},
          "execution_count": 25
        }
      ]
    },
    {
      "cell_type": "markdown",
      "metadata": {
        "colab_type": "text",
        "id": "mdFKMYyzNFTm"
      },
      "source": [
        "## 5. Implementing backward propagation"
      ]
    },
    {
      "cell_type": "markdown",
      "metadata": {
        "colab_type": "text",
        "id": "c2m3XBgZNFTn"
      },
      "source": [
        "![alt text](https://drive.google.com/uc?id=1uYdg4mQL-B9o7BTOLnfoYUhh_LxTnpcW)"
      ]
    },
    {
      "cell_type": "code",
      "metadata": {
        "colab_type": "code",
        "id": "IvUAAhlcNFTp",
        "colab": {}
      },
      "source": [
        "# calculating error\n",
        "error = np.square(y-output)/2"
      ],
      "execution_count": 26,
      "outputs": []
    },
    {
      "cell_type": "markdown",
      "metadata": {
        "colab_type": "text",
        "id": "3H0vjBdNNFTw"
      },
      "source": [
        "### Rate of change of error w.r.t weight between hidden and output layer"
      ]
    },
    {
      "cell_type": "markdown",
      "metadata": {
        "colab_type": "text",
        "id": "4cncCd1WNFTz"
      },
      "source": [
        "![alt text](https://drive.google.com/uc?id=1_KexjgVJGRptZ6t1eobTter3mfIGo9rs)"
      ]
    },
    {
      "cell_type": "markdown",
      "metadata": {
        "colab_type": "text",
        "id": "DqrhlDeDNFT1"
      },
      "source": [
        "**a. Rate of change of error w.r.t output**\n",
        "\n",
        "**b. Rate of change of output w.r.t Z2**\n",
        "\n",
        "**c. Rate of change of Z2 w.r.t weights between hidden and output layer**"
      ]
    },
    {
      "cell_type": "code",
      "metadata": {
        "colab_type": "code",
        "id": "bKdk5m4FNFT3",
        "colab": {}
      },
      "source": [
        "# rate of change of error w.r.t. output (with respect to)\n",
        "error_wrt_output = -(y-output)"
      ],
      "execution_count": 30,
      "outputs": []
    },
    {
      "cell_type": "code",
      "metadata": {
        "colab_type": "code",
        "id": "Bl1PDwrBNFT9",
        "colab": {}
      },
      "source": [
        "# rate of change of output w.r.t. Z2\n",
        "output_wrt_Z2 = np.multiply(output, (1-output))"
      ],
      "execution_count": 27,
      "outputs": []
    },
    {
      "cell_type": "code",
      "metadata": {
        "colab_type": "code",
        "id": "3vLk1nxLNFUD",
        "colab": {}
      },
      "source": [
        "# rate of change of Z2 w.r.t. weights between hidden and output layer\n",
        "Z2_wrt_who = hiddenlayer_activations"
      ],
      "execution_count": 28,
      "outputs": []
    },
    {
      "cell_type": "code",
      "metadata": {
        "colab_type": "code",
        "id": "UXXifY9QNFUI",
        "outputId": "869382cd-4440-47f1-c249-db25f9073338",
        "colab": {
          "base_uri": "https://localhost:8080/",
          "height": 34
        }
      },
      "source": [
        "# checking the shapes of partial derivatives\n",
        "error_wrt_output.shape, output_wrt_Z2.shape, Z2_wrt_who.shape"
      ],
      "execution_count": 31,
      "outputs": [
        {
          "output_type": "execute_result",
          "data": {
            "text/plain": [
              "((1, 3), (1, 3), (3, 3))"
            ]
          },
          "metadata": {},
          "execution_count": 31
        }
      ]
    },
    {
      "cell_type": "code",
      "metadata": {
        "colab_type": "code",
        "id": "ZvtS7wCRNFUN",
        "outputId": "377481a7-6b8f-4d0c-abe2-82060ce48ab0",
        "colab": {
          "base_uri": "https://localhost:8080/",
          "height": 34
        }
      },
      "source": [
        "# shape of weights of output layer\n",
        "w_ho.shape"
      ],
      "execution_count": 33,
      "outputs": [
        {
          "output_type": "execute_result",
          "data": {
            "text/plain": [
              "(3, 1)"
            ]
          },
          "metadata": {},
          "execution_count": 33
        }
      ]
    },
    {
      "cell_type": "markdown",
      "metadata": {
        "colab_type": "text",
        "id": "gC9zQEH6HON5"
      },
      "source": [
        "![alt text](https://drive.google.com/uc?id=1VesmZOVpfgLFESvOFd7dE-YHNtSMMkvM)"
      ]
    },
    {
      "cell_type": "code",
      "metadata": {
        "colab_type": "code",
        "id": "l3HNVYGONFUr",
        "colab": {}
      },
      "source": [
        "# rate of change of error w.r.t weight between hidden and output layer\n",
        "error_wrt_who = np.dot(Z2_wrt_who, (error_wrt_output * output_wrt_Z2).T)"
      ],
      "execution_count": 34,
      "outputs": []
    },
    {
      "cell_type": "code",
      "metadata": {
        "colab_type": "code",
        "id": "cwyI1EGZNFUw",
        "colab": {
          "base_uri": "https://localhost:8080/",
          "height": 34
        },
        "outputId": "93df5cbf-3413-4acb-cdaa-394a9ce50a37"
      },
      "source": [
        "error_wrt_who.shape"
      ],
      "execution_count": 35,
      "outputs": [
        {
          "output_type": "execute_result",
          "data": {
            "text/plain": [
              "(3, 1)"
            ]
          },
          "metadata": {},
          "execution_count": 35
        }
      ]
    },
    {
      "cell_type": "markdown",
      "metadata": {
        "colab_type": "text",
        "id": "sDFPg2SHNFU2"
      },
      "source": [
        "### Rate of change of error w.r.t weight between input and hidden layer"
      ]
    },
    {
      "cell_type": "markdown",
      "metadata": {
        "colab_type": "text",
        "id": "_757MrjBNFU2"
      },
      "source": [
        "![alt text](https://drive.google.com/uc?id=1X4-iInwlv7ber3fwgtqHuHTuFRci-tMV)"
      ]
    },
    {
      "cell_type": "markdown",
      "metadata": {
        "colab_type": "text",
        "id": "_nPYGXkeNFU4"
      },
      "source": [
        "**a. Rate of change of error w.r.t output**\n",
        "\n",
        "**b. Rate of change of output w.r.t Z2**\n",
        "\n",
        "**c. Rate of change of Z2 w.r.t hidden layer activations**\n",
        "\n",
        "**d. Rate of change of hidden layer activations w.r.t Z1**\n",
        "\n",
        "**e. Rate of change of Z1 w.r.t weights between input and hidden layer**"
      ]
    },
    {
      "cell_type": "code",
      "metadata": {
        "colab_type": "code",
        "id": "Sb7Ezxw9NFU6",
        "colab": {}
      },
      "source": [
        "# rate of change of error w.r.t. output\n",
        "error_wrt_output = -(y-output)"
      ],
      "execution_count": 36,
      "outputs": []
    },
    {
      "cell_type": "code",
      "metadata": {
        "colab_type": "code",
        "id": "3-SGbNaoNFVA",
        "colab": {}
      },
      "source": [
        "# rate of change of output w.r.t. Z2\n",
        "output_wrt_Z2 = np.multiply(output,(1-output))"
      ],
      "execution_count": 37,
      "outputs": []
    },
    {
      "cell_type": "code",
      "metadata": {
        "colab_type": "code",
        "id": "amuoR7h6NFVF",
        "colab": {}
      },
      "source": [
        "# rate of change of Z2 w.r.t. hidden layer activations\n",
        "Z2_wrt_h1 = w_ho"
      ],
      "execution_count": 38,
      "outputs": []
    },
    {
      "cell_type": "code",
      "metadata": {
        "colab_type": "code",
        "id": "YDUZEdWKNFVJ",
        "colab": {}
      },
      "source": [
        "# rate of change of hidden layer activations w.r.t. Z1\n",
        "h1_wrt_Z1 = np.multiply(hiddenlayer_activations,(1-hiddenlayer_activations))"
      ],
      "execution_count": 39,
      "outputs": []
    },
    {
      "cell_type": "code",
      "metadata": {
        "colab_type": "code",
        "id": "Ft4U6Td6NFVO",
        "colab": {}
      },
      "source": [
        "# rate of change of Z1 w.r.t. weights between input and hidden layer\n",
        "Z1_wrt_wih = X"
      ],
      "execution_count": 40,
      "outputs": []
    },
    {
      "cell_type": "code",
      "metadata": {
        "colab_type": "code",
        "id": "A-hsfsi4NFVR",
        "outputId": "2d5a0542-4563-4989-90be-382eba30a03a",
        "colab": {
          "base_uri": "https://localhost:8080/",
          "height": 34
        }
      },
      "source": [
        "# checking the shapes of partial derivatives\n",
        "error_wrt_output.shape, output_wrt_Z2.shape, Z2_wrt_h1.shape, h1_wrt_Z1.shape, Z1_wrt_wih.shape"
      ],
      "execution_count": 41,
      "outputs": [
        {
          "output_type": "execute_result",
          "data": {
            "text/plain": [
              "((1, 3), (1, 3), (3, 1), (3, 3), (4, 3))"
            ]
          },
          "metadata": {},
          "execution_count": 41
        }
      ]
    },
    {
      "cell_type": "code",
      "metadata": {
        "colab_type": "code",
        "id": "1uka_yPrNFVV",
        "colab": {
          "base_uri": "https://localhost:8080/",
          "height": 34
        },
        "outputId": "238e6afd-f960-4eb3-c02c-b95a31932b5a"
      },
      "source": [
        "# shape of weights of hidden layer\n",
        "w_ih.shape"
      ],
      "execution_count": 42,
      "outputs": [
        {
          "output_type": "execute_result",
          "data": {
            "text/plain": [
              "(4, 3)"
            ]
          },
          "metadata": {},
          "execution_count": 42
        }
      ]
    },
    {
      "cell_type": "markdown",
      "metadata": {
        "colab_type": "text",
        "id": "gCeSm7vrHbHj"
      },
      "source": [
        "![alt text](https://drive.google.com/uc?id=1RkG5x1NEFWlF3tj0OlswOWvBcV5XNV1C)"
      ]
    },
    {
      "cell_type": "code",
      "metadata": {
        "colab_type": "code",
        "id": "XTPNf3E5NFVs",
        "colab": {}
      },
      "source": [
        "# rate of change of error w.r.t weights between input and hidden layer\n",
        "error_wrt_wih = np.dot(Z1_wrt_wih,(h1_wrt_Z1*np.dot(Z2_wrt_h1,(output_wrt_Z2*error_wrt_output))).T)"
      ],
      "execution_count": 43,
      "outputs": []
    },
    {
      "cell_type": "code",
      "metadata": {
        "colab_type": "code",
        "id": "_WN0I-mpNFVw",
        "colab": {
          "base_uri": "https://localhost:8080/",
          "height": 34
        },
        "outputId": "a7ab9b3d-3a2a-4480-f15e-11d1f5ae8e13"
      },
      "source": [
        "error_wrt_wih.shape"
      ],
      "execution_count": 44,
      "outputs": [
        {
          "output_type": "execute_result",
          "data": {
            "text/plain": [
              "(4, 3)"
            ]
          },
          "metadata": {},
          "execution_count": 44
        }
      ]
    },
    {
      "cell_type": "markdown",
      "metadata": {
        "colab_type": "text",
        "id": "W2bu4H5-NFVz"
      },
      "source": [
        "### Update the parameters"
      ]
    },
    {
      "cell_type": "markdown",
      "metadata": {
        "colab_type": "text",
        "id": "-nmJnY_PNFV1"
      },
      "source": [
        "![alt text](https://drive.google.com/uc?id=1A5jaB3WjZx9yrJkk9imVEvP3PZodjapE)"
      ]
    },
    {
      "cell_type": "code",
      "metadata": {
        "colab_type": "code",
        "id": "_r59xEpINFV2",
        "colab": {}
      },
      "source": [
        "# defining the learning rate\n",
        "lr = 0.01"
      ],
      "execution_count": 45,
      "outputs": []
    },
    {
      "cell_type": "code",
      "metadata": {
        "colab_type": "code",
        "id": "aiBFNXd3NFV7",
        "colab": {
          "base_uri": "https://localhost:8080/",
          "height": 69
        },
        "outputId": "a7362697-b6e0-41c1-8a5a-bb525ed22c3e"
      },
      "source": [
        "# initial w_ho and w_ih\n",
        "w_ho"
      ],
      "execution_count": 46,
      "outputs": [
        {
          "output_type": "execute_result",
          "data": {
            "text/plain": [
              "array([[0.62784361],\n",
              "       [0.76322028],\n",
              "       [0.12991341]])"
            ]
          },
          "metadata": {},
          "execution_count": 46
        }
      ]
    },
    {
      "cell_type": "code",
      "metadata": {
        "colab_type": "code",
        "id": "CuosFKUENFWB",
        "scrolled": true,
        "colab": {
          "base_uri": "https://localhost:8080/",
          "height": 86
        },
        "outputId": "fa8986c3-9960-4985-b6ec-e7d9a51f16e1"
      },
      "source": [
        "w_ih"
      ],
      "execution_count": 47,
      "outputs": [
        {
          "output_type": "execute_result",
          "data": {
            "text/plain": [
              "array([[0.54722587, 0.30552026, 0.7466325 ],\n",
              "       [0.80280789, 0.08553086, 0.12652166],\n",
              "       [0.50624502, 0.48234745, 0.89006429],\n",
              "       [0.04492012, 0.05031994, 0.94606546]])"
            ]
          },
          "metadata": {},
          "execution_count": 47
        }
      ]
    },
    {
      "cell_type": "code",
      "metadata": {
        "colab_type": "code",
        "id": "D_Va2xywNFWF",
        "colab": {}
      },
      "source": [
        "# updating the weights of output layer\n",
        "w_ho = w_ho - lr * error_wrt_who"
      ],
      "execution_count": 48,
      "outputs": []
    },
    {
      "cell_type": "code",
      "metadata": {
        "colab_type": "code",
        "id": "ruFlc96BNFWL",
        "colab": {}
      },
      "source": [
        "# updating the weights of hidden layer\n",
        "w_ih = w_ih - lr * error_wrt_wih"
      ],
      "execution_count": 49,
      "outputs": []
    },
    {
      "cell_type": "code",
      "metadata": {
        "colab_type": "code",
        "id": "NTf4nS1xNFWP",
        "colab": {
          "base_uri": "https://localhost:8080/",
          "height": 69
        },
        "outputId": "feb1e8da-cdff-4374-cf88-a66e1449ea05"
      },
      "source": [
        "# updated w_ho and w_ih\n",
        "w_ho"
      ],
      "execution_count": 50,
      "outputs": [
        {
          "output_type": "execute_result",
          "data": {
            "text/plain": [
              "array([[0.62751506],\n",
              "       [0.7630841 ],\n",
              "       [0.12964594]])"
            ]
          },
          "metadata": {},
          "execution_count": 50
        }
      ]
    },
    {
      "cell_type": "code",
      "metadata": {
        "colab_type": "code",
        "id": "7VYNPPNlNFWU",
        "colab": {
          "base_uri": "https://localhost:8080/",
          "height": 86
        },
        "outputId": "ae17551f-c966-4124-9ad1-95f3a9e59fad"
      },
      "source": [
        "w_ih"
      ],
      "execution_count": 51,
      "outputs": [
        {
          "output_type": "execute_result",
          "data": {
            "text/plain": [
              "array([[0.5473357 , 0.30567011, 0.74664465],\n",
              "       [0.80261652, 0.08525515, 0.12648584],\n",
              "       [0.50635484, 0.48249729, 0.89007645],\n",
              "       [0.04478218, 0.05011722, 0.9460335 ]])"
            ]
          },
          "metadata": {},
          "execution_count": 51
        }
      ]
    },
    {
      "cell_type": "markdown",
      "metadata": {
        "colab_type": "text",
        "id": "SxLy6DZlNFWY"
      },
      "source": [
        "## 6. Training the model for n epochs"
      ]
    },
    {
      "cell_type": "code",
      "metadata": {
        "colab_type": "code",
        "id": "8HKS9vIyNFWZ",
        "colab": {}
      },
      "source": [
        "# defining the model architecture\n",
        "inputlayer_neurons = X.shape[0] # number of features in data set\n",
        "hiddenlayer_neurons = 3 # number of hidden layers neurons\n",
        "output_neurons = 1 # number of neurons at output layer\n",
        "\n",
        "# initializing weight\n",
        "w_ih = np.random.uniform(size = (inputlayer_neurons, hiddenlayer_neurons))\n",
        "w_ho = np.random.uniform(size = (hiddenlayer_neurons, output_neurons))\n",
        "\n",
        "# defining the parameters\n",
        "lr = 0.01\n",
        "epochs = 10000"
      ],
      "execution_count": 52,
      "outputs": []
    },
    {
      "cell_type": "code",
      "metadata": {
        "colab_type": "code",
        "id": "ojybM51LNFWc",
        "colab": {
          "base_uri": "https://localhost:8080/",
          "height": 86
        },
        "outputId": "b368f6a2-87e3-4777-fea0-1efc795e8b83"
      },
      "source": [
        "# initial w_ih and w_ho\n",
        "w_ih"
      ],
      "execution_count": 53,
      "outputs": [
        {
          "output_type": "execute_result",
          "data": {
            "text/plain": [
              "array([[0.87692519, 0.93387377, 0.89110658],\n",
              "       [0.37709867, 0.30319279, 0.92888331],\n",
              "       [0.55281563, 0.07691684, 0.33902872],\n",
              "       [0.39423275, 0.77906524, 0.96034196]])"
            ]
          },
          "metadata": {},
          "execution_count": 53
        }
      ]
    },
    {
      "cell_type": "code",
      "metadata": {
        "colab_type": "code",
        "id": "1RS_d3kdNFWg",
        "colab": {
          "base_uri": "https://localhost:8080/",
          "height": 69
        },
        "outputId": "00d4aa30-5bb8-4b2f-8c97-21e2da705d10"
      },
      "source": [
        "w_ho"
      ],
      "execution_count": 54,
      "outputs": [
        {
          "output_type": "execute_result",
          "data": {
            "text/plain": [
              "array([[0.10849675],\n",
              "       [0.35860144],\n",
              "       [0.97911336]])"
            ]
          },
          "metadata": {},
          "execution_count": 54
        }
      ]
    },
    {
      "cell_type": "code",
      "metadata": {
        "colab_type": "code",
        "id": "_yVAcyW_NFWk",
        "colab": {}
      },
      "source": [
        "error_epoch = []\n",
        "for i in range(epochs):\n",
        "    # Forward Propogation\n",
        "    \n",
        "    # hidden layer activations\n",
        "    hidden_layer_input = np.dot(w_ih.T, X)\n",
        "    hiddenlayer_activations = sigmoid(hidden_layer_input)    \n",
        "    # calculating the output\n",
        "    output_layer_input = np.dot(w_ho.T, hiddenlayer_activations)\n",
        "    output = sigmoid(output_layer_input)\n",
        "    \n",
        "    \n",
        "    # Backward Propagation\n",
        "    \n",
        "    # calculating error\n",
        "    error = np.square(y-output)/2\n",
        "    error_wrt_output = -(y-output)\n",
        "    output_wrt_Z2 = np.multiply(output, (1-output))\n",
        "    Z2_wrt_who = hiddenlayer_activations\n",
        "    # rate of change of error w.r.t weight between hidden and output layer\n",
        "    error_wrt_who = np.dot(Z2_wrt_who, (error_wrt_output * output_wrt_Z2).T)\n",
        "    Z2_wrt_h1 = w_ho\n",
        "    h1_wrt_Z1 = np.multiply(hiddenlayer_activations, (1-hiddenlayer_activations))\n",
        "    Z1_wrt_wih = X\n",
        "    # rate of change of error w.r.t weights between input and hidden layer\n",
        "    error_wrt_wih = np.dot(Z1_wrt_wih, (h1_wrt_Z1 * np.dot(Z2_wrt_h1, (error_wrt_output * output_wrt_Z2))).T)\n",
        "\n",
        "    # updating the weights between hidden and output layer\n",
        "    w_ho = w_ho - lr * error_wrt_who\n",
        "    # updating the weights between input and hidden layer\n",
        "    w_ih = w_ih - lr * error_wrt_wih\n",
        "    \n",
        "    # appending the error of each epoch\n",
        "    error_epoch.append(np.average(error))"
      ],
      "execution_count": 55,
      "outputs": []
    },
    {
      "cell_type": "code",
      "metadata": {
        "colab_type": "code",
        "id": "Ra5mTgwUNFWo",
        "outputId": "20de9dc0-62b7-4f07-fd3d-cf290542ac8f",
        "colab": {
          "base_uri": "https://localhost:8080/",
          "height": 86
        }
      },
      "source": [
        "# updated w_ih and w_ho\n",
        "w_ih"
      ],
      "execution_count": 56,
      "outputs": [
        {
          "output_type": "execute_result",
          "data": {
            "text/plain": [
              "array([[ 1.39811101,  0.96533859,  1.5804776 ],\n",
              "       [-1.09419437,  0.4317762 , -1.03200844],\n",
              "       [ 1.07400145,  0.10838166,  1.02839975],\n",
              "       [-0.78672647,  0.90675408, -0.69329647]])"
            ]
          },
          "metadata": {},
          "execution_count": 56
        }
      ]
    },
    {
      "cell_type": "code",
      "metadata": {
        "colab_type": "code",
        "id": "WeN2dcc0NFW8",
        "scrolled": true,
        "outputId": "59ab0369-88ea-4f52-87b4-99da23925bb9",
        "colab": {
          "base_uri": "https://localhost:8080/",
          "height": 283
        }
      },
      "source": [
        "# visualizing the error after each epoch\n",
        "plt.plot(np.arange(1, epochs + 1), np.array(error_epoch))"
      ],
      "execution_count": 63,
      "outputs": [
        {
          "output_type": "execute_result",
          "data": {
            "text/plain": [
              "[<matplotlib.lines.Line2D at 0x1a3dd5623d0>]"
            ]
          },
          "metadata": {},
          "execution_count": 63
        },
        {
          "output_type": "display_data",
          "data": {
            "text/plain": "<Figure size 432x288 with 1 Axes>",
            "image/svg+xml": "<?xml version=\"1.0\" encoding=\"utf-8\" standalone=\"no\"?>\r\n<!DOCTYPE svg PUBLIC \"-//W3C//DTD SVG 1.1//EN\"\r\n  \"http://www.w3.org/Graphics/SVG/1.1/DTD/svg11.dtd\">\r\n<!-- Created with matplotlib (https://matplotlib.org/) -->\r\n<svg height=\"251.193087pt\" version=\"1.1\" viewBox=\"0 0 379.153693 251.193087\" width=\"379.153693pt\" xmlns=\"http://www.w3.org/2000/svg\" xmlns:xlink=\"http://www.w3.org/1999/xlink\">\r\n <metadata>\r\n  <rdf:RDF xmlns:cc=\"http://creativecommons.org/ns#\" xmlns:dc=\"http://purl.org/dc/elements/1.1/\" xmlns:rdf=\"http://www.w3.org/1999/02/22-rdf-syntax-ns#\">\r\n   <cc:Work>\r\n    <dc:type rdf:resource=\"http://purl.org/dc/dcmitype/StillImage\"/>\r\n    <dc:date>2021-03-01T16:51:37.974049</dc:date>\r\n    <dc:format>image/svg+xml</dc:format>\r\n    <dc:creator>\r\n     <cc:Agent>\r\n      <dc:title>Matplotlib v3.3.4, https://matplotlib.org/</dc:title>\r\n     </cc:Agent>\r\n    </dc:creator>\r\n   </cc:Work>\r\n  </rdf:RDF>\r\n </metadata>\r\n <defs>\r\n  <style type=\"text/css\">*{stroke-linecap:butt;stroke-linejoin:round;}</style>\r\n </defs>\r\n <g id=\"figure_1\">\r\n  <g id=\"patch_1\">\r\n   <path d=\"M 0 251.193087 \r\nL 379.153693 251.193087 \r\nL 379.153693 0 \r\nL 0 0 \r\nz\r\n\" style=\"fill:none;\"/>\r\n  </g>\r\n  <g id=\"axes_1\">\r\n   <g id=\"patch_2\">\r\n    <path d=\"M 36.465625 227.314962 \r\nL 371.265625 227.314962 \r\nL 371.265625 9.874962 \r\nL 36.465625 9.874962 \r\nz\r\n\" style=\"fill:#ffffff;\"/>\r\n   </g>\r\n   <g id=\"matplotlib.axis_1\">\r\n    <g id=\"xtick_1\">\r\n     <g id=\"line2d_1\">\r\n      <defs>\r\n       <path d=\"M 0 0 \r\nL 0 3.5 \r\n\" id=\"mbcbac26b5c\" style=\"stroke:#000000;stroke-width:0.8;\"/>\r\n      </defs>\r\n      <g>\r\n       <use style=\"stroke:#000000;stroke-width:0.8;\" x=\"51.653367\" xlink:href=\"#mbcbac26b5c\" y=\"227.314962\"/>\r\n      </g>\r\n     </g>\r\n     <g id=\"text_1\">\r\n      <!-- 0 -->\r\n      <g transform=\"translate(48.472117 241.9134)scale(0.1 -0.1)\">\r\n       <defs>\r\n        <path d=\"M 31.78125 66.40625 \r\nQ 24.171875 66.40625 20.328125 58.90625 \r\nQ 16.5 51.421875 16.5 36.375 \r\nQ 16.5 21.390625 20.328125 13.890625 \r\nQ 24.171875 6.390625 31.78125 6.390625 \r\nQ 39.453125 6.390625 43.28125 13.890625 \r\nQ 47.125 21.390625 47.125 36.375 \r\nQ 47.125 51.421875 43.28125 58.90625 \r\nQ 39.453125 66.40625 31.78125 66.40625 \r\nz\r\nM 31.78125 74.21875 \r\nQ 44.046875 74.21875 50.515625 64.515625 \r\nQ 56.984375 54.828125 56.984375 36.375 \r\nQ 56.984375 17.96875 50.515625 8.265625 \r\nQ 44.046875 -1.421875 31.78125 -1.421875 \r\nQ 19.53125 -1.421875 13.0625 8.265625 \r\nQ 6.59375 17.96875 6.59375 36.375 \r\nQ 6.59375 54.828125 13.0625 64.515625 \r\nQ 19.53125 74.21875 31.78125 74.21875 \r\nz\r\n\" id=\"DejaVuSans-48\"/>\r\n       </defs>\r\n       <use xlink:href=\"#DejaVuSans-48\"/>\r\n      </g>\r\n     </g>\r\n    </g>\r\n    <g id=\"xtick_2\">\r\n     <g id=\"line2d_2\">\r\n      <g>\r\n       <use style=\"stroke:#000000;stroke-width:0.8;\" x=\"112.532183\" xlink:href=\"#mbcbac26b5c\" y=\"227.314962\"/>\r\n      </g>\r\n     </g>\r\n     <g id=\"text_2\">\r\n      <!-- 2000 -->\r\n      <g transform=\"translate(99.807183 241.9134)scale(0.1 -0.1)\">\r\n       <defs>\r\n        <path d=\"M 19.1875 8.296875 \r\nL 53.609375 8.296875 \r\nL 53.609375 0 \r\nL 7.328125 0 \r\nL 7.328125 8.296875 \r\nQ 12.9375 14.109375 22.625 23.890625 \r\nQ 32.328125 33.6875 34.8125 36.53125 \r\nQ 39.546875 41.84375 41.421875 45.53125 \r\nQ 43.3125 49.21875 43.3125 52.78125 \r\nQ 43.3125 58.59375 39.234375 62.25 \r\nQ 35.15625 65.921875 28.609375 65.921875 \r\nQ 23.96875 65.921875 18.8125 64.3125 \r\nQ 13.671875 62.703125 7.8125 59.421875 \r\nL 7.8125 69.390625 \r\nQ 13.765625 71.78125 18.9375 73 \r\nQ 24.125 74.21875 28.421875 74.21875 \r\nQ 39.75 74.21875 46.484375 68.546875 \r\nQ 53.21875 62.890625 53.21875 53.421875 \r\nQ 53.21875 48.921875 51.53125 44.890625 \r\nQ 49.859375 40.875 45.40625 35.40625 \r\nQ 44.1875 33.984375 37.640625 27.21875 \r\nQ 31.109375 20.453125 19.1875 8.296875 \r\nz\r\n\" id=\"DejaVuSans-50\"/>\r\n       </defs>\r\n       <use xlink:href=\"#DejaVuSans-50\"/>\r\n       <use x=\"63.623047\" xlink:href=\"#DejaVuSans-48\"/>\r\n       <use x=\"127.246094\" xlink:href=\"#DejaVuSans-48\"/>\r\n       <use x=\"190.869141\" xlink:href=\"#DejaVuSans-48\"/>\r\n      </g>\r\n     </g>\r\n    </g>\r\n    <g id=\"xtick_3\">\r\n     <g id=\"line2d_3\">\r\n      <g>\r\n       <use style=\"stroke:#000000;stroke-width:0.8;\" x=\"173.410998\" xlink:href=\"#mbcbac26b5c\" y=\"227.314962\"/>\r\n      </g>\r\n     </g>\r\n     <g id=\"text_3\">\r\n      <!-- 4000 -->\r\n      <g transform=\"translate(160.685998 241.9134)scale(0.1 -0.1)\">\r\n       <defs>\r\n        <path d=\"M 37.796875 64.3125 \r\nL 12.890625 25.390625 \r\nL 37.796875 25.390625 \r\nz\r\nM 35.203125 72.90625 \r\nL 47.609375 72.90625 \r\nL 47.609375 25.390625 \r\nL 58.015625 25.390625 \r\nL 58.015625 17.1875 \r\nL 47.609375 17.1875 \r\nL 47.609375 0 \r\nL 37.796875 0 \r\nL 37.796875 17.1875 \r\nL 4.890625 17.1875 \r\nL 4.890625 26.703125 \r\nz\r\n\" id=\"DejaVuSans-52\"/>\r\n       </defs>\r\n       <use xlink:href=\"#DejaVuSans-52\"/>\r\n       <use x=\"63.623047\" xlink:href=\"#DejaVuSans-48\"/>\r\n       <use x=\"127.246094\" xlink:href=\"#DejaVuSans-48\"/>\r\n       <use x=\"190.869141\" xlink:href=\"#DejaVuSans-48\"/>\r\n      </g>\r\n     </g>\r\n    </g>\r\n    <g id=\"xtick_4\">\r\n     <g id=\"line2d_4\">\r\n      <g>\r\n       <use style=\"stroke:#000000;stroke-width:0.8;\" x=\"234.289813\" xlink:href=\"#mbcbac26b5c\" y=\"227.314962\"/>\r\n      </g>\r\n     </g>\r\n     <g id=\"text_4\">\r\n      <!-- 6000 -->\r\n      <g transform=\"translate(221.564813 241.9134)scale(0.1 -0.1)\">\r\n       <defs>\r\n        <path d=\"M 33.015625 40.375 \r\nQ 26.375 40.375 22.484375 35.828125 \r\nQ 18.609375 31.296875 18.609375 23.390625 \r\nQ 18.609375 15.53125 22.484375 10.953125 \r\nQ 26.375 6.390625 33.015625 6.390625 \r\nQ 39.65625 6.390625 43.53125 10.953125 \r\nQ 47.40625 15.53125 47.40625 23.390625 \r\nQ 47.40625 31.296875 43.53125 35.828125 \r\nQ 39.65625 40.375 33.015625 40.375 \r\nz\r\nM 52.59375 71.296875 \r\nL 52.59375 62.3125 \r\nQ 48.875 64.0625 45.09375 64.984375 \r\nQ 41.3125 65.921875 37.59375 65.921875 \r\nQ 27.828125 65.921875 22.671875 59.328125 \r\nQ 17.53125 52.734375 16.796875 39.40625 \r\nQ 19.671875 43.65625 24.015625 45.921875 \r\nQ 28.375 48.1875 33.59375 48.1875 \r\nQ 44.578125 48.1875 50.953125 41.515625 \r\nQ 57.328125 34.859375 57.328125 23.390625 \r\nQ 57.328125 12.15625 50.6875 5.359375 \r\nQ 44.046875 -1.421875 33.015625 -1.421875 \r\nQ 20.359375 -1.421875 13.671875 8.265625 \r\nQ 6.984375 17.96875 6.984375 36.375 \r\nQ 6.984375 53.65625 15.1875 63.9375 \r\nQ 23.390625 74.21875 37.203125 74.21875 \r\nQ 40.921875 74.21875 44.703125 73.484375 \r\nQ 48.484375 72.75 52.59375 71.296875 \r\nz\r\n\" id=\"DejaVuSans-54\"/>\r\n       </defs>\r\n       <use xlink:href=\"#DejaVuSans-54\"/>\r\n       <use x=\"63.623047\" xlink:href=\"#DejaVuSans-48\"/>\r\n       <use x=\"127.246094\" xlink:href=\"#DejaVuSans-48\"/>\r\n       <use x=\"190.869141\" xlink:href=\"#DejaVuSans-48\"/>\r\n      </g>\r\n     </g>\r\n    </g>\r\n    <g id=\"xtick_5\">\r\n     <g id=\"line2d_5\">\r\n      <g>\r\n       <use style=\"stroke:#000000;stroke-width:0.8;\" x=\"295.168628\" xlink:href=\"#mbcbac26b5c\" y=\"227.314962\"/>\r\n      </g>\r\n     </g>\r\n     <g id=\"text_5\">\r\n      <!-- 8000 -->\r\n      <g transform=\"translate(282.443628 241.9134)scale(0.1 -0.1)\">\r\n       <defs>\r\n        <path d=\"M 31.78125 34.625 \r\nQ 24.75 34.625 20.71875 30.859375 \r\nQ 16.703125 27.09375 16.703125 20.515625 \r\nQ 16.703125 13.921875 20.71875 10.15625 \r\nQ 24.75 6.390625 31.78125 6.390625 \r\nQ 38.8125 6.390625 42.859375 10.171875 \r\nQ 46.921875 13.96875 46.921875 20.515625 \r\nQ 46.921875 27.09375 42.890625 30.859375 \r\nQ 38.875 34.625 31.78125 34.625 \r\nz\r\nM 21.921875 38.8125 \r\nQ 15.578125 40.375 12.03125 44.71875 \r\nQ 8.5 49.078125 8.5 55.328125 \r\nQ 8.5 64.0625 14.71875 69.140625 \r\nQ 20.953125 74.21875 31.78125 74.21875 \r\nQ 42.671875 74.21875 48.875 69.140625 \r\nQ 55.078125 64.0625 55.078125 55.328125 \r\nQ 55.078125 49.078125 51.53125 44.71875 \r\nQ 48 40.375 41.703125 38.8125 \r\nQ 48.828125 37.15625 52.796875 32.3125 \r\nQ 56.78125 27.484375 56.78125 20.515625 \r\nQ 56.78125 9.90625 50.3125 4.234375 \r\nQ 43.84375 -1.421875 31.78125 -1.421875 \r\nQ 19.734375 -1.421875 13.25 4.234375 \r\nQ 6.78125 9.90625 6.78125 20.515625 \r\nQ 6.78125 27.484375 10.78125 32.3125 \r\nQ 14.796875 37.15625 21.921875 38.8125 \r\nz\r\nM 18.3125 54.390625 \r\nQ 18.3125 48.734375 21.84375 45.5625 \r\nQ 25.390625 42.390625 31.78125 42.390625 \r\nQ 38.140625 42.390625 41.71875 45.5625 \r\nQ 45.3125 48.734375 45.3125 54.390625 \r\nQ 45.3125 60.0625 41.71875 63.234375 \r\nQ 38.140625 66.40625 31.78125 66.40625 \r\nQ 25.390625 66.40625 21.84375 63.234375 \r\nQ 18.3125 60.0625 18.3125 54.390625 \r\nz\r\n\" id=\"DejaVuSans-56\"/>\r\n       </defs>\r\n       <use xlink:href=\"#DejaVuSans-56\"/>\r\n       <use x=\"63.623047\" xlink:href=\"#DejaVuSans-48\"/>\r\n       <use x=\"127.246094\" xlink:href=\"#DejaVuSans-48\"/>\r\n       <use x=\"190.869141\" xlink:href=\"#DejaVuSans-48\"/>\r\n      </g>\r\n     </g>\r\n    </g>\r\n    <g id=\"xtick_6\">\r\n     <g id=\"line2d_6\">\r\n      <g>\r\n       <use style=\"stroke:#000000;stroke-width:0.8;\" x=\"356.047443\" xlink:href=\"#mbcbac26b5c\" y=\"227.314962\"/>\r\n      </g>\r\n     </g>\r\n     <g id=\"text_6\">\r\n      <!-- 10000 -->\r\n      <g transform=\"translate(340.141193 241.9134)scale(0.1 -0.1)\">\r\n       <defs>\r\n        <path d=\"M 12.40625 8.296875 \r\nL 28.515625 8.296875 \r\nL 28.515625 63.921875 \r\nL 10.984375 60.40625 \r\nL 10.984375 69.390625 \r\nL 28.421875 72.90625 \r\nL 38.28125 72.90625 \r\nL 38.28125 8.296875 \r\nL 54.390625 8.296875 \r\nL 54.390625 0 \r\nL 12.40625 0 \r\nz\r\n\" id=\"DejaVuSans-49\"/>\r\n       </defs>\r\n       <use xlink:href=\"#DejaVuSans-49\"/>\r\n       <use x=\"63.623047\" xlink:href=\"#DejaVuSans-48\"/>\r\n       <use x=\"127.246094\" xlink:href=\"#DejaVuSans-48\"/>\r\n       <use x=\"190.869141\" xlink:href=\"#DejaVuSans-48\"/>\r\n       <use x=\"254.492188\" xlink:href=\"#DejaVuSans-48\"/>\r\n      </g>\r\n     </g>\r\n    </g>\r\n   </g>\r\n   <g id=\"matplotlib.axis_2\">\r\n    <g id=\"ytick_1\">\r\n     <g id=\"line2d_7\">\r\n      <defs>\r\n       <path d=\"M 0 0 \r\nL -3.5 0 \r\n\" id=\"me6fc6b1b3c\" style=\"stroke:#000000;stroke-width:0.8;\"/>\r\n      </defs>\r\n      <g>\r\n       <use style=\"stroke:#000000;stroke-width:0.8;\" x=\"36.465625\" xlink:href=\"#me6fc6b1b3c\" y=\"197.345369\"/>\r\n      </g>\r\n     </g>\r\n     <g id=\"text_7\">\r\n      <!-- 0.04 -->\r\n      <g transform=\"translate(7.2 201.144587)scale(0.1 -0.1)\">\r\n       <defs>\r\n        <path d=\"M 10.6875 12.40625 \r\nL 21 12.40625 \r\nL 21 0 \r\nL 10.6875 0 \r\nz\r\n\" id=\"DejaVuSans-46\"/>\r\n       </defs>\r\n       <use xlink:href=\"#DejaVuSans-48\"/>\r\n       <use x=\"63.623047\" xlink:href=\"#DejaVuSans-46\"/>\r\n       <use x=\"95.410156\" xlink:href=\"#DejaVuSans-48\"/>\r\n       <use x=\"159.033203\" xlink:href=\"#DejaVuSans-52\"/>\r\n      </g>\r\n     </g>\r\n    </g>\r\n    <g id=\"ytick_2\">\r\n     <g id=\"line2d_8\">\r\n      <g>\r\n       <use style=\"stroke:#000000;stroke-width:0.8;\" x=\"36.465625\" xlink:href=\"#me6fc6b1b3c\" y=\"150.758831\"/>\r\n      </g>\r\n     </g>\r\n     <g id=\"text_8\">\r\n      <!-- 0.06 -->\r\n      <g transform=\"translate(7.2 154.55805)scale(0.1 -0.1)\">\r\n       <use xlink:href=\"#DejaVuSans-48\"/>\r\n       <use x=\"63.623047\" xlink:href=\"#DejaVuSans-46\"/>\r\n       <use x=\"95.410156\" xlink:href=\"#DejaVuSans-48\"/>\r\n       <use x=\"159.033203\" xlink:href=\"#DejaVuSans-54\"/>\r\n      </g>\r\n     </g>\r\n    </g>\r\n    <g id=\"ytick_3\">\r\n     <g id=\"line2d_9\">\r\n      <g>\r\n       <use style=\"stroke:#000000;stroke-width:0.8;\" x=\"36.465625\" xlink:href=\"#me6fc6b1b3c\" y=\"104.172294\"/>\r\n      </g>\r\n     </g>\r\n     <g id=\"text_9\">\r\n      <!-- 0.08 -->\r\n      <g transform=\"translate(7.2 107.971512)scale(0.1 -0.1)\">\r\n       <use xlink:href=\"#DejaVuSans-48\"/>\r\n       <use x=\"63.623047\" xlink:href=\"#DejaVuSans-46\"/>\r\n       <use x=\"95.410156\" xlink:href=\"#DejaVuSans-48\"/>\r\n       <use x=\"159.033203\" xlink:href=\"#DejaVuSans-56\"/>\r\n      </g>\r\n     </g>\r\n    </g>\r\n    <g id=\"ytick_4\">\r\n     <g id=\"line2d_10\">\r\n      <g>\r\n       <use style=\"stroke:#000000;stroke-width:0.8;\" x=\"36.465625\" xlink:href=\"#me6fc6b1b3c\" y=\"57.585756\"/>\r\n      </g>\r\n     </g>\r\n     <g id=\"text_10\">\r\n      <!-- 0.10 -->\r\n      <g transform=\"translate(7.2 61.384975)scale(0.1 -0.1)\">\r\n       <use xlink:href=\"#DejaVuSans-48\"/>\r\n       <use x=\"63.623047\" xlink:href=\"#DejaVuSans-46\"/>\r\n       <use x=\"95.410156\" xlink:href=\"#DejaVuSans-49\"/>\r\n       <use x=\"159.033203\" xlink:href=\"#DejaVuSans-48\"/>\r\n      </g>\r\n     </g>\r\n    </g>\r\n    <g id=\"ytick_5\">\r\n     <g id=\"line2d_11\">\r\n      <g>\r\n       <use style=\"stroke:#000000;stroke-width:0.8;\" x=\"36.465625\" xlink:href=\"#me6fc6b1b3c\" y=\"10.999219\"/>\r\n      </g>\r\n     </g>\r\n     <g id=\"text_11\">\r\n      <!-- 0.12 -->\r\n      <g transform=\"translate(7.2 14.798437)scale(0.1 -0.1)\">\r\n       <use xlink:href=\"#DejaVuSans-48\"/>\r\n       <use x=\"63.623047\" xlink:href=\"#DejaVuSans-46\"/>\r\n       <use x=\"95.410156\" xlink:href=\"#DejaVuSans-49\"/>\r\n       <use x=\"159.033203\" xlink:href=\"#DejaVuSans-50\"/>\r\n      </g>\r\n     </g>\r\n    </g>\r\n   </g>\r\n   <g id=\"line2d_12\">\r\n    <path clip-path=\"url(#padf0ad1f2d)\" d=\"M 51.683807 19.758599 \r\nL 53.631929 22.199328 \r\nL 55.580051 24.284808 \r\nL 57.558612 26.077269 \r\nL 59.628492 27.650029 \r\nL 61.82013 29.0362 \r\nL 64.255282 30.309722 \r\nL 67.025268 31.501993 \r\nL 70.312724 32.668515 \r\nL 74.452484 33.891476 \r\nL 80.053335 35.298917 \r\nL 88.302414 37.123068 \r\nL 102.000148 39.89791 \r\nL 138.131724 47.141004 \r\nL 151.159791 50.027826 \r\nL 162.209296 52.699302 \r\nL 172.010785 55.294186 \r\nL 180.868653 57.866156 \r\nL 188.965535 60.445247 \r\nL 196.453629 63.0604 \r\nL 203.454693 65.738893 \r\nL 210.029605 68.491029 \r\nL 216.239244 71.329903 \r\nL 222.144489 74.272648 \r\nL 227.806219 77.341715 \r\nL 233.254873 80.547519 \r\nL 238.55133 83.922438 \r\nL 243.69559 87.464019 \r\nL 248.748531 91.213226 \r\nL 253.740594 95.196013 \r\nL 258.671778 99.415327 \r\nL 263.602962 103.928394 \r\nL 268.564586 108.772999 \r\nL 273.587088 113.990409 \r\nL 278.731348 119.658769 \r\nL 284.058244 125.864163 \r\nL 289.659095 132.734736 \r\nL 295.746977 140.561411 \r\nL 302.77848 149.976437 \r\nL 312.793045 163.800653 \r\nL 325.760233 181.640657 \r\nL 332.548221 190.587509 \r\nL 338.331708 197.85054 \r\nL 343.628165 204.150389 \r\nL 348.620228 209.747946 \r\nL 353.460094 214.843427 \r\nL 356.047443 217.431326 \r\nL 356.047443 217.431326 \r\n\" style=\"fill:none;stroke:#1f77b4;stroke-linecap:square;stroke-width:1.5;\"/>\r\n   </g>\r\n   <g id=\"patch_3\">\r\n    <path d=\"M 36.465625 227.314962 \r\nL 36.465625 9.874962 \r\n\" style=\"fill:none;stroke:#000000;stroke-linecap:square;stroke-linejoin:miter;stroke-width:0.8;\"/>\r\n   </g>\r\n   <g id=\"patch_4\">\r\n    <path d=\"M 371.265625 227.314962 \r\nL 371.265625 9.874962 \r\n\" style=\"fill:none;stroke:#000000;stroke-linecap:square;stroke-linejoin:miter;stroke-width:0.8;\"/>\r\n   </g>\r\n   <g id=\"patch_5\">\r\n    <path d=\"M 36.465625 227.314962 \r\nL 371.265625 227.314962 \r\n\" style=\"fill:none;stroke:#000000;stroke-linecap:square;stroke-linejoin:miter;stroke-width:0.8;\"/>\r\n   </g>\r\n   <g id=\"patch_6\">\r\n    <path d=\"M 36.465625 9.874962 \r\nL 371.265625 9.874962 \r\n\" style=\"fill:none;stroke:#000000;stroke-linecap:square;stroke-linejoin:miter;stroke-width:0.8;\"/>\r\n   </g>\r\n  </g>\r\n </g>\r\n <defs>\r\n  <clipPath id=\"padf0ad1f2d\">\r\n   <rect height=\"217.44\" width=\"334.8\" x=\"36.465625\" y=\"9.874962\"/>\r\n  </clipPath>\r\n </defs>\r\n</svg>\r\n",
            "image/png": "[encoded data removed]"
          },
          "metadata": {
            "needs_background": "light"
          }
        }
      ]
    },
    {
      "cell_type": "code",
      "metadata": {
        "colab_type": "code",
        "id": "bJlcGoeUNFXA",
        "outputId": "052f7ac8-c10e-49e4-df8e-69bff60d4381",
        "colab": {
          "base_uri": "https://localhost:8080/",
          "height": 34
        }
      },
      "source": [
        "# final output from the model\n",
        "output"
      ],
      "execution_count": 58,
      "outputs": [
        {
          "output_type": "execute_result",
          "data": {
            "text/plain": [
              "array([[0.86746812, 0.81923313, 0.37151069]])"
            ]
          },
          "metadata": {},
          "execution_count": 58
        }
      ]
    },
    {
      "cell_type": "code",
      "metadata": {
        "colab_type": "code",
        "id": "ARNn3MiKNFXF",
        "outputId": "eb1606ed-53da-48f8-c5a0-f4c459e71fdc",
        "colab": {
          "base_uri": "https://localhost:8080/",
          "height": 34
        }
      },
      "source": [
        "# actual target\n",
        "y"
      ],
      "execution_count": 59,
      "outputs": [
        {
          "output_type": "execute_result",
          "data": {
            "text/plain": [
              "array([[1, 1, 0]])"
            ]
          },
          "metadata": {},
          "execution_count": 59
        }
      ]
    },
    {
      "cell_type": "code",
      "metadata": {
        "colab_type": "code",
        "id": "MtwXl0bjNFXJ",
        "outputId": "d5037572-8214-4175-fd97-92eaea9c3540",
        "colab": {
          "base_uri": "https://localhost:8080/",
          "height": 34
        }
      },
      "source": [
        "# error at last epoch\n",
        "error"
      ],
      "execution_count": 60,
      "outputs": [
        {
          "output_type": "execute_result",
          "data": {
            "text/plain": [
              "array([[0.00878235, 0.01633833, 0.0690101 ]])"
            ]
          },
          "metadata": {},
          "execution_count": 60
        }
      ]
    },
    {
      "cell_type": "code",
      "metadata": {
        "id": "HkfQF2CC2ir6",
        "colab_type": "code",
        "colab": {}
      },
      "source": [],
      "execution_count": 0,
      "outputs": []
    }
  ]
}