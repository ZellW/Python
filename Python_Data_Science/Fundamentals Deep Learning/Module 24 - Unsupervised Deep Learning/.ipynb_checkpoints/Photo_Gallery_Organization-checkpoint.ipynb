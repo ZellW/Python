{
 "cells": [
  {
   "cell_type": "markdown",
   "metadata": {
    "colab_type": "text",
    "id": "skoZI7kKS-4H"
   },
   "source": [
    "## Table of Contents\n",
    "\n",
    "### 1. Use a trained Autoencoder model to extract features from the images\n",
    "> #### 1.1 Prepare data\n",
    "> #### 1.2 Create autoencoder model and train it\n",
    "> #### 1.3 Extract features from images using the trained encoder\n",
    "### 2. Cluster images on the basis of extracted features\n",
    "> #### 2.1 Prepare clustering algorithm\n",
    "> #### 2.2 Get clusters from the features\n",
    "> #### 2.3 Visualize results\n",
    "\n",
    "Useful links:\n",
    "- https://www.analyticsvidhya.com/blog/2018/05/essentials-of-deep-learning-trudging-into-unsupervised-deep-learning/\n",
    "    - the 3rd approach provides much better peformance than what we do here\n",
    "- https://www.analyticsvidhya.com/blog/2019/08/comprehensive-guide-k-means-clustering/\n"
   ]
  },
  {
   "cell_type": "markdown",
   "metadata": {
    "colab_type": "text",
    "id": "oAazgiR5VliD"
   },
   "source": [
    "### 1. Use a trained Autoencoder model to extract features from the images"
   ]
  },
  {
   "cell_type": "markdown",
   "metadata": {
    "colab_type": "text",
    "id": "BVr5Rq4Iz1mj"
   },
   "source": [
    "#### 1.1 Prepare data"
   ]
  },
  {
   "cell_type": "code",
   "execution_count": null,
   "metadata": {
    "colab": {},
    "colab_type": "code",
    "id": "MFDJvo2yCfLc"
   },
   "outputs": [],
   "source": [
    "# Upload data from Google drive (if you are using Colab)\n",
    "# from google.colab import drive\n",
    "# drive.mount('/content/drive')"
   ]
  },
  {
   "cell_type": "code",
   "execution_count": 10,
   "metadata": {
    "colab": {
     "base_uri": "https://localhost:8080/",
     "height": 52
    },
    "colab_type": "code",
    "id": "jzlInSkiEHwk",
    "outputId": "7c5309e7-da6a-4cfd-fb53-677134f0a835"
   },
   "outputs": [],
   "source": [
    "# !unzip /content/drive/My\\ Drive/MNIST.zip"
   ]
  },
  {
   "cell_type": "code",
   "execution_count": 1,
   "metadata": {
    "colab": {},
    "colab_type": "code",
    "id": "M-s9TqyIEyqm"
   },
   "outputs": [],
   "source": [
    "# import libraries and modules\n",
    "\n",
    "# %matplotlib inline\n",
    "# %tensorflow_version 1.x\n",
    "\n",
    "import os\n",
    "import keras\n",
    "import numpy as np\n",
    "import pandas as pd\n",
    "import matplotlib.pyplot as plt\n",
    "\n",
    "from keras.models import Model\n",
    "from keras.layers import Dense, Input, Conv2D\n",
    "\n",
    "from skimage.io import imread\n",
    "\n",
    "from sklearn.cluster import KMeans\n",
    "from sklearn.metrics import normalized_mutual_info_score"
   ]
  },
  {
   "cell_type": "code",
   "execution_count": 2,
   "metadata": {
    "colab": {},
    "colab_type": "code",
    "id": "k0AGUvmEFQoL"
   },
   "outputs": [],
   "source": [
    "# To stop potential randomness\n",
    "seed = 128\n",
    "rng = np.random.RandomState(seed)"
   ]
  },
  {
   "cell_type": "code",
   "execution_count": 5,
   "metadata": {
    "colab": {},
    "colab_type": "code",
    "id": "bPZkl7c9FRO-"
   },
   "outputs": [],
   "source": [
    "# define directory path\n",
    "# data_dir = os.path.join(os.path.abspath('.'), 'MNIST')\n",
    "data_dir = \"../../../../../LargeData/Analytics_Vidhya/MNIST/\""
   ]
  },
  {
   "cell_type": "code",
   "execution_count": 6,
   "metadata": {
    "colab": {
     "base_uri": "https://localhost:8080/",
     "height": 206
    },
    "colab_type": "code",
    "id": "fC6u26GBFeBr",
    "outputId": "4f233283-dfa2-45c6-a0e1-12368c0d30d1"
   },
   "outputs": [
    {
     "data": {
      "text/html": [
       "<div>\n",
       "<style scoped>\n",
       "    .dataframe tbody tr th:only-of-type {\n",
       "        vertical-align: middle;\n",
       "    }\n",
       "\n",
       "    .dataframe tbody tr th {\n",
       "        vertical-align: top;\n",
       "    }\n",
       "\n",
       "    .dataframe thead th {\n",
       "        text-align: right;\n",
       "    }\n",
       "</style>\n",
       "<table border=\"1\" class=\"dataframe\">\n",
       "  <thead>\n",
       "    <tr style=\"text-align: right;\">\n",
       "      <th></th>\n",
       "      <th>filename</th>\n",
       "      <th>label</th>\n",
       "    </tr>\n",
       "  </thead>\n",
       "  <tbody>\n",
       "    <tr>\n",
       "      <th>0</th>\n",
       "      <td>0.png</td>\n",
       "      <td>4</td>\n",
       "    </tr>\n",
       "    <tr>\n",
       "      <th>1</th>\n",
       "      <td>1.png</td>\n",
       "      <td>9</td>\n",
       "    </tr>\n",
       "    <tr>\n",
       "      <th>2</th>\n",
       "      <td>2.png</td>\n",
       "      <td>1</td>\n",
       "    </tr>\n",
       "    <tr>\n",
       "      <th>3</th>\n",
       "      <td>3.png</td>\n",
       "      <td>7</td>\n",
       "    </tr>\n",
       "    <tr>\n",
       "      <th>4</th>\n",
       "      <td>4.png</td>\n",
       "      <td>3</td>\n",
       "    </tr>\n",
       "  </tbody>\n",
       "</table>\n",
       "</div>"
      ],
      "text/plain": [
       "  filename  label\n",
       "0    0.png      4\n",
       "1    1.png      9\n",
       "2    2.png      1\n",
       "3    3.png      7\n",
       "4    4.png      3"
      ]
     },
     "execution_count": 6,
     "metadata": {},
     "output_type": "execute_result"
    }
   ],
   "source": [
    "# read data files\n",
    "train = pd.read_csv(os.path.join(data_dir, 'train.csv'))\n",
    "\n",
    "train.head()"
   ]
  },
  {
   "cell_type": "markdown",
   "metadata": {},
   "source": [
    "Will not be using the labels in this exercise since this is an example of unsupervised learning."
   ]
  },
  {
   "cell_type": "code",
   "execution_count": 7,
   "metadata": {
    "colab": {
     "base_uri": "https://localhost:8080/",
     "height": 248
    },
    "colab_type": "code",
    "id": "3HJPtuj7FhFB",
    "outputId": "0e87f7c2-8d66-4bac-d10b-ab7c8283f898"
   },
   "outputs": [
    {
     "data": {
      "image/png": "[encoded data removed]",
      "text/plain": [
       "<Figure size 432x288 with 1 Axes>"
      ]
     },
     "metadata": {
      "needs_background": "light"
     },
     "output_type": "display_data"
    }
   ],
   "source": [
    "# plot sample image\n",
    "## choose a random image\n",
    "img_name = rng.choice(train.filename)\n",
    "filepath = os.path.join(data_dir, 'images', img_name)\n",
    "\n",
    "## read image\n",
    "img = imread(filepath, as_gray=True)\n",
    "\n",
    "## show image\n",
    "plt.imshow(img, cmap='gray')\n",
    "plt.axis('off')\n",
    "plt.show()"
   ]
  },
  {
   "cell_type": "code",
   "execution_count": 8,
   "metadata": {
    "colab": {
     "base_uri": "https://localhost:8080/",
     "height": 34
    },
    "colab_type": "code",
    "id": "YatSvrywFv88",
    "outputId": "d60605ba-64bb-4348-a3c8-07b3a6179474"
   },
   "outputs": [
    {
     "data": {
      "text/plain": [
       "(28, 28)"
      ]
     },
     "execution_count": 8,
     "metadata": {},
     "output_type": "execute_result"
    }
   ],
   "source": [
    "# print shape of image\n",
    "img.shape"
   ]
  },
  {
   "cell_type": "code",
   "execution_count": 9,
   "metadata": {
    "colab": {},
    "colab_type": "code",
    "id": "j--Cgne2FxdT"
   },
   "outputs": [],
   "source": [
    "# read images and store them as numpy arrays\n",
    "\n",
    "## read train images\n",
    "temp = []\n",
    "for img_name in train.filename:\n",
    "    image_path = os.path.join(data_dir, 'images', img_name)\n",
    "    img = imread(image_path, as_gray=True)\n",
    "    temp.append(img)\n",
    "    \n",
    "## store them in train_x\n",
    "train_x = np.stack(temp)\n",
    "train_x = train_x.reshape(-1, 784).astype('float32')"
   ]
  },
  {
   "cell_type": "code",
   "execution_count": 11,
   "metadata": {
    "colab": {
     "base_uri": "https://localhost:8080/",
     "height": 34
    },
    "colab_type": "code",
    "id": "xPHfxsnaY-zQ",
    "outputId": "c4b7558c-e12c-4679-99dc-f34b0e459509"
   },
   "outputs": [
    {
     "data": {
      "text/plain": [
       "(49000, 784)"
      ]
     },
     "execution_count": 11,
     "metadata": {},
     "output_type": "execute_result"
    }
   ],
   "source": [
    "# print shape of train_x array\n",
    "train_x.shape"
   ]
  },
  {
   "cell_type": "code",
   "execution_count": 12,
   "metadata": {
    "colab": {
     "base_uri": "https://localhost:8080/",
     "height": 34
    },
    "colab_type": "code",
    "id": "r4CgE2N3RkOn",
    "outputId": "36edc046-65f6-4b2d-903a-9b54fe95b5a9"
   },
   "outputs": [
    {
     "data": {
      "text/plain": [
       "(0.0, 1.0)"
      ]
     },
     "execution_count": 12,
     "metadata": {},
     "output_type": "execute_result"
    }
   ],
   "source": [
    "# print minimum and maximum values of train_x array\n",
    "train_x.min(), train_x.max()"
   ]
  },
  {
   "cell_type": "code",
   "execution_count": 13,
   "metadata": {
    "colab": {},
    "colab_type": "code",
    "id": "n8vVawYPGQgb"
   },
   "outputs": [],
   "source": [
    "# split data into training and validation\n",
    "split_size = int(train_x.shape[0]*0.7)\n",
    "\n",
    "train_x, val_x = train_x[:split_size], train_x[split_size:]"
   ]
  },
  {
   "cell_type": "markdown",
   "metadata": {
    "colab_type": "text",
    "id": "ydYQh9suV2ve"
   },
   "source": [
    "#### 1.2 Create autoencoder model and train it"
   ]
  },
  {
   "cell_type": "markdown",
   "metadata": {
    "colab_type": "text",
    "id": "s2XsdNUnsNwR"
   },
   "source": [
    "![alt text](https://drive.google.com/uc?id=1duzhaXwCuvZf4gs03pJNcJPEYUxT2y_8)"
   ]
  },
  {
   "cell_type": "code",
   "execution_count": 14,
   "metadata": {
    "colab": {
     "base_uri": "https://localhost:8080/",
     "height": 141
    },
    "colab_type": "code",
    "id": "QvXxtG9mGblO",
    "outputId": "28832855-e034-4cdf-9b95-9d59e2e852a5"
   },
   "outputs": [],
   "source": [
    "# define architecture of autoencoder\n",
    "\n",
    "## this is our input placeholder\n",
    "input_img = Input(shape=(784, )) # batch size 784\n",
    "\n",
    "## \"encoded\" is the encoded representation of the input\n",
    "# 3 layer NLP\n",
    "encoded = Dense(2000, activation='relu')(input_img)\n",
    "encoded = Dense(500, activation='relu')(encoded)\n",
    "encoded = Dense(100, activation='relu')(encoded)\n",
    "encoded = Dense(10, activation='linear')(encoded) # 10 clasesses representing 0-9.  \n",
    "\n",
    "## \"decoded\" is the lossy reconstruction of the input\n",
    "decoded = Dense(100, activation='relu')(encoded)\n",
    "decoded = Dense(500, activation='relu')(decoded)\n",
    "decoded = Dense(784, activation='sigmoid')(decoded) # 784 is ised because the autoencoder is attempting to recreate the inputs\n",
    "\n",
    "## this model maps an input to its reconstruction\n",
    "autoencoder = Model(input_img, decoded)\n",
    "\n",
    "## this model maps an input to its features\n",
    "encoder = Model(input_img, encoded)"
   ]
  },
  {
   "cell_type": "code",
   "execution_count": 15,
   "metadata": {
    "colab": {
     "base_uri": "https://localhost:8080/",
     "height": 434
    },
    "colab_type": "code",
    "id": "PJ82hDD2G00e",
    "outputId": "f7674df6-18c1-4e44-d422-54fc8c9b95a0"
   },
   "outputs": [
    {
     "name": "stdout",
     "output_type": "stream",
     "text": [
      "Model: \"functional_1\"\n",
      "_________________________________________________________________\n",
      "Layer (type)                 Output Shape              Param #   \n",
      "=================================================================\n",
      "input_1 (InputLayer)         [(None, 784)]             0         \n",
      "_________________________________________________________________\n",
      "dense (Dense)                (None, 2000)              1570000   \n",
      "_________________________________________________________________\n",
      "dense_1 (Dense)              (None, 500)               1000500   \n",
      "_________________________________________________________________\n",
      "dense_2 (Dense)              (None, 100)               50100     \n",
      "_________________________________________________________________\n",
      "dense_3 (Dense)              (None, 10)                1010      \n",
      "_________________________________________________________________\n",
      "dense_4 (Dense)              (None, 100)               1100      \n",
      "_________________________________________________________________\n",
      "dense_5 (Dense)              (None, 500)               50500     \n",
      "_________________________________________________________________\n",
      "dense_6 (Dense)              (None, 784)               392784    \n",
      "=================================================================\n",
      "Total params: 3,065,994\n",
      "Trainable params: 3,065,994\n",
      "Non-trainable params: 0\n",
      "_________________________________________________________________\n"
     ]
    }
   ],
   "source": [
    "# print summary of autoencoder\n",
    "autoencoder.summary()"
   ]
  },
  {
   "cell_type": "code",
   "execution_count": 16,
   "metadata": {
    "colab": {
     "base_uri": "https://localhost:8080/",
     "height": 330
    },
    "colab_type": "code",
    "id": "eNS5s7SPZiNu",
    "outputId": "d5e4a82f-4ec1-42b9-fe56-3e09c04fec0b"
   },
   "outputs": [
    {
     "name": "stdout",
     "output_type": "stream",
     "text": [
      "Model: \"functional_3\"\n",
      "_________________________________________________________________\n",
      "Layer (type)                 Output Shape              Param #   \n",
      "=================================================================\n",
      "input_1 (InputLayer)         [(None, 784)]             0         \n",
      "_________________________________________________________________\n",
      "dense (Dense)                (None, 2000)              1570000   \n",
      "_________________________________________________________________\n",
      "dense_1 (Dense)              (None, 500)               1000500   \n",
      "_________________________________________________________________\n",
      "dense_2 (Dense)              (None, 100)               50100     \n",
      "_________________________________________________________________\n",
      "dense_3 (Dense)              (None, 10)                1010      \n",
      "=================================================================\n",
      "Total params: 2,621,610\n",
      "Trainable params: 2,621,610\n",
      "Non-trainable params: 0\n",
      "_________________________________________________________________\n"
     ]
    }
   ],
   "source": [
    "# print summary of encoder\n",
    "encoder.summary()"
   ]
  },
  {
   "cell_type": "code",
   "execution_count": 17,
   "metadata": {
    "colab": {
     "base_uri": "https://localhost:8080/",
     "height": 72
    },
    "colab_type": "code",
    "id": "YF2C9D8yG1MK",
    "outputId": "33ebb49b-11ff-444b-e4e2-c811c13677ad"
   },
   "outputs": [],
   "source": [
    "# compile autoencoder\n",
    "autoencoder.compile(optimizer='adam', loss='mse')\n",
    "# using mse to compare output and input pixel by pixel"
   ]
  },
  {
   "cell_type": "code",
   "execution_count": 18,
   "metadata": {
    "colab": {
     "base_uri": "https://localhost:8080/",
     "height": 1000
    },
    "colab_type": "code",
    "id": "0WxqQEX6G5hy",
    "outputId": "29fe5d74-a388-40f3-b01b-fcb70405a0e2"
   },
   "outputs": [
    {
     "name": "stdout",
     "output_type": "stream",
     "text": [
      "Epoch 1/100\n",
      "134/134 [==============================] - 4s 31ms/step - loss: 0.0589 - val_loss: 0.0326\n",
      "Epoch 2/100\n",
      "134/134 [==============================] - 4s 30ms/step - loss: 0.0274 - val_loss: 0.0237\n",
      "Epoch 3/100\n",
      "134/134 [==============================] - 4s 29ms/step - loss: 0.0220 - val_loss: 0.0209\n",
      "Epoch 4/100\n",
      "134/134 [==============================] - 4s 29ms/step - loss: 0.0197 - val_loss: 0.0193\n",
      "Epoch 5/100\n",
      "134/134 [==============================] - 4s 30ms/step - loss: 0.0184 - val_loss: 0.0183\n",
      "Epoch 6/100\n",
      "134/134 [==============================] - 4s 30ms/step - loss: 0.0175 - val_loss: 0.0176\n",
      "Epoch 7/100\n",
      "134/134 [==============================] - 4s 32ms/step - loss: 0.0168 - val_loss: 0.0173\n",
      "Epoch 8/100\n",
      "134/134 [==============================] - 5s 38ms/step - loss: 0.0162 - val_loss: 0.0167\n",
      "Epoch 9/100\n",
      "134/134 [==============================] - 5s 36ms/step - loss: 0.0158 - val_loss: 0.0163\n",
      "Epoch 10/100\n",
      "134/134 [==============================] - 5s 35ms/step - loss: 0.0154 - val_loss: 0.0160\n",
      "Epoch 11/100\n",
      "134/134 [==============================] - 5s 35ms/step - loss: 0.0150 - val_loss: 0.0157\n",
      "Epoch 12/100\n",
      "134/134 [==============================] - 5s 35ms/step - loss: 0.0147 - val_loss: 0.0155\n",
      "Epoch 13/100\n",
      "134/134 [==============================] - 5s 36ms/step - loss: 0.0144 - val_loss: 0.0154\n",
      "Epoch 14/100\n",
      "134/134 [==============================] - 6s 44ms/step - loss: 0.0142 - val_loss: 0.0152\n",
      "Epoch 15/100\n",
      "134/134 [==============================] - 7s 53ms/step - loss: 0.0139 - val_loss: 0.0150\n",
      "Epoch 16/100\n",
      "134/134 [==============================] - 7s 52ms/step - loss: 0.0137 - val_loss: 0.0149\n",
      "Epoch 17/100\n",
      "134/134 [==============================] - 7s 51ms/step - loss: 0.0135 - val_loss: 0.0147\n",
      "Epoch 18/100\n",
      "134/134 [==============================] - 7s 51ms/step - loss: 0.0134 - val_loss: 0.0146\n",
      "Epoch 19/100\n",
      "134/134 [==============================] - 7s 51ms/step - loss: 0.0132 - val_loss: 0.0145\n",
      "Epoch 20/100\n",
      "134/134 [==============================] - 7s 50ms/step - loss: 0.0130 - val_loss: 0.0144\n",
      "Epoch 21/100\n",
      "134/134 [==============================] - 7s 51ms/step - loss: 0.0129 - val_loss: 0.0143\n",
      "Epoch 22/100\n",
      "134/134 [==============================] - 7s 52ms/step - loss: 0.0127 - val_loss: 0.0143\n",
      "Epoch 23/100\n",
      "134/134 [==============================] - 7s 51ms/step - loss: 0.0126 - val_loss: 0.0142\n",
      "Epoch 24/100\n",
      "134/134 [==============================] - 7s 51ms/step - loss: 0.0125 - val_loss: 0.0142\n",
      "Epoch 25/100\n",
      "134/134 [==============================] - 7s 52ms/step - loss: 0.0124 - val_loss: 0.0141\n",
      "Epoch 26/100\n",
      "134/134 [==============================] - 7s 52ms/step - loss: 0.0123 - val_loss: 0.0140\n",
      "Epoch 27/100\n",
      "134/134 [==============================] - 7s 53ms/step - loss: 0.0122 - val_loss: 0.0140\n",
      "Epoch 28/100\n",
      "134/134 [==============================] - 7s 53ms/step - loss: 0.0121 - val_loss: 0.0138\n",
      "Epoch 29/100\n",
      "134/134 [==============================] - 7s 54ms/step - loss: 0.0120 - val_loss: 0.0138\n",
      "Epoch 30/100\n",
      "134/134 [==============================] - 7s 55ms/step - loss: 0.0119 - val_loss: 0.0138\n",
      "Epoch 31/100\n",
      "134/134 [==============================] - 7s 55ms/step - loss: 0.0118 - val_loss: 0.0138\n",
      "Epoch 32/100\n",
      "134/134 [==============================] - 8s 58ms/step - loss: 0.0117 - val_loss: 0.0137\n",
      "Epoch 33/100\n",
      "134/134 [==============================] - 8s 60ms/step - loss: 0.0116 - val_loss: 0.0137\n",
      "Epoch 34/100\n",
      "134/134 [==============================] - 8s 57ms/step - loss: 0.0116 - val_loss: 0.0137\n",
      "Epoch 35/100\n",
      "134/134 [==============================] - 8s 59ms/step - loss: 0.0115 - val_loss: 0.0136\n",
      "Epoch 36/100\n",
      "134/134 [==============================] - 8s 59ms/step - loss: 0.0114 - val_loss: 0.0136\n",
      "Epoch 37/100\n",
      "134/134 [==============================] - 8s 60ms/step - loss: 0.0113 - val_loss: 0.0136\n",
      "Epoch 38/100\n",
      "134/134 [==============================] - 8s 59ms/step - loss: 0.0112 - val_loss: 0.0136\n",
      "Epoch 39/100\n",
      "134/134 [==============================] - 8s 60ms/step - loss: 0.0112 - val_loss: 0.0136\n",
      "Epoch 40/100\n",
      "134/134 [==============================] - 8s 60ms/step - loss: 0.0111 - val_loss: 0.0135\n",
      "Epoch 41/100\n",
      "134/134 [==============================] - 8s 60ms/step - loss: 0.0111 - val_loss: 0.0136\n",
      "Epoch 42/100\n",
      "134/134 [==============================] - 8s 60ms/step - loss: 0.0110 - val_loss: 0.0134\n",
      "Epoch 43/100\n",
      "134/134 [==============================] - 9s 68ms/step - loss: 0.0109 - val_loss: 0.0134\n",
      "Epoch 44/100\n",
      "134/134 [==============================] - 9s 63ms/step - loss: 0.0109 - val_loss: 0.0134\n",
      "Epoch 45/100\n",
      "134/134 [==============================] - 9s 65ms/step - loss: 0.0108 - val_loss: 0.0134\n",
      "Epoch 46/100\n",
      "134/134 [==============================] - 9s 67ms/step - loss: 0.0108 - val_loss: 0.0133\n",
      "Epoch 47/100\n",
      "134/134 [==============================] - 9s 67ms/step - loss: 0.0107 - val_loss: 0.0133\n",
      "Epoch 48/100\n",
      "134/134 [==============================] - 9s 65ms/step - loss: 0.0107 - val_loss: 0.0133\n",
      "Epoch 49/100\n",
      "134/134 [==============================] - 9s 65ms/step - loss: 0.0106 - val_loss: 0.0133\n",
      "Epoch 50/100\n",
      "134/134 [==============================] - 9s 67ms/step - loss: 0.0106 - val_loss: 0.0133\n",
      "Epoch 51/100\n",
      "134/134 [==============================] - 9s 66ms/step - loss: 0.0105 - val_loss: 0.0133\n",
      "Epoch 52/100\n",
      "134/134 [==============================] - 9s 65ms/step - loss: 0.0105 - val_loss: 0.0133\n",
      "Epoch 53/100\n",
      "134/134 [==============================] - 9s 68ms/step - loss: 0.0104 - val_loss: 0.0132\n",
      "Epoch 54/100\n",
      "134/134 [==============================] - 9s 65ms/step - loss: 0.0104 - val_loss: 0.0133\n",
      "Epoch 55/100\n",
      "134/134 [==============================] - 9s 65ms/step - loss: 0.0104 - val_loss: 0.0132\n",
      "Epoch 56/100\n",
      "134/134 [==============================] - 9s 65ms/step - loss: 0.0103 - val_loss: 0.0132\n",
      "Epoch 57/100\n",
      "134/134 [==============================] - 9s 65ms/step - loss: 0.0103 - val_loss: 0.0132\n",
      "Epoch 58/100\n",
      "134/134 [==============================] - 9s 65ms/step - loss: 0.0102 - val_loss: 0.0132\n",
      "Epoch 59/100\n",
      "134/134 [==============================] - 9s 65ms/step - loss: 0.0102 - val_loss: 0.0131\n",
      "Epoch 60/100\n",
      "134/134 [==============================] - 9s 66ms/step - loss: 0.0101 - val_loss: 0.0133\n",
      "Epoch 61/100\n",
      "134/134 [==============================] - 9s 66ms/step - loss: 0.0101 - val_loss: 0.0131\n",
      "Epoch 62/100\n",
      "134/134 [==============================] - 9s 64ms/step - loss: 0.0101 - val_loss: 0.0132\n",
      "Epoch 63/100\n",
      "134/134 [==============================] - 9s 66ms/step - loss: 0.0100 - val_loss: 0.0132\n",
      "Epoch 64/100\n",
      "134/134 [==============================] - 9s 66ms/step - loss: 0.0100 - val_loss: 0.0131\n",
      "Epoch 65/100\n",
      "134/134 [==============================] - 9s 66ms/step - loss: 0.0100 - val_loss: 0.0131\n",
      "Epoch 66/100\n",
      "134/134 [==============================] - 9s 65ms/step - loss: 0.0099 - val_loss: 0.0131\n",
      "Epoch 67/100\n",
      "134/134 [==============================] - 9s 66ms/step - loss: 0.0099 - val_loss: 0.0131\n",
      "Epoch 68/100\n",
      "134/134 [==============================] - 9s 66ms/step - loss: 0.0099 - val_loss: 0.0131\n",
      "Epoch 69/100\n",
      "134/134 [==============================] - 9s 65ms/step - loss: 0.0098 - val_loss: 0.0131\n",
      "Epoch 70/100\n",
      "134/134 [==============================] - 9s 66ms/step - loss: 0.0098 - val_loss: 0.0131\n",
      "Epoch 71/100\n",
      "134/134 [==============================] - 9s 66ms/step - loss: 0.0098 - val_loss: 0.0131\n",
      "Epoch 72/100\n",
      "134/134 [==============================] - 9s 65ms/step - loss: 0.0097 - val_loss: 0.0131\n",
      "Epoch 73/100\n",
      "134/134 [==============================] - 9s 65ms/step - loss: 0.0097 - val_loss: 0.0130\n",
      "Epoch 74/100\n",
      "134/134 [==============================] - 9s 65ms/step - loss: 0.0097 - val_loss: 0.0131\n",
      "Epoch 75/100\n",
      "134/134 [==============================] - 9s 66ms/step - loss: 0.0096 - val_loss: 0.0130\n",
      "Epoch 76/100\n",
      "134/134 [==============================] - 9s 65ms/step - loss: 0.0096 - val_loss: 0.0130\n",
      "Epoch 77/100\n",
      "134/134 [==============================] - 9s 65ms/step - loss: 0.0096 - val_loss: 0.0131\n",
      "Epoch 78/100\n",
      "134/134 [==============================] - 9s 66ms/step - loss: 0.0096 - val_loss: 0.0131\n",
      "Epoch 79/100\n",
      "134/134 [==============================] - 9s 65ms/step - loss: 0.0095 - val_loss: 0.0130\n",
      "Epoch 80/100\n",
      "134/134 [==============================] - 9s 65ms/step - loss: 0.0095 - val_loss: 0.0131\n",
      "Epoch 81/100\n",
      "134/134 [==============================] - 9s 67ms/step - loss: 0.0095 - val_loss: 0.0130\n",
      "Epoch 82/100\n",
      "134/134 [==============================] - 9s 66ms/step - loss: 0.0094 - val_loss: 0.0130\n",
      "Epoch 83/100\n",
      "134/134 [==============================] - 9s 67ms/step - loss: 0.0094 - val_loss: 0.0130\n",
      "Epoch 84/100\n",
      "134/134 [==============================] - 9s 66ms/step - loss: 0.0094 - val_loss: 0.0130\n",
      "Epoch 85/100\n",
      "134/134 [==============================] - 9s 65ms/step - loss: 0.0094 - val_loss: 0.0131\n",
      "Epoch 86/100\n",
      "134/134 [==============================] - 9s 65ms/step - loss: 0.0094 - val_loss: 0.0131\n",
      "Epoch 87/100\n",
      "134/134 [==============================] - 9s 65ms/step - loss: 0.0094 - val_loss: 0.0130\n",
      "Epoch 88/100\n",
      "134/134 [==============================] - 9s 65ms/step - loss: 0.0093 - val_loss: 0.0130\n",
      "Epoch 89/100\n",
      "134/134 [==============================] - 9s 65ms/step - loss: 0.0093 - val_loss: 0.0130\n",
      "Epoch 90/100\n",
      "134/134 [==============================] - 9s 65ms/step - loss: 0.0093 - val_loss: 0.0130\n",
      "Epoch 91/100\n",
      "134/134 [==============================] - 9s 64ms/step - loss: 0.0093 - val_loss: 0.0130\n",
      "Epoch 92/100\n",
      "134/134 [==============================] - 9s 65ms/step - loss: 0.0092 - val_loss: 0.0130\n",
      "Epoch 93/100\n",
      "134/134 [==============================] - 9s 65ms/step - loss: 0.0092 - val_loss: 0.0131\n",
      "Epoch 94/100\n",
      "134/134 [==============================] - 9s 66ms/step - loss: 0.0092 - val_loss: 0.0130\n",
      "Epoch 95/100\n",
      "134/134 [==============================] - 9s 65ms/step - loss: 0.0092 - val_loss: 0.0130\n",
      "Epoch 96/100\n",
      "134/134 [==============================] - 9s 66ms/step - loss: 0.0091 - val_loss: 0.0131\n",
      "Epoch 97/100\n",
      "134/134 [==============================] - 9s 65ms/step - loss: 0.0091 - val_loss: 0.0130\n",
      "Epoch 98/100\n",
      "134/134 [==============================] - 9s 66ms/step - loss: 0.0091 - val_loss: 0.0130\n",
      "Epoch 99/100\n",
      "134/134 [==============================] - 9s 65ms/step - loss: 0.0091 - val_loss: 0.0130\n",
      "Epoch 100/100\n",
      "134/134 [==============================] - 10s 72ms/step - loss: 0.0091 - val_loss: 0.0130\n"
     ]
    }
   ],
   "source": [
    "# train autoencoder\n",
    "train_history = autoencoder.fit(train_x, train_x, epochs=100, batch_size=256, validation_data=(val_x, val_x))"
   ]
  },
  {
   "cell_type": "markdown",
   "metadata": {},
   "source": [
    "Note the training loss is very low."
   ]
  },
  {
   "cell_type": "code",
   "execution_count": 19,
   "metadata": {
    "colab": {
     "base_uri": "https://localhost:8080/",
     "height": 282
    },
    "colab_type": "code",
    "id": "ibPb5byR0GKq",
    "outputId": "38a1362a-4466-4da7-fb99-9d3cc29e32a8"
   },
   "outputs": [
    {
     "data": {
      "text/plain": [
       "<matplotlib.image.AxesImage at 0x263c9233220>"
      ]
     },
     "execution_count": 19,
     "metadata": {},
     "output_type": "execute_result"
    },
    {
     "data": {
      "image/png": "[encoded data removed]",
      "text/plain": [
       "<Figure size 432x288 with 1 Axes>"
      ]
     },
     "metadata": {
      "needs_background": "light"
     },
     "output_type": "display_data"
    }
   ],
   "source": [
    "# check output of autoencoder model\n",
    "temp = autoencoder.predict(train_x)\n",
    "plt.imshow(temp[0].reshape((28, 28)), cmap='gray')"
   ]
  },
  {
   "cell_type": "markdown",
   "metadata": {},
   "source": [
    "the reconstructed image looks very much like an input image."
   ]
  },
  {
   "cell_type": "code",
   "execution_count": 20,
   "metadata": {
    "colab": {
     "base_uri": "https://localhost:8080/",
     "height": 69
    },
    "colab_type": "code",
    "id": "OHt3tL1Warnk",
    "outputId": "2f2a1da5-a48a-4768-a35d-b24cc5cd69a2"
   },
   "outputs": [
    {
     "data": {
      "text/plain": [
       "array([ -2.1643786,  14.831165 ,  -6.4200625, -20.416615 ,   6.8077536,\n",
       "         0.827214 ,   4.572992 ,   9.894112 ,  10.64316  , -12.440319 ],\n",
       "      dtype=float32)"
      ]
     },
     "execution_count": 20,
     "metadata": {},
     "output_type": "execute_result"
    }
   ],
   "source": [
    "# check output of encoder model which has a vector shape of 10\n",
    "# These are the features we can use for clustering\n",
    "temp = encoder.predict(train_x)\n",
    "temp[0]"
   ]
  },
  {
   "cell_type": "markdown",
   "metadata": {
    "colab_type": "text",
    "id": "k4hteIOcaQqx"
   },
   "source": [
    "#### 1.3 Extract features from images using the trained encoder"
   ]
  },
  {
   "cell_type": "code",
   "execution_count": 21,
   "metadata": {
    "colab": {},
    "colab_type": "code",
    "id": "ebsi6Mef0OoW"
   },
   "outputs": [],
   "source": [
    "# get features from encoder\n",
    "pred_auto_train = encoder.predict(train_x)\n",
    "pred_auto = encoder.predict(val_x)"
   ]
  },
  {
   "cell_type": "markdown",
   "metadata": {
    "colab_type": "text",
    "id": "BSZoJaO30h3K"
   },
   "source": [
    "### 2. Cluster images on the basis of extracted features"
   ]
  },
  {
   "cell_type": "markdown",
   "metadata": {
    "colab_type": "text",
    "id": "9Z-Qynct0nYY"
   },
   "source": [
    "#### 2.1 Prepare clustering algorithm"
   ]
  },
  {
   "cell_type": "code",
   "execution_count": 26,
   "metadata": {
    "colab": {},
    "colab_type": "code",
    "id": "0xqqi6NGG90r"
   },
   "outputs": [],
   "source": [
    "# train a kmeans clustering model to categorize the features of images\n",
    "\n",
    "## define kmeans model - could use any clustering algo\n",
    "km = KMeans(n_clusters=10) # 10 digits therfore 10 clusters"
   ]
  },
  {
   "cell_type": "markdown",
   "metadata": {
    "colab_type": "text",
    "id": "xydpJAdh04Fw"
   },
   "source": [
    "#### 2.2 Get clusters from the features\n"
   ]
  },
  {
   "cell_type": "code",
   "execution_count": 27,
   "metadata": {
    "colab": {},
    "colab_type": "code",
    "id": "ltnRWgc803MP"
   },
   "outputs": [],
   "source": [
    "## train kmeans model on features extracted from training data\n",
    "km.fit(pred_auto_train)\n",
    "\n",
    "## get predictions from kmeans model on features extracted from validation data\n",
    "pred = km.predict(pred_auto)"
   ]
  },
  {
   "cell_type": "markdown",
   "metadata": {
    "colab_type": "text",
    "id": "Mrh5hHTEctAf"
   },
   "source": [
    "#### 2.3 Visualize results"
   ]
  },
  {
   "cell_type": "code",
   "execution_count": 29,
   "metadata": {
    "colab": {
     "base_uri": "https://localhost:8080/",
     "height": 282
    },
    "colab_type": "code",
    "id": "I5k2pVwZHIg1",
    "outputId": "b666e2fb-55eb-43ca-8d1e-eb7551ff4121"
   },
   "outputs": [
    {
     "name": "stdout",
     "output_type": "stream",
     "text": [
      "This image belongs to Cluster 0\n"
     ]
    },
    {
     "data": {
      "image/png": "[encoded data removed]",
      "text/plain": [
       "<Figure size 432x288 with 1 Axes>"
      ]
     },
     "metadata": {
      "needs_background": "light"
     },
     "output_type": "display_data"
    }
   ],
   "source": [
    "# check the output of kmeans model\n",
    "index = rng.choice(range(len(val_x)))\n",
    "\n",
    "print(\"This image belongs to Cluster \" + str(pred[index]))\n",
    "plt.imshow(val_x[index].reshape((28, 28)), cmap='gray')\n",
    "plt.show()"
   ]
  },
  {
   "cell_type": "code",
   "execution_count": 30,
   "metadata": {
    "colab": {
     "base_uri": "https://localhost:8080/",
     "height": 206
    },
    "colab_type": "code",
    "id": "kgU9nQWMyGbM",
    "outputId": "1e8f1395-646a-454c-eae3-9acc946dda20"
   },
   "outputs": [
    {
     "data": {
      "text/html": [
       "<div>\n",
       "<style scoped>\n",
       "    .dataframe tbody tr th:only-of-type {\n",
       "        vertical-align: middle;\n",
       "    }\n",
       "\n",
       "    .dataframe tbody tr th {\n",
       "        vertical-align: top;\n",
       "    }\n",
       "\n",
       "    .dataframe thead th {\n",
       "        text-align: right;\n",
       "    }\n",
       "</style>\n",
       "<table border=\"1\" class=\"dataframe\">\n",
       "  <thead>\n",
       "    <tr style=\"text-align: right;\">\n",
       "      <th></th>\n",
       "      <th>val_y</th>\n",
       "      <th>cluster_name</th>\n",
       "    </tr>\n",
       "  </thead>\n",
       "  <tbody>\n",
       "    <tr>\n",
       "      <th>2</th>\n",
       "      <td>6</td>\n",
       "      <td>1</td>\n",
       "    </tr>\n",
       "    <tr>\n",
       "      <th>11</th>\n",
       "      <td>6</td>\n",
       "      <td>1</td>\n",
       "    </tr>\n",
       "    <tr>\n",
       "      <th>12</th>\n",
       "      <td>6</td>\n",
       "      <td>1</td>\n",
       "    </tr>\n",
       "    <tr>\n",
       "      <th>14</th>\n",
       "      <td>6</td>\n",
       "      <td>1</td>\n",
       "    </tr>\n",
       "    <tr>\n",
       "      <th>28</th>\n",
       "      <td>6</td>\n",
       "      <td>1</td>\n",
       "    </tr>\n",
       "  </tbody>\n",
       "</table>\n",
       "</div>"
      ],
      "text/plain": [
       "    val_y  cluster_name\n",
       "2       6             1\n",
       "11      6             1\n",
       "12      6             1\n",
       "14      6             1\n",
       "28      6             1"
      ]
     },
     "execution_count": 30,
     "metadata": {},
     "output_type": "execute_result"
    }
   ],
   "source": [
    "# get actual classes\n",
    "train_y = train.label.values\n",
    "train_y, val_y = train_y[:split_size], train_y[split_size:]\n",
    "\n",
    "# compare clusters with actual classes\n",
    "temp = pd.DataFrame({\"val_y\":val_y, \"cluster_name\":pred})\n",
    "temp[temp.cluster_name == 1].head()"
   ]
  },
  {
   "cell_type": "code",
   "execution_count": 31,
   "metadata": {
    "colab": {
     "base_uri": "https://localhost:8080/",
     "height": 541
    },
    "colab_type": "code",
    "id": "uuedBp9py2qo",
    "outputId": "393087b8-67e6-404d-93db-c0085f3d9a06"
   },
   "outputs": [
    {
     "data": {
      "image/png": "[encoded data removed]",
      "text/plain": [
       "<Figure size 720x720 with 25 Axes>"
      ]
     },
     "metadata": {
      "needs_background": "light"
     },
     "output_type": "display_data"
    }
   ],
   "source": [
    "# visualize multiple images of cluster\n",
    "## create plot\n",
    "fig,axes = plt.subplots(nrows=5,ncols=5,figsize=(10,10))\n",
    "\n",
    "\n",
    "## set row name on the basis of clusters\n",
    "rows = ['Images belong to Cluster {}'.format(row) for row in ['1', '2', '3', '4', '5']]\n",
    "for ax, row in zip(axes[:,0], rows):\n",
    "    ax.annotate(row, xy=(0, 0.5), xytext=(-ax.yaxis.labelpad - 5, 0),\n",
    "                xycoords=ax.yaxis.label, textcoords='offset points',\n",
    "                size='large', ha='right', va='center')\n",
    "\n",
    "## set images in subplots\n",
    "for i in range(5):\n",
    "  temp2 = temp[temp.cluster_name == i].head() \n",
    "  for j, img in enumerate(val_x[temp2.index.values]):\n",
    "    img = img.reshape((28, 28))\n",
    "    axes[i][j].imshow(img, cmap='gray')\n",
    "\n",
    "## adjust plot with respect to the column title\n",
    "fig.tight_layout()\n",
    "fig.subplots_adjust(left=0.15, top=0.95)\n",
    "\n",
    "## show plot\n",
    "plt.show()"
   ]
  },
  {
   "cell_type": "code",
   "execution_count": 32,
   "metadata": {
    "colab": {
     "base_uri": "https://localhost:8080/",
     "height": 34
    },
    "colab_type": "code",
    "id": "y76diUyNQn8c",
    "outputId": "4930090f-2a5b-4f92-a789-bf85ce548a62"
   },
   "outputs": [
    {
     "data": {
      "text/plain": [
       "0.6546488665483239"
      ]
     },
     "execution_count": 32,
     "metadata": {},
     "output_type": "execute_result"
    }
   ],
   "source": [
    "# print score of overall model\n",
    "normalized_mutual_info_score(pred, val_y)"
   ]
  },
  {
   "cell_type": "markdown",
   "metadata": {},
   "source": [
    "[Essentials of Deep Learning: Exploring Unsupervised Deep Learning Algorithms for Computer Vision](https://www.analyticsvidhya.com/blog/2018/06/unsupervised-deep-learning-computer-vision/)\n",
    "\n",
    "[Introductory guide to Generative Adversarial Networks (GANs) and their promise!](https://www.analyticsvidhya.com/blog/2017/06/introductory-generative-adversarial-networks-gans/)\n",
    "\n",
    "[What are Generative Models and GANs? The Magic of Computer Vision](https://www.analyticsvidhya.com/blog/2020/01/generative-models-gans-computer-vision/)"
   ]
  }
 ],
 "metadata": {
  "accelerator": "GPU",
  "colab": {
   "collapsed_sections": [],
   "name": "Photo Gallery Organization",
   "provenance": []
  },
  "kernelspec": {
   "display_name": "Python 3",
   "language": "python",
   "name": "python3"
  },
  "language_info": {
   "codemirror_mode": {
    "name": "ipython",
    "version": 3
   },
   "file_extension": ".py",
   "mimetype": "text/x-python",
   "name": "python",
   "nbconvert_exporter": "python",
   "pygments_lexer": "ipython3",
   "version": "3.8.8"
  }
 },
 "nbformat": 4,
 "nbformat_minor": 4
}
