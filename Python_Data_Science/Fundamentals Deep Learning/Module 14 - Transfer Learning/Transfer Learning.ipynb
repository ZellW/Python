{
 "cells": [
  {
   "cell_type": "markdown",
   "metadata": {
    "colab_type": "text",
    "id": "ptp7FGAWlrp9"
   },
   "source": [
    "# Transfer Learning "
   ]
  },
  {
   "cell_type": "markdown",
   "metadata": {
    "colab_type": "text",
    "id": "ysQ1EYHjlrqC"
   },
   "source": [
    "## Classification Problem - Emergency vs Non-emergency Vehicle Classification"
   ]
  },
  {
   "cell_type": "markdown",
   "metadata": {
    "colab_type": "text",
    "id": "XHOltjt-lrqA"
   },
   "source": [
    "<img src=\"images/imagenet_challenge.png\" alt=\"drawing\" style=\"width:700px;\" align=\"center\"/>"
   ]
  },
  {
   "cell_type": "markdown",
   "metadata": {
    "colab_type": "text",
    "id": "i70CRNy8lrqF"
   },
   "source": [
    "<img src=\"images/emergency_vs_non.png\"/>"
   ]
  },
  {
   "cell_type": "markdown",
   "metadata": {
    "colab_type": "text",
    "id": "aKEERr7qlrqI"
   },
   "source": [
    "\n",
    "[Source](https://www.slideshare.net/xavigiro/image-classification-on-imagenet-d1l4-2017-upc-deep-learning-for-computer-vision/)"
   ]
  },
  {
   "cell_type": "markdown",
   "metadata": {
    "colab_type": "text",
    "id": "zEk4ZIdmlrqJ"
   },
   "source": [
    "Table of Contents\n",
    "1. <font color='blue'>Import neccessary libraries\n",
    "2. Load the data</font>\n",
    "3. <font color='#999900'>Preprocess the data</font>\n",
    "4. <font color='red'>Load weights of pre-trained model\n",
    "5. Fine tune the model for the current problem</font>\n",
    "6. <font color='blue'>Get predictions</font>"
   ]
  },
  {
   "cell_type": "markdown",
   "metadata": {
    "colab_type": "text",
    "id": "TvERcG9VlrqK"
   },
   "source": [
    "## 1. Import neccessary libraries"
   ]
  },
  {
   "cell_type": "markdown",
   "metadata": {
    "colab_type": "text",
    "id": "vMFhpnlJlrqQ"
   },
   "source": [
    "Here we will import the required libraries and functions."
   ]
  },
  {
   "cell_type": "code",
   "execution_count": 1,
   "metadata": {
    "colab": {},
    "colab_type": "code",
    "id": "IsiS1-BqlrqT",
    "outputId": "e758d34c-07e7-4bbf-8f1c-d22b45f1ca63"
   },
   "outputs": [],
   "source": [
    "# import necessary libraries for plotting images\n",
    "import numpy as np\n",
    "import matplotlib.pyplot as plt\n",
    "# plot in jupyter notebook itself\n",
    "%matplotlib inline\n",
    "from glob import glob\n",
    "import pandas as pd\n",
    "from sklearn.model_selection import train_test_split\n",
    "from skimage.transform import resize\n",
    "\n",
    "from keras.utils import to_categorical\n",
    "#used to preprocess data according to VGG16\n",
    "from keras.applications.vgg16 import preprocess_input\n",
    "#for instantiating the model and loading the weights and biases\n",
    "from keras.applications.vgg16 import VGG16\n",
    "from keras.models import Sequential\n",
    "from keras.layers import Dense, InputLayer"
   ]
  },
  {
   "cell_type": "markdown",
   "metadata": {
    "colab_type": "text",
    "id": "vmnl8Ezslrqd"
   },
   "source": [
    "## 2. Load the data"
   ]
  },
  {
   "cell_type": "code",
   "execution_count": 2,
   "metadata": {
    "colab": {},
    "colab_type": "code",
    "id": "aYQHgceIlrqf"
   },
   "outputs": [],
   "source": [
    "#reading the csv file containing data labels\n",
    "data = pd.read_csv('../data/emergency_vehicles/emergency_classification.csv')"
   ]
  },
  {
   "cell_type": "code",
   "execution_count": 3,
   "metadata": {
    "colab": {},
    "colab_type": "code",
    "id": "c-D09gM_lrqn",
    "outputId": "3cad0b64-558a-4bfc-bb72-eeabeab53e39"
   },
   "outputs": [
    {
     "data": {
      "text/html": [
       "<div>\n",
       "<style scoped>\n",
       "    .dataframe tbody tr th:only-of-type {\n",
       "        vertical-align: middle;\n",
       "    }\n",
       "\n",
       "    .dataframe tbody tr th {\n",
       "        vertical-align: top;\n",
       "    }\n",
       "\n",
       "    .dataframe thead th {\n",
       "        text-align: right;\n",
       "    }\n",
       "</style>\n",
       "<table border=\"1\" class=\"dataframe\">\n",
       "  <thead>\n",
       "    <tr style=\"text-align: right;\">\n",
       "      <th></th>\n",
       "      <th>image_names</th>\n",
       "      <th>emergency_or_not</th>\n",
       "    </tr>\n",
       "  </thead>\n",
       "  <tbody>\n",
       "    <tr>\n",
       "      <th>0</th>\n",
       "      <td>0.jpg</td>\n",
       "      <td>1</td>\n",
       "    </tr>\n",
       "    <tr>\n",
       "      <th>1</th>\n",
       "      <td>1.jpg</td>\n",
       "      <td>1</td>\n",
       "    </tr>\n",
       "    <tr>\n",
       "      <th>2</th>\n",
       "      <td>2.jpg</td>\n",
       "      <td>1</td>\n",
       "    </tr>\n",
       "    <tr>\n",
       "      <th>3</th>\n",
       "      <td>3.jpg</td>\n",
       "      <td>1</td>\n",
       "    </tr>\n",
       "    <tr>\n",
       "      <th>4</th>\n",
       "      <td>4.jpg</td>\n",
       "      <td>1</td>\n",
       "    </tr>\n",
       "  </tbody>\n",
       "</table>\n",
       "</div>"
      ],
      "text/plain": [
       "  image_names  emergency_or_not\n",
       "0       0.jpg                 1\n",
       "1       1.jpg                 1\n",
       "2       2.jpg                 1\n",
       "3       3.jpg                 1\n",
       "4       4.jpg                 1"
      ]
     },
     "execution_count": 3,
     "metadata": {},
     "output_type": "execute_result"
    }
   ],
   "source": [
    "data.head()"
   ]
  },
  {
   "cell_type": "code",
   "execution_count": 4,
   "metadata": {
    "colab": {},
    "colab_type": "code",
    "id": "irZc5Uhnlrqu"
   },
   "outputs": [],
   "source": [
    "# create an empty python list\n",
    "X = []\n",
    "\n",
    "# go through all the image locations one by one\n",
    "for img_name in data.image_names:\n",
    "    # read the image from location\n",
    "    img = plt.imread('../data/emergency_vehicles/images_vehicles/' + img_name)\n",
    "    # pile it one over the other\n",
    "    X.append(img)\n",
    "    \n",
    "# convert this python list to a single numpy array\n",
    "X = np.array(X)"
   ]
  },
  {
   "cell_type": "code",
   "execution_count": 5,
   "metadata": {
    "colab": {},
    "colab_type": "code",
    "id": "eKuThONElrq2"
   },
   "outputs": [],
   "source": [
    "#getting the labels for images\n",
    "y = data.emergency_or_not.values"
   ]
  },
  {
   "cell_type": "code",
   "execution_count": 6,
   "metadata": {
    "colab": {},
    "colab_type": "code",
    "id": "soH_wuQilrq8"
   },
   "outputs": [],
   "source": [
    "#converting label to categorical i.e instead of 0/1 labels we have 2 columns emergency and non-emergency ,\n",
    "#with only one of them is true for every image\n",
    "# there are therfore 2 neurons in our output layer.\n",
    "y = to_categorical(y)"
   ]
  },
  {
   "cell_type": "code",
   "execution_count": null,
   "metadata": {
    "colab": {},
    "colab_type": "code",
    "id": "ui-nM4StlrrC"
   },
   "outputs": [],
   "source": []
  },
  {
   "cell_type": "code",
   "execution_count": null,
   "metadata": {
    "colab": {},
    "colab_type": "code",
    "id": "mgSe5VEUlrrJ"
   },
   "outputs": [],
   "source": []
  },
  {
   "cell_type": "markdown",
   "metadata": {
    "colab_type": "text",
    "id": "guRKuMTelrrO"
   },
   "source": [
    "## 3. Pre-Process Data"
   ]
  },
  {
   "cell_type": "markdown",
   "metadata": {
    "colab_type": "text",
    "id": "fx3J83-9lrrP"
   },
   "source": [
    "Steps : \n",
    "1. Pre-process the data as per model's requirement\n",
    "2. Prepare training and validation set"
   ]
  },
  {
   "cell_type": "code",
   "execution_count": 7,
   "metadata": {
    "colab": {},
    "colab_type": "code",
    "id": "jdzmfy4ZlrrR",
    "outputId": "7a173da8-7139-44c9-832e-c7b6b6927257",
    "scrolled": true
   },
   "outputs": [
    {
     "data": {
      "text/plain": [
       "(0, 255)"
      ]
     },
     "execution_count": 7,
     "metadata": {},
     "output_type": "execute_result"
    }
   ],
   "source": [
    "#show maximum and minimum values for the image array\n",
    "X.min(), X.max()"
   ]
  },
  {
   "cell_type": "code",
   "execution_count": 8,
   "metadata": {
    "colab": {},
    "colab_type": "code",
    "id": "fHbdGHTelrrX"
   },
   "outputs": [],
   "source": [
    "#preprocess input images accordiing to requirements of VGG16 model\n",
    "#X = preprocess_input(X, mode='tf') # produces error: TypeError: preprocess_input() got an unexpected keyword argument 'mode'\n",
    "X = preprocess_input(X) "
   ]
  },
  {
   "cell_type": "code",
   "execution_count": 9,
   "metadata": {
    "colab": {},
    "colab_type": "code",
    "id": "UCBB5CFKlrrd",
    "outputId": "7c2faaf4-ca30-4d79-ecf7-079e94b878de"
   },
   "outputs": [
    {
     "data": {
      "text/plain": [
       "(-123.68, 151.061)"
      ]
     },
     "execution_count": 9,
     "metadata": {},
     "output_type": "execute_result"
    }
   ],
   "source": [
    "#print minimum and maximum values present in the array\n",
    "X.min(), X.max()"
   ]
  },
  {
   "cell_type": "code",
   "execution_count": 10,
   "metadata": {
    "colab": {},
    "colab_type": "code",
    "id": "ZCSZe5pYlrrl"
   },
   "outputs": [],
   "source": [
    "# splitting the dataset into training and validation sets\n",
    "X_train, X_valid, y_train, y_valid = train_test_split(X, y, test_size=0.3, random_state=42)"
   ]
  },
  {
   "cell_type": "markdown",
   "metadata": {
    "colab_type": "text",
    "id": "E_Y8th6blrrq"
   },
   "source": [
    "## 4. Load weights of pretrained model"
   ]
  },
  {
   "cell_type": "code",
   "execution_count": 12,
   "metadata": {
    "colab": {},
    "colab_type": "code",
    "id": "XTokrmhRlrrs"
   },
   "outputs": [],
   "source": [
    "# creating model with pre trained imagenet weights\n",
    "base_model = VGG16(weights='imagenet')"
   ]
  },
  {
   "cell_type": "code",
   "execution_count": 13,
   "metadata": {
    "colab": {},
    "colab_type": "code",
    "id": "aBJkY7-Dlrr9",
    "outputId": "278cb09a-32be-43bc-847a-9dcafb6ffe0e"
   },
   "outputs": [
    {
     "name": "stdout",
     "output_type": "stream",
     "text": [
      "Model: \"vgg16\"\n",
      "_________________________________________________________________\n",
      "Layer (type)                 Output Shape              Param #   \n",
      "=================================================================\n",
      "input_2 (InputLayer)         [(None, 224, 224, 3)]     0         \n",
      "_________________________________________________________________\n",
      "block1_conv1 (Conv2D)        (None, 224, 224, 64)      1792      \n",
      "_________________________________________________________________\n",
      "block1_conv2 (Conv2D)        (None, 224, 224, 64)      36928     \n",
      "_________________________________________________________________\n",
      "block1_pool (MaxPooling2D)   (None, 112, 112, 64)      0         \n",
      "_________________________________________________________________\n",
      "block2_conv1 (Conv2D)        (None, 112, 112, 128)     73856     \n",
      "_________________________________________________________________\n",
      "block2_conv2 (Conv2D)        (None, 112, 112, 128)     147584    \n",
      "_________________________________________________________________\n",
      "block2_pool (MaxPooling2D)   (None, 56, 56, 128)       0         \n",
      "_________________________________________________________________\n",
      "block3_conv1 (Conv2D)        (None, 56, 56, 256)       295168    \n",
      "_________________________________________________________________\n",
      "block3_conv2 (Conv2D)        (None, 56, 56, 256)       590080    \n",
      "_________________________________________________________________\n",
      "block3_conv3 (Conv2D)        (None, 56, 56, 256)       590080    \n",
      "_________________________________________________________________\n",
      "block3_pool (MaxPooling2D)   (None, 28, 28, 256)       0         \n",
      "_________________________________________________________________\n",
      "block4_conv1 (Conv2D)        (None, 28, 28, 512)       1180160   \n",
      "_________________________________________________________________\n",
      "block4_conv2 (Conv2D)        (None, 28, 28, 512)       2359808   \n",
      "_________________________________________________________________\n",
      "block4_conv3 (Conv2D)        (None, 28, 28, 512)       2359808   \n",
      "_________________________________________________________________\n",
      "block4_pool (MaxPooling2D)   (None, 14, 14, 512)       0         \n",
      "_________________________________________________________________\n",
      "block5_conv1 (Conv2D)        (None, 14, 14, 512)       2359808   \n",
      "_________________________________________________________________\n",
      "block5_conv2 (Conv2D)        (None, 14, 14, 512)       2359808   \n",
      "_________________________________________________________________\n",
      "block5_conv3 (Conv2D)        (None, 14, 14, 512)       2359808   \n",
      "_________________________________________________________________\n",
      "block5_pool (MaxPooling2D)   (None, 7, 7, 512)         0         \n",
      "_________________________________________________________________\n",
      "flatten (Flatten)            (None, 25088)             0         \n",
      "_________________________________________________________________\n",
      "fc1 (Dense)                  (None, 4096)              102764544 \n",
      "_________________________________________________________________\n",
      "fc2 (Dense)                  (None, 4096)              16781312  \n",
      "_________________________________________________________________\n",
      "predictions (Dense)          (None, 1000)              4097000   \n",
      "=================================================================\n",
      "Total params: 138,357,544\n",
      "Trainable params: 138,357,544\n",
      "Non-trainable params: 0\n",
      "_________________________________________________________________\n"
     ]
    }
   ],
   "source": [
    "#shows model summary\n",
    "base_model.summary()"
   ]
  },
  {
   "cell_type": "markdown",
   "metadata": {},
   "source": [
    "The VGG16 model has 1000 classes.  Our problem as 2.  This needs to be changed."
   ]
  },
  {
   "cell_type": "markdown",
   "metadata": {
    "colab_type": "text",
    "id": "ayq6rleblrsC"
   },
   "source": [
    "<img src=\"images/base_model.png\" alt=\"drawing\" style=\"width:500px;\"/>"
   ]
  },
  {
   "cell_type": "markdown",
   "metadata": {
    "colab_type": "text",
    "id": "2rmLuaPklrsD"
   },
   "source": [
    "<img src=\"images/original_vgg_model_knowledge_layer.png\" alt=\"drawing\" style=\"width:500px;\"/>"
   ]
  },
  {
   "cell_type": "markdown",
   "metadata": {
    "colab_type": "text",
    "id": "rGOKxCHelrsF"
   },
   "source": [
    "<img src=\"images/original_vgg_model_top_layer.png\" alt=\"drawing\" style=\"width:500px;\"/>"
   ]
  },
  {
   "cell_type": "code",
   "execution_count": 14,
   "metadata": {
    "colab": {},
    "colab_type": "code",
    "id": "gAYaxYJvlrsG"
   },
   "outputs": [
    {
     "name": "stdout",
     "output_type": "stream",
     "text": [
      "Downloading data from https://storage.googleapis.com/tensorflow/keras-applications/vgg16/vgg16_weights_tf_dim_ordering_tf_kernels_notop.h5\n",
      "58892288/58889256 [==============================] - 1s 0us/step\n"
     ]
    }
   ],
   "source": [
    "# creating a VGG16 model with imagenet pretrained weights , accepting input of shape (224,224,3)\n",
    "# also remove the final layers from model(include_top= False).  Removes everything after the last convolution layer.\n",
    "base_model = VGG16(weights='imagenet', input_shape=(224, 224, 3), include_top=False)"
   ]
  },
  {
   "cell_type": "code",
   "execution_count": 15,
   "metadata": {
    "colab": {},
    "colab_type": "code",
    "id": "_IvLqsVdlrsK",
    "outputId": "4eed6c28-fc63-4813-f11c-2d87a642efc3"
   },
   "outputs": [
    {
     "name": "stdout",
     "output_type": "stream",
     "text": [
      "Model: \"vgg16\"\n",
      "_________________________________________________________________\n",
      "Layer (type)                 Output Shape              Param #   \n",
      "=================================================================\n",
      "input_3 (InputLayer)         [(None, 224, 224, 3)]     0         \n",
      "_________________________________________________________________\n",
      "block1_conv1 (Conv2D)        (None, 224, 224, 64)      1792      \n",
      "_________________________________________________________________\n",
      "block1_conv2 (Conv2D)        (None, 224, 224, 64)      36928     \n",
      "_________________________________________________________________\n",
      "block1_pool (MaxPooling2D)   (None, 112, 112, 64)      0         \n",
      "_________________________________________________________________\n",
      "block2_conv1 (Conv2D)        (None, 112, 112, 128)     73856     \n",
      "_________________________________________________________________\n",
      "block2_conv2 (Conv2D)        (None, 112, 112, 128)     147584    \n",
      "_________________________________________________________________\n",
      "block2_pool (MaxPooling2D)   (None, 56, 56, 128)       0         \n",
      "_________________________________________________________________\n",
      "block3_conv1 (Conv2D)        (None, 56, 56, 256)       295168    \n",
      "_________________________________________________________________\n",
      "block3_conv2 (Conv2D)        (None, 56, 56, 256)       590080    \n",
      "_________________________________________________________________\n",
      "block3_conv3 (Conv2D)        (None, 56, 56, 256)       590080    \n",
      "_________________________________________________________________\n",
      "block3_pool (MaxPooling2D)   (None, 28, 28, 256)       0         \n",
      "_________________________________________________________________\n",
      "block4_conv1 (Conv2D)        (None, 28, 28, 512)       1180160   \n",
      "_________________________________________________________________\n",
      "block4_conv2 (Conv2D)        (None, 28, 28, 512)       2359808   \n",
      "_________________________________________________________________\n",
      "block4_conv3 (Conv2D)        (None, 28, 28, 512)       2359808   \n",
      "_________________________________________________________________\n",
      "block4_pool (MaxPooling2D)   (None, 14, 14, 512)       0         \n",
      "_________________________________________________________________\n",
      "block5_conv1 (Conv2D)        (None, 14, 14, 512)       2359808   \n",
      "_________________________________________________________________\n",
      "block5_conv2 (Conv2D)        (None, 14, 14, 512)       2359808   \n",
      "_________________________________________________________________\n",
      "block5_conv3 (Conv2D)        (None, 14, 14, 512)       2359808   \n",
      "_________________________________________________________________\n",
      "block5_pool (MaxPooling2D)   (None, 7, 7, 512)         0         \n",
      "=================================================================\n",
      "Total params: 14,714,688\n",
      "Trainable params: 14,714,688\n",
      "Non-trainable params: 0\n",
      "_________________________________________________________________\n"
     ]
    }
   ],
   "source": [
    "# show model summary\n",
    "base_model.summary()"
   ]
  },
  {
   "cell_type": "markdown",
   "metadata": {},
   "source": [
    "The top layer has been removed."
   ]
  },
  {
   "cell_type": "markdown",
   "metadata": {},
   "source": [
    "<img src=\"images/no_top.png\" alt=\"drawing\" style=\"width:500px;\"/>"
   ]
  },
  {
   "cell_type": "markdown",
   "metadata": {
    "colab_type": "text",
    "id": "SvHZ13yjlrsQ"
   },
   "source": [
    "## 5. Fine tune the model for the current problem\n",
    "Steps:-\n",
    "1. Extract features\n",
    "2. Flatten the data\n",
    "3. Rescale features\n",
    "4. Create a Neural Network Model\n",
    "5. Compile the model\n",
    "6. Train and Validate the model"
   ]
  },
  {
   "cell_type": "code",
   "execution_count": 17,
   "metadata": {
    "colab": {},
    "colab_type": "code",
    "id": "GurOAG72lrsQ"
   },
   "outputs": [],
   "source": [
    "# extract features using the pretrained VGG16 model for training set\n",
    "base_model_pred = base_model.predict(X_train)\n",
    "#for validation set\n",
    "base_model_pred_valid = base_model.predict(X_valid)"
   ]
  },
  {
   "cell_type": "code",
   "execution_count": 18,
   "metadata": {
    "colab": {},
    "colab_type": "code",
    "id": "WrXzGgVmlrsU",
    "outputId": "4197f6aa-3b0e-47b9-f0e0-3b9925140d82"
   },
   "outputs": [
    {
     "data": {
      "text/plain": [
       "(1646, 7, 7, 512)"
      ]
     },
     "execution_count": 18,
     "metadata": {},
     "output_type": "execute_result"
    }
   ],
   "source": [
    "#show shape of predictions\n",
    "base_model_pred.shape"
   ]
  },
  {
   "cell_type": "code",
   "execution_count": 20,
   "metadata": {
    "colab": {},
    "colab_type": "code",
    "id": "N0_2meWslrsa"
   },
   "outputs": [],
   "source": [
    "# flattening the model output to one dimension for every sample of training set\n",
    "base_model_pred = base_model_pred.reshape(1646, 7*7*512)"
   ]
  },
  {
   "cell_type": "code",
   "execution_count": 21,
   "metadata": {
    "colab": {},
    "colab_type": "code",
    "id": "Sln6l-d0lrse",
    "outputId": "d05f5710-62f5-40dc-be62-b0a472a2b21d"
   },
   "outputs": [
    {
     "data": {
      "text/plain": [
       "(1646, 25088)"
      ]
     },
     "execution_count": 21,
     "metadata": {},
     "output_type": "execute_result"
    }
   ],
   "source": [
    "base_model_pred.shape"
   ]
  },
  {
   "cell_type": "code",
   "execution_count": 22,
   "metadata": {
    "colab": {},
    "colab_type": "code",
    "id": "Dq-GkBxclrsj",
    "outputId": "224511ad-de1f-41e6-d212-7c0c6d721229"
   },
   "outputs": [
    {
     "data": {
      "text/plain": [
       "(706, 7, 7, 512)"
      ]
     },
     "execution_count": 22,
     "metadata": {},
     "output_type": "execute_result"
    }
   ],
   "source": [
    "base_model_pred_valid.shape"
   ]
  },
  {
   "cell_type": "code",
   "execution_count": 23,
   "metadata": {
    "colab": {},
    "colab_type": "code",
    "id": "LNYjAfSHlrsq"
   },
   "outputs": [],
   "source": [
    "# flattening the model output to one dimension for every sample of validation set\n",
    "base_model_pred_valid = base_model_pred_valid.reshape(706, 7*7*512)"
   ]
  },
  {
   "cell_type": "code",
   "execution_count": 24,
   "metadata": {
    "colab": {},
    "colab_type": "code",
    "id": "GyR-CDHwlrst",
    "outputId": "ab66d5ac-f122-4f0d-ca9a-ea8ac7f690b6"
   },
   "outputs": [
    {
     "data": {
      "text/plain": [
       "(706, 25088)"
      ]
     },
     "execution_count": 24,
     "metadata": {},
     "output_type": "execute_result"
    }
   ],
   "source": [
    "base_model_pred_valid.shape"
   ]
  },
  {
   "cell_type": "code",
   "execution_count": 25,
   "metadata": {
    "colab": {},
    "colab_type": "code",
    "id": "TWoIUd8Plrsz",
    "outputId": "d78c2d1c-7f5f-4816-8b71-2aaa719a325e"
   },
   "outputs": [
    {
     "data": {
      "text/plain": [
       "(0.0, 499.79904)"
      ]
     },
     "execution_count": 25,
     "metadata": {},
     "output_type": "execute_result"
    }
   ],
   "source": [
    "# checking the min and max of the extracted features\n",
    "base_model_pred.min(), base_model_pred.max()"
   ]
  },
  {
   "cell_type": "code",
   "execution_count": 26,
   "metadata": {
    "colab": {},
    "colab_type": "code",
    "id": "brDx1EoIlrs4"
   },
   "outputs": [],
   "source": [
    "#get maximum value from generated features\n",
    "max_val = base_model_pred.max()"
   ]
  },
  {
   "cell_type": "code",
   "execution_count": 27,
   "metadata": {
    "colab": {},
    "colab_type": "code",
    "id": "WaFxDnlnlrs7",
    "outputId": "8aa0f018-0d5e-48f1-cd68-68e3f4c4209e"
   },
   "outputs": [
    {
     "data": {
      "text/plain": [
       "(0.0, 1.0)"
      ]
     },
     "execution_count": 27,
     "metadata": {},
     "output_type": "execute_result"
    }
   ],
   "source": [
    "#normalizing features generated from the VGG16 model to [0,1]\n",
    "base_model_pred = base_model_pred / max_val\n",
    "base_model_pred_valid = base_model_pred_valid / max_val\n",
    "base_model_pred.min(), base_model_pred.max()"
   ]
  },
  {
   "cell_type": "code",
   "execution_count": 28,
   "metadata": {
    "colab": {},
    "colab_type": "code",
    "id": "6k55Jg4Glrs_"
   },
   "outputs": [],
   "source": [
    "#create a sequential model \n",
    "model = Sequential()\n",
    "# add input layer to the model that accepts input of shape 7*7*512\n",
    "model.add(InputLayer((7*7*512, )))\n",
    "# add fully connected layer with 1024 neurons and relu activation\n",
    "model.add(Dense(units=1024, activation='relu'))\n",
    "# add fully connected layer with 2 neurons and relu activation\n",
    "model.add(Dense(units=2, activation='softmax'))"
   ]
  },
  {
   "cell_type": "code",
   "execution_count": 29,
   "metadata": {
    "colab": {},
    "colab_type": "code",
    "id": "3bhwTJLtlrtC"
   },
   "outputs": [],
   "source": [
    "# compile the model\n",
    "model.compile(optimizer='sgd', metrics=['accuracy'], loss='categorical_crossentropy')"
   ]
  },
  {
   "cell_type": "code",
   "execution_count": 30,
   "metadata": {
    "colab": {},
    "colab_type": "code",
    "id": "uTDqD5ZclrtH",
    "outputId": "1aa79c9e-db91-4232-adaf-2f955a539fa5"
   },
   "outputs": [
    {
     "name": "stdout",
     "output_type": "stream",
     "text": [
      "Model: \"sequential\"\n",
      "_________________________________________________________________\n",
      "Layer (type)                 Output Shape              Param #   \n",
      "=================================================================\n",
      "dense (Dense)                (None, 1024)              25691136  \n",
      "_________________________________________________________________\n",
      "dense_1 (Dense)              (None, 2)                 2050      \n",
      "=================================================================\n",
      "Total params: 25,693,186\n",
      "Trainable params: 25,693,186\n",
      "Non-trainable params: 0\n",
      "_________________________________________________________________\n"
     ]
    }
   ],
   "source": [
    "model.summary()"
   ]
  },
  {
   "cell_type": "code",
   "execution_count": 31,
   "metadata": {
    "colab": {},
    "colab_type": "code",
    "id": "r2F82qfxlrtL",
    "outputId": "3cdb1bac-29c2-415f-9e1b-3bf519136aa3",
    "scrolled": true
   },
   "outputs": [
    {
     "name": "stdout",
     "output_type": "stream",
     "text": [
      "Epoch 1/100\n",
      "52/52 [==============================] - 3s 60ms/step - loss: 0.6490 - accuracy: 0.7035 - val_loss: 0.6169 - val_accuracy: 0.7280\n",
      "Epoch 2/100\n",
      "52/52 [==============================] - 3s 52ms/step - loss: 0.5726 - accuracy: 0.7904 - val_loss: 0.5516 - val_accuracy: 0.7989\n",
      "Epoch 3/100\n",
      "52/52 [==============================] - 3s 53ms/step - loss: 0.5053 - accuracy: 0.8360 - val_loss: 0.4912 - val_accuracy: 0.8414\n",
      "Epoch 4/100\n",
      "52/52 [==============================] - 3s 54ms/step - loss: 0.4469 - accuracy: 0.8676 - val_loss: 0.4385 - val_accuracy: 0.8669\n",
      "Epoch 5/100\n",
      "52/52 [==============================] - 3s 54ms/step - loss: 0.3990 - accuracy: 0.8913 - val_loss: 0.3965 - val_accuracy: 0.8711\n",
      "Epoch 6/100\n",
      "52/52 [==============================] - 3s 55ms/step - loss: 0.3601 - accuracy: 0.9034 - val_loss: 0.3627 - val_accuracy: 0.8824\n",
      "Epoch 7/100\n",
      "52/52 [==============================] - 3s 55ms/step - loss: 0.3289 - accuracy: 0.9070 - val_loss: 0.3343 - val_accuracy: 0.9008\n",
      "Epoch 8/100\n",
      "52/52 [==============================] - 3s 53ms/step - loss: 0.3031 - accuracy: 0.9162 - val_loss: 0.3129 - val_accuracy: 0.8994\n",
      "Epoch 9/100\n",
      "52/52 [==============================] - 3s 56ms/step - loss: 0.2817 - accuracy: 0.9204 - val_loss: 0.2945 - val_accuracy: 0.9008\n",
      "Epoch 10/100\n",
      "52/52 [==============================] - 3s 52ms/step - loss: 0.2640 - accuracy: 0.9271 - val_loss: 0.2745 - val_accuracy: 0.9136\n",
      "Epoch 11/100\n",
      "52/52 [==============================] - 3s 53ms/step - loss: 0.2486 - accuracy: 0.9326 - val_loss: 0.2616 - val_accuracy: 0.9150\n",
      "Epoch 12/100\n",
      "52/52 [==============================] - 3s 56ms/step - loss: 0.2355 - accuracy: 0.9356 - val_loss: 0.2506 - val_accuracy: 0.9136\n",
      "Epoch 13/100\n",
      "52/52 [==============================] - 3s 62ms/step - loss: 0.2243 - accuracy: 0.9362 - val_loss: 0.2387 - val_accuracy: 0.9193\n",
      "Epoch 14/100\n",
      "52/52 [==============================] - 3s 57ms/step - loss: 0.2144 - accuracy: 0.9392 - val_loss: 0.2284 - val_accuracy: 0.9249\n",
      "Epoch 15/100\n",
      "52/52 [==============================] - 3s 61ms/step - loss: 0.2053 - accuracy: 0.9423 - val_loss: 0.2222 - val_accuracy: 0.9221\n",
      "Epoch 16/100\n",
      "52/52 [==============================] - 3s 61ms/step - loss: 0.1977 - accuracy: 0.9435 - val_loss: 0.2135 - val_accuracy: 0.9235\n",
      "Epoch 17/100\n",
      "52/52 [==============================] - 3s 60ms/step - loss: 0.1904 - accuracy: 0.9465 - val_loss: 0.2072 - val_accuracy: 0.9249\n",
      "Epoch 18/100\n",
      "52/52 [==============================] - 3s 59ms/step - loss: 0.1838 - accuracy: 0.9484 - val_loss: 0.2006 - val_accuracy: 0.9263\n",
      "Epoch 19/100\n",
      "52/52 [==============================] - 3s 55ms/step - loss: 0.1780 - accuracy: 0.9496 - val_loss: 0.1966 - val_accuracy: 0.9278\n",
      "Epoch 20/100\n",
      "52/52 [==============================] - 3s 55ms/step - loss: 0.1727 - accuracy: 0.9502 - val_loss: 0.1923 - val_accuracy: 0.9306\n",
      "Epoch 21/100\n",
      "52/52 [==============================] - 3s 55ms/step - loss: 0.1676 - accuracy: 0.9520 - val_loss: 0.1869 - val_accuracy: 0.9292\n",
      "Epoch 22/100\n",
      "52/52 [==============================] - 3s 55ms/step - loss: 0.1628 - accuracy: 0.9526 - val_loss: 0.1836 - val_accuracy: 0.9306\n",
      "Epoch 23/100\n",
      "52/52 [==============================] - 3s 55ms/step - loss: 0.1588 - accuracy: 0.9544 - val_loss: 0.1791 - val_accuracy: 0.9363\n",
      "Epoch 24/100\n",
      "52/52 [==============================] - 3s 56ms/step - loss: 0.1546 - accuracy: 0.9544 - val_loss: 0.1762 - val_accuracy: 0.9377\n",
      "Epoch 25/100\n",
      "52/52 [==============================] - 3s 60ms/step - loss: 0.1508 - accuracy: 0.9563 - val_loss: 0.1735 - val_accuracy: 0.9377\n",
      "Epoch 26/100\n",
      "52/52 [==============================] - 3s 59ms/step - loss: 0.1473 - accuracy: 0.9550 - val_loss: 0.1703 - val_accuracy: 0.9377\n",
      "Epoch 27/100\n",
      "52/52 [==============================] - 3s 63ms/step - loss: 0.1440 - accuracy: 0.9575 - val_loss: 0.1679 - val_accuracy: 0.9377\n",
      "Epoch 28/100\n",
      "52/52 [==============================] - 3s 60ms/step - loss: 0.1408 - accuracy: 0.9593 - val_loss: 0.1655 - val_accuracy: 0.9377\n",
      "Epoch 29/100\n",
      "52/52 [==============================] - 3s 58ms/step - loss: 0.1379 - accuracy: 0.9605 - val_loss: 0.1635 - val_accuracy: 0.9377\n",
      "Epoch 30/100\n",
      "52/52 [==============================] - 3s 58ms/step - loss: 0.1350 - accuracy: 0.9599 - val_loss: 0.1615 - val_accuracy: 0.9377\n",
      "Epoch 31/100\n",
      "52/52 [==============================] - 3s 56ms/step - loss: 0.1326 - accuracy: 0.9623 - val_loss: 0.1596 - val_accuracy: 0.9377\n",
      "Epoch 32/100\n",
      "52/52 [==============================] - 3s 58ms/step - loss: 0.1299 - accuracy: 0.9623 - val_loss: 0.1577 - val_accuracy: 0.9391\n",
      "Epoch 33/100\n",
      "52/52 [==============================] - 3s 55ms/step - loss: 0.1273 - accuracy: 0.9642 - val_loss: 0.1561 - val_accuracy: 0.9377\n",
      "Epoch 34/100\n",
      "52/52 [==============================] - 3s 60ms/step - loss: 0.1249 - accuracy: 0.9666 - val_loss: 0.1548 - val_accuracy: 0.9377\n",
      "Epoch 35/100\n",
      "52/52 [==============================] - 3s 57ms/step - loss: 0.1227 - accuracy: 0.9672 - val_loss: 0.1531 - val_accuracy: 0.9391\n",
      "Epoch 36/100\n",
      "52/52 [==============================] - 3s 59ms/step - loss: 0.1204 - accuracy: 0.9684 - val_loss: 0.1519 - val_accuracy: 0.9377\n",
      "Epoch 37/100\n",
      "52/52 [==============================] - 3s 61ms/step - loss: 0.1181 - accuracy: 0.9696 - val_loss: 0.1507 - val_accuracy: 0.9377\n",
      "Epoch 38/100\n",
      "52/52 [==============================] - 3s 58ms/step - loss: 0.1161 - accuracy: 0.9684 - val_loss: 0.1491 - val_accuracy: 0.9391\n",
      "Epoch 39/100\n",
      "52/52 [==============================] - 3s 61ms/step - loss: 0.1141 - accuracy: 0.9702 - val_loss: 0.1484 - val_accuracy: 0.9377\n",
      "Epoch 40/100\n",
      "52/52 [==============================] - 3s 59ms/step - loss: 0.1123 - accuracy: 0.9702 - val_loss: 0.1468 - val_accuracy: 0.9391\n",
      "Epoch 41/100\n",
      "52/52 [==============================] - 3s 57ms/step - loss: 0.1103 - accuracy: 0.9708 - val_loss: 0.1457 - val_accuracy: 0.9391\n",
      "Epoch 42/100\n",
      "52/52 [==============================] - 3s 61ms/step - loss: 0.1086 - accuracy: 0.9727 - val_loss: 0.1447 - val_accuracy: 0.9391\n",
      "Epoch 43/100\n",
      "52/52 [==============================] - 3s 62ms/step - loss: 0.1069 - accuracy: 0.9727 - val_loss: 0.1438 - val_accuracy: 0.9391\n",
      "Epoch 44/100\n",
      "52/52 [==============================] - 4s 72ms/step - loss: 0.1052 - accuracy: 0.9721 - val_loss: 0.1429 - val_accuracy: 0.9391\n",
      "Epoch 45/100\n",
      "52/52 [==============================] - 4s 76ms/step - loss: 0.1034 - accuracy: 0.9733 - val_loss: 0.1420 - val_accuracy: 0.9391\n",
      "Epoch 46/100\n",
      "52/52 [==============================] - 4s 73ms/step - loss: 0.1018 - accuracy: 0.9745 - val_loss: 0.1412 - val_accuracy: 0.9391\n",
      "Epoch 47/100\n",
      "52/52 [==============================] - 4s 73ms/step - loss: 0.1002 - accuracy: 0.9751 - val_loss: 0.1406 - val_accuracy: 0.9377\n",
      "Epoch 48/100\n",
      "52/52 [==============================] - 4s 68ms/step - loss: 0.0986 - accuracy: 0.9757 - val_loss: 0.1399 - val_accuracy: 0.9391\n",
      "Epoch 49/100\n",
      "52/52 [==============================] - 4s 68ms/step - loss: 0.0972 - accuracy: 0.9769 - val_loss: 0.1389 - val_accuracy: 0.9377\n",
      "Epoch 50/100\n",
      "52/52 [==============================] - 4s 68ms/step - loss: 0.0958 - accuracy: 0.9781 - val_loss: 0.1383 - val_accuracy: 0.9405\n",
      "Epoch 51/100\n",
      "52/52 [==============================] - 4s 68ms/step - loss: 0.0943 - accuracy: 0.9793 - val_loss: 0.1381 - val_accuracy: 0.9377\n",
      "Epoch 52/100\n",
      "52/52 [==============================] - 3s 67ms/step - loss: 0.0931 - accuracy: 0.9787 - val_loss: 0.1372 - val_accuracy: 0.9391\n",
      "Epoch 53/100\n",
      "52/52 [==============================] - 4s 68ms/step - loss: 0.0917 - accuracy: 0.9800 - val_loss: 0.1364 - val_accuracy: 0.9405\n",
      "Epoch 54/100\n",
      "52/52 [==============================] - 4s 75ms/step - loss: 0.0901 - accuracy: 0.9800 - val_loss: 0.1358 - val_accuracy: 0.9405\n",
      "Epoch 55/100\n",
      "52/52 [==============================] - 5s 93ms/step - loss: 0.0889 - accuracy: 0.9800 - val_loss: 0.1351 - val_accuracy: 0.9391\n",
      "Epoch 56/100\n",
      "52/52 [==============================] - 5s 94ms/step - loss: 0.0875 - accuracy: 0.9793 - val_loss: 0.1347 - val_accuracy: 0.9391\n",
      "Epoch 57/100\n",
      "52/52 [==============================] - 4s 72ms/step - loss: 0.0865 - accuracy: 0.9812 - val_loss: 0.1344 - val_accuracy: 0.9405\n",
      "Epoch 58/100\n",
      "52/52 [==============================] - 4s 69ms/step - loss: 0.0852 - accuracy: 0.9812 - val_loss: 0.1336 - val_accuracy: 0.9391\n",
      "Epoch 59/100\n",
      "52/52 [==============================] - 3s 66ms/step - loss: 0.0840 - accuracy: 0.9806 - val_loss: 0.1332 - val_accuracy: 0.9405\n",
      "Epoch 60/100\n",
      "52/52 [==============================] - 4s 86ms/step - loss: 0.0828 - accuracy: 0.9812 - val_loss: 0.1326 - val_accuracy: 0.9391\n",
      "Epoch 61/100\n",
      "52/52 [==============================] - 3s 66ms/step - loss: 0.0815 - accuracy: 0.9812 - val_loss: 0.1323 - val_accuracy: 0.9419\n",
      "Epoch 62/100\n",
      "52/52 [==============================] - 4s 82ms/step - loss: 0.0804 - accuracy: 0.9806 - val_loss: 0.1317 - val_accuracy: 0.9391\n",
      "Epoch 63/100\n",
      "52/52 [==============================] - 4s 74ms/step - loss: 0.0791 - accuracy: 0.9824 - val_loss: 0.1314 - val_accuracy: 0.9419\n",
      "Epoch 64/100\n",
      "52/52 [==============================] - 4s 73ms/step - loss: 0.0783 - accuracy: 0.9812 - val_loss: 0.1310 - val_accuracy: 0.9405\n",
      "Epoch 65/100\n",
      "52/52 [==============================] - 4s 71ms/step - loss: 0.0772 - accuracy: 0.9830 - val_loss: 0.1306 - val_accuracy: 0.9419\n",
      "Epoch 66/100\n",
      "52/52 [==============================] - 4s 69ms/step - loss: 0.0762 - accuracy: 0.9830 - val_loss: 0.1302 - val_accuracy: 0.9419\n",
      "Epoch 67/100\n",
      "52/52 [==============================] - 4s 70ms/step - loss: 0.0751 - accuracy: 0.9836 - val_loss: 0.1298 - val_accuracy: 0.9405\n",
      "Epoch 68/100\n",
      "52/52 [==============================] - 4s 72ms/step - loss: 0.0741 - accuracy: 0.9836 - val_loss: 0.1294 - val_accuracy: 0.9405\n",
      "Epoch 69/100\n",
      "52/52 [==============================] - 4s 75ms/step - loss: 0.0732 - accuracy: 0.9842 - val_loss: 0.1291 - val_accuracy: 0.9419\n",
      "Epoch 70/100\n",
      "52/52 [==============================] - 4s 78ms/step - loss: 0.0722 - accuracy: 0.9848 - val_loss: 0.1288 - val_accuracy: 0.9419\n",
      "Epoch 71/100\n",
      "52/52 [==============================] - 4s 75ms/step - loss: 0.0713 - accuracy: 0.9848 - val_loss: 0.1284 - val_accuracy: 0.9419\n",
      "Epoch 72/100\n",
      "52/52 [==============================] - 4s 73ms/step - loss: 0.0704 - accuracy: 0.9854 - val_loss: 0.1282 - val_accuracy: 0.9405\n",
      "Epoch 73/100\n",
      "52/52 [==============================] - 4s 73ms/step - loss: 0.0694 - accuracy: 0.9860 - val_loss: 0.1279 - val_accuracy: 0.9419\n",
      "Epoch 74/100\n",
      "52/52 [==============================] - 4s 73ms/step - loss: 0.0685 - accuracy: 0.9854 - val_loss: 0.1276 - val_accuracy: 0.9405\n",
      "Epoch 75/100\n",
      "52/52 [==============================] - 4s 73ms/step - loss: 0.0677 - accuracy: 0.9866 - val_loss: 0.1272 - val_accuracy: 0.9419\n",
      "Epoch 76/100\n",
      "52/52 [==============================] - 4s 71ms/step - loss: 0.0668 - accuracy: 0.9866 - val_loss: 0.1270 - val_accuracy: 0.9405\n",
      "Epoch 77/100\n",
      "52/52 [==============================] - 4s 74ms/step - loss: 0.0659 - accuracy: 0.9872 - val_loss: 0.1267 - val_accuracy: 0.9405\n",
      "Epoch 78/100\n",
      "52/52 [==============================] - 4s 79ms/step - loss: 0.0651 - accuracy: 0.9872 - val_loss: 0.1265 - val_accuracy: 0.9419\n",
      "Epoch 79/100\n",
      "52/52 [==============================] - 4s 74ms/step - loss: 0.0643 - accuracy: 0.9872 - val_loss: 0.1262 - val_accuracy: 0.9419\n",
      "Epoch 80/100\n",
      "52/52 [==============================] - 5s 97ms/step - loss: 0.0634 - accuracy: 0.9878 - val_loss: 0.1260 - val_accuracy: 0.9405\n",
      "Epoch 81/100\n",
      "52/52 [==============================] - 6s 106ms/step - loss: 0.0626 - accuracy: 0.9885 - val_loss: 0.1257 - val_accuracy: 0.9405\n",
      "Epoch 82/100\n",
      "52/52 [==============================] - 5s 94ms/step - loss: 0.0617 - accuracy: 0.9878 - val_loss: 0.1255 - val_accuracy: 0.9405\n",
      "Epoch 83/100\n",
      "52/52 [==============================] - 6s 114ms/step - loss: 0.0611 - accuracy: 0.9885 - val_loss: 0.1253 - val_accuracy: 0.9405\n",
      "Epoch 84/100\n",
      "52/52 [==============================] - 4s 85ms/step - loss: 0.0604 - accuracy: 0.9891 - val_loss: 0.1251 - val_accuracy: 0.9405\n",
      "Epoch 85/100\n",
      "52/52 [==============================] - 5s 87ms/step - loss: 0.0596 - accuracy: 0.9885 - val_loss: 0.1249 - val_accuracy: 0.9405\n",
      "Epoch 86/100\n",
      "52/52 [==============================] - 4s 86ms/step - loss: 0.0588 - accuracy: 0.9891 - val_loss: 0.1247 - val_accuracy: 0.9419\n",
      "Epoch 87/100\n",
      "52/52 [==============================] - 5s 91ms/step - loss: 0.0581 - accuracy: 0.9891 - val_loss: 0.1245 - val_accuracy: 0.9419\n",
      "Epoch 88/100\n",
      "52/52 [==============================] - 4s 82ms/step - loss: 0.0574 - accuracy: 0.9897 - val_loss: 0.1244 - val_accuracy: 0.9405\n",
      "Epoch 89/100\n",
      "52/52 [==============================] - 5s 88ms/step - loss: 0.0567 - accuracy: 0.9903 - val_loss: 0.1243 - val_accuracy: 0.9433\n",
      "Epoch 90/100\n",
      "52/52 [==============================] - 5s 99ms/step - loss: 0.0560 - accuracy: 0.9891 - val_loss: 0.1241 - val_accuracy: 0.9419\n",
      "Epoch 91/100\n",
      "52/52 [==============================] - 4s 80ms/step - loss: 0.0553 - accuracy: 0.9903 - val_loss: 0.1239 - val_accuracy: 0.9405\n",
      "Epoch 92/100\n",
      "52/52 [==============================] - 5s 92ms/step - loss: 0.0547 - accuracy: 0.9903 - val_loss: 0.1238 - val_accuracy: 0.9419\n",
      "Epoch 93/100\n",
      "52/52 [==============================] - 4s 82ms/step - loss: 0.0541 - accuracy: 0.9909 - val_loss: 0.1236 - val_accuracy: 0.9419\n",
      "Epoch 94/100\n",
      "52/52 [==============================] - 4s 81ms/step - loss: 0.0534 - accuracy: 0.9909 - val_loss: 0.1234 - val_accuracy: 0.9433\n",
      "Epoch 95/100\n",
      "52/52 [==============================] - 4s 80ms/step - loss: 0.0528 - accuracy: 0.9909 - val_loss: 0.1232 - val_accuracy: 0.9433\n",
      "Epoch 96/100\n",
      "52/52 [==============================] - 4s 82ms/step - loss: 0.0521 - accuracy: 0.9909 - val_loss: 0.1231 - val_accuracy: 0.9433\n",
      "Epoch 97/100\n",
      "52/52 [==============================] - 4s 79ms/step - loss: 0.0514 - accuracy: 0.9897 - val_loss: 0.1234 - val_accuracy: 0.9419\n",
      "Epoch 98/100\n",
      "52/52 [==============================] - 4s 81ms/step - loss: 0.0509 - accuracy: 0.9915 - val_loss: 0.1230 - val_accuracy: 0.9448\n",
      "Epoch 99/100\n",
      "52/52 [==============================] - 4s 81ms/step - loss: 0.0503 - accuracy: 0.9915 - val_loss: 0.1229 - val_accuracy: 0.9433\n",
      "Epoch 100/100\n",
      "52/52 [==============================] - 4s 82ms/step - loss: 0.0498 - accuracy: 0.9915 - val_loss: 0.1227 - val_accuracy: 0.9448\n"
     ]
    },
    {
     "data": {
      "text/plain": [
       "<tensorflow.python.keras.callbacks.History at 0x23678370eb0>"
      ]
     },
     "execution_count": 31,
     "metadata": {},
     "output_type": "execute_result"
    }
   ],
   "source": [
    "# train model using features generated from VGG16 model\n",
    "model.fit(base_model_pred, y_train, epochs=100, validation_data=(base_model_pred_valid, y_valid))"
   ]
  },
  {
   "cell_type": "markdown",
   "metadata": {
    "colab_type": "text",
    "id": "oVGLtjcUlrtO"
   },
   "source": [
    "## 6. Get Predictions"
   ]
  },
  {
   "cell_type": "code",
   "execution_count": 32,
   "metadata": {
    "colab": {},
    "colab_type": "code",
    "id": "PX8LimgYlrtP",
    "outputId": "b08856c1-e549-48ed-f20b-0fcca2d4ba5a"
   },
   "outputs": [
    {
     "name": "stdout",
     "output_type": "stream",
     "text": [
      "WARNING:tensorflow:From <ipython-input-32-42785c1aea26>:2: Sequential.predict_classes (from tensorflow.python.keras.engine.sequential) is deprecated and will be removed after 2021-01-01.\n",
      "Instructions for updating:\n",
      "Please use instead:* `np.argmax(model.predict(x), axis=-1)`,   if your model does multi-class classification   (e.g. if it uses a `softmax` last-layer activation).* `(model.predict(x) > 0.5).astype(\"int32\")`,   if your model does binary classification   (e.g. if it uses a `sigmoid` last-layer activation).\n"
     ]
    },
    {
     "data": {
      "text/plain": [
       "array([0, 1, 0, 1, 0, 1, 0, 1, 0, 0, 0, 0, 0, 0, 0, 1, 0, 1, 1, 1, 1, 0,\n",
       "       0, 0, 0, 0, 1, 0, 0, 0, 1, 0, 1, 0, 0, 0, 1, 1, 0, 0, 1, 1, 0, 0,\n",
       "       1, 0, 0, 0, 0, 0, 1, 1, 0, 0, 1, 0, 1, 1, 0, 0, 1, 1, 0, 0, 1, 0,\n",
       "       1, 1, 1, 0, 0, 0, 1, 0, 0, 0, 0, 1, 1, 1, 0, 1, 1, 1, 0, 0, 1, 1,\n",
       "       1, 1, 0, 0, 0, 1, 0, 1, 1, 0, 0, 1, 1, 0, 0, 0, 1, 1, 1, 0, 0, 0,\n",
       "       0, 1, 0, 0, 0, 0, 1, 1, 1, 0, 1, 0, 0, 0, 0, 0, 1, 0, 0, 1, 1, 1,\n",
       "       1, 0, 0, 1, 1, 1, 0, 1, 0, 1, 0, 1, 0, 1, 1, 1, 0, 1, 0, 0, 1, 0,\n",
       "       1, 0, 0, 1, 1, 0, 0, 0, 1, 1, 1, 1, 0, 0, 0, 0, 0, 0, 0, 0, 0, 1,\n",
       "       0, 0, 1, 0, 1, 0, 0, 1, 0, 0, 0, 0, 1, 1, 1, 0, 1, 1, 1, 0, 1, 0,\n",
       "       0, 0, 0, 0, 0, 0, 0, 0, 0, 0, 0, 1, 1, 1, 1, 0, 1, 1, 1, 0, 1, 0,\n",
       "       1, 0, 0, 0, 0, 1, 1, 0, 0, 1, 1, 0, 0, 0, 0, 0, 1, 1, 0, 1, 0, 1,\n",
       "       0, 0, 0, 1, 0, 0, 0, 0, 1, 1, 1, 0, 0, 1, 0, 0, 1, 0, 1, 0, 0, 0,\n",
       "       0, 1, 1, 0, 1, 1, 0, 0, 1, 1, 0, 1, 0, 0, 0, 0, 0, 0, 0, 1, 0, 1,\n",
       "       0, 0, 0, 1, 0, 0, 1, 0, 1, 1, 0, 1, 1, 1, 1, 1, 1, 0, 0, 0, 1, 0,\n",
       "       0, 0, 1, 1, 0, 0, 0, 0, 0, 1, 1, 0, 0, 1, 1, 1, 1, 0, 0, 0, 1, 1,\n",
       "       1, 1, 0, 0, 1, 1, 0, 0, 0, 0, 0, 1, 0, 1, 1, 0, 1, 1, 0, 1, 1, 1,\n",
       "       1, 0, 0, 1, 0, 0, 1, 0, 1, 1, 0, 1, 0, 1, 0, 1, 0, 1, 0, 0, 0, 1,\n",
       "       1, 0, 0, 0, 0, 1, 0, 1, 0, 1, 1, 0, 1, 0, 0, 1, 0, 0, 1, 1, 1, 0,\n",
       "       0, 1, 0, 0, 0, 1, 0, 1, 1, 0, 1, 0, 0, 0, 1, 1, 0, 1, 0, 1, 1, 1,\n",
       "       1, 1, 0, 0, 0, 1, 1, 0, 1, 1, 0, 0, 1, 1, 0, 0, 0, 1, 0, 1, 1, 0,\n",
       "       1, 0, 1, 0, 1, 0, 0, 1, 0, 0, 0, 0, 0, 1, 1, 1, 1, 1, 0, 1, 0, 0,\n",
       "       0, 0, 1, 1, 0, 1, 1, 0, 0, 1, 1, 1, 1, 1, 0, 1, 1, 0, 0, 1, 0, 0,\n",
       "       0, 1, 0, 1, 0, 1, 0, 1, 1, 0, 0, 1, 0, 0, 1, 0, 1, 1, 0, 1, 0, 0,\n",
       "       0, 0, 1, 0, 0, 1, 1, 0, 0, 1, 1, 1, 0, 0, 0, 0, 1, 0, 1, 1, 1, 1,\n",
       "       0, 0, 1, 1, 0, 0, 0, 0, 1, 1, 0, 1, 1, 0, 0, 0, 1, 1, 1, 0, 1, 1,\n",
       "       0, 0, 0, 0, 0, 0, 1, 0, 1, 0, 0, 1, 1, 0, 1, 1, 0, 1, 0, 0, 0, 0,\n",
       "       1, 0, 0, 1, 1, 0, 0, 1, 0, 1, 1, 1, 0, 0, 0, 0, 0, 0, 1, 0, 1, 0,\n",
       "       0, 0, 0, 1, 1, 0, 0, 1, 0, 0, 0, 0, 0, 1, 0, 1, 1, 0, 1, 1, 1, 0,\n",
       "       0, 1, 1, 0, 1, 0, 0, 0, 0, 1, 1, 0, 1, 0, 0, 0, 1, 0, 0, 0, 1, 1,\n",
       "       1, 0, 1, 0, 1, 0, 0, 0, 1, 1, 1, 1, 0, 0, 0, 1, 1, 1, 0, 1, 0, 0,\n",
       "       1, 0, 1, 0, 1, 1, 0, 1, 1, 0, 1, 1, 1, 0, 0, 1, 1, 0, 0, 0, 0, 1,\n",
       "       1, 0, 0, 0, 1, 1, 1, 0, 1, 0, 1, 1, 0, 0, 1, 0, 0, 0, 0, 1, 0, 1,\n",
       "       0, 0], dtype=int64)"
      ]
     },
     "execution_count": 32,
     "metadata": {},
     "output_type": "execute_result"
    }
   ],
   "source": [
    "# get predictions\n",
    "predictions = model.predict_classes(base_model_pred_valid)\n",
    "#show predictions\n",
    "predictions"
   ]
  },
  {
   "cell_type": "markdown",
   "metadata": {
    "colab_type": "text",
    "id": "FvIuV0ielrtV"
   },
   "source": [
    "## Summary of the video\n",
    "\n",
    "1. <font color='blue'>Import neccessary libraries\n",
    "2. Load the data</font>\n",
    "3. <font color='#999900'>Preprocess the data</font>\n",
    "4. <font color='red'>Load weights of pre-trained model\n",
    "5. Fine tune the model for the current problem</font>\n",
    "6. <font color='blue'>Get predictions</font>"
   ]
  },
  {
   "cell_type": "markdown",
   "metadata": {
    "colab": {},
    "colab_type": "code",
    "id": "h9Jo-mCllrtY"
   },
   "source": [
    "<img src=\"images/fine_tune1.png\" alt=\"drawing\" style=\"width:500px;\"/>"
   ]
  },
  {
   "cell_type": "markdown",
   "metadata": {},
   "source": [
    "Keep all the features of the base model but change the top layers - the ones at the end - to fit the specific problem needs."
   ]
  },
  {
   "cell_type": "markdown",
   "metadata": {},
   "source": [
    "<img src=\"images/fine_tune2.png\" alt=\"drawing\" style=\"width:500px;\"/>"
   ]
  },
  {
   "cell_type": "markdown",
   "metadata": {},
   "source": [
    "<img src=\"images/fine_tune3.png\" alt=\"drawing\" style=\"width:500px;\"/>"
   ]
  },
  {
   "cell_type": "markdown",
   "metadata": {},
   "source": [
    "See the other Python Notebooks for option 2 and 3."
   ]
  },
  {
   "cell_type": "code",
   "execution_count": null,
   "metadata": {},
   "outputs": [],
   "source": []
  }
 ],
 "metadata": {
  "colab": {
   "name": "Transfer Learning.ipynb",
   "provenance": []
  },
  "kernelspec": {
   "display_name": "deep",
   "language": "python",
   "name": "deep"
  },
  "language_info": {
   "codemirror_mode": {
    "name": "ipython",
    "version": 3
   },
   "file_extension": ".py",
   "mimetype": "text/x-python",
   "name": "python",
   "nbconvert_exporter": "python",
   "pygments_lexer": "ipython3",
   "version": "3.8.8"
  }
 },
 "nbformat": 4,
 "nbformat_minor": 4
}
