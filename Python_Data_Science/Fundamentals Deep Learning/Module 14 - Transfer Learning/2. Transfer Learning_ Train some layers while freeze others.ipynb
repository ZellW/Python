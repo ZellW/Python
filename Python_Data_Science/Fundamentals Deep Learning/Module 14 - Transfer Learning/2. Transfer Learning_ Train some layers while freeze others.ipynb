{
 "cells": [
  {
   "cell_type": "code",
   "execution_count": 1,
   "metadata": {
    "colab": {
     "base_uri": "https://localhost:8080/",
     "height": 34
    },
    "colab_type": "code",
    "executionInfo": {
     "elapsed": 2224,
     "status": "ok",
     "timestamp": 1585495515060,
     "user": {
      "displayName": "Kunal Jain",
      "photoUrl": "https://lh3.googleusercontent.com/a-/AOh14Gj8uFXsTztz2Vz_L7PZ5ivcwzWjdaeAgHeFIuX8Ag5zm5OIFd9Wq3SqneoxBAKQuaY0HPYO4wHl1T5QIysK6qoRjo4sUyFjDSHB6W0BY-R7oklwQtaZGwEWXIZkloELjMGNOxip-sCwTex7TSHfgtn70gdouaGgO-1MoonLU4O7KPbAPRBysGQsmvOvsWsH7WPBJxknY378nNUea18HsUINC_HE_3LkQ04BpdyarwpVlJcxQaWDGfztJwTal22gHvd--TWBbs8oR8DyFDlQUkBM5CT_EJshfYf2lZ_cv6R5dTFofwJZRKbT_0X7aJ5AOtlltMKsWwSBuIA9SiFZ0sZMWQ8BKYqaguDa_8_ljTNVSKfUXHADZkGrwIr9saYy0gEgiVUWC-sBN1XgvWT4C4oKYOlNr7RO5P1YLwLLuUT3CxjO95njQSUFf5yITkdTDTHgPv2PWu9ZjEUDLcmPUnkdsD3JcoPbj29Oa-zcDZvQwiIGUlifChLCLx5x54qpt73HAVZdFH6vJGMVIAUZyx1K-Ip7fNDiDrsrgyq-maJ0FLV7TCaX2VPqSHYZ6AZHvyWZbBBNZV2oVZ2-odc872ha_Ekgg8izBn0eQ4Qp1kY9ZiLnMl4itNvwPNlCkaP2JIBwnxJn6kMObsieZ9GcnqKqrBjFlR5TuLssRCjqDSpbjGbSBfs197Pij8kjG-abPJUI7qvoEqZtWwmlOkXWV_Rs8Q4xEaQ0GUYWh2yHcyNGbOezCqkkKp0S7PcxWfSSw6KVcg=s64",
      "userId": "08522938991278351783"
     },
     "user_tz": -330
    },
    "id": "k_zZkCi8LTjW",
    "outputId": "773498e1-a96f-404b-fa73-dd7e882c4260"
   },
   "outputs": [
    {
     "name": "stdout",
     "output_type": "stream",
     "text": [
      "TensorFlow 1.x selected.\n"
     ]
    }
   ],
   "source": [
    "#%tensorflow_version 1.x"
   ]
  },
  {
   "cell_type": "markdown",
   "metadata": {
    "colab_type": "text",
    "id": "iMnQo7P_7LWr"
   },
   "source": [
    "## Transfer Learning: Train some layers while freeze others\n",
    "\n",
    "1. Import necessary libraries\n",
    "2. Load the data\n",
    "3. Pre-Process the data\n",
    "4. Load weights of pretrained model and freeze few layers\n",
    "5. Train the model\n",
    "6. Get predictions"
   ]
  },
  {
   "cell_type": "markdown",
   "metadata": {
    "colab_type": "text",
    "id": "GhKQy59w7LXQ"
   },
   "source": [
    "## 1. Import neccessary libraries"
   ]
  },
  {
   "cell_type": "markdown",
   "metadata": {
    "colab_type": "text",
    "id": "A-aLz3kd7LXU"
   },
   "source": [
    "Here we will import the required libraries and functions."
   ]
  },
  {
   "cell_type": "code",
   "execution_count": 8,
   "metadata": {
    "colab": {
     "base_uri": "https://localhost:8080/",
     "height": 34
    },
    "colab_type": "code",
    "executionInfo": {
     "elapsed": 8852,
     "status": "ok",
     "timestamp": 1585495580082,
     "user": {
      "displayName": "Kunal Jain",
      "photoUrl": "https://lh3.googleusercontent.com/a-/AOh14Gj8uFXsTztz2Vz_L7PZ5ivcwzWjdaeAgHeFIuX8Ag5zm5OIFd9Wq3SqneoxBAKQuaY0HPYO4wHl1T5QIysK6qoRjo4sUyFjDSHB6W0BY-R7oklwQtaZGwEWXIZkloELjMGNOxip-sCwTex7TSHfgtn70gdouaGgO-1MoonLU4O7KPbAPRBysGQsmvOvsWsH7WPBJxknY378nNUea18HsUINC_HE_3LkQ04BpdyarwpVlJcxQaWDGfztJwTal22gHvd--TWBbs8oR8DyFDlQUkBM5CT_EJshfYf2lZ_cv6R5dTFofwJZRKbT_0X7aJ5AOtlltMKsWwSBuIA9SiFZ0sZMWQ8BKYqaguDa_8_ljTNVSKfUXHADZkGrwIr9saYy0gEgiVUWC-sBN1XgvWT4C4oKYOlNr7RO5P1YLwLLuUT3CxjO95njQSUFf5yITkdTDTHgPv2PWu9ZjEUDLcmPUnkdsD3JcoPbj29Oa-zcDZvQwiIGUlifChLCLx5x54qpt73HAVZdFH6vJGMVIAUZyx1K-Ip7fNDiDrsrgyq-maJ0FLV7TCaX2VPqSHYZ6AZHvyWZbBBNZV2oVZ2-odc872ha_Ekgg8izBn0eQ4Qp1kY9ZiLnMl4itNvwPNlCkaP2JIBwnxJn6kMObsieZ9GcnqKqrBjFlR5TuLssRCjqDSpbjGbSBfs197Pij8kjG-abPJUI7qvoEqZtWwmlOkXWV_Rs8Q4xEaQ0GUYWh2yHcyNGbOezCqkkKp0S7PcxWfSSw6KVcg=s64",
      "userId": "08522938991278351783"
     },
     "user_tz": -330
    },
    "id": "wqvacIQ37LXY",
    "outputId": "52ce3975-57a5-43f6-c099-d2ba0a2d90ff"
   },
   "outputs": [],
   "source": [
    "# import necessary libraries for plotting images\n",
    "import numpy as np\n",
    "import matplotlib.pyplot as plt\n",
    "# plot in jupyter notebook itself\n",
    "%matplotlib inline\n",
    "from glob import glob\n",
    "import pandas as pd\n",
    "from sklearn.model_selection import train_test_split\n",
    "from sklearn.metrics import accuracy_score\n",
    "\n",
    "from keras.models import Model\n",
    "from keras.utils import to_categorical\n",
    "#used to preprocess data according to VGG16\n",
    "from keras.applications.vgg16 import preprocess_input\n",
    "#for instantiating the model and loading the weights and biases\n",
    "from keras.applications.vgg16 import VGG16\n",
    "from keras.models import Sequential\n",
    "from keras.layers import Dense, InputLayer\n",
    "\n",
    "import tensorflow as tf"
   ]
  },
  {
   "cell_type": "markdown",
   "metadata": {
    "colab_type": "text",
    "id": "a3Bk_xGH7LXm"
   },
   "source": [
    "## 2. Load the data"
   ]
  },
  {
   "cell_type": "code",
   "execution_count": 3,
   "metadata": {
    "colab": {
     "base_uri": "https://localhost:8080/",
     "height": 122
    },
    "colab_type": "code",
    "executionInfo": {
     "elapsed": 28355,
     "status": "ok",
     "timestamp": 1585495610715,
     "user": {
      "displayName": "Kunal Jain",
      "photoUrl": "https://lh3.googleusercontent.com/a-/AOh14Gj8uFXsTztz2Vz_L7PZ5ivcwzWjdaeAgHeFIuX8Ag5zm5OIFd9Wq3SqneoxBAKQuaY0HPYO4wHl1T5QIysK6qoRjo4sUyFjDSHB6W0BY-R7oklwQtaZGwEWXIZkloELjMGNOxip-sCwTex7TSHfgtn70gdouaGgO-1MoonLU4O7KPbAPRBysGQsmvOvsWsH7WPBJxknY378nNUea18HsUINC_HE_3LkQ04BpdyarwpVlJcxQaWDGfztJwTal22gHvd--TWBbs8oR8DyFDlQUkBM5CT_EJshfYf2lZ_cv6R5dTFofwJZRKbT_0X7aJ5AOtlltMKsWwSBuIA9SiFZ0sZMWQ8BKYqaguDa_8_ljTNVSKfUXHADZkGrwIr9saYy0gEgiVUWC-sBN1XgvWT4C4oKYOlNr7RO5P1YLwLLuUT3CxjO95njQSUFf5yITkdTDTHgPv2PWu9ZjEUDLcmPUnkdsD3JcoPbj29Oa-zcDZvQwiIGUlifChLCLx5x54qpt73HAVZdFH6vJGMVIAUZyx1K-Ip7fNDiDrsrgyq-maJ0FLV7TCaX2VPqSHYZ6AZHvyWZbBBNZV2oVZ2-odc872ha_Ekgg8izBn0eQ4Qp1kY9ZiLnMl4itNvwPNlCkaP2JIBwnxJn6kMObsieZ9GcnqKqrBjFlR5TuLssRCjqDSpbjGbSBfs197Pij8kjG-abPJUI7qvoEqZtWwmlOkXWV_Rs8Q4xEaQ0GUYWh2yHcyNGbOezCqkkKp0S7PcxWfSSw6KVcg=s64",
      "userId": "08522938991278351783"
     },
     "user_tz": -330
    },
    "id": "x_VY_HZ5hm-z",
    "outputId": "0c430666-035b-4380-8d72-039edd829f44"
   },
   "outputs": [],
   "source": [
    "# from google.colab import drive\n",
    "# drive.mount('/content/drive')"
   ]
  },
  {
   "cell_type": "code",
   "execution_count": 1,
   "metadata": {
    "colab": {
     "base_uri": "https://localhost:8080/",
     "height": 1000
    },
    "colab_type": "code",
    "executionInfo": {
     "elapsed": 4651,
     "status": "ok",
     "timestamp": 1585495619867,
     "user": {
      "displayName": "Kunal Jain",
      "photoUrl": "https://lh3.googleusercontent.com/a-/AOh14Gj8uFXsTztz2Vz_L7PZ5ivcwzWjdaeAgHeFIuX8Ag5zm5OIFd9Wq3SqneoxBAKQuaY0HPYO4wHl1T5QIysK6qoRjo4sUyFjDSHB6W0BY-R7oklwQtaZGwEWXIZkloELjMGNOxip-sCwTex7TSHfgtn70gdouaGgO-1MoonLU4O7KPbAPRBysGQsmvOvsWsH7WPBJxknY378nNUea18HsUINC_HE_3LkQ04BpdyarwpVlJcxQaWDGfztJwTal22gHvd--TWBbs8oR8DyFDlQUkBM5CT_EJshfYf2lZ_cv6R5dTFofwJZRKbT_0X7aJ5AOtlltMKsWwSBuIA9SiFZ0sZMWQ8BKYqaguDa_8_ljTNVSKfUXHADZkGrwIr9saYy0gEgiVUWC-sBN1XgvWT4C4oKYOlNr7RO5P1YLwLLuUT3CxjO95njQSUFf5yITkdTDTHgPv2PWu9ZjEUDLcmPUnkdsD3JcoPbj29Oa-zcDZvQwiIGUlifChLCLx5x54qpt73HAVZdFH6vJGMVIAUZyx1K-Ip7fNDiDrsrgyq-maJ0FLV7TCaX2VPqSHYZ6AZHvyWZbBBNZV2oVZ2-odc872ha_Ekgg8izBn0eQ4Qp1kY9ZiLnMl4itNvwPNlCkaP2JIBwnxJn6kMObsieZ9GcnqKqrBjFlR5TuLssRCjqDSpbjGbSBfs197Pij8kjG-abPJUI7qvoEqZtWwmlOkXWV_Rs8Q4xEaQ0GUYWh2yHcyNGbOezCqkkKp0S7PcxWfSSw6KVcg=s64",
      "userId": "08522938991278351783"
     },
     "user_tz": -330
    },
    "id": "1bb6wmB1hmvk",
    "outputId": "0bd4d923-34b3-42c1-eaee-8453629e165c"
   },
   "outputs": [],
   "source": [
    "# unzipping the Dataset.zip file\n",
    "# !unzip /content/drive/My\\ Drive/Dataset.zip"
   ]
  },
  {
   "cell_type": "code",
   "execution_count": 4,
   "metadata": {
    "colab": {},
    "colab_type": "code",
    "id": "bBoa3LGa7LXq"
   },
   "outputs": [],
   "source": [
    "#reading the csv file containing data labels\n",
    "data = pd.read_csv('../data/emergency_vehicles/emergency_classification.csv')"
   ]
  },
  {
   "cell_type": "code",
   "execution_count": 5,
   "metadata": {
    "colab": {},
    "colab_type": "code",
    "id": "IniNNq067LYF"
   },
   "outputs": [],
   "source": [
    "# create an empty python list\n",
    "X = []\n",
    "\n",
    "# go through all the image locations one by one\n",
    "for img_name in data.image_names:\n",
    "    # read the image from location\n",
    "    img = plt.imread('../data/emergency_vehicles/images_vehicles/' + img_name)\n",
    "    # pile it one over the other\n",
    "    X.append(img)\n",
    "    \n",
    "# convert this python list to a single numpy array\n",
    "X = np.array(X)"
   ]
  },
  {
   "cell_type": "code",
   "execution_count": 6,
   "metadata": {
    "colab": {},
    "colab_type": "code",
    "id": "3Vvni78T7LYP"
   },
   "outputs": [],
   "source": [
    "#getting the labels for images\n",
    "y = data.emergency_or_not.values"
   ]
  },
  {
   "cell_type": "markdown",
   "metadata": {
    "colab_type": "text",
    "id": "uf5qmAzL7LY8"
   },
   "source": [
    "## 3. Pre-Process the data"
   ]
  },
  {
   "cell_type": "markdown",
   "metadata": {
    "colab_type": "text",
    "id": "XVsVf1nq7LZA"
   },
   "source": [
    "Steps : \n",
    "1. Pre-process the data as per model's requirement\n",
    "2. Prepare training and validation set"
   ]
  },
  {
   "cell_type": "code",
   "execution_count": 9,
   "metadata": {
    "colab": {},
    "colab_type": "code",
    "id": "r_5xd5KU7LZR"
   },
   "outputs": [],
   "source": [
    "#preprocess input images accordiing to requirements of VGG16 model\n",
    "# X = preprocess_input(X, mode='tf')\n",
    "X = tf.keras.applications.imagenet_utils.preprocess_input(X, mode='tf') #tf scales data -1 to 1"
   ]
  },
  {
   "cell_type": "code",
   "execution_count": 10,
   "metadata": {
    "colab": {},
    "colab_type": "code",
    "id": "FMh45iEDEbfk"
   },
   "outputs": [],
   "source": [
    "#converting label to categorical i.e instead of 0/1 labels we have 2 columns emergency and non-emergency\n",
    "# with only one of them is true for every image\n",
    "y = to_categorical(y)"
   ]
  },
  {
   "cell_type": "code",
   "execution_count": 11,
   "metadata": {
    "colab": {},
    "colab_type": "code",
    "id": "FsCCm9bc7LZm"
   },
   "outputs": [],
   "source": [
    "# splitting the dataset into training and validation sets\n",
    "X_train, X_valid, y_train, y_valid = train_test_split(X, y, test_size=0.3, random_state=42)"
   ]
  },
  {
   "cell_type": "markdown",
   "metadata": {
    "colab_type": "text",
    "id": "4DMgEvEB7LZx"
   },
   "source": [
    "## 4. Load weights of pretrained model and freeze few layers"
   ]
  },
  {
   "cell_type": "code",
   "execution_count": 12,
   "metadata": {
    "colab": {
     "base_uri": "https://localhost:8080/",
     "height": 411
    },
    "colab_type": "code",
    "executionInfo": {
     "elapsed": 14665,
     "status": "ok",
     "timestamp": 1585495692128,
     "user": {
      "displayName": "Kunal Jain",
      "photoUrl": "https://lh3.googleusercontent.com/a-/AOh14Gj8uFXsTztz2Vz_L7PZ5ivcwzWjdaeAgHeFIuX8Ag5zm5OIFd9Wq3SqneoxBAKQuaY0HPYO4wHl1T5QIysK6qoRjo4sUyFjDSHB6W0BY-R7oklwQtaZGwEWXIZkloELjMGNOxip-sCwTex7TSHfgtn70gdouaGgO-1MoonLU4O7KPbAPRBysGQsmvOvsWsH7WPBJxknY378nNUea18HsUINC_HE_3LkQ04BpdyarwpVlJcxQaWDGfztJwTal22gHvd--TWBbs8oR8DyFDlQUkBM5CT_EJshfYf2lZ_cv6R5dTFofwJZRKbT_0X7aJ5AOtlltMKsWwSBuIA9SiFZ0sZMWQ8BKYqaguDa_8_ljTNVSKfUXHADZkGrwIr9saYy0gEgiVUWC-sBN1XgvWT4C4oKYOlNr7RO5P1YLwLLuUT3CxjO95njQSUFf5yITkdTDTHgPv2PWu9ZjEUDLcmPUnkdsD3JcoPbj29Oa-zcDZvQwiIGUlifChLCLx5x54qpt73HAVZdFH6vJGMVIAUZyx1K-Ip7fNDiDrsrgyq-maJ0FLV7TCaX2VPqSHYZ6AZHvyWZbBBNZV2oVZ2-odc872ha_Ekgg8izBn0eQ4Qp1kY9ZiLnMl4itNvwPNlCkaP2JIBwnxJn6kMObsieZ9GcnqKqrBjFlR5TuLssRCjqDSpbjGbSBfs197Pij8kjG-abPJUI7qvoEqZtWwmlOkXWV_Rs8Q4xEaQ0GUYWh2yHcyNGbOezCqkkKp0S7PcxWfSSw6KVcg=s64",
      "userId": "08522938991278351783"
     },
     "user_tz": -330
    },
    "id": "LO8o8o59riLT",
    "outputId": "341efa57-2485-402f-d481-919c44235010"
   },
   "outputs": [],
   "source": [
    "base_model = VGG16(weights='imagenet')"
   ]
  },
  {
   "cell_type": "code",
   "execution_count": 12,
   "metadata": {
    "colab": {
     "base_uri": "https://localhost:8080/",
     "height": 935
    },
    "colab_type": "code",
    "executionInfo": {
     "elapsed": 1082,
     "status": "ok",
     "timestamp": 1585495696122,
     "user": {
      "displayName": "Kunal Jain",
      "photoUrl": "https://lh3.googleusercontent.com/a-/AOh14Gj8uFXsTztz2Vz_L7PZ5ivcwzWjdaeAgHeFIuX8Ag5zm5OIFd9Wq3SqneoxBAKQuaY0HPYO4wHl1T5QIysK6qoRjo4sUyFjDSHB6W0BY-R7oklwQtaZGwEWXIZkloELjMGNOxip-sCwTex7TSHfgtn70gdouaGgO-1MoonLU4O7KPbAPRBysGQsmvOvsWsH7WPBJxknY378nNUea18HsUINC_HE_3LkQ04BpdyarwpVlJcxQaWDGfztJwTal22gHvd--TWBbs8oR8DyFDlQUkBM5CT_EJshfYf2lZ_cv6R5dTFofwJZRKbT_0X7aJ5AOtlltMKsWwSBuIA9SiFZ0sZMWQ8BKYqaguDa_8_ljTNVSKfUXHADZkGrwIr9saYy0gEgiVUWC-sBN1XgvWT4C4oKYOlNr7RO5P1YLwLLuUT3CxjO95njQSUFf5yITkdTDTHgPv2PWu9ZjEUDLcmPUnkdsD3JcoPbj29Oa-zcDZvQwiIGUlifChLCLx5x54qpt73HAVZdFH6vJGMVIAUZyx1K-Ip7fNDiDrsrgyq-maJ0FLV7TCaX2VPqSHYZ6AZHvyWZbBBNZV2oVZ2-odc872ha_Ekgg8izBn0eQ4Qp1kY9ZiLnMl4itNvwPNlCkaP2JIBwnxJn6kMObsieZ9GcnqKqrBjFlR5TuLssRCjqDSpbjGbSBfs197Pij8kjG-abPJUI7qvoEqZtWwmlOkXWV_Rs8Q4xEaQ0GUYWh2yHcyNGbOezCqkkKp0S7PcxWfSSw6KVcg=s64",
      "userId": "08522938991278351783"
     },
     "user_tz": -330
    },
    "id": "CBJHIJGZRo72",
    "outputId": "239d914c-2efe-45c8-c82c-b202b37283d6"
   },
   "outputs": [
    {
     "name": "stdout",
     "output_type": "stream",
     "text": [
      "Model: \"vgg16\"\n",
      "_________________________________________________________________\n",
      "Layer (type)                 Output Shape              Param #   \n",
      "=================================================================\n",
      "input_1 (InputLayer)         (None, 224, 224, 3)       0         \n",
      "_________________________________________________________________\n",
      "block1_conv1 (Conv2D)        (None, 224, 224, 64)      1792      \n",
      "_________________________________________________________________\n",
      "block1_conv2 (Conv2D)        (None, 224, 224, 64)      36928     \n",
      "_________________________________________________________________\n",
      "block1_pool (MaxPooling2D)   (None, 112, 112, 64)      0         \n",
      "_________________________________________________________________\n",
      "block2_conv1 (Conv2D)        (None, 112, 112, 128)     73856     \n",
      "_________________________________________________________________\n",
      "block2_conv2 (Conv2D)        (None, 112, 112, 128)     147584    \n",
      "_________________________________________________________________\n",
      "block2_pool (MaxPooling2D)   (None, 56, 56, 128)       0         \n",
      "_________________________________________________________________\n",
      "block3_conv1 (Conv2D)        (None, 56, 56, 256)       295168    \n",
      "_________________________________________________________________\n",
      "block3_conv2 (Conv2D)        (None, 56, 56, 256)       590080    \n",
      "_________________________________________________________________\n",
      "block3_conv3 (Conv2D)        (None, 56, 56, 256)       590080    \n",
      "_________________________________________________________________\n",
      "block3_pool (MaxPooling2D)   (None, 28, 28, 256)       0         \n",
      "_________________________________________________________________\n",
      "block4_conv1 (Conv2D)        (None, 28, 28, 512)       1180160   \n",
      "_________________________________________________________________\n",
      "block4_conv2 (Conv2D)        (None, 28, 28, 512)       2359808   \n",
      "_________________________________________________________________\n",
      "block4_conv3 (Conv2D)        (None, 28, 28, 512)       2359808   \n",
      "_________________________________________________________________\n",
      "block4_pool (MaxPooling2D)   (None, 14, 14, 512)       0         \n",
      "_________________________________________________________________\n",
      "block5_conv1 (Conv2D)        (None, 14, 14, 512)       2359808   \n",
      "_________________________________________________________________\n",
      "block5_conv2 (Conv2D)        (None, 14, 14, 512)       2359808   \n",
      "_________________________________________________________________\n",
      "block5_conv3 (Conv2D)        (None, 14, 14, 512)       2359808   \n",
      "_________________________________________________________________\n",
      "block5_pool (MaxPooling2D)   (None, 7, 7, 512)         0         \n",
      "_________________________________________________________________\n",
      "flatten (Flatten)            (None, 25088)             0         \n",
      "_________________________________________________________________\n",
      "fc1 (Dense)                  (None, 4096)              102764544 \n",
      "_________________________________________________________________\n",
      "fc2 (Dense)                  (None, 4096)              16781312  \n",
      "_________________________________________________________________\n",
      "predictions (Dense)          (None, 1000)              4097000   \n",
      "=================================================================\n",
      "Total params: 138,357,544\n",
      "Trainable params: 138,357,544\n",
      "Non-trainable params: 0\n",
      "_________________________________________________________________\n"
     ]
    }
   ],
   "source": [
    "base_model.summary()"
   ]
  },
  {
   "cell_type": "code",
   "execution_count": 14,
   "metadata": {
    "colab": {
     "base_uri": "https://localhost:8080/",
     "height": 955
    },
    "colab_type": "code",
    "executionInfo": {
     "elapsed": 1098,
     "status": "ok",
     "timestamp": 1585495730041,
     "user": {
      "displayName": "Kunal Jain",
      "photoUrl": "https://lh3.googleusercontent.com/a-/AOh14Gj8uFXsTztz2Vz_L7PZ5ivcwzWjdaeAgHeFIuX8Ag5zm5OIFd9Wq3SqneoxBAKQuaY0HPYO4wHl1T5QIysK6qoRjo4sUyFjDSHB6W0BY-R7oklwQtaZGwEWXIZkloELjMGNOxip-sCwTex7TSHfgtn70gdouaGgO-1MoonLU4O7KPbAPRBysGQsmvOvsWsH7WPBJxknY378nNUea18HsUINC_HE_3LkQ04BpdyarwpVlJcxQaWDGfztJwTal22gHvd--TWBbs8oR8DyFDlQUkBM5CT_EJshfYf2lZ_cv6R5dTFofwJZRKbT_0X7aJ5AOtlltMKsWwSBuIA9SiFZ0sZMWQ8BKYqaguDa_8_ljTNVSKfUXHADZkGrwIr9saYy0gEgiVUWC-sBN1XgvWT4C4oKYOlNr7RO5P1YLwLLuUT3CxjO95njQSUFf5yITkdTDTHgPv2PWu9ZjEUDLcmPUnkdsD3JcoPbj29Oa-zcDZvQwiIGUlifChLCLx5x54qpt73HAVZdFH6vJGMVIAUZyx1K-Ip7fNDiDrsrgyq-maJ0FLV7TCaX2VPqSHYZ6AZHvyWZbBBNZV2oVZ2-odc872ha_Ekgg8izBn0eQ4Qp1kY9ZiLnMl4itNvwPNlCkaP2JIBwnxJn6kMObsieZ9GcnqKqrBjFlR5TuLssRCjqDSpbjGbSBfs197Pij8kjG-abPJUI7qvoEqZtWwmlOkXWV_Rs8Q4xEaQ0GUYWh2yHcyNGbOezCqkkKp0S7PcxWfSSw6KVcg=s64",
      "userId": "08522938991278351783"
     },
     "user_tz": -330
    },
    "id": "mznXb8witOZV",
    "outputId": "8b668502-bd14-4608-ff55-06bb889d7f39"
   },
   "outputs": [
    {
     "name": "stdout",
     "output_type": "stream",
     "text": [
      "Model: \"functional_1\"\n",
      "_________________________________________________________________\n",
      "Layer (type)                 Output Shape              Param #   \n",
      "=================================================================\n",
      "input_1 (InputLayer)         [(None, 224, 224, 3)]     0         \n",
      "_________________________________________________________________\n",
      "block1_conv1 (Conv2D)        (None, 224, 224, 64)      1792      \n",
      "_________________________________________________________________\n",
      "block1_conv2 (Conv2D)        (None, 224, 224, 64)      36928     \n",
      "_________________________________________________________________\n",
      "block1_pool (MaxPooling2D)   (None, 112, 112, 64)      0         \n",
      "_________________________________________________________________\n",
      "block2_conv1 (Conv2D)        (None, 112, 112, 128)     73856     \n",
      "_________________________________________________________________\n",
      "block2_conv2 (Conv2D)        (None, 112, 112, 128)     147584    \n",
      "_________________________________________________________________\n",
      "block2_pool (MaxPooling2D)   (None, 56, 56, 128)       0         \n",
      "_________________________________________________________________\n",
      "block3_conv1 (Conv2D)        (None, 56, 56, 256)       295168    \n",
      "_________________________________________________________________\n",
      "block3_conv2 (Conv2D)        (None, 56, 56, 256)       590080    \n",
      "_________________________________________________________________\n",
      "block3_conv3 (Conv2D)        (None, 56, 56, 256)       590080    \n",
      "_________________________________________________________________\n",
      "block3_pool (MaxPooling2D)   (None, 28, 28, 256)       0         \n",
      "_________________________________________________________________\n",
      "block4_conv1 (Conv2D)        (None, 28, 28, 512)       1180160   \n",
      "_________________________________________________________________\n",
      "block4_conv2 (Conv2D)        (None, 28, 28, 512)       2359808   \n",
      "_________________________________________________________________\n",
      "block4_conv3 (Conv2D)        (None, 28, 28, 512)       2359808   \n",
      "_________________________________________________________________\n",
      "block4_pool (MaxPooling2D)   (None, 14, 14, 512)       0         \n",
      "_________________________________________________________________\n",
      "block5_conv1 (Conv2D)        (None, 14, 14, 512)       2359808   \n",
      "_________________________________________________________________\n",
      "block5_conv2 (Conv2D)        (None, 14, 14, 512)       2359808   \n",
      "_________________________________________________________________\n",
      "block5_conv3 (Conv2D)        (None, 14, 14, 512)       2359808   \n",
      "_________________________________________________________________\n",
      "block5_pool (MaxPooling2D)   (None, 7, 7, 512)         0         \n",
      "_________________________________________________________________\n",
      "flatten (Flatten)            (None, 25088)             0         \n",
      "_________________________________________________________________\n",
      "fc1 (Dense)                  (None, 100)               2508900   \n",
      "_________________________________________________________________\n",
      "prediction (Dense)           (None, 2)                 202       \n",
      "=================================================================\n",
      "Total params: 17,223,790\n",
      "Trainable params: 17,223,790\n",
      "Non-trainable params: 0\n",
      "_________________________________________________________________\n"
     ]
    }
   ],
   "source": [
    "# creating our own model \n",
    "x = Dense(100, activation='relu', name='fc1')(base_model.layers[-4].output)\n",
    "y = Dense(2, activation='softmax', name='prediction')(x)\n",
    "my_model = Model(base_model.input, y)\n",
    "my_model.summary()"
   ]
  },
  {
   "cell_type": "code",
   "execution_count": 15,
   "metadata": {
    "colab": {
     "base_uri": "https://localhost:8080/",
     "height": 391
    },
    "colab_type": "code",
    "executionInfo": {
     "elapsed": 1125,
     "status": "ok",
     "timestamp": 1585495739523,
     "user": {
      "displayName": "Kunal Jain",
      "photoUrl": "https://lh3.googleusercontent.com/a-/AOh14Gj8uFXsTztz2Vz_L7PZ5ivcwzWjdaeAgHeFIuX8Ag5zm5OIFd9Wq3SqneoxBAKQuaY0HPYO4wHl1T5QIysK6qoRjo4sUyFjDSHB6W0BY-R7oklwQtaZGwEWXIZkloELjMGNOxip-sCwTex7TSHfgtn70gdouaGgO-1MoonLU4O7KPbAPRBysGQsmvOvsWsH7WPBJxknY378nNUea18HsUINC_HE_3LkQ04BpdyarwpVlJcxQaWDGfztJwTal22gHvd--TWBbs8oR8DyFDlQUkBM5CT_EJshfYf2lZ_cv6R5dTFofwJZRKbT_0X7aJ5AOtlltMKsWwSBuIA9SiFZ0sZMWQ8BKYqaguDa_8_ljTNVSKfUXHADZkGrwIr9saYy0gEgiVUWC-sBN1XgvWT4C4oKYOlNr7RO5P1YLwLLuUT3CxjO95njQSUFf5yITkdTDTHgPv2PWu9ZjEUDLcmPUnkdsD3JcoPbj29Oa-zcDZvQwiIGUlifChLCLx5x54qpt73HAVZdFH6vJGMVIAUZyx1K-Ip7fNDiDrsrgyq-maJ0FLV7TCaX2VPqSHYZ6AZHvyWZbBBNZV2oVZ2-odc872ha_Ekgg8izBn0eQ4Qp1kY9ZiLnMl4itNvwPNlCkaP2JIBwnxJn6kMObsieZ9GcnqKqrBjFlR5TuLssRCjqDSpbjGbSBfs197Pij8kjG-abPJUI7qvoEqZtWwmlOkXWV_Rs8Q4xEaQ0GUYWh2yHcyNGbOezCqkkKp0S7PcxWfSSw6KVcg=s64",
      "userId": "08522938991278351783"
     },
     "user_tz": -330
    },
    "id": "TV3UIzGPvBiq",
    "outputId": "0ed7b983-23ac-4078-e161-43fbe7698f91"
   },
   "outputs": [
    {
     "data": {
      "text/plain": [
       "[<tensorflow.python.keras.engine.input_layer.InputLayer at 0x17e3e1a6f40>,\n",
       " <tensorflow.python.keras.layers.convolutional.Conv2D at 0x17e3e9c2e80>,\n",
       " <tensorflow.python.keras.layers.convolutional.Conv2D at 0x17e3ea05460>,\n",
       " <tensorflow.python.keras.layers.pooling.MaxPooling2D at 0x17e3ea05b20>,\n",
       " <tensorflow.python.keras.layers.convolutional.Conv2D at 0x17e3ed8de50>,\n",
       " <tensorflow.python.keras.layers.convolutional.Conv2D at 0x17e3ec16640>,\n",
       " <tensorflow.python.keras.layers.pooling.MaxPooling2D at 0x17e3ec20340>,\n",
       " <tensorflow.python.keras.layers.convolutional.Conv2D at 0x17e3ec25280>,\n",
       " <tensorflow.python.keras.layers.convolutional.Conv2D at 0x17e3ec33a60>,\n",
       " <tensorflow.python.keras.layers.convolutional.Conv2D at 0x17e3ec3b820>,\n",
       " <tensorflow.python.keras.layers.pooling.MaxPooling2D at 0x17e3ec40850>,\n",
       " <tensorflow.python.keras.layers.convolutional.Conv2D at 0x17e3eda46a0>,\n",
       " <tensorflow.python.keras.layers.convolutional.Conv2D at 0x17e3edab160>,\n",
       " <tensorflow.python.keras.layers.convolutional.Conv2D at 0x17e3edc9280>,\n",
       " <tensorflow.python.keras.layers.pooling.MaxPooling2D at 0x17e3ec40400>,\n",
       " <tensorflow.python.keras.layers.convolutional.Conv2D at 0x17e3edd29a0>,\n",
       " <tensorflow.python.keras.layers.convolutional.Conv2D at 0x17e3edd2880>,\n",
       " <tensorflow.python.keras.layers.convolutional.Conv2D at 0x17e3eddc7f0>,\n",
       " <tensorflow.python.keras.layers.pooling.MaxPooling2D at 0x17e3ee24940>,\n",
       " <tensorflow.python.keras.layers.core.Flatten at 0x17e3ee31eb0>,\n",
       " <tensorflow.python.keras.layers.core.Dense at 0x17e3d9c0910>,\n",
       " <tensorflow.python.keras.layers.core.Dense at 0x17e3e969040>]"
      ]
     },
     "execution_count": 15,
     "metadata": {},
     "output_type": "execute_result"
    }
   ],
   "source": [
    "my_model.layers"
   ]
  },
  {
   "cell_type": "code",
   "execution_count": 16,
   "metadata": {
    "colab": {
     "base_uri": "https://localhost:8080/",
     "height": 34
    },
    "colab_type": "code",
    "executionInfo": {
     "elapsed": 1187,
     "status": "ok",
     "timestamp": 1585495760417,
     "user": {
      "displayName": "Kunal Jain",
      "photoUrl": "https://lh3.googleusercontent.com/a-/AOh14Gj8uFXsTztz2Vz_L7PZ5ivcwzWjdaeAgHeFIuX8Ag5zm5OIFd9Wq3SqneoxBAKQuaY0HPYO4wHl1T5QIysK6qoRjo4sUyFjDSHB6W0BY-R7oklwQtaZGwEWXIZkloELjMGNOxip-sCwTex7TSHfgtn70gdouaGgO-1MoonLU4O7KPbAPRBysGQsmvOvsWsH7WPBJxknY378nNUea18HsUINC_HE_3LkQ04BpdyarwpVlJcxQaWDGfztJwTal22gHvd--TWBbs8oR8DyFDlQUkBM5CT_EJshfYf2lZ_cv6R5dTFofwJZRKbT_0X7aJ5AOtlltMKsWwSBuIA9SiFZ0sZMWQ8BKYqaguDa_8_ljTNVSKfUXHADZkGrwIr9saYy0gEgiVUWC-sBN1XgvWT4C4oKYOlNr7RO5P1YLwLLuUT3CxjO95njQSUFf5yITkdTDTHgPv2PWu9ZjEUDLcmPUnkdsD3JcoPbj29Oa-zcDZvQwiIGUlifChLCLx5x54qpt73HAVZdFH6vJGMVIAUZyx1K-Ip7fNDiDrsrgyq-maJ0FLV7TCaX2VPqSHYZ6AZHvyWZbBBNZV2oVZ2-odc872ha_Ekgg8izBn0eQ4Qp1kY9ZiLnMl4itNvwPNlCkaP2JIBwnxJn6kMObsieZ9GcnqKqrBjFlR5TuLssRCjqDSpbjGbSBfs197Pij8kjG-abPJUI7qvoEqZtWwmlOkXWV_Rs8Q4xEaQ0GUYWh2yHcyNGbOezCqkkKp0S7PcxWfSSw6KVcg=s64",
      "userId": "08522938991278351783"
     },
     "user_tz": -330
    },
    "id": "ezdO9HtWL0r3",
    "outputId": "4e614f09-4412-4e09-bd38-6949abb20fa1"
   },
   "outputs": [
    {
     "data": {
      "text/plain": [
       "22"
      ]
     },
     "execution_count": 16,
     "metadata": {},
     "output_type": "execute_result"
    }
   ],
   "source": [
    "len(my_model.layers)"
   ]
  },
  {
   "cell_type": "code",
   "execution_count": 17,
   "metadata": {
    "colab": {},
    "colab_type": "code",
    "id": "wTHs5YCTr2bn"
   },
   "outputs": [],
   "source": [
    "#To set the first 15 layers to non-trainable (weights will not be updated)\n",
    "for layer in my_model.layers[:15]:\n",
    "    layer.trainable = False "
   ]
  },
  {
   "cell_type": "code",
   "execution_count": 18,
   "metadata": {
    "colab": {
     "base_uri": "https://localhost:8080/",
     "height": 105
    },
    "colab_type": "code",
    "executionInfo": {
     "elapsed": 1781,
     "status": "ok",
     "timestamp": 1585495823318,
     "user": {
      "displayName": "Kunal Jain",
      "photoUrl": "https://lh3.googleusercontent.com/a-/AOh14Gj8uFXsTztz2Vz_L7PZ5ivcwzWjdaeAgHeFIuX8Ag5zm5OIFd9Wq3SqneoxBAKQuaY0HPYO4wHl1T5QIysK6qoRjo4sUyFjDSHB6W0BY-R7oklwQtaZGwEWXIZkloELjMGNOxip-sCwTex7TSHfgtn70gdouaGgO-1MoonLU4O7KPbAPRBysGQsmvOvsWsH7WPBJxknY378nNUea18HsUINC_HE_3LkQ04BpdyarwpVlJcxQaWDGfztJwTal22gHvd--TWBbs8oR8DyFDlQUkBM5CT_EJshfYf2lZ_cv6R5dTFofwJZRKbT_0X7aJ5AOtlltMKsWwSBuIA9SiFZ0sZMWQ8BKYqaguDa_8_ljTNVSKfUXHADZkGrwIr9saYy0gEgiVUWC-sBN1XgvWT4C4oKYOlNr7RO5P1YLwLLuUT3CxjO95njQSUFf5yITkdTDTHgPv2PWu9ZjEUDLcmPUnkdsD3JcoPbj29Oa-zcDZvQwiIGUlifChLCLx5x54qpt73HAVZdFH6vJGMVIAUZyx1K-Ip7fNDiDrsrgyq-maJ0FLV7TCaX2VPqSHYZ6AZHvyWZbBBNZV2oVZ2-odc872ha_Ekgg8izBn0eQ4Qp1kY9ZiLnMl4itNvwPNlCkaP2JIBwnxJn6kMObsieZ9GcnqKqrBjFlR5TuLssRCjqDSpbjGbSBfs197Pij8kjG-abPJUI7qvoEqZtWwmlOkXWV_Rs8Q4xEaQ0GUYWh2yHcyNGbOezCqkkKp0S7PcxWfSSw6KVcg=s64",
      "userId": "08522938991278351783"
     },
     "user_tz": -330
    },
    "id": "FjLMQ96R7Lb1",
    "outputId": "cd1193da-e11c-4c1e-8001-07f9ee7fda37"
   },
   "outputs": [],
   "source": [
    "# compile the model\n",
    "my_model.compile(optimizer='sgd', metrics=['accuracy'], loss='categorical_crossentropy')"
   ]
  },
  {
   "cell_type": "markdown",
   "metadata": {
    "colab_type": "text",
    "id": "dEE0lJ1pTJBh"
   },
   "source": [
    "## 5. Training the model\n",
    "\n",
    "Freezing the layers can save substabtial processing time."
   ]
  },
  {
   "cell_type": "code",
   "execution_count": 19,
   "metadata": {
    "colab": {
     "base_uri": "https://localhost:8080/",
     "height": 530
    },
    "colab_type": "code",
    "executionInfo": {
     "elapsed": 73261,
     "status": "ok",
     "timestamp": 1585495906235,
     "user": {
      "displayName": "Kunal Jain",
      "photoUrl": "https://lh3.googleusercontent.com/a-/AOh14Gj8uFXsTztz2Vz_L7PZ5ivcwzWjdaeAgHeFIuX8Ag5zm5OIFd9Wq3SqneoxBAKQuaY0HPYO4wHl1T5QIysK6qoRjo4sUyFjDSHB6W0BY-R7oklwQtaZGwEWXIZkloELjMGNOxip-sCwTex7TSHfgtn70gdouaGgO-1MoonLU4O7KPbAPRBysGQsmvOvsWsH7WPBJxknY378nNUea18HsUINC_HE_3LkQ04BpdyarwpVlJcxQaWDGfztJwTal22gHvd--TWBbs8oR8DyFDlQUkBM5CT_EJshfYf2lZ_cv6R5dTFofwJZRKbT_0X7aJ5AOtlltMKsWwSBuIA9SiFZ0sZMWQ8BKYqaguDa_8_ljTNVSKfUXHADZkGrwIr9saYy0gEgiVUWC-sBN1XgvWT4C4oKYOlNr7RO5P1YLwLLuUT3CxjO95njQSUFf5yITkdTDTHgPv2PWu9ZjEUDLcmPUnkdsD3JcoPbj29Oa-zcDZvQwiIGUlifChLCLx5x54qpt73HAVZdFH6vJGMVIAUZyx1K-Ip7fNDiDrsrgyq-maJ0FLV7TCaX2VPqSHYZ6AZHvyWZbBBNZV2oVZ2-odc872ha_Ekgg8izBn0eQ4Qp1kY9ZiLnMl4itNvwPNlCkaP2JIBwnxJn6kMObsieZ9GcnqKqrBjFlR5TuLssRCjqDSpbjGbSBfs197Pij8kjG-abPJUI7qvoEqZtWwmlOkXWV_Rs8Q4xEaQ0GUYWh2yHcyNGbOezCqkkKp0S7PcxWfSSw6KVcg=s64",
      "userId": "08522938991278351783"
     },
     "user_tz": -330
    },
    "id": "THtHpHrE7Lb-",
    "outputId": "582ab3da-52d6-4762-a301-4ccf4af46883",
    "scrolled": true
   },
   "outputs": [
    {
     "name": "stdout",
     "output_type": "stream",
     "text": [
      "Epoch 1/10\n",
      "52/52 [==============================] - 360s 7s/step - loss: 0.5668 - accuracy: 0.7491 - val_loss: 0.2644 - val_accuracy: 0.8810\n",
      "Epoch 2/10\n",
      "52/52 [==============================] - 494s 9s/step - loss: 0.2978 - accuracy: 0.8846 - val_loss: 0.2233 - val_accuracy: 0.9079\n",
      "Epoch 3/10\n",
      "52/52 [==============================] - 486s 9s/step - loss: 0.1520 - accuracy: 0.9459 - val_loss: 0.2151 - val_accuracy: 0.9122\n",
      "Epoch 4/10\n",
      "52/52 [==============================] - 487s 9s/step - loss: 0.1363 - accuracy: 0.9465 - val_loss: 0.1484 - val_accuracy: 0.9448\n",
      "Epoch 5/10\n",
      "52/52 [==============================] - 486s 9s/step - loss: 0.0655 - accuracy: 0.9806 - val_loss: 0.1643 - val_accuracy: 0.9249\n",
      "Epoch 6/10\n",
      "52/52 [==============================] - 474s 9s/step - loss: 0.0373 - accuracy: 0.9927 - val_loss: 0.1311 - val_accuracy: 0.9490\n",
      "Epoch 7/10\n",
      "52/52 [==============================] - 498s 10s/step - loss: 0.0276 - accuracy: 0.9939 - val_loss: 0.1611 - val_accuracy: 0.9320\n",
      "Epoch 8/10\n",
      "52/52 [==============================] - 501s 10s/step - loss: 0.0214 - accuracy: 0.9951 - val_loss: 0.1140 - val_accuracy: 0.9561\n",
      "Epoch 9/10\n",
      "52/52 [==============================] - 494s 9s/step - loss: 0.0201 - accuracy: 0.9951 - val_loss: 0.1157 - val_accuracy: 0.9547\n",
      "Epoch 10/10\n",
      "52/52 [==============================] - 519s 10s/step - loss: 0.0138 - accuracy: 0.9957 - val_loss: 0.1191 - val_accuracy: 0.9575\n"
     ]
    },
    {
     "data": {
      "text/plain": [
       "<tensorflow.python.keras.callbacks.History at 0x17e3efa0eb0>"
      ]
     },
     "execution_count": 19,
     "metadata": {},
     "output_type": "execute_result"
    }
   ],
   "source": [
    "# training the model\n",
    "my_model.fit(X_train, y_train, epochs=10, validation_data=(X_valid, y_valid))"
   ]
  },
  {
   "cell_type": "markdown",
   "metadata": {
    "colab_type": "text",
    "id": "cooberaE7LcD"
   },
   "source": [
    "## 6. Get Predictions"
   ]
  },
  {
   "cell_type": "code",
   "execution_count": null,
   "metadata": {
    "colab": {},
    "colab_type": "code",
    "id": "8PV5cC9-7LcE"
   },
   "outputs": [],
   "source": [
    "# get predictions\n",
    "predictions = my_model.predict(X_valid)\n",
    "predicted_class = np.argmax(predictions,axis=1)"
   ]
  },
  {
   "cell_type": "code",
   "execution_count": 20,
   "metadata": {
    "colab": {
     "base_uri": "https://localhost:8080/",
     "height": 34
    },
    "colab_type": "code",
    "executionInfo": {
     "elapsed": 1061,
     "status": "ok",
     "timestamp": 1585495943726,
     "user": {
      "displayName": "Kunal Jain",
      "photoUrl": "https://lh3.googleusercontent.com/a-/AOh14Gj8uFXsTztz2Vz_L7PZ5ivcwzWjdaeAgHeFIuX8Ag5zm5OIFd9Wq3SqneoxBAKQuaY0HPYO4wHl1T5QIysK6qoRjo4sUyFjDSHB6W0BY-R7oklwQtaZGwEWXIZkloELjMGNOxip-sCwTex7TSHfgtn70gdouaGgO-1MoonLU4O7KPbAPRBysGQsmvOvsWsH7WPBJxknY378nNUea18HsUINC_HE_3LkQ04BpdyarwpVlJcxQaWDGfztJwTal22gHvd--TWBbs8oR8DyFDlQUkBM5CT_EJshfYf2lZ_cv6R5dTFofwJZRKbT_0X7aJ5AOtlltMKsWwSBuIA9SiFZ0sZMWQ8BKYqaguDa_8_ljTNVSKfUXHADZkGrwIr9saYy0gEgiVUWC-sBN1XgvWT4C4oKYOlNr7RO5P1YLwLLuUT3CxjO95njQSUFf5yITkdTDTHgPv2PWu9ZjEUDLcmPUnkdsD3JcoPbj29Oa-zcDZvQwiIGUlifChLCLx5x54qpt73HAVZdFH6vJGMVIAUZyx1K-Ip7fNDiDrsrgyq-maJ0FLV7TCaX2VPqSHYZ6AZHvyWZbBBNZV2oVZ2-odc872ha_Ekgg8izBn0eQ4Qp1kY9ZiLnMl4itNvwPNlCkaP2JIBwnxJn6kMObsieZ9GcnqKqrBjFlR5TuLssRCjqDSpbjGbSBfs197Pij8kjG-abPJUI7qvoEqZtWwmlOkXWV_Rs8Q4xEaQ0GUYWh2yHcyNGbOezCqkkKp0S7PcxWfSSw6KVcg=s64",
      "userId": "08522938991278351783"
     },
     "user_tz": -330
    },
    "id": "F-V9tGe2q5IN",
    "outputId": "a7091b60-3312-4a91-858e-b79ddcb2a87e"
   },
   "outputs": [
    {
     "data": {
      "text/plain": [
       "0.9546742209631728"
      ]
     },
     "execution_count": 20,
     "metadata": {
      "tags": []
     },
     "output_type": "execute_result"
    }
   ],
   "source": [
    "# checking the performance of model on validation set\n",
    "accuracy_score(y_valid[:,1], predicted_class)"
   ]
  },
  {
   "cell_type": "markdown",
   "metadata": {
    "colab_type": "text",
    "id": "O6HB2c3DMpnZ"
   },
   "source": [
    "## Steps to use transfer learning where we train some layers while freeze others\n",
    "\n",
    "1. Import necessary libraries\n",
    "2. Load the data\n",
    "3. Pre-Process the data\n",
    "4. Load weights of pretrained model and freeze few layers\n",
    "5. Train the model\n",
    "6. Get predictions"
   ]
  },
  {
   "cell_type": "code",
   "execution_count": null,
   "metadata": {
    "colab": {},
    "colab_type": "code",
    "id": "JHj3RKSM7LcL"
   },
   "outputs": [],
   "source": []
  }
 ],
 "metadata": {
  "accelerator": "GPU",
  "colab": {
   "collapsed_sections": [],
   "machine_shape": "hm",
   "name": "2. Transfer Learning: Train some layers while freeze others.ipynb",
   "provenance": []
  },
  "kernelspec": {
   "display_name": "Python 3",
   "language": "python",
   "name": "python3"
  },
  "language_info": {
   "codemirror_mode": {
    "name": "ipython",
    "version": 3
   },
   "file_extension": ".py",
   "mimetype": "text/x-python",
   "name": "python",
   "nbconvert_exporter": "python",
   "pygments_lexer": "ipython3",
   "version": "3.8.8"
  }
 },
 "nbformat": 4,
 "nbformat_minor": 4
}
