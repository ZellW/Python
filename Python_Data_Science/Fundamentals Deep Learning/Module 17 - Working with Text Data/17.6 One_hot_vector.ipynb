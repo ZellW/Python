{
 "cells": [
  {
   "cell_type": "markdown",
   "metadata": {
    "colab_type": "text",
    "id": "YQYJ1eVH07rq"
   },
   "source": [
    "#1. Get Data"
   ]
  },
  {
   "cell_type": "code",
   "execution_count": 1,
   "metadata": {
    "colab": {},
    "colab_type": "code",
    "id": "fks6HwGX04If"
   },
   "outputs": [],
   "source": [
    "#input text\n",
    "text=['Building some bots for Wikipedia.',\n",
    "      'Wikipedia is flooded with information.',\n",
    "      'There is an app for everthing.']"
   ]
  },
  {
   "cell_type": "markdown",
   "metadata": {
    "colab_type": "text",
    "id": "UD1cQlfn004q"
   },
   "source": [
    "#2. Text Cleaning"
   ]
  },
  {
   "cell_type": "code",
   "execution_count": 2,
   "metadata": {
    "colab": {},
    "colab_type": "code",
    "id": "0iFct38aGKn_"
   },
   "outputs": [],
   "source": [
    "# cleaning\n",
    "import re\n",
    "\n",
    "def clean(text):\n",
    "  #lower case\n",
    "  text=text.lower()\n",
    "  \n",
    "  #remove punctuations\n",
    "  text=re.sub('[^a-zA-Z]',\" \",text)\n",
    "  \n",
    "  return text"
   ]
  },
  {
   "cell_type": "code",
   "execution_count": 3,
   "metadata": {
    "colab": {},
    "colab_type": "code",
    "id": "SufMwvgVGd0u"
   },
   "outputs": [],
   "source": [
    "#call the clean function\n",
    "cleaned_text=[]\n",
    "\n",
    "for i in text:\n",
    "  cleaned_text.append(clean(i))"
   ]
  },
  {
   "cell_type": "code",
   "execution_count": 4,
   "metadata": {
    "colab": {
     "base_uri": "https://localhost:8080/",
     "height": 34
    },
    "colab_type": "code",
    "executionInfo": {
     "elapsed": 3863,
     "status": "ok",
     "timestamp": 1583919439409,
     "user": {
      "displayName": "Ankit Choudhary",
      "photoUrl": "https://lh3.googleusercontent.com/a-/AOh14Gj4-GfamQGEVeD1iwAMYgqp1fFAU4PocEDfekHN=s64",
      "userId": "02500186615322573913"
     },
     "user_tz": -330
    },
    "id": "YoCZnuJUGnlE",
    "outputId": "9b49d946-7444-41aa-9ca0-192bdd8cd699"
   },
   "outputs": [
    {
     "name": "stdout",
     "output_type": "stream",
     "text": [
      "['building some bots for wikipedia ', 'wikipedia is flooded with information ', 'there is an app for everthing ']\n"
     ]
    }
   ],
   "source": [
    "print(cleaned_text)"
   ]
  },
  {
   "cell_type": "markdown",
   "metadata": {
    "colab_type": "text",
    "id": "AAqPPrr21A3-"
   },
   "source": [
    "#3. Tokenization"
   ]
  },
  {
   "cell_type": "code",
   "execution_count": 5,
   "metadata": {
    "colab": {
     "base_uri": "https://localhost:8080/",
     "height": 34
    },
    "colab_type": "code",
    "executionInfo": {
     "elapsed": 3861,
     "status": "ok",
     "timestamp": 1583919439409,
     "user": {
      "displayName": "Ankit Choudhary",
      "photoUrl": "https://lh3.googleusercontent.com/a-/AOh14Gj4-GfamQGEVeD1iwAMYgqp1fFAU4PocEDfekHN=s64",
      "userId": "02500186615322573913"
     },
     "user_tz": -330
    },
    "id": "oU7x-LyE05bT",
    "outputId": "c151f48a-e551-473c-c081-948ffb7db633"
   },
   "outputs": [
    {
     "name": "stdout",
     "output_type": "stream",
     "text": [
      "[['building', 'some', 'bots', 'for', 'wikipedia'], ['wikipedia', 'is', 'flooded', 'with', 'information'], ['there', 'is', 'an', 'app', 'for', 'everthing']]\n"
     ]
    }
   ],
   "source": [
    "#tokenize the text\n",
    "tokens=[]\n",
    "\n",
    "for i in cleaned_text:\n",
    "  tokens.append(i.split())\n",
    "\n",
    "print(tokens)"
   ]
  },
  {
   "cell_type": "markdown",
   "metadata": {
    "colab_type": "text",
    "id": "h8Q8CpYT1HAB"
   },
   "source": [
    "#4. Vocabulary Preparation"
   ]
  },
  {
   "cell_type": "code",
   "execution_count": 6,
   "metadata": {
    "colab": {
     "base_uri": "https://localhost:8080/",
     "height": 34
    },
    "colab_type": "code",
    "executionInfo": {
     "elapsed": 3860,
     "status": "ok",
     "timestamp": 1583919439410,
     "user": {
      "displayName": "Ankit Choudhary",
      "photoUrl": "https://lh3.googleusercontent.com/a-/AOh14Gj4-GfamQGEVeD1iwAMYgqp1fFAU4PocEDfekHN=s64",
      "userId": "02500186615322573913"
     },
     "user_tz": -330
    },
    "id": "tC5Mymg0HjRq",
    "outputId": "8346ab21-60bf-45cd-ab46-4c7f21340fa5"
   },
   "outputs": [
    {
     "name": "stdout",
     "output_type": "stream",
     "text": [
      "['an', 'app', 'bots', 'building', 'everthing', 'flooded', 'for', 'information', 'is', 'some', 'there', 'wikipedia', 'with']\n"
     ]
    }
   ],
   "source": [
    "#construct vocabulary\n",
    "vocab=[]\n",
    "\n",
    "for i in tokens:\n",
    "  for j in i:\n",
    "    if j not in vocab:\n",
    "      vocab.append(j)\n",
    "\n",
    "#remove duplicate token\n",
    "vocab = list(set(vocab))\n",
    "\n",
    "# sort tokens \n",
    "vocab.sort()\n",
    "\n",
    "print(vocab)"
   ]
  },
  {
   "cell_type": "markdown",
   "metadata": {
    "colab_type": "text",
    "id": "62Iz751F1Oc_"
   },
   "source": [
    "#5. Feature Representation (One Hot Encoding)"
   ]
  },
  {
   "cell_type": "code",
   "execution_count": 7,
   "metadata": {
    "colab": {},
    "colab_type": "code",
    "id": "V0yJSXC_1Caw"
   },
   "outputs": [],
   "source": [
    "#one hot vectors\n",
    "import numpy as np\n",
    "\n",
    "ohe=np.zeros([len(vocab),len(vocab)])\n",
    "\n",
    "for i in range(len(ohe)):\n",
    "  ohe[i][i]=1"
   ]
  },
  {
   "cell_type": "code",
   "execution_count": 8,
   "metadata": {
    "colab": {
     "base_uri": "https://localhost:8080/",
     "height": 238
    },
    "colab_type": "code",
    "executionInfo": {
     "elapsed": 3856,
     "status": "ok",
     "timestamp": 1583919439411,
     "user": {
      "displayName": "Ankit Choudhary",
      "photoUrl": "https://lh3.googleusercontent.com/a-/AOh14Gj4-GfamQGEVeD1iwAMYgqp1fFAU4PocEDfekHN=s64",
      "userId": "02500186615322573913"
     },
     "user_tz": -330
    },
    "id": "pJ3G0UcU1M4c",
    "outputId": "013cf691-b3fc-4c8f-f6c1-8ca800a669c5"
   },
   "outputs": [
    {
     "data": {
      "text/plain": [
       "array([[1., 0., 0., 0., 0., 0., 0., 0., 0., 0., 0., 0., 0.],\n",
       "       [0., 1., 0., 0., 0., 0., 0., 0., 0., 0., 0., 0., 0.],\n",
       "       [0., 0., 1., 0., 0., 0., 0., 0., 0., 0., 0., 0., 0.],\n",
       "       [0., 0., 0., 1., 0., 0., 0., 0., 0., 0., 0., 0., 0.],\n",
       "       [0., 0., 0., 0., 1., 0., 0., 0., 0., 0., 0., 0., 0.],\n",
       "       [0., 0., 0., 0., 0., 1., 0., 0., 0., 0., 0., 0., 0.],\n",
       "       [0., 0., 0., 0., 0., 0., 1., 0., 0., 0., 0., 0., 0.],\n",
       "       [0., 0., 0., 0., 0., 0., 0., 1., 0., 0., 0., 0., 0.],\n",
       "       [0., 0., 0., 0., 0., 0., 0., 0., 1., 0., 0., 0., 0.],\n",
       "       [0., 0., 0., 0., 0., 0., 0., 0., 0., 1., 0., 0., 0.],\n",
       "       [0., 0., 0., 0., 0., 0., 0., 0., 0., 0., 1., 0., 0.],\n",
       "       [0., 0., 0., 0., 0., 0., 0., 0., 0., 0., 0., 1., 0.],\n",
       "       [0., 0., 0., 0., 0., 0., 0., 0., 0., 0., 0., 0., 1.]])"
      ]
     },
     "execution_count": 8,
     "metadata": {},
     "output_type": "execute_result"
    }
   ],
   "source": [
    "ohe"
   ]
  },
  {
   "cell_type": "code",
   "execution_count": 9,
   "metadata": {
    "colab": {},
    "colab_type": "code",
    "id": "RYbivnGRZt0Q"
   },
   "outputs": [],
   "source": [
    "import re"
   ]
  },
  {
   "cell_type": "code",
   "execution_count": 10,
   "metadata": {
    "colab": {},
    "colab_type": "code",
    "id": "-UKh75q9Zupf"
   },
   "outputs": [],
   "source": [
    "a = \"this is going to end in 2019 I can't wait for the coming year\" "
   ]
  },
  {
   "cell_type": "code",
   "execution_count": null,
   "metadata": {
    "colab": {},
    "colab_type": "code",
    "id": "DvSrhFYBZ4WE"
   },
   "outputs": [],
   "source": [
    "result = re.sub(\"\\d{4}\", \"the coming year\", a)"
   ]
  },
  {
   "cell_type": "code",
   "execution_count": null,
   "metadata": {
    "colab": {
     "base_uri": "https://localhost:8080/",
     "height": 34
    },
    "colab_type": "code",
    "executionInfo": {
     "elapsed": 3842,
     "status": "ok",
     "timestamp": 1583919439413,
     "user": {
      "displayName": "Ankit Choudhary",
      "photoUrl": "https://lh3.googleusercontent.com/a-/AOh14Gj4-GfamQGEVeD1iwAMYgqp1fFAU4PocEDfekHN=s64",
      "userId": "02500186615322573913"
     },
     "user_tz": -330
    },
    "id": "EhAnATCcZ7m0",
    "outputId": "1e353a2a-e3f2-4fb1-dfb5-7cb99298f852"
   },
   "outputs": [
    {
     "data": {
      "text/plain": [
       "\"this is going to end in the coming year I can't wait for the coming year\""
      ]
     },
     "execution_count": 12,
     "metadata": {
      "tags": []
     },
     "output_type": "execute_result"
    }
   ],
   "source": [
    "result"
   ]
  },
  {
   "cell_type": "code",
   "execution_count": null,
   "metadata": {
    "colab": {},
    "colab_type": "code",
    "id": "5z_gNJmEZ9Cd"
   },
   "outputs": [],
   "source": []
  }
 ],
 "metadata": {
  "colab": {
   "collapsed_sections": [],
   "name": "6. One_hot_vector.ipynb",
   "provenance": []
  },
  "kernelspec": {
   "display_name": "Python 3",
   "language": "python",
   "name": "python3"
  },
  "language_info": {
   "codemirror_mode": {
    "name": "ipython",
    "version": 3
   },
   "file_extension": ".py",
   "mimetype": "text/x-python",
   "name": "python",
   "nbconvert_exporter": "python",
   "pygments_lexer": "ipython3",
   "version": "3.8.8"
  }
 },
 "nbformat": 4,
 "nbformat_minor": 4
}
