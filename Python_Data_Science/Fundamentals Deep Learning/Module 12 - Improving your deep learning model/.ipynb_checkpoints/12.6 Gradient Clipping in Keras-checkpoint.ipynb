{
 "cells": [
  {
   "cell_type": "code",
   "execution_count": null,
   "metadata": {
    "colab": {},
    "colab_type": "code",
    "id": "HJHJVvd4Y9Ab"
   },
   "outputs": [],
   "source": [
    "# %tensorflow_version 1.x"
   ]
  },
  {
   "cell_type": "markdown",
   "metadata": {
    "colab_type": "text",
    "id": "xR7hbyyfuG9N"
   },
   "source": [
    "# Gradient Clipping in Keras\n",
    "\n",
    "<ol>1. Loading the dataset</ol>\n",
    "<ol>2. Pre-processing the data</ol>\n",
    "<ol>3. Creating training and validation set</ol>\n",
    "<ol>4. Defining the model architecture</ol>\n",
    "<ol>5. Compiling the model</ol>\n",
    "<ol> <ol>* Define clipvalue while defining the optimizer</ol></ol>\n",
    "<ol>6. Training the model</ol>\n",
    "<ol>7. Evaluating model performance</ol>"
   ]
  },
  {
   "cell_type": "markdown",
   "metadata": {},
   "source": [
    "Using ReLU activation function and the proW weight initialization are the solutions to prevent vanishing gradients. Whereas clipping prevents exploding gradients."
   ]
  },
  {
   "cell_type": "markdown",
   "metadata": {
    "colab_type": "text",
    "id": "xq6rlm_puG9U"
   },
   "source": [
    "## 1. Loading the dataset"
   ]
  },
  {
   "cell_type": "code",
   "execution_count": 1,
   "metadata": {
    "colab": {
     "base_uri": "https://localhost:8080/",
     "height": 81
    },
    "colab_type": "code",
    "executionInfo": {
     "elapsed": 2938,
     "status": "ok",
     "timestamp": 1585148079055,
     "user": {
      "displayName": "Aishwarya Singh",
      "photoUrl": "https://lh3.googleusercontent.com/a-/AOh14GgeJwfn4BdBDCAplWi_kdtB9FRssOpXO7T_aMgg=s64",
      "userId": "01105858832371513140"
     },
     "user_tz": -330
    },
    "id": "XPYT-SDjuG9a",
    "outputId": "cb6b12d6-5498-4cd5-8750-8d18015f8bba",
    "scrolled": true
   },
   "outputs": [],
   "source": [
    "# import necessary libraries and functions\n",
    "import numpy as np\n",
    "import pandas as pd\n",
    "import matplotlib.pyplot as plt\n",
    "%matplotlib inline\n",
    "\n",
    "# importing layers from keras\n",
    "from keras.layers import Dense, InputLayer\n",
    "from keras.models import Sequential\n",
    "# importing adam optimizer from keras optimizer module \n",
    "from keras.optimizers import Adam\n",
    "\n",
    "# train_test_split to create training and validation set\n",
    "from sklearn.model_selection import train_test_split\n",
    "# accuracy_score to calculate the accuracy of predictions\n",
    "from sklearn.metrics import accuracy_score"
   ]
  },
  {
   "cell_type": "code",
   "execution_count": null,
   "metadata": {
    "colab": {
     "base_uri": "https://localhost:8080/",
     "height": 124
    },
    "colab_type": "code",
    "executionInfo": {
     "elapsed": 43710,
     "status": "ok",
     "timestamp": 1585148125082,
     "user": {
      "displayName": "Aishwarya Singh",
      "photoUrl": "https://lh3.googleusercontent.com/a-/AOh14GgeJwfn4BdBDCAplWi_kdtB9FRssOpXO7T_aMgg=s64",
      "userId": "01105858832371513140"
     },
     "user_tz": -330
    },
    "id": "-UaxENuHvEjb",
    "outputId": "36e0f909-4c2d-497e-f95c-b885095158a5"
   },
   "outputs": [
    {
     "name": "stdout",
     "output_type": "stream",
     "text": [
      "Go to this URL in a browser: https://accounts.google.com/o/oauth2/auth?client_id=947318989803-6bn6qk8qdgf4n4g3pfee6491hc0brc4i.apps.googleusercontent.com&redirect_uri=urn%3aietf%3awg%3aoauth%3a2.0%3aoob&response_type=code&scope=email%20https%3a%2f%2fwww.googleapis.com%2fauth%2fdocs.test%20https%3a%2f%2fwww.googleapis.com%2fauth%2fdrive%20https%3a%2f%2fwww.googleapis.com%2fauth%2fdrive.photos.readonly%20https%3a%2f%2fwww.googleapis.com%2fauth%2fpeopleapi.readonly\n",
      "\n",
      "Enter your authorization code:\n",
      "··········\n",
      "Mounted at /content/drive\n"
     ]
    }
   ],
   "source": [
    "# from google.colab import drive\n",
    "# drive.mount('/content/drive')"
   ]
  },
  {
   "cell_type": "code",
   "execution_count": 2,
   "metadata": {
    "colab": {
     "base_uri": "https://localhost:8080/",
     "height": 1000
    },
    "colab_type": "code",
    "executionInfo": {
     "elapsed": 7491,
     "status": "ok",
     "timestamp": 1585148158323,
     "user": {
      "displayName": "Aishwarya Singh",
      "photoUrl": "https://lh3.googleusercontent.com/a-/AOh14GgeJwfn4BdBDCAplWi_kdtB9FRssOpXO7T_aMgg=s64",
      "userId": "01105858832371513140"
     },
     "user_tz": -330
    },
    "id": "huxIDEqgvKZj",
    "outputId": "116100ef-37db-4146-8eab-fcb6af191c36"
   },
   "outputs": [],
   "source": [
    "# !unzip /content/drive/My\\ Drive/Dataset.zip"
   ]
  },
  {
   "cell_type": "code",
   "execution_count": 3,
   "metadata": {
    "colab": {},
    "colab_type": "code",
    "id": "WZdipKFauG9t"
   },
   "outputs": [],
   "source": [
    "# reading the csv file\n",
    "data = pd.read_csv('../data/emergency_classification.csv')"
   ]
  },
  {
   "cell_type": "code",
   "execution_count": 4,
   "metadata": {
    "colab": {},
    "colab_type": "code",
    "id": "7pOqqh5GuG94"
   },
   "outputs": [],
   "source": [
    "# create random number generator\n",
    "seed = 42\n",
    "rng = np.random.RandomState(seed)"
   ]
  },
  {
   "cell_type": "code",
   "execution_count": 7,
   "metadata": {
    "colab": {},
    "colab_type": "code",
    "id": "AMZyTsx3uG-W"
   },
   "outputs": [],
   "source": [
    "# load images and store it in numpy array\n",
    "\n",
    "# empty list to store the images\n",
    "X = []\n",
    "# iterating over each image\n",
    "for img_name in data.image_names:\n",
    "    # loading the image using its name\n",
    "    img = plt.imread('../data/images_vehicles/' + img_name)\n",
    "    # saving each image in the list\n",
    "    X.append(img)\n",
    "    \n",
    "# converting the list of images into array\n",
    "X=np.array(X)\n",
    "\n",
    "# storing the target variable in separate variable\n",
    "y = data.emergency_or_not.values"
   ]
  },
  {
   "cell_type": "markdown",
   "metadata": {
    "colab_type": "text",
    "id": "IYNJtBXLuG-x"
   },
   "source": [
    "## 2. Pre-processing the data"
   ]
  },
  {
   "cell_type": "code",
   "execution_count": 8,
   "metadata": {
    "colab": {
     "base_uri": "https://localhost:8080/",
     "height": 34
    },
    "colab_type": "code",
    "executionInfo": {
     "elapsed": 1448,
     "status": "ok",
     "timestamp": 1585148215451,
     "user": {
      "displayName": "Aishwarya Singh",
      "photoUrl": "https://lh3.googleusercontent.com/a-/AOh14GgeJwfn4BdBDCAplWi_kdtB9FRssOpXO7T_aMgg=s64",
      "userId": "01105858832371513140"
     },
     "user_tz": -330
    },
    "id": "JsEZNNE_uG-2",
    "outputId": "acf6d29c-b990-4768-9f7f-23f5cb4bf70d",
    "scrolled": true
   },
   "outputs": [
    {
     "data": {
      "text/plain": [
       "(2352, 150528)"
      ]
     },
     "execution_count": 8,
     "metadata": {},
     "output_type": "execute_result"
    }
   ],
   "source": [
    "# converting 3 dimensional image to 1 dimensional image\n",
    "X = X.reshape(X.shape[0], 224*224*3)\n",
    "X.shape"
   ]
  },
  {
   "cell_type": "code",
   "execution_count": 9,
   "metadata": {
    "colab": {
     "base_uri": "https://localhost:8080/",
     "height": 34
    },
    "colab_type": "code",
    "executionInfo": {
     "elapsed": 3359,
     "status": "ok",
     "timestamp": 1585148238484,
     "user": {
      "displayName": "Aishwarya Singh",
      "photoUrl": "https://lh3.googleusercontent.com/a-/AOh14GgeJwfn4BdBDCAplWi_kdtB9FRssOpXO7T_aMgg=s64",
      "userId": "01105858832371513140"
     },
     "user_tz": -330
    },
    "id": "wI3hNx3uuG_L",
    "outputId": "210d10b3-93c6-4210-913e-20aeab58b78d"
   },
   "outputs": [
    {
     "data": {
      "text/plain": [
       "(0.0, 1.0)"
      ]
     },
     "execution_count": 9,
     "metadata": {},
     "output_type": "execute_result"
    }
   ],
   "source": [
    "# normalizing the pixel values\n",
    "X = X / X.max()\n",
    "\n",
    "# minimum and maximum pixel values of images after normalizing\n",
    "X.min(), X.max()"
   ]
  },
  {
   "cell_type": "markdown",
   "metadata": {
    "colab_type": "text",
    "id": "Scbo48PLuG_b"
   },
   "source": [
    "## 3. Creating training and validation set"
   ]
  },
  {
   "cell_type": "code",
   "execution_count": 10,
   "metadata": {
    "colab": {},
    "colab_type": "code",
    "id": "-UmSQzb1uG_d"
   },
   "outputs": [],
   "source": [
    "# creating a training and validation set\n",
    "X_train, X_valid, y_train, y_valid=train_test_split(X,y,test_size=0.3, random_state=seed)"
   ]
  },
  {
   "cell_type": "code",
   "execution_count": 11,
   "metadata": {
    "colab": {
     "base_uri": "https://localhost:8080/",
     "height": 34
    },
    "colab_type": "code",
    "executionInfo": {
     "elapsed": 1114,
     "status": "ok",
     "timestamp": 1585148271268,
     "user": {
      "displayName": "Aishwarya Singh",
      "photoUrl": "https://lh3.googleusercontent.com/a-/AOh14GgeJwfn4BdBDCAplWi_kdtB9FRssOpXO7T_aMgg=s64",
      "userId": "01105858832371513140"
     },
     "user_tz": -330
    },
    "id": "xTC-FgDjuG_k",
    "outputId": "e3160974-cc4e-4032-9c1e-c3c409921a8f"
   },
   "outputs": [
    {
     "data": {
      "text/plain": [
       "(((1646, 150528), (1646,)), ((706, 150528), (706,)))"
      ]
     },
     "execution_count": 11,
     "metadata": {},
     "output_type": "execute_result"
    }
   ],
   "source": [
    "# shape of training and validation set\n",
    "(X_train.shape, y_train.shape), (X_valid.shape, y_valid.shape)"
   ]
  },
  {
   "cell_type": "markdown",
   "metadata": {
    "colab_type": "text",
    "id": "vskdq-4huG_r"
   },
   "source": [
    "## 4. Defining the model architecture"
   ]
  },
  {
   "cell_type": "code",
   "execution_count": 12,
   "metadata": {
    "colab": {
     "base_uri": "https://localhost:8080/",
     "height": 141
    },
    "colab_type": "code",
    "executionInfo": {
     "elapsed": 768,
     "status": "ok",
     "timestamp": 1585148299907,
     "user": {
      "displayName": "Aishwarya Singh",
      "photoUrl": "https://lh3.googleusercontent.com/a-/AOh14GgeJwfn4BdBDCAplWi_kdtB9FRssOpXO7T_aMgg=s64",
      "userId": "01105858832371513140"
     },
     "user_tz": -330
    },
    "id": "tLqmJg8PuHBs",
    "outputId": "99df6836-021f-4f27-9a57-0809840b02c9"
   },
   "outputs": [],
   "source": [
    "# defining the model architecture with dropout layer\n",
    "model=Sequential()\n",
    "\n",
    "model.add(InputLayer(input_shape=(224*224*3,)))\n",
    "model.add(Dense(100, activation='sigmoid'))\n",
    "model.add(Dense(100, activation='sigmoid'))\n",
    "model.add(Dense(units=1, activation='sigmoid'))"
   ]
  },
  {
   "cell_type": "markdown",
   "metadata": {
    "colab_type": "text",
    "id": "FS__sDNVrjOs"
   },
   "source": [
    "## 5. Compiling the model"
   ]
  },
  {
   "cell_type": "code",
   "execution_count": 13,
   "metadata": {
    "colab": {},
    "colab_type": "code",
    "id": "BGovpAw_uHBp"
   },
   "outputs": [],
   "source": [
    "# defining the adam optimizer and setting the learning rate as 10^-5 and adding clip value to clip the gradients\n",
    "adam = Adam(lr=1e-5, clipvalue=1)\n",
    "# Values < -1 will be -1 and any value greater than 1 will become 1\n",
    "# Using ReLU activation function and the proW weight initialization are the solutions to prevent vanishing gradients. Whereas clipping prevents exploding gradients."
   ]
  },
  {
   "cell_type": "code",
   "execution_count": 14,
   "metadata": {
    "colab": {
     "base_uri": "https://localhost:8080/",
     "height": 159
    },
    "colab_type": "code",
    "executionInfo": {
     "elapsed": 1920,
     "status": "ok",
     "timestamp": 1585148400803,
     "user": {
      "displayName": "Aishwarya Singh",
      "photoUrl": "https://lh3.googleusercontent.com/a-/AOh14GgeJwfn4BdBDCAplWi_kdtB9FRssOpXO7T_aMgg=s64",
      "userId": "01105858832371513140"
     },
     "user_tz": -330
    },
    "id": "pcEUdq_Tri5x",
    "outputId": "f4c05bf1-4713-467a-8e71-bc93614e1154"
   },
   "outputs": [],
   "source": [
    "# compiling the model\n",
    "\n",
    "# defining loss as binary crossentropy\n",
    "# defining optimizer as Adam\n",
    "# defining metrics as accuracy\n",
    "\n",
    "model.compile(loss='binary_crossentropy', optimizer=adam, metrics=['accuracy'])"
   ]
  },
  {
   "cell_type": "markdown",
   "metadata": {
    "colab_type": "text",
    "id": "UJ6D8X0JtD7f"
   },
   "source": [
    "## 6. Training the model"
   ]
  },
  {
   "cell_type": "code",
   "execution_count": 15,
   "metadata": {
    "colab": {
     "base_uri": "https://localhost:8080/",
     "height": 1000
    },
    "colab_type": "code",
    "executionInfo": {
     "elapsed": 155550,
     "status": "ok",
     "timestamp": 1585148564336,
     "user": {
      "displayName": "Aishwarya Singh",
      "photoUrl": "https://lh3.googleusercontent.com/a-/AOh14GgeJwfn4BdBDCAplWi_kdtB9FRssOpXO7T_aMgg=s64",
      "userId": "01105858832371513140"
     },
     "user_tz": -330
    },
    "id": "KL7PHbMRuHBy",
    "outputId": "f4d9319a-2f93-4a27-b5b0-8a0b8b9b1c68"
   },
   "outputs": [
    {
     "name": "stdout",
     "output_type": "stream",
     "text": [
      "Epoch 1/100\n",
      "13/13 [==============================] - 3s 208ms/step - loss: 0.6835 - accuracy: 0.5668 - val_loss: 0.6679 - val_accuracy: 0.5637\n",
      "Epoch 2/100\n",
      "13/13 [==============================] - 1s 110ms/step - loss: 0.6557 - accuracy: 0.6106 - val_loss: 0.6470 - val_accuracy: 0.6303\n",
      "Epoch 3/100\n",
      "13/13 [==============================] - 1s 108ms/step - loss: 0.6350 - accuracy: 0.6677 - val_loss: 0.6308 - val_accuracy: 0.6572\n",
      "Epoch 4/100\n",
      "13/13 [==============================] - 1s 107ms/step - loss: 0.6212 - accuracy: 0.6750 - val_loss: 0.6181 - val_accuracy: 0.6827\n",
      "Epoch 5/100\n",
      "13/13 [==============================] - 1s 107ms/step - loss: 0.6112 - accuracy: 0.6883 - val_loss: 0.6102 - val_accuracy: 0.6799\n",
      "Epoch 6/100\n",
      "13/13 [==============================] - 1s 106ms/step - loss: 0.6015 - accuracy: 0.7072 - val_loss: 0.6034 - val_accuracy: 0.6898\n",
      "Epoch 7/100\n",
      "13/13 [==============================] - 1s 106ms/step - loss: 0.5950 - accuracy: 0.7072 - val_loss: 0.6006 - val_accuracy: 0.6898\n",
      "Epoch 8/100\n",
      "13/13 [==============================] - 1s 107ms/step - loss: 0.5925 - accuracy: 0.7053 - val_loss: 0.5944 - val_accuracy: 0.6941\n",
      "Epoch 9/100\n",
      "13/13 [==============================] - 1s 107ms/step - loss: 0.5819 - accuracy: 0.7236 - val_loss: 0.5905 - val_accuracy: 0.7040\n",
      "Epoch 10/100\n",
      "13/13 [==============================] - 1s 107ms/step - loss: 0.5734 - accuracy: 0.7199 - val_loss: 0.5895 - val_accuracy: 0.6898\n",
      "Epoch 11/100\n",
      "13/13 [==============================] - 1s 103ms/step - loss: 0.5683 - accuracy: 0.7357 - val_loss: 0.5839 - val_accuracy: 0.6941\n",
      "Epoch 12/100\n",
      "13/13 [==============================] - 1s 99ms/step - loss: 0.5649 - accuracy: 0.7412 - val_loss: 0.5815 - val_accuracy: 0.7054\n",
      "Epoch 13/100\n",
      "13/13 [==============================] - 1s 97ms/step - loss: 0.5591 - accuracy: 0.7485 - val_loss: 0.5808 - val_accuracy: 0.6926\n",
      "Epoch 14/100\n",
      "13/13 [==============================] - 1s 107ms/step - loss: 0.5568 - accuracy: 0.7394 - val_loss: 0.5822 - val_accuracy: 0.6983\n",
      "Epoch 15/100\n",
      "13/13 [==============================] - 1s 98ms/step - loss: 0.5529 - accuracy: 0.7539 - val_loss: 0.5846 - val_accuracy: 0.6997\n",
      "Epoch 16/100\n",
      "13/13 [==============================] - 1s 104ms/step - loss: 0.5458 - accuracy: 0.7497 - val_loss: 0.5758 - val_accuracy: 0.7040\n",
      "Epoch 17/100\n",
      "13/13 [==============================] - 1s 114ms/step - loss: 0.5420 - accuracy: 0.7582 - val_loss: 0.5755 - val_accuracy: 0.7025\n",
      "Epoch 18/100\n",
      "13/13 [==============================] - 1s 114ms/step - loss: 0.5384 - accuracy: 0.7600 - val_loss: 0.5706 - val_accuracy: 0.7040\n",
      "Epoch 19/100\n",
      "13/13 [==============================] - 1s 115ms/step - loss: 0.5361 - accuracy: 0.7637 - val_loss: 0.5709 - val_accuracy: 0.7025\n",
      "Epoch 20/100\n",
      "13/13 [==============================] - 1s 112ms/step - loss: 0.5318 - accuracy: 0.7679 - val_loss: 0.5738 - val_accuracy: 0.7040\n",
      "Epoch 21/100\n",
      "13/13 [==============================] - 1s 114ms/step - loss: 0.5317 - accuracy: 0.7661 - val_loss: 0.5728 - val_accuracy: 0.7025\n",
      "Epoch 22/100\n",
      "13/13 [==============================] - 1s 114ms/step - loss: 0.5312 - accuracy: 0.7594 - val_loss: 0.5670 - val_accuracy: 0.7082\n",
      "Epoch 23/100\n",
      "13/13 [==============================] - 1s 112ms/step - loss: 0.5273 - accuracy: 0.7667 - val_loss: 0.5642 - val_accuracy: 0.7139\n",
      "Epoch 24/100\n",
      "13/13 [==============================] - 1s 113ms/step - loss: 0.5244 - accuracy: 0.7691 - val_loss: 0.5703 - val_accuracy: 0.7040\n",
      "Epoch 25/100\n",
      "13/13 [==============================] - 1s 110ms/step - loss: 0.5200 - accuracy: 0.7752 - val_loss: 0.5630 - val_accuracy: 0.7125\n",
      "Epoch 26/100\n",
      "13/13 [==============================] - 1s 113ms/step - loss: 0.5151 - accuracy: 0.7691 - val_loss: 0.5631 - val_accuracy: 0.7125\n",
      "Epoch 27/100\n",
      "13/13 [==============================] - 1s 113ms/step - loss: 0.5091 - accuracy: 0.7795 - val_loss: 0.5648 - val_accuracy: 0.7068\n",
      "Epoch 28/100\n",
      "13/13 [==============================] - 1s 114ms/step - loss: 0.5066 - accuracy: 0.7825 - val_loss: 0.5589 - val_accuracy: 0.7125\n",
      "Epoch 29/100\n",
      "13/13 [==============================] - 1s 115ms/step - loss: 0.5066 - accuracy: 0.7886 - val_loss: 0.5657 - val_accuracy: 0.7054\n",
      "Epoch 30/100\n",
      "13/13 [==============================] - 1s 111ms/step - loss: 0.5082 - accuracy: 0.7825 - val_loss: 0.5589 - val_accuracy: 0.7110\n",
      "Epoch 31/100\n",
      "13/13 [==============================] - 1s 114ms/step - loss: 0.5069 - accuracy: 0.7752 - val_loss: 0.5574 - val_accuracy: 0.7167\n",
      "Epoch 32/100\n",
      "13/13 [==============================] - 1s 111ms/step - loss: 0.5033 - accuracy: 0.7855 - val_loss: 0.5561 - val_accuracy: 0.7040\n",
      "Epoch 33/100\n",
      "13/13 [==============================] - 1s 114ms/step - loss: 0.4934 - accuracy: 0.7916 - val_loss: 0.5568 - val_accuracy: 0.7139\n",
      "Epoch 34/100\n",
      "13/13 [==============================] - 2s 129ms/step - loss: 0.4924 - accuracy: 0.7965 - val_loss: 0.5540 - val_accuracy: 0.7181\n",
      "Epoch 35/100\n",
      "13/13 [==============================] - 2s 158ms/step - loss: 0.4877 - accuracy: 0.7989 - val_loss: 0.5537 - val_accuracy: 0.7096\n",
      "Epoch 36/100\n",
      "13/13 [==============================] - 2s 157ms/step - loss: 0.4860 - accuracy: 0.8001 - val_loss: 0.5608 - val_accuracy: 0.7040\n",
      "Epoch 37/100\n",
      "13/13 [==============================] - 2s 177ms/step - loss: 0.4826 - accuracy: 0.8026 - val_loss: 0.5554 - val_accuracy: 0.7096\n",
      "Epoch 38/100\n",
      "13/13 [==============================] - 2s 153ms/step - loss: 0.4789 - accuracy: 0.8050 - val_loss: 0.5522 - val_accuracy: 0.7096\n",
      "Epoch 39/100\n",
      "13/13 [==============================] - 2s 154ms/step - loss: 0.4820 - accuracy: 0.8026 - val_loss: 0.5532 - val_accuracy: 0.7110\n",
      "Epoch 40/100\n",
      "13/13 [==============================] - 2s 156ms/step - loss: 0.4846 - accuracy: 0.8019 - val_loss: 0.5549 - val_accuracy: 0.7153\n",
      "Epoch 41/100\n",
      "13/13 [==============================] - 2s 158ms/step - loss: 0.4751 - accuracy: 0.8001 - val_loss: 0.5553 - val_accuracy: 0.7068\n",
      "Epoch 42/100\n",
      "13/13 [==============================] - 2s 171ms/step - loss: 0.4703 - accuracy: 0.8129 - val_loss: 0.5657 - val_accuracy: 0.7011\n",
      "Epoch 43/100\n",
      "13/13 [==============================] - 2s 158ms/step - loss: 0.4678 - accuracy: 0.8141 - val_loss: 0.5507 - val_accuracy: 0.7096\n",
      "Epoch 44/100\n",
      "13/13 [==============================] - 2s 171ms/step - loss: 0.4636 - accuracy: 0.8220 - val_loss: 0.5515 - val_accuracy: 0.7082\n",
      "Epoch 45/100\n",
      "13/13 [==============================] - 2s 162ms/step - loss: 0.4601 - accuracy: 0.8208 - val_loss: 0.5467 - val_accuracy: 0.7181\n",
      "Epoch 46/100\n",
      "13/13 [==============================] - 2s 161ms/step - loss: 0.4590 - accuracy: 0.8250 - val_loss: 0.5463 - val_accuracy: 0.7224\n",
      "Epoch 47/100\n",
      "13/13 [==============================] - 2s 164ms/step - loss: 0.4551 - accuracy: 0.8226 - val_loss: 0.5488 - val_accuracy: 0.7125\n",
      "Epoch 48/100\n",
      "13/13 [==============================] - 2s 163ms/step - loss: 0.4536 - accuracy: 0.8281 - val_loss: 0.5475 - val_accuracy: 0.7125\n",
      "Epoch 49/100\n",
      "13/13 [==============================] - 2s 159ms/step - loss: 0.4509 - accuracy: 0.8293 - val_loss: 0.5451 - val_accuracy: 0.7224\n",
      "Epoch 50/100\n",
      "13/13 [==============================] - 2s 158ms/step - loss: 0.4483 - accuracy: 0.8335 - val_loss: 0.5436 - val_accuracy: 0.7210\n",
      "Epoch 51/100\n",
      "13/13 [==============================] - 2s 185ms/step - loss: 0.4517 - accuracy: 0.8269 - val_loss: 0.5432 - val_accuracy: 0.7210\n",
      "Epoch 52/100\n",
      "13/13 [==============================] - 2s 189ms/step - loss: 0.4438 - accuracy: 0.8335 - val_loss: 0.5500 - val_accuracy: 0.7082\n",
      "Epoch 53/100\n",
      "13/13 [==============================] - 2s 190ms/step - loss: 0.4401 - accuracy: 0.8402 - val_loss: 0.5466 - val_accuracy: 0.7110\n",
      "Epoch 54/100\n",
      "13/13 [==============================] - 2s 179ms/step - loss: 0.4359 - accuracy: 0.8426 - val_loss: 0.5455 - val_accuracy: 0.7096\n",
      "Epoch 55/100\n",
      "13/13 [==============================] - 2s 177ms/step - loss: 0.4357 - accuracy: 0.8475 - val_loss: 0.5427 - val_accuracy: 0.7252\n",
      "Epoch 56/100\n",
      "13/13 [==============================] - 2s 170ms/step - loss: 0.4304 - accuracy: 0.8475 - val_loss: 0.5488 - val_accuracy: 0.7068\n",
      "Epoch 57/100\n",
      "13/13 [==============================] - 2s 164ms/step - loss: 0.4279 - accuracy: 0.8481 - val_loss: 0.5479 - val_accuracy: 0.7167\n",
      "Epoch 58/100\n",
      "13/13 [==============================] - 2s 157ms/step - loss: 0.4251 - accuracy: 0.8530 - val_loss: 0.5448 - val_accuracy: 0.7096\n",
      "Epoch 59/100\n",
      "13/13 [==============================] - 2s 158ms/step - loss: 0.4222 - accuracy: 0.8548 - val_loss: 0.5415 - val_accuracy: 0.7139\n",
      "Epoch 60/100\n",
      "13/13 [==============================] - 2s 186ms/step - loss: 0.4193 - accuracy: 0.8493 - val_loss: 0.5565 - val_accuracy: 0.7167\n",
      "Epoch 61/100\n",
      "13/13 [==============================] - 2s 184ms/step - loss: 0.4189 - accuracy: 0.8542 - val_loss: 0.5478 - val_accuracy: 0.7167\n",
      "Epoch 62/100\n",
      "13/13 [==============================] - 2s 173ms/step - loss: 0.4175 - accuracy: 0.8542 - val_loss: 0.5384 - val_accuracy: 0.7295\n",
      "Epoch 63/100\n",
      "13/13 [==============================] - 2s 179ms/step - loss: 0.4122 - accuracy: 0.8627 - val_loss: 0.5412 - val_accuracy: 0.7139\n",
      "Epoch 64/100\n",
      "13/13 [==============================] - 2s 173ms/step - loss: 0.4090 - accuracy: 0.8603 - val_loss: 0.5359 - val_accuracy: 0.7238\n",
      "Epoch 65/100\n",
      "13/13 [==============================] - 2s 159ms/step - loss: 0.4051 - accuracy: 0.8670 - val_loss: 0.5343 - val_accuracy: 0.7266\n",
      "Epoch 66/100\n",
      "13/13 [==============================] - 2s 159ms/step - loss: 0.4047 - accuracy: 0.8645 - val_loss: 0.5338 - val_accuracy: 0.7252\n",
      "Epoch 67/100\n",
      "13/13 [==============================] - 2s 159ms/step - loss: 0.4047 - accuracy: 0.8621 - val_loss: 0.5356 - val_accuracy: 0.7195\n",
      "Epoch 68/100\n",
      "13/13 [==============================] - 2s 157ms/step - loss: 0.4061 - accuracy: 0.8530 - val_loss: 0.5473 - val_accuracy: 0.7153\n",
      "Epoch 69/100\n",
      "13/13 [==============================] - 2s 169ms/step - loss: 0.3960 - accuracy: 0.8718 - val_loss: 0.5416 - val_accuracy: 0.7195\n",
      "Epoch 70/100\n",
      "13/13 [==============================] - 2s 155ms/step - loss: 0.3930 - accuracy: 0.8755 - val_loss: 0.5418 - val_accuracy: 0.7181\n",
      "Epoch 71/100\n",
      "13/13 [==============================] - 2s 153ms/step - loss: 0.3898 - accuracy: 0.8815 - val_loss: 0.5322 - val_accuracy: 0.7309\n",
      "Epoch 72/100\n",
      "13/13 [==============================] - 2s 156ms/step - loss: 0.3857 - accuracy: 0.8827 - val_loss: 0.5379 - val_accuracy: 0.7139\n",
      "Epoch 73/100\n",
      "13/13 [==============================] - 2s 153ms/step - loss: 0.3858 - accuracy: 0.8785 - val_loss: 0.5285 - val_accuracy: 0.7351\n",
      "Epoch 74/100\n",
      "13/13 [==============================] - 2s 157ms/step - loss: 0.3831 - accuracy: 0.8834 - val_loss: 0.5303 - val_accuracy: 0.7295\n",
      "Epoch 75/100\n",
      "13/13 [==============================] - 2s 156ms/step - loss: 0.3789 - accuracy: 0.8840 - val_loss: 0.5278 - val_accuracy: 0.7337\n",
      "Epoch 76/100\n",
      "13/13 [==============================] - 2s 172ms/step - loss: 0.3756 - accuracy: 0.8931 - val_loss: 0.5296 - val_accuracy: 0.7280\n",
      "Epoch 77/100\n",
      "13/13 [==============================] - 3s 207ms/step - loss: 0.3760 - accuracy: 0.8834 - val_loss: 0.5288 - val_accuracy: 0.7295\n",
      "Epoch 78/100\n",
      "13/13 [==============================] - 2s 165ms/step - loss: 0.3697 - accuracy: 0.8949 - val_loss: 0.5344 - val_accuracy: 0.7224\n",
      "Epoch 79/100\n",
      "13/13 [==============================] - 2s 161ms/step - loss: 0.3678 - accuracy: 0.8882 - val_loss: 0.5572 - val_accuracy: 0.7153\n",
      "Epoch 80/100\n",
      "13/13 [==============================] - 2s 158ms/step - loss: 0.3653 - accuracy: 0.8931 - val_loss: 0.5369 - val_accuracy: 0.7238\n",
      "Epoch 81/100\n",
      "13/13 [==============================] - 2s 158ms/step - loss: 0.3620 - accuracy: 0.8973 - val_loss: 0.5317 - val_accuracy: 0.7224\n",
      "Epoch 82/100\n",
      "13/13 [==============================] - 2s 164ms/step - loss: 0.3594 - accuracy: 0.8949 - val_loss: 0.5284 - val_accuracy: 0.7295\n",
      "Epoch 83/100\n",
      "13/13 [==============================] - 2s 161ms/step - loss: 0.3561 - accuracy: 0.9004 - val_loss: 0.5254 - val_accuracy: 0.7309\n",
      "Epoch 84/100\n",
      "13/13 [==============================] - 2s 158ms/step - loss: 0.3544 - accuracy: 0.9016 - val_loss: 0.5282 - val_accuracy: 0.7252\n",
      "Epoch 85/100\n",
      "13/13 [==============================] - 2s 167ms/step - loss: 0.3515 - accuracy: 0.9022 - val_loss: 0.5361 - val_accuracy: 0.7266\n",
      "Epoch 86/100\n",
      "13/13 [==============================] - 2s 177ms/step - loss: 0.3498 - accuracy: 0.9016 - val_loss: 0.5419 - val_accuracy: 0.7224\n",
      "Epoch 87/100\n",
      "13/13 [==============================] - 2s 179ms/step - loss: 0.3465 - accuracy: 0.9022 - val_loss: 0.5422 - val_accuracy: 0.7224\n",
      "Epoch 88/100\n",
      "13/13 [==============================] - 2s 183ms/step - loss: 0.3442 - accuracy: 0.9022 - val_loss: 0.5271 - val_accuracy: 0.7309\n",
      "Epoch 89/100\n",
      "13/13 [==============================] - 2s 190ms/step - loss: 0.3406 - accuracy: 0.9089 - val_loss: 0.5291 - val_accuracy: 0.7266\n",
      "Epoch 90/100\n",
      "13/13 [==============================] - 2s 154ms/step - loss: 0.3405 - accuracy: 0.9083 - val_loss: 0.5240 - val_accuracy: 0.7238\n",
      "Epoch 91/100\n",
      "13/13 [==============================] - 2s 155ms/step - loss: 0.3351 - accuracy: 0.9107 - val_loss: 0.5377 - val_accuracy: 0.7280\n",
      "Epoch 92/100\n",
      "13/13 [==============================] - 2s 150ms/step - loss: 0.3329 - accuracy: 0.9107 - val_loss: 0.5365 - val_accuracy: 0.7266\n",
      "Epoch 93/100\n",
      "13/13 [==============================] - 2s 147ms/step - loss: 0.3293 - accuracy: 0.9156 - val_loss: 0.5284 - val_accuracy: 0.7252\n",
      "Epoch 94/100\n",
      "13/13 [==============================] - 2s 151ms/step - loss: 0.3271 - accuracy: 0.9125 - val_loss: 0.5305 - val_accuracy: 0.7252\n",
      "Epoch 95/100\n",
      "13/13 [==============================] - 2s 151ms/step - loss: 0.3268 - accuracy: 0.9083 - val_loss: 0.5236 - val_accuracy: 0.7309\n",
      "Epoch 96/100\n",
      "13/13 [==============================] - 2s 157ms/step - loss: 0.3258 - accuracy: 0.9156 - val_loss: 0.5218 - val_accuracy: 0.7365\n",
      "Epoch 97/100\n",
      "13/13 [==============================] - 2s 148ms/step - loss: 0.3203 - accuracy: 0.9149 - val_loss: 0.5219 - val_accuracy: 0.7365\n",
      "Epoch 98/100\n",
      "13/13 [==============================] - 2s 152ms/step - loss: 0.3173 - accuracy: 0.9198 - val_loss: 0.5226 - val_accuracy: 0.7337\n",
      "Epoch 99/100\n",
      "13/13 [==============================] - 2s 149ms/step - loss: 0.3142 - accuracy: 0.9143 - val_loss: 0.5294 - val_accuracy: 0.7295\n",
      "Epoch 100/100\n",
      "13/13 [==============================] - 2s 147ms/step - loss: 0.3142 - accuracy: 0.9222 - val_loss: 0.5461 - val_accuracy: 0.7181\n"
     ]
    }
   ],
   "source": [
    "# training the model for 100 epochs\n",
    "\n",
    "model_history = model.fit(X_train, y_train, epochs=100, batch_size=128,validation_data=(X_valid,y_valid))"
   ]
  },
  {
   "cell_type": "markdown",
   "metadata": {
    "colab_type": "text",
    "id": "4nItUUcYtYiw"
   },
   "source": [
    "## 7. Evaluating model performance "
   ]
  },
  {
   "cell_type": "code",
   "execution_count": 16,
   "metadata": {
    "colab": {
     "base_uri": "https://localhost:8080/",
     "height": 34
    },
    "colab_type": "code",
    "executionInfo": {
     "elapsed": 1457,
     "status": "ok",
     "timestamp": 1585148572864,
     "user": {
      "displayName": "Aishwarya Singh",
      "photoUrl": "https://lh3.googleusercontent.com/a-/AOh14GgeJwfn4BdBDCAplWi_kdtB9FRssOpXO7T_aMgg=s64",
      "userId": "01105858832371513140"
     },
     "user_tz": -330
    },
    "id": "Wbfb8_MWuHB4",
    "outputId": "28b1a668-8ced-4555-e902-45ec533e976f"
   },
   "outputs": [
    {
     "name": "stdout",
     "output_type": "stream",
     "text": [
      "WARNING:tensorflow:From <ipython-input-16-dc501c71f525>:2: Sequential.predict_classes (from tensorflow.python.keras.engine.sequential) is deprecated and will be removed after 2021-01-01.\n",
      "Instructions for updating:\n",
      "Please use instead:* `np.argmax(model.predict(x), axis=-1)`,   if your model does multi-class classification   (e.g. if it uses a `softmax` last-layer activation).* `(model.predict(x) > 0.5).astype(\"int32\")`,   if your model does binary classification   (e.g. if it uses a `sigmoid` last-layer activation).\n",
      "Accuracy on validation set: 0.7181303116147308 %\n"
     ]
    }
   ],
   "source": [
    "# accuracy on validation set\n",
    "print('Accuracy on validation set:', accuracy_score(y_valid, model.predict_classes(X_valid)[:, 0]), '%')"
   ]
  },
  {
   "cell_type": "code",
   "execution_count": 17,
   "metadata": {
    "colab": {
     "base_uri": "https://localhost:8080/",
     "height": 295
    },
    "colab_type": "code",
    "executionInfo": {
     "elapsed": 1404,
     "status": "ok",
     "timestamp": 1585148578739,
     "user": {
      "displayName": "Aishwarya Singh",
      "photoUrl": "https://lh3.googleusercontent.com/a-/AOh14GgeJwfn4BdBDCAplWi_kdtB9FRssOpXO7T_aMgg=s64",
      "userId": "01105858832371513140"
     },
     "user_tz": -330
    },
    "id": "UDXYXYMox5Ih",
    "outputId": "b2dccf5c-c00a-4da4-b3bd-eb2e6bc79128"
   },
   "outputs": [
    {
     "data": {
      "image/png": "[encoded data removed]",
      "text/plain": [
       "<Figure size 432x288 with 1 Axes>"
      ]
     },
     "metadata": {
      "needs_background": "light"
     },
     "output_type": "display_data"
    }
   ],
   "source": [
    "# summarize history for loss\n",
    "plt.plot(model_history.history['loss'])\n",
    "plt.plot(model_history.history['val_loss'])\n",
    "plt.title('model loss')\n",
    "plt.ylabel('loss')\n",
    "plt.xlabel('epoch')\n",
    "plt.legend(['train', 'validation'], loc='upper right')\n",
    "plt.show()"
   ]
  },
  {
   "cell_type": "code",
   "execution_count": null,
   "metadata": {
    "colab": {},
    "colab_type": "code",
    "id": "m7GCbX6IN8QM"
   },
   "outputs": [],
   "source": []
  }
 ],
 "metadata": {
  "accelerator": "GPU",
  "colab": {
   "collapsed_sections": [],
   "name": "Gradient Clipping in Keras.ipynb",
   "provenance": []
  },
  "kernelspec": {
   "display_name": "Python 3",
   "language": "python",
   "name": "python3"
  },
  "language_info": {
   "codemirror_mode": {
    "name": "ipython",
    "version": 3
   },
   "file_extension": ".py",
   "mimetype": "text/x-python",
   "name": "python",
   "nbconvert_exporter": "python",
   "pygments_lexer": "ipython3",
   "version": "3.8.8"
  }
 },
 "nbformat": 4,
 "nbformat_minor": 4
}
