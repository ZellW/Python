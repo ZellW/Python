{
 "cells": [
  {
   "cell_type": "code",
   "execution_count": null,
   "metadata": {
    "colab": {},
    "colab_type": "code",
    "id": "7Stn_DSAco5O"
   },
   "outputs": [],
   "source": [
    "#%tensorflow_version 1.x"
   ]
  },
  {
   "cell_type": "markdown",
   "metadata": {
    "colab_type": "text",
    "id": "xR7hbyyfuG9N"
   },
   "source": [
    "# Steps to solve Emergency vs Non-Emergency vehicle classification problem using Batch Normalization\n",
    "\n",
    "<ol>1. Loading the dataset</ol>\n",
    "<ol>2. Pre-processing the data</ol>\n",
    "<ol>3. Creating training and validation set</ol>\n",
    "<ol>4. Defining the model architecture</ol>\n",
    "<ol> <ol>* Adding batch normalization layer(s) </ol></ol>\n",
    "<ol>5. Compiling the model</ol>\n",
    "<ol>6. Training the model</ol>\n",
    "<ol>7. Evaluating model performance</ol>"
   ]
  },
  {
   "cell_type": "markdown",
   "metadata": {
    "colab_type": "text",
    "id": "xq6rlm_puG9U"
   },
   "source": [
    "## 1. Loading the dataset"
   ]
  },
  {
   "cell_type": "code",
   "execution_count": 1,
   "metadata": {
    "colab": {
     "base_uri": "https://localhost:8080/",
     "height": 81
    },
    "colab_type": "code",
    "id": "XPYT-SDjuG9a",
    "outputId": "fb44c668-40eb-4e73-9a4a-4b8636c67431",
    "scrolled": true
   },
   "outputs": [],
   "source": [
    "# import necessary libraries and functions\n",
    "import numpy as np\n",
    "import pandas as pd\n",
    "import matplotlib.pyplot as plt\n",
    "%matplotlib inline\n",
    "\n",
    "# importing layers from keras\n",
    "from keras.layers import Dense, InputLayer\n",
    "from keras.models import Sequential\n",
    "# importing adam optimizer from keras optimizer module \n",
    "from keras.optimizers import Adam\n",
    "\n",
    "# train_test_split to create training and validation set\n",
    "from sklearn.model_selection import train_test_split\n",
    "# accuracy_score to calculate the accuracy of predictions\n",
    "from sklearn.metrics import accuracy_score"
   ]
  },
  {
   "cell_type": "code",
   "execution_count": null,
   "metadata": {
    "colab": {
     "base_uri": "https://localhost:8080/",
     "height": 124
    },
    "colab_type": "code",
    "id": "-UaxENuHvEjb",
    "outputId": "b7bd4379-a689-41aa-c59c-76b677152153"
   },
   "outputs": [
    {
     "name": "stdout",
     "output_type": "stream",
     "text": [
      "Go to this URL in a browser: https://accounts.google.com/o/oauth2/auth?client_id=947318989803-6bn6qk8qdgf4n4g3pfee6491hc0brc4i.apps.googleusercontent.com&redirect_uri=urn%3aietf%3awg%3aoauth%3a2.0%3aoob&response_type=code&scope=email%20https%3a%2f%2fwww.googleapis.com%2fauth%2fdocs.test%20https%3a%2f%2fwww.googleapis.com%2fauth%2fdrive%20https%3a%2f%2fwww.googleapis.com%2fauth%2fdrive.photos.readonly%20https%3a%2f%2fwww.googleapis.com%2fauth%2fpeopleapi.readonly\n",
      "\n",
      "Enter your authorization code:\n",
      "··········\n",
      "Mounted at /content/drive\n"
     ]
    }
   ],
   "source": [
    "# from google.colab import drive\n",
    "# drive.mount('/content/drive')"
   ]
  },
  {
   "cell_type": "code",
   "execution_count": 2,
   "metadata": {
    "colab": {
     "base_uri": "https://localhost:8080/",
     "height": 1000
    },
    "colab_type": "code",
    "id": "huxIDEqgvKZj",
    "outputId": "4fb3ae27-2460-4647-cd19-395abbe5bb3a"
   },
   "outputs": [],
   "source": [
    "# !unzip /content/drive/My\\ Drive/Dataset.zip"
   ]
  },
  {
   "cell_type": "code",
   "execution_count": 3,
   "metadata": {
    "colab": {},
    "colab_type": "code",
    "id": "WZdipKFauG9t"
   },
   "outputs": [],
   "source": [
    "# reading the csv file\n",
    "data = pd.read_csv('../data/emergency_classification.csv')"
   ]
  },
  {
   "cell_type": "code",
   "execution_count": 4,
   "metadata": {
    "colab": {},
    "colab_type": "code",
    "id": "7pOqqh5GuG94"
   },
   "outputs": [],
   "source": [
    "# create random number generator\n",
    "seed = 42"
   ]
  },
  {
   "cell_type": "code",
   "execution_count": 5,
   "metadata": {
    "colab": {},
    "colab_type": "code",
    "id": "AMZyTsx3uG-W"
   },
   "outputs": [],
   "source": [
    "# load images and store it in numpy array\n",
    "\n",
    "# empty list to store the images\n",
    "X = []\n",
    "# iterating over each image\n",
    "for img_name in data.image_names:\n",
    "    # loading the image using its name\n",
    "    img = plt.imread('../data/images_vehicles/' + img_name)\n",
    "    # saving each image in the list\n",
    "    X.append(img)\n",
    "    \n",
    "# converting the list of images into array\n",
    "X=np.array(X)\n",
    "\n",
    "# storing the target variable in separate variable\n",
    "y = data.emergency_or_not.values"
   ]
  },
  {
   "cell_type": "markdown",
   "metadata": {
    "colab_type": "text",
    "id": "IYNJtBXLuG-x"
   },
   "source": [
    "## 2. Pre-processing the data"
   ]
  },
  {
   "cell_type": "code",
   "execution_count": 6,
   "metadata": {
    "colab": {
     "base_uri": "https://localhost:8080/",
     "height": 34
    },
    "colab_type": "code",
    "id": "JsEZNNE_uG-2",
    "outputId": "9da130d2-12f0-489a-efed-3a9b19118051",
    "scrolled": true
   },
   "outputs": [
    {
     "data": {
      "text/plain": [
       "(2352, 150528)"
      ]
     },
     "execution_count": 6,
     "metadata": {},
     "output_type": "execute_result"
    }
   ],
   "source": [
    "# converting 3 dimensional image to 1 dimensional image\n",
    "X = X.reshape(X.shape[0], 224*224*3)\n",
    "X.shape"
   ]
  },
  {
   "cell_type": "code",
   "execution_count": 7,
   "metadata": {
    "colab": {
     "base_uri": "https://localhost:8080/",
     "height": 34
    },
    "colab_type": "code",
    "id": "wI3hNx3uuG_L",
    "outputId": "0676bd07-78dd-40ce-a368-f894404c03f3"
   },
   "outputs": [
    {
     "data": {
      "text/plain": [
       "(0.0, 1.0)"
      ]
     },
     "execution_count": 7,
     "metadata": {},
     "output_type": "execute_result"
    }
   ],
   "source": [
    "# normalizing the pixel values\n",
    "X = X / X.max()\n",
    "\n",
    "# minimum and maximum pixel values of images after normalizing\n",
    "X.min(), X.max()"
   ]
  },
  {
   "cell_type": "markdown",
   "metadata": {
    "colab_type": "text",
    "id": "Scbo48PLuG_b"
   },
   "source": [
    "## 3. Creating training and validation set"
   ]
  },
  {
   "cell_type": "code",
   "execution_count": 8,
   "metadata": {
    "colab": {},
    "colab_type": "code",
    "id": "-UmSQzb1uG_d"
   },
   "outputs": [],
   "source": [
    "# creating a training and validation set\n",
    "X_train, X_valid, y_train, y_valid=train_test_split(X,y,test_size=0.3, random_state=seed)"
   ]
  },
  {
   "cell_type": "code",
   "execution_count": 9,
   "metadata": {
    "colab": {
     "base_uri": "https://localhost:8080/",
     "height": 34
    },
    "colab_type": "code",
    "id": "xTC-FgDjuG_k",
    "outputId": "7e6eedbd-44ea-4673-ed0e-a9f346e312a6"
   },
   "outputs": [
    {
     "data": {
      "text/plain": [
       "(((1646, 150528), (1646,)), ((706, 150528), (706,)))"
      ]
     },
     "execution_count": 9,
     "metadata": {},
     "output_type": "execute_result"
    }
   ],
   "source": [
    "# shape of training and validation set\n",
    "(X_train.shape, y_train.shape), (X_valid.shape, y_valid.shape)"
   ]
  },
  {
   "cell_type": "markdown",
   "metadata": {
    "colab_type": "text",
    "id": "vskdq-4huG_r"
   },
   "source": [
    "## 4. Defining the model architecture\n",
    "\n",
    "### <ol>Without Batch Normalization</ol>"
   ]
  },
  {
   "cell_type": "code",
   "execution_count": 10,
   "metadata": {
    "colab": {
     "base_uri": "https://localhost:8080/",
     "height": 384
    },
    "colab_type": "code",
    "id": "tLqmJg8PuHBs",
    "outputId": "59ec4e5a-b81c-4990-e64e-06d49ac77878"
   },
   "outputs": [
    {
     "name": "stdout",
     "output_type": "stream",
     "text": [
      "Model: \"sequential\"\n",
      "_________________________________________________________________\n",
      "Layer (type)                 Output Shape              Param #   \n",
      "=================================================================\n",
      "dense (Dense)                (None, 100)               15052900  \n",
      "_________________________________________________________________\n",
      "dense_1 (Dense)              (None, 100)               10100     \n",
      "_________________________________________________________________\n",
      "dense_2 (Dense)              (None, 1)                 101       \n",
      "=================================================================\n",
      "Total params: 15,063,101\n",
      "Trainable params: 15,063,101\n",
      "Non-trainable params: 0\n",
      "_________________________________________________________________\n"
     ]
    }
   ],
   "source": [
    "# defining the model architecture\n",
    "model=Sequential()\n",
    "\n",
    "model.add(InputLayer(input_shape=(224*224*3,)))\n",
    "model.add(Dense(100, activation='sigmoid'))\n",
    "model.add(Dense(100, activation='sigmoid'))\n",
    "model.add(Dense(units=1, activation='sigmoid'))\n",
    "\n",
    "model.summary()"
   ]
  },
  {
   "cell_type": "markdown",
   "metadata": {
    "colab_type": "text",
    "id": "FS__sDNVrjOs"
   },
   "source": [
    "## 5. Compiling the model"
   ]
  },
  {
   "cell_type": "code",
   "execution_count": 11,
   "metadata": {
    "colab": {},
    "colab_type": "code",
    "id": "BGovpAw_uHBp"
   },
   "outputs": [],
   "source": [
    "# defining the adam optimizer and setting the learning rate as 10^-5\n",
    "adam = Adam(lr=1e-5)"
   ]
  },
  {
   "cell_type": "code",
   "execution_count": 12,
   "metadata": {
    "colab": {
     "base_uri": "https://localhost:8080/",
     "height": 159
    },
    "colab_type": "code",
    "id": "pcEUdq_Tri5x",
    "outputId": "3282dcc7-de70-43a8-d46d-07adaca96651"
   },
   "outputs": [],
   "source": [
    "# compiling the model\n",
    "\n",
    "# defining loss as binary crossentropy\n",
    "# defining optimizer as Adam\n",
    "# defining metrics as accuracy\n",
    "\n",
    "model.compile(loss='binary_crossentropy', optimizer=adam, metrics=['accuracy'])"
   ]
  },
  {
   "cell_type": "markdown",
   "metadata": {
    "colab_type": "text",
    "id": "UJ6D8X0JtD7f"
   },
   "source": [
    "## 6. Training the model"
   ]
  },
  {
   "cell_type": "code",
   "execution_count": 13,
   "metadata": {
    "colab": {
     "base_uri": "https://localhost:8080/",
     "height": 1000
    },
    "colab_type": "code",
    "id": "KL7PHbMRuHBy",
    "outputId": "5390fdd0-438a-4f22-9af9-a308f4b4f9a1"
   },
   "outputs": [
    {
     "name": "stdout",
     "output_type": "stream",
     "text": [
      "Epoch 1/50\n",
      "13/13 [==============================] - 4s 278ms/step - loss: 0.6589 - accuracy: 0.5966 - val_loss: 0.6500 - val_accuracy: 0.5949\n",
      "Epoch 2/50\n",
      "13/13 [==============================] - 1s 111ms/step - loss: 0.6287 - accuracy: 0.6592 - val_loss: 0.6267 - val_accuracy: 0.6473\n",
      "Epoch 3/50\n",
      "13/13 [==============================] - 1s 102ms/step - loss: 0.6120 - accuracy: 0.6817 - val_loss: 0.6117 - val_accuracy: 0.6898\n",
      "Epoch 4/50\n",
      "13/13 [==============================] - 1s 101ms/step - loss: 0.6039 - accuracy: 0.6865 - val_loss: 0.6031 - val_accuracy: 0.6898\n",
      "Epoch 5/50\n",
      "13/13 [==============================] - 2s 115ms/step - loss: 0.5927 - accuracy: 0.7066 - val_loss: 0.6014 - val_accuracy: 0.6742\n",
      "Epoch 6/50\n",
      "13/13 [==============================] - 1s 100ms/step - loss: 0.5843 - accuracy: 0.7163 - val_loss: 0.5936 - val_accuracy: 0.6884\n",
      "Epoch 7/50\n",
      "13/13 [==============================] - 1s 101ms/step - loss: 0.5821 - accuracy: 0.7163 - val_loss: 0.6136 - val_accuracy: 0.6629\n",
      "Epoch 8/50\n",
      "13/13 [==============================] - 1s 110ms/step - loss: 0.5792 - accuracy: 0.7193 - val_loss: 0.5993 - val_accuracy: 0.6728\n",
      "Epoch 9/50\n",
      "13/13 [==============================] - 1s 113ms/step - loss: 0.5671 - accuracy: 0.7345 - val_loss: 0.5887 - val_accuracy: 0.6969\n",
      "Epoch 10/50\n",
      "13/13 [==============================] - 1s 104ms/step - loss: 0.5620 - accuracy: 0.7363 - val_loss: 0.5869 - val_accuracy: 0.6969\n",
      "Epoch 11/50\n",
      "13/13 [==============================] - 1s 99ms/step - loss: 0.5586 - accuracy: 0.7473 - val_loss: 0.5857 - val_accuracy: 0.6983\n",
      "Epoch 12/50\n",
      "13/13 [==============================] - 1s 99ms/step - loss: 0.5553 - accuracy: 0.7454 - val_loss: 0.5920 - val_accuracy: 0.6799\n",
      "Epoch 13/50\n",
      "13/13 [==============================] - 1s 99ms/step - loss: 0.5493 - accuracy: 0.7546 - val_loss: 0.5857 - val_accuracy: 0.6926\n",
      "Epoch 14/50\n",
      "13/13 [==============================] - 2s 117ms/step - loss: 0.5479 - accuracy: 0.7442 - val_loss: 0.5913 - val_accuracy: 0.6771\n",
      "Epoch 15/50\n",
      "13/13 [==============================] - 2s 133ms/step - loss: 0.5417 - accuracy: 0.7600 - val_loss: 0.5750 - val_accuracy: 0.7011\n",
      "Epoch 16/50\n",
      "13/13 [==============================] - 2s 116ms/step - loss: 0.5382 - accuracy: 0.7582 - val_loss: 0.5691 - val_accuracy: 0.7054\n",
      "Epoch 17/50\n",
      "13/13 [==============================] - 2s 127ms/step - loss: 0.5342 - accuracy: 0.7570 - val_loss: 0.5752 - val_accuracy: 0.6983\n",
      "Epoch 18/50\n",
      "13/13 [==============================] - 2s 123ms/step - loss: 0.5332 - accuracy: 0.7716 - val_loss: 0.6019 - val_accuracy: 0.6671\n",
      "Epoch 19/50\n",
      "13/13 [==============================] - 1s 115ms/step - loss: 0.5322 - accuracy: 0.7631 - val_loss: 0.5824 - val_accuracy: 0.6955\n",
      "Epoch 20/50\n",
      "13/13 [==============================] - 2s 118ms/step - loss: 0.5255 - accuracy: 0.7697 - val_loss: 0.5805 - val_accuracy: 0.6983\n",
      "Epoch 21/50\n",
      "13/13 [==============================] - 1s 115ms/step - loss: 0.5222 - accuracy: 0.7758 - val_loss: 0.5826 - val_accuracy: 0.6969\n",
      "Epoch 22/50\n",
      "13/13 [==============================] - 1s 112ms/step - loss: 0.5207 - accuracy: 0.7801 - val_loss: 0.5720 - val_accuracy: 0.7040\n",
      "Epoch 23/50\n",
      "13/13 [==============================] - 1s 110ms/step - loss: 0.5163 - accuracy: 0.7831 - val_loss: 0.5897 - val_accuracy: 0.6799\n",
      "Epoch 24/50\n",
      "13/13 [==============================] - 1s 112ms/step - loss: 0.5164 - accuracy: 0.7789 - val_loss: 0.5794 - val_accuracy: 0.6955\n",
      "Epoch 25/50\n",
      "13/13 [==============================] - 1s 110ms/step - loss: 0.5088 - accuracy: 0.7874 - val_loss: 0.5659 - val_accuracy: 0.7153\n",
      "Epoch 26/50\n",
      "13/13 [==============================] - 1s 109ms/step - loss: 0.5068 - accuracy: 0.7849 - val_loss: 0.5579 - val_accuracy: 0.7096\n",
      "Epoch 27/50\n",
      "13/13 [==============================] - 1s 115ms/step - loss: 0.5072 - accuracy: 0.7783 - val_loss: 0.5570 - val_accuracy: 0.7068\n",
      "Epoch 28/50\n",
      "13/13 [==============================] - 2s 157ms/step - loss: 0.5029 - accuracy: 0.7874 - val_loss: 0.5567 - val_accuracy: 0.7025\n",
      "Epoch 29/50\n",
      "13/13 [==============================] - 2s 169ms/step - loss: 0.4982 - accuracy: 0.7940 - val_loss: 0.5579 - val_accuracy: 0.7054\n",
      "Epoch 30/50\n",
      "13/13 [==============================] - 2s 173ms/step - loss: 0.4968 - accuracy: 0.7959 - val_loss: 0.5545 - val_accuracy: 0.7125\n",
      "Epoch 31/50\n",
      "13/13 [==============================] - 2s 177ms/step - loss: 0.4935 - accuracy: 0.7947 - val_loss: 0.5564 - val_accuracy: 0.7096\n",
      "Epoch 32/50\n",
      "13/13 [==============================] - 2s 168ms/step - loss: 0.4888 - accuracy: 0.7940 - val_loss: 0.5551 - val_accuracy: 0.7082\n",
      "Epoch 33/50\n",
      "13/13 [==============================] - 2s 187ms/step - loss: 0.4860 - accuracy: 0.8074 - val_loss: 0.5532 - val_accuracy: 0.7082\n",
      "Epoch 34/50\n",
      "13/13 [==============================] - 2s 182ms/step - loss: 0.4837 - accuracy: 0.7983 - val_loss: 0.5527 - val_accuracy: 0.7125\n",
      "Epoch 35/50\n",
      "13/13 [==============================] - 2s 174ms/step - loss: 0.4829 - accuracy: 0.8038 - val_loss: 0.5612 - val_accuracy: 0.7195\n",
      "Epoch 36/50\n",
      "13/13 [==============================] - 2s 182ms/step - loss: 0.4763 - accuracy: 0.8098 - val_loss: 0.5598 - val_accuracy: 0.7167\n",
      "Epoch 37/50\n",
      "13/13 [==============================] - 2s 176ms/step - loss: 0.4749 - accuracy: 0.8123 - val_loss: 0.5734 - val_accuracy: 0.6969\n",
      "Epoch 38/50\n",
      "13/13 [==============================] - 2s 187ms/step - loss: 0.4719 - accuracy: 0.8141 - val_loss: 0.5513 - val_accuracy: 0.7125\n",
      "Epoch 39/50\n",
      "13/13 [==============================] - 2s 185ms/step - loss: 0.4710 - accuracy: 0.8141 - val_loss: 0.5629 - val_accuracy: 0.7011\n",
      "Epoch 40/50\n",
      "13/13 [==============================] - 3s 194ms/step - loss: 0.4676 - accuracy: 0.8135 - val_loss: 0.5645 - val_accuracy: 0.7011\n",
      "Epoch 41/50\n",
      "13/13 [==============================] - 2s 189ms/step - loss: 0.4633 - accuracy: 0.8196 - val_loss: 0.5661 - val_accuracy: 0.7011\n",
      "Epoch 42/50\n",
      "13/13 [==============================] - 2s 178ms/step - loss: 0.4617 - accuracy: 0.8196 - val_loss: 0.5615 - val_accuracy: 0.7082\n",
      "Epoch 43/50\n",
      "13/13 [==============================] - 2s 186ms/step - loss: 0.4564 - accuracy: 0.8232 - val_loss: 0.5670 - val_accuracy: 0.6997\n",
      "Epoch 44/50\n",
      "13/13 [==============================] - 2s 184ms/step - loss: 0.4547 - accuracy: 0.8202 - val_loss: 0.5613 - val_accuracy: 0.7054\n",
      "Epoch 45/50\n",
      "13/13 [==============================] - 2s 180ms/step - loss: 0.4510 - accuracy: 0.8232 - val_loss: 0.5782 - val_accuracy: 0.6997\n",
      "Epoch 46/50\n",
      "13/13 [==============================] - 3s 197ms/step - loss: 0.4517 - accuracy: 0.8202 - val_loss: 0.5516 - val_accuracy: 0.7195\n",
      "Epoch 47/50\n",
      "13/13 [==============================] - 2s 189ms/step - loss: 0.4469 - accuracy: 0.8335 - val_loss: 0.5435 - val_accuracy: 0.7054\n",
      "Epoch 48/50\n",
      "13/13 [==============================] - 3s 195ms/step - loss: 0.4420 - accuracy: 0.8341 - val_loss: 0.5453 - val_accuracy: 0.7195\n",
      "Epoch 49/50\n",
      "13/13 [==============================] - 2s 174ms/step - loss: 0.4400 - accuracy: 0.8433 - val_loss: 0.5422 - val_accuracy: 0.7110\n",
      "Epoch 50/50\n",
      "13/13 [==============================] - 2s 181ms/step - loss: 0.4388 - accuracy: 0.8384 - val_loss: 0.5422 - val_accuracy: 0.7181\n"
     ]
    }
   ],
   "source": [
    "# training the model for 50 epochs\n",
    "\n",
    "model_history = model.fit(X_train, y_train, epochs=50, batch_size=128,validation_data=(X_valid,y_valid))"
   ]
  },
  {
   "cell_type": "markdown",
   "metadata": {
    "colab_type": "text",
    "id": "4nItUUcYtYiw"
   },
   "source": [
    "## 7. Evaluating model performance "
   ]
  },
  {
   "cell_type": "code",
   "execution_count": 14,
   "metadata": {
    "colab": {
     "base_uri": "https://localhost:8080/",
     "height": 34
    },
    "colab_type": "code",
    "id": "Wbfb8_MWuHB4",
    "outputId": "a3b53dd0-7d50-41bc-a111-0b7c2cd015e2"
   },
   "outputs": [
    {
     "name": "stdout",
     "output_type": "stream",
     "text": [
      "WARNING:tensorflow:From <ipython-input-14-dc501c71f525>:2: Sequential.predict_classes (from tensorflow.python.keras.engine.sequential) is deprecated and will be removed after 2021-01-01.\n",
      "Instructions for updating:\n",
      "Please use instead:* `np.argmax(model.predict(x), axis=-1)`,   if your model does multi-class classification   (e.g. if it uses a `softmax` last-layer activation).* `(model.predict(x) > 0.5).astype(\"int32\")`,   if your model does binary classification   (e.g. if it uses a `sigmoid` last-layer activation).\n",
      "Accuracy on validation set: 0.7181303116147308 %\n"
     ]
    }
   ],
   "source": [
    "# accuracy on validation set\n",
    "print('Accuracy on validation set:', accuracy_score(y_valid, model.predict_classes(X_valid)[:, 0]), '%')"
   ]
  },
  {
   "cell_type": "code",
   "execution_count": 15,
   "metadata": {
    "colab": {
     "base_uri": "https://localhost:8080/",
     "height": 295
    },
    "colab_type": "code",
    "id": "UDXYXYMox5Ih",
    "outputId": "9b4cf1fa-7de4-4534-cb22-e4415ceb1313"
   },
   "outputs": [
    {
     "data": {
      "image/png": "[encoded data removed]",
      "text/plain": [
       "<Figure size 432x288 with 1 Axes>"
      ]
     },
     "metadata": {
      "needs_background": "light"
     },
     "output_type": "display_data"
    }
   ],
   "source": [
    "# summarize history for loss\n",
    "plt.plot(model_history.history['loss'])\n",
    "plt.plot(model_history.history['val_loss'])\n",
    "plt.title('model loss')\n",
    "plt.ylabel('loss')\n",
    "plt.xlabel('epoch')\n",
    "plt.legend(['train', 'validation'], loc='upper right')\n",
    "plt.show()"
   ]
  },
  {
   "cell_type": "markdown",
   "metadata": {
    "colab_type": "text",
    "id": "wN6Pop-YOI2K"
   },
   "source": [
    "## Defining the model architecture\n",
    "\n",
    "### <ol>With Batch Normalization</ol>"
   ]
  },
  {
   "cell_type": "code",
   "execution_count": 16,
   "metadata": {
    "colab": {},
    "colab_type": "code",
    "id": "7NmU-XRjM2BG"
   },
   "outputs": [],
   "source": [
    "# importing batch normalization layer\n",
    "from keras.layers import BatchNormalization"
   ]
  },
  {
   "cell_type": "code",
   "execution_count": 17,
   "metadata": {
    "colab": {
     "base_uri": "https://localhost:8080/",
     "height": 350
    },
    "colab_type": "code",
    "id": "ddxvL8rUM1-w",
    "outputId": "cbc6441a-2e01-4af8-9b11-e9ded8017c30"
   },
   "outputs": [
    {
     "name": "stdout",
     "output_type": "stream",
     "text": [
      "Model: \"sequential_1\"\n",
      "_________________________________________________________________\n",
      "Layer (type)                 Output Shape              Param #   \n",
      "=================================================================\n",
      "dense_3 (Dense)              (None, 100)               15052900  \n",
      "_________________________________________________________________\n",
      "dense_4 (Dense)              (None, 100)               10100     \n",
      "_________________________________________________________________\n",
      "batch_normalization (BatchNo (None, 100)               400       \n",
      "_________________________________________________________________\n",
      "dense_5 (Dense)              (None, 1)                 101       \n",
      "=================================================================\n",
      "Total params: 15,063,501\n",
      "Trainable params: 15,063,301\n",
      "Non-trainable params: 200\n",
      "_________________________________________________________________\n"
     ]
    }
   ],
   "source": [
    "# defining the model architecture and adding batch normalization layers\n",
    "model=Sequential()\n",
    "\n",
    "model.add(InputLayer(input_shape=(224*224*3,)))\n",
    "model.add(Dense(100, activation='sigmoid'))\n",
    "model.add(Dense(100, activation='sigmoid'))\n",
    "model.add(BatchNormalization())\n",
    "model.add(Dense(units=1, activation='sigmoid'))\n",
    "\n",
    "model.summary()"
   ]
  },
  {
   "cell_type": "markdown",
   "metadata": {
    "colab_type": "text",
    "id": "5Rlqln-DOTl9"
   },
   "source": [
    "## Compiling the model"
   ]
  },
  {
   "cell_type": "code",
   "execution_count": 18,
   "metadata": {
    "colab": {},
    "colab_type": "code",
    "id": "Lr-vkqvLM18e"
   },
   "outputs": [],
   "source": [
    "# compiling the model\n",
    "\n",
    "# defining loss as binary crossentropy\n",
    "# defining optimizer as Adam\n",
    "# defining metrics as accuracy\n",
    "\n",
    "model.compile(loss='binary_crossentropy', optimizer=adam, metrics=['accuracy'])"
   ]
  },
  {
   "cell_type": "markdown",
   "metadata": {
    "colab_type": "text",
    "id": "WVOtoVWDOVmD"
   },
   "source": [
    "## Training the model"
   ]
  },
  {
   "cell_type": "code",
   "execution_count": 19,
   "metadata": {
    "colab": {
     "base_uri": "https://localhost:8080/",
     "height": 1000
    },
    "colab_type": "code",
    "id": "Xs8LUEmCM16E",
    "outputId": "efc60f9a-09f4-4d08-9c62-def598f75714"
   },
   "outputs": [
    {
     "name": "stdout",
     "output_type": "stream",
     "text": [
      "Epoch 1/50\n",
      "13/13 [==============================] - 2s 121ms/step - loss: 0.6544 - accuracy: 0.6543 - val_loss: 0.8006 - val_accuracy: 0.4391\n",
      "Epoch 2/50\n",
      "13/13 [==============================] - 2s 175ms/step - loss: 0.5034 - accuracy: 0.7655 - val_loss: 0.7975 - val_accuracy: 0.4391\n",
      "Epoch 3/50\n",
      "13/13 [==============================] - 3s 193ms/step - loss: 0.4213 - accuracy: 0.8165 - val_loss: 0.7708 - val_accuracy: 0.4391\n",
      "Epoch 4/50\n",
      "13/13 [==============================] - 2s 192ms/step - loss: 0.3489 - accuracy: 0.8736 - val_loss: 0.7630 - val_accuracy: 0.4391\n",
      "Epoch 5/50\n",
      "13/13 [==============================] - 2s 187ms/step - loss: 0.2918 - accuracy: 0.8949 - val_loss: 0.7515 - val_accuracy: 0.4391\n",
      "Epoch 6/50\n",
      "13/13 [==============================] - 2s 191ms/step - loss: 0.2579 - accuracy: 0.9253 - val_loss: 0.7478 - val_accuracy: 0.4391\n",
      "Epoch 7/50\n",
      "13/13 [==============================] - 2s 180ms/step - loss: 0.2189 - accuracy: 0.9471 - val_loss: 0.7468 - val_accuracy: 0.4391\n",
      "Epoch 8/50\n",
      "13/13 [==============================] - 2s 183ms/step - loss: 0.1952 - accuracy: 0.9526 - val_loss: 0.7315 - val_accuracy: 0.4391\n",
      "Epoch 9/50\n",
      "13/13 [==============================] - 2s 183ms/step - loss: 0.1683 - accuracy: 0.9666 - val_loss: 0.6924 - val_accuracy: 0.4419\n",
      "Epoch 10/50\n",
      "13/13 [==============================] - 2s 181ms/step - loss: 0.1382 - accuracy: 0.9866 - val_loss: 0.6962 - val_accuracy: 0.4433\n",
      "Epoch 11/50\n",
      "13/13 [==============================] - 2s 183ms/step - loss: 0.1255 - accuracy: 0.9885 - val_loss: 0.6771 - val_accuracy: 0.4717\n",
      "Epoch 12/50\n",
      "13/13 [==============================] - 2s 186ms/step - loss: 0.1124 - accuracy: 0.9921 - val_loss: 0.6690 - val_accuracy: 0.4929\n",
      "Epoch 13/50\n",
      "13/13 [==============================] - 2s 180ms/step - loss: 0.0968 - accuracy: 0.9951 - val_loss: 0.6586 - val_accuracy: 0.5524\n",
      "Epoch 14/50\n",
      "13/13 [==============================] - 2s 179ms/step - loss: 0.0921 - accuracy: 0.9939 - val_loss: 0.6580 - val_accuracy: 0.5368\n",
      "Epoch 15/50\n",
      "13/13 [==============================] - 2s 177ms/step - loss: 0.0824 - accuracy: 0.9964 - val_loss: 0.6461 - val_accuracy: 0.5992\n",
      "Epoch 16/50\n",
      "13/13 [==============================] - 2s 178ms/step - loss: 0.0782 - accuracy: 0.9970 - val_loss: 0.6393 - val_accuracy: 0.6360\n",
      "Epoch 17/50\n",
      "13/13 [==============================] - 2s 178ms/step - loss: 0.0670 - accuracy: 0.9982 - val_loss: 0.6205 - val_accuracy: 0.7493\n",
      "Epoch 18/50\n",
      "13/13 [==============================] - 2s 181ms/step - loss: 0.0649 - accuracy: 0.9957 - val_loss: 0.6304 - val_accuracy: 0.6459\n",
      "Epoch 19/50\n",
      "13/13 [==============================] - 2s 181ms/step - loss: 0.0607 - accuracy: 0.9976 - val_loss: 0.6145 - val_accuracy: 0.7110\n",
      "Epoch 20/50\n",
      "13/13 [==============================] - 2s 176ms/step - loss: 0.0581 - accuracy: 0.9970 - val_loss: 0.6078 - val_accuracy: 0.7408\n",
      "Epoch 21/50\n",
      "13/13 [==============================] - 2s 176ms/step - loss: 0.0557 - accuracy: 0.9970 - val_loss: 0.5927 - val_accuracy: 0.7422\n",
      "Epoch 22/50\n",
      "13/13 [==============================] - 2s 183ms/step - loss: 0.0520 - accuracy: 0.9976 - val_loss: 0.5848 - val_accuracy: 0.7507\n",
      "Epoch 23/50\n",
      "13/13 [==============================] - 2s 175ms/step - loss: 0.0475 - accuracy: 0.9976 - val_loss: 0.5880 - val_accuracy: 0.7422\n",
      "Epoch 24/50\n",
      "13/13 [==============================] - 2s 176ms/step - loss: 0.0444 - accuracy: 0.9976 - val_loss: 0.5759 - val_accuracy: 0.7550\n",
      "Epoch 25/50\n",
      "13/13 [==============================] - 2s 178ms/step - loss: 0.0447 - accuracy: 0.9964 - val_loss: 0.5711 - val_accuracy: 0.7450\n",
      "Epoch 26/50\n",
      "13/13 [==============================] - 2s 183ms/step - loss: 0.0391 - accuracy: 0.9964 - val_loss: 0.5631 - val_accuracy: 0.7479\n",
      "Epoch 27/50\n",
      "13/13 [==============================] - 3s 198ms/step - loss: 0.0386 - accuracy: 0.9976 - val_loss: 0.5588 - val_accuracy: 0.7606\n",
      "Epoch 28/50\n",
      "13/13 [==============================] - 2s 185ms/step - loss: 0.0381 - accuracy: 0.9976 - val_loss: 0.5545 - val_accuracy: 0.7507\n",
      "Epoch 29/50\n",
      "13/13 [==============================] - 2s 184ms/step - loss: 0.0378 - accuracy: 0.9976 - val_loss: 0.5412 - val_accuracy: 0.7521\n",
      "Epoch 30/50\n",
      "13/13 [==============================] - 2s 174ms/step - loss: 0.0338 - accuracy: 0.9964 - val_loss: 0.5406 - val_accuracy: 0.7592\n",
      "Epoch 31/50\n",
      "13/13 [==============================] - 2s 176ms/step - loss: 0.0353 - accuracy: 0.9964 - val_loss: 0.5330 - val_accuracy: 0.7592\n",
      "Epoch 32/50\n",
      "13/13 [==============================] - 2s 182ms/step - loss: 0.0326 - accuracy: 0.9970 - val_loss: 0.5323 - val_accuracy: 0.7521\n",
      "Epoch 33/50\n",
      "13/13 [==============================] - 2s 181ms/step - loss: 0.0335 - accuracy: 0.9970 - val_loss: 0.5222 - val_accuracy: 0.7436\n",
      "Epoch 34/50\n",
      "13/13 [==============================] - 2s 179ms/step - loss: 0.0325 - accuracy: 0.9982 - val_loss: 0.5346 - val_accuracy: 0.7394\n",
      "Epoch 35/50\n",
      "13/13 [==============================] - 2s 185ms/step - loss: 0.0286 - accuracy: 0.9976 - val_loss: 0.5215 - val_accuracy: 0.7578\n",
      "Epoch 36/50\n",
      "13/13 [==============================] - 2s 190ms/step - loss: 0.0306 - accuracy: 0.9957 - val_loss: 0.5232 - val_accuracy: 0.7436\n",
      "Epoch 37/50\n",
      "13/13 [==============================] - 3s 205ms/step - loss: 0.0309 - accuracy: 0.9957 - val_loss: 0.5169 - val_accuracy: 0.7592\n",
      "Epoch 38/50\n",
      "13/13 [==============================] - 3s 208ms/step - loss: 0.0298 - accuracy: 0.9976 - val_loss: 0.5267 - val_accuracy: 0.7365\n",
      "Epoch 39/50\n",
      "13/13 [==============================] - 3s 202ms/step - loss: 0.0278 - accuracy: 0.9976 - val_loss: 0.5213 - val_accuracy: 0.7493\n",
      "Epoch 40/50\n",
      "13/13 [==============================] - 3s 197ms/step - loss: 0.0236 - accuracy: 0.9976 - val_loss: 0.5269 - val_accuracy: 0.7535\n",
      "Epoch 41/50\n",
      "13/13 [==============================] - 2s 183ms/step - loss: 0.0239 - accuracy: 0.9970 - val_loss: 0.5228 - val_accuracy: 0.7677\n",
      "Epoch 42/50\n",
      "13/13 [==============================] - 2s 181ms/step - loss: 0.0235 - accuracy: 0.9970 - val_loss: 0.5576 - val_accuracy: 0.7323\n",
      "Epoch 43/50\n",
      "13/13 [==============================] - 2s 181ms/step - loss: 0.0266 - accuracy: 0.9970 - val_loss: 0.5523 - val_accuracy: 0.7351\n",
      "Epoch 44/50\n",
      "13/13 [==============================] - 2s 174ms/step - loss: 0.0239 - accuracy: 0.9976 - val_loss: 0.6833 - val_accuracy: 0.7167\n",
      "Epoch 45/50\n",
      "13/13 [==============================] - 2s 181ms/step - loss: 0.0213 - accuracy: 0.9964 - val_loss: 0.5440 - val_accuracy: 0.7592\n",
      "Epoch 46/50\n",
      "13/13 [==============================] - 2s 177ms/step - loss: 0.0207 - accuracy: 0.9970 - val_loss: 0.5530 - val_accuracy: 0.7535\n",
      "Epoch 47/50\n",
      "13/13 [==============================] - 3s 194ms/step - loss: 0.0203 - accuracy: 0.9976 - val_loss: 0.5875 - val_accuracy: 0.7408\n",
      "Epoch 48/50\n",
      "13/13 [==============================] - 3s 197ms/step - loss: 0.0188 - accuracy: 0.9970 - val_loss: 0.6046 - val_accuracy: 0.7280\n",
      "Epoch 49/50\n",
      "13/13 [==============================] - 3s 196ms/step - loss: 0.0204 - accuracy: 0.9964 - val_loss: 0.5868 - val_accuracy: 0.7450\n",
      "Epoch 50/50\n",
      "13/13 [==============================] - 2s 160ms/step - loss: 0.0212 - accuracy: 0.9982 - val_loss: 0.5823 - val_accuracy: 0.7507\n"
     ]
    }
   ],
   "source": [
    "# training the model for 50 epochs using Batch Normalization\n",
    "\n",
    "model_history = model.fit(X_train, y_train, epochs=50, batch_size=128,validation_data=(X_valid,y_valid))"
   ]
  },
  {
   "cell_type": "markdown",
   "metadata": {
    "colab_type": "text",
    "id": "g6GrNmZEObWs"
   },
   "source": [
    "## Evaluating model performance"
   ]
  },
  {
   "cell_type": "code",
   "execution_count": 20,
   "metadata": {
    "colab": {
     "base_uri": "https://localhost:8080/",
     "height": 34
    },
    "colab_type": "code",
    "id": "zPQi5OXcM13o",
    "outputId": "b00d5e43-51b3-4dd5-f3de-da7adf807528"
   },
   "outputs": [
    {
     "name": "stdout",
     "output_type": "stream",
     "text": [
      "Accuracy on validation set: 0.7507082152974505 %\n"
     ]
    }
   ],
   "source": [
    "# accuracy on validation set\n",
    "print('Accuracy on validation set:', accuracy_score(y_valid, model.predict_classes(X_valid)[:, 0]), '%')"
   ]
  },
  {
   "cell_type": "code",
   "execution_count": 21,
   "metadata": {
    "colab": {
     "base_uri": "https://localhost:8080/",
     "height": 295
    },
    "colab_type": "code",
    "id": "pamDczIVM102",
    "outputId": "f69db5fc-fad9-4cd8-96a3-28087da6ddc2"
   },
   "outputs": [
    {
     "data": {
      "image/png": "[encoded data removed]",
      "text/plain": [
       "<Figure size 432x288 with 1 Axes>"
      ]
     },
     "metadata": {
      "needs_background": "light"
     },
     "output_type": "display_data"
    }
   ],
   "source": [
    "# summarize history for loss\n",
    "plt.plot(model_history.history['loss'])\n",
    "plt.plot(model_history.history['val_loss'])\n",
    "plt.title('model loss')\n",
    "plt.ylabel('loss')\n",
    "plt.xlabel('epoch')\n",
    "plt.legend(['train', 'validation'], loc='upper right')\n",
    "plt.show()"
   ]
  },
  {
   "cell_type": "markdown",
   "metadata": {
    "colab": {},
    "colab_type": "code",
    "id": "_uNSCCqJPZHp"
   },
   "source": [
    "The convergence happened very quickly.\n",
    "\n",
    "### Advantages:\n",
    "\n",
    "- Speeds training by normalizing teh hidden layers.\n",
    "- "
   ]
  }
 ],
 "metadata": {
  "accelerator": "GPU",
  "colab": {
   "collapsed_sections": [],
   "name": "Batch Normalization in Neural Networks using Keras.ipynb",
   "provenance": []
  },
  "kernelspec": {
   "display_name": "Python 3",
   "language": "python",
   "name": "python3"
  },
  "language_info": {
   "codemirror_mode": {
    "name": "ipython",
    "version": 3
   },
   "file_extension": ".py",
   "mimetype": "text/x-python",
   "name": "python",
   "nbconvert_exporter": "python",
   "pygments_lexer": "ipython3",
   "version": "3.8.8"
  }
 },
 "nbformat": 4,
 "nbformat_minor": 4
}
