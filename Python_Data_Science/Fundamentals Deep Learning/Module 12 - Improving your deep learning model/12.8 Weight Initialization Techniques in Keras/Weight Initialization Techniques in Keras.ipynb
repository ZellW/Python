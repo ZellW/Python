{
 "cells": [
  {
   "cell_type": "markdown",
   "metadata": {
    "colab_type": "text",
    "id": "xR7hbyyfuG9N"
   },
   "source": [
    "# Steps to solve Emergency vs Non-Emergency vehicle classification\n",
    "\n",
    "<ol>1. Loading the dataset</ol>\n",
    "<ol>2. Pre-processing the data</ol>\n",
    "<ol>3. Creating training and validation set</ol>\n",
    "<ol>4. Defining the model architecture</ol>\n",
    "<ol><ol>Setting up the weight initialization technique</ol></ol>\n",
    "<ol>5. Compiling the model</ol>\n",
    "<ol>6. Training the model</ol>\n",
    "<ol>7. Evaluating model performance</ol>"
   ]
  },
  {
   "cell_type": "markdown",
   "metadata": {
    "colab_type": "text",
    "id": "xq6rlm_puG9U"
   },
   "source": [
    "## 1. Loading the dataset"
   ]
  },
  {
   "cell_type": "code",
   "execution_count": 1,
   "metadata": {
    "colab": {
     "base_uri": "https://localhost:8080/",
     "height": 34
    },
    "colab_type": "code",
    "executionInfo": {
     "elapsed": 5294,
     "status": "ok",
     "timestamp": 1587638524023,
     "user": {
      "displayName": "Aishwarya Singh",
      "photoUrl": "https://lh3.googleusercontent.com/a-/AOh14GgeJwfn4BdBDCAplWi_kdtB9FRssOpXO7T_aMgg=s64",
      "userId": "01105858832371513140"
     },
     "user_tz": -330
    },
    "id": "XPYT-SDjuG9a",
    "outputId": "28e39c97-c972-4b7b-9ed9-be75fb46fcff",
    "scrolled": true
   },
   "outputs": [],
   "source": [
    "# import necessary libraries and functions\n",
    "import numpy as np\n",
    "import pandas as pd\n",
    "import matplotlib.pyplot as plt\n",
    "%matplotlib inline\n",
    "\n",
    "# importing layers from keras\n",
    "from keras.layers import Dense, InputLayer\n",
    "from keras.models import Sequential\n",
    "# importing adam optimizer from keras optimizer module \n",
    "from keras.optimizers import Adam\n",
    "\n",
    "# train_test_split to create training and validation set\n",
    "from sklearn.model_selection import train_test_split\n",
    "# accuracy_score to calculate the accuracy of predictions\n",
    "from sklearn.metrics import accuracy_score"
   ]
  },
  {
   "cell_type": "code",
   "execution_count": 2,
   "metadata": {
    "colab": {
     "base_uri": "https://localhost:8080/",
     "height": 124
    },
    "colab_type": "code",
    "executionInfo": {
     "elapsed": 41142,
     "status": "ok",
     "timestamp": 1587638559885,
     "user": {
      "displayName": "Aishwarya Singh",
      "photoUrl": "https://lh3.googleusercontent.com/a-/AOh14GgeJwfn4BdBDCAplWi_kdtB9FRssOpXO7T_aMgg=s64",
      "userId": "01105858832371513140"
     },
     "user_tz": -330
    },
    "id": "-UaxENuHvEjb",
    "outputId": "df92a719-b865-4334-a6c1-6c56ce7f7fd1"
   },
   "outputs": [
    {
     "name": "stdout",
     "output_type": "stream",
     "text": [
      "Go to this URL in a browser: https://accounts.google.com/o/oauth2/auth?client_id=947318989803-6bn6qk8qdgf4n4g3pfee6491hc0brc4i.apps.googleusercontent.com&redirect_uri=urn%3aietf%3awg%3aoauth%3a2.0%3aoob&response_type=code&scope=email%20https%3a%2f%2fwww.googleapis.com%2fauth%2fdocs.test%20https%3a%2f%2fwww.googleapis.com%2fauth%2fdrive%20https%3a%2f%2fwww.googleapis.com%2fauth%2fdrive.photos.readonly%20https%3a%2f%2fwww.googleapis.com%2fauth%2fpeopleapi.readonly\n",
      "\n",
      "Enter your authorization code:\n",
      "··········\n",
      "Mounted at /content/drive\n"
     ]
    }
   ],
   "source": [
    "# from google.colab import drive\n",
    "# drive.mount('/content/drive')"
   ]
  },
  {
   "cell_type": "code",
   "execution_count": 2,
   "metadata": {
    "colab": {
     "base_uri": "https://localhost:8080/",
     "height": 1000
    },
    "colab_type": "code",
    "executionInfo": {
     "elapsed": 13019,
     "status": "ok",
     "timestamp": 1587638567855,
     "user": {
      "displayName": "Aishwarya Singh",
      "photoUrl": "https://lh3.googleusercontent.com/a-/AOh14GgeJwfn4BdBDCAplWi_kdtB9FRssOpXO7T_aMgg=s64",
      "userId": "01105858832371513140"
     },
     "user_tz": -330
    },
    "id": "huxIDEqgvKZj",
    "outputId": "c13f44e9-d54b-4402-b159-18d961253634"
   },
   "outputs": [],
   "source": [
    "# unzipping the Dataset.zip file\n",
    "# !unzip /content/drive/My\\ Drive/Dataset.zip"
   ]
  },
  {
   "cell_type": "code",
   "execution_count": 3,
   "metadata": {
    "colab": {},
    "colab_type": "code",
    "id": "WZdipKFauG9t"
   },
   "outputs": [],
   "source": [
    "# reading the csv file\n",
    "data = pd.read_csv('../../data/emergency_classification.csv')"
   ]
  },
  {
   "cell_type": "code",
   "execution_count": 4,
   "metadata": {
    "colab": {},
    "colab_type": "code",
    "id": "7pOqqh5GuG94"
   },
   "outputs": [],
   "source": [
    "# defining the seed value\n",
    "seed = 42"
   ]
  },
  {
   "cell_type": "code",
   "execution_count": 5,
   "metadata": {
    "colab": {
     "base_uri": "https://localhost:8080/",
     "height": 206
    },
    "colab_type": "code",
    "executionInfo": {
     "elapsed": 1160,
     "status": "ok",
     "timestamp": 1587638586285,
     "user": {
      "displayName": "Aishwarya Singh",
      "photoUrl": "https://lh3.googleusercontent.com/a-/AOh14GgeJwfn4BdBDCAplWi_kdtB9FRssOpXO7T_aMgg=s64",
      "userId": "01105858832371513140"
     },
     "user_tz": -330
    },
    "id": "_VeBsfEAuG-B",
    "outputId": "816b1f02-a3f0-4051-eb9f-cfa5d9bf4d1f",
    "scrolled": true
   },
   "outputs": [
    {
     "data": {
      "text/html": [
       "<div>\n",
       "<style scoped>\n",
       "    .dataframe tbody tr th:only-of-type {\n",
       "        vertical-align: middle;\n",
       "    }\n",
       "\n",
       "    .dataframe tbody tr th {\n",
       "        vertical-align: top;\n",
       "    }\n",
       "\n",
       "    .dataframe thead th {\n",
       "        text-align: right;\n",
       "    }\n",
       "</style>\n",
       "<table border=\"1\" class=\"dataframe\">\n",
       "  <thead>\n",
       "    <tr style=\"text-align: right;\">\n",
       "      <th></th>\n",
       "      <th>image_names</th>\n",
       "      <th>emergency_or_not</th>\n",
       "    </tr>\n",
       "  </thead>\n",
       "  <tbody>\n",
       "    <tr>\n",
       "      <th>0</th>\n",
       "      <td>0.jpg</td>\n",
       "      <td>1</td>\n",
       "    </tr>\n",
       "    <tr>\n",
       "      <th>1</th>\n",
       "      <td>1.jpg</td>\n",
       "      <td>1</td>\n",
       "    </tr>\n",
       "    <tr>\n",
       "      <th>2</th>\n",
       "      <td>2.jpg</td>\n",
       "      <td>1</td>\n",
       "    </tr>\n",
       "    <tr>\n",
       "      <th>3</th>\n",
       "      <td>3.jpg</td>\n",
       "      <td>1</td>\n",
       "    </tr>\n",
       "    <tr>\n",
       "      <th>4</th>\n",
       "      <td>4.jpg</td>\n",
       "      <td>1</td>\n",
       "    </tr>\n",
       "  </tbody>\n",
       "</table>\n",
       "</div>"
      ],
      "text/plain": [
       "  image_names  emergency_or_not\n",
       "0       0.jpg                 1\n",
       "1       1.jpg                 1\n",
       "2       2.jpg                 1\n",
       "3       3.jpg                 1\n",
       "4       4.jpg                 1"
      ]
     },
     "execution_count": 5,
     "metadata": {},
     "output_type": "execute_result"
    }
   ],
   "source": [
    "# looking at first five rows of the data\n",
    "data.head()"
   ]
  },
  {
   "cell_type": "code",
   "execution_count": 6,
   "metadata": {
    "colab": {},
    "colab_type": "code",
    "id": "AMZyTsx3uG-W"
   },
   "outputs": [],
   "source": [
    "# load images and store it in numpy array\n",
    "\n",
    "# empty list to store the images\n",
    "X = []\n",
    "# iterating over each image\n",
    "for img_name in data.image_names:\n",
    "    # loading the image using its name\n",
    "    img = plt.imread('../../data/images_vehicles/' + img_name)\n",
    "    # saving each image in the list\n",
    "    X.append(img)\n",
    "    \n",
    "# converting the list of images into array\n",
    "X=np.array(X)\n",
    "\n",
    "# storing the target variable in separate variable\n",
    "y = data.emergency_or_not.values"
   ]
  },
  {
   "cell_type": "code",
   "execution_count": 7,
   "metadata": {
    "colab": {
     "base_uri": "https://localhost:8080/",
     "height": 34
    },
    "colab_type": "code",
    "executionInfo": {
     "elapsed": 4219,
     "status": "ok",
     "timestamp": 1587638619200,
     "user": {
      "displayName": "Aishwarya Singh",
      "photoUrl": "https://lh3.googleusercontent.com/a-/AOh14GgeJwfn4BdBDCAplWi_kdtB9FRssOpXO7T_aMgg=s64",
      "userId": "01105858832371513140"
     },
     "user_tz": -330
    },
    "id": "csN5M_hzuG-d",
    "outputId": "fd3d6995-22dd-42d6-8c90-9fb771ceb742"
   },
   "outputs": [
    {
     "data": {
      "text/plain": [
       "(2352, 224, 224, 3)"
      ]
     },
     "execution_count": 7,
     "metadata": {},
     "output_type": "execute_result"
    }
   ],
   "source": [
    "# shape of the images\n",
    "X.shape"
   ]
  },
  {
   "cell_type": "markdown",
   "metadata": {
    "colab_type": "text",
    "id": "IYNJtBXLuG-x"
   },
   "source": [
    "## 2. Pre-processing the data"
   ]
  },
  {
   "cell_type": "code",
   "execution_count": 8,
   "metadata": {
    "colab": {
     "base_uri": "https://localhost:8080/",
     "height": 34
    },
    "colab_type": "code",
    "executionInfo": {
     "elapsed": 1663,
     "status": "ok",
     "timestamp": 1587638635958,
     "user": {
      "displayName": "Aishwarya Singh",
      "photoUrl": "https://lh3.googleusercontent.com/a-/AOh14GgeJwfn4BdBDCAplWi_kdtB9FRssOpXO7T_aMgg=s64",
      "userId": "01105858832371513140"
     },
     "user_tz": -330
    },
    "id": "JsEZNNE_uG-2",
    "outputId": "13e2c076-e969-4999-8854-683fb8c5446b",
    "scrolled": true
   },
   "outputs": [
    {
     "data": {
      "text/plain": [
       "(2352, 150528)"
      ]
     },
     "execution_count": 8,
     "metadata": {},
     "output_type": "execute_result"
    }
   ],
   "source": [
    "# converting 3 dimensional image to 1 dimensional image\n",
    "X = X.reshape(X.shape[0], 224*224*3)\n",
    "X.shape"
   ]
  },
  {
   "cell_type": "code",
   "execution_count": 9,
   "metadata": {
    "colab": {
     "base_uri": "https://localhost:8080/",
     "height": 34
    },
    "colab_type": "code",
    "executionInfo": {
     "elapsed": 2298,
     "status": "ok",
     "timestamp": 1587638642217,
     "user": {
      "displayName": "Aishwarya Singh",
      "photoUrl": "https://lh3.googleusercontent.com/a-/AOh14GgeJwfn4BdBDCAplWi_kdtB9FRssOpXO7T_aMgg=s64",
      "userId": "01105858832371513140"
     },
     "user_tz": -330
    },
    "id": "9y8rfKEguG-_",
    "outputId": "2a3ca6cb-9c0a-4c30-ca62-470ac6172091"
   },
   "outputs": [
    {
     "data": {
      "text/plain": [
       "(0, 255)"
      ]
     },
     "execution_count": 9,
     "metadata": {},
     "output_type": "execute_result"
    }
   ],
   "source": [
    "# minimum and maximum pixel values of images\n",
    "X.min(), X.max()"
   ]
  },
  {
   "cell_type": "code",
   "execution_count": 10,
   "metadata": {
    "colab": {},
    "colab_type": "code",
    "id": "wI3hNx3uuG_L"
   },
   "outputs": [],
   "source": [
    "# normalizing the pixel values\n",
    "X = X / X.max()"
   ]
  },
  {
   "cell_type": "code",
   "execution_count": 11,
   "metadata": {
    "colab": {
     "base_uri": "https://localhost:8080/",
     "height": 34
    },
    "colab_type": "code",
    "executionInfo": {
     "elapsed": 2945,
     "status": "ok",
     "timestamp": 1587638656941,
     "user": {
      "displayName": "Aishwarya Singh",
      "photoUrl": "https://lh3.googleusercontent.com/a-/AOh14GgeJwfn4BdBDCAplWi_kdtB9FRssOpXO7T_aMgg=s64",
      "userId": "01105858832371513140"
     },
     "user_tz": -330
    },
    "id": "tghVTsVluG_S",
    "outputId": "1fc733cc-f190-4a0b-c2e3-6e7b1e8983e0"
   },
   "outputs": [
    {
     "data": {
      "text/plain": [
       "(0.0, 1.0)"
      ]
     },
     "execution_count": 11,
     "metadata": {},
     "output_type": "execute_result"
    }
   ],
   "source": [
    "\n",
    "# minimum and maximum pixel values of images after normalizing\n",
    "X.min(), X.max()"
   ]
  },
  {
   "cell_type": "markdown",
   "metadata": {
    "colab_type": "text",
    "id": "Scbo48PLuG_b"
   },
   "source": [
    "## 3. Creating training and validation set"
   ]
  },
  {
   "cell_type": "code",
   "execution_count": 12,
   "metadata": {
    "colab": {},
    "colab_type": "code",
    "id": "-UmSQzb1uG_d"
   },
   "outputs": [],
   "source": [
    "# creating a training and validation set\n",
    "X_train, X_valid, y_train, y_valid=train_test_split(X,y,test_size=0.3, random_state=seed)"
   ]
  },
  {
   "cell_type": "code",
   "execution_count": 13,
   "metadata": {
    "colab": {
     "base_uri": "https://localhost:8080/",
     "height": 34
    },
    "colab_type": "code",
    "executionInfo": {
     "elapsed": 2435,
     "status": "ok",
     "timestamp": 1587638693206,
     "user": {
      "displayName": "Aishwarya Singh",
      "photoUrl": "https://lh3.googleusercontent.com/a-/AOh14GgeJwfn4BdBDCAplWi_kdtB9FRssOpXO7T_aMgg=s64",
      "userId": "01105858832371513140"
     },
     "user_tz": -330
    },
    "id": "xTC-FgDjuG_k",
    "outputId": "dbbba003-a3d3-4da0-9d82-06f584b7038a"
   },
   "outputs": [
    {
     "data": {
      "text/plain": [
       "(((1646, 150528), (1646,)), ((706, 150528), (706,)))"
      ]
     },
     "execution_count": 13,
     "metadata": {},
     "output_type": "execute_result"
    }
   ],
   "source": [
    "# shape of training and validation set\n",
    "(X_train.shape, y_train.shape), (X_valid.shape, y_valid.shape)"
   ]
  },
  {
   "cell_type": "markdown",
   "metadata": {
    "colab_type": "text",
    "id": "vskdq-4huG_r"
   },
   "source": [
    "## 4. Defining the model architecture"
   ]
  },
  {
   "cell_type": "markdown",
   "metadata": {
    "colab_type": "text",
    "id": "nQ2oSVzvQ_rm"
   },
   "source": [
    "### Setting up the weight initialization technique"
   ]
  },
  {
   "cell_type": "code",
   "execution_count": 14,
   "metadata": {
    "colab": {},
    "colab_type": "code",
    "id": "h7LF7SxewwhV"
   },
   "outputs": [],
   "source": [
    "# importing different initialization techniques\n",
    "from keras.initializers import random_normal, glorot_normal, he_normal"
   ]
  },
  {
   "cell_type": "code",
   "execution_count": 15,
   "metadata": {
    "colab": {},
    "colab_type": "code",
    "id": "tLqmJg8PuHBs"
   },
   "outputs": [],
   "source": [
    "# defining the model architecture\n",
    "model=Sequential()\n",
    "\n",
    "model.add(InputLayer(input_shape=(224*224*3,)))\n",
    "model.add(Dense(100, activation='sigmoid', kernel_initializer=he_normal(seed=seed)))\n",
    "model.add(Dense(100, activation='sigmoid', kernel_initializer=he_normal(seed=seed)))\n",
    "model.add(Dense(units=1, activation='sigmoid', kernel_initializer=he_normal(seed=seed)))"
   ]
  },
  {
   "cell_type": "code",
   "execution_count": null,
   "metadata": {},
   "outputs": [],
   "source": [
    "# defining the model architecture\n",
    "model=Sequential()\n",
    "\n",
    "model.add(InputLayer(input_shape=(224*224*3,)))\n",
    "model.add(Dense(100, activation='sigmoid', kernel_initializer=random_normal(mean=0, stddev=0.05, seed=seed)))\n",
    "model.add(Dense(100, activation='sigmoid', kernel_initializer=random_normal(mean=0, stddev=0.05, seed=seed)))\n",
    "model.add(Dense(units=1, activation='sigmoid', kernel_initializer=random_normal(mean=0, stddev=0.05, seed=seed)))"
   ]
  },
  {
   "cell_type": "code",
   "execution_count": null,
   "metadata": {},
   "outputs": [],
   "source": [
    "# defining the model architecture\n",
    "model=Sequential()\n",
    "\n",
    "model.add(InputLayer(input_shape=(224*224*3,)))\n",
    "model.add(Dense(100, activation='sigmoid', kernel_initializer=glorot_normal(seed=seed)))\n",
    "model.add(Dense(100, activation='sigmoid', kernel_initializer=glorot_normal(seed=seed)))\n",
    "model.add(Dense(units=1, activation='sigmoid', kernel_initializer=glorot_normal(seed=seed)))"
   ]
  },
  {
   "cell_type": "markdown",
   "metadata": {
    "colab_type": "text",
    "id": "FS__sDNVrjOs"
   },
   "source": [
    "## 5. Compiling the model"
   ]
  },
  {
   "cell_type": "code",
   "execution_count": 16,
   "metadata": {
    "colab": {},
    "colab_type": "code",
    "id": "BGovpAw_uHBp"
   },
   "outputs": [],
   "source": [
    "# defining the adam optimizer and setting the learning rate as 10^-5\n",
    "adam = Adam(lr=1e-5)"
   ]
  },
  {
   "cell_type": "code",
   "execution_count": 17,
   "metadata": {
    "colab": {},
    "colab_type": "code",
    "id": "pcEUdq_Tri5x"
   },
   "outputs": [],
   "source": [
    "# compiling the model\n",
    "\n",
    "# defining loss as binary crossentropy\n",
    "# defining optimizer as Adam\n",
    "# defining metrics as accuracy\n",
    "\n",
    "model.compile(loss='binary_crossentropy', optimizer=adam, metrics=['accuracy'])"
   ]
  },
  {
   "cell_type": "markdown",
   "metadata": {
    "colab_type": "text",
    "id": "UJ6D8X0JtD7f"
   },
   "source": [
    "## 6. Training the model"
   ]
  },
  {
   "cell_type": "code",
   "execution_count": 18,
   "metadata": {
    "colab": {
     "base_uri": "https://localhost:8080/",
     "height": 1000
    },
    "colab_type": "code",
    "executionInfo": {
     "elapsed": 94324,
     "status": "ok",
     "timestamp": 1587639536586,
     "user": {
      "displayName": "Aishwarya Singh",
      "photoUrl": "https://lh3.googleusercontent.com/a-/AOh14GgeJwfn4BdBDCAplWi_kdtB9FRssOpXO7T_aMgg=s64",
      "userId": "01105858832371513140"
     },
     "user_tz": -330
    },
    "id": "KL7PHbMRuHBy",
    "outputId": "cd410f4a-af1b-48fd-f837-1a2c4152b2bc"
   },
   "outputs": [
    {
     "name": "stdout",
     "output_type": "stream",
     "text": [
      "Epoch 1/50\n",
      "13/13 [==============================] - 2s 184ms/step - loss: 0.6920 - accuracy: 0.5693 - val_loss: 0.6649 - val_accuracy: 0.6445\n",
      "Epoch 2/50\n",
      "13/13 [==============================] - 1s 112ms/step - loss: 0.6521 - accuracy: 0.6160 - val_loss: 0.6413 - val_accuracy: 0.6431\n",
      "Epoch 3/50\n",
      "13/13 [==============================] - 1s 97ms/step - loss: 0.6296 - accuracy: 0.6683 - val_loss: 0.6237 - val_accuracy: 0.6572\n",
      "Epoch 4/50\n",
      "13/13 [==============================] - 1s 93ms/step - loss: 0.6198 - accuracy: 0.6750 - val_loss: 0.6124 - val_accuracy: 0.6827\n",
      "Epoch 5/50\n",
      "13/13 [==============================] - 1s 94ms/step - loss: 0.6050 - accuracy: 0.6938 - val_loss: 0.6101 - val_accuracy: 0.6771\n",
      "Epoch 6/50\n",
      "13/13 [==============================] - 1s 97ms/step - loss: 0.5942 - accuracy: 0.7102 - val_loss: 0.6015 - val_accuracy: 0.6841\n",
      "Epoch 7/50\n",
      "13/13 [==============================] - 1s 94ms/step - loss: 0.5900 - accuracy: 0.7047 - val_loss: 0.5948 - val_accuracy: 0.6955\n",
      "Epoch 8/50\n",
      "13/13 [==============================] - 1s 96ms/step - loss: 0.5818 - accuracy: 0.7114 - val_loss: 0.5872 - val_accuracy: 0.6941\n",
      "Epoch 9/50\n",
      "13/13 [==============================] - 1s 96ms/step - loss: 0.5734 - accuracy: 0.7181 - val_loss: 0.5831 - val_accuracy: 0.6955\n",
      "Epoch 10/50\n",
      "13/13 [==============================] - 1s 92ms/step - loss: 0.5698 - accuracy: 0.7199 - val_loss: 0.5798 - val_accuracy: 0.6912\n",
      "Epoch 11/50\n",
      "13/13 [==============================] - 1s 96ms/step - loss: 0.5583 - accuracy: 0.7351 - val_loss: 0.5785 - val_accuracy: 0.7040\n",
      "Epoch 12/50\n",
      "13/13 [==============================] - 1s 109ms/step - loss: 0.5565 - accuracy: 0.7321 - val_loss: 0.5744 - val_accuracy: 0.6969\n",
      "Epoch 13/50\n",
      "13/13 [==============================] - 1s 112ms/step - loss: 0.5503 - accuracy: 0.7418 - val_loss: 0.5771 - val_accuracy: 0.6955\n",
      "Epoch 14/50\n",
      "13/13 [==============================] - 1s 108ms/step - loss: 0.5449 - accuracy: 0.7357 - val_loss: 0.5700 - val_accuracy: 0.6997\n",
      "Epoch 15/50\n",
      "13/13 [==============================] - 1s 113ms/step - loss: 0.5392 - accuracy: 0.7491 - val_loss: 0.5696 - val_accuracy: 0.6969\n",
      "Epoch 16/50\n",
      "13/13 [==============================] - 2s 117ms/step - loss: 0.5347 - accuracy: 0.7606 - val_loss: 0.5692 - val_accuracy: 0.7025\n",
      "Epoch 17/50\n",
      "13/13 [==============================] - 1s 113ms/step - loss: 0.5314 - accuracy: 0.7600 - val_loss: 0.5661 - val_accuracy: 0.7040\n",
      "Epoch 18/50\n",
      "13/13 [==============================] - 2s 120ms/step - loss: 0.5292 - accuracy: 0.7600 - val_loss: 0.5751 - val_accuracy: 0.6955\n",
      "Epoch 19/50\n",
      "13/13 [==============================] - 1s 110ms/step - loss: 0.5249 - accuracy: 0.7649 - val_loss: 0.5627 - val_accuracy: 0.7011\n",
      "Epoch 20/50\n",
      "13/13 [==============================] - 2s 116ms/step - loss: 0.5234 - accuracy: 0.7710 - val_loss: 0.5612 - val_accuracy: 0.7011\n",
      "Epoch 21/50\n",
      "13/13 [==============================] - 2s 175ms/step - loss: 0.5164 - accuracy: 0.7637 - val_loss: 0.5614 - val_accuracy: 0.7096\n",
      "Epoch 22/50\n",
      "13/13 [==============================] - 2s 175ms/step - loss: 0.5147 - accuracy: 0.7691 - val_loss: 0.5821 - val_accuracy: 0.6884\n",
      "Epoch 23/50\n",
      "13/13 [==============================] - 2s 162ms/step - loss: 0.5168 - accuracy: 0.7661 - val_loss: 0.5593 - val_accuracy: 0.7082\n",
      "Epoch 24/50\n",
      "13/13 [==============================] - 2s 160ms/step - loss: 0.5133 - accuracy: 0.7752 - val_loss: 0.5580 - val_accuracy: 0.7054\n",
      "Epoch 25/50\n",
      "13/13 [==============================] - 2s 155ms/step - loss: 0.5158 - accuracy: 0.7685 - val_loss: 0.5588 - val_accuracy: 0.7139\n",
      "Epoch 26/50\n",
      "13/13 [==============================] - 2s 167ms/step - loss: 0.5056 - accuracy: 0.7691 - val_loss: 0.5706 - val_accuracy: 0.6941\n",
      "Epoch 27/50\n",
      "13/13 [==============================] - 2s 171ms/step - loss: 0.4959 - accuracy: 0.7874 - val_loss: 0.5556 - val_accuracy: 0.7068\n",
      "Epoch 28/50\n",
      "13/13 [==============================] - 2s 174ms/step - loss: 0.4977 - accuracy: 0.7843 - val_loss: 0.5620 - val_accuracy: 0.6926\n",
      "Epoch 29/50\n",
      "13/13 [==============================] - 2s 177ms/step - loss: 0.4934 - accuracy: 0.7892 - val_loss: 0.5589 - val_accuracy: 0.7096\n",
      "Epoch 30/50\n",
      "13/13 [==============================] - 2s 180ms/step - loss: 0.4895 - accuracy: 0.7947 - val_loss: 0.5544 - val_accuracy: 0.7082\n",
      "Epoch 31/50\n",
      "13/13 [==============================] - 2s 170ms/step - loss: 0.4860 - accuracy: 0.7965 - val_loss: 0.5521 - val_accuracy: 0.7068\n",
      "Epoch 32/50\n",
      "13/13 [==============================] - 2s 184ms/step - loss: 0.4837 - accuracy: 0.7953 - val_loss: 0.5544 - val_accuracy: 0.7082\n",
      "Epoch 33/50\n",
      "13/13 [==============================] - 2s 177ms/step - loss: 0.4812 - accuracy: 0.7995 - val_loss: 0.5529 - val_accuracy: 0.7125\n",
      "Epoch 34/50\n",
      "13/13 [==============================] - 2s 170ms/step - loss: 0.4774 - accuracy: 0.8019 - val_loss: 0.5500 - val_accuracy: 0.7054\n",
      "Epoch 35/50\n",
      "13/13 [==============================] - 2s 178ms/step - loss: 0.4752 - accuracy: 0.8098 - val_loss: 0.5503 - val_accuracy: 0.7125\n",
      "Epoch 36/50\n",
      "13/13 [==============================] - 2s 189ms/step - loss: 0.4724 - accuracy: 0.8050 - val_loss: 0.5490 - val_accuracy: 0.7096\n",
      "Epoch 37/50\n",
      "13/13 [==============================] - 2s 189ms/step - loss: 0.4688 - accuracy: 0.8165 - val_loss: 0.5529 - val_accuracy: 0.7068\n",
      "Epoch 38/50\n",
      "13/13 [==============================] - 2s 189ms/step - loss: 0.4666 - accuracy: 0.8159 - val_loss: 0.5473 - val_accuracy: 0.7167\n",
      "Epoch 39/50\n",
      "13/13 [==============================] - 2s 181ms/step - loss: 0.4635 - accuracy: 0.8208 - val_loss: 0.5538 - val_accuracy: 0.7054\n",
      "Epoch 40/50\n",
      "13/13 [==============================] - 2s 171ms/step - loss: 0.4601 - accuracy: 0.8159 - val_loss: 0.5458 - val_accuracy: 0.7153\n",
      "Epoch 41/50\n",
      "13/13 [==============================] - 2s 170ms/step - loss: 0.4589 - accuracy: 0.8214 - val_loss: 0.5476 - val_accuracy: 0.7068\n",
      "Epoch 42/50\n",
      "13/13 [==============================] - 2s 176ms/step - loss: 0.4543 - accuracy: 0.8220 - val_loss: 0.5506 - val_accuracy: 0.7054\n",
      "Epoch 43/50\n",
      "13/13 [==============================] - 2s 188ms/step - loss: 0.4529 - accuracy: 0.8256 - val_loss: 0.5460 - val_accuracy: 0.7139\n",
      "Epoch 44/50\n",
      "13/13 [==============================] - 2s 171ms/step - loss: 0.4514 - accuracy: 0.8317 - val_loss: 0.5532 - val_accuracy: 0.7068\n",
      "Epoch 45/50\n",
      "13/13 [==============================] - 2s 173ms/step - loss: 0.4486 - accuracy: 0.8244 - val_loss: 0.5553 - val_accuracy: 0.7068\n",
      "Epoch 46/50\n",
      "13/13 [==============================] - 2s 178ms/step - loss: 0.4446 - accuracy: 0.8275 - val_loss: 0.5430 - val_accuracy: 0.7153\n",
      "Epoch 47/50\n",
      "13/13 [==============================] - 2s 174ms/step - loss: 0.4401 - accuracy: 0.8366 - val_loss: 0.5412 - val_accuracy: 0.7224\n",
      "Epoch 48/50\n",
      "13/13 [==============================] - 2s 174ms/step - loss: 0.4399 - accuracy: 0.8317 - val_loss: 0.5418 - val_accuracy: 0.7238\n",
      "Epoch 49/50\n",
      "13/13 [==============================] - 3s 195ms/step - loss: 0.4441 - accuracy: 0.8354 - val_loss: 0.5419 - val_accuracy: 0.7167\n",
      "Epoch 50/50\n",
      "13/13 [==============================] - 2s 168ms/step - loss: 0.4319 - accuracy: 0.8414 - val_loss: 0.5457 - val_accuracy: 0.7110\n"
     ]
    }
   ],
   "source": [
    "# training the model for 50 epochs\n",
    "model_history = model.fit(X_train, y_train, epochs=50, batch_size=128, validation_data=(X_valid,y_valid))"
   ]
  },
  {
   "cell_type": "markdown",
   "metadata": {
    "colab_type": "text",
    "id": "4nItUUcYtYiw"
   },
   "source": [
    "## 8. Evaluating model performance "
   ]
  },
  {
   "cell_type": "code",
   "execution_count": 19,
   "metadata": {
    "colab": {
     "base_uri": "https://localhost:8080/",
     "height": 34
    },
    "colab_type": "code",
    "executionInfo": {
     "elapsed": 1972,
     "status": "ok",
     "timestamp": 1587639565050,
     "user": {
      "displayName": "Aishwarya Singh",
      "photoUrl": "https://lh3.googleusercontent.com/a-/AOh14GgeJwfn4BdBDCAplWi_kdtB9FRssOpXO7T_aMgg=s64",
      "userId": "01105858832371513140"
     },
     "user_tz": -330
    },
    "id": "Wbfb8_MWuHB4",
    "outputId": "b547cb80-4e14-403c-fc20-57daa9f52a3b"
   },
   "outputs": [
    {
     "name": "stdout",
     "output_type": "stream",
     "text": [
      "WARNING:tensorflow:From <ipython-input-19-dc501c71f525>:2: Sequential.predict_classes (from tensorflow.python.keras.engine.sequential) is deprecated and will be removed after 2021-01-01.\n",
      "Instructions for updating:\n",
      "Please use instead:* `np.argmax(model.predict(x), axis=-1)`,   if your model does multi-class classification   (e.g. if it uses a `softmax` last-layer activation).* `(model.predict(x) > 0.5).astype(\"int32\")`,   if your model does binary classification   (e.g. if it uses a `sigmoid` last-layer activation).\n",
      "Accuracy on validation set: 0.7110481586402266 %\n"
     ]
    }
   ],
   "source": [
    "# accuracy on validation set\n",
    "print('Accuracy on validation set:', accuracy_score(y_valid, model.predict_classes(X_valid)[:, 0]), '%')"
   ]
  },
  {
   "cell_type": "code",
   "execution_count": 20,
   "metadata": {
    "colab": {
     "base_uri": "https://localhost:8080/",
     "height": 295
    },
    "colab_type": "code",
    "executionInfo": {
     "elapsed": 1421,
     "status": "ok",
     "timestamp": 1587639582804,
     "user": {
      "displayName": "Aishwarya Singh",
      "photoUrl": "https://lh3.googleusercontent.com/a-/AOh14GgeJwfn4BdBDCAplWi_kdtB9FRssOpXO7T_aMgg=s64",
      "userId": "01105858832371513140"
     },
     "user_tz": -330
    },
    "id": "UDXYXYMox5Ih",
    "outputId": "3058a017-2fd3-466b-991b-a219d38dd5b9"
   },
   "outputs": [
    {
     "data": {
      "image/png": "[encoded data removed]",
      "text/plain": [
       "<Figure size 432x288 with 1 Axes>"
      ]
     },
     "metadata": {
      "needs_background": "light"
     },
     "output_type": "display_data"
    }
   ],
   "source": [
    " # summarize history for loss\n",
    "plt.plot(model_history.history['loss'])\n",
    "plt.plot(model_history.history['val_loss'])\n",
    "plt.title('model loss')\n",
    "plt.ylabel('loss')\n",
    "plt.xlabel('epoch')\n",
    "plt.legend(['train', 'validation'], loc='upper right')\n",
    "plt.show()"
   ]
  },
  {
   "cell_type": "markdown",
   "metadata": {
    "colab_type": "text",
    "id": "t2KerPt9IJuP"
   },
   "source": [
    "### Comparison between random, glorot and he normal initialization\n",
    "![alt text](https://drive.google.com/uc?id=1eneZC2OxBaDmU2ikhboiIADbuBksC18L)"
   ]
  },
  {
   "cell_type": "markdown",
   "metadata": {
    "colab": {},
    "colab_type": "code",
    "id": "OjXgzcFb33jI"
   },
   "source": [
    "Note the loss axis on random_normal - it is not as good.  Typically, glorot_normal and he_normal are used."
   ]
  }
 ],
 "metadata": {
  "accelerator": "GPU",
  "colab": {
   "collapsed_sections": [],
   "name": "Weight Initialization Techniques in Keras.ipynb",
   "provenance": []
  },
  "kernelspec": {
   "display_name": "Python 3",
   "language": "python",
   "name": "python3"
  },
  "language_info": {
   "codemirror_mode": {
    "name": "ipython",
    "version": 3
   },
   "file_extension": ".py",
   "mimetype": "text/x-python",
   "name": "python",
   "nbconvert_exporter": "python",
   "pygments_lexer": "ipython3",
   "version": "3.8.8"
  }
 },
 "nbformat": 4,
 "nbformat_minor": 4
}
