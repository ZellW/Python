{
 "cells": [
  {
   "cell_type": "code",
   "execution_count": null,
   "metadata": {
    "colab": {},
    "colab_type": "code",
    "id": "t8DjCj-YXWQX"
   },
   "outputs": [],
   "source": [
    "# %tensorflow_version 1.x"
   ]
  },
  {
   "cell_type": "markdown",
   "metadata": {
    "colab_type": "text",
    "id": "xR7hbyyfuG9N"
   },
   "source": [
    "# Steps to solve Emergency vs Non-Emergency vehicle classification problem using Dropout\n",
    "\n",
    "<ol>1. Loading the dataset</ol>\n",
    "<ol>2. Pre-processing the data</ol>\n",
    "<ol>3. Creating training and validation set</ol>\n",
    "<ol>4. Defining the model architecture</ol>\n",
    "<ol> <ol>* Adding dropout layer(s) </ol></ol>\n",
    "<ol>5. Compiling the model</ol>\n",
    "<ol>6. Training the model using Dropout</ol>\n",
    "<ol>7. Evaluating model performance</ol>"
   ]
  },
  {
   "cell_type": "markdown",
   "metadata": {
    "colab_type": "text",
    "id": "xq6rlm_puG9U"
   },
   "source": [
    "## 1. Loading the dataset"
   ]
  },
  {
   "cell_type": "code",
   "execution_count": 1,
   "metadata": {
    "colab": {
     "base_uri": "https://localhost:8080/",
     "height": 81
    },
    "colab_type": "code",
    "executionInfo": {
     "elapsed": 3283,
     "status": "ok",
     "timestamp": 1584961657702,
     "user": {
      "displayName": "Aishwarya Singh",
      "photoUrl": "https://lh3.googleusercontent.com/a-/AOh14GgeJwfn4BdBDCAplWi_kdtB9FRssOpXO7T_aMgg=s64",
      "userId": "01105858832371513140"
     },
     "user_tz": -330
    },
    "id": "XPYT-SDjuG9a",
    "outputId": "e90999bf-940d-4dc4-cc40-12777678bddd",
    "scrolled": true
   },
   "outputs": [],
   "source": [
    "# import necessary libraries and functions\n",
    "import numpy as np\n",
    "import pandas as pd\n",
    "import matplotlib.pyplot as plt\n",
    "%matplotlib inline\n",
    "\n",
    "# importing layers from keras\n",
    "from keras.layers import Dense, InputLayer\n",
    "from keras.models import Sequential\n",
    "# importing adam optimizer from keras optimizer module \n",
    "from keras.optimizers import Adam\n",
    "\n",
    "# train_test_split to create training and validation set\n",
    "from sklearn.model_selection import train_test_split\n",
    "# accuracy_score to calculate the accuracy of predictions\n",
    "from sklearn.metrics import accuracy_score"
   ]
  },
  {
   "cell_type": "code",
   "execution_count": null,
   "metadata": {
    "colab": {
     "base_uri": "https://localhost:8080/",
     "height": 124
    },
    "colab_type": "code",
    "executionInfo": {
     "elapsed": 53329,
     "status": "ok",
     "timestamp": 1584961716254,
     "user": {
      "displayName": "Aishwarya Singh",
      "photoUrl": "https://lh3.googleusercontent.com/a-/AOh14GgeJwfn4BdBDCAplWi_kdtB9FRssOpXO7T_aMgg=s64",
      "userId": "01105858832371513140"
     },
     "user_tz": -330
    },
    "id": "-UaxENuHvEjb",
    "outputId": "227fdf1a-1b14-4b8a-df45-9d6af417f66c"
   },
   "outputs": [
    {
     "name": "stdout",
     "output_type": "stream",
     "text": [
      "Go to this URL in a browser: https://accounts.google.com/o/oauth2/auth?client_id=947318989803-6bn6qk8qdgf4n4g3pfee6491hc0brc4i.apps.googleusercontent.com&redirect_uri=urn%3aietf%3awg%3aoauth%3a2.0%3aoob&response_type=code&scope=email%20https%3a%2f%2fwww.googleapis.com%2fauth%2fdocs.test%20https%3a%2f%2fwww.googleapis.com%2fauth%2fdrive%20https%3a%2f%2fwww.googleapis.com%2fauth%2fdrive.photos.readonly%20https%3a%2f%2fwww.googleapis.com%2fauth%2fpeopleapi.readonly\n",
      "\n",
      "Enter your authorization code:\n",
      "··········\n",
      "Mounted at /content/drive\n"
     ]
    }
   ],
   "source": [
    "# from google.colab import drive\n",
    "# drive.mount('/content/drive')"
   ]
  },
  {
   "cell_type": "code",
   "execution_count": 2,
   "metadata": {
    "colab": {
     "base_uri": "https://localhost:8080/",
     "height": 1000
    },
    "colab_type": "code",
    "executionInfo": {
     "elapsed": 7145,
     "status": "ok",
     "timestamp": 1584961730827,
     "user": {
      "displayName": "Aishwarya Singh",
      "photoUrl": "https://lh3.googleusercontent.com/a-/AOh14GgeJwfn4BdBDCAplWi_kdtB9FRssOpXO7T_aMgg=s64",
      "userId": "01105858832371513140"
     },
     "user_tz": -330
    },
    "id": "huxIDEqgvKZj",
    "outputId": "863354c9-e2f4-42f6-8eef-7b82df731d95"
   },
   "outputs": [],
   "source": [
    "# !unzip /content/drive/My\\ Drive/Dataset.zip"
   ]
  },
  {
   "cell_type": "code",
   "execution_count": 3,
   "metadata": {
    "colab": {},
    "colab_type": "code",
    "id": "WZdipKFauG9t"
   },
   "outputs": [],
   "source": [
    "# reading the csv file\n",
    "data = pd.read_csv('../../data//emergency_classification.csv')"
   ]
  },
  {
   "cell_type": "code",
   "execution_count": 4,
   "metadata": {
    "colab": {},
    "colab_type": "code",
    "id": "7pOqqh5GuG94"
   },
   "outputs": [],
   "source": [
    "# create random number generator\n",
    "seed = 42\n",
    "rng = np.random.RandomState(seed)"
   ]
  },
  {
   "cell_type": "code",
   "execution_count": 5,
   "metadata": {
    "colab": {
     "base_uri": "https://localhost:8080/",
     "height": 206
    },
    "colab_type": "code",
    "executionInfo": {
     "elapsed": 1594,
     "status": "ok",
     "timestamp": 1584961747993,
     "user": {
      "displayName": "Aishwarya Singh",
      "photoUrl": "https://lh3.googleusercontent.com/a-/AOh14GgeJwfn4BdBDCAplWi_kdtB9FRssOpXO7T_aMgg=s64",
      "userId": "01105858832371513140"
     },
     "user_tz": -330
    },
    "id": "_VeBsfEAuG-B",
    "outputId": "88f62f6d-b9f2-4dfd-a895-c961ac435260",
    "scrolled": true
   },
   "outputs": [
    {
     "data": {
      "text/html": [
       "<div>\n",
       "<style scoped>\n",
       "    .dataframe tbody tr th:only-of-type {\n",
       "        vertical-align: middle;\n",
       "    }\n",
       "\n",
       "    .dataframe tbody tr th {\n",
       "        vertical-align: top;\n",
       "    }\n",
       "\n",
       "    .dataframe thead th {\n",
       "        text-align: right;\n",
       "    }\n",
       "</style>\n",
       "<table border=\"1\" class=\"dataframe\">\n",
       "  <thead>\n",
       "    <tr style=\"text-align: right;\">\n",
       "      <th></th>\n",
       "      <th>image_names</th>\n",
       "      <th>emergency_or_not</th>\n",
       "    </tr>\n",
       "  </thead>\n",
       "  <tbody>\n",
       "    <tr>\n",
       "      <th>0</th>\n",
       "      <td>0.jpg</td>\n",
       "      <td>1</td>\n",
       "    </tr>\n",
       "    <tr>\n",
       "      <th>1</th>\n",
       "      <td>1.jpg</td>\n",
       "      <td>1</td>\n",
       "    </tr>\n",
       "    <tr>\n",
       "      <th>2</th>\n",
       "      <td>2.jpg</td>\n",
       "      <td>1</td>\n",
       "    </tr>\n",
       "    <tr>\n",
       "      <th>3</th>\n",
       "      <td>3.jpg</td>\n",
       "      <td>1</td>\n",
       "    </tr>\n",
       "    <tr>\n",
       "      <th>4</th>\n",
       "      <td>4.jpg</td>\n",
       "      <td>1</td>\n",
       "    </tr>\n",
       "  </tbody>\n",
       "</table>\n",
       "</div>"
      ],
      "text/plain": [
       "  image_names  emergency_or_not\n",
       "0       0.jpg                 1\n",
       "1       1.jpg                 1\n",
       "2       2.jpg                 1\n",
       "3       3.jpg                 1\n",
       "4       4.jpg                 1"
      ]
     },
     "execution_count": 5,
     "metadata": {},
     "output_type": "execute_result"
    }
   ],
   "source": [
    "# looking at first five rows of the data\n",
    "data.head()"
   ]
  },
  {
   "cell_type": "code",
   "execution_count": 7,
   "metadata": {
    "colab": {},
    "colab_type": "code",
    "id": "AMZyTsx3uG-W"
   },
   "outputs": [],
   "source": [
    "# load images and store it in numpy array\n",
    "\n",
    "# empty list to store the images\n",
    "X = []\n",
    "# iterating over each image\n",
    "for img_name in data.image_names:\n",
    "    # loading the image using its name\n",
    "    img = plt.imread('../../data/images_vehicles/' + img_name)\n",
    "    # saving each image in the list\n",
    "    X.append(img)\n",
    "    \n",
    "# converting the list of images into array\n",
    "X=np.array(X)\n",
    "\n",
    "# storing the target variable in separate variable\n",
    "y = data.emergency_or_not.values"
   ]
  },
  {
   "cell_type": "markdown",
   "metadata": {
    "colab_type": "text",
    "id": "IYNJtBXLuG-x"
   },
   "source": [
    "## 2. Pre-processing the data"
   ]
  },
  {
   "cell_type": "code",
   "execution_count": 8,
   "metadata": {
    "colab": {
     "base_uri": "https://localhost:8080/",
     "height": 34
    },
    "colab_type": "code",
    "executionInfo": {
     "elapsed": 1528,
     "status": "ok",
     "timestamp": 1584961806774,
     "user": {
      "displayName": "Aishwarya Singh",
      "photoUrl": "https://lh3.googleusercontent.com/a-/AOh14GgeJwfn4BdBDCAplWi_kdtB9FRssOpXO7T_aMgg=s64",
      "userId": "01105858832371513140"
     },
     "user_tz": -330
    },
    "id": "JsEZNNE_uG-2",
    "outputId": "19bf1b2e-186f-49f7-e696-89c4c3848cdf",
    "scrolled": true
   },
   "outputs": [
    {
     "data": {
      "text/plain": [
       "(2352, 150528)"
      ]
     },
     "execution_count": 8,
     "metadata": {},
     "output_type": "execute_result"
    }
   ],
   "source": [
    "# converting 3 dimensional image to 1 dimensional image\n",
    "X = X.reshape(X.shape[0], 224*224*3)\n",
    "X.shape"
   ]
  },
  {
   "cell_type": "code",
   "execution_count": 9,
   "metadata": {
    "colab": {
     "base_uri": "https://localhost:8080/",
     "height": 34
    },
    "colab_type": "code",
    "executionInfo": {
     "elapsed": 4088,
     "status": "ok",
     "timestamp": 1584961816717,
     "user": {
      "displayName": "Aishwarya Singh",
      "photoUrl": "https://lh3.googleusercontent.com/a-/AOh14GgeJwfn4BdBDCAplWi_kdtB9FRssOpXO7T_aMgg=s64",
      "userId": "01105858832371513140"
     },
     "user_tz": -330
    },
    "id": "wI3hNx3uuG_L",
    "outputId": "852e9b6e-8f26-4506-a738-7dcf59841f6a"
   },
   "outputs": [
    {
     "data": {
      "text/plain": [
       "(0.0, 1.0)"
      ]
     },
     "execution_count": 9,
     "metadata": {},
     "output_type": "execute_result"
    }
   ],
   "source": [
    "# normalizing the pixel values\n",
    "X = X / X.max()\n",
    "\n",
    "# minimum and maximum pixel values of images after normalizing\n",
    "X.min(), X.max()"
   ]
  },
  {
   "cell_type": "markdown",
   "metadata": {
    "colab_type": "text",
    "id": "Scbo48PLuG_b"
   },
   "source": [
    "## 3. Creating training and validation set"
   ]
  },
  {
   "cell_type": "code",
   "execution_count": 10,
   "metadata": {
    "colab": {},
    "colab_type": "code",
    "id": "-UmSQzb1uG_d"
   },
   "outputs": [],
   "source": [
    "# creating a training and validation set\n",
    "X_train, X_valid, y_train, y_valid=train_test_split(X,y,test_size=0.3, random_state=seed)"
   ]
  },
  {
   "cell_type": "code",
   "execution_count": 11,
   "metadata": {
    "colab": {
     "base_uri": "https://localhost:8080/",
     "height": 34
    },
    "colab_type": "code",
    "executionInfo": {
     "elapsed": 1699,
     "status": "ok",
     "timestamp": 1584961837323,
     "user": {
      "displayName": "Aishwarya Singh",
      "photoUrl": "https://lh3.googleusercontent.com/a-/AOh14GgeJwfn4BdBDCAplWi_kdtB9FRssOpXO7T_aMgg=s64",
      "userId": "01105858832371513140"
     },
     "user_tz": -330
    },
    "id": "xTC-FgDjuG_k",
    "outputId": "006ac255-e215-442f-c68e-bffe85d0fb71"
   },
   "outputs": [
    {
     "data": {
      "text/plain": [
       "(((1646, 150528), (1646,)), ((706, 150528), (706,)))"
      ]
     },
     "execution_count": 11,
     "metadata": {},
     "output_type": "execute_result"
    }
   ],
   "source": [
    "# shape of training and validation set\n",
    "(X_train.shape, y_train.shape), (X_valid.shape, y_valid.shape)"
   ]
  },
  {
   "cell_type": "markdown",
   "metadata": {
    "colab_type": "text",
    "id": "vskdq-4huG_r"
   },
   "source": [
    "## 4. Defining the model architecture\n",
    "\n",
    "### <ol>Adding dropout layer(s)</ol>"
   ]
  },
  {
   "cell_type": "code",
   "execution_count": 12,
   "metadata": {
    "colab": {},
    "colab_type": "code",
    "id": "X2nUSsJ8M0b-"
   },
   "outputs": [],
   "source": [
    "# importing the dropout layer\n",
    "from keras.layers import Dropout"
   ]
  },
  {
   "cell_type": "code",
   "execution_count": 13,
   "metadata": {
    "colab": {
     "base_uri": "https://localhost:8080/",
     "height": 228
    },
    "colab_type": "code",
    "executionInfo": {
     "elapsed": 1719,
     "status": "ok",
     "timestamp": 1584961952208,
     "user": {
      "displayName": "Aishwarya Singh",
      "photoUrl": "https://lh3.googleusercontent.com/a-/AOh14GgeJwfn4BdBDCAplWi_kdtB9FRssOpXO7T_aMgg=s64",
      "userId": "01105858832371513140"
     },
     "user_tz": -330
    },
    "id": "tLqmJg8PuHBs",
    "outputId": "7ad18573-a9e4-4148-a926-ede99915d868"
   },
   "outputs": [],
   "source": [
    "# defining the model architecture with dropout layer\n",
    "model=Sequential()\n",
    "\n",
    "model.add(InputLayer(input_shape=(224*224*3,)))\n",
    "model.add(Dense(100, activation='sigmoid'))\n",
    "model.add(Dropout(rate=0.5))\n",
    "model.add(Dense(100, activation='sigmoid'))\n",
    "model.add(Dropout(rate=0.5))\n",
    "model.add(Dense(units=1, activation='sigmoid'))"
   ]
  },
  {
   "cell_type": "markdown",
   "metadata": {
    "colab_type": "text",
    "id": "FS__sDNVrjOs"
   },
   "source": [
    "## 5. Compiling the model"
   ]
  },
  {
   "cell_type": "code",
   "execution_count": 14,
   "metadata": {
    "colab": {},
    "colab_type": "code",
    "id": "BGovpAw_uHBp"
   },
   "outputs": [],
   "source": [
    "# defining the adam optimizer and setting the learning rate as 10^-5\n",
    "adam = Adam(lr=1e-5)"
   ]
  },
  {
   "cell_type": "code",
   "execution_count": 15,
   "metadata": {
    "colab": {},
    "colab_type": "code",
    "id": "pcEUdq_Tri5x"
   },
   "outputs": [],
   "source": [
    "# compiling the model\n",
    "\n",
    "# defining loss as binary crossentropy\n",
    "# defining optimizer as Adam\n",
    "# defining metrics as accuracy\n",
    "\n",
    "model.compile(loss='binary_crossentropy', optimizer=adam, metrics=['accuracy'])"
   ]
  },
  {
   "cell_type": "markdown",
   "metadata": {
    "colab_type": "text",
    "id": "UJ6D8X0JtD7f"
   },
   "source": [
    "## 6. Training the model using Dropout"
   ]
  },
  {
   "cell_type": "code",
   "execution_count": null,
   "metadata": {
    "colab": {
     "base_uri": "https://localhost:8080/",
     "height": 1000
    },
    "colab_type": "code",
    "executionInfo": {
     "elapsed": 165739,
     "status": "ok",
     "timestamp": 1584963261156,
     "user": {
      "displayName": "Aishwarya Singh",
      "photoUrl": "https://lh3.googleusercontent.com/a-/AOh14GgeJwfn4BdBDCAplWi_kdtB9FRssOpXO7T_aMgg=s64",
      "userId": "01105858832371513140"
     },
     "user_tz": -330
    },
    "id": "KL7PHbMRuHBy",
    "outputId": "a847ee20-9fbb-4cba-ec47-516f3dae11c8"
   },
   "outputs": [
    {
     "name": "stdout",
     "output_type": "stream",
     "text": [
      "Train on 1646 samples, validate on 706 samples\n",
      "Epoch 1/100\n",
      "1646/1646 [==============================] - 2s 986us/step - loss: 0.6187 - acc: 0.6725 - val_loss: 0.5964 - val_acc: 0.7125\n",
      "Epoch 2/100\n",
      "1646/1646 [==============================] - 2s 988us/step - loss: 0.6029 - acc: 0.6817 - val_loss: 0.5939 - val_acc: 0.7280\n",
      "Epoch 3/100\n",
      "1646/1646 [==============================] - 2s 988us/step - loss: 0.6031 - acc: 0.6835 - val_loss: 0.5970 - val_acc: 0.7082\n",
      "Epoch 4/100\n",
      "1646/1646 [==============================] - 2s 991us/step - loss: 0.5821 - acc: 0.6950 - val_loss: 0.5947 - val_acc: 0.7195\n",
      "Epoch 5/100\n",
      "1646/1646 [==============================] - 2s 993us/step - loss: 0.6002 - acc: 0.6853 - val_loss: 0.5996 - val_acc: 0.7025\n",
      "Epoch 6/100\n",
      "1646/1646 [==============================] - 2s 988us/step - loss: 0.6188 - acc: 0.6640 - val_loss: 0.5954 - val_acc: 0.7096\n",
      "Epoch 7/100\n",
      "1646/1646 [==============================] - 2s 985us/step - loss: 0.6133 - acc: 0.6652 - val_loss: 0.5915 - val_acc: 0.7238\n",
      "Epoch 8/100\n",
      "1646/1646 [==============================] - 2s 994us/step - loss: 0.6125 - acc: 0.6725 - val_loss: 0.5910 - val_acc: 0.7238\n",
      "Epoch 9/100\n",
      "1646/1646 [==============================] - 2s 992us/step - loss: 0.6091 - acc: 0.6750 - val_loss: 0.5944 - val_acc: 0.7096\n",
      "Epoch 10/100\n",
      "1646/1646 [==============================] - 2s 991us/step - loss: 0.5927 - acc: 0.6908 - val_loss: 0.5939 - val_acc: 0.7139\n",
      "Epoch 11/100\n",
      "1646/1646 [==============================] - 2s 1ms/step - loss: 0.6111 - acc: 0.6574 - val_loss: 0.5913 - val_acc: 0.7181\n",
      "Epoch 12/100\n",
      "1646/1646 [==============================] - 2s 990us/step - loss: 0.5919 - acc: 0.7060 - val_loss: 0.5884 - val_acc: 0.7210\n",
      "Epoch 13/100\n",
      "1646/1646 [==============================] - 2s 987us/step - loss: 0.5946 - acc: 0.6786 - val_loss: 0.5919 - val_acc: 0.7139\n",
      "Epoch 14/100\n",
      "1646/1646 [==============================] - 2s 989us/step - loss: 0.5852 - acc: 0.6792 - val_loss: 0.5893 - val_acc: 0.7210\n",
      "Epoch 15/100\n",
      "1646/1646 [==============================] - 2s 992us/step - loss: 0.6036 - acc: 0.6738 - val_loss: 0.5930 - val_acc: 0.7068\n",
      "Epoch 16/100\n",
      "1646/1646 [==============================] - 2s 990us/step - loss: 0.5916 - acc: 0.6956 - val_loss: 0.5903 - val_acc: 0.7153\n",
      "Epoch 17/100\n",
      "1646/1646 [==============================] - 2s 987us/step - loss: 0.6012 - acc: 0.6798 - val_loss: 0.5925 - val_acc: 0.7082\n",
      "Epoch 18/100\n",
      "1646/1646 [==============================] - 2s 989us/step - loss: 0.5977 - acc: 0.6853 - val_loss: 0.5857 - val_acc: 0.7195\n",
      "Epoch 19/100\n",
      "1646/1646 [==============================] - 2s 994us/step - loss: 0.5931 - acc: 0.6823 - val_loss: 0.5909 - val_acc: 0.7153\n",
      "Epoch 20/100\n",
      "1646/1646 [==============================] - 2s 1ms/step - loss: 0.6040 - acc: 0.6731 - val_loss: 0.5916 - val_acc: 0.7054\n",
      "Epoch 21/100\n",
      "1646/1646 [==============================] - 2s 989us/step - loss: 0.5855 - acc: 0.6932 - val_loss: 0.5849 - val_acc: 0.7195\n",
      "Epoch 22/100\n",
      "1646/1646 [==============================] - 2s 997us/step - loss: 0.5835 - acc: 0.7017 - val_loss: 0.5964 - val_acc: 0.6912\n",
      "Epoch 23/100\n",
      "1646/1646 [==============================] - 2s 1000us/step - loss: 0.5889 - acc: 0.6896 - val_loss: 0.5829 - val_acc: 0.7195\n",
      "Epoch 24/100\n",
      "1646/1646 [==============================] - 2s 981us/step - loss: 0.5843 - acc: 0.7096 - val_loss: 0.5904 - val_acc: 0.7082\n",
      "Epoch 25/100\n",
      "1646/1646 [==============================] - 2s 993us/step - loss: 0.5913 - acc: 0.6841 - val_loss: 0.5926 - val_acc: 0.7025\n",
      "Epoch 26/100\n",
      "1646/1646 [==============================] - 2s 995us/step - loss: 0.5844 - acc: 0.6823 - val_loss: 0.5821 - val_acc: 0.7195\n",
      "Epoch 27/100\n",
      "1646/1646 [==============================] - 2s 989us/step - loss: 0.5984 - acc: 0.6902 - val_loss: 0.5853 - val_acc: 0.7252\n",
      "Epoch 28/100\n",
      "1646/1646 [==============================] - 2s 978us/step - loss: 0.5842 - acc: 0.6944 - val_loss: 0.5804 - val_acc: 0.7195\n",
      "Epoch 29/100\n",
      "1646/1646 [==============================] - 2s 1ms/step - loss: 0.5745 - acc: 0.7041 - val_loss: 0.5852 - val_acc: 0.7153\n",
      "Epoch 30/100\n",
      "1646/1646 [==============================] - 2s 994us/step - loss: 0.5724 - acc: 0.7193 - val_loss: 0.5827 - val_acc: 0.7266\n",
      "Epoch 31/100\n",
      "1646/1646 [==============================] - 2s 989us/step - loss: 0.5642 - acc: 0.7230 - val_loss: 0.5925 - val_acc: 0.6926\n",
      "Epoch 32/100\n",
      "1646/1646 [==============================] - 2s 1ms/step - loss: 0.5734 - acc: 0.7011 - val_loss: 0.5771 - val_acc: 0.7082\n",
      "Epoch 33/100\n",
      "1646/1646 [==============================] - 2s 982us/step - loss: 0.5735 - acc: 0.7145 - val_loss: 0.5842 - val_acc: 0.7195\n",
      "Epoch 34/100\n",
      "1646/1646 [==============================] - 2s 989us/step - loss: 0.5756 - acc: 0.7060 - val_loss: 0.5811 - val_acc: 0.7224\n",
      "Epoch 35/100\n",
      "1646/1646 [==============================] - 2s 996us/step - loss: 0.5804 - acc: 0.7078 - val_loss: 0.5788 - val_acc: 0.7238\n",
      "Epoch 36/100\n",
      "1646/1646 [==============================] - 2s 997us/step - loss: 0.5741 - acc: 0.7126 - val_loss: 0.5837 - val_acc: 0.7195\n",
      "Epoch 37/100\n",
      "1646/1646 [==============================] - 2s 983us/step - loss: 0.5714 - acc: 0.7047 - val_loss: 0.5784 - val_acc: 0.7252\n",
      "Epoch 38/100\n",
      "1646/1646 [==============================] - 2s 1ms/step - loss: 0.5645 - acc: 0.7254 - val_loss: 0.5746 - val_acc: 0.7096\n",
      "Epoch 39/100\n",
      "1646/1646 [==============================] - 2s 994us/step - loss: 0.5776 - acc: 0.7132 - val_loss: 0.5880 - val_acc: 0.7068\n",
      "Epoch 40/100\n",
      "1646/1646 [==============================] - 2s 991us/step - loss: 0.5577 - acc: 0.7260 - val_loss: 0.5772 - val_acc: 0.7252\n",
      "Epoch 41/100\n",
      "1646/1646 [==============================] - 2s 995us/step - loss: 0.5706 - acc: 0.7041 - val_loss: 0.5764 - val_acc: 0.7266\n",
      "Epoch 42/100\n",
      "1646/1646 [==============================] - 2s 992us/step - loss: 0.5700 - acc: 0.7139 - val_loss: 0.5765 - val_acc: 0.7266\n",
      "Epoch 43/100\n",
      "1646/1646 [==============================] - 2s 994us/step - loss: 0.5576 - acc: 0.7351 - val_loss: 0.5771 - val_acc: 0.7224\n",
      "Epoch 44/100\n",
      "1646/1646 [==============================] - 2s 984us/step - loss: 0.5536 - acc: 0.7369 - val_loss: 0.5762 - val_acc: 0.7252\n",
      "Epoch 45/100\n",
      "1646/1646 [==============================] - 2s 1ms/step - loss: 0.5712 - acc: 0.7078 - val_loss: 0.5775 - val_acc: 0.7238\n",
      "Epoch 46/100\n",
      "1646/1646 [==============================] - 2s 997us/step - loss: 0.5544 - acc: 0.7242 - val_loss: 0.5732 - val_acc: 0.7224\n",
      "Epoch 47/100\n",
      "1646/1646 [==============================] - 2s 994us/step - loss: 0.5511 - acc: 0.7296 - val_loss: 0.5720 - val_acc: 0.7210\n",
      "Epoch 48/100\n",
      "1646/1646 [==============================] - 2s 984us/step - loss: 0.5539 - acc: 0.7296 - val_loss: 0.5796 - val_acc: 0.7167\n",
      "Epoch 49/100\n",
      "1646/1646 [==============================] - 2s 985us/step - loss: 0.5654 - acc: 0.7187 - val_loss: 0.5724 - val_acc: 0.7252\n",
      "Epoch 50/100\n",
      "1646/1646 [==============================] - 2s 995us/step - loss: 0.5549 - acc: 0.7296 - val_loss: 0.5783 - val_acc: 0.7195\n",
      "Epoch 51/100\n",
      "1646/1646 [==============================] - 2s 990us/step - loss: 0.5500 - acc: 0.7230 - val_loss: 0.5689 - val_acc: 0.7096\n",
      "Epoch 52/100\n",
      "1646/1646 [==============================] - 2s 1ms/step - loss: 0.5558 - acc: 0.7254 - val_loss: 0.5743 - val_acc: 0.7252\n",
      "Epoch 53/100\n",
      "1646/1646 [==============================] - 2s 979us/step - loss: 0.5509 - acc: 0.7284 - val_loss: 0.5697 - val_acc: 0.7167\n",
      "Epoch 54/100\n",
      "1646/1646 [==============================] - 2s 995us/step - loss: 0.5531 - acc: 0.7345 - val_loss: 0.5787 - val_acc: 0.7096\n",
      "Epoch 55/100\n",
      "1646/1646 [==============================] - 2s 996us/step - loss: 0.5473 - acc: 0.7442 - val_loss: 0.5704 - val_acc: 0.7266\n",
      "Epoch 56/100\n",
      "1646/1646 [==============================] - 2s 989us/step - loss: 0.5388 - acc: 0.7521 - val_loss: 0.5706 - val_acc: 0.7295\n",
      "Epoch 57/100\n",
      "1646/1646 [==============================] - 2s 1ms/step - loss: 0.5508 - acc: 0.7309 - val_loss: 0.5647 - val_acc: 0.7110\n",
      "Epoch 58/100\n",
      "1646/1646 [==============================] - 2s 998us/step - loss: 0.5498 - acc: 0.7442 - val_loss: 0.5724 - val_acc: 0.7266\n",
      "Epoch 59/100\n",
      "1646/1646 [==============================] - 2s 992us/step - loss: 0.5298 - acc: 0.7618 - val_loss: 0.5704 - val_acc: 0.7280\n",
      "Epoch 60/100\n",
      "1646/1646 [==============================] - 2s 991us/step - loss: 0.5379 - acc: 0.7467 - val_loss: 0.5704 - val_acc: 0.7280\n",
      "Epoch 61/100\n",
      "1646/1646 [==============================] - 2s 979us/step - loss: 0.5510 - acc: 0.7236 - val_loss: 0.5694 - val_acc: 0.7252\n",
      "Epoch 62/100\n",
      "1646/1646 [==============================] - 2s 993us/step - loss: 0.5401 - acc: 0.7539 - val_loss: 0.5656 - val_acc: 0.7139\n",
      "Epoch 63/100\n",
      "1646/1646 [==============================] - 2s 993us/step - loss: 0.5334 - acc: 0.7479 - val_loss: 0.5715 - val_acc: 0.7266\n",
      "Epoch 64/100\n",
      "1646/1646 [==============================] - 2s 990us/step - loss: 0.5298 - acc: 0.7515 - val_loss: 0.5698 - val_acc: 0.7252\n",
      "Epoch 65/100\n",
      "1646/1646 [==============================] - 2s 993us/step - loss: 0.5455 - acc: 0.7461 - val_loss: 0.5713 - val_acc: 0.7238\n",
      "Epoch 66/100\n",
      "1646/1646 [==============================] - 2s 1ms/step - loss: 0.5289 - acc: 0.7673 - val_loss: 0.5635 - val_acc: 0.7110\n",
      "Epoch 67/100\n",
      "1646/1646 [==============================] - 2s 993us/step - loss: 0.5249 - acc: 0.7558 - val_loss: 0.5679 - val_acc: 0.7252\n",
      "Epoch 68/100\n",
      "1646/1646 [==============================] - 2s 993us/step - loss: 0.5228 - acc: 0.7539 - val_loss: 0.5661 - val_acc: 0.7252\n",
      "Epoch 69/100\n",
      "1646/1646 [==============================] - 2s 992us/step - loss: 0.5214 - acc: 0.7564 - val_loss: 0.5626 - val_acc: 0.7167\n",
      "Epoch 70/100\n",
      "1646/1646 [==============================] - 2s 998us/step - loss: 0.5241 - acc: 0.7588 - val_loss: 0.5645 - val_acc: 0.7195\n",
      "Epoch 71/100\n",
      "1646/1646 [==============================] - 2s 994us/step - loss: 0.5256 - acc: 0.7637 - val_loss: 0.5735 - val_acc: 0.7110\n",
      "Epoch 72/100\n",
      "1646/1646 [==============================] - 2s 1ms/step - loss: 0.5125 - acc: 0.7673 - val_loss: 0.5626 - val_acc: 0.7139\n",
      "Epoch 73/100\n",
      "1646/1646 [==============================] - 2s 987us/step - loss: 0.5274 - acc: 0.7485 - val_loss: 0.5688 - val_acc: 0.7238\n",
      "Epoch 74/100\n",
      "1646/1646 [==============================] - 2s 995us/step - loss: 0.5338 - acc: 0.7521 - val_loss: 0.5697 - val_acc: 0.7181\n",
      "Epoch 75/100\n",
      "1646/1646 [==============================] - 2s 997us/step - loss: 0.5165 - acc: 0.7691 - val_loss: 0.5617 - val_acc: 0.7195\n",
      "Epoch 76/100\n",
      "1646/1646 [==============================] - 2s 998us/step - loss: 0.5128 - acc: 0.7734 - val_loss: 0.5675 - val_acc: 0.7252\n",
      "Epoch 77/100\n",
      "1646/1646 [==============================] - 2s 991us/step - loss: 0.5207 - acc: 0.7612 - val_loss: 0.5617 - val_acc: 0.7195\n",
      "Epoch 78/100\n",
      "1646/1646 [==============================] - 2s 998us/step - loss: 0.5112 - acc: 0.7679 - val_loss: 0.5669 - val_acc: 0.7252\n",
      "Epoch 79/100\n",
      "1646/1646 [==============================] - 2s 1ms/step - loss: 0.5273 - acc: 0.7539 - val_loss: 0.5588 - val_acc: 0.7181\n",
      "Epoch 80/100\n",
      "1646/1646 [==============================] - 2s 989us/step - loss: 0.5123 - acc: 0.7612 - val_loss: 0.5585 - val_acc: 0.7181\n",
      "Epoch 81/100\n",
      "1646/1646 [==============================] - 2s 988us/step - loss: 0.5123 - acc: 0.7637 - val_loss: 0.5836 - val_acc: 0.6983\n",
      "Epoch 82/100\n",
      "1646/1646 [==============================] - 2s 996us/step - loss: 0.5041 - acc: 0.7825 - val_loss: 0.5655 - val_acc: 0.7238\n",
      "Epoch 83/100\n",
      "1646/1646 [==============================] - 2s 999us/step - loss: 0.5028 - acc: 0.7801 - val_loss: 0.5555 - val_acc: 0.7195\n",
      "Epoch 84/100\n",
      "1646/1646 [==============================] - 2s 1ms/step - loss: 0.5122 - acc: 0.7758 - val_loss: 0.5692 - val_acc: 0.7153\n",
      "Epoch 85/100\n",
      "1646/1646 [==============================] - 2s 999us/step - loss: 0.5017 - acc: 0.7776 - val_loss: 0.5645 - val_acc: 0.7224\n",
      "Epoch 86/100\n",
      "1646/1646 [==============================] - 2s 1ms/step - loss: 0.5003 - acc: 0.7868 - val_loss: 0.5624 - val_acc: 0.7238\n",
      "Epoch 87/100\n",
      "1646/1646 [==============================] - 2s 997us/step - loss: 0.5136 - acc: 0.7704 - val_loss: 0.5638 - val_acc: 0.7238\n",
      "Epoch 88/100\n",
      "1646/1646 [==============================] - 2s 980us/step - loss: 0.5045 - acc: 0.7758 - val_loss: 0.5539 - val_acc: 0.7238\n",
      "Epoch 89/100\n",
      "1646/1646 [==============================] - 2s 989us/step - loss: 0.4962 - acc: 0.7685 - val_loss: 0.5555 - val_acc: 0.7238\n",
      "Epoch 90/100\n",
      "1646/1646 [==============================] - 2s 986us/step - loss: 0.4971 - acc: 0.7843 - val_loss: 0.5658 - val_acc: 0.7153\n",
      "Epoch 91/100\n",
      "1646/1646 [==============================] - 2s 990us/step - loss: 0.5016 - acc: 0.7807 - val_loss: 0.5600 - val_acc: 0.7181\n",
      "Epoch 92/100\n",
      "1646/1646 [==============================] - 2s 1ms/step - loss: 0.5021 - acc: 0.7746 - val_loss: 0.5568 - val_acc: 0.7195\n",
      "Epoch 93/100\n",
      "1646/1646 [==============================] - 2s 982us/step - loss: 0.4986 - acc: 0.7837 - val_loss: 0.5537 - val_acc: 0.7210\n",
      "Epoch 94/100\n",
      "1646/1646 [==============================] - 2s 1ms/step - loss: 0.4952 - acc: 0.7898 - val_loss: 0.5647 - val_acc: 0.7096\n",
      "Epoch 95/100\n",
      "1646/1646 [==============================] - 2s 996us/step - loss: 0.4928 - acc: 0.7910 - val_loss: 0.5644 - val_acc: 0.7167\n",
      "Epoch 96/100\n",
      "1646/1646 [==============================] - 2s 999us/step - loss: 0.4928 - acc: 0.7965 - val_loss: 0.5571 - val_acc: 0.7181\n",
      "Epoch 97/100\n",
      "1646/1646 [==============================] - 2s 987us/step - loss: 0.4901 - acc: 0.7910 - val_loss: 0.5540 - val_acc: 0.7238\n",
      "Epoch 98/100\n",
      "1646/1646 [==============================] - 2s 989us/step - loss: 0.4981 - acc: 0.7825 - val_loss: 0.5529 - val_acc: 0.7238\n",
      "Epoch 99/100\n",
      "1646/1646 [==============================] - 2s 1ms/step - loss: 0.4854 - acc: 0.8019 - val_loss: 0.5568 - val_acc: 0.7195\n",
      "Epoch 100/100\n",
      "1646/1646 [==============================] - 2s 990us/step - loss: 0.4968 - acc: 0.7819 - val_loss: 0.5538 - val_acc: 0.7238\n"
     ]
    }
   ],
   "source": [
    "# training the model for 100 epochs\n",
    "\n",
    "model_history = model.fit(X_train, y_train, epochs=100, batch_size=128,validation_data=(X_valid,y_valid))"
   ]
  },
  {
   "cell_type": "markdown",
   "metadata": {
    "colab_type": "text",
    "id": "4nItUUcYtYiw"
   },
   "source": [
    "## 7. Evaluating model performance "
   ]
  },
  {
   "cell_type": "code",
   "execution_count": null,
   "metadata": {
    "colab": {
     "base_uri": "https://localhost:8080/",
     "height": 34
    },
    "colab_type": "code",
    "executionInfo": {
     "elapsed": 2058,
     "status": "ok",
     "timestamp": 1584963367664,
     "user": {
      "displayName": "Aishwarya Singh",
      "photoUrl": "https://lh3.googleusercontent.com/a-/AOh14GgeJwfn4BdBDCAplWi_kdtB9FRssOpXO7T_aMgg=s64",
      "userId": "01105858832371513140"
     },
     "user_tz": -330
    },
    "id": "Wbfb8_MWuHB4",
    "outputId": "968bc4a4-eb97-4ce4-fbce-739f87b7bd8a"
   },
   "outputs": [
    {
     "name": "stdout",
     "output_type": "stream",
     "text": [
      "Accuracy on validation set: 0.7237960339943342 %\n"
     ]
    }
   ],
   "source": [
    "# accuracy on validation set\n",
    "print('Accuracy on validation set:', accuracy_score(y_valid, model.predict_classes(X_valid)[:, 0]), '%')"
   ]
  },
  {
   "cell_type": "code",
   "execution_count": null,
   "metadata": {
    "colab": {
     "base_uri": "https://localhost:8080/",
     "height": 295
    },
    "colab_type": "code",
    "executionInfo": {
     "elapsed": 1746,
     "status": "ok",
     "timestamp": 1584963659085,
     "user": {
      "displayName": "Aishwarya Singh",
      "photoUrl": "https://lh3.googleusercontent.com/a-/AOh14GgeJwfn4BdBDCAplWi_kdtB9FRssOpXO7T_aMgg=s64",
      "userId": "01105858832371513140"
     },
     "user_tz": -330
    },
    "id": "UDXYXYMox5Ih",
    "outputId": "2888d6ac-695e-40e1-8b83-b53232e50140"
   },
   "outputs": [
    {
     "data": {
      "image/png": "[encoded data removed]",
      "text/plain": [
       "<Figure size 432x288 with 1 Axes>"
      ]
     },
     "metadata": {
      "tags": []
     },
     "output_type": "display_data"
    }
   ],
   "source": [
    "# summarize history for loss\n",
    "plt.plot(model_history.history['loss'])\n",
    "plt.plot(model_history.history['val_loss'])\n",
    "plt.title('model loss')\n",
    "plt.ylabel('loss')\n",
    "plt.xlabel('epoch')\n",
    "plt.legend(['train', 'validation'], loc='upper right')\n",
    "plt.show()"
   ]
  },
  {
   "cell_type": "markdown",
   "metadata": {
    "colab_type": "text",
    "id": "K2DyGST-yvAh"
   },
   "source": [
    "![alt text](https://drive.google.com/uc?id=1pEBFo1GkfKsvWtKTKinqYVSxOGy1M4ie)"
   ]
  }
 ],
 "metadata": {
  "accelerator": "GPU",
  "colab": {
   "collapsed_sections": [],
   "name": "12.4 Dropout in Neural Networks using Keras.ipynb",
   "provenance": []
  },
  "kernelspec": {
   "display_name": "Python 3",
   "language": "python",
   "name": "python3"
  },
  "language_info": {
   "codemirror_mode": {
    "name": "ipython",
    "version": 3
   },
   "file_extension": ".py",
   "mimetype": "text/x-python",
   "name": "python",
   "nbconvert_exporter": "python",
   "pygments_lexer": "ipython3",
   "version": "3.8.8"
  }
 },
 "nbformat": 4,
 "nbformat_minor": 4
}
