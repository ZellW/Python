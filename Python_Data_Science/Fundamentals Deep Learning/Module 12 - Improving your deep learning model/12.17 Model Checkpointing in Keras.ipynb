{
 "cells": [
  {
   "cell_type": "markdown",
   "metadata": {
    "colab_type": "text",
    "id": "xR7hbyyfuG9N"
   },
   "source": [
    "# Steps to solve Emergency vs Non-Emergency vehicle classification\n",
    "\n",
    "<ol>1. Loading the dataset</ol>\n",
    "<ol>2. Pre-processing the data</ol>\n",
    "<ol>3. Creating training and validation set</ol>\n",
    "<ol>4. Defining the model architecture</ol>\n",
    "<ol>5. Compiling the model</ol>\n",
    "<ol>6. Training the model</ol>\n",
    "<ol><ol>Setting up model checkpointing</ol></ol>\n",
    "<ol>7. Evaluating model performance</ol>"
   ]
  },
  {
   "cell_type": "markdown",
   "metadata": {
    "colab_type": "text",
    "id": "xq6rlm_puG9U"
   },
   "source": [
    "## 1. Loading the dataset"
   ]
  },
  {
   "cell_type": "code",
   "execution_count": 1,
   "metadata": {
    "colab": {
     "base_uri": "https://localhost:8080/",
     "height": 34
    },
    "colab_type": "code",
    "executionInfo": {
     "elapsed": 5511,
     "status": "ok",
     "timestamp": 1587726022279,
     "user": {
      "displayName": "Aishwarya Singh",
      "photoUrl": "https://lh3.googleusercontent.com/a-/AOh14GgeJwfn4BdBDCAplWi_kdtB9FRssOpXO7T_aMgg=s64",
      "userId": "01105858832371513140"
     },
     "user_tz": -330
    },
    "id": "XPYT-SDjuG9a",
    "outputId": "6c0af488-21da-45af-c5c0-9ae656e4cdf3",
    "scrolled": true
   },
   "outputs": [],
   "source": [
    "# import necessary libraries and functions\n",
    "import numpy as np\n",
    "import pandas as pd\n",
    "import matplotlib.pyplot as plt\n",
    "%matplotlib inline\n",
    "\n",
    "# importing layers from keras\n",
    "from keras.layers import Dense, InputLayer\n",
    "from keras.models import Sequential\n",
    "# importing adam optimizer from keras optimizer module \n",
    "from keras.optimizers import Adam\n",
    "\n",
    "# train_test_split to create training and validation set\n",
    "from sklearn.model_selection import train_test_split\n",
    "# accuracy_score to calculate the accuracy of predictions\n",
    "from sklearn.metrics import accuracy_score"
   ]
  },
  {
   "cell_type": "code",
   "execution_count": 2,
   "metadata": {
    "colab": {
     "base_uri": "https://localhost:8080/",
     "height": 124
    },
    "colab_type": "code",
    "executionInfo": {
     "elapsed": 64512,
     "status": "ok",
     "timestamp": 1587726081299,
     "user": {
      "displayName": "Aishwarya Singh",
      "photoUrl": "https://lh3.googleusercontent.com/a-/AOh14GgeJwfn4BdBDCAplWi_kdtB9FRssOpXO7T_aMgg=s64",
      "userId": "01105858832371513140"
     },
     "user_tz": -330
    },
    "id": "-UaxENuHvEjb",
    "outputId": "d80f3416-c5b4-4e12-9dbf-c92cd0aa54d1"
   },
   "outputs": [
    {
     "name": "stdout",
     "output_type": "stream",
     "text": [
      "Go to this URL in a browser: https://accounts.google.com/o/oauth2/auth?client_id=947318989803-6bn6qk8qdgf4n4g3pfee6491hc0brc4i.apps.googleusercontent.com&redirect_uri=urn%3aietf%3awg%3aoauth%3a2.0%3aoob&response_type=code&scope=email%20https%3a%2f%2fwww.googleapis.com%2fauth%2fdocs.test%20https%3a%2f%2fwww.googleapis.com%2fauth%2fdrive%20https%3a%2f%2fwww.googleapis.com%2fauth%2fdrive.photos.readonly%20https%3a%2f%2fwww.googleapis.com%2fauth%2fpeopleapi.readonly\n",
      "\n",
      "Enter your authorization code:\n",
      "··········\n",
      "Mounted at /content/drive\n"
     ]
    }
   ],
   "source": [
    "# from google.colab import drive\n",
    "# drive.mount('/content/drive')"
   ]
  },
  {
   "cell_type": "code",
   "execution_count": 2,
   "metadata": {
    "colab": {
     "base_uri": "https://localhost:8080/",
     "height": 1000
    },
    "colab_type": "code",
    "executionInfo": {
     "elapsed": 11775,
     "status": "ok",
     "timestamp": 1587726108241,
     "user": {
      "displayName": "Aishwarya Singh",
      "photoUrl": "https://lh3.googleusercontent.com/a-/AOh14GgeJwfn4BdBDCAplWi_kdtB9FRssOpXO7T_aMgg=s64",
      "userId": "01105858832371513140"
     },
     "user_tz": -330
    },
    "id": "huxIDEqgvKZj",
    "outputId": "3f634461-5783-43eb-ec36-438de947f3ac"
   },
   "outputs": [],
   "source": [
    "# unzipping the Dataset.zip file\n",
    "# !unzip /content/drive/My\\ Drive/Dataset.zip"
   ]
  },
  {
   "cell_type": "code",
   "execution_count": 3,
   "metadata": {
    "colab": {},
    "colab_type": "code",
    "id": "WZdipKFauG9t"
   },
   "outputs": [],
   "source": [
    "# reading the csv file\n",
    "data = pd.read_csv('../data/emergency_classification.csv')"
   ]
  },
  {
   "cell_type": "code",
   "execution_count": 4,
   "metadata": {
    "colab": {},
    "colab_type": "code",
    "id": "7pOqqh5GuG94"
   },
   "outputs": [],
   "source": [
    "# defining the seed value\n",
    "seed = 42"
   ]
  },
  {
   "cell_type": "code",
   "execution_count": 5,
   "metadata": {
    "colab": {
     "base_uri": "https://localhost:8080/",
     "height": 206
    },
    "colab_type": "code",
    "executionInfo": {
     "elapsed": 2451,
     "status": "ok",
     "timestamp": 1587726115640,
     "user": {
      "displayName": "Aishwarya Singh",
      "photoUrl": "https://lh3.googleusercontent.com/a-/AOh14GgeJwfn4BdBDCAplWi_kdtB9FRssOpXO7T_aMgg=s64",
      "userId": "01105858832371513140"
     },
     "user_tz": -330
    },
    "id": "_VeBsfEAuG-B",
    "outputId": "89082639-bb7f-4496-9dbf-b7a13c8dd092",
    "scrolled": true
   },
   "outputs": [
    {
     "data": {
      "text/html": [
       "<div>\n",
       "<style scoped>\n",
       "    .dataframe tbody tr th:only-of-type {\n",
       "        vertical-align: middle;\n",
       "    }\n",
       "\n",
       "    .dataframe tbody tr th {\n",
       "        vertical-align: top;\n",
       "    }\n",
       "\n",
       "    .dataframe thead th {\n",
       "        text-align: right;\n",
       "    }\n",
       "</style>\n",
       "<table border=\"1\" class=\"dataframe\">\n",
       "  <thead>\n",
       "    <tr style=\"text-align: right;\">\n",
       "      <th></th>\n",
       "      <th>image_names</th>\n",
       "      <th>emergency_or_not</th>\n",
       "    </tr>\n",
       "  </thead>\n",
       "  <tbody>\n",
       "    <tr>\n",
       "      <th>0</th>\n",
       "      <td>0.jpg</td>\n",
       "      <td>1</td>\n",
       "    </tr>\n",
       "    <tr>\n",
       "      <th>1</th>\n",
       "      <td>1.jpg</td>\n",
       "      <td>1</td>\n",
       "    </tr>\n",
       "    <tr>\n",
       "      <th>2</th>\n",
       "      <td>2.jpg</td>\n",
       "      <td>1</td>\n",
       "    </tr>\n",
       "    <tr>\n",
       "      <th>3</th>\n",
       "      <td>3.jpg</td>\n",
       "      <td>1</td>\n",
       "    </tr>\n",
       "    <tr>\n",
       "      <th>4</th>\n",
       "      <td>4.jpg</td>\n",
       "      <td>1</td>\n",
       "    </tr>\n",
       "  </tbody>\n",
       "</table>\n",
       "</div>"
      ],
      "text/plain": [
       "  image_names  emergency_or_not\n",
       "0       0.jpg                 1\n",
       "1       1.jpg                 1\n",
       "2       2.jpg                 1\n",
       "3       3.jpg                 1\n",
       "4       4.jpg                 1"
      ]
     },
     "execution_count": 5,
     "metadata": {},
     "output_type": "execute_result"
    }
   ],
   "source": [
    "# looking at first five rows of the data\n",
    "data.head()"
   ]
  },
  {
   "cell_type": "code",
   "execution_count": 6,
   "metadata": {
    "colab": {},
    "colab_type": "code",
    "id": "AMZyTsx3uG-W"
   },
   "outputs": [],
   "source": [
    "# load images and store it in numpy array\n",
    "\n",
    "# empty list to store the images\n",
    "X = []\n",
    "# iterating over each image\n",
    "for img_name in data.image_names:\n",
    "    # loading the image using its name\n",
    "    img = plt.imread('../data/images_vehicles/' + img_name)\n",
    "    # saving each image in the list\n",
    "    X.append(img)\n",
    "    \n",
    "# converting the list of images into array\n",
    "X=np.array(X)\n",
    "\n",
    "# storing the target variable in separate variable\n",
    "y = data.emergency_or_not.values"
   ]
  },
  {
   "cell_type": "code",
   "execution_count": 7,
   "metadata": {
    "colab": {
     "base_uri": "https://localhost:8080/",
     "height": 34
    },
    "colab_type": "code",
    "executionInfo": {
     "elapsed": 4519,
     "status": "ok",
     "timestamp": 1587726146851,
     "user": {
      "displayName": "Aishwarya Singh",
      "photoUrl": "https://lh3.googleusercontent.com/a-/AOh14GgeJwfn4BdBDCAplWi_kdtB9FRssOpXO7T_aMgg=s64",
      "userId": "01105858832371513140"
     },
     "user_tz": -330
    },
    "id": "csN5M_hzuG-d",
    "outputId": "43768ad2-366b-4f62-8100-d37a3ac82df4"
   },
   "outputs": [
    {
     "data": {
      "text/plain": [
       "(2352, 224, 224, 3)"
      ]
     },
     "execution_count": 7,
     "metadata": {},
     "output_type": "execute_result"
    }
   ],
   "source": [
    "# shape of the images\n",
    "X.shape"
   ]
  },
  {
   "cell_type": "markdown",
   "metadata": {
    "colab_type": "text",
    "id": "IYNJtBXLuG-x"
   },
   "source": [
    "## 2. Pre-processing the data"
   ]
  },
  {
   "cell_type": "code",
   "execution_count": 8,
   "metadata": {
    "colab": {
     "base_uri": "https://localhost:8080/",
     "height": 34
    },
    "colab_type": "code",
    "executionInfo": {
     "elapsed": 1479,
     "status": "ok",
     "timestamp": 1587726163304,
     "user": {
      "displayName": "Aishwarya Singh",
      "photoUrl": "https://lh3.googleusercontent.com/a-/AOh14GgeJwfn4BdBDCAplWi_kdtB9FRssOpXO7T_aMgg=s64",
      "userId": "01105858832371513140"
     },
     "user_tz": -330
    },
    "id": "JsEZNNE_uG-2",
    "outputId": "03e40b3b-d34d-4cbb-fa6f-8dfd79f1ae82",
    "scrolled": true
   },
   "outputs": [
    {
     "data": {
      "text/plain": [
       "(2352, 150528)"
      ]
     },
     "execution_count": 8,
     "metadata": {},
     "output_type": "execute_result"
    }
   ],
   "source": [
    "# converting 3 dimensional image to 1 dimensional image\n",
    "X = X.reshape(X.shape[0], 224*224*3)\n",
    "X.shape"
   ]
  },
  {
   "cell_type": "code",
   "execution_count": 9,
   "metadata": {
    "colab": {
     "base_uri": "https://localhost:8080/",
     "height": 34
    },
    "colab_type": "code",
    "executionInfo": {
     "elapsed": 2479,
     "status": "ok",
     "timestamp": 1587726176562,
     "user": {
      "displayName": "Aishwarya Singh",
      "photoUrl": "https://lh3.googleusercontent.com/a-/AOh14GgeJwfn4BdBDCAplWi_kdtB9FRssOpXO7T_aMgg=s64",
      "userId": "01105858832371513140"
     },
     "user_tz": -330
    },
    "id": "9y8rfKEguG-_",
    "outputId": "776978fc-d3c5-4bd7-baa0-42867e951cc0"
   },
   "outputs": [
    {
     "data": {
      "text/plain": [
       "(0, 255)"
      ]
     },
     "execution_count": 9,
     "metadata": {},
     "output_type": "execute_result"
    }
   ],
   "source": [
    "# minimum and maximum pixel values of images\n",
    "X.min(), X.max()"
   ]
  },
  {
   "cell_type": "code",
   "execution_count": 10,
   "metadata": {
    "colab": {},
    "colab_type": "code",
    "id": "wI3hNx3uuG_L"
   },
   "outputs": [],
   "source": [
    "# normalizing the pixel values\n",
    "X = X / X.max()"
   ]
  },
  {
   "cell_type": "code",
   "execution_count": 11,
   "metadata": {
    "colab": {
     "base_uri": "https://localhost:8080/",
     "height": 34
    },
    "colab_type": "code",
    "executionInfo": {
     "elapsed": 4328,
     "status": "ok",
     "timestamp": 1587726187267,
     "user": {
      "displayName": "Aishwarya Singh",
      "photoUrl": "https://lh3.googleusercontent.com/a-/AOh14GgeJwfn4BdBDCAplWi_kdtB9FRssOpXO7T_aMgg=s64",
      "userId": "01105858832371513140"
     },
     "user_tz": -330
    },
    "id": "tghVTsVluG_S",
    "outputId": "96d248ac-be40-4248-881e-e9fc5b2ee7cd"
   },
   "outputs": [
    {
     "data": {
      "text/plain": [
       "(0.0, 1.0)"
      ]
     },
     "execution_count": 11,
     "metadata": {},
     "output_type": "execute_result"
    }
   ],
   "source": [
    "# minimum and maximum pixel values of images after normalizing\n",
    "X.min(), X.max()"
   ]
  },
  {
   "cell_type": "markdown",
   "metadata": {
    "colab_type": "text",
    "id": "Scbo48PLuG_b"
   },
   "source": [
    "## 3. Creating training and validation set"
   ]
  },
  {
   "cell_type": "code",
   "execution_count": 12,
   "metadata": {
    "colab": {},
    "colab_type": "code",
    "id": "-UmSQzb1uG_d"
   },
   "outputs": [],
   "source": [
    "# creating a training and validation set\n",
    "X_train, X_valid, y_train, y_valid=train_test_split(X,y,test_size=0.3, random_state=seed)"
   ]
  },
  {
   "cell_type": "code",
   "execution_count": 13,
   "metadata": {
    "colab": {
     "base_uri": "https://localhost:8080/",
     "height": 34
    },
    "colab_type": "code",
    "executionInfo": {
     "elapsed": 3272,
     "status": "ok",
     "timestamp": 1587726205139,
     "user": {
      "displayName": "Aishwarya Singh",
      "photoUrl": "https://lh3.googleusercontent.com/a-/AOh14GgeJwfn4BdBDCAplWi_kdtB9FRssOpXO7T_aMgg=s64",
      "userId": "01105858832371513140"
     },
     "user_tz": -330
    },
    "id": "xTC-FgDjuG_k",
    "outputId": "5d7f08f5-46cb-41dd-b220-cbdddacdaa23"
   },
   "outputs": [
    {
     "data": {
      "text/plain": [
       "(((1646, 150528), (1646,)), ((706, 150528), (706,)))"
      ]
     },
     "execution_count": 13,
     "metadata": {},
     "output_type": "execute_result"
    }
   ],
   "source": [
    "# shape of training and validation set\n",
    "(X_train.shape, y_train.shape), (X_valid.shape, y_valid.shape)"
   ]
  },
  {
   "cell_type": "markdown",
   "metadata": {
    "colab_type": "text",
    "id": "vskdq-4huG_r"
   },
   "source": [
    "## 4. Defining the model architecture"
   ]
  },
  {
   "cell_type": "code",
   "execution_count": 14,
   "metadata": {
    "colab": {},
    "colab_type": "code",
    "id": "tLqmJg8PuHBs"
   },
   "outputs": [],
   "source": [
    "# defining the model architecture\n",
    "model=Sequential()\n",
    "\n",
    "model.add(InputLayer(input_shape=(224*224*3,)))\n",
    "model.add(Dense(100, activation='sigmoid'))\n",
    "model.add(Dense(100, activation='sigmoid'))\n",
    "model.add(Dense(units=1, activation='sigmoid'))"
   ]
  },
  {
   "cell_type": "markdown",
   "metadata": {
    "colab_type": "text",
    "id": "FS__sDNVrjOs"
   },
   "source": [
    "## 5. Compiling the model"
   ]
  },
  {
   "cell_type": "code",
   "execution_count": 15,
   "metadata": {
    "colab": {},
    "colab_type": "code",
    "id": "BGovpAw_uHBp"
   },
   "outputs": [],
   "source": [
    "# defining the adam optimizer and setting the learning rate as 10^-5\n",
    "adam = Adam(lr=1e-5)"
   ]
  },
  {
   "cell_type": "code",
   "execution_count": 16,
   "metadata": {
    "colab": {},
    "colab_type": "code",
    "id": "pcEUdq_Tri5x"
   },
   "outputs": [],
   "source": [
    "# compiling the model\n",
    "\n",
    "# defining loss as binary crossentropy\n",
    "# defining optimizer as Adam\n",
    "# defining metrics as accuracy\n",
    "\n",
    "model.compile(loss='binary_crossentropy', optimizer=adam, metrics=['accuracy'])"
   ]
  },
  {
   "cell_type": "markdown",
   "metadata": {
    "colab_type": "text",
    "id": "UJ6D8X0JtD7f"
   },
   "source": [
    "## 6. Training the model"
   ]
  },
  {
   "cell_type": "markdown",
   "metadata": {
    "colab_type": "text",
    "id": "KMoFoDW8LHoH"
   },
   "source": [
    "### Setting up model checkpointing"
   ]
  },
  {
   "cell_type": "code",
   "execution_count": 17,
   "metadata": {
    "colab": {},
    "colab_type": "code",
    "id": "bM3GB17iLMC1"
   },
   "outputs": [],
   "source": [
    "# importing model checkpointing from keras callbacks\n",
    "from keras.callbacks import ModelCheckpoint"
   ]
  },
  {
   "cell_type": "code",
   "execution_count": 18,
   "metadata": {
    "colab": {},
    "colab_type": "code",
    "id": "2S67na5-LL_4"
   },
   "outputs": [],
   "source": [
    "# defining model checkpointing\n",
    "\n",
    "# defining the path to store the weights\n",
    "filepath=\"best_weights.hdf5\"\n",
    "\n",
    "# defining the model checkpointing and metric to monitor\n",
    "checkpoint = ModelCheckpoint(filepath, monitor='val_accuracy', verbose=1, save_best_only=True, mode='max')\n",
    "\n",
    "# defining checkpointing variable\n",
    "callbacks_list = [checkpoint]"
   ]
  },
  {
   "cell_type": "code",
   "execution_count": 20,
   "metadata": {
    "colab": {
     "base_uri": "https://localhost:8080/",
     "height": 1000
    },
    "colab_type": "code",
    "executionInfo": {
     "elapsed": 88592,
     "status": "ok",
     "timestamp": 1587726594784,
     "user": {
      "displayName": "Aishwarya Singh",
      "photoUrl": "https://lh3.googleusercontent.com/a-/AOh14GgeJwfn4BdBDCAplWi_kdtB9FRssOpXO7T_aMgg=s64",
      "userId": "01105858832371513140"
     },
     "user_tz": -330
    },
    "id": "KL7PHbMRuHBy",
    "outputId": "c0ef45ea-f956-451e-a9b8-b5f1da3a6ad1"
   },
   "outputs": [
    {
     "name": "stdout",
     "output_type": "stream",
     "text": [
      "Train on 1646 samples, validate on 706 samples\n",
      "Epoch 1/50\n",
      "1646/1646 [==============================] - 3s 2ms/step - loss: 0.6795 - accuracy: 0.5796 - val_loss: 0.6713 - val_accuracy: 0.5609\n",
      "\n",
      "Epoch 00001: val_accuracy improved from -inf to 0.56091, saving model to best_weights.hdf5\n",
      "Epoch 2/50\n",
      "1646/1646 [==============================] - 2s 956us/step - loss: 0.6575 - accuracy: 0.5875 - val_loss: 0.6536 - val_accuracy: 0.5765\n",
      "\n",
      "Epoch 00002: val_accuracy improved from 0.56091 to 0.57649, saving model to best_weights.hdf5\n",
      "Epoch 3/50\n",
      "1646/1646 [==============================] - 2s 954us/step - loss: 0.6426 - accuracy: 0.6033 - val_loss: 0.6429 - val_accuracy: 0.6105\n",
      "\n",
      "Epoch 00003: val_accuracy improved from 0.57649 to 0.61048, saving model to best_weights.hdf5\n",
      "Epoch 4/50\n",
      "1646/1646 [==============================] - 2s 960us/step - loss: 0.6336 - accuracy: 0.6221 - val_loss: 0.6338 - val_accuracy: 0.6501\n",
      "\n",
      "Epoch 00004: val_accuracy improved from 0.61048 to 0.65014, saving model to best_weights.hdf5\n",
      "Epoch 5/50\n",
      "1646/1646 [==============================] - 2s 957us/step - loss: 0.6279 - accuracy: 0.6422 - val_loss: 0.6288 - val_accuracy: 0.6473\n",
      "\n",
      "Epoch 00005: val_accuracy did not improve from 0.65014\n",
      "Epoch 6/50\n",
      "1646/1646 [==============================] - 2s 956us/step - loss: 0.6184 - accuracy: 0.6774 - val_loss: 0.6303 - val_accuracy: 0.6374\n",
      "\n",
      "Epoch 00006: val_accuracy did not improve from 0.65014\n",
      "Epoch 7/50\n",
      "1646/1646 [==============================] - 2s 947us/step - loss: 0.6107 - accuracy: 0.6659 - val_loss: 0.6193 - val_accuracy: 0.6558\n",
      "\n",
      "Epoch 00007: val_accuracy improved from 0.65014 to 0.65581, saving model to best_weights.hdf5\n",
      "Epoch 8/50\n",
      "1646/1646 [==============================] - 2s 955us/step - loss: 0.6041 - accuracy: 0.6829 - val_loss: 0.6224 - val_accuracy: 0.6416\n",
      "\n",
      "Epoch 00008: val_accuracy did not improve from 0.65581\n",
      "Epoch 9/50\n",
      "1646/1646 [==============================] - 2s 947us/step - loss: 0.5982 - accuracy: 0.6817 - val_loss: 0.6095 - val_accuracy: 0.6742\n",
      "\n",
      "Epoch 00009: val_accuracy improved from 0.65581 to 0.67422, saving model to best_weights.hdf5\n",
      "Epoch 10/50\n",
      "1646/1646 [==============================] - 2s 956us/step - loss: 0.5921 - accuracy: 0.6956 - val_loss: 0.6157 - val_accuracy: 0.6530\n",
      "\n",
      "Epoch 00010: val_accuracy did not improve from 0.67422\n",
      "Epoch 11/50\n",
      "1646/1646 [==============================] - 2s 942us/step - loss: 0.5869 - accuracy: 0.7066 - val_loss: 0.6060 - val_accuracy: 0.6700\n",
      "\n",
      "Epoch 00011: val_accuracy did not improve from 0.67422\n",
      "Epoch 12/50\n",
      "1646/1646 [==============================] - 2s 946us/step - loss: 0.5836 - accuracy: 0.7181 - val_loss: 0.6009 - val_accuracy: 0.6728\n",
      "\n",
      "Epoch 00012: val_accuracy did not improve from 0.67422\n",
      "Epoch 13/50\n",
      "1646/1646 [==============================] - 2s 944us/step - loss: 0.5769 - accuracy: 0.7078 - val_loss: 0.5952 - val_accuracy: 0.6955\n",
      "\n",
      "Epoch 00013: val_accuracy improved from 0.67422 to 0.69547, saving model to best_weights.hdf5\n",
      "Epoch 14/50\n",
      "1646/1646 [==============================] - 2s 947us/step - loss: 0.5734 - accuracy: 0.7333 - val_loss: 0.6104 - val_accuracy: 0.6643\n",
      "\n",
      "Epoch 00014: val_accuracy did not improve from 0.69547\n",
      "Epoch 15/50\n",
      "1646/1646 [==============================] - 2s 956us/step - loss: 0.5733 - accuracy: 0.7296 - val_loss: 0.6281 - val_accuracy: 0.6303\n",
      "\n",
      "Epoch 00015: val_accuracy did not improve from 0.69547\n",
      "Epoch 16/50\n",
      "1646/1646 [==============================] - 2s 953us/step - loss: 0.5734 - accuracy: 0.7193 - val_loss: 0.5985 - val_accuracy: 0.6742\n",
      "\n",
      "Epoch 00016: val_accuracy did not improve from 0.69547\n",
      "Epoch 17/50\n",
      "1646/1646 [==============================] - 2s 943us/step - loss: 0.5619 - accuracy: 0.7266 - val_loss: 0.5864 - val_accuracy: 0.7068\n",
      "\n",
      "Epoch 00017: val_accuracy improved from 0.69547 to 0.70680, saving model to best_weights.hdf5\n",
      "Epoch 18/50\n",
      "1646/1646 [==============================] - 2s 955us/step - loss: 0.5585 - accuracy: 0.7448 - val_loss: 0.5846 - val_accuracy: 0.7068\n",
      "\n",
      "Epoch 00018: val_accuracy did not improve from 0.70680\n",
      "Epoch 19/50\n",
      "1646/1646 [==============================] - 2s 942us/step - loss: 0.5562 - accuracy: 0.7345 - val_loss: 0.5821 - val_accuracy: 0.7068\n",
      "\n",
      "Epoch 00019: val_accuracy did not improve from 0.70680\n",
      "Epoch 20/50\n",
      "1646/1646 [==============================] - 2s 941us/step - loss: 0.5595 - accuracy: 0.7503 - val_loss: 0.5814 - val_accuracy: 0.7068\n",
      "\n",
      "Epoch 00020: val_accuracy did not improve from 0.70680\n",
      "Epoch 21/50\n",
      "1646/1646 [==============================] - 2s 952us/step - loss: 0.5530 - accuracy: 0.7503 - val_loss: 0.5826 - val_accuracy: 0.7068\n",
      "\n",
      "Epoch 00021: val_accuracy did not improve from 0.70680\n",
      "Epoch 22/50\n",
      "1646/1646 [==============================] - 2s 950us/step - loss: 0.5453 - accuracy: 0.7612 - val_loss: 0.5887 - val_accuracy: 0.6884\n",
      "\n",
      "Epoch 00022: val_accuracy did not improve from 0.70680\n",
      "Epoch 23/50\n",
      "1646/1646 [==============================] - 2s 951us/step - loss: 0.5420 - accuracy: 0.7612 - val_loss: 0.5807 - val_accuracy: 0.7096\n",
      "\n",
      "Epoch 00023: val_accuracy improved from 0.70680 to 0.70963, saving model to best_weights.hdf5\n",
      "Epoch 24/50\n",
      "1646/1646 [==============================] - 2s 955us/step - loss: 0.5398 - accuracy: 0.7576 - val_loss: 0.5753 - val_accuracy: 0.7110\n",
      "\n",
      "Epoch 00024: val_accuracy improved from 0.70963 to 0.71105, saving model to best_weights.hdf5\n",
      "Epoch 25/50\n",
      "1646/1646 [==============================] - 2s 950us/step - loss: 0.5362 - accuracy: 0.7722 - val_loss: 0.5791 - val_accuracy: 0.7068\n",
      "\n",
      "Epoch 00025: val_accuracy did not improve from 0.71105\n",
      "Epoch 26/50\n",
      "1646/1646 [==============================] - 2s 938us/step - loss: 0.5344 - accuracy: 0.7679 - val_loss: 0.5873 - val_accuracy: 0.6941\n",
      "\n",
      "Epoch 00026: val_accuracy did not improve from 0.71105\n",
      "Epoch 27/50\n",
      "1646/1646 [==============================] - 2s 941us/step - loss: 0.5317 - accuracy: 0.7600 - val_loss: 0.5737 - val_accuracy: 0.7096\n",
      "\n",
      "Epoch 00027: val_accuracy did not improve from 0.71105\n",
      "Epoch 28/50\n",
      "1646/1646 [==============================] - 2s 945us/step - loss: 0.5272 - accuracy: 0.7752 - val_loss: 0.5724 - val_accuracy: 0.7054\n",
      "\n",
      "Epoch 00028: val_accuracy did not improve from 0.71105\n",
      "Epoch 29/50\n",
      "1646/1646 [==============================] - 2s 943us/step - loss: 0.5229 - accuracy: 0.7758 - val_loss: 0.5790 - val_accuracy: 0.7011\n",
      "\n",
      "Epoch 00029: val_accuracy did not improve from 0.71105\n",
      "Epoch 30/50\n",
      "1646/1646 [==============================] - 2s 952us/step - loss: 0.5209 - accuracy: 0.7795 - val_loss: 0.5861 - val_accuracy: 0.6955\n",
      "\n",
      "Epoch 00030: val_accuracy did not improve from 0.71105\n",
      "Epoch 31/50\n",
      "1646/1646 [==============================] - 2s 944us/step - loss: 0.5179 - accuracy: 0.7795 - val_loss: 0.5719 - val_accuracy: 0.7139\n",
      "\n",
      "Epoch 00031: val_accuracy improved from 0.71105 to 0.71388, saving model to best_weights.hdf5\n",
      "Epoch 32/50\n",
      "1646/1646 [==============================] - 2s 953us/step - loss: 0.5155 - accuracy: 0.7855 - val_loss: 0.5762 - val_accuracy: 0.7082\n",
      "\n",
      "Epoch 00032: val_accuracy did not improve from 0.71388\n",
      "Epoch 33/50\n",
      "1646/1646 [==============================] - 2s 946us/step - loss: 0.5110 - accuracy: 0.7861 - val_loss: 0.5674 - val_accuracy: 0.7096\n",
      "\n",
      "Epoch 00033: val_accuracy did not improve from 0.71388\n",
      "Epoch 34/50\n",
      "1646/1646 [==============================] - 2s 945us/step - loss: 0.5086 - accuracy: 0.7843 - val_loss: 0.5635 - val_accuracy: 0.7110\n",
      "\n",
      "Epoch 00034: val_accuracy did not improve from 0.71388\n",
      "Epoch 35/50\n",
      "1646/1646 [==============================] - 2s 948us/step - loss: 0.5119 - accuracy: 0.7843 - val_loss: 0.5634 - val_accuracy: 0.7139\n",
      "\n",
      "Epoch 00035: val_accuracy did not improve from 0.71388\n",
      "Epoch 36/50\n",
      "1646/1646 [==============================] - 2s 946us/step - loss: 0.5122 - accuracy: 0.7874 - val_loss: 0.5684 - val_accuracy: 0.7153\n",
      "\n",
      "Epoch 00036: val_accuracy improved from 0.71388 to 0.71530, saving model to best_weights.hdf5\n",
      "Epoch 37/50\n",
      "1646/1646 [==============================] - 2s 959us/step - loss: 0.5039 - accuracy: 0.7916 - val_loss: 0.5830 - val_accuracy: 0.6955\n",
      "\n",
      "Epoch 00037: val_accuracy did not improve from 0.71530\n",
      "Epoch 38/50\n",
      "1646/1646 [==============================] - 2s 952us/step - loss: 0.4986 - accuracy: 0.7910 - val_loss: 0.5771 - val_accuracy: 0.7082\n",
      "\n",
      "Epoch 00038: val_accuracy did not improve from 0.71530\n",
      "Epoch 39/50\n",
      "1646/1646 [==============================] - 2s 942us/step - loss: 0.4956 - accuracy: 0.7940 - val_loss: 0.5644 - val_accuracy: 0.7153\n",
      "\n",
      "Epoch 00039: val_accuracy did not improve from 0.71530\n",
      "Epoch 40/50\n",
      "1646/1646 [==============================] - 2s 948us/step - loss: 0.4914 - accuracy: 0.7959 - val_loss: 0.5636 - val_accuracy: 0.7167\n",
      "\n",
      "Epoch 00040: val_accuracy improved from 0.71530 to 0.71671, saving model to best_weights.hdf5\n",
      "Epoch 41/50\n",
      "1646/1646 [==============================] - 2s 956us/step - loss: 0.4898 - accuracy: 0.8019 - val_loss: 0.5662 - val_accuracy: 0.7167\n",
      "\n",
      "Epoch 00041: val_accuracy did not improve from 0.71671\n",
      "Epoch 42/50\n",
      "1646/1646 [==============================] - 2s 936us/step - loss: 0.4899 - accuracy: 0.8032 - val_loss: 0.5568 - val_accuracy: 0.7068\n",
      "\n",
      "Epoch 00042: val_accuracy did not improve from 0.71671\n",
      "Epoch 43/50\n",
      "1646/1646 [==============================] - 2s 946us/step - loss: 0.4853 - accuracy: 0.8062 - val_loss: 0.5573 - val_accuracy: 0.7068\n",
      "\n",
      "Epoch 00043: val_accuracy did not improve from 0.71671\n",
      "Epoch 44/50\n",
      "1646/1646 [==============================] - 2s 942us/step - loss: 0.4812 - accuracy: 0.8050 - val_loss: 0.5564 - val_accuracy: 0.7096\n",
      "\n",
      "Epoch 00044: val_accuracy did not improve from 0.71671\n",
      "Epoch 45/50\n",
      "1646/1646 [==============================] - 2s 942us/step - loss: 0.4785 - accuracy: 0.7989 - val_loss: 0.5568 - val_accuracy: 0.7125\n",
      "\n",
      "Epoch 00045: val_accuracy did not improve from 0.71671\n",
      "Epoch 46/50\n",
      "1646/1646 [==============================] - 2s 940us/step - loss: 0.4758 - accuracy: 0.8111 - val_loss: 0.5643 - val_accuracy: 0.7181\n",
      "\n",
      "Epoch 00046: val_accuracy improved from 0.71671 to 0.71813, saving model to best_weights.hdf5\n",
      "Epoch 47/50\n",
      "1646/1646 [==============================] - 2s 953us/step - loss: 0.4727 - accuracy: 0.8111 - val_loss: 0.5674 - val_accuracy: 0.7139\n",
      "\n",
      "Epoch 00047: val_accuracy did not improve from 0.71813\n",
      "Epoch 48/50\n",
      "1646/1646 [==============================] - 2s 952us/step - loss: 0.4704 - accuracy: 0.8159 - val_loss: 0.5603 - val_accuracy: 0.7238\n",
      "\n",
      "Epoch 00048: val_accuracy improved from 0.71813 to 0.72380, saving model to best_weights.hdf5\n",
      "Epoch 49/50\n",
      "1646/1646 [==============================] - 2s 948us/step - loss: 0.4688 - accuracy: 0.8123 - val_loss: 0.5677 - val_accuracy: 0.7068\n",
      "\n",
      "Epoch 00049: val_accuracy did not improve from 0.72380\n",
      "Epoch 50/50\n",
      "1646/1646 [==============================] - 2s 955us/step - loss: 0.4636 - accuracy: 0.8190 - val_loss: 0.5577 - val_accuracy: 0.7181\n",
      "\n",
      "Epoch 00050: val_accuracy did not improve from 0.72380\n"
     ]
    }
   ],
   "source": [
    "# training the model for 50 epochs\n",
    "model_history = model.fit(X_train, y_train, epochs=50, batch_size=128, validation_data=(X_valid,y_valid), callbacks=callbacks_list)"
   ]
  },
  {
   "cell_type": "markdown",
   "metadata": {
    "colab_type": "text",
    "id": "4nItUUcYtYiw"
   },
   "source": [
    "## 8. Evaluating model performance "
   ]
  },
  {
   "cell_type": "code",
   "execution_count": 21,
   "metadata": {
    "colab": {
     "base_uri": "https://localhost:8080/",
     "height": 34
    },
    "colab_type": "code",
    "executionInfo": {
     "elapsed": 2743,
     "status": "ok",
     "timestamp": 1587726652127,
     "user": {
      "displayName": "Aishwarya Singh",
      "photoUrl": "https://lh3.googleusercontent.com/a-/AOh14GgeJwfn4BdBDCAplWi_kdtB9FRssOpXO7T_aMgg=s64",
      "userId": "01105858832371513140"
     },
     "user_tz": -330
    },
    "id": "Wbfb8_MWuHB4",
    "outputId": "af1c5d1e-09bf-4a66-b2cc-83a7aa18e449"
   },
   "outputs": [
    {
     "name": "stdout",
     "output_type": "stream",
     "text": [
      "Accuracy on validation set: 0.7181303116147308 %\n"
     ]
    }
   ],
   "source": [
    "# accuracy on validation set\n",
    "print('Accuracy on validation set:', accuracy_score(y_valid, model.predict_classes(X_valid)[:, 0]), '%')"
   ]
  },
  {
   "cell_type": "code",
   "execution_count": null,
   "metadata": {
    "colab": {},
    "colab_type": "code",
    "id": "qNW5PWTgO0rN"
   },
   "outputs": [],
   "source": [
    "# loading the best model\n",
    "model.load_weights(\"best_weights.hdf5\")"
   ]
  },
  {
   "cell_type": "code",
   "execution_count": 23,
   "metadata": {
    "colab": {
     "base_uri": "https://localhost:8080/",
     "height": 34
    },
    "colab_type": "code",
    "executionInfo": {
     "elapsed": 2197,
     "status": "ok",
     "timestamp": 1587726687533,
     "user": {
      "displayName": "Aishwarya Singh",
      "photoUrl": "https://lh3.googleusercontent.com/a-/AOh14GgeJwfn4BdBDCAplWi_kdtB9FRssOpXO7T_aMgg=s64",
      "userId": "01105858832371513140"
     },
     "user_tz": -330
    },
    "id": "Ath-0kQ6PPzR",
    "outputId": "eadf8bf1-9334-4d7e-8dff-9d5ea10b1511"
   },
   "outputs": [
    {
     "name": "stdout",
     "output_type": "stream",
     "text": [
      "Accuracy on validation set: 0.7237960339943342 %\n"
     ]
    }
   ],
   "source": [
    "# accuracy on validation set\n",
    "print('Accuracy on validation set:', accuracy_score(y_valid, model.predict_classes(X_valid)[:, 0]), '%')"
   ]
  },
  {
   "cell_type": "code",
   "execution_count": null,
   "metadata": {
    "colab": {},
    "colab_type": "code",
    "id": "e56NZ45w4o12"
   },
   "outputs": [],
   "source": []
  }
 ],
 "metadata": {
  "accelerator": "GPU",
  "colab": {
   "collapsed_sections": [],
   "name": "Model Checkpointing in Keras.ipynb",
   "provenance": []
  },
  "kernelspec": {
   "display_name": "Python 3",
   "language": "python",
   "name": "python3"
  },
  "language_info": {
   "codemirror_mode": {
    "name": "ipython",
    "version": 3
   },
   "file_extension": ".py",
   "mimetype": "text/x-python",
   "name": "python",
   "nbconvert_exporter": "python",
   "pygments_lexer": "ipython3",
   "version": "3.8.8"
  }
 },
 "nbformat": 4,
 "nbformat_minor": 4
}
