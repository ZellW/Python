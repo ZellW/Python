{
 "cells": [
  {
   "cell_type": "markdown",
   "metadata": {
    "colab_type": "text",
    "id": "IxgcP-B3ejGc"
   },
   "source": [
    "# Steps to build CNN to solve Emergency vs Non-Emergency vehicle classification problem\n",
    "\n",
    "1. Loading the Dataset\n",
    "2. Pre-processing the Data\n",
    "3. Creating Training and Validation set\n",
    "4. Defining the Model Architecture\n",
    "5. Compiling the Model\n",
    "6. Training the Model\n",
    "<ol>Model Checkpointing</ol>\n",
    "7. Evaluating model performance"
   ]
  },
  {
   "cell_type": "markdown",
   "metadata": {
    "colab_type": "text",
    "id": "hNWck_ZahKLA"
   },
   "source": [
    "## 1. Loading the Dataset"
   ]
  },
  {
   "cell_type": "code",
   "execution_count": 1,
   "metadata": {
    "colab": {
     "base_uri": "https://localhost:8080/",
     "height": 34
    },
    "colab_type": "code",
    "executionInfo": {
     "elapsed": 5307,
     "status": "ok",
     "timestamp": 1587728681928,
     "user": {
      "displayName": "Aishwarya Singh",
      "photoUrl": "https://lh3.googleusercontent.com/a-/AOh14GgeJwfn4BdBDCAplWi_kdtB9FRssOpXO7T_aMgg=s64",
      "userId": "01105858832371513140"
     },
     "user_tz": -330
    },
    "id": "Kf2C4oSfhKLH",
    "outputId": "9e98148e-cdb0-45e5-a065-9402a840476c"
   },
   "outputs": [
    {
     "name": "stderr",
     "output_type": "stream",
     "text": [
      "Using TensorFlow backend.\n"
     ]
    }
   ],
   "source": [
    "# import necessary libraries and functions\n",
    "import numpy as np\n",
    "import pandas as pd\n",
    "import matplotlib.pyplot as plt\n",
    "%matplotlib inline\n",
    "\n",
    "# importing layers from keras\n",
    "from keras.layers import Dense, InputLayer, BatchNormalization, Dropout\n",
    "from keras.models import Sequential\n",
    "# importing adam optimizer from keras optimizer module \n",
    "from keras.optimizers import Adam\n",
    "\n",
    "# train_test_split to create training and validation set\n",
    "from sklearn.model_selection import train_test_split\n",
    "# accuracy_score to calculate the accuracy of predictions\n",
    "from sklearn.metrics import accuracy_score"
   ]
  },
  {
   "cell_type": "code",
   "execution_count": 2,
   "metadata": {
    "colab": {
     "base_uri": "https://localhost:8080/",
     "height": 124
    },
    "colab_type": "code",
    "executionInfo": {
     "elapsed": 49957,
     "status": "ok",
     "timestamp": 1587728734632,
     "user": {
      "displayName": "Aishwarya Singh",
      "photoUrl": "https://lh3.googleusercontent.com/a-/AOh14GgeJwfn4BdBDCAplWi_kdtB9FRssOpXO7T_aMgg=s64",
      "userId": "01105858832371513140"
     },
     "user_tz": -330
    },
    "id": "x_VY_HZ5hm-z",
    "outputId": "c9b25333-4d27-4958-cd0a-cdbbc909fc91"
   },
   "outputs": [
    {
     "name": "stdout",
     "output_type": "stream",
     "text": [
      "Go to this URL in a browser: https://accounts.google.com/o/oauth2/auth?client_id=947318989803-6bn6qk8qdgf4n4g3pfee6491hc0brc4i.apps.googleusercontent.com&redirect_uri=urn%3aietf%3awg%3aoauth%3a2.0%3aoob&response_type=code&scope=email%20https%3a%2f%2fwww.googleapis.com%2fauth%2fdocs.test%20https%3a%2f%2fwww.googleapis.com%2fauth%2fdrive%20https%3a%2f%2fwww.googleapis.com%2fauth%2fdrive.photos.readonly%20https%3a%2f%2fwww.googleapis.com%2fauth%2fpeopleapi.readonly\n",
      "\n",
      "Enter your authorization code:\n",
      "··········\n",
      "Mounted at /content/drive\n"
     ]
    }
   ],
   "source": [
    "# from google.colab import drive\n",
    "# drive.mount('/content/drive')"
   ]
  },
  {
   "cell_type": "code",
   "execution_count": 1,
   "metadata": {
    "colab": {
     "base_uri": "https://localhost:8080/",
     "height": 1000
    },
    "colab_type": "code",
    "executionInfo": {
     "elapsed": 11205,
     "status": "ok",
     "timestamp": 1587728743545,
     "user": {
      "displayName": "Aishwarya Singh",
      "photoUrl": "https://lh3.googleusercontent.com/a-/AOh14GgeJwfn4BdBDCAplWi_kdtB9FRssOpXO7T_aMgg=s64",
      "userId": "01105858832371513140"
     },
     "user_tz": -330
    },
    "id": "1bb6wmB1hmvk",
    "outputId": "6dc6f6d6-9ab0-489a-f183-368ed3b5cc39"
   },
   "outputs": [],
   "source": [
    "# unzipping the Dataset.zip file\n",
    "# !unzip /content/drive/My\\ Drive/Dataset.zip"
   ]
  },
  {
   "cell_type": "code",
   "execution_count": null,
   "metadata": {
    "colab": {},
    "colab_type": "code",
    "id": "ZCK0i2SAhKLa"
   },
   "outputs": [],
   "source": [
    "# create random number generator\n",
    "seed = 42"
   ]
  },
  {
   "cell_type": "code",
   "execution_count": null,
   "metadata": {
    "colab": {},
    "colab_type": "code",
    "id": "_MKVrwevhKLk"
   },
   "outputs": [],
   "source": [
    "# reading the csv file\n",
    "data = pd.read_csv('../data/emergency_vehicles/emergency_classification.csv')"
   ]
  },
  {
   "cell_type": "code",
   "execution_count": null,
   "metadata": {
    "colab": {},
    "colab_type": "code",
    "id": "OUcBZmDLhKLt"
   },
   "outputs": [],
   "source": [
    "# load images and store it in numpy array\n",
    "\n",
    "# empty list to store the images\n",
    "X = []\n",
    "# iterating over each image\n",
    "for img_name in data.image_names:\n",
    "    # loading the image using its name\n",
    "    img = plt.imread('../data/emergency_vehicles/images_vehicles/' + img_name)\n",
    "    # saving each image in the list\n",
    "    X.append(img)\n",
    "    \n",
    "# converting the list of images into array\n",
    "X=np.array(X)\n",
    "\n",
    "# storing the target variable in separate variable\n",
    "y = data.emergency_or_not.values"
   ]
  },
  {
   "cell_type": "code",
   "execution_count": 7,
   "metadata": {
    "colab": {
     "base_uri": "https://localhost:8080/",
     "height": 34
    },
    "colab_type": "code",
    "executionInfo": {
     "elapsed": 1961,
     "status": "ok",
     "timestamp": 1587728758691,
     "user": {
      "displayName": "Aishwarya Singh",
      "photoUrl": "https://lh3.googleusercontent.com/a-/AOh14GgeJwfn4BdBDCAplWi_kdtB9FRssOpXO7T_aMgg=s64",
      "userId": "01105858832371513140"
     },
     "user_tz": -330
    },
    "id": "teJk4rIThKL2",
    "outputId": "77f05ff1-0af1-4c69-b4bf-4ead475d7a02"
   },
   "outputs": [
    {
     "data": {
      "text/plain": [
       "(2352, 224, 224, 3)"
      ]
     },
     "execution_count": 7,
     "metadata": {
      "tags": []
     },
     "output_type": "execute_result"
    }
   ],
   "source": [
    "# shape of the images\n",
    "X.shape"
   ]
  },
  {
   "cell_type": "markdown",
   "metadata": {
    "colab_type": "text",
    "id": "nKxqxL45ijJX"
   },
   "source": [
    "## 2. Pre-processing the Data"
   ]
  },
  {
   "cell_type": "code",
   "execution_count": null,
   "metadata": {
    "colab": {},
    "colab_type": "code",
    "id": "9HXsTHmJhKL_"
   },
   "outputs": [],
   "source": [
    "# normalizing the pixel values\n",
    "X = X / X.max()"
   ]
  },
  {
   "cell_type": "markdown",
   "metadata": {
    "colab_type": "text",
    "id": "WDM9Hjsiisyl"
   },
   "source": [
    "## 3. Creating Training and Validation set"
   ]
  },
  {
   "cell_type": "code",
   "execution_count": null,
   "metadata": {
    "colab": {},
    "colab_type": "code",
    "id": "JIO9W5ihhKMF"
   },
   "outputs": [],
   "source": [
    "# creating a training and validation set\n",
    "X_train, X_valid, y_train, y_valid=train_test_split(X,y,test_size=0.3, random_state=seed)"
   ]
  },
  {
   "cell_type": "code",
   "execution_count": 10,
   "metadata": {
    "colab": {
     "base_uri": "https://localhost:8080/",
     "height": 34
    },
    "colab_type": "code",
    "executionInfo": {
     "elapsed": 1587,
     "status": "ok",
     "timestamp": 1587728767524,
     "user": {
      "displayName": "Aishwarya Singh",
      "photoUrl": "https://lh3.googleusercontent.com/a-/AOh14GgeJwfn4BdBDCAplWi_kdtB9FRssOpXO7T_aMgg=s64",
      "userId": "01105858832371513140"
     },
     "user_tz": -330
    },
    "id": "66pP0PgXiz5U",
    "outputId": "c18db67c-d46a-4b6a-eba9-695e65c0221a"
   },
   "outputs": [
    {
     "data": {
      "text/plain": [
       "(((1646, 224, 224, 3), (1646,)), ((706, 224, 224, 3), (706,)))"
      ]
     },
     "execution_count": 10,
     "metadata": {
      "tags": []
     },
     "output_type": "execute_result"
    }
   ],
   "source": [
    "# shape of training and validation set\n",
    "(X_train.shape, y_train.shape), (X_valid.shape, y_valid.shape)"
   ]
  },
  {
   "cell_type": "markdown",
   "metadata": {
    "colab_type": "text",
    "id": "f_HSxXtVhKMO"
   },
   "source": [
    "## 4. Defining the Model Architecture"
   ]
  },
  {
   "cell_type": "code",
   "execution_count": null,
   "metadata": {
    "colab": {},
    "colab_type": "code",
    "id": "8H-ihteG_y4_"
   },
   "outputs": [],
   "source": [
    "# importing the convolutional and flatten layer from keras\n",
    "from keras.layers import Conv2D, Flatten, MaxPool2D"
   ]
  },
  {
   "cell_type": "code",
   "execution_count": null,
   "metadata": {
    "colab": {},
    "colab_type": "code",
    "id": "elD4F16q_uRQ"
   },
   "outputs": [],
   "source": [
    "# defining the model architecture with maxpool layer\n",
    "\n",
    "model = Sequential()\n",
    "    \n",
    "model.add(InputLayer(input_shape=(224, 224, 3)))\n",
    "\n",
    "model.add(Conv2D(50, (5, 5), activation='relu', strides=(1, 1), padding='valid'))\n",
    "model.add(MaxPool2D(pool_size=(2, 2), padding='valid'))\n",
    "model.add(Conv2D(50, (5, 5), activation='relu', strides=(1, 1), padding='valid'))\n",
    "model.add(MaxPool2D(pool_size=(4, 4), padding='valid'))\n",
    "\n",
    "model.add(Flatten())\n",
    "\n",
    "model.add(Dense(units=100, activation='relu'))\n",
    "model.add(BatchNormalization())\n",
    "model.add(Dropout(rate=0.6))\n",
    "model.add(Dense(units=100, activation='relu'))\n",
    "model.add(BatchNormalization())\n",
    "model.add(Dropout(rate=0.6))\n",
    "model.add(Dense(units=1, activation='sigmoid'))"
   ]
  },
  {
   "cell_type": "code",
   "execution_count": 13,
   "metadata": {
    "colab": {
     "base_uri": "https://localhost:8080/",
     "height": 573
    },
    "colab_type": "code",
    "executionInfo": {
     "elapsed": 9461,
     "status": "ok",
     "timestamp": 1587728804651,
     "user": {
      "displayName": "Aishwarya Singh",
      "photoUrl": "https://lh3.googleusercontent.com/a-/AOh14GgeJwfn4BdBDCAplWi_kdtB9FRssOpXO7T_aMgg=s64",
      "userId": "01105858832371513140"
     },
     "user_tz": -330
    },
    "id": "BBwKWQjE_v4j",
    "outputId": "b46559d0-9c35-4811-b410-3ef7e97e5ebf"
   },
   "outputs": [
    {
     "name": "stdout",
     "output_type": "stream",
     "text": [
      "Model: \"sequential_1\"\n",
      "_________________________________________________________________\n",
      "Layer (type)                 Output Shape              Param #   \n",
      "=================================================================\n",
      "conv2d_1 (Conv2D)            (None, 220, 220, 50)      3800      \n",
      "_________________________________________________________________\n",
      "max_pooling2d_1 (MaxPooling2 (None, 110, 110, 50)      0         \n",
      "_________________________________________________________________\n",
      "conv2d_2 (Conv2D)            (None, 106, 106, 50)      62550     \n",
      "_________________________________________________________________\n",
      "max_pooling2d_2 (MaxPooling2 (None, 26, 26, 50)        0         \n",
      "_________________________________________________________________\n",
      "flatten_1 (Flatten)          (None, 33800)             0         \n",
      "_________________________________________________________________\n",
      "dense_1 (Dense)              (None, 100)               3380100   \n",
      "_________________________________________________________________\n",
      "batch_normalization_1 (Batch (None, 100)               400       \n",
      "_________________________________________________________________\n",
      "dropout_1 (Dropout)          (None, 100)               0         \n",
      "_________________________________________________________________\n",
      "dense_2 (Dense)              (None, 100)               10100     \n",
      "_________________________________________________________________\n",
      "batch_normalization_2 (Batch (None, 100)               400       \n",
      "_________________________________________________________________\n",
      "dropout_2 (Dropout)          (None, 100)               0         \n",
      "_________________________________________________________________\n",
      "dense_3 (Dense)              (None, 1)                 101       \n",
      "=================================================================\n",
      "Total params: 3,457,451\n",
      "Trainable params: 3,457,051\n",
      "Non-trainable params: 400\n",
      "_________________________________________________________________\n"
     ]
    }
   ],
   "source": [
    "# printing summary of the model\n",
    "model.summary()"
   ]
  },
  {
   "cell_type": "markdown",
   "metadata": {
    "colab_type": "text",
    "id": "Ih1KTM7MF1-2"
   },
   "source": [
    "## 5. Compiling the Model"
   ]
  },
  {
   "cell_type": "code",
   "execution_count": null,
   "metadata": {
    "colab": {},
    "colab_type": "code",
    "id": "uXF1_OIWhKMg"
   },
   "outputs": [],
   "source": [
    "# compiling the model\n",
    "model.compile(loss='binary_crossentropy', optimizer=\"adam\", metrics=['accuracy'])"
   ]
  },
  {
   "cell_type": "markdown",
   "metadata": {
    "colab_type": "text",
    "id": "6L1-5Ik4GC1y"
   },
   "source": [
    "## 6. Training the Model"
   ]
  },
  {
   "cell_type": "code",
   "execution_count": null,
   "metadata": {
    "colab": {},
    "colab_type": "code",
    "id": "srXn-FYnNAAo"
   },
   "outputs": [],
   "source": [
    "# defining model checkpointing\n",
    "from keras.callbacks import ModelCheckpoint\n",
    "\n",
    "# defining the path to save the model\n",
    "path = 'best_model.hdf5'\n",
    "\n",
    "# defining model checkpointing\n",
    "checkpoint = ModelCheckpoint(path, monitor='val_accuracy', verbose = 1, save_best_only = True, mode='max')\n",
    "\n",
    "# defining callback list\n",
    "callback_list = [checkpoint]"
   ]
  },
  {
   "cell_type": "code",
   "execution_count": 16,
   "metadata": {
    "colab": {
     "base_uri": "https://localhost:8080/",
     "height": 1000
    },
    "colab_type": "code",
    "executionInfo": {
     "elapsed": 297490,
     "status": "ok",
     "timestamp": 1587729187336,
     "user": {
      "displayName": "Aishwarya Singh",
      "photoUrl": "https://lh3.googleusercontent.com/a-/AOh14GgeJwfn4BdBDCAplWi_kdtB9FRssOpXO7T_aMgg=s64",
      "userId": "01105858832371513140"
     },
     "user_tz": -330
    },
    "id": "JF4dEvsrhKMo",
    "outputId": "c47b8a71-caf6-41d6-c2fd-a30b7999ce74"
   },
   "outputs": [
    {
     "name": "stdout",
     "output_type": "stream",
     "text": [
      "Train on 1646 samples, validate on 706 samples\n",
      "Epoch 1/100\n",
      "1646/1646 [==============================] - 11s 7ms/step - loss: 0.9284 - accuracy: 0.5960 - val_loss: 0.6333 - val_accuracy: 0.6402\n",
      "\n",
      "Epoch 00001: val_accuracy improved from -inf to 0.64023, saving model to best_model.hdf5\n",
      "Epoch 2/100\n",
      "1646/1646 [==============================] - 3s 2ms/step - loss: 0.6533 - accuracy: 0.7266 - val_loss: 0.5399 - val_accuracy: 0.7592\n",
      "\n",
      "Epoch 00002: val_accuracy improved from 0.64023 to 0.75921, saving model to best_model.hdf5\n",
      "Epoch 3/100\n",
      "1646/1646 [==============================] - 3s 2ms/step - loss: 0.5870 - accuracy: 0.7533 - val_loss: 0.4775 - val_accuracy: 0.7805\n",
      "\n",
      "Epoch 00003: val_accuracy improved from 0.75921 to 0.78045, saving model to best_model.hdf5\n",
      "Epoch 4/100\n",
      "1646/1646 [==============================] - 3s 2ms/step - loss: 0.5205 - accuracy: 0.7704 - val_loss: 0.5992 - val_accuracy: 0.6997\n",
      "\n",
      "Epoch 00004: val_accuracy did not improve from 0.78045\n",
      "Epoch 5/100\n",
      "1646/1646 [==============================] - 3s 2ms/step - loss: 0.4752 - accuracy: 0.8013 - val_loss: 0.4106 - val_accuracy: 0.8074\n",
      "\n",
      "Epoch 00005: val_accuracy improved from 0.78045 to 0.80737, saving model to best_model.hdf5\n",
      "Epoch 6/100\n",
      "1646/1646 [==============================] - 3s 2ms/step - loss: 0.3827 - accuracy: 0.8354 - val_loss: 0.4648 - val_accuracy: 0.7592\n",
      "\n",
      "Epoch 00006: val_accuracy did not improve from 0.80737\n",
      "Epoch 7/100\n",
      "1646/1646 [==============================] - 3s 2ms/step - loss: 0.3395 - accuracy: 0.8603 - val_loss: 0.8626 - val_accuracy: 0.5878\n",
      "\n",
      "Epoch 00007: val_accuracy did not improve from 0.80737\n",
      "Epoch 8/100\n",
      "1646/1646 [==============================] - 3s 2ms/step - loss: 0.3163 - accuracy: 0.8663 - val_loss: 0.5887 - val_accuracy: 0.6926\n",
      "\n",
      "Epoch 00008: val_accuracy did not improve from 0.80737\n",
      "Epoch 9/100\n",
      "1646/1646 [==============================] - 3s 2ms/step - loss: 0.2493 - accuracy: 0.8931 - val_loss: 0.4515 - val_accuracy: 0.8102\n",
      "\n",
      "Epoch 00009: val_accuracy improved from 0.80737 to 0.81020, saving model to best_model.hdf5\n",
      "Epoch 10/100\n",
      "1646/1646 [==============================] - 3s 2ms/step - loss: 0.2283 - accuracy: 0.9064 - val_loss: 0.3707 - val_accuracy: 0.8286\n",
      "\n",
      "Epoch 00010: val_accuracy improved from 0.81020 to 0.82861, saving model to best_model.hdf5\n",
      "Epoch 11/100\n",
      "1646/1646 [==============================] - 3s 2ms/step - loss: 0.2084 - accuracy: 0.9247 - val_loss: 0.8458 - val_accuracy: 0.6686\n",
      "\n",
      "Epoch 00011: val_accuracy did not improve from 0.82861\n",
      "Epoch 12/100\n",
      "1646/1646 [==============================] - 3s 2ms/step - loss: 0.1804 - accuracy: 0.9277 - val_loss: 0.4432 - val_accuracy: 0.8031\n",
      "\n",
      "Epoch 00012: val_accuracy did not improve from 0.82861\n",
      "Epoch 13/100\n",
      "1646/1646 [==============================] - 3s 2ms/step - loss: 0.1481 - accuracy: 0.9459 - val_loss: 0.3682 - val_accuracy: 0.8428\n",
      "\n",
      "Epoch 00013: val_accuracy improved from 0.82861 to 0.84278, saving model to best_model.hdf5\n",
      "Epoch 14/100\n",
      "1646/1646 [==============================] - 3s 2ms/step - loss: 0.1164 - accuracy: 0.9593 - val_loss: 1.0351 - val_accuracy: 0.6601\n",
      "\n",
      "Epoch 00014: val_accuracy did not improve from 0.84278\n",
      "Epoch 15/100\n",
      "1646/1646 [==============================] - 3s 2ms/step - loss: 0.1187 - accuracy: 0.9544 - val_loss: 0.4590 - val_accuracy: 0.8144\n",
      "\n",
      "Epoch 00015: val_accuracy did not improve from 0.84278\n",
      "Epoch 16/100\n",
      "1646/1646 [==============================] - 3s 2ms/step - loss: 0.1069 - accuracy: 0.9629 - val_loss: 0.5105 - val_accuracy: 0.8003\n",
      "\n",
      "Epoch 00016: val_accuracy did not improve from 0.84278\n",
      "Epoch 17/100\n",
      "1646/1646 [==============================] - 3s 2ms/step - loss: 0.0833 - accuracy: 0.9733 - val_loss: 0.6204 - val_accuracy: 0.7904\n",
      "\n",
      "Epoch 00017: val_accuracy did not improve from 0.84278\n",
      "Epoch 18/100\n",
      "1646/1646 [==============================] - 3s 2ms/step - loss: 0.0792 - accuracy: 0.9696 - val_loss: 0.4714 - val_accuracy: 0.8371\n",
      "\n",
      "Epoch 00018: val_accuracy did not improve from 0.84278\n",
      "Epoch 19/100\n",
      "1646/1646 [==============================] - 3s 2ms/step - loss: 0.0548 - accuracy: 0.9824 - val_loss: 0.4788 - val_accuracy: 0.8385\n",
      "\n",
      "Epoch 00019: val_accuracy did not improve from 0.84278\n",
      "Epoch 20/100\n",
      "1646/1646 [==============================] - 3s 2ms/step - loss: 0.0584 - accuracy: 0.9830 - val_loss: 1.1826 - val_accuracy: 0.7025\n",
      "\n",
      "Epoch 00020: val_accuracy did not improve from 0.84278\n",
      "Epoch 21/100\n",
      "1646/1646 [==============================] - 3s 2ms/step - loss: 0.0489 - accuracy: 0.9872 - val_loss: 0.5779 - val_accuracy: 0.8272\n",
      "\n",
      "Epoch 00021: val_accuracy did not improve from 0.84278\n",
      "Epoch 22/100\n",
      "1646/1646 [==============================] - 3s 2ms/step - loss: 0.0423 - accuracy: 0.9878 - val_loss: 0.5642 - val_accuracy: 0.8229\n",
      "\n",
      "Epoch 00022: val_accuracy did not improve from 0.84278\n",
      "Epoch 23/100\n",
      "1646/1646 [==============================] - 3s 2ms/step - loss: 0.0462 - accuracy: 0.9872 - val_loss: 0.5233 - val_accuracy: 0.8244\n",
      "\n",
      "Epoch 00023: val_accuracy did not improve from 0.84278\n",
      "Epoch 24/100\n",
      "1646/1646 [==============================] - 3s 2ms/step - loss: 0.0360 - accuracy: 0.9878 - val_loss: 0.7250 - val_accuracy: 0.8074\n",
      "\n",
      "Epoch 00024: val_accuracy did not improve from 0.84278\n",
      "Epoch 25/100\n",
      "1646/1646 [==============================] - 3s 2ms/step - loss: 0.0301 - accuracy: 0.9915 - val_loss: 0.6597 - val_accuracy: 0.8159\n",
      "\n",
      "Epoch 00025: val_accuracy did not improve from 0.84278\n",
      "Epoch 26/100\n",
      "1646/1646 [==============================] - 3s 2ms/step - loss: 0.0375 - accuracy: 0.9915 - val_loss: 0.5377 - val_accuracy: 0.8357\n",
      "\n",
      "Epoch 00026: val_accuracy did not improve from 0.84278\n",
      "Epoch 27/100\n",
      "1646/1646 [==============================] - 3s 2ms/step - loss: 0.0301 - accuracy: 0.9909 - val_loss: 0.5632 - val_accuracy: 0.8399\n",
      "\n",
      "Epoch 00027: val_accuracy did not improve from 0.84278\n",
      "Epoch 28/100\n",
      "1646/1646 [==============================] - 3s 2ms/step - loss: 0.0272 - accuracy: 0.9945 - val_loss: 0.5218 - val_accuracy: 0.8343\n",
      "\n",
      "Epoch 00028: val_accuracy did not improve from 0.84278\n",
      "Epoch 29/100\n",
      "1646/1646 [==============================] - 3s 2ms/step - loss: 0.0391 - accuracy: 0.9927 - val_loss: 1.3036 - val_accuracy: 0.7380\n",
      "\n",
      "Epoch 00029: val_accuracy did not improve from 0.84278\n",
      "Epoch 30/100\n",
      "1646/1646 [==============================] - 3s 2ms/step - loss: 0.0211 - accuracy: 0.9964 - val_loss: 0.5875 - val_accuracy: 0.8229\n",
      "\n",
      "Epoch 00030: val_accuracy did not improve from 0.84278\n",
      "Epoch 31/100\n",
      "1646/1646 [==============================] - 3s 2ms/step - loss: 0.0322 - accuracy: 0.9909 - val_loss: 0.6579 - val_accuracy: 0.8314\n",
      "\n",
      "Epoch 00031: val_accuracy did not improve from 0.84278\n",
      "Epoch 32/100\n",
      "1646/1646 [==============================] - 3s 2ms/step - loss: 0.0273 - accuracy: 0.9951 - val_loss: 0.7040 - val_accuracy: 0.8130\n",
      "\n",
      "Epoch 00032: val_accuracy did not improve from 0.84278\n",
      "Epoch 33/100\n",
      "1646/1646 [==============================] - 3s 2ms/step - loss: 0.0313 - accuracy: 0.9927 - val_loss: 0.5348 - val_accuracy: 0.8187\n",
      "\n",
      "Epoch 00033: val_accuracy did not improve from 0.84278\n",
      "Epoch 34/100\n",
      "1646/1646 [==============================] - 3s 2ms/step - loss: 0.0240 - accuracy: 0.9951 - val_loss: 0.5628 - val_accuracy: 0.8215\n",
      "\n",
      "Epoch 00034: val_accuracy did not improve from 0.84278\n",
      "Epoch 35/100\n",
      "1646/1646 [==============================] - 3s 2ms/step - loss: 0.0198 - accuracy: 0.9951 - val_loss: 0.5690 - val_accuracy: 0.8229\n",
      "\n",
      "Epoch 00035: val_accuracy did not improve from 0.84278\n",
      "Epoch 36/100\n",
      "1646/1646 [==============================] - 3s 2ms/step - loss: 0.0245 - accuracy: 0.9970 - val_loss: 0.8972 - val_accuracy: 0.8074\n",
      "\n",
      "Epoch 00036: val_accuracy did not improve from 0.84278\n",
      "Epoch 37/100\n",
      "1646/1646 [==============================] - 3s 2ms/step - loss: 0.0292 - accuracy: 0.9945 - val_loss: 0.6550 - val_accuracy: 0.8159\n",
      "\n",
      "Epoch 00037: val_accuracy did not improve from 0.84278\n",
      "Epoch 38/100\n",
      "1646/1646 [==============================] - 3s 2ms/step - loss: 0.0271 - accuracy: 0.9945 - val_loss: 0.6807 - val_accuracy: 0.8357\n",
      "\n",
      "Epoch 00038: val_accuracy did not improve from 0.84278\n",
      "Epoch 39/100\n",
      "1646/1646 [==============================] - 3s 2ms/step - loss: 0.0226 - accuracy: 0.9933 - val_loss: 0.9762 - val_accuracy: 0.7790\n",
      "\n",
      "Epoch 00039: val_accuracy did not improve from 0.84278\n",
      "Epoch 40/100\n",
      "1646/1646 [==============================] - 3s 2ms/step - loss: 0.0253 - accuracy: 0.9933 - val_loss: 0.7834 - val_accuracy: 0.8130\n",
      "\n",
      "Epoch 00040: val_accuracy did not improve from 0.84278\n",
      "Epoch 41/100\n",
      "1646/1646 [==============================] - 3s 2ms/step - loss: 0.0200 - accuracy: 0.9957 - val_loss: 0.9679 - val_accuracy: 0.7960\n",
      "\n",
      "Epoch 00041: val_accuracy did not improve from 0.84278\n",
      "Epoch 42/100\n",
      "1646/1646 [==============================] - 3s 2ms/step - loss: 0.0287 - accuracy: 0.9933 - val_loss: 1.2228 - val_accuracy: 0.7606\n",
      "\n",
      "Epoch 00042: val_accuracy did not improve from 0.84278\n",
      "Epoch 43/100\n",
      "1646/1646 [==============================] - 3s 2ms/step - loss: 0.0236 - accuracy: 0.9957 - val_loss: 0.7220 - val_accuracy: 0.8258\n",
      "\n",
      "Epoch 00043: val_accuracy did not improve from 0.84278\n",
      "Epoch 44/100\n",
      "1646/1646 [==============================] - 3s 2ms/step - loss: 0.0231 - accuracy: 0.9951 - val_loss: 0.7551 - val_accuracy: 0.8286\n",
      "\n",
      "Epoch 00044: val_accuracy did not improve from 0.84278\n",
      "Epoch 45/100\n",
      "1646/1646 [==============================] - 3s 2ms/step - loss: 0.0204 - accuracy: 0.9951 - val_loss: 0.9021 - val_accuracy: 0.8045\n",
      "\n",
      "Epoch 00045: val_accuracy did not improve from 0.84278\n",
      "Epoch 46/100\n",
      "1646/1646 [==============================] - 3s 2ms/step - loss: 0.0208 - accuracy: 0.9957 - val_loss: 1.0709 - val_accuracy: 0.7847\n",
      "\n",
      "Epoch 00046: val_accuracy did not improve from 0.84278\n",
      "Epoch 47/100\n",
      "1646/1646 [==============================] - 3s 2ms/step - loss: 0.0201 - accuracy: 0.9957 - val_loss: 0.7250 - val_accuracy: 0.8201\n",
      "\n",
      "Epoch 00047: val_accuracy did not improve from 0.84278\n",
      "Epoch 48/100\n",
      "1646/1646 [==============================] - 3s 2ms/step - loss: 0.0228 - accuracy: 0.9951 - val_loss: 0.6696 - val_accuracy: 0.8428\n",
      "\n",
      "Epoch 00048: val_accuracy did not improve from 0.84278\n",
      "Epoch 49/100\n",
      "1646/1646 [==============================] - 3s 2ms/step - loss: 0.0195 - accuracy: 0.9964 - val_loss: 0.7495 - val_accuracy: 0.8173\n",
      "\n",
      "Epoch 00049: val_accuracy did not improve from 0.84278\n",
      "Epoch 50/100\n",
      "1646/1646 [==============================] - 3s 2ms/step - loss: 0.0122 - accuracy: 0.9964 - val_loss: 0.8530 - val_accuracy: 0.8173\n",
      "\n",
      "Epoch 00050: val_accuracy did not improve from 0.84278\n",
      "Epoch 51/100\n",
      "1646/1646 [==============================] - 3s 2ms/step - loss: 0.0251 - accuracy: 0.9951 - val_loss: 0.7647 - val_accuracy: 0.8371\n",
      "\n",
      "Epoch 00051: val_accuracy did not improve from 0.84278\n",
      "Epoch 52/100\n",
      "1646/1646 [==============================] - 3s 2ms/step - loss: 0.0167 - accuracy: 0.9964 - val_loss: 0.9813 - val_accuracy: 0.8286\n",
      "\n",
      "Epoch 00052: val_accuracy did not improve from 0.84278\n",
      "Epoch 53/100\n",
      "1646/1646 [==============================] - 3s 2ms/step - loss: 0.0183 - accuracy: 0.9957 - val_loss: 2.5192 - val_accuracy: 0.6671\n",
      "\n",
      "Epoch 00053: val_accuracy did not improve from 0.84278\n",
      "Epoch 54/100\n",
      "1646/1646 [==============================] - 3s 2ms/step - loss: 0.0189 - accuracy: 0.9964 - val_loss: 0.7000 - val_accuracy: 0.8286\n",
      "\n",
      "Epoch 00054: val_accuracy did not improve from 0.84278\n",
      "Epoch 55/100\n",
      "1646/1646 [==============================] - 3s 2ms/step - loss: 0.0211 - accuracy: 0.9951 - val_loss: 1.0193 - val_accuracy: 0.7890\n",
      "\n",
      "Epoch 00055: val_accuracy did not improve from 0.84278\n",
      "Epoch 56/100\n",
      "1646/1646 [==============================] - 3s 2ms/step - loss: 0.0333 - accuracy: 0.9957 - val_loss: 0.6043 - val_accuracy: 0.8456\n",
      "\n",
      "Epoch 00056: val_accuracy improved from 0.84278 to 0.84561, saving model to best_model.hdf5\n",
      "Epoch 57/100\n",
      "1646/1646 [==============================] - 3s 2ms/step - loss: 0.0177 - accuracy: 0.9964 - val_loss: 1.0428 - val_accuracy: 0.7946\n",
      "\n",
      "Epoch 00057: val_accuracy did not improve from 0.84561\n",
      "Epoch 58/100\n",
      "1646/1646 [==============================] - 3s 2ms/step - loss: 0.0185 - accuracy: 0.9945 - val_loss: 0.9431 - val_accuracy: 0.8017\n",
      "\n",
      "Epoch 00058: val_accuracy did not improve from 0.84561\n",
      "Epoch 59/100\n",
      "1646/1646 [==============================] - 3s 2ms/step - loss: 0.0291 - accuracy: 0.9945 - val_loss: 0.7471 - val_accuracy: 0.8343\n",
      "\n",
      "Epoch 00059: val_accuracy did not improve from 0.84561\n",
      "Epoch 60/100\n",
      "1646/1646 [==============================] - 3s 2ms/step - loss: 0.0177 - accuracy: 0.9964 - val_loss: 0.8419 - val_accuracy: 0.8173\n",
      "\n",
      "Epoch 00060: val_accuracy did not improve from 0.84561\n",
      "Epoch 61/100\n",
      "1646/1646 [==============================] - 3s 2ms/step - loss: 0.0162 - accuracy: 0.9976 - val_loss: 0.7969 - val_accuracy: 0.8286\n",
      "\n",
      "Epoch 00061: val_accuracy did not improve from 0.84561\n",
      "Epoch 62/100\n",
      "1646/1646 [==============================] - 3s 2ms/step - loss: 0.0143 - accuracy: 0.9957 - val_loss: 0.7570 - val_accuracy: 0.8300\n",
      "\n",
      "Epoch 00062: val_accuracy did not improve from 0.84561\n",
      "Epoch 63/100\n",
      "1646/1646 [==============================] - 3s 2ms/step - loss: 0.0081 - accuracy: 0.9982 - val_loss: 1.0507 - val_accuracy: 0.8144\n",
      "\n",
      "Epoch 00063: val_accuracy did not improve from 0.84561\n",
      "Epoch 64/100\n",
      "1646/1646 [==============================] - 3s 2ms/step - loss: 0.0153 - accuracy: 0.9964 - val_loss: 1.3804 - val_accuracy: 0.7805\n",
      "\n",
      "Epoch 00064: val_accuracy did not improve from 0.84561\n",
      "Epoch 65/100\n",
      "1646/1646 [==============================] - 3s 2ms/step - loss: 0.0131 - accuracy: 0.9951 - val_loss: 0.8796 - val_accuracy: 0.8229\n",
      "\n",
      "Epoch 00065: val_accuracy did not improve from 0.84561\n",
      "Epoch 66/100\n",
      "1646/1646 [==============================] - 3s 2ms/step - loss: 0.0139 - accuracy: 0.9970 - val_loss: 0.8777 - val_accuracy: 0.8286\n",
      "\n",
      "Epoch 00066: val_accuracy did not improve from 0.84561\n",
      "Epoch 67/100\n",
      "1646/1646 [==============================] - 3s 2ms/step - loss: 0.0088 - accuracy: 0.9982 - val_loss: 0.7571 - val_accuracy: 0.8272\n",
      "\n",
      "Epoch 00067: val_accuracy did not improve from 0.84561\n",
      "Epoch 68/100\n",
      "1646/1646 [==============================] - 3s 2ms/step - loss: 0.0082 - accuracy: 0.9970 - val_loss: 0.7707 - val_accuracy: 0.8371\n",
      "\n",
      "Epoch 00068: val_accuracy did not improve from 0.84561\n",
      "Epoch 69/100\n",
      "1646/1646 [==============================] - 3s 2ms/step - loss: 0.0169 - accuracy: 0.9957 - val_loss: 1.2699 - val_accuracy: 0.7875\n",
      "\n",
      "Epoch 00069: val_accuracy did not improve from 0.84561\n",
      "Epoch 70/100\n",
      "1646/1646 [==============================] - 3s 2ms/step - loss: 0.0113 - accuracy: 0.9988 - val_loss: 0.7752 - val_accuracy: 0.8428\n",
      "\n",
      "Epoch 00070: val_accuracy did not improve from 0.84561\n",
      "Epoch 71/100\n",
      "1646/1646 [==============================] - 3s 2ms/step - loss: 0.0120 - accuracy: 0.9964 - val_loss: 0.8157 - val_accuracy: 0.8329\n",
      "\n",
      "Epoch 00071: val_accuracy did not improve from 0.84561\n",
      "Epoch 72/100\n",
      "1646/1646 [==============================] - 3s 2ms/step - loss: 0.0200 - accuracy: 0.9945 - val_loss: 1.4438 - val_accuracy: 0.7125\n",
      "\n",
      "Epoch 00072: val_accuracy did not improve from 0.84561\n",
      "Epoch 73/100\n",
      "1646/1646 [==============================] - 3s 2ms/step - loss: 0.0161 - accuracy: 0.9957 - val_loss: 1.0185 - val_accuracy: 0.7790\n",
      "\n",
      "Epoch 00073: val_accuracy did not improve from 0.84561\n",
      "Epoch 74/100\n",
      "1646/1646 [==============================] - 3s 2ms/step - loss: 0.0115 - accuracy: 0.9982 - val_loss: 0.7282 - val_accuracy: 0.8329\n",
      "\n",
      "Epoch 00074: val_accuracy did not improve from 0.84561\n",
      "Epoch 75/100\n",
      "1646/1646 [==============================] - 3s 2ms/step - loss: 0.0097 - accuracy: 0.9970 - val_loss: 1.8509 - val_accuracy: 0.7040\n",
      "\n",
      "Epoch 00075: val_accuracy did not improve from 0.84561\n",
      "Epoch 76/100\n",
      "1646/1646 [==============================] - 3s 2ms/step - loss: 0.0164 - accuracy: 0.9970 - val_loss: 0.7178 - val_accuracy: 0.8371\n",
      "\n",
      "Epoch 00076: val_accuracy did not improve from 0.84561\n",
      "Epoch 77/100\n",
      "1646/1646 [==============================] - 3s 2ms/step - loss: 0.0187 - accuracy: 0.9964 - val_loss: 0.7524 - val_accuracy: 0.8244\n",
      "\n",
      "Epoch 00077: val_accuracy did not improve from 0.84561\n",
      "Epoch 78/100\n",
      "1646/1646 [==============================] - 3s 2ms/step - loss: 0.0124 - accuracy: 0.9964 - val_loss: 0.9428 - val_accuracy: 0.8130\n",
      "\n",
      "Epoch 00078: val_accuracy did not improve from 0.84561\n",
      "Epoch 79/100\n",
      "1646/1646 [==============================] - 3s 2ms/step - loss: 0.0202 - accuracy: 0.9951 - val_loss: 0.8497 - val_accuracy: 0.8399\n",
      "\n",
      "Epoch 00079: val_accuracy did not improve from 0.84561\n",
      "Epoch 80/100\n",
      "1646/1646 [==============================] - 3s 2ms/step - loss: 0.0153 - accuracy: 0.9951 - val_loss: 0.7383 - val_accuracy: 0.8399\n",
      "\n",
      "Epoch 00080: val_accuracy did not improve from 0.84561\n",
      "Epoch 81/100\n",
      "1646/1646 [==============================] - 3s 2ms/step - loss: 0.0260 - accuracy: 0.9964 - val_loss: 0.5962 - val_accuracy: 0.8329\n",
      "\n",
      "Epoch 00081: val_accuracy did not improve from 0.84561\n",
      "Epoch 82/100\n",
      "1646/1646 [==============================] - 3s 2ms/step - loss: 0.0179 - accuracy: 0.9957 - val_loss: 0.6411 - val_accuracy: 0.8357\n",
      "\n",
      "Epoch 00082: val_accuracy did not improve from 0.84561\n",
      "Epoch 83/100\n",
      "1646/1646 [==============================] - 3s 2ms/step - loss: 0.0127 - accuracy: 0.9970 - val_loss: 0.8876 - val_accuracy: 0.8102\n",
      "\n",
      "Epoch 00083: val_accuracy did not improve from 0.84561\n",
      "Epoch 84/100\n",
      "1646/1646 [==============================] - 3s 2ms/step - loss: 0.0114 - accuracy: 0.9957 - val_loss: 0.6904 - val_accuracy: 0.8329\n",
      "\n",
      "Epoch 00084: val_accuracy did not improve from 0.84561\n",
      "Epoch 85/100\n",
      "1646/1646 [==============================] - 3s 2ms/step - loss: 0.0128 - accuracy: 0.9957 - val_loss: 0.6718 - val_accuracy: 0.8414\n",
      "\n",
      "Epoch 00085: val_accuracy did not improve from 0.84561\n",
      "Epoch 86/100\n",
      "1646/1646 [==============================] - 3s 2ms/step - loss: 0.0113 - accuracy: 0.9970 - val_loss: 0.9349 - val_accuracy: 0.8159\n",
      "\n",
      "Epoch 00086: val_accuracy did not improve from 0.84561\n",
      "Epoch 87/100\n",
      "1646/1646 [==============================] - 3s 2ms/step - loss: 0.0124 - accuracy: 0.9970 - val_loss: 1.0151 - val_accuracy: 0.8144\n",
      "\n",
      "Epoch 00087: val_accuracy did not improve from 0.84561\n",
      "Epoch 88/100\n",
      "1646/1646 [==============================] - 3s 2ms/step - loss: 0.0095 - accuracy: 0.9982 - val_loss: 0.7467 - val_accuracy: 0.8343\n",
      "\n",
      "Epoch 00088: val_accuracy did not improve from 0.84561\n",
      "Epoch 89/100\n",
      "1646/1646 [==============================] - 3s 2ms/step - loss: 0.0107 - accuracy: 0.9976 - val_loss: 0.6973 - val_accuracy: 0.8314\n",
      "\n",
      "Epoch 00089: val_accuracy did not improve from 0.84561\n",
      "Epoch 90/100\n",
      "1646/1646 [==============================] - 3s 2ms/step - loss: 0.0152 - accuracy: 0.9970 - val_loss: 0.7923 - val_accuracy: 0.8201\n",
      "\n",
      "Epoch 00090: val_accuracy did not improve from 0.84561\n",
      "Epoch 91/100\n",
      "1646/1646 [==============================] - 3s 2ms/step - loss: 0.0171 - accuracy: 0.9957 - val_loss: 1.6394 - val_accuracy: 0.7635\n",
      "\n",
      "Epoch 00091: val_accuracy did not improve from 0.84561\n",
      "Epoch 92/100\n",
      "1646/1646 [==============================] - 3s 2ms/step - loss: 0.0110 - accuracy: 0.9976 - val_loss: 1.0481 - val_accuracy: 0.8201\n",
      "\n",
      "Epoch 00092: val_accuracy did not improve from 0.84561\n",
      "Epoch 93/100\n",
      "1646/1646 [==============================] - 3s 2ms/step - loss: 0.0157 - accuracy: 0.9951 - val_loss: 1.2199 - val_accuracy: 0.7932\n",
      "\n",
      "Epoch 00093: val_accuracy did not improve from 0.84561\n",
      "Epoch 94/100\n",
      "1646/1646 [==============================] - 3s 2ms/step - loss: 0.0060 - accuracy: 0.9988 - val_loss: 0.7757 - val_accuracy: 0.8229\n",
      "\n",
      "Epoch 00094: val_accuracy did not improve from 0.84561\n",
      "Epoch 95/100\n",
      "1646/1646 [==============================] - 3s 2ms/step - loss: 0.0114 - accuracy: 0.9970 - val_loss: 0.8461 - val_accuracy: 0.8187\n",
      "\n",
      "Epoch 00095: val_accuracy did not improve from 0.84561\n",
      "Epoch 96/100\n",
      "1646/1646 [==============================] - 3s 2ms/step - loss: 0.0155 - accuracy: 0.9951 - val_loss: 0.8645 - val_accuracy: 0.8385\n",
      "\n",
      "Epoch 00096: val_accuracy did not improve from 0.84561\n",
      "Epoch 97/100\n",
      "1646/1646 [==============================] - 3s 2ms/step - loss: 0.0112 - accuracy: 0.9970 - val_loss: 0.6855 - val_accuracy: 0.8399\n",
      "\n",
      "Epoch 00097: val_accuracy did not improve from 0.84561\n",
      "Epoch 98/100\n",
      "1646/1646 [==============================] - 3s 2ms/step - loss: 0.0128 - accuracy: 0.9976 - val_loss: 0.8169 - val_accuracy: 0.8102\n",
      "\n",
      "Epoch 00098: val_accuracy did not improve from 0.84561\n",
      "Epoch 99/100\n",
      "1646/1646 [==============================] - 3s 2ms/step - loss: 0.0110 - accuracy: 0.9964 - val_loss: 0.6865 - val_accuracy: 0.8343\n",
      "\n",
      "Epoch 00099: val_accuracy did not improve from 0.84561\n",
      "Epoch 100/100\n",
      "1646/1646 [==============================] - 3s 2ms/step - loss: 0.0150 - accuracy: 0.9957 - val_loss: 0.6851 - val_accuracy: 0.8385\n",
      "\n",
      "Epoch 00100: val_accuracy did not improve from 0.84561\n"
     ]
    }
   ],
   "source": [
    "# training the model for 100 epochs\n",
    "model_history = model.fit(X_train, y_train, epochs=100, batch_size=128,validation_data=(X_valid,y_valid), callbacks=callback_list)"
   ]
  },
  {
   "cell_type": "markdown",
   "metadata": {
    "colab_type": "text",
    "id": "wmOIR4_PHKFE"
   },
   "source": [
    "## 7. Evaluating model performance"
   ]
  },
  {
   "cell_type": "code",
   "execution_count": null,
   "metadata": {
    "colab": {},
    "colab_type": "code",
    "id": "LqvglMnGOTrh"
   },
   "outputs": [],
   "source": [
    "model.load_weights('best_model.hdf5')"
   ]
  },
  {
   "cell_type": "code",
   "execution_count": 18,
   "metadata": {
    "colab": {
     "base_uri": "https://localhost:8080/",
     "height": 34
    },
    "colab_type": "code",
    "executionInfo": {
     "elapsed": 3290,
     "status": "ok",
     "timestamp": 1587729259843,
     "user": {
      "displayName": "Aishwarya Singh",
      "photoUrl": "https://lh3.googleusercontent.com/a-/AOh14GgeJwfn4BdBDCAplWi_kdtB9FRssOpXO7T_aMgg=s64",
      "userId": "01105858832371513140"
     },
     "user_tz": -330
    },
    "id": "4VqAxVzGGXk9",
    "outputId": "4dcea856-5b32-4499-9820-d4162e3603be"
   },
   "outputs": [
    {
     "name": "stdout",
     "output_type": "stream",
     "text": [
      "Accuracy on training set: 0.9975698663426489 %\n"
     ]
    }
   ],
   "source": [
    "# accuracy on training set\n",
    "print('Accuracy on training set:', accuracy_score(y_train, model.predict_classes(X_train)), '%')"
   ]
  },
  {
   "cell_type": "code",
   "execution_count": 19,
   "metadata": {
    "colab": {
     "base_uri": "https://localhost:8080/",
     "height": 34
    },
    "colab_type": "code",
    "executionInfo": {
     "elapsed": 1880,
     "status": "ok",
     "timestamp": 1587729264489,
     "user": {
      "displayName": "Aishwarya Singh",
      "photoUrl": "https://lh3.googleusercontent.com/a-/AOh14GgeJwfn4BdBDCAplWi_kdtB9FRssOpXO7T_aMgg=s64",
      "userId": "01105858832371513140"
     },
     "user_tz": -330
    },
    "id": "HG13Xm6bGXQg",
    "outputId": "124d9cbc-c69d-4422-ebf5-0b6c2cf57643"
   },
   "outputs": [
    {
     "name": "stdout",
     "output_type": "stream",
     "text": [
      "Accuracy on validation set: 0.8456090651558074 %\n"
     ]
    }
   ],
   "source": [
    "# accuracy on validation set\n",
    "print('Accuracy on validation set:', accuracy_score(y_valid, model.predict_classes(X_valid)), '%')"
   ]
  },
  {
   "cell_type": "code",
   "execution_count": null,
   "metadata": {
    "colab": {},
    "colab_type": "code",
    "id": "nCqs6jmuOS35"
   },
   "outputs": [],
   "source": []
  }
 ],
 "metadata": {
  "accelerator": "GPU",
  "colab": {
   "collapsed_sections": [],
   "name": "Model Checkpointing in Convolutional Neural Network in Keras.ipynb",
   "provenance": []
  },
  "kernelspec": {
   "display_name": "Python 3",
   "language": "python",
   "name": "python3"
  },
  "language_info": {
   "codemirror_mode": {
    "name": "ipython",
    "version": 3
   },
   "file_extension": ".py",
   "mimetype": "text/x-python",
   "name": "python",
   "nbconvert_exporter": "python",
   "pygments_lexer": "ipython3",
   "version": "3.8.8"
  }
 },
 "nbformat": 4,
 "nbformat_minor": 4
}
