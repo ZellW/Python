{
 "cells": [
  {
   "cell_type": "markdown",
   "metadata": {
    "colab_type": "text",
    "id": "Dot9pjtMt46g"
   },
   "source": [
    "## Table of Contents\n",
    "\n",
    "### 1. Use a trained Autoencoder model to extract features from the images\n",
    "> #### 1.1 Prepare data\n",
    "> #### 1.2 Create autoencoder model and train it\n",
    "> #### 1.3 Extract features from images using the trained encoder\n",
    "### 2. Cluster images on the basis of extracted features\n",
    "> #### 2.1 Prepare clustering algorithm\n",
    "> #### 2.2 Get clusters from the features\n",
    "> #### 2.3 Visualize results"
   ]
  },
  {
   "cell_type": "markdown",
   "metadata": {
    "colab_type": "text",
    "id": "Vpf6m3CsuhGL"
   },
   "source": [
    "### 1. Use a trained Autoencoder model to extract features from the images"
   ]
  },
  {
   "cell_type": "markdown",
   "metadata": {
    "colab_type": "text",
    "id": "TfIOpD3suiOQ"
   },
   "source": [
    "#### 1.1 Prepare data"
   ]
  },
  {
   "cell_type": "code",
   "execution_count": 1,
   "metadata": {
    "colab": {
     "base_uri": "https://localhost:8080/",
     "height": 124
    },
    "colab_type": "code",
    "executionInfo": {
     "elapsed": 50041,
     "status": "ok",
     "timestamp": 1587145692065,
     "user": {
      "displayName": "Aishwarya Singh",
      "photoUrl": "https://lh3.googleusercontent.com/a-/AOh14GgeJwfn4BdBDCAplWi_kdtB9FRssOpXO7T_aMgg=s64",
      "userId": "01105858832371513140"
     },
     "user_tz": -330
    },
    "id": "K5f1tgXZEFam",
    "outputId": "68aef3d1-9086-4d76-e850-2c4d77986d31"
   },
   "outputs": [],
   "source": [
    "# Upload data from drive\n",
    "# from google.colab import drive\n",
    "# drive.mount('/content/drive')"
   ]
  },
  {
   "cell_type": "code",
   "execution_count": 2,
   "metadata": {
    "colab": {
     "base_uri": "https://localhost:8080/",
     "height": 1000
    },
    "colab_type": "code",
    "executionInfo": {
     "elapsed": 18036,
     "status": "ok",
     "timestamp": 1587145711837,
     "user": {
      "displayName": "Aishwarya Singh",
      "photoUrl": "https://lh3.googleusercontent.com/a-/AOh14GgeJwfn4BdBDCAplWi_kdtB9FRssOpXO7T_aMgg=s64",
      "userId": "01105858832371513140"
     },
     "user_tz": -330
    },
    "id": "fXPOs6NXeXKm",
    "outputId": "0b765ad4-f960-4e76-bfcf-abd73fd4d6df"
   },
   "outputs": [],
   "source": [
    "# !unzip '/content/drive/My Drive/MNIST.zip'"
   ]
  },
  {
   "cell_type": "code",
   "execution_count": 1,
   "metadata": {
    "colab": {},
    "colab_type": "code",
    "id": "7MiRuBlYu-qr"
   },
   "outputs": [],
   "source": [
    "# import libraries and modules\n",
    "%matplotlib inline\n",
    "\n",
    "import os\n",
    "import numpy as np\n",
    "import pandas as pd\n",
    "import matplotlib.pyplot as plt\n",
    "\n",
    "from skimage.io import imread\n",
    "\n",
    "from sklearn.cluster import KMeans\n",
    "from sklearn.metrics import normalized_mutual_info_score\n",
    "\n",
    "import torch\n",
    "from torch.optim import Adam\n",
    "from torch.nn import Module, Sequential, Linear, ReLU, Sigmoid, MSELoss"
   ]
  },
  {
   "cell_type": "code",
   "execution_count": 2,
   "metadata": {
    "colab": {},
    "colab_type": "code",
    "id": "uHY95Zthu4qI"
   },
   "outputs": [],
   "source": [
    "# To stop potential randomness\n",
    "seed = 128\n",
    "rng = np.random.RandomState(seed)"
   ]
  },
  {
   "cell_type": "code",
   "execution_count": 9,
   "metadata": {
    "colab": {},
    "colab_type": "code",
    "id": "KB9fKd7mu4n3"
   },
   "outputs": [],
   "source": [
    "# define directory path\n",
    "# data_dir = os.path.join(os.path.abspath('.'), 'MNIST')\n",
    "data_dir = '../../../../../LargeData/Analytics_Vidhya/MNIST/'"
   ]
  },
  {
   "cell_type": "code",
   "execution_count": 10,
   "metadata": {
    "colab": {
     "base_uri": "https://localhost:8080/",
     "height": 206
    },
    "colab_type": "code",
    "executionInfo": {
     "elapsed": 2301,
     "status": "ok",
     "timestamp": 1587145745663,
     "user": {
      "displayName": "Aishwarya Singh",
      "photoUrl": "https://lh3.googleusercontent.com/a-/AOh14GgeJwfn4BdBDCAplWi_kdtB9FRssOpXO7T_aMgg=s64",
      "userId": "01105858832371513140"
     },
     "user_tz": -330
    },
    "id": "lJn0gQaGEOeX",
    "outputId": "f33a21b7-c326-42be-8817-6cc1dcab2e80"
   },
   "outputs": [
    {
     "data": {
      "text/html": [
       "<div>\n",
       "<style scoped>\n",
       "    .dataframe tbody tr th:only-of-type {\n",
       "        vertical-align: middle;\n",
       "    }\n",
       "\n",
       "    .dataframe tbody tr th {\n",
       "        vertical-align: top;\n",
       "    }\n",
       "\n",
       "    .dataframe thead th {\n",
       "        text-align: right;\n",
       "    }\n",
       "</style>\n",
       "<table border=\"1\" class=\"dataframe\">\n",
       "  <thead>\n",
       "    <tr style=\"text-align: right;\">\n",
       "      <th></th>\n",
       "      <th>filename</th>\n",
       "      <th>label</th>\n",
       "    </tr>\n",
       "  </thead>\n",
       "  <tbody>\n",
       "    <tr>\n",
       "      <th>0</th>\n",
       "      <td>0.png</td>\n",
       "      <td>4</td>\n",
       "    </tr>\n",
       "    <tr>\n",
       "      <th>1</th>\n",
       "      <td>1.png</td>\n",
       "      <td>9</td>\n",
       "    </tr>\n",
       "    <tr>\n",
       "      <th>2</th>\n",
       "      <td>2.png</td>\n",
       "      <td>1</td>\n",
       "    </tr>\n",
       "    <tr>\n",
       "      <th>3</th>\n",
       "      <td>3.png</td>\n",
       "      <td>7</td>\n",
       "    </tr>\n",
       "    <tr>\n",
       "      <th>4</th>\n",
       "      <td>4.png</td>\n",
       "      <td>3</td>\n",
       "    </tr>\n",
       "  </tbody>\n",
       "</table>\n",
       "</div>"
      ],
      "text/plain": [
       "  filename  label\n",
       "0    0.png      4\n",
       "1    1.png      9\n",
       "2    2.png      1\n",
       "3    3.png      7\n",
       "4    4.png      3"
      ]
     },
     "execution_count": 10,
     "metadata": {},
     "output_type": "execute_result"
    }
   ],
   "source": [
    "# read data files\n",
    "df = pd.read_csv(os.path.join(data_dir, 'train.csv'))\n",
    "\n",
    "df.head()"
   ]
  },
  {
   "cell_type": "code",
   "execution_count": 11,
   "metadata": {
    "colab": {
     "base_uri": "https://localhost:8080/",
     "height": 248
    },
    "colab_type": "code",
    "executionInfo": {
     "elapsed": 2459,
     "status": "ok",
     "timestamp": 1587145753880,
     "user": {
      "displayName": "Aishwarya Singh",
      "photoUrl": "https://lh3.googleusercontent.com/a-/AOh14GgeJwfn4BdBDCAplWi_kdtB9FRssOpXO7T_aMgg=s64",
      "userId": "01105858832371513140"
     },
     "user_tz": -330
    },
    "id": "4qpqs0O-EOrb",
    "outputId": "a3bb55cd-8fa2-4392-a9ed-8e6dcd037885"
   },
   "outputs": [
    {
     "data": {
      "image/png": "[encoded data removed]",
      "text/plain": [
       "<Figure size 432x288 with 1 Axes>"
      ]
     },
     "metadata": {
      "needs_background": "light"
     },
     "output_type": "display_data"
    }
   ],
   "source": [
    "# plot sample image\n",
    "## choose a random image\n",
    "img_name = rng.choice(df.filename)\n",
    "filepath = os.path.join(data_dir, 'images', img_name)\n",
    "\n",
    "## read image\n",
    "img = imread(filepath, as_gray=True)\n",
    "\n",
    "## show image\n",
    "plt.imshow(img, cmap='gray')\n",
    "plt.axis('off')\n",
    "plt.show()"
   ]
  },
  {
   "cell_type": "code",
   "execution_count": 7,
   "metadata": {
    "colab": {
     "base_uri": "https://localhost:8080/",
     "height": 34
    },
    "colab_type": "code",
    "executionInfo": {
     "elapsed": 1922,
     "status": "ok",
     "timestamp": 1587145760998,
     "user": {
      "displayName": "Aishwarya Singh",
      "photoUrl": "https://lh3.googleusercontent.com/a-/AOh14GgeJwfn4BdBDCAplWi_kdtB9FRssOpXO7T_aMgg=s64",
      "userId": "01105858832371513140"
     },
     "user_tz": -330
    },
    "id": "FTEcV9SLEOx1",
    "outputId": "a01b965c-e105-4192-cfc2-184f4b854d6c"
   },
   "outputs": [
    {
     "data": {
      "text/plain": [
       "(28, 28)"
      ]
     },
     "execution_count": 7,
     "metadata": {},
     "output_type": "execute_result"
    }
   ],
   "source": [
    "# print shape of image\n",
    "img.shape"
   ]
  },
  {
   "cell_type": "code",
   "execution_count": 12,
   "metadata": {
    "colab": {},
    "colab_type": "code",
    "id": "3LIYXg8UEb4r"
   },
   "outputs": [],
   "source": [
    "# read images and store them as numpy arrays\n",
    "\n",
    "## read train images\n",
    "temp = []\n",
    "for img_name in df.filename:\n",
    "    image_path = os.path.join(data_dir, 'images', img_name)\n",
    "    img = imread(image_path, as_gray=True)\n",
    "    temp.append(img)\n",
    "    \n",
    "## store them in train_x\n",
    "train_x = np.stack(temp)\n",
    "train_x = train_x.reshape(-1, 784).astype('float32')"
   ]
  },
  {
   "cell_type": "code",
   "execution_count": 17,
   "metadata": {
    "colab": {
     "base_uri": "https://localhost:8080/",
     "height": 34
    },
    "colab_type": "code",
    "executionInfo": {
     "elapsed": 16723,
     "status": "ok",
     "timestamp": 1587145802069,
     "user": {
      "displayName": "Aishwarya Singh",
      "photoUrl": "https://lh3.googleusercontent.com/a-/AOh14GgeJwfn4BdBDCAplWi_kdtB9FRssOpXO7T_aMgg=s64",
      "userId": "01105858832371513140"
     },
     "user_tz": -330
    },
    "id": "0_vaNNyyEb_4",
    "outputId": "6078d732-3170-4e19-c2dd-9d4368ca1c0b"
   },
   "outputs": [
    {
     "data": {
      "text/plain": [
       "torch.Size([34300, 784])"
      ]
     },
     "execution_count": 17,
     "metadata": {},
     "output_type": "execute_result"
    }
   ],
   "source": [
    "# print shape of train_x array\n",
    "train_x.shape"
   ]
  },
  {
   "cell_type": "code",
   "execution_count": 21,
   "metadata": {
    "colab": {
     "base_uri": "https://localhost:8080/",
     "height": 34
    },
    "colab_type": "code",
    "executionInfo": {
     "elapsed": 2791,
     "status": "ok",
     "timestamp": 1587145822892,
     "user": {
      "displayName": "Aishwarya Singh",
      "photoUrl": "https://lh3.googleusercontent.com/a-/AOh14GgeJwfn4BdBDCAplWi_kdtB9FRssOpXO7T_aMgg=s64",
      "userId": "01105858832371513140"
     },
     "user_tz": -330
    },
    "id": "Hj4rLrcMEXe2",
    "outputId": "72e2e633-feb7-45a6-fc22-d5bedb5155f4"
   },
   "outputs": [
    {
     "data": {
      "text/plain": [
       "(tensor(0.), tensor(1.))"
      ]
     },
     "execution_count": 21,
     "metadata": {},
     "output_type": "execute_result"
    }
   ],
   "source": [
    "# print minimum and maximum values of train_x array\n",
    "train_x.min(), train_x.max()"
   ]
  },
  {
   "cell_type": "code",
   "execution_count": 19,
   "metadata": {
    "colab": {},
    "colab_type": "code",
    "id": "gLusa7zYIiTq"
   },
   "outputs": [],
   "source": [
    "#converting array into tensors\n",
    "train_x  = torch.FloatTensor(train_x)"
   ]
  },
  {
   "cell_type": "code",
   "execution_count": 20,
   "metadata": {
    "colab": {},
    "colab_type": "code",
    "id": "bFdmH4fhEXrj"
   },
   "outputs": [],
   "source": [
    "# split data into training and validation\n",
    "split_size = int(train_x.shape[0]*0.7)\n",
    "\n",
    "train_x, val_x = train_x[:split_size], train_x[split_size:]"
   ]
  },
  {
   "cell_type": "markdown",
   "metadata": {
    "colab_type": "text",
    "id": "o-wO2NUXO2bR"
   },
   "source": [
    "#### 1.2 Create autoencoder model and train it"
   ]
  },
  {
   "cell_type": "code",
   "execution_count": 23,
   "metadata": {
    "colab": {},
    "colab_type": "code",
    "id": "aWcDpO28Ev_G"
   },
   "outputs": [],
   "source": [
    "# Define AutoEncoder architecture\n",
    "\n",
    "# Input\n",
    "\n",
    "# Encoder\n",
    "#   Linear(2000, 'relu')\n",
    "#   Linear(500, 'relu')\n",
    "#   Linear(100, 'relu')\n",
    "#   Linear(10, 'linear')\n",
    "\n",
    "# Decoder\n",
    "#   Linear(100, 'relu')\n",
    "#   Linear(500, 'relu')\n",
    "#   Linear(784, 'sigmoid')\n",
    "\n",
    "\n",
    "class Net(Module):   \n",
    "  def __init__(self):\n",
    "\n",
    "      super(Net, self).__init__()\n",
    "\n",
    "      #define the encoder block   \n",
    "      self.encoder=Sequential(\n",
    "           \n",
    "           Linear(28*28, 2000),\n",
    "           ReLU(),\n",
    "\n",
    "           Linear(2000, 500),\n",
    "           ReLU(),\n",
    "\n",
    "           Linear(500, 100),\n",
    "           ReLU(),\n",
    "\n",
    "           Linear(100, 10)\n",
    "        \n",
    "       )\n",
    "      \n",
    "      #define the decoder block   \n",
    "      self.decoder=Sequential(\n",
    "           \n",
    "           Linear(10, 100),\n",
    "           ReLU(),\n",
    "\n",
    "           Linear(100, 500),\n",
    "           ReLU(),\n",
    "\n",
    "           Linear(500, 28*28),\n",
    "           Sigmoid()\n",
    "\n",
    "       )\n",
    "  \n",
    "  #Defining the forward pass    \n",
    "  def forward(self, x):\n",
    "    \n",
    "    #encoder block\n",
    "    x = self.encoder(x)\n",
    "        \n",
    "    #decoder block\n",
    "    x = self.decoder(x)\n",
    "    \n",
    "    return x"
   ]
  },
  {
   "cell_type": "code",
   "execution_count": 24,
   "metadata": {
    "colab": {},
    "colab_type": "code",
    "id": "okwstKniEv8-"
   },
   "outputs": [],
   "source": [
    "#define the model\n",
    "autoencoder = Net()"
   ]
  },
  {
   "cell_type": "code",
   "execution_count": 25,
   "metadata": {
    "colab": {
     "base_uri": "https://localhost:8080/",
     "height": 347
    },
    "colab_type": "code",
    "executionInfo": {
     "elapsed": 2179,
     "status": "ok",
     "timestamp": 1587145996128,
     "user": {
      "displayName": "Aishwarya Singh",
      "photoUrl": "https://lh3.googleusercontent.com/a-/AOh14GgeJwfn4BdBDCAplWi_kdtB9FRssOpXO7T_aMgg=s64",
      "userId": "01105858832371513140"
     },
     "user_tz": -330
    },
    "id": "lFTgPZcMEv5p",
    "outputId": "34407ae0-3536-4e47-d752-ade8a45d78f7"
   },
   "outputs": [
    {
     "name": "stdout",
     "output_type": "stream",
     "text": [
      "Net(\n",
      "  (encoder): Sequential(\n",
      "    (0): Linear(in_features=784, out_features=2000, bias=True)\n",
      "    (1): ReLU()\n",
      "    (2): Linear(in_features=2000, out_features=500, bias=True)\n",
      "    (3): ReLU()\n",
      "    (4): Linear(in_features=500, out_features=100, bias=True)\n",
      "    (5): ReLU()\n",
      "    (6): Linear(in_features=100, out_features=10, bias=True)\n",
      "  )\n",
      "  (decoder): Sequential(\n",
      "    (0): Linear(in_features=10, out_features=100, bias=True)\n",
      "    (1): ReLU()\n",
      "    (2): Linear(in_features=100, out_features=500, bias=True)\n",
      "    (3): ReLU()\n",
      "    (4): Linear(in_features=500, out_features=784, bias=True)\n",
      "    (5): Sigmoid()\n",
      "  )\n",
      ")\n"
     ]
    }
   ],
   "source": [
    "#layers used in the model\n",
    "print(autoencoder)"
   ]
  },
  {
   "cell_type": "code",
   "execution_count": 26,
   "metadata": {
    "colab": {
     "base_uri": "https://localhost:8080/",
     "height": 34
    },
    "colab_type": "code",
    "executionInfo": {
     "elapsed": 1079,
     "status": "ok",
     "timestamp": 1587146028074,
     "user": {
      "displayName": "Aishwarya Singh",
      "photoUrl": "https://lh3.googleusercontent.com/a-/AOh14GgeJwfn4BdBDCAplWi_kdtB9FRssOpXO7T_aMgg=s64",
      "userId": "01105858832371513140"
     },
     "user_tz": -330
    },
    "id": "Gxdq5I8rQovj",
    "outputId": "376890e1-bba8-496c-e631-e10a3c65972d"
   },
   "outputs": [
    {
     "name": "stdout",
     "output_type": "stream",
     "text": [
      "torch.Size([1, 784])\n"
     ]
    }
   ],
   "source": [
    "#pass an sample input to the model\n",
    "\n",
    "#deactivates autograd\n",
    "with torch.no_grad():\n",
    "  pred = autoencoder(train_x[:1])\n",
    "  \n",
    "print(pred.shape)"
   ]
  },
  {
   "cell_type": "code",
   "execution_count": 28,
   "metadata": {
    "colab": {
     "base_uri": "https://localhost:8080/",
     "height": 34
    },
    "colab_type": "code",
    "executionInfo": {
     "elapsed": 2295,
     "status": "ok",
     "timestamp": 1587146061440,
     "user": {
      "displayName": "Aishwarya Singh",
      "photoUrl": "https://lh3.googleusercontent.com/a-/AOh14GgeJwfn4BdBDCAplWi_kdtB9FRssOpXO7T_aMgg=s64",
      "userId": "01105858832371513140"
     },
     "user_tz": -330
    },
    "id": "f9iNU-X4EXu-",
    "outputId": "e66f1bf9-9e42-42a1-f1b1-1a77b7550b86"
   },
   "outputs": [],
   "source": [
    "#check whether cuda is available\n",
    "# device = torch.device('cuda' if torch.cuda.is_available() else 'cpu')  \n",
    "# print(device)"
   ]
  },
  {
   "cell_type": "code",
   "execution_count": 29,
   "metadata": {
    "colab": {},
    "colab_type": "code",
    "id": "Z8A7ktLsbGEq"
   },
   "outputs": [],
   "source": [
    "#push the model to the respective device\n",
    "autoencoder = autoencoder.to(device)"
   ]
  },
  {
   "cell_type": "code",
   "execution_count": 30,
   "metadata": {
    "colab": {},
    "colab_type": "code",
    "id": "cvPMf1vnbGIS"
   },
   "outputs": [],
   "source": [
    "#define optimizer and loss\n",
    "optimizer = Adam(autoencoder.parameters())\n",
    "criterion = MSELoss()"
   ]
  },
  {
   "cell_type": "code",
   "execution_count": 31,
   "metadata": {
    "colab": {},
    "colab_type": "code",
    "id": "dkrERXMPbGCq"
   },
   "outputs": [],
   "source": [
    "# define training function\n",
    "def train(X,y,batch_size):\n",
    "\n",
    "  #activate training phase\n",
    "  autoencoder.train()\n",
    "  \n",
    "  #initialization\n",
    "  epoch_loss=0\n",
    "  no_of_batches=0\n",
    "\n",
    "  #randomly create indices\n",
    "  indices= torch.randperm(len(X))\n",
    "\n",
    "  #loading in batches\n",
    "  for i in range(0,len(indices),batch_size):\n",
    "\n",
    "    #indices for a batch\n",
    "    ind = indices[i:i+batch_size]\n",
    "\n",
    "    #batch  \n",
    "    batch_x=X[ind]\n",
    "    batch_y=y[ind]\n",
    "    \n",
    "    #push to respective device\n",
    "    batch_x = batch_x.to(device)\n",
    "    batch_y = batch_y.to(device)\n",
    "\n",
    "    #clear gradients\n",
    "    optimizer.zero_grad()\n",
    "          \n",
    "    #forward pass\n",
    "    outputs = autoencoder(batch_x)\n",
    "\n",
    "    #converting to a 1 dimensional tensor\n",
    "    outputs = outputs.squeeze()\n",
    "\n",
    "    #calculate loss \n",
    "    loss = criterion(outputs, batch_y)\n",
    "\n",
    "    #Backward pass\n",
    "    loss.backward()\n",
    "    \n",
    "    #Update weights\n",
    "    optimizer.step()\n",
    "\n",
    "    #Keep track of the loss and accuracy of a epoch\n",
    "    epoch_loss = epoch_loss + loss.item()\n",
    "\n",
    "    #No. of batches\n",
    "    no_of_batches = no_of_batches+1\n",
    "\n",
    "  return epoch_loss/no_of_batches"
   ]
  },
  {
   "cell_type": "code",
   "execution_count": 32,
   "metadata": {
    "colab": {},
    "colab_type": "code",
    "id": "49DzMPpebGBH"
   },
   "outputs": [],
   "source": [
    "def evaluate(X,y,batch_size):\n",
    "\n",
    "  #deactivate training phase\n",
    "  autoencoder.eval()\n",
    "\n",
    "  #initialization\n",
    "  epoch_loss=0\n",
    "  no_of_batches = 0\n",
    "\n",
    "  #randomly create indices\n",
    "  indices= torch.randperm(len(X))\n",
    "\n",
    "  #deactivates autograd\n",
    "  with torch.no_grad():\n",
    "    \n",
    "    #loading in batches\n",
    "    for i in range(0,len(indices),batch_size):\n",
    "\n",
    "      #indices for a batch\n",
    "      ind = indices[i:i+batch_size]\n",
    "\n",
    "      #batch  \n",
    "      batch_x=X[ind]\n",
    "      batch_y=y[ind]\n",
    "\n",
    "      #push to respective device\n",
    "      batch_x = batch_x.to(device)\n",
    "      batch_y = batch_y.to(device)\n",
    "        \n",
    "      #Forward pass\n",
    "      outputs = autoencoder(batch_x)\n",
    "\n",
    "      #converting the output to 1 Dimensional tensor\n",
    "      outputs = outputs.squeeze()\n",
    "\n",
    "      # Calculate loss and accuracy\n",
    "      loss = criterion(outputs, batch_y)\n",
    "      \n",
    "      #keep track of loss and accuracy of an epoch\n",
    "      epoch_loss = epoch_loss + loss.item()\n",
    "\n",
    "      #no. of batches\n",
    "      no_of_batches = no_of_batches + 1\n",
    "\n",
    "    return epoch_loss/no_of_batches"
   ]
  },
  {
   "cell_type": "code",
   "execution_count": 33,
   "metadata": {
    "colab": {},
    "colab_type": "code",
    "id": "iSCdlK-bT1oG"
   },
   "outputs": [],
   "source": [
    "# define prediction function\n",
    "def predict(X,batch_size):\n",
    "  \n",
    "  #deactivate training phase\n",
    "  autoencoder.eval()\n",
    "\n",
    "  # initialization \n",
    "  predictions = []\n",
    "\n",
    "  # create indices\n",
    "  indices = torch.arange(len(X))\n",
    "\n",
    "  #deactivates autograd\n",
    "  with torch.no_grad():\n",
    "      \n",
    "      for i in range(0, len(X), batch_size):\n",
    "        \n",
    "        #indices for a batch\n",
    "        ind = indices[i:i+batch_size]\n",
    "\n",
    "        # batch\n",
    "        batch_x = X[ind]\n",
    "\n",
    "        #push to respective device\n",
    "        batch_x = batch_x.to(device)\n",
    "\n",
    "        #Forward pass\n",
    "        outputs = autoencoder(batch_x)\n",
    "\n",
    "        #converting the output to 1 Dimensional tensor\n",
    "        outputs = outputs.squeeze()\n",
    "\n",
    "        # convert to numpy array\n",
    "        prediction = outputs.data.cpu().numpy()\n",
    "        predictions.append(prediction)\n",
    "    \n",
    "  # convert to single numpy array\n",
    "  predictions = np.concatenate(predictions, axis=0)\n",
    "    \n",
    "  return predictions"
   ]
  },
  {
   "cell_type": "code",
   "execution_count": 34,
   "metadata": {
    "colab": {},
    "colab_type": "code",
    "id": "XeRkJpIAVbLW"
   },
   "outputs": [],
   "source": [
    "# define prediction function\n",
    "def predict_encoder(X,batch_size):\n",
    "  \n",
    "  #deactivate training phase\n",
    "  autoencoder.eval()\n",
    "\n",
    "  # initialization \n",
    "  predictions = []\n",
    "\n",
    "  # create indices\n",
    "  indices = torch.arange(len(X))\n",
    "\n",
    "  #deactivates autograd\n",
    "  with torch.no_grad():\n",
    "      \n",
    "      for i in range(0, len(X), batch_size):\n",
    "        \n",
    "        #indices for a batch\n",
    "        ind = indices[i:i+batch_size]\n",
    "\n",
    "        # batch\n",
    "        batch_x = X[ind]\n",
    "\n",
    "        #push to respective device\n",
    "        batch_x = batch_x.to(device)\n",
    "\n",
    "        #Forward pass\n",
    "        outputs = autoencoder.encoder(batch_x)\n",
    "\n",
    "        #converting the output to 1 Dimensional tensor\n",
    "        outputs = outputs.squeeze()\n",
    "\n",
    "        # convert to numpy array\n",
    "        prediction = outputs.data.cpu().numpy()\n",
    "        predictions.append(prediction)\n",
    "    \n",
    "  # convert to single numpy array\n",
    "  predictions = np.concatenate(predictions, axis=0)\n",
    "    \n",
    "  return predictions"
   ]
  },
  {
   "cell_type": "code",
   "execution_count": null,
   "metadata": {
    "colab": {
     "base_uri": "https://localhost:8080/",
     "height": 1000
    },
    "colab_type": "code",
    "executionInfo": {
     "elapsed": 115834,
     "status": "ok",
     "timestamp": 1587146341671,
     "user": {
      "displayName": "Aishwarya Singh",
      "photoUrl": "https://lh3.googleusercontent.com/a-/AOh14GgeJwfn4BdBDCAplWi_kdtB9FRssOpXO7T_aMgg=s64",
      "userId": "01105858832371513140"
     },
     "user_tz": -330
    },
    "id": "l04_TgKjbF-1",
    "outputId": "18d3c033-f92d-4b7f-d7f3-5f877d2b09f2"
   },
   "outputs": [
    {
     "name": "stdout",
     "output_type": "stream",
     "text": [
      "\n",
      "Epoch : 0 Training loss: 0.0231 \tValidation loss: 0.0211\n",
      "----------------------------------------------------Saved best model------------------------------------------------------------------\n",
      "\n",
      "Epoch : 1 Training loss: 0.0196 \tValidation loss: 0.0191\n",
      "----------------------------------------------------Saved best model------------------------------------------------------------------\n",
      "\n",
      "Epoch : 2 Training loss: 0.0178 \tValidation loss: 0.018\n",
      "----------------------------------------------------Saved best model------------------------------------------------------------------\n",
      "\n",
      "Epoch : 3 Training loss: 0.0165 \tValidation loss: 0.0169\n",
      "----------------------------------------------------Saved best model------------------------------------------------------------------\n",
      "\n",
      "Epoch : 4 Training loss: 0.0155 \tValidation loss: 0.016\n",
      "----------------------------------------------------Saved best model------------------------------------------------------------------\n",
      "\n",
      "Epoch : 5 Training loss: 0.0148 \tValidation loss: 0.0155\n",
      "----------------------------------------------------Saved best model------------------------------------------------------------------\n",
      "\n",
      "Epoch : 6 Training loss: 0.0143 \tValidation loss: 0.0151\n",
      "----------------------------------------------------Saved best model------------------------------------------------------------------\n",
      "\n",
      "Epoch : 7 Training loss: 0.0138 \tValidation loss: 0.0148\n",
      "----------------------------------------------------Saved best model------------------------------------------------------------------\n",
      "\n",
      "Epoch : 8 Training loss: 0.0134 \tValidation loss: 0.0146\n",
      "----------------------------------------------------Saved best model------------------------------------------------------------------\n",
      "\n",
      "Epoch : 9 Training loss: 0.0131 \tValidation loss: 0.0147\n",
      "\n",
      "Epoch : 10 Training loss: 0.0128 \tValidation loss: 0.0146\n",
      "----------------------------------------------------Saved best model------------------------------------------------------------------\n",
      "\n",
      "Epoch : 11 Training loss: 0.0126 \tValidation loss: 0.0141\n",
      "----------------------------------------------------Saved best model------------------------------------------------------------------\n",
      "\n",
      "Epoch : 12 Training loss: 0.0123 \tValidation loss: 0.0141\n",
      "\n",
      "Epoch : 13 Training loss: 0.0122 \tValidation loss: 0.014\n",
      "----------------------------------------------------Saved best model------------------------------------------------------------------\n",
      "\n",
      "Epoch : 14 Training loss: 0.012 \tValidation loss: 0.0139\n",
      "----------------------------------------------------Saved best model------------------------------------------------------------------\n",
      "\n",
      "Epoch : 15 Training loss: 0.0118 \tValidation loss: 0.0139\n",
      "\n",
      "Epoch : 16 Training loss: 0.0116 \tValidation loss: 0.0138\n",
      "----------------------------------------------------Saved best model------------------------------------------------------------------\n",
      "\n",
      "Epoch : 17 Training loss: 0.0115 \tValidation loss: 0.0137\n",
      "----------------------------------------------------Saved best model------------------------------------------------------------------\n",
      "\n",
      "Epoch : 18 Training loss: 0.0113 \tValidation loss: 0.0136\n",
      "----------------------------------------------------Saved best model------------------------------------------------------------------\n",
      "\n",
      "Epoch : 19 Training loss: 0.0112 \tValidation loss: 0.0137\n",
      "\n",
      "Epoch : 20 Training loss: 0.0111 \tValidation loss: 0.0136\n",
      "----------------------------------------------------Saved best model------------------------------------------------------------------\n",
      "\n",
      "Epoch : 21 Training loss: 0.011 \tValidation loss: 0.0136\n",
      "----------------------------------------------------Saved best model------------------------------------------------------------------\n",
      "\n",
      "Epoch : 22 Training loss: 0.0109 \tValidation loss: 0.0135\n",
      "----------------------------------------------------Saved best model------------------------------------------------------------------\n",
      "\n",
      "Epoch : 23 Training loss: 0.0108 \tValidation loss: 0.0136\n",
      "\n",
      "Epoch : 24 Training loss: 0.0107 \tValidation loss: 0.0134\n",
      "----------------------------------------------------Saved best model------------------------------------------------------------------\n",
      "\n",
      "Epoch : 25 Training loss: 0.0106 \tValidation loss: 0.0134\n",
      "\n",
      "Epoch : 26 Training loss: 0.0105 \tValidation loss: 0.0134\n",
      "----------------------------------------------------Saved best model------------------------------------------------------------------\n"
     ]
    }
   ],
   "source": [
    "N_EPOCHS = 30\n",
    "batch_size = 32\n",
    "\n",
    "best_valid_loss = float('inf')\n",
    "\n",
    "for epoch in range(N_EPOCHS):\n",
    "     \n",
    "    #train the model\n",
    "    train_loss = train(train_x, train_x, batch_size)\n",
    "    \n",
    "    #evaluate the model\n",
    "    valid_loss = evaluate(val_x, val_x, batch_size)\n",
    "\n",
    "    print('\\nEpoch :',epoch,\n",
    "          'Training loss:',round(train_loss,4),\n",
    "          '\\tValidation loss:',round(valid_loss,4) )\n",
    "\n",
    "    #save the best model\n",
    "    if best_valid_loss >= valid_loss:\n",
    "        best_valid_loss = valid_loss\n",
    "        torch.save(autoencoder.state_dict(), '../data/saved_weights_autoencoder.pt') \n",
    "        print(\"----------------------------------------------------Saved best model------------------------------------------------------------------\")   "
   ]
  },
  {
   "cell_type": "code",
   "execution_count": 26,
   "metadata": {
    "colab": {
     "base_uri": "https://localhost:8080/",
     "height": 34
    },
    "colab_type": "code",
    "executionInfo": {
     "elapsed": 3276,
     "status": "ok",
     "timestamp": 1587146425374,
     "user": {
      "displayName": "Aishwarya Singh",
      "photoUrl": "https://lh3.googleusercontent.com/a-/AOh14GgeJwfn4BdBDCAplWi_kdtB9FRssOpXO7T_aMgg=s64",
      "userId": "01105858832371513140"
     },
     "user_tz": -330
    },
    "id": "Ze6R3zEa5XfX",
    "outputId": "a96dfd84-33dc-4dd2-8c92-1b37caa68be7"
   },
   "outputs": [
    {
     "data": {
      "text/plain": [
       "<All keys matched successfully>"
      ]
     },
     "execution_count": 26,
     "metadata": {
      "tags": []
     },
     "output_type": "execute_result"
    }
   ],
   "source": [
    "#load weights of best model\n",
    "path='../data/saved_weights_autoencoder.pt'\n",
    "autoencoder.load_state_dict(torch.load(path))"
   ]
  },
  {
   "cell_type": "code",
   "execution_count": 27,
   "metadata": {
    "colab": {
     "base_uri": "https://localhost:8080/",
     "height": 537
    },
    "colab_type": "code",
    "executionInfo": {
     "elapsed": 3460,
     "status": "ok",
     "timestamp": 1587146451823,
     "user": {
      "displayName": "Aishwarya Singh",
      "photoUrl": "https://lh3.googleusercontent.com/a-/AOh14GgeJwfn4BdBDCAplWi_kdtB9FRssOpXO7T_aMgg=s64",
      "userId": "01105858832371513140"
     },
     "user_tz": -330
    },
    "id": "2tGVe0gLbF52",
    "outputId": "d6b61aa2-884f-4d16-e840-4eb541089445"
   },
   "outputs": [
    {
     "data": {
      "image/png": "[encoded data removed]",
      "text/plain": [
       "<Figure size 1440x720 with 10 Axes>"
      ]
     },
     "metadata": {
      "needs_background": "light",
      "tags": []
     },
     "output_type": "display_data"
    }
   ],
   "source": [
    "#check output of autoencoder model\n",
    "#predict probabilities\n",
    "pred = predict(val_x, batch_size)\n",
    "\n",
    "true = val_x.reshape(-1,28,28)\n",
    "pred = pred.reshape(-1,28,28)\n",
    "\n",
    "#Glance at the images\n",
    "fig, axes = plt.subplots(nrows=2,ncols=5,figsize=(20,10))\n",
    "\n",
    "plots = [axes[0][i].imshow(true[i],cmap='gray') for i in range(5)]  \n",
    "plots = [axes[1][i].imshow(pred[i],cmap='gray') for i in range(5)]  "
   ]
  },
  {
   "cell_type": "code",
   "execution_count": 28,
   "metadata": {
    "colab": {
     "base_uri": "https://localhost:8080/",
     "height": 173
    },
    "colab_type": "code",
    "executionInfo": {
     "elapsed": 2223,
     "status": "ok",
     "timestamp": 1587146475513,
     "user": {
      "displayName": "Aishwarya Singh",
      "photoUrl": "https://lh3.googleusercontent.com/a-/AOh14GgeJwfn4BdBDCAplWi_kdtB9FRssOpXO7T_aMgg=s64",
      "userId": "01105858832371513140"
     },
     "user_tz": -330
    },
    "id": "J6C1XaccEYZT",
    "outputId": "e410e782-6324-4912-eb91-6bb510ae5e4d"
   },
   "outputs": [
    {
     "data": {
      "text/plain": [
       "Sequential(\n",
       "  (0): Linear(in_features=784, out_features=2000, bias=True)\n",
       "  (1): ReLU()\n",
       "  (2): Linear(in_features=2000, out_features=500, bias=True)\n",
       "  (3): ReLU()\n",
       "  (4): Linear(in_features=500, out_features=100, bias=True)\n",
       "  (5): ReLU()\n",
       "  (6): Linear(in_features=100, out_features=10, bias=True)\n",
       ")"
      ]
     },
     "execution_count": 28,
     "metadata": {
      "tags": []
     },
     "output_type": "execute_result"
    }
   ],
   "source": [
    "autoencoder.encoder"
   ]
  },
  {
   "cell_type": "code",
   "execution_count": null,
   "metadata": {
    "colab": {},
    "colab_type": "code",
    "id": "2n-6G9U9iv3c"
   },
   "outputs": [],
   "source": [
    "# extract features from encoder\n",
    "pred_auto_train = predict_encoder(train_x, batch_size)\n",
    "pred_auto = predict_encoder(val_x, batch_size)"
   ]
  },
  {
   "cell_type": "code",
   "execution_count": 30,
   "metadata": {
    "colab": {
     "base_uri": "https://localhost:8080/",
     "height": 69
    },
    "colab_type": "code",
    "executionInfo": {
     "elapsed": 4936,
     "status": "ok",
     "timestamp": 1587146513448,
     "user": {
      "displayName": "Aishwarya Singh",
      "photoUrl": "https://lh3.googleusercontent.com/a-/AOh14GgeJwfn4BdBDCAplWi_kdtB9FRssOpXO7T_aMgg=s64",
      "userId": "01105858832371513140"
     },
     "user_tz": -330
    },
    "id": "Wezhh8IxfUH7",
    "outputId": "496c1044-7ba1-4fce-fc34-90b1ce435772"
   },
   "outputs": [
    {
     "data": {
      "text/plain": [
       "array([ 2.703292  ,  4.459463  , -0.97854125, -5.475096  ,  3.839936  ,\n",
       "       -2.4911964 , -0.25473857, -1.2787898 , -3.3740246 , -4.815878  ],\n",
       "      dtype=float32)"
      ]
     },
     "execution_count": 30,
     "metadata": {
      "tags": []
     },
     "output_type": "execute_result"
    }
   ],
   "source": [
    "pred_auto[0]"
   ]
  },
  {
   "cell_type": "code",
   "execution_count": null,
   "metadata": {
    "colab": {},
    "colab_type": "code",
    "id": "1l2kp3hnEYct"
   },
   "outputs": [],
   "source": [
    "# train a kmeans clustering model to categorize the features of images\n",
    "\n",
    "## define kmeans model\n",
    "km = KMeans(n_jobs=-1, n_clusters=10)"
   ]
  },
  {
   "cell_type": "code",
   "execution_count": null,
   "metadata": {
    "colab": {},
    "colab_type": "code",
    "id": "CAedc_d7EYXa"
   },
   "outputs": [],
   "source": [
    "## train kmeans model on features extracted from training data\n",
    "km.fit(pred_auto_train)\n",
    "\n",
    "## get predictions from kmeans model on features extracted from validation data\n",
    "pred = km.predict(pred_auto)"
   ]
  },
  {
   "cell_type": "code",
   "execution_count": 33,
   "metadata": {
    "colab": {
     "base_uri": "https://localhost:8080/",
     "height": 282
    },
    "colab_type": "code",
    "executionInfo": {
     "elapsed": 4505,
     "status": "ok",
     "timestamp": 1587146586562,
     "user": {
      "displayName": "Aishwarya Singh",
      "photoUrl": "https://lh3.googleusercontent.com/a-/AOh14GgeJwfn4BdBDCAplWi_kdtB9FRssOpXO7T_aMgg=s64",
      "userId": "01105858832371513140"
     },
     "user_tz": -330
    },
    "id": "Z2hKbt9NEYUw",
    "outputId": "4c7101c5-1a8c-4ee5-9a1c-7d82b972c798"
   },
   "outputs": [
    {
     "name": "stdout",
     "output_type": "stream",
     "text": [
      "This image belongs to Cluster 4\n"
     ]
    },
    {
     "data": {
      "image/png": "[encoded data removed]",
      "text/plain": [
       "<Figure size 432x288 with 1 Axes>"
      ]
     },
     "metadata": {
      "needs_background": "light",
      "tags": []
     },
     "output_type": "display_data"
    }
   ],
   "source": [
    "# check the output of kmeans model\n",
    "index = rng.choice(range(len(val_x)))\n",
    "\n",
    "print(\"This image belongs to Cluster \" + str(pred[index]))\n",
    "plt.imshow(val_x[index].reshape((28, 28)), cmap='gray')\n",
    "plt.show()"
   ]
  },
  {
   "cell_type": "code",
   "execution_count": 34,
   "metadata": {
    "colab": {
     "base_uri": "https://localhost:8080/",
     "height": 206
    },
    "colab_type": "code",
    "executionInfo": {
     "elapsed": 4305,
     "status": "ok",
     "timestamp": 1587146603545,
     "user": {
      "displayName": "Aishwarya Singh",
      "photoUrl": "https://lh3.googleusercontent.com/a-/AOh14GgeJwfn4BdBDCAplWi_kdtB9FRssOpXO7T_aMgg=s64",
      "userId": "01105858832371513140"
     },
     "user_tz": -330
    },
    "id": "w58J3OndEXpc",
    "outputId": "1406b915-ef22-4c02-88a6-1b642ef86888"
   },
   "outputs": [
    {
     "data": {
      "text/html": [
       "<div>\n",
       "<style scoped>\n",
       "    .dataframe tbody tr th:only-of-type {\n",
       "        vertical-align: middle;\n",
       "    }\n",
       "\n",
       "    .dataframe tbody tr th {\n",
       "        vertical-align: top;\n",
       "    }\n",
       "\n",
       "    .dataframe thead th {\n",
       "        text-align: right;\n",
       "    }\n",
       "</style>\n",
       "<table border=\"1\" class=\"dataframe\">\n",
       "  <thead>\n",
       "    <tr style=\"text-align: right;\">\n",
       "      <th></th>\n",
       "      <th>val_y</th>\n",
       "      <th>cluster_name</th>\n",
       "    </tr>\n",
       "  </thead>\n",
       "  <tbody>\n",
       "    <tr>\n",
       "      <th>20</th>\n",
       "      <td>9</td>\n",
       "      <td>1</td>\n",
       "    </tr>\n",
       "    <tr>\n",
       "      <th>56</th>\n",
       "      <td>4</td>\n",
       "      <td>1</td>\n",
       "    </tr>\n",
       "    <tr>\n",
       "      <th>59</th>\n",
       "      <td>4</td>\n",
       "      <td>1</td>\n",
       "    </tr>\n",
       "    <tr>\n",
       "      <th>66</th>\n",
       "      <td>4</td>\n",
       "      <td>1</td>\n",
       "    </tr>\n",
       "    <tr>\n",
       "      <th>78</th>\n",
       "      <td>9</td>\n",
       "      <td>1</td>\n",
       "    </tr>\n",
       "  </tbody>\n",
       "</table>\n",
       "</div>"
      ],
      "text/plain": [
       "    val_y  cluster_name\n",
       "20      9             1\n",
       "56      4             1\n",
       "59      4             1\n",
       "66      4             1\n",
       "78      9             1"
      ]
     },
     "execution_count": 34,
     "metadata": {
      "tags": []
     },
     "output_type": "execute_result"
    }
   ],
   "source": [
    "# get actual classes\n",
    "train_y = df.label.values\n",
    "train_y, val_y = train_y[:split_size], train_y[split_size:]\n",
    "\n",
    "# compare clusters with actual classes\n",
    "temp = pd.DataFrame({\"val_y\":val_y, \"cluster_name\":pred})\n",
    "temp[temp.cluster_name == 1].head()"
   ]
  },
  {
   "cell_type": "code",
   "execution_count": 35,
   "metadata": {
    "colab": {
     "base_uri": "https://localhost:8080/",
     "height": 692
    },
    "colab_type": "code",
    "executionInfo": {
     "elapsed": 9789,
     "status": "ok",
     "timestamp": 1587146646958,
     "user": {
      "displayName": "Aishwarya Singh",
      "photoUrl": "https://lh3.googleusercontent.com/a-/AOh14GgeJwfn4BdBDCAplWi_kdtB9FRssOpXO7T_aMgg=s64",
      "userId": "01105858832371513140"
     },
     "user_tz": -330
    },
    "id": "iGBTlxzdEXmv",
    "outputId": "3fd6cd83-65f5-4085-d9ea-b03e9d206362"
   },
   "outputs": [
    {
     "data": {
      "image/png": "[encoded data removed]",
      "text/plain": [
       "<Figure size 720x720 with 25 Axes>"
      ]
     },
     "metadata": {
      "needs_background": "light",
      "tags": []
     },
     "output_type": "display_data"
    }
   ],
   "source": [
    "# visualize multiple images of cluster\n",
    "## create plot\n",
    "fig,axes = plt.subplots(nrows=5,ncols=5,figsize=(10,10))\n",
    "\n",
    "## set row name on the basis of clusters\n",
    "rows = ['Images belong to Cluster {}'.format(row) for row in ['0', '1', '2', '3', '4']]\n",
    "for ax, row in zip(axes[:,0], rows):\n",
    "    ax.annotate(row, xy=(0, 0.5), xytext=(-ax.yaxis.labelpad - 5, 0),\n",
    "                xycoords=ax.yaxis.label, textcoords='offset points',\n",
    "                size='large', ha='right', va='center')\n",
    "\n",
    "## set images in subplots\n",
    "for i in range(5):\n",
    "  temp2 = temp[temp.cluster_name == i].head() \n",
    "  for j, img in enumerate(val_x[temp2.index.values]):\n",
    "    img = img.reshape((28, 28))\n",
    "    axes[i][j].imshow(img, cmap='gray')\n",
    "\n",
    "## adjust plot with respect to the column title\n",
    "fig.tight_layout()\n",
    "fig.subplots_adjust(left=0.15, top=0.95)\n",
    "\n",
    "## show plot\n",
    "plt.show()"
   ]
  },
  {
   "cell_type": "code",
   "execution_count": 36,
   "metadata": {
    "colab": {
     "base_uri": "https://localhost:8080/",
     "height": 34
    },
    "colab_type": "code",
    "executionInfo": {
     "elapsed": 2183,
     "status": "ok",
     "timestamp": 1587146700847,
     "user": {
      "displayName": "Aishwarya Singh",
      "photoUrl": "https://lh3.googleusercontent.com/a-/AOh14GgeJwfn4BdBDCAplWi_kdtB9FRssOpXO7T_aMgg=s64",
      "userId": "01105858832371513140"
     },
     "user_tz": -330
    },
    "id": "q6hw_rlUEXkf",
    "outputId": "876e8106-0ef0-492f-d161-6254bd31a37a"
   },
   "outputs": [
    {
     "data": {
      "text/plain": [
       "0.6260946631960705"
      ]
     },
     "execution_count": 36,
     "metadata": {
      "tags": []
     },
     "output_type": "execute_result"
    }
   ],
   "source": [
    "# print score of overall model\n",
    "normalized_mutual_info_score(pred, val_y)"
   ]
  },
  {
   "cell_type": "code",
   "execution_count": null,
   "metadata": {
    "colab": {},
    "colab_type": "code",
    "id": "oIV9NqG5WTTF"
   },
   "outputs": [],
   "source": []
  }
 ],
 "metadata": {
  "accelerator": "GPU",
  "colab": {
   "collapsed_sections": [],
   "name": "AutoEncoder in PyTorch.ipynb",
   "provenance": []
  },
  "kernelspec": {
   "display_name": "deep",
   "language": "python",
   "name": "deep"
  },
  "language_info": {
   "codemirror_mode": {
    "name": "ipython",
    "version": 3
   },
   "file_extension": ".py",
   "mimetype": "text/x-python",
   "name": "python",
   "nbconvert_exporter": "python",
   "pygments_lexer": "ipython3",
   "version": "3.8.8"
  }
 },
 "nbformat": 4,
 "nbformat_minor": 4
}
