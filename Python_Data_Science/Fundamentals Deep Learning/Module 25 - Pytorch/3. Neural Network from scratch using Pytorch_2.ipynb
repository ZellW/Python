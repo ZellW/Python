{
 "cells": [
  {
   "cell_type": "markdown",
   "metadata": {
    "colab_type": "text",
    "id": "cEG1dhnuNFRk"
   },
   "source": [
    "# Steps to build a Neural Network from scratch in PyTorch\n",
    "\n",
    "<ol>1. Loading the dataset (Input and Output)</ol>\n",
    "<ol>2. Architecture of the model (# input, hidden and output neurons)</ol>\n",
    "<ol>3. Initializing the weights for all the layers</ol>\n",
    "<ol>4. Implementing forward propagation</ol>\n",
    "<ol>5. Implementing backward propagation</ol>\n",
    "<ol>6. Train the model for n epochs </ol>"
   ]
  },
  {
   "cell_type": "markdown",
   "metadata": {
    "colab_type": "text",
    "id": "sbgj7HfHNFRr"
   },
   "source": [
    "## 1. Loading the dataset (Input and Output)"
   ]
  },
  {
   "cell_type": "code",
   "execution_count": 1,
   "metadata": {
    "colab": {},
    "colab_type": "code",
    "id": "E5S9HgBzNFRw"
   },
   "outputs": [],
   "source": [
    "# importing required libraries\n",
    "import torch\n",
    "import matplotlib.pyplot as plt\n",
    "\n",
    "%matplotlib inline"
   ]
  },
  {
   "cell_type": "code",
   "execution_count": 2,
   "metadata": {
    "colab": {
     "base_uri": "https://localhost:8080/",
     "height": 139
    },
    "colab_type": "code",
    "executionInfo": {
     "elapsed": 1767,
     "status": "ok",
     "timestamp": 1586622214350,
     "user": {
      "displayName": "Aishwarya Singh",
      "photoUrl": "https://lh3.googleusercontent.com/a-/AOh14GgeJwfn4BdBDCAplWi_kdtB9FRssOpXO7T_aMgg=s64",
      "userId": "01105858832371513140"
     },
     "user_tz": -330
    },
    "id": "H_h7HoPONFR_",
    "outputId": "d8354b6e-bf6e-44d6-f9cf-1f7afc91ec30"
   },
   "outputs": [
    {
     "name": "stdout",
     "output_type": "stream",
     "text": [
      "\n",
      "Input:\n",
      "tensor([[1., 0., 1., 0.],\n",
      "        [1., 0., 1., 1.],\n",
      "        [0., 1., 0., 1.]])\n",
      "\n",
      "Shape of Input: torch.Size([3, 4])\n"
     ]
    }
   ],
   "source": [
    "# creating the input tensor\n",
    "X = torch.tensor([[1,0,1,0], [1,0,1,1], [0,1,0,1]], dtype=torch.float)\n",
    "print ('\\nInput:')\n",
    "print(X)\n",
    "# shape of input tensor\n",
    "print('\\nShape of Input:', X.shape)"
   ]
  },
  {
   "cell_type": "code",
   "execution_count": 3,
   "metadata": {
    "colab": {
     "base_uri": "https://localhost:8080/",
     "height": 156
    },
    "colab_type": "code",
    "executionInfo": {
     "elapsed": 2098,
     "status": "ok",
     "timestamp": 1586622263377,
     "user": {
      "displayName": "Aishwarya Singh",
      "photoUrl": "https://lh3.googleusercontent.com/a-/AOh14GgeJwfn4BdBDCAplWi_kdtB9FRssOpXO7T_aMgg=s64",
      "userId": "01105858832371513140"
     },
     "user_tz": -330
    },
    "id": "LVvQz5g39wo3",
    "outputId": "06b7ae71-2cba-4779-a8bf-3590c3d9ee47"
   },
   "outputs": [
    {
     "name": "stdout",
     "output_type": "stream",
     "text": [
      "\n",
      "Input in matrix form:\n",
      "tensor([[1., 1., 0.],\n",
      "        [0., 0., 1.],\n",
      "        [1., 1., 0.],\n",
      "        [0., 1., 1.]])\n",
      "\n",
      "Shape of Input Matrix: torch.Size([4, 3])\n"
     ]
    }
   ],
   "source": [
    "# converting the input in matrix form\n",
    "X = X.t()\n",
    "print('\\nInput in matrix form:')\n",
    "print(X)\n",
    "# shape of input matrix\n",
    "print('\\nShape of Input Matrix:', X.shape)"
   ]
  },
  {
   "cell_type": "code",
   "execution_count": 4,
   "metadata": {
    "colab": {
     "base_uri": "https://localhost:8080/",
     "height": 191
    },
    "colab_type": "code",
    "executionInfo": {
     "elapsed": 1660,
     "status": "ok",
     "timestamp": 1586622293754,
     "user": {
      "displayName": "Aishwarya Singh",
      "photoUrl": "https://lh3.googleusercontent.com/a-/AOh14GgeJwfn4BdBDCAplWi_kdtB9FRssOpXO7T_aMgg=s64",
      "userId": "01105858832371513140"
     },
     "user_tz": -330
    },
    "id": "IRe8JE0xNFSL",
    "outputId": "6d34da25-aa9f-4c82-8021-d109e41fbc4d"
   },
   "outputs": [
    {
     "name": "stdout",
     "output_type": "stream",
     "text": [
      "\n",
      "Actual Output:\n",
      "tensor([[1.],\n",
      "        [1.],\n",
      "        [0.]])\n",
      "\n",
      "Output in matrix form:\n",
      "tensor([[1., 1., 0.]])\n",
      "\n",
      "Shape of Output: torch.Size([1, 3])\n"
     ]
    }
   ],
   "source": [
    "# creating the output tensor\n",
    "y = torch.tensor([[1],[1],[0]], dtype=torch.float)\n",
    "print ('\\nActual Output:')\n",
    "print(y)\n",
    "\n",
    "# output in matrix form\n",
    "y = y.t()\n",
    "\n",
    "print ('\\nOutput in matrix form:')\n",
    "print(y)\n",
    "\n",
    "# shape of input array\n",
    "print('\\nShape of Output:', y.shape)"
   ]
  },
  {
   "cell_type": "markdown",
   "metadata": {
    "colab_type": "text",
    "id": "tKf4Ji1-NFSV"
   },
   "source": [
    "## 2. Architecture of the model (# input, hidden and output neurons)"
   ]
  },
  {
   "cell_type": "code",
   "execution_count": 5,
   "metadata": {
    "colab": {},
    "colab_type": "code",
    "id": "vlhBW0NNNFSg"
   },
   "outputs": [],
   "source": [
    "inputlayer_neurons = X.shape[0] # number of features in data set\n",
    "hiddenlayer_neurons = 3 # number of hidden layers neurons\n",
    "output_neurons = 1 # number of neurons at output layer"
   ]
  },
  {
   "cell_type": "markdown",
   "metadata": {
    "colab_type": "text",
    "id": "OoOsLucmNFSo"
   },
   "source": [
    "![alt text](https://drive.google.com/uc?id=1zrEFVsc6bMQZ7fRxbK4DRceaG78k26Pc)"
   ]
  },
  {
   "cell_type": "markdown",
   "metadata": {
    "colab_type": "text",
    "id": "_Nmwj8RfNFSr"
   },
   "source": [
    "## 3. Initializing the weights for all the layers\n",
    "\n",
    "NOTE: For simplicity, we are assuming that the bias for all the layers is 0"
   ]
  },
  {
   "cell_type": "code",
   "execution_count": 6,
   "metadata": {
    "colab": {},
    "colab_type": "code",
    "id": "1T1IG-W8NFSu"
   },
   "outputs": [],
   "source": [
    "# initializing weights\n",
    "# Shape of w_ih should number of neurons at input layer X number of neurons at hidden layer\n",
    "w_ih=torch.randn(inputlayer_neurons,hiddenlayer_neurons)\n",
    "\n",
    "# Shape of w_ho should number of neurons at hidden layer X number of neurons at output layer\n",
    "w_ho=torch.randn(hiddenlayer_neurons,output_neurons)"
   ]
  },
  {
   "cell_type": "code",
   "execution_count": 7,
   "metadata": {
    "colab": {
     "base_uri": "https://localhost:8080/",
     "height": 34
    },
    "colab_type": "code",
    "executionInfo": {
     "elapsed": 1768,
     "status": "ok",
     "timestamp": 1586622891407,
     "user": {
      "displayName": "Aishwarya Singh",
      "photoUrl": "https://lh3.googleusercontent.com/a-/AOh14GgeJwfn4BdBDCAplWi_kdtB9FRssOpXO7T_aMgg=s64",
      "userId": "01105858832371513140"
     },
     "user_tz": -330
    },
    "id": "Fpa1--9KNFS1",
    "outputId": "37cec57c-b0eb-4ffc-b2c6-5423dceb7411"
   },
   "outputs": [
    {
     "data": {
      "text/plain": [
       "(torch.Size([4, 3]), torch.Size([3, 1]))"
      ]
     },
     "execution_count": 7,
     "metadata": {},
     "output_type": "execute_result"
    }
   ],
   "source": [
    "# shape of weight matrix\n",
    "w_ih.shape, w_ho.shape"
   ]
  },
  {
   "cell_type": "markdown",
   "metadata": {
    "colab_type": "text",
    "id": "srrDW1MNNFS-"
   },
   "source": [
    "## 4. Implementing forward propagation"
   ]
  },
  {
   "cell_type": "markdown",
   "metadata": {
    "colab_type": "text",
    "id": "-g-SocwQNFTC"
   },
   "source": [
    "![alt text](https://drive.google.com/uc?id=1YwD7vY9k84vZmjmE5CXgQ69fYyadPsox)"
   ]
  },
  {
   "cell_type": "code",
   "execution_count": 8,
   "metadata": {
    "colab": {},
    "colab_type": "code",
    "id": "sOcBji4iNFTE"
   },
   "outputs": [],
   "source": [
    "# We are using sigmoid as an activation function so defining the sigmoid function here\n",
    "\n",
    "# defining the Sigmoid Function\n",
    "def sigmoid(s):\n",
    "    return 1 / (1 + torch.exp(-s))"
   ]
  },
  {
   "cell_type": "code",
   "execution_count": 9,
   "metadata": {
    "colab": {},
    "colab_type": "code",
    "id": "DO6AYHtGNFTM"
   },
   "outputs": [],
   "source": [
    "# hidden layer activations\n",
    "hidden_layer_input=torch.matmul(w_ih.t(),X)\n",
    "hiddenlayer_activations = sigmoid(hidden_layer_input)"
   ]
  },
  {
   "cell_type": "markdown",
   "metadata": {
    "colab_type": "text",
    "id": "o8zzYX6pNFTT"
   },
   "source": [
    "![alt text](https://drive.google.com/uc?id=1ETMoLD1fwi5u1HHLqtAdVUs-P8HNOU_p)"
   ]
  },
  {
   "cell_type": "code",
   "execution_count": 10,
   "metadata": {
    "colab": {},
    "colab_type": "code",
    "id": "CuqKwiToNFTW"
   },
   "outputs": [],
   "source": [
    "# calculating the output\n",
    "output_layer_input=torch.matmul(w_ho.t(),hiddenlayer_activations)\n",
    "output = sigmoid(output_layer_input)"
   ]
  },
  {
   "cell_type": "code",
   "execution_count": 12,
   "metadata": {
    "colab": {
     "base_uri": "https://localhost:8080/",
     "height": 34
    },
    "colab_type": "code",
    "executionInfo": {
     "elapsed": 1169,
     "status": "ok",
     "timestamp": 1586623079883,
     "user": {
      "displayName": "Aishwarya Singh",
      "photoUrl": "https://lh3.googleusercontent.com/a-/AOh14GgeJwfn4BdBDCAplWi_kdtB9FRssOpXO7T_aMgg=s64",
      "userId": "01105858832371513140"
     },
     "user_tz": -330
    },
    "id": "BjPlMkVMNFTd",
    "outputId": "5a3a6e79-a999-474e-89c8-608978004d6e"
   },
   "outputs": [
    {
     "data": {
      "text/plain": [
       "tensor([[0.3763, 0.4025, 0.3980]])"
      ]
     },
     "execution_count": 12,
     "metadata": {},
     "output_type": "execute_result"
    }
   ],
   "source": [
    "# output\n",
    "output"
   ]
  },
  {
   "cell_type": "markdown",
   "metadata": {
    "colab_type": "text",
    "id": "mdFKMYyzNFTm"
   },
   "source": [
    "## 5. Implementing backward propagation"
   ]
  },
  {
   "cell_type": "markdown",
   "metadata": {
    "colab_type": "text",
    "id": "c2m3XBgZNFTn"
   },
   "source": [
    "![alt text](https://drive.google.com/uc?id=1uYdg4mQL-B9o7BTOLnfoYUhh_LxTnpcW)"
   ]
  },
  {
   "cell_type": "code",
   "execution_count": 13,
   "metadata": {
    "colab": {},
    "colab_type": "code",
    "id": "IvUAAhlcNFTp"
   },
   "outputs": [],
   "source": [
    "# calculating error\n",
    "error = torch.pow(y-output,2) /2"
   ]
  },
  {
   "cell_type": "markdown",
   "metadata": {
    "colab_type": "text",
    "id": "6TcwM4nwXQxs"
   },
   "source": [
    "## 1. Rate of change of error w.r.t. who\n",
    "## 2. Rate of change of error w.r.t. wih"
   ]
  },
  {
   "cell_type": "markdown",
   "metadata": {
    "colab_type": "text",
    "id": "3H0vjBdNNFTw"
   },
   "source": [
    "### Rate of change of error w.r.t weight between hidden and output layer"
   ]
  },
  {
   "cell_type": "markdown",
   "metadata": {
    "colab_type": "text",
    "id": "4cncCd1WNFTz"
   },
   "source": [
    "![alt text](https://drive.google.com/uc?id=1_KexjgVJGRptZ6t1eobTter3mfIGo9rs)"
   ]
  },
  {
   "cell_type": "markdown",
   "metadata": {
    "colab_type": "text",
    "id": "DqrhlDeDNFT1"
   },
   "source": [
    "**a. Rate of change of error w.r.t output**\n",
    "\n",
    "**b. Rate of change of output w.r.t Z2**\n",
    "\n",
    "**c. Rate of change of Z2 w.r.t weights between hidden and output layer**"
   ]
  },
  {
   "cell_type": "markdown",
   "metadata": {
    "colab_type": "text",
    "id": "gC9zQEH6HON5"
   },
   "source": [
    "![alt text](https://drive.google.com/uc?id=1VesmZOVpfgLFESvOFd7dE-YHNtSMMkvM)"
   ]
  },
  {
   "cell_type": "code",
   "execution_count": 14,
   "metadata": {
    "colab": {},
    "colab_type": "code",
    "id": "bKdk5m4FNFT3"
   },
   "outputs": [],
   "source": [
    "# rate of change of error w.r.t. output\n",
    "error_wrt_output = -(y-output)\n",
    "\n",
    "# rate of change of output w.r.t. Z2\n",
    "output_wrt_Z2 =  torch.mul(output,(1-output))\n",
    "\n",
    "# rate of change of Z2 w.r.t. weights between hidden and output layer\n",
    "Z2_wrt_who = hiddenlayer_activations"
   ]
  },
  {
   "cell_type": "code",
   "execution_count": 15,
   "metadata": {
    "colab": {},
    "colab_type": "code",
    "id": "l3HNVYGONFUr"
   },
   "outputs": [],
   "source": [
    "# rate of change of error w.r.t weight between hidden and output layer\n",
    "error_wrt_who =  torch.matmul(Z2_wrt_who,(error_wrt_output*output_wrt_Z2).t())"
   ]
  },
  {
   "cell_type": "markdown",
   "metadata": {
    "colab_type": "text",
    "id": "sDFPg2SHNFU2"
   },
   "source": [
    "### Rate of change of error w.r.t weight between input and hidden layer"
   ]
  },
  {
   "cell_type": "markdown",
   "metadata": {
    "colab_type": "text",
    "id": "_757MrjBNFU2"
   },
   "source": [
    "![alt text](https://drive.google.com/uc?id=1X4-iInwlv7ber3fwgtqHuHTuFRci-tMV)"
   ]
  },
  {
   "cell_type": "markdown",
   "metadata": {
    "colab_type": "text",
    "id": "_nPYGXkeNFU4"
   },
   "source": [
    "**a. Rate of change of error w.r.t output**\n",
    "\n",
    "**b. Rate of change of output w.r.t Z2**\n",
    "\n",
    "**c. Rate of change of Z2 w.r.t hidden layer activations**\n",
    "\n",
    "**d. Rate of change of hidden layer activations w.r.t Z1**\n",
    "\n",
    "**e. Rate of change of Z1 w.r.t weights between input and hidden layer**"
   ]
  },
  {
   "cell_type": "markdown",
   "metadata": {
    "colab_type": "text",
    "id": "gCeSm7vrHbHj"
   },
   "source": [
    "![alt text](https://drive.google.com/uc?id=1RkG5x1NEFWlF3tj0OlswOWvBcV5XNV1C)"
   ]
  },
  {
   "cell_type": "code",
   "execution_count": 16,
   "metadata": {
    "colab": {},
    "colab_type": "code",
    "id": "Sb7Ezxw9NFU6"
   },
   "outputs": [],
   "source": [
    "# rate of change of error w.r.t. output\n",
    "error_wrt_output = -(y-output)\n",
    "\n",
    "# rate of change of output w.r.t. Z2\n",
    "output_wrt_Z2 = torch.mul(output,(1-output))\n",
    "\n",
    "# rate of change of Z2 w.r.t. hidden layer activations\n",
    "Z2_wrt_h1 = w_ho\n",
    "\n",
    "# rate of change of hidden layer activations w.r.t. Z1\n",
    "h1_wrt_Z1 = torch.mul(hiddenlayer_activations,(1-hiddenlayer_activations))\n",
    "\n",
    "# rate of change of Z1 w.r.t. weights between input and hidden layer\n",
    "Z1_wrt_wih = X"
   ]
  },
  {
   "cell_type": "code",
   "execution_count": 17,
   "metadata": {
    "colab": {},
    "colab_type": "code",
    "id": "XTPNf3E5NFVs"
   },
   "outputs": [],
   "source": [
    "# rate of change of error w.r.t weights between input and hidden layer\n",
    "error_wrt_wih =  torch.matmul(Z1_wrt_wih,(h1_wrt_Z1*torch.matmul(Z2_wrt_h1,(output_wrt_Z2*error_wrt_output))).t())"
   ]
  },
  {
   "cell_type": "markdown",
   "metadata": {
    "colab_type": "text",
    "id": "W2bu4H5-NFVz"
   },
   "source": [
    "### Update the parameters"
   ]
  },
  {
   "cell_type": "markdown",
   "metadata": {
    "colab_type": "text",
    "id": "-nmJnY_PNFV1"
   },
   "source": [
    "![alt text](https://drive.google.com/uc?id=1A5jaB3WjZx9yrJkk9imVEvP3PZodjapE)"
   ]
  },
  {
   "cell_type": "code",
   "execution_count": 18,
   "metadata": {
    "colab": {},
    "colab_type": "code",
    "id": "_r59xEpINFV2"
   },
   "outputs": [],
   "source": [
    "# defining the learning rate\n",
    "lr = 0.01"
   ]
  },
  {
   "cell_type": "code",
   "execution_count": 19,
   "metadata": {
    "colab": {
     "base_uri": "https://localhost:8080/",
     "height": 69
    },
    "colab_type": "code",
    "executionInfo": {
     "elapsed": 1627,
     "status": "ok",
     "timestamp": 1586623864651,
     "user": {
      "displayName": "Aishwarya Singh",
      "photoUrl": "https://lh3.googleusercontent.com/a-/AOh14GgeJwfn4BdBDCAplWi_kdtB9FRssOpXO7T_aMgg=s64",
      "userId": "01105858832371513140"
     },
     "user_tz": -330
    },
    "id": "aiBFNXd3NFV7",
    "outputId": "9916b10b-1dae-40c2-8ea1-a1f2a2b31a66"
   },
   "outputs": [
    {
     "data": {
      "text/plain": [
       "tensor([[ 0.9987],\n",
       "        [-1.1133],\n",
       "        [-0.9581]])"
      ]
     },
     "execution_count": 19,
     "metadata": {},
     "output_type": "execute_result"
    }
   ],
   "source": [
    "# initial w_ho and w_ih\n",
    "w_ho"
   ]
  },
  {
   "cell_type": "code",
   "execution_count": 20,
   "metadata": {
    "colab": {
     "base_uri": "https://localhost:8080/",
     "height": 86
    },
    "colab_type": "code",
    "executionInfo": {
     "elapsed": 1055,
     "status": "ok",
     "timestamp": 1586623865666,
     "user": {
      "displayName": "Aishwarya Singh",
      "photoUrl": "https://lh3.googleusercontent.com/a-/AOh14GgeJwfn4BdBDCAplWi_kdtB9FRssOpXO7T_aMgg=s64",
      "userId": "01105858832371513140"
     },
     "user_tz": -330
    },
    "id": "CuosFKUENFWB",
    "outputId": "41a6cf7a-41fa-4c8a-c238-e7a4763e1c48",
    "scrolled": true
   },
   "outputs": [
    {
     "data": {
      "text/plain": [
       "tensor([[ 0.8639,  1.0505, -0.3297],\n",
       "        [ 0.1167,  0.4158, -0.1952],\n",
       "        [ 0.3932,  0.6537, -0.2644],\n",
       "        [-0.2457, -1.3286,  0.5459]])"
      ]
     },
     "execution_count": 20,
     "metadata": {},
     "output_type": "execute_result"
    }
   ],
   "source": [
    "w_ih"
   ]
  },
  {
   "cell_type": "code",
   "execution_count": 21,
   "metadata": {
    "colab": {},
    "colab_type": "code",
    "id": "D_Va2xywNFWF"
   },
   "outputs": [],
   "source": [
    "# updating the weights of output layer\n",
    "w_ho = w_ho - lr * error_wrt_who"
   ]
  },
  {
   "cell_type": "code",
   "execution_count": 22,
   "metadata": {
    "colab": {},
    "colab_type": "code",
    "id": "ruFlc96BNFWL"
   },
   "outputs": [],
   "source": [
    "# updating the weights of hidden layer\n",
    "w_ih = w_ih - lr * error_wrt_wih"
   ]
  },
  {
   "cell_type": "code",
   "execution_count": 23,
   "metadata": {
    "colab": {
     "base_uri": "https://localhost:8080/",
     "height": 69
    },
    "colab_type": "code",
    "executionInfo": {
     "elapsed": 1680,
     "status": "ok",
     "timestamp": 1586623914421,
     "user": {
      "displayName": "Aishwarya Singh",
      "photoUrl": "https://lh3.googleusercontent.com/a-/AOh14GgeJwfn4BdBDCAplWi_kdtB9FRssOpXO7T_aMgg=s64",
      "userId": "01105858832371513140"
     },
     "user_tz": -330
    },
    "id": "NTf4nS1xNFWP",
    "outputId": "a1649864-b25a-48ec-a8c5-6c260bb9fcb5"
   },
   "outputs": [
    {
     "data": {
      "text/plain": [
       "tensor([[ 1.0004],\n",
       "        [-1.1115],\n",
       "        [-0.9575]])"
      ]
     },
     "execution_count": 23,
     "metadata": {},
     "output_type": "execute_result"
    }
   ],
   "source": [
    "# updated w_ho and w_ih\n",
    "w_ho"
   ]
  },
  {
   "cell_type": "code",
   "execution_count": 24,
   "metadata": {
    "colab": {
     "base_uri": "https://localhost:8080/",
     "height": 86
    },
    "colab_type": "code",
    "executionInfo": {
     "elapsed": 1298,
     "status": "ok",
     "timestamp": 1586623914423,
     "user": {
      "displayName": "Aishwarya Singh",
      "photoUrl": "https://lh3.googleusercontent.com/a-/AOh14GgeJwfn4BdBDCAplWi_kdtB9FRssOpXO7T_aMgg=s64",
      "userId": "01105858832371513140"
     },
     "user_tz": -330
    },
    "id": "7VYNPPNlNFWU",
    "outputId": "5a8cff18-0228-4b3b-bbe8-299e55141bd1"
   },
   "outputs": [
    {
     "data": {
      "text/plain": [
       "tensor([[ 0.8644,  1.0499, -0.3303],\n",
       "        [ 0.1165,  0.4161, -0.1950],\n",
       "        [ 0.3937,  0.6531, -0.2651],\n",
       "        [-0.2456, -1.3288,  0.5457]])"
      ]
     },
     "execution_count": 24,
     "metadata": {},
     "output_type": "execute_result"
    }
   ],
   "source": [
    "w_ih"
   ]
  },
  {
   "cell_type": "markdown",
   "metadata": {
    "colab_type": "text",
    "id": "SxLy6DZlNFWY"
   },
   "source": [
    "## 6. Training the model for n epochs"
   ]
  },
  {
   "cell_type": "code",
   "execution_count": 25,
   "metadata": {
    "colab": {},
    "colab_type": "code",
    "id": "8HKS9vIyNFWZ"
   },
   "outputs": [],
   "source": [
    "# defining the model architecture\n",
    "inputlayer_neurons = X.shape[0] # number of features in data set\n",
    "hiddenlayer_neurons = 3 # number of hidden layers neurons\n",
    "output_neurons = 1 # number of neurons at output layer\n",
    "\n",
    "# initializing weight\n",
    "w_ih=torch.randn(inputlayer_neurons,hiddenlayer_neurons, dtype=torch.float)\n",
    "w_ho=torch.randn(hiddenlayer_neurons,output_neurons, dtype=torch.float)\n",
    "\n",
    "# defining the parameters\n",
    "lr = 0.01\n",
    "epochs = 10000"
   ]
  },
  {
   "cell_type": "code",
   "execution_count": 26,
   "metadata": {
    "colab": {
     "base_uri": "https://localhost:8080/",
     "height": 86
    },
    "colab_type": "code",
    "executionInfo": {
     "elapsed": 2309,
     "status": "ok",
     "timestamp": 1586623981879,
     "user": {
      "displayName": "Aishwarya Singh",
      "photoUrl": "https://lh3.googleusercontent.com/a-/AOh14GgeJwfn4BdBDCAplWi_kdtB9FRssOpXO7T_aMgg=s64",
      "userId": "01105858832371513140"
     },
     "user_tz": -330
    },
    "id": "ojybM51LNFWc",
    "outputId": "d858fe94-7180-46aa-d5db-c7800b52c29e"
   },
   "outputs": [
    {
     "data": {
      "text/plain": [
       "tensor([[-0.1174, -0.2262,  0.3051],\n",
       "        [ 0.7818,  0.5587, -0.3462],\n",
       "        [ 1.1145,  0.1206,  0.3602],\n",
       "        [-0.1395, -2.0524, -1.4691]])"
      ]
     },
     "execution_count": 26,
     "metadata": {},
     "output_type": "execute_result"
    }
   ],
   "source": [
    "# initial w_ih and w_ho\n",
    "w_ih"
   ]
  },
  {
   "cell_type": "code",
   "execution_count": 27,
   "metadata": {
    "colab": {
     "base_uri": "https://localhost:8080/",
     "height": 69
    },
    "colab_type": "code",
    "executionInfo": {
     "elapsed": 1911,
     "status": "ok",
     "timestamp": 1586623981882,
     "user": {
      "displayName": "Aishwarya Singh",
      "photoUrl": "https://lh3.googleusercontent.com/a-/AOh14GgeJwfn4BdBDCAplWi_kdtB9FRssOpXO7T_aMgg=s64",
      "userId": "01105858832371513140"
     },
     "user_tz": -330
    },
    "id": "1RS_d3kdNFWg",
    "outputId": "86fa7763-9fbb-488d-a872-e940e5dc5f89"
   },
   "outputs": [
    {
     "data": {
      "text/plain": [
       "tensor([[ 1.1774],\n",
       "        [-1.9822],\n",
       "        [ 0.4778]])"
      ]
     },
     "execution_count": 27,
     "metadata": {},
     "output_type": "execute_result"
    }
   ],
   "source": [
    "w_ho"
   ]
  },
  {
   "cell_type": "code",
   "execution_count": 28,
   "metadata": {
    "colab": {},
    "colab_type": "code",
    "id": "_yVAcyW_NFWk"
   },
   "outputs": [],
   "source": [
    "error_epoch = []\n",
    "for i in range(epochs):\n",
    "    # Forward Propogation\n",
    "    \n",
    "    # hidden layer activations\n",
    "    hidden_layer_input= torch.matmul(w_ih.t(),X)\n",
    "    hiddenlayer_activations = sigmoid(hidden_layer_input)    \n",
    "    # calculating the output\n",
    "    output_layer_input= torch.matmul(w_ho.t(),hiddenlayer_activations)\n",
    "    output = sigmoid(output_layer_input)\n",
    "    \n",
    "    \n",
    "    # Backward Propagation\n",
    "    \n",
    "    # calculating error\n",
    "    error = (y-output)*(y-output)/2\n",
    "    error_wrt_output = -(y-output)\n",
    "    output_wrt_Z2 = torch.mul(output,(1-output))\n",
    "    Z2_wrt_who = hiddenlayer_activations\n",
    "    # rate of change of error w.r.t weight between hidden and output layer\n",
    "    error_wrt_who =  torch.matmul(Z2_wrt_who,(error_wrt_output*output_wrt_Z2).t())\n",
    "    Z2_wrt_h1 = w_ho\n",
    "    h1_wrt_Z1 = torch.mul(hiddenlayer_activations,(1-hiddenlayer_activations))\n",
    "    Z1_wrt_wih = X\n",
    "    # rate of change of error w.r.t weights between input and hidden layer\n",
    "    error_wrt_wih =  torch.matmul(Z1_wrt_wih,(h1_wrt_Z1*torch.matmul(Z2_wrt_h1,(error_wrt_output*output_wrt_Z2))).t())\n",
    "\n",
    "    # updating the weights between hidden and output layer\n",
    "    w_ho = w_ho - lr * error_wrt_who\n",
    "    # updating the weights between input and hidden layer\n",
    "    w_ih = w_ih - lr * error_wrt_wih\n",
    "    \n",
    "    # appending the error of each epoch\n",
    "    error_epoch.append(torch.mean(error))"
   ]
  },
  {
   "cell_type": "code",
   "execution_count": 29,
   "metadata": {
    "colab": {
     "base_uri": "https://localhost:8080/",
     "height": 86
    },
    "colab_type": "code",
    "executionInfo": {
     "elapsed": 2375,
     "status": "ok",
     "timestamp": 1586624059723,
     "user": {
      "displayName": "Aishwarya Singh",
      "photoUrl": "https://lh3.googleusercontent.com/a-/AOh14GgeJwfn4BdBDCAplWi_kdtB9FRssOpXO7T_aMgg=s64",
      "userId": "01105858832371513140"
     },
     "user_tz": -330
    },
    "id": "Ra5mTgwUNFWo",
    "outputId": "c8ae43fb-9f47-4b2a-f286-fad269766c11"
   },
   "outputs": [
    {
     "data": {
      "text/plain": [
       "tensor([[ 0.5984, -1.1479,  1.0349],\n",
       "        [-0.4538,  2.3607, -0.7881],\n",
       "        [ 1.8304, -0.8011,  1.0900],\n",
       "        [-0.9306, -0.5589, -1.4280]])"
      ]
     },
     "execution_count": 29,
     "metadata": {},
     "output_type": "execute_result"
    }
   ],
   "source": [
    "# updated w_ih and w_ho\n",
    "w_ih"
   ]
  },
  {
   "cell_type": "code",
   "execution_count": 30,
   "metadata": {
    "colab": {
     "base_uri": "https://localhost:8080/",
     "height": 69
    },
    "colab_type": "code",
    "executionInfo": {
     "elapsed": 1721,
     "status": "ok",
     "timestamp": 1586624059726,
     "user": {
      "displayName": "Aishwarya Singh",
      "photoUrl": "https://lh3.googleusercontent.com/a-/AOh14GgeJwfn4BdBDCAplWi_kdtB9FRssOpXO7T_aMgg=s64",
      "userId": "01105858832371513140"
     },
     "user_tz": -330
    },
    "id": "Ctoll6QufYfu",
    "outputId": "2d67f90c-4fc6-488a-e59d-b0e3b38b78b9"
   },
   "outputs": [
    {
     "data": {
      "text/plain": [
       "tensor([[ 2.0407],\n",
       "        [-3.4103],\n",
       "        [ 1.8874]])"
      ]
     },
     "execution_count": 30,
     "metadata": {},
     "output_type": "execute_result"
    }
   ],
   "source": [
    "w_ho"
   ]
  },
  {
   "cell_type": "code",
   "execution_count": 31,
   "metadata": {
    "colab": {
     "base_uri": "https://localhost:8080/",
     "height": 282
    },
    "colab_type": "code",
    "executionInfo": {
     "elapsed": 1808,
     "status": "ok",
     "timestamp": 1586624195351,
     "user": {
      "displayName": "Aishwarya Singh",
      "photoUrl": "https://lh3.googleusercontent.com/a-/AOh14GgeJwfn4BdBDCAplWi_kdtB9FRssOpXO7T_aMgg=s64",
      "userId": "01105858832371513140"
     },
     "user_tz": -330
    },
    "id": "WeN2dcc0NFW8",
    "outputId": "408787c0-637d-445a-ee44-d4afe916c90e",
    "scrolled": true
   },
   "outputs": [
    {
     "data": {
      "text/plain": [
       "[<matplotlib.lines.Line2D at 0x21e3ae42fa0>]"
      ]
     },
     "execution_count": 31,
     "metadata": {},
     "output_type": "execute_result"
    },
    {
     "data": {
      "image/png": "[encoded data removed]",
      "text/plain": [
       "<Figure size 432x288 with 1 Axes>"
      ]
     },
     "metadata": {
      "needs_background": "light"
     },
     "output_type": "display_data"
    }
   ],
   "source": [
    "# visualizing the error after each epoch\n",
    "plt.plot(torch.arange(1,epochs+1).numpy(), torch.Tensor(error_epoch).numpy())"
   ]
  },
  {
   "cell_type": "code",
   "execution_count": 32,
   "metadata": {
    "colab": {
     "base_uri": "https://localhost:8080/",
     "height": 34
    },
    "colab_type": "code",
    "executionInfo": {
     "elapsed": 1715,
     "status": "ok",
     "timestamp": 1586624218274,
     "user": {
      "displayName": "Aishwarya Singh",
      "photoUrl": "https://lh3.googleusercontent.com/a-/AOh14GgeJwfn4BdBDCAplWi_kdtB9FRssOpXO7T_aMgg=s64",
      "userId": "01105858832371513140"
     },
     "user_tz": -330
    },
    "id": "bJlcGoeUNFXA",
    "outputId": "9ece60e6-3e02-4c72-e4ea-5fdfa1894376"
   },
   "outputs": [
    {
     "data": {
      "text/plain": [
       "tensor([[0.9584, 0.9353, 0.0884]])"
      ]
     },
     "execution_count": 32,
     "metadata": {},
     "output_type": "execute_result"
    }
   ],
   "source": [
    "# final output from the model\n",
    "output"
   ]
  },
  {
   "cell_type": "code",
   "execution_count": 33,
   "metadata": {
    "colab": {
     "base_uri": "https://localhost:8080/",
     "height": 34
    },
    "colab_type": "code",
    "executionInfo": {
     "elapsed": 1958,
     "status": "ok",
     "timestamp": 1586624224165,
     "user": {
      "displayName": "Aishwarya Singh",
      "photoUrl": "https://lh3.googleusercontent.com/a-/AOh14GgeJwfn4BdBDCAplWi_kdtB9FRssOpXO7T_aMgg=s64",
      "userId": "01105858832371513140"
     },
     "user_tz": -330
    },
    "id": "ARNn3MiKNFXF",
    "outputId": "4457e202-ebd7-4a70-f65d-5e19b447fae2"
   },
   "outputs": [
    {
     "data": {
      "text/plain": [
       "tensor([[1., 1., 0.]])"
      ]
     },
     "execution_count": 33,
     "metadata": {},
     "output_type": "execute_result"
    }
   ],
   "source": [
    "# actual target\n",
    "y"
   ]
  },
  {
   "cell_type": "code",
   "execution_count": 34,
   "metadata": {
    "colab": {
     "base_uri": "https://localhost:8080/",
     "height": 34
    },
    "colab_type": "code",
    "executionInfo": {
     "elapsed": 2287,
     "status": "ok",
     "timestamp": 1586624240515,
     "user": {
      "displayName": "Aishwarya Singh",
      "photoUrl": "https://lh3.googleusercontent.com/a-/AOh14GgeJwfn4BdBDCAplWi_kdtB9FRssOpXO7T_aMgg=s64",
      "userId": "01105858832371513140"
     },
     "user_tz": -330
    },
    "id": "MtwXl0bjNFXJ",
    "outputId": "a5423e0c-ec41-4078-e3f0-ee08d74034fe"
   },
   "outputs": [
    {
     "data": {
      "text/plain": [
       "tensor([[0.0009, 0.0021, 0.0039]])"
      ]
     },
     "execution_count": 34,
     "metadata": {},
     "output_type": "execute_result"
    }
   ],
   "source": [
    "# error at last epoch\n",
    "error"
   ]
  },
  {
   "cell_type": "code",
   "execution_count": null,
   "metadata": {
    "colab": {},
    "colab_type": "code",
    "id": "P7eRbHZnOBz3"
   },
   "outputs": [],
   "source": []
  }
 ],
 "metadata": {
  "accelerator": "GPU",
  "colab": {
   "collapsed_sections": [],
   "name": "3. Neural Network from scratch using Pytorch.ipynb",
   "provenance": []
  },
  "kernelspec": {
   "display_name": "deep",
   "language": "python",
   "name": "deep"
  },
  "language_info": {
   "codemirror_mode": {
    "name": "ipython",
    "version": 3
   },
   "file_extension": ".py",
   "mimetype": "text/x-python",
   "name": "python",
   "nbconvert_exporter": "python",
   "pygments_lexer": "ipython3",
   "version": "3.8.8"
  }
 },
 "nbformat": 4,
 "nbformat_minor": 4
}
