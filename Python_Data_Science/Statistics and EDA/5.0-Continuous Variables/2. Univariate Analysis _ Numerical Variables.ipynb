{
 "cells": [
  {
   "cell_type": "markdown",
   "metadata": {
    "colab_type": "text",
    "id": "e9mGxzDF5Cl9"
   },
   "source": [
    "# Exploratory Data Analysis"
   ]
  },
  {
   "cell_type": "markdown",
   "metadata": {
    "colab_type": "text",
    "id": "1FzYccB24irQ"
   },
   "source": [
    "## Reading Files into Python"
   ]
  },
  {
   "cell_type": "code",
   "execution_count": null,
   "metadata": {
    "colab": {},
    "colab_type": "code",
    "id": "zDWO5w4jIiWL"
   },
   "outputs": [],
   "source": [
    "# importing libraries\n",
    "import pandas as pd\n",
    "import numpy as np\n",
    "import matplotlib.pyplot as plt\n",
    "import seaborn as sns\n",
    "\n",
    "warnings.filterwarnings('ignore')"
   ]
  },
  {
   "cell_type": "code",
   "execution_count": null,
   "metadata": {
    "colab": {},
    "colab_type": "code",
    "id": "LFxGyLx3L5IS"
   },
   "outputs": [],
   "source": [
    "#importing data\n",
    "data = pd.read_csv('churn_prediction.csv')"
   ]
  },
  {
   "cell_type": "code",
   "execution_count": null,
   "metadata": {
    "colab": {
     "base_uri": "https://localhost:8080/"
    },
    "colab_type": "code",
    "executionInfo": {
     "elapsed": 1816,
     "status": "ok",
     "timestamp": 1581918103349,
     "user": {
      "displayName": "Sharoon Saxena",
      "photoUrl": "https://lh3.googleusercontent.com/a-/AAuE7mA06b2KEfgpAIC1tQCip2ka2KqXrCY2GfWW9Fww=s64",
      "userId": "01167841530696023488"
     },
     "user_tz": -330
    },
    "id": "qPcIwT47NQX6",
    "outputId": "ab7b12df-f4ad-4cc6-e069-744c447958d7"
   },
   "outputs": [],
   "source": [
    "#first 5 instances using \"head()\" function\n",
    "data.head()"
   ]
  },
  {
   "cell_type": "code",
   "execution_count": null,
   "metadata": {
    "colab": {
     "base_uri": "https://localhost:8080/"
    },
    "colab_type": "code",
    "executionInfo": {
     "elapsed": 2487,
     "status": "ok",
     "timestamp": 1581918104056,
     "user": {
      "displayName": "Sharoon Saxena",
      "photoUrl": "https://lh3.googleusercontent.com/a-/AAuE7mA06b2KEfgpAIC1tQCip2ka2KqXrCY2GfWW9Fww=s64",
      "userId": "01167841530696023488"
     },
     "user_tz": -330
    },
    "id": "_G5CwMDl2B_8",
    "outputId": "2afce427-ca29-4f9f-fcff-d480307f2e0f"
   },
   "outputs": [],
   "source": [
    "#last 5 instances using \"tail()\" function\n",
    "data.tail()"
   ]
  },
  {
   "cell_type": "code",
   "execution_count": null,
   "metadata": {
    "colab": {
     "base_uri": "https://localhost:8080/"
    },
    "colab_type": "code",
    "executionInfo": {
     "elapsed": 2448,
     "status": "ok",
     "timestamp": 1581918104056,
     "user": {
      "displayName": "Sharoon Saxena",
      "photoUrl": "https://lh3.googleusercontent.com/a-/AAuE7mA06b2KEfgpAIC1tQCip2ka2KqXrCY2GfWW9Fww=s64",
      "userId": "01167841530696023488"
     },
     "user_tz": -330
    },
    "id": "5Iy0lfDNNZ8U",
    "outputId": "30d083c8-0912-413d-ff9d-5ef39a15ead9"
   },
   "outputs": [],
   "source": [
    "#finding out the shape of the data using \"shape\" variable: Output (rows, columns)\n",
    "data.shape"
   ]
  },
  {
   "cell_type": "code",
   "execution_count": null,
   "metadata": {
    "colab": {
     "base_uri": "https://localhost:8080/"
    },
    "colab_type": "code",
    "executionInfo": {
     "elapsed": 2421,
     "status": "ok",
     "timestamp": 1581918104057,
     "user": {
      "displayName": "Sharoon Saxena",
      "photoUrl": "https://lh3.googleusercontent.com/a-/AAuE7mA06b2KEfgpAIC1tQCip2ka2KqXrCY2GfWW9Fww=s64",
      "userId": "01167841530696023488"
     },
     "user_tz": -330
    },
    "id": "b75gSeumN50y",
    "outputId": "26255077-749d-48e1-efa8-6b42a23fd38c"
   },
   "outputs": [],
   "source": [
    "#Printing all the columns present in data\n",
    "data.columns"
   ]
  },
  {
   "cell_type": "markdown",
   "metadata": {
    "colab_type": "text",
    "id": "qfZv5qTw4rm_"
   },
   "source": [
    "## Variable Identification and Typecasting"
   ]
  },
  {
   "cell_type": "code",
   "execution_count": null,
   "metadata": {
    "colab": {
     "base_uri": "https://localhost:8080/"
    },
    "colab_type": "code",
    "executionInfo": {
     "elapsed": 2411,
     "status": "ok",
     "timestamp": 1581918104058,
     "user": {
      "displayName": "Sharoon Saxena",
      "photoUrl": "https://lh3.googleusercontent.com/a-/AAuE7mA06b2KEfgpAIC1tQCip2ka2KqXrCY2GfWW9Fww=s64",
      "userId": "01167841530696023488"
     },
     "user_tz": -330
    },
    "id": "2_Us_uMgBnF_",
    "outputId": "9f8d6469-294f-4c30-c057-36cf63db2188"
   },
   "outputs": [],
   "source": [
    "# A closer look at the data types present in the data\n",
    "data.dtypes"
   ]
  },
  {
   "cell_type": "markdown",
   "metadata": {
    "colab_type": "text",
    "id": "yAh9MfrhFlBE"
   },
   "source": [
    "There are a lot of variables visible at one, so let's narrow this down by looking **at one datatype at once**. We will start with int\n"
   ]
  },
  {
   "cell_type": "markdown",
   "metadata": {
    "colab_type": "text",
    "id": "LLXc4D7n9GIP"
   },
   "source": [
    "### Integer Data Type"
   ]
  },
  {
   "cell_type": "code",
   "execution_count": null,
   "metadata": {
    "colab": {
     "base_uri": "https://localhost:8080/"
    },
    "colab_type": "code",
    "executionInfo": {
     "elapsed": 2397,
     "status": "ok",
     "timestamp": 1581918104058,
     "user": {
      "displayName": "Sharoon Saxena",
      "photoUrl": "https://lh3.googleusercontent.com/a-/AAuE7mA06b2KEfgpAIC1tQCip2ka2KqXrCY2GfWW9Fww=s64",
      "userId": "01167841530696023488"
     },
     "user_tz": -330
    },
    "id": "79o3VLDo-UcA",
    "outputId": "7beb5e26-a64f-42d2-a03b-d227d9fac6a0"
   },
   "outputs": [],
   "source": [
    "# Identifying variables with integer datatype\n",
    "data.dtypes[data.dtypes == 'int64']"
   ]
  },
  {
   "cell_type": "markdown",
   "metadata": {
    "colab_type": "text",
    "id": "Yix8gagv-gwr"
   },
   "source": [
    "Summary:\n",
    "\n",
    "*    **Customer id** are a unique number assigned to customers. It can be stored **as Integer**.\n",
    "\n",
    "*    **branch code** again represents different branches, therefore it should be **convereted to category**.\n",
    "\n",
    "*    **Age** and **Vintage** are also numbers and hence we are okay with them as integers.\n",
    "\n",
    "*    **customer_networth_category** is supposed to be an ordinal category, **should be converted to category**.\n",
    "\n",
    "*    **churn** : 1 represents the churn and 0 represents not churn. However, there is no comparison between these two categories. This **needs to be converted to category datatype**.\n"
   ]
  },
  {
   "cell_type": "code",
   "execution_count": null,
   "metadata": {
    "colab": {
     "base_uri": "https://localhost:8080/"
    },
    "colab_type": "code",
    "executionInfo": {
     "elapsed": 2372,
     "status": "ok",
     "timestamp": 1581918104059,
     "user": {
      "displayName": "Sharoon Saxena",
      "photoUrl": "https://lh3.googleusercontent.com/a-/AAuE7mA06b2KEfgpAIC1tQCip2ka2KqXrCY2GfWW9Fww=s64",
      "userId": "01167841530696023488"
     },
     "user_tz": -330
    },
    "id": "zjim6-_NDUOe",
    "outputId": "4e3b7e0e-f7be-47b7-8e60-d481a399245e"
   },
   "outputs": [],
   "source": [
    "# converting churn to category\n",
    "data['churn'] = data['churn'].astype('category')\n",
    "data['branch_code'] = data['branch_code'].astype('category')\n",
    "data['customer_nw_category'] = data['customer_nw_category'].astype('category')\n",
    "data.dtypes[data.dtypes == 'int64']"
   ]
  },
  {
   "cell_type": "markdown",
   "metadata": {
    "colab_type": "text",
    "id": "LRSHTCVY9MSl"
   },
   "source": [
    "### Float Data Type"
   ]
  },
  {
   "cell_type": "code",
   "execution_count": null,
   "metadata": {
    "colab": {
     "base_uri": "https://localhost:8080/"
    },
    "colab_type": "code",
    "executionInfo": {
     "elapsed": 2360,
     "status": "ok",
     "timestamp": 1581918104059,
     "user": {
      "displayName": "Sharoon Saxena",
      "photoUrl": "https://lh3.googleusercontent.com/a-/AAuE7mA06b2KEfgpAIC1tQCip2ka2KqXrCY2GfWW9Fww=s64",
      "userId": "01167841530696023488"
     },
     "user_tz": -330
    },
    "id": "W4teLfjkzWbg",
    "outputId": "ced78667-7a38-4679-91d8-a48b7c875aee"
   },
   "outputs": [],
   "source": [
    "# Identifying variables with float datatype\n",
    "data.dtypes[data.dtypes == 'float64']"
   ]
  },
  {
   "cell_type": "markdown",
   "metadata": {
    "colab_type": "text",
    "id": "Z-97-KADzlCu"
   },
   "source": [
    "Summary:\n",
    "\n",
    "*    **dependents** is expected to be a whole number. **Should be changed to integer type**\n",
    "\n",
    "*    **city** variable is also a unique code of a city represented by some interger number. **Should be converted to Category type**\n",
    "\n",
    "*    Rest of the variables like **credit, balance and debit** are best represented by the float variables."
   ]
  },
  {
   "cell_type": "code",
   "execution_count": null,
   "metadata": {
    "colab": {
     "base_uri": "https://localhost:8080/"
    },
    "colab_type": "code",
    "executionInfo": {
     "elapsed": 2344,
     "status": "ok",
     "timestamp": 1581918104060,
     "user": {
      "displayName": "Sharoon Saxena",
      "photoUrl": "https://lh3.googleusercontent.com/a-/AAuE7mA06b2KEfgpAIC1tQCip2ka2KqXrCY2GfWW9Fww=s64",
      "userId": "01167841530696023488"
     },
     "user_tz": -330
    },
    "id": "ElAZeyTjWIh2",
    "outputId": "87b7dfc4-c617-4479-f266-138f272fc96f"
   },
   "outputs": [],
   "source": [
    "# converting \"dependents\" and \"city\" to their respective types\n",
    "data['dependents'] = data['dependents'].astype('Int64')\n",
    "data['city'] = data['city'].astype('category')\n",
    "\n",
    "# checking\n",
    "data[['dependents','city']].dtypes"
   ]
  },
  {
   "cell_type": "markdown",
   "metadata": {
    "colab_type": "text",
    "id": "CkGScFSc_8Rl"
   },
   "source": [
    "### Object Data Type"
   ]
  },
  {
   "cell_type": "code",
   "execution_count": null,
   "metadata": {
    "colab": {
     "base_uri": "https://localhost:8080/"
    },
    "colab_type": "code",
    "executionInfo": {
     "elapsed": 2325,
     "status": "ok",
     "timestamp": 1581918104060,
     "user": {
      "displayName": "Sharoon Saxena",
      "photoUrl": "https://lh3.googleusercontent.com/a-/AAuE7mA06b2KEfgpAIC1tQCip2ka2KqXrCY2GfWW9Fww=s64",
      "userId": "01167841530696023488"
     },
     "user_tz": -330
    },
    "id": "_ou3CLuI9DwS",
    "outputId": "cd7999b0-2a21-45a9-d9e4-e20d560af741"
   },
   "outputs": [],
   "source": [
    "data.dtypes"
   ]
  },
  {
   "cell_type": "markdown",
   "metadata": {
    "colab_type": "text",
    "id": "fzLUCLSU_Hmk"
   },
   "source": [
    "*    **variables like 'gender', 'occupation' and 'last_transaction' are of type object**. This means that **Pandas was not able to recognise the datatype** of these three variables."
   ]
  },
  {
   "cell_type": "code",
   "execution_count": null,
   "metadata": {
    "colab": {
     "base_uri": "https://localhost:8080/"
    },
    "colab_type": "code",
    "executionInfo": {
     "elapsed": 2316,
     "status": "ok",
     "timestamp": 1581918104061,
     "user": {
      "displayName": "Sharoon Saxena",
      "photoUrl": "https://lh3.googleusercontent.com/a-/AAuE7mA06b2KEfgpAIC1tQCip2ka2KqXrCY2GfWW9Fww=s64",
      "userId": "01167841530696023488"
     },
     "user_tz": -330
    },
    "id": "fjOBy8qRaYfl",
    "outputId": "04802141-1690-4360-8b41-da87df5a95da"
   },
   "outputs": [],
   "source": [
    "# Manually checking object types\n",
    "data[['gender','occupation','last_transaction']].head(7)"
   ]
  },
  {
   "cell_type": "markdown",
   "metadata": {
    "colab_type": "text",
    "id": "8KOeDE6Bdlo4"
   },
   "source": [
    "*    **gender** and **occupation** variables **belong to categorical data types**.\n",
    "*    **last_transaction** should be a  **datetime variable**."
   ]
  },
  {
   "cell_type": "code",
   "execution_count": null,
   "metadata": {
    "colab": {
     "base_uri": "https://localhost:8080/"
    },
    "colab_type": "code",
    "executionInfo": {
     "elapsed": 2299,
     "status": "ok",
     "timestamp": 1581918104061,
     "user": {
      "displayName": "Sharoon Saxena",
      "photoUrl": "https://lh3.googleusercontent.com/a-/AAuE7mA06b2KEfgpAIC1tQCip2ka2KqXrCY2GfWW9Fww=s64",
      "userId": "01167841530696023488"
     },
     "user_tz": -330
    },
    "id": "WweHyTD1B-Hi",
    "outputId": "2cca2827-8ea7-4bea-af75-aef85663f7c6"
   },
   "outputs": [],
   "source": [
    "# typecasting \"gender\" and \"occupation\" to category type\n",
    "data['gender'] = data['gender'].astype('category')\n",
    "data['occupation'] = data['occupation'].astype('category')\n",
    "\n",
    "# checking\n",
    "data[['gender','occupation']].dtypes"
   ]
  },
  {
   "cell_type": "markdown",
   "metadata": {
    "colab_type": "text",
    "id": "mL6utzZVCXzZ"
   },
   "source": [
    "### datetime Data Type"
   ]
  },
  {
   "cell_type": "code",
   "execution_count": null,
   "metadata": {
    "colab": {},
    "colab_type": "code",
    "id": "rUW8X9y0cls5"
   },
   "outputs": [],
   "source": [
    "# creating an instance(date) of DatetimeIndex class using \"last_transaction\"\n",
    "date = pd.DatetimeIndex(data['last_transaction'])"
   ]
  },
  {
   "cell_type": "code",
   "execution_count": null,
   "metadata": {
    "colab": {},
    "colab_type": "code",
    "id": "BiDzZxipexc8"
   },
   "outputs": [],
   "source": [
    "# extracting new columns from \"last_transaction\"\n",
    "\n",
    "# last day of year when transaction was done\n",
    "data['doy_ls_tran'] = date.dayofyear\n",
    "\n",
    "# week of year when last transaction was done\n",
    "data['woy_ls_tran'] = date.weekofyear\n",
    "\n",
    "# month of year when last transaction was done\n",
    "data['moy_ls_tran'] = date.month\n",
    "\n",
    "# day of week when last transaction was done\n",
    "data['dow_ls_tran'] = date.dayofweek"
   ]
  },
  {
   "cell_type": "code",
   "execution_count": null,
   "metadata": {
    "colab": {
     "base_uri": "https://localhost:8080/"
    },
    "colab_type": "code",
    "executionInfo": {
     "elapsed": 2271,
     "status": "ok",
     "timestamp": 1581918104063,
     "user": {
      "displayName": "Sharoon Saxena",
      "photoUrl": "https://lh3.googleusercontent.com/a-/AAuE7mA06b2KEfgpAIC1tQCip2ka2KqXrCY2GfWW9Fww=s64",
      "userId": "01167841530696023488"
     },
     "user_tz": -330
    },
    "id": "HX959YsKk0ie",
    "outputId": "8c8082f7-81f5-4bc9-cc30-0e06305f4b5e"
   },
   "outputs": [],
   "source": [
    "# checking new extracted columns using datetime\n",
    "data[['last_transaction','doy_ls_tran','woy_ls_tran','moy_ls_tran','dow_ls_tran']].head()"
   ]
  },
  {
   "cell_type": "markdown",
   "metadata": {
    "colab_type": "text",
    "id": "ey6xOF4gqHu2"
   },
   "source": [
    "The first column is the complete date of the last transaction which was done by the any given customer.\n",
    "\n",
    "The next columns represent the day of year, week of year, month of year, day of week when the last transaction was done.\n",
    "\n",
    "**Breaking down the date variable** into these granular information will **help us in understand when the last transaction was done from different perspectives**. Now that we have extracted the essentials from the last_transaction variables, we will drop it from the dataset.\n",
    "\n"
   ]
  },
  {
   "cell_type": "code",
   "execution_count": null,
   "metadata": {
    "colab": {
     "base_uri": "https://localhost:8080/"
    },
    "colab_type": "code",
    "executionInfo": {
     "elapsed": 2262,
     "status": "ok",
     "timestamp": 1581918104064,
     "user": {
      "displayName": "Sharoon Saxena",
      "photoUrl": "https://lh3.googleusercontent.com/a-/AAuE7mA06b2KEfgpAIC1tQCip2ka2KqXrCY2GfWW9Fww=s64",
      "userId": "01167841530696023488"
     },
     "user_tz": -330
    },
    "id": "KVGFEI5aynYs",
    "outputId": "7d2273a7-0921-4d9c-8919-0774ffee3719",
    "scrolled": true
   },
   "outputs": [],
   "source": [
    "data = data.drop(columns = ['last_transaction'])\n",
    "data.dtypes"
   ]
  },
  {
   "cell_type": "markdown",
   "metadata": {
    "colab_type": "text",
    "id": "6PZEQUlXii1G"
   },
   "source": [
    "## Univariate Analysis: Numerical Variables\n",
    "\n",
    "Consider this link:  https://towardsdatascience.com/how-to-use-python-seaborn-for-exploratory-data-analysis-1a4850f48f14\n",
    "\n",
    "https://www.kite.com/blog/python/data-analysis-visualization-python/\n"
   ]
  },
  {
   "cell_type": "code",
   "execution_count": null,
   "metadata": {
    "colab": {
     "base_uri": "https://localhost:8080/",
     "height": 340
    },
    "colab_type": "code",
    "executionInfo": {
     "elapsed": 2247,
     "status": "ok",
     "timestamp": 1581918104065,
     "user": {
      "displayName": "Sharoon Saxena",
      "photoUrl": "https://lh3.googleusercontent.com/a-/AAuE7mA06b2KEfgpAIC1tQCip2ka2KqXrCY2GfWW9Fww=s64",
      "userId": "01167841530696023488"
     },
     "user_tz": -330
    },
    "id": "1O8cRBfvipvQ",
    "outputId": "afa2bb05-43e0-48f9-a269-492801815a4a",
    "scrolled": true
   },
   "outputs": [],
   "source": [
    "# Numerical datatypes\n",
    "data.select_dtypes(include=['int64','float64','Int64']).dtypes"
   ]
  },
  {
   "cell_type": "code",
   "execution_count": null,
   "metadata": {
    "colab": {},
    "colab_type": "code",
    "id": "CHPCzH5ujHGZ"
   },
   "outputs": [],
   "source": [
    "# segregating variables into groups\n",
    "customer_details = ['customer_id','age','vintage']\n",
    "current_month = ['current_balance','current_month_credit','current_month_debit','current_month_balance']\n",
    "previous_month = ['previous_month_end_balance','previous_month_credit','previous_month_debit','previous_month_balance']\n",
    "previous_quarters = ['average_monthly_balance_prevQ','average_monthly_balance_prevQ2']\n",
    "transaction_date = ['doy_ls_tran','woy_ls_tran','moy_ls_tran','dow_ls_tran']"
   ]
  },
  {
   "cell_type": "code",
   "execution_count": null,
   "metadata": {
    "colab": {},
    "colab_type": "code",
    "id": "nv_U-gn5jLhf"
   },
   "outputs": [],
   "source": [
    "# custom function for easy and efficient analysis of numerical univariate\n",
    "\n",
    "def UVA_numeric(data, var_group):\n",
    "  ''' \n",
    "  Univariate_Analysis_numeric\n",
    "  takes a group of variables (INTEGER and FLOAT) and plot/print all the descriptives and properties along with KDE.\n",
    "\n",
    "  Runs a loop: calculate all the descriptives of i(th) variable and plot/print it\n",
    "  '''\n",
    "\n",
    "  size = len(var_group)\n",
    "  plt.figure(figsize = (7*size,3), dpi = 100)\n",
    "  \n",
    "  #looping for each variable\n",
    "  for j,i in enumerate(var_group):\n",
    "    \n",
    "    # calculating descriptives of variable\n",
    "    mini = data[i].min()\n",
    "    maxi = data[i].max()\n",
    "    ran = data[i].max()-data[i].min()\n",
    "    mean = data[i].mean()\n",
    "    median = data[i].median()\n",
    "    st_dev = data[i].std()\n",
    "    skew = data[i].skew()\n",
    "    kurt = data[i].kurtosis()\n",
    "\n",
    "    # calculating points of standard deviation\n",
    "    points = mean-st_dev, mean+st_dev\n",
    "\n",
    "    #Plotting the variable with every information\n",
    "    plt.subplot(1,size,j+1)\n",
    "    sns.kdeplot(data[i], shade=True)\n",
    "    sns.lineplot(points, [0,0], color = 'black', label = \"std_dev\")\n",
    "    sns.scatterplot([mini,maxi], [0,0], color = 'orange', label = \"min/max\")\n",
    "    sns.scatterplot([mean], [0], color = 'red', label = \"mean\")\n",
    "    sns.scatterplot([median], [0], color = 'blue', label = \"median\")\n",
    "    plt.xlabel('{}'.format(i), fontsize = 20)\n",
    "    plt.ylabel('density')\n",
    "    plt.title('std_dev = {}; kurtosis = {};\\nskew = {}; range = {}\\nmean = {}; median = {}'.format((round(points[0],2),round(points[1],2)),\n",
    "                                                                                                   round(kurt,2),\n",
    "                                                                                                   round(skew,2),\n",
    "                                                                                                   (round(mini,2),round(maxi,2),round(ran,2)),\n",
    "                                                                                                   round(mean,2),\n",
    "                                                                                                   round(median,2)))"
   ]
  },
  {
   "cell_type": "markdown",
   "metadata": {
    "colab_type": "text",
    "id": "37Pk32OwisyT"
   },
   "source": [
    "### customer_information"
   ]
  },
  {
   "cell_type": "code",
   "execution_count": null,
   "metadata": {
    "colab": {
     "base_uri": "https://localhost:8080/",
     "height": 405
    },
    "colab_type": "code",
    "executionInfo": {
     "elapsed": 3192,
     "status": "ok",
     "timestamp": 1581921047381,
     "user": {
      "displayName": "Sharoon Saxena",
      "photoUrl": "https://lh3.googleusercontent.com/a-/AAuE7mA06b2KEfgpAIC1tQCip2ka2KqXrCY2GfWW9Fww=s64",
      "userId": "01167841530696023488"
     },
     "user_tz": -330
    },
    "id": "1YFj4I-wprgH",
    "outputId": "f59587a2-5928-4814-aea7-157fa51b8147"
   },
   "outputs": [],
   "source": [
    "UVA_numeric(data,customer_details)"
   ]
  },
  {
   "cell_type": "markdown",
   "metadata": {
    "colab_type": "text",
    "id": "xD-3il2nJt10"
   },
   "source": [
    "**Summary of Customer_Information:**\n",
    "*    **customer_id**:\n",
    "     *    variable is **unique for every customer, Hence uniform** distribution.\n",
    "     * This variable **does not contribute any information**\n",
    "     * Can be eliminated from data\n",
    "\n",
    "*    **age**:\n",
    "    *    Median Age = 46\n",
    "    *    **Most customers age between 30 to 66**\n",
    "    *    skewness +0.33 : customer age is **negligibly biased towards younger age**\n",
    "    *    **kurtosis = -0.17**; very less likely to have extreme/outlier values.\n",
    "*    **vintage:**\n",
    "    *    Most customers joined between 2100 and 2650 days from the day of data extraction.\n",
    "    *    **skewness** -1.42 : this is left skewed, **vintage variable is significantly biased towards longer association of customers.**\n",
    "    *    **Kurtosis = 2.93**: Extreme values and Outliers are very likely to be present in vintage.\n",
    "\n",
    "**Things to Investigate Further down the road:**\n",
    "*    The batch of **high number of very Old Age customers** in age variable."
   ]
  },
  {
   "cell_type": "markdown",
   "metadata": {
    "colab_type": "text",
    "id": "TiC2VomvlWS5"
   },
   "source": [
    "### current_month"
   ]
  },
  {
   "cell_type": "code",
   "execution_count": null,
   "metadata": {
    "colab": {
     "base_uri": "https://localhost:8080/",
     "height": 405
    },
    "colab_type": "code",
    "executionInfo": {
     "elapsed": 3569,
     "status": "ok",
     "timestamp": 1581921062533,
     "user": {
      "displayName": "Sharoon Saxena",
      "photoUrl": "https://lh3.googleusercontent.com/a-/AAuE7mA06b2KEfgpAIC1tQCip2ka2KqXrCY2GfWW9Fww=s64",
      "userId": "01167841530696023488"
     },
     "user_tz": -330
    },
    "id": "blZU92hHk81s",
    "outputId": "9380bcad-2c43-4acc-da8b-624c6ecc81cc"
   },
   "outputs": [],
   "source": [
    "UVA_numeric(data,current_month)"
   ]
  },
  {
   "cell_type": "markdown",
   "metadata": {
    "colab_type": "text",
    "id": "5J8ixOBgnE1O"
   },
   "source": [
    "**Summary**\n",
    "*    Considering the kurtosis and skewness value  for all 4 of these plots. Outliers/Extreme values are present."
   ]
  },
  {
   "cell_type": "markdown",
   "metadata": {
    "colab_type": "text",
    "id": "l9TpJ38koJbh"
   },
   "source": [
    "\n",
    "**Need to Remove Outliers to visulaise these plots**"
   ]
  },
  {
   "cell_type": "code",
   "execution_count": null,
   "metadata": {
    "colab": {
     "base_uri": "https://localhost:8080/",
     "height": 34
    },
    "colab_type": "code",
    "executionInfo": {
     "elapsed": 766,
     "status": "ok",
     "timestamp": 1581919913260,
     "user": {
      "displayName": "Sharoon Saxena",
      "photoUrl": "https://lh3.googleusercontent.com/a-/AAuE7mA06b2KEfgpAIC1tQCip2ka2KqXrCY2GfWW9Fww=s64",
      "userId": "01167841530696023488"
     },
     "user_tz": -330
    },
    "id": "Tvlh4yl1l5Tr",
    "outputId": "e8efaad8-46a7-4a8b-ad27-e30cb8913151"
   },
   "outputs": [],
   "source": [
    "# standard deviation factor - change 1 to 2 or 3 to see effect of 2 and 3 standard deviation\n",
    "factor = 3\n",
    "\n",
    "# copying current_month\n",
    "cm_data = data[current_month]\n",
    "\n",
    "# filtering using standard deviation (not considering obseravtions > 3* standard deviation)\n",
    "cm_data = cm_data[cm_data['current_balance'] < factor*cm_data['current_balance'].std()]\n",
    "cm_data = cm_data[cm_data['current_month_credit'] < factor*cm_data['current_month_credit'].std()]\n",
    "cm_data = cm_data[cm_data['current_month_debit'] < factor*cm_data['current_month_debit'].std()]\n",
    "cm_data = cm_data[cm_data['current_month_balance'] < factor*cm_data['current_month_balance'].std()]\n",
    "\n",
    "# checking how many points removed\n",
    "len(data), len(cm_data)"
   ]
  },
  {
   "cell_type": "code",
   "execution_count": null,
   "metadata": {
    "colab": {
     "base_uri": "https://localhost:8080/",
     "height": 405
    },
    "colab_type": "code",
    "executionInfo": {
     "elapsed": 3440,
     "status": "ok",
     "timestamp": 1581919917353,
     "user": {
      "displayName": "Sharoon Saxena",
      "photoUrl": "https://lh3.googleusercontent.com/a-/AAuE7mA06b2KEfgpAIC1tQCip2ka2KqXrCY2GfWW9Fww=s64",
      "userId": "01167841530696023488"
     },
     "user_tz": -330
    },
    "id": "n7eIx4invp0g",
    "outputId": "ab6dcd22-bdf3-4182-92e1-60c8b08824af"
   },
   "outputs": [],
   "source": [
    "UVA_numeric(cm_data,current_month)"
   ]
  },
  {
   "cell_type": "markdown",
   "metadata": {
    "colab_type": "text",
    "id": "c5T-Ldo0mLuJ"
   },
   "source": [
    "**Summary of current_month**\n",
    "*    After Removing extreme/outliers, plots are still very skewed.\n",
    "\n",
    "**Things to investigate further down**\n",
    "1.    **Is there any common trait/relation between the customers who are performing high transaction credit/debits?**\n",
    "2.    **Customers who are performing high amount of transactions, are they doing it every month?**"
   ]
  },
  {
   "cell_type": "markdown",
   "metadata": {
    "colab_type": "text",
    "id": "56ygh55Zok6v"
   },
   "source": [
    "### previous_month"
   ]
  },
  {
   "cell_type": "code",
   "execution_count": null,
   "metadata": {
    "colab": {
     "base_uri": "https://localhost:8080/",
     "height": 405
    },
    "colab_type": "code",
    "executionInfo": {
     "elapsed": 3441,
     "status": "ok",
     "timestamp": 1581919923499,
     "user": {
      "displayName": "Sharoon Saxena",
      "photoUrl": "https://lh3.googleusercontent.com/a-/AAuE7mA06b2KEfgpAIC1tQCip2ka2KqXrCY2GfWW9Fww=s64",
      "userId": "01167841530696023488"
     },
     "user_tz": -330
    },
    "id": "TjXX4cApwmc4",
    "outputId": "7307fe64-e2e5-4b51-d3d8-4b6c080f8bcd"
   },
   "outputs": [],
   "source": [
    "UVA_numeric(data,previous_month)"
   ]
  },
  {
   "cell_type": "markdown",
   "metadata": {
    "colab_type": "text",
    "id": "sNBUxvviqVGj"
   },
   "source": [
    "**Summary of previous_month**\n",
    "*    This looks very similar to current_month. Most of the customers perform low amount transactions."
   ]
  },
  {
   "cell_type": "markdown",
   "metadata": {
    "colab_type": "text",
    "id": "jFQ4BEyKrLkR"
   },
   "source": [
    "### previous_quarters"
   ]
  },
  {
   "cell_type": "code",
   "execution_count": null,
   "metadata": {
    "colab": {
     "base_uri": "https://localhost:8080/",
     "height": 385
    },
    "colab_type": "code",
    "executionInfo": {
     "elapsed": 1790,
     "status": "ok",
     "timestamp": 1581919938586,
     "user": {
      "displayName": "Sharoon Saxena",
      "photoUrl": "https://lh3.googleusercontent.com/a-/AAuE7mA06b2KEfgpAIC1tQCip2ka2KqXrCY2GfWW9Fww=s64",
      "userId": "01167841530696023488"
     },
     "user_tz": -330
    },
    "id": "0sUZY9X7owHI",
    "outputId": "977a798b-7f36-4b77-9961-657d6beb0449"
   },
   "outputs": [],
   "source": [
    "UVA_numeric(data,previous_quarters)"
   ]
  },
  {
   "cell_type": "markdown",
   "metadata": {
    "colab_type": "text",
    "id": "KTazVPaBwn3f"
   },
   "source": [
    "**Summary**\n",
    "\n",
    "The general trend still follows, it is crucial that we find out if there is any common trait between the customers doing high amount of transactions."
   ]
  },
  {
   "cell_type": "markdown",
   "metadata": {
    "colab_type": "text",
    "id": "kTqwU7fQ0jkI"
   },
   "source": [
    "### transaction_date"
   ]
  },
  {
   "cell_type": "code",
   "execution_count": null,
   "metadata": {
    "colab": {
     "base_uri": "https://localhost:8080/",
     "height": 405
    },
    "colab_type": "code",
    "executionInfo": {
     "elapsed": 3396,
     "status": "ok",
     "timestamp": 1581920741099,
     "user": {
      "displayName": "Sharoon Saxena",
      "photoUrl": "https://lh3.googleusercontent.com/a-/AAuE7mA06b2KEfgpAIC1tQCip2ka2KqXrCY2GfWW9Fww=s64",
      "userId": "01167841530696023488"
     },
     "user_tz": -330
    },
    "id": "Lt-oFFQCrVZ0",
    "outputId": "57f72a02-9ed9-433a-eb3d-a0658d59b8fe"
   },
   "outputs": [],
   "source": [
    "UVA_numeric(data,transaction_date)"
   ]
  },
  {
   "cell_type": "markdown",
   "metadata": {
    "colab_type": "text",
    "id": "TJyehftG4qDk"
   },
   "source": [
    "**Summary**\n",
    "*    **Day_of_Year**:\n",
    "    *    most of the last transactions were made in the last 60 days of the extraction of data.\n",
    "    *    There are transactions which were made more than an year ago.\n",
    "\n",
    "*   **Week_of_year and Month_of_year**: these variable validate the findings from the **day_of_year**.\n",
    "\n",
    "**Things to investigate further Down**\n",
    "*    **Customers whose last transaction was 6 months ago, did all of them churn?**"
   ]
  },
  {
   "cell_type": "code",
   "execution_count": null,
   "metadata": {
    "colab": {},
    "colab_type": "code",
    "id": "SLWcwsoa0tlN"
   },
   "outputs": [],
   "source": []
  },
  {
   "cell_type": "code",
   "execution_count": null,
   "metadata": {
    "colab": {},
    "colab_type": "code",
    "id": "UbVs2FLj_bac"
   },
   "outputs": [],
   "source": []
  }
 ],
 "metadata": {
  "colab": {
   "collapsed_sections": [],
   "name": "2. Univariate Analysis : Numerical Variables",
   "provenance": []
  },
  "kernelspec": {
   "display_name": "Python 3",
   "language": "python",
   "name": "python3"
  },
  "language_info": {
   "codemirror_mode": {
    "name": "ipython",
    "version": 3
   },
   "file_extension": ".py",
   "mimetype": "text/x-python",
   "name": "python",
   "nbconvert_exporter": "python",
   "pygments_lexer": "ipython3",
   "version": "3.8.5"
  }
 },
 "nbformat": 4,
 "nbformat_minor": 1
}
