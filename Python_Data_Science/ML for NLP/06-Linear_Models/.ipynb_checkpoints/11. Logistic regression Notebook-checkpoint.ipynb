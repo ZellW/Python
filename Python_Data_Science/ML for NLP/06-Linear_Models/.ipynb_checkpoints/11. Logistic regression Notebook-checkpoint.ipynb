{
 "cells": [
  {
   "cell_type": "markdown",
   "metadata": {
    "colab_type": "text",
    "id": "XHyuIcRGixQy"
   },
   "source": [
    "# Logistic Regression"
   ]
  },
  {
   "cell_type": "markdown",
   "metadata": {
    "colab_type": "text",
    "id": "MetALTTmQKkh"
   },
   "source": [
    "### Importing Libraries"
   ]
  },
  {
   "cell_type": "code",
   "execution_count": 1,
   "metadata": {
    "colab": {},
    "colab_type": "code",
    "id": "eWchGPfa9xW9"
   },
   "outputs": [],
   "source": [
    "#importing libraries \n",
    "import pandas as pd \n",
    "import numpy as np\n",
    "import matplotlib.pyplot as plt"
   ]
  },
  {
   "cell_type": "markdown",
   "metadata": {
    "colab_type": "text",
    "id": "tHKgifnpjyvh"
   },
   "source": [
    "### Importing the data"
   ]
  },
  {
   "cell_type": "code",
   "execution_count": 2,
   "metadata": {
    "colab": {
     "base_uri": "https://localhost:8080/",
     "height": 226
    },
    "colab_type": "code",
    "executionInfo": {
     "elapsed": 3051,
     "status": "ok",
     "timestamp": 1559907752330,
     "user": {
      "displayName": "Aishwarya Singh",
      "photoUrl": "https://lh5.googleusercontent.com/-72ZtNB76Qxg/AAAAAAAAAAI/AAAAAAAAAAc/Nsa5vQruND0/s64/photo.jpg",
      "userId": "01105858832371513140"
     },
     "user_tz": -330
    },
    "id": "NB5xYyHg9xXA",
    "outputId": "7eaac4d1-42cd-4178-96e1-e9ccabc75020"
   },
   "outputs": [
    {
     "data": {
      "text/html": [
       "<div>\n",
       "<style scoped>\n",
       "    .dataframe tbody tr th:only-of-type {\n",
       "        vertical-align: middle;\n",
       "    }\n",
       "\n",
       "    .dataframe tbody tr th {\n",
       "        vertical-align: top;\n",
       "    }\n",
       "\n",
       "    .dataframe thead th {\n",
       "        text-align: right;\n",
       "    }\n",
       "</style>\n",
       "<table border=\"1\" class=\"dataframe\">\n",
       "  <thead>\n",
       "    <tr style=\"text-align: right;\">\n",
       "      <th></th>\n",
       "      <th>Survived</th>\n",
       "      <th>Age</th>\n",
       "      <th>Fare</th>\n",
       "      <th>Pclass_1</th>\n",
       "      <th>Pclass_2</th>\n",
       "      <th>Pclass_3</th>\n",
       "      <th>Sex_female</th>\n",
       "      <th>Sex_male</th>\n",
       "      <th>SibSp_0</th>\n",
       "      <th>SibSp_1</th>\n",
       "      <th>...</th>\n",
       "      <th>Parch_0</th>\n",
       "      <th>Parch_1</th>\n",
       "      <th>Parch_2</th>\n",
       "      <th>Parch_3</th>\n",
       "      <th>Parch_4</th>\n",
       "      <th>Parch_5</th>\n",
       "      <th>Parch_6</th>\n",
       "      <th>Embarked_C</th>\n",
       "      <th>Embarked_Q</th>\n",
       "      <th>Embarked_S</th>\n",
       "    </tr>\n",
       "  </thead>\n",
       "  <tbody>\n",
       "    <tr>\n",
       "      <th>0</th>\n",
       "      <td>0</td>\n",
       "      <td>22.0</td>\n",
       "      <td>7.2500</td>\n",
       "      <td>0</td>\n",
       "      <td>0</td>\n",
       "      <td>1</td>\n",
       "      <td>0</td>\n",
       "      <td>1</td>\n",
       "      <td>0</td>\n",
       "      <td>1</td>\n",
       "      <td>...</td>\n",
       "      <td>1</td>\n",
       "      <td>0</td>\n",
       "      <td>0</td>\n",
       "      <td>0</td>\n",
       "      <td>0</td>\n",
       "      <td>0</td>\n",
       "      <td>0</td>\n",
       "      <td>0</td>\n",
       "      <td>0</td>\n",
       "      <td>1</td>\n",
       "    </tr>\n",
       "    <tr>\n",
       "      <th>1</th>\n",
       "      <td>1</td>\n",
       "      <td>38.0</td>\n",
       "      <td>71.2833</td>\n",
       "      <td>1</td>\n",
       "      <td>0</td>\n",
       "      <td>0</td>\n",
       "      <td>1</td>\n",
       "      <td>0</td>\n",
       "      <td>0</td>\n",
       "      <td>1</td>\n",
       "      <td>...</td>\n",
       "      <td>1</td>\n",
       "      <td>0</td>\n",
       "      <td>0</td>\n",
       "      <td>0</td>\n",
       "      <td>0</td>\n",
       "      <td>0</td>\n",
       "      <td>0</td>\n",
       "      <td>1</td>\n",
       "      <td>0</td>\n",
       "      <td>0</td>\n",
       "    </tr>\n",
       "    <tr>\n",
       "      <th>2</th>\n",
       "      <td>1</td>\n",
       "      <td>26.0</td>\n",
       "      <td>7.9250</td>\n",
       "      <td>0</td>\n",
       "      <td>0</td>\n",
       "      <td>1</td>\n",
       "      <td>1</td>\n",
       "      <td>0</td>\n",
       "      <td>1</td>\n",
       "      <td>0</td>\n",
       "      <td>...</td>\n",
       "      <td>1</td>\n",
       "      <td>0</td>\n",
       "      <td>0</td>\n",
       "      <td>0</td>\n",
       "      <td>0</td>\n",
       "      <td>0</td>\n",
       "      <td>0</td>\n",
       "      <td>0</td>\n",
       "      <td>0</td>\n",
       "      <td>1</td>\n",
       "    </tr>\n",
       "    <tr>\n",
       "      <th>3</th>\n",
       "      <td>1</td>\n",
       "      <td>35.0</td>\n",
       "      <td>53.1000</td>\n",
       "      <td>1</td>\n",
       "      <td>0</td>\n",
       "      <td>0</td>\n",
       "      <td>1</td>\n",
       "      <td>0</td>\n",
       "      <td>0</td>\n",
       "      <td>1</td>\n",
       "      <td>...</td>\n",
       "      <td>1</td>\n",
       "      <td>0</td>\n",
       "      <td>0</td>\n",
       "      <td>0</td>\n",
       "      <td>0</td>\n",
       "      <td>0</td>\n",
       "      <td>0</td>\n",
       "      <td>0</td>\n",
       "      <td>0</td>\n",
       "      <td>1</td>\n",
       "    </tr>\n",
       "    <tr>\n",
       "      <th>4</th>\n",
       "      <td>0</td>\n",
       "      <td>35.0</td>\n",
       "      <td>8.0500</td>\n",
       "      <td>0</td>\n",
       "      <td>0</td>\n",
       "      <td>1</td>\n",
       "      <td>0</td>\n",
       "      <td>1</td>\n",
       "      <td>1</td>\n",
       "      <td>0</td>\n",
       "      <td>...</td>\n",
       "      <td>1</td>\n",
       "      <td>0</td>\n",
       "      <td>0</td>\n",
       "      <td>0</td>\n",
       "      <td>0</td>\n",
       "      <td>0</td>\n",
       "      <td>0</td>\n",
       "      <td>0</td>\n",
       "      <td>0</td>\n",
       "      <td>1</td>\n",
       "    </tr>\n",
       "  </tbody>\n",
       "</table>\n",
       "<p>5 rows × 25 columns</p>\n",
       "</div>"
      ],
      "text/plain": [
       "   Survived   Age     Fare  Pclass_1  Pclass_2  Pclass_3  Sex_female  \\\n",
       "0         0  22.0   7.2500         0         0         1           0   \n",
       "1         1  38.0  71.2833         1         0         0           1   \n",
       "2         1  26.0   7.9250         0         0         1           1   \n",
       "3         1  35.0  53.1000         1         0         0           1   \n",
       "4         0  35.0   8.0500         0         0         1           0   \n",
       "\n",
       "   Sex_male  SibSp_0  SibSp_1  ...  Parch_0  Parch_1  Parch_2  Parch_3  \\\n",
       "0         1        0        1  ...        1        0        0        0   \n",
       "1         0        0        1  ...        1        0        0        0   \n",
       "2         0        1        0  ...        1        0        0        0   \n",
       "3         0        0        1  ...        1        0        0        0   \n",
       "4         1        1        0  ...        1        0        0        0   \n",
       "\n",
       "   Parch_4  Parch_5  Parch_6  Embarked_C  Embarked_Q  Embarked_S  \n",
       "0        0        0        0           0           0           1  \n",
       "1        0        0        0           1           0           0  \n",
       "2        0        0        0           0           0           1  \n",
       "3        0        0        0           0           0           1  \n",
       "4        0        0        0           0           0           1  \n",
       "\n",
       "[5 rows x 25 columns]"
      ]
     },
     "execution_count": 2,
     "metadata": {},
     "output_type": "execute_result"
    }
   ],
   "source": [
    "data = pd.read_csv('../data/data_cleaned.csv')\n",
    "data.head()"
   ]
  },
  {
   "cell_type": "markdown",
   "metadata": {
    "colab_type": "text",
    "id": "hGxgnJmxj3nv"
   },
   "source": [
    "### Segregating variables: Independent and Dependent Variables"
   ]
  },
  {
   "cell_type": "code",
   "execution_count": 19,
   "metadata": {
    "colab": {
     "base_uri": "https://localhost:8080/",
     "height": 34
    },
    "colab_type": "code",
    "executionInfo": {
     "elapsed": 2634,
     "status": "ok",
     "timestamp": 1559907752332,
     "user": {
      "displayName": "Aishwarya Singh",
      "photoUrl": "https://lh5.googleusercontent.com/-72ZtNB76Qxg/AAAAAAAAAAI/AAAAAAAAAAc/Nsa5vQruND0/s64/photo.jpg",
      "userId": "01105858832371513140"
     },
     "user_tz": -330
    },
    "id": "rym4fnPq9xXG",
    "outputId": "103a10b9-f5d8-4ae3-e3a1-c42a9a1a42f2"
   },
   "outputs": [
    {
     "data": {
      "text/plain": [
       "((891, 24), (891,))"
      ]
     },
     "execution_count": 19,
     "metadata": {},
     "output_type": "execute_result"
    }
   ],
   "source": [
    "#separating independent and dependent variables\n",
    "x = data.drop(['Survived'], axis=1)\n",
    "y = data['Survived']\n",
    "x.shape, y.shape"
   ]
  },
  {
   "cell_type": "markdown",
   "metadata": {
    "colab_type": "text",
    "id": "pAQY_EKnGpZ3"
   },
   "source": [
    "### Splitting the data into train set and the test set"
   ]
  },
  {
   "cell_type": "code",
   "execution_count": 20,
   "metadata": {
    "colab": {},
    "colab_type": "code",
    "id": "-PcDK1re9xXM"
   },
   "outputs": [],
   "source": [
    "# Importing the train test split function\n",
    "from sklearn.model_selection import train_test_split\n",
    "train_x,test_x,train_y,test_y = train_test_split(x,y, random_state = 56)"
   ]
  },
  {
   "cell_type": "markdown",
   "metadata": {
    "colab_type": "text",
    "id": "Fl_ddY0xgfl5"
   },
   "source": [
    "### Normalizing using *min_max_scaler*"
   ]
  },
  {
   "cell_type": "code",
   "execution_count": 21,
   "metadata": {
    "colab": {},
    "colab_type": "code",
    "id": "Tsoh_kCkgfmQ"
   },
   "outputs": [],
   "source": [
    "from sklearn.preprocessing import MinMaxScaler # sklearn requires normalization\n",
    "scaler = MinMaxScaler()"
   ]
  },
  {
   "cell_type": "code",
   "execution_count": 22,
   "metadata": {
    "colab": {
     "base_uri": "https://localhost:8080/",
     "height": 121
    },
    "colab_type": "code",
    "executionInfo": {
     "elapsed": 2846,
     "status": "ok",
     "timestamp": 1559907753469,
     "user": {
      "displayName": "Aishwarya Singh",
      "photoUrl": "https://lh5.googleusercontent.com/-72ZtNB76Qxg/AAAAAAAAAAI/AAAAAAAAAAc/Nsa5vQruND0/s64/photo.jpg",
      "userId": "01105858832371513140"
     },
     "user_tz": -330
    },
    "id": "-OpAcJQ7gfmj",
    "outputId": "d06ed210-cafc-41ee-f6fd-ace7e7f90710"
   },
   "outputs": [
    {
     "data": {
      "text/plain": [
       "Index(['Age', 'Fare', 'Pclass_1', 'Pclass_2', 'Pclass_3', 'Sex_female',\n",
       "       'Sex_male', 'SibSp_0', 'SibSp_1', 'SibSp_2', 'SibSp_3', 'SibSp_4',\n",
       "       'SibSp_5', 'SibSp_8', 'Parch_0', 'Parch_1', 'Parch_2', 'Parch_3',\n",
       "       'Parch_4', 'Parch_5', 'Parch_6', 'Embarked_C', 'Embarked_Q',\n",
       "       'Embarked_S'],\n",
       "      dtype='object')"
      ]
     },
     "execution_count": 22,
     "metadata": {},
     "output_type": "execute_result"
    }
   ],
   "source": [
    "cols = train_x.columns\n",
    "cols"
   ]
  },
  {
   "cell_type": "code",
   "execution_count": 23,
   "metadata": {
    "colab": {
     "base_uri": "https://localhost:8080/",
     "height": 226
    },
    "colab_type": "code",
    "executionInfo": {
     "elapsed": 2623,
     "status": "ok",
     "timestamp": 1559907753472,
     "user": {
      "displayName": "Aishwarya Singh",
      "photoUrl": "https://lh5.googleusercontent.com/-72ZtNB76Qxg/AAAAAAAAAAI/AAAAAAAAAAc/Nsa5vQruND0/s64/photo.jpg",
      "userId": "01105858832371513140"
     },
     "user_tz": -330
    },
    "id": "TqAHX6eYgfmy",
    "outputId": "eea41bdb-e250-4d8b-d72b-ac15b7322d04"
   },
   "outputs": [
    {
     "data": {
      "text/html": [
       "<div>\n",
       "<style scoped>\n",
       "    .dataframe tbody tr th:only-of-type {\n",
       "        vertical-align: middle;\n",
       "    }\n",
       "\n",
       "    .dataframe tbody tr th {\n",
       "        vertical-align: top;\n",
       "    }\n",
       "\n",
       "    .dataframe thead th {\n",
       "        text-align: right;\n",
       "    }\n",
       "</style>\n",
       "<table border=\"1\" class=\"dataframe\">\n",
       "  <thead>\n",
       "    <tr style=\"text-align: right;\">\n",
       "      <th></th>\n",
       "      <th>Age</th>\n",
       "      <th>Fare</th>\n",
       "      <th>Pclass_1</th>\n",
       "      <th>Pclass_2</th>\n",
       "      <th>Pclass_3</th>\n",
       "      <th>Sex_female</th>\n",
       "      <th>Sex_male</th>\n",
       "      <th>SibSp_0</th>\n",
       "      <th>SibSp_1</th>\n",
       "      <th>SibSp_2</th>\n",
       "      <th>...</th>\n",
       "      <th>Parch_0</th>\n",
       "      <th>Parch_1</th>\n",
       "      <th>Parch_2</th>\n",
       "      <th>Parch_3</th>\n",
       "      <th>Parch_4</th>\n",
       "      <th>Parch_5</th>\n",
       "      <th>Parch_6</th>\n",
       "      <th>Embarked_C</th>\n",
       "      <th>Embarked_Q</th>\n",
       "      <th>Embarked_S</th>\n",
       "    </tr>\n",
       "  </thead>\n",
       "  <tbody>\n",
       "    <tr>\n",
       "      <th>0</th>\n",
       "      <td>0.371701</td>\n",
       "      <td>0.024350</td>\n",
       "      <td>0.0</td>\n",
       "      <td>0.0</td>\n",
       "      <td>1.0</td>\n",
       "      <td>1.0</td>\n",
       "      <td>0.0</td>\n",
       "      <td>1.0</td>\n",
       "      <td>0.0</td>\n",
       "      <td>0.0</td>\n",
       "      <td>...</td>\n",
       "      <td>1.0</td>\n",
       "      <td>0.0</td>\n",
       "      <td>0.0</td>\n",
       "      <td>0.0</td>\n",
       "      <td>0.0</td>\n",
       "      <td>0.0</td>\n",
       "      <td>0.0</td>\n",
       "      <td>0.0</td>\n",
       "      <td>0.0</td>\n",
       "      <td>1.0</td>\n",
       "    </tr>\n",
       "    <tr>\n",
       "      <th>1</th>\n",
       "      <td>0.334004</td>\n",
       "      <td>0.016908</td>\n",
       "      <td>0.0</td>\n",
       "      <td>0.0</td>\n",
       "      <td>1.0</td>\n",
       "      <td>0.0</td>\n",
       "      <td>1.0</td>\n",
       "      <td>1.0</td>\n",
       "      <td>0.0</td>\n",
       "      <td>0.0</td>\n",
       "      <td>...</td>\n",
       "      <td>1.0</td>\n",
       "      <td>0.0</td>\n",
       "      <td>0.0</td>\n",
       "      <td>0.0</td>\n",
       "      <td>0.0</td>\n",
       "      <td>0.0</td>\n",
       "      <td>0.0</td>\n",
       "      <td>0.0</td>\n",
       "      <td>0.0</td>\n",
       "      <td>1.0</td>\n",
       "    </tr>\n",
       "    <tr>\n",
       "      <th>2</th>\n",
       "      <td>0.396833</td>\n",
       "      <td>0.015127</td>\n",
       "      <td>0.0</td>\n",
       "      <td>0.0</td>\n",
       "      <td>1.0</td>\n",
       "      <td>0.0</td>\n",
       "      <td>1.0</td>\n",
       "      <td>1.0</td>\n",
       "      <td>0.0</td>\n",
       "      <td>0.0</td>\n",
       "      <td>...</td>\n",
       "      <td>1.0</td>\n",
       "      <td>0.0</td>\n",
       "      <td>0.0</td>\n",
       "      <td>0.0</td>\n",
       "      <td>0.0</td>\n",
       "      <td>0.0</td>\n",
       "      <td>0.0</td>\n",
       "      <td>0.0</td>\n",
       "      <td>1.0</td>\n",
       "      <td>0.0</td>\n",
       "    </tr>\n",
       "    <tr>\n",
       "      <th>3</th>\n",
       "      <td>0.786378</td>\n",
       "      <td>0.152164</td>\n",
       "      <td>1.0</td>\n",
       "      <td>0.0</td>\n",
       "      <td>0.0</td>\n",
       "      <td>1.0</td>\n",
       "      <td>0.0</td>\n",
       "      <td>0.0</td>\n",
       "      <td>1.0</td>\n",
       "      <td>0.0</td>\n",
       "      <td>...</td>\n",
       "      <td>1.0</td>\n",
       "      <td>0.0</td>\n",
       "      <td>0.0</td>\n",
       "      <td>0.0</td>\n",
       "      <td>0.0</td>\n",
       "      <td>0.0</td>\n",
       "      <td>0.0</td>\n",
       "      <td>0.0</td>\n",
       "      <td>0.0</td>\n",
       "      <td>1.0</td>\n",
       "    </tr>\n",
       "    <tr>\n",
       "      <th>4</th>\n",
       "      <td>0.334004</td>\n",
       "      <td>0.412821</td>\n",
       "      <td>1.0</td>\n",
       "      <td>0.0</td>\n",
       "      <td>0.0</td>\n",
       "      <td>0.0</td>\n",
       "      <td>1.0</td>\n",
       "      <td>1.0</td>\n",
       "      <td>0.0</td>\n",
       "      <td>0.0</td>\n",
       "      <td>...</td>\n",
       "      <td>0.0</td>\n",
       "      <td>0.0</td>\n",
       "      <td>1.0</td>\n",
       "      <td>0.0</td>\n",
       "      <td>0.0</td>\n",
       "      <td>0.0</td>\n",
       "      <td>0.0</td>\n",
       "      <td>1.0</td>\n",
       "      <td>0.0</td>\n",
       "      <td>0.0</td>\n",
       "    </tr>\n",
       "  </tbody>\n",
       "</table>\n",
       "<p>5 rows × 24 columns</p>\n",
       "</div>"
      ],
      "text/plain": [
       "        Age      Fare  Pclass_1  Pclass_2  Pclass_3  Sex_female  Sex_male  \\\n",
       "0  0.371701  0.024350       0.0       0.0       1.0         1.0       0.0   \n",
       "1  0.334004  0.016908       0.0       0.0       1.0         0.0       1.0   \n",
       "2  0.396833  0.015127       0.0       0.0       1.0         0.0       1.0   \n",
       "3  0.786378  0.152164       1.0       0.0       0.0         1.0       0.0   \n",
       "4  0.334004  0.412821       1.0       0.0       0.0         0.0       1.0   \n",
       "\n",
       "   SibSp_0  SibSp_1  SibSp_2  ...  Parch_0  Parch_1  Parch_2  Parch_3  \\\n",
       "0      1.0      0.0      0.0  ...      1.0      0.0      0.0      0.0   \n",
       "1      1.0      0.0      0.0  ...      1.0      0.0      0.0      0.0   \n",
       "2      1.0      0.0      0.0  ...      1.0      0.0      0.0      0.0   \n",
       "3      0.0      1.0      0.0  ...      1.0      0.0      0.0      0.0   \n",
       "4      1.0      0.0      0.0  ...      0.0      0.0      1.0      0.0   \n",
       "\n",
       "   Parch_4  Parch_5  Parch_6  Embarked_C  Embarked_Q  Embarked_S  \n",
       "0      0.0      0.0      0.0         0.0         0.0         1.0  \n",
       "1      0.0      0.0      0.0         0.0         0.0         1.0  \n",
       "2      0.0      0.0      0.0         0.0         1.0         0.0  \n",
       "3      0.0      0.0      0.0         0.0         0.0         1.0  \n",
       "4      0.0      0.0      0.0         1.0         0.0         0.0  \n",
       "\n",
       "[5 rows x 24 columns]"
      ]
     },
     "execution_count": 23,
     "metadata": {},
     "output_type": "execute_result"
    }
   ],
   "source": [
    "train_x_scaled = scaler.fit_transform(train_x)\n",
    "train_x_scaled = pd.DataFrame(train_x_scaled, columns=cols)\n",
    "train_x_scaled.head()"
   ]
  },
  {
   "cell_type": "code",
   "execution_count": 24,
   "metadata": {
    "colab": {
     "base_uri": "https://localhost:8080/",
     "height": 226
    },
    "colab_type": "code",
    "executionInfo": {
     "elapsed": 2421,
     "status": "ok",
     "timestamp": 1559907753473,
     "user": {
      "displayName": "Aishwarya Singh",
      "photoUrl": "https://lh5.googleusercontent.com/-72ZtNB76Qxg/AAAAAAAAAAI/AAAAAAAAAAc/Nsa5vQruND0/s64/photo.jpg",
      "userId": "01105858832371513140"
     },
     "user_tz": -330
    },
    "id": "p4BEqpnpgfnB",
    "outputId": "2ced4da2-ae4e-4f54-da25-269453cd9e25"
   },
   "outputs": [
    {
     "data": {
      "text/html": [
       "<div>\n",
       "<style scoped>\n",
       "    .dataframe tbody tr th:only-of-type {\n",
       "        vertical-align: middle;\n",
       "    }\n",
       "\n",
       "    .dataframe tbody tr th {\n",
       "        vertical-align: top;\n",
       "    }\n",
       "\n",
       "    .dataframe thead th {\n",
       "        text-align: right;\n",
       "    }\n",
       "</style>\n",
       "<table border=\"1\" class=\"dataframe\">\n",
       "  <thead>\n",
       "    <tr style=\"text-align: right;\">\n",
       "      <th></th>\n",
       "      <th>Age</th>\n",
       "      <th>Fare</th>\n",
       "      <th>Pclass_1</th>\n",
       "      <th>Pclass_2</th>\n",
       "      <th>Pclass_3</th>\n",
       "      <th>Sex_female</th>\n",
       "      <th>Sex_male</th>\n",
       "      <th>SibSp_0</th>\n",
       "      <th>SibSp_1</th>\n",
       "      <th>SibSp_2</th>\n",
       "      <th>...</th>\n",
       "      <th>Parch_0</th>\n",
       "      <th>Parch_1</th>\n",
       "      <th>Parch_2</th>\n",
       "      <th>Parch_3</th>\n",
       "      <th>Parch_4</th>\n",
       "      <th>Parch_5</th>\n",
       "      <th>Parch_6</th>\n",
       "      <th>Embarked_C</th>\n",
       "      <th>Embarked_Q</th>\n",
       "      <th>Embarked_S</th>\n",
       "    </tr>\n",
       "  </thead>\n",
       "  <tbody>\n",
       "    <tr>\n",
       "      <th>0</th>\n",
       "      <td>0.396833</td>\n",
       "      <td>0.143462</td>\n",
       "      <td>0.0</td>\n",
       "      <td>1.0</td>\n",
       "      <td>0.0</td>\n",
       "      <td>0.0</td>\n",
       "      <td>1.0</td>\n",
       "      <td>0.0</td>\n",
       "      <td>0.0</td>\n",
       "      <td>1.0</td>\n",
       "      <td>...</td>\n",
       "      <td>1.0</td>\n",
       "      <td>0.0</td>\n",
       "      <td>0.0</td>\n",
       "      <td>0.0</td>\n",
       "      <td>0.0</td>\n",
       "      <td>0.0</td>\n",
       "      <td>0.0</td>\n",
       "      <td>0.0</td>\n",
       "      <td>0.0</td>\n",
       "      <td>1.0</td>\n",
       "    </tr>\n",
       "    <tr>\n",
       "      <th>1</th>\n",
       "      <td>0.359135</td>\n",
       "      <td>0.129995</td>\n",
       "      <td>1.0</td>\n",
       "      <td>0.0</td>\n",
       "      <td>0.0</td>\n",
       "      <td>0.0</td>\n",
       "      <td>1.0</td>\n",
       "      <td>0.0</td>\n",
       "      <td>1.0</td>\n",
       "      <td>0.0</td>\n",
       "      <td>...</td>\n",
       "      <td>1.0</td>\n",
       "      <td>0.0</td>\n",
       "      <td>0.0</td>\n",
       "      <td>0.0</td>\n",
       "      <td>0.0</td>\n",
       "      <td>0.0</td>\n",
       "      <td>0.0</td>\n",
       "      <td>0.0</td>\n",
       "      <td>0.0</td>\n",
       "      <td>1.0</td>\n",
       "    </tr>\n",
       "    <tr>\n",
       "      <th>2</th>\n",
       "      <td>0.367921</td>\n",
       "      <td>0.014110</td>\n",
       "      <td>0.0</td>\n",
       "      <td>0.0</td>\n",
       "      <td>1.0</td>\n",
       "      <td>0.0</td>\n",
       "      <td>1.0</td>\n",
       "      <td>1.0</td>\n",
       "      <td>0.0</td>\n",
       "      <td>0.0</td>\n",
       "      <td>...</td>\n",
       "      <td>1.0</td>\n",
       "      <td>0.0</td>\n",
       "      <td>0.0</td>\n",
       "      <td>0.0</td>\n",
       "      <td>0.0</td>\n",
       "      <td>0.0</td>\n",
       "      <td>0.0</td>\n",
       "      <td>1.0</td>\n",
       "      <td>0.0</td>\n",
       "      <td>0.0</td>\n",
       "    </tr>\n",
       "    <tr>\n",
       "      <th>3</th>\n",
       "      <td>0.346569</td>\n",
       "      <td>0.025374</td>\n",
       "      <td>0.0</td>\n",
       "      <td>1.0</td>\n",
       "      <td>0.0</td>\n",
       "      <td>1.0</td>\n",
       "      <td>0.0</td>\n",
       "      <td>1.0</td>\n",
       "      <td>0.0</td>\n",
       "      <td>0.0</td>\n",
       "      <td>...</td>\n",
       "      <td>1.0</td>\n",
       "      <td>0.0</td>\n",
       "      <td>0.0</td>\n",
       "      <td>0.0</td>\n",
       "      <td>0.0</td>\n",
       "      <td>0.0</td>\n",
       "      <td>0.0</td>\n",
       "      <td>0.0</td>\n",
       "      <td>0.0</td>\n",
       "      <td>1.0</td>\n",
       "    </tr>\n",
       "    <tr>\n",
       "      <th>4</th>\n",
       "      <td>0.371701</td>\n",
       "      <td>0.054164</td>\n",
       "      <td>1.0</td>\n",
       "      <td>0.0</td>\n",
       "      <td>0.0</td>\n",
       "      <td>0.0</td>\n",
       "      <td>1.0</td>\n",
       "      <td>1.0</td>\n",
       "      <td>0.0</td>\n",
       "      <td>0.0</td>\n",
       "      <td>...</td>\n",
       "      <td>1.0</td>\n",
       "      <td>0.0</td>\n",
       "      <td>0.0</td>\n",
       "      <td>0.0</td>\n",
       "      <td>0.0</td>\n",
       "      <td>0.0</td>\n",
       "      <td>0.0</td>\n",
       "      <td>1.0</td>\n",
       "      <td>0.0</td>\n",
       "      <td>0.0</td>\n",
       "    </tr>\n",
       "  </tbody>\n",
       "</table>\n",
       "<p>5 rows × 24 columns</p>\n",
       "</div>"
      ],
      "text/plain": [
       "        Age      Fare  Pclass_1  Pclass_2  Pclass_3  Sex_female  Sex_male  \\\n",
       "0  0.396833  0.143462       0.0       1.0       0.0         0.0       1.0   \n",
       "1  0.359135  0.129995       1.0       0.0       0.0         0.0       1.0   \n",
       "2  0.367921  0.014110       0.0       0.0       1.0         0.0       1.0   \n",
       "3  0.346569  0.025374       0.0       1.0       0.0         1.0       0.0   \n",
       "4  0.371701  0.054164       1.0       0.0       0.0         0.0       1.0   \n",
       "\n",
       "   SibSp_0  SibSp_1  SibSp_2  ...  Parch_0  Parch_1  Parch_2  Parch_3  \\\n",
       "0      0.0      0.0      1.0  ...      1.0      0.0      0.0      0.0   \n",
       "1      0.0      1.0      0.0  ...      1.0      0.0      0.0      0.0   \n",
       "2      1.0      0.0      0.0  ...      1.0      0.0      0.0      0.0   \n",
       "3      1.0      0.0      0.0  ...      1.0      0.0      0.0      0.0   \n",
       "4      1.0      0.0      0.0  ...      1.0      0.0      0.0      0.0   \n",
       "\n",
       "   Parch_4  Parch_5  Parch_6  Embarked_C  Embarked_Q  Embarked_S  \n",
       "0      0.0      0.0      0.0         0.0         0.0         1.0  \n",
       "1      0.0      0.0      0.0         0.0         0.0         1.0  \n",
       "2      0.0      0.0      0.0         1.0         0.0         0.0  \n",
       "3      0.0      0.0      0.0         0.0         0.0         1.0  \n",
       "4      0.0      0.0      0.0         1.0         0.0         0.0  \n",
       "\n",
       "[5 rows x 24 columns]"
      ]
     },
     "execution_count": 24,
     "metadata": {},
     "output_type": "execute_result"
    }
   ],
   "source": [
    "test_x_scaled = scaler.transform(test_x)\n",
    "test_x_scaled = pd.DataFrame(test_x_scaled, columns=cols)\n",
    "test_x_scaled.head()"
   ]
  },
  {
   "cell_type": "markdown",
   "metadata": {
    "colab_type": "text",
    "id": "WvsDKzjdyNWi"
   },
   "source": [
    "### Implementing Logistic Regression"
   ]
  },
  {
   "cell_type": "code",
   "execution_count": 25,
   "metadata": {
    "colab": {},
    "colab_type": "code",
    "id": "yCG2gM5KyM-1"
   },
   "outputs": [],
   "source": [
    "#importing Logistic Regression and metric F1-score\n",
    "from sklearn.linear_model import LogisticRegression as LogReg\n",
    "from sklearn.metrics import f1_score"
   ]
  },
  {
   "cell_type": "code",
   "execution_count": 26,
   "metadata": {
    "colab": {
     "base_uri": "https://localhost:8080/",
     "height": 159
    },
    "colab_type": "code",
    "executionInfo": {
     "elapsed": 2906,
     "status": "ok",
     "timestamp": 1559907754529,
     "user": {
      "displayName": "Aishwarya Singh",
      "photoUrl": "https://lh5.googleusercontent.com/-72ZtNB76Qxg/AAAAAAAAAAI/AAAAAAAAAAc/Nsa5vQruND0/s64/photo.jpg",
      "userId": "01105858832371513140"
     },
     "user_tz": -330
    },
    "id": "TFrwDTRdybYF",
    "outputId": "be6a8867-192c-445b-a4ef-6ef855d43c89"
   },
   "outputs": [
    {
     "name": "stderr",
     "output_type": "stream",
     "text": [
      "C:\\Users\\czwea\\anaconda3\\lib\\site-packages\\sklearn\\linear_model\\_logistic.py:762: ConvergenceWarning: lbfgs failed to converge (status=1):\n",
      "STOP: TOTAL NO. of ITERATIONS REACHED LIMIT.\n",
      "\n",
      "Increase the number of iterations (max_iter) or scale the data as shown in:\n",
      "    https://scikit-learn.org/stable/modules/preprocessing.html\n",
      "Please also refer to the documentation for alternative solver options:\n",
      "    https://scikit-learn.org/stable/modules/linear_model.html#logistic-regression\n",
      "  n_iter_i = _check_optimize_result(\n"
     ]
    },
    {
     "data": {
      "text/plain": [
       "LogisticRegression()"
      ]
     },
     "execution_count": 26,
     "metadata": {},
     "output_type": "execute_result"
    }
   ],
   "source": [
    "# Creating instance of Logistic Regresssion\n",
    "logreg = LogReg()\n",
    "\n",
    "# Fitting the model\n",
    "logreg.fit(train_x, train_y)"
   ]
  },
  {
   "cell_type": "markdown",
   "metadata": {
    "colab_type": "text",
    "id": "ll87PoJuPI4n"
   },
   "source": [
    "### Making predictions using *predict* function"
   ]
  },
  {
   "cell_type": "code",
   "execution_count": 27,
   "metadata": {
    "colab": {
     "base_uri": "https://localhost:8080/",
     "height": 555
    },
    "colab_type": "code",
    "executionInfo": {
     "elapsed": 2419,
     "status": "ok",
     "timestamp": 1559907754532,
     "user": {
      "displayName": "Aishwarya Singh",
      "photoUrl": "https://lh5.googleusercontent.com/-72ZtNB76Qxg/AAAAAAAAAAI/AAAAAAAAAAc/Nsa5vQruND0/s64/photo.jpg",
      "userId": "01105858832371513140"
     },
     "user_tz": -330
    },
    "id": "8lCGfbmBI-kj",
    "outputId": "4947b5a9-9709-4629-f85a-d018c369aa1e"
   },
   "outputs": [
    {
     "data": {
      "text/plain": [
       "array([0, 0, 0, 1, 1, 0, 1, 1, 1, 0, 0, 0, 0, 0, 1, 0, 0, 0, 0, 0, 0, 0,\n",
       "       0, 1, 0, 1, 0, 1, 1, 0, 1, 0, 1, 0, 0, 1, 0, 0, 0, 0, 1, 0, 0, 1,\n",
       "       0, 1, 0, 0, 0, 1, 0, 1, 0, 1, 0, 1, 1, 0, 0, 0, 1, 0, 0, 0, 0, 1,\n",
       "       0, 0, 1, 1, 1, 1, 1, 0, 1, 0, 1, 1, 1, 0, 1, 0, 0, 0, 1, 1, 1, 0,\n",
       "       0, 1, 0, 0, 0, 0, 0, 1, 0, 0, 1, 1, 0, 0, 0, 0, 0, 0, 0, 0, 1, 0,\n",
       "       0, 0, 0, 0, 1, 0, 0, 1, 0, 0, 0, 0, 0, 0, 1, 0, 0, 1, 0, 1, 0, 0,\n",
       "       0, 1, 0, 0, 0, 0, 0, 1, 1, 0, 1, 0, 0, 0, 0, 1, 1, 1, 1, 0, 1, 0,\n",
       "       0, 0, 0, 0, 0, 1, 0, 0, 0, 1, 0, 0, 0, 1, 0, 1, 0, 1, 1, 0, 0, 0,\n",
       "       1, 0, 0, 0, 0, 0, 0, 0, 1, 0, 1, 0, 0, 0, 0, 0, 1, 0, 0, 0, 0, 1,\n",
       "       1, 0, 0, 0, 1, 0, 0, 1, 1, 0, 1, 0, 1, 1, 0, 0, 1, 0, 0, 1, 1, 0,\n",
       "       0, 0, 0, 1, 0, 0, 0, 1, 0, 0, 1, 0, 0, 0, 0, 1, 0, 1, 0, 0, 0, 0,\n",
       "       0, 0, 1, 0, 1, 0, 1, 0, 1, 0, 1, 1, 1, 0, 0, 0, 0, 0, 0, 1, 0, 0,\n",
       "       1, 0, 1, 0, 0, 0, 1, 0, 1, 1, 0, 0, 0, 0, 0, 0, 0, 0, 1, 0, 0, 0,\n",
       "       0, 1, 0, 1, 1, 1, 1, 0, 0, 1, 0, 0, 1, 0, 1, 0, 0, 0, 0, 0, 0, 0,\n",
       "       0, 1, 1, 0, 0, 0, 0, 0, 0, 0, 0, 1, 0, 0, 1, 1, 0, 0, 1, 0, 0, 0,\n",
       "       0, 0, 0, 0, 0, 0, 0, 0, 1, 0, 0, 1, 0, 0, 0, 0, 1, 0, 0, 0, 0, 0,\n",
       "       1, 0, 0, 1, 0, 0, 0, 0, 1, 1, 0, 0, 0, 1, 0, 0, 1, 1, 1, 1, 0, 1,\n",
       "       0, 0, 0, 0, 1, 1, 0, 1, 0, 0, 0, 1, 0, 0, 0, 1, 0, 0, 1, 0, 0, 1,\n",
       "       1, 0, 0, 1, 1, 1, 1, 1, 0, 0, 0, 0, 1, 0, 0, 1, 0, 0, 0, 0, 1, 1,\n",
       "       1, 1, 0, 1, 1, 0, 1, 0, 1, 0, 0, 0, 1, 1, 0, 0, 0, 1, 0, 0, 1, 0,\n",
       "       0, 0, 1, 0, 1, 1, 1, 1, 1, 1, 1, 0, 0, 0, 0, 1, 0, 0, 0, 0, 0, 0,\n",
       "       1, 1, 1, 0, 0, 1, 0, 1, 1, 1, 1, 1, 0, 0, 1, 0, 0, 1, 1, 1, 0, 0,\n",
       "       1, 0, 0, 0, 1, 0, 0, 0, 1, 1, 0, 1, 1, 0, 0, 0, 0, 0, 0, 1, 0, 0,\n",
       "       1, 0, 0, 0, 1, 0, 1, 0, 0, 0, 0, 0, 0, 0, 0, 1, 0, 1, 1, 0, 0, 1,\n",
       "       0, 0, 0, 1, 0, 0, 0, 0, 1, 0, 0, 0, 1, 0, 1, 1, 0, 0, 1, 1, 0, 0,\n",
       "       0, 0, 0, 1, 0, 1, 0, 0, 0, 1, 1, 0, 0, 0, 1, 0, 1, 1, 1, 1, 0, 1,\n",
       "       0, 1, 0, 0, 0, 0, 0, 1, 0, 0, 1, 0, 0, 0, 1, 0, 0, 0, 1, 1, 0, 0,\n",
       "       1, 1, 0, 0, 0, 0, 1, 0, 1, 0, 1, 1, 0, 0, 0, 0, 0, 0, 1, 0, 1, 1,\n",
       "       0, 0, 0, 1, 0, 1, 0, 0, 0, 1, 0, 1, 1, 0, 0, 0, 0, 0, 0, 0, 0, 1,\n",
       "       1, 1, 0, 0, 0, 1, 0, 0, 1, 1, 0, 1, 1, 0, 1, 1, 1, 0, 1, 1, 0, 0,\n",
       "       1, 0, 0, 0, 1, 1, 1, 1], dtype=int64)"
      ]
     },
     "execution_count": 27,
     "metadata": {},
     "output_type": "execute_result"
    }
   ],
   "source": [
    "# Predicting over the Train\n",
    "train_predict = logreg.predict(train_x)\n",
    "train_predict"
   ]
  },
  {
   "cell_type": "code",
   "execution_count": 28,
   "metadata": {
    "colab": {
     "base_uri": "https://localhost:8080/",
     "height": 34
    },
    "colab_type": "code",
    "executionInfo": {
     "elapsed": 2258,
     "status": "ok",
     "timestamp": 1559907754533,
     "user": {
      "displayName": "Aishwarya Singh",
      "photoUrl": "https://lh5.googleusercontent.com/-72ZtNB76Qxg/AAAAAAAAAAI/AAAAAAAAAAc/Nsa5vQruND0/s64/photo.jpg",
      "userId": "01105858832371513140"
     },
     "user_tz": -330
    },
    "id": "7zgQQS_abvKE",
    "outputId": "9c38b16d-544e-446e-f7f4-dd11003824be"
   },
   "outputs": [
    {
     "name": "stdout",
     "output_type": "stream",
     "text": [
      "Training f1_score 0.7514910536779325\n"
     ]
    }
   ],
   "source": [
    "# Calculating f1-score\n",
    "k = f1_score(train_predict, train_y)\n",
    "print('Training f1_score', k )"
   ]
  },
  {
   "cell_type": "code",
   "execution_count": 29,
   "metadata": {
    "colab": {
     "base_uri": "https://localhost:8080/",
     "height": 34
    },
    "colab_type": "code",
    "executionInfo": {
     "elapsed": 3721,
     "status": "ok",
     "timestamp": 1559907756193,
     "user": {
      "displayName": "Aishwarya Singh",
      "photoUrl": "https://lh5.googleusercontent.com/-72ZtNB76Qxg/AAAAAAAAAAI/AAAAAAAAAAc/Nsa5vQruND0/s64/photo.jpg",
      "userId": "01105858832371513140"
     },
     "user_tz": -330
    },
    "id": "Wf4id-DOJCsn",
    "outputId": "cfc4c660-1865-426c-d37d-6a5ae26dd8a4"
   },
   "outputs": [
    {
     "name": "stdout",
     "output_type": "stream",
     "text": [
      "Test f1_score     0.736842105263158\n"
     ]
    }
   ],
   "source": [
    "# Predicting over the Test Set and f1-score\n",
    "test_predict = logreg.predict(test_x)\n",
    "k = f1_score(test_predict, test_y)\n",
    "print('Test f1_score    ', k )"
   ]
  },
  {
   "cell_type": "markdown",
   "metadata": {
    "colab_type": "text",
    "id": "GYz-N4EVPapW"
   },
   "source": [
    "### Making predictions using *predict_proba* function"
   ]
  },
  {
   "cell_type": "code",
   "execution_count": 30,
   "metadata": {
    "colab": {
     "base_uri": "https://localhost:8080/",
     "height": 139
    },
    "colab_type": "code",
    "executionInfo": {
     "elapsed": 3219,
     "status": "ok",
     "timestamp": 1559907756195,
     "user": {
      "displayName": "Aishwarya Singh",
      "photoUrl": "https://lh5.googleusercontent.com/-72ZtNB76Qxg/AAAAAAAAAAI/AAAAAAAAAAc/Nsa5vQruND0/s64/photo.jpg",
      "userId": "01105858832371513140"
     },
     "user_tz": -330
    },
    "id": "TdyhO6NmdZ4_",
    "outputId": "1f9f1cb2-0f48-4d3f-951a-d42ee572bc44"
   },
   "outputs": [
    {
     "data": {
      "text/plain": [
       "array([[0.51859038, 0.48140962],\n",
       "       [0.90639315, 0.09360685],\n",
       "       [0.87284923, 0.12715077],\n",
       "       ...,\n",
       "       [0.22613725, 0.77386275],\n",
       "       [0.31339957, 0.68660043],\n",
       "       [0.04410944, 0.95589056]])"
      ]
     },
     "execution_count": 30,
     "metadata": {},
     "output_type": "execute_result"
    }
   ],
   "source": [
    "# Predicting over the Train\n",
    "train_predict = logreg.predict_proba(train_x)\n",
    "train_predict"
   ]
  },
  {
   "cell_type": "code",
   "execution_count": 31,
   "metadata": {
    "colab": {
     "base_uri": "https://localhost:8080/",
     "height": 2344
    },
    "colab_type": "code",
    "executionInfo": {
     "elapsed": 3055,
     "status": "ok",
     "timestamp": 1559907756198,
     "user": {
      "displayName": "Aishwarya Singh",
      "photoUrl": "https://lh5.googleusercontent.com/-72ZtNB76Qxg/AAAAAAAAAAI/AAAAAAAAAAc/Nsa5vQruND0/s64/photo.jpg",
      "userId": "01105858832371513140"
     },
     "user_tz": -330
    },
    "id": "Uan07aK5l9oT",
    "outputId": "fe421e79-fd6e-4723-9a78-97a58765e1f0"
   },
   "outputs": [
    {
     "data": {
      "text/plain": [
       "array([0.48140962, 0.09360685, 0.12715077, 0.77727197, 0.63044046,\n",
       "       0.11680347, 0.84471125, 0.7740386 , 0.53404026, 0.08367538,\n",
       "       0.10622237, 0.08558081, 0.12434003, 0.09648466, 0.60844857,\n",
       "       0.0846011 , 0.30765535, 0.12047083, 0.07175202, 0.28642508,\n",
       "       0.10259958, 0.21873419, 0.07137555, 0.58929972, 0.09044335,\n",
       "       0.51379324, 0.08543579, 0.55723249, 0.60327176, 0.12856049,\n",
       "       0.82055093, 0.08561547, 0.58542239, 0.13653241, 0.02236351,\n",
       "       0.57542949, 0.21844893, 0.12596228, 0.05874232, 0.28534406,\n",
       "       0.84131987, 0.39149637, 0.2030254 , 0.706628  , 0.48071766,\n",
       "       0.94303767, 0.37042517, 0.22105263, 0.16791371, 0.89244391,\n",
       "       0.1327922 , 0.63933324, 0.23890698, 0.61017516, 0.340927  ,\n",
       "       0.64606506, 0.77898143, 0.29267172, 0.10944005, 0.29869969,\n",
       "       0.58420372, 0.29267172, 0.12478567, 0.45758905, 0.10295177,\n",
       "       0.9762875 , 0.11721018, 0.08558081, 0.86409835, 0.66350929,\n",
       "       0.93077121, 0.74866156, 0.89831242, 0.44912027, 0.84174208,\n",
       "       0.24576114, 0.8656403 , 0.54045481, 0.55512362, 0.12856049,\n",
       "       0.52258923, 0.12806665, 0.13207174, 0.01890868, 0.68545872,\n",
       "       0.94701183, 0.67524089, 0.07581274, 0.27812771, 0.93184737,\n",
       "       0.29330859, 0.13653945, 0.09137134, 0.13653945, 0.2030254 ,\n",
       "       0.91172187, 0.34186363, 0.12434654, 0.55652683, 0.56740673,\n",
       "       0.13653945, 0.12442604, 0.09957528, 0.12826567, 0.12617319,\n",
       "       0.05321428, 0.30378154, 0.04196602, 0.7481196 , 0.30252099,\n",
       "       0.23890698, 0.43294002, 0.12596096, 0.13677943, 0.54018734,\n",
       "       0.33508591, 0.12448345, 0.92498527, 0.11323096, 0.13642279,\n",
       "       0.49594473, 0.46810239, 0.22494188, 0.40002417, 0.9347004 ,\n",
       "       0.33089675, 0.3912033 , 0.6100869 , 0.13653099, 0.6731013 ,\n",
       "       0.09018999, 0.09652327, 0.39156478, 0.90587049, 0.12596096,\n",
       "       0.02903929, 0.48223629, 0.06575266, 0.37949114, 0.90745615,\n",
       "       0.92853376, 0.13116159, 0.6431315 , 0.10502031, 0.23344983,\n",
       "       0.25743966, 0.10965597, 0.92896073, 0.86357346, 0.90533616,\n",
       "       0.51374244, 0.46920709, 0.65739444, 0.07192914, 0.45354925,\n",
       "       0.08562952, 0.44631546, 0.27521724, 0.092755  , 0.80098336,\n",
       "       0.29562482, 0.27812771, 0.31573014, 0.66416995, 0.04645961,\n",
       "       0.25414708, 0.12050887, 0.82712816, 0.34583902, 0.93761271,\n",
       "       0.05146341, 0.76132054, 0.61263197, 0.28491092, 0.32994374,\n",
       "       0.47602815, 0.50724717, 0.3812817 , 0.08202743, 0.09043352,\n",
       "       0.08199329, 0.25579619, 0.04537523, 0.115573  , 0.92449395,\n",
       "       0.36910692, 0.93069112, 0.28464916, 0.26403666, 0.17024559,\n",
       "       0.14529007, 0.05703676, 0.57248911, 0.31876078, 0.12433222,\n",
       "       0.17194358, 0.29267172, 0.90030856, 0.63851911, 0.27135473,\n",
       "       0.44717328, 0.40506367, 0.6100869 , 0.11319492, 0.21160843,\n",
       "       0.88999409, 0.61962752, 0.08340584, 0.77348541, 0.13653945,\n",
       "       0.61231522, 0.6100869 , 0.12596228, 0.15752268, 0.94459328,\n",
       "       0.08558081, 0.07434643, 0.90359927, 0.63058996, 0.13477066,\n",
       "       0.1205926 , 0.31040196, 0.08561547, 0.88860899, 0.21597612,\n",
       "       0.16369563, 0.08558081, 0.72030186, 0.46357504, 0.13950558,\n",
       "       0.72274192, 0.46443915, 0.08707669, 0.25414708, 0.16920831,\n",
       "       0.73821746, 0.37387462, 0.87053635, 0.11300049, 0.03803249,\n",
       "       0.24906668, 0.08641617, 0.21844893, 0.13240684, 0.64576918,\n",
       "       0.09648466, 0.66447127, 0.23890698, 0.53224713, 0.11739477,\n",
       "       0.92186101, 0.09713085, 0.66998659, 0.80616497, 0.95851794,\n",
       "       0.15381144, 0.37776819, 0.13288591, 0.08558081, 0.44876505,\n",
       "       0.04342347, 0.64694487, 0.08791706, 0.12478436, 0.92684546,\n",
       "       0.33042644, 0.56353175, 0.07940639, 0.08561547, 0.08555367,\n",
       "       0.72701911, 0.13656627, 0.84329852, 0.66594267, 0.47867688,\n",
       "       0.27384389, 0.33003842, 0.07938181, 0.29583658, 0.34186765,\n",
       "       0.06493161, 0.11680347, 0.6100755 , 0.08758757, 0.09843908,\n",
       "       0.44587197, 0.04821607, 0.8585017 , 0.09339589, 0.82525869,\n",
       "       0.90103177, 0.5511402 , 0.94154174, 0.0931965 , 0.0296024 ,\n",
       "       0.94911936, 0.05686666, 0.31837858, 0.63862162, 0.11315169,\n",
       "       0.52975453, 0.42982442, 0.2437776 , 0.1070903 , 0.12450428,\n",
       "       0.0418512 , 0.06811013, 0.31070456, 0.09044335, 0.80197884,\n",
       "       0.6100869 , 0.45185067, 0.0994209 , 0.23890698, 0.08721376,\n",
       "       0.12596096, 0.11315768, 0.18953422, 0.11686149, 0.5491739 ,\n",
       "       0.35537959, 0.13211909, 0.81362125, 0.94663966, 0.44366944,\n",
       "       0.31837858, 0.5877954 , 0.08550313, 0.13074613, 0.25330229,\n",
       "       0.12054564, 0.13653945, 0.02236351, 0.26145811, 0.08558081,\n",
       "       0.16703539, 0.0971533 , 0.23596669, 0.80596626, 0.05323237,\n",
       "       0.29118772, 0.93918317, 0.07713412, 0.06948157, 0.37322687,\n",
       "       0.41767533, 0.64157209, 0.04203568, 0.19533543, 0.49401629,\n",
       "       0.34912249, 0.12894776, 0.80181749, 0.29521182, 0.46772672,\n",
       "       0.80000844, 0.06377602, 0.14965742, 0.12946599, 0.2476919 ,\n",
       "       0.89787538, 0.64842783, 0.12856049, 0.27833801, 0.46751995,\n",
       "       0.809425  , 0.18456872, 0.08561547, 0.86558005, 0.96125918,\n",
       "       0.74758092, 0.92999123, 0.20534248, 0.66447127, 0.2642402 ,\n",
       "       0.42180031, 0.38578821, 0.04586003, 0.74560596, 0.85602371,\n",
       "       0.12044287, 0.73304063, 0.46133368, 0.13653945, 0.13990313,\n",
       "       0.93579852, 0.23890698, 0.31960061, 0.30201774, 0.58101527,\n",
       "       0.41247051, 0.3571303 , 0.86359125, 0.08544982, 0.08561547,\n",
       "       0.809425  , 0.65060298, 0.0672897 , 0.11323096, 0.55791601,\n",
       "       0.75602432, 0.76792696, 0.90216943, 0.50555658, 0.126432  ,\n",
       "       0.11673924, 0.3910342 , 0.10246139, 0.88310275, 0.38663281,\n",
       "       0.11184417, 0.55512362, 0.25716527, 0.11656544, 0.05688207,\n",
       "       0.46301086, 0.96528548, 0.92693486, 0.57546891, 0.85329938,\n",
       "       0.46578457, 0.60814189, 0.69236677, 0.24852162, 0.80565323,\n",
       "       0.17364287, 0.94219619, 0.10621103, 0.08510283, 0.06955587,\n",
       "       0.63377446, 0.85720646, 0.09091574, 0.06294771, 0.48842532,\n",
       "       0.6100869 , 0.22590538, 0.19755445, 0.58967465, 0.22959792,\n",
       "       0.1821278 , 0.07938015, 0.65303801, 0.32304914, 0.62402656,\n",
       "       0.7057092 , 0.91882615, 0.83055281, 0.92986874, 0.77680503,\n",
       "       0.54246802, 0.12823571, 0.08558081, 0.08707669, 0.15498421,\n",
       "       0.54881838, 0.1365338 , 0.09395928, 0.22023521, 0.47774515,\n",
       "       0.07192914, 0.07403986, 0.88115408, 0.91361164, 0.96409313,\n",
       "       0.2112229 , 0.1464346 , 0.5688085 , 0.26145811, 0.71327518,\n",
       "       0.74611789, 0.69395197, 0.91392143, 0.93290706, 0.08561547,\n",
       "       0.45736706, 0.79801059, 0.23726347, 0.18456872, 0.61035158,\n",
       "       0.58400894, 0.6111872 , 0.09018999, 0.24332026, 0.89460984,\n",
       "       0.14218755, 0.42756005, 0.39766578, 0.65541353, 0.08718893,\n",
       "       0.10955088, 0.15941528, 0.72119552, 0.73053708, 0.40907018,\n",
       "       0.89816467, 0.57105964, 0.22416658, 0.07938015, 0.07938015,\n",
       "       0.0793653 , 0.44631546, 0.11634353, 0.87368134, 0.08202572,\n",
       "       0.06507923, 0.86408718, 0.26183938, 0.0419314 , 0.12062558,\n",
       "       0.63542656, 0.13653945, 0.92796408, 0.32618235, 0.25414708,\n",
       "       0.13240684, 0.10947504, 0.08372137, 0.11816243, 0.27812771,\n",
       "       0.41546099, 0.75760817, 0.02236351, 0.52332193, 0.94799616,\n",
       "       0.34524954, 0.12352615, 0.89386903, 0.4806865 , 0.22676208,\n",
       "       0.402473  , 0.73196113, 0.12123997, 0.03728436, 0.02236351,\n",
       "       0.08558081, 0.52286382, 0.08461863, 0.08752448, 0.04297364,\n",
       "       0.93130074, 0.06810267, 0.60063895, 0.88135098, 0.35852217,\n",
       "       0.47102343, 0.7545552 , 0.55065763, 0.09645442, 0.08543579,\n",
       "       0.08555367, 0.08558081, 0.20651645, 0.61007837, 0.12596228,\n",
       "       0.58779832, 0.12689746, 0.0971533 , 0.11006435, 0.74493318,\n",
       "       0.93289488, 0.45267527, 0.32148111, 0.18456872, 0.88637857,\n",
       "       0.24431515, 0.50970702, 0.69603986, 0.89836443, 0.72763746,\n",
       "       0.05006576, 0.61014101, 0.06424836, 0.6100869 , 0.18174322,\n",
       "       0.38641508, 0.08594202, 0.17738696, 0.11925489, 0.69421274,\n",
       "       0.07947202, 0.11340769, 0.94003891, 0.23914468, 0.21844893,\n",
       "       0.05703825, 0.88036516, 0.04139959, 0.38851984, 0.39958587,\n",
       "       0.7183353 , 0.84261115, 0.08543579, 0.44592519, 0.82199521,\n",
       "       0.8952875 , 0.12387926, 0.03596771, 0.04394756, 0.03329045,\n",
       "       0.6100869 , 0.12596228, 0.72030186, 0.05323237, 0.8536115 ,\n",
       "       0.65623612, 0.10265989, 0.04973425, 0.11397744, 0.21481078,\n",
       "       0.41132756, 0.10806842, 0.6184397 , 0.14902349, 0.97354213,\n",
       "       0.78021501, 0.04908403, 0.1450456 , 0.13918462, 0.66447127,\n",
       "       0.08474483, 0.61000438, 0.22829793, 0.13653945, 0.48420168,\n",
       "       0.87172936, 0.19672407, 0.94428175, 0.77909456, 0.22676208,\n",
       "       0.15025605, 0.06111769, 0.12596228, 0.10292474, 0.0550586 ,\n",
       "       0.08150175, 0.26403666, 0.68089932, 0.58564465, 0.7183256 ,\n",
       "       0.10965597, 0.13653522, 0.08558081, 0.936375  , 0.32994374,\n",
       "       0.10996594, 0.74405826, 0.94758468, 0.31956613, 0.65168064,\n",
       "       0.5166406 , 0.14069846, 0.94459328, 0.94245909, 0.69068215,\n",
       "       0.11729192, 0.94818131, 0.72565398, 0.08561547, 0.25445814,\n",
       "       0.70308311, 0.37162302, 0.48055759, 0.2437776 , 0.62667302,\n",
       "       0.77386275, 0.68660043, 0.95589056])"
      ]
     },
     "execution_count": 31,
     "metadata": {},
     "output_type": "execute_result"
    }
   ],
   "source": [
    "train_preds = train_predict[:,1]\n",
    "train_preds"
   ]
  },
  {
   "cell_type": "code",
   "execution_count": 32,
   "metadata": {
    "colab": {},
    "colab_type": "code",
    "id": "O7_cPchudkR-"
   },
   "outputs": [],
   "source": [
    "for i in range(0, len(train_preds)):\n",
    "  if(train_preds[i]>0.55):\n",
    "    train_preds[i] = 1\n",
    "  else:\n",
    "    train_preds[i] = 0\n",
    "  "
   ]
  },
  {
   "cell_type": "code",
   "execution_count": 33,
   "metadata": {
    "colab": {
     "base_uri": "https://localhost:8080/",
     "height": 34
    },
    "colab_type": "code",
    "executionInfo": {
     "elapsed": 5563,
     "status": "ok",
     "timestamp": 1559907759162,
     "user": {
      "displayName": "Aishwarya Singh",
      "photoUrl": "https://lh5.googleusercontent.com/-72ZtNB76Qxg/AAAAAAAAAAI/AAAAAAAAAAc/Nsa5vQruND0/s64/photo.jpg",
      "userId": "01105858832371513140"
     },
     "user_tz": -330
    },
    "id": "nMS-8UHtm6ul",
    "outputId": "9bc47d7f-ce45-4d2d-846d-547e02184d53"
   },
   "outputs": [
    {
     "name": "stdout",
     "output_type": "stream",
     "text": [
      "Training f1_score 0.7366255144032922\n"
     ]
    }
   ],
   "source": [
    "# Calculating f1-score\n",
    "k = f1_score(train_preds, train_y)\n",
    "print('Training f1_score', k )"
   ]
  },
  {
   "cell_type": "markdown",
   "metadata": {
    "colab_type": "text",
    "id": "Wq2nBd4yaJLy"
   },
   "source": [
    "# Confusion matrix"
   ]
  },
  {
   "cell_type": "code",
   "execution_count": 34,
   "metadata": {
    "colab": {
     "base_uri": "https://localhost:8080/",
     "height": 52
    },
    "colab_type": "code",
    "executionInfo": {
     "elapsed": 5082,
     "status": "ok",
     "timestamp": 1559907759167,
     "user": {
      "displayName": "Aishwarya Singh",
      "photoUrl": "https://lh5.googleusercontent.com/-72ZtNB76Qxg/AAAAAAAAAAI/AAAAAAAAAAc/Nsa5vQruND0/s64/photo.jpg",
      "userId": "01105858832371513140"
     },
     "user_tz": -330
    },
    "id": "_B0y2DfFZus5",
    "outputId": "05523d3b-19cf-413d-d839-3514d278a29a"
   },
   "outputs": [
    {
     "name": "stdout",
     "output_type": "stream",
     "text": [
      "[[127  17]\n",
      " [ 23  56]]\n"
     ]
    }
   ],
   "source": [
    "from sklearn.metrics import confusion_matrix\n",
    "cf= confusion_matrix(test_y, test_predict)\n",
    "print(cf)"
   ]
  },
  {
   "cell_type": "code",
   "execution_count": 35,
   "metadata": {
    "colab": {
     "base_uri": "https://localhost:8080/",
     "height": 173
    },
    "colab_type": "code",
    "executionInfo": {
     "elapsed": 4795,
     "status": "ok",
     "timestamp": 1559907759171,
     "user": {
      "displayName": "Aishwarya Singh",
      "photoUrl": "https://lh5.googleusercontent.com/-72ZtNB76Qxg/AAAAAAAAAAI/AAAAAAAAAAc/Nsa5vQruND0/s64/photo.jpg",
      "userId": "01105858832371513140"
     },
     "user_tz": -330
    },
    "id": "8iN2ugVDZkWS",
    "outputId": "26abffce-bb28-4786-81d6-ac09ad0e4402"
   },
   "outputs": [
    {
     "name": "stdout",
     "output_type": "stream",
     "text": [
      "              precision    recall  f1-score   support\n",
      "\n",
      "           0       0.85      0.88      0.86       144\n",
      "           1       0.77      0.71      0.74        79\n",
      "\n",
      "    accuracy                           0.82       223\n",
      "   macro avg       0.81      0.80      0.80       223\n",
      "weighted avg       0.82      0.82      0.82       223\n",
      "\n"
     ]
    }
   ],
   "source": [
    "from sklearn.metrics import classification_report as rep\n",
    "print(rep( test_y , test_predict ))"
   ]
  },
  {
   "cell_type": "markdown",
   "metadata": {
    "colab_type": "text",
    "id": "Tx7pAs3cosaz"
   },
   "source": [
    "# Parameters of Logistic Regression"
   ]
  },
  {
   "cell_type": "code",
   "execution_count": 36,
   "metadata": {
    "colab": {
     "base_uri": "https://localhost:8080/",
     "height": 104
    },
    "colab_type": "code",
    "executionInfo": {
     "elapsed": 4303,
     "status": "ok",
     "timestamp": 1559907759176,
     "user": {
      "displayName": "Aishwarya Singh",
      "photoUrl": "https://lh5.googleusercontent.com/-72ZtNB76Qxg/AAAAAAAAAAI/AAAAAAAAAAc/Nsa5vQruND0/s64/photo.jpg",
      "userId": "01105858832371513140"
     },
     "user_tz": -330
    },
    "id": "jjMoVU-VoyVo",
    "outputId": "9e3cda88-342d-45a9-8f1f-82e77c1a00e4"
   },
   "outputs": [
    {
     "data": {
      "text/plain": [
       "array([[-0.03566227,  0.00287171,  1.01802308,  0.15115488, -1.08166629,\n",
       "         1.18976191, -1.10225025,  0.84848535,  1.06183611,  0.35130382,\n",
       "        -0.67585614, -0.78665618, -0.28545947, -0.42614182,  0.12502038,\n",
       "         0.59910382, -0.18628517,  0.21133393, -0.35265144, -0.14142777,\n",
       "        -0.16758207,  0.14326738,  0.23457817, -0.29033388]])"
      ]
     },
     "execution_count": 36,
     "metadata": {},
     "output_type": "execute_result"
    }
   ],
   "source": [
    "# printing the coefficients\n",
    "logreg.coef_"
   ]
  },
  {
   "cell_type": "markdown",
   "metadata": {
    "colab_type": "text",
    "id": "MGWYxwjykZss"
   },
   "source": [
    "### Plotting the coefficients"
   ]
  },
  {
   "cell_type": "code",
   "execution_count": 37,
   "metadata": {
    "colab": {
     "base_uri": "https://localhost:8080/",
     "height": 680
    },
    "colab_type": "code",
    "executionInfo": {
     "elapsed": 3818,
     "status": "ok",
     "timestamp": 1559907759179,
     "user": {
      "displayName": "Aishwarya Singh",
      "photoUrl": "https://lh5.googleusercontent.com/-72ZtNB76Qxg/AAAAAAAAAAI/AAAAAAAAAAc/Nsa5vQruND0/s64/photo.jpg",
      "userId": "01105858832371513140"
     },
     "user_tz": -330
    },
    "id": "wxkPFx7Yp3Du",
    "outputId": "e3a2c141-29a5-4fe1-c5cf-3aba7ecea7c2"
   },
   "outputs": [
    {
     "data": {
      "text/plain": [
       "Text(0.5, 1.0, 'Coefficient plot')"
      ]
     },
     "execution_count": 37,
     "metadata": {},
     "output_type": "execute_result"
    },
    {
     "data": {
      "image/png": "[encoded data removed]",
      "text/plain": [
       "<Figure size 960x720 with 1 Axes>"
      ]
     },
     "metadata": {},
     "output_type": "display_data"
    }
   ],
   "source": [
    "plt.figure(figsize=(8, 6), dpi=120, facecolor='w', edgecolor='b')\n",
    "x = range(len(train_x.columns))\n",
    "c = logreg.coef_.reshape(-1)\n",
    "plt.bar( x, c )\n",
    "plt.xlabel( \"Variables\")\n",
    "plt.ylabel('Coefficients')\n",
    "plt.title('Coefficient plot')"
   ]
  },
  {
   "cell_type": "code",
   "execution_count": 38,
   "metadata": {
    "colab": {
     "base_uri": "https://localhost:8080/",
     "height": 206
    },
    "colab_type": "code",
    "executionInfo": {
     "elapsed": 3549,
     "status": "ok",
     "timestamp": 1559907759182,
     "user": {
      "displayName": "Aishwarya Singh",
      "photoUrl": "https://lh5.googleusercontent.com/-72ZtNB76Qxg/AAAAAAAAAAI/AAAAAAAAAAc/Nsa5vQruND0/s64/photo.jpg",
      "userId": "01105858832371513140"
     },
     "user_tz": -330
    },
    "id": "GWpGeLB-UsRE",
    "outputId": "7ac27612-3e35-4827-8bde-8b57e6a472b7"
   },
   "outputs": [
    {
     "data": {
      "text/html": [
       "<div>\n",
       "<style scoped>\n",
       "    .dataframe tbody tr th:only-of-type {\n",
       "        vertical-align: middle;\n",
       "    }\n",
       "\n",
       "    .dataframe tbody tr th {\n",
       "        vertical-align: top;\n",
       "    }\n",
       "\n",
       "    .dataframe thead th {\n",
       "        text-align: right;\n",
       "    }\n",
       "</style>\n",
       "<table border=\"1\" class=\"dataframe\">\n",
       "  <thead>\n",
       "    <tr style=\"text-align: right;\">\n",
       "      <th></th>\n",
       "      <th>Variable</th>\n",
       "      <th>coefficient</th>\n",
       "    </tr>\n",
       "  </thead>\n",
       "  <tbody>\n",
       "    <tr>\n",
       "      <th>0</th>\n",
       "      <td>Age</td>\n",
       "      <td>0.035662</td>\n",
       "    </tr>\n",
       "    <tr>\n",
       "      <th>1</th>\n",
       "      <td>Fare</td>\n",
       "      <td>0.002872</td>\n",
       "    </tr>\n",
       "    <tr>\n",
       "      <th>2</th>\n",
       "      <td>Pclass_1</td>\n",
       "      <td>1.018023</td>\n",
       "    </tr>\n",
       "    <tr>\n",
       "      <th>3</th>\n",
       "      <td>Pclass_2</td>\n",
       "      <td>0.151155</td>\n",
       "    </tr>\n",
       "    <tr>\n",
       "      <th>4</th>\n",
       "      <td>Pclass_3</td>\n",
       "      <td>1.081666</td>\n",
       "    </tr>\n",
       "  </tbody>\n",
       "</table>\n",
       "</div>"
      ],
      "text/plain": [
       "   Variable  coefficient\n",
       "0       Age     0.035662\n",
       "1      Fare     0.002872\n",
       "2  Pclass_1     1.018023\n",
       "3  Pclass_2     0.151155\n",
       "4  Pclass_3     1.081666"
      ]
     },
     "execution_count": 38,
     "metadata": {},
     "output_type": "execute_result"
    }
   ],
   "source": [
    "Coefficients = pd.DataFrame({\n",
    "    'Variable'    : train_x.columns,\n",
    "    'coefficient' : abs(c)\n",
    "})\n",
    "Coefficients.head()"
   ]
  },
  {
   "cell_type": "code",
   "execution_count": 44,
   "metadata": {
    "colab": {
     "base_uri": "https://localhost:8080/",
     "height": 131
    },
    "colab_type": "code",
    "executionInfo": {
     "elapsed": 2397,
     "status": "error",
     "timestamp": 1559907813938,
     "user": {
      "displayName": "Aishwarya Singh",
      "photoUrl": "https://lh5.googleusercontent.com/-72ZtNB76Qxg/AAAAAAAAAAI/AAAAAAAAAAc/Nsa5vQruND0/s64/photo.jpg",
      "userId": "01105858832371513140"
     },
     "user_tz": -330
    },
    "id": "pWP-VAcstr5J",
    "outputId": "f7e7ec7c-6c82-4f7c-c2d0-8ebc166a6251"
   },
   "outputs": [],
   "source": [
    "#selecting variables with high coefficient\n",
    "sig_var = Coefficients[Coefficients.coefficient > 0.3]"
   ]
  },
  {
   "cell_type": "code",
   "execution_count": 45,
   "metadata": {
    "colab": {
     "base_uri": "https://localhost:8080/",
     "height": 226
    },
    "colab_type": "code",
    "executionInfo": {
     "elapsed": 4140,
     "status": "ok",
     "timestamp": 1559907815966,
     "user": {
      "displayName": "Aishwarya Singh",
      "photoUrl": "https://lh5.googleusercontent.com/-72ZtNB76Qxg/AAAAAAAAAAI/AAAAAAAAAAc/Nsa5vQruND0/s64/photo.jpg",
      "userId": "01105858832371513140"
     },
     "user_tz": -330
    },
    "id": "XdCZihb6uLNI",
    "outputId": "e3bbf507-b9f1-4316-8aa0-b634c02701d5"
   },
   "outputs": [
    {
     "data": {
      "text/html": [
       "<div>\n",
       "<style scoped>\n",
       "    .dataframe tbody tr th:only-of-type {\n",
       "        vertical-align: middle;\n",
       "    }\n",
       "\n",
       "    .dataframe tbody tr th {\n",
       "        vertical-align: top;\n",
       "    }\n",
       "\n",
       "    .dataframe thead th {\n",
       "        text-align: right;\n",
       "    }\n",
       "</style>\n",
       "<table border=\"1\" class=\"dataframe\">\n",
       "  <thead>\n",
       "    <tr style=\"text-align: right;\">\n",
       "      <th></th>\n",
       "      <th>Pclass_1</th>\n",
       "      <th>Pclass_3</th>\n",
       "      <th>Sex_female</th>\n",
       "      <th>Sex_male</th>\n",
       "      <th>SibSp_0</th>\n",
       "      <th>SibSp_1</th>\n",
       "      <th>SibSp_2</th>\n",
       "      <th>SibSp_3</th>\n",
       "      <th>SibSp_4</th>\n",
       "      <th>SibSp_8</th>\n",
       "      <th>Parch_1</th>\n",
       "      <th>Parch_4</th>\n",
       "    </tr>\n",
       "  </thead>\n",
       "  <tbody>\n",
       "    <tr>\n",
       "      <th>0</th>\n",
       "      <td>0</td>\n",
       "      <td>1</td>\n",
       "      <td>0</td>\n",
       "      <td>1</td>\n",
       "      <td>0</td>\n",
       "      <td>1</td>\n",
       "      <td>0</td>\n",
       "      <td>0</td>\n",
       "      <td>0</td>\n",
       "      <td>0</td>\n",
       "      <td>0</td>\n",
       "      <td>0</td>\n",
       "    </tr>\n",
       "    <tr>\n",
       "      <th>1</th>\n",
       "      <td>1</td>\n",
       "      <td>0</td>\n",
       "      <td>1</td>\n",
       "      <td>0</td>\n",
       "      <td>0</td>\n",
       "      <td>1</td>\n",
       "      <td>0</td>\n",
       "      <td>0</td>\n",
       "      <td>0</td>\n",
       "      <td>0</td>\n",
       "      <td>0</td>\n",
       "      <td>0</td>\n",
       "    </tr>\n",
       "    <tr>\n",
       "      <th>2</th>\n",
       "      <td>0</td>\n",
       "      <td>1</td>\n",
       "      <td>1</td>\n",
       "      <td>0</td>\n",
       "      <td>1</td>\n",
       "      <td>0</td>\n",
       "      <td>0</td>\n",
       "      <td>0</td>\n",
       "      <td>0</td>\n",
       "      <td>0</td>\n",
       "      <td>0</td>\n",
       "      <td>0</td>\n",
       "    </tr>\n",
       "    <tr>\n",
       "      <th>3</th>\n",
       "      <td>1</td>\n",
       "      <td>0</td>\n",
       "      <td>1</td>\n",
       "      <td>0</td>\n",
       "      <td>0</td>\n",
       "      <td>1</td>\n",
       "      <td>0</td>\n",
       "      <td>0</td>\n",
       "      <td>0</td>\n",
       "      <td>0</td>\n",
       "      <td>0</td>\n",
       "      <td>0</td>\n",
       "    </tr>\n",
       "    <tr>\n",
       "      <th>4</th>\n",
       "      <td>0</td>\n",
       "      <td>1</td>\n",
       "      <td>0</td>\n",
       "      <td>1</td>\n",
       "      <td>1</td>\n",
       "      <td>0</td>\n",
       "      <td>0</td>\n",
       "      <td>0</td>\n",
       "      <td>0</td>\n",
       "      <td>0</td>\n",
       "      <td>0</td>\n",
       "      <td>0</td>\n",
       "    </tr>\n",
       "  </tbody>\n",
       "</table>\n",
       "</div>"
      ],
      "text/plain": [
       "   Pclass_1  Pclass_3  Sex_female  Sex_male  SibSp_0  SibSp_1  SibSp_2  \\\n",
       "0         0         1           0         1        0        1        0   \n",
       "1         1         0           1         0        0        1        0   \n",
       "2         0         1           1         0        1        0        0   \n",
       "3         1         0           1         0        0        1        0   \n",
       "4         0         1           0         1        1        0        0   \n",
       "\n",
       "   SibSp_3  SibSp_4  SibSp_8  Parch_1  Parch_4  \n",
       "0        0        0        0        0        0  \n",
       "1        0        0        0        0        0  \n",
       "2        0        0        0        0        0  \n",
       "3        0        0        0        0        0  \n",
       "4        0        0        0        0        0  "
      ]
     },
     "execution_count": 45,
     "metadata": {},
     "output_type": "execute_result"
    }
   ],
   "source": [
    "subset = data[sig_var['Variable'].values]\n",
    "subset.head()"
   ]
  },
  {
   "cell_type": "code",
   "execution_count": 46,
   "metadata": {
    "colab": {},
    "colab_type": "code",
    "id": "aeEEVtBbvFI6"
   },
   "outputs": [],
   "source": [
    "# Using train test split function\n",
    "train_x,test_x,train_y,test_y = train_test_split(subset, y, random_state = 56)"
   ]
  },
  {
   "cell_type": "markdown",
   "metadata": {
    "colab_type": "text",
    "id": "bP1qY6M2vFKX"
   },
   "source": [
    "### Implementing Logistic Regression"
   ]
  },
  {
   "cell_type": "code",
   "execution_count": 47,
   "metadata": {
    "colab": {
     "base_uri": "https://localhost:8080/",
     "height": 159
    },
    "colab_type": "code",
    "executionInfo": {
     "elapsed": 3376,
     "status": "ok",
     "timestamp": 1559907815982,
     "user": {
      "displayName": "Aishwarya Singh",
      "photoUrl": "https://lh5.googleusercontent.com/-72ZtNB76Qxg/AAAAAAAAAAI/AAAAAAAAAAc/Nsa5vQruND0/s64/photo.jpg",
      "userId": "01105858832371513140"
     },
     "user_tz": -330
    },
    "id": "fT8yiasyvFKf",
    "outputId": "73ab52a8-76a7-42c6-bb7a-68a95907cda1"
   },
   "outputs": [
    {
     "data": {
      "text/plain": [
       "LogisticRegression()"
      ]
     },
     "execution_count": 47,
     "metadata": {},
     "output_type": "execute_result"
    }
   ],
   "source": [
    "# Creating instance of Logistic Regresssion\n",
    "logreg = LogReg()\n",
    "\n",
    "# Fitting the model\n",
    "logreg.fit(train_x, train_y)"
   ]
  },
  {
   "cell_type": "markdown",
   "metadata": {
    "colab_type": "text",
    "id": "nprgzSRivFKo"
   },
   "source": [
    "### Making predictions using *predict* function"
   ]
  },
  {
   "cell_type": "code",
   "execution_count": 48,
   "metadata": {
    "colab": {
     "base_uri": "https://localhost:8080/",
     "height": 34
    },
    "colab_type": "code",
    "executionInfo": {
     "elapsed": 2661,
     "status": "ok",
     "timestamp": 1559907815985,
     "user": {
      "displayName": "Aishwarya Singh",
      "photoUrl": "https://lh5.googleusercontent.com/-72ZtNB76Qxg/AAAAAAAAAAI/AAAAAAAAAAc/Nsa5vQruND0/s64/photo.jpg",
      "userId": "01105858832371513140"
     },
     "user_tz": -330
    },
    "id": "sI8H3sxLvFKq",
    "outputId": "29ee7fee-1345-4136-c585-feaeaca26bc1"
   },
   "outputs": [
    {
     "name": "stdout",
     "output_type": "stream",
     "text": [
      "Training f1_score 0.7011952191235059\n"
     ]
    }
   ],
   "source": [
    "# Predicting over the Train\n",
    "train_predict = logreg.predict(train_x)\n",
    "k = f1_score(train_predict, train_y)\n",
    "print('Training f1_score', k )"
   ]
  },
  {
   "cell_type": "code",
   "execution_count": 49,
   "metadata": {
    "colab": {
     "base_uri": "https://localhost:8080/",
     "height": 680
    },
    "colab_type": "code",
    "executionInfo": {
     "elapsed": 3800,
     "status": "ok",
     "timestamp": 1559907817424,
     "user": {
      "displayName": "Aishwarya Singh",
      "photoUrl": "https://lh5.googleusercontent.com/-72ZtNB76Qxg/AAAAAAAAAAI/AAAAAAAAAAc/Nsa5vQruND0/s64/photo.jpg",
      "userId": "01105858832371513140"
     },
     "user_tz": -330
    },
    "id": "kOjZbA_0uNMg",
    "outputId": "f9ff494b-8c19-4608-f610-9f3fbac010d2"
   },
   "outputs": [
    {
     "data": {
      "text/plain": [
       "Text(0.5, 1.0, 'Coefficient plot')"
      ]
     },
     "execution_count": 49,
     "metadata": {},
     "output_type": "execute_result"
    },
    {
     "data": {
      "image/png": "[encoded data removed]",
      "text/plain": [
       "<Figure size 960x720 with 1 Axes>"
      ]
     },
     "metadata": {},
     "output_type": "display_data"
    }
   ],
   "source": [
    "plt.figure(figsize=(8, 6), dpi=120, facecolor='w', edgecolor='b')\n",
    "x = range(len(train_x.columns))\n",
    "c = logreg.coef_.reshape(-1)\n",
    "plt.bar( x, c )\n",
    "plt.xlabel( \"Variables\")\n",
    "plt.ylabel('Coefficients')\n",
    "plt.title('Coefficient plot')"
   ]
  },
  {
   "cell_type": "code",
   "execution_count": null,
   "metadata": {
    "colab": {},
    "colab_type": "code",
    "id": "Z9mFcQNrv3Ee"
   },
   "outputs": [],
   "source": []
  }
 ],
 "metadata": {
  "colab": {
   "collapsed_sections": [],
   "name": "Logistic regression Notebook.ipynb",
   "provenance": [],
   "version": "0.3.2"
  },
  "kernelspec": {
   "display_name": "Python 3",
   "language": "python",
   "name": "python3"
  },
  "language_info": {
   "codemirror_mode": {
    "name": "ipython",
    "version": 3
   },
   "file_extension": ".py",
   "mimetype": "text/x-python",
   "name": "python",
   "nbconvert_exporter": "python",
   "pygments_lexer": "ipython3",
   "version": "3.8.5"
  }
 },
 "nbformat": 4,
 "nbformat_minor": 4
}
