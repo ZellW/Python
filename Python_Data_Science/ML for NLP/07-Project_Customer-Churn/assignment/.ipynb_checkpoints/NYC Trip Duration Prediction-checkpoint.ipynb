{
 "cells": [
  {
   "cell_type": "markdown",
   "metadata": {},
   "source": [
    "# INTRODUCTION\n",
    "## NYC Taxi Ride Duration Prediction\n",
    "\n",
    "To improve the efficiency of taxi dispatching, it is important to predict how long a driver will have his taxi occupied.  If a dispatcher knows when a current ride is likely to end, they would be enabled to assign the right driver to each pick-up request.\n",
    "\n",
    "The goal of this exercise to to predict taxi ride durations."
   ]
  },
  {
   "cell_type": "code",
   "execution_count": 1,
   "metadata": {},
   "outputs": [],
   "source": [
    "import numpy as np\n",
    "import pandas as pd\n",
    "import seaborn as sns\n",
    "import matplotlib.pyplot as plt\n",
    "from sklearn.preprocessing import LabelEncoder\n",
    "from sklearn.preprocessing import StandardScaler\n",
    "#importing Linear Regression and metric mean square error\n",
    "from sklearn.linear_model import LinearRegression as LR\n",
    "from sklearn.metrics import mean_absolute_error as mae\n",
    "\n",
    "# Importing the train test split function\n",
    "from sklearn.model_selection import train_test_split\n",
    "\n",
    "from sklearn.model_selection import KFold, StratifiedKFold, train_test_split\n",
    "# from sklearn.metrics import roc_auc_score, accuracy_score, confusion_matrix, roc_curve, precision_score, recall_score, precision_recall_curve\n",
    "import warnings\n",
    "#warnings.simplefilter(action='ignore', category=FutureWarning)\n",
    "#warnings.simplefilter(action='ignore', category=UserWarning)"
   ]
  },
  {
   "cell_type": "markdown",
   "metadata": {},
   "source": [
    "# Get Data"
   ]
  },
  {
   "cell_type": "code",
   "execution_count": 2,
   "metadata": {},
   "outputs": [],
   "source": [
    "df = pd.read_csv('../../data/nyc_taxi_trip_duration.csv')"
   ]
  },
  {
   "cell_type": "markdown",
   "metadata": {},
   "source": [
    "## Quick Look at Data"
   ]
  },
  {
   "cell_type": "code",
   "execution_count": 3,
   "metadata": {},
   "outputs": [
    {
     "data": {
      "text/plain": [
       "(729322, 11)"
      ]
     },
     "execution_count": 3,
     "metadata": {},
     "output_type": "execute_result"
    }
   ],
   "source": [
    "df.shape"
   ]
  },
  {
   "cell_type": "code",
   "execution_count": 4,
   "metadata": {},
   "outputs": [
    {
     "data": {
      "text/plain": [
       "Index(['id', 'vendor_id', 'pickup_datetime', 'dropoff_datetime',\n",
       "       'passenger_count', 'pickup_longitude', 'pickup_latitude',\n",
       "       'dropoff_longitude', 'dropoff_latitude', 'store_and_fwd_flag',\n",
       "       'trip_duration'],\n",
       "      dtype='object')"
      ]
     },
     "execution_count": 4,
     "metadata": {},
     "output_type": "execute_result"
    }
   ],
   "source": [
    "df.columns"
   ]
  },
  {
   "cell_type": "code",
   "execution_count": 5,
   "metadata": {},
   "outputs": [
    {
     "data": {
      "text/plain": [
       "id                     object\n",
       "vendor_id               int64\n",
       "pickup_datetime        object\n",
       "dropoff_datetime       object\n",
       "passenger_count         int64\n",
       "pickup_longitude      float64\n",
       "pickup_latitude       float64\n",
       "dropoff_longitude     float64\n",
       "dropoff_latitude      float64\n",
       "store_and_fwd_flag     object\n",
       "trip_duration           int64\n",
       "dtype: object"
      ]
     },
     "execution_count": 5,
     "metadata": {},
     "output_type": "execute_result"
    }
   ],
   "source": [
    "df.dtypes"
   ]
  },
  {
   "cell_type": "code",
   "execution_count": 6,
   "metadata": {},
   "outputs": [
    {
     "data": {
      "text/html": [
       "<div>\n",
       "<style scoped>\n",
       "    .dataframe tbody tr th:only-of-type {\n",
       "        vertical-align: middle;\n",
       "    }\n",
       "\n",
       "    .dataframe tbody tr th {\n",
       "        vertical-align: top;\n",
       "    }\n",
       "\n",
       "    .dataframe thead th {\n",
       "        text-align: right;\n",
       "    }\n",
       "</style>\n",
       "<table border=\"1\" class=\"dataframe\">\n",
       "  <thead>\n",
       "    <tr style=\"text-align: right;\">\n",
       "      <th></th>\n",
       "      <th>id</th>\n",
       "      <th>vendor_id</th>\n",
       "      <th>pickup_datetime</th>\n",
       "      <th>dropoff_datetime</th>\n",
       "      <th>passenger_count</th>\n",
       "      <th>pickup_longitude</th>\n",
       "      <th>pickup_latitude</th>\n",
       "      <th>dropoff_longitude</th>\n",
       "      <th>dropoff_latitude</th>\n",
       "      <th>store_and_fwd_flag</th>\n",
       "      <th>trip_duration</th>\n",
       "    </tr>\n",
       "  </thead>\n",
       "  <tbody>\n",
       "    <tr>\n",
       "      <th>0</th>\n",
       "      <td>id1080784</td>\n",
       "      <td>2</td>\n",
       "      <td>2016-02-29 16:40:21</td>\n",
       "      <td>2016-02-29 16:47:01</td>\n",
       "      <td>1</td>\n",
       "      <td>-73.953918</td>\n",
       "      <td>40.778873</td>\n",
       "      <td>-73.963875</td>\n",
       "      <td>40.771164</td>\n",
       "      <td>N</td>\n",
       "      <td>400</td>\n",
       "    </tr>\n",
       "    <tr>\n",
       "      <th>1</th>\n",
       "      <td>id0889885</td>\n",
       "      <td>1</td>\n",
       "      <td>2016-03-11 23:35:37</td>\n",
       "      <td>2016-03-11 23:53:57</td>\n",
       "      <td>2</td>\n",
       "      <td>-73.988312</td>\n",
       "      <td>40.731743</td>\n",
       "      <td>-73.994751</td>\n",
       "      <td>40.694931</td>\n",
       "      <td>N</td>\n",
       "      <td>1100</td>\n",
       "    </tr>\n",
       "    <tr>\n",
       "      <th>2</th>\n",
       "      <td>id0857912</td>\n",
       "      <td>2</td>\n",
       "      <td>2016-02-21 17:59:33</td>\n",
       "      <td>2016-02-21 18:26:48</td>\n",
       "      <td>2</td>\n",
       "      <td>-73.997314</td>\n",
       "      <td>40.721458</td>\n",
       "      <td>-73.948029</td>\n",
       "      <td>40.774918</td>\n",
       "      <td>N</td>\n",
       "      <td>1635</td>\n",
       "    </tr>\n",
       "    <tr>\n",
       "      <th>3</th>\n",
       "      <td>id3744273</td>\n",
       "      <td>2</td>\n",
       "      <td>2016-01-05 09:44:31</td>\n",
       "      <td>2016-01-05 10:03:32</td>\n",
       "      <td>6</td>\n",
       "      <td>-73.961670</td>\n",
       "      <td>40.759720</td>\n",
       "      <td>-73.956779</td>\n",
       "      <td>40.780628</td>\n",
       "      <td>N</td>\n",
       "      <td>1141</td>\n",
       "    </tr>\n",
       "    <tr>\n",
       "      <th>4</th>\n",
       "      <td>id0232939</td>\n",
       "      <td>1</td>\n",
       "      <td>2016-02-17 06:42:23</td>\n",
       "      <td>2016-02-17 06:56:31</td>\n",
       "      <td>1</td>\n",
       "      <td>-74.017120</td>\n",
       "      <td>40.708469</td>\n",
       "      <td>-73.988182</td>\n",
       "      <td>40.740631</td>\n",
       "      <td>N</td>\n",
       "      <td>848</td>\n",
       "    </tr>\n",
       "  </tbody>\n",
       "</table>\n",
       "</div>"
      ],
      "text/plain": [
       "          id  vendor_id      pickup_datetime     dropoff_datetime  \\\n",
       "0  id1080784          2  2016-02-29 16:40:21  2016-02-29 16:47:01   \n",
       "1  id0889885          1  2016-03-11 23:35:37  2016-03-11 23:53:57   \n",
       "2  id0857912          2  2016-02-21 17:59:33  2016-02-21 18:26:48   \n",
       "3  id3744273          2  2016-01-05 09:44:31  2016-01-05 10:03:32   \n",
       "4  id0232939          1  2016-02-17 06:42:23  2016-02-17 06:56:31   \n",
       "\n",
       "   passenger_count  pickup_longitude  pickup_latitude  dropoff_longitude  \\\n",
       "0                1        -73.953918        40.778873         -73.963875   \n",
       "1                2        -73.988312        40.731743         -73.994751   \n",
       "2                2        -73.997314        40.721458         -73.948029   \n",
       "3                6        -73.961670        40.759720         -73.956779   \n",
       "4                1        -74.017120        40.708469         -73.988182   \n",
       "\n",
       "   dropoff_latitude store_and_fwd_flag  trip_duration  \n",
       "0         40.771164                  N            400  \n",
       "1         40.694931                  N           1100  \n",
       "2         40.774918                  N           1635  \n",
       "3         40.780628                  N           1141  \n",
       "4         40.740631                  N            848  "
      ]
     },
     "execution_count": 6,
     "metadata": {},
     "output_type": "execute_result"
    }
   ],
   "source": [
    "df.head()"
   ]
  },
  {
   "cell_type": "markdown",
   "metadata": {},
   "source": [
    "Notes:\n",
    "\n",
    "**id** is not useful and can be dropped\n",
    "**vendor_id** is nominal integer (compared to an ordered value)\n",
    "**pickup_datetime** and **dropoff_datetime** are stored as objects which must be converted to datetime\n",
    "**store_and_fwd_flag** is categorical"
   ]
  },
  {
   "cell_type": "markdown",
   "metadata": {},
   "source": [
    "## Data Dictionary\n",
    "\n",
    "**Demographic information of Customer & Vendor**\n",
    "- id : a unique identifier for each trip\n",
    "- vendor_id : a code indicating the provider associated with the trip record\n",
    "- passenger_count : the number of passengers in the vehicle (driver entered value)\n",
    "**Information about the Trip**\n",
    "- pickup_longitude : date and time when the meter was engaged\n",
    "- pickup_latitude : date and time when the meter was disengaged\n",
    "- dropoff_longitude : the longitude where the meter was disengaged\n",
    "- dropoff_latitude : the latitude where the meter was disengaged\n",
    "- store_and_fwd_flag : This flag indicates whether the trip record was held in vehicle memory before sending to the vendor because the vehicle did not have a connection to the server (Y=store and forward; N=not a store and forward trip)\n",
    "- trip_duration : (target) duration of the trip in seconds\n",
    "\n",
    "There are 10 features and 1 target variable which is trip_duration"
   ]
  },
  {
   "cell_type": "markdown",
   "metadata": {},
   "source": [
    "## Numerical Data"
   ]
  },
  {
   "cell_type": "code",
   "execution_count": 7,
   "metadata": {},
   "outputs": [
    {
     "data": {
      "text/html": [
       "<div>\n",
       "<style scoped>\n",
       "    .dataframe tbody tr th:only-of-type {\n",
       "        vertical-align: middle;\n",
       "    }\n",
       "\n",
       "    .dataframe tbody tr th {\n",
       "        vertical-align: top;\n",
       "    }\n",
       "\n",
       "    .dataframe thead th {\n",
       "        text-align: right;\n",
       "    }\n",
       "</style>\n",
       "<table border=\"1\" class=\"dataframe\">\n",
       "  <thead>\n",
       "    <tr style=\"text-align: right;\">\n",
       "      <th></th>\n",
       "      <th>vendor_id</th>\n",
       "      <th>passenger_count</th>\n",
       "      <th>pickup_longitude</th>\n",
       "      <th>pickup_latitude</th>\n",
       "      <th>dropoff_longitude</th>\n",
       "      <th>dropoff_latitude</th>\n",
       "      <th>trip_duration</th>\n",
       "    </tr>\n",
       "  </thead>\n",
       "  <tbody>\n",
       "    <tr>\n",
       "      <th>count</th>\n",
       "      <td>729322.000000</td>\n",
       "      <td>729322.000000</td>\n",
       "      <td>729322.000000</td>\n",
       "      <td>729322.000000</td>\n",
       "      <td>729322.000000</td>\n",
       "      <td>729322.000000</td>\n",
       "      <td>7.293220e+05</td>\n",
       "    </tr>\n",
       "    <tr>\n",
       "      <th>mean</th>\n",
       "      <td>1.535403</td>\n",
       "      <td>1.662055</td>\n",
       "      <td>-73.973513</td>\n",
       "      <td>40.750919</td>\n",
       "      <td>-73.973422</td>\n",
       "      <td>40.751775</td>\n",
       "      <td>9.522291e+02</td>\n",
       "    </tr>\n",
       "    <tr>\n",
       "      <th>std</th>\n",
       "      <td>0.498745</td>\n",
       "      <td>1.312446</td>\n",
       "      <td>0.069754</td>\n",
       "      <td>0.033594</td>\n",
       "      <td>0.069588</td>\n",
       "      <td>0.036037</td>\n",
       "      <td>3.864626e+03</td>\n",
       "    </tr>\n",
       "    <tr>\n",
       "      <th>min</th>\n",
       "      <td>1.000000</td>\n",
       "      <td>0.000000</td>\n",
       "      <td>-121.933342</td>\n",
       "      <td>34.712234</td>\n",
       "      <td>-121.933304</td>\n",
       "      <td>32.181141</td>\n",
       "      <td>1.000000e+00</td>\n",
       "    </tr>\n",
       "    <tr>\n",
       "      <th>25%</th>\n",
       "      <td>1.000000</td>\n",
       "      <td>1.000000</td>\n",
       "      <td>-73.991859</td>\n",
       "      <td>40.737335</td>\n",
       "      <td>-73.991318</td>\n",
       "      <td>40.735931</td>\n",
       "      <td>3.970000e+02</td>\n",
       "    </tr>\n",
       "    <tr>\n",
       "      <th>50%</th>\n",
       "      <td>2.000000</td>\n",
       "      <td>1.000000</td>\n",
       "      <td>-73.981758</td>\n",
       "      <td>40.754070</td>\n",
       "      <td>-73.979759</td>\n",
       "      <td>40.754509</td>\n",
       "      <td>6.630000e+02</td>\n",
       "    </tr>\n",
       "    <tr>\n",
       "      <th>75%</th>\n",
       "      <td>2.000000</td>\n",
       "      <td>2.000000</td>\n",
       "      <td>-73.967361</td>\n",
       "      <td>40.768314</td>\n",
       "      <td>-73.963036</td>\n",
       "      <td>40.769741</td>\n",
       "      <td>1.075000e+03</td>\n",
       "    </tr>\n",
       "    <tr>\n",
       "      <th>max</th>\n",
       "      <td>2.000000</td>\n",
       "      <td>9.000000</td>\n",
       "      <td>-65.897385</td>\n",
       "      <td>51.881084</td>\n",
       "      <td>-65.897385</td>\n",
       "      <td>43.921028</td>\n",
       "      <td>1.939736e+06</td>\n",
       "    </tr>\n",
       "  </tbody>\n",
       "</table>\n",
       "</div>"
      ],
      "text/plain": [
       "           vendor_id  passenger_count  pickup_longitude  pickup_latitude  \\\n",
       "count  729322.000000    729322.000000     729322.000000    729322.000000   \n",
       "mean        1.535403         1.662055        -73.973513        40.750919   \n",
       "std         0.498745         1.312446          0.069754         0.033594   \n",
       "min         1.000000         0.000000       -121.933342        34.712234   \n",
       "25%         1.000000         1.000000        -73.991859        40.737335   \n",
       "50%         2.000000         1.000000        -73.981758        40.754070   \n",
       "75%         2.000000         2.000000        -73.967361        40.768314   \n",
       "max         2.000000         9.000000        -65.897385        51.881084   \n",
       "\n",
       "       dropoff_longitude  dropoff_latitude  trip_duration  \n",
       "count      729322.000000     729322.000000   7.293220e+05  \n",
       "mean          -73.973422         40.751775   9.522291e+02  \n",
       "std             0.069588          0.036037   3.864626e+03  \n",
       "min          -121.933304         32.181141   1.000000e+00  \n",
       "25%           -73.991318         40.735931   3.970000e+02  \n",
       "50%           -73.979759         40.754509   6.630000e+02  \n",
       "75%           -73.963036         40.769741   1.075000e+03  \n",
       "max           -65.897385         43.921028   1.939736e+06  "
      ]
     },
     "execution_count": 7,
     "metadata": {},
     "output_type": "execute_result"
    }
   ],
   "source": [
    "df.describe()"
   ]
  },
  {
   "cell_type": "markdown",
   "metadata": {},
   "source": [
    "Looking at the min and max values one sees:\n",
    "- most rides have few passengers\n",
    "- trip durations may have 1 second rides - does tha tmake sense?\n",
    "- there may be outliers in the trip durations on the high side\n",
    "- there may be some trip wher ehte distance was much longer than average"
   ]
  },
  {
   "cell_type": "code",
   "execution_count": 8,
   "metadata": {},
   "outputs": [
    {
     "data": {
      "text/plain": [
       "id                    0\n",
       "vendor_id             0\n",
       "pickup_datetime       0\n",
       "dropoff_datetime      0\n",
       "passenger_count       0\n",
       "pickup_longitude      0\n",
       "pickup_latitude       0\n",
       "dropoff_longitude     0\n",
       "dropoff_latitude      0\n",
       "store_and_fwd_flag    0\n",
       "trip_duration         0\n",
       "dtype: int64"
      ]
     },
     "execution_count": 8,
     "metadata": {},
     "output_type": "execute_result"
    }
   ],
   "source": [
    "pd.isnull(df).sum()"
   ]
  },
  {
   "cell_type": "markdown",
   "metadata": {},
   "source": [
    "There are no missing values."
   ]
  },
  {
   "cell_type": "markdown",
   "metadata": {},
   "source": [
    "## Data Preprocessing\n",
    "\n",
    "First, convert date-times.  Also add some useful variations to the data data.  This can be used to see if there are any interesting patterns."
   ]
  },
  {
   "cell_type": "code",
   "execution_count": 9,
   "metadata": {},
   "outputs": [],
   "source": [
    "df['pickup_datetime']=pd.to_datetime(df['pickup_datetime'])\n",
    "df['dropoff_datetime']=pd.to_datetime(df['dropoff_datetime'])"
   ]
  },
  {
   "cell_type": "code",
   "execution_count": 10,
   "metadata": {},
   "outputs": [],
   "source": [
    "df['pickup_day']=df['pickup_datetime'].dt.day_name()\n",
    "df['dropoff_day']=df['dropoff_datetime'].dt.day_name()\n",
    "\n",
    "df['pickup_hour_of_day'] = df['pickup_datetime'].dt.hour\n",
    "df['dropoff_hour_of_day'] = df['dropoff_datetime'].dt.hour"
   ]
  },
  {
   "cell_type": "code",
   "execution_count": 11,
   "metadata": {},
   "outputs": [
    {
     "data": {
      "text/html": [
       "<div>\n",
       "<style scoped>\n",
       "    .dataframe tbody tr th:only-of-type {\n",
       "        vertical-align: middle;\n",
       "    }\n",
       "\n",
       "    .dataframe tbody tr th {\n",
       "        vertical-align: top;\n",
       "    }\n",
       "\n",
       "    .dataframe thead th {\n",
       "        text-align: right;\n",
       "    }\n",
       "</style>\n",
       "<table border=\"1\" class=\"dataframe\">\n",
       "  <thead>\n",
       "    <tr style=\"text-align: right;\">\n",
       "      <th></th>\n",
       "      <th>id</th>\n",
       "      <th>vendor_id</th>\n",
       "      <th>pickup_datetime</th>\n",
       "      <th>dropoff_datetime</th>\n",
       "      <th>passenger_count</th>\n",
       "      <th>pickup_longitude</th>\n",
       "      <th>pickup_latitude</th>\n",
       "      <th>dropoff_longitude</th>\n",
       "      <th>dropoff_latitude</th>\n",
       "      <th>store_and_fwd_flag</th>\n",
       "      <th>trip_duration</th>\n",
       "      <th>pickup_day</th>\n",
       "      <th>dropoff_day</th>\n",
       "      <th>pickup_hour_of_day</th>\n",
       "      <th>dropoff_hour_of_day</th>\n",
       "    </tr>\n",
       "  </thead>\n",
       "  <tbody>\n",
       "    <tr>\n",
       "      <th>0</th>\n",
       "      <td>id1080784</td>\n",
       "      <td>2</td>\n",
       "      <td>2016-02-29 16:40:21</td>\n",
       "      <td>2016-02-29 16:47:01</td>\n",
       "      <td>1</td>\n",
       "      <td>-73.953918</td>\n",
       "      <td>40.778873</td>\n",
       "      <td>-73.963875</td>\n",
       "      <td>40.771164</td>\n",
       "      <td>N</td>\n",
       "      <td>400</td>\n",
       "      <td>Monday</td>\n",
       "      <td>Monday</td>\n",
       "      <td>16</td>\n",
       "      <td>16</td>\n",
       "    </tr>\n",
       "    <tr>\n",
       "      <th>1</th>\n",
       "      <td>id0889885</td>\n",
       "      <td>1</td>\n",
       "      <td>2016-03-11 23:35:37</td>\n",
       "      <td>2016-03-11 23:53:57</td>\n",
       "      <td>2</td>\n",
       "      <td>-73.988312</td>\n",
       "      <td>40.731743</td>\n",
       "      <td>-73.994751</td>\n",
       "      <td>40.694931</td>\n",
       "      <td>N</td>\n",
       "      <td>1100</td>\n",
       "      <td>Friday</td>\n",
       "      <td>Friday</td>\n",
       "      <td>23</td>\n",
       "      <td>23</td>\n",
       "    </tr>\n",
       "    <tr>\n",
       "      <th>2</th>\n",
       "      <td>id0857912</td>\n",
       "      <td>2</td>\n",
       "      <td>2016-02-21 17:59:33</td>\n",
       "      <td>2016-02-21 18:26:48</td>\n",
       "      <td>2</td>\n",
       "      <td>-73.997314</td>\n",
       "      <td>40.721458</td>\n",
       "      <td>-73.948029</td>\n",
       "      <td>40.774918</td>\n",
       "      <td>N</td>\n",
       "      <td>1635</td>\n",
       "      <td>Sunday</td>\n",
       "      <td>Sunday</td>\n",
       "      <td>17</td>\n",
       "      <td>18</td>\n",
       "    </tr>\n",
       "    <tr>\n",
       "      <th>3</th>\n",
       "      <td>id3744273</td>\n",
       "      <td>2</td>\n",
       "      <td>2016-01-05 09:44:31</td>\n",
       "      <td>2016-01-05 10:03:32</td>\n",
       "      <td>6</td>\n",
       "      <td>-73.961670</td>\n",
       "      <td>40.759720</td>\n",
       "      <td>-73.956779</td>\n",
       "      <td>40.780628</td>\n",
       "      <td>N</td>\n",
       "      <td>1141</td>\n",
       "      <td>Tuesday</td>\n",
       "      <td>Tuesday</td>\n",
       "      <td>9</td>\n",
       "      <td>10</td>\n",
       "    </tr>\n",
       "    <tr>\n",
       "      <th>4</th>\n",
       "      <td>id0232939</td>\n",
       "      <td>1</td>\n",
       "      <td>2016-02-17 06:42:23</td>\n",
       "      <td>2016-02-17 06:56:31</td>\n",
       "      <td>1</td>\n",
       "      <td>-74.017120</td>\n",
       "      <td>40.708469</td>\n",
       "      <td>-73.988182</td>\n",
       "      <td>40.740631</td>\n",
       "      <td>N</td>\n",
       "      <td>848</td>\n",
       "      <td>Wednesday</td>\n",
       "      <td>Wednesday</td>\n",
       "      <td>6</td>\n",
       "      <td>6</td>\n",
       "    </tr>\n",
       "  </tbody>\n",
       "</table>\n",
       "</div>"
      ],
      "text/plain": [
       "          id  vendor_id     pickup_datetime    dropoff_datetime  \\\n",
       "0  id1080784          2 2016-02-29 16:40:21 2016-02-29 16:47:01   \n",
       "1  id0889885          1 2016-03-11 23:35:37 2016-03-11 23:53:57   \n",
       "2  id0857912          2 2016-02-21 17:59:33 2016-02-21 18:26:48   \n",
       "3  id3744273          2 2016-01-05 09:44:31 2016-01-05 10:03:32   \n",
       "4  id0232939          1 2016-02-17 06:42:23 2016-02-17 06:56:31   \n",
       "\n",
       "   passenger_count  pickup_longitude  pickup_latitude  dropoff_longitude  \\\n",
       "0                1        -73.953918        40.778873         -73.963875   \n",
       "1                2        -73.988312        40.731743         -73.994751   \n",
       "2                2        -73.997314        40.721458         -73.948029   \n",
       "3                6        -73.961670        40.759720         -73.956779   \n",
       "4                1        -74.017120        40.708469         -73.988182   \n",
       "\n",
       "   dropoff_latitude store_and_fwd_flag  trip_duration pickup_day dropoff_day  \\\n",
       "0         40.771164                  N            400     Monday      Monday   \n",
       "1         40.694931                  N           1100     Friday      Friday   \n",
       "2         40.774918                  N           1635     Sunday      Sunday   \n",
       "3         40.780628                  N           1141    Tuesday     Tuesday   \n",
       "4         40.740631                  N            848  Wednesday   Wednesday   \n",
       "\n",
       "   pickup_hour_of_day  dropoff_hour_of_day  \n",
       "0                  16                   16  \n",
       "1                  23                   23  \n",
       "2                  17                   18  \n",
       "3                   9                   10  \n",
       "4                   6                    6  "
      ]
     },
     "execution_count": 11,
     "metadata": {},
     "output_type": "execute_result"
    }
   ],
   "source": [
    "df.head()"
   ]
  },
  {
   "cell_type": "code",
   "execution_count": 12,
   "metadata": {},
   "outputs": [],
   "source": [
    "def UVA_days(df,var_group):\n",
    "    size = len(var_group)\n",
    "    plt.figure(figsize = (7*size,3),dpi=100)\n",
    "    \n",
    "    for j,i in enumerate(var_group):\n",
    "        \n",
    "        plt.subplot(1, size, j + 1)\n",
    "        sns.countplot(x = i, data = df)\n",
    "        plt.xlabel(f'{i}', fontsize = 10)\n",
    "        plt.ylabel('frequency')"
   ]
  },
  {
   "cell_type": "code",
   "execution_count": 13,
   "metadata": {},
   "outputs": [
    {
     "data": {
      "image/png": "[encoded data removed]",
      "text/plain": [
       "<Figure size 2100x300 with 3 Axes>"
      ]
     },
     "metadata": {
      "needs_background": "light"
     },
     "output_type": "display_data"
    }
   ],
   "source": [
    "UVA_days(df, ['pickup_day', 'dropoff_day', 'pickup_hour_of_day'])"
   ]
  },
  {
   "cell_type": "markdown",
   "metadata": {},
   "source": [
    "Fridays enjoyed the most taxi trips; Mondays experienced the fewest.  Trips pickup in the evening. Nothing really to do further.  Let's evaluate a few other variables like **passenger_count**, **vendor_id**, and **store_and_fwd_flag**."
   ]
  },
  {
   "cell_type": "code",
   "execution_count": 14,
   "metadata": {},
   "outputs": [
    {
     "name": "stderr",
     "output_type": "stream",
     "text": [
      "C:\\Users\\czwea\\anaconda3\\lib\\site-packages\\seaborn\\_decorators.py:36: FutureWarning: Pass the following variable as a keyword arg: x. From version 0.12, the only valid positional argument will be `data`, and passing other arguments without an explicit keyword will result in an error or misinterpretation.\n",
      "  warnings.warn(\n",
      "C:\\Users\\czwea\\anaconda3\\lib\\site-packages\\seaborn\\_decorators.py:36: FutureWarning: Pass the following variable as a keyword arg: x. From version 0.12, the only valid positional argument will be `data`, and passing other arguments without an explicit keyword will result in an error or misinterpretation.\n",
      "  warnings.warn(\n",
      "C:\\Users\\czwea\\anaconda3\\lib\\site-packages\\seaborn\\_decorators.py:36: FutureWarning: Pass the following variable as a keyword arg: x. From version 0.12, the only valid positional argument will be `data`, and passing other arguments without an explicit keyword will result in an error or misinterpretation.\n",
      "  warnings.warn(\n"
     ]
    },
    {
     "data": {
      "text/plain": [
       "Text(0, 0.5, 'Frequency')"
      ]
     },
     "execution_count": 14,
     "metadata": {},
     "output_type": "execute_result"
    },
    {
     "data": {
      "image/png": "[encoded data removed]",
      "text/plain": [
       "<Figure size 1584x432 with 3 Axes>"
      ]
     },
     "metadata": {
      "needs_background": "light"
     },
     "output_type": "display_data"
    }
   ],
   "source": [
    "# Binary Features\n",
    "plt.figure(figsize = (22, 6))\n",
    "#fig, axs = plt.subplot(ncols=2)\n",
    "\n",
    "# Passenger Count\n",
    "plt.subplot(131)\n",
    "sns.countplot(df['passenger_count'])\n",
    "plt.xlabel('Passenger Count')\n",
    "plt.ylabel('Frequency')\n",
    "\n",
    "\n",
    "# vendor_id\n",
    "plt.subplot(132)\n",
    "sns.countplot(df['vendor_id'])\n",
    "plt.xlabel('vendor_id')\n",
    "plt.ylabel('Frequency')\n",
    "\n",
    "# store_and_fwd_flag\n",
    "plt.subplot(133)\n",
    "sns.countplot(df['store_and_fwd_flag'])\n",
    "plt.xlabel('store_and_fwd_flag')\n",
    "plt.ylabel('Frequency')"
   ]
  },
  {
   "cell_type": "markdown",
   "metadata": {},
   "source": [
    "- Most of the trips involve only 1 passenger.  There appear to be no trips with more than 6 passengers.  Will evaluate next.\n",
    "- Vendor 2 has more trips compared to vendor 1\n",
    "- The store_and_fwd_flag values, indicating whether the trip data was sent immediately to the vendor (“0”) or held in the memory of the taxi because there was no connection to the server (“1”), show that there was almost no storing the data"
   ]
  },
  {
   "cell_type": "markdown",
   "metadata": {},
   "source": [
    "### passenger_counts"
   ]
  },
  {
   "cell_type": "code",
   "execution_count": 15,
   "metadata": {},
   "outputs": [
    {
     "data": {
      "text/plain": [
       "1    517415\n",
       "2    105097\n",
       "5     38926\n",
       "3     29692\n",
       "6     24107\n",
       "4     14050\n",
       "0        33\n",
       "9         1\n",
       "7         1\n",
       "Name: passenger_count, dtype: int64"
      ]
     },
     "execution_count": 15,
     "metadata": {},
     "output_type": "execute_result"
    }
   ],
   "source": [
    "df.passenger_count.value_counts()"
   ]
  },
  {
   "cell_type": "markdown",
   "metadata": {},
   "source": [
    "Because there are so few records, remove records with 0, 7 and 9 passengers."
   ]
  },
  {
   "cell_type": "code",
   "execution_count": 16,
   "metadata": {},
   "outputs": [],
   "source": [
    "df = df[df.passenger_count <= 6]\n",
    "df = df[df.passenger_count != 0]"
   ]
  },
  {
   "cell_type": "markdown",
   "metadata": {},
   "source": [
    "### Evaluate Trip Durations"
   ]
  },
  {
   "cell_type": "code",
   "execution_count": 17,
   "metadata": {},
   "outputs": [
    {
     "name": "stdout",
     "output_type": "stream",
     "text": [
      "The value of largest trip duration values are: \n",
      " 21813     1939736\n",
      "259437      86391\n",
      "119185      86387\n",
      "177225      86378\n",
      "496391      86377\n",
      "90557       86369\n",
      "673847      86369\n",
      "163178      86367\n",
      "179065      86365\n",
      "248675      86364\n",
      "Name: trip_duration, dtype: int64 \n",
      "\n",
      "The the number of records with 1 second trips is 12.\n"
     ]
    }
   ],
   "source": [
    "print('The value of largest trip duration values are: \\n {} \\n'.format(df['trip_duration'].nlargest(10)))\n",
    "print('The the number of records with 1 second trips is {}.'.format(len(df[df['trip_duration']==1 ])))"
   ]
  },
  {
   "cell_type": "markdown",
   "metadata": {},
   "source": [
    "The extreme values seem irrational.  Remove them (since there are not that mny of them)."
   ]
  },
  {
   "cell_type": "code",
   "execution_count": 18,
   "metadata": {},
   "outputs": [],
   "source": [
    "df = df[df.trip_duration != df.trip_duration.max()]\n",
    "df = df[df.trip_duration != df.trip_duration.min()]"
   ]
  },
  {
   "cell_type": "markdown",
   "metadata": {},
   "source": [
    "Trip durations in seconds are not easilty understood.  Let's change to durations in minutes.  Also convert to hours."
   ]
  },
  {
   "cell_type": "code",
   "execution_count": 19,
   "metadata": {},
   "outputs": [
    {
     "data": {
      "text/plain": [
       "0          6.666667\n",
       "1         18.333333\n",
       "2         27.250000\n",
       "3         19.016667\n",
       "4         14.133333\n",
       "            ...    \n",
       "729317     4.933333\n",
       "729318     5.250000\n",
       "729319    11.216667\n",
       "729320     7.450000\n",
       "729321    20.400000\n",
       "Name: trip_duration_minutes, Length: 729274, dtype: float64"
      ]
     },
     "execution_count": 19,
     "metadata": {},
     "output_type": "execute_result"
    }
   ],
   "source": [
    "df['trip_duration_minutes']=df['trip_duration']/60\n",
    "df['trip_duration_minutes']"
   ]
  },
  {
   "cell_type": "code",
   "execution_count": 20,
   "metadata": {},
   "outputs": [
    {
     "data": {
      "text/plain": [
       "0         0.111111\n",
       "1         0.305556\n",
       "2         0.454167\n",
       "3         0.316944\n",
       "4         0.235556\n",
       "            ...   \n",
       "729317    0.082222\n",
       "729318    0.087500\n",
       "729319    0.186944\n",
       "729320    0.124167\n",
       "729321    0.340000\n",
       "Name: trip_duration_hours, Length: 729274, dtype: float64"
      ]
     },
     "execution_count": 20,
     "metadata": {},
     "output_type": "execute_result"
    }
   ],
   "source": [
    "df['trip_duration_hours']=df['trip_duration']/3600\n",
    "df['trip_duration_hours']"
   ]
  },
  {
   "cell_type": "markdown",
   "metadata": {},
   "source": [
    "Since we have duration and lat/long, let's calcualte distances and speed"
   ]
  },
  {
   "cell_type": "code",
   "execution_count": 21,
   "metadata": {},
   "outputs": [],
   "source": [
    "# Installed 12/21/20 \n",
    "#!pip install geopy"
   ]
  },
  {
   "cell_type": "code",
   "execution_count": 22,
   "metadata": {},
   "outputs": [],
   "source": [
    "# Code to determine distance from Lat Long\n",
    "# Use Python package geopy (https://pypi.org/project/geopy/\n",
    "# Note distance is between 2 points, not the roads travelled.\n",
    "from geopy.distance import great_circle\n",
    "\n",
    "def distance_travelled(df):\n",
    "    start = (df['pickup_latitude'], df['pickup_longitude'])\n",
    "    stop = (df['dropoff_latitude'], df['dropoff_longitude'])\n",
    "    return great_circle(start, stop).miles\n",
    "\n",
    "df['distance'] = df.apply(lambda x: distance_travelled(x), axis = 1)"
   ]
  },
  {
   "cell_type": "code",
   "execution_count": 23,
   "metadata": {},
   "outputs": [],
   "source": [
    "# In addition to distance, may as well claculate average speed too\n",
    "df['speed'] = (df.distance/(df.trip_duration_minutes/60))"
   ]
  },
  {
   "cell_type": "code",
   "execution_count": 24,
   "metadata": {},
   "outputs": [
    {
     "data": {
      "text/plain": [
       "244913    3504.845423\n",
       "654569    2539.368708\n",
       "146590     876.149993\n",
       "67268      874.957018\n",
       "267279     839.934450\n",
       "697620     804.695388\n",
       "324029     786.356721\n",
       "407313     773.035025\n",
       "695286     707.706217\n",
       "544417     680.689600\n",
       "495047     589.613609\n",
       "531216     575.866132\n",
       "441429     485.503470\n",
       "621372     393.621536\n",
       "691498     362.716198\n",
       "200522     350.582606\n",
       "256315     339.328836\n",
       "512755     296.751679\n",
       "617999     263.996643\n",
       "520778     236.643482\n",
       "Name: speed, dtype: float64"
      ]
     },
     "execution_count": 24,
     "metadata": {},
     "output_type": "execute_result"
    }
   ],
   "source": [
    "df['speed'].sort_values(ascending = False).nlargest(20)"
   ]
  },
  {
   "cell_type": "code",
   "execution_count": 25,
   "metadata": {},
   "outputs": [
    {
     "name": "stdout",
     "output_type": "stream",
     "text": [
      "There are 60 records where the speed is greater than 80 mph.\n",
      "\n"
     ]
    }
   ],
   "source": [
    "print('There are {} records where the speed is greater than 80 mph.\\n'.format(len(df[df['speed'] > 80])))"
   ]
  },
  {
   "cell_type": "markdown",
   "metadata": {},
   "source": [
    "Remove the speeds greater than 80 mph - no ne should be driving that fast!"
   ]
  },
  {
   "cell_type": "code",
   "execution_count": 26,
   "metadata": {},
   "outputs": [],
   "source": [
    "df = df[df.speed < 81]"
   ]
  },
  {
   "cell_type": "code",
   "execution_count": 27,
   "metadata": {},
   "outputs": [
    {
     "name": "stderr",
     "output_type": "stream",
     "text": [
      "C:\\Users\\czwea\\anaconda3\\lib\\site-packages\\seaborn\\_decorators.py:36: FutureWarning: Pass the following variable as a keyword arg: x. From version 0.12, the only valid positional argument will be `data`, and passing other arguments without an explicit keyword will result in an error or misinterpretation.\n",
      "  warnings.warn(\n"
     ]
    },
    {
     "data": {
      "text/plain": [
       "<AxesSubplot:xlabel='speed'>"
      ]
     },
     "execution_count": 27,
     "metadata": {},
     "output_type": "execute_result"
    },
    {
     "data": {
      "image/png": "[encoded data removed]",
      "text/plain": [
       "<Figure size 432x288 with 1 Axes>"
      ]
     },
     "metadata": {
      "needs_background": "light"
     },
     "output_type": "display_data"
    }
   ],
   "source": [
    "sns.boxplot(df['speed'])"
   ]
  },
  {
   "cell_type": "code",
   "execution_count": 28,
   "metadata": {},
   "outputs": [
    {
     "data": {
      "text/plain": [
       "490372    107.515610\n",
       "310115     84.056471\n",
       "99568      72.387624\n",
       "289975     63.216093\n",
       "564421     60.637346\n",
       "             ...    \n",
       "190386      0.000000\n",
       "429159      0.000000\n",
       "398015      0.000000\n",
       "266761      0.000000\n",
       "382621      0.000000\n",
       "Name: distance, Length: 729215, dtype: float64"
      ]
     },
     "execution_count": 28,
     "metadata": {},
     "output_type": "execute_result"
    }
   ],
   "source": [
    "df['distance'].sort_values(ascending = False)"
   ]
  },
  {
   "cell_type": "markdown",
   "metadata": {},
   "source": [
    "Some trips seem much longer than others but it is poosible.  Perhaps a trip from the airport to the end of Long Island."
   ]
  },
  {
   "cell_type": "markdown",
   "metadata": {},
   "source": [
    "What does our data look like now?"
   ]
  },
  {
   "cell_type": "code",
   "execution_count": 29,
   "metadata": {},
   "outputs": [
    {
     "data": {
      "text/html": [
       "<div>\n",
       "<style scoped>\n",
       "    .dataframe tbody tr th:only-of-type {\n",
       "        vertical-align: middle;\n",
       "    }\n",
       "\n",
       "    .dataframe tbody tr th {\n",
       "        vertical-align: top;\n",
       "    }\n",
       "\n",
       "    .dataframe thead th {\n",
       "        text-align: right;\n",
       "    }\n",
       "</style>\n",
       "<table border=\"1\" class=\"dataframe\">\n",
       "  <thead>\n",
       "    <tr style=\"text-align: right;\">\n",
       "      <th></th>\n",
       "      <th>id</th>\n",
       "      <th>vendor_id</th>\n",
       "      <th>pickup_datetime</th>\n",
       "      <th>dropoff_datetime</th>\n",
       "      <th>passenger_count</th>\n",
       "      <th>pickup_longitude</th>\n",
       "      <th>pickup_latitude</th>\n",
       "      <th>dropoff_longitude</th>\n",
       "      <th>dropoff_latitude</th>\n",
       "      <th>store_and_fwd_flag</th>\n",
       "      <th>trip_duration</th>\n",
       "      <th>pickup_day</th>\n",
       "      <th>dropoff_day</th>\n",
       "      <th>pickup_hour_of_day</th>\n",
       "      <th>dropoff_hour_of_day</th>\n",
       "      <th>trip_duration_minutes</th>\n",
       "      <th>trip_duration_hours</th>\n",
       "      <th>distance</th>\n",
       "      <th>speed</th>\n",
       "    </tr>\n",
       "  </thead>\n",
       "  <tbody>\n",
       "    <tr>\n",
       "      <th>0</th>\n",
       "      <td>id1080784</td>\n",
       "      <td>2</td>\n",
       "      <td>2016-02-29 16:40:21</td>\n",
       "      <td>2016-02-29 16:47:01</td>\n",
       "      <td>1</td>\n",
       "      <td>-73.953918</td>\n",
       "      <td>40.778873</td>\n",
       "      <td>-73.963875</td>\n",
       "      <td>40.771164</td>\n",
       "      <td>N</td>\n",
       "      <td>400</td>\n",
       "      <td>Monday</td>\n",
       "      <td>Monday</td>\n",
       "      <td>16</td>\n",
       "      <td>16</td>\n",
       "      <td>6.666667</td>\n",
       "      <td>0.111111</td>\n",
       "      <td>0.745070</td>\n",
       "      <td>6.705632</td>\n",
       "    </tr>\n",
       "    <tr>\n",
       "      <th>1</th>\n",
       "      <td>id0889885</td>\n",
       "      <td>1</td>\n",
       "      <td>2016-03-11 23:35:37</td>\n",
       "      <td>2016-03-11 23:53:57</td>\n",
       "      <td>2</td>\n",
       "      <td>-73.988312</td>\n",
       "      <td>40.731743</td>\n",
       "      <td>-73.994751</td>\n",
       "      <td>40.694931</td>\n",
       "      <td>N</td>\n",
       "      <td>1100</td>\n",
       "      <td>Friday</td>\n",
       "      <td>Friday</td>\n",
       "      <td>23</td>\n",
       "      <td>23</td>\n",
       "      <td>18.333333</td>\n",
       "      <td>0.305556</td>\n",
       "      <td>2.565714</td>\n",
       "      <td>8.396883</td>\n",
       "    </tr>\n",
       "    <tr>\n",
       "      <th>2</th>\n",
       "      <td>id0857912</td>\n",
       "      <td>2</td>\n",
       "      <td>2016-02-21 17:59:33</td>\n",
       "      <td>2016-02-21 18:26:48</td>\n",
       "      <td>2</td>\n",
       "      <td>-73.997314</td>\n",
       "      <td>40.721458</td>\n",
       "      <td>-73.948029</td>\n",
       "      <td>40.774918</td>\n",
       "      <td>N</td>\n",
       "      <td>1635</td>\n",
       "      <td>Sunday</td>\n",
       "      <td>Sunday</td>\n",
       "      <td>17</td>\n",
       "      <td>18</td>\n",
       "      <td>27.250000</td>\n",
       "      <td>0.454167</td>\n",
       "      <td>4.505415</td>\n",
       "      <td>9.920181</td>\n",
       "    </tr>\n",
       "    <tr>\n",
       "      <th>3</th>\n",
       "      <td>id3744273</td>\n",
       "      <td>2</td>\n",
       "      <td>2016-01-05 09:44:31</td>\n",
       "      <td>2016-01-05 10:03:32</td>\n",
       "      <td>6</td>\n",
       "      <td>-73.961670</td>\n",
       "      <td>40.759720</td>\n",
       "      <td>-73.956779</td>\n",
       "      <td>40.780628</td>\n",
       "      <td>N</td>\n",
       "      <td>1141</td>\n",
       "      <td>Tuesday</td>\n",
       "      <td>Tuesday</td>\n",
       "      <td>9</td>\n",
       "      <td>10</td>\n",
       "      <td>19.016667</td>\n",
       "      <td>0.316944</td>\n",
       "      <td>1.467120</td>\n",
       "      <td>4.628950</td>\n",
       "    </tr>\n",
       "    <tr>\n",
       "      <th>4</th>\n",
       "      <td>id0232939</td>\n",
       "      <td>1</td>\n",
       "      <td>2016-02-17 06:42:23</td>\n",
       "      <td>2016-02-17 06:56:31</td>\n",
       "      <td>1</td>\n",
       "      <td>-74.017120</td>\n",
       "      <td>40.708469</td>\n",
       "      <td>-73.988182</td>\n",
       "      <td>40.740631</td>\n",
       "      <td>N</td>\n",
       "      <td>848</td>\n",
       "      <td>Wednesday</td>\n",
       "      <td>Wednesday</td>\n",
       "      <td>6</td>\n",
       "      <td>6</td>\n",
       "      <td>14.133333</td>\n",
       "      <td>0.235556</td>\n",
       "      <td>2.689630</td>\n",
       "      <td>11.418241</td>\n",
       "    </tr>\n",
       "  </tbody>\n",
       "</table>\n",
       "</div>"
      ],
      "text/plain": [
       "          id  vendor_id     pickup_datetime    dropoff_datetime  \\\n",
       "0  id1080784          2 2016-02-29 16:40:21 2016-02-29 16:47:01   \n",
       "1  id0889885          1 2016-03-11 23:35:37 2016-03-11 23:53:57   \n",
       "2  id0857912          2 2016-02-21 17:59:33 2016-02-21 18:26:48   \n",
       "3  id3744273          2 2016-01-05 09:44:31 2016-01-05 10:03:32   \n",
       "4  id0232939          1 2016-02-17 06:42:23 2016-02-17 06:56:31   \n",
       "\n",
       "   passenger_count  pickup_longitude  pickup_latitude  dropoff_longitude  \\\n",
       "0                1        -73.953918        40.778873         -73.963875   \n",
       "1                2        -73.988312        40.731743         -73.994751   \n",
       "2                2        -73.997314        40.721458         -73.948029   \n",
       "3                6        -73.961670        40.759720         -73.956779   \n",
       "4                1        -74.017120        40.708469         -73.988182   \n",
       "\n",
       "   dropoff_latitude store_and_fwd_flag  trip_duration pickup_day dropoff_day  \\\n",
       "0         40.771164                  N            400     Monday      Monday   \n",
       "1         40.694931                  N           1100     Friday      Friday   \n",
       "2         40.774918                  N           1635     Sunday      Sunday   \n",
       "3         40.780628                  N           1141    Tuesday     Tuesday   \n",
       "4         40.740631                  N            848  Wednesday   Wednesday   \n",
       "\n",
       "   pickup_hour_of_day  dropoff_hour_of_day  trip_duration_minutes  \\\n",
       "0                  16                   16               6.666667   \n",
       "1                  23                   23              18.333333   \n",
       "2                  17                   18              27.250000   \n",
       "3                   9                   10              19.016667   \n",
       "4                   6                    6              14.133333   \n",
       "\n",
       "   trip_duration_hours  distance      speed  \n",
       "0             0.111111  0.745070   6.705632  \n",
       "1             0.305556  2.565714   8.396883  \n",
       "2             0.454167  4.505415   9.920181  \n",
       "3             0.316944  1.467120   4.628950  \n",
       "4             0.235556  2.689630  11.418241  "
      ]
     },
     "execution_count": 29,
     "metadata": {},
     "output_type": "execute_result"
    }
   ],
   "source": [
    "df.head()"
   ]
  },
  {
   "cell_type": "markdown",
   "metadata": {},
   "source": [
    "Still have some work to do:\n",
    "\n",
    "- There are records where the speed is 0.  That does not make sense.\n",
    "- There are records where distance is 0.\n",
    "- There are records with no pickup/dropoff times."
   ]
  },
  {
   "cell_type": "code",
   "execution_count": 30,
   "metadata": {},
   "outputs": [
    {
     "data": {
      "text/html": [
       "<div>\n",
       "<style scoped>\n",
       "    .dataframe tbody tr th:only-of-type {\n",
       "        vertical-align: middle;\n",
       "    }\n",
       "\n",
       "    .dataframe tbody tr th {\n",
       "        vertical-align: top;\n",
       "    }\n",
       "\n",
       "    .dataframe thead th {\n",
       "        text-align: right;\n",
       "    }\n",
       "</style>\n",
       "<table border=\"1\" class=\"dataframe\">\n",
       "  <thead>\n",
       "    <tr style=\"text-align: right;\">\n",
       "      <th></th>\n",
       "      <th>id</th>\n",
       "      <th>vendor_id</th>\n",
       "      <th>pickup_datetime</th>\n",
       "      <th>dropoff_datetime</th>\n",
       "      <th>passenger_count</th>\n",
       "      <th>pickup_longitude</th>\n",
       "      <th>pickup_latitude</th>\n",
       "      <th>dropoff_longitude</th>\n",
       "      <th>dropoff_latitude</th>\n",
       "      <th>store_and_fwd_flag</th>\n",
       "      <th>trip_duration</th>\n",
       "      <th>pickup_day</th>\n",
       "      <th>dropoff_day</th>\n",
       "      <th>pickup_hour_of_day</th>\n",
       "      <th>dropoff_hour_of_day</th>\n",
       "      <th>trip_duration_minutes</th>\n",
       "      <th>trip_duration_hours</th>\n",
       "      <th>distance</th>\n",
       "      <th>speed</th>\n",
       "    </tr>\n",
       "  </thead>\n",
       "  <tbody>\n",
       "    <tr>\n",
       "      <th>0</th>\n",
       "      <td>id1080784</td>\n",
       "      <td>2</td>\n",
       "      <td>2016-02-29 16:40:21</td>\n",
       "      <td>2016-02-29 16:47:01</td>\n",
       "      <td>1</td>\n",
       "      <td>-73.953918</td>\n",
       "      <td>40.778873</td>\n",
       "      <td>-73.963875</td>\n",
       "      <td>40.771164</td>\n",
       "      <td>N</td>\n",
       "      <td>400</td>\n",
       "      <td>Monday</td>\n",
       "      <td>Monday</td>\n",
       "      <td>16</td>\n",
       "      <td>16</td>\n",
       "      <td>6.666667</td>\n",
       "      <td>0.111111</td>\n",
       "      <td>0.745070</td>\n",
       "      <td>6.705632</td>\n",
       "    </tr>\n",
       "    <tr>\n",
       "      <th>1</th>\n",
       "      <td>id0889885</td>\n",
       "      <td>1</td>\n",
       "      <td>2016-03-11 23:35:37</td>\n",
       "      <td>2016-03-11 23:53:57</td>\n",
       "      <td>2</td>\n",
       "      <td>-73.988312</td>\n",
       "      <td>40.731743</td>\n",
       "      <td>-73.994751</td>\n",
       "      <td>40.694931</td>\n",
       "      <td>N</td>\n",
       "      <td>1100</td>\n",
       "      <td>Friday</td>\n",
       "      <td>Friday</td>\n",
       "      <td>23</td>\n",
       "      <td>23</td>\n",
       "      <td>18.333333</td>\n",
       "      <td>0.305556</td>\n",
       "      <td>2.565714</td>\n",
       "      <td>8.396883</td>\n",
       "    </tr>\n",
       "    <tr>\n",
       "      <th>2</th>\n",
       "      <td>id0857912</td>\n",
       "      <td>2</td>\n",
       "      <td>2016-02-21 17:59:33</td>\n",
       "      <td>2016-02-21 18:26:48</td>\n",
       "      <td>2</td>\n",
       "      <td>-73.997314</td>\n",
       "      <td>40.721458</td>\n",
       "      <td>-73.948029</td>\n",
       "      <td>40.774918</td>\n",
       "      <td>N</td>\n",
       "      <td>1635</td>\n",
       "      <td>Sunday</td>\n",
       "      <td>Sunday</td>\n",
       "      <td>17</td>\n",
       "      <td>18</td>\n",
       "      <td>27.250000</td>\n",
       "      <td>0.454167</td>\n",
       "      <td>4.505415</td>\n",
       "      <td>9.920181</td>\n",
       "    </tr>\n",
       "    <tr>\n",
       "      <th>3</th>\n",
       "      <td>id3744273</td>\n",
       "      <td>2</td>\n",
       "      <td>2016-01-05 09:44:31</td>\n",
       "      <td>2016-01-05 10:03:32</td>\n",
       "      <td>6</td>\n",
       "      <td>-73.961670</td>\n",
       "      <td>40.759720</td>\n",
       "      <td>-73.956779</td>\n",
       "      <td>40.780628</td>\n",
       "      <td>N</td>\n",
       "      <td>1141</td>\n",
       "      <td>Tuesday</td>\n",
       "      <td>Tuesday</td>\n",
       "      <td>9</td>\n",
       "      <td>10</td>\n",
       "      <td>19.016667</td>\n",
       "      <td>0.316944</td>\n",
       "      <td>1.467120</td>\n",
       "      <td>4.628950</td>\n",
       "    </tr>\n",
       "    <tr>\n",
       "      <th>4</th>\n",
       "      <td>id0232939</td>\n",
       "      <td>1</td>\n",
       "      <td>2016-02-17 06:42:23</td>\n",
       "      <td>2016-02-17 06:56:31</td>\n",
       "      <td>1</td>\n",
       "      <td>-74.017120</td>\n",
       "      <td>40.708469</td>\n",
       "      <td>-73.988182</td>\n",
       "      <td>40.740631</td>\n",
       "      <td>N</td>\n",
       "      <td>848</td>\n",
       "      <td>Wednesday</td>\n",
       "      <td>Wednesday</td>\n",
       "      <td>6</td>\n",
       "      <td>6</td>\n",
       "      <td>14.133333</td>\n",
       "      <td>0.235556</td>\n",
       "      <td>2.689630</td>\n",
       "      <td>11.418241</td>\n",
       "    </tr>\n",
       "  </tbody>\n",
       "</table>\n",
       "</div>"
      ],
      "text/plain": [
       "          id  vendor_id     pickup_datetime    dropoff_datetime  \\\n",
       "0  id1080784          2 2016-02-29 16:40:21 2016-02-29 16:47:01   \n",
       "1  id0889885          1 2016-03-11 23:35:37 2016-03-11 23:53:57   \n",
       "2  id0857912          2 2016-02-21 17:59:33 2016-02-21 18:26:48   \n",
       "3  id3744273          2 2016-01-05 09:44:31 2016-01-05 10:03:32   \n",
       "4  id0232939          1 2016-02-17 06:42:23 2016-02-17 06:56:31   \n",
       "\n",
       "   passenger_count  pickup_longitude  pickup_latitude  dropoff_longitude  \\\n",
       "0                1        -73.953918        40.778873         -73.963875   \n",
       "1                2        -73.988312        40.731743         -73.994751   \n",
       "2                2        -73.997314        40.721458         -73.948029   \n",
       "3                6        -73.961670        40.759720         -73.956779   \n",
       "4                1        -74.017120        40.708469         -73.988182   \n",
       "\n",
       "   dropoff_latitude store_and_fwd_flag  trip_duration pickup_day dropoff_day  \\\n",
       "0         40.771164                  N            400     Monday      Monday   \n",
       "1         40.694931                  N           1100     Friday      Friday   \n",
       "2         40.774918                  N           1635     Sunday      Sunday   \n",
       "3         40.780628                  N           1141    Tuesday     Tuesday   \n",
       "4         40.740631                  N            848  Wednesday   Wednesday   \n",
       "\n",
       "   pickup_hour_of_day  dropoff_hour_of_day  trip_duration_minutes  \\\n",
       "0                  16                   16               6.666667   \n",
       "1                  23                   23              18.333333   \n",
       "2                  17                   18              27.250000   \n",
       "3                   9                   10              19.016667   \n",
       "4                   6                    6              14.133333   \n",
       "\n",
       "   trip_duration_hours  distance      speed  \n",
       "0             0.111111  0.745070   6.705632  \n",
       "1             0.305556  2.565714   8.396883  \n",
       "2             0.454167  4.505415   9.920181  \n",
       "3             0.316944  1.467120   4.628950  \n",
       "4             0.235556  2.689630  11.418241  "
      ]
     },
     "execution_count": 30,
     "metadata": {},
     "output_type": "execute_result"
    }
   ],
   "source": [
    "df = df[df.speed != 0]\n",
    "df = df[df.speed != 0]\n",
    "df = df[df.dropoff_hour_of_day != 0]\n",
    "df = df[df.distance != 0]\n",
    "\n",
    "df.head()"
   ]
  },
  {
   "cell_type": "code",
   "execution_count": 31,
   "metadata": {},
   "outputs": [
    {
     "data": {
      "text/plain": [
       "Index(['id', 'vendor_id', 'pickup_datetime', 'dropoff_datetime',\n",
       "       'passenger_count', 'pickup_longitude', 'pickup_latitude',\n",
       "       'dropoff_longitude', 'dropoff_latitude', 'store_and_fwd_flag',\n",
       "       'trip_duration', 'pickup_day', 'dropoff_day', 'pickup_hour_of_day',\n",
       "       'dropoff_hour_of_day', 'trip_duration_minutes', 'trip_duration_hours',\n",
       "       'distance', 'speed'],\n",
       "      dtype='object')"
      ]
     },
     "execution_count": 31,
     "metadata": {},
     "output_type": "execute_result"
    }
   ],
   "source": [
    "df.columns"
   ]
  },
  {
   "cell_type": "markdown",
   "metadata": {},
   "source": [
    "Not all of these are useful.  In fact, I thought I had already removed *id*.  Ooops.  Some of these will be highly correlated too.  For example, speed, distance, duration are related to one and other as are the lat, long and distance variables.\n",
    "\n",
    "Will drop *trip_duration_minutes* and *trip_duration_hours*.  They were useful for plotting and determining *speed* but are not required for predcition.  Plus, the data is presented in seconds, not minutes or hours.\n",
    "\n",
    "*store_and_fwd_flag* is not available before the start of the trip and should not be used for modelling so remove it too."
   ]
  },
  {
   "cell_type": "code",
   "execution_count": 32,
   "metadata": {},
   "outputs": [
    {
     "data": {
      "text/html": [
       "<div>\n",
       "<style scoped>\n",
       "    .dataframe tbody tr th:only-of-type {\n",
       "        vertical-align: middle;\n",
       "    }\n",
       "\n",
       "    .dataframe tbody tr th {\n",
       "        vertical-align: top;\n",
       "    }\n",
       "\n",
       "    .dataframe thead th {\n",
       "        text-align: right;\n",
       "    }\n",
       "</style>\n",
       "<table border=\"1\" class=\"dataframe\">\n",
       "  <thead>\n",
       "    <tr style=\"text-align: right;\">\n",
       "      <th></th>\n",
       "      <th>vendor_id</th>\n",
       "      <th>passenger_count</th>\n",
       "      <th>pickup_longitude</th>\n",
       "      <th>pickup_latitude</th>\n",
       "      <th>dropoff_longitude</th>\n",
       "      <th>dropoff_latitude</th>\n",
       "      <th>trip_duration</th>\n",
       "      <th>pickup_day</th>\n",
       "      <th>pickup_hour_of_day</th>\n",
       "      <th>distance</th>\n",
       "      <th>speed</th>\n",
       "    </tr>\n",
       "  </thead>\n",
       "  <tbody>\n",
       "    <tr>\n",
       "      <th>0</th>\n",
       "      <td>2</td>\n",
       "      <td>1</td>\n",
       "      <td>-73.953918</td>\n",
       "      <td>40.778873</td>\n",
       "      <td>-73.963875</td>\n",
       "      <td>40.771164</td>\n",
       "      <td>400</td>\n",
       "      <td>Monday</td>\n",
       "      <td>16</td>\n",
       "      <td>0.745070</td>\n",
       "      <td>6.705632</td>\n",
       "    </tr>\n",
       "    <tr>\n",
       "      <th>1</th>\n",
       "      <td>1</td>\n",
       "      <td>2</td>\n",
       "      <td>-73.988312</td>\n",
       "      <td>40.731743</td>\n",
       "      <td>-73.994751</td>\n",
       "      <td>40.694931</td>\n",
       "      <td>1100</td>\n",
       "      <td>Friday</td>\n",
       "      <td>23</td>\n",
       "      <td>2.565714</td>\n",
       "      <td>8.396883</td>\n",
       "    </tr>\n",
       "    <tr>\n",
       "      <th>2</th>\n",
       "      <td>2</td>\n",
       "      <td>2</td>\n",
       "      <td>-73.997314</td>\n",
       "      <td>40.721458</td>\n",
       "      <td>-73.948029</td>\n",
       "      <td>40.774918</td>\n",
       "      <td>1635</td>\n",
       "      <td>Sunday</td>\n",
       "      <td>17</td>\n",
       "      <td>4.505415</td>\n",
       "      <td>9.920181</td>\n",
       "    </tr>\n",
       "    <tr>\n",
       "      <th>3</th>\n",
       "      <td>2</td>\n",
       "      <td>6</td>\n",
       "      <td>-73.961670</td>\n",
       "      <td>40.759720</td>\n",
       "      <td>-73.956779</td>\n",
       "      <td>40.780628</td>\n",
       "      <td>1141</td>\n",
       "      <td>Tuesday</td>\n",
       "      <td>9</td>\n",
       "      <td>1.467120</td>\n",
       "      <td>4.628950</td>\n",
       "    </tr>\n",
       "    <tr>\n",
       "      <th>4</th>\n",
       "      <td>1</td>\n",
       "      <td>1</td>\n",
       "      <td>-74.017120</td>\n",
       "      <td>40.708469</td>\n",
       "      <td>-73.988182</td>\n",
       "      <td>40.740631</td>\n",
       "      <td>848</td>\n",
       "      <td>Wednesday</td>\n",
       "      <td>6</td>\n",
       "      <td>2.689630</td>\n",
       "      <td>11.418241</td>\n",
       "    </tr>\n",
       "  </tbody>\n",
       "</table>\n",
       "</div>"
      ],
      "text/plain": [
       "   vendor_id  passenger_count  pickup_longitude  pickup_latitude  \\\n",
       "0          2                1        -73.953918        40.778873   \n",
       "1          1                2        -73.988312        40.731743   \n",
       "2          2                2        -73.997314        40.721458   \n",
       "3          2                6        -73.961670        40.759720   \n",
       "4          1                1        -74.017120        40.708469   \n",
       "\n",
       "   dropoff_longitude  dropoff_latitude  trip_duration pickup_day  \\\n",
       "0         -73.963875         40.771164            400     Monday   \n",
       "1         -73.994751         40.694931           1100     Friday   \n",
       "2         -73.948029         40.774918           1635     Sunday   \n",
       "3         -73.956779         40.780628           1141    Tuesday   \n",
       "4         -73.988182         40.740631            848  Wednesday   \n",
       "\n",
       "   pickup_hour_of_day  distance      speed  \n",
       "0                  16  0.745070   6.705632  \n",
       "1                  23  2.565714   8.396883  \n",
       "2                  17  4.505415   9.920181  \n",
       "3                   9  1.467120   4.628950  \n",
       "4                   6  2.689630  11.418241  "
      ]
     },
     "execution_count": 32,
     "metadata": {},
     "output_type": "execute_result"
    }
   ],
   "source": [
    "df2 = df.drop(['id', 'pickup_datetime', 'dropoff_datetime', 'trip_duration_hours', 'trip_duration_minutes', 'dropoff_hour_of_day', 'dropoff_day', 'store_and_fwd_flag'], axis = 1)\n",
    "df2.head()"
   ]
  },
  {
   "cell_type": "code",
   "execution_count": 33,
   "metadata": {},
   "outputs": [
    {
     "data": {
      "text/html": [
       "<div>\n",
       "<style scoped>\n",
       "    .dataframe tbody tr th:only-of-type {\n",
       "        vertical-align: middle;\n",
       "    }\n",
       "\n",
       "    .dataframe tbody tr th {\n",
       "        vertical-align: top;\n",
       "    }\n",
       "\n",
       "    .dataframe thead th {\n",
       "        text-align: right;\n",
       "    }\n",
       "</style>\n",
       "<table border=\"1\" class=\"dataframe\">\n",
       "  <thead>\n",
       "    <tr style=\"text-align: right;\">\n",
       "      <th></th>\n",
       "      <th>vendor_id</th>\n",
       "      <th>passenger_count</th>\n",
       "      <th>pickup_longitude</th>\n",
       "      <th>pickup_latitude</th>\n",
       "      <th>dropoff_longitude</th>\n",
       "      <th>dropoff_latitude</th>\n",
       "      <th>trip_duration</th>\n",
       "      <th>pickup_day</th>\n",
       "      <th>pickup_hour_of_day</th>\n",
       "      <th>distance</th>\n",
       "      <th>speed</th>\n",
       "    </tr>\n",
       "  </thead>\n",
       "  <tbody>\n",
       "    <tr>\n",
       "      <th>0</th>\n",
       "      <td>2</td>\n",
       "      <td>1</td>\n",
       "      <td>-73.953918</td>\n",
       "      <td>40.778873</td>\n",
       "      <td>-73.963875</td>\n",
       "      <td>40.771164</td>\n",
       "      <td>400</td>\n",
       "      <td>Monday</td>\n",
       "      <td>16</td>\n",
       "      <td>0.745070</td>\n",
       "      <td>6.705632</td>\n",
       "    </tr>\n",
       "    <tr>\n",
       "      <th>1</th>\n",
       "      <td>1</td>\n",
       "      <td>2</td>\n",
       "      <td>-73.988312</td>\n",
       "      <td>40.731743</td>\n",
       "      <td>-73.994751</td>\n",
       "      <td>40.694931</td>\n",
       "      <td>1100</td>\n",
       "      <td>Friday</td>\n",
       "      <td>23</td>\n",
       "      <td>2.565714</td>\n",
       "      <td>8.396883</td>\n",
       "    </tr>\n",
       "    <tr>\n",
       "      <th>2</th>\n",
       "      <td>2</td>\n",
       "      <td>2</td>\n",
       "      <td>-73.997314</td>\n",
       "      <td>40.721458</td>\n",
       "      <td>-73.948029</td>\n",
       "      <td>40.774918</td>\n",
       "      <td>1635</td>\n",
       "      <td>Sunday</td>\n",
       "      <td>17</td>\n",
       "      <td>4.505415</td>\n",
       "      <td>9.920181</td>\n",
       "    </tr>\n",
       "    <tr>\n",
       "      <th>3</th>\n",
       "      <td>2</td>\n",
       "      <td>6</td>\n",
       "      <td>-73.961670</td>\n",
       "      <td>40.759720</td>\n",
       "      <td>-73.956779</td>\n",
       "      <td>40.780628</td>\n",
       "      <td>1141</td>\n",
       "      <td>Tuesday</td>\n",
       "      <td>9</td>\n",
       "      <td>1.467120</td>\n",
       "      <td>4.628950</td>\n",
       "    </tr>\n",
       "    <tr>\n",
       "      <th>4</th>\n",
       "      <td>1</td>\n",
       "      <td>1</td>\n",
       "      <td>-74.017120</td>\n",
       "      <td>40.708469</td>\n",
       "      <td>-73.988182</td>\n",
       "      <td>40.740631</td>\n",
       "      <td>848</td>\n",
       "      <td>Wednesday</td>\n",
       "      <td>6</td>\n",
       "      <td>2.689630</td>\n",
       "      <td>11.418241</td>\n",
       "    </tr>\n",
       "  </tbody>\n",
       "</table>\n",
       "</div>"
      ],
      "text/plain": [
       "   vendor_id  passenger_count  pickup_longitude  pickup_latitude  \\\n",
       "0          2                1        -73.953918        40.778873   \n",
       "1          1                2        -73.988312        40.731743   \n",
       "2          2                2        -73.997314        40.721458   \n",
       "3          2                6        -73.961670        40.759720   \n",
       "4          1                1        -74.017120        40.708469   \n",
       "\n",
       "   dropoff_longitude  dropoff_latitude  trip_duration pickup_day  \\\n",
       "0         -73.963875         40.771164            400     Monday   \n",
       "1         -73.994751         40.694931           1100     Friday   \n",
       "2         -73.948029         40.774918           1635     Sunday   \n",
       "3         -73.956779         40.780628           1141    Tuesday   \n",
       "4         -73.988182         40.740631            848  Wednesday   \n",
       "\n",
       "   pickup_hour_of_day  distance      speed  \n",
       "0                  16  0.745070   6.705632  \n",
       "1                  23  2.565714   8.396883  \n",
       "2                  17  4.505415   9.920181  \n",
       "3                   9  1.467120   4.628950  \n",
       "4                   6  2.689630  11.418241  "
      ]
     },
     "execution_count": 33,
     "metadata": {},
     "output_type": "execute_result"
    }
   ],
   "source": [
    "df2.head()"
   ]
  },
  {
   "cell_type": "code",
   "execution_count": 34,
   "metadata": {},
   "outputs": [
    {
     "data": {
      "text/plain": [
       "vendor_id               int64\n",
       "passenger_count         int64\n",
       "pickup_longitude      float64\n",
       "pickup_latitude       float64\n",
       "dropoff_longitude     float64\n",
       "dropoff_latitude      float64\n",
       "trip_duration           int64\n",
       "pickup_day             object\n",
       "pickup_hour_of_day      int64\n",
       "distance              float64\n",
       "speed                 float64\n",
       "dtype: object"
      ]
     },
     "execution_count": 34,
     "metadata": {},
     "output_type": "execute_result"
    }
   ],
   "source": [
    "df2.dtypes"
   ]
  },
  {
   "cell_type": "markdown",
   "metadata": {},
   "source": [
    "## Create Dummy Variables\n",
    "\n",
    "Use one-hot encoding to ransform categorical varaibles to numerical one.  This is required for algorithm development."
   ]
  },
  {
   "cell_type": "code",
   "execution_count": 38,
   "metadata": {},
   "outputs": [
    {
     "ename": "KeyError",
     "evalue": "\"None of [Index(['pickup_day'], dtype='object')] are in the [columns]\"",
     "output_type": "error",
     "traceback": [
      "\u001b[1;31m---------------------------------------------------------------------------\u001b[0m",
      "\u001b[1;31mKeyError\u001b[0m                                  Traceback (most recent call last)",
      "\u001b[1;32m<ipython-input-38-1211ec8f79ac>\u001b[0m in \u001b[0;36m<module>\u001b[1;34m\u001b[0m\n\u001b[1;32m----> 1\u001b[1;33m \u001b[0mdf2\u001b[0m \u001b[1;33m=\u001b[0m \u001b[0mpd\u001b[0m\u001b[1;33m.\u001b[0m\u001b[0mget_dummies\u001b[0m\u001b[1;33m(\u001b[0m\u001b[0mdf2\u001b[0m\u001b[1;33m,\u001b[0m \u001b[0mcolumns\u001b[0m \u001b[1;33m=\u001b[0m \u001b[1;33m[\u001b[0m\u001b[1;34m'pickup_day'\u001b[0m\u001b[1;33m]\u001b[0m\u001b[1;33m)\u001b[0m\u001b[1;33m\u001b[0m\u001b[1;33m\u001b[0m\u001b[0m\n\u001b[0m\u001b[0;32m      2\u001b[0m \u001b[0mdf2\u001b[0m\u001b[1;33m.\u001b[0m\u001b[0mhead\u001b[0m\u001b[1;33m(\u001b[0m\u001b[1;33m)\u001b[0m\u001b[1;33m\u001b[0m\u001b[1;33m\u001b[0m\u001b[0m\n",
      "\u001b[1;32m~\\anaconda3\\lib\\site-packages\\pandas\\core\\reshape\\reshape.py\u001b[0m in \u001b[0;36mget_dummies\u001b[1;34m(data, prefix, prefix_sep, dummy_na, columns, sparse, drop_first, dtype)\u001b[0m\n\u001b[0;32m    841\u001b[0m             \u001b[1;32mraise\u001b[0m \u001b[0mTypeError\u001b[0m\u001b[1;33m(\u001b[0m\u001b[1;34m\"Input must be a list-like for parameter `columns`\"\u001b[0m\u001b[1;33m)\u001b[0m\u001b[1;33m\u001b[0m\u001b[1;33m\u001b[0m\u001b[0m\n\u001b[0;32m    842\u001b[0m         \u001b[1;32melse\u001b[0m\u001b[1;33m:\u001b[0m\u001b[1;33m\u001b[0m\u001b[1;33m\u001b[0m\u001b[0m\n\u001b[1;32m--> 843\u001b[1;33m             \u001b[0mdata_to_encode\u001b[0m \u001b[1;33m=\u001b[0m \u001b[0mdata\u001b[0m\u001b[1;33m[\u001b[0m\u001b[0mcolumns\u001b[0m\u001b[1;33m]\u001b[0m\u001b[1;33m\u001b[0m\u001b[1;33m\u001b[0m\u001b[0m\n\u001b[0m\u001b[0;32m    844\u001b[0m \u001b[1;33m\u001b[0m\u001b[0m\n\u001b[0;32m    845\u001b[0m         \u001b[1;31m# validate prefixes and separator to avoid silently dropping cols\u001b[0m\u001b[1;33m\u001b[0m\u001b[1;33m\u001b[0m\u001b[1;33m\u001b[0m\u001b[0m\n",
      "\u001b[1;32m~\\anaconda3\\lib\\site-packages\\pandas\\core\\frame.py\u001b[0m in \u001b[0;36m__getitem__\u001b[1;34m(self, key)\u001b[0m\n\u001b[0;32m   2906\u001b[0m             \u001b[1;32mif\u001b[0m \u001b[0mis_iterator\u001b[0m\u001b[1;33m(\u001b[0m\u001b[0mkey\u001b[0m\u001b[1;33m)\u001b[0m\u001b[1;33m:\u001b[0m\u001b[1;33m\u001b[0m\u001b[1;33m\u001b[0m\u001b[0m\n\u001b[0;32m   2907\u001b[0m                 \u001b[0mkey\u001b[0m \u001b[1;33m=\u001b[0m \u001b[0mlist\u001b[0m\u001b[1;33m(\u001b[0m\u001b[0mkey\u001b[0m\u001b[1;33m)\u001b[0m\u001b[1;33m\u001b[0m\u001b[1;33m\u001b[0m\u001b[0m\n\u001b[1;32m-> 2908\u001b[1;33m             \u001b[0mindexer\u001b[0m \u001b[1;33m=\u001b[0m \u001b[0mself\u001b[0m\u001b[1;33m.\u001b[0m\u001b[0mloc\u001b[0m\u001b[1;33m.\u001b[0m\u001b[0m_get_listlike_indexer\u001b[0m\u001b[1;33m(\u001b[0m\u001b[0mkey\u001b[0m\u001b[1;33m,\u001b[0m \u001b[0maxis\u001b[0m\u001b[1;33m=\u001b[0m\u001b[1;36m1\u001b[0m\u001b[1;33m,\u001b[0m \u001b[0mraise_missing\u001b[0m\u001b[1;33m=\u001b[0m\u001b[1;32mTrue\u001b[0m\u001b[1;33m)\u001b[0m\u001b[1;33m[\u001b[0m\u001b[1;36m1\u001b[0m\u001b[1;33m]\u001b[0m\u001b[1;33m\u001b[0m\u001b[1;33m\u001b[0m\u001b[0m\n\u001b[0m\u001b[0;32m   2909\u001b[0m \u001b[1;33m\u001b[0m\u001b[0m\n\u001b[0;32m   2910\u001b[0m         \u001b[1;31m# take() does not accept boolean indexers\u001b[0m\u001b[1;33m\u001b[0m\u001b[1;33m\u001b[0m\u001b[1;33m\u001b[0m\u001b[0m\n",
      "\u001b[1;32m~\\anaconda3\\lib\\site-packages\\pandas\\core\\indexing.py\u001b[0m in \u001b[0;36m_get_listlike_indexer\u001b[1;34m(self, key, axis, raise_missing)\u001b[0m\n\u001b[0;32m   1252\u001b[0m             \u001b[0mkeyarr\u001b[0m\u001b[1;33m,\u001b[0m \u001b[0mindexer\u001b[0m\u001b[1;33m,\u001b[0m \u001b[0mnew_indexer\u001b[0m \u001b[1;33m=\u001b[0m \u001b[0max\u001b[0m\u001b[1;33m.\u001b[0m\u001b[0m_reindex_non_unique\u001b[0m\u001b[1;33m(\u001b[0m\u001b[0mkeyarr\u001b[0m\u001b[1;33m)\u001b[0m\u001b[1;33m\u001b[0m\u001b[1;33m\u001b[0m\u001b[0m\n\u001b[0;32m   1253\u001b[0m \u001b[1;33m\u001b[0m\u001b[0m\n\u001b[1;32m-> 1254\u001b[1;33m         \u001b[0mself\u001b[0m\u001b[1;33m.\u001b[0m\u001b[0m_validate_read_indexer\u001b[0m\u001b[1;33m(\u001b[0m\u001b[0mkeyarr\u001b[0m\u001b[1;33m,\u001b[0m \u001b[0mindexer\u001b[0m\u001b[1;33m,\u001b[0m \u001b[0maxis\u001b[0m\u001b[1;33m,\u001b[0m \u001b[0mraise_missing\u001b[0m\u001b[1;33m=\u001b[0m\u001b[0mraise_missing\u001b[0m\u001b[1;33m)\u001b[0m\u001b[1;33m\u001b[0m\u001b[1;33m\u001b[0m\u001b[0m\n\u001b[0m\u001b[0;32m   1255\u001b[0m         \u001b[1;32mreturn\u001b[0m \u001b[0mkeyarr\u001b[0m\u001b[1;33m,\u001b[0m \u001b[0mindexer\u001b[0m\u001b[1;33m\u001b[0m\u001b[1;33m\u001b[0m\u001b[0m\n\u001b[0;32m   1256\u001b[0m \u001b[1;33m\u001b[0m\u001b[0m\n",
      "\u001b[1;32m~\\anaconda3\\lib\\site-packages\\pandas\\core\\indexing.py\u001b[0m in \u001b[0;36m_validate_read_indexer\u001b[1;34m(self, key, indexer, axis, raise_missing)\u001b[0m\n\u001b[0;32m   1296\u001b[0m             \u001b[1;32mif\u001b[0m \u001b[0mmissing\u001b[0m \u001b[1;33m==\u001b[0m \u001b[0mlen\u001b[0m\u001b[1;33m(\u001b[0m\u001b[0mindexer\u001b[0m\u001b[1;33m)\u001b[0m\u001b[1;33m:\u001b[0m\u001b[1;33m\u001b[0m\u001b[1;33m\u001b[0m\u001b[0m\n\u001b[0;32m   1297\u001b[0m                 \u001b[0maxis_name\u001b[0m \u001b[1;33m=\u001b[0m \u001b[0mself\u001b[0m\u001b[1;33m.\u001b[0m\u001b[0mobj\u001b[0m\u001b[1;33m.\u001b[0m\u001b[0m_get_axis_name\u001b[0m\u001b[1;33m(\u001b[0m\u001b[0maxis\u001b[0m\u001b[1;33m)\u001b[0m\u001b[1;33m\u001b[0m\u001b[1;33m\u001b[0m\u001b[0m\n\u001b[1;32m-> 1298\u001b[1;33m                 \u001b[1;32mraise\u001b[0m \u001b[0mKeyError\u001b[0m\u001b[1;33m(\u001b[0m\u001b[1;34mf\"None of [{key}] are in the [{axis_name}]\"\u001b[0m\u001b[1;33m)\u001b[0m\u001b[1;33m\u001b[0m\u001b[1;33m\u001b[0m\u001b[0m\n\u001b[0m\u001b[0;32m   1299\u001b[0m \u001b[1;33m\u001b[0m\u001b[0m\n\u001b[0;32m   1300\u001b[0m             \u001b[1;31m# We (temporarily) allow for some missing keys with .loc, except in\u001b[0m\u001b[1;33m\u001b[0m\u001b[1;33m\u001b[0m\u001b[1;33m\u001b[0m\u001b[0m\n",
      "\u001b[1;31mKeyError\u001b[0m: \"None of [Index(['pickup_day'], dtype='object')] are in the [columns]\""
     ]
    }
   ],
   "source": [
    "df2 = pd.get_dummies(df2, columns = ['pickup_day'])\n",
    "df2.head()"
   ]
  },
  {
   "cell_type": "markdown",
   "metadata": {},
   "source": [
    "Create a correlation heatmap"
   ]
  },
  {
   "cell_type": "code",
   "execution_count": 39,
   "metadata": {},
   "outputs": [
    {
     "data": {
      "text/plain": [
       "<AxesSubplot:>"
      ]
     },
     "execution_count": 39,
     "metadata": {},
     "output_type": "execute_result"
    },
    {
     "data": {
      "image/png": "[encoded data removed]",
      "text/plain": [
       "<Figure size 432x288 with 2 Axes>"
      ]
     },
     "metadata": {
      "needs_background": "light"
     },
     "output_type": "display_data"
    }
   ],
   "source": [
    "sns.heatmap(df2.corr(), cmap = \"YlGnBu\", annot = False)"
   ]
  },
  {
   "cell_type": "markdown",
   "metadata": {},
   "source": [
    "Not surprisingly, *distance* and *speed* appear highly correlated.  Let's drop *speed*."
   ]
  },
  {
   "cell_type": "code",
   "execution_count": 40,
   "metadata": {},
   "outputs": [
    {
     "data": {
      "text/plain": [
       "Index(['vendor_id', 'passenger_count', 'pickup_longitude', 'pickup_latitude',\n",
       "       'dropoff_longitude', 'dropoff_latitude', 'trip_duration',\n",
       "       'pickup_hour_of_day', 'distance', 'speed', 'pickup_day_Friday',\n",
       "       'pickup_day_Monday', 'pickup_day_Saturday', 'pickup_day_Sunday',\n",
       "       'pickup_day_Thursday', 'pickup_day_Tuesday', 'pickup_day_Wednesday'],\n",
       "      dtype='object')"
      ]
     },
     "execution_count": 40,
     "metadata": {},
     "output_type": "execute_result"
    }
   ],
   "source": [
    "df2.columns"
   ]
  },
  {
   "cell_type": "code",
   "execution_count": null,
   "metadata": {},
   "outputs": [],
   "source": [
    "#df2 = df2.drop([\"speed\"], axis = 1)"
   ]
  },
  {
   "cell_type": "code",
   "execution_count": null,
   "metadata": {},
   "outputs": [],
   "source": [
    "df2.head()"
   ]
  },
  {
   "cell_type": "markdown",
   "metadata": {},
   "source": [
    "One last step.  Linear regression expects the target value to be continuous.  *trip_duration* is currenty class int.  Cnange to float."
   ]
  },
  {
   "cell_type": "code",
   "execution_count": 41,
   "metadata": {},
   "outputs": [
    {
     "data": {
      "text/plain": [
       "vendor_id                 int64\n",
       "passenger_count           int64\n",
       "pickup_longitude        float64\n",
       "pickup_latitude         float64\n",
       "dropoff_longitude       float64\n",
       "dropoff_latitude        float64\n",
       "trip_duration           float64\n",
       "pickup_hour_of_day        int64\n",
       "distance                float64\n",
       "speed                   float64\n",
       "pickup_day_Friday         uint8\n",
       "pickup_day_Monday         uint8\n",
       "pickup_day_Saturday       uint8\n",
       "pickup_day_Sunday         uint8\n",
       "pickup_day_Thursday       uint8\n",
       "pickup_day_Tuesday        uint8\n",
       "pickup_day_Wednesday      uint8\n",
       "dtype: object"
      ]
     },
     "execution_count": 41,
     "metadata": {},
     "output_type": "execute_result"
    }
   ],
   "source": [
    "df2[\"trip_duration\"] = df2[\"trip_duration\"].astype(float)\n",
    "df2.dtypes"
   ]
  },
  {
   "cell_type": "markdown",
   "metadata": {},
   "source": [
    "The data looks OK.  Time to develop predictive algorithm.  I am sure during the data science process I will return to the data again.  (Perhaps not in this exercise though!)"
   ]
  },
  {
   "cell_type": "markdown",
   "metadata": {},
   "source": [
    "# Taxi Trip Duration Prediction"
   ]
  },
  {
   "cell_type": "code",
   "execution_count": null,
   "metadata": {},
   "outputs": [],
   "source": []
  },
  {
   "cell_type": "markdown",
   "metadata": {},
   "source": [
    "The first model will be the simplets - calcualte the mean duration of all the values in the data set."
   ]
  },
  {
   "cell_type": "code",
   "execution_count": 42,
   "metadata": {},
   "outputs": [
    {
     "data": {
      "text/plain": [
       "946.5906852520075"
      ]
     },
     "execution_count": 42,
     "metadata": {},
     "output_type": "execute_result"
    }
   ],
   "source": [
    "df2.loc[:, \"trip_duration\"].mean()"
   ]
  },
  {
   "cell_type": "markdown",
   "metadata": {},
   "source": [
    "### Train Test Split to create a validation set"
   ]
  },
  {
   "cell_type": "code",
   "execution_count": 44,
   "metadata": {},
   "outputs": [
    {
     "data": {
      "text/plain": [
       "((697539, 16), (697539,))"
      ]
     },
     "execution_count": 44,
     "metadata": {},
     "output_type": "execute_result"
    }
   ],
   "source": [
    "#separating independent and dependent variables\n",
    "x = df2.drop(['trip_duration'], axis=1)\n",
    "y = df2['trip_duration']\n",
    "x.shape, y.shape"
   ]
  },
  {
   "cell_type": "code",
   "execution_count": 45,
   "metadata": {},
   "outputs": [
    {
     "data": {
      "text/html": [
       "<div>\n",
       "<style scoped>\n",
       "    .dataframe tbody tr th:only-of-type {\n",
       "        vertical-align: middle;\n",
       "    }\n",
       "\n",
       "    .dataframe tbody tr th {\n",
       "        vertical-align: top;\n",
       "    }\n",
       "\n",
       "    .dataframe thead th {\n",
       "        text-align: right;\n",
       "    }\n",
       "</style>\n",
       "<table border=\"1\" class=\"dataframe\">\n",
       "  <thead>\n",
       "    <tr style=\"text-align: right;\">\n",
       "      <th></th>\n",
       "      <th>vendor_id</th>\n",
       "      <th>passenger_count</th>\n",
       "      <th>pickup_longitude</th>\n",
       "      <th>pickup_latitude</th>\n",
       "      <th>dropoff_longitude</th>\n",
       "      <th>dropoff_latitude</th>\n",
       "      <th>pickup_hour_of_day</th>\n",
       "      <th>distance</th>\n",
       "      <th>speed</th>\n",
       "      <th>pickup_day_Friday</th>\n",
       "      <th>pickup_day_Monday</th>\n",
       "      <th>pickup_day_Saturday</th>\n",
       "      <th>pickup_day_Sunday</th>\n",
       "      <th>pickup_day_Thursday</th>\n",
       "      <th>pickup_day_Tuesday</th>\n",
       "      <th>pickup_day_Wednesday</th>\n",
       "    </tr>\n",
       "  </thead>\n",
       "  <tbody>\n",
       "    <tr>\n",
       "      <th>0</th>\n",
       "      <td>2</td>\n",
       "      <td>1</td>\n",
       "      <td>-73.953918</td>\n",
       "      <td>40.778873</td>\n",
       "      <td>-73.963875</td>\n",
       "      <td>40.771164</td>\n",
       "      <td>16</td>\n",
       "      <td>0.745070</td>\n",
       "      <td>6.705632</td>\n",
       "      <td>0</td>\n",
       "      <td>1</td>\n",
       "      <td>0</td>\n",
       "      <td>0</td>\n",
       "      <td>0</td>\n",
       "      <td>0</td>\n",
       "      <td>0</td>\n",
       "    </tr>\n",
       "    <tr>\n",
       "      <th>1</th>\n",
       "      <td>1</td>\n",
       "      <td>2</td>\n",
       "      <td>-73.988312</td>\n",
       "      <td>40.731743</td>\n",
       "      <td>-73.994751</td>\n",
       "      <td>40.694931</td>\n",
       "      <td>23</td>\n",
       "      <td>2.565714</td>\n",
       "      <td>8.396883</td>\n",
       "      <td>1</td>\n",
       "      <td>0</td>\n",
       "      <td>0</td>\n",
       "      <td>0</td>\n",
       "      <td>0</td>\n",
       "      <td>0</td>\n",
       "      <td>0</td>\n",
       "    </tr>\n",
       "    <tr>\n",
       "      <th>2</th>\n",
       "      <td>2</td>\n",
       "      <td>2</td>\n",
       "      <td>-73.997314</td>\n",
       "      <td>40.721458</td>\n",
       "      <td>-73.948029</td>\n",
       "      <td>40.774918</td>\n",
       "      <td>17</td>\n",
       "      <td>4.505415</td>\n",
       "      <td>9.920181</td>\n",
       "      <td>0</td>\n",
       "      <td>0</td>\n",
       "      <td>0</td>\n",
       "      <td>1</td>\n",
       "      <td>0</td>\n",
       "      <td>0</td>\n",
       "      <td>0</td>\n",
       "    </tr>\n",
       "    <tr>\n",
       "      <th>3</th>\n",
       "      <td>2</td>\n",
       "      <td>6</td>\n",
       "      <td>-73.961670</td>\n",
       "      <td>40.759720</td>\n",
       "      <td>-73.956779</td>\n",
       "      <td>40.780628</td>\n",
       "      <td>9</td>\n",
       "      <td>1.467120</td>\n",
       "      <td>4.628950</td>\n",
       "      <td>0</td>\n",
       "      <td>0</td>\n",
       "      <td>0</td>\n",
       "      <td>0</td>\n",
       "      <td>0</td>\n",
       "      <td>1</td>\n",
       "      <td>0</td>\n",
       "    </tr>\n",
       "    <tr>\n",
       "      <th>4</th>\n",
       "      <td>1</td>\n",
       "      <td>1</td>\n",
       "      <td>-74.017120</td>\n",
       "      <td>40.708469</td>\n",
       "      <td>-73.988182</td>\n",
       "      <td>40.740631</td>\n",
       "      <td>6</td>\n",
       "      <td>2.689630</td>\n",
       "      <td>11.418241</td>\n",
       "      <td>0</td>\n",
       "      <td>0</td>\n",
       "      <td>0</td>\n",
       "      <td>0</td>\n",
       "      <td>0</td>\n",
       "      <td>0</td>\n",
       "      <td>1</td>\n",
       "    </tr>\n",
       "  </tbody>\n",
       "</table>\n",
       "</div>"
      ],
      "text/plain": [
       "   vendor_id  passenger_count  pickup_longitude  pickup_latitude  \\\n",
       "0          2                1        -73.953918        40.778873   \n",
       "1          1                2        -73.988312        40.731743   \n",
       "2          2                2        -73.997314        40.721458   \n",
       "3          2                6        -73.961670        40.759720   \n",
       "4          1                1        -74.017120        40.708469   \n",
       "\n",
       "   dropoff_longitude  dropoff_latitude  pickup_hour_of_day  distance  \\\n",
       "0         -73.963875         40.771164                  16  0.745070   \n",
       "1         -73.994751         40.694931                  23  2.565714   \n",
       "2         -73.948029         40.774918                  17  4.505415   \n",
       "3         -73.956779         40.780628                   9  1.467120   \n",
       "4         -73.988182         40.740631                   6  2.689630   \n",
       "\n",
       "       speed  pickup_day_Friday  pickup_day_Monday  pickup_day_Saturday  \\\n",
       "0   6.705632                  0                  1                    0   \n",
       "1   8.396883                  1                  0                    0   \n",
       "2   9.920181                  0                  0                    0   \n",
       "3   4.628950                  0                  0                    0   \n",
       "4  11.418241                  0                  0                    0   \n",
       "\n",
       "   pickup_day_Sunday  pickup_day_Thursday  pickup_day_Tuesday  \\\n",
       "0                  0                    0                   0   \n",
       "1                  0                    0                   0   \n",
       "2                  1                    0                   0   \n",
       "3                  0                    0                   1   \n",
       "4                  0                    0                   0   \n",
       "\n",
       "   pickup_day_Wednesday  \n",
       "0                     0  \n",
       "1                     0  \n",
       "2                     0  \n",
       "3                     0  \n",
       "4                     1  "
      ]
     },
     "execution_count": 45,
     "metadata": {},
     "output_type": "execute_result"
    }
   ],
   "source": [
    "x.head()"
   ]
  },
  {
   "cell_type": "code",
   "execution_count": 46,
   "metadata": {},
   "outputs": [
    {
     "data": {
      "text/plain": [
       "0     400.0\n",
       "1    1100.0\n",
       "2    1635.0\n",
       "3    1141.0\n",
       "4     848.0\n",
       "Name: trip_duration, dtype: float64"
      ]
     },
     "execution_count": 46,
     "metadata": {},
     "output_type": "execute_result"
    }
   ],
   "source": [
    "y.head()"
   ]
  },
  {
   "cell_type": "code",
   "execution_count": 47,
   "metadata": {},
   "outputs": [],
   "source": [
    "train_x, test_x, train_y, test_y = train_test_split(x, y, random_state = 123)"
   ]
  },
  {
   "cell_type": "markdown",
   "metadata": {},
   "source": [
    "Let's now fit a linear regression model."
   ]
  },
  {
   "cell_type": "code",
   "execution_count": 48,
   "metadata": {},
   "outputs": [
    {
     "data": {
      "text/plain": [
       "LinearRegression(normalize=True)"
      ]
     },
     "execution_count": 48,
     "metadata": {},
     "output_type": "execute_result"
    }
   ],
   "source": [
    "# Creating instance of Linear Regresssion\n",
    "from sklearn.linear_model import LinearRegression as LR\n",
    "lr = LR(normalize = True)\n",
    "\n",
    "# Fitting the model\n",
    "lr.fit(train_x, train_y)"
   ]
  },
  {
   "cell_type": "code",
   "execution_count": 49,
   "metadata": {},
   "outputs": [
    {
     "name": "stdout",
     "output_type": "stream",
     "text": [
      "Training Mean Absolute Error 403.55721893075463\n"
     ]
    }
   ],
   "source": [
    "# Predicting over the Train Set and calculating error\n",
    "train_predict = lr.predict(train_x)\n",
    "k = mae(train_predict, train_y)\n",
    "print('Training Mean Absolute Error', k )"
   ]
  },
  {
   "cell_type": "code",
   "execution_count": 50,
   "metadata": {},
   "outputs": [
    {
     "name": "stdout",
     "output_type": "stream",
     "text": [
      "Test Mean Absolute Error     403.77967034148577\n"
     ]
    }
   ],
   "source": [
    "# Predicting over the Test Set and calculating error\n",
    "test_predict = lr.predict(test_x)\n",
    "k = mae(test_predict, test_y)\n",
    "print('Test Mean Absolute Error    ', k )"
   ]
  },
  {
   "cell_type": "markdown",
   "metadata": {},
   "source": [
    "### Cross validation\n",
    "\n",
    "\n",
    "Cross Validation is one of the most important concepts in any type of data modelling. It simply says, try to leave a sample on which you do not train the model and test the model on this sample before finalizing the model.\n",
    "\n",
    "We divide the entire population into k equal samples. Now we train models on k-1 samples and validate on 1 sample. Then, at the second iteration we train the model with a different sample held as validation. \n",
    "\n",
    "In k iterations, we have basically built model on each sample and held each of them as validation. This is a way to reduce the selection bias and reduce the variance in prediction power.\n",
    "\n",
    "Since it builds several models on different subsets of the dataset, we can be more sure of our model performance if we use CV for testing our models."
   ]
  }
 ],
 "metadata": {
  "kernelspec": {
   "display_name": "Python 3",
   "language": "python",
   "name": "python3"
  },
  "language_info": {
   "codemirror_mode": {
    "name": "ipython",
    "version": 3
   },
   "file_extension": ".py",
   "mimetype": "text/x-python",
   "name": "python",
   "nbconvert_exporter": "python",
   "pygments_lexer": "ipython3",
   "version": "3.8.5"
  }
 },
 "nbformat": 4,
 "nbformat_minor": 4
}
