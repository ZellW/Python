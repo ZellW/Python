{
 "cells": [
  {
   "cell_type": "markdown",
   "metadata": {
    "colab_type": "text",
    "id": "C29XJ6llvE6L"
   },
   "source": [
    "## Table of Contents\n",
    "\n",
    "1. Loading the dataset\n",
    "2. Data Pre-processing\n",
    "3. Rule 1 - Extracting the sentences with President's mention\n",
    "4. Rule 2 - Extracting the mentions of initiatives\n",
    "5. Rule 3 - Relation Extraction part 1\n",
    "6. Rule 4 - Relation Extraction part 2\n",
    "7. Combining Rule 3 and Rule 4\n",
    "8. Rule 5: Patterns using Preposition"
   ]
  },
  {
   "cell_type": "markdown",
   "metadata": {
    "colab_type": "text",
    "id": "Rmqou8Fn6MYD"
   },
   "source": [
    "## 1. Loading the dataset"
   ]
  },
  {
   "cell_type": "raw",
   "metadata": {
    "colab": {
     "base_uri": "https://localhost:8080/",
     "height": 124
    },
    "colab_type": "code",
    "executionInfo": {
     "elapsed": 27248,
     "status": "ok",
     "timestamp": 1598965359032,
     "user": {
      "displayName": "Aishwarya Singh",
      "photoUrl": "https://lh3.googleusercontent.com/a-/AOh14GgeJwfn4BdBDCAplWi_kdtB9FRssOpXO7T_aMgg=s64",
      "userId": "01105858832371513140"
     },
     "user_tz": -330
    },
    "id": "-6oaEaKnr_Mp",
    "outputId": "68c8d9f4-1402-49d2-f10a-5203359fbb5b"
   },
   "source": [
    "# mounting the drive\n",
    "from google.colab import drive\n",
    "drive.mount('/content/drive')"
   ]
  },
  {
   "cell_type": "raw",
   "metadata": {
    "colab": {
     "base_uri": "https://localhost:8080/",
     "height": 1000
    },
    "colab_type": "code",
    "executionInfo": {
     "elapsed": 11397,
     "status": "ok",
     "timestamp": 1598965366693,
     "user": {
      "displayName": "Aishwarya Singh",
      "photoUrl": "https://lh3.googleusercontent.com/a-/AOh14GgeJwfn4BdBDCAplWi_kdtB9FRssOpXO7T_aMgg=s64",
      "userId": "01105858832371513140"
     },
     "user_tz": -330
    },
    "id": "ePCibLUUvl9G",
    "outputId": "c41437e3-3cb1-4684-b38e-8bfe53f33adb"
   },
   "source": [
    "# extract the zip file\n",
    "!unzip '/content/drive/My Drive/UNGDC+1970-2018.zip'"
   ]
  },
  {
   "cell_type": "raw",
   "metadata": {
    "colab": {
     "base_uri": "https://localhost:8080/",
     "height": 312
    },
    "colab_type": "code",
    "executionInfo": {
     "elapsed": 1094,
     "status": "ok",
     "timestamp": 1598965394203,
     "user": {
      "displayName": "Aishwarya Singh",
      "photoUrl": "https://lh3.googleusercontent.com/a-/AOh14GgeJwfn4BdBDCAplWi_kdtB9FRssOpXO7T_aMgg=s64",
      "userId": "01105858832371513140"
     },
     "user_tz": -330
    },
    "id": "sL83J4ewx17L",
    "outputId": "bf9b26a5-c247-4d48-835f-6feef095a6d5"
   },
   "source": [
    "# folders of different sessions of speeches\n",
    "!ls Converted\\ sessions"
   ]
  },
  {
   "cell_type": "raw",
   "metadata": {
    "colab": {
     "base_uri": "https://localhost:8080/",
     "height": 330
    },
    "colab_type": "code",
    "executionInfo": {
     "elapsed": 1186,
     "status": "ok",
     "timestamp": 1598965397527,
     "user": {
      "displayName": "Aishwarya Singh",
      "photoUrl": "https://lh3.googleusercontent.com/a-/AOh14GgeJwfn4BdBDCAplWi_kdtB9FRssOpXO7T_aMgg=s64",
      "userId": "01105858832371513140"
     },
     "user_tz": -330
    },
    "id": "TbDJBsdHyzuJ",
    "outputId": "227451b9-056e-40c2-8eb6-4cdcb9227387"
   },
   "source": [
    "# speeches in a single folder\n",
    "!ls Converted\\ sessions/Session\\ 25\\ -\\ 1970 "
   ]
  },
  {
   "cell_type": "markdown",
   "metadata": {
    "colab_type": "text",
    "id": "INktBlrClQ78"
   },
   "source": [
    "## 2. Data Pre-processing"
   ]
  },
  {
   "cell_type": "code",
   "execution_count": 1,
   "metadata": {
    "colab": {},
    "colab_type": "code",
    "executionInfo": {
     "elapsed": 2075,
     "status": "ok",
     "timestamp": 1598965449525,
     "user": {
      "displayName": "Aishwarya Singh",
      "photoUrl": "https://lh3.googleusercontent.com/a-/AOh14GgeJwfn4BdBDCAplWi_kdtB9FRssOpXO7T_aMgg=s64",
      "userId": "01105858832371513140"
     },
     "user_tz": -330
    },
    "id": "puY9r5vXzOjo"
   },
   "outputs": [],
   "source": [
    "# importing libraries\n",
    "import glob\n",
    "import pandas as pd\n",
    "import re"
   ]
  },
  {
   "cell_type": "code",
   "execution_count": 6,
   "metadata": {
    "colab": {},
    "colab_type": "code",
    "executionInfo": {
     "elapsed": 933,
     "status": "ok",
     "timestamp": 1598965451698,
     "user": {
      "displayName": "Aishwarya Singh",
      "photoUrl": "https://lh3.googleusercontent.com/a-/AOh14GgeJwfn4BdBDCAplWi_kdtB9FRssOpXO7T_aMgg=s64",
      "userId": "01105858832371513140"
     },
     "user_tz": -330
    },
    "id": "YEHe7dMSzBAM"
   },
   "outputs": [],
   "source": [
    "# names of all the folders in the dataset\n",
    "folders = glob.glob('Converted sessions/Session*')"
   ]
  },
  {
   "cell_type": "code",
   "execution_count": 4,
   "metadata": {},
   "outputs": [],
   "source": [
    "folders = glob.glob(\"d:/LargeData/analytics_vidhya_united_nations/Session*\")"
   ]
  },
  {
   "cell_type": "code",
   "execution_count": 5,
   "metadata": {
    "colab": {
     "base_uri": "https://localhost:8080/",
     "height": 868
    },
    "colab_type": "code",
    "executionInfo": {
     "elapsed": 803,
     "status": "ok",
     "timestamp": 1598965457006,
     "user": {
      "displayName": "Aishwarya Singh",
      "photoUrl": "https://lh3.googleusercontent.com/a-/AOh14GgeJwfn4BdBDCAplWi_kdtB9FRssOpXO7T_aMgg=s64",
      "userId": "01105858832371513140"
     },
     "user_tz": -330
    },
    "id": "JwlD3sYdzNZc",
    "outputId": "4976ed4b-5b34-4f19-bb24-18caff7b5830"
   },
   "outputs": [
    {
     "data": {
      "text/plain": [
       "['d:/LargeData/analytics_vidhya_united_nations\\\\Session 42 - 1987',\n",
       " 'd:/LargeData/analytics_vidhya_united_nations\\\\Session 43 - 1988',\n",
       " 'd:/LargeData/analytics_vidhya_united_nations\\\\Session 44 - 1989',\n",
       " 'd:/LargeData/analytics_vidhya_united_nations\\\\Session 45 - 1990',\n",
       " 'd:/LargeData/analytics_vidhya_united_nations\\\\Session 46 - 1991',\n",
       " 'd:/LargeData/analytics_vidhya_united_nations\\\\Session 47 - 1992',\n",
       " 'd:/LargeData/analytics_vidhya_united_nations\\\\Session 48 - 1993',\n",
       " 'd:/LargeData/analytics_vidhya_united_nations\\\\Session 49 - 1994',\n",
       " 'd:/LargeData/analytics_vidhya_united_nations\\\\Session 50 - 1995',\n",
       " 'd:/LargeData/analytics_vidhya_united_nations\\\\Session 51 - 1996',\n",
       " 'd:/LargeData/analytics_vidhya_united_nations\\\\Session 52 - 1997',\n",
       " 'd:/LargeData/analytics_vidhya_united_nations\\\\Session 53 - 1998',\n",
       " 'd:/LargeData/analytics_vidhya_united_nations\\\\Session 54 - 1999',\n",
       " 'd:/LargeData/analytics_vidhya_united_nations\\\\Session 55 - 2000',\n",
       " 'd:/LargeData/analytics_vidhya_united_nations\\\\Session 56 - 2001',\n",
       " 'd:/LargeData/analytics_vidhya_united_nations\\\\Session 57 - 2002',\n",
       " 'd:/LargeData/analytics_vidhya_united_nations\\\\Session 58 - 2003',\n",
       " 'd:/LargeData/analytics_vidhya_united_nations\\\\Session 59 - 2004',\n",
       " 'd:/LargeData/analytics_vidhya_united_nations\\\\Session 60 - 2005',\n",
       " 'd:/LargeData/analytics_vidhya_united_nations\\\\Session 61 - 2006',\n",
       " 'd:/LargeData/analytics_vidhya_united_nations\\\\Session 62 - 2007',\n",
       " 'd:/LargeData/analytics_vidhya_united_nations\\\\Session 63 - 2008',\n",
       " 'd:/LargeData/analytics_vidhya_united_nations\\\\Session 64 - 2009',\n",
       " 'd:/LargeData/analytics_vidhya_united_nations\\\\Session 65 - 2010',\n",
       " 'd:/LargeData/analytics_vidhya_united_nations\\\\Session 66 - 2011',\n",
       " 'd:/LargeData/analytics_vidhya_united_nations\\\\Session 67 - 2012',\n",
       " 'd:/LargeData/analytics_vidhya_united_nations\\\\Session 68 - 2013',\n",
       " 'd:/LargeData/analytics_vidhya_united_nations\\\\Session 69 - 2014',\n",
       " 'd:/LargeData/analytics_vidhya_united_nations\\\\Session 70 - 2015',\n",
       " 'd:/LargeData/analytics_vidhya_united_nations\\\\Session 71 - 2016',\n",
       " 'd:/LargeData/analytics_vidhya_united_nations\\\\Session 72 - 2017',\n",
       " 'd:/LargeData/analytics_vidhya_united_nations\\\\Session 73 - 2018',\n",
       " 'd:/LargeData/analytics_vidhya_united_nations\\\\Session 25 - 1970',\n",
       " 'd:/LargeData/analytics_vidhya_united_nations\\\\Session 26 - 1971',\n",
       " 'd:/LargeData/analytics_vidhya_united_nations\\\\Session 27 - 1972',\n",
       " 'd:/LargeData/analytics_vidhya_united_nations\\\\Session 28 - 1973',\n",
       " 'd:/LargeData/analytics_vidhya_united_nations\\\\Session 29 - 1974',\n",
       " 'd:/LargeData/analytics_vidhya_united_nations\\\\Session 30 - 1975',\n",
       " 'd:/LargeData/analytics_vidhya_united_nations\\\\Session 31 - 1976',\n",
       " 'd:/LargeData/analytics_vidhya_united_nations\\\\Session 32 - 1977',\n",
       " 'd:/LargeData/analytics_vidhya_united_nations\\\\Session 33 - 1978',\n",
       " 'd:/LargeData/analytics_vidhya_united_nations\\\\Session 34 - 1979',\n",
       " 'd:/LargeData/analytics_vidhya_united_nations\\\\Session 35 - 1980',\n",
       " 'd:/LargeData/analytics_vidhya_united_nations\\\\Session 36 - 1981',\n",
       " 'd:/LargeData/analytics_vidhya_united_nations\\\\Session 37 - 1982',\n",
       " 'd:/LargeData/analytics_vidhya_united_nations\\\\Session 38 - 1983',\n",
       " 'd:/LargeData/analytics_vidhya_united_nations\\\\Session 39 - 1984',\n",
       " 'd:/LargeData/analytics_vidhya_united_nations\\\\Session 40 - 1985',\n",
       " 'd:/LargeData/analytics_vidhya_united_nations\\\\Session 41 - 1986']"
      ]
     },
     "execution_count": 5,
     "metadata": {},
     "output_type": "execute_result"
    }
   ],
   "source": [
    "# list of folders\n",
    "folders"
   ]
  },
  {
   "cell_type": "code",
   "execution_count": 6,
   "metadata": {
    "colab": {},
    "colab_type": "code",
    "executionInfo": {
     "elapsed": 1116,
     "status": "ok",
     "timestamp": 1598965473984,
     "user": {
      "displayName": "Aishwarya Singh",
      "photoUrl": "https://lh3.googleusercontent.com/a-/AOh14GgeJwfn4BdBDCAplWi_kdtB9FRssOpXO7T_aMgg=s64",
      "userId": "01105858832371513140"
     },
     "user_tz": -330
    },
    "id": "KBm93qk7zRM7"
   },
   "outputs": [],
   "source": [
    "# creating a Dataframe to store the speeches\n",
    "df = pd.DataFrame(columns={'Country','Speech','Session','Year'})"
   ]
  },
  {
   "cell_type": "code",
   "execution_count": 7,
   "metadata": {
    "colab": {},
    "colab_type": "code",
    "executionInfo": {
     "elapsed": 1353,
     "status": "ok",
     "timestamp": 1598965510415,
     "user": {
      "displayName": "Aishwarya Singh",
      "photoUrl": "https://lh3.googleusercontent.com/a-/AOh14GgeJwfn4BdBDCAplWi_kdtB9FRssOpXO7T_aMgg=s64",
      "userId": "01105858832371513140"
     },
     "user_tz": -330
    },
    "id": "qAE1QL7Gzauv"
   },
   "outputs": [],
   "source": [
    "# read speeches by USA\n",
    "i = 0 \n",
    "# for each folder\n",
    "for file in folders:\n",
    "    # getting the txt file containing speech of USA    \n",
    "    speech = glob.glob(file+'/USA*.txt')\n",
    "    # reading the txt file\n",
    "    with open(speech[0],encoding='utf8') as f:\n",
    "        # reading the speech\n",
    "        df.loc[i,'Speech'] = f.read()\n",
    "        # extracting the year of speech\n",
    "        df.loc[i,'Year'] = speech[0].split('_')[-1].split('.')[0]\n",
    "        # extracting the session\n",
    "        df.loc[i,'Session'] = speech[0].split('_')[-2]\n",
    "        # storing the country name\n",
    "        df.loc[i,'Country'] = speech[0].split('_')[0].split(\"/\")[-1]\n",
    "        # Increment counter\n",
    "        i += 1"
   ]
  },
  {
   "cell_type": "code",
   "execution_count": 8,
   "metadata": {
    "colab": {
     "base_uri": "https://localhost:8080/",
     "height": 206
    },
    "colab_type": "code",
    "executionInfo": {
     "elapsed": 1042,
     "status": "ok",
     "timestamp": 1598965512444,
     "user": {
      "displayName": "Aishwarya Singh",
      "photoUrl": "https://lh3.googleusercontent.com/a-/AOh14GgeJwfn4BdBDCAplWi_kdtB9FRssOpXO7T_aMgg=s64",
      "userId": "01105858832371513140"
     },
     "user_tz": -330
    },
    "id": "HgpcgGcRzhzr",
    "outputId": "baf8cf0d-acd9-4919-b17d-4d1f53a6a706"
   },
   "outputs": [
    {
     "data": {
      "text/html": [
       "<div>\n",
       "<style scoped>\n",
       "    .dataframe tbody tr th:only-of-type {\n",
       "        vertical-align: middle;\n",
       "    }\n",
       "\n",
       "    .dataframe tbody tr th {\n",
       "        vertical-align: top;\n",
       "    }\n",
       "\n",
       "    .dataframe thead th {\n",
       "        text-align: right;\n",
       "    }\n",
       "</style>\n",
       "<table border=\"1\" class=\"dataframe\">\n",
       "  <thead>\n",
       "    <tr style=\"text-align: right;\">\n",
       "      <th></th>\n",
       "      <th>Session</th>\n",
       "      <th>Country</th>\n",
       "      <th>Year</th>\n",
       "      <th>Speech</th>\n",
       "    </tr>\n",
       "  </thead>\n",
       "  <tbody>\n",
       "    <tr>\n",
       "      <th>0</th>\n",
       "      <td>42</td>\n",
       "      <td>analytics</td>\n",
       "      <td>1987</td>\n",
       "      <td>﻿Let me first welcome the Secretary-General ba...</td>\n",
       "    </tr>\n",
       "    <tr>\n",
       "      <th>1</th>\n",
       "      <td>43</td>\n",
       "      <td>analytics</td>\n",
       "      <td>1988</td>\n",
       "      <td>﻿\\nHalf a world away from this place of peace,...</td>\n",
       "    </tr>\n",
       "    <tr>\n",
       "      <th>2</th>\n",
       "      <td>44</td>\n",
       "      <td>analytics</td>\n",
       "      <td>1989</td>\n",
       "      <td>﻿I am honoured to address the General Assembly...</td>\n",
       "    </tr>\n",
       "    <tr>\n",
       "      <th>3</th>\n",
       "      <td>45</td>\n",
       "      <td>analytics</td>\n",
       "      <td>1990</td>\n",
       "      <td>﻿\\nIt is really a great privilege to greet you...</td>\n",
       "    </tr>\n",
       "    <tr>\n",
       "      <th>4</th>\n",
       "      <td>46</td>\n",
       "      <td>analytics</td>\n",
       "      <td>1991</td>\n",
       "      <td>﻿I am honoured to speak with you as you open t...</td>\n",
       "    </tr>\n",
       "  </tbody>\n",
       "</table>\n",
       "</div>"
      ],
      "text/plain": [
       "  Session    Country  Year                                             Speech\n",
       "0      42  analytics  1987  ﻿Let me first welcome the Secretary-General ba...\n",
       "1      43  analytics  1988  ﻿\\nHalf a world away from this place of peace,...\n",
       "2      44  analytics  1989  ﻿I am honoured to address the General Assembly...\n",
       "3      45  analytics  1990  ﻿\\nIt is really a great privilege to greet you...\n",
       "4      46  analytics  1991  ﻿I am honoured to speak with you as you open t..."
      ]
     },
     "execution_count": 8,
     "metadata": {},
     "output_type": "execute_result"
    }
   ],
   "source": [
    "# first 5 rows of the created dataset    \n",
    "df.head()"
   ]
  },
  {
   "cell_type": "code",
   "execution_count": 9,
   "metadata": {
    "colab": {
     "base_uri": "https://localhost:8080/",
     "height": 140
    },
    "colab_type": "code",
    "executionInfo": {
     "elapsed": 1163,
     "status": "ok",
     "timestamp": 1598965536187,
     "user": {
      "displayName": "Aishwarya Singh",
      "photoUrl": "https://lh3.googleusercontent.com/a-/AOh14GgeJwfn4BdBDCAplWi_kdtB9FRssOpXO7T_aMgg=s64",
      "userId": "01105858832371513140"
     },
     "user_tz": -330
    },
    "id": "odJpXLDpzlVG",
    "outputId": "c44d92ff-ba7d-47ae-d6ee-456b1b1d40be"
   },
   "outputs": [
    {
     "data": {
      "text/plain": [
       "'\\ufeff\\nHalf a world away from this place of peace, the firing, the killing, the bloodshed in two merciless conflicts have for the first time in recent memory diminished. After terrible new names, names such as Halabja, Maidan Shahr and Spin Buldak, have been added to the toll-call of human horror, there is today hope of peace in the Persian Gulf and Afghanistan.\\nSo too, in the highlands and coastal cities of southern Africa, places of civil war, places of occupation by foreign troops, talk of peace is heard, peace for the tortured nation of Angola. Sixty-five hundred miles east, in the South-East Asian country of Cambodia, there is hope now of a settlement and the removal of Viet Nam\\'s occupying forces. Finally, in this hemisphere, where only 12 years ago one third of the people of Latin America lived under democratic rule, some 90 per cent do so today. And especially in Central America, nations such as El Salvador, once threatened by the anarchy of the death squad and the spectre of totalitarian rule, now know the hope of self-government and the prospect of economic growth. \\nAnother change, a change that if it endures may go down as one of the signal accomplishments of our history, a change that is cause for shaking the head in wonder, is also upon us; a change going to the source of post-war tensions and to the once seemingly impossible dream of ending the twin threats of our time - totalitarianism and thermonuclear world war.\\nFor the first time, the differences between East and West - fundamental differences over important moral questions dealing with the worth of the individual and whether Governments shall control people or people control Governments - for the first time these differences have shown signs of easing, easing to the point where there are not just troop withdrawals from places such as Afghanistan, but also talk in the East of reform and greater freedom of the press, of assembly and of religion. Yes, fundamental differences remain, but should talk of reform become more than that, should it become reality, there is the prospect of not only a new era in Soviet-United States relations but a new age of world peace; for such reform can bring peace. History teaches, and my country has always believed that, where the rights of the individual and the people are enshrined, war is a distant prospect. For it is not people who make war; only Governments do that.\\nI stand at this rostrum, then, at a moment of hope; hope not just for the peoples of the United States and the Soviet Union, but for all the peoples of the world, and hope too for the dream of peace among nations, the dream that began the United Nations. Precisely because of these changes, today the United Nations has the opportunity to live and breathe and work as never before.\\nAlready, Mr. Secretary-General, you, through your persistence, patience and unyielding will, have shown in working towards peace in Afghanistan and the Persian Gulf how valuable the United Nations can be. We salute you for these accomplishments. In Geneva at this very hour there are numerous negotiations under way: multilateral negotiations at the Conference on Disarmament, as well as bilateral negotiations on a range of issues between the Soviets and ourselves. These negotiations, some of them under United Nations auspices, involve a broad arms-control agenda: strategic offensive weapons, strategic defence and space, nuclear testing, and chemical warfare - whose urgency we have witnessed anew in recent days.\\nAnd the negotiators ate busy. Over the last few years they h iv/e been engaged in more than an academic exercise. There is movement; the log-jam is broken. Only recently, when the United States and the Soviet Union signed the intermediate-range nuclear forces (INF) agreement, an entire class of United States and Soviet nuclear missiles was eliminated for the first time in history. Progress continues on negotiations to reduce strategic weapons in massive number, with effective verification, and talks will begin soon on conventional reductions in Europe.\\nMuch of the reason for all this goes back, I believe, to Geneva, to the small chateau beside the lake where I and the Soviet General Secretary had the first of several fireside chats - exchanges characterized by frankness, but friendliness too. I said at the first meeting in Geneva that this was a unique encounter between two people who had the power to start a third world war or to begin a new age of peace among nations. I also said that peace conferences, arms negotiations and proposals for treaties could make sense only if they were part of a wider context, a context in which we sought to explore and resolve the deeper underlying differences between us. I said to Mr. Gorbachev then, as I have said to the Assembly before, that nations do not mistrust each other because they are armed; they are armed because they mistrust each other. \\n\\nIn that place, by that peaceful lake in neutral Switzerland, Mr. Gorbachev and I did begin a new relationship based not just on engagement over the single issue of arras control but on a broader agenda about our deeper differences, an agenda of human rights, regional conflicts and bilateral exchanges between our peoples. Even on the arms-control issue itself we agreed to go beyond the past, to seek not just treaties that permitted building weapons to higher levels, but revolutionary agreements that actually reduced and even eliminated a whole class of nuclear weapons.\\nWhat was begun that morning in Geneva has shown results: in the INF Treaty? in my recent visit to Moscow; in my opportunity to meet there with Soviet citizens and dissidents and speak of human rights; and to speak too, in the Lenin Hills of Moscow, to the young people of the Soviet Union about the wonder and splendour of human freedom. The results of that morning in Geneva are seen in peace conferences now under way around the world on regional conflicts and in the work of the United Nations here in New York as well as in Geneva.\\nBut history teaches caution. Indeed, that very building in Geneva, where important negotiations have taken place - those on the Geneva Accords on Afghanistan, and the Iran-Iraq negotiations, for example - we see today as stone-like testimony to a failed dream of peace in another time. The Palais des Nations was the headquarters of the League of Nations, an institution that was to symbolize an end to all war. Yet that institution and its noble purpose ended with the Second World War; ended because the chance of peace was not seized in the 1930s by the nations of the world, ended because humanity did not find the courage to isolate the aggressors, to reject schemes of government that served the State, not the people. We are here today determined that no such fate shall befall the United Nations. We are determined that the United Nations shall succeed and serve the cause of peace for humankind.\\nSo we realize that, even in this time of hope, the chance of failure is teal, but this knowledge does not discourage us: it spurs us on. For the stakes are high; do we falter and fail now, and bring down upon ourselves the just anger of future generations? Or do we continue the work of the founders of this institution, and see to it that, at last, freedom is enshrined and humanity knows war no longer, and that this place, this floor, shall be truly \"the world\\'s last battlefield\"?\\nWe are determined that it shall be so. So we turn now to the agenda of peace. Let us begin by addressing a concern that was much on my mind when I met with Mr. Gorbachev in the Kremlin as well as on the minds of Soviet citizens I met in Moscow. It is also an issue that I know is of immediate importance to the members of this Assembly who, this fall, commemorate the fortieth anniversary of the Universal Declaration of Human Rights.\\nThat Declaration says plainly what those who seek peace can forget only at the greatest peril that peace rests on one foundation; observance of the \"inalienable rights of all members of the human family\". In a century where human rights have been denied by totalitarian governments on a scale never before seen in history, with so many millions deliberately starved or eliminated as a matter of State policy - a history, it has been said, of blood, stupidity and barbed wire - few can wonder why peace has proved so elusive.\\t\\nWell, let us understand. If we would have peace, we must acknowledge the elementary rights of our fellow human beings, in our own land and in other lands. If we would have peace, the trampling of the human spirit must cease. Human rights is not for some, some of the time. Human rights, as the Universal Declaration adopted by this Assembly in 1948 proclaims, is \"for all peoples and all nations\". And for all time.\\nThis regard for human rights as the foundation of peace is at the heart of the United Nations. Those who starve in Ethiopia, those who die among the Kurds, those who face racial injustice in South Africa, those who still cannot write or speak freely in the Soviet Union, those who cannot worship in the Ukraine, those who struggle for life and freedom on boats in the South China Sea, those who cannot publish or assemble in Managua - all of these are more than just an item on your agenda. It must be a first concern, an issue above others. For when human rights concerns are not paramount at the United Nations - when the Universal Declaration of Human Rights is not honoured in these halls and meeting rooms - then the very credibility of this Organization is at stake, the very purpose of its existence in question.\\nThat is why, when progress is made in human rights, the United Nations grows stronger and the United States is glad of it. For example, following a two-year ¡ effort led by the United States, the United Nations Commission on Human Rights took a major step towards ending the double standards and cynicism that had characterized too much of its past. For years, Cuba, a blatant violator of its citizens\\' human rights, has escaped United Nations censure or even scrutiny. This year, Cuba has responded to pressure generated by the Commission on Human Rights by accepting an investigation into its human rights abuses. Fidel Castro has already begun to free some political prisoners, improve prison conditions, and tolerate the existence of a small, independent national human rights group.\\nMore must be done. The United Nations must be relentless and unyielding in seeking change, in Cuba and elsewhere. And we must also see to it that the Universal Declaration itself is not debased with episodes like the resolution \"Zionism is racism\". Respect for human rights is the first and fundamental mission of this body, the most elementary obligation of its members. Indeed, wherever one turns in the world today, there is a new awareness, a growing passion for human rights. The people of the world become united: new groups, new coalitions form, coalitions that commit: government, that work against discrimination, that fight religious or political repression, unlawful imprisonment, torture or execution. As those I spoke to at Spaso House said to me last June: Such movements make a difference.\\nTurning now to regional conflicts, we feel again the uplift of hope. In the Gulf War between Iran and Iraq - one of the bloodiest conflicts since the Second World War - we have a cease-fire. The resolution and the firmness of the allied nations in keeping the Persian Gulf open to international shipping not only upheld the rule of law, it helped prevent further spread of the conflict and laid the basis for peace. So, too, the Security Council\\'s decisive resolution in July a year ago has become the blueprint for a peaceful Gulf. Let this war - a war in which there has been no victor or vanquished, only victims - let this war end now. Let both Iran and Iraq co-operate with the Secretary-General and the Security Council in implementing resolution 598 (1978). Let peace come.\\nMoving on to a second region, I would recall that when I first addressed the United Nations General Assembly in 1983, world attention was focused on the brutal invasion and illegal occupation of Afghanistan. After nearly nine long years of war, the courage and determination of the Afghan people and the Afghan freedom fighters have held sway - and today, an end to the occupation is in sight. On April 14, the USSR signed the Geneva Accords, which were negotiated under United Nations auspices by Pakistan and the Kabul regime. We encourage the Soviet Union to complete its troop withdrawal at the earliest possible date, so that the Afghan people can freely determine their future without further outside interference.\\nIn southern Africa, too, years of patient diplomacy and support for those in Angola who seek self-determination are having their effect. We look forward to an accord between the Governments of Angola, Cuba, and South Africa that will bring about a complete withdrawal of all foreign troops - primarily Cuban - from Angola. We look forward as well to full implementation of United Nations Security Council resolution 435 (1978) and our longstanding goal of independence for Namibia. We continue to support a growing consensus among African leaders who also believe there can be no end to conflict in the region until there is national reconciliation within Angola.\\nThere are new hopes for Cambodia, a nation whose freedom and independence we seek just as avidly as we sought the freedom and independence of Afghanistan. We urge the rapid removal of all Vietnamese troops and a settlement that will prevent the return of the Khmer Rouge to power, permitting instead the establishment of a genuinely representative government - a government that will, at last, respect fully the rights of the people of Cambodia and end the hideous suffering they have so bravely and needlessly borne.\\nIn other critical areas, we applaud the Secretary-General\\'s efforts to structure a referendum on the Western Sahara. In the Mediterranean, direct talks between Greek and Turkish Cypriot common ties hold much promise for accord in that divided island nation. Finally, we look to a peaceful solution to the Arab-Israeli conflict. So, too, the unnatural division of Europe remains a critical obstacle to Soviet-American relations. \\nIn most of these areas, then, we see progress and, again, we are glad of it. Only a few years ago, all of these and other conflicts were burning dangerously out of control. Indeed, the invasion of Afghanistan and the apparent failure of will among democratic and peace-loving nations to deter such events seemed to cause a climate where aggression by nations large and small was epidemic, a climate the world had not seen since the 1930s. Only this time, larger war was avoided - avoided because the free and peaceful nations of the world recovered their strength of purpose and will. And now the United Nations is providing valuable assistance in helping this epidemic to recede.\\nAnd because we are resolved to keep it so, I would be remiss in my duty if I did not now take note here of the one exception to progress in regional conflicts. I refer here to the continuing deterioration of human rights in Nicaragua and the refusal of the tiny elite now ruling that nation to honour promises of democracy made to their own people and to the international community. This elite - in calling itself revolutionary - seeks no real revolution; the use of the term is subterfuge, deception for hiding the oldest, most corrupt vice of alls man\\'s age-old will to power, his lust to control the lives and steal the freedom of others.\\nThat is why, as President, I will continue to urge the Congress and the American public to stand behind those who resist this attempt to impose a totalitarian regime on the people of Nicaragua; that the United States will continue to stand with those who are threatened by this regime\\'s aggression against its neighbours in Central America.\\nToday, I also call on the Soviet Union to show in Central America the same spirit of constructive realism it has shown in other regional conflicts; to assist in bringing conflict in Central America to a close by halting the flow of billions of dollars worth of arms and ammunition to the Sandinista regime; a regime whose goals of regional domination, while ultimately doomed, can continue to cause great suffering to the people of that area and risk to Soviet-American relations unless action is taken now.\\nWith regard to the arms reduction agenda, I have already mentioned the importance of the INF Treaty and the momentum developed in the strategic arms reduction talks (START). The draft START treaty is a lengthy process filled with bracketed language designating sections of disagreement between the two sides. But through this summer in Geneva, those brackets have diminished; there is every reason to believe this process can continue. I can tell this Assembly that it is highly doubtful such a treaty can be accomplished in a few months, but I can tell you that a year from now is a possibility - more than a possibility. But we have no deadline. No agreement is better than a bad agreement. The United States remains hopeful, and we acknowledge the spirit of co-operation shown by the Soviet Union in these negotiations. We also look for that spirit to be applied to our concerns about compliance with existing agreements.\\nSo, too, our discussions on nuclear testing and defence and space have been useful. But let me here stress to the General Assembly that much of the momentum in nuclear-arms-control negotiations is due to technological progress itself, especially in the potential for space-based defensive systems. I believe that the determination of the United States to research and develop and, when ready, deploy such defensive systems - systems targeted to destroy missiles, not people - accounts for a large share of the progress made in recent years in Geneva. With such systems, for the first time, in case of accidental launch or the act of a madman somewhere, major Powers will not be faced with the single option of massive retaliation, but will instead have the chance of a saner choice: to shield against an attack instead of avenging it. So, too, as defensive systems grow in effectiveness, they reduce the threat and the value of greater and greater offensive arsenals. Only recently, briefings I have received in the Oval Office indicate that progress toward such systems may be even more rapid and less costly than we had at first thought. Today, the United States reaffirms its commitment to its strategic defence initiative and our offer to share the benefits of strategic defences with others.\\nAnd yet, even as diplomatic and technological progress holds out the hope of at last diminishing the awful cloud of nuclear terror we have lived under in the post-war era, even at this moment another ominous terror is loose once again in the world, a terror we thought the world had put behind, a terror that looms at us now from the long-buried past, from ghostly, scarring trenches and the haunting, wan faces of millions dead in one of the most inhumane conflicts of all time.\\nPoison gas; chemical warfare: the terror of it; the horror of it! We condemn it. The use of chemical weapons in the Iran-Iraq war, beyond its tragic human toll, jeopardizes the moral and legal strictures that have held those weapons in check since the First World War. Let this tragedy spark reaffirmation of the Geneva Protocol outlawing the use of chemical weapons. I call upon the signatories to that Protocol, as well as other concerned States, to convene a conference to consider actions that we can take together to reverse the serious erosion of this treaty. We urge all nations to co-operate in negotiating a verifiable, truly global ban on chemical weapons at the Conference on Disarmament in Geneva.\\nIt is incumbent upon all civilized nations to ban, once and for all - and on a verifiable and global basis - the use of chemical and gas warfare.\\nFinally, we must redouble our efforts to stop further proliferation of nuclear weapons in the world. Likewise, proliferation in other high-technology weapons such as ballistic missiles, is reaching global proportions, exacerbating regional rivalries in ways that can have global implications. The number of potential suppliers is growing at an alarming rate, and more must be done to halt the spread of these weapons. This was a matter of discussion last week between Secretary Shultz and Foreign Minister Shevardnadze. Talks between American and Soviet experts begin on this today; and we hope to see a multilateral effort to avoid having areas of tension like the Middle East becoming even more deadly battlegrounds than they already are.\\nRut in most of these areas we see not only progress but also the potential for an increasingly vital role for multilateral efforts and institutions like the United Nations. That is why now more than ever the United Nations must continue to increase its effectiveness through budget and programme reform. The United Nations already is enacting sweeping measures affecting personnel reductions, budgeting by consensus, and the establishment of programme priorities. These actions are extremely important. The progress on reforms has allowed me to release funds withheld under congressional restrictions. I expect that the reform programme will continue and that further funds will be released in our new fiscal year.\\nLet me say here that we congratulate the United Nations on the work it has done in three areas of special concern. First, our struggle against the scourge of terrorism and State-sponsored terrorism must continue; and we must also end the scourge of hostage-taking. Second, the work of the World Health Organization in co-ordinating and advancing research on AIDS is vital. All international efforts in this area must be redoubled. The AIDS crisis is a grave one; we must move as one to meet it. \\nSo, too, is the drug crisis. We are moving now toward a new anti-drug-trafficking convention. This important treaty will be completed in December. I am confident that other strong United Nations drug-control programmes will also follow. The American people are profoundly concerned and deeply angered. We will not tolerate the drug traffickers. We mean to make war on them - and we believe this is one war the United Nations can endorse and participate in. Yes, the United Nations is a better place than it was eight years ago - and so, too, is the world. But the real issue of reform in the United Nations is not limited to fiscal and administrative improvements; it includes also a higher sort of reform, an intellectual and philosophical reform, a reform of old views about the relationship between the individual and the State. \\nFew developments, for example, have been more encouraging to the United States than the special session on Africa that this body held two and a half years ago - a session at which the Members of the United Nations joined in calling as one for free-market incentives and a lessening of State controls to spur economic development. \\nAt one of the first international assemblies of my presidency, in Cancun, Mexico, I said that history demonstrates that, time and again, in place after place, economic growth and human progress make their greatest strides in countries that encourage economic freedom; that individual farmers, labourers, owners, traders and managers are the heart and soul of development. Trust them, because where they are allowed to create and build, where they are given a personal stake in deciding economic policies and benefiting from their success, societies become more dynamic, prosperous, progressive and free. We believe in freedom; we know that it works.\\nThis is the immutable lesson of the post-war era: that freedom works; that, even more, freedom and peace work together. Every year that passes, everywhere in the world, this lesson is taking hold - from the People\\'s Republic of China to Cameroon, from Bolivia to Botswana, and, yes, in the citadel of Marxism-Leninism itself. No, my country did not invent this synergy of peace and freedom, but, believe me, we impose no restrictions on the free export of our more than two centuries of experience with it. Free people, blessed by economic opportunity and protected by laws that respect the dignity of the individual, are not driven towards war or the domination of others. Here, then, is the way to world peace. But we Americans champion freedom not only because it is practical and beneficial but because it is also just, morally right.\\nHere I should like to note that I have addressed this assemblage more often than any of my predecessors and that this is the last occasion on which I shall do so. Therefore I hope that I may be permitted some closing reflections.\\nThe world is currently witnessing another celebration of international co-operation. At the Olympics we see nations joining together in the competition of sports, and we see young people, who know precious little of the resentments of their elders, coming together as one.\\nOne of our young athletes, from a home of modest means, said that she drew the strength for her achievement from another source of wealth. \"We were rich as a family\" she said about the love she was given and the values she was taught. I dare to hope that in the sentiment of that young athlete we see a sign of the rediscovery of old and tested values; values such as family - the first and most important unit of society, where all values and learning begin, an institution to be cherished and protected·, values, too, such as work, community, freedom and faith, for it is here we find the deeper rationale for the cause of human rights and world peace.\\nOur own experience on this continent, the American experience, though brief, has had one unmistakable encounter, an insistence on the preservation of one sacred truth: it is a truth that our first President, our founding father, passed on in the first farewell address made to the American people; it is a truth that I hope you will permit me to mention in these remarks of farewell, a truth embodied in our Declaration of Independence: that the case for inalienable rights, the idea of human dignity, the notion of conscience above compulsion, can be made only in the context of higher law, only in the context of what one of the founders of this Organization, Secretary-General Dag Hammarskjöld, called \"devotion to something which is greater and higher than we are ourselves.\"\\nThis is the endless cycle, the final truth to which humankind seems always to return - that religion and morality, faith in something higher, are prerequisites for freedom, and that justice and peace within ourselves is the first step toward justice and peace in the world and for the ages.\\nYes, this is a place of great debate and grave discussion. Yet I cannot help but note here that one of our founding fathers - the most worldly of men, an internationalist, Benjamin Franklin - interrupted the proceedings of our own constitutional convention to make much the same point.\\nI cannot help but think this morning of other beginnings - of where and when I first read those words \"and they shall beat their swords into ploughshares\" and \"your young men shall see visions and your old men shall dream dreams\". This morning, my thoughts go to her who gave me many things in life but whose most important gift was the knowledge of the happiness and solace to be gained in prayer. It is the greatest help I have had in my presidency, and I recall here Lincoln\\'s words when he said\\n\"Only the most foolish of men would think he could confront the duties of the office I now hold without turning to someone stronger, a power above all others. \"\\nI think, then, of her and others like her in that small town in Illinois, gentle people who possessed something that those who hold positions of power sometimes forget to prize. No one of them could ever have imagined that the boy from the banks of the Rock River would come to this moment and have this opportunity. But, had they been told that it would happen, I think they would have been a bit disappointed if I had not spoken here for what they knew so wells that when we grow weary of the world and its troubles, when our faith in humanity falters, it is then that we must seek contort and refreshment of spirit in a deeper source of wisdom, one greater than ourselves.\\nSo, if future generations do say of us that in our time peace came closer, that we did bring about new seasons of truth and justice, it will be cause for pride. But it will be a cause of greater pride still if it is also said that we were wise enough to know that the deliberations of great leaders and great bodies are but an overture, that the truly majestic music, the music of freedom, justice and peace, is the music made in forgetting self and seeking in silence the will of Him who made us.\\nThank you for your hospitality over the years. I bid you now farewell, and God bless you.\\n'"
      ]
     },
     "execution_count": 9,
     "metadata": {},
     "output_type": "execute_result"
    }
   ],
   "source": [
    "# sample speech from the dataset\n",
    "df['Speech'][1]"
   ]
  },
  {
   "cell_type": "code",
   "execution_count": 10,
   "metadata": {
    "colab": {},
    "colab_type": "code",
    "executionInfo": {
     "elapsed": 903,
     "status": "ok",
     "timestamp": 1598965710873,
     "user": {
      "displayName": "Aishwarya Singh",
      "photoUrl": "https://lh3.googleusercontent.com/a-/AOh14GgeJwfn4BdBDCAplWi_kdtB9FRssOpXO7T_aMgg=s64",
      "userId": "01105858832371513140"
     },
     "user_tz": -330
    },
    "id": "Z5c8t4sfz81j"
   },
   "outputs": [],
   "source": [
    "# function to preprocess speech\n",
    "def clean(text):\n",
    "    # removing paragraph numbers\n",
    "    text = re.sub('[0-9]+.\\t','',str(text))\n",
    "    # removing new line characters\n",
    "    text = re.sub('\\n ','',str(text))\n",
    "    text = re.sub('\\n',' ',str(text))\n",
    "    # removing apostrophes\n",
    "    text = re.sub(\"'s\",'',str(text))\n",
    "    # removing hyphens\n",
    "    text = re.sub(\"-\",' ',str(text))\n",
    "    text = re.sub(\"— \",'',str(text))\n",
    "    # removing quotation marks\n",
    "    text = re.sub('\\\"','',str(text))\n",
    "    # removing salutations\n",
    "    text = re.sub(\"Mr\\.\",'Mr',str(text))\n",
    "    text = re.sub(\"Mrs\\.\",'Mrs',str(text))\n",
    "    # removing any reference to outside text\n",
    "    text = re.sub(\"[\\(\\[].*?[\\)\\]]\", \"\", str(text))\n",
    "        \n",
    "    return text"
   ]
  },
  {
   "cell_type": "code",
   "execution_count": 11,
   "metadata": {
    "colab": {},
    "colab_type": "code",
    "executionInfo": {
     "elapsed": 790,
     "status": "ok",
     "timestamp": 1598965722876,
     "user": {
      "displayName": "Aishwarya Singh",
      "photoUrl": "https://lh3.googleusercontent.com/a-/AOh14GgeJwfn4BdBDCAplWi_kdtB9FRssOpXO7T_aMgg=s64",
      "userId": "01105858832371513140"
     },
     "user_tz": -330
    },
    "id": "o6c_-pDX0Ka-"
   },
   "outputs": [],
   "source": [
    "# preprocessing speeches\n",
    "df['Speech_clean'] = df['Speech'].apply(clean)"
   ]
  },
  {
   "cell_type": "code",
   "execution_count": 12,
   "metadata": {
    "colab": {
     "base_uri": "https://localhost:8080/",
     "height": 206
    },
    "colab_type": "code",
    "executionInfo": {
     "elapsed": 1011,
     "status": "ok",
     "timestamp": 1598965725930,
     "user": {
      "displayName": "Aishwarya Singh",
      "photoUrl": "https://lh3.googleusercontent.com/a-/AOh14GgeJwfn4BdBDCAplWi_kdtB9FRssOpXO7T_aMgg=s64",
      "userId": "01105858832371513140"
     },
     "user_tz": -330
    },
    "id": "_pcWyXc-0Nn-",
    "outputId": "45ae540a-70c9-4b57-98ef-9dd6c0733852"
   },
   "outputs": [
    {
     "data": {
      "text/html": [
       "<div>\n",
       "<style scoped>\n",
       "    .dataframe tbody tr th:only-of-type {\n",
       "        vertical-align: middle;\n",
       "    }\n",
       "\n",
       "    .dataframe tbody tr th {\n",
       "        vertical-align: top;\n",
       "    }\n",
       "\n",
       "    .dataframe thead th {\n",
       "        text-align: right;\n",
       "    }\n",
       "</style>\n",
       "<table border=\"1\" class=\"dataframe\">\n",
       "  <thead>\n",
       "    <tr style=\"text-align: right;\">\n",
       "      <th></th>\n",
       "      <th>Session</th>\n",
       "      <th>Country</th>\n",
       "      <th>Year</th>\n",
       "      <th>Speech</th>\n",
       "      <th>Speech_clean</th>\n",
       "    </tr>\n",
       "  </thead>\n",
       "  <tbody>\n",
       "    <tr>\n",
       "      <th>0</th>\n",
       "      <td>42</td>\n",
       "      <td>analytics</td>\n",
       "      <td>1987</td>\n",
       "      <td>﻿Let me first welcome the Secretary-General ba...</td>\n",
       "      <td>﻿Let me first welcome the Secretary General ba...</td>\n",
       "    </tr>\n",
       "    <tr>\n",
       "      <th>1</th>\n",
       "      <td>43</td>\n",
       "      <td>analytics</td>\n",
       "      <td>1988</td>\n",
       "      <td>﻿\\nHalf a world away from this place of peace,...</td>\n",
       "      <td>﻿ Half a world away from this place of peace, ...</td>\n",
       "    </tr>\n",
       "    <tr>\n",
       "      <th>2</th>\n",
       "      <td>44</td>\n",
       "      <td>analytics</td>\n",
       "      <td>1989</td>\n",
       "      <td>﻿I am honoured to address the General Assembly...</td>\n",
       "      <td>﻿I am honoured to address the General Assembly...</td>\n",
       "    </tr>\n",
       "    <tr>\n",
       "      <th>3</th>\n",
       "      <td>45</td>\n",
       "      <td>analytics</td>\n",
       "      <td>1990</td>\n",
       "      <td>﻿\\nIt is really a great privilege to greet you...</td>\n",
       "      <td>﻿ It is really a great privilege to greet you ...</td>\n",
       "    </tr>\n",
       "    <tr>\n",
       "      <th>4</th>\n",
       "      <td>46</td>\n",
       "      <td>analytics</td>\n",
       "      <td>1991</td>\n",
       "      <td>﻿I am honoured to speak with you as you open t...</td>\n",
       "      <td>﻿I am honoured to speak with you as you open t...</td>\n",
       "    </tr>\n",
       "  </tbody>\n",
       "</table>\n",
       "</div>"
      ],
      "text/plain": [
       "  Session    Country  Year                                             Speech  \\\n",
       "0      42  analytics  1987  ﻿Let me first welcome the Secretary-General ba...   \n",
       "1      43  analytics  1988  ﻿\\nHalf a world away from this place of peace,...   \n",
       "2      44  analytics  1989  ﻿I am honoured to address the General Assembly...   \n",
       "3      45  analytics  1990  ﻿\\nIt is really a great privilege to greet you...   \n",
       "4      46  analytics  1991  ﻿I am honoured to speak with you as you open t...   \n",
       "\n",
       "                                        Speech_clean  \n",
       "0  ﻿Let me first welcome the Secretary General ba...  \n",
       "1  ﻿ Half a world away from this place of peace, ...  \n",
       "2  ﻿I am honoured to address the General Assembly...  \n",
       "3  ﻿ It is really a great privilege to greet you ...  \n",
       "4  ﻿I am honoured to speak with you as you open t...  "
      ]
     },
     "execution_count": 12,
     "metadata": {},
     "output_type": "execute_result"
    }
   ],
   "source": [
    "# first 5 rows of the dataset\n",
    "df.head()"
   ]
  },
  {
   "cell_type": "code",
   "execution_count": 13,
   "metadata": {
    "colab": {
     "base_uri": "https://localhost:8080/",
     "height": 140
    },
    "colab_type": "code",
    "executionInfo": {
     "elapsed": 1280,
     "status": "ok",
     "timestamp": 1598965746813,
     "user": {
      "displayName": "Aishwarya Singh",
      "photoUrl": "https://lh3.googleusercontent.com/a-/AOh14GgeJwfn4BdBDCAplWi_kdtB9FRssOpXO7T_aMgg=s64",
      "userId": "01105858832371513140"
     },
     "user_tz": -330
    },
    "id": "wNY4aGgz0Rl5",
    "outputId": "2b4f178e-33cc-4fbf-878a-15ca9eee0823"
   },
   "outputs": [
    {
     "data": {
      "text/plain": [
       "\"\\ufeff Half a world away from this place of peace, the firing, the killing, the bloodshed in two merciless conflicts have for the first time in recent memory diminished. After terrible new names, names such as Halabja, Maidan Shahr and Spin Buldak, have been added to the toll call of human horror, there is today hope of peace in the Persian Gulf and Afghanistan. So too, in the highlands and coastal cities of southern Africa, places of civil war, places of occupation by foreign troops, talk of peace is heard, peace for the tortured nation of Angola. Sixty five hundred miles east, in the South East Asian country of Cambodia, there is hope now of a settlement and the removal of Viet Nam occupying forces. Finally, in this hemisphere, where only 12 years ago one third of the people of Latin America lived under democratic rule, some 90 per cent do so today. And especially in Central America, nations such as El Salvador, once threatened by the anarchy of the death squad and the spectre of totalitarian rule, now know the hope of self government and the prospect of economic growth.  Another change, a change that if it endures may go down as one of the signal accomplishments of our history, a change that is cause for shaking the head in wonder, is also upon us; a change going to the source of post war tensions and to the once seemingly impossible dream of ending the twin threats of our time   totalitarianism and thermonuclear world war. For the first time, the differences between East and West   fundamental differences over important moral questions dealing with the worth of the individual and whether Governments shall control people or people control Governments   for the first time these differences have shown signs of easing, easing to the point where there are not just troop withdrawals from places such as Afghanistan, but also talk in the East of reform and greater freedom of the press, of assembly and of religion. Yes, fundamental differences remain, but should talk of reform become more than that, should it become reality, there is the prospect of not only a new era in Soviet United States relations but a new age of world peace; for such reform can bring peace. History teaches, and my country has always believed that, where the rights of the individual and the people are enshrined, war is a distant prospect. For it is not people who make war; only Governments do that. I stand at this rostrum, then, at a moment of hope; hope not just for the peoples of the United States and the Soviet Union, but for all the peoples of the world, and hope too for the dream of peace among nations, the dream that began the United Nations. Precisely because of these changes, today the United Nations has the opportunity to live and breathe and work as never before. Already, Mr Secretary General, you, through your persistence, patience and unyielding will, have shown in working towards peace in Afghanistan and the Persian Gulf how valuable the United Nations can be. We salute you for these accomplishments. In Geneva at this very hour there are numerous negotiations under way: multilateral negotiations at the Conference on Disarmament, as well as bilateral negotiations on a range of issues between the Soviets and ourselves. These negotiations, some of them under United Nations auspices, involve a broad arms control agenda: strategic offensive weapons, strategic defence and space, nuclear testing, and chemical warfare   whose urgency we have witnessed anew in recent days. And the negotiators ate busy. Over the last few years they h iv/e been engaged in more than an academic exercise. There is movement; the log jam is broken. Only recently, when the United States and the Soviet Union signed the intermediate range nuclear forces  agreement, an entire class of United States and Soviet nuclear missiles was eliminated for the first time in history. Progress continues on negotiations to reduce strategic weapons in massive number, with effective verification, and talks will begin soon on conventional reductions in Europe. Much of the reason for all this goes back, I believe, to Geneva, to the small chateau beside the lake where I and the Soviet General Secretary had the first of several fireside chats   exchanges characterized by frankness, but friendliness too. I said at the first meeting in Geneva that this was a unique encounter between two people who had the power to start a third world war or to begin a new age of peace among nations. I also said that peace conferences, arms negotiations and proposals for treaties could make sense only if they were part of a wider context, a context in which we sought to explore and resolve the deeper underlying differences between us. I said to Mr Gorbachev then, as I have said to the Assembly before, that nations do not mistrust each other because they are armed; they are armed because they mistrust each other.   In that place, by that peaceful lake in neutral Switzerland, Mr Gorbachev and I did begin a new relationship based not just on engagement over the single issue of arras control but on a broader agenda about our deeper differences, an agenda of human rights, regional conflicts and bilateral exchanges between our peoples. Even on the arms control issue itself we agreed to go beyond the past, to seek not just treaties that permitted building weapons to higher levels, but revolutionary agreements that actually reduced and even eliminated a whole class of nuclear weapons. What was begun that morning in Geneva has shown results: in the INF Treaty? in my recent visit to Moscow; in my opportunity to meet there with Soviet citizens and dissidents and speak of human rights; and to speak too, in the Lenin Hills of Moscow, to the young people of the Soviet Union about the wonder and splendour of human freedom. The results of that morning in Geneva are seen in peace conferences now under way around the world on regional conflicts and in the work of the United Nations here in New York as well as in Geneva. But history teaches caution. Indeed, that very building in Geneva, where important negotiations have taken place   those on the Geneva Accords on Afghanistan, and the Iran Iraq negotiations, for example   we see today as stone like testimony to a failed dream of peace in another time. The Palais des Nations was the headquarters of the League of Nations, an institution that was to symbolize an end to all war. Yet that institution and its noble purpose ended with the Second World War; ended because the chance of peace was not seized in the 1930s by the nations of the world, ended because humanity did not find the courage to isolate the aggressors, to reject schemes of government that served the State, not the people. We are here today determined that no such fate shall befall the United Nations. We are determined that the United Nations shall succeed and serve the cause of peace for humankind. So we realize that, even in this time of hope, the chance of failure is teal, but this knowledge does not discourage us: it spurs us on. For the stakes are high; do we falter and fail now, and bring down upon ourselves the just anger of future generations? Or do we continue the work of the founders of this institution, and see to it that, at last, freedom is enshrined and humanity knows war no longer, and that this place, this floor, shall be truly the world last battlefield? We are determined that it shall be so. So we turn now to the agenda of peace. Let us begin by addressing a concern that was much on my mind when I met with Mr Gorbachev in the Kremlin as well as on the minds of Soviet citizens I met in Moscow. It is also an issue that I know is of immediate importance to the members of this Assembly who, this fall, commemorate the fortieth anniversary of the Universal Declaration of Human Rights. That Declaration says plainly what those who seek peace can forget only at the greatest peril that peace rests on one foundation; observance of the inalienable rights of all members of the human family. In a century where human rights have been denied by totalitarian governments on a scale never before seen in history, with so many millions deliberately starved or eliminated as a matter of State policy   a history, it has been said, of blood, stupidity and barbed wire   few can wonder why peace has proved so elusive.\\t Well, let us understand. If we would have peace, we must acknowledge the elementary rights of our fellow human beings, in our own land and in other lands. If we would have peace, the trampling of the human spirit must cease. Human rights is not for some, some of the time. Human rights, as the Universal Declaration adopted by this Assembly in 1948 proclaims, is for all peoples and all nations. And for all time. This regard for human rights as the foundation of peace is at the heart of the United Nations. Those who starve in Ethiopia, those who die among the Kurds, those who face racial injustice in South Africa, those who still cannot write or speak freely in the Soviet Union, those who cannot worship in the Ukraine, those who struggle for life and freedom on boats in the South China Sea, those who cannot publish or assemble in Managua   all of these are more than just an item on your agenda. It must be a first concern, an issue above others. For when human rights concerns are not paramount at the United Nations   when the Universal Declaration of Human Rights is not honoured in these halls and meeting rooms   then the very credibility of this Organization is at stake, the very purpose of its existence in question. That is why, when progress is made in human rights, the United Nations grows stronger and the United States is glad of it. For example, following a two year ¡ effort led by the United States, the United Nations Commission on Human Rights took a major step towards ending the double standards and cynicism that had characterized too much of its past. For years, Cuba, a blatant violator of its citizens' human rights, has escaped United Nations censure or even scrutiny. This year, Cuba has responded to pressure generated by the Commission on Human Rights by accepting an investigation into its human rights abuses. Fidel Castro has already begun to free some political prisoners, improve prison conditions, and tolerate the existence of a small, independent national human rights group. More must be done. The United Nations must be relentless and unyielding in seeking change, in Cuba and elsewhere. And we must also see to it that the Universal Declaration itself is not debased with episodes like the resolution Zionism is racism. Respect for human rights is the first and fundamental mission of this body, the most elementary obligation of its members. Indeed, wherever one turns in the world today, there is a new awareness, a growing passion for human rights. The people of the world become united: new groups, new coalitions form, coalitions that commit: government, that work against discrimination, that fight religious or political repression, unlawful imprisonment, torture or execution. As those I spoke to at Spaso House said to me last June: Such movements make a difference. Turning now to regional conflicts, we feel again the uplift of hope. In the Gulf War between Iran and Iraq   one of the bloodiest conflicts since the Second World War   we have a cease fire. The resolution and the firmness of the allied nations in keeping the Persian Gulf open to international shipping not only upheld the rule of law, it helped prevent further spread of the conflict and laid the basis for peace. So, too, the Security Council decisive resolution in July a year ago has become the blueprint for a peaceful Gulf. Let this war   a war in which there has been no victor or vanquished, only victims   let this war end now. Let both Iran and Iraq co operate with the Secretary General and the Security Council in implementing resolution 598 . Let peace come. Moving on to a second region, I would recall that when I first addressed the United Nations General Assembly in 1983, world attention was focused on the brutal invasion and illegal occupation of Afghanistan. After nearly nine long years of war, the courage and determination of the Afghan people and the Afghan freedom fighters have held sway   and today, an end to the occupation is in sight. On April 14, the USSR signed the Geneva Accords, which were negotiated under United Nations auspices by Pakistan and the Kabul regime. We encourage the Soviet Union to complete its troop withdrawal at the earliest possible date, so that the Afghan people can freely determine their future without further outside interference. In southern Africa, too, years of patient diplomacy and support for those in Angola who seek self determination are having their effect. We look forward to an accord between the Governments of Angola, Cuba, and South Africa that will bring about a complete withdrawal of all foreign troops   primarily Cuban   from Angola. We look forward as well to full implementation of United Nations Security Council resolution 435  and our longstanding goal of independence for Namibia. We continue to support a growing consensus among African leaders who also believe there can be no end to conflict in the region until there is national reconciliation within Angola. There are new hopes for Cambodia, a nation whose freedom and independence we seek just as avidly as we sought the freedom and independence of Afghanistan. We urge the rapid removal of all Vietnamese troops and a settlement that will prevent the return of the Khmer Rouge to power, permitting instead the establishment of a genuinely representative government   a government that will, at last, respect fully the rights of the people of Cambodia and end the hideous suffering they have so bravely and needlessly borne. In other critical areas, we applaud the Secretary General efforts to structure a referendum on the Western Sahara. In the Mediterranean, direct talks between Greek and Turkish Cypriot common ties hold much promise for accord in that divided island nation. Finally, we look to a peaceful solution to the Arab Israeli conflict. So, too, the unnatural division of Europe remains a critical obstacle to Soviet American relations.  In most of these areas, then, we see progress and, again, we are glad of it. Only a few years ago, all of these and other conflicts were burning dangerously out of control. Indeed, the invasion of Afghanistan and the apparent failure of will among democratic and peace loving nations to deter such events seemed to cause a climate where aggression by nations large and small was epidemic, a climate the world had not seen since the 1930s. Only this time, larger war was avoided   avoided because the free and peaceful nations of the world recovered their strength of purpose and will. And now the United Nations is providing valuable assistance in helping this epidemic to recede. And because we are resolved to keep it so, I would be remiss in my duty if I did not now take note here of the one exception to progress in regional conflicts. I refer here to the continuing deterioration of human rights in Nicaragua and the refusal of the tiny elite now ruling that nation to honour promises of democracy made to their own people and to the international community. This elite   in calling itself revolutionary   seeks no real revolution; the use of the term is subterfuge, deception for hiding the oldest, most corrupt vice of alls man age old will to power, his lust to control the lives and steal the freedom of others. That is why, as President, I will continue to urge the Congress and the American public to stand behind those who resist this attempt to impose a totalitarian regime on the people of Nicaragua; that the United States will continue to stand with those who are threatened by this regime aggression against its neighbours in Central America. Today, I also call on the Soviet Union to show in Central America the same spirit of constructive realism it has shown in other regional conflicts; to assist in bringing conflict in Central America to a close by halting the flow of billions of dollars worth of arms and ammunition to the Sandinista regime; a regime whose goals of regional domination, while ultimately doomed, can continue to cause great suffering to the people of that area and risk to Soviet American relations unless action is taken now. With regard to the arms reduction agenda, I have already mentioned the importance of the INF Treaty and the momentum developed in the strategic arms reduction talks . The draft START treaty is a lengthy process filled with bracketed language designating sections of disagreement between the two sides. But through this summer in Geneva, those brackets have diminished; there is every reason to believe this process can continue. I can tell this Assembly that it is highly doubtful such a treaty can be accomplished in a few months, but I can tell you that a year from now is a possibility   more than a possibility. But we have no deadline. No agreement is better than a bad agreement. The United States remains hopeful, and we acknowledge the spirit of co operation shown by the Soviet Union in these negotiations. We also look for that spirit to be applied to our concerns about compliance with existing agreements. So, too, our discussions on nuclear testing and defence and space have been useful. But let me here stress to the General Assembly that much of the momentum in nuclear arms control negotiations is due to technological progress itself, especially in the potential for space based defensive systems. I believe that the determination of the United States to research and develop and, when ready, deploy such defensive systems   systems targeted to destroy missiles, not people   accounts for a large share of the progress made in recent years in Geneva. With such systems, for the first time, in case of accidental launch or the act of a madman somewhere, major Powers will not be faced with the single option of massive retaliation, but will instead have the chance of a saner choice: to shield against an attack instead of avenging it. So, too, as defensive systems grow in effectiveness, they reduce the threat and the value of greater and greater offensive arsenals. Only recently, briefings I have received in the Oval Office indicate that progress toward such systems may be even more rapid and less costly than we had at first thought. Today, the United States reaffirms its commitment to its strategic defence initiative and our offer to share the benefits of strategic defences with others. And yet, even as diplomatic and technological progress holds out the hope of at last diminishing the awful cloud of nuclear terror we have lived under in the post war era, even at this moment another ominous terror is loose once again in the world, a terror we thought the world had put behind, a terror that looms at us now from the long buried past, from ghostly, scarring trenches and the haunting, wan faces of millions dead in one of the most inhumane conflicts of all time. Poison gas; chemical warfare: the terror of it; the horror of it! We condemn it. The use of chemical weapons in the Iran Iraq war, beyond its tragic human toll, jeopardizes the moral and legal strictures that have held those weapons in check since the First World War. Let this tragedy spark reaffirmation of the Geneva Protocol outlawing the use of chemical weapons. I call upon the signatories to that Protocol, as well as other concerned States, to convene a conference to consider actions that we can take together to reverse the serious erosion of this treaty. We urge all nations to co operate in negotiating a verifiable, truly global ban on chemical weapons at the Conference on Disarmament in Geneva. It is incumbent upon all civilized nations to ban, once and for all   and on a verifiable and global basis   the use of chemical and gas warfare. Finally, we must redouble our efforts to stop further proliferation of nuclear weapons in the world. Likewise, proliferation in other high technology weapons such as ballistic missiles, is reaching global proportions, exacerbating regional rivalries in ways that can have global implications. The number of potential suppliers is growing at an alarming rate, and more must be done to halt the spread of these weapons. This was a matter of discussion last week between Secretary Shultz and Foreign Minister Shevardnadze. Talks between American and Soviet experts begin on this today; and we hope to see a multilateral effort to avoid having areas of tension like the Middle East becoming even more deadly battlegrounds than they already are. Rut in most of these areas we see not only progress but also the potential for an increasingly vital role for multilateral efforts and institutions like the United Nations. That is why now more than ever the United Nations must continue to increase its effectiveness through budget and programme reform. The United Nations already is enacting sweeping measures affecting personnel reductions, budgeting by consensus, and the establishment of programme priorities. These actions are extremely important. The progress on reforms has allowed me to release funds withheld under congressional restrictions. I expect that the reform programme will continue and that further funds will be released in our new fiscal year. Let me say here that we congratulate the United Nations on the work it has done in three areas of special concern. First, our struggle against the scourge of terrorism and State sponsored terrorism must continue; and we must also end the scourge of hostage taking. Second, the work of the World Health Organization in co ordinating and advancing research on AIDS is vital. All international efforts in this area must be redoubled. The AIDS crisis is a grave one; we must move as one to meet it.  So, too, is the drug crisis. We are moving now toward a new anti drug trafficking convention. This important treaty will be completed in December. I am confident that other strong United Nations drug control programmes will also follow. The American people are profoundly concerned and deeply angered. We will not tolerate the drug traffickers. We mean to make war on them   and we believe this is one war the United Nations can endorse and participate in. Yes, the United Nations is a better place than it was eight years ago   and so, too, is the world. But the real issue of reform in the United Nations is not limited to fiscal and administrative improvements; it includes also a higher sort of reform, an intellectual and philosophical reform, a reform of old views about the relationship between the individual and the State.  Few developments, for example, have been more encouraging to the United States than the special session on Africa that this body held two and a half years ago   a session at which the Members of the United Nations joined in calling as one for free market incentives and a lessening of State controls to spur economic development.  At one of the first international assemblies of my presidency, in Cancun, Mexico, I said that history demonstrates that, time and again, in place after place, economic growth and human progress make their greatest strides in countries that encourage economic freedom; that individual farmers, labourers, owners, traders and managers are the heart and soul of development. Trust them, because where they are allowed to create and build, where they are given a personal stake in deciding economic policies and benefiting from their success, societies become more dynamic, prosperous, progressive and free. We believe in freedom; we know that it works. This is the immutable lesson of the post war era: that freedom works; that, even more, freedom and peace work together. Every year that passes, everywhere in the world, this lesson is taking hold   from the People Republic of China to Cameroon, from Bolivia to Botswana, and, yes, in the citadel of Marxism Leninism itself. No, my country did not invent this synergy of peace and freedom, but, believe me, we impose no restrictions on the free export of our more than two centuries of experience with it. Free people, blessed by economic opportunity and protected by laws that respect the dignity of the individual, are not driven towards war or the domination of others. Here, then, is the way to world peace. But we Americans champion freedom not only because it is practical and beneficial but because it is also just, morally right. Here I should like to note that I have addressed this assemblage more often than any of my predecessors and that this is the last occasion on which I shall do so. Therefore I hope that I may be permitted some closing reflections. The world is currently witnessing another celebration of international co operation. At the Olympics we see nations joining together in the competition of sports, and we see young people, who know precious little of the resentments of their elders, coming together as one. One of our young athletes, from a home of modest means, said that she drew the strength for her achievement from another source of wealth. We were rich as a family she said about the love she was given and the values she was taught. I dare to hope that in the sentiment of that young athlete we see a sign of the rediscovery of old and tested values; values such as family   the first and most important unit of society, where all values and learning begin, an institution to be cherished and protected·, values, too, such as work, community, freedom and faith, for it is here we find the deeper rationale for the cause of human rights and world peace. Our own experience on this continent, the American experience, though brief, has had one unmistakable encounter, an insistence on the preservation of one sacred truth: it is a truth that our first President, our founding father, passed on in the first farewell address made to the American people; it is a truth that I hope you will permit me to mention in these remarks of farewell, a truth embodied in our Declaration of Independence: that the case for inalienable rights, the idea of human dignity, the notion of conscience above compulsion, can be made only in the context of higher law, only in the context of what one of the founders of this Organization, Secretary General Dag Hammarskjöld, called devotion to something which is greater and higher than we are ourselves. This is the endless cycle, the final truth to which humankind seems always to return   that religion and morality, faith in something higher, are prerequisites for freedom, and that justice and peace within ourselves is the first step toward justice and peace in the world and for the ages. Yes, this is a place of great debate and grave discussion. Yet I cannot help but note here that one of our founding fathers   the most worldly of men, an internationalist, Benjamin Franklin   interrupted the proceedings of our own constitutional convention to make much the same point. I cannot help but think this morning of other beginnings   of where and when I first read those words and they shall beat their swords into ploughshares and your young men shall see visions and your old men shall dream dreams. This morning, my thoughts go to her who gave me many things in life but whose most important gift was the knowledge of the happiness and solace to be gained in prayer. It is the greatest help I have had in my presidency, and I recall here Lincoln words when he said Only the most foolish of men would think he could confront the duties of the office I now hold without turning to someone stronger, a power above all others.  I think, then, of her and others like her in that small town in Illinois, gentle people who possessed something that those who hold positions of power sometimes forget to prize. No one of them could ever have imagined that the boy from the banks of the Rock River would come to this moment and have this opportunity. But, had they been told that it would happen, I think they would have been a bit disappointed if I had not spoken here for what they knew so wells that when we grow weary of the world and its troubles, when our faith in humanity falters, it is then that we must seek contort and refreshment of spirit in a deeper source of wisdom, one greater than ourselves. So, if future generations do say of us that in our time peace came closer, that we did bring about new seasons of truth and justice, it will be cause for pride. But it will be a cause of greater pride still if it is also said that we were wise enough to know that the deliberations of great leaders and great bodies are but an overture, that the truly majestic music, the music of freedom, justice and peace, is the music made in forgetting self and seeking in silence the will of Him who made us. Thank you for your hospitality over the years. I bid you now farewell, and God bless you. \""
      ]
     },
     "execution_count": 13,
     "metadata": {},
     "output_type": "execute_result"
    }
   ],
   "source": [
    "# sample cleaned speech\n",
    "df['Speech_clean'][1]"
   ]
  },
  {
   "cell_type": "code",
   "execution_count": 14,
   "metadata": {
    "colab": {},
    "colab_type": "code",
    "executionInfo": {
     "elapsed": 1064,
     "status": "ok",
     "timestamp": 1598965815788,
     "user": {
      "displayName": "Aishwarya Singh",
      "photoUrl": "https://lh3.googleusercontent.com/a-/AOh14GgeJwfn4BdBDCAplWi_kdtB9FRssOpXO7T_aMgg=s64",
      "userId": "01105858832371513140"
     },
     "user_tz": -330
    },
    "id": "PDdpz6Ni0U46"
   },
   "outputs": [],
   "source": [
    "# splitting sentences\n",
    "def sentences(text):\n",
    "    # split sentences and questions\n",
    "    text = re.split('[.?]', text)\n",
    "    clean_sent = []\n",
    "    for sent in text:\n",
    "        clean_sent.append(sent)\n",
    "    return clean_sent"
   ]
  },
  {
   "cell_type": "code",
   "execution_count": 15,
   "metadata": {
    "colab": {},
    "colab_type": "code",
    "executionInfo": {
     "elapsed": 1241,
     "status": "ok",
     "timestamp": 1598965821731,
     "user": {
      "displayName": "Aishwarya Singh",
      "photoUrl": "https://lh3.googleusercontent.com/a-/AOh14GgeJwfn4BdBDCAplWi_kdtB9FRssOpXO7T_aMgg=s64",
      "userId": "01105858832371513140"
     },
     "user_tz": -330
    },
    "id": "KAZI2ISn0aW3"
   },
   "outputs": [],
   "source": [
    "# creating a new column to store the sentences\n",
    "df['Sentence'] = df['Speech_clean'].apply(sentences)"
   ]
  },
  {
   "cell_type": "code",
   "execution_count": 16,
   "metadata": {
    "colab": {
     "base_uri": "https://localhost:8080/",
     "height": 293
    },
    "colab_type": "code",
    "executionInfo": {
     "elapsed": 1643,
     "status": "ok",
     "timestamp": 1598965833934,
     "user": {
      "displayName": "Aishwarya Singh",
      "photoUrl": "https://lh3.googleusercontent.com/a-/AOh14GgeJwfn4BdBDCAplWi_kdtB9FRssOpXO7T_aMgg=s64",
      "userId": "01105858832371513140"
     },
     "user_tz": -330
    },
    "id": "MiTtx0bi0cXV",
    "outputId": "d928e9a3-c65d-46e8-b694-58c61efbfc8b"
   },
   "outputs": [
    {
     "data": {
      "text/html": [
       "<div>\n",
       "<style scoped>\n",
       "    .dataframe tbody tr th:only-of-type {\n",
       "        vertical-align: middle;\n",
       "    }\n",
       "\n",
       "    .dataframe tbody tr th {\n",
       "        vertical-align: top;\n",
       "    }\n",
       "\n",
       "    .dataframe thead th {\n",
       "        text-align: right;\n",
       "    }\n",
       "</style>\n",
       "<table border=\"1\" class=\"dataframe\">\n",
       "  <thead>\n",
       "    <tr style=\"text-align: right;\">\n",
       "      <th></th>\n",
       "      <th>Session</th>\n",
       "      <th>Country</th>\n",
       "      <th>Year</th>\n",
       "      <th>Speech</th>\n",
       "      <th>Speech_clean</th>\n",
       "      <th>Sentence</th>\n",
       "    </tr>\n",
       "  </thead>\n",
       "  <tbody>\n",
       "    <tr>\n",
       "      <th>0</th>\n",
       "      <td>42</td>\n",
       "      <td>analytics</td>\n",
       "      <td>1987</td>\n",
       "      <td>﻿Let me first welcome the Secretary-General ba...</td>\n",
       "      <td>﻿Let me first welcome the Secretary General ba...</td>\n",
       "      <td>[﻿Let me first welcome the Secretary General b...</td>\n",
       "    </tr>\n",
       "    <tr>\n",
       "      <th>1</th>\n",
       "      <td>43</td>\n",
       "      <td>analytics</td>\n",
       "      <td>1988</td>\n",
       "      <td>﻿\\nHalf a world away from this place of peace,...</td>\n",
       "      <td>﻿ Half a world away from this place of peace, ...</td>\n",
       "      <td>[﻿ Half a world away from this place of peace,...</td>\n",
       "    </tr>\n",
       "    <tr>\n",
       "      <th>2</th>\n",
       "      <td>44</td>\n",
       "      <td>analytics</td>\n",
       "      <td>1989</td>\n",
       "      <td>﻿I am honoured to address the General Assembly...</td>\n",
       "      <td>﻿I am honoured to address the General Assembly...</td>\n",
       "      <td>[﻿I am honoured to address the General Assembl...</td>\n",
       "    </tr>\n",
       "    <tr>\n",
       "      <th>3</th>\n",
       "      <td>45</td>\n",
       "      <td>analytics</td>\n",
       "      <td>1990</td>\n",
       "      <td>﻿\\nIt is really a great privilege to greet you...</td>\n",
       "      <td>﻿ It is really a great privilege to greet you ...</td>\n",
       "      <td>[﻿ It is really a great privilege to greet you...</td>\n",
       "    </tr>\n",
       "    <tr>\n",
       "      <th>4</th>\n",
       "      <td>46</td>\n",
       "      <td>analytics</td>\n",
       "      <td>1991</td>\n",
       "      <td>﻿I am honoured to speak with you as you open t...</td>\n",
       "      <td>﻿I am honoured to speak with you as you open t...</td>\n",
       "      <td>[﻿I am honoured to speak with you as you open ...</td>\n",
       "    </tr>\n",
       "  </tbody>\n",
       "</table>\n",
       "</div>"
      ],
      "text/plain": [
       "  Session    Country  Year                                             Speech  \\\n",
       "0      42  analytics  1987  ﻿Let me first welcome the Secretary-General ba...   \n",
       "1      43  analytics  1988  ﻿\\nHalf a world away from this place of peace,...   \n",
       "2      44  analytics  1989  ﻿I am honoured to address the General Assembly...   \n",
       "3      45  analytics  1990  ﻿\\nIt is really a great privilege to greet you...   \n",
       "4      46  analytics  1991  ﻿I am honoured to speak with you as you open t...   \n",
       "\n",
       "                                        Speech_clean  \\\n",
       "0  ﻿Let me first welcome the Secretary General ba...   \n",
       "1  ﻿ Half a world away from this place of peace, ...   \n",
       "2  ﻿I am honoured to address the General Assembly...   \n",
       "3  ﻿ It is really a great privilege to greet you ...   \n",
       "4  ﻿I am honoured to speak with you as you open t...   \n",
       "\n",
       "                                            Sentence  \n",
       "0  [﻿Let me first welcome the Secretary General b...  \n",
       "1  [﻿ Half a world away from this place of peace,...  \n",
       "2  [﻿I am honoured to address the General Assembl...  \n",
       "3  [﻿ It is really a great privilege to greet you...  \n",
       "4  [﻿I am honoured to speak with you as you open ...  "
      ]
     },
     "execution_count": 16,
     "metadata": {},
     "output_type": "execute_result"
    }
   ],
   "source": [
    "# first 5 rows\n",
    "df.head()"
   ]
  },
  {
   "cell_type": "code",
   "execution_count": 17,
   "metadata": {
    "colab": {
     "base_uri": "https://localhost:8080/",
     "height": 1000
    },
    "colab_type": "code",
    "executionInfo": {
     "elapsed": 838,
     "status": "ok",
     "timestamp": 1598965833938,
     "user": {
      "displayName": "Aishwarya Singh",
      "photoUrl": "https://lh3.googleusercontent.com/a-/AOh14GgeJwfn4BdBDCAplWi_kdtB9FRssOpXO7T_aMgg=s64",
      "userId": "01105858832371513140"
     },
     "user_tz": -330
    },
    "id": "u4b2oqY-0d-I",
    "outputId": "6ead20e0-988a-4eeb-dd13-7f3e477ec578"
   },
   "outputs": [
    {
     "data": {
      "text/plain": [
       "['\\ufeff Half a world away from this place of peace, the firing, the killing, the bloodshed in two merciless conflicts have for the first time in recent memory diminished',\n",
       " ' After terrible new names, names such as Halabja, Maidan Shahr and Spin Buldak, have been added to the toll call of human horror, there is today hope of peace in the Persian Gulf and Afghanistan',\n",
       " ' So too, in the highlands and coastal cities of southern Africa, places of civil war, places of occupation by foreign troops, talk of peace is heard, peace for the tortured nation of Angola',\n",
       " ' Sixty five hundred miles east, in the South East Asian country of Cambodia, there is hope now of a settlement and the removal of Viet Nam occupying forces',\n",
       " ' Finally, in this hemisphere, where only 12 years ago one third of the people of Latin America lived under democratic rule, some 90 per cent do so today',\n",
       " ' And especially in Central America, nations such as El Salvador, once threatened by the anarchy of the death squad and the spectre of totalitarian rule, now know the hope of self government and the prospect of economic growth',\n",
       " '  Another change, a change that if it endures may go down as one of the signal accomplishments of our history, a change that is cause for shaking the head in wonder, is also upon us; a change going to the source of post war tensions and to the once seemingly impossible dream of ending the twin threats of our time   totalitarianism and thermonuclear world war',\n",
       " ' For the first time, the differences between East and West   fundamental differences over important moral questions dealing with the worth of the individual and whether Governments shall control people or people control Governments   for the first time these differences have shown signs of easing, easing to the point where there are not just troop withdrawals from places such as Afghanistan, but also talk in the East of reform and greater freedom of the press, of assembly and of religion',\n",
       " ' Yes, fundamental differences remain, but should talk of reform become more than that, should it become reality, there is the prospect of not only a new era in Soviet United States relations but a new age of world peace; for such reform can bring peace',\n",
       " ' History teaches, and my country has always believed that, where the rights of the individual and the people are enshrined, war is a distant prospect',\n",
       " ' For it is not people who make war; only Governments do that',\n",
       " ' I stand at this rostrum, then, at a moment of hope; hope not just for the peoples of the United States and the Soviet Union, but for all the peoples of the world, and hope too for the dream of peace among nations, the dream that began the United Nations',\n",
       " ' Precisely because of these changes, today the United Nations has the opportunity to live and breathe and work as never before',\n",
       " ' Already, Mr Secretary General, you, through your persistence, patience and unyielding will, have shown in working towards peace in Afghanistan and the Persian Gulf how valuable the United Nations can be',\n",
       " ' We salute you for these accomplishments',\n",
       " ' In Geneva at this very hour there are numerous negotiations under way: multilateral negotiations at the Conference on Disarmament, as well as bilateral negotiations on a range of issues between the Soviets and ourselves',\n",
       " ' These negotiations, some of them under United Nations auspices, involve a broad arms control agenda: strategic offensive weapons, strategic defence and space, nuclear testing, and chemical warfare   whose urgency we have witnessed anew in recent days',\n",
       " ' And the negotiators ate busy',\n",
       " ' Over the last few years they h iv/e been engaged in more than an academic exercise',\n",
       " ' There is movement; the log jam is broken',\n",
       " ' Only recently, when the United States and the Soviet Union signed the intermediate range nuclear forces  agreement, an entire class of United States and Soviet nuclear missiles was eliminated for the first time in history',\n",
       " ' Progress continues on negotiations to reduce strategic weapons in massive number, with effective verification, and talks will begin soon on conventional reductions in Europe',\n",
       " ' Much of the reason for all this goes back, I believe, to Geneva, to the small chateau beside the lake where I and the Soviet General Secretary had the first of several fireside chats   exchanges characterized by frankness, but friendliness too',\n",
       " ' I said at the first meeting in Geneva that this was a unique encounter between two people who had the power to start a third world war or to begin a new age of peace among nations',\n",
       " ' I also said that peace conferences, arms negotiations and proposals for treaties could make sense only if they were part of a wider context, a context in which we sought to explore and resolve the deeper underlying differences between us',\n",
       " ' I said to Mr Gorbachev then, as I have said to the Assembly before, that nations do not mistrust each other because they are armed; they are armed because they mistrust each other',\n",
       " '   In that place, by that peaceful lake in neutral Switzerland, Mr Gorbachev and I did begin a new relationship based not just on engagement over the single issue of arras control but on a broader agenda about our deeper differences, an agenda of human rights, regional conflicts and bilateral exchanges between our peoples',\n",
       " ' Even on the arms control issue itself we agreed to go beyond the past, to seek not just treaties that permitted building weapons to higher levels, but revolutionary agreements that actually reduced and even eliminated a whole class of nuclear weapons',\n",
       " ' What was begun that morning in Geneva has shown results: in the INF Treaty',\n",
       " ' in my recent visit to Moscow; in my opportunity to meet there with Soviet citizens and dissidents and speak of human rights; and to speak too, in the Lenin Hills of Moscow, to the young people of the Soviet Union about the wonder and splendour of human freedom',\n",
       " ' The results of that morning in Geneva are seen in peace conferences now under way around the world on regional conflicts and in the work of the United Nations here in New York as well as in Geneva',\n",
       " ' But history teaches caution',\n",
       " ' Indeed, that very building in Geneva, where important negotiations have taken place   those on the Geneva Accords on Afghanistan, and the Iran Iraq negotiations, for example   we see today as stone like testimony to a failed dream of peace in another time',\n",
       " ' The Palais des Nations was the headquarters of the League of Nations, an institution that was to symbolize an end to all war',\n",
       " ' Yet that institution and its noble purpose ended with the Second World War; ended because the chance of peace was not seized in the 1930s by the nations of the world, ended because humanity did not find the courage to isolate the aggressors, to reject schemes of government that served the State, not the people',\n",
       " ' We are here today determined that no such fate shall befall the United Nations',\n",
       " ' We are determined that the United Nations shall succeed and serve the cause of peace for humankind',\n",
       " ' So we realize that, even in this time of hope, the chance of failure is teal, but this knowledge does not discourage us: it spurs us on',\n",
       " ' For the stakes are high; do we falter and fail now, and bring down upon ourselves the just anger of future generations',\n",
       " ' Or do we continue the work of the founders of this institution, and see to it that, at last, freedom is enshrined and humanity knows war no longer, and that this place, this floor, shall be truly the world last battlefield',\n",
       " ' We are determined that it shall be so',\n",
       " ' So we turn now to the agenda of peace',\n",
       " ' Let us begin by addressing a concern that was much on my mind when I met with Mr Gorbachev in the Kremlin as well as on the minds of Soviet citizens I met in Moscow',\n",
       " ' It is also an issue that I know is of immediate importance to the members of this Assembly who, this fall, commemorate the fortieth anniversary of the Universal Declaration of Human Rights',\n",
       " ' That Declaration says plainly what those who seek peace can forget only at the greatest peril that peace rests on one foundation; observance of the inalienable rights of all members of the human family',\n",
       " ' In a century where human rights have been denied by totalitarian governments on a scale never before seen in history, with so many millions deliberately starved or eliminated as a matter of State policy   a history, it has been said, of blood, stupidity and barbed wire   few can wonder why peace has proved so elusive',\n",
       " '\\t Well, let us understand',\n",
       " ' If we would have peace, we must acknowledge the elementary rights of our fellow human beings, in our own land and in other lands',\n",
       " ' If we would have peace, the trampling of the human spirit must cease',\n",
       " ' Human rights is not for some, some of the time',\n",
       " ' Human rights, as the Universal Declaration adopted by this Assembly in 1948 proclaims, is for all peoples and all nations',\n",
       " ' And for all time',\n",
       " ' This regard for human rights as the foundation of peace is at the heart of the United Nations',\n",
       " ' Those who starve in Ethiopia, those who die among the Kurds, those who face racial injustice in South Africa, those who still cannot write or speak freely in the Soviet Union, those who cannot worship in the Ukraine, those who struggle for life and freedom on boats in the South China Sea, those who cannot publish or assemble in Managua   all of these are more than just an item on your agenda',\n",
       " ' It must be a first concern, an issue above others',\n",
       " ' For when human rights concerns are not paramount at the United Nations   when the Universal Declaration of Human Rights is not honoured in these halls and meeting rooms   then the very credibility of this Organization is at stake, the very purpose of its existence in question',\n",
       " ' That is why, when progress is made in human rights, the United Nations grows stronger and the United States is glad of it',\n",
       " ' For example, following a two year ¡ effort led by the United States, the United Nations Commission on Human Rights took a major step towards ending the double standards and cynicism that had characterized too much of its past',\n",
       " \" For years, Cuba, a blatant violator of its citizens' human rights, has escaped United Nations censure or even scrutiny\",\n",
       " ' This year, Cuba has responded to pressure generated by the Commission on Human Rights by accepting an investigation into its human rights abuses',\n",
       " ' Fidel Castro has already begun to free some political prisoners, improve prison conditions, and tolerate the existence of a small, independent national human rights group',\n",
       " ' More must be done',\n",
       " ' The United Nations must be relentless and unyielding in seeking change, in Cuba and elsewhere',\n",
       " ' And we must also see to it that the Universal Declaration itself is not debased with episodes like the resolution Zionism is racism',\n",
       " ' Respect for human rights is the first and fundamental mission of this body, the most elementary obligation of its members',\n",
       " ' Indeed, wherever one turns in the world today, there is a new awareness, a growing passion for human rights',\n",
       " ' The people of the world become united: new groups, new coalitions form, coalitions that commit: government, that work against discrimination, that fight religious or political repression, unlawful imprisonment, torture or execution',\n",
       " ' As those I spoke to at Spaso House said to me last June: Such movements make a difference',\n",
       " ' Turning now to regional conflicts, we feel again the uplift of hope',\n",
       " ' In the Gulf War between Iran and Iraq   one of the bloodiest conflicts since the Second World War   we have a cease fire',\n",
       " ' The resolution and the firmness of the allied nations in keeping the Persian Gulf open to international shipping not only upheld the rule of law, it helped prevent further spread of the conflict and laid the basis for peace',\n",
       " ' So, too, the Security Council decisive resolution in July a year ago has become the blueprint for a peaceful Gulf',\n",
       " ' Let this war   a war in which there has been no victor or vanquished, only victims   let this war end now',\n",
       " ' Let both Iran and Iraq co operate with the Secretary General and the Security Council in implementing resolution 598 ',\n",
       " ' Let peace come',\n",
       " ' Moving on to a second region, I would recall that when I first addressed the United Nations General Assembly in 1983, world attention was focused on the brutal invasion and illegal occupation of Afghanistan',\n",
       " ' After nearly nine long years of war, the courage and determination of the Afghan people and the Afghan freedom fighters have held sway   and today, an end to the occupation is in sight',\n",
       " ' On April 14, the USSR signed the Geneva Accords, which were negotiated under United Nations auspices by Pakistan and the Kabul regime',\n",
       " ' We encourage the Soviet Union to complete its troop withdrawal at the earliest possible date, so that the Afghan people can freely determine their future without further outside interference',\n",
       " ' In southern Africa, too, years of patient diplomacy and support for those in Angola who seek self determination are having their effect',\n",
       " ' We look forward to an accord between the Governments of Angola, Cuba, and South Africa that will bring about a complete withdrawal of all foreign troops   primarily Cuban   from Angola',\n",
       " ' We look forward as well to full implementation of United Nations Security Council resolution 435  and our longstanding goal of independence for Namibia',\n",
       " ' We continue to support a growing consensus among African leaders who also believe there can be no end to conflict in the region until there is national reconciliation within Angola',\n",
       " ' There are new hopes for Cambodia, a nation whose freedom and independence we seek just as avidly as we sought the freedom and independence of Afghanistan',\n",
       " ' We urge the rapid removal of all Vietnamese troops and a settlement that will prevent the return of the Khmer Rouge to power, permitting instead the establishment of a genuinely representative government   a government that will, at last, respect fully the rights of the people of Cambodia and end the hideous suffering they have so bravely and needlessly borne',\n",
       " ' In other critical areas, we applaud the Secretary General efforts to structure a referendum on the Western Sahara',\n",
       " ' In the Mediterranean, direct talks between Greek and Turkish Cypriot common ties hold much promise for accord in that divided island nation',\n",
       " ' Finally, we look to a peaceful solution to the Arab Israeli conflict',\n",
       " ' So, too, the unnatural division of Europe remains a critical obstacle to Soviet American relations',\n",
       " '  In most of these areas, then, we see progress and, again, we are glad of it',\n",
       " ' Only a few years ago, all of these and other conflicts were burning dangerously out of control',\n",
       " ' Indeed, the invasion of Afghanistan and the apparent failure of will among democratic and peace loving nations to deter such events seemed to cause a climate where aggression by nations large and small was epidemic, a climate the world had not seen since the 1930s',\n",
       " ' Only this time, larger war was avoided   avoided because the free and peaceful nations of the world recovered their strength of purpose and will',\n",
       " ' And now the United Nations is providing valuable assistance in helping this epidemic to recede',\n",
       " ' And because we are resolved to keep it so, I would be remiss in my duty if I did not now take note here of the one exception to progress in regional conflicts',\n",
       " ' I refer here to the continuing deterioration of human rights in Nicaragua and the refusal of the tiny elite now ruling that nation to honour promises of democracy made to their own people and to the international community',\n",
       " ' This elite   in calling itself revolutionary   seeks no real revolution; the use of the term is subterfuge, deception for hiding the oldest, most corrupt vice of alls man age old will to power, his lust to control the lives and steal the freedom of others',\n",
       " ' That is why, as President, I will continue to urge the Congress and the American public to stand behind those who resist this attempt to impose a totalitarian regime on the people of Nicaragua; that the United States will continue to stand with those who are threatened by this regime aggression against its neighbours in Central America',\n",
       " ' Today, I also call on the Soviet Union to show in Central America the same spirit of constructive realism it has shown in other regional conflicts; to assist in bringing conflict in Central America to a close by halting the flow of billions of dollars worth of arms and ammunition to the Sandinista regime; a regime whose goals of regional domination, while ultimately doomed, can continue to cause great suffering to the people of that area and risk to Soviet American relations unless action is taken now',\n",
       " ' With regard to the arms reduction agenda, I have already mentioned the importance of the INF Treaty and the momentum developed in the strategic arms reduction talks ',\n",
       " ' The draft START treaty is a lengthy process filled with bracketed language designating sections of disagreement between the two sides',\n",
       " ' But through this summer in Geneva, those brackets have diminished; there is every reason to believe this process can continue',\n",
       " ' I can tell this Assembly that it is highly doubtful such a treaty can be accomplished in a few months, but I can tell you that a year from now is a possibility   more than a possibility',\n",
       " ' But we have no deadline',\n",
       " ' No agreement is better than a bad agreement',\n",
       " ' The United States remains hopeful, and we acknowledge the spirit of co operation shown by the Soviet Union in these negotiations',\n",
       " ' We also look for that spirit to be applied to our concerns about compliance with existing agreements',\n",
       " ' So, too, our discussions on nuclear testing and defence and space have been useful',\n",
       " ' But let me here stress to the General Assembly that much of the momentum in nuclear arms control negotiations is due to technological progress itself, especially in the potential for space based defensive systems',\n",
       " ' I believe that the determination of the United States to research and develop and, when ready, deploy such defensive systems   systems targeted to destroy missiles, not people   accounts for a large share of the progress made in recent years in Geneva',\n",
       " ' With such systems, for the first time, in case of accidental launch or the act of a madman somewhere, major Powers will not be faced with the single option of massive retaliation, but will instead have the chance of a saner choice: to shield against an attack instead of avenging it',\n",
       " ' So, too, as defensive systems grow in effectiveness, they reduce the threat and the value of greater and greater offensive arsenals',\n",
       " ' Only recently, briefings I have received in the Oval Office indicate that progress toward such systems may be even more rapid and less costly than we had at first thought',\n",
       " ' Today, the United States reaffirms its commitment to its strategic defence initiative and our offer to share the benefits of strategic defences with others',\n",
       " ' And yet, even as diplomatic and technological progress holds out the hope of at last diminishing the awful cloud of nuclear terror we have lived under in the post war era, even at this moment another ominous terror is loose once again in the world, a terror we thought the world had put behind, a terror that looms at us now from the long buried past, from ghostly, scarring trenches and the haunting, wan faces of millions dead in one of the most inhumane conflicts of all time',\n",
       " ' Poison gas; chemical warfare: the terror of it; the horror of it! We condemn it',\n",
       " ' The use of chemical weapons in the Iran Iraq war, beyond its tragic human toll, jeopardizes the moral and legal strictures that have held those weapons in check since the First World War',\n",
       " ' Let this tragedy spark reaffirmation of the Geneva Protocol outlawing the use of chemical weapons',\n",
       " ' I call upon the signatories to that Protocol, as well as other concerned States, to convene a conference to consider actions that we can take together to reverse the serious erosion of this treaty',\n",
       " ' We urge all nations to co operate in negotiating a verifiable, truly global ban on chemical weapons at the Conference on Disarmament in Geneva',\n",
       " ' It is incumbent upon all civilized nations to ban, once and for all   and on a verifiable and global basis   the use of chemical and gas warfare',\n",
       " ' Finally, we must redouble our efforts to stop further proliferation of nuclear weapons in the world',\n",
       " ' Likewise, proliferation in other high technology weapons such as ballistic missiles, is reaching global proportions, exacerbating regional rivalries in ways that can have global implications',\n",
       " ' The number of potential suppliers is growing at an alarming rate, and more must be done to halt the spread of these weapons',\n",
       " ' This was a matter of discussion last week between Secretary Shultz and Foreign Minister Shevardnadze',\n",
       " ' Talks between American and Soviet experts begin on this today; and we hope to see a multilateral effort to avoid having areas of tension like the Middle East becoming even more deadly battlegrounds than they already are',\n",
       " ' Rut in most of these areas we see not only progress but also the potential for an increasingly vital role for multilateral efforts and institutions like the United Nations',\n",
       " ' That is why now more than ever the United Nations must continue to increase its effectiveness through budget and programme reform',\n",
       " ' The United Nations already is enacting sweeping measures affecting personnel reductions, budgeting by consensus, and the establishment of programme priorities',\n",
       " ' These actions are extremely important',\n",
       " ' The progress on reforms has allowed me to release funds withheld under congressional restrictions',\n",
       " ' I expect that the reform programme will continue and that further funds will be released in our new fiscal year',\n",
       " ' Let me say here that we congratulate the United Nations on the work it has done in three areas of special concern',\n",
       " ' First, our struggle against the scourge of terrorism and State sponsored terrorism must continue; and we must also end the scourge of hostage taking',\n",
       " ' Second, the work of the World Health Organization in co ordinating and advancing research on AIDS is vital',\n",
       " ' All international efforts in this area must be redoubled',\n",
       " ' The AIDS crisis is a grave one; we must move as one to meet it',\n",
       " '  So, too, is the drug crisis',\n",
       " ' We are moving now toward a new anti drug trafficking convention',\n",
       " ' This important treaty will be completed in December',\n",
       " ' I am confident that other strong United Nations drug control programmes will also follow',\n",
       " ' The American people are profoundly concerned and deeply angered',\n",
       " ' We will not tolerate the drug traffickers',\n",
       " ' We mean to make war on them   and we believe this is one war the United Nations can endorse and participate in',\n",
       " ' Yes, the United Nations is a better place than it was eight years ago   and so, too, is the world',\n",
       " ' But the real issue of reform in the United Nations is not limited to fiscal and administrative improvements; it includes also a higher sort of reform, an intellectual and philosophical reform, a reform of old views about the relationship between the individual and the State',\n",
       " '  Few developments, for example, have been more encouraging to the United States than the special session on Africa that this body held two and a half years ago   a session at which the Members of the United Nations joined in calling as one for free market incentives and a lessening of State controls to spur economic development',\n",
       " '  At one of the first international assemblies of my presidency, in Cancun, Mexico, I said that history demonstrates that, time and again, in place after place, economic growth and human progress make their greatest strides in countries that encourage economic freedom; that individual farmers, labourers, owners, traders and managers are the heart and soul of development',\n",
       " ' Trust them, because where they are allowed to create and build, where they are given a personal stake in deciding economic policies and benefiting from their success, societies become more dynamic, prosperous, progressive and free',\n",
       " ' We believe in freedom; we know that it works',\n",
       " ' This is the immutable lesson of the post war era: that freedom works; that, even more, freedom and peace work together',\n",
       " ' Every year that passes, everywhere in the world, this lesson is taking hold   from the People Republic of China to Cameroon, from Bolivia to Botswana, and, yes, in the citadel of Marxism Leninism itself',\n",
       " ' No, my country did not invent this synergy of peace and freedom, but, believe me, we impose no restrictions on the free export of our more than two centuries of experience with it',\n",
       " ' Free people, blessed by economic opportunity and protected by laws that respect the dignity of the individual, are not driven towards war or the domination of others',\n",
       " ' Here, then, is the way to world peace',\n",
       " ' But we Americans champion freedom not only because it is practical and beneficial but because it is also just, morally right',\n",
       " ' Here I should like to note that I have addressed this assemblage more often than any of my predecessors and that this is the last occasion on which I shall do so',\n",
       " ' Therefore I hope that I may be permitted some closing reflections',\n",
       " ' The world is currently witnessing another celebration of international co operation',\n",
       " ' At the Olympics we see nations joining together in the competition of sports, and we see young people, who know precious little of the resentments of their elders, coming together as one',\n",
       " ' One of our young athletes, from a home of modest means, said that she drew the strength for her achievement from another source of wealth',\n",
       " ' We were rich as a family she said about the love she was given and the values she was taught',\n",
       " ' I dare to hope that in the sentiment of that young athlete we see a sign of the rediscovery of old and tested values; values such as family   the first and most important unit of society, where all values and learning begin, an institution to be cherished and protected·, values, too, such as work, community, freedom and faith, for it is here we find the deeper rationale for the cause of human rights and world peace',\n",
       " ' Our own experience on this continent, the American experience, though brief, has had one unmistakable encounter, an insistence on the preservation of one sacred truth: it is a truth that our first President, our founding father, passed on in the first farewell address made to the American people; it is a truth that I hope you will permit me to mention in these remarks of farewell, a truth embodied in our Declaration of Independence: that the case for inalienable rights, the idea of human dignity, the notion of conscience above compulsion, can be made only in the context of higher law, only in the context of what one of the founders of this Organization, Secretary General Dag Hammarskjöld, called devotion to something which is greater and higher than we are ourselves',\n",
       " ' This is the endless cycle, the final truth to which humankind seems always to return   that religion and morality, faith in something higher, are prerequisites for freedom, and that justice and peace within ourselves is the first step toward justice and peace in the world and for the ages',\n",
       " ' Yes, this is a place of great debate and grave discussion',\n",
       " ' Yet I cannot help but note here that one of our founding fathers   the most worldly of men, an internationalist, Benjamin Franklin   interrupted the proceedings of our own constitutional convention to make much the same point',\n",
       " ' I cannot help but think this morning of other beginnings   of where and when I first read those words and they shall beat their swords into ploughshares and your young men shall see visions and your old men shall dream dreams',\n",
       " ' This morning, my thoughts go to her who gave me many things in life but whose most important gift was the knowledge of the happiness and solace to be gained in prayer',\n",
       " ' It is the greatest help I have had in my presidency, and I recall here Lincoln words when he said Only the most foolish of men would think he could confront the duties of the office I now hold without turning to someone stronger, a power above all others',\n",
       " '  I think, then, of her and others like her in that small town in Illinois, gentle people who possessed something that those who hold positions of power sometimes forget to prize',\n",
       " ' No one of them could ever have imagined that the boy from the banks of the Rock River would come to this moment and have this opportunity',\n",
       " ' But, had they been told that it would happen, I think they would have been a bit disappointed if I had not spoken here for what they knew so wells that when we grow weary of the world and its troubles, when our faith in humanity falters, it is then that we must seek contort and refreshment of spirit in a deeper source of wisdom, one greater than ourselves',\n",
       " ' So, if future generations do say of us that in our time peace came closer, that we did bring about new seasons of truth and justice, it will be cause for pride',\n",
       " ' But it will be a cause of greater pride still if it is also said that we were wise enough to know that the deliberations of great leaders and great bodies are but an overture, that the truly majestic music, the music of freedom, justice and peace, is the music made in forgetting self and seeking in silence the will of Him who made us',\n",
       " ' Thank you for your hospitality over the years',\n",
       " ' I bid you now farewell, and God bless you',\n",
       " ' ']"
      ]
     },
     "execution_count": 17,
     "metadata": {},
     "output_type": "execute_result"
    }
   ],
   "source": [
    "# sample sentence list from the dataset\n",
    "df['Sentence'][1]"
   ]
  },
  {
   "cell_type": "code",
   "execution_count": 18,
   "metadata": {
    "colab": {},
    "colab_type": "code",
    "executionInfo": {
     "elapsed": 1038,
     "status": "ok",
     "timestamp": 1598965915407,
     "user": {
      "displayName": "Aishwarya Singh",
      "photoUrl": "https://lh3.googleusercontent.com/a-/AOh14GgeJwfn4BdBDCAplWi_kdtB9FRssOpXO7T_aMgg=s64",
      "userId": "01105858832371513140"
     },
     "user_tz": -330
    },
    "id": "MEIFr07Z0ik9"
   },
   "outputs": [],
   "source": [
    "# create a dataframe containing sentences\n",
    "df2 = pd.DataFrame(columns=['Sentence','Year','Len'])\n",
    "\n",
    "row_list = []\n",
    "\n",
    "# for each speech\n",
    "for i in range(len(df)):\n",
    "    # for each sentence\n",
    "    for sent in df.loc[i,'Sentence']:\n",
    "    \n",
    "        # calculating the word count in a sentence\n",
    "        wordcount = len(sent.split())\n",
    "        # extracting the year of speech\n",
    "        year = df.loc[i,'Year']\n",
    "\n",
    "        dict1 = {'Year':year,'Sentence':sent,'Len':wordcount}\n",
    "        # If we were not looking at only the US speeches, adding the Country would be helpful above.\n",
    "        row_list.append(dict1)\n",
    "    \n",
    "df2 = pd.DataFrame(row_list)"
   ]
  },
  {
   "cell_type": "code",
   "execution_count": 19,
   "metadata": {
    "colab": {
     "base_uri": "https://localhost:8080/",
     "height": 206
    },
    "colab_type": "code",
    "executionInfo": {
     "elapsed": 1126,
     "status": "ok",
     "timestamp": 1598965920100,
     "user": {
      "displayName": "Aishwarya Singh",
      "photoUrl": "https://lh3.googleusercontent.com/a-/AOh14GgeJwfn4BdBDCAplWi_kdtB9FRssOpXO7T_aMgg=s64",
      "userId": "01105858832371513140"
     },
     "user_tz": -330
    },
    "id": "b2LuK2WH0qJR",
    "outputId": "02f33e9d-a576-4359-d7bb-7b959e2c5115"
   },
   "outputs": [
    {
     "data": {
      "text/html": [
       "<div>\n",
       "<style scoped>\n",
       "    .dataframe tbody tr th:only-of-type {\n",
       "        vertical-align: middle;\n",
       "    }\n",
       "\n",
       "    .dataframe tbody tr th {\n",
       "        vertical-align: top;\n",
       "    }\n",
       "\n",
       "    .dataframe thead th {\n",
       "        text-align: right;\n",
       "    }\n",
       "</style>\n",
       "<table border=\"1\" class=\"dataframe\">\n",
       "  <thead>\n",
       "    <tr style=\"text-align: right;\">\n",
       "      <th></th>\n",
       "      <th>Year</th>\n",
       "      <th>Sentence</th>\n",
       "      <th>Len</th>\n",
       "    </tr>\n",
       "  </thead>\n",
       "  <tbody>\n",
       "    <tr>\n",
       "      <th>0</th>\n",
       "      <td>1987</td>\n",
       "      <td>﻿Let me first welcome the Secretary General ba...</td>\n",
       "      <td>17</td>\n",
       "    </tr>\n",
       "    <tr>\n",
       "      <th>1</th>\n",
       "      <td>1987</td>\n",
       "      <td>Hundreds of thousands have already fallen in ...</td>\n",
       "      <td>14</td>\n",
       "    </tr>\n",
       "    <tr>\n",
       "      <th>2</th>\n",
       "      <td>1987</td>\n",
       "      <td>All men and women of goodwill pray that the c...</td>\n",
       "      <td>40</td>\n",
       "    </tr>\n",
       "    <tr>\n",
       "      <th>3</th>\n",
       "      <td>1987</td>\n",
       "      <td>Mr Secretary General, the United States suppo...</td>\n",
       "      <td>17</td>\n",
       "    </tr>\n",
       "    <tr>\n",
       "      <th>4</th>\n",
       "      <td>1987</td>\n",
       "      <td>Like the Secretary General, all of us here to...</td>\n",
       "      <td>15</td>\n",
       "    </tr>\n",
       "  </tbody>\n",
       "</table>\n",
       "</div>"
      ],
      "text/plain": [
       "   Year                                           Sentence  Len\n",
       "0  1987  ﻿Let me first welcome the Secretary General ba...   17\n",
       "1  1987   Hundreds of thousands have already fallen in ...   14\n",
       "2  1987   All men and women of goodwill pray that the c...   40\n",
       "3  1987   Mr Secretary General, the United States suppo...   17\n",
       "4  1987   Like the Secretary General, all of us here to...   15"
      ]
     },
     "execution_count": 19,
     "metadata": {},
     "output_type": "execute_result"
    }
   ],
   "source": [
    "# first 5 rows\n",
    "df2.head()"
   ]
  },
  {
   "cell_type": "code",
   "execution_count": 20,
   "metadata": {
    "colab": {
     "base_uri": "https://localhost:8080/",
     "height": 34
    },
    "colab_type": "code",
    "executionInfo": {
     "elapsed": 1055,
     "status": "ok",
     "timestamp": 1598965973386,
     "user": {
      "displayName": "Aishwarya Singh",
      "photoUrl": "https://lh3.googleusercontent.com/a-/AOh14GgeJwfn4BdBDCAplWi_kdtB9FRssOpXO7T_aMgg=s64",
      "userId": "01105858832371513140"
     },
     "user_tz": -330
    },
    "id": "_4-Ef3h30r6c",
    "outputId": "edf81e7d-755e-4264-e0e3-d58b158bd017"
   },
   "outputs": [
    {
     "data": {
      "text/plain": [
       "(8948, 3)"
      ]
     },
     "execution_count": 20,
     "metadata": {},
     "output_type": "execute_result"
    }
   ],
   "source": [
    "# shape of the dataset\n",
    "df2.shape"
   ]
  },
  {
   "cell_type": "markdown",
   "metadata": {
    "colab_type": "text",
    "id": "ziIACITxlGZm"
   },
   "source": [
    "Sample sentences from dataset:\n",
    "\n",
    "1.  For that reason, **President Reagan**, in his speech to this body last year, proposed that the United States and the Soviet Union exchange visits of experts at test sites to measure directly the yields of nuclear weapon test\n",
    "2.  **President Reagan** has directed our scientists and engineers to examine, in the light of new technologies and fully in accord with the Anti Ballistic Missile Treaty   the feasibility of defense against ballistic missile attack\n",
    "3.   **President Reagan** approach to foreign policy is  grounded squarely on standards drawn from the  pragmatic American experience\n",
    "4.  Let me start by joining the **President of Brazil** in conveying to the people and Government of Mexico our deep sympathy over the devastation wrought by earthquakes and our solidarity with them as they work to recover and rebuild"
   ]
  },
  {
   "cell_type": "markdown",
   "metadata": {
    "colab_type": "text",
    "id": "bCPOZamqlq_J"
   },
   "source": [
    "## 3. Rule 1 - Extracting the sentences with President's mention\n",
    "\n",
    "Using Spacy matcher"
   ]
  },
  {
   "cell_type": "code",
   "execution_count": 21,
   "metadata": {
    "colab": {},
    "colab_type": "code",
    "executionInfo": {
     "elapsed": 3276,
     "status": "ok",
     "timestamp": 1598966160465,
     "user": {
      "displayName": "Aishwarya Singh",
      "photoUrl": "https://lh3.googleusercontent.com/a-/AOh14GgeJwfn4BdBDCAplWi_kdtB9FRssOpXO7T_aMgg=s64",
      "userId": "01105858832371513140"
     },
     "user_tz": -330
    },
    "id": "4QUGP1S30vmh"
   },
   "outputs": [],
   "source": [
    "# importing spacy and its matcher function\n",
    "import spacy\n",
    "from spacy.matcher import Matcher\n",
    "\n",
    "# load english language model\n",
    "nlp = spacy.load('en_core_web_sm', disable=['ner','textcat'])"
   ]
  },
  {
   "cell_type": "code",
   "execution_count": 22,
   "metadata": {
    "colab": {},
    "colab_type": "code",
    "executionInfo": {
     "elapsed": 1506,
     "status": "ok",
     "timestamp": 1598966285352,
     "user": {
      "displayName": "Aishwarya Singh",
      "photoUrl": "https://lh3.googleusercontent.com/a-/AOh14GgeJwfn4BdBDCAplWi_kdtB9FRssOpXO7T_aMgg=s64",
      "userId": "01105858832371513140"
     },
     "user_tz": -330
    },
    "id": "NHTmyLGz003N"
   },
   "outputs": [],
   "source": [
    "# function to find sentences mentioning president\n",
    "def find_names(text):\n",
    "    \n",
    "    names = []\n",
    "    \n",
    "    # spacy doc\n",
    "    doc = nlp(text)\n",
    "    \n",
    "    # pattern\n",
    "    pattern = [{'LOWER':'president'},\n",
    "              {'POS':'ADP','OP':'?'},\n",
    "              {'POS':'PROPN'}]\n",
    "                \n",
    "    # Matcher class object \n",
    "    matcher = Matcher(nlp.vocab) \n",
    "    matcher.add(\"names\", None, pattern) \n",
    "\n",
    "    matches = matcher(doc)\n",
    "\n",
    "    # finding patterns in the text\n",
    "    for i in range(0,len(matches)):\n",
    "        \n",
    "        # match: id, start, end\n",
    "        token = doc[matches[i][1]:matches[i][2]]\n",
    "        # append token to list\n",
    "        names.append(str(token))\n",
    "            \n",
    "    return names"
   ]
  },
  {
   "cell_type": "code",
   "execution_count": 23,
   "metadata": {
    "colab": {},
    "colab_type": "code",
    "executionInfo": {
     "elapsed": 71023,
     "status": "ok",
     "timestamp": 1598966368352,
     "user": {
      "displayName": "Aishwarya Singh",
      "photoUrl": "https://lh3.googleusercontent.com/a-/AOh14GgeJwfn4BdBDCAplWi_kdtB9FRssOpXO7T_aMgg=s64",
      "userId": "01105858832371513140"
     },
     "user_tz": -330
    },
    "id": "X2Zu868Mh39G"
   },
   "outputs": [],
   "source": [
    "# extracting sentences with president's mentions\n",
    "extracted_sentences = []\n",
    "for i in range(df2.shape[0]):\n",
    "    extracted_sentences.append(find_names(df2['Sentence'][i]))\n",
    "\n",
    "# storing the extracted sentences in the dataframe\n",
    "df2['President_Names'] = extracted_sentences"
   ]
  },
  {
   "cell_type": "code",
   "execution_count": 24,
   "metadata": {
    "colab": {
     "base_uri": "https://localhost:8080/",
     "height": 206
    },
    "colab_type": "code",
    "executionInfo": {
     "elapsed": 988,
     "status": "ok",
     "timestamp": 1598966377660,
     "user": {
      "displayName": "Aishwarya Singh",
      "photoUrl": "https://lh3.googleusercontent.com/a-/AOh14GgeJwfn4BdBDCAplWi_kdtB9FRssOpXO7T_aMgg=s64",
      "userId": "01105858832371513140"
     },
     "user_tz": -330
    },
    "id": "kXzt8BZegvnl",
    "outputId": "d4646fb1-5c33-48a9-9608-15a495fc91bd"
   },
   "outputs": [
    {
     "data": {
      "text/html": [
       "<div>\n",
       "<style scoped>\n",
       "    .dataframe tbody tr th:only-of-type {\n",
       "        vertical-align: middle;\n",
       "    }\n",
       "\n",
       "    .dataframe tbody tr th {\n",
       "        vertical-align: top;\n",
       "    }\n",
       "\n",
       "    .dataframe thead th {\n",
       "        text-align: right;\n",
       "    }\n",
       "</style>\n",
       "<table border=\"1\" class=\"dataframe\">\n",
       "  <thead>\n",
       "    <tr style=\"text-align: right;\">\n",
       "      <th></th>\n",
       "      <th>Year</th>\n",
       "      <th>Sentence</th>\n",
       "      <th>Len</th>\n",
       "      <th>President_Names</th>\n",
       "    </tr>\n",
       "  </thead>\n",
       "  <tbody>\n",
       "    <tr>\n",
       "      <th>0</th>\n",
       "      <td>1987</td>\n",
       "      <td>﻿Let me first welcome the Secretary General ba...</td>\n",
       "      <td>17</td>\n",
       "      <td>[]</td>\n",
       "    </tr>\n",
       "    <tr>\n",
       "      <th>1</th>\n",
       "      <td>1987</td>\n",
       "      <td>Hundreds of thousands have already fallen in ...</td>\n",
       "      <td>14</td>\n",
       "      <td>[]</td>\n",
       "    </tr>\n",
       "    <tr>\n",
       "      <th>2</th>\n",
       "      <td>1987</td>\n",
       "      <td>All men and women of goodwill pray that the c...</td>\n",
       "      <td>40</td>\n",
       "      <td>[]</td>\n",
       "    </tr>\n",
       "    <tr>\n",
       "      <th>3</th>\n",
       "      <td>1987</td>\n",
       "      <td>Mr Secretary General, the United States suppo...</td>\n",
       "      <td>17</td>\n",
       "      <td>[]</td>\n",
       "    </tr>\n",
       "    <tr>\n",
       "      <th>4</th>\n",
       "      <td>1987</td>\n",
       "      <td>Like the Secretary General, all of us here to...</td>\n",
       "      <td>15</td>\n",
       "      <td>[]</td>\n",
       "    </tr>\n",
       "  </tbody>\n",
       "</table>\n",
       "</div>"
      ],
      "text/plain": [
       "   Year                                           Sentence  Len  \\\n",
       "0  1987  ﻿Let me first welcome the Secretary General ba...   17   \n",
       "1  1987   Hundreds of thousands have already fallen in ...   14   \n",
       "2  1987   All men and women of goodwill pray that the c...   40   \n",
       "3  1987   Mr Secretary General, the United States suppo...   17   \n",
       "4  1987   Like the Secretary General, all of us here to...   15   \n",
       "\n",
       "  President_Names  \n",
       "0              []  \n",
       "1              []  \n",
       "2              []  \n",
       "3              []  \n",
       "4              []  "
      ]
     },
     "execution_count": 24,
     "metadata": {},
     "output_type": "execute_result"
    }
   ],
   "source": [
    "# first 5 rows\n",
    "df2.head()"
   ]
  },
  {
   "cell_type": "code",
   "execution_count": 25,
   "metadata": {
    "colab": {
     "base_uri": "https://localhost:8080/",
     "height": 1000
    },
    "colab_type": "code",
    "executionInfo": {
     "elapsed": 1033,
     "status": "ok",
     "timestamp": 1598966405374,
     "user": {
      "displayName": "Aishwarya Singh",
      "photoUrl": "https://lh3.googleusercontent.com/a-/AOh14GgeJwfn4BdBDCAplWi_kdtB9FRssOpXO7T_aMgg=s64",
      "userId": "01105858832371513140"
     },
     "user_tz": -330
    },
    "id": "2uOxmnVUixlj",
    "outputId": "8b470e0e-46db-4822-c980-3134d5349f2b"
   },
   "outputs": [
    {
     "data": {
      "text/plain": [
       "[['President Sarney'],\n",
       " ['President of Iran'],\n",
       " ['President Abraham'],\n",
       " ['President de'],\n",
       " ['President Kennedy'],\n",
       " ['President Roosevelt'],\n",
       " ['President Al'],\n",
       " ['President Gore'],\n",
       " ['President Menem'],\n",
       " ['President Aristide'],\n",
       " ['President Aristide'],\n",
       " ['President Clinton'],\n",
       " ['President Clinton'],\n",
       " ['President Yeltsin'],\n",
       " ['President Clinton'],\n",
       " ['President Clinton'],\n",
       " ['President Clinton'],\n",
       " ['President Clinton'],\n",
       " ['President Kennedy'],\n",
       " ['President Yeltsin'],\n",
       " ['President Kennedy'],\n",
       " ['President Kennedy'],\n",
       " ['President Mugabe'],\n",
       " ['President Yeltsin'],\n",
       " ['President C1inton'],\n",
       " ['President Clinton'],\n",
       " ['President Bush'],\n",
       " ['President Bush'],\n",
       " ['President Bush'],\n",
       " ['President Ping'],\n",
       " ['President Eliasson'],\n",
       " ['President Bush'],\n",
       " ['President Talabani'],\n",
       " ['President Abbas'],\n",
       " ['President Abbas'],\n",
       " ['President Harry'],\n",
       " ['President Abbas'],\n",
       " ['President Abbas'],\n",
       " ['President in Colombia'],\n",
       " ['President Franklin'],\n",
       " ['President Saleh'],\n",
       " ['President Truman'],\n",
       " ['President in Somalia'],\n",
       " ['President Putin'],\n",
       " ['President Rouhani'],\n",
       " ['President Rouhani'],\n",
       " ['President Rouhani'],\n",
       " ['President Kennedy'],\n",
       " ['President Truman'],\n",
       " ['President Truman'],\n",
       " ['President Moon', 'President Xi'],\n",
       " ['President Moon'],\n",
       " ['President Xi'],\n",
       " ['President Monroe'],\n",
       " ['President Nixon'],\n",
       " ['President Nasser'],\n",
       " ['President Nixon'],\n",
       " ['President Nixon'],\n",
       " ['President Nixon'],\n",
       " ['President Nixon'],\n",
       " ['President Nixon'],\n",
       " ['President Nixon'],\n",
       " ['President Nixon'],\n",
       " ['President Nixon'],\n",
       " ['President Nixon'],\n",
       " ['President Nixon'],\n",
       " ['President Nixon'],\n",
       " ['President Nixon'],\n",
       " ['President of Mexico'],\n",
       " ['President Ford'],\n",
       " ['President Ford'],\n",
       " ['President Ford'],\n",
       " ['President Ford'],\n",
       " ['President Ford'],\n",
       " ['President Ford'],\n",
       " ['President of Lebanon'],\n",
       " ['President Ford'],\n",
       " ['President Carter'],\n",
       " ['President Carter'],\n",
       " ['President Carter'],\n",
       " ['President Carter'],\n",
       " ['President Mondaleat'],\n",
       " ['President Carter', 'President in January'],\n",
       " ['President Carter'],\n",
       " ['President Carter'],\n",
       " ['President Reagan'],\n",
       " ['President Reagan'],\n",
       " ['President Reagan'],\n",
       " ['President Reagan'],\n",
       " ['President Reagan'],\n",
       " ['President Reagan'],\n",
       " ['President Reagan'],\n",
       " ['President Reagan'],\n",
       " ['President Reagan'],\n",
       " ['President Dwight'],\n",
       " ['President of Brazil'],\n",
       " ['President Sarney'],\n",
       " ['President Duarte'],\n",
       " ['president in November'],\n",
       " ['President Reagan'],\n",
       " ['President Duarte'],\n",
       " ['President Reagan'],\n",
       " ['President Reagan'],\n",
       " ['President Reagan'],\n",
       " ['President Reagan'],\n",
       " ['President Reagan'],\n",
       " ['President Reagan']]"
      ]
     },
     "execution_count": 25,
     "metadata": {},
     "output_type": "execute_result"
    }
   ],
   "source": [
    "# extracting only the non-null outputs \n",
    "mention = []\n",
    "for i in range(df2.shape[0]):\n",
    "    if df2['President_Names'][i] != []:\n",
    "        mention.append(df2['President_Names'][i])\n",
    "\n",
    "mention"
   ]
  },
  {
   "cell_type": "code",
   "execution_count": 26,
   "metadata": {
    "colab": {
     "base_uri": "https://localhost:8080/",
     "height": 1000
    },
    "colab_type": "code",
    "executionInfo": {
     "elapsed": 1160,
     "status": "ok",
     "timestamp": 1598966441361,
     "user": {
      "displayName": "Aishwarya Singh",
      "photoUrl": "https://lh3.googleusercontent.com/a-/AOh14GgeJwfn4BdBDCAplWi_kdtB9FRssOpXO7T_aMgg=s64",
      "userId": "01105858832371513140"
     },
     "user_tz": -330
    },
    "id": "czIrxUwv4K5x",
    "outputId": "88bf1ff3-9557-4581-9211-15b3c3a61807"
   },
   "outputs": [
    {
     "data": {
      "text/plain": [
       "[' President Sarney of Brazil spoke for many others when he said that Private initiative is the engine of economic Development',\n",
       " ' In that regard, I know that the President of Iran will be addressing representatives tomorrow',\n",
       " ' There is a painting that hangs on the wall of my office in the White House which pictures President Abraham Lincoln and his generals meeting near the end of a war that remains the bloodiest in the history of my country',\n",
       " ' We see Nelson Mandela stand side by side with President de Klerk proclaiming a date for South Africa’s first non racial elections',\n",
       " ' Thirty two years ago President Kennedy warned this Assembly that humanity lived under a nuclear sword of Damocles that hung by the slenderest of threads',\n",
       " ' But I agree with President Roosevelt, who once said: The democratic aspiration is no mere recent phase of human history',\n",
       " ' Here in the United States, Vice President Al Gore and I have launched an effort literally to reinvent how our Government operates',\n",
       " ' During the course of our campaign in the United States last year, Vice President Gore and I promised the American people major changes in our nation’s policy towards the global environment',\n",
       " ' Let me suggest that it is time for the members of the Assembly to consider seriously President Menem’s suggestion for the creation of a civilian rapid response capability for humanitarian crises',\n",
       " ' President Aristide will return',\n",
       " ' In the spirit of reconciliation and reconstruction, President Aristide yesterday called for the immediate easing of sanctions so that the work of rebuilding can begin immediately',\n",
       " ' As President Clinton said in San Francisco in June, the “new forces of integration carry within them the seeds of disintegration and destruction”',\n",
       " ' As President Clinton announced last month, the United States is committed to a true zero yield test ban',\n",
       " ' As part of this process, President Yeltsin will host a nuclear safety and security summit in Moscow next spring',\n",
       " ' President Clinton has urged the United States Senate to act promptly on its ratification, and to stop holding the START II Treaty and the Chemical Weapons Convention hostage to unrelated issues',\n",
       " ' At last year’s session of the General Assembly, President Clinton proposed, and the Assembly approved, the eventual elimination of anti personnel mines',\n",
       " ' 12   Two years ago, President Clinton called on the international community to devise a true international system governing the transfer of conventional weapons and sensitive dual use technologies',\n",
       " ' Last January President Clinton issued an Executive Order prohibiting financial transactions with terrorist groups and individuals that threaten the Middle East peace process',\n",
       " ' I did so, with some pride, with this pen, for this pen is the very one that President Kennedy used to help bring the limited test ban Treaty to life 33 years ago',\n",
       " ' When Russia ratifies START II, President Yeltsin and I are all ready to discuss the possibilities of further cuts, as well as limiting and monitoring nuclear warheads and materials',\n",
       " ' Thirty three years ago, at the height of the cold war, President Kennedy spoke at American University in Washington',\n",
       " ' President Kennedy’s vision exceeded the possibilities of his time, but his words speak to us still',\n",
       " ' This week the Security Council will hold an unprecedented ministerial meeting on African security, which our Secretary of State is proud to chair, and which President Mugabe, Chairman of the Organization of African Unity, will address',\n",
       " ' President Yeltsin and I agreed in June, even as we await Russian ratification of START II, to begin talks on a START III treaty that will cut our cold  war arsenals by 80 per cent from their height',\n",
       " 'I am honoured to address the Assembly on behalf of the United States and to reinforce the eloquent message President C1inton conveyed during last week Millennium Summit',\n",
       " ' As President Clinton said last week, we need to ensure that United Nations peacekeepers can be deployed with the right training and equipment and the right rules of engagement so they can achieve, not merely attempt, their missions',\n",
       " ' On behalf of President Bush and all of the American people, welcome to New York City',\n",
       " ' And, as President Bush said on Wednesday, the United States is prepared to take new action to accelerate this progress: we will eliminate all tariffs and subsidies that distort free trade as other nations do the same',\n",
       " ' To advance this common purpose, in 9  2004 President Bush proposed the creation of a democracy fund',\n",
       " ' I want to thank former General Assembly President Ping for his tireless hard work',\n",
       " ' Our challenge now, under President Eliasson’s leadership, is to enact the vital reforms that will make the United Nations more accountable to its Members, more suited to new challenges and more faithful to its founding purposes',\n",
       " ' As President Bush said on Wednesday , the United Nations must stand for integrity and live by the high standards it sets for others',\n",
       " ' Now Iraq’s seat is held by a democratic  Government that embodies the aspirations of the Iraqi  people, represented today by President Talabani',\n",
       " ' President Abbas is committed to peace and to his  people’s aspirations for a State of their own',\n",
       " ' Prime  Minister Olmert is committed to peace, and has said he  intends to meet with President Abbas to make real  progress on the outstanding issues between them',\n",
       " '  In the final days of the San Francisco Conference,  the delegates negotiating the United Nations Charter  received a visit from President Harry Truman',\n",
       " ' Yesterday I had a  constructive meeting with Prime Minister Netanyahu  and President Abbas',\n",
       " '  President Abbas said, “We will spare no effort and we  will work diligently and tirelessly to ensure these  negotiations achieve their cause”',\n",
       " ' And even as some  Governments roll back reform, we also celebrate the  courage of a President in Colombia who willingly  stepped aside, or the promise of a new constitution in  Kenya',\n",
       " ' No American did more to pursue that objective  than President Franklin Roosevelt',\n",
       " ' We  must work with Yemen’s neighbours and our partners  around the world to seek a path that allows for a  peaceful transition of power from President Saleh, and  a movement to free and fair elections as soon as  possible',\n",
       " ' When the cornerstone of this very building was  put in place, President Truman came here to New York  and said, “The United Nations is essentially an  expression of the moral nature of man’s aspirations”  the moral nature of man’s aspirations',\n",
       " ' Over the past year, we have seen peaceful transitions of power in Malawi and Senegal and a new President in Somalia',\n",
       " ' However, as I have discussed  with President Putin for over a year, most recently in  St',\n",
       " '  Since I took office, I have made it clear, in letters  to the Supreme Leader in Iran and, more recently, to  President Rouhani, that America prefers to resolve its  concerns over Iran’s nuclear programme peacefully,  although we are determined to prevent Iran from  developing a nuclear weapon',\n",
       " ' We are encouraged by the  fact that President Rouhani received from the Iranian  people a mandate to pursue a more moderate course',\n",
       " '  Given President Rouhani’s stated commitment to reach  an agreement, I am directing John Kerry to pursue this  effort with the Iranian Government, in close cooperation  with the European Union, the United Kingdom, France,  Germany, Russia and China',\n",
       " ' Speaking before the Assembly,  President Kennedy put it well:  “Terror is not a new weapon',\n",
       " ' As President Truman said in his message to Congress at that time, “Our support of European recovery is in full accord with our support of the United Nations”',\n",
       " ' If the Organization is to have any hope of successfully confronting the challenges before us, it will depend, as President Truman said some 70 years ago, on the independent strength of its Members',\n",
       " ' I would also like to extend special thanks to President Moon of South Korea, Prime Minister Abe of Japan and President Xi of China',\n",
       " ' And just yesterday, I stood with President Moon to announce the successful completion of the brand new United States Korea trade deal',\n",
       " ' I have great respect and affection for my friend President Xi, but I have made it clear that our trade imbalance is just not acceptable',\n",
       " ' It has been the formal policy of our country since President Monroe to reject the interference of foreign nations in this hemisphere and in our own affairs',\n",
       " ' As President Nixon said in this Assembly a year ago: ',\n",
       " ' While recent developments in the area, including the tragic death of President Nasser, have cast a shadow over the high hopes of just a few weeks ago that a beginning toward that goal had been made, those hopes have not been extinguished',\n",
       " ' As President Nixon pointed out in this forum a year ago, this issue involves the interests of',\n",
       " \" President Nixon, in a series of policy decisions and especially in his recent announcement on the new focus of United States economic assistance, has made clear our intention: \\tTo reverse the downward trend in United States development assistance; \\tTo increase substantially United States contributions to multilateral development institutions including the World Bank, the International Development Association, the regional development banks and the United Nations Development program so that, as the capabilities of these institutions increase, we may be able to channel through them most of our official development assistance; \\tFurther to encourage the efforts of donor nations to untie their bilateral aid to developing countries from the obligation to import products of the donor country;  To bring United States science and technology more effectively to bear on the problems of development, and for this purpose to create a new United States International Development Institute;  To take new steps to stimulate American private investment in developing countries within the framework of the developing countries' plans\",\n",
       " ' Last May President Nixon, in a farreaching announcement concerning the oceans, proposed that an international regime be established by treaty for the exploitation of seabed resources beyond the depth of 200 meters',\n",
       " ' With that in mind President Nixon, in his address to this Assembly a year ago , pledged the enthusiastic support of the United States for Iran proposal to establish an international volunteer service corps , to work in the cause of development and to be recruited on an individual basis from the people, principally young people, of many countries',\n",
       " ' Two years ago President Nixon pledged to the General Assembly that the United States was determined to limit, and then reverse, the build up of strategic arms',\n",
       " ' Our views on such a final peace settlement remain those expressed in President Nixon foreign policy report earlier this year and in my statement of 9 December 1969, Both sides to the conflict are committed to the fundamental and reciprocal principles to which the Jarring mission is dedicated: living in peace with each other and withdrawal from territories occupied in the 1967 conflict as set forth in Security Council resolution 242 ',\n",
       " ' As President Nixon said to this General Assembly in 1969, our objective is ',\n",
       " ' President Nixon has proposed a cease fire in all of IndoChina under international supervision, an exchange of prisoners of war, and a total withdrawal of United States forces',\n",
       " ' President Nixon has also pledged a major effort to assist both VietNamese States in post war reconstruction',\n",
       " \" As President Nixon said last week, “Every Government which wants to move against narcotics should know that it can count on our country for our wholehearted support and assistance in doing so'\",\n",
       " ' That President Nixon should ask me as my first official act to speak here for the United States reaffirms the importance that my country attaches to the values and the ideals of the United Nations',\n",
       " ' President Nixon has met with the leaders of that great nation; we have agreed to a historic communique  that honestly sets forth both our differences and our common principles; and we have each opened a liaison office in the capital of the other',\n",
       " ' In this spirit, the United States is willing to examine seriously the proposal by the distinguished President of Mexico for a charter of the economic rights and duties of States',\n",
       " ' Last week before this Assembly  President Ford dedicated our country to a cooperative,, open approach to build a more secure and more prosperous world',\n",
       " ' President Ford has asked me to reaffirm today that we are determined to press forward with these efforts',\n",
       " ' Last week President Ford called upon the oil producers to join with consumers in defining a strategy which will meet the world longterm need for both energy and food at reasonable prices; he set forth the principles which should guide such a policy; and he announced to this Assembly America determination to meet our responsibilities to help alleviate another grim reality world hunger',\n",
       " ' President Ford plans to visit the People Republic of China later this year to confirm the vitality of our relationship and to advance the ties between us on the basis of the strict implementation of the Shanghai Communique',\n",
       " ' President Ford has stated that we will not accept stalemate or stagnation in the Middle East',\n",
       " ' I have just been to Africa, at President Ford request, to see what the United States could do to help the peoples of that continent achieve their aspirations to freedom and justice',\n",
       " ' All Members of the United Nations, and all the conflicting parties in Lebanon, have an obligation to support the efforts of the new President of Lebanon to restore peace and to turn energies to rebuilding the nation',\n",
       " ' In the near future President Ford will announce a comprehensive American program for international action on non proliferation that reconciles global aspirations for assured nuclear supply with global requirements for nuclear control',\n",
       " ' In his address before Congress on 18 September  President Carter reviewed the main elements of the Camp David agreements',\n",
       " ' As President Carter stated in his address to Congress, the United States is irrevocably committed to bringing about a satisfactory solution to the problem of the Palestinian refugees',\n",
       " ' President Carter made clear in his address to the joint session of Congress following the Camp David summit meetings, and again yesterday, his determination to spare no effort to assist in finding a solution to the Lebanese tragedy',\n",
       " ' President Carter has committed the United States not to import more than 8',\n",
       " ' The proposal made by Vice President Mondaleat the Geneva Meeting for a refugee resettlement fund reflects our belief that the international community should deal on a global basis with a global and grave refugee crisis',\n",
       " ' President Carter voiced this basic commitment when lie was sworn in as President in January 1977',\n",
       " ' First, it is President Carter intention to move forward as speedily as possible towards ratification of the SALT II Treaty',\n",
       " ' In recognition of the human need implicit in this worldwide wave of refugees, President Carter has made known the intention of the United States to accept an additional 217,000 refugees over the next year',\n",
       " ' In October President Reagan will go to the meeting in Cancun',\n",
       " '  President Reagan approach to foreign policy is  grounded squarely on standards drawn from the  pragmatic American experience',\n",
       " ' On this foundation, President Reagan  ideas and the structure of his foreign policy are  so straight forward that those of us enmeshed in  day to day details may easily lose sight of them',\n",
       " ' To describe conditions as we see them  as I do today and as President Reagan has over  the course of his presidency, is not to seek  confrontation—far from it',\n",
       " ' President Reagan has instituted a bold  pro¬gram to get the American economy moving',\n",
       " ' On 1 September President Reagan  challenged the parties to the Arab Israeli  conflict to make a fresh start on the road to  peace in the Middle East',\n",
       " ' The road will not be easy, but in his  statement President Reagan made a number of  proposals which, for those who are willing to  join the effort, make the journey safer and  easier',\n",
       " ' I call on all concerned to accept  President Reagan challenge and hasten the  realization of true peace in the Middle East, In addition to the imperative need to  resolve regional problems, there is an equally  significant global imperative: to halt, and  reverse, the global arms build¬up',\n",
       " ' With this goal in mind, President Reagan  has initiated a comprehensive program for  negotiated arms reductions',\n",
       " ' In 1956 President Dwight Eisenhower made an observation on weapons and deterrence in a letter to a publisher',\n",
       " 'Let me start by joining the President of Brazil in conveying to the people and Government of Mexico our deep sympathy over the devastation wrought by earthquakes and our solidarity with them as they work to recover and rebuild',\n",
       " ' One area where the future has brightened in the past five years as the aspirations of the people to democracy have been met in country after country is Latin America   as President Sarney just said so eloquently',\n",
       " ' In Central America, El Salvador, under the courageous leadership of President Duarte, has shown that democracy can take root and thrive even in the most difficult terrain',\n",
       " ' Among El Salvador neighbors, Costa Rica has long been the region beacon of representative government; Honduras is about to replace one freely elected government with another; and Guatemala is about to join them as a democratic nation with the election of a president in November',\n",
       " ' These developments should enhance regional co operation for economic development, which the United States supports through our Caribbean Basin initiative and President Reagan initiative for peace, development and democracy',\n",
       " ' In El Salvador, President Duarte, true to his pledge to the Assembly last year, has pursued a dialog with the guerrilla opposition',\n",
       " ' The United States is committed and engaged in support of those efforts, in accordance with President Reagan initiative of three years ago',\n",
       " ' In this spirit, President Reagan last June decided to continue our policy of taking no action that would undercut the limits of previous agreements, to the extent the Soviet Union shows comparable restraint',\n",
       " ' For that reason, President Reagan, in his speech to this body last year, proposed that the United States and the Soviet Union exchange visits of experts at test sites to measure directly the yields of nuclear weapon test',\n",
       " ' President Reagan has directed our scientists and engineers to examine, in the light of new technologies and fully in accord with the Anti Ballistic Missile Treaty   the feasibility of defense against ballistic missile attack',\n",
       " ' President Reagan looks forward to his meeting with General Secretary Gorbachev in November',\n",
       " ' As President Reagan is saying today in a major speech, The freer the flow of world trade, the stronger the tides for human progress and peace among nations']"
      ]
     },
     "execution_count": 26,
     "metadata": {},
     "output_type": "execute_result"
    }
   ],
   "source": [
    "# extracting only those sentences which has president's mention\n",
    "sentences_president = []\n",
    "for i in range(df2.shape[0]):\n",
    "    if df2['President_Names'][i] != []:\n",
    "        sentences_president.append(df2['Sentence'][i])\n",
    "\n",
    "sentences_president"
   ]
  },
  {
   "cell_type": "code",
   "execution_count": 27,
   "metadata": {
    "colab": {
     "base_uri": "https://localhost:8080/",
     "height": 34
    },
    "colab_type": "code",
    "executionInfo": {
     "elapsed": 1401,
     "status": "ok",
     "timestamp": 1598966470035,
     "user": {
      "displayName": "Aishwarya Singh",
      "photoUrl": "https://lh3.googleusercontent.com/a-/AOh14GgeJwfn4BdBDCAplWi_kdtB9FRssOpXO7T_aMgg=s64",
      "userId": "01105858832371513140"
     },
     "user_tz": -330
    },
    "id": "of1vo28QktT_",
    "outputId": "8508e866-a4a9-4f39-8619-fde61533a6f7"
   },
   "outputs": [
    {
     "data": {
      "text/plain": [
       "107"
      ]
     },
     "execution_count": 27,
     "metadata": {},
     "output_type": "execute_result"
    }
   ],
   "source": [
    "# number of sentences containing president's mention\n",
    "len(sentences_president)"
   ]
  },
  {
   "cell_type": "code",
   "execution_count": 28,
   "metadata": {
    "colab": {
     "base_uri": "https://localhost:8080/",
     "height": 53
    },
    "colab_type": "code",
    "executionInfo": {
     "elapsed": 990,
     "status": "ok",
     "timestamp": 1598966492375,
     "user": {
      "displayName": "Aishwarya Singh",
      "photoUrl": "https://lh3.googleusercontent.com/a-/AOh14GgeJwfn4BdBDCAplWi_kdtB9FRssOpXO7T_aMgg=s64",
      "userId": "01105858832371513140"
     },
     "user_tz": -330
    },
    "id": "Y6YUqExakvgp",
    "outputId": "892ed674-3a3d-4fd2-dbaf-829932c1d516"
   },
   "outputs": [
    {
     "data": {
      "text/plain": [
       "' In that regard, I know that the President of Iran will be addressing representatives tomorrow'"
      ]
     },
     "execution_count": 28,
     "metadata": {},
     "output_type": "execute_result"
    }
   ],
   "source": [
    "# sample sentences with president's mention\n",
    "sentences_president[1]"
   ]
  },
  {
   "cell_type": "code",
   "execution_count": 29,
   "metadata": {
    "colab": {
     "base_uri": "https://localhost:8080/",
     "height": 53
    },
    "colab_type": "code",
    "executionInfo": {
     "elapsed": 1102,
     "status": "ok",
     "timestamp": 1598966498374,
     "user": {
      "displayName": "Aishwarya Singh",
      "photoUrl": "https://lh3.googleusercontent.com/a-/AOh14GgeJwfn4BdBDCAplWi_kdtB9FRssOpXO7T_aMgg=s64",
      "userId": "01105858832371513140"
     },
     "user_tz": -330
    },
    "id": "6PjNqa5nkzCK",
    "outputId": "d3d9ed7f-51b1-491e-9ab0-e5af36eb96ff"
   },
   "outputs": [
    {
     "data": {
      "text/plain": [
       "' In the spirit of reconciliation and reconstruction, President Aristide yesterday called for the immediate easing of sanctions so that the work of rebuilding can begin immediately'"
      ]
     },
     "execution_count": 29,
     "metadata": {},
     "output_type": "execute_result"
    }
   ],
   "source": [
    "# sample sentences with president's mention\n",
    "sentences_president[10]"
   ]
  },
  {
   "cell_type": "code",
   "execution_count": null,
   "metadata": {
    "colab": {},
    "colab_type": "code",
    "id": "NUuqRXuO1TZa"
   },
   "outputs": [],
   "source": []
  },
  {
   "cell_type": "markdown",
   "metadata": {
    "colab_type": "text",
    "id": "d8_LhIEb0V0A"
   },
   "source": [
    "Sample sentences from dataset:\n",
    "1. The United States will continue its strong efforts to advance **the United Nations plan** for Namibia\n",
    "2. The United States and Italy have proposed **a Global Peace Operations Initiative**\n",
    "3. For 35 years, **the North Atlantic alliance** has guaranteed the peace in Europe"
   ]
  },
  {
   "cell_type": "markdown",
   "metadata": {
    "colab_type": "text",
    "id": "Jg0-PC3ip-qw"
   },
   "source": [
    "## 4. Rule 2 - Extracting the mentions of initiatives\n",
    "Understand the different plans the UN mentioned."
   ]
  },
  {
   "cell_type": "code",
   "execution_count": 30,
   "metadata": {
    "colab": {
     "base_uri": "https://localhost:8080/",
     "height": 176
    },
    "colab_type": "code",
    "executionInfo": {
     "elapsed": 1480,
     "status": "ok",
     "timestamp": 1598966705776,
     "user": {
      "displayName": "Aishwarya Singh",
      "photoUrl": "https://lh3.googleusercontent.com/a-/AOh14GgeJwfn4BdBDCAplWi_kdtB9FRssOpXO7T_aMgg=s64",
      "userId": "01105858832371513140"
     },
     "user_tz": -330
    },
    "id": "PO-euBjhqeLY",
    "outputId": "43f197c1-c191-4e31-ca23-98e9e8f5ebdc"
   },
   "outputs": [
    {
     "name": "stderr",
     "output_type": "stream",
     "text": [
      "<ipython-input-30-1f6d10d8dcbb>:17: DeprecationWarning: Flags not at the start of the expression '\\\\b(?i)plan\\\\b'\n",
      "  if re.search(pat, text) != None:\n",
      "<ipython-input-30-1f6d10d8dcbb>:17: DeprecationWarning: Flags not at the start of the expression '\\\\b(?i)programme\\\\b'\n",
      "  if re.search(pat, text) != None:\n",
      "<ipython-input-30-1f6d10d8dcbb>:17: DeprecationWarning: Flags not at the start of the expression '\\\\b(?i)scheme\\\\b'\n",
      "  if re.search(pat, text) != None:\n",
      "<ipython-input-30-1f6d10d8dcbb>:17: DeprecationWarning: Flags not at the start of the expression '\\\\b(?i)campaign\\\\b'\n",
      "  if re.search(pat, text) != None:\n",
      "<ipython-input-30-1f6d10d8dcbb>:17: DeprecationWarning: Flags not at the start of the expression '\\\\b(?i)initiative\\\\b'\n",
      "  if re.search(pat, text) != None:\n",
      "<ipython-input-30-1f6d10d8dcbb>:17: DeprecationWarning: Flags not at the start of the expression '\\\\b(?i)conference\\\\b'\n",
      "  if re.search(pat, text) != None:\n",
      "<ipython-input-30-1f6d10d8dcbb>:17: DeprecationWarning: Flags not at the start of the expression '\\\\b(?i)agreement\\\\b'\n",
      "  if re.search(pat, text) != None:\n",
      "<ipython-input-30-1f6d10d8dcbb>:17: DeprecationWarning: Flags not at the start of the expression '\\\\b(?i)alliance\\\\b'\n",
      "  if re.search(pat, text) != None:\n"
     ]
    }
   ],
   "source": [
    "# to check if keyswords like 'programs','schemes', etc. are present in sentences\n",
    "\n",
    "def prog_sent(text):\n",
    "    \n",
    "    patterns = [r'\\b(?i)'+'plan'+r'\\b',\n",
    "               r'\\b(?i)'+'programme'+r'\\b',\n",
    "               r'\\b(?i)'+'scheme'+r'\\b',\n",
    "               r'\\b(?i)'+'campaign'+r'\\b',\n",
    "               r'\\b(?i)'+'initiative'+r'\\b',\n",
    "               r'\\b(?i)'+'conference'+r'\\b',\n",
    "               r'\\b(?i)'+'agreement'+r'\\b',\n",
    "               r'\\b(?i)'+'alliance'+r'\\b']\n",
    "\n",
    "    output = []\n",
    "    flag = 0\n",
    "    for pat in patterns:\n",
    "        if re.search(pat, text) != None:\n",
    "            flag = 1\n",
    "            break\n",
    "    return flag \n",
    "\n",
    "# apply function\n",
    "df2['Check_Schemes'] = df2['Sentence'].apply(prog_sent)"
   ]
  },
  {
   "cell_type": "code",
   "execution_count": 31,
   "metadata": {
    "colab": {
     "base_uri": "https://localhost:8080/",
     "height": 206
    },
    "colab_type": "code",
    "executionInfo": {
     "elapsed": 1075,
     "status": "ok",
     "timestamp": 1598966718073,
     "user": {
      "displayName": "Aishwarya Singh",
      "photoUrl": "https://lh3.googleusercontent.com/a-/AOh14GgeJwfn4BdBDCAplWi_kdtB9FRssOpXO7T_aMgg=s64",
      "userId": "01105858832371513140"
     },
     "user_tz": -330
    },
    "id": "v_wYCbxMqhu3",
    "outputId": "da771bd8-0e38-4a32-deff-b379cc53441f"
   },
   "outputs": [
    {
     "data": {
      "text/html": [
       "<div>\n",
       "<style scoped>\n",
       "    .dataframe tbody tr th:only-of-type {\n",
       "        vertical-align: middle;\n",
       "    }\n",
       "\n",
       "    .dataframe tbody tr th {\n",
       "        vertical-align: top;\n",
       "    }\n",
       "\n",
       "    .dataframe thead th {\n",
       "        text-align: right;\n",
       "    }\n",
       "</style>\n",
       "<table border=\"1\" class=\"dataframe\">\n",
       "  <thead>\n",
       "    <tr style=\"text-align: right;\">\n",
       "      <th></th>\n",
       "      <th>Year</th>\n",
       "      <th>Sentence</th>\n",
       "      <th>Len</th>\n",
       "      <th>President_Names</th>\n",
       "      <th>Check_Schemes</th>\n",
       "    </tr>\n",
       "  </thead>\n",
       "  <tbody>\n",
       "    <tr>\n",
       "      <th>0</th>\n",
       "      <td>1987</td>\n",
       "      <td>﻿Let me first welcome the Secretary General ba...</td>\n",
       "      <td>17</td>\n",
       "      <td>[]</td>\n",
       "      <td>0</td>\n",
       "    </tr>\n",
       "    <tr>\n",
       "      <th>1</th>\n",
       "      <td>1987</td>\n",
       "      <td>Hundreds of thousands have already fallen in ...</td>\n",
       "      <td>14</td>\n",
       "      <td>[]</td>\n",
       "      <td>0</td>\n",
       "    </tr>\n",
       "    <tr>\n",
       "      <th>2</th>\n",
       "      <td>1987</td>\n",
       "      <td>All men and women of goodwill pray that the c...</td>\n",
       "      <td>40</td>\n",
       "      <td>[]</td>\n",
       "      <td>0</td>\n",
       "    </tr>\n",
       "    <tr>\n",
       "      <th>3</th>\n",
       "      <td>1987</td>\n",
       "      <td>Mr Secretary General, the United States suppo...</td>\n",
       "      <td>17</td>\n",
       "      <td>[]</td>\n",
       "      <td>0</td>\n",
       "    </tr>\n",
       "    <tr>\n",
       "      <th>4</th>\n",
       "      <td>1987</td>\n",
       "      <td>Like the Secretary General, all of us here to...</td>\n",
       "      <td>15</td>\n",
       "      <td>[]</td>\n",
       "      <td>0</td>\n",
       "    </tr>\n",
       "  </tbody>\n",
       "</table>\n",
       "</div>"
      ],
      "text/plain": [
       "   Year                                           Sentence  Len  \\\n",
       "0  1987  ﻿Let me first welcome the Secretary General ba...   17   \n",
       "1  1987   Hundreds of thousands have already fallen in ...   14   \n",
       "2  1987   All men and women of goodwill pray that the c...   40   \n",
       "3  1987   Mr Secretary General, the United States suppo...   17   \n",
       "4  1987   Like the Secretary General, all of us here to...   15   \n",
       "\n",
       "  President_Names  Check_Schemes  \n",
       "0              []              0  \n",
       "1              []              0  \n",
       "2              []              0  \n",
       "3              []              0  \n",
       "4              []              0  "
      ]
     },
     "execution_count": 31,
     "metadata": {},
     "output_type": "execute_result"
    }
   ],
   "source": [
    "# first 5 rows\n",
    "df2.head()"
   ]
  },
  {
   "cell_type": "markdown",
   "metadata": {},
   "source": [
    "The plans appear to be described with in 5 words .  SO create a rule around this."
   ]
  },
  {
   "cell_type": "code",
   "execution_count": 32,
   "metadata": {
    "colab": {},
    "colab_type": "code",
    "executionInfo": {
     "elapsed": 65473,
     "status": "ok",
     "timestamp": 1598966889440,
     "user": {
      "displayName": "Aishwarya Singh",
      "photoUrl": "https://lh3.googleusercontent.com/a-/AOh14GgeJwfn4BdBDCAplWi_kdtB9FRssOpXO7T_aMgg=s64",
      "userId": "01105858832371513140"
     },
     "user_tz": -330
    },
    "id": "CJ4HnVjmk089"
   },
   "outputs": [],
   "source": [
    "# to extract initiatives using pattern matching\n",
    "def all_schemes(text,check):\n",
    "    \n",
    "    schemes = []\n",
    "    \n",
    "    doc = nlp(text)\n",
    "    \n",
    "    # initiatives\n",
    "    prog_list = ['programme','scheme',\n",
    "                 'initiative','campaign',\n",
    "                 'agreement','conference',\n",
    "                 'alliance','plan']\n",
    "    \n",
    "    # pattern to match initiatives names \n",
    "    pattern = [{'POS':'DET'},\n",
    "               {'POS':'PROPN','DEP':'compound'},\n",
    "               {'POS':'PROPN','DEP':'compound'},\n",
    "               {'POS':'PROPN','OP':'?'},\n",
    "               {'POS':'PROPN','OP':'?'},\n",
    "               {'POS':'PROPN','OP':'?'},\n",
    "               {'LOWER':{'IN':prog_list},'OP':'+'}\n",
    "              ]\n",
    "    \n",
    "    if check == 0:\n",
    "        # return blank list\n",
    "        return schemes\n",
    "\n",
    "    # Matcher class object \n",
    "    matcher = Matcher(nlp.vocab) \n",
    "    matcher.add(\"matching\", None, pattern) \n",
    "    matches = matcher(doc)\n",
    "\n",
    "    for i in range(0,len(matches)):\n",
    "        \n",
    "        # match: id, start, end\n",
    "        start, end = matches[i][1], matches[i][2]\n",
    "        \n",
    "        if doc[start].pos_=='DET':\n",
    "            start = start+1\n",
    "        \n",
    "        # matched string\n",
    "        span = str(doc[start:end])\n",
    "        \n",
    "        if (len(schemes)!=0) and (schemes[-1] in span):\n",
    "            schemes[-1] = span\n",
    "        else:\n",
    "            schemes.append(span)\n",
    "        \n",
    "    return schemes\n",
    "\n",
    "# apply function\n",
    "df2['Schemes1'] = df2.apply(lambda x:all_schemes(x.Sentence,x.Check_Schemes),axis=1)"
   ]
  },
  {
   "cell_type": "code",
   "execution_count": 33,
   "metadata": {
    "colab": {
     "base_uri": "https://localhost:8080/",
     "height": 206
    },
    "colab_type": "code",
    "executionInfo": {
     "elapsed": 62026,
     "status": "ok",
     "timestamp": 1598966889447,
     "user": {
      "displayName": "Aishwarya Singh",
      "photoUrl": "https://lh3.googleusercontent.com/a-/AOh14GgeJwfn4BdBDCAplWi_kdtB9FRssOpXO7T_aMgg=s64",
      "userId": "01105858832371513140"
     },
     "user_tz": -330
    },
    "id": "MUH_BEp7qN4d",
    "outputId": "b13fa110-0406-4366-9efb-69d0fdbca420"
   },
   "outputs": [
    {
     "data": {
      "text/html": [
       "<div>\n",
       "<style scoped>\n",
       "    .dataframe tbody tr th:only-of-type {\n",
       "        vertical-align: middle;\n",
       "    }\n",
       "\n",
       "    .dataframe tbody tr th {\n",
       "        vertical-align: top;\n",
       "    }\n",
       "\n",
       "    .dataframe thead th {\n",
       "        text-align: right;\n",
       "    }\n",
       "</style>\n",
       "<table border=\"1\" class=\"dataframe\">\n",
       "  <thead>\n",
       "    <tr style=\"text-align: right;\">\n",
       "      <th></th>\n",
       "      <th>Year</th>\n",
       "      <th>Sentence</th>\n",
       "      <th>Len</th>\n",
       "      <th>President_Names</th>\n",
       "      <th>Check_Schemes</th>\n",
       "      <th>Schemes1</th>\n",
       "    </tr>\n",
       "  </thead>\n",
       "  <tbody>\n",
       "    <tr>\n",
       "      <th>0</th>\n",
       "      <td>1987</td>\n",
       "      <td>﻿Let me first welcome the Secretary General ba...</td>\n",
       "      <td>17</td>\n",
       "      <td>[]</td>\n",
       "      <td>0</td>\n",
       "      <td>[]</td>\n",
       "    </tr>\n",
       "    <tr>\n",
       "      <th>1</th>\n",
       "      <td>1987</td>\n",
       "      <td>Hundreds of thousands have already fallen in ...</td>\n",
       "      <td>14</td>\n",
       "      <td>[]</td>\n",
       "      <td>0</td>\n",
       "      <td>[]</td>\n",
       "    </tr>\n",
       "    <tr>\n",
       "      <th>2</th>\n",
       "      <td>1987</td>\n",
       "      <td>All men and women of goodwill pray that the c...</td>\n",
       "      <td>40</td>\n",
       "      <td>[]</td>\n",
       "      <td>0</td>\n",
       "      <td>[]</td>\n",
       "    </tr>\n",
       "    <tr>\n",
       "      <th>3</th>\n",
       "      <td>1987</td>\n",
       "      <td>Mr Secretary General, the United States suppo...</td>\n",
       "      <td>17</td>\n",
       "      <td>[]</td>\n",
       "      <td>0</td>\n",
       "      <td>[]</td>\n",
       "    </tr>\n",
       "    <tr>\n",
       "      <th>4</th>\n",
       "      <td>1987</td>\n",
       "      <td>Like the Secretary General, all of us here to...</td>\n",
       "      <td>15</td>\n",
       "      <td>[]</td>\n",
       "      <td>0</td>\n",
       "      <td>[]</td>\n",
       "    </tr>\n",
       "  </tbody>\n",
       "</table>\n",
       "</div>"
      ],
      "text/plain": [
       "   Year                                           Sentence  Len  \\\n",
       "0  1987  ﻿Let me first welcome the Secretary General ba...   17   \n",
       "1  1987   Hundreds of thousands have already fallen in ...   14   \n",
       "2  1987   All men and women of goodwill pray that the c...   40   \n",
       "3  1987   Mr Secretary General, the United States suppo...   17   \n",
       "4  1987   Like the Secretary General, all of us here to...   15   \n",
       "\n",
       "  President_Names  Check_Schemes Schemes1  \n",
       "0              []              0       []  \n",
       "1              []              0       []  \n",
       "2              []              0       []  \n",
       "3              []              0       []  \n",
       "4              []              0       []  "
      ]
     },
     "execution_count": 33,
     "metadata": {},
     "output_type": "execute_result"
    }
   ],
   "source": [
    "# first 5 rows\n",
    "df2.head()"
   ]
  },
  {
   "cell_type": "code",
   "execution_count": 35,
   "metadata": {
    "colab": {
     "base_uri": "https://localhost:8080/",
     "height": 712
    },
    "colab_type": "code",
    "executionInfo": {
     "elapsed": 1323,
     "status": "ok",
     "timestamp": 1598966909733,
     "user": {
      "displayName": "Aishwarya Singh",
      "photoUrl": "https://lh3.googleusercontent.com/a-/AOh14GgeJwfn4BdBDCAplWi_kdtB9FRssOpXO7T_aMgg=s64",
      "userId": "01105858832371513140"
     },
     "user_tz": -330
    },
    "id": "qx0Vi88Fz-5O",
    "outputId": "8f3ee827-cc92-413b-d0f5-53de60acf715"
   },
   "outputs": [
    {
     "data": {
      "text/plain": [
       "[['San Francisco Conference'],\n",
       " ['North American Free Trade Agreement'],\n",
       " ['North American Free Trade Agreement'],\n",
       " ['United Nations Conference'],\n",
       " ['United Nations International Drug Control Programme'],\n",
       " ['Good Friday Agreement'],\n",
       " ['United Nations Development Programme', 'World Food Programme'],\n",
       " ['African Crisis Response Initiative'],\n",
       " ['World Food Programme'],\n",
       " ['Proliferation Security Initiative'],\n",
       " ['Proliferation Security Initiative'],\n",
       " ['Global Peace Operations Initiative'],\n",
       " ['San Francisco Conference'],\n",
       " ['Comprehensive Peace Agreement'],\n",
       " ['Arab Peace Initiative'],\n",
       " ['San Francisco Conference'],\n",
       " ['Women Entrepreneurs Finance Initiative'],\n",
       " ['United States initiative'],\n",
       " ['United Nations Conference'],\n",
       " ['Suez Canal agreement'],\n",
       " ['World Food Conference'],\n",
       " ['World Population Conference', 'World Food Conference'],\n",
       " ['Third United Nations Conference'],\n",
       " ['Geneva Peace Conference'],\n",
       " ['Geneva Peace Conference'],\n",
       " ['Bonn Economic Summit Conference'],\n",
       " ['Bonn Economic Summit Conference'],\n",
       " ['World Food Conference'],\n",
       " ['World Food Conference'],\n",
       " ['United Nations Conference'],\n",
       " ['Second Review Conference'],\n",
       " ['United Nations Conference'],\n",
       " ['World Bank programme'],\n",
       " ['United Nations plan'],\n",
       " ['United Nations plan'],\n",
       " ['Caribbean Basin Initiative'],\n",
       " ['North Atlantic alliance'],\n",
       " ['San Francisco Conference'],\n",
       " ['Caribbean Basin initiative'],\n",
       " ['Third Review Conference']]"
      ]
     },
     "execution_count": 35,
     "metadata": {},
     "output_type": "execute_result"
    }
   ],
   "source": [
    "# extracting only the non-null outputs \n",
    "mention = []\n",
    "for i in range(df2.shape[0]):\n",
    "    if df2['Schemes1'][i] != []:\n",
    "        mention.append(df2['Schemes1'][i])\n",
    "\n",
    "mention"
   ]
  },
  {
   "cell_type": "code",
   "execution_count": 36,
   "metadata": {
    "colab": {
     "base_uri": "https://localhost:8080/",
     "height": 732
    },
    "colab_type": "code",
    "executionInfo": {
     "elapsed": 1071,
     "status": "ok",
     "timestamp": 1598966951938,
     "user": {
      "displayName": "Aishwarya Singh",
      "photoUrl": "https://lh3.googleusercontent.com/a-/AOh14GgeJwfn4BdBDCAplWi_kdtB9FRssOpXO7T_aMgg=s64",
      "userId": "01105858832371513140"
     },
     "user_tz": -330
    },
    "id": "lHGHFblFrA28",
    "outputId": "7bee167d-c871-4b00-bf29-108a9805fb47"
   },
   "outputs": [
    {
     "data": {
      "text/plain": [
       "[' Like most of the people in the world today, I was not even alive during the convulsive world war that convinced humankind of the need for this Organization, nor during the San Francisco Conference that led to its birth',\n",
       " ' We will work to strengthen the free market democracies by revitalizing our economy at home, by opening world trade through GATT, the North American Free Trade Agreement and other accords, and by updating our shared institutions, asking with you and answering the hard questions about whether they are adequate to the present challenges',\n",
       " ' Though still in its infancy, the North American Free Trade Agreement has dramatically increased trade between the United States and Mexico and has produced in the United States alone an estimated 200,000 new jobs',\n",
       " ' We should ensure that the functions of the United Nations Conference on Trade and Development do not duplicate those of the new World Trade Organization , and we should adopt a moratorium on big United Nations conferences once the present series is completed, concentrating instead on meeting the commitments of those conferences that we have already held',\n",
       " ' We are providing similar help bilaterally, and through the United Nations International Drug Control Programme, to those countries whose laws are challenged by international drug cartels',\n",
       " ' The glimpse of growing prosperity in Northern Ireland was a crucial factor in the Good Friday Agreement',\n",
       " ' We will continue our strong support for the United Nations Development Programme, the Office of the United Nations High Commissioner for Human Rights and the Office of United Nations High Commissioner for Refugees, the United Nations Children’s Fund, the World Bank and the World Food Programme',\n",
       " ' It is why we are working with friends in Africa to build the African Crisis Response Initiative, which has trained more than 4,000 peacekeepers from six countries',\n",
       " ' Iraq food distribution system is operational, delivering nearly a half million tons of food per month, thanks to the skill and expertise of the World Food Programme',\n",
       " ' Through our Proliferation Security Initiative, eleven nations are preparing to search planes, ships, trains and trucks carrying suspect cargo and to seize weapons or missile shipments that raise proliferation concerns',\n",
       " ' These nations have agreed on a set of interdiction principles consistent with current legal authorities, and we are working to expand the Proliferation Security Initiative to other countries',\n",
       " ' The United States and Italy have proposed a Global Peace Operations Initiative',\n",
       " '  In the final days of the San Francisco Conference,  the delegates negotiating the United Nations Charter  received a visit from President Harry Truman',\n",
       " '  We will pursue a lasting peace in Sudan, through  support for the people of Darfur and the implementation  of the Comprehensive Peace Agreement, so that we  secure the peace that the Sudanese people deserve',\n",
       " ' Those who have  signed on to the Arab Peace Initiative should seize this  opportunity to make it real by taking tangible steps  towards the normalization that it promises Israel',\n",
       " ' One delegate to the San Francisco Conference,  which led to the creation of the United Nations, put it  well: “Many people have talked as if all we had to do  to get peace was to say loudly and frequently that  we loved peace and hated war',\n",
       " ' We have invested in better health and opportunity all over the world through programmes like the President’s Emergency Plan for AIDS Relief, the President’s Malaria Initiative, the Global Health Security Agenda, the Global Fund to End Modern Slavery, and the Women Entrepreneurs Finance Initiative, which is part of our commitment to empowering women all across the globe',\n",
       " ' Security Council resolution 242  stands as a beacon pointing the way to peace, and the parties concerned, in accepting the United States initiative of June, have committed themselves to carry out that resolution in all its parts',\n",
       " ' Already the plans for the United Nations Conference on the Human Environment in 1972 have begun to take shape and have helped to focus the attention of United Nations Member Governments on this worldwide challenge; but we should not wait for the Stockholm Conference before launching necessary initiatives',\n",
       " ' A fair approach should be founded on two basic principles:  That a Suez Canal agreement is merely a step towards complete and full implementation of resolution 242  within a reasonable period of time, and not an end in itself that has to be clearly established in any agreement; also  That neither side can realistically expect \\\\to achieve, as part of an interim agreement, complete agreement on the terms and conditions of an over all settlement  if it could, there would be no necessity for an interim agreement',\n",
       " ' The United States is prepared to join with all nations at the World Food Conference in Rome to launch the truly massive effort which is required',\n",
       " ' The United States considers the World Population Conference, held last month, the World Food Conference to be held a month from now and the continuing Third United Nations Conference on the Law of the Sea of fundamental importance to our common future',\n",
       " ' Last month at Montreal I set forth our approach to this negotiation and urged that next year session of the Third United Nations Conference on the Law of the Sea move matters to a rapid and successful conclusion',\n",
       " ' The Geneva Peace Conference on the Middle East met in 1973 under its aegis, and the implementation of subsequent agreements has been negotiated in its working groups',\n",
       " ' We are staying in close contact with the Soviet Union, with which we share responsibility for reconvening the Geneva Peace Conference on the Middle East',\n",
       " ' The Bonn Economic Summit Conference this year made clear that we must intensify our efforts in this area',\n",
       " ' Substantive discussions in the Committee had an important impact on the Ministerial Meeting of the Organization for Economic Co operation and Development, held on 14 and 15 June, and on the Bonn Economic Summit Conference',\n",
       " ' Four years have now passed since the World Food Conference, where we agreed on measures we must take for the future',\n",
       " ' We intend to maintain our food aid level at a fair share of the target set at the World Food Conference',\n",
       " ' We hope that the United Nations Conference on Science and Technology for Development, to be held next year in Vienna, will focus attention on how all countries can contribute their knowledge to global development',\n",
       " ' The Second Review Conference of the Parties to the Treaty on the Non  Proliferation of Nuclear Weapons, to be held next year, will be a critical time for taking stock—and for redoubling our efforts to make progress on this urgent international priority',\n",
       " ' This Institute will work for the goals set by the United Nations Conference on Science and Technology for Development',\n",
       " ' We are supporting the expansion of the World Bank programme for the exploration and development of mineral fuels',\n",
       " ' The United States will continue its strong efforts to advance the United Nations plan for Namibia',\n",
       " ' I am convinced that the United Nations plan would be implemented fairly',\n",
       " '  The Caribbean Basin Initiative establishes the  crucial bond between economic development and  economic freedom',\n",
       " ' For 35 years, the North Atlantic alliance has guaranteed the peace in Europe',\n",
       " ' At the time of the San Francisco Conference in 1945, most of the nations represented in this hall today were not independent States but possessions   colonies of European empires',\n",
       " ' These developments should enhance regional co operation for economic development, which the United States supports through our Caribbean Basin initiative and President Reagan initiative for peace, development and democracy',\n",
       " ' The United States remains committed to all the goals of the Treaty, whose Third Review Conference just concluded successfully in Geneva']"
      ]
     },
     "execution_count": 36,
     "metadata": {},
     "output_type": "execute_result"
    }
   ],
   "source": [
    "# extracting sentences which mentions some initiatives\n",
    "initiatives = []\n",
    "for i in range(df2.shape[0]):\n",
    "    if df2['Schemes1'][i] != []:\n",
    "        initiatives.append(df2['Sentence'][i])\n",
    "\n",
    "initiatives"
   ]
  },
  {
   "cell_type": "code",
   "execution_count": 37,
   "metadata": {
    "colab": {
     "base_uri": "https://localhost:8080/",
     "height": 34
    },
    "colab_type": "code",
    "executionInfo": {
     "elapsed": 1027,
     "status": "ok",
     "timestamp": 1598966960691,
     "user": {
      "displayName": "Aishwarya Singh",
      "photoUrl": "https://lh3.googleusercontent.com/a-/AOh14GgeJwfn4BdBDCAplWi_kdtB9FRssOpXO7T_aMgg=s64",
      "userId": "01105858832371513140"
     },
     "user_tz": -330
    },
    "id": "H9L_8hV-rWnX",
    "outputId": "26854275-3537-48c3-8515-642c46468e9f"
   },
   "outputs": [
    {
     "data": {
      "text/plain": [
       "40"
      ]
     },
     "execution_count": 37,
     "metadata": {},
     "output_type": "execute_result"
    }
   ],
   "source": [
    "# number of sentences which mentions some initiatives\n",
    "len(initiatives)"
   ]
  },
  {
   "cell_type": "code",
   "execution_count": 38,
   "metadata": {
    "colab": {
     "base_uri": "https://localhost:8080/",
     "height": 53
    },
    "colab_type": "code",
    "executionInfo": {
     "elapsed": 1107,
     "status": "ok",
     "timestamp": 1598966971291,
     "user": {
      "displayName": "Aishwarya Singh",
      "photoUrl": "https://lh3.googleusercontent.com/a-/AOh14GgeJwfn4BdBDCAplWi_kdtB9FRssOpXO7T_aMgg=s64",
      "userId": "01105858832371513140"
     },
     "user_tz": -330
    },
    "id": "3VA6IonNrZ2T",
    "outputId": "03ff8718-9dd6-46e4-9bd9-8d805f69c6ed"
   },
   "outputs": [
    {
     "data": {
      "text/plain": [
       "' Like most of the people in the world today, I was not even alive during the convulsive world war that convinced humankind of the need for this Organization, nor during the San Francisco Conference that led to its birth'"
      ]
     },
     "execution_count": 38,
     "metadata": {},
     "output_type": "execute_result"
    }
   ],
   "source": [
    "# sample sentences containing initiatives\n",
    "initiatives[0]"
   ]
  },
  {
   "cell_type": "code",
   "execution_count": 39,
   "metadata": {
    "colab": {
     "base_uri": "https://localhost:8080/",
     "height": 35
    },
    "colab_type": "code",
    "executionInfo": {
     "elapsed": 926,
     "status": "ok",
     "timestamp": 1598967003324,
     "user": {
      "displayName": "Aishwarya Singh",
      "photoUrl": "https://lh3.googleusercontent.com/a-/AOh14GgeJwfn4BdBDCAplWi_kdtB9FRssOpXO7T_aMgg=s64",
      "userId": "01105858832371513140"
     },
     "user_tz": -330
    },
    "id": "1twVbiosrcd-",
    "outputId": "787961eb-6a58-4129-b96f-51007dbc26d4"
   },
   "outputs": [
    {
     "data": {
      "text/plain": [
       "' We should ensure that the functions of the United Nations Conference on Trade and Development do not duplicate those of the new World Trade Organization , and we should adopt a moratorium on big United Nations conferences once the present series is completed, concentrating instead on meeting the commitments of those conferences that we have already held'"
      ]
     },
     "execution_count": 39,
     "metadata": {},
     "output_type": "execute_result"
    }
   ],
   "source": [
    "# sample sentences containing initiatives\n",
    "initiatives[3]"
   ]
  },
  {
   "cell_type": "markdown",
   "metadata": {
    "colab_type": "text",
    "id": "nxaOHENf0P_a"
   },
   "source": [
    "## 5. Rule 3 - Relation Extraction part 1"
   ]
  },
  {
   "cell_type": "markdown",
   "metadata": {
    "colab_type": "text",
    "id": "XHjYfY-SJc_m"
   },
   "source": [
    "Sample sentences from dataset:\n",
    "1.   The United **States** will **support** these **principles**\n",
    "2.    Yet these very small **entities need** more than most the **assistance** that the United Nations system can provide\n",
    "3.  I have proposed to Congress that the United **States provide** additional **funding** for our work in Iraq, the greatest financial commitment of its kind since the Marshall Plan\n",
    "\n",
    "![image.png](data:image/png;base64,iVBORw0KGgoAAAANSUhEUgAABHkAAAErCAYAAABKEl+DAAAgAElEQVR4nO3de5BT9f3/8bctVS4yDoOCgCiDBb9IUYQo6g6/qbDSutUvUqVILUxtlG+5iRcuyixCVSzIxBapVcAKhSKlijJoBBGhXLrFgmixKGZAuYjMIEURCl7Gvn9/7OZskk2yuZxzPjmfPB8zzGg2JG/gk1fOeeWcE1EAAAAAAAAEnpgeAAAAAAAAAMWj5AEAAAAAALAAJQ8AAAAAAIAFKHkAAAAAAAAsQMkDAAAAAABgAUoeAAAAAAAAC1DyAAAAAAAAWICSBwAAAAAAwAKUPAAAAAAAABag5AEAAAAAALAAJQ8AAAAAAIAFKHkAAAAAAAAsQMkDAAAAAABgAUoeAAAAAAAAC1DyAAAAAAAAWICSBwAAAAAAwAKUPAAAAAAAABag5AEAAAAAALAAJQ8AAAAAAIAFKHkAAAAAAAAsQMkDAAAAAABgAUoeAAAAAAAAC1DyAAAAAAAAWICSBwAAAAAAwAKUPAAAAAAAABag5AEAAAAAALAAJQ8AAAAAAIAFKHkAAAAAAAAsQMkDAAAAAABgAUoeAAAAAAAAC1DyAAAAAAAAWICSBwAAAAAAwAKUPAAAAAAAABag5AEAAAAAALAAJQ8AAAAAAIAFKHkAAAAAAAAsQMkDAAAAAABgAUoeAAAAAAAAC1DyAAAAAAAAWICSBwAAAAAAwAKUPEAJOnnypB49elQPHjyoe/bs0X/961+6bds23bRpk27atEm3bdum//rXv3TPnj168OBBPXr0qJ48edL02AAQWOQuAPiL3AW8QckDeODkyZO6e/du3bRpky5btkx/+9vf6qRJk3TYsGFaWVmpFRUV2rt3b7344ou1c+fO2q5dO23VqpU2bdpURaSoX02bNtVWrVppu3bttHPnznrxxRdr7969taKiQisrK3XYsGE6adIk/e1vf6vLli3TTZs26e7du3nTBBBo5C4A+IvcBUoTJQ+Qp0OHDummTZv0L3/5i/NmNnz4cK2srNTu3btrq1atin7jatasmbZq1Urbt2+vnTt31u7duztvXPE3zO7du2vnzp21ffv22qpVK23WrFnRz9uqVSvt3r27VlZW6vDhw503x7/85S+6adMmPXTokOm/fgBliNwFAH+Ru0BwUfIAGRw5ckQ3bNigv//973X06NF6zTXXaJs2bXJ68zjjjDO0U6dOevXVV+tNN92kY8eO1UceeUQXLlyor776qm7evFm3bdumO3fu1D179ujHH3+sR48e1VOnThU996lTp/To0aP68ccf6549e3Tnzp26bds23bx5s7766qu6cOFCfeSRR3Ts2LF600036dVXX62dOnXSM844I6c/W5s2bfSaa67R0aNH6+9//3vdsGGDHjlyxIW/cQDljtwldwH4i9wld2EfSh6UvWPHjmlNTY3Onz9f77rrLh0wYIB26NAha/t/1VVX6Y9//GMdM2aMTp8+XRcsWKCrV6/Wf/7zn/rJJ5+Y/iMV7JNPPtF//vOfunr1al2wYIFOnz5dx4wZoz/+8Y/1qquuyvqpTYcOHXTAgAF611136fz587WmpkaPHTtm+o8EoASRu/XIXQB+IHfrkbuwHSUPysrJkyd1zZo1OmXKFP3Rj36knTp1yhjiZ555pvbp00d/8YtfaCQS0dWrV+v+/ftN/xGM279/v65evVojkYj+4he/0D59+uiZZ56Z8e+xU6dO+qMf/UinTJmia9as4VxooMyQu8UjdwHkg9wtHrmLIKPkgdU+++wzfemll3TSpElaUVGR8VDTXr166bBhw3TGjBm6cuVK3bNnj+nRA2fPnj26cuVKnTFjhg4bNkx79eqV8ZDYiooKnTRpkr700kv62WefmR4dgIvIXf+QuwBUyV0/kbsIAkoeWOXw4cO6fPlyvfvuuzUUCqUN3D59+ui9996ry5cv1127dpke2Xq7du3S5cuX67333qt9+vRJ+28SCoX07rvv1uXLl+vhw4dNjwwgD+Ru6SF3AbuRu6WH3EUpoeRBoB04cECXLl2qo0eP1ksuuaRBmJ522mnat29fnTx5sr7yyit6/Phx0yPnJRoOaSSW650jud/XoOPHj+srr7yikydP1r59++ppp53W4N/tkksu0dGjR+vSpUv1wIEDpkcGkMD23M1dVMMS1mjan8U0Esojvz1G7gLBZmfu5piTsYiGQhFteLdsGWweuQuTKHkQOO+8845Onz5dr7jiirSHolZWVuq0adN07dq1+uWXX5oetyjRsGg4p3ev0tqhyMeXX36pa9eu1WnTpmn//v3THvJ6xRVX6PTp0/Wdd94xPS5Qlsopd3NX2jsY2ZC7QOmzP3eLLXmChdyFnyh5EAhvvvmmPvDAA9qzZ88GF4urqqrSRx55RDdu3Gh6TFdEw/E/X1jDqSVPNFz/50/4QeLvCeIOR6qNGzfqI488olVVVQ0uctezZ0994IEH9M033zQ9JmA123I3FglpOJyQoUk7DVENJ/wZnXiNRTSUkLWxSEhDzh5JbckTDjfM5CAWQOQuYJ5tudtQTCOh+J8rpKGEkicWCaXdxq0tecIaDqX+LHg5m4rchVcoeVCyampq9L777tNu3bolhV7r1q31tttu0xUrVuh///tf02O6KxpOefNK2dlI2CmJhqXBzkaQ3+gy+e9//6srVqzQ2267TVu3bp20Frp166aTJk3Smpoa02MCVrA5d2ORUEK+Jn+CHIuE0mdttpInFtFQQkanK4CCmsnkLuAfm3M3VcOcrMvhaDipeE/axo1FNCT1eV3/s2DnbCpyF26i5EFJWb9+vd59993auXPnpHBr3769/vKXv9RVq1aZHtFTqadnJf5/8hujpimE7Hmjy2bVqlX6y1/+Utu3b5+0Rjp37qx33323rl+/3vSIQKCUS+6mZmhS3jpHSabkaFLOpil5Eo8GSvp/uzKZ3AXc9de//rUscjdVpu3cBpcnSCx9MmWtJadxZULuohiUPDBu3bp1OmrUKO3QoUNSiHXq1EnHjRunr7/+uukRfZP6Jpf46XLSYawWnBrghtdff13HjRunnTp1Svq76dChg44aNUrXrVtnekSgJJVl7qYUNmmveVZ3dI5T9jRW8jQ4pSDDTolFyF2gMGWZuylyLnmyHFFZLiVPInIX+aLkgRGnTp3SJ554Qnv37p0UVhdddJFOnDhRN2/ebHpEM5J2KGrPW076pDllZ6Mcj+TJZPPmzTpx4kS96KKLktZUKBTSJ554Qk+dOmV6RMCoss/dLCVP8g5Gwqlc2U6TjUU0lJi7iY9fJjsf5C6QXdnnboqGp83WZW8eR006j1EmOZuK3EUuKHngq+3bt+uYMWO0RYsWSS103759devWrabHKwn1F1EOaTgcavCJR32gJ5Y68YuGlnfRE7d161bt27dv0qdlLVq00LFjx+r27dtNjwf4itytk20nIuXCy/W3J14ktHYjOnnHI1R35E9K/pbhzge5C9QjdzPLtJ2btI2bmJ/RsEq6rE09wqcMkbvIhJIHvliyZIn2798/qXHu37+/LlmyxPRosNySJUu0srIyae1VVlay9mC9dLnL2vdJSqFUbshdlCty10dlnrOpyF0kouSBZz744AOtrq5u0C6PGTOGrwOE79588820n6pNmTJFP/jgA9PjAa7Ilrt8queP+PXTki6UX6YyHc1A7sIm5K7/yNnM2N6FKiUPPBCNRvXmm29OapJ79+6tTzzxhJ48edL0eChzJ0+eTHt+/M0336zRKJ8IIZjIXZQychc2IndRysjd8kbJA9fMmzdPu3fvnhQkP/vZz8ri2wIQTOvWrdOf/exnSWu2e/fuOm/ePNOjATnJlLt80wZKFbmLoCN3ETTkbvmh5EHRFi1apD169HBC48ILL9Tp06frxx9/bHo0ICcff/yxTp8+XS+88EJnHffo0UMXLVpkejQgLXIXQUfuImjIXQQduVs+KHlQsGXLlmkoFHJC4nvf+57+8Y9/ND0WUJQ//vGP+r3vfS/p23SWLVtmeixAVcld2IncRSkjd2EjctdulDzI24oVK7SiosIJhS5dunC4H6wzb9487dKli7POKyoqdMWKFabHQpkid1EOyF2UEnIX5YDctRMlD3K2evXqpK+FPP/88/Xxxx83PRbgqccff1w7duzorPv+/fvr6tWrTY+FMkHuohyRuzCJ3EU5InftQsmDRq1fv16rqqqcF32bNm101qxZpscCfDVr1ixt06aN8zqoqqrS9evXmx4LliJ3AXIX/iJ3AXLXFpQ8yKimpkYHDRrkvMjPOussffjhh/WLL74wPRpgxBdffKEPP/ywnnXWWc7rYtCgQVpTU2N6NFiC3AWSkbvwGrkLJCN3g4+SBw2cOHFCR48e7byomzZtqtXV1Xrs2DHTowEl4dixY1pdXa1NmzZ1XiejR4/WEydOmB4NAUXuAtmRu3AbuQtkR+4GFyUPkjz77LNJ52NOmDBBDx8+bHosoCQdPnxYJ0yY4LxeOnbsqM8++6zpsRAw5C6QO3IXbiB3gdyRu8FDyQNVVd23b5/ecsstzou3srJS33zzTdNjAYHw5ptvamVlpfP6ueWWW3Tfvn2mx0KJI3eBwpG7KAS5CxSO3A0OSh7onDlztHnz5ioi2qxZM75BACjQ448/rs2aNVMR0ebNm+ucOXNMj4QSRe4C7iB3kStyF3AHuVv6KHnK2Pbt2/Xaa6912tghQ4bo3r17TY8FBNrevXt1yJAhzuvq2muv1e3bt5seCyWC3AXcR+4iG3IXcB+5W9ooecrUtGnTnBfleeedp0uWLDE9EmCVJUuW6Hnnnee8zqZNm2Z6JBhG7gLeIneRitwFvEXuliZKnjKzdu1a7dWrl/NCHDVqlB4/ftz0WICVjh8/rqNGjXJeb7169dLXXnvN9FjwGbkL+Cdd7q5du9b0WPAZuQv4h+3d0kPJUya++eYbHTt2rPPiu+SSS3T16tWmxwLKwurVq/XSSy91Xn9jx47Vb775xvRY8Bi5C5iTmrt33nknuVsGyF3AHLZ3SwclTxnYsWOHhkIh5wU3ZcoU0yMBZWnKlCnO6zAUCumOHTtMjwSPkLtAaSB3ywe5C5QGctc8Sh7LLV261Ln6ea9evXTr1q2mRwLK2tatW51DyJs1a6ZLly41PRJcRu4CpYXctR+5C5QWctcsSh6LVVdXOy3q8OHD9euvvzY9EgBV/frrr3X48OHO67O6utr0SHAJuQuUJnLXXuQuUJrIXXMoeSx09OhRHTRokPOCmjlzpumRAKQxc+ZM53U6aNAgPXr0qOmRUCByFwgGctce5C4QDOSu/yh5LLNp0ybt2rWrioi2adNGX375ZdMjAcji5Zdf1jZt2qiIaNeuXXXTpk2mR0KeyF0gWMjd4CN3gWAhd/1FyWORp556ymlJr7nmGv3www9NjwQgBx9++KFec801zuv3qaeeMj0SckTuAsFE7gYXuQsEE7nrH0oeSyR+XeSYMWNMjwOgAGPGjEn62kmUNnIXCD5yN1jIXSD4yF3vUfIE3N69e7Vfv340ooAlEj+h7Nevn+7du9f0SEhB7gJ2IXdLH7kL2IXc9RYlT4CtWbNG27ZtqyKiXbp04dxGwBKbNm3SLl26qIho27Ztdc2aNaZHQh1yF7ATuVu6yF3ATuSudyh5AioajWqTJk1URPTGG2/kKuWAZY4ePao33nijiog2adJEo9Go6ZHKHrkL2I3cLT3kLmA3ctcblDwBtGLFCufwthEjRpgeB4CHRowY4bzeV6xYYXqcskXuAuWD3C0N5C5QPshdd1HyBMzzzz/vvABGjx5tehwAPhg9erTzun/uuedMj1N2yF2g/JC7ZpG7QPkhd91DyRMgS5cudRb+XXfdZXocAD666667nNf/s88+a3qcskHuAuWL3DWD3AXKV2LuLl261PQ4gUXJExCLFi1yFvyECRNMjwPAgAkTJjg5sGjRItPjWI/cBUDu+ovcBUDuFo+SJwD+8Ic/OAt98uTJpscBYNDkyZOdPPjDH/5gehxrkbsA4shdf5C7AOLI3eJQ8pS4p556ylngU6dONT0OgBIwdepUJxeeeuop0+NYh9wFkIrc9Ra5CyAVuVs4Sp4SNmfOHGdhP/zww6bHAVBCHn74YScf5syZY3oca5C7ADIhd71B7gLIhNwtDCVPiXrsscecBT1z5kzT4wAoQTNnznRy4rHHHjM9TuCRuwAaQ+66i9wF0BhyN3+UPCVo9uzZLGQAOUncQJ49e7bpcQKL3AWQK3LXHeQugFyRu/mh5Ckx0WiUQ9IA5CXxUPdoNGp6nMAhdwHki9wtDrkLIF/kbu4oeUrI+++/r61bt1YR0fvvv9/0OAAC5P7771cR0datW+v7779vepzAIHcBFIrcLQy5C6BQ5G5uKHlKxDfffKN9+vRREdHBgwebHgdAAA0ePFhFRPv06aPffPON6XFKHrkLoFjkbn7IXQDFIncbR8lTIm699VYVEb3sssv05MmTpscBEEAnT57Uyy67TEVEb731VtPjlDxyF0CxyN38kLsAikXuNo6SpwRMnTpVRURbtmypO3bsMD0OgADbsWOHtmzZUkVEp06danqckkXuAnALuZsbcheAW8jd7Ch5DFu8eLFzAakXXnjB9DgALPDCCy84ubJ48WLT45QccheA28jd7MhdAG4jdzOj5DFoy5Yt+q1vfUtFRB999FHT4wCwyKOPPqoiot/61rd0y5YtpscpGeQuAK+Qu+mRuwC8Qu6mR8ljyJEjR7Rr164qIjpixAjT4wCw0IgRI1REtGvXrnrkyBHT4xhH7gLwGrmbjNwF4DVytyFKHkOqqqpURLRfv36mRwFgsX79+qmIaFVVlelRjCN3AfiB3K1H7gLwA7mbjJLHgDvvvFNFRM8//3w9cOCA6XEAWOzAgQN6/vnnq4jonXfeaXocY8hdAH4hd2uRuwD8Qu4mo+Tx2cKFC50LRK1fv970OADKwPr1653cWbhwoelxfEfuAvAbuUvuAvBXueduIkoeH3366afatm1bFRGdO3eu6XEAlJG5c+eqiGjbtm31008/NT2Ob8hdAKaQu+QuAH+Va+6mouTxUfyiUJwrCMCE+LURyunil+QuAJPIXQDwVznmbipKHp9Eo1Hn8LEdO3aYHgcoCwcPHtQ33nhDly9frk8//bTOmTNHZ86cqdOmTdNJkybp2LFj9fbbb9fbb79dx44dq5MmTdJp06bpzJkzdc6cOfr000/r8uXL9Y033tCDBw+a/uMUbceOHU4ORaNR0+N4jtwF/EfuJiN3AXiN3E1WbrmbDiWPT3r06KEiog899JDpUQCr7Nq1S5ctW6aTJ0/WIUOGaEVFhV5wwQX67W9/2wl4t359+9vf1gsuuEArKip0yJAhOnnyZF22bJnu2rXL9F9Dzh566CEVEe3Ro4fpUTxH7gLeIHfzQ+4CKBa5m59yyt10KHl8UF1drSKil19+uelRgEB76623dO7cuTpq1CitqKjQM888M+ub1LnnnquhUEgHDhyo4XBYx4wZoxMnTtSpU6fqjBkzdPbs2Tp//nydP3++zp49W2fMmKFTp07ViRMn6pgxYzQcDuvAgQM1FArpueeem/W5zjzzTK2oqNBRo0bp3Llz9a233jL915XR5ZdfriKi1dXVpkfxDLkLuIPcdQe5CyBX5K47yiF3M6Hk8djWrVudF8Xrr79uehwgUPbt26cLFizQYcOGaYcOHdK+2VxwwQV6ww03aHV1tS5ZskQ3bNige/bs0S+//NL1eb788kvds2ePbtiwQZcsWaLV1dV6ww036AUXXJB2tg4dOuiwYcN0wYIFum/fPtfnKdTrr7/uzLh161bT47iO3AUKR+56g9wFkEmuufu///u/5G4ebM/dbCh5PNavXz8VEb3zzjtNjwIEwrp163TcuHHOId+pb3DDhw/XSCSia9eu1cOHD5se13H48GFdu3atRiIRHT58eNo3wh49eui4ceN03bp1psfVO++8U0VE+/XrZ3oU15G7QH7IXX+QuwDiyF1/2Jy72VDyeGj27NnOC/XUqVOmxwFK1vbt2/X+++/XCy+8MOlNomXLljpw4ECdPXu2vvPOO6bHzNs777yjs2fP1oEDB2rLli2T/mwXXnih3n///bp9+3Yjs506dcp5Y549e7aRGbxA7gK5IXf9R+4C5Y3c9Z+tudsYSh6P7N27V5s2baoion/+859NjwOUnA8//FBnzpypoVAo6c3gu9/9rk6ePFk3btxoekTXbdy4USdPnqzf/e53k/7MoVBIZ86cqR9++KGv8/z5z39WEdGmTZvq3r17fX1uL5C7QHbkLrnrNnIXyI7cJXdNoOTxyJAhQ1REdOjQoaZHAUrKG2+8oT//+c+TQv/ss8/WkSNH6vr1602P55v169fryJEj9eyzz076u/j5z3+ub7zxhm9zDB06VEVEhwwZ4ttzeoXcBdIjd2uRu+4jd4H0gpO7MY1GY549OrlrBiWPB5599lkVEW3evLnu37/f9DhASXj55Ze1qqoqKeCHDh2qL7zwgunRjHvhhRecN5/4r6qqKn355Zc9f+79+/dr8+bNVUT02Wef9fz5vELuAg2Ru5mRu8Ujd4GGSid3oxqWsEYbu1dYNNzYnVxC7vqHkscD8UPT5syZY3oUwLgFCxY4X2EYP1Tynnvu0d27d/s2QywSUpGQRuaHNRQOayj+5pL0rhbVcPxw0oh3n2hks3v3br3nnnucQ99Far+KdsGCBZ4+75w5c5xDh4OK3AXqlULuNhANJ2VuLBKqzdpYREM57Ih4hdwtHLkL1Cu93E0peaLh+tOm4tu5Cbf5VfSokrt+oORx2e9+9zvnnEOgnK1evVqvvvpqJ7w7duyov/71r/Wzzz7z8FljGgmFNRxOvsp//Y5EV5VQROMVTjSc+LOQ1r/n1b8BZvyEIxZVr45u/eyzz/TXv/61duzY0fkzXH311bp69WpvnlDVOVf8d7/7nWfP4RVyF6hlJnfTiEXqy3SR2tzNVPJoahanFvD+IHfzQ+4CtUomd1U18QNLkZCGQnXbtillev12bkwjofrtX7+Ru96h5HFZp06duPgcytq7776rt9xyS9JV9efPn+/b8ycWNBoNJ5Q6MY10OVs73h9LvLNKOFp7pE/iTkXCm2FyyZPwqUjCpx/OTkzaiYp7A50/f37StzDccsst+u677xb2YFnEL0rXqVMn1x/ba+Quyp3p3E2VnJt1GTg/c8lTv2NibmcjEbnbOHIX5a7Uclc1ZRtYoxquy9TkvNXa7dxQRGOGS55E5K67KHlc9Jvf/EZFRK+88krTowC+O3HihE6cONEJ5+985zv60EMPufDIMY2ERCXlcP5ouqN1NGXnwnkTq/s9A0TPvj19yZN8ila8zEl580t4vOTfk3i/+Lx1OyzR5BkK9dBDD+l3vvMd5887ceJEPXHiRJGPmuzKK69UEdHf/OY3rj6ul8hdlDPvctcd9TndWMlTl5suZKWbyN30yF2Us9LN3YaFTTRcX/Kk/2CydEqeOHLXHZQ8LurQoYOKiD7//POmRwF89fzzz2u7du2cQL7jjjv0wIEDxT9w4mlUiYeaxlKLk/ojbBp+OpxweOoAUemS5nStlNMI6o8ASjmfOeMnH8nPX/9YdZ9Ou3TqwYEDB/SOO+5w/p7btWvnat48//zzKiLaoUMH1x7Ta+QuypVnueuC+A5FbfTVFjjhaSlHVoakwelafl4ANFfkbkPkLspVKeeuk7VJm7N1/59uO7f2BzldnNlv5G7xKHlcMmvWLBUR7du3r+lRAF+NHTvWCeEf/OAH+re//c21x254hE2d1DerhNIlW8kTu/1slY7fS3vh5eQjg+IFTpqL1qV7U8xy2KsXOy1/+9vf9Ac/+IEz79ixY1177L59+6qI6KxZs1x7TK+QuyhXXuauGxqe5ioajiYf5RgOhzQUWVN7W/zOddfkKbWiR5XcjSN3Ua5KPXdV03/QGP/fzNu5DY+WLxXkbuEoeVzStm1bFRFdsWKF6VEAX2zYsEEvvfRSJ3gfffRR158jY8nT4NtYEsqVpAIoptHEqyPHIhrKa+8h4dPmup0P578TjyTK+IlI7YWgvXrjfPTRR52//0svvVQ3bNhQ9GOuWLFCRUTbtm3rwoTeIndRbvzIXVckXXg5rNEGxXxwkbvkLspLYHK3Tn2ZE9ZIJFSSpXm+yj13C0HJ44J58+apiGhFRYXpUQBfPPTQQ07YXn755bplyxZvnii1TEkoaaLh+k9/Y5FQbtdyaHCaV65j1D5+NMObZX0ZlXIkT9KFn72xZcuWpK/sdOO88IqKChURnTdvngsTeoPcRbnxLXfRKHKX3EV5IHdLR7nmbqEoeVwQX3ALFy40PQrgqa+++kpvuukmJ2DHjx/v+XNGw3UXiEt3GH/dN1ylPdrHmMSvr/RvtvHjxzvPedNNN+lXX31V8GMtXLjQ2aApVeQuyoWJ3EVuyF3ATuRu6Sq33C0UJU+R1qxZY/2FmwBV1b179+pVV12lIqJt2rTRlStX+vfkBR6BU25Wrlypbdq0URHRq666Svfu3VvwY8UvrLlmzRoXJ3QHuYtyYTR3kRNyF7ALuVv6yiV3i0HJU6TBgweriOi0adNMjwJ4pqamRi+44AIVEe3Zs6e+9957pkdCBu+++6727NlTRUTPP//8gi8MOG3aNBURHTx4sMsTFo/cRTkgd4OD3AXsQO4GRznkbjEoeYoQi8Wcw8UOHjxoehzAE88995w2adJERUSrqqr02LFjpkdCI44dO6ZVVVUqItqkSRN97rnn8n6MgwcPOvkWi5XOMVTkLsoBuRs85C4QbORu8Nicu8Wi5CnChAkTVET0tttuMz0K4Iknn3zSCb477rjD9DjI0+233+78+z355JN5//7bbrtNRUQnTJjgwXSFIXdhO3I32MhdIHjI3WCzMXeLRclThHPOOUdFRGtqakyPArhu8Z9TL/sAABmeSURBVOLFTmBOnTrV9Dgo0NSpU51/x8WLF+f1e2tqalRE9JxzzvFouvyRu7AZuWsHchcIDnLXDrblbrEoeQr04osvqohor169TI8CuC6+vkVEH3zwQdPjoEgPPvig8+/54osv5vV7e/XqVdDv8wK5C5uRu3Yhd4HSR+7axZbcdQMlT4GGDh2qIqIzZswwPQrgqtdee01PO+006w5bLHfxw+1PO+00fe2113L+fTNmzFAR0aFDh3o4XW7IXdiK3LUTuQuULnLXTjbkrhsoeQpw4sQJ58JcH3zwgelxANf8/e9/15YtW6qI6MiRI02PA5eNHDlSRURbtmypf//733P6PR988IFzQbsTJ054PGFm5C5sRe7ajdwFSg+5a7cg565bKHkK8Mwzz6iIaP/+/U2PArhm37592q5dOxURHTZsmOlx4JFhw4apiGi7du103759Of2e/v37q4joM8884/F0mZG7sBG5Wx7IXaB0kLvlIai56xZKngL88Ic/VBHRuXPnmh4FcM11112nIqI33nij6VHgsRtvvFFFRK+77rqc7j937lwVEf3hD3/o8WSZkbuwEblbPshdoDSQu+UjiLnrFkqePO3fv9+5oNOnn35qehzAFQ888ICKiHbs2FEPHz5sehx47PDhw9qxY0cVEX3ggQcavf+nn37q5N7+/ft9mDAZuQsbkbvlhdwFzCN3y0vQctdNlDx5evLJJ1VE9OabbzY9CuCKlStXOoH2yiuvmB4HPolGo86/+8qVKxu9/80336wiok8++aQP0yUjd2Ebcrc8kbuAOeRueQpS7rqJkidPgwYNUhHRefPmmR4FKNqhQ4e0ffv2KiL6q1/9yvQ48NmvfvUrFRFt3769Hjp0KOt9582bpyKigwYN8mm6euQubELuljdyF/AfuVvegpK7bqLkyVOLFi1URHTv3r2mRwGKNnDgQBURveGGG0yPAkOuv/56FREdOHBg1vvt3btXRURbtGjh02T1yF3YhNwFuQv4i9xFEHLXTZQ8eVizZo2KiPbq1cv0KEDRnn76aRURPffcc/Wjjz4yPQ4M+eijj/Tcc89VEdGnn346630vu+wyFRFds2aNT9ORu7ALuQtVchfwE7kL1drcbdu2bcnmrtsoefIwfvx4FRG97777TI8CFOWrr75yLkS2YMEC0+PAsAULFjgXIvzqq68y3u++++5TEdHx48f7Nhu5C1uQu0hE7gLe++qrr/S8884jd6GqpZ27bqPkycMll1yiIqLr1q0zPQpQlMmTJ6uIaL9+/UyPghLRr18/FRGdPHlyxvusW7dORUQvueQS3+Yid2ELchepyF3AW+QuUl1zzTUlmbtuo+TJ0e7du1VE9KyzzjI9ClCUXbt2OVeZ37Bhg+lxUCI2bNjgrItdu3ZlvN9ZZ52lIqK7d+/2fCZyF7Ygd5EOuQt4h9xFOqWYu16g5MlR/PCuwYMHmx4FKMrQoUNVRDQcDpseBSUmHA6riOjQoUMz3mfw4MG+HfZM7sIW5C4yIXcBb9xyyy3kLtIqtdz1AiVPjkaOHKkiorNmzTI9ClCwV155RUVETz/9dD1w4IDpcVBiDhw4oKeffrqKiL7yyitp7zNr1iwVER05cqTn85C7sAG5i2zIXcB95C6y2b9/f0nlrhcoeXLUq1cvFRHduHGj6VGAglVVVamI6PTp002PghI1ffp0FRGtqqpK+/ONGzf69q0r5C5sQO6iMeQu4K7rrruO3EVWpZS7XqDkycF//vMf59y9L774wvQ4QEHefvttFRE944wz9NixY6bHQYk6duyYnnHGGSoi+tZbbzX4+RdffOHk4X/+8x/P5iB3YQNyF7kgdwH3vPXWW+QuGlUquesVSp4cxK+wfcUVV5geBSjYmDFjVER09OjRpkdBiRs9erSKiI4ZMybtz6+44grPv3mF3IUNyF3kitwF3BF/LZG7aEwp5K5XKHlyMGPGjKwLACh1n3/+uTZt2jRjWw0kin8K1rRpU/38888b/Dy+4zpjxgzPZiB3EXTkLvJB7gLF+/zzz7MenQEkKoXc9QolTw4GDRqkIqKLFy82PQpQkMcee0xFRK+77jrToyAg4uezP/bYYw1+tnjxYhURHTRokGfPT+4i6Mhd5IvcBYoTiUTIXeTFdO56hZInB+edd56KiL7//vumRwEKcvHFF6uI6PLly02PgoBYvny5ioh269atwc9isZiKiJ533nmePT+5i6Ajd5EvchcoTrdu3chd5MV07nqFkqcRx44dUxHRZs2amR4FKMiqVatURLRr166mR0HAdO3aVUVEV61a1eBnzZo1UxHx5KKG5C6CjtxFochdoDDkLgplKne9RMnTiH/84x8qInrppZeaHgUoyLhx41REtLq62vQoCJjq6moVER03blyDn1166aUqIvqPf/zD9ecldxF05C4KRe4ChSF3UShTueslSp5GxM/F+8lPfmJ6FKAgF110kYqIbt682fQoCJjNmzeriOhFF13U4Gc/+clPPLt2A7mLoCN3Uah47v7P//xPg5+Ru0Bm5C4KZSp3vUTJ04gpU6aoiOiUKVNMjwLkbefOnSoi2qZNG9OjIKDatGmjIqI7d+5Mut3LbCR3EWTkLopF7gL5IXdRLBO56yVKnkbE27s//elPpkcB8hb/loHhw4ebHgUBNXz4cBURjUQiSbf/6U9/8uxTX3IXQUbuoljkLpAfchfFMpG7XqLkaURQz8MDVFWvvfZaFRFdsmSJ6VEQUEuWLFER0WuvvTbpdi+v30DuIsjIXRQrnrsDBgxIup3cBdIjd1EsE7nrJUqeRjRt2jSQV9QGjh8/riKiIqL//ve/TY+DgPr3v//trKPjx487t8e/iaVp06auPye5i6Aid+EGchfIHbkLN5jIXS9R8mRx6NAhzu9EYL344osqIvr973/f9CgIuO9///sqIvriiy8m3R4/f/nQoUOuPRe5iyAjd+GWeO6uWLEi6XZyF0hG7sItfuau1yh5snj77bdVRLRHjx6mRwHyNn36dBURvffee02PgoC79957VUR0+vTpSbf36NFDRUTffvtt156L3EWQkbtwC7kL5IbchVv8zF2vUfJk8eqrr6qIaGVlpelRgLzdeuutKiL6zDPPmB4FAffMM8+oiOitt96adHtlZaWKiL766quuPRe5iyD76U9/Su7CFeQukBtyF27xM3e9RsmTxaJFi9L+QwNB0LNnTxUR3bJli+lREHBbtmxREdGePXsm3R4vEhctWuTac5G7CDJyF26J5+5ll12WdDu5CyQjd+EWP3PXa5Q8WcyaNUtFRO+55x7TowB5O/300xtcPAwoRPyihqeffnrS7ffcc4+KiM6aNcu15yJ3EWTkLtxC7gK5IXfhFj9z12uUPFmMHz9eRURnzpxpehQgL++9956KiHbu3Nn0KLBE586dVUT0vffec26bOXOmioiOHz/etechdxFU5C7cRu4C2ZG7cJtfueu1si95RowY4XxdWr6/RowYYXp8lDHWLvx0/fXXq4jo8uXLndsWLlyoIqLDhg3L67FYuwgq1i785GbuZjNs2DAVEV24cKFrjwm4hdyFX2xaa2Vf8mzbtk179+6d9z9k7969ddu2babHRxlj7cJPEydOVBHRBx980Llt1apVKiI6YMCAvB6LtYugYu3CT27mbjYDBgxQEdFVq1a59piAW8hd+GXbtm167rnnWrHWyr7kUVWdO3du3v+Yc+fONT02wNqFb5588kkVEf2///s/57aamhoVEb3yyivzfjzWLoKKtQu/uJ27mVx55ZUqIlpTU+PaYwJuInfhl/hFloO+1ih56uRzeFapHY6F8sbahR+WLFmiIqI//elPndu2b9+uIg2/hSBXrF0EFWsXfvAid9O57LLLVER0+/btrj0m4DZyF36I527Q1xolT51cDwUsxcOxUN5Yu/DDSy+9pCKi119/vXPbzp07VUS0W7duBT0maxdBxdqFH7zI3XS6deumIqI7d+507TEBt5G78EM8d88666xArzVKngS5HApYiodjAaxdeO2vf/2rioj+v//3/5zb9uzZoyLFfasFaxdBxdqF17zK3VTxb5PZs2ePa48JeIHchdfiudulS5dArzVKnhTZDgUs1cOxAFXWLrwVP0WgZ8+ezm0fffSRioi2b9++qMdm7SKoWLvwkpe5m6h9+/YqIvrRRx+59piAV8hdeCkxd4O81ih5UmQ6FLCUD8cCVFm78Nbu3bsbfHp85MgRFRFt3bp1UY/N2kVQsXbhJS9zN1Hr1q1VRPTIkSOuPSbgFXIXXkrM3SCvNUqeNNIdCljKh2MBcaxdeOXw4cMqInrOOec4tx0/flxFRFu0aFH047N2EVSsXXjF69yNa9GihYqIHj9+3LXHBLxE7sIrqbkb1LVGyZNB4uFZd9xxh+lxgJwlrt1wOGx6HFjis88+UxHRM844w7nt1KlTKiLapEkTV56D3EVQkbvwgh+5q6rapEkTFRH9+uuvXXtMwGvkLryQLnfD4XBgTtOKo+TJ4JNPPtHmzZtr8+bN9ZNPPjE9DpAz1i6CirWLoGLtIsimTZum06ZNMz0GkBdyF3755JNP9Oyzz9azzz47MGuNkieL5557Tp977jnTYwB5Y+0iqFi7CCrWLgD4i9yFX4K21ih5AAAAAAAALEDJAwAAAAAAYAFKHgAAAAAAAAtQ8gAAAAAAAFiAkgcAAAAAAMAClDwAAAAAAAAWoOQBAAAAAACwACUPAAAAAACABSh5AAAAAAAALEDJAwAAAAAAYAFKHgAAAAAAAAtQ8gAAAAAAAFiAkgcAAAAAAMAClDwAAAAAAAAWoOQBAAAAAACwACUPAAAAAACABSh5AAAAAAAALEDJAwAAAAAAYAFKHgAAAAAAAAtQ8gAAAAAAAFiAkgcAAAAAAMAClDwAAAAAAAAWoOQBAAAAAACwACUPAAAAAACABSh5AAAAAAAALEDJAwAAAAAAYAFKHgAAAAAAAAtQ8gAAAAAAAFiAkgcAAAAAAMAClDwAAAAAAAAWoOQBAAAAAACwACUPAAAAAACABSh5gBIRi8VMjwA48l2PrF8ACC4yHLlgnQDBULIlTywSUhHJ+CscVVWNatj5b8AvUQ1LSCOp73OxiIYkrLktx8THiGkkJBpq8ID5jBRWyfm5Ue6i4ZRMTQrRfNejC+sX8F1iBmf6b6AckOHIReo6YR8MQeHW+3o+j2N+W6JkS54ksYiG0v5FETAwwY2SJ+k3UvLAN9Fw+lKn/jZKHpQbSh6UMzIcuaDkAXJnflvCjpInEtGQ86l06v3qdmDiPw9FlLcxFCeXkqfuPtFMazP+GCnrM2VHO/O6rV37zuNGKHmQiwxr1ykJM6zHWOI6TjyasrD1m3ykJjvUcFPt2qtfirVrt34ph+rWI0fywDuZMy7NjnHShzTpth0S39sb+7lq9vyNaSQU32ZIc6Q8e+xIK917ffH7YNm3Bdh/QzqNZWBqxoU0EkvzHp9x/0yTt3mT1l1jj5Mmq53f7P92sRUlT+JfajSc+BfX8NOJ+g08oFC5ljzZ1ma207UaW7fpP02h5EHjUo/ayXyfbJ/W1Z7uFV9vea7f1KPOOAoNLotFQvVrPBrWUCjkrMdoOL42KXngkawZl0vJk/x+Xrvxn+vPG2Z8uu3ihsUPR/KgMY1ve+a1D5b1dcL+GzLJMQOzljON7Z8lf5CZvOYzP07DrM58WQ4/toutKHkyvlmm/UtK+ZQPyFvuJU+jn9ale/E3tm7T/ZwdZeQs8SiwdJ+O5bDBn21jrJD1C7gpGnbWdSwS0nA4XLfTm/j+T8kDj2TNuNxKnuRt1MTbGvl52tPGs+20ZLoNSJXD6Vr57INle52w/4aMGsvIdHnWsJzJb93m+DgNsrruvoa2i60uebJdvJk3MxTO25KnsXWb9tOMgq8HhPKWUPg0ek2elHIoQ8nTeO4mH7LKBhvcF9Vw3fqMhusOp3ZO0UqXwZQ8cFO2jMtn2yD58RoegZbm5wkFZ/rfn25HmZIHuciv5ClmW4D9N2TWWEamy7jcS57sR4w1tq2QPqtNbRfbX/JwaB9c50PJk2XdUvLAdUkZm+mQ7ExH6+S3fhPVf8sXO9VwU905+bGYRkJhjcbLnVi87FGl5IEfGmYcJQ+CqoCSp8BtAfbfkFlASx4D28VWlzycFgBvZDhkNGnjyu3TtTI9TpbbgFQZ10mWQ13T7TTkfbpWNuxgwH2xSKj2gqChiMYSLsSY+dx6Sh54JXXD3/zpWpQ8yJ8bp2vl+Phs0yKj3E7XKrTk8e90rWzcyWS7S550F1+KhvnUGEVLvriWat5vftlKnkbXbeqFFbnwMnKV7oJ06S9al7G0cb51oMD1m/bxyGS4LBpOOvosGg5pKGnDj5IHHsmacanv3/HD9PP50obGL3bb2IWXKXmQv3y3c4vZFmD/DZnkloEFlzwpP0/6Ioc0j5PPF+z4vV1secmjmnqeGwEBt9QfUpfuPOH8Dsl2ztfM9BXUWb9akq9QR35S127Gr3KsW4/J94+f/pLyJpjH+k19fq7LA/elW6OZvt6Ukgfuyp5xidc3i38Fb8oORjicIZ8b+7lqg/xN801aqZnbMMOBhpLXSfH7YNlfJ+y/IZ3GMrDYkkcTPsxM/QA9zeNkzeosX6Huw3ZxMEoeAAAAwGrpTgHI5+cAYLNSycBSmSMzSh4AAADAOEoeAMisVDKwVObIjJIHAAAAMI6SBwAyK5UMLJU5MqPkAQAAAAAAsAAlDwAAAAAAgAUoeQAAAAAAACxAyQMAAAAAAGABSh4AAAAAAAALUPIAAAAAAABYgJIHAAAAAADAApQ8AAAAAAAAFqDkAQAAAAAAsAAlDwAAAAAAgAUoeQAAAAAAACxAyQMAAAAAAGABSh4AAAAAAAALUPIAAAAAAABYgJIHAAAAAADAAiVc8sQ0EhIVSf0V0kgs8X5RDTe4T/xXWKOqGouEMvy89lc4auiPiIDJvNbq11CmdSsqoYjGGjxmmvs3uF8uz1t7n1Ak5RliEQ3VvQ5Qzli7sEnd2svw5h2LhOrWYuPbB7mv+0yPxRpFPli7sAn7agiCfLYzc922TV3jqY9nftu25EueBi/qaDjtDkLOL/5YREPp/mGARmVYa9FwwhtahnVbd3vyi73uTS/lztFw6htkLs8bfwNNWdvsKENVWbuwTjScYSc1cc3lsn2Q67pP/1jRcKYSFMiAtQtrsK+GIMh1OzOfbdvcSh6T27bBK3k08ZMOVYID/sm01hI3qDKvW42GE9Ztuh3nhEfMaY0nPkZd4ETCyeHEjjJUlbUL+2QrEJM3sgrbUdaUdZ/L8wG5YO3CFuyrIQhy2c7Md9s2l5LH7LZtIEue5Bc/wQG/ZN9hrb09x42uxtZhTms88bnigRPTSCjhcdlRhqqydmGjaDjDJ27Obd7vKEfDnEaA/LF2YQf21RAEOWxn5r1tm2PJY3DbNpglT5pDWtOew5m+WiY4UKBiTnlJOTez0U/Qcjhsu8EpL3X/HYtoKH5ndpShqqxdWCntodYNTxfMvn2Q47rP8liZPvkDMmLtwgrsqyEIctjOzHvbNteSJ8tzesyakod2GN7L9CaVuJ6yXAgxcZEWsKOc/XmTA8f5hI4dZagqaxd2StlOSDp6QTWfoyEa3/lI/1i1FwtlmwL5Yu3CBuyrIQhy2M70suTJ9JweC2bJwyGAMKKww6drL9iV8oJ25ZSX1NlSDgcMRTTGjjJUlbULW8UiIWeHNhpOf4FwV9Z9xsfKcxsEqMPaRfCxr4YgyGE707PTtbI8p8cCWfJwMS+YUfg58uk2vNKdk+88St5rvGHgRMOi4Qg7ylBl7cJa8Q2mtO/tbq57dpThMtYuAo99NQRBbtuZuW/bZvlWuSwXZ/Z72zZ4JQ9fywdjirkQYrqv5Svya6gbPH76jUS+PQOsXdgsGhYNh8NpNs7cXPdZTnnha6hRINYugo19NQRBrtuZuW7bxk93Tfy9qd/OZX7btuRLnuzXclDNejGvdIFCcKBgLnzbRcbwSPjVYKOr0B3ldCGE8sTahcUa7FA4P8hh+yDXdZ/psVijKAJrF4HGvhqCIL/tzMa3bdPfr+Ept2a3bUu45AEAAAAAAECuKHkAAAAAAAAsQMkDAAAAAABgAUoeAAAAAAAAC1DyAAAAAAAAWICSBwAAAAAAwAKUPAAAAAAAABag5AEAAAAAALAAJQ8AAAAAAIAFKHkAAAAAAAAsQMkDAAAAAABgAUoeAAAAAAAAC1DyAAAAAAAAWICSBwAAAAAAwAKUPAAAAAAAABag5AEAAAAAALAAJQ8AAAAAAIAFKHkAAAAAAAAsQMkDAAAAAABgAUoeAAAAAAAAC1DyAAAAAAAAWICSBwAAAAAAwAKUPAAAAAAAABag5AEAAAAAALAAJQ8AAAAAAIAFKHkAAAAAAAAsQMkDAAAAAABgAUoeAAAAAAAAC1DyAAAAAAAAWICSBwAAAAAAwAKUPAAAAAAAABag5AEAAAAAALAAJQ8AAAAAAIAFKHkAAAAAAAAsQMkDAAAAAABgAUoeAAAAAAAAC1DyAAAAAAAAWICSBwAAAAAAwAKUPAAAAAAAABag5AEAAAAAALAAJQ8AAAAAAIAFKHkAAAAAAAAsQMkDAAAAAABgAUoeAAAAAAAAC1DyAAAAAAAAWICSBwAAAAAAwAKUPAAAAAAAABag5AEAAAAAALAAJQ8AAAAAAIAFKHkAAAAAAAAsQMkDAAAAAABgAUoeAAAAAAAAC/x/mV4TBXWUNEkAAAAASUVORK5CYII=)"
   ]
  },
  {
   "cell_type": "code",
   "execution_count": 43,
   "metadata": {
    "colab": {},
    "colab_type": "code",
    "executionInfo": {
     "elapsed": 1145,
     "status": "ok",
     "timestamp": 1598967400074,
     "user": {
      "displayName": "Aishwarya Singh",
      "photoUrl": "https://lh3.googleusercontent.com/a-/AOh14GgeJwfn4BdBDCAplWi_kdtB9FRssOpXO7T_aMgg=s64",
      "userId": "01105858832371513140"
     },
     "user_tz": -330
    },
    "id": "yN5R1lkWrd22"
   },
   "outputs": [],
   "source": [
    "# function for rule 3: noun(subject), verb, noun(object)\n",
    "def rule3(text):\n",
    "    \n",
    "    doc = nlp(text)\n",
    "    \n",
    "    sent = []\n",
    "    \n",
    "    for token in doc:\n",
    "        \n",
    "        # if the token is a verb\n",
    "        if (token.pos_=='VERB'):\n",
    "            \n",
    "            phrase =''\n",
    "            \n",
    "            # only extract noun or pronoun subjects\n",
    "            for sub_tok in token.lefts:\n",
    "                \n",
    "                if (sub_tok.dep_ in ['nsubj','nsubjpass']) and (sub_tok.pos_ in ['NOUN','PROPN','PRON']):\n",
    "                    \n",
    "                    # add subject to the phrase\n",
    "                    phrase += sub_tok.text\n",
    "\n",
    "                    # save the root of the verb in phrase\n",
    "                    phrase += ' '+token.lemma_ \n",
    "\n",
    "                    # check for noun or pronoun direct objects\n",
    "                    for sub_tok in token.rights:\n",
    "                        \n",
    "                        # save the object in the phrase\n",
    "                        if (sub_tok.dep_ in ['dobj']) and (sub_tok.pos_ in ['NOUN','PROPN']):\n",
    "                                    \n",
    "                            phrase += ' '+sub_tok.text\n",
    "                            sent.append(phrase)\n",
    "            \n",
    "    return sent"
   ]
  },
  {
   "cell_type": "code",
   "execution_count": 44,
   "metadata": {
    "colab": {},
    "colab_type": "code",
    "executionInfo": {
     "elapsed": 65754,
     "status": "ok",
     "timestamp": 1598967469205,
     "user": {
      "displayName": "Aishwarya Singh",
      "photoUrl": "https://lh3.googleusercontent.com/a-/AOh14GgeJwfn4BdBDCAplWi_kdtB9FRssOpXO7T_aMgg=s64",
      "userId": "01105858832371513140"
     },
     "user_tz": -330
    },
    "id": "bhZGDSLD0hZO"
   },
   "outputs": [],
   "source": [
    "# create a df containing sentence and its output for rule 3\n",
    "row_list = []\n",
    "\n",
    "for i in range(len(df2)):\n",
    "    \n",
    "    sent = df2.loc[i,'Sentence']\n",
    "    year = df2.loc[i,'Year']\n",
    "    output = rule3(sent)\n",
    "    dict1 = {'Year':year,'Sentence':sent,'Output':output}\n",
    "    row_list.append(dict1)\n",
    "    \n",
    "df_rule3 = pd.DataFrame(row_list)"
   ]
  },
  {
   "cell_type": "code",
   "execution_count": 45,
   "metadata": {
    "colab": {
     "base_uri": "https://localhost:8080/",
     "height": 206
    },
    "colab_type": "code",
    "executionInfo": {
     "elapsed": 1539,
     "status": "ok",
     "timestamp": 1598968039391,
     "user": {
      "displayName": "Aishwarya Singh",
      "photoUrl": "https://lh3.googleusercontent.com/a-/AOh14GgeJwfn4BdBDCAplWi_kdtB9FRssOpXO7T_aMgg=s64",
      "userId": "01105858832371513140"
     },
     "user_tz": -330
    },
    "id": "rZAyZsO71FhB",
    "outputId": "af5f7c9e-73c5-40b5-e4c4-d548099bf4c4"
   },
   "outputs": [
    {
     "data": {
      "text/html": [
       "<div>\n",
       "<style scoped>\n",
       "    .dataframe tbody tr th:only-of-type {\n",
       "        vertical-align: middle;\n",
       "    }\n",
       "\n",
       "    .dataframe tbody tr th {\n",
       "        vertical-align: top;\n",
       "    }\n",
       "\n",
       "    .dataframe thead th {\n",
       "        text-align: right;\n",
       "    }\n",
       "</style>\n",
       "<table border=\"1\" class=\"dataframe\">\n",
       "  <thead>\n",
       "    <tr style=\"text-align: right;\">\n",
       "      <th></th>\n",
       "      <th>Year</th>\n",
       "      <th>Sentence</th>\n",
       "      <th>Output</th>\n",
       "    </tr>\n",
       "  </thead>\n",
       "  <tbody>\n",
       "    <tr>\n",
       "      <th>0</th>\n",
       "      <td>1972</td>\n",
       "      <td>During the past few years the world has made r...</td>\n",
       "      <td>[world make advances]</td>\n",
       "    </tr>\n",
       "    <tr>\n",
       "      <th>1</th>\n",
       "      <td>1972</td>\n",
       "      <td>In 1972 alone, the United States and the Sovi...</td>\n",
       "      <td>[]</td>\n",
       "    </tr>\n",
       "    <tr>\n",
       "      <th>2</th>\n",
       "      <td>1972</td>\n",
       "      <td>The Soviet Union and the United States have a...</td>\n",
       "      <td>[Union place limitations]</td>\n",
       "    </tr>\n",
       "    <tr>\n",
       "      <th>3</th>\n",
       "      <td>1972</td>\n",
       "      <td>The United States and the People Republic of ...</td>\n",
       "      <td>[]</td>\n",
       "    </tr>\n",
       "    <tr>\n",
       "      <th>4</th>\n",
       "      <td>1972</td>\n",
       "      <td>The United Kingdom, France, the Soviet Union ...</td>\n",
       "      <td>[]</td>\n",
       "    </tr>\n",
       "  </tbody>\n",
       "</table>\n",
       "</div>"
      ],
      "text/plain": [
       "   Year  ...                     Output\n",
       "0  1972  ...      [world make advances]\n",
       "1  1972  ...                         []\n",
       "2  1972  ...  [Union place limitations]\n",
       "3  1972  ...                         []\n",
       "4  1972  ...                         []\n",
       "\n",
       "[5 rows x 3 columns]"
      ]
     },
     "execution_count": 45,
     "metadata": {
      "tags": []
     },
     "output_type": "execute_result"
    }
   ],
   "source": [
    "# first 5 rows\n",
    "df_rule3.head()"
   ]
  },
  {
   "cell_type": "code",
   "execution_count": 46,
   "metadata": {
    "colab": {},
    "colab_type": "code",
    "executionInfo": {
     "elapsed": 11545,
     "status": "ok",
     "timestamp": 1598968059883,
     "user": {
      "displayName": "Aishwarya Singh",
      "photoUrl": "https://lh3.googleusercontent.com/a-/AOh14GgeJwfn4BdBDCAplWi_kdtB9FRssOpXO7T_aMgg=s64",
      "userId": "01105858832371513140"
     },
     "user_tz": -330
    },
    "id": "VHKMnqb51HUC"
   },
   "outputs": [],
   "source": [
    "# selecting non-empty output rows\n",
    "df_show = pd.DataFrame(columns=df_rule3.columns)\n",
    "\n",
    "for row in range(len(df_rule3)):\n",
    "    \n",
    "    if len(df_rule3.loc[row,'Output'])!=0:\n",
    "        df_show = df_show.append(df_rule3.loc[row,:])\n",
    "\n",
    "# reset the index\n",
    "df_show.reset_index(inplace=True, drop=True)"
   ]
  },
  {
   "cell_type": "code",
   "execution_count": 47,
   "metadata": {
    "colab": {
     "base_uri": "https://localhost:8080/",
     "height": 206
    },
    "colab_type": "code",
    "executionInfo": {
     "elapsed": 2160,
     "status": "ok",
     "timestamp": 1598968059888,
     "user": {
      "displayName": "Aishwarya Singh",
      "photoUrl": "https://lh3.googleusercontent.com/a-/AOh14GgeJwfn4BdBDCAplWi_kdtB9FRssOpXO7T_aMgg=s64",
      "userId": "01105858832371513140"
     },
     "user_tz": -330
    },
    "id": "ZJHHF2HR1t4-",
    "outputId": "b37fffaa-c94f-4a43-9eaf-1c34ba596d4f"
   },
   "outputs": [
    {
     "data": {
      "text/html": [
       "<div>\n",
       "<style scoped>\n",
       "    .dataframe tbody tr th:only-of-type {\n",
       "        vertical-align: middle;\n",
       "    }\n",
       "\n",
       "    .dataframe tbody tr th {\n",
       "        vertical-align: top;\n",
       "    }\n",
       "\n",
       "    .dataframe thead th {\n",
       "        text-align: right;\n",
       "    }\n",
       "</style>\n",
       "<table border=\"1\" class=\"dataframe\">\n",
       "  <thead>\n",
       "    <tr style=\"text-align: right;\">\n",
       "      <th></th>\n",
       "      <th>Year</th>\n",
       "      <th>Sentence</th>\n",
       "      <th>Output</th>\n",
       "    </tr>\n",
       "  </thead>\n",
       "  <tbody>\n",
       "    <tr>\n",
       "      <th>0</th>\n",
       "      <td>1972</td>\n",
       "      <td>During the past few years the world has made r...</td>\n",
       "      <td>[world make advances]</td>\n",
       "    </tr>\n",
       "    <tr>\n",
       "      <th>1</th>\n",
       "      <td>1972</td>\n",
       "      <td>The Soviet Union and the United States have a...</td>\n",
       "      <td>[Union place limitations]</td>\n",
       "    </tr>\n",
       "    <tr>\n",
       "      <th>2</th>\n",
       "      <td>1972</td>\n",
       "      <td>The Federal Republic of Germany and the Germa...</td>\n",
       "      <td>[Republic open negotiations]</td>\n",
       "    </tr>\n",
       "    <tr>\n",
       "      <th>3</th>\n",
       "      <td>1972</td>\n",
       "      <td>And North and South Korea have intensified th...</td>\n",
       "      <td>[Korea intensify talks]</td>\n",
       "    </tr>\n",
       "    <tr>\n",
       "      <th>4</th>\n",
       "      <td>1972</td>\n",
       "      <td>If continued, this process will in time find ...</td>\n",
       "      <td>[process find reflection]</td>\n",
       "    </tr>\n",
       "  </tbody>\n",
       "</table>\n",
       "</div>"
      ],
      "text/plain": [
       "   Year  ...                        Output\n",
       "0  1972  ...         [world make advances]\n",
       "1  1972  ...     [Union place limitations]\n",
       "2  1972  ...  [Republic open negotiations]\n",
       "3  1972  ...       [Korea intensify talks]\n",
       "4  1972  ...     [process find reflection]\n",
       "\n",
       "[5 rows x 3 columns]"
      ]
     },
     "execution_count": 47,
     "metadata": {
      "tags": []
     },
     "output_type": "execute_result"
    }
   ],
   "source": [
    "df_show.head()"
   ]
  },
  {
   "cell_type": "code",
   "execution_count": 48,
   "metadata": {
    "colab": {
     "base_uri": "https://localhost:8080/",
     "height": 34
    },
    "colab_type": "code",
    "executionInfo": {
     "elapsed": 1574,
     "status": "ok",
     "timestamp": 1598968081974,
     "user": {
      "displayName": "Aishwarya Singh",
      "photoUrl": "https://lh3.googleusercontent.com/a-/AOh14GgeJwfn4BdBDCAplWi_kdtB9FRssOpXO7T_aMgg=s64",
      "userId": "01105858832371513140"
     },
     "user_tz": -330
    },
    "id": "GAmOjGIeVJ7C",
    "outputId": "c64bb792-a3d2-4d2c-98a2-ec0b5f6ba54e"
   },
   "outputs": [
    {
     "data": {
      "text/plain": [
       "(3364, 3)"
      ]
     },
     "execution_count": 48,
     "metadata": {
      "tags": []
     },
     "output_type": "execute_result"
    }
   ],
   "source": [
    "# number of outputs\n",
    "df_show.shape"
   ]
  },
  {
   "cell_type": "code",
   "execution_count": 49,
   "metadata": {
    "colab": {},
    "colab_type": "code",
    "executionInfo": {
     "elapsed": 3904,
     "status": "ok",
     "timestamp": 1598968138970,
     "user": {
      "displayName": "Aishwarya Singh",
      "photoUrl": "https://lh3.googleusercontent.com/a-/AOh14GgeJwfn4BdBDCAplWi_kdtB9FRssOpXO7T_aMgg=s64",
      "userId": "01105858832371513140"
     },
     "user_tz": -330
    },
    "id": "PiG_eeAe1vVM"
   },
   "outputs": [],
   "source": [
    "# separate subject, verb and object\n",
    "\n",
    "verb_dict = dict()\n",
    "dis_dict = dict()\n",
    "dis_list = []\n",
    "\n",
    "# iterating over all the sentences\n",
    "for i in range(len(df_show)):\n",
    "    \n",
    "    # sentence containing the output\n",
    "    sentence = df_show.loc[i,'Sentence']\n",
    "    # year of the sentence\n",
    "    year = df_show.loc[i,'Year']\n",
    "    # output of the sentence\n",
    "    output = df_show.loc[i,'Output']\n",
    "    \n",
    "    # iterating over all the outputs from the sentence\n",
    "    for sent in output:\n",
    "        \n",
    "        # separate subject, verb and object\n",
    "        n1, v, n2 = sent.split()[:1], sent.split()[1], sent.split()[2:]\n",
    "        \n",
    "        # append to list, along with the sentence\n",
    "        dis_dict = {'Sentence':sentence,'Year':year,'Noun1':n1,'Verb':v,'Noun2':n2}\n",
    "        dis_list.append(dis_dict)\n",
    "        \n",
    "        # counting the number of sentences containing the verb\n",
    "        verb = sent.split()[1]\n",
    "        if verb in verb_dict:\n",
    "            verb_dict[verb]+=1\n",
    "        else:\n",
    "            verb_dict[verb]=1\n",
    "\n",
    "df_sep = pd.DataFrame(dis_list)"
   ]
  },
  {
   "cell_type": "code",
   "execution_count": 50,
   "metadata": {
    "colab": {
     "base_uri": "https://localhost:8080/",
     "height": 206
    },
    "colab_type": "code",
    "executionInfo": {
     "elapsed": 2470,
     "status": "ok",
     "timestamp": 1598968146815,
     "user": {
      "displayName": "Aishwarya Singh",
      "photoUrl": "https://lh3.googleusercontent.com/a-/AOh14GgeJwfn4BdBDCAplWi_kdtB9FRssOpXO7T_aMgg=s64",
      "userId": "01105858832371513140"
     },
     "user_tz": -330
    },
    "id": "fcplF-Ol2NG4",
    "outputId": "642b8225-8e40-4f5c-8f79-83ca6f42a01e"
   },
   "outputs": [
    {
     "data": {
      "text/html": [
       "<div>\n",
       "<style scoped>\n",
       "    .dataframe tbody tr th:only-of-type {\n",
       "        vertical-align: middle;\n",
       "    }\n",
       "\n",
       "    .dataframe tbody tr th {\n",
       "        vertical-align: top;\n",
       "    }\n",
       "\n",
       "    .dataframe thead th {\n",
       "        text-align: right;\n",
       "    }\n",
       "</style>\n",
       "<table border=\"1\" class=\"dataframe\">\n",
       "  <thead>\n",
       "    <tr style=\"text-align: right;\">\n",
       "      <th></th>\n",
       "      <th>Sentence</th>\n",
       "      <th>Year</th>\n",
       "      <th>Noun1</th>\n",
       "      <th>Verb</th>\n",
       "      <th>Noun2</th>\n",
       "    </tr>\n",
       "  </thead>\n",
       "  <tbody>\n",
       "    <tr>\n",
       "      <th>0</th>\n",
       "      <td>During the past few years the world has made r...</td>\n",
       "      <td>1972</td>\n",
       "      <td>[world]</td>\n",
       "      <td>make</td>\n",
       "      <td>[advances]</td>\n",
       "    </tr>\n",
       "    <tr>\n",
       "      <th>1</th>\n",
       "      <td>The Soviet Union and the United States have a...</td>\n",
       "      <td>1972</td>\n",
       "      <td>[Union]</td>\n",
       "      <td>place</td>\n",
       "      <td>[limitations]</td>\n",
       "    </tr>\n",
       "    <tr>\n",
       "      <th>2</th>\n",
       "      <td>The Federal Republic of Germany and the Germa...</td>\n",
       "      <td>1972</td>\n",
       "      <td>[Republic]</td>\n",
       "      <td>open</td>\n",
       "      <td>[negotiations]</td>\n",
       "    </tr>\n",
       "    <tr>\n",
       "      <th>3</th>\n",
       "      <td>And North and South Korea have intensified th...</td>\n",
       "      <td>1972</td>\n",
       "      <td>[Korea]</td>\n",
       "      <td>intensify</td>\n",
       "      <td>[talks]</td>\n",
       "    </tr>\n",
       "    <tr>\n",
       "      <th>4</th>\n",
       "      <td>If continued, this process will in time find ...</td>\n",
       "      <td>1972</td>\n",
       "      <td>[process]</td>\n",
       "      <td>find</td>\n",
       "      <td>[reflection]</td>\n",
       "    </tr>\n",
       "  </tbody>\n",
       "</table>\n",
       "</div>"
      ],
      "text/plain": [
       "                                            Sentence  ...           Noun2\n",
       "0  During the past few years the world has made r...  ...      [advances]\n",
       "1   The Soviet Union and the United States have a...  ...   [limitations]\n",
       "2   The Federal Republic of Germany and the Germa...  ...  [negotiations]\n",
       "3   And North and South Korea have intensified th...  ...         [talks]\n",
       "4   If continued, this process will in time find ...  ...    [reflection]\n",
       "\n",
       "[5 rows x 5 columns]"
      ]
     },
     "execution_count": 50,
     "metadata": {
      "tags": []
     },
     "output_type": "execute_result"
    }
   ],
   "source": [
    "# first 5 rows\n",
    "df_sep.head()"
   ]
  },
  {
   "cell_type": "code",
   "execution_count": 51,
   "metadata": {
    "colab": {
     "base_uri": "https://localhost:8080/",
     "height": 208
    },
    "colab_type": "code",
    "executionInfo": {
     "elapsed": 2887,
     "status": "ok",
     "timestamp": 1598968172398,
     "user": {
      "displayName": "Aishwarya Singh",
      "photoUrl": "https://lh3.googleusercontent.com/a-/AOh14GgeJwfn4BdBDCAplWi_kdtB9FRssOpXO7T_aMgg=s64",
      "userId": "01105858832371513140"
     },
     "user_tz": -330
    },
    "id": "7r_Oo1aI2OF6",
    "outputId": "329e8e2f-fc81-46e8-9e3f-410fbcdc6118"
   },
   "outputs": [
    {
     "data": {
      "text/plain": [
       "take       143\n",
       "make       119\n",
       "support     91\n",
       "give        79\n",
       "see         78\n",
       "face        55\n",
       "seek        52\n",
       "build       50\n",
       "pursue      48\n",
       "require     45\n",
       "Name: Verb, dtype: int64"
      ]
     },
     "execution_count": 51,
     "metadata": {
      "tags": []
     },
     "output_type": "execute_result"
    }
   ],
   "source": [
    "# top 10 verbs\n",
    "df_sep['Verb'].value_counts()[:10]"
   ]
  },
  {
   "cell_type": "code",
   "execution_count": 52,
   "metadata": {
    "colab": {
     "base_uri": "https://localhost:8080/",
     "height": 520
    },
    "colab_type": "code",
    "executionInfo": {
     "elapsed": 3245,
     "status": "ok",
     "timestamp": 1598968203637,
     "user": {
      "displayName": "Aishwarya Singh",
      "photoUrl": "https://lh3.googleusercontent.com/a-/AOh14GgeJwfn4BdBDCAplWi_kdtB9FRssOpXO7T_aMgg=s64",
      "userId": "01105858832371513140"
     },
     "user_tz": -330
    },
    "id": "61CCVW572Xjs",
    "outputId": "39efd229-5c2a-405e-bde0-6c2b273c1856"
   },
   "outputs": [
    {
     "data": {
      "text/html": [
       "<div>\n",
       "<style scoped>\n",
       "    .dataframe tbody tr th:only-of-type {\n",
       "        vertical-align: middle;\n",
       "    }\n",
       "\n",
       "    .dataframe tbody tr th {\n",
       "        vertical-align: top;\n",
       "    }\n",
       "\n",
       "    .dataframe thead th {\n",
       "        text-align: right;\n",
       "    }\n",
       "</style>\n",
       "<table border=\"1\" class=\"dataframe\">\n",
       "  <thead>\n",
       "    <tr style=\"text-align: right;\">\n",
       "      <th></th>\n",
       "      <th>Sentence</th>\n",
       "      <th>Year</th>\n",
       "      <th>Noun1</th>\n",
       "      <th>Verb</th>\n",
       "      <th>Noun2</th>\n",
       "    </tr>\n",
       "  </thead>\n",
       "  <tbody>\n",
       "    <tr>\n",
       "      <th>14</th>\n",
       "      <td>And, in recognition of the importance of trad...</td>\n",
       "      <td>1972</td>\n",
       "      <td>[we]</td>\n",
       "      <td>support</td>\n",
       "      <td>[participation]</td>\n",
       "    </tr>\n",
       "    <tr>\n",
       "      <th>29</th>\n",
       "      <td>From the start the United States has supporte...</td>\n",
       "      <td>1972</td>\n",
       "      <td>[States]</td>\n",
       "      <td>support</td>\n",
       "      <td>[effort]</td>\n",
       "    </tr>\n",
       "    <tr>\n",
       "      <th>67</th>\n",
       "      <td>As we support the historic growth of democra...</td>\n",
       "      <td>1992</td>\n",
       "      <td>[we]</td>\n",
       "      <td>support</td>\n",
       "      <td>[growth]</td>\n",
       "    </tr>\n",
       "    <tr>\n",
       "      <th>79</th>\n",
       "      <td>We fully support the efforts of  the North At...</td>\n",
       "      <td>1992</td>\n",
       "      <td>[We]</td>\n",
       "      <td>support</td>\n",
       "      <td>[efforts]</td>\n",
       "    </tr>\n",
       "    <tr>\n",
       "      <th>151</th>\n",
       "      <td>That is why we have supported the efforts of ...</td>\n",
       "      <td>1999</td>\n",
       "      <td>[we]</td>\n",
       "      <td>support</td>\n",
       "      <td>[efforts]</td>\n",
       "    </tr>\n",
       "    <tr>\n",
       "      <th>172</th>\n",
       "      <td>As I think most Members know, I have strongly...</td>\n",
       "      <td>1999</td>\n",
       "      <td>[I]</td>\n",
       "      <td>support</td>\n",
       "      <td>[States]</td>\n",
       "    </tr>\n",
       "    <tr>\n",
       "      <th>245</th>\n",
       "      <td>The United States supports political and econ...</td>\n",
       "      <td>2002</td>\n",
       "      <td>[States]</td>\n",
       "      <td>support</td>\n",
       "      <td>[liberty]</td>\n",
       "    </tr>\n",
       "    <tr>\n",
       "      <th>265</th>\n",
       "      <td>Those names include a man who supported his w...</td>\n",
       "      <td>2001</td>\n",
       "      <td>[who]</td>\n",
       "      <td>support</td>\n",
       "      <td>[wife]</td>\n",
       "    </tr>\n",
       "    <tr>\n",
       "      <th>372</th>\n",
       "      <td>The United States strongly supports his leade...</td>\n",
       "      <td>1997</td>\n",
       "      <td>[States]</td>\n",
       "      <td>support</td>\n",
       "      <td>[leadership]</td>\n",
       "    </tr>\n",
       "    <tr>\n",
       "      <th>389</th>\n",
       "      <td>We must support the principles of non interve...</td>\n",
       "      <td>1980</td>\n",
       "      <td>[We]</td>\n",
       "      <td>support</td>\n",
       "      <td>[principles]</td>\n",
       "    </tr>\n",
       "    <tr>\n",
       "      <th>392</th>\n",
       "      <td>We strongly support the basis for a settlemen...</td>\n",
       "      <td>1980</td>\n",
       "      <td>[We]</td>\n",
       "      <td>support</td>\n",
       "      <td>[basis]</td>\n",
       "    </tr>\n",
       "    <tr>\n",
       "      <th>421</th>\n",
       "      <td>Sixthly, we support the effort of the newly e...</td>\n",
       "      <td>1980</td>\n",
       "      <td>[we]</td>\n",
       "      <td>support</td>\n",
       "      <td>[effort]</td>\n",
       "    </tr>\n",
       "    <tr>\n",
       "      <th>422</th>\n",
       "      <td>Sixthly, we support the effort of the newly e...</td>\n",
       "      <td>1980</td>\n",
       "      <td>[We]</td>\n",
       "      <td>support</td>\n",
       "      <td>[work]</td>\n",
       "    </tr>\n",
       "    <tr>\n",
       "      <th>424</th>\n",
       "      <td>We firmly support efforts, therefore, to redu...</td>\n",
       "      <td>1980</td>\n",
       "      <td>[We]</td>\n",
       "      <td>support</td>\n",
       "      <td>[efforts]</td>\n",
       "    </tr>\n",
       "    <tr>\n",
       "      <th>441</th>\n",
       "      <td>This is why my nation supports the growth of ...</td>\n",
       "      <td>1980</td>\n",
       "      <td>[nation]</td>\n",
       "      <td>support</td>\n",
       "      <td>[growth]</td>\n",
       "    </tr>\n",
       "  </tbody>\n",
       "</table>\n",
       "</div>"
      ],
      "text/plain": [
       "                                              Sentence  ...            Noun2\n",
       "14    And, in recognition of the importance of trad...  ...  [participation]\n",
       "29    From the start the United States has supporte...  ...         [effort]\n",
       "67     As we support the historic growth of democra...  ...         [growth]\n",
       "79    We fully support the efforts of  the North At...  ...        [efforts]\n",
       "151   That is why we have supported the efforts of ...  ...        [efforts]\n",
       "172   As I think most Members know, I have strongly...  ...         [States]\n",
       "245   The United States supports political and econ...  ...        [liberty]\n",
       "265   Those names include a man who supported his w...  ...           [wife]\n",
       "372   The United States strongly supports his leade...  ...     [leadership]\n",
       "389   We must support the principles of non interve...  ...     [principles]\n",
       "392   We strongly support the basis for a settlemen...  ...          [basis]\n",
       "421   Sixthly, we support the effort of the newly e...  ...         [effort]\n",
       "422   Sixthly, we support the effort of the newly e...  ...           [work]\n",
       "424   We firmly support efforts, therefore, to redu...  ...        [efforts]\n",
       "441   This is why my nation supports the growth of ...  ...         [growth]\n",
       "\n",
       "[15 rows x 5 columns]"
      ]
     },
     "execution_count": 52,
     "metadata": {
      "tags": []
     },
     "output_type": "execute_result"
    }
   ],
   "source": [
    "# selecting a verb and looking at its patterns\n",
    "df_sep[df_sep['Verb']=='support'].head(15)"
   ]
  },
  {
   "cell_type": "markdown",
   "metadata": {
    "colab_type": "text",
    "id": "fW7OeQ-12t2N"
   },
   "source": [
    "## 6. Rule 4: Relation Extraction part 2"
   ]
  },
  {
   "cell_type": "markdown",
   "metadata": {
    "colab_type": "text",
    "id": "lXKuLJY3X3Mi"
   },
   "source": [
    "Sample sentences from the dataset:\n",
    "1.  With support from **many countries**, we have made **impressive progress**\n",
    "2.  Because of their **unique expertise** and regional legitimacy, they can be instruments for solving some of the **hardest challenges** we face\n",
    "3.  We are right to aim high and take on the **mightiest tasks**"
   ]
  },
  {
   "cell_type": "code",
   "execution_count": 53,
   "metadata": {
    "colab": {
     "base_uri": "https://localhost:8080/",
     "height": 441
    },
    "colab_type": "code",
    "executionInfo": {
     "elapsed": 1568,
     "status": "ok",
     "timestamp": 1598968341197,
     "user": {
      "displayName": "Aishwarya Singh",
      "photoUrl": "https://lh3.googleusercontent.com/a-/AOh14GgeJwfn4BdBDCAplWi_kdtB9FRssOpXO7T_aMgg=s64",
      "userId": "01105858832371513140"
     },
     "user_tz": -330
    },
    "id": "FBDZRYpXbteD",
    "outputId": "f7a692b9-24c8-4dd3-8ed7-387dde9515de"
   },
   "outputs": [
    {
     "data": {
      "text/html": [
       "<span class=\"tex2jax_ignore\"><svg xmlns=\"http://www.w3.org/2000/svg\" xmlns:xlink=\"http://www.w3.org/1999/xlink\" xml:lang=\"en\" id=\"9518a8c79dde4c3094e57a14351c1ffe-0\" class=\"displacy\" width=\"1800\" height=\"399.5\" direction=\"ltr\" style=\"max-width: none; height: 399.5px; color: #000000; background: #ffffff; font-family: Arial; direction: ltr\">\n",
       "<text class=\"displacy-token\" fill=\"currentColor\" text-anchor=\"middle\" y=\"309.5\">\n",
       "    <tspan class=\"displacy-word\" fill=\"currentColor\" x=\"50\">With</tspan>\n",
       "    <tspan class=\"displacy-tag\" dy=\"2em\" fill=\"currentColor\" x=\"50\">ADP</tspan>\n",
       "</text>\n",
       "\n",
       "<text class=\"displacy-token\" fill=\"currentColor\" text-anchor=\"middle\" y=\"309.5\">\n",
       "    <tspan class=\"displacy-word\" fill=\"currentColor\" x=\"225\">support</tspan>\n",
       "    <tspan class=\"displacy-tag\" dy=\"2em\" fill=\"currentColor\" x=\"225\">NOUN</tspan>\n",
       "</text>\n",
       "\n",
       "<text class=\"displacy-token\" fill=\"currentColor\" text-anchor=\"middle\" y=\"309.5\">\n",
       "    <tspan class=\"displacy-word\" fill=\"currentColor\" x=\"400\">from</tspan>\n",
       "    <tspan class=\"displacy-tag\" dy=\"2em\" fill=\"currentColor\" x=\"400\">ADP</tspan>\n",
       "</text>\n",
       "\n",
       "<text class=\"displacy-token\" fill=\"currentColor\" text-anchor=\"middle\" y=\"309.5\">\n",
       "    <tspan class=\"displacy-word\" fill=\"currentColor\" x=\"575\">many</tspan>\n",
       "    <tspan class=\"displacy-tag\" dy=\"2em\" fill=\"currentColor\" x=\"575\">ADJ</tspan>\n",
       "</text>\n",
       "\n",
       "<text class=\"displacy-token\" fill=\"currentColor\" text-anchor=\"middle\" y=\"309.5\">\n",
       "    <tspan class=\"displacy-word\" fill=\"currentColor\" x=\"750\">countries,</tspan>\n",
       "    <tspan class=\"displacy-tag\" dy=\"2em\" fill=\"currentColor\" x=\"750\">NOUN</tspan>\n",
       "</text>\n",
       "\n",
       "<text class=\"displacy-token\" fill=\"currentColor\" text-anchor=\"middle\" y=\"309.5\">\n",
       "    <tspan class=\"displacy-word\" fill=\"currentColor\" x=\"925\">we</tspan>\n",
       "    <tspan class=\"displacy-tag\" dy=\"2em\" fill=\"currentColor\" x=\"925\">PRON</tspan>\n",
       "</text>\n",
       "\n",
       "<text class=\"displacy-token\" fill=\"currentColor\" text-anchor=\"middle\" y=\"309.5\">\n",
       "    <tspan class=\"displacy-word\" fill=\"currentColor\" x=\"1100\">have</tspan>\n",
       "    <tspan class=\"displacy-tag\" dy=\"2em\" fill=\"currentColor\" x=\"1100\">AUX</tspan>\n",
       "</text>\n",
       "\n",
       "<text class=\"displacy-token\" fill=\"currentColor\" text-anchor=\"middle\" y=\"309.5\">\n",
       "    <tspan class=\"displacy-word\" fill=\"currentColor\" x=\"1275\">made</tspan>\n",
       "    <tspan class=\"displacy-tag\" dy=\"2em\" fill=\"currentColor\" x=\"1275\">VERB</tspan>\n",
       "</text>\n",
       "\n",
       "<text class=\"displacy-token\" fill=\"currentColor\" text-anchor=\"middle\" y=\"309.5\">\n",
       "    <tspan class=\"displacy-word\" fill=\"currentColor\" x=\"1450\">impressive</tspan>\n",
       "    <tspan class=\"displacy-tag\" dy=\"2em\" fill=\"currentColor\" x=\"1450\">ADJ</tspan>\n",
       "</text>\n",
       "\n",
       "<text class=\"displacy-token\" fill=\"currentColor\" text-anchor=\"middle\" y=\"309.5\">\n",
       "    <tspan class=\"displacy-word\" fill=\"currentColor\" x=\"1625\">progress</tspan>\n",
       "    <tspan class=\"displacy-tag\" dy=\"2em\" fill=\"currentColor\" x=\"1625\">NOUN</tspan>\n",
       "</text>\n",
       "\n",
       "<g class=\"displacy-arrow\">\n",
       "    <path class=\"displacy-arc\" id=\"arrow-9518a8c79dde4c3094e57a14351c1ffe-0-0\" stroke-width=\"2px\" d=\"M70,264.5 C70,2.0 1275.0,2.0 1275.0,264.5\" fill=\"none\" stroke=\"currentColor\"/>\n",
       "    <text dy=\"1.25em\" style=\"font-size: 0.8em; letter-spacing: 1px\">\n",
       "        <textPath xlink:href=\"#arrow-9518a8c79dde4c3094e57a14351c1ffe-0-0\" class=\"displacy-label\" startOffset=\"50%\" side=\"left\" fill=\"currentColor\" text-anchor=\"middle\">prep</textPath>\n",
       "    </text>\n",
       "    <path class=\"displacy-arrowhead\" d=\"M70,266.5 L62,254.5 78,254.5\" fill=\"currentColor\"/>\n",
       "</g>\n",
       "\n",
       "<g class=\"displacy-arrow\">\n",
       "    <path class=\"displacy-arc\" id=\"arrow-9518a8c79dde4c3094e57a14351c1ffe-0-1\" stroke-width=\"2px\" d=\"M70,264.5 C70,177.0 215.0,177.0 215.0,264.5\" fill=\"none\" stroke=\"currentColor\"/>\n",
       "    <text dy=\"1.25em\" style=\"font-size: 0.8em; letter-spacing: 1px\">\n",
       "        <textPath xlink:href=\"#arrow-9518a8c79dde4c3094e57a14351c1ffe-0-1\" class=\"displacy-label\" startOffset=\"50%\" side=\"left\" fill=\"currentColor\" text-anchor=\"middle\">pobj</textPath>\n",
       "    </text>\n",
       "    <path class=\"displacy-arrowhead\" d=\"M215.0,266.5 L223.0,254.5 207.0,254.5\" fill=\"currentColor\"/>\n",
       "</g>\n",
       "\n",
       "<g class=\"displacy-arrow\">\n",
       "    <path class=\"displacy-arc\" id=\"arrow-9518a8c79dde4c3094e57a14351c1ffe-0-2\" stroke-width=\"2px\" d=\"M245,264.5 C245,177.0 390.0,177.0 390.0,264.5\" fill=\"none\" stroke=\"currentColor\"/>\n",
       "    <text dy=\"1.25em\" style=\"font-size: 0.8em; letter-spacing: 1px\">\n",
       "        <textPath xlink:href=\"#arrow-9518a8c79dde4c3094e57a14351c1ffe-0-2\" class=\"displacy-label\" startOffset=\"50%\" side=\"left\" fill=\"currentColor\" text-anchor=\"middle\">prep</textPath>\n",
       "    </text>\n",
       "    <path class=\"displacy-arrowhead\" d=\"M390.0,266.5 L398.0,254.5 382.0,254.5\" fill=\"currentColor\"/>\n",
       "</g>\n",
       "\n",
       "<g class=\"displacy-arrow\">\n",
       "    <path class=\"displacy-arc\" id=\"arrow-9518a8c79dde4c3094e57a14351c1ffe-0-3\" stroke-width=\"2px\" d=\"M595,264.5 C595,177.0 740.0,177.0 740.0,264.5\" fill=\"none\" stroke=\"currentColor\"/>\n",
       "    <text dy=\"1.25em\" style=\"font-size: 0.8em; letter-spacing: 1px\">\n",
       "        <textPath xlink:href=\"#arrow-9518a8c79dde4c3094e57a14351c1ffe-0-3\" class=\"displacy-label\" startOffset=\"50%\" side=\"left\" fill=\"currentColor\" text-anchor=\"middle\">amod</textPath>\n",
       "    </text>\n",
       "    <path class=\"displacy-arrowhead\" d=\"M595,266.5 L587,254.5 603,254.5\" fill=\"currentColor\"/>\n",
       "</g>\n",
       "\n",
       "<g class=\"displacy-arrow\">\n",
       "    <path class=\"displacy-arc\" id=\"arrow-9518a8c79dde4c3094e57a14351c1ffe-0-4\" stroke-width=\"2px\" d=\"M420,264.5 C420,89.5 745.0,89.5 745.0,264.5\" fill=\"none\" stroke=\"currentColor\"/>\n",
       "    <text dy=\"1.25em\" style=\"font-size: 0.8em; letter-spacing: 1px\">\n",
       "        <textPath xlink:href=\"#arrow-9518a8c79dde4c3094e57a14351c1ffe-0-4\" class=\"displacy-label\" startOffset=\"50%\" side=\"left\" fill=\"currentColor\" text-anchor=\"middle\">pobj</textPath>\n",
       "    </text>\n",
       "    <path class=\"displacy-arrowhead\" d=\"M745.0,266.5 L753.0,254.5 737.0,254.5\" fill=\"currentColor\"/>\n",
       "</g>\n",
       "\n",
       "<g class=\"displacy-arrow\">\n",
       "    <path class=\"displacy-arc\" id=\"arrow-9518a8c79dde4c3094e57a14351c1ffe-0-5\" stroke-width=\"2px\" d=\"M945,264.5 C945,89.5 1270.0,89.5 1270.0,264.5\" fill=\"none\" stroke=\"currentColor\"/>\n",
       "    <text dy=\"1.25em\" style=\"font-size: 0.8em; letter-spacing: 1px\">\n",
       "        <textPath xlink:href=\"#arrow-9518a8c79dde4c3094e57a14351c1ffe-0-5\" class=\"displacy-label\" startOffset=\"50%\" side=\"left\" fill=\"currentColor\" text-anchor=\"middle\">nsubj</textPath>\n",
       "    </text>\n",
       "    <path class=\"displacy-arrowhead\" d=\"M945,266.5 L937,254.5 953,254.5\" fill=\"currentColor\"/>\n",
       "</g>\n",
       "\n",
       "<g class=\"displacy-arrow\">\n",
       "    <path class=\"displacy-arc\" id=\"arrow-9518a8c79dde4c3094e57a14351c1ffe-0-6\" stroke-width=\"2px\" d=\"M1120,264.5 C1120,177.0 1265.0,177.0 1265.0,264.5\" fill=\"none\" stroke=\"currentColor\"/>\n",
       "    <text dy=\"1.25em\" style=\"font-size: 0.8em; letter-spacing: 1px\">\n",
       "        <textPath xlink:href=\"#arrow-9518a8c79dde4c3094e57a14351c1ffe-0-6\" class=\"displacy-label\" startOffset=\"50%\" side=\"left\" fill=\"currentColor\" text-anchor=\"middle\">aux</textPath>\n",
       "    </text>\n",
       "    <path class=\"displacy-arrowhead\" d=\"M1120,266.5 L1112,254.5 1128,254.5\" fill=\"currentColor\"/>\n",
       "</g>\n",
       "\n",
       "<g class=\"displacy-arrow\">\n",
       "    <path class=\"displacy-arc\" id=\"arrow-9518a8c79dde4c3094e57a14351c1ffe-0-7\" stroke-width=\"2px\" d=\"M1470,264.5 C1470,177.0 1615.0,177.0 1615.0,264.5\" fill=\"none\" stroke=\"currentColor\"/>\n",
       "    <text dy=\"1.25em\" style=\"font-size: 0.8em; letter-spacing: 1px\">\n",
       "        <textPath xlink:href=\"#arrow-9518a8c79dde4c3094e57a14351c1ffe-0-7\" class=\"displacy-label\" startOffset=\"50%\" side=\"left\" fill=\"currentColor\" text-anchor=\"middle\">amod</textPath>\n",
       "    </text>\n",
       "    <path class=\"displacy-arrowhead\" d=\"M1470,266.5 L1462,254.5 1478,254.5\" fill=\"currentColor\"/>\n",
       "</g>\n",
       "\n",
       "<g class=\"displacy-arrow\">\n",
       "    <path class=\"displacy-arc\" id=\"arrow-9518a8c79dde4c3094e57a14351c1ffe-0-8\" stroke-width=\"2px\" d=\"M1295,264.5 C1295,89.5 1620.0,89.5 1620.0,264.5\" fill=\"none\" stroke=\"currentColor\"/>\n",
       "    <text dy=\"1.25em\" style=\"font-size: 0.8em; letter-spacing: 1px\">\n",
       "        <textPath xlink:href=\"#arrow-9518a8c79dde4c3094e57a14351c1ffe-0-8\" class=\"displacy-label\" startOffset=\"50%\" side=\"left\" fill=\"currentColor\" text-anchor=\"middle\">dobj</textPath>\n",
       "    </text>\n",
       "    <path class=\"displacy-arrowhead\" d=\"M1620.0,266.5 L1628.0,254.5 1612.0,254.5\" fill=\"currentColor\"/>\n",
       "</g>\n",
       "</svg></span>"
      ],
      "text/plain": [
       "<IPython.core.display.HTML object>"
      ]
     },
     "metadata": {
      "tags": []
     },
     "output_type": "display_data"
    }
   ],
   "source": [
    "from spacy import displacy \n",
    "displacy.render(nlp(\"With support from many countries, we have made impressive progress\"), style='dep',jupyter=True)"
   ]
  },
  {
   "cell_type": "code",
   "execution_count": 54,
   "metadata": {
    "colab": {},
    "colab_type": "code",
    "executionInfo": {
     "elapsed": 2764,
     "status": "ok",
     "timestamp": 1598968495096,
     "user": {
      "displayName": "Aishwarya Singh",
      "photoUrl": "https://lh3.googleusercontent.com/a-/AOh14GgeJwfn4BdBDCAplWi_kdtB9FRssOpXO7T_aMgg=s64",
      "userId": "01105858832371513140"
     },
     "user_tz": -330
    },
    "id": "iz7_eAcY2jh6"
   },
   "outputs": [],
   "source": [
    "# function for rule 4\n",
    "def rule4(text):\n",
    "    \n",
    "    doc = nlp(text)\n",
    "\n",
    "    pat = []\n",
    "    \n",
    "    # iterate over tokens\n",
    "    for token in doc:\n",
    "        phrase = ''\n",
    "        # if the word is a subject noun or an object noun\n",
    "        if (token.pos_ == 'NOUN')\\\n",
    "            and (token.dep_ in ['dobj','pobj','nsubj','nsubjpass']):\n",
    "            \n",
    "            # iterate over the children nodes\n",
    "            for subtoken in token.children:\n",
    "                # if word is an adjective or has a compound dependency\n",
    "                if (subtoken.pos_ == 'ADJ') or (subtoken.dep_ == 'compound'):\n",
    "                    phrase += subtoken.text + ' '\n",
    "                    \n",
    "            if len(phrase)!=0:\n",
    "                phrase += token.text\n",
    "             \n",
    "        if  len(phrase)!=0:\n",
    "            pat.append(phrase)\n",
    "        \n",
    "    \n",
    "    return pat"
   ]
  },
  {
   "cell_type": "code",
   "execution_count": 55,
   "metadata": {
    "colab": {},
    "colab_type": "code",
    "executionInfo": {
     "elapsed": 65843,
     "status": "ok",
     "timestamp": 1598968570466,
     "user": {
      "displayName": "Aishwarya Singh",
      "photoUrl": "https://lh3.googleusercontent.com/a-/AOh14GgeJwfn4BdBDCAplWi_kdtB9FRssOpXO7T_aMgg=s64",
      "userId": "01105858832371513140"
     },
     "user_tz": -330
    },
    "id": "ESJ7wtER28BP"
   },
   "outputs": [],
   "source": [
    "# create a df containing sentence and its output for rule 4\n",
    "row_list = []\n",
    "\n",
    "for i in range(len(df2)):\n",
    "    \n",
    "    sent = df2.loc[i,'Sentence']\n",
    "    year = df2.loc[i,'Year']\n",
    "    # rule\n",
    "    output = rule4(sent)\n",
    "    \n",
    "    dict1 = {'Year':year,'Sentence':sent,'Output':output}\n",
    "    row_list.append(dict1)\n",
    "\n",
    "df_rule4 = pd.DataFrame(row_list)"
   ]
  },
  {
   "cell_type": "code",
   "execution_count": 56,
   "metadata": {
    "colab": {
     "base_uri": "https://localhost:8080/",
     "height": 206
    },
    "colab_type": "code",
    "executionInfo": {
     "elapsed": 64018,
     "status": "ok",
     "timestamp": 1598968570471,
     "user": {
      "displayName": "Aishwarya Singh",
      "photoUrl": "https://lh3.googleusercontent.com/a-/AOh14GgeJwfn4BdBDCAplWi_kdtB9FRssOpXO7T_aMgg=s64",
      "userId": "01105858832371513140"
     },
     "user_tz": -330
    },
    "id": "03UelvYc3D79",
    "outputId": "9009f710-cf53-48b5-b7e7-c4c8f9b8d716"
   },
   "outputs": [
    {
     "data": {
      "text/html": [
       "<div>\n",
       "<style scoped>\n",
       "    .dataframe tbody tr th:only-of-type {\n",
       "        vertical-align: middle;\n",
       "    }\n",
       "\n",
       "    .dataframe tbody tr th {\n",
       "        vertical-align: top;\n",
       "    }\n",
       "\n",
       "    .dataframe thead th {\n",
       "        text-align: right;\n",
       "    }\n",
       "</style>\n",
       "<table border=\"1\" class=\"dataframe\">\n",
       "  <thead>\n",
       "    <tr style=\"text-align: right;\">\n",
       "      <th></th>\n",
       "      <th>Year</th>\n",
       "      <th>Sentence</th>\n",
       "      <th>Output</th>\n",
       "    </tr>\n",
       "  </thead>\n",
       "  <tbody>\n",
       "    <tr>\n",
       "      <th>0</th>\n",
       "      <td>1972</td>\n",
       "      <td>During the past few years the world has made r...</td>\n",
       "      <td>[past few years, remarkable advances, Charter ...</td>\n",
       "    </tr>\n",
       "    <tr>\n",
       "      <th>1</th>\n",
       "      <td>1972</td>\n",
       "      <td>In 1972 alone, the United States and the Sovi...</td>\n",
       "      <td>[military confrontations, sovereign equality, ...</td>\n",
       "    </tr>\n",
       "    <tr>\n",
       "      <th>2</th>\n",
       "      <td>1972</td>\n",
       "      <td>The Soviet Union and the United States have a...</td>\n",
       "      <td>[precise limitations, next years, offensive mi...</td>\n",
       "    </tr>\n",
       "    <tr>\n",
       "      <th>3</th>\n",
       "      <td>1972</td>\n",
       "      <td>The United States and the People Republic of ...</td>\n",
       "      <td>[]</td>\n",
       "    </tr>\n",
       "    <tr>\n",
       "      <th>4</th>\n",
       "      <td>1972</td>\n",
       "      <td>The United Kingdom, France, the Soviet Union ...</td>\n",
       "      <td>[specific provisions, unimpeded movement]</td>\n",
       "    </tr>\n",
       "  </tbody>\n",
       "</table>\n",
       "</div>"
      ],
      "text/plain": [
       "   Year  ...                                             Output\n",
       "0  1972  ...  [past few years, remarkable advances, Charter ...\n",
       "1  1972  ...  [military confrontations, sovereign equality, ...\n",
       "2  1972  ...  [precise limitations, next years, offensive mi...\n",
       "3  1972  ...                                                 []\n",
       "4  1972  ...          [specific provisions, unimpeded movement]\n",
       "\n",
       "[5 rows x 3 columns]"
      ]
     },
     "execution_count": 56,
     "metadata": {
      "tags": []
     },
     "output_type": "execute_result"
    }
   ],
   "source": [
    "# first 5 rows\n",
    "df_rule4.head()"
   ]
  },
  {
   "cell_type": "code",
   "execution_count": 57,
   "metadata": {
    "colab": {},
    "colab_type": "code",
    "executionInfo": {
     "elapsed": 21321,
     "status": "ok",
     "timestamp": 1598968633186,
     "user": {
      "displayName": "Aishwarya Singh",
      "photoUrl": "https://lh3.googleusercontent.com/a-/AOh14GgeJwfn4BdBDCAplWi_kdtB9FRssOpXO7T_aMgg=s64",
      "userId": "01105858832371513140"
     },
     "user_tz": -330
    },
    "id": "nDXblIeT3GPZ"
   },
   "outputs": [],
   "source": [
    "# selecting non-empty outputs\n",
    "df_show = pd.DataFrame(columns=df_rule4.columns)\n",
    "\n",
    "for row in range(len(df_rule4)):\n",
    "    \n",
    "    if len(df_rule4.loc[row,'Output'])!=0:\n",
    "        df_show = df_show.append(df_rule4.loc[row,:])\n",
    "\n",
    "# reset the index\n",
    "df_show.reset_index(inplace=True, drop=True)"
   ]
  },
  {
   "cell_type": "code",
   "execution_count": 58,
   "metadata": {
    "colab": {
     "base_uri": "https://localhost:8080/",
     "height": 34
    },
    "colab_type": "code",
    "executionInfo": {
     "elapsed": 16544,
     "status": "ok",
     "timestamp": 1598968633192,
     "user": {
      "displayName": "Aishwarya Singh",
      "photoUrl": "https://lh3.googleusercontent.com/a-/AOh14GgeJwfn4BdBDCAplWi_kdtB9FRssOpXO7T_aMgg=s64",
      "userId": "01105858832371513140"
     },
     "user_tz": -330
    },
    "id": "bMvEkhp2fQr2",
    "outputId": "89e2c3c6-60d4-43d7-a1b8-5c6a3342956f"
   },
   "outputs": [
    {
     "data": {
      "text/plain": [
       "(6167, 3)"
      ]
     },
     "execution_count": 58,
     "metadata": {
      "tags": []
     },
     "output_type": "execute_result"
    }
   ],
   "source": [
    "# number of matches \n",
    "df_show.shape"
   ]
  },
  {
   "cell_type": "code",
   "execution_count": 59,
   "metadata": {
    "colab": {
     "base_uri": "https://localhost:8080/",
     "height": 520
    },
    "colab_type": "code",
    "executionInfo": {
     "elapsed": 15152,
     "status": "ok",
     "timestamp": 1598968633195,
     "user": {
      "displayName": "Aishwarya Singh",
      "photoUrl": "https://lh3.googleusercontent.com/a-/AOh14GgeJwfn4BdBDCAplWi_kdtB9FRssOpXO7T_aMgg=s64",
      "userId": "01105858832371513140"
     },
     "user_tz": -330
    },
    "id": "JDDUKk_03P-z",
    "outputId": "0cc8d663-5671-486a-f5e1-3c09d32d44a3"
   },
   "outputs": [
    {
     "data": {
      "text/html": [
       "<div>\n",
       "<style scoped>\n",
       "    .dataframe tbody tr th:only-of-type {\n",
       "        vertical-align: middle;\n",
       "    }\n",
       "\n",
       "    .dataframe tbody tr th {\n",
       "        vertical-align: top;\n",
       "    }\n",
       "\n",
       "    .dataframe thead th {\n",
       "        text-align: right;\n",
       "    }\n",
       "</style>\n",
       "<table border=\"1\" class=\"dataframe\">\n",
       "  <thead>\n",
       "    <tr style=\"text-align: right;\">\n",
       "      <th></th>\n",
       "      <th>Year</th>\n",
       "      <th>Sentence</th>\n",
       "      <th>Output</th>\n",
       "    </tr>\n",
       "  </thead>\n",
       "  <tbody>\n",
       "    <tr>\n",
       "      <th>0</th>\n",
       "      <td>1972</td>\n",
       "      <td>During the past few years the world has made r...</td>\n",
       "      <td>[past few years, remarkable advances, Charter ...</td>\n",
       "    </tr>\n",
       "    <tr>\n",
       "      <th>1</th>\n",
       "      <td>1972</td>\n",
       "      <td>In 1972 alone, the United States and the Sovi...</td>\n",
       "      <td>[military confrontations, sovereign equality, ...</td>\n",
       "    </tr>\n",
       "    <tr>\n",
       "      <th>2</th>\n",
       "      <td>1972</td>\n",
       "      <td>The Soviet Union and the United States have a...</td>\n",
       "      <td>[precise limitations, next years, offensive mi...</td>\n",
       "    </tr>\n",
       "    <tr>\n",
       "      <th>3</th>\n",
       "      <td>1972</td>\n",
       "      <td>The United Kingdom, France, the Soviet Union ...</td>\n",
       "      <td>[specific provisions, unimpeded movement]</td>\n",
       "    </tr>\n",
       "    <tr>\n",
       "      <th>4</th>\n",
       "      <td>1972</td>\n",
       "      <td>And North and South Korea have intensified th...</td>\n",
       "      <td>[divided families, joint committee]</td>\n",
       "    </tr>\n",
       "    <tr>\n",
       "      <th>5</th>\n",
       "      <td>1972</td>\n",
       "      <td>There have been many other accomplishments in...</td>\n",
       "      <td>[Charter objectives]</td>\n",
       "    </tr>\n",
       "    <tr>\n",
       "      <th>6</th>\n",
       "      <td>1972</td>\n",
       "      <td>I mention these merely to illustrate how old ...</td>\n",
       "      <td>[old patterns]</td>\n",
       "    </tr>\n",
       "    <tr>\n",
       "      <th>7</th>\n",
       "      <td>1972</td>\n",
       "      <td>If continued, this process will in time find ...</td>\n",
       "      <td>[positive reflection]</td>\n",
       "    </tr>\n",
       "    <tr>\n",
       "      <th>8</th>\n",
       "      <td>1972</td>\n",
       "      <td>We are encouraged, too, by calls in both East...</td>\n",
       "      <td>[Eastern capitals]</td>\n",
       "    </tr>\n",
       "    <tr>\n",
       "      <th>9</th>\n",
       "      <td>1972</td>\n",
       "      <td>A step toward realizing this goal would be th...</td>\n",
       "      <td>[stable military balance, force reductions]</td>\n",
       "    </tr>\n",
       "    <tr>\n",
       "      <th>10</th>\n",
       "      <td>1972</td>\n",
       "      <td>We are currently in consultation with our all...</td>\n",
       "      <td>[exploratory talks, next several months]</td>\n",
       "    </tr>\n",
       "    <tr>\n",
       "      <th>11</th>\n",
       "      <td>1972</td>\n",
       "      <td>It is equally important to move toward more n...</td>\n",
       "      <td>[more normal relationships, Europe relationships]</td>\n",
       "    </tr>\n",
       "    <tr>\n",
       "      <th>12</th>\n",
       "      <td>1972</td>\n",
       "      <td>Toward this objective, a conference on securi...</td>\n",
       "      <td>[crucial role]</td>\n",
       "    </tr>\n",
       "    <tr>\n",
       "      <th>13</th>\n",
       "      <td>1972</td>\n",
       "      <td>A conference whose over all effect was to put...</td>\n",
       "      <td>[rigid divisions]</td>\n",
       "    </tr>\n",
       "    <tr>\n",
       "      <th>14</th>\n",
       "      <td>1972</td>\n",
       "      <td>On the other hand, a conference which promote...</td>\n",
       "      <td>[other hand, normal relationship, better relat...</td>\n",
       "    </tr>\n",
       "  </tbody>\n",
       "</table>\n",
       "</div>"
      ],
      "text/plain": [
       "    Year  ...                                             Output\n",
       "0   1972  ...  [past few years, remarkable advances, Charter ...\n",
       "1   1972  ...  [military confrontations, sovereign equality, ...\n",
       "2   1972  ...  [precise limitations, next years, offensive mi...\n",
       "3   1972  ...          [specific provisions, unimpeded movement]\n",
       "4   1972  ...                [divided families, joint committee]\n",
       "5   1972  ...                               [Charter objectives]\n",
       "6   1972  ...                                     [old patterns]\n",
       "7   1972  ...                              [positive reflection]\n",
       "8   1972  ...                                 [Eastern capitals]\n",
       "9   1972  ...        [stable military balance, force reductions]\n",
       "10  1972  ...           [exploratory talks, next several months]\n",
       "11  1972  ...  [more normal relationships, Europe relationships]\n",
       "12  1972  ...                                     [crucial role]\n",
       "13  1972  ...                                  [rigid divisions]\n",
       "14  1972  ...  [other hand, normal relationship, better relat...\n",
       "\n",
       "[15 rows x 3 columns]"
      ]
     },
     "execution_count": 59,
     "metadata": {
      "tags": []
     },
     "output_type": "execute_result"
    }
   ],
   "source": [
    "# first 15 rows\n",
    "df_show.head(15)"
   ]
  },
  {
   "cell_type": "markdown",
   "metadata": {
    "colab_type": "text",
    "id": "qeanSt0-3XTX"
   },
   "source": [
    "### 7. Combining Rule 3 and Rule 4"
   ]
  },
  {
   "cell_type": "markdown",
   "metadata": {
    "colab_type": "text",
    "id": "hsZRTp6niDwz"
   },
   "source": [
    "Sample sentences:\n",
    "1.  With support from many countries, **we** have **made impressive progress**\n",
    "2. **It** will **require military planners** the world over to recognize that training for peace operations is a legitimate part of every nation security strategy"
   ]
  },
  {
   "cell_type": "code",
   "execution_count": 60,
   "metadata": {
    "colab": {},
    "colab_type": "code",
    "executionInfo": {
     "elapsed": 1711,
     "status": "ok",
     "timestamp": 1598968726595,
     "user": {
      "displayName": "Aishwarya Singh",
      "photoUrl": "https://lh3.googleusercontent.com/a-/AOh14GgeJwfn4BdBDCAplWi_kdtB9FRssOpXO7T_aMgg=s64",
      "userId": "01105858832371513140"
     },
     "user_tz": -330
    },
    "id": "A9-NNHWX3SMy"
   },
   "outputs": [],
   "source": [
    "# modifying rule 4\n",
    "def rule4_mod(text,index):\n",
    "    \n",
    "    doc = nlp(text)\n",
    "\n",
    "    phrase = ''\n",
    "    \n",
    "    # iterate over tokens\n",
    "    for token in doc:\n",
    "        \n",
    "        if token.i == index:\n",
    "            \n",
    "            # iterate over the children nodes\n",
    "            for subtoken in token.children:\n",
    "                # if word is an adjective\n",
    "                if (subtoken.pos_ == 'ADJ') or (subtoken.dep_ == 'compound'):\n",
    "                    phrase += ' '+subtoken.text\n",
    "            break\n",
    "    \n",
    "    return phrase"
   ]
  },
  {
   "cell_type": "code",
   "execution_count": 61,
   "metadata": {
    "colab": {},
    "colab_type": "code",
    "executionInfo": {
     "elapsed": 2757,
     "status": "ok",
     "timestamp": 1598968758049,
     "user": {
      "displayName": "Aishwarya Singh",
      "photoUrl": "https://lh3.googleusercontent.com/a-/AOh14GgeJwfn4BdBDCAplWi_kdtB9FRssOpXO7T_aMgg=s64",
      "userId": "01105858832371513140"
     },
     "user_tz": -330
    },
    "id": "faYd9mRK3dE6"
   },
   "outputs": [],
   "source": [
    "# using rule 3 and rule 4\n",
    "def rule3_mod(text):\n",
    "    \n",
    "    doc = nlp(text)\n",
    "    \n",
    "    sent = []\n",
    "    \n",
    "    for token in doc:\n",
    "        # root word\n",
    "        if (token.pos_=='VERB'):\n",
    "            \n",
    "            phrase =''\n",
    "            \n",
    "            # only extract noun or pronoun subjects\n",
    "            for sub_tok in token.lefts:\n",
    "                \n",
    "                if (sub_tok.dep_ in ['nsubj','nsubjpass']) and (sub_tok.pos_ in ['NOUN','PROPN','PRON']):\n",
    "                    \n",
    "                    # look for subject modifier\n",
    "                    adj = rule4_mod(text,sub_tok.i)\n",
    "                    \n",
    "                    phrase += adj + ' ' + sub_tok.text\n",
    "\n",
    "                    # save the root word of the word\n",
    "                    phrase += ' '+token.lemma_ \n",
    "\n",
    "                    # check for noun or pronoun direct objects\n",
    "                    for sub_tok in token.rights:\n",
    "                        \n",
    "                        if (sub_tok.dep_ in ['dobj']) and (sub_tok.pos_ in ['NOUN','PROPN']):\n",
    "                            \n",
    "                            # look for object modifier\n",
    "                            adj = rule4_mod(text,sub_tok.i)\n",
    "                            \n",
    "                            phrase += adj+' '+sub_tok.text\n",
    "                            sent.append(phrase)\n",
    "            \n",
    "    return sent"
   ]
  },
  {
   "cell_type": "code",
   "execution_count": 62,
   "metadata": {
    "colab": {},
    "colab_type": "code",
    "executionInfo": {
     "elapsed": 175675,
     "status": "ok",
     "timestamp": 1598968934173,
     "user": {
      "displayName": "Aishwarya Singh",
      "photoUrl": "https://lh3.googleusercontent.com/a-/AOh14GgeJwfn4BdBDCAplWi_kdtB9FRssOpXO7T_aMgg=s64",
      "userId": "01105858832371513140"
     },
     "user_tz": -330
    },
    "id": "mFneBcKU3iYR"
   },
   "outputs": [],
   "source": [
    "# create a df containing sentence and its output for modified rule\n",
    "row_list = []\n",
    "\n",
    "for i in range(len(df2)):\n",
    "    \n",
    "    sent = df2.loc[i,'Sentence']\n",
    "    year = df2.loc[i,'Year']\n",
    "    output = rule3_mod(sent)\n",
    "    dict1 = {'Year':year,'Sentence':sent,'Output':output}\n",
    "    row_list.append(dict1)\n",
    "    \n",
    "df_rule = pd.DataFrame(row_list)"
   ]
  },
  {
   "cell_type": "code",
   "execution_count": 63,
   "metadata": {
    "colab": {
     "base_uri": "https://localhost:8080/",
     "height": 206
    },
    "colab_type": "code",
    "executionInfo": {
     "elapsed": 172876,
     "status": "ok",
     "timestamp": 1598968934179,
     "user": {
      "displayName": "Aishwarya Singh",
      "photoUrl": "https://lh3.googleusercontent.com/a-/AOh14GgeJwfn4BdBDCAplWi_kdtB9FRssOpXO7T_aMgg=s64",
      "userId": "01105858832371513140"
     },
     "user_tz": -330
    },
    "id": "0-WJHpXU3nDR",
    "outputId": "b483d151-52b0-465e-cf2f-d7272eae2072"
   },
   "outputs": [
    {
     "data": {
      "text/html": [
       "<div>\n",
       "<style scoped>\n",
       "    .dataframe tbody tr th:only-of-type {\n",
       "        vertical-align: middle;\n",
       "    }\n",
       "\n",
       "    .dataframe tbody tr th {\n",
       "        vertical-align: top;\n",
       "    }\n",
       "\n",
       "    .dataframe thead th {\n",
       "        text-align: right;\n",
       "    }\n",
       "</style>\n",
       "<table border=\"1\" class=\"dataframe\">\n",
       "  <thead>\n",
       "    <tr style=\"text-align: right;\">\n",
       "      <th></th>\n",
       "      <th>Year</th>\n",
       "      <th>Sentence</th>\n",
       "      <th>Output</th>\n",
       "    </tr>\n",
       "  </thead>\n",
       "  <tbody>\n",
       "    <tr>\n",
       "      <th>0</th>\n",
       "      <td>1972</td>\n",
       "      <td>During the past few years the world has made r...</td>\n",
       "      <td>[ world make remarkable advances]</td>\n",
       "    </tr>\n",
       "    <tr>\n",
       "      <th>1</th>\n",
       "      <td>1972</td>\n",
       "      <td>In 1972 alone, the United States and the Sovi...</td>\n",
       "      <td>[]</td>\n",
       "    </tr>\n",
       "    <tr>\n",
       "      <th>2</th>\n",
       "      <td>1972</td>\n",
       "      <td>The Soviet Union and the United States have a...</td>\n",
       "      <td>[ Soviet Union place precise limitations]</td>\n",
       "    </tr>\n",
       "    <tr>\n",
       "      <th>3</th>\n",
       "      <td>1972</td>\n",
       "      <td>The United States and the People Republic of ...</td>\n",
       "      <td>[]</td>\n",
       "    </tr>\n",
       "    <tr>\n",
       "      <th>4</th>\n",
       "      <td>1972</td>\n",
       "      <td>The United Kingdom, France, the Soviet Union ...</td>\n",
       "      <td>[]</td>\n",
       "    </tr>\n",
       "  </tbody>\n",
       "</table>\n",
       "</div>"
      ],
      "text/plain": [
       "   Year  ...                                     Output\n",
       "0  1972  ...          [ world make remarkable advances]\n",
       "1  1972  ...                                         []\n",
       "2  1972  ...  [ Soviet Union place precise limitations]\n",
       "3  1972  ...                                         []\n",
       "4  1972  ...                                         []\n",
       "\n",
       "[5 rows x 3 columns]"
      ]
     },
     "execution_count": 63,
     "metadata": {
      "tags": []
     },
     "output_type": "execute_result"
    }
   ],
   "source": [
    "# first 5 rows\n",
    "df_rule.head()"
   ]
  },
  {
   "cell_type": "code",
   "execution_count": 64,
   "metadata": {
    "colab": {},
    "colab_type": "code",
    "executionInfo": {
     "elapsed": 11685,
     "status": "ok",
     "timestamp": 1598969541555,
     "user": {
      "displayName": "Aishwarya Singh",
      "photoUrl": "https://lh3.googleusercontent.com/a-/AOh14GgeJwfn4BdBDCAplWi_kdtB9FRssOpXO7T_aMgg=s64",
      "userId": "01105858832371513140"
     },
     "user_tz": -330
    },
    "id": "uHOGwzr53p40"
   },
   "outputs": [],
   "source": [
    "# selecting non-empty outputs\n",
    "df_show_mod = pd.DataFrame(columns=df_rule.columns)\n",
    "\n",
    "for row in range(len(df_rule)):\n",
    "    \n",
    "    if len(df_rule.loc[row,'Output'])!=0:\n",
    "        df_show_mod = df_show_mod.append(df_rule.loc[row,:])\n",
    "\n",
    "# reset the index\n",
    "df_show_mod.reset_index(inplace=True, drop=True)"
   ]
  },
  {
   "cell_type": "code",
   "execution_count": 65,
   "metadata": {
    "colab": {
     "base_uri": "https://localhost:8080/",
     "height": 34
    },
    "colab_type": "code",
    "executionInfo": {
     "elapsed": 1573,
     "status": "ok",
     "timestamp": 1598969557632,
     "user": {
      "displayName": "Aishwarya Singh",
      "photoUrl": "https://lh3.googleusercontent.com/a-/AOh14GgeJwfn4BdBDCAplWi_kdtB9FRssOpXO7T_aMgg=s64",
      "userId": "01105858832371513140"
     },
     "user_tz": -330
    },
    "id": "UwMSFfydjED4",
    "outputId": "eea80b39-ebf3-44df-8061-40e67cff7aae"
   },
   "outputs": [
    {
     "data": {
      "text/plain": [
       "(3364, 3)"
      ]
     },
     "execution_count": 65,
     "metadata": {
      "tags": []
     },
     "output_type": "execute_result"
    }
   ],
   "source": [
    "# number of matches\n",
    "df_show_mod.shape"
   ]
  },
  {
   "cell_type": "code",
   "execution_count": 66,
   "metadata": {
    "colab": {
     "base_uri": "https://localhost:8080/",
     "height": 677
    },
    "colab_type": "code",
    "executionInfo": {
     "elapsed": 2691,
     "status": "ok",
     "timestamp": 1598969575983,
     "user": {
      "displayName": "Aishwarya Singh",
      "photoUrl": "https://lh3.googleusercontent.com/a-/AOh14GgeJwfn4BdBDCAplWi_kdtB9FRssOpXO7T_aMgg=s64",
      "userId": "01105858832371513140"
     },
     "user_tz": -330
    },
    "id": "ij_313fS36gg",
    "outputId": "3035bb49-758c-4515-a743-d6787a2b071f"
   },
   "outputs": [
    {
     "data": {
      "text/html": [
       "<div>\n",
       "<style scoped>\n",
       "    .dataframe tbody tr th:only-of-type {\n",
       "        vertical-align: middle;\n",
       "    }\n",
       "\n",
       "    .dataframe tbody tr th {\n",
       "        vertical-align: top;\n",
       "    }\n",
       "\n",
       "    .dataframe thead th {\n",
       "        text-align: right;\n",
       "    }\n",
       "</style>\n",
       "<table border=\"1\" class=\"dataframe\">\n",
       "  <thead>\n",
       "    <tr style=\"text-align: right;\">\n",
       "      <th></th>\n",
       "      <th>Year</th>\n",
       "      <th>Sentence</th>\n",
       "      <th>Output</th>\n",
       "    </tr>\n",
       "  </thead>\n",
       "  <tbody>\n",
       "    <tr>\n",
       "      <th>0</th>\n",
       "      <td>1972</td>\n",
       "      <td>During the past few years the world has made r...</td>\n",
       "      <td>[ world make remarkable advances]</td>\n",
       "    </tr>\n",
       "    <tr>\n",
       "      <th>1</th>\n",
       "      <td>1972</td>\n",
       "      <td>The Soviet Union and the United States have a...</td>\n",
       "      <td>[ Soviet Union place precise limitations]</td>\n",
       "    </tr>\n",
       "    <tr>\n",
       "      <th>2</th>\n",
       "      <td>1972</td>\n",
       "      <td>The Federal Republic of Germany and the Germa...</td>\n",
       "      <td>[ Federal Republic open negotiations]</td>\n",
       "    </tr>\n",
       "    <tr>\n",
       "      <th>3</th>\n",
       "      <td>1972</td>\n",
       "      <td>And North and South Korea have intensified th...</td>\n",
       "      <td>[ Korea intensify talks]</td>\n",
       "    </tr>\n",
       "    <tr>\n",
       "      <th>4</th>\n",
       "      <td>1972</td>\n",
       "      <td>If continued, this process will in time find ...</td>\n",
       "      <td>[ process find positive reflection]</td>\n",
       "    </tr>\n",
       "    <tr>\n",
       "      <th>5</th>\n",
       "      <td>1972</td>\n",
       "      <td>A conference whose over all effect was to put...</td>\n",
       "      <td>[ conference prolong problems]</td>\n",
       "    </tr>\n",
       "    <tr>\n",
       "      <th>6</th>\n",
       "      <td>1972</td>\n",
       "      <td>On the other hand, a conference which promote...</td>\n",
       "      <td>[ conference reinforce trend]</td>\n",
       "    </tr>\n",
       "    <tr>\n",
       "      <th>7</th>\n",
       "      <td>1972</td>\n",
       "      <td>That is why we believe that the conference mu...</td>\n",
       "      <td>[ conference take practical steps]</td>\n",
       "    </tr>\n",
       "    <tr>\n",
       "      <th>8</th>\n",
       "      <td>1972</td>\n",
       "      <td>We are also now studying alternative approach...</td>\n",
       "      <td>[ We study alternative approaches]</td>\n",
       "    </tr>\n",
       "    <tr>\n",
       "      <th>9</th>\n",
       "      <td>1972</td>\n",
       "      <td>The United States will pursue the following g...</td>\n",
       "      <td>[ United States pursue general aims]</td>\n",
       "    </tr>\n",
       "    <tr>\n",
       "      <th>10</th>\n",
       "      <td>1972</td>\n",
       "      <td>Of course we also attach importance to the wo...</td>\n",
       "      <td>[ we attach importance]</td>\n",
       "    </tr>\n",
       "    <tr>\n",
       "      <th>11</th>\n",
       "      <td>1972</td>\n",
       "      <td>The United States is intensifying its study o...</td>\n",
       "      <td>[ United States intensify study]</td>\n",
       "    </tr>\n",
       "    <tr>\n",
       "      <th>12</th>\n",
       "      <td>1972</td>\n",
       "      <td>Let me take note of other areas in the world ...</td>\n",
       "      <td>[ me take note]</td>\n",
       "    </tr>\n",
       "    <tr>\n",
       "      <th>13</th>\n",
       "      <td>1972</td>\n",
       "      <td>In Latin America, while growth rates in recen...</td>\n",
       "      <td>[ growth rates exceed Alliance]</td>\n",
       "    </tr>\n",
       "    <tr>\n",
       "      <th>14</th>\n",
       "      <td>1972</td>\n",
       "      <td>And, in recognition of the importance of trad...</td>\n",
       "      <td>[ we support participation]</td>\n",
       "    </tr>\n",
       "    <tr>\n",
       "      <th>15</th>\n",
       "      <td>1972</td>\n",
       "      <td>In Viet Nam the United States has reduced its...</td>\n",
       "      <td>[ United States reduce armed forces]</td>\n",
       "    </tr>\n",
       "    <tr>\n",
       "      <th>16</th>\n",
       "      <td>1972</td>\n",
       "      <td>President Nixon has proposed a cease fire in ...</td>\n",
       "      <td>[ President Nixon propose cease fire]</td>\n",
       "    </tr>\n",
       "    <tr>\n",
       "      <th>17</th>\n",
       "      <td>1972</td>\n",
       "      <td>President Nixon has also pledged a major effo...</td>\n",
       "      <td>[ President Nixon pledge major effort]</td>\n",
       "    </tr>\n",
       "    <tr>\n",
       "      <th>18</th>\n",
       "      <td>1972</td>\n",
       "      <td>We should take note of two positive elements</td>\n",
       "      <td>[ We take note]</td>\n",
       "    </tr>\n",
       "    <tr>\n",
       "      <th>19</th>\n",
       "      <td>1972</td>\n",
       "      <td>We must, however, recognize that the Munich k...</td>\n",
       "      <td>[ Munich killings set deplorable patterns,  pa...</td>\n",
       "    </tr>\n",
       "  </tbody>\n",
       "</table>\n",
       "</div>"
      ],
      "text/plain": [
       "    Year  ...                                             Output\n",
       "0   1972  ...                  [ world make remarkable advances]\n",
       "1   1972  ...          [ Soviet Union place precise limitations]\n",
       "2   1972  ...              [ Federal Republic open negotiations]\n",
       "3   1972  ...                           [ Korea intensify talks]\n",
       "4   1972  ...                [ process find positive reflection]\n",
       "5   1972  ...                     [ conference prolong problems]\n",
       "6   1972  ...                      [ conference reinforce trend]\n",
       "7   1972  ...                 [ conference take practical steps]\n",
       "8   1972  ...                 [ We study alternative approaches]\n",
       "9   1972  ...               [ United States pursue general aims]\n",
       "10  1972  ...                            [ we attach importance]\n",
       "11  1972  ...                   [ United States intensify study]\n",
       "12  1972  ...                                    [ me take note]\n",
       "13  1972  ...                    [ growth rates exceed Alliance]\n",
       "14  1972  ...                        [ we support participation]\n",
       "15  1972  ...               [ United States reduce armed forces]\n",
       "16  1972  ...              [ President Nixon propose cease fire]\n",
       "17  1972  ...             [ President Nixon pledge major effort]\n",
       "18  1972  ...                                    [ We take note]\n",
       "19  1972  ...  [ Munich killings set deplorable patterns,  pa...\n",
       "\n",
       "[20 rows x 3 columns]"
      ]
     },
     "execution_count": 66,
     "metadata": {
      "tags": []
     },
     "output_type": "execute_result"
    }
   ],
   "source": [
    "# first 15 rows\n",
    "df_show_mod.head(20)"
   ]
  },
  {
   "cell_type": "code",
   "execution_count": 67,
   "metadata": {
    "colab": {
     "base_uri": "https://localhost:8080/",
     "height": 52
    },
    "colab_type": "code",
    "executionInfo": {
     "elapsed": 1772,
     "status": "ok",
     "timestamp": 1598969610736,
     "user": {
      "displayName": "Aishwarya Singh",
      "photoUrl": "https://lh3.googleusercontent.com/a-/AOh14GgeJwfn4BdBDCAplWi_kdtB9FRssOpXO7T_aMgg=s64",
      "userId": "01105858832371513140"
     },
     "user_tz": -330
    },
    "id": "-Unx4FedjQhN",
    "outputId": "4bac7904-6b10-400c-c73e-85ec2c35b70e"
   },
   "outputs": [
    {
     "name": "stdout",
     "output_type": "stream",
     "text": [
      "[' process find positive reflection']\n",
      " If continued, this process will in time find positive reflection within the United Nations itself\n"
     ]
    }
   ],
   "source": [
    "# Sample sentence\n",
    "print(df_show_mod.loc[4,'Output'])\n",
    "print(df_show_mod.loc[4,'Sentence'])"
   ]
  },
  {
   "cell_type": "code",
   "execution_count": 68,
   "metadata": {
    "colab": {
     "base_uri": "https://localhost:8080/",
     "height": 52
    },
    "colab_type": "code",
    "executionInfo": {
     "elapsed": 1818,
     "status": "ok",
     "timestamp": 1598969633723,
     "user": {
      "displayName": "Aishwarya Singh",
      "photoUrl": "https://lh3.googleusercontent.com/a-/AOh14GgeJwfn4BdBDCAplWi_kdtB9FRssOpXO7T_aMgg=s64",
      "userId": "01105858832371513140"
     },
     "user_tz": -330
    },
    "id": "qyBl_N1ykfzc",
    "outputId": "7dd86c44-25df-47f7-fc75-45e6852db1cc"
   },
   "outputs": [
    {
     "name": "stdout",
     "output_type": "stream",
     "text": [
      "[' President Nixon pledge major effort']\n",
      " President Nixon has also pledged a major effort to assist both VietNamese States in post war reconstruction\n"
     ]
    }
   ],
   "source": [
    "# Sample sentence\n",
    "print(df_show_mod.loc[17,'Output'])\n",
    "print(df_show_mod.loc[17,'Sentence'])"
   ]
  },
  {
   "cell_type": "markdown",
   "metadata": {
    "colab_type": "text",
    "id": "cw2iO42-tZ_b"
   },
   "source": [
    "## 8. Rule 5: Patterns using Preposition"
   ]
  },
  {
   "cell_type": "markdown",
   "metadata": {
    "colab_type": "text",
    "id": "5fMYo6Pts9H9"
   },
   "source": [
    "Sample sentences:\n",
    "1.  We all believe the **benefits of globalization** must be allocated more broadly within and among societies\n",
    "2. As the Millennium Summit reflected, we have no **shortage of** worthy **goals**\n",
    "3. It should preserve the special **responsibility for peacekeeping** of the Security Council permanent members"
   ]
  },
  {
   "cell_type": "code",
   "execution_count": 69,
   "metadata": {
    "colab": {
     "base_uri": "https://localhost:8080/",
     "height": 616
    },
    "colab_type": "code",
    "executionInfo": {
     "elapsed": 1757,
     "status": "ok",
     "timestamp": 1598969701923,
     "user": {
      "displayName": "Aishwarya Singh",
      "photoUrl": "https://lh3.googleusercontent.com/a-/AOh14GgeJwfn4BdBDCAplWi_kdtB9FRssOpXO7T_aMgg=s64",
      "userId": "01105858832371513140"
     },
     "user_tz": -330
    },
    "id": "ngSsFEMnxKGh",
    "outputId": "6d15d925-4d19-4032-8ddf-45d2e072e281"
   },
   "outputs": [
    {
     "data": {
      "text/html": [
       "<span class=\"tex2jax_ignore\"><svg xmlns=\"http://www.w3.org/2000/svg\" xmlns:xlink=\"http://www.w3.org/1999/xlink\" xml:lang=\"en\" id=\"d3613179c6cc45be9a8e20d549c8808d-0\" class=\"displacy\" width=\"3025\" height=\"574.5\" direction=\"ltr\" style=\"max-width: none; height: 574.5px; color: #000000; background: #ffffff; font-family: Arial; direction: ltr\">\n",
       "<text class=\"displacy-token\" fill=\"currentColor\" text-anchor=\"middle\" y=\"484.5\">\n",
       "    <tspan class=\"displacy-word\" fill=\"currentColor\" x=\"50\">We</tspan>\n",
       "    <tspan class=\"displacy-tag\" dy=\"2em\" fill=\"currentColor\" x=\"50\">PRON</tspan>\n",
       "</text>\n",
       "\n",
       "<text class=\"displacy-token\" fill=\"currentColor\" text-anchor=\"middle\" y=\"484.5\">\n",
       "    <tspan class=\"displacy-word\" fill=\"currentColor\" x=\"225\">all</tspan>\n",
       "    <tspan class=\"displacy-tag\" dy=\"2em\" fill=\"currentColor\" x=\"225\">DET</tspan>\n",
       "</text>\n",
       "\n",
       "<text class=\"displacy-token\" fill=\"currentColor\" text-anchor=\"middle\" y=\"484.5\">\n",
       "    <tspan class=\"displacy-word\" fill=\"currentColor\" x=\"400\">believe</tspan>\n",
       "    <tspan class=\"displacy-tag\" dy=\"2em\" fill=\"currentColor\" x=\"400\">VERB</tspan>\n",
       "</text>\n",
       "\n",
       "<text class=\"displacy-token\" fill=\"currentColor\" text-anchor=\"middle\" y=\"484.5\">\n",
       "    <tspan class=\"displacy-word\" fill=\"currentColor\" x=\"575\">the</tspan>\n",
       "    <tspan class=\"displacy-tag\" dy=\"2em\" fill=\"currentColor\" x=\"575\">DET</tspan>\n",
       "</text>\n",
       "\n",
       "<text class=\"displacy-token\" fill=\"currentColor\" text-anchor=\"middle\" y=\"484.5\">\n",
       "    <tspan class=\"displacy-word\" fill=\"currentColor\" x=\"750\">benefits</tspan>\n",
       "    <tspan class=\"displacy-tag\" dy=\"2em\" fill=\"currentColor\" x=\"750\">NOUN</tspan>\n",
       "</text>\n",
       "\n",
       "<text class=\"displacy-token\" fill=\"currentColor\" text-anchor=\"middle\" y=\"484.5\">\n",
       "    <tspan class=\"displacy-word\" fill=\"currentColor\" x=\"925\">of</tspan>\n",
       "    <tspan class=\"displacy-tag\" dy=\"2em\" fill=\"currentColor\" x=\"925\">ADP</tspan>\n",
       "</text>\n",
       "\n",
       "<text class=\"displacy-token\" fill=\"currentColor\" text-anchor=\"middle\" y=\"484.5\">\n",
       "    <tspan class=\"displacy-word\" fill=\"currentColor\" x=\"1100\">globalization</tspan>\n",
       "    <tspan class=\"displacy-tag\" dy=\"2em\" fill=\"currentColor\" x=\"1100\">NOUN</tspan>\n",
       "</text>\n",
       "\n",
       "<text class=\"displacy-token\" fill=\"currentColor\" text-anchor=\"middle\" y=\"484.5\">\n",
       "    <tspan class=\"displacy-word\" fill=\"currentColor\" x=\"1275\">must</tspan>\n",
       "    <tspan class=\"displacy-tag\" dy=\"2em\" fill=\"currentColor\" x=\"1275\">VERB</tspan>\n",
       "</text>\n",
       "\n",
       "<text class=\"displacy-token\" fill=\"currentColor\" text-anchor=\"middle\" y=\"484.5\">\n",
       "    <tspan class=\"displacy-word\" fill=\"currentColor\" x=\"1450\">\n",
       "</tspan>\n",
       "    <tspan class=\"displacy-tag\" dy=\"2em\" fill=\"currentColor\" x=\"1450\">SPACE</tspan>\n",
       "</text>\n",
       "\n",
       "<text class=\"displacy-token\" fill=\"currentColor\" text-anchor=\"middle\" y=\"484.5\">\n",
       "    <tspan class=\"displacy-word\" fill=\"currentColor\" x=\"1625\">be</tspan>\n",
       "    <tspan class=\"displacy-tag\" dy=\"2em\" fill=\"currentColor\" x=\"1625\">AUX</tspan>\n",
       "</text>\n",
       "\n",
       "<text class=\"displacy-token\" fill=\"currentColor\" text-anchor=\"middle\" y=\"484.5\">\n",
       "    <tspan class=\"displacy-word\" fill=\"currentColor\" x=\"1800\">allocated</tspan>\n",
       "    <tspan class=\"displacy-tag\" dy=\"2em\" fill=\"currentColor\" x=\"1800\">VERB</tspan>\n",
       "</text>\n",
       "\n",
       "<text class=\"displacy-token\" fill=\"currentColor\" text-anchor=\"middle\" y=\"484.5\">\n",
       "    <tspan class=\"displacy-word\" fill=\"currentColor\" x=\"1975\">more</tspan>\n",
       "    <tspan class=\"displacy-tag\" dy=\"2em\" fill=\"currentColor\" x=\"1975\">ADV</tspan>\n",
       "</text>\n",
       "\n",
       "<text class=\"displacy-token\" fill=\"currentColor\" text-anchor=\"middle\" y=\"484.5\">\n",
       "    <tspan class=\"displacy-word\" fill=\"currentColor\" x=\"2150\">broadly</tspan>\n",
       "    <tspan class=\"displacy-tag\" dy=\"2em\" fill=\"currentColor\" x=\"2150\">ADV</tspan>\n",
       "</text>\n",
       "\n",
       "<text class=\"displacy-token\" fill=\"currentColor\" text-anchor=\"middle\" y=\"484.5\">\n",
       "    <tspan class=\"displacy-word\" fill=\"currentColor\" x=\"2325\">within</tspan>\n",
       "    <tspan class=\"displacy-tag\" dy=\"2em\" fill=\"currentColor\" x=\"2325\">ADP</tspan>\n",
       "</text>\n",
       "\n",
       "<text class=\"displacy-token\" fill=\"currentColor\" text-anchor=\"middle\" y=\"484.5\">\n",
       "    <tspan class=\"displacy-word\" fill=\"currentColor\" x=\"2500\">and</tspan>\n",
       "    <tspan class=\"displacy-tag\" dy=\"2em\" fill=\"currentColor\" x=\"2500\">CCONJ</tspan>\n",
       "</text>\n",
       "\n",
       "<text class=\"displacy-token\" fill=\"currentColor\" text-anchor=\"middle\" y=\"484.5\">\n",
       "    <tspan class=\"displacy-word\" fill=\"currentColor\" x=\"2675\">among</tspan>\n",
       "    <tspan class=\"displacy-tag\" dy=\"2em\" fill=\"currentColor\" x=\"2675\">ADP</tspan>\n",
       "</text>\n",
       "\n",
       "<text class=\"displacy-token\" fill=\"currentColor\" text-anchor=\"middle\" y=\"484.5\">\n",
       "    <tspan class=\"displacy-word\" fill=\"currentColor\" x=\"2850\">societies</tspan>\n",
       "    <tspan class=\"displacy-tag\" dy=\"2em\" fill=\"currentColor\" x=\"2850\">NOUN</tspan>\n",
       "</text>\n",
       "\n",
       "<g class=\"displacy-arrow\">\n",
       "    <path class=\"displacy-arc\" id=\"arrow-d3613179c6cc45be9a8e20d549c8808d-0-0\" stroke-width=\"2px\" d=\"M70,439.5 C70,264.5 385.0,264.5 385.0,439.5\" fill=\"none\" stroke=\"currentColor\"/>\n",
       "    <text dy=\"1.25em\" style=\"font-size: 0.8em; letter-spacing: 1px\">\n",
       "        <textPath xlink:href=\"#arrow-d3613179c6cc45be9a8e20d549c8808d-0-0\" class=\"displacy-label\" startOffset=\"50%\" side=\"left\" fill=\"currentColor\" text-anchor=\"middle\">nsubj</textPath>\n",
       "    </text>\n",
       "    <path class=\"displacy-arrowhead\" d=\"M70,441.5 L62,429.5 78,429.5\" fill=\"currentColor\"/>\n",
       "</g>\n",
       "\n",
       "<g class=\"displacy-arrow\">\n",
       "    <path class=\"displacy-arc\" id=\"arrow-d3613179c6cc45be9a8e20d549c8808d-0-1\" stroke-width=\"2px\" d=\"M70,439.5 C70,352.0 205.0,352.0 205.0,439.5\" fill=\"none\" stroke=\"currentColor\"/>\n",
       "    <text dy=\"1.25em\" style=\"font-size: 0.8em; letter-spacing: 1px\">\n",
       "        <textPath xlink:href=\"#arrow-d3613179c6cc45be9a8e20d549c8808d-0-1\" class=\"displacy-label\" startOffset=\"50%\" side=\"left\" fill=\"currentColor\" text-anchor=\"middle\">appos</textPath>\n",
       "    </text>\n",
       "    <path class=\"displacy-arrowhead\" d=\"M205.0,441.5 L213.0,429.5 197.0,429.5\" fill=\"currentColor\"/>\n",
       "</g>\n",
       "\n",
       "<g class=\"displacy-arrow\">\n",
       "    <path class=\"displacy-arc\" id=\"arrow-d3613179c6cc45be9a8e20d549c8808d-0-2\" stroke-width=\"2px\" d=\"M595,439.5 C595,352.0 730.0,352.0 730.0,439.5\" fill=\"none\" stroke=\"currentColor\"/>\n",
       "    <text dy=\"1.25em\" style=\"font-size: 0.8em; letter-spacing: 1px\">\n",
       "        <textPath xlink:href=\"#arrow-d3613179c6cc45be9a8e20d549c8808d-0-2\" class=\"displacy-label\" startOffset=\"50%\" side=\"left\" fill=\"currentColor\" text-anchor=\"middle\">det</textPath>\n",
       "    </text>\n",
       "    <path class=\"displacy-arrowhead\" d=\"M595,441.5 L587,429.5 603,429.5\" fill=\"currentColor\"/>\n",
       "</g>\n",
       "\n",
       "<g class=\"displacy-arrow\">\n",
       "    <path class=\"displacy-arc\" id=\"arrow-d3613179c6cc45be9a8e20d549c8808d-0-3\" stroke-width=\"2px\" d=\"M770,439.5 C770,89.5 1795.0,89.5 1795.0,439.5\" fill=\"none\" stroke=\"currentColor\"/>\n",
       "    <text dy=\"1.25em\" style=\"font-size: 0.8em; letter-spacing: 1px\">\n",
       "        <textPath xlink:href=\"#arrow-d3613179c6cc45be9a8e20d549c8808d-0-3\" class=\"displacy-label\" startOffset=\"50%\" side=\"left\" fill=\"currentColor\" text-anchor=\"middle\">nsubjpass</textPath>\n",
       "    </text>\n",
       "    <path class=\"displacy-arrowhead\" d=\"M770,441.5 L762,429.5 778,429.5\" fill=\"currentColor\"/>\n",
       "</g>\n",
       "\n",
       "<g class=\"displacy-arrow\">\n",
       "    <path class=\"displacy-arc\" id=\"arrow-d3613179c6cc45be9a8e20d549c8808d-0-4\" stroke-width=\"2px\" d=\"M770,439.5 C770,352.0 905.0,352.0 905.0,439.5\" fill=\"none\" stroke=\"currentColor\"/>\n",
       "    <text dy=\"1.25em\" style=\"font-size: 0.8em; letter-spacing: 1px\">\n",
       "        <textPath xlink:href=\"#arrow-d3613179c6cc45be9a8e20d549c8808d-0-4\" class=\"displacy-label\" startOffset=\"50%\" side=\"left\" fill=\"currentColor\" text-anchor=\"middle\">prep</textPath>\n",
       "    </text>\n",
       "    <path class=\"displacy-arrowhead\" d=\"M905.0,441.5 L913.0,429.5 897.0,429.5\" fill=\"currentColor\"/>\n",
       "</g>\n",
       "\n",
       "<g class=\"displacy-arrow\">\n",
       "    <path class=\"displacy-arc\" id=\"arrow-d3613179c6cc45be9a8e20d549c8808d-0-5\" stroke-width=\"2px\" d=\"M945,439.5 C945,352.0 1080.0,352.0 1080.0,439.5\" fill=\"none\" stroke=\"currentColor\"/>\n",
       "    <text dy=\"1.25em\" style=\"font-size: 0.8em; letter-spacing: 1px\">\n",
       "        <textPath xlink:href=\"#arrow-d3613179c6cc45be9a8e20d549c8808d-0-5\" class=\"displacy-label\" startOffset=\"50%\" side=\"left\" fill=\"currentColor\" text-anchor=\"middle\">pobj</textPath>\n",
       "    </text>\n",
       "    <path class=\"displacy-arrowhead\" d=\"M1080.0,441.5 L1088.0,429.5 1072.0,429.5\" fill=\"currentColor\"/>\n",
       "</g>\n",
       "\n",
       "<g class=\"displacy-arrow\">\n",
       "    <path class=\"displacy-arc\" id=\"arrow-d3613179c6cc45be9a8e20d549c8808d-0-6\" stroke-width=\"2px\" d=\"M1295,439.5 C1295,177.0 1790.0,177.0 1790.0,439.5\" fill=\"none\" stroke=\"currentColor\"/>\n",
       "    <text dy=\"1.25em\" style=\"font-size: 0.8em; letter-spacing: 1px\">\n",
       "        <textPath xlink:href=\"#arrow-d3613179c6cc45be9a8e20d549c8808d-0-6\" class=\"displacy-label\" startOffset=\"50%\" side=\"left\" fill=\"currentColor\" text-anchor=\"middle\">aux</textPath>\n",
       "    </text>\n",
       "    <path class=\"displacy-arrowhead\" d=\"M1295,441.5 L1287,429.5 1303,429.5\" fill=\"currentColor\"/>\n",
       "</g>\n",
       "\n",
       "<g class=\"displacy-arrow\">\n",
       "    <path class=\"displacy-arc\" id=\"arrow-d3613179c6cc45be9a8e20d549c8808d-0-7\" stroke-width=\"2px\" d=\"M1295,439.5 C1295,352.0 1430.0,352.0 1430.0,439.5\" fill=\"none\" stroke=\"currentColor\"/>\n",
       "    <text dy=\"1.25em\" style=\"font-size: 0.8em; letter-spacing: 1px\">\n",
       "        <textPath xlink:href=\"#arrow-d3613179c6cc45be9a8e20d549c8808d-0-7\" class=\"displacy-label\" startOffset=\"50%\" side=\"left\" fill=\"currentColor\" text-anchor=\"middle\"></textPath>\n",
       "    </text>\n",
       "    <path class=\"displacy-arrowhead\" d=\"M1430.0,441.5 L1438.0,429.5 1422.0,429.5\" fill=\"currentColor\"/>\n",
       "</g>\n",
       "\n",
       "<g class=\"displacy-arrow\">\n",
       "    <path class=\"displacy-arc\" id=\"arrow-d3613179c6cc45be9a8e20d549c8808d-0-8\" stroke-width=\"2px\" d=\"M1645,439.5 C1645,352.0 1780.0,352.0 1780.0,439.5\" fill=\"none\" stroke=\"currentColor\"/>\n",
       "    <text dy=\"1.25em\" style=\"font-size: 0.8em; letter-spacing: 1px\">\n",
       "        <textPath xlink:href=\"#arrow-d3613179c6cc45be9a8e20d549c8808d-0-8\" class=\"displacy-label\" startOffset=\"50%\" side=\"left\" fill=\"currentColor\" text-anchor=\"middle\">auxpass</textPath>\n",
       "    </text>\n",
       "    <path class=\"displacy-arrowhead\" d=\"M1645,441.5 L1637,429.5 1653,429.5\" fill=\"currentColor\"/>\n",
       "</g>\n",
       "\n",
       "<g class=\"displacy-arrow\">\n",
       "    <path class=\"displacy-arc\" id=\"arrow-d3613179c6cc45be9a8e20d549c8808d-0-9\" stroke-width=\"2px\" d=\"M420,439.5 C420,2.0 1800.0,2.0 1800.0,439.5\" fill=\"none\" stroke=\"currentColor\"/>\n",
       "    <text dy=\"1.25em\" style=\"font-size: 0.8em; letter-spacing: 1px\">\n",
       "        <textPath xlink:href=\"#arrow-d3613179c6cc45be9a8e20d549c8808d-0-9\" class=\"displacy-label\" startOffset=\"50%\" side=\"left\" fill=\"currentColor\" text-anchor=\"middle\">ccomp</textPath>\n",
       "    </text>\n",
       "    <path class=\"displacy-arrowhead\" d=\"M1800.0,441.5 L1808.0,429.5 1792.0,429.5\" fill=\"currentColor\"/>\n",
       "</g>\n",
       "\n",
       "<g class=\"displacy-arrow\">\n",
       "    <path class=\"displacy-arc\" id=\"arrow-d3613179c6cc45be9a8e20d549c8808d-0-10\" stroke-width=\"2px\" d=\"M1995,439.5 C1995,352.0 2130.0,352.0 2130.0,439.5\" fill=\"none\" stroke=\"currentColor\"/>\n",
       "    <text dy=\"1.25em\" style=\"font-size: 0.8em; letter-spacing: 1px\">\n",
       "        <textPath xlink:href=\"#arrow-d3613179c6cc45be9a8e20d549c8808d-0-10\" class=\"displacy-label\" startOffset=\"50%\" side=\"left\" fill=\"currentColor\" text-anchor=\"middle\">advmod</textPath>\n",
       "    </text>\n",
       "    <path class=\"displacy-arrowhead\" d=\"M1995,441.5 L1987,429.5 2003,429.5\" fill=\"currentColor\"/>\n",
       "</g>\n",
       "\n",
       "<g class=\"displacy-arrow\">\n",
       "    <path class=\"displacy-arc\" id=\"arrow-d3613179c6cc45be9a8e20d549c8808d-0-11\" stroke-width=\"2px\" d=\"M1820,439.5 C1820,264.5 2135.0,264.5 2135.0,439.5\" fill=\"none\" stroke=\"currentColor\"/>\n",
       "    <text dy=\"1.25em\" style=\"font-size: 0.8em; letter-spacing: 1px\">\n",
       "        <textPath xlink:href=\"#arrow-d3613179c6cc45be9a8e20d549c8808d-0-11\" class=\"displacy-label\" startOffset=\"50%\" side=\"left\" fill=\"currentColor\" text-anchor=\"middle\">advmod</textPath>\n",
       "    </text>\n",
       "    <path class=\"displacy-arrowhead\" d=\"M2135.0,441.5 L2143.0,429.5 2127.0,429.5\" fill=\"currentColor\"/>\n",
       "</g>\n",
       "\n",
       "<g class=\"displacy-arrow\">\n",
       "    <path class=\"displacy-arc\" id=\"arrow-d3613179c6cc45be9a8e20d549c8808d-0-12\" stroke-width=\"2px\" d=\"M1820,439.5 C1820,177.0 2315.0,177.0 2315.0,439.5\" fill=\"none\" stroke=\"currentColor\"/>\n",
       "    <text dy=\"1.25em\" style=\"font-size: 0.8em; letter-spacing: 1px\">\n",
       "        <textPath xlink:href=\"#arrow-d3613179c6cc45be9a8e20d549c8808d-0-12\" class=\"displacy-label\" startOffset=\"50%\" side=\"left\" fill=\"currentColor\" text-anchor=\"middle\">prep</textPath>\n",
       "    </text>\n",
       "    <path class=\"displacy-arrowhead\" d=\"M2315.0,441.5 L2323.0,429.5 2307.0,429.5\" fill=\"currentColor\"/>\n",
       "</g>\n",
       "\n",
       "<g class=\"displacy-arrow\">\n",
       "    <path class=\"displacy-arc\" id=\"arrow-d3613179c6cc45be9a8e20d549c8808d-0-13\" stroke-width=\"2px\" d=\"M2345,439.5 C2345,352.0 2480.0,352.0 2480.0,439.5\" fill=\"none\" stroke=\"currentColor\"/>\n",
       "    <text dy=\"1.25em\" style=\"font-size: 0.8em; letter-spacing: 1px\">\n",
       "        <textPath xlink:href=\"#arrow-d3613179c6cc45be9a8e20d549c8808d-0-13\" class=\"displacy-label\" startOffset=\"50%\" side=\"left\" fill=\"currentColor\" text-anchor=\"middle\">cc</textPath>\n",
       "    </text>\n",
       "    <path class=\"displacy-arrowhead\" d=\"M2480.0,441.5 L2488.0,429.5 2472.0,429.5\" fill=\"currentColor\"/>\n",
       "</g>\n",
       "\n",
       "<g class=\"displacy-arrow\">\n",
       "    <path class=\"displacy-arc\" id=\"arrow-d3613179c6cc45be9a8e20d549c8808d-0-14\" stroke-width=\"2px\" d=\"M2345,439.5 C2345,264.5 2660.0,264.5 2660.0,439.5\" fill=\"none\" stroke=\"currentColor\"/>\n",
       "    <text dy=\"1.25em\" style=\"font-size: 0.8em; letter-spacing: 1px\">\n",
       "        <textPath xlink:href=\"#arrow-d3613179c6cc45be9a8e20d549c8808d-0-14\" class=\"displacy-label\" startOffset=\"50%\" side=\"left\" fill=\"currentColor\" text-anchor=\"middle\">conj</textPath>\n",
       "    </text>\n",
       "    <path class=\"displacy-arrowhead\" d=\"M2660.0,441.5 L2668.0,429.5 2652.0,429.5\" fill=\"currentColor\"/>\n",
       "</g>\n",
       "\n",
       "<g class=\"displacy-arrow\">\n",
       "    <path class=\"displacy-arc\" id=\"arrow-d3613179c6cc45be9a8e20d549c8808d-0-15\" stroke-width=\"2px\" d=\"M2695,439.5 C2695,352.0 2830.0,352.0 2830.0,439.5\" fill=\"none\" stroke=\"currentColor\"/>\n",
       "    <text dy=\"1.25em\" style=\"font-size: 0.8em; letter-spacing: 1px\">\n",
       "        <textPath xlink:href=\"#arrow-d3613179c6cc45be9a8e20d549c8808d-0-15\" class=\"displacy-label\" startOffset=\"50%\" side=\"left\" fill=\"currentColor\" text-anchor=\"middle\">pobj</textPath>\n",
       "    </text>\n",
       "    <path class=\"displacy-arrowhead\" d=\"M2830.0,441.5 L2838.0,429.5 2822.0,429.5\" fill=\"currentColor\"/>\n",
       "</g>\n",
       "</svg></span>"
      ],
      "text/plain": [
       "<IPython.core.display.HTML object>"
      ]
     },
     "metadata": {
      "tags": []
     },
     "output_type": "display_data"
    }
   ],
   "source": [
    "# Sample sentence\n",
    "from spacy import displacy \n",
    "displacy.render(nlp('''We all believe the benefits of globalization must \n",
    "be allocated more broadly within and among societies'''), \n",
    "                style='dep',jupyter=True)"
   ]
  },
  {
   "cell_type": "code",
   "execution_count": 70,
   "metadata": {
    "colab": {},
    "colab_type": "code",
    "executionInfo": {
     "elapsed": 2167,
     "status": "ok",
     "timestamp": 1598969780756,
     "user": {
      "displayName": "Aishwarya Singh",
      "photoUrl": "https://lh3.googleusercontent.com/a-/AOh14GgeJwfn4BdBDCAplWi_kdtB9FRssOpXO7T_aMgg=s64",
      "userId": "01105858832371513140"
     },
     "user_tz": -330
    },
    "id": "Vc4LKpTX38y3"
   },
   "outputs": [],
   "source": [
    "# rule 5 function\n",
    "def rule5(text):\n",
    "    \n",
    "    doc = nlp(text)\n",
    "    \n",
    "    sent = []\n",
    "    \n",
    "    for token in doc:\n",
    "\n",
    "        # look for prepositions\n",
    "        if token.pos_=='ADP':\n",
    "\n",
    "            phrase = ''\n",
    "            \n",
    "            # if its head word is a noun\n",
    "            if token.head.pos_=='NOUN':\n",
    "                \n",
    "                # append noun and preposition to phrase\n",
    "                phrase += token.head.text\n",
    "                phrase += ' '+token.text\n",
    "\n",
    "                # check the nodes to the right of the preposition\n",
    "                for right_tok in token.rights:\n",
    "                    # append if it is a noun or proper noun\n",
    "                    if (right_tok.pos_ in ['NOUN','PROPN']):\n",
    "                        phrase += ' '+right_tok.text\n",
    "                \n",
    "                if len(phrase)>2:\n",
    "                    sent.append(phrase)\n",
    "                \n",
    "    return sent"
   ]
  },
  {
   "cell_type": "code",
   "execution_count": 71,
   "metadata": {
    "colab": {},
    "colab_type": "code",
    "executionInfo": {
     "elapsed": 65432,
     "status": "ok",
     "timestamp": 1598969845742,
     "user": {
      "displayName": "Aishwarya Singh",
      "photoUrl": "https://lh3.googleusercontent.com/a-/AOh14GgeJwfn4BdBDCAplWi_kdtB9FRssOpXO7T_aMgg=s64",
      "userId": "01105858832371513140"
     },
     "user_tz": -330
    },
    "id": "XDSBKx2rtnEj"
   },
   "outputs": [],
   "source": [
    "# create a df containing sentence and its output for rule 5\n",
    "row_list = []\n",
    "\n",
    "for i in range(len(df2)):\n",
    "    \n",
    "    sent = df2.loc[i,'Sentence']\n",
    "    year = df2.loc[i,'Year']\n",
    "    \n",
    "    # rule\n",
    "    output = rule5(sent)\n",
    "    \n",
    "    dict1 = {'Year':year,'Sentence':sent,'Output':output}\n",
    "    row_list.append(dict1)\n",
    "\n",
    "df_rule = pd.DataFrame(row_list)"
   ]
  },
  {
   "cell_type": "code",
   "execution_count": 72,
   "metadata": {
    "colab": {
     "base_uri": "https://localhost:8080/",
     "height": 206
    },
    "colab_type": "code",
    "executionInfo": {
     "elapsed": 63518,
     "status": "ok",
     "timestamp": 1598969845748,
     "user": {
      "displayName": "Aishwarya Singh",
      "photoUrl": "https://lh3.googleusercontent.com/a-/AOh14GgeJwfn4BdBDCAplWi_kdtB9FRssOpXO7T_aMgg=s64",
      "userId": "01105858832371513140"
     },
     "user_tz": -330
    },
    "id": "joKeJ_vYzHLh",
    "outputId": "83e542a5-30dc-4be1-fc94-65a91adac80c"
   },
   "outputs": [
    {
     "data": {
      "text/html": [
       "<div>\n",
       "<style scoped>\n",
       "    .dataframe tbody tr th:only-of-type {\n",
       "        vertical-align: middle;\n",
       "    }\n",
       "\n",
       "    .dataframe tbody tr th {\n",
       "        vertical-align: top;\n",
       "    }\n",
       "\n",
       "    .dataframe thead th {\n",
       "        text-align: right;\n",
       "    }\n",
       "</style>\n",
       "<table border=\"1\" class=\"dataframe\">\n",
       "  <thead>\n",
       "    <tr style=\"text-align: right;\">\n",
       "      <th></th>\n",
       "      <th>Year</th>\n",
       "      <th>Sentence</th>\n",
       "      <th>Output</th>\n",
       "    </tr>\n",
       "  </thead>\n",
       "  <tbody>\n",
       "    <tr>\n",
       "      <th>0</th>\n",
       "      <td>1972</td>\n",
       "      <td>During the past few years the world has made r...</td>\n",
       "      <td>[advances toward goal, goal of, peace with]</td>\n",
       "    </tr>\n",
       "    <tr>\n",
       "      <th>1</th>\n",
       "      <td>1972</td>\n",
       "      <td>In 1972 alone, the United States and the Sovi...</td>\n",
       "      <td>[equality of countries, interference in affairs]</td>\n",
       "    </tr>\n",
       "    <tr>\n",
       "      <th>2</th>\n",
       "      <td>1972</td>\n",
       "      <td>The Soviet Union and the United States have a...</td>\n",
       "      <td>[]</td>\n",
       "    </tr>\n",
       "    <tr>\n",
       "      <th>3</th>\n",
       "      <td>1972</td>\n",
       "      <td>The United States and the People Republic of ...</td>\n",
       "      <td>[understanding between peoples, relations betw...</td>\n",
       "    </tr>\n",
       "    <tr>\n",
       "      <th>4</th>\n",
       "      <td>1972</td>\n",
       "      <td>The United Kingdom, France, the Soviet Union ...</td>\n",
       "      <td>[]</td>\n",
       "    </tr>\n",
       "  </tbody>\n",
       "</table>\n",
       "</div>"
      ],
      "text/plain": [
       "   Year  ...                                             Output\n",
       "0  1972  ...        [advances toward goal, goal of, peace with]\n",
       "1  1972  ...   [equality of countries, interference in affairs]\n",
       "2  1972  ...                                                 []\n",
       "3  1972  ...  [understanding between peoples, relations betw...\n",
       "4  1972  ...                                                 []\n",
       "\n",
       "[5 rows x 3 columns]"
      ]
     },
     "execution_count": 72,
     "metadata": {
      "tags": []
     },
     "output_type": "execute_result"
    }
   ],
   "source": [
    "# first 5 rows\n",
    "df_rule.head()"
   ]
  },
  {
   "cell_type": "code",
   "execution_count": 73,
   "metadata": {
    "colab": {},
    "colab_type": "code",
    "executionInfo": {
     "elapsed": 18898,
     "status": "ok",
     "timestamp": 1598969891554,
     "user": {
      "displayName": "Aishwarya Singh",
      "photoUrl": "https://lh3.googleusercontent.com/a-/AOh14GgeJwfn4BdBDCAplWi_kdtB9FRssOpXO7T_aMgg=s64",
      "userId": "01105858832371513140"
     },
     "user_tz": -330
    },
    "id": "inkpkG3ptyId"
   },
   "outputs": [],
   "source": [
    "# select non-empty outputs\n",
    "df_show = pd.DataFrame(columns=df_rule.columns)\n",
    "\n",
    "for row in range(len(df_rule)):\n",
    "    \n",
    "    if len(df_rule.loc[row,'Output'])!=0:\n",
    "        df_show = df_show.append(df_rule.loc[row,:])\n",
    "\n",
    "# reset the index\n",
    "df_show.reset_index(inplace = True, drop = True)"
   ]
  },
  {
   "cell_type": "code",
   "execution_count": 74,
   "metadata": {
    "colab": {
     "base_uri": "https://localhost:8080/",
     "height": 206
    },
    "colab_type": "code",
    "executionInfo": {
     "elapsed": 9952,
     "status": "ok",
     "timestamp": 1598969891561,
     "user": {
      "displayName": "Aishwarya Singh",
      "photoUrl": "https://lh3.googleusercontent.com/a-/AOh14GgeJwfn4BdBDCAplWi_kdtB9FRssOpXO7T_aMgg=s64",
      "userId": "01105858832371513140"
     },
     "user_tz": -330
    },
    "id": "ZQK2X3equKrC",
    "outputId": "887fcf19-127a-4dca-f946-978d2d70d842"
   },
   "outputs": [
    {
     "data": {
      "text/html": [
       "<div>\n",
       "<style scoped>\n",
       "    .dataframe tbody tr th:only-of-type {\n",
       "        vertical-align: middle;\n",
       "    }\n",
       "\n",
       "    .dataframe tbody tr th {\n",
       "        vertical-align: top;\n",
       "    }\n",
       "\n",
       "    .dataframe thead th {\n",
       "        text-align: right;\n",
       "    }\n",
       "</style>\n",
       "<table border=\"1\" class=\"dataframe\">\n",
       "  <thead>\n",
       "    <tr style=\"text-align: right;\">\n",
       "      <th></th>\n",
       "      <th>Year</th>\n",
       "      <th>Sentence</th>\n",
       "      <th>Output</th>\n",
       "    </tr>\n",
       "  </thead>\n",
       "  <tbody>\n",
       "    <tr>\n",
       "      <th>0</th>\n",
       "      <td>1972</td>\n",
       "      <td>During the past few years the world has made r...</td>\n",
       "      <td>[advances toward goal, goal of, peace with]</td>\n",
       "    </tr>\n",
       "    <tr>\n",
       "      <th>1</th>\n",
       "      <td>1972</td>\n",
       "      <td>In 1972 alone, the United States and the Sovi...</td>\n",
       "      <td>[equality of countries, interference in affairs]</td>\n",
       "    </tr>\n",
       "    <tr>\n",
       "      <th>2</th>\n",
       "      <td>1972</td>\n",
       "      <td>The United States and the People Republic of ...</td>\n",
       "      <td>[understanding between peoples, relations betw...</td>\n",
       "    </tr>\n",
       "    <tr>\n",
       "      <th>3</th>\n",
       "      <td>1972</td>\n",
       "      <td>The Federal Republic of Germany and the Germa...</td>\n",
       "      <td>[negotiations on treaty]</td>\n",
       "    </tr>\n",
       "    <tr>\n",
       "      <th>4</th>\n",
       "      <td>1972</td>\n",
       "      <td>And North and South Korea have intensified th...</td>\n",
       "      <td>[talks on plight, plight of families, problems...</td>\n",
       "    </tr>\n",
       "  </tbody>\n",
       "</table>\n",
       "</div>"
      ],
      "text/plain": [
       "   Year  ...                                             Output\n",
       "0  1972  ...        [advances toward goal, goal of, peace with]\n",
       "1  1972  ...   [equality of countries, interference in affairs]\n",
       "2  1972  ...  [understanding between peoples, relations betw...\n",
       "3  1972  ...                           [negotiations on treaty]\n",
       "4  1972  ...  [talks on plight, plight of families, problems...\n",
       "\n",
       "[5 rows x 3 columns]"
      ]
     },
     "execution_count": 74,
     "metadata": {
      "tags": []
     },
     "output_type": "execute_result"
    }
   ],
   "source": [
    "# first 5 rows\n",
    "df_show.head()"
   ]
  },
  {
   "cell_type": "code",
   "execution_count": 75,
   "metadata": {
    "colab": {},
    "colab_type": "code",
    "executionInfo": {
     "elapsed": 1873,
     "status": "ok",
     "timestamp": 1598969916947,
     "user": {
      "displayName": "Aishwarya Singh",
      "photoUrl": "https://lh3.googleusercontent.com/a-/AOh14GgeJwfn4BdBDCAplWi_kdtB9FRssOpXO7T_aMgg=s64",
      "userId": "01105858832371513140"
     },
     "user_tz": -330
    },
    "id": "KEO9JJdluDvd"
   },
   "outputs": [],
   "source": [
    "# separate noun, preposition and noun\n",
    "\n",
    "prep_dict = dict()\n",
    "dis_dict = dict()\n",
    "dis_list = []\n",
    "\n",
    "# iterating over all the sentences\n",
    "for i in range(len(df_show)):\n",
    "    \n",
    "    # sentence containing the output\n",
    "    sentence = df_show.loc[i,'Sentence']\n",
    "    # year of the sentence\n",
    "    year = df_show.loc[i,'Year']\n",
    "    # output of the sentence\n",
    "    output = df_show.loc[i,'Output']\n",
    "    \n",
    "    # iterating over all the outputs from the sentence\n",
    "    for sent in output:\n",
    "        \n",
    "        # separate subject, verb and object\n",
    "        n1, p, n2 = sent.split()[0], sent.split()[1], sent.split()[2:]\n",
    "        \n",
    "        # append to list, along with the sentence\n",
    "        dis_dict = {'Sentence':sentence,'Year':year,'Noun1':n1,'Preposition':p,'Noun2':n2}\n",
    "        dis_list.append(dis_dict)\n",
    "        \n",
    "        # counting the number of sentences containing the verb\n",
    "        prep = sent.split()[1]\n",
    "        if prep in prep_dict:\n",
    "            prep_dict[prep]+=1\n",
    "        else:\n",
    "            prep_dict[prep]=1\n",
    "\n",
    "df_sep= pd.DataFrame(dis_list)"
   ]
  },
  {
   "cell_type": "code",
   "execution_count": 76,
   "metadata": {
    "colab": {
     "base_uri": "https://localhost:8080/",
     "height": 363
    },
    "colab_type": "code",
    "executionInfo": {
     "elapsed": 1544,
     "status": "ok",
     "timestamp": 1598969920355,
     "user": {
      "displayName": "Aishwarya Singh",
      "photoUrl": "https://lh3.googleusercontent.com/a-/AOh14GgeJwfn4BdBDCAplWi_kdtB9FRssOpXO7T_aMgg=s64",
      "userId": "01105858832371513140"
     },
     "user_tz": -330
    },
    "id": "WACK2JePuXxm",
    "outputId": "3c18917b-a2c9-48b5-9148-40809f08274a"
   },
   "outputs": [
    {
     "data": {
      "text/html": [
       "<div>\n",
       "<style scoped>\n",
       "    .dataframe tbody tr th:only-of-type {\n",
       "        vertical-align: middle;\n",
       "    }\n",
       "\n",
       "    .dataframe tbody tr th {\n",
       "        vertical-align: top;\n",
       "    }\n",
       "\n",
       "    .dataframe thead th {\n",
       "        text-align: right;\n",
       "    }\n",
       "</style>\n",
       "<table border=\"1\" class=\"dataframe\">\n",
       "  <thead>\n",
       "    <tr style=\"text-align: right;\">\n",
       "      <th></th>\n",
       "      <th>Sentence</th>\n",
       "      <th>Year</th>\n",
       "      <th>Noun1</th>\n",
       "      <th>Preposition</th>\n",
       "      <th>Noun2</th>\n",
       "    </tr>\n",
       "  </thead>\n",
       "  <tbody>\n",
       "    <tr>\n",
       "      <th>0</th>\n",
       "      <td>During the past few years the world has made r...</td>\n",
       "      <td>1972</td>\n",
       "      <td>advances</td>\n",
       "      <td>toward</td>\n",
       "      <td>[goal]</td>\n",
       "    </tr>\n",
       "    <tr>\n",
       "      <th>1</th>\n",
       "      <td>During the past few years the world has made r...</td>\n",
       "      <td>1972</td>\n",
       "      <td>goal</td>\n",
       "      <td>of</td>\n",
       "      <td>[]</td>\n",
       "    </tr>\n",
       "    <tr>\n",
       "      <th>2</th>\n",
       "      <td>During the past few years the world has made r...</td>\n",
       "      <td>1972</td>\n",
       "      <td>peace</td>\n",
       "      <td>with</td>\n",
       "      <td>[]</td>\n",
       "    </tr>\n",
       "    <tr>\n",
       "      <th>3</th>\n",
       "      <td>In 1972 alone, the United States and the Sovi...</td>\n",
       "      <td>1972</td>\n",
       "      <td>equality</td>\n",
       "      <td>of</td>\n",
       "      <td>[countries]</td>\n",
       "    </tr>\n",
       "    <tr>\n",
       "      <th>4</th>\n",
       "      <td>In 1972 alone, the United States and the Sovi...</td>\n",
       "      <td>1972</td>\n",
       "      <td>interference</td>\n",
       "      <td>in</td>\n",
       "      <td>[affairs]</td>\n",
       "    </tr>\n",
       "    <tr>\n",
       "      <th>5</th>\n",
       "      <td>The United States and the People Republic of ...</td>\n",
       "      <td>1972</td>\n",
       "      <td>understanding</td>\n",
       "      <td>between</td>\n",
       "      <td>[peoples]</td>\n",
       "    </tr>\n",
       "    <tr>\n",
       "      <th>6</th>\n",
       "      <td>The United States and the People Republic of ...</td>\n",
       "      <td>1972</td>\n",
       "      <td>relations</td>\n",
       "      <td>between</td>\n",
       "      <td>[]</td>\n",
       "    </tr>\n",
       "    <tr>\n",
       "      <th>7</th>\n",
       "      <td>The United States and the People Republic of ...</td>\n",
       "      <td>1972</td>\n",
       "      <td>interests</td>\n",
       "      <td>of</td>\n",
       "      <td>[States]</td>\n",
       "    </tr>\n",
       "    <tr>\n",
       "      <th>8</th>\n",
       "      <td>The United States and the People Republic of ...</td>\n",
       "      <td>1972</td>\n",
       "      <td>hegemony</td>\n",
       "      <td>in</td>\n",
       "      <td>[Asia]</td>\n",
       "    </tr>\n",
       "    <tr>\n",
       "      <th>9</th>\n",
       "      <td>The United States and the People Republic of ...</td>\n",
       "      <td>1972</td>\n",
       "      <td>division</td>\n",
       "      <td>of</td>\n",
       "      <td>[world]</td>\n",
       "    </tr>\n",
       "  </tbody>\n",
       "</table>\n",
       "</div>"
      ],
      "text/plain": [
       "                                            Sentence  ...        Noun2\n",
       "0  During the past few years the world has made r...  ...       [goal]\n",
       "1  During the past few years the world has made r...  ...           []\n",
       "2  During the past few years the world has made r...  ...           []\n",
       "3   In 1972 alone, the United States and the Sovi...  ...  [countries]\n",
       "4   In 1972 alone, the United States and the Sovi...  ...    [affairs]\n",
       "5   The United States and the People Republic of ...  ...    [peoples]\n",
       "6   The United States and the People Republic of ...  ...           []\n",
       "7   The United States and the People Republic of ...  ...     [States]\n",
       "8   The United States and the People Republic of ...  ...       [Asia]\n",
       "9   The United States and the People Republic of ...  ...      [world]\n",
       "\n",
       "[10 rows x 5 columns]"
      ]
     },
     "execution_count": 76,
     "metadata": {
      "tags": []
     },
     "output_type": "execute_result"
    }
   ],
   "source": [
    "# first 10 rows\n",
    "df_sep.head(10)"
   ]
  },
  {
   "cell_type": "code",
   "execution_count": 77,
   "metadata": {
    "colab": {
     "base_uri": "https://localhost:8080/",
     "height": 208
    },
    "colab_type": "code",
    "executionInfo": {
     "elapsed": 1664,
     "status": "ok",
     "timestamp": 1598969953544,
     "user": {
      "displayName": "Aishwarya Singh",
      "photoUrl": "https://lh3.googleusercontent.com/a-/AOh14GgeJwfn4BdBDCAplWi_kdtB9FRssOpXO7T_aMgg=s64",
      "userId": "01105858832371513140"
     },
     "user_tz": -330
    },
    "id": "W3U_lGveuZTd",
    "outputId": "85f10818-1901-4dc3-d68f-4866badba4f6"
   },
   "outputs": [
    {
     "data": {
      "text/plain": [
       "of         6123\n",
       "in         1239\n",
       "for         890\n",
       "to          576\n",
       "on          364\n",
       "with        249\n",
       "between     204\n",
       "from        146\n",
       "against     126\n",
       "by           89\n",
       "Name: Preposition, dtype: int64"
      ]
     },
     "execution_count": 77,
     "metadata": {
      "tags": []
     },
     "output_type": "execute_result"
    }
   ],
   "source": [
    "# top 10 prepositions\n",
    "df_sep['Preposition'].value_counts()[:10]"
   ]
  },
  {
   "cell_type": "code",
   "execution_count": 78,
   "metadata": {
    "colab": {
     "base_uri": "https://localhost:8080/",
     "height": 363
    },
    "colab_type": "code",
    "executionInfo": {
     "elapsed": 1218,
     "status": "ok",
     "timestamp": 1598969976779,
     "user": {
      "displayName": "Aishwarya Singh",
      "photoUrl": "https://lh3.googleusercontent.com/a-/AOh14GgeJwfn4BdBDCAplWi_kdtB9FRssOpXO7T_aMgg=s64",
      "userId": "01105858832371513140"
     },
     "user_tz": -330
    },
    "id": "cdBvmobauiOj",
    "outputId": "7722e479-25a2-499a-8e47-49ea48323050"
   },
   "outputs": [
    {
     "data": {
      "text/html": [
       "<div>\n",
       "<style scoped>\n",
       "    .dataframe tbody tr th:only-of-type {\n",
       "        vertical-align: middle;\n",
       "    }\n",
       "\n",
       "    .dataframe tbody tr th {\n",
       "        vertical-align: top;\n",
       "    }\n",
       "\n",
       "    .dataframe thead th {\n",
       "        text-align: right;\n",
       "    }\n",
       "</style>\n",
       "<table border=\"1\" class=\"dataframe\">\n",
       "  <thead>\n",
       "    <tr style=\"text-align: right;\">\n",
       "      <th></th>\n",
       "      <th>Sentence</th>\n",
       "      <th>Year</th>\n",
       "      <th>Noun1</th>\n",
       "      <th>Preposition</th>\n",
       "      <th>Noun2</th>\n",
       "    </tr>\n",
       "  </thead>\n",
       "  <tbody>\n",
       "    <tr>\n",
       "      <th>103</th>\n",
       "      <td>This fact has often been cited in attacks aga...</td>\n",
       "      <td>1972</td>\n",
       "      <td>attacks</td>\n",
       "      <td>against</td>\n",
       "      <td>[]</td>\n",
       "    </tr>\n",
       "    <tr>\n",
       "      <th>137</th>\n",
       "      <td>The United Nations can also make a substantia...</td>\n",
       "      <td>1972</td>\n",
       "      <td>fight</td>\n",
       "      <td>against</td>\n",
       "      <td>[traffic]</td>\n",
       "    </tr>\n",
       "    <tr>\n",
       "      <th>180</th>\n",
       "      <td>But political passion, however deeply held, c...</td>\n",
       "      <td>1972</td>\n",
       "      <td>violence</td>\n",
       "      <td>against</td>\n",
       "      <td>[persons]</td>\n",
       "    </tr>\n",
       "    <tr>\n",
       "      <th>181</th>\n",
       "      <td>Certainly the terrorist acts I have cited are...</td>\n",
       "      <td>1972</td>\n",
       "      <td>attacks</td>\n",
       "      <td>against</td>\n",
       "      <td>[fabric]</td>\n",
       "    </tr>\n",
       "    <tr>\n",
       "      <th>201</th>\n",
       "      <td>The draft articles on the prevention and puni...</td>\n",
       "      <td>1972</td>\n",
       "      <td>crimes</td>\n",
       "      <td>against</td>\n",
       "      <td>[agents]</td>\n",
       "    </tr>\n",
       "    <tr>\n",
       "      <th>221</th>\n",
       "      <td>These actions would mark a major advance in ...</td>\n",
       "      <td>1972</td>\n",
       "      <td>struggle</td>\n",
       "      <td>against</td>\n",
       "      <td>[terrorism]</td>\n",
       "    </tr>\n",
       "    <tr>\n",
       "      <th>231</th>\n",
       "      <td>A  great struggle against dictatorship had be...</td>\n",
       "      <td>1992</td>\n",
       "      <td>struggle</td>\n",
       "      <td>against</td>\n",
       "      <td>[dictatorship]</td>\n",
       "    </tr>\n",
       "    <tr>\n",
       "      <th>340</th>\n",
       "      <td>Therefore, we are working towards a cooperati...</td>\n",
       "      <td>1992</td>\n",
       "      <td>defence</td>\n",
       "      <td>against</td>\n",
       "      <td>[attacks]</td>\n",
       "    </tr>\n",
       "    <tr>\n",
       "      <th>376</th>\n",
       "      <td>And in the face of today changes, with the ...</td>\n",
       "      <td>1992</td>\n",
       "      <td>walls</td>\n",
       "      <td>against</td>\n",
       "      <td>[trade]</td>\n",
       "    </tr>\n",
       "    <tr>\n",
       "      <th>377</th>\n",
       "      <td>And in the face of today changes, with the ...</td>\n",
       "      <td>1992</td>\n",
       "      <td>walls</td>\n",
       "      <td>against</td>\n",
       "      <td>[people]</td>\n",
       "    </tr>\n",
       "  </tbody>\n",
       "</table>\n",
       "</div>"
      ],
      "text/plain": [
       "                                              Sentence  ...           Noun2\n",
       "103   This fact has often been cited in attacks aga...  ...              []\n",
       "137   The United Nations can also make a substantia...  ...       [traffic]\n",
       "180   But political passion, however deeply held, c...  ...       [persons]\n",
       "181   Certainly the terrorist acts I have cited are...  ...        [fabric]\n",
       "201   The draft articles on the prevention and puni...  ...        [agents]\n",
       "221    These actions would mark a major advance in ...  ...     [terrorism]\n",
       "231   A  great struggle against dictatorship had be...  ...  [dictatorship]\n",
       "340   Therefore, we are working towards a cooperati...  ...       [attacks]\n",
       "376     And in the face of today changes, with the ...  ...         [trade]\n",
       "377     And in the face of today changes, with the ...  ...        [people]\n",
       "\n",
       "[10 rows x 5 columns]"
      ]
     },
     "execution_count": 78,
     "metadata": {
      "tags": []
     },
     "output_type": "execute_result"
    }
   ],
   "source": [
    "# selecting a preposition and looking at its patterns\n",
    "df_sep[df_sep['Preposition'] == 'against'].head(10)"
   ]
  },
  {
   "cell_type": "code",
   "execution_count": null,
   "metadata": {
    "colab": {},
    "colab_type": "code",
    "id": "uDRAqZKUCZHv"
   },
   "outputs": [],
   "source": []
  }
 ],
 "metadata": {
  "colab": {
   "collapsed_sections": [],
   "name": "United Nations Debate Analysis.ipynb",
   "provenance": []
  },
  "kernelspec": {
   "display_name": "Python 3",
   "language": "python",
   "name": "python3"
  },
  "language_info": {
   "codemirror_mode": {
    "name": "ipython",
    "version": 3
   },
   "file_extension": ".py",
   "mimetype": "text/x-python",
   "name": "python",
   "nbconvert_exporter": "python",
   "pygments_lexer": "ipython3",
   "version": "3.8.5"
  }
 },
 "nbformat": 4,
 "nbformat_minor": 4
}
