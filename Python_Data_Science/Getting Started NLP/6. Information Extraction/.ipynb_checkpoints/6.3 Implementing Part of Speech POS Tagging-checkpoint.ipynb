{
 "cells": [
  {
   "cell_type": "code",
   "execution_count": 1,
   "metadata": {
    "colab": {},
    "colab_type": "code",
    "executionInfo": {
     "elapsed": 3636,
     "status": "ok",
     "timestamp": 1598884155405,
     "user": {
      "displayName": "Aishwarya Singh",
      "photoUrl": "https://lh3.googleusercontent.com/a-/AOh14GgeJwfn4BdBDCAplWi_kdtB9FRssOpXO7T_aMgg=s64",
      "userId": "01105858832371513140"
     },
     "user_tz": -330
    },
    "id": "xwujk3dRjkup"
   },
   "outputs": [],
   "source": [
    "import spacy"
   ]
  },
  {
   "cell_type": "code",
   "execution_count": 2,
   "metadata": {
    "colab": {},
    "colab_type": "code",
    "executionInfo": {
     "elapsed": 2689,
     "status": "ok",
     "timestamp": 1598884164624,
     "user": {
      "displayName": "Aishwarya Singh",
      "photoUrl": "https://lh3.googleusercontent.com/a-/AOh14GgeJwfn4BdBDCAplWi_kdtB9FRssOpXO7T_aMgg=s64",
      "userId": "01105858832371513140"
     },
     "user_tz": -330
    },
    "id": "-Cm3dVGMjkvP"
   },
   "outputs": [],
   "source": [
    "# Defining the string\n",
    "text=\"With great power comes great responsibility.\""
   ]
  },
  {
   "cell_type": "code",
   "execution_count": 3,
   "metadata": {
    "colab": {},
    "colab_type": "code",
    "executionInfo": {
     "elapsed": 1892,
     "status": "ok",
     "timestamp": 1598884173747,
     "user": {
      "displayName": "Aishwarya Singh",
      "photoUrl": "https://lh3.googleusercontent.com/a-/AOh14GgeJwfn4BdBDCAplWi_kdtB9FRssOpXO7T_aMgg=s64",
      "userId": "01105858832371513140"
     },
     "user_tz": -330
    },
    "id": "huvTbq7fjkvY"
   },
   "outputs": [],
   "source": [
    "# Loading the model\n",
    "nlp=spacy.load('en_core_web_sm')"
   ]
  },
  {
   "cell_type": "code",
   "execution_count": 4,
   "metadata": {
    "colab": {},
    "colab_type": "code",
    "executionInfo": {
     "elapsed": 1315,
     "status": "ok",
     "timestamp": 1598884176578,
     "user": {
      "displayName": "Aishwarya Singh",
      "photoUrl": "https://lh3.googleusercontent.com/a-/AOh14GgeJwfn4BdBDCAplWi_kdtB9FRssOpXO7T_aMgg=s64",
      "userId": "01105858832371513140"
     },
     "user_tz": -330
    },
    "id": "WHFHbjGsjkvg"
   },
   "outputs": [],
   "source": [
    "# Creating Doc object\n",
    "doc=nlp(text)"
   ]
  },
  {
   "cell_type": "code",
   "execution_count": 5,
   "metadata": {
    "colab": {
     "base_uri": "https://localhost:8080/",
     "height": 139
    },
    "colab_type": "code",
    "executionInfo": {
     "elapsed": 1368,
     "status": "ok",
     "timestamp": 1598884206419,
     "user": {
      "displayName": "Aishwarya Singh",
      "photoUrl": "https://lh3.googleusercontent.com/a-/AOh14GgeJwfn4BdBDCAplWi_kdtB9FRssOpXO7T_aMgg=s64",
      "userId": "01105858832371513140"
     },
     "user_tz": -330
    },
    "id": "K1sqN0-Rjkvo",
    "outputId": "45f70107-f9ed-4ac7-9e6c-a360545e00d8"
   },
   "outputs": [
    {
     "name": "stdout",
     "output_type": "stream",
     "text": [
      "With => ADP => IN\n",
      "great => ADJ => JJ\n",
      "power => NOUN => NN\n",
      "comes => VERB => VBZ\n",
      "great => ADJ => JJ\n",
      "responsibility => NOUN => NN\n",
      ". => PUNCT => .\n"
     ]
    }
   ],
   "source": [
    "# Getting POS tags\n",
    "for token in doc:\n",
    "    print(token.text,'=>',token.pos_,'=>',token.tag_)"
   ]
  },
  {
   "cell_type": "code",
   "execution_count": 6,
   "metadata": {
    "colab": {},
    "colab_type": "code",
    "executionInfo": {
     "elapsed": 1272,
     "status": "ok",
     "timestamp": 1598884223305,
     "user": {
      "displayName": "Aishwarya Singh",
      "photoUrl": "https://lh3.googleusercontent.com/a-/AOh14GgeJwfn4BdBDCAplWi_kdtB9FRssOpXO7T_aMgg=s64",
      "userId": "01105858832371513140"
     },
     "user_tz": -330
    },
    "id": "b2guZjnBjkvy"
   },
   "outputs": [],
   "source": [
    "# Defining the string\n",
    "text=\"The teacher reads a book to her students then asks them questions about the story.\""
   ]
  },
  {
   "cell_type": "code",
   "execution_count": 7,
   "metadata": {
    "colab": {},
    "colab_type": "code",
    "executionInfo": {
     "elapsed": 1283,
     "status": "ok",
     "timestamp": 1598884233239,
     "user": {
      "displayName": "Aishwarya Singh",
      "photoUrl": "https://lh3.googleusercontent.com/a-/AOh14GgeJwfn4BdBDCAplWi_kdtB9FRssOpXO7T_aMgg=s64",
      "userId": "01105858832371513140"
     },
     "user_tz": -330
    },
    "id": "97uhzyoujkv6"
   },
   "outputs": [],
   "source": [
    "# Creating Doc object\n",
    "doc=nlp(text)"
   ]
  },
  {
   "cell_type": "code",
   "execution_count": 8,
   "metadata": {
    "colab": {
     "base_uri": "https://localhost:8080/",
     "height": 295
    },
    "colab_type": "code",
    "executionInfo": {
     "elapsed": 1736,
     "status": "ok",
     "timestamp": 1598884234913,
     "user": {
      "displayName": "Aishwarya Singh",
      "photoUrl": "https://lh3.googleusercontent.com/a-/AOh14GgeJwfn4BdBDCAplWi_kdtB9FRssOpXO7T_aMgg=s64",
      "userId": "01105858832371513140"
     },
     "user_tz": -330
    },
    "id": "KjDJHck_jkwD",
    "outputId": "2581b48b-a09c-4b62-c512-8ee60084d506"
   },
   "outputs": [
    {
     "name": "stdout",
     "output_type": "stream",
     "text": [
      "The => DET => DT\n",
      "teacher => NOUN => NN\n",
      "reads => VERB => VBZ\n",
      "a => DET => DT\n",
      "book => NOUN => NN\n",
      "to => ADP => IN\n",
      "her => DET => PRP$\n",
      "students => NOUN => NNS\n",
      "then => ADV => RB\n",
      "asks => VERB => VBZ\n",
      "them => PRON => PRP\n",
      "questions => NOUN => NNS\n",
      "about => ADP => IN\n",
      "the => DET => DT\n",
      "story => NOUN => NN\n",
      ". => PUNCT => .\n"
     ]
    }
   ],
   "source": [
    "# Getting POS tags\n",
    "for token in doc:\n",
    "    print(token.text,'=>',token.pos_,'=>',token.tag_)"
   ]
  },
  {
   "cell_type": "code",
   "execution_count": 9,
   "metadata": {
    "colab": {
     "base_uri": "https://localhost:8080/",
     "height": 34
    },
    "colab_type": "code",
    "executionInfo": {
     "elapsed": 1256,
     "status": "ok",
     "timestamp": 1598884273344,
     "user": {
      "displayName": "Aishwarya Singh",
      "photoUrl": "https://lh3.googleusercontent.com/a-/AOh14GgeJwfn4BdBDCAplWi_kdtB9FRssOpXO7T_aMgg=s64",
      "userId": "01105858832371513140"
     },
     "user_tz": -330
    },
    "id": "Gz1Mr0MEjkwL",
    "outputId": "217cd0f6-630b-4d41-aaab-6748dcf9b88f"
   },
   "outputs": [
    {
     "data": {
      "text/plain": [
       "['reads', 'asks']"
      ]
     },
     "execution_count": 9,
     "metadata": {},
     "output_type": "execute_result"
    }
   ],
   "source": [
    "# Extracting verbs from the sentence\n",
    "[token.text for token in doc if(token.pos_=='VERB')]"
   ]
  },
  {
   "cell_type": "code",
   "execution_count": 10,
   "metadata": {
    "colab": {},
    "colab_type": "code",
    "id": "gM6Foq6-jkwS"
   },
   "outputs": [
    {
     "data": {
      "text/plain": [
       "['teacher', 'book', 'students', 'questions', 'story']"
      ]
     },
     "execution_count": 10,
     "metadata": {},
     "output_type": "execute_result"
    }
   ],
   "source": [
    "# Extracting nouns from the sentence\n",
    "[token.text for token in doc if(token.pos_=='NOUN')]"
   ]
  },
  {
   "cell_type": "markdown",
   "metadata": {},
   "source": [
    "# Exercise\n",
    "For this exercise, you are provided with a txt file named \"moon.txt\". Read that file in the jupyter notebook and perform the following tasks:\n",
    "- Task 1: Annotate the words with part-of-speech tags.\n",
    "- Task 2: Count the number of nouns and verbs in the text.\n"
   ]
  },
  {
   "cell_type": "code",
   "execution_count": 13,
   "metadata": {},
   "outputs": [
    {
     "name": "stdout",
     "output_type": "stream",
     "text": [
      "The moon is the satellite of the earth. It moves round the earth. It shines at night by light reflected from the Sun. It looks beautiful. The bright Moonlight is very soothing. The earthly objects shine like silver in the moonlight. We are fascinated by the enchanting beauty of the Moon. The moon is not as beautiful as it looks. It seems to be lovely when it shines in the sky at night. As a matter of fact it is devoid of plants and animals. The moon is not a suitable place for plants and animals. Therefore, no form of life can be found on the moon. Unlike the earth, the moon has got no atmosphere. Therefore, the lunar days are very hot and the lunar nights are intensely cold. The moon looks beautiful from the earth but in fact it has up forbidding appearance. It is full of rocks and craters. When we look at the moon at night we see some dark spots on it. These dark spots are dangerous rocks and craters. The gravitational pull of the moon is less than that of the earth, so it is difficult to walk on the surface of the Moon. The moon has fascinated man since the beginning of his life on the earth. He has looked at it with wonder. Many poets have composed beautiful poems on the moon. Scientists tried to reveal the mystery of the moon. They wanted to send human to the moon. Several attempts were made to place man on the moon. At last two Americans-Neil Armstrong and Edwin Aldrin-reached the moon on July 21, 1969. They walked on the surface of the moon and collected the lunar rocks. They returned to the earth safely. The American scientists have sent men to the moon several times. Now the moon has been conquered by man. It is no longer a mysterious object. The journey of the moon may be thrilling but it cannot make our life on the earth happy. It is better to have a happy life on the earth then to go to the moon.\n",
      "\n"
     ]
    }
   ],
   "source": [
    "# Reading text file in read mode as a file object using open()\n",
    "file=open('../data/moon.txt', mode='r', encoding='utf-8')\n",
    "\n",
    "# Getting text data as string from file object using read()\n",
    "text=file.read()\n",
    "\n",
    "# Closing the file using close()\n",
    "file.close()\n",
    "\n",
    "print(text)"
   ]
  },
  {
   "cell_type": "code",
   "execution_count": 14,
   "metadata": {},
   "outputs": [
    {
     "name": "stdout",
     "output_type": "stream",
     "text": [
      "The => DET => DT\n",
      "moon => NOUN => NN\n",
      "is => AUX => VBZ\n",
      "the => DET => DT\n",
      "satellite => NOUN => NN\n",
      "of => ADP => IN\n",
      "the => DET => DT\n",
      "earth => NOUN => NN\n",
      ". => PUNCT => .\n",
      "It => PRON => PRP\n",
      "moves => VERB => VBZ\n",
      "round => ADP => IN\n",
      "the => DET => DT\n",
      "earth => NOUN => NN\n",
      ". => PUNCT => .\n",
      "It => PRON => PRP\n",
      "shines => VERB => VBZ\n",
      "at => ADP => IN\n",
      "night => NOUN => NN\n",
      "by => ADP => IN\n",
      "light => NOUN => NN\n",
      "reflected => VERB => VBN\n",
      "from => ADP => IN\n",
      "the => DET => DT\n",
      "Sun => PROPN => NNP\n",
      ". => PUNCT => .\n",
      "It => PRON => PRP\n",
      "looks => VERB => VBZ\n",
      "beautiful => ADJ => JJ\n",
      ". => PUNCT => .\n",
      "The => DET => DT\n",
      "bright => ADJ => JJ\n",
      "Moonlight => PROPN => NNP\n",
      "is => AUX => VBZ\n",
      "very => ADV => RB\n",
      "soothing => ADJ => JJ\n",
      ". => PUNCT => .\n",
      "The => DET => DT\n",
      "earthly => ADJ => JJ\n",
      "objects => NOUN => NNS\n",
      "shine => VERB => VBP\n",
      "like => SCONJ => IN\n",
      "silver => NOUN => NN\n",
      "in => ADP => IN\n",
      "the => DET => DT\n",
      "moonlight => NOUN => NN\n",
      ". => PUNCT => .\n",
      "We => PRON => PRP\n",
      "are => AUX => VBP\n",
      "fascinated => VERB => VBN\n",
      "by => ADP => IN\n",
      "the => DET => DT\n",
      "enchanting => ADJ => JJ\n",
      "beauty => NOUN => NN\n",
      "of => ADP => IN\n",
      "the => DET => DT\n",
      "Moon => PROPN => NNP\n",
      ". => PUNCT => .\n",
      "The => DET => DT\n",
      "moon => NOUN => NN\n",
      "is => AUX => VBZ\n",
      "not => PART => RB\n",
      "as => ADV => RB\n",
      "beautiful => ADJ => JJ\n",
      "as => SCONJ => IN\n",
      "it => PRON => PRP\n",
      "looks => VERB => VBZ\n",
      ". => PUNCT => .\n",
      "It => PRON => PRP\n",
      "seems => VERB => VBZ\n",
      "to => PART => TO\n",
      "be => AUX => VB\n",
      "lovely => ADJ => JJ\n",
      "when => ADV => WRB\n",
      "it => PRON => PRP\n",
      "shines => VERB => VBZ\n",
      "in => ADP => IN\n",
      "the => DET => DT\n",
      "sky => NOUN => NN\n",
      "at => ADP => IN\n",
      "night => NOUN => NN\n",
      ". => PUNCT => .\n",
      "As => SCONJ => IN\n",
      "a => DET => DT\n",
      "matter => NOUN => NN\n",
      "of => ADP => IN\n",
      "fact => NOUN => NN\n",
      "it => PRON => PRP\n",
      "is => AUX => VBZ\n",
      "devoid => ADJ => JJ\n",
      "of => ADP => IN\n",
      "plants => NOUN => NNS\n",
      "and => CCONJ => CC\n",
      "animals => NOUN => NNS\n",
      ". => PUNCT => .\n",
      "The => DET => DT\n",
      "moon => NOUN => NN\n",
      "is => AUX => VBZ\n",
      "not => PART => RB\n",
      "a => DET => DT\n",
      "suitable => ADJ => JJ\n",
      "place => NOUN => NN\n",
      "for => ADP => IN\n",
      "plants => NOUN => NNS\n",
      "and => CCONJ => CC\n",
      "animals => NOUN => NNS\n",
      ". => PUNCT => .\n",
      "Therefore => ADV => RB\n",
      ", => PUNCT => ,\n",
      "no => DET => DT\n",
      "form => NOUN => NN\n",
      "of => ADP => IN\n",
      "life => NOUN => NN\n",
      "can => VERB => MD\n",
      "be => AUX => VB\n",
      "found => VERB => VBN\n",
      "on => ADP => IN\n",
      "the => DET => DT\n",
      "moon => NOUN => NN\n",
      ". => PUNCT => .\n",
      "Unlike => ADP => IN\n",
      "the => DET => DT\n",
      "earth => NOUN => NN\n",
      ", => PUNCT => ,\n",
      "the => DET => DT\n",
      "moon => NOUN => NN\n",
      "has => AUX => VBZ\n",
      "got => VERB => VBN\n",
      "no => DET => DT\n",
      "atmosphere => NOUN => NN\n",
      ". => PUNCT => .\n",
      "Therefore => ADV => RB\n",
      ", => PUNCT => ,\n",
      "the => DET => DT\n",
      "lunar => ADJ => JJ\n",
      "days => NOUN => NNS\n",
      "are => AUX => VBP\n",
      "very => ADV => RB\n",
      "hot => ADJ => JJ\n",
      "and => CCONJ => CC\n",
      "the => DET => DT\n",
      "lunar => ADJ => JJ\n",
      "nights => NOUN => NNS\n",
      "are => AUX => VBP\n",
      "intensely => ADV => RB\n",
      "cold => ADJ => JJ\n",
      ". => PUNCT => .\n",
      "The => DET => DT\n",
      "moon => NOUN => NN\n",
      "looks => VERB => VBZ\n",
      "beautiful => ADJ => JJ\n",
      "from => ADP => IN\n",
      "the => DET => DT\n",
      "earth => NOUN => NN\n",
      "but => CCONJ => CC\n",
      "in => ADP => IN\n",
      "fact => NOUN => NN\n",
      "it => PRON => PRP\n",
      "has => AUX => VBZ\n",
      "up => ADP => RP\n",
      "forbidding => VERB => VBG\n",
      "appearance => NOUN => NN\n",
      ". => PUNCT => .\n",
      "It => PRON => PRP\n",
      "is => AUX => VBZ\n",
      "full => ADJ => JJ\n",
      "of => ADP => IN\n",
      "rocks => NOUN => NNS\n",
      "and => CCONJ => CC\n",
      "craters => NOUN => NNS\n",
      ". => PUNCT => .\n",
      "When => ADV => WRB\n",
      "we => PRON => PRP\n",
      "look => VERB => VBP\n",
      "at => ADP => IN\n",
      "the => DET => DT\n",
      "moon => NOUN => NN\n",
      "at => ADP => IN\n",
      "night => NOUN => NN\n",
      "we => PRON => PRP\n",
      "see => VERB => VBP\n",
      "some => DET => DT\n",
      "dark => ADJ => JJ\n",
      "spots => NOUN => NNS\n",
      "on => ADP => IN\n",
      "it => PRON => PRP\n",
      ". => PUNCT => .\n",
      "These => DET => DT\n",
      "dark => ADJ => JJ\n",
      "spots => NOUN => NNS\n",
      "are => AUX => VBP\n",
      "dangerous => ADJ => JJ\n",
      "rocks => NOUN => NNS\n",
      "and => CCONJ => CC\n",
      "craters => NOUN => NNS\n",
      ". => PUNCT => .\n",
      "The => DET => DT\n",
      "gravitational => ADJ => JJ\n",
      "pull => NOUN => NN\n",
      "of => ADP => IN\n",
      "the => DET => DT\n",
      "moon => NOUN => NN\n",
      "is => AUX => VBZ\n",
      "less => ADJ => JJR\n",
      "than => SCONJ => IN\n",
      "that => DET => DT\n",
      "of => ADP => IN\n",
      "the => DET => DT\n",
      "earth => NOUN => NN\n",
      ", => PUNCT => ,\n",
      "so => CCONJ => CC\n",
      "it => PRON => PRP\n",
      "is => AUX => VBZ\n",
      "difficult => ADJ => JJ\n",
      "to => PART => TO\n",
      "walk => VERB => VB\n",
      "on => ADP => IN\n",
      "the => DET => DT\n",
      "surface => NOUN => NN\n",
      "of => ADP => IN\n",
      "the => DET => DT\n",
      "Moon => PROPN => NNP\n",
      ". => PUNCT => .\n",
      "The => DET => DT\n",
      "moon => NOUN => NN\n",
      "has => AUX => VBZ\n",
      "fascinated => VERB => VBN\n",
      "man => NOUN => NN\n",
      "since => SCONJ => IN\n",
      "the => DET => DT\n",
      "beginning => NOUN => NN\n",
      "of => ADP => IN\n",
      "his => DET => PRP$\n",
      "life => NOUN => NN\n",
      "on => ADP => IN\n",
      "the => DET => DT\n",
      "earth => NOUN => NN\n",
      ". => PUNCT => .\n",
      "He => PRON => PRP\n",
      "has => AUX => VBZ\n",
      "looked => VERB => VBN\n",
      "at => ADP => IN\n",
      "it => PRON => PRP\n",
      "with => ADP => IN\n",
      "wonder => NOUN => NN\n",
      ". => PUNCT => .\n",
      "Many => ADJ => JJ\n",
      "poets => NOUN => NNS\n",
      "have => AUX => VBP\n",
      "composed => VERB => VBN\n",
      "beautiful => ADJ => JJ\n",
      "poems => NOUN => NNS\n",
      "on => ADP => IN\n",
      "the => DET => DT\n",
      "moon => NOUN => NN\n",
      ". => PUNCT => .\n",
      "Scientists => NOUN => NNS\n",
      "tried => VERB => VBD\n",
      "to => PART => TO\n",
      "reveal => VERB => VB\n",
      "the => DET => DT\n",
      "mystery => NOUN => NN\n",
      "of => ADP => IN\n",
      "the => DET => DT\n",
      "moon => NOUN => NN\n",
      ". => PUNCT => .\n",
      "They => PRON => PRP\n",
      "wanted => VERB => VBD\n",
      "to => PART => TO\n",
      "send => VERB => VB\n",
      "human => NOUN => NN\n",
      "to => ADP => IN\n",
      "the => DET => DT\n",
      "moon => NOUN => NN\n",
      ". => PUNCT => .\n",
      "Several => ADJ => JJ\n",
      "attempts => NOUN => NNS\n",
      "were => AUX => VBD\n",
      "made => VERB => VBN\n",
      "to => PART => TO\n",
      "place => VERB => VB\n",
      "man => NOUN => NN\n",
      "on => ADP => IN\n",
      "the => DET => DT\n",
      "moon => NOUN => NN\n",
      ". => PUNCT => .\n",
      "At => ADP => IN\n",
      "last => ADJ => JJ\n",
      "two => NUM => CD\n",
      "Americans => PROPN => NNPS\n",
      "- => PUNCT => :\n",
      "Neil => PROPN => NNP\n",
      "Armstrong => PROPN => NNP\n",
      "and => CCONJ => CC\n",
      "Edwin => PROPN => NNP\n",
      "Aldrin => PROPN => NNP\n",
      "- => PUNCT => ,\n",
      "reached => VERB => VBD\n",
      "the => DET => DT\n",
      "moon => NOUN => NN\n",
      "on => ADP => IN\n",
      "July => PROPN => NNP\n",
      "21 => NUM => CD\n",
      ", => PUNCT => ,\n",
      "1969 => NUM => CD\n",
      ". => PUNCT => .\n",
      "They => PRON => PRP\n",
      "walked => VERB => VBD\n",
      "on => ADP => IN\n",
      "the => DET => DT\n",
      "surface => NOUN => NN\n",
      "of => ADP => IN\n",
      "the => DET => DT\n",
      "moon => NOUN => NN\n",
      "and => CCONJ => CC\n",
      "collected => VERB => VBD\n",
      "the => DET => DT\n",
      "lunar => ADJ => JJ\n",
      "rocks => NOUN => NNS\n",
      ". => PUNCT => .\n",
      "They => PRON => PRP\n",
      "returned => VERB => VBD\n",
      "to => ADP => IN\n",
      "the => DET => DT\n",
      "earth => NOUN => NN\n",
      "safely => ADV => RB\n",
      ". => PUNCT => .\n",
      "The => DET => DT\n",
      "American => ADJ => JJ\n",
      "scientists => NOUN => NNS\n",
      "have => AUX => VBP\n",
      "sent => VERB => VBN\n",
      "men => NOUN => NNS\n",
      "to => ADP => IN\n",
      "the => DET => DT\n",
      "moon => NOUN => NN\n",
      "several => ADJ => JJ\n",
      "times => NOUN => NNS\n",
      ". => PUNCT => .\n",
      "Now => ADV => RB\n",
      "the => DET => DT\n",
      "moon => NOUN => NN\n",
      "has => AUX => VBZ\n",
      "been => AUX => VBN\n",
      "conquered => VERB => VBN\n",
      "by => ADP => IN\n",
      "man => NOUN => NN\n",
      ". => PUNCT => .\n",
      "It => PRON => PRP\n",
      "is => AUX => VBZ\n",
      "no => ADV => RB\n",
      "longer => ADV => RBR\n",
      "a => DET => DT\n",
      "mysterious => ADJ => JJ\n",
      "object => NOUN => NN\n",
      ". => PUNCT => .\n",
      "The => DET => DT\n",
      "journey => NOUN => NN\n",
      "of => ADP => IN\n",
      "the => DET => DT\n",
      "moon => NOUN => NN\n",
      "may => VERB => MD\n",
      "be => AUX => VB\n",
      "thrilling => VERB => VBG\n",
      "but => CCONJ => CC\n",
      "it => PRON => PRP\n",
      "can => VERB => MD\n",
      "not => PART => RB\n",
      "make => VERB => VB\n",
      "our => DET => PRP$\n",
      "life => NOUN => NN\n",
      "on => ADP => IN\n",
      "the => DET => DT\n",
      "earth => NOUN => NN\n",
      "happy => ADJ => JJ\n",
      ". => PUNCT => .\n",
      "It => PRON => PRP\n",
      "is => AUX => VBZ\n",
      "better => ADJ => JJR\n",
      "to => PART => TO\n",
      "have => AUX => VB\n",
      "a => DET => DT\n",
      "happy => ADJ => JJ\n",
      "life => NOUN => NN\n",
      "on => ADP => IN\n",
      "the => DET => DT\n",
      "earth => NOUN => NN\n",
      "then => ADV => RB\n",
      "to => PART => TO\n",
      "go => VERB => VB\n",
      "to => ADP => IN\n",
      "the => DET => DT\n",
      "moon => NOUN => NN\n",
      ". => PUNCT => .\n",
      "\n",
      " => SPACE => _SP\n"
     ]
    }
   ],
   "source": [
    "# Creating Doc object\n",
    "doc=nlp(text)\n",
    "\n",
    "# Getting POS tags\n",
    "for token in doc:\n",
    "    print(token.text,'=>',token.pos_,'=>',token.tag_)"
   ]
  },
  {
   "cell_type": "code",
   "execution_count": 22,
   "metadata": {},
   "outputs": [
    {
     "data": {
      "text/html": [
       "<div>\n",
       "<style scoped>\n",
       "    .dataframe tbody tr th:only-of-type {\n",
       "        vertical-align: middle;\n",
       "    }\n",
       "\n",
       "    .dataframe tbody tr th {\n",
       "        vertical-align: top;\n",
       "    }\n",
       "\n",
       "    .dataframe thead th {\n",
       "        text-align: right;\n",
       "    }\n",
       "</style>\n",
       "<table border=\"1\" class=\"dataframe\">\n",
       "  <thead>\n",
       "    <tr style=\"text-align: right;\">\n",
       "      <th></th>\n",
       "      <th>0</th>\n",
       "      <th>1</th>\n",
       "      <th>2</th>\n",
       "    </tr>\n",
       "  </thead>\n",
       "  <tbody>\n",
       "    <tr>\n",
       "      <th>0</th>\n",
       "      <td>The</td>\n",
       "      <td>DT</td>\n",
       "      <td>DET</td>\n",
       "    </tr>\n",
       "    <tr>\n",
       "      <th>1</th>\n",
       "      <td>moon</td>\n",
       "      <td>NN</td>\n",
       "      <td>NOUN</td>\n",
       "    </tr>\n",
       "    <tr>\n",
       "      <th>2</th>\n",
       "      <td>is</td>\n",
       "      <td>VBZ</td>\n",
       "      <td>AUX</td>\n",
       "    </tr>\n",
       "    <tr>\n",
       "      <th>3</th>\n",
       "      <td>the</td>\n",
       "      <td>DT</td>\n",
       "      <td>DET</td>\n",
       "    </tr>\n",
       "    <tr>\n",
       "      <th>4</th>\n",
       "      <td>satellite</td>\n",
       "      <td>NN</td>\n",
       "      <td>NOUN</td>\n",
       "    </tr>\n",
       "    <tr>\n",
       "      <th>5</th>\n",
       "      <td>of</td>\n",
       "      <td>IN</td>\n",
       "      <td>ADP</td>\n",
       "    </tr>\n",
       "    <tr>\n",
       "      <th>6</th>\n",
       "      <td>the</td>\n",
       "      <td>DT</td>\n",
       "      <td>DET</td>\n",
       "    </tr>\n",
       "    <tr>\n",
       "      <th>7</th>\n",
       "      <td>earth</td>\n",
       "      <td>NN</td>\n",
       "      <td>NOUN</td>\n",
       "    </tr>\n",
       "    <tr>\n",
       "      <th>8</th>\n",
       "      <td>.</td>\n",
       "      <td>.</td>\n",
       "      <td>PUNCT</td>\n",
       "    </tr>\n",
       "    <tr>\n",
       "      <th>9</th>\n",
       "      <td>It</td>\n",
       "      <td>PRP</td>\n",
       "      <td>PRON</td>\n",
       "    </tr>\n",
       "  </tbody>\n",
       "</table>\n",
       "</div>"
      ],
      "text/plain": [
       "           0    1      2\n",
       "0        The   DT    DET\n",
       "1       moon   NN   NOUN\n",
       "2         is  VBZ    AUX\n",
       "3        the   DT    DET\n",
       "4  satellite   NN   NOUN\n",
       "5         of   IN    ADP\n",
       "6        the   DT    DET\n",
       "7      earth   NN   NOUN\n",
       "8          .    .  PUNCT\n",
       "9         It  PRP   PRON"
      ]
     },
     "execution_count": 22,
     "metadata": {},
     "output_type": "execute_result"
    }
   ],
   "source": [
    "#processed_text = nlp(text) \n",
    "import pandas as pd\n",
    "List_of_attributes = [[T.text,T.tag_,T.pos_] for T in doc] \n",
    "df = pd.DataFrame(List_of_attributes)\n",
    "df.head(10)"
   ]
  },
  {
   "cell_type": "code",
   "execution_count": 24,
   "metadata": {},
   "outputs": [
    {
     "data": {
      "text/plain": [
       "37"
      ]
     },
     "execution_count": 24,
     "metadata": {},
     "output_type": "execute_result"
    }
   ],
   "source": [
    "# Extracting verbs from the sentence\n",
    "len([token.text for token in doc if(token.pos_=='VERB')])"
   ]
  },
  {
   "cell_type": "code",
   "execution_count": 25,
   "metadata": {},
   "outputs": [
    {
     "data": {
      "text/plain": [
       "81"
      ]
     },
     "execution_count": 25,
     "metadata": {},
     "output_type": "execute_result"
    }
   ],
   "source": [
    "# Extracting nouns from the sentence\n",
    "len([token.text for token in doc if(token.pos_=='NOUN')])"
   ]
  },
  {
   "cell_type": "code",
   "execution_count": 26,
   "metadata": {},
   "outputs": [
    {
     "data": {
      "text/plain": [
       "2\n",
       "ADJ      32\n",
       "ADP      46\n",
       "ADV      13\n",
       "AUX      27\n",
       "CCONJ    10\n",
       "DET      58\n",
       "NOUN     81\n",
       "NUM       3\n",
       "PART     10\n",
       "PRON     22\n",
       "PROPN    10\n",
       "PUNCT    40\n",
       "SCONJ     5\n",
       "SPACE     1\n",
       "VERB     37\n",
       "Name: 2, dtype: int64"
      ]
     },
     "execution_count": 26,
     "metadata": {},
     "output_type": "execute_result"
    }
   ],
   "source": [
    "df.groupby([2])[2].count()"
   ]
  },
  {
   "cell_type": "code",
   "execution_count": null,
   "metadata": {},
   "outputs": [],
   "source": []
  }
 ],
 "metadata": {
  "colab": {
   "collapsed_sections": [],
   "name": "6.3 Implementing Part-of-Speech (POS) Tagging.ipynb",
   "provenance": []
  },
  "kernelspec": {
   "display_name": "Python 3",
   "language": "python",
   "name": "python3"
  },
  "language_info": {
   "codemirror_mode": {
    "name": "ipython",
    "version": 3
   },
   "file_extension": ".py",
   "mimetype": "text/x-python",
   "name": "python",
   "nbconvert_exporter": "python",
   "pygments_lexer": "ipython3",
   "version": "3.8.5"
  }
 },
 "nbformat": 4,
 "nbformat_minor": 4
}
