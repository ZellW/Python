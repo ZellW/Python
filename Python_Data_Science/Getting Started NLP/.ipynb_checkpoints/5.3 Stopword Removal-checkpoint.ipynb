{
 "cells": [
  {
   "cell_type": "markdown",
   "metadata": {
    "colab_type": "text",
    "id": "EzI8jcDjjMRp"
   },
   "source": [
    "### Problem:\n",
    "Suppose you have a text document which contains some information about a topic. But you don’t know what that topic is. Your challenge is to find out the topic without reading the text."
   ]
  },
  {
   "cell_type": "markdown",
   "metadata": {
    "colab_type": "text",
    "id": "zUKgDMAljMRs"
   },
   "source": [
    "### Importing Data"
   ]
  },
  {
   "cell_type": "code",
   "execution_count": 4,
   "metadata": {
    "colab": {},
    "colab_type": "code",
    "executionInfo": {
     "elapsed": 1169,
     "status": "ok",
     "timestamp": 1598785341130,
     "user": {
      "displayName": "Aishwarya Singh",
      "photoUrl": "https://lh3.googleusercontent.com/a-/AOh14GgeJwfn4BdBDCAplWi_kdtB9FRssOpXO7T_aMgg=s64",
      "userId": "01105858832371513140"
     },
     "user_tz": -330
    },
    "id": "KKB4IEesjMRt"
   },
   "outputs": [],
   "source": [
    "# Reading the file using open()\n",
    "file=open('./data/moon.txt', mode='r', encoding='utf-8')\n",
    "\n",
    "# Getting text data as string\n",
    "text=file.read()\n",
    "\n",
    "# Closing the file\n",
    "file.close()"
   ]
  },
  {
   "cell_type": "code",
   "execution_count": 5,
   "metadata": {
    "colab": {
     "base_uri": "https://localhost:8080/",
     "height": 72
    },
    "colab_type": "code",
    "executionInfo": {
     "elapsed": 948,
     "status": "ok",
     "timestamp": 1598785677399,
     "user": {
      "displayName": "Aishwarya Singh",
      "photoUrl": "https://lh3.googleusercontent.com/a-/AOh14GgeJwfn4BdBDCAplWi_kdtB9FRssOpXO7T_aMgg=s64",
      "userId": "01105858832371513140"
     },
     "user_tz": -330
    },
    "id": "xKBl_W5BjMR3",
    "outputId": "35fb911c-d887-4f4b-bcbf-0525ecc255ec"
   },
   "outputs": [
    {
     "name": "stdout",
     "output_type": "stream",
     "text": [
      "The moon is the satellite of the earth. It moves round the earth. It shines at night by light reflected from the Sun. It looks beautiful. The bright Moonlight is very soothing. The earthly objects shine like silver in the moonlight. We are fascinated by the enchanting beauty of the Moon. The moon is not as beautiful as it looks. It seems to be lovely when it shines in the sky at night. As a matter of fact it is devoid of plants and animals. The moon is not a suitable place for plants and animals. Therefore, no form of life can be found on the moon. Unlike the earth, the moon has got no atmosphere. Therefore, the lunar days are very hot and the lunar nights are intensely cold. The moon looks beautiful from the earth but in fact it has up forbidding appearance. It is full of rocks and craters. When we look at the moon at night we see some dark spots on it. These dark spots are dangerous rocks and craters. The gravitational pull of the moon is less than that of the earth, so it is difficult to walk on the surface of the Moon. The moon has fascinated man since the beginning of his life on the earth. He has looked at it with wonder. Many poets have composed beautiful poems on the moon. Scientists tried to reveal the mystery of the moon. They wanted to send human to the moon. Several attempts were made to place man on the moon. At last two Americans-Neil Armstrong and Edwin Aldrin-reached the moon on July 21, 1969. They walked on the surface of the moon and collected the lunar rocks. They returned to the earth safely. The American scientists have sent men to the moon several times. Now the moon has been conquered by man. It is no longer a mysterious object. The journey of the moon may be thrilling but it cannot make our life on the earth happy. It is better to have a happy life on the earth then to go to the moon.\n",
      "\n"
     ]
    }
   ],
   "source": [
    "print(text)"
   ]
  },
  {
   "cell_type": "markdown",
   "metadata": {
    "colab_type": "text",
    "id": "V-0V200UjMSA"
   },
   "source": [
    "### Cleaning Text"
   ]
  },
  {
   "cell_type": "code",
   "execution_count": 6,
   "metadata": {
    "colab": {},
    "colab_type": "code",
    "executionInfo": {
     "elapsed": 1045,
     "status": "ok",
     "timestamp": 1598785738901,
     "user": {
      "displayName": "Aishwarya Singh",
      "photoUrl": "https://lh3.googleusercontent.com/a-/AOh14GgeJwfn4BdBDCAplWi_kdtB9FRssOpXO7T_aMgg=s64",
      "userId": "01105858832371513140"
     },
     "user_tz": -330
    },
    "id": "soM8GnGYjMSC"
   },
   "outputs": [],
   "source": [
    "import re\n",
    "\n",
    "# Function for cleaning text\n",
    "def clean_text(text):\n",
    "    \n",
    "    # Lowercasing the text\n",
    "    text=text.lower()\n",
    "    \n",
    "    # Removing comma(,), period(.) and newline character(\\n)\n",
    "    text=re.sub('[,.\\n]','',text)\n",
    "    \n",
    "    # Replacing hypen with blank space\n",
    "    text=re.sub('-',' ',text)\n",
    "    \n",
    "    return text"
   ]
  },
  {
   "cell_type": "code",
   "execution_count": 7,
   "metadata": {
    "colab": {},
    "colab_type": "code",
    "executionInfo": {
     "elapsed": 1058,
     "status": "ok",
     "timestamp": 1598785752225,
     "user": {
      "displayName": "Aishwarya Singh",
      "photoUrl": "https://lh3.googleusercontent.com/a-/AOh14GgeJwfn4BdBDCAplWi_kdtB9FRssOpXO7T_aMgg=s64",
      "userId": "01105858832371513140"
     },
     "user_tz": -330
    },
    "id": "GmNmEobGjMSK"
   },
   "outputs": [],
   "source": [
    "# Cleaning Text\n",
    "cleaned_text=clean_text(text)"
   ]
  },
  {
   "cell_type": "code",
   "execution_count": 8,
   "metadata": {
    "colab": {
     "base_uri": "https://localhost:8080/",
     "height": 54
    },
    "colab_type": "code",
    "executionInfo": {
     "elapsed": 1122,
     "status": "ok",
     "timestamp": 1598785759135,
     "user": {
      "displayName": "Aishwarya Singh",
      "photoUrl": "https://lh3.googleusercontent.com/a-/AOh14GgeJwfn4BdBDCAplWi_kdtB9FRssOpXO7T_aMgg=s64",
      "userId": "01105858832371513140"
     },
     "user_tz": -330
    },
    "id": "e414kJRcjMSR",
    "outputId": "3dc5dced-70dc-454c-cef7-57f1a420f4db",
    "scrolled": true
   },
   "outputs": [
    {
     "name": "stdout",
     "output_type": "stream",
     "text": [
      "the moon is the satellite of the earth it moves round the earth it shines at night by light reflected from the sun it looks beautiful the bright moonlight is very soothing the earthly objects shine like silver in the moonlight we are fascinated by the enchanting beauty of the moon the moon is not as beautiful as it looks it seems to be lovely when it shines in the sky at night as a matter of fact it is devoid of plants and animals the moon is not a suitable place for plants and animals therefore no form of life can be found on the moon unlike the earth the moon has got no atmosphere therefore the lunar days are very hot and the lunar nights are intensely cold the moon looks beautiful from the earth but in fact it has up forbidding appearance it is full of rocks and craters when we look at the moon at night we see some dark spots on it these dark spots are dangerous rocks and craters the gravitational pull of the moon is less than that of the earth so it is difficult to walk on the surface of the moon the moon has fascinated man since the beginning of his life on the earth he has looked at it with wonder many poets have composed beautiful poems on the moon scientists tried to reveal the mystery of the moon they wanted to send human to the moon several attempts were made to place man on the moon at last two americans neil armstrong and edwin aldrin reached the moon on july 21 1969 they walked on the surface of the moon and collected the lunar rocks they returned to the earth safely the american scientists have sent men to the moon several times now the moon has been conquered by man it is no longer a mysterious object the journey of the moon may be thrilling but it cannot make our life on the earth happy it is better to have a happy life on the earth then to go to the moon\n"
     ]
    }
   ],
   "source": [
    "print(cleaned_text)"
   ]
  },
  {
   "cell_type": "markdown",
   "metadata": {
    "colab_type": "text",
    "id": "WriafAxkjMSZ"
   },
   "source": [
    "### Finding most frequent words"
   ]
  },
  {
   "cell_type": "code",
   "execution_count": 9,
   "metadata": {
    "colab": {},
    "colab_type": "code",
    "executionInfo": {
     "elapsed": 2246,
     "status": "ok",
     "timestamp": 1598785813811,
     "user": {
      "displayName": "Aishwarya Singh",
      "photoUrl": "https://lh3.googleusercontent.com/a-/AOh14GgeJwfn4BdBDCAplWi_kdtB9FRssOpXO7T_aMgg=s64",
      "userId": "01105858832371513140"
     },
     "user_tz": -330
    },
    "id": "y8GzArozjMSa"
   },
   "outputs": [],
   "source": [
    "import spacy"
   ]
  },
  {
   "cell_type": "code",
   "execution_count": 10,
   "metadata": {
    "colab": {},
    "colab_type": "code",
    "executionInfo": {
     "elapsed": 2189,
     "status": "ok",
     "timestamp": 1598785815295,
     "user": {
      "displayName": "Aishwarya Singh",
      "photoUrl": "https://lh3.googleusercontent.com/a-/AOh14GgeJwfn4BdBDCAplWi_kdtB9FRssOpXO7T_aMgg=s64",
      "userId": "01105858832371513140"
     },
     "user_tz": -330
    },
    "id": "L8cB_TuZjMSj"
   },
   "outputs": [],
   "source": [
    "# Loading spacy model\n",
    "nlp=spacy.load('en_core_web_sm')"
   ]
  },
  {
   "cell_type": "code",
   "execution_count": 11,
   "metadata": {
    "colab": {},
    "colab_type": "code",
    "executionInfo": {
     "elapsed": 1057,
     "status": "ok",
     "timestamp": 1598785815302,
     "user": {
      "displayName": "Aishwarya Singh",
      "photoUrl": "https://lh3.googleusercontent.com/a-/AOh14GgeJwfn4BdBDCAplWi_kdtB9FRssOpXO7T_aMgg=s64",
      "userId": "01105858832371513140"
     },
     "user_tz": -330
    },
    "id": "qbfayY10jMSq"
   },
   "outputs": [],
   "source": [
    "# creating doc object\n",
    "doc=nlp(cleaned_text)"
   ]
  },
  {
   "cell_type": "code",
   "execution_count": 12,
   "metadata": {
    "colab": {},
    "colab_type": "code",
    "executionInfo": {
     "elapsed": 967,
     "status": "ok",
     "timestamp": 1598785842168,
     "user": {
      "displayName": "Aishwarya Singh",
      "photoUrl": "https://lh3.googleusercontent.com/a-/AOh14GgeJwfn4BdBDCAplWi_kdtB9FRssOpXO7T_aMgg=s64",
      "userId": "01105858832371513140"
     },
     "user_tz": -330
    },
    "id": "Fn07QonpjMSx"
   },
   "outputs": [],
   "source": [
    "words_dict={}\n",
    "\n",
    "# Add word-count pair to the dictionary\n",
    "for token in doc:\n",
    "    # Check if the word is already in dictionary \n",
    "    if token.text in words_dict:\n",
    "        # Increment count of word by 1 \n",
    "        words_dict[token.text]=words_dict[token.text]+1\n",
    "    else:\n",
    "        # Add the word to dictionary with count 1 \n",
    "        words_dict[token.text]=1"
   ]
  },
  {
   "cell_type": "code",
   "execution_count": 21,
   "metadata": {},
   "outputs": [
    {
     "ename": "SyntaxError",
     "evalue": "invalid syntax (<ipython-input-21-bad6c63b34ab>, line 1)",
     "output_type": "error",
     "traceback": [
      "\u001b[1;36m  File \u001b[1;32m\"<ipython-input-21-bad6c63b34ab>\"\u001b[1;36m, line \u001b[1;32m1\u001b[0m\n\u001b[1;33m    list(words_dict)[1:4]:\u001b[0m\n\u001b[1;37m                          ^\u001b[0m\n\u001b[1;31mSyntaxError\u001b[0m\u001b[1;31m:\u001b[0m invalid syntax\n"
     ]
    }
   ],
   "source": [
    "list(words_dict)[1:4]:"
   ]
  },
  {
   "cell_type": "code",
   "execution_count": 26,
   "metadata": {},
   "outputs": [
    {
     "name": "stdout",
     "output_type": "stream",
     "text": [
      "key the, value 47 \n",
      "key moon, value 21 \n",
      "key is, value 10 \n",
      "key satellite, value 1 \n"
     ]
    }
   ],
   "source": [
    "for i in list(words_dict)[0:4]:\n",
    "    print(\"key {}, value {} \".format(i, words_dict[i]))"
   ]
  },
  {
   "cell_type": "code",
   "execution_count": 27,
   "metadata": {
    "colab": {},
    "colab_type": "code",
    "executionInfo": {
     "elapsed": 968,
     "status": "ok",
     "timestamp": 1598785854855,
     "user": {
      "displayName": "Aishwarya Singh",
      "photoUrl": "https://lh3.googleusercontent.com/a-/AOh14GgeJwfn4BdBDCAplWi_kdtB9FRssOpXO7T_aMgg=s64",
      "userId": "01105858832371513140"
     },
     "user_tz": -330
    },
    "id": "LlUPAv04jMS4"
   },
   "outputs": [],
   "source": [
    "import pandas as pd"
   ]
  },
  {
   "cell_type": "code",
   "execution_count": 28,
   "metadata": {
    "colab": {},
    "colab_type": "code",
    "executionInfo": {
     "elapsed": 985,
     "status": "ok",
     "timestamp": 1598785864908,
     "user": {
      "displayName": "Aishwarya Singh",
      "photoUrl": "https://lh3.googleusercontent.com/a-/AOh14GgeJwfn4BdBDCAplWi_kdtB9FRssOpXO7T_aMgg=s64",
      "userId": "01105858832371513140"
     },
     "user_tz": -330
    },
    "id": "R0xNmXfIjMTC"
   },
   "outputs": [],
   "source": [
    "# Creating a dataframe from dictionary\n",
    "df = pd.DataFrame({'word':list(words_dict.keys()), 'count':list(words_dict.values())})"
   ]
  },
  {
   "cell_type": "code",
   "execution_count": 29,
   "metadata": {
    "colab": {},
    "colab_type": "code",
    "executionInfo": {
     "elapsed": 1010,
     "status": "ok",
     "timestamp": 1598785884565,
     "user": {
      "displayName": "Aishwarya Singh",
      "photoUrl": "https://lh3.googleusercontent.com/a-/AOh14GgeJwfn4BdBDCAplWi_kdtB9FRssOpXO7T_aMgg=s64",
      "userId": "01105858832371513140"
     },
     "user_tz": -330
    },
    "id": "_pUPu1Z2jMTK"
   },
   "outputs": [],
   "source": [
    "# Sorting dataframe in descending order\n",
    "df.sort_values(by='count',ascending=False,inplace=True,ignore_index=True)"
   ]
  },
  {
   "cell_type": "code",
   "execution_count": 30,
   "metadata": {
    "colab": {
     "base_uri": "https://localhost:8080/",
     "height": 224
    },
    "colab_type": "code",
    "executionInfo": {
     "elapsed": 1059,
     "status": "ok",
     "timestamp": 1598785887349,
     "user": {
      "displayName": "Aishwarya Singh",
      "photoUrl": "https://lh3.googleusercontent.com/a-/AOh14GgeJwfn4BdBDCAplWi_kdtB9FRssOpXO7T_aMgg=s64",
      "userId": "01105858832371513140"
     },
     "user_tz": -330
    },
    "id": "-S36E8RSjMTQ",
    "outputId": "414ed3b0-7050-4990-a7ac-93770a9140c0"
   },
   "outputs": [
    {
     "name": "stdout",
     "output_type": "stream",
     "text": [
      "Shape=> (151, 2)\n"
     ]
    },
    {
     "data": {
      "text/html": [
       "<div>\n",
       "<style scoped>\n",
       "    .dataframe tbody tr th:only-of-type {\n",
       "        vertical-align: middle;\n",
       "    }\n",
       "\n",
       "    .dataframe tbody tr th {\n",
       "        vertical-align: top;\n",
       "    }\n",
       "\n",
       "    .dataframe thead th {\n",
       "        text-align: right;\n",
       "    }\n",
       "</style>\n",
       "<table border=\"1\" class=\"dataframe\">\n",
       "  <thead>\n",
       "    <tr style=\"text-align: right;\">\n",
       "      <th></th>\n",
       "      <th>word</th>\n",
       "      <th>count</th>\n",
       "    </tr>\n",
       "  </thead>\n",
       "  <tbody>\n",
       "    <tr>\n",
       "      <th>0</th>\n",
       "      <td>the</td>\n",
       "      <td>47</td>\n",
       "    </tr>\n",
       "    <tr>\n",
       "      <th>1</th>\n",
       "      <td>moon</td>\n",
       "      <td>21</td>\n",
       "    </tr>\n",
       "    <tr>\n",
       "      <th>2</th>\n",
       "      <td>it</td>\n",
       "      <td>15</td>\n",
       "    </tr>\n",
       "    <tr>\n",
       "      <th>3</th>\n",
       "      <td>of</td>\n",
       "      <td>13</td>\n",
       "    </tr>\n",
       "    <tr>\n",
       "      <th>4</th>\n",
       "      <td>to</td>\n",
       "      <td>11</td>\n",
       "    </tr>\n",
       "  </tbody>\n",
       "</table>\n",
       "</div>"
      ],
      "text/plain": [
       "   word  count\n",
       "0   the     47\n",
       "1  moon     21\n",
       "2    it     15\n",
       "3    of     13\n",
       "4    to     11"
      ]
     },
     "execution_count": 30,
     "metadata": {},
     "output_type": "execute_result"
    }
   ],
   "source": [
    "print('Shape=>',df.shape)\n",
    "df.head(5)"
   ]
  },
  {
   "cell_type": "markdown",
   "metadata": {
    "colab_type": "text",
    "id": "g4vxGVA6jMTX"
   },
   "source": [
    "# What are Stop words?\n",
    "Stopwords are the most common words in a language which are added to make things more understandable to humans. Like in English we have `a, an, the, for, where, when, at,` etc. These words are removed during text pre-processing phase because these words do not add much value to the meaning of the document."
   ]
  },
  {
   "cell_type": "markdown",
   "metadata": {
    "colab_type": "text",
    "id": "CWf28EKbjMTY"
   },
   "source": [
    "Consider a sample sentence:\n",
    "##### String: \"There is a pen on the table.\"\n",
    "##### Stopwords: \\[\"There\", \"is\", \"a\", \"on\", \"the\" \\]\n",
    "##### Meaningful words: \\[\"pen\", \"table\"\\]"
   ]
  },
  {
   "cell_type": "code",
   "execution_count": 31,
   "metadata": {
    "colab": {
     "base_uri": "https://localhost:8080/",
     "height": 54
    },
    "colab_type": "code",
    "executionInfo": {
     "elapsed": 1523,
     "status": "ok",
     "timestamp": 1598785994871,
     "user": {
      "displayName": "Aishwarya Singh",
      "photoUrl": "https://lh3.googleusercontent.com/a-/AOh14GgeJwfn4BdBDCAplWi_kdtB9FRssOpXO7T_aMgg=s64",
      "userId": "01105858832371513140"
     },
     "user_tz": -330
    },
    "id": "xtGE36DsjMTZ",
    "outputId": "6fe28d25-c314-44f3-c2be-f9c3ec4868cd"
   },
   "outputs": [
    {
     "name": "stdout",
     "output_type": "stream",
     "text": [
      "{'there', 'towards', 'yet', 'various', 'front', 'where', 'mine', 'part', 'who', 'anywhere', 'enough', 'whenever', 'nevertheless', 'less', 'some', 'ten', 'yourselves', \"'ll\", 'thereby', \"'m\", 'perhaps', 'neither', 'sixty', 'myself', 'up', 'above', 'whither', 'yourself', 'out', 'other', 'everyone', 'get', 'say', 'well', 'indeed', 'something', 'take', 'than', 'such', 'due', 'he', 'side', 'themselves', 'toward', 'ours', 'alone', 'moreover', 'were', 'now', 'within', 'becomes', '’m', 'if', 'much', 'without', 'under', 'this', 'would', '‘ll', \"'re\", 'we', 'ever', 'twenty', 'its', 'will', 'again', 'during', 'almost', 'only', 'then', 'itself', '‘s', 'for', 'thereafter', 'down', 'used', '‘d', '’ve', 'can', 'became', 'as', 'hundred', 'every', 'per', 'do', 'seems', 'had', 'amongst', 'serious', 'five', 'anyhow', 'rather', \"n't\", 'what', 'might', 'namely', 'many', 'him', 'latter', 'another', 'twelve', 'also', 'nine', 'just', 'hence', 'or', 'else', 'the', 'cannot', 'with', 'except', 'before', '’s', 'whatever', 'whose', 'beyond', '‘ve', 'third', 'whoever', 'so', 'call', 'does', 'whereafter', 'sometimes', 'name', 'four', 'two', 'may', 'whereas', 'any', 'few', 'us', 'still', 'nowhere', 'at', 'beforehand', \"'s\", 'have', 'whether', 'although', 'until', '‘m', 'did', 'elsewhere', 'seeming', 'his', 'should', 'yours', 'no', 'besides', 'otherwise', 'one', 'am', 'nor', 're', 'fifty', 'together', 'afterwards', 'over', 'i', 'why', 'several', 'more', 'whence', 'often', 'wherever', 'you', 'by', 'always', 'using', 'top', 'each', 'she', 'ca', 'into', 'them', 'back', 'is', 'own', 'former', 'first', 'hereupon', 'those', '’re', 'be', 'three', 'across', 'fifteen', 'anyone', 'has', 'quite', 'regarding', 'wherein', 'your', 'they', 'when', 'someone', 'show', 'amount', 'how', 'once', 'very', \"'ve\", 'whereby', 'was', 'which', 'herein', 'most', 'least', 'empty', 'ourselves', 'but', 'even', 'become', 'never', 'thereupon', 'therefore', 'upon', 'already', 'are', 'nothing', 'everywhere', 'her', 'not', 'n‘t', 'against', 'put', 'throughout', 'thence', 'could', 'my', 'anything', 'onto', 'after', 'behind', 'latterly', 'from', 'himself', 'bottom', 'somehow', 'both', 'hereafter', 'hers', 'along', 'please', '’ll', 'eleven', 'to', 'it', 'and', 'our', 'move', 'on', 'below', 'all', 'none', 'me', 'n’t', 'whole', 'between', 'go', 'doing', 'nobody', 'six', 'however', 'really', 'full', 'seemed', 'around', 'hereby', 'a', 'while', 'therein', 'been', 'keep', 'though', '‘re', \"'d\", 'give', '’d', 'seem', 'anyway', 'among', 'because', 'meanwhile', 'make', 'here', 'made', 'others', 'done', 'further', 'forty', 'that', 'must', 'an', 'herself', 'too', 'sometime', 'everything', 'through', 'same', 'noone', 'unless', 'thru', 'whereupon', 'somewhere', 'mostly', 'about', 'since', 'their', 'see', 'being', 'via', 'becoming', 'next', 'these', 'either', 'in', 'off', 'thus', 'formerly', 'eight', 'last', 'beside', 'of', 'whom'}\n"
     ]
    }
   ],
   "source": [
    "print(nlp.Defaults.stop_words)"
   ]
  },
  {
   "cell_type": "code",
   "execution_count": 32,
   "metadata": {
    "colab": {
     "base_uri": "https://localhost:8080/",
     "height": 34
    },
    "colab_type": "code",
    "executionInfo": {
     "elapsed": 1044,
     "status": "ok",
     "timestamp": 1598786000411,
     "user": {
      "displayName": "Aishwarya Singh",
      "photoUrl": "https://lh3.googleusercontent.com/a-/AOh14GgeJwfn4BdBDCAplWi_kdtB9FRssOpXO7T_aMgg=s64",
      "userId": "01105858832371513140"
     },
     "user_tz": -330
    },
    "id": "AZiEJcOdjMTh",
    "outputId": "8beaaef7-3336-4957-8eaa-f921a98e9006"
   },
   "outputs": [
    {
     "data": {
      "text/plain": [
       "326"
      ]
     },
     "execution_count": 32,
     "metadata": {},
     "output_type": "execute_result"
    }
   ],
   "source": [
    "len(nlp.Defaults.stop_words)"
   ]
  },
  {
   "cell_type": "code",
   "execution_count": 33,
   "metadata": {
    "colab": {},
    "colab_type": "code",
    "executionInfo": {
     "elapsed": 961,
     "status": "ok",
     "timestamp": 1598786067642,
     "user": {
      "displayName": "Aishwarya Singh",
      "photoUrl": "https://lh3.googleusercontent.com/a-/AOh14GgeJwfn4BdBDCAplWi_kdtB9FRssOpXO7T_aMgg=s64",
      "userId": "01105858832371513140"
     },
     "user_tz": -330
    },
    "id": "xNM96GQajMTn"
   },
   "outputs": [],
   "source": [
    "# Getting words that are not stopwords\n",
    "new_tokens=[token.text for token in doc if (token.is_stop == False)]"
   ]
  },
  {
   "cell_type": "code",
   "execution_count": 34,
   "metadata": {
    "colab": {
     "base_uri": "https://localhost:8080/",
     "height": 54
    },
    "colab_type": "code",
    "executionInfo": {
     "elapsed": 1174,
     "status": "ok",
     "timestamp": 1598786070567,
     "user": {
      "displayName": "Aishwarya Singh",
      "photoUrl": "https://lh3.googleusercontent.com/a-/AOh14GgeJwfn4BdBDCAplWi_kdtB9FRssOpXO7T_aMgg=s64",
      "userId": "01105858832371513140"
     },
     "user_tz": -330
    },
    "id": "BgfTMFNBjMTu",
    "outputId": "c3224432-a0d1-4a76-c285-cb7beb8ffe6f"
   },
   "outputs": [
    {
     "name": "stdout",
     "output_type": "stream",
     "text": [
      "['moon', 'satellite', 'earth', 'moves', 'round', 'earth', 'shines', 'night', 'light', 'reflected', 'sun', 'looks', 'beautiful', 'bright', 'moonlight', 'soothing', 'earthly', 'objects', 'shine', 'like', 'silver', 'moonlight', 'fascinated', 'enchanting', 'beauty', 'moon', 'moon', 'beautiful', 'looks', 'lovely', 'shines', 'sky', 'night', 'matter', 'fact', 'devoid', 'plants', 'animals', 'moon', 'suitable', 'place', 'plants', 'animals', 'form', 'life', 'found', 'moon', 'unlike', 'earth', 'moon', 'got', 'atmosphere', 'lunar', 'days', 'hot', 'lunar', 'nights', 'intensely', 'cold', 'moon', 'looks', 'beautiful', 'earth', 'fact', 'forbidding', 'appearance', 'rocks', 'craters', 'look', 'moon', 'night', 'dark', 'spots', 'dark', 'spots', 'dangerous', 'rocks', 'craters', 'gravitational', 'pull', 'moon', 'earth', 'difficult', 'walk', 'surface', 'moon', 'moon', 'fascinated', 'man', 'beginning', 'life', 'earth', 'looked', 'wonder', 'poets', 'composed', 'beautiful', 'poems', 'moon', 'scientists', 'tried', 'reveal', 'mystery', 'moon', 'wanted', 'send', 'human', 'moon', 'attempts', 'place', 'man', 'moon', 'americans', 'neil', 'armstrong', 'edwin', 'aldrin', 'reached', 'moon', 'july', '21', '1969', 'walked', 'surface', 'moon', 'collected', 'lunar', 'rocks', 'returned', 'earth', 'safely', 'american', 'scientists', 'sent', 'men', 'moon', 'times', 'moon', 'conquered', 'man', 'longer', 'mysterious', 'object', 'journey', 'moon', 'thrilling', 'life', 'earth', 'happy', 'better', 'happy', 'life', 'earth', 'moon']\n"
     ]
    }
   ],
   "source": [
    "print(new_tokens)"
   ]
  },
  {
   "cell_type": "code",
   "execution_count": 35,
   "metadata": {
    "colab": {},
    "colab_type": "code",
    "executionInfo": {
     "elapsed": 1024,
     "status": "ok",
     "timestamp": 1598786088356,
     "user": {
      "displayName": "Aishwarya Singh",
      "photoUrl": "https://lh3.googleusercontent.com/a-/AOh14GgeJwfn4BdBDCAplWi_kdtB9FRssOpXO7T_aMgg=s64",
      "userId": "01105858832371513140"
     },
     "user_tz": -330
    },
    "id": "pzxU8YlCjMT2"
   },
   "outputs": [],
   "source": [
    "new_words_dict={}\n",
    "\n",
    "# Add word-count pair to the dictionary\n",
    "for token in new_tokens:\n",
    "    # Check if the word is already in dictionary \n",
    "    if token in new_words_dict:\n",
    "        # Increment count of word by 1\n",
    "        new_words_dict[token] = new_words_dict[token]+1\n",
    "    else:\n",
    "        # Add the word to dictionary with count 1 \n",
    "        new_words_dict[token]=1"
   ]
  },
  {
   "cell_type": "code",
   "execution_count": 36,
   "metadata": {
    "colab": {},
    "colab_type": "code",
    "executionInfo": {
     "elapsed": 1053,
     "status": "ok",
     "timestamp": 1598786092977,
     "user": {
      "displayName": "Aishwarya Singh",
      "photoUrl": "https://lh3.googleusercontent.com/a-/AOh14GgeJwfn4BdBDCAplWi_kdtB9FRssOpXO7T_aMgg=s64",
      "userId": "01105858832371513140"
     },
     "user_tz": -330
    },
    "id": "-SeZA9LxjMT9"
   },
   "outputs": [],
   "source": [
    "# Creating a dataframe from dictionary\n",
    "new_df = pd.DataFrame({'word':list(new_words_dict.keys()), 'count':list(new_words_dict.values())})"
   ]
  },
  {
   "cell_type": "code",
   "execution_count": 37,
   "metadata": {
    "colab": {},
    "colab_type": "code",
    "executionInfo": {
     "elapsed": 1055,
     "status": "ok",
     "timestamp": 1598786096158,
     "user": {
      "displayName": "Aishwarya Singh",
      "photoUrl": "https://lh3.googleusercontent.com/a-/AOh14GgeJwfn4BdBDCAplWi_kdtB9FRssOpXO7T_aMgg=s64",
      "userId": "01105858832371513140"
     },
     "user_tz": -330
    },
    "id": "02CmVFwPjMUD"
   },
   "outputs": [],
   "source": [
    "# Sorting dataframe in descending order\n",
    "new_df.sort_values(by='count',ascending=False,inplace=True,ignore_index=True)"
   ]
  },
  {
   "cell_type": "code",
   "execution_count": 38,
   "metadata": {
    "colab": {
     "base_uri": "https://localhost:8080/",
     "height": 224
    },
    "colab_type": "code",
    "executionInfo": {
     "elapsed": 1110,
     "status": "ok",
     "timestamp": 1598786099601,
     "user": {
      "displayName": "Aishwarya Singh",
      "photoUrl": "https://lh3.googleusercontent.com/a-/AOh14GgeJwfn4BdBDCAplWi_kdtB9FRssOpXO7T_aMgg=s64",
      "userId": "01105858832371513140"
     },
     "user_tz": -330
    },
    "id": "NR9Z9i_SjMUK",
    "outputId": "eca527b9-81e7-48a8-cfcc-3f706a64fd8a"
   },
   "outputs": [
    {
     "name": "stdout",
     "output_type": "stream",
     "text": [
      "Shape=> (97, 2)\n"
     ]
    },
    {
     "data": {
      "text/html": [
       "<div>\n",
       "<style scoped>\n",
       "    .dataframe tbody tr th:only-of-type {\n",
       "        vertical-align: middle;\n",
       "    }\n",
       "\n",
       "    .dataframe tbody tr th {\n",
       "        vertical-align: top;\n",
       "    }\n",
       "\n",
       "    .dataframe thead th {\n",
       "        text-align: right;\n",
       "    }\n",
       "</style>\n",
       "<table border=\"1\" class=\"dataframe\">\n",
       "  <thead>\n",
       "    <tr style=\"text-align: right;\">\n",
       "      <th></th>\n",
       "      <th>word</th>\n",
       "      <th>count</th>\n",
       "    </tr>\n",
       "  </thead>\n",
       "  <tbody>\n",
       "    <tr>\n",
       "      <th>0</th>\n",
       "      <td>moon</td>\n",
       "      <td>21</td>\n",
       "    </tr>\n",
       "    <tr>\n",
       "      <th>1</th>\n",
       "      <td>earth</td>\n",
       "      <td>9</td>\n",
       "    </tr>\n",
       "    <tr>\n",
       "      <th>2</th>\n",
       "      <td>life</td>\n",
       "      <td>4</td>\n",
       "    </tr>\n",
       "    <tr>\n",
       "      <th>3</th>\n",
       "      <td>beautiful</td>\n",
       "      <td>4</td>\n",
       "    </tr>\n",
       "    <tr>\n",
       "      <th>4</th>\n",
       "      <td>looks</td>\n",
       "      <td>3</td>\n",
       "    </tr>\n",
       "  </tbody>\n",
       "</table>\n",
       "</div>"
      ],
      "text/plain": [
       "        word  count\n",
       "0       moon     21\n",
       "1      earth      9\n",
       "2       life      4\n",
       "3  beautiful      4\n",
       "4      looks      3"
      ]
     },
     "execution_count": 38,
     "metadata": {},
     "output_type": "execute_result"
    }
   ],
   "source": [
    "print('Shape=>',new_df.shape)\n",
    "new_df.head(5)"
   ]
  },
  {
   "cell_type": "markdown",
   "metadata": {
    "colab_type": "text",
    "id": "GWOTRwFcjMUQ"
   },
   "source": [
    "Due to stopwords a lot of resources get wasted in storing and pre-processing these. Removing them makes the process of analysis and model building faster because the corpus size gets reduced due to it."
   ]
  },
  {
   "cell_type": "markdown",
   "metadata": {
    "colab_type": "text",
    "id": "woqTO9SzjMUR"
   },
   "source": [
    "## Remove Stopwords:\n",
    "- Text Classification\n",
    "- Caption Generation\n",
    "- Auto-Tag Generation\n",
    "\n",
    "## Don't Remove Stopwords:\n",
    "- Machine Translation\n",
    "- Language Modeling\n",
    "- Text Summarization\n",
    "- Question-Answering Problems"
   ]
  }
 ],
 "metadata": {
  "colab": {
   "collapsed_sections": [],
   "name": "5.3 Stopword Removal.ipynb",
   "provenance": []
  },
  "kernelspec": {
   "display_name": "Python 3",
   "language": "python",
   "name": "python3"
  },
  "language_info": {
   "codemirror_mode": {
    "name": "ipython",
    "version": 3
   },
   "file_extension": ".py",
   "mimetype": "text/x-python",
   "name": "python",
   "nbconvert_exporter": "python",
   "pygments_lexer": "ipython3",
   "version": "3.8.5"
  }
 },
 "nbformat": 4,
 "nbformat_minor": 4
}
