{
 "cells": [
  {
   "cell_type": "code",
   "execution_count": 1,
   "metadata": {
    "ExecuteTime": {
     "end_time": "2021-03-30T20:52:46.034544Z",
     "start_time": "2021-03-30T20:52:46.027614Z"
    }
   },
   "outputs": [],
   "source": [
    "# Installing Lux\n",
    "# !pip install lux-api"
   ]
  },
  {
   "cell_type": "code",
   "execution_count": 1,
   "metadata": {
    "ExecuteTime": {
     "end_time": "2021-03-30T22:21:01.677586Z",
     "start_time": "2021-03-30T22:20:59.382160Z"
    }
   },
   "outputs": [
    {
     "name": "stderr",
     "output_type": "stream",
     "text": [
      "Installing C:\\Users\\czwea\\anaconda3\\envs\\play\\lib\\site-packages\\luxwidget\\nbextension/static -> luxwidget\n",
      "Up to date: C:\\ProgramData\\jupyter\\nbextensions\\luxwidget\\extension.js\n",
      "Up to date: C:\\ProgramData\\jupyter\\nbextensions\\luxwidget\\index.js\n",
      "Up to date: C:\\ProgramData\\jupyter\\nbextensions\\luxwidget\\index.js.map\n",
      "- Validating: ok\n",
      "\n",
      "    To initialize this nbextension in the browser every time the notebook (or other app) loads:\n",
      "    \n",
      "          jupyter nbextension enable luxwidget --py\n",
      "    \n",
      "Enabling notebook extension luxwidget/extension...\n",
      "      - Validating: ok\n"
     ]
    }
   ],
   "source": [
    "# Setup in Jupyter Notebook, VSCode, JupyterHub\n",
    "!jupyter nbextension install --py luxwidget\n",
    "!jupyter nbextension enable --py luxwidget"
   ]
  },
  {
   "cell_type": "code",
   "execution_count": 2,
   "metadata": {
    "ExecuteTime": {
     "end_time": "2021-03-30T22:21:03.373443Z",
     "start_time": "2021-03-30T22:21:01.681462Z"
    }
   },
   "outputs": [],
   "source": [
    "# Import libraries\n",
    "import pandas as pd\n",
    "import lux\n",
    "\n",
    "# Hide warnings\n",
    "import warnings\n",
    "warnings.filterwarnings(\"ignore\")"
   ]
  },
  {
   "cell_type": "code",
   "execution_count": 3,
   "metadata": {
    "ExecuteTime": {
     "end_time": "2021-03-30T22:21:03.430127Z",
     "start_time": "2021-03-30T22:21:03.376095Z"
    }
   },
   "outputs": [],
   "source": [
    "# Import dataset\n",
    "df = pd.read_csv('data/country_vaccinations 2.csv')"
   ]
  },
  {
   "cell_type": "code",
   "execution_count": 4,
   "metadata": {
    "ExecuteTime": {
     "end_time": "2021-03-30T22:21:08.144812Z",
     "start_time": "2021-03-30T22:21:03.433124Z"
    }
   },
   "outputs": [
    {
     "data": {
      "application/vnd.jupyter.widget-view+json": {
       "model_id": "1b1818a17581446b9188dfd1822ced74",
       "version_major": 2,
       "version_minor": 0
      },
      "text/plain": [
       "Button(description='Toggle Pandas/Lux', layout=Layout(top='5px', width='140px'), style=ButtonStyle())"
      ]
     },
     "metadata": {},
     "output_type": "display_data"
    },
    {
     "data": {
      "application/vnd.jupyter.widget-view+json": {
       "model_id": "0c944cde0cc146e5a00632fcedcf639a",
       "version_major": 2,
       "version_minor": 0
      },
      "text/plain": [
       "Output()"
      ]
     },
     "metadata": {},
     "output_type": "display_data"
    },
    {
     "data": {
      "text/plain": []
     },
     "execution_count": 4,
     "metadata": {},
     "output_type": "execute_result"
    }
   ],
   "source": [
    "df"
   ]
  },
  {
   "cell_type": "code",
   "execution_count": 5,
   "metadata": {
    "ExecuteTime": {
     "end_time": "2021-03-30T22:21:14.108646Z",
     "start_time": "2021-03-30T22:21:08.164345Z"
    },
    "scrolled": false
   },
   "outputs": [
    {
     "data": {
      "application/vnd.jupyter.widget-view+json": {
       "model_id": "821a7247621c4844b7ae88f5514213ec",
       "version_major": 2,
       "version_minor": 0
      },
      "text/plain": [
       "Button(description='Toggle Pandas/Lux', layout=Layout(top='5px', width='140px'), style=ButtonStyle())"
      ]
     },
     "metadata": {},
     "output_type": "display_data"
    },
    {
     "data": {
      "application/vnd.jupyter.widget-view+json": {
       "model_id": "bbec0725cd79488fa837139774fcde2e",
       "version_major": 2,
       "version_minor": 0
      },
      "text/plain": [
       "Output()"
      ]
     },
     "metadata": {},
     "output_type": "display_data"
    },
    {
     "data": {
      "text/plain": []
     },
     "execution_count": 5,
     "metadata": {},
     "output_type": "execute_result"
    }
   ],
   "source": [
    "df.intent = ['country', 'total_vaccinations']\n",
    "df"
   ]
  },
  {
   "cell_type": "code",
   "execution_count": 8,
   "metadata": {
    "ExecuteTime": {
     "end_time": "2021-03-30T22:21:41.326433Z",
     "start_time": "2021-03-30T22:21:41.271449Z"
    }
   },
   "outputs": [
    {
     "data": {
      "text/plain": [
       "[]"
      ]
     },
     "execution_count": 8,
     "metadata": {},
     "output_type": "execute_result"
    }
   ],
   "source": [
    "df.exported"
   ]
  },
  {
   "cell_type": "code",
   "execution_count": 9,
   "metadata": {
    "ExecuteTime": {
     "end_time": "2021-03-30T22:21:45.169159Z",
     "start_time": "2021-03-30T22:21:45.116160Z"
    }
   },
   "outputs": [
    {
     "data": {
      "text/plain": [
       "[]"
      ]
     },
     "execution_count": 9,
     "metadata": {},
     "output_type": "execute_result"
    }
   ],
   "source": [
    "vis = df.exported\n",
    "vis"
   ]
  },
  {
   "cell_type": "code",
   "execution_count": 10,
   "metadata": {
    "ExecuteTime": {
     "end_time": "2021-03-30T22:21:49.997352Z",
     "start_time": "2021-03-30T22:21:49.948398Z"
    },
    "scrolled": true
   },
   "outputs": [
    {
     "name": "stdout",
     "output_type": "stream",
     "text": [
      "Saved HTML to vis_1.html\n"
     ]
    }
   ],
   "source": [
    "df.save_as_html('vis_1.html')"
   ]
  },
  {
   "cell_type": "code",
   "execution_count": 13,
   "metadata": {
    "ExecuteTime": {
     "end_time": "2021-03-30T22:22:13.661369Z",
     "start_time": "2021-03-30T22:22:12.911595Z"
    }
   },
   "outputs": [
    {
     "data": {
      "application/vnd.jupyter.widget-view+json": {
       "model_id": "7bf8904a843441e7b76264b6548aacda",
       "version_major": 2,
       "version_minor": 0
      },
      "text/plain": [
       "LuxWidget(recommendations=[{'action': 'Vis List', 'description': 'Shows a vis list defined by the intent', 'vs…"
      ]
     },
     "metadata": {},
     "output_type": "display_data"
    },
    {
     "data": {
      "text/plain": [
       "[<Vis  (x: MEAN(total_vaccinations), y: country, color: vaccines) mark: bar, score: 0.01 >,\n",
       " <Vis  (x: MEAN(total_vaccinations), y: country, color: source_name) mark: bar, score: 0.01 >,\n",
       " <Vis  (x: MEAN(total_vaccinations), y: country, color: date) mark: bar, score: 0.01 >,\n",
       " <Vis  (x: MEAN(total_vaccinations), y: country, color: source_website) mark: bar, score: 0.00 >,\n",
       " <Vis  (x: MEAN(total_vaccinations), y: country, color: iso_code) mark: bar, score: 0.00 >]"
      ]
     },
     "execution_count": 13,
     "metadata": {},
     "output_type": "execute_result"
    }
   ],
   "source": [
    "df.recommendation[\"Enhance\"]"
   ]
  },
  {
   "cell_type": "code",
   "execution_count": 14,
   "metadata": {
    "ExecuteTime": {
     "end_time": "2021-03-30T22:22:23.052892Z",
     "start_time": "2021-03-30T22:22:22.663101Z"
    }
   },
   "outputs": [
    {
     "data": {
      "application/vnd.jupyter.widget-view+json": {
       "model_id": "db6f76af9fa8450faf9d4dc7dbe6a49e",
       "version_major": 2,
       "version_minor": 0
      },
      "text/plain": [
       "LuxWidget(current_vis={'config': {'view': {'continuousWidth': 400, 'continuousHeight': 300}, 'axis': {'labelCo…"
      ]
     },
     "metadata": {},
     "output_type": "display_data"
    },
    {
     "data": {
      "text/plain": [
       "<Vis  (x: MEAN(total_vaccinations), y: country, color: vaccines) mark: bar, score: 0.01 >"
      ]
     },
     "execution_count": 14,
     "metadata": {},
     "output_type": "execute_result"
    }
   ],
   "source": [
    "vis = df.exported[0]\n",
    "vis"
   ]
  },
  {
   "cell_type": "code",
   "execution_count": 15,
   "metadata": {
    "ExecuteTime": {
     "end_time": "2021-03-30T22:22:58.843025Z",
     "start_time": "2021-03-30T22:22:58.766636Z"
    }
   },
   "outputs": [
    {
     "name": "stdout",
     "output_type": "stream",
     "text": [
      "import altair as alt\n",
      "visData = pd.DataFrame({'country': {4024: 'United States', 702: 'China', 1673: 'India', 4009: 'United Kingdom', 1079: 'England', 564: 'Brazil', 3884: 'Turkey', 3129: 'Russia', 1785: 'Israel', 1278: 'Germany'}, 'vaccines': {4024: 'Johnson&Johnson, Moderna, Pfizer/BioNTech', 702: 'Sinopharm/Beijing, Sinopharm/Wuhan, Sinovac', 1673: 'Covaxin, Oxford/AstraZeneca', 4009: 'Oxford/AstraZeneca, Pfizer/BioNTech', 1079: 'Oxford/AstraZeneca, Pfizer/BioNTech', 564: 'Oxford/AstraZeneca, Sinovac', 3884: 'Pfizer/BioNTech, Sinovac', 3129: 'EpiVacCorona, Sputnik V', 1785: 'Moderna, Pfizer/BioNTech', 1278: 'Moderna, Oxford/AstraZeneca, Pfizer/BioNTech'}, 'total_vaccinations': {4024: 56850420.4, 702: 52523931.578947365, 1673: 17261202.930555556, 4009: 16025884.666666666, 1079: 13559694.641975308, 564: 6774709.567164179, 3884: 6295294.27027027, 3129: 5958618.52, 1785: 5345397.68, 1278: 4666101.217391305}})\n",
      "\n",
      "chart = alt.Chart(visData).mark_bar().encode(\n",
      "    y = alt.Y('country', type= 'nominal', axis=alt.Axis(labelOverlap=True, title='country'), sort ='-x'),\n",
      "    x = alt.X('total_vaccinations', type= 'quantitative', title='Mean of total_vaccinati...', axis=alt.Axis(title='Mean of total_vaccinati...')),\n",
      ")\n",
      "chart = chart.encode(color=alt.Color('vaccines',type='nominal'))\n",
      "text = alt.Chart(visData).mark_text(\n",
      "\tx=155, \n",
      "\ty=142,\n",
      "\talign=\"right\",\n",
      "\tcolor = \"#ff8e04\",\n",
      "\tfontSize = 11,\n",
      "\ttext=f\"+ 145 more ...\"\n",
      ")\n",
      "chart = chart + text\n",
      "chart = chart.configure_mark(tooltip=alt.TooltipContent('encoding'))\n",
      "chart = chart.configure_title(fontWeight=500,fontSize=13,font='Helvetica Neue')\n",
      "chart = chart.configure_axis(titleFontWeight=500,titleFontSize=11,titleFont='Helvetica Neue',\n",
      "\t\t\tlabelFontWeight=400,labelFontSize=8,labelFont='Helvetica Neue',labelColor='#505050')\n",
      "chart = chart.configure_legend(titleFontWeight=500,titleFontSize=10,titleFont='Helvetica Neue',\n",
      "\t\t\tlabelFontWeight=400,labelFontSize=8,labelFont='Helvetica Neue')\n",
      "chart = chart.properties(width=160,height=150)\n",
      "\n",
      "chart\n"
     ]
    }
   ],
   "source": [
    "df.intent = vis\n",
    "print (vis.to_Altair())"
   ]
  },
  {
   "cell_type": "code",
   "execution_count": 37,
   "metadata": {
    "ExecuteTime": {
     "end_time": "2021-03-30T22:54:35.457070Z",
     "start_time": "2021-03-30T22:54:35.391916Z"
    }
   },
   "outputs": [
    {
     "data": {
      "text/html": [
       "\n",
       "<div id=\"altair-viz-ceaba336e42e40c892cf092a703ac2cc\"></div>\n",
       "<script type=\"text/javascript\">\n",
       "  (function(spec, embedOpt){\n",
       "    let outputDiv = document.currentScript.previousElementSibling;\n",
       "    if (outputDiv.id !== \"altair-viz-ceaba336e42e40c892cf092a703ac2cc\") {\n",
       "      outputDiv = document.getElementById(\"altair-viz-ceaba336e42e40c892cf092a703ac2cc\");\n",
       "    }\n",
       "    const paths = {\n",
       "      \"vega\": \"https://cdn.jsdelivr.net/npm//vega@5?noext\",\n",
       "      \"vega-lib\": \"https://cdn.jsdelivr.net/npm//vega-lib?noext\",\n",
       "      \"vega-lite\": \"https://cdn.jsdelivr.net/npm//vega-lite@4.8.1?noext\",\n",
       "      \"vega-embed\": \"https://cdn.jsdelivr.net/npm//vega-embed@6?noext\",\n",
       "    };\n",
       "\n",
       "    function loadScript(lib) {\n",
       "      return new Promise(function(resolve, reject) {\n",
       "        var s = document.createElement('script');\n",
       "        s.src = paths[lib];\n",
       "        s.async = true;\n",
       "        s.onload = () => resolve(paths[lib]);\n",
       "        s.onerror = () => reject(`Error loading script: ${paths[lib]}`);\n",
       "        document.getElementsByTagName(\"head\")[0].appendChild(s);\n",
       "      });\n",
       "    }\n",
       "\n",
       "    function showError(err) {\n",
       "      outputDiv.innerHTML = `<div class=\"error\" style=\"color:red;\">${err}</div>`;\n",
       "      throw err;\n",
       "    }\n",
       "\n",
       "    function displayChart(vegaEmbed) {\n",
       "      vegaEmbed(outputDiv, spec, embedOpt)\n",
       "        .catch(err => showError(`Javascript Error: ${err.message}<br>This usually means there's a typo in your chart specification. See the javascript console for the full traceback.`));\n",
       "    }\n",
       "\n",
       "    if(typeof define === \"function\" && define.amd) {\n",
       "      requirejs.config({paths});\n",
       "      require([\"vega-embed\"], displayChart, err => showError(`Error loading script: ${err.message}`));\n",
       "    } else if (typeof vegaEmbed === \"function\") {\n",
       "      displayChart(vegaEmbed);\n",
       "    } else {\n",
       "      loadScript(\"vega\")\n",
       "        .then(() => loadScript(\"vega-lite\"))\n",
       "        .then(() => loadScript(\"vega-embed\"))\n",
       "        .catch(showError)\n",
       "        .then(() => displayChart(vegaEmbed));\n",
       "    }\n",
       "  })({\"config\": {\"view\": {\"continuousWidth\": 400, \"continuousHeight\": 300}, \"axis\": {\"labelColor\": \"#505050\", \"labelFont\": \"Helvetica Neue\", \"labelFontSize\": 16, \"labelFontWeight\": 400, \"titleFont\": \"Helvetica Neue\", \"titleFontSize\": 11, \"titleFontWeight\": 400}, \"legend\": {\"labelFont\": \"Helvetica Neue\", \"labelFontSize\": 12, \"labelFontWeight\": 400, \"titleFont\": \"Helvetica Neue\", \"titleFontSize\": 10, \"titleFontWeight\": 500}, \"mark\": {\"tooltip\": {\"content\": \"encoding\"}}, \"title\": {\"font\": \"Helvetica Neue\", \"fontSize\": 1, \"fontWeight\": 400}}, \"layer\": [{\"mark\": \"bar\", \"encoding\": {\"color\": {\"type\": \"nominal\", \"field\": \"vaccines\"}, \"x\": {\"type\": \"quantitative\", \"axis\": {\"title\": \"Mean of Total Vaccination\", \"titleFontSize\": 18}, \"field\": \"total_vaccinations\", \"title\": \"Mean of Total Vaccination\"}, \"y\": {\"type\": \"nominal\", \"axis\": {\"labelOverlap\": true, \"title\": \"Country\", \"titleFontSize\": 18}, \"field\": \"country\", \"sort\": \"-x\"}}, \"height\": 400, \"width\": 600}, {\"mark\": {\"type\": \"text\", \"align\": \"right\", \"color\": \"#ff8e04\", \"fontSize\": 14, \"x\": 155, \"y\": 142}}], \"data\": {\"name\": \"data-739a9fdee20ffa5e563092e4cb31f497\"}, \"height\": 150, \"width\": 160, \"$schema\": \"https://vega.github.io/schema/vega-lite/v4.8.1.json\", \"datasets\": {\"data-739a9fdee20ffa5e563092e4cb31f497\": [{\"country\": \"United States\", \"vaccines\": \"Johnson&Johnson, Moderna, Pfizer/BioNTech\", \"total_vaccinations\": 56850420.4}, {\"country\": \"China\", \"vaccines\": \"Sinopharm/Beijing, Sinopharm/Wuhan, Sinovac\", \"total_vaccinations\": 52523931.578947365}, {\"country\": \"India\", \"vaccines\": \"Covaxin, Oxford/AstraZeneca\", \"total_vaccinations\": 17261202.930555556}, {\"country\": \"United Kingdom\", \"vaccines\": \"Oxford/AstraZeneca, Pfizer/BioNTech\", \"total_vaccinations\": 16025884.666666666}, {\"country\": \"England\", \"vaccines\": \"Oxford/AstraZeneca, Pfizer/BioNTech\", \"total_vaccinations\": 13559694.641975308}, {\"country\": \"Brazil\", \"vaccines\": \"Oxford/AstraZeneca, Sinovac\", \"total_vaccinations\": 6774709.567164179}, {\"country\": \"Turkey\", \"vaccines\": \"Pfizer/BioNTech, Sinovac\", \"total_vaccinations\": 6295294.27027027}, {\"country\": \"Russia\", \"vaccines\": \"EpiVacCorona, Sputnik V\", \"total_vaccinations\": 5958618.52}, {\"country\": \"Israel\", \"vaccines\": \"Moderna, Pfizer/BioNTech\", \"total_vaccinations\": 5345397.68}, {\"country\": \"Germany\", \"vaccines\": \"Moderna, Oxford/AstraZeneca, Pfizer/BioNTech\", \"total_vaccinations\": 4666101.217391305}]}}, {\"mode\": \"vega-lite\"});\n",
       "</script>"
      ],
      "text/plain": [
       "alt.LayerChart(...)"
      ]
     },
     "execution_count": 37,
     "metadata": {},
     "output_type": "execute_result"
    }
   ],
   "source": [
    "import altair as alt\n",
    "visData = pd.DataFrame({'country': {4024: 'United States', 702: 'China', 1673: 'India', 4009: 'United Kingdom', 1079: 'England', 564: 'Brazil', 3884: 'Turkey', 3129: 'Russia', 1785: 'Israel', 1278: 'Germany'}, 'vaccines': {4024: 'Johnson&Johnson, Moderna, Pfizer/BioNTech', 702: 'Sinopharm/Beijing, Sinopharm/Wuhan, Sinovac', 1673: 'Covaxin, Oxford/AstraZeneca', 4009: 'Oxford/AstraZeneca, Pfizer/BioNTech', 1079: 'Oxford/AstraZeneca, Pfizer/BioNTech', 564: 'Oxford/AstraZeneca, Sinovac', 3884: 'Pfizer/BioNTech, Sinovac', 3129: 'EpiVacCorona, Sputnik V', 1785: 'Moderna, Pfizer/BioNTech', 1278: 'Moderna, Oxford/AstraZeneca, Pfizer/BioNTech'}, 'total_vaccinations': {4024: 56850420.4, 702: 52523931.578947365, 1673: 17261202.930555556, 4009: 16025884.666666666, 1079: 13559694.641975308, 564: 6774709.567164179, 3884: 6295294.27027027, 3129: 5958618.52, 1785: 5345397.68, 1278: 4666101.217391305}})\n",
    "\n",
    "chart = alt.Chart(visData, width=600, height=400).mark_bar().encode(\n",
    "    y = alt.Y('country', type= 'nominal', axis=alt.Axis(labelOverlap=True, title='Country', titleFontSize=18), sort ='-x'),\n",
    "    x = alt.X('total_vaccinations', type= 'quantitative', title='Mean of Total Vaccination', axis=alt.Axis(title='Mean of Total Vaccination', titleFontSize=18)),\n",
    ")\n",
    "chart = chart.encode(color=alt.Color('vaccines',type='nominal'))\n",
    "text = alt.Chart(visData).mark_text(\n",
    "\tx=155, \n",
    "\ty=142,\n",
    "\talign=\"right\",\n",
    "\tcolor = \"#ff8e04\",\n",
    "\tfontSize = 14,\n",
    "# \ttext=f\"+ 145 more ...\"\n",
    ")\n",
    "chart = chart + text\n",
    "chart = chart.configure_mark(tooltip=alt.TooltipContent('encoding'))\n",
    "chart = chart.configure_title(fontWeight=400,fontSize=1,font='Helvetica Neue')\n",
    "chart = chart.configure_axis(titleFontWeight=400,titleFontSize=11,titleFont='Helvetica Neue',\n",
    "\t\t\tlabelFontWeight=400,labelFontSize=16,labelFont='Helvetica Neue',labelColor='#505050')\n",
    "chart = chart.configure_legend(titleFontWeight=500,titleFontSize=10,titleFont='Helvetica Neue',\n",
    "\t\t\tlabelFontWeight=400,labelFontSize=12,labelFont='Helvetica Neue')\n",
    "chart = chart.properties(width=160,height=150)\n",
    "\n",
    "chart"
   ]
  },
  {
   "cell_type": "code",
   "execution_count": null,
   "metadata": {},
   "outputs": [],
   "source": []
  }
 ],
 "metadata": {
  "kernelspec": {
   "display_name": "Play",
   "language": "python",
   "name": "play"
  },
  "language_info": {
   "codemirror_mode": {
    "name": "ipython",
    "version": 3
   },
   "file_extension": ".py",
   "mimetype": "text/x-python",
   "name": "python",
   "nbconvert_exporter": "python",
   "pygments_lexer": "ipython3",
   "version": "3.9.2"
  },
  "toc": {
   "base_numbering": 1,
   "nav_menu": {},
   "number_sections": true,
   "sideBar": true,
   "skip_h1_title": false,
   "title_cell": "Table of Contents",
   "title_sidebar": "Contents",
   "toc_cell": false,
   "toc_position": {},
   "toc_section_display": true,
   "toc_window_display": false
  }
 },
 "nbformat": 4,
 "nbformat_minor": 4
}
